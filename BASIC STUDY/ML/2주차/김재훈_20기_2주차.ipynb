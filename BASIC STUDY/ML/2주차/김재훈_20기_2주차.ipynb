{
  "cells": [
    {
      "cell_type": "code",
      "metadata": {},
      "source": [
        "import numpy as np\n",
        "import pandas as pd\n",
        "import matplotlib.pyplot as plt\n",
        "import seaborn as sns\n",
        "titanic = sns.load_dataset('titanic')\n",
        "\n",
        "#Q1\n",
        "print(titanic.head())\n",
        "print(titanic.info())\n",
        "print(titanic.describe())\n",
        "print(titanic.describe())\n",
        "print(titanic.shape)\n",
        "\n",
        "#Q2\n",
        "print(titanic.isna().sum())\n",
        "\n",
        "#Q3\n",
        "plt.figure(figsize=(12, 6))\n",
        "sns.boxplot(x='class', y='fare', data=titanic)\n",
        "plt.show()\n",
        "\n",
        "#Q4\n",
        "plt.figure(figsize=(12, 6))\n",
        "sns.scatterplot(x='embark_town', y='age', data=titanic)\n",
        "plt.show()\n",
        "\n",
        "ipynb-py-convert ML1.py ML1.ipynb"
      ],
      "outputs": [],
      "execution_count": null
    }
  ],
  "metadata": {
    "anaconda-cloud": {},
    "kernelspec": {
      "display_name": "Python 3",
      "language": "python",
      "name": "python3"
    },
    "language_info": {
      "codemirror_mode": {
        "name": "ipython",
        "version": 3
      },
      "file_extension": ".py",
      "mimetype": "text/x-python",
      "name": "python",
      "nbconvert_exporter": "python",
      "pygments_lexer": "ipython3",
      "version": "3.6.1"
    }
  },
  "nbformat": 4,
  "nbformat_minor": 4
}