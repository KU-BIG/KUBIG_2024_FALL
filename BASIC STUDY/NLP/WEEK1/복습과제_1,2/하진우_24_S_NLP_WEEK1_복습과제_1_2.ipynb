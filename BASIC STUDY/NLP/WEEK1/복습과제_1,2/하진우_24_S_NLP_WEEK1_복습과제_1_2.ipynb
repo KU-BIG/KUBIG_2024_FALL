{
  "nbformat": 4,
  "nbformat_minor": 0,
  "metadata": {
    "colab": {
      "provenance": []
    },
    "kernelspec": {
      "name": "python3",
      "display_name": "Python 3"
    },
    "language_info": {
      "name": "python"
    }
  },
  "cells": [
    {
      "cell_type": "markdown",
      "source": [
        "# 복습과제 1"
      ],
      "metadata": {
        "id": "rpvSuNihOW4D"
      }
    },
    {
      "cell_type": "markdown",
      "source": [
        "## Data"
      ],
      "metadata": {
        "id": "lGtkBRMoI0hm"
      }
    },
    {
      "cell_type": "code",
      "execution_count": null,
      "metadata": {
        "id": "EyxbDq6oDy86"
      },
      "outputs": [],
      "source": [
        "# PyTorch 라이브러리 import\n",
        "\n",
        "import torch\n",
        "from torch import nn\n",
        "from torch.utils.data import DataLoader\n",
        "from torchvision import datasets\n",
        "from torchvision.transforms import ToTensor"
      ]
    },
    {
      "cell_type": "code",
      "source": [
        "# FashionMNIST 데이터셋을 다운로드하여 학습 데이터로 사용\n",
        "training_data = datasets.FashionMNIST(\n",
        "    root=\"data\",\n",
        "    train=True,\n",
        "    download=True,\n",
        "    transform=ToTensor()\n",
        ")\n",
        "\n",
        "# FashionMNIST 데이터셋을 다운로드하여 테스트 데이터로 사용\n",
        "test_data = datasets.FashionMNIST(\n",
        "    root=\"data\",\n",
        "    train=False,\n",
        "    download=True,\n",
        "    transform=ToTensor()\n",
        ")\n"
      ],
      "metadata": {
        "colab": {
          "base_uri": "https://localhost:8080/"
        },
        "id": "6gt6m9ODFBA4",
        "outputId": "a4d7c753-8a75-43a0-88bb-a0070665f00d"
      },
      "execution_count": null,
      "outputs": [
        {
          "output_type": "stream",
          "name": "stdout",
          "text": [
            "Downloading http://fashion-mnist.s3-website.eu-central-1.amazonaws.com/train-images-idx3-ubyte.gz\n",
            "Downloading http://fashion-mnist.s3-website.eu-central-1.amazonaws.com/train-images-idx3-ubyte.gz to data/FashionMNIST/raw/train-images-idx3-ubyte.gz\n"
          ]
        },
        {
          "output_type": "stream",
          "name": "stderr",
          "text": [
            "100%|██████████| 26421880/26421880 [00:05<00:00, 5071404.77it/s]\n"
          ]
        },
        {
          "output_type": "stream",
          "name": "stdout",
          "text": [
            "Extracting data/FashionMNIST/raw/train-images-idx3-ubyte.gz to data/FashionMNIST/raw\n",
            "\n",
            "Downloading http://fashion-mnist.s3-website.eu-central-1.amazonaws.com/train-labels-idx1-ubyte.gz\n",
            "Downloading http://fashion-mnist.s3-website.eu-central-1.amazonaws.com/train-labels-idx1-ubyte.gz to data/FashionMNIST/raw/train-labels-idx1-ubyte.gz\n"
          ]
        },
        {
          "output_type": "stream",
          "name": "stderr",
          "text": [
            "100%|██████████| 29515/29515 [00:00<00:00, 133161.17it/s]\n"
          ]
        },
        {
          "output_type": "stream",
          "name": "stdout",
          "text": [
            "Extracting data/FashionMNIST/raw/train-labels-idx1-ubyte.gz to data/FashionMNIST/raw\n",
            "\n",
            "Downloading http://fashion-mnist.s3-website.eu-central-1.amazonaws.com/t10k-images-idx3-ubyte.gz\n",
            "Downloading http://fashion-mnist.s3-website.eu-central-1.amazonaws.com/t10k-images-idx3-ubyte.gz to data/FashionMNIST/raw/t10k-images-idx3-ubyte.gz\n"
          ]
        },
        {
          "output_type": "stream",
          "name": "stderr",
          "text": [
            "100%|██████████| 4422102/4422102 [00:01<00:00, 2477514.54it/s]\n"
          ]
        },
        {
          "output_type": "stream",
          "name": "stdout",
          "text": [
            "Extracting data/FashionMNIST/raw/t10k-images-idx3-ubyte.gz to data/FashionMNIST/raw\n",
            "\n",
            "Downloading http://fashion-mnist.s3-website.eu-central-1.amazonaws.com/t10k-labels-idx1-ubyte.gz\n",
            "Downloading http://fashion-mnist.s3-website.eu-central-1.amazonaws.com/t10k-labels-idx1-ubyte.gz to data/FashionMNIST/raw/t10k-labels-idx1-ubyte.gz\n"
          ]
        },
        {
          "output_type": "stream",
          "name": "stderr",
          "text": [
            "100%|██████████| 5148/5148 [00:00<00:00, 5846812.07it/s]"
          ]
        },
        {
          "output_type": "stream",
          "name": "stdout",
          "text": [
            "Extracting data/FashionMNIST/raw/t10k-labels-idx1-ubyte.gz to data/FashionMNIST/raw\n",
            "\n"
          ]
        },
        {
          "output_type": "stream",
          "name": "stderr",
          "text": [
            "\n"
          ]
        }
      ]
    },
    {
      "cell_type": "code",
      "source": [
        "batch_size = 64  # 배치 크기를 64로 설정\n",
        "\n",
        "# 데이터로더 생성\n",
        "train_dataloader = DataLoader(training_data, batch_size=batch_size)\n",
        "test_dataloader = DataLoader(test_data, batch_size=batch_size)\n",
        "\n",
        "# 테스트 데이터 로더에서 하나의 배치를 가져와서 형태 출력\n",
        "for X, y in test_dataloader:\n",
        "    print(f\"Shape of X [N, C, H, W]: {X.shape}\")  # 입력 데이터의 형태 출력\n",
        "    print(f\"Shape of y: {y.shape} {y.dtype}\")     # 레이블 데이터의 형태와 데이터 타입 출력\n",
        "    break  # 첫 번째 배치만 출력하고 루프 종료\n"
      ],
      "metadata": {
        "colab": {
          "base_uri": "https://localhost:8080/"
        },
        "id": "m16sYMc-F7or",
        "outputId": "82bfd959-baff-46db-91fd-dd7528fb3863"
      },
      "execution_count": null,
      "outputs": [
        {
          "output_type": "stream",
          "name": "stdout",
          "text": [
            "Shape of X [N, C, H, W]: torch.Size([64, 1, 28, 28])\n",
            "Shape of y: torch.Size([64]) torch.int64\n"
          ]
        }
      ]
    },
    {
      "cell_type": "markdown",
      "source": [
        "- 입력 데이터 형태\n",
        "  - N (배치 크기): 64, 즉 한 배치에 64개의 이미지가 포함되어 있음.\n",
        "  - C (채널 수): 1, 즉 이미지는 흑백(단일 채널) 이미지임.\n",
        "  - H (높이): 28, 즉 이미지의 높이는 28 픽셀임.\n",
        "  - W (너비): 28, 즉 이미지의 너비는 28 픽셀임.\n",
        "\n",
        "- 레이블 데이터 형태\n",
        "  - 64개의 이미지 클래스로 구성\n",
        "\n",
        "-> 64개의 28x28 크기 흑백 이미지 데이터셋"
      ],
      "metadata": {
        "id": "iFsGNidNHvnX"
      }
    },
    {
      "cell_type": "markdown",
      "source": [
        "## Modeling & Evaluation"
      ],
      "metadata": {
        "id": "UodUzjENI5uR"
      }
    },
    {
      "cell_type": "code",
      "source": [
        "# CPU, GPU, MPS 설정\n",
        "device = (\n",
        "    \"cuda\"\n",
        "    if torch.cuda.is_available()\n",
        "    else \"mps\"\n",
        "    if torch.backends.mps.is_available()\n",
        "    else \"cpu\"\n",
        ")\n",
        "print(f\"Using {device} device\")"
      ],
      "metadata": {
        "colab": {
          "base_uri": "https://localhost:8080/"
        },
        "id": "64tPPd3hG6FC",
        "outputId": "36102ced-5f59-4c1f-b5cb-1d81558eac39"
      },
      "execution_count": null,
      "outputs": [
        {
          "output_type": "stream",
          "name": "stdout",
          "text": [
            "Using cpu device\n"
          ]
        }
      ]
    },
    {
      "cell_type": "code",
      "source": [
        "# 모델 정의\n",
        "class NeuralNetwork(nn.Module):\n",
        "    def __init__(self):\n",
        "        super().__init__()\n",
        "        self.flatten = nn.Flatten()  # 입력 이미지를 평탄화\n",
        "        self.linear_relu_stack = nn.Sequential(  # 순차적으로 레이어를 쌓음\n",
        "            nn.Linear(28*28, 512),  # 입력층: 28x28 이미지 -> 512 노드\n",
        "            nn.ReLU(),  # 활성화 함수: ReLU\n",
        "            nn.Linear(512, 512),  # 은닉층: 512 노드 -> 512 노드\n",
        "            nn.ReLU(),  # 활성화 함수: ReLU\n",
        "            nn.Linear(512, 10)  # 출력층: 512 노드 -> 10 노드\n",
        "        )\n",
        "\n",
        "    def forward(self, x):  # 순전파 함수 정의\n",
        "        x = self.flatten(x)  # 입력 이미지를 평탄화\n",
        "        logits = self.linear_relu_stack(x)  # 평탄화된 입력을 순차적으로 레이어에 통과시킴\n",
        "        return logits  # 최종 출력 반환\n",
        "\n",
        "model = NeuralNetwork().to(device)\n",
        "print(model)\n"
      ],
      "metadata": {
        "colab": {
          "base_uri": "https://localhost:8080/"
        },
        "id": "tosp3TneJGDu",
        "outputId": "e1c83383-7777-41df-c088-e03b93e13602"
      },
      "execution_count": null,
      "outputs": [
        {
          "output_type": "stream",
          "name": "stdout",
          "text": [
            "NeuralNetwork(\n",
            "  (flatten): Flatten(start_dim=1, end_dim=-1)\n",
            "  (linear_relu_stack): Sequential(\n",
            "    (0): Linear(in_features=784, out_features=512, bias=True)\n",
            "    (1): ReLU()\n",
            "    (2): Linear(in_features=512, out_features=512, bias=True)\n",
            "    (3): ReLU()\n",
            "    (4): Linear(in_features=512, out_features=10, bias=True)\n",
            "  )\n",
            ")\n"
          ]
        }
      ]
    },
    {
      "cell_type": "code",
      "source": [
        "# 모델 매개변수 최적화\n",
        "loss_fn = nn.CrossEntropyLoss()  # Cross-Entropy Loss 함수 정의\n",
        "optimizer = torch.optim.SGD(model.parameters(), lr=1e-3)  # SGD 알고리즘으로 모델 파라미터 최적화, 학습률 0.001 설정\n"
      ],
      "metadata": {
        "id": "mBTVfijmK0cl"
      },
      "execution_count": null,
      "outputs": []
    },
    {
      "cell_type": "code",
      "source": [
        "def train(dataloader, model, loss_fn, optimizer):\n",
        "    size = len(dataloader.dataset)\n",
        "    for batch, (X, y) in enumerate(dataloader):  # 배치 단위로 데이터 로드\n",
        "        X, y = X.to(device), y.to(device)\n",
        "\n",
        "        # 예측 및 손실 계산\n",
        "        pred = model(X)\n",
        "        loss = loss_fn(pred, y)\n",
        "\n",
        "        # 역전파\n",
        "        optimizer.zero_grad()  # 이전 배치의 gradient를 0으로 초기화\n",
        "        loss.backward()  # 역전파로 gradient 계산\n",
        "        optimizer.step()  # 계산된 gradient를 사용하여 모델 파라미터 업데이트\n",
        "\n",
        "        # 100번째 배치마다 손실 값 출력\n",
        "        if batch % 100 == 0:\n",
        "            loss, current = loss.item(), (batch + 1) * len(X)  # 현재 손실과 진행 상황 계산\n",
        "            print(f\"loss: {loss:>7f}  [{current:>5d}/{size:>5d}]\")  # 손실 값과 현재 진행 상황 출력\n"
      ],
      "metadata": {
        "id": "gKX-KSbNLFaj"
      },
      "execution_count": null,
      "outputs": []
    },
    {
      "cell_type": "code",
      "source": [
        "def test(dataloader, model, loss_fn):\n",
        "    size = len(dataloader.dataset)\n",
        "    num_batches = len(dataloader)\n",
        "    model.eval()  # 모델을 평가 모드로 전환 (드롭아웃 등 비활성화)\n",
        "    test_loss, correct = 0, 0  # 테스트 손실과 정확도 초기화\n",
        "    with torch.no_grad():  # 기울기 계산 비활성화 (평가 단계에서는 필요 없음)\n",
        "        for X, y in dataloader:\n",
        "            X, y = X.to(device), y.to(device)\n",
        "            pred = model(X)\n",
        "            test_loss += loss_fn(pred, y).item()  # 배치 손실을 누적\n",
        "            correct += (pred.argmax(1) == y).type(torch.float).sum().item()  # 예측 개수 누적\n",
        "    test_loss /= num_batches  # 평균 손실 계산\n",
        "    correct /= size  # 전체 데이터셋에 대한 정확도 계산\n",
        "    print(f\"Test Error: \\n Accuracy: {(100*correct):>0.1f}%, Avg loss: {test_loss:>8f} \\n\")\n"
      ],
      "metadata": {
        "id": "Lmsz_326Loea"
      },
      "execution_count": null,
      "outputs": []
    },
    {
      "cell_type": "code",
      "source": [
        "epochs = 10\n",
        "for t in range(epochs):  # 각 에폭에 대해 반복\n",
        "    print(f\"Epoch {t+1}\\n-------------------------------\")  # 현재 에폭 번호 출력\n",
        "    train(train_dataloader, model, loss_fn, optimizer)\n",
        "    test(test_dataloader, model, loss_fn)\n",
        "print(\"Done!\")\n"
      ],
      "metadata": {
        "colab": {
          "base_uri": "https://localhost:8080/"
        },
        "id": "eQGAvNAhMH-G",
        "outputId": "5c80899c-1f74-429d-d518-b9882066baf7"
      },
      "execution_count": null,
      "outputs": [
        {
          "output_type": "stream",
          "name": "stdout",
          "text": [
            "Epoch 1\n",
            "-------------------------------\n",
            "loss: 2.308269  [   64/60000]\n",
            "loss: 2.285444  [ 6464/60000]\n",
            "loss: 2.265893  [12864/60000]\n",
            "loss: 2.258572  [19264/60000]\n",
            "loss: 2.242488  [25664/60000]\n",
            "loss: 2.210662  [32064/60000]\n",
            "loss: 2.221172  [38464/60000]\n",
            "loss: 2.181061  [44864/60000]\n",
            "loss: 2.178528  [51264/60000]\n",
            "loss: 2.142359  [57664/60000]\n",
            "Test Error: \n",
            " Accuracy: 47.2%, Avg loss: 2.136774 \n",
            "\n",
            "Epoch 2\n",
            "-------------------------------\n",
            "loss: 2.155156  [   64/60000]\n",
            "loss: 2.131938  [ 6464/60000]\n",
            "loss: 2.077435  [12864/60000]\n",
            "loss: 2.092762  [19264/60000]\n",
            "loss: 2.030378  [25664/60000]\n",
            "loss: 1.972969  [32064/60000]\n",
            "loss: 1.999352  [38464/60000]\n",
            "loss: 1.910174  [44864/60000]\n",
            "loss: 1.919297  [51264/60000]\n",
            "loss: 1.838140  [57664/60000]\n",
            "Test Error: \n",
            " Accuracy: 55.9%, Avg loss: 1.840893 \n",
            "\n",
            "Epoch 3\n",
            "-------------------------------\n",
            "loss: 1.887675  [   64/60000]\n",
            "loss: 1.838942  [ 6464/60000]\n",
            "loss: 1.730373  [12864/60000]\n",
            "loss: 1.771874  [19264/60000]\n",
            "loss: 1.656983  [25664/60000]\n",
            "loss: 1.617494  [32064/60000]\n",
            "loss: 1.638054  [38464/60000]\n",
            "loss: 1.536405  [44864/60000]\n",
            "loss: 1.564235  [51264/60000]\n",
            "loss: 1.460214  [57664/60000]\n",
            "Test Error: \n",
            " Accuracy: 60.6%, Avg loss: 1.481274 \n",
            "\n",
            "Epoch 4\n",
            "-------------------------------\n",
            "loss: 1.561232  [   64/60000]\n",
            "loss: 1.512880  [ 6464/60000]\n",
            "loss: 1.375072  [12864/60000]\n",
            "loss: 1.445752  [19264/60000]\n",
            "loss: 1.331985  [25664/60000]\n",
            "loss: 1.330284  [32064/60000]\n",
            "loss: 1.347616  [38464/60000]\n",
            "loss: 1.265416  [44864/60000]\n",
            "loss: 1.295817  [51264/60000]\n",
            "loss: 1.211030  [57664/60000]\n",
            "Test Error: \n",
            " Accuracy: 63.6%, Avg loss: 1.229895 \n",
            "\n",
            "Epoch 5\n",
            "-------------------------------\n",
            "loss: 1.315273  [   64/60000]\n",
            "loss: 1.285669  [ 6464/60000]\n",
            "loss: 1.130053  [12864/60000]\n",
            "loss: 1.236522  [19264/60000]\n",
            "loss: 1.120250  [25664/60000]\n",
            "loss: 1.141216  [32064/60000]\n",
            "loss: 1.169189  [38464/60000]\n",
            "loss: 1.096329  [44864/60000]\n",
            "loss: 1.128512  [51264/60000]\n",
            "loss: 1.063435  [57664/60000]\n",
            "Test Error: \n",
            " Accuracy: 65.2%, Avg loss: 1.074224 \n",
            "\n",
            "Epoch 6\n",
            "-------------------------------\n",
            "loss: 1.152115  [   64/60000]\n",
            "loss: 1.143042  [ 6464/60000]\n",
            "loss: 0.970576  [12864/60000]\n",
            "loss: 1.104724  [19264/60000]\n",
            "loss: 0.993573  [25664/60000]\n",
            "loss: 1.014800  [32064/60000]\n",
            "loss: 1.058824  [38464/60000]\n",
            "loss: 0.988903  [44864/60000]\n",
            "loss: 1.020411  [51264/60000]\n",
            "loss: 0.969923  [57664/60000]\n",
            "Test Error: \n",
            " Accuracy: 66.3%, Avg loss: 0.973900 \n",
            "\n",
            "Epoch 7\n",
            "-------------------------------\n",
            "loss: 1.039038  [   64/60000]\n",
            "loss: 1.050444  [ 6464/60000]\n",
            "loss: 0.861721  [12864/60000]\n",
            "loss: 1.016420  [19264/60000]\n",
            "loss: 0.914015  [25664/60000]\n",
            "loss: 0.925539  [32064/60000]\n",
            "loss: 0.986188  [38464/60000]\n",
            "loss: 0.918821  [44864/60000]\n",
            "loss: 0.945886  [51264/60000]\n",
            "loss: 0.906582  [57664/60000]\n",
            "Test Error: \n",
            " Accuracy: 67.5%, Avg loss: 0.905197 \n",
            "\n",
            "Epoch 8\n",
            "-------------------------------\n",
            "loss: 0.955536  [   64/60000]\n",
            "loss: 0.985684  [ 6464/60000]\n",
            "loss: 0.783437  [12864/60000]\n",
            "loss: 0.953781  [19264/60000]\n",
            "loss: 0.860296  [25664/60000]\n",
            "loss: 0.860023  [32064/60000]\n",
            "loss: 0.934799  [38464/60000]\n",
            "loss: 0.871708  [44864/60000]\n",
            "loss: 0.892580  [51264/60000]\n",
            "loss: 0.860375  [57664/60000]\n",
            "Test Error: \n",
            " Accuracy: 68.8%, Avg loss: 0.855455 \n",
            "\n",
            "Epoch 9\n",
            "-------------------------------\n",
            "loss: 0.890847  [   64/60000]\n",
            "loss: 0.936963  [ 6464/60000]\n",
            "loss: 0.724705  [12864/60000]\n",
            "loss: 0.907003  [19264/60000]\n",
            "loss: 0.821226  [25664/60000]\n",
            "loss: 0.810553  [32064/60000]\n",
            "loss: 0.895554  [38464/60000]\n",
            "loss: 0.838554  [44864/60000]\n",
            "loss: 0.852817  [51264/60000]\n",
            "loss: 0.824213  [57664/60000]\n",
            "Test Error: \n",
            " Accuracy: 70.0%, Avg loss: 0.817465 \n",
            "\n",
            "Epoch 10\n",
            "-------------------------------\n",
            "loss: 0.838755  [   64/60000]\n",
            "loss: 0.897602  [ 6464/60000]\n",
            "loss: 0.678714  [12864/60000]\n",
            "loss: 0.870429  [19264/60000]\n",
            "loss: 0.791007  [25664/60000]\n",
            "loss: 0.772205  [32064/60000]\n",
            "loss: 0.863698  [38464/60000]\n",
            "loss: 0.813825  [44864/60000]\n",
            "loss: 0.821874  [51264/60000]\n",
            "loss: 0.794528  [57664/60000]\n",
            "Test Error: \n",
            " Accuracy: 71.0%, Avg loss: 0.786994 \n",
            "\n",
            "Done!\n"
          ]
        }
      ]
    },
    {
      "cell_type": "code",
      "source": [
        "# 모델 저장\n",
        "torch.save(model.state_dict(), \"model.pth\")\n",
        "print(\"Saved PyTorch Model State to model.pth\")"
      ],
      "metadata": {
        "colab": {
          "base_uri": "https://localhost:8080/"
        },
        "id": "RkSmYe9DMjVJ",
        "outputId": "e933e7c8-8c56-4781-bb6f-f004d5994690"
      },
      "execution_count": null,
      "outputs": [
        {
          "output_type": "stream",
          "name": "stdout",
          "text": [
            "Saved PyTorch Model State to model.pth\n"
          ]
        }
      ]
    },
    {
      "cell_type": "code",
      "source": [
        "# 모델 불러오기\n",
        "model = NeuralNetwork().to(device)\n",
        "model.load_state_dict(torch.load(\"model.pth\"))"
      ],
      "metadata": {
        "colab": {
          "base_uri": "https://localhost:8080/"
        },
        "id": "DSnDAr_dNICQ",
        "outputId": "6d9db5fe-9f94-423b-b302-0bcd48644043"
      },
      "execution_count": null,
      "outputs": [
        {
          "output_type": "execute_result",
          "data": {
            "text/plain": [
              "<All keys matched successfully>"
            ]
          },
          "metadata": {},
          "execution_count": 13
        }
      ]
    },
    {
      "cell_type": "code",
      "source": [
        "classes = [  # FashionMNIST 데이터셋의 클래스 목록\n",
        "    \"T-shirt/top\",\n",
        "    \"Trouser\",\n",
        "    \"Pullover\",\n",
        "    \"Dress\",\n",
        "    \"Coat\",\n",
        "    \"Sandal\",\n",
        "    \"Shirt\",\n",
        "    \"Sneaker\",\n",
        "    \"Bag\",\n",
        "    \"Ankle boot\",\n",
        "]\n",
        "\n",
        "model.eval()\n",
        "x, y = test_data[0][0], test_data[0][1]  # 테스트 데이터의 첫 번째 샘플 (이미지와 레이블) 가져옴\n",
        "with torch.no_grad():\n",
        "    x = x.to(device)\n",
        "    pred = model(x)\n",
        "    predicted, actual = classes[pred[0].argmax(0)], classes[y]\n",
        "    print(f'Predicted: \"{predicted}\", Actual: \"{actual}\"')\n"
      ],
      "metadata": {
        "colab": {
          "base_uri": "https://localhost:8080/"
        },
        "id": "9qM7GE07NKcf",
        "outputId": "852e5e3c-08d1-4040-c7a0-94e7ef61e812"
      },
      "execution_count": null,
      "outputs": [
        {
          "output_type": "stream",
          "name": "stdout",
          "text": [
            "Predicted: \"Ankle boot\", Actual: \"Ankle boot\"\n"
          ]
        }
      ]
    },
    {
      "cell_type": "markdown",
      "source": [
        "# 복습과제 2"
      ],
      "metadata": {
        "id": "WoyBdwbOOd4B"
      }
    },
    {
      "cell_type": "markdown",
      "source": [
        "### Q1) What is the number of total parameters in this MLP model? Why?\n",
        "\n",
        "![image.png](data:image/png;base64,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)"
      ],
      "metadata": {
        "id": "S0isHUiQOoJF"
      }
    },
    {
      "cell_type": "markdown",
      "source": [
        "1. 정답\n",
        "- 32개\n",
        "\n",
        "2. 근거\n",
        "- 입력층에서 은닉층으로의 파라미터: 20개\n",
        "  - 가중치 파라미터: 15개\n",
        "  - 바이어스 파라미터: 5개\n",
        "- 은닉층에서 출력층으로의 파라미터: 12개\n",
        "  - 가중치 파라미터: 10개\n",
        "  - 바이어스 파라미터: 2개\n",
        "- 총 파라미터: 32개\n",
        "  - 입력층에서 은닉층으로의 파라미터(20개) + 은닉층에서 출력층으로의 파라미터(12개) = 32개\n"
      ],
      "metadata": {
        "id": "zLzOli3WOuiS"
      }
    },
    {
      "cell_type": "markdown",
      "source": [
        "### Q2) Using the Gradient Descent Algorithm, the loss of the model will decrease continuously to a specific point, which is a minimum. Is it the optimal point? Why or why not?"
      ],
      "metadata": {
        "id": "uRAk21QzPibf"
      }
    },
    {
      "cell_type": "markdown",
      "source": [
        "1. 정답\n",
        "- Gradient Descent 알고리즘이 손실 함수를 최소화하여 도달한 지점이 반드시 최적점이라고 할 수는 없다.\n",
        "\n",
        "2. 근거\n",
        "- 지역 최적점일 가능성 존재\n",
        "  - Gradient Descent 알고리즘은 여러개의 최솟값을 가질 수 있으며, 도달한 지점이 전역 최적점이 아닌 지역 최적점일 가능성이 존재한다.\n",
        "- 적정 학습률이 전제되었는가\n",
        "  - Gradient Descent 알고리즘이 최적점에 도달하기 위해서는 적정한 학습률이 전제되어야 한다. 예를 들어 학습률이 낮은 경우 수렴 속도가 느리며, 높은 경우 최적점을 지나칠 수 있다. 따라서 학습률이 적정하지 않은 경우 도달한 곳이 최적점이 아닐 수 있다.\n"
      ],
      "metadata": {
        "id": "yFhzceosQLVs"
      }
    },
    {
      "cell_type": "markdown",
      "source": [
        "### Q3) Is it possible to decrease the training error to zero? *(Hint: Think about the Universal Approximation Theorem)\n"
      ],
      "metadata": {
        "id": "LcuM5xtJRg5x"
      }
    },
    {
      "cell_type": "markdown",
      "source": [
        "1. 정답\n",
        "- 이론상으로는 가능하지만 실제 세계에서는 데이터의 문제로 training error를 0으로 줄이는 것은 불가능에 가깝다.\n",
        "\n",
        "2. 근거\n",
        "- Universal Approximation Theorem에 따르면 적절한 조건에서 충분히 복잡한 신경망은 임의의 연속 함수에 대해 원하는 정도의 정확도로 근사할 수 있다.\n",
        "- 다만, 실제 세계에서 모델링을 진행할 때는 데이터에 노이즈나 잘못된 레이블이 포함돼 있을 수 있기 때문에 training error을 0으로 줄이는 것은 어렵다."
      ],
      "metadata": {
        "id": "vrX9-sL_XrJk"
      }
    },
    {
      "cell_type": "markdown",
      "source": [
        "### Q4) Is deep learning the best method to build models? That is, does deeper networks generalize better than other methods? *(Hint: it is somehow related with question 3)*"
      ],
      "metadata": {
        "id": "zcJjlWrWXpHD"
      }
    },
    {
      "cell_type": "markdown",
      "source": [
        "1. 정답\n",
        "- 딥러닝이 모든 경우에 가장 적합한 방법론이라 할 수는 없다.\n",
        "\n",
        "2. 근거\n",
        "- 마찬가지로 데이터에 따라 최적의 방법론이 달라진다고 생각한다.\n",
        "- 데이터의 수가 부족하거나 노이즈가 많은 경우 오히려 전통적인 머신러닝 기법을 응용하여 활용하는 것이 더 좋은 성능을 낼 수 있다."
      ],
      "metadata": {
        "id": "pPVwOqQuZ-X8"
      }
    }
  ]
}