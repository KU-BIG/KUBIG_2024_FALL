{
  "nbformat": 4,
  "nbformat_minor": 0,
  "metadata": {
    "colab": {
      "provenance": [],
      "gpuType": "T4"
    },
    "kernelspec": {
      "name": "python3",
      "display_name": "Python 3"
    },
    "language_info": {
      "name": "python"
    },
    "accelerator": "GPU"
  },
  "cells": [
    {
      "cell_type": "markdown",
      "source": [
        "# 복습과제 1"
      ],
      "metadata": {
        "id": "QU5D2TUSugn4"
      }
    },
    {
      "cell_type": "markdown",
      "source": [
        "## 데이터 작업하기"
      ],
      "metadata": {
        "id": "lu-e1blaunZo"
      }
    },
    {
      "cell_type": "code",
      "execution_count": 1,
      "metadata": {
        "id": "seN_R1GUrhDx"
      },
      "outputs": [],
      "source": [
        "# Load torch\n",
        "\n",
        "import torch\n",
        "from torch import nn\n",
        "from torch.utils.data import DataLoader\n",
        "from torchvision import datasets\n",
        "from torchvision.transforms import ToTensor"
      ]
    },
    {
      "cell_type": "code",
      "source": [
        "# 공개 데이터셋에서 학습 데이터를 내려받습니다. (Use MNIST Data)\n",
        "# Download FashionMNIST Dataset and transform to Tensor\n",
        "training_data = datasets.FashionMNIST(\n",
        "    root=\"data\",\n",
        "    train=True,\n",
        "    download=True,\n",
        "    transform=ToTensor(),\n",
        ")\n",
        "\n",
        "# 공개 데이터셋에서 테스트 데이터를 내려받습니다.\n",
        "# Download FashionMNIST Dataset and transform to Tensor\n",
        "test_data = datasets.FashionMNIST(\n",
        "    root=\"data\",\n",
        "    train=False,\n",
        "    download=True,\n",
        "    transform=ToTensor(),\n",
        ")"
      ],
      "metadata": {
        "id": "NFpJDdnmutSD",
        "colab": {
          "base_uri": "https://localhost:8080/"
        },
        "outputId": "1ec26b89-a6ac-4364-d3b1-0caa58cdf0b2"
      },
      "execution_count": 2,
      "outputs": [
        {
          "output_type": "stream",
          "name": "stdout",
          "text": [
            "Downloading http://fashion-mnist.s3-website.eu-central-1.amazonaws.com/train-images-idx3-ubyte.gz\n",
            "Downloading http://fashion-mnist.s3-website.eu-central-1.amazonaws.com/train-images-idx3-ubyte.gz to data/FashionMNIST/raw/train-images-idx3-ubyte.gz\n"
          ]
        },
        {
          "output_type": "stream",
          "name": "stderr",
          "text": [
            "100%|██████████| 26421880/26421880 [00:02<00:00, 9852120.22it/s] \n"
          ]
        },
        {
          "output_type": "stream",
          "name": "stdout",
          "text": [
            "Extracting data/FashionMNIST/raw/train-images-idx3-ubyte.gz to data/FashionMNIST/raw\n",
            "\n",
            "Downloading http://fashion-mnist.s3-website.eu-central-1.amazonaws.com/train-labels-idx1-ubyte.gz\n",
            "Downloading http://fashion-mnist.s3-website.eu-central-1.amazonaws.com/train-labels-idx1-ubyte.gz to data/FashionMNIST/raw/train-labels-idx1-ubyte.gz\n"
          ]
        },
        {
          "output_type": "stream",
          "name": "stderr",
          "text": [
            "100%|██████████| 29515/29515 [00:00<00:00, 166268.50it/s]\n"
          ]
        },
        {
          "output_type": "stream",
          "name": "stdout",
          "text": [
            "Extracting data/FashionMNIST/raw/train-labels-idx1-ubyte.gz to data/FashionMNIST/raw\n",
            "\n",
            "Downloading http://fashion-mnist.s3-website.eu-central-1.amazonaws.com/t10k-images-idx3-ubyte.gz\n",
            "Downloading http://fashion-mnist.s3-website.eu-central-1.amazonaws.com/t10k-images-idx3-ubyte.gz to data/FashionMNIST/raw/t10k-images-idx3-ubyte.gz\n"
          ]
        },
        {
          "output_type": "stream",
          "name": "stderr",
          "text": [
            "100%|██████████| 4422102/4422102 [00:01<00:00, 3102858.39it/s]\n"
          ]
        },
        {
          "output_type": "stream",
          "name": "stdout",
          "text": [
            "Extracting data/FashionMNIST/raw/t10k-images-idx3-ubyte.gz to data/FashionMNIST/raw\n",
            "\n",
            "Downloading http://fashion-mnist.s3-website.eu-central-1.amazonaws.com/t10k-labels-idx1-ubyte.gz\n",
            "Downloading http://fashion-mnist.s3-website.eu-central-1.amazonaws.com/t10k-labels-idx1-ubyte.gz to data/FashionMNIST/raw/t10k-labels-idx1-ubyte.gz\n"
          ]
        },
        {
          "output_type": "stream",
          "name": "stderr",
          "text": [
            "100%|██████████| 5148/5148 [00:00<00:00, 1670323.90it/s]"
          ]
        },
        {
          "output_type": "stream",
          "name": "stdout",
          "text": [
            "Extracting data/FashionMNIST/raw/t10k-labels-idx1-ubyte.gz to data/FashionMNIST/raw\n",
            "\n"
          ]
        },
        {
          "output_type": "stream",
          "name": "stderr",
          "text": [
            "\n"
          ]
        }
      ]
    },
    {
      "cell_type": "markdown",
      "source": [
        "Dataset 을 DataLoader 의 인자로 전달합니다. 이는 데이터셋을 순회 가능한 객체(iterable)로 감싸고, 자동화된 배치(batch), 샘플링(sampling), 섞기(shuffle) 및 다중 프로세스로 데이터 불러오기(multiprocess data loading)를 지원합니다. 여기서는 배치 크기(batch size)를 64로 정의합니다. 즉, 데이터로더(dataloader) 객체의 각 요소는 64개의 특징(feature)과 정답(label)을 묶음(batch)으로 반환합니다."
      ],
      "metadata": {
        "id": "cHk-UDFKvCGI"
      }
    },
    {
      "cell_type": "code",
      "source": [
        "batch_size = 64\n",
        "\n",
        "# 데이터로더를 생성합니다.\n",
        "train_dataloader = DataLoader(training_data, batch_size=batch_size)\n",
        "test_dataloader = DataLoader(test_data, batch_size=batch_size)\n",
        "\n",
        "for X, y in test_dataloader:\n",
        "    print(f\"Shape of X [N, C, H, W]: {X.shape}\")\n",
        "    print(f\"Shape of y: {y.shape} {y.dtype}\")\n",
        "    break"
      ],
      "metadata": {
        "id": "N2b9ZVz_u93T",
        "colab": {
          "base_uri": "https://localhost:8080/"
        },
        "outputId": "22b6fc1b-167f-4557-878b-684c6c028a54"
      },
      "execution_count": 3,
      "outputs": [
        {
          "output_type": "stream",
          "name": "stdout",
          "text": [
            "Shape of X [N, C, H, W]: torch.Size([64, 1, 28, 28])\n",
            "Shape of y: torch.Size([64]) torch.int64\n"
          ]
        }
      ]
    },
    {
      "cell_type": "markdown",
      "source": [
        "\n"
      ],
      "metadata": {
        "id": "6bQi9xsivLN6"
      }
    },
    {
      "cell_type": "markdown",
      "source": [
        "## 모델 만들기"
      ],
      "metadata": {
        "id": "0KyRU7kjvcur"
      }
    },
    {
      "cell_type": "code",
      "source": [
        "# 학습에 사용할 CPU나 GPU, MPS 장치를 얻습니다.\n",
        "device = (\n",
        "    \"cuda\"\n",
        "    if torch.cuda.is_available()\n",
        "    else \"mps\"\n",
        "    if torch.backends.mps.is_available()\n",
        "    else \"cpu\"\n",
        ")\n",
        "print(f\"Using {device} device\")"
      ],
      "metadata": {
        "id": "MQ4rOXQ3v0e1",
        "colab": {
          "base_uri": "https://localhost:8080/"
        },
        "outputId": "e8465b47-c6e5-4199-8573-fb2745baca05"
      },
      "execution_count": 4,
      "outputs": [
        {
          "output_type": "stream",
          "name": "stdout",
          "text": [
            "Using cuda device\n"
          ]
        }
      ]
    },
    {
      "cell_type": "markdown",
      "source": [],
      "metadata": {
        "id": "J--UtdIEv2rB"
      }
    },
    {
      "cell_type": "code",
      "source": [
        "# 모델을 정의합니다.\n",
        "class NeuralNetwork(nn.Module):\n",
        "    def __init__(self):\n",
        "        super().__init__()\n",
        "        self.flatten = nn.Flatten()\n",
        "        self.linear_relu_stack = nn.Sequential(\n",
        "            nn.Linear(28*28, 512), #784개의 input -> 512개의 hidden layer 1\n",
        "            nn.ReLU(),\n",
        "            nn.Linear(512, 512), # 512 -> 512 hidden layer 2\n",
        "            nn.ReLU(),\n",
        "            nn.Linear(512, 10) # 512 -> 10 output\n",
        "        )\n",
        "\n",
        "    def forward(self, x):\n",
        "        x = self.flatten(x)\n",
        "        logits = self.linear_relu_stack(x)\n",
        "        return logits\n",
        "\n",
        "model = NeuralNetwork().to(device)\n",
        "print(model)"
      ],
      "metadata": {
        "id": "JQQPO5sPveLS",
        "colab": {
          "base_uri": "https://localhost:8080/"
        },
        "outputId": "9d511b83-6e70-4566-88ce-677fb61f4dc5"
      },
      "execution_count": 5,
      "outputs": [
        {
          "output_type": "stream",
          "name": "stdout",
          "text": [
            "NeuralNetwork(\n",
            "  (flatten): Flatten(start_dim=1, end_dim=-1)\n",
            "  (linear_relu_stack): Sequential(\n",
            "    (0): Linear(in_features=784, out_features=512, bias=True)\n",
            "    (1): ReLU()\n",
            "    (2): Linear(in_features=512, out_features=512, bias=True)\n",
            "    (3): ReLU()\n",
            "    (4): Linear(in_features=512, out_features=10, bias=True)\n",
            "  )\n",
            ")\n"
          ]
        }
      ]
    },
    {
      "cell_type": "markdown",
      "source": [
        "## 모델 매개변수 최적화"
      ],
      "metadata": {
        "id": "U5miWiEIyYw1"
      }
    },
    {
      "cell_type": "code",
      "source": [
        "loss_fn = nn.CrossEntropyLoss() # cross-entropy loss 이용\n",
        "optimizer = torch.optim.SGD(model.parameters(), lr=1e-3) # sgd algorithm으로 최적화"
      ],
      "metadata": {
        "id": "fsRiey1aya7R"
      },
      "execution_count": 6,
      "outputs": []
    },
    {
      "cell_type": "code",
      "source": [
        "def train(dataloader, model, loss_fn, optimizer):\n",
        "    size = len(dataloader.dataset)\n",
        "    for batch, (X, y) in enumerate(dataloader):\n",
        "        X, y = X.to(device), y.to(device)\n",
        "\n",
        "        # 예측 오류 계산\n",
        "        pred = model(X)\n",
        "        loss = loss_fn(pred, y) # loss 계산하는 부분\n",
        "\n",
        "        # 역전파\n",
        "        optimizer.zero_grad() # gradient를 0으로 초기화\n",
        "        loss.backward() # 역전파로 계산하는 단계\n",
        "        optimizer.step() # 최적화\n",
        "\n",
        "        if batch % 100 == 0:\n",
        "            loss, current = loss.item(), (batch + 1) * len(X)\n",
        "            print(f\"loss: {loss:>7f}  [{current:>5d}/{size:>5d}]\")"
      ],
      "metadata": {
        "id": "C4qIjxMmyc_k"
      },
      "execution_count": 7,
      "outputs": []
    },
    {
      "cell_type": "code",
      "source": [
        "def test(dataloader, model, loss_fn):\n",
        "    size = len(dataloader.dataset)\n",
        "    num_batches = len(dataloader)\n",
        "    model.eval()\n",
        "    test_loss, correct = 0, 0\n",
        "    with torch.no_grad():\n",
        "        for X, y in dataloader:\n",
        "            X, y = X.to(device), y.to(device)\n",
        "            pred = model(X)\n",
        "            test_loss += loss_fn(pred, y).item()\n",
        "            correct += (pred.argmax(1) == y).type(torch.float).sum().item()\n",
        "    test_loss /= num_batches\n",
        "    correct /= size\n",
        "    print(f\"Test Error: \\n Accuracy: {(100*correct):>0.1f}%, Avg loss: {test_loss:>8f} \\n\")"
      ],
      "metadata": {
        "id": "26ToW28vy6qc"
      },
      "execution_count": 8,
      "outputs": []
    },
    {
      "cell_type": "code",
      "source": [
        "epochs = 10\n",
        "for t in range(epochs):\n",
        "    print(f\"Epoch {t+1}\\n-------------------------------\")\n",
        "    train(train_dataloader, model, loss_fn, optimizer)\n",
        "    test(test_dataloader, model, loss_fn)\n",
        "print(\"Done!\")"
      ],
      "metadata": {
        "id": "2QhJT4ciy9h9",
        "colab": {
          "base_uri": "https://localhost:8080/"
        },
        "outputId": "4d12592a-9ca6-45a2-fcad-c220278033be"
      },
      "execution_count": 9,
      "outputs": [
        {
          "output_type": "stream",
          "name": "stdout",
          "text": [
            "Epoch 1\n",
            "-------------------------------\n",
            "loss: 2.311992  [   64/60000]\n",
            "loss: 2.298050  [ 6464/60000]\n",
            "loss: 2.275111  [12864/60000]\n",
            "loss: 2.268600  [19264/60000]\n",
            "loss: 2.239594  [25664/60000]\n",
            "loss: 2.223774  [32064/60000]\n",
            "loss: 2.228018  [38464/60000]\n",
            "loss: 2.201890  [44864/60000]\n",
            "loss: 2.206373  [51264/60000]\n",
            "loss: 2.158059  [57664/60000]\n",
            "Test Error: \n",
            " Accuracy: 47.1%, Avg loss: 2.161129 \n",
            "\n",
            "Epoch 2\n",
            "-------------------------------\n",
            "loss: 2.178791  [   64/60000]\n",
            "loss: 2.165609  [ 6464/60000]\n",
            "loss: 2.110060  [12864/60000]\n",
            "loss: 2.127279  [19264/60000]\n",
            "loss: 2.060447  [25664/60000]\n",
            "loss: 2.022549  [32064/60000]\n",
            "loss: 2.044194  [38464/60000]\n",
            "loss: 1.974024  [44864/60000]\n",
            "loss: 1.988568  [51264/60000]\n",
            "loss: 1.899774  [57664/60000]\n",
            "Test Error: \n",
            " Accuracy: 56.2%, Avg loss: 1.904019 \n",
            "\n",
            "Epoch 3\n",
            "-------------------------------\n",
            "loss: 1.943441  [   64/60000]\n",
            "loss: 1.910289  [ 6464/60000]\n",
            "loss: 1.799061  [12864/60000]\n",
            "loss: 1.838173  [19264/60000]\n",
            "loss: 1.705598  [25664/60000]\n",
            "loss: 1.677469  [32064/60000]\n",
            "loss: 1.692732  [38464/60000]\n",
            "loss: 1.596967  [44864/60000]\n",
            "loss: 1.618467  [51264/60000]\n",
            "loss: 1.509104  [57664/60000]\n",
            "Test Error: \n",
            " Accuracy: 59.6%, Avg loss: 1.530520 \n",
            "\n",
            "Epoch 4\n",
            "-------------------------------\n",
            "loss: 1.600504  [   64/60000]\n",
            "loss: 1.564192  [ 6464/60000]\n",
            "loss: 1.418597  [12864/60000]\n",
            "loss: 1.485326  [19264/60000]\n",
            "loss: 1.344902  [25664/60000]\n",
            "loss: 1.360400  [32064/60000]\n",
            "loss: 1.367755  [38464/60000]\n",
            "loss: 1.293754  [44864/60000]\n",
            "loss: 1.321861  [51264/60000]\n",
            "loss: 1.227541  [57664/60000]\n",
            "Test Error: \n",
            " Accuracy: 62.5%, Avg loss: 1.255312 \n",
            "\n",
            "Epoch 5\n",
            "-------------------------------\n",
            "loss: 1.333737  [   64/60000]\n",
            "loss: 1.318039  [ 6464/60000]\n",
            "loss: 1.155003  [12864/60000]\n",
            "loss: 1.255080  [19264/60000]\n",
            "loss: 1.115640  [25664/60000]\n",
            "loss: 1.156685  [32064/60000]\n",
            "loss: 1.171077  [38464/60000]\n",
            "loss: 1.108515  [44864/60000]\n",
            "loss: 1.143158  [51264/60000]\n",
            "loss: 1.065801  [57664/60000]\n",
            "Test Error: \n",
            " Accuracy: 64.4%, Avg loss: 1.088805 \n",
            "\n",
            "Epoch 6\n",
            "-------------------------------\n",
            "loss: 1.159360  [   64/60000]\n",
            "loss: 1.166567  [ 6464/60000]\n",
            "loss: 0.985936  [12864/60000]\n",
            "loss: 1.115174  [19264/60000]\n",
            "loss: 0.980227  [25664/60000]\n",
            "loss: 1.022938  [32064/60000]\n",
            "loss: 1.052192  [38464/60000]\n",
            "loss: 0.992314  [44864/60000]\n",
            "loss: 1.028903  [51264/60000]\n",
            "loss: 0.966075  [57664/60000]\n",
            "Test Error: \n",
            " Accuracy: 65.7%, Avg loss: 0.983284 \n",
            "\n",
            "Epoch 7\n",
            "-------------------------------\n",
            "loss: 1.039318  [   64/60000]\n",
            "loss: 1.070158  [ 6464/60000]\n",
            "loss: 0.871566  [12864/60000]\n",
            "loss: 1.024051  [19264/60000]\n",
            "loss: 0.896706  [25664/60000]\n",
            "loss: 0.929454  [32064/60000]\n",
            "loss: 0.975347  [38464/60000]\n",
            "loss: 0.916691  [44864/60000]\n",
            "loss: 0.949871  [51264/60000]\n",
            "loss: 0.899546  [57664/60000]\n",
            "Test Error: \n",
            " Accuracy: 67.3%, Avg loss: 0.911580 \n",
            "\n",
            "Epoch 8\n",
            "-------------------------------\n",
            "loss: 0.951665  [   64/60000]\n",
            "loss: 1.002998  [ 6464/60000]\n",
            "loss: 0.789888  [12864/60000]\n",
            "loss: 0.959670  [19264/60000]\n",
            "loss: 0.840690  [25664/60000]\n",
            "loss: 0.860969  [32064/60000]\n",
            "loss: 0.921159  [38464/60000]\n",
            "loss: 0.865528  [44864/60000]\n",
            "loss: 0.892632  [51264/60000]\n",
            "loss: 0.851452  [57664/60000]\n",
            "Test Error: \n",
            " Accuracy: 68.3%, Avg loss: 0.859669 \n",
            "\n",
            "Epoch 9\n",
            "-------------------------------\n",
            "loss: 0.884269  [   64/60000]\n",
            "loss: 0.952218  [ 6464/60000]\n",
            "loss: 0.728737  [12864/60000]\n",
            "loss: 0.911051  [19264/60000]\n",
            "loss: 0.800206  [25664/60000]\n",
            "loss: 0.808982  [32064/60000]\n",
            "loss: 0.879687  [38464/60000]\n",
            "loss: 0.829449  [44864/60000]\n",
            "loss: 0.849555  [51264/60000]\n",
            "loss: 0.814386  [57664/60000]\n",
            "Test Error: \n",
            " Accuracy: 69.4%, Avg loss: 0.820003 \n",
            "\n",
            "Epoch 10\n",
            "-------------------------------\n",
            "loss: 0.830070  [   64/60000]\n",
            "loss: 0.911224  [ 6464/60000]\n",
            "loss: 0.680958  [12864/60000]\n",
            "loss: 0.873012  [19264/60000]\n",
            "loss: 0.769010  [25664/60000]\n",
            "loss: 0.768737  [32064/60000]\n",
            "loss: 0.846045  [38464/60000]\n",
            "loss: 0.802753  [44864/60000]\n",
            "loss: 0.815716  [51264/60000]\n",
            "loss: 0.784181  [57664/60000]\n",
            "Test Error: \n",
            " Accuracy: 70.7%, Avg loss: 0.788303 \n",
            "\n",
            "Done!\n"
          ]
        }
      ]
    },
    {
      "cell_type": "markdown",
      "source": [],
      "metadata": {
        "id": "OrFEkcP3z0UK"
      }
    },
    {
      "cell_type": "markdown",
      "source": [
        "## 모델 저장하기"
      ],
      "metadata": {
        "id": "xd8zKozezJBZ"
      }
    },
    {
      "cell_type": "code",
      "source": [
        "torch.save(model.state_dict(), \"model.pth\")\n",
        "print(\"Saved PyTorch Model State to model.pth\")"
      ],
      "metadata": {
        "id": "1wIxJ-EhzHBK",
        "colab": {
          "base_uri": "https://localhost:8080/"
        },
        "outputId": "c09262b8-37b3-4576-b49d-1bcac3366442"
      },
      "execution_count": 10,
      "outputs": [
        {
          "output_type": "stream",
          "name": "stdout",
          "text": [
            "Saved PyTorch Model State to model.pth\n"
          ]
        }
      ]
    },
    {
      "cell_type": "markdown",
      "source": [
        "## 모델 불러오기"
      ],
      "metadata": {
        "id": "eiWxkumTzM5t"
      }
    },
    {
      "cell_type": "code",
      "source": [
        "model = NeuralNetwork().to(device)\n",
        "model.load_state_dict(torch.load(\"model.pth\"))"
      ],
      "metadata": {
        "id": "5wZPOQLxzOkQ",
        "colab": {
          "base_uri": "https://localhost:8080/"
        },
        "outputId": "969919d1-f424-4a3f-a309-ea6c98781881"
      },
      "execution_count": 11,
      "outputs": [
        {
          "output_type": "execute_result",
          "data": {
            "text/plain": [
              "<All keys matched successfully>"
            ]
          },
          "metadata": {},
          "execution_count": 11
        }
      ]
    },
    {
      "cell_type": "markdown",
      "source": [
        "## 예측하기"
      ],
      "metadata": {
        "id": "f0xpndRCzRMy"
      }
    },
    {
      "cell_type": "code",
      "source": [
        "classes = [\n",
        "    \"T-shirt/top\",\n",
        "    \"Trouser\",\n",
        "    \"Pullover\",\n",
        "    \"Dress\",\n",
        "    \"Coat\",\n",
        "    \"Sandal\",\n",
        "    \"Shirt\",\n",
        "    \"Sneaker\",\n",
        "    \"Bag\",\n",
        "    \"Ankle boot\",\n",
        "]\n",
        "\n",
        "model.eval()\n",
        "x, y = test_data[0][0], test_data[0][1]\n",
        "with torch.no_grad():\n",
        "    x = x.to(device)\n",
        "    pred = model(x)\n",
        "    predicted, actual = classes[pred[0].argmax(0)], classes[y]\n",
        "    print(f'Predicted: \"{predicted}\", Actual: \"{actual}\"')"
      ],
      "metadata": {
        "id": "ZVfk8WIVzYfv",
        "colab": {
          "base_uri": "https://localhost:8080/"
        },
        "outputId": "b85a0e47-cd8c-4899-82af-1566c6a811ae"
      },
      "execution_count": 12,
      "outputs": [
        {
          "output_type": "stream",
          "name": "stdout",
          "text": [
            "Predicted: \"Ankle boot\", Actual: \"Ankle boot\"\n"
          ]
        }
      ]
    },
    {
      "cell_type": "markdown",
      "source": [
        "# 복습과제 2"
      ],
      "metadata": {
        "id": "nGbIa0glRbi_"
      }
    },
    {
      "cell_type": "markdown",
      "source": [
        "### Q1) What is the number of total parameters in this MLP model? Why?"
      ],
      "metadata": {
        "id": "-GI0JkYXSWMg"
      }
    },
    {
      "cell_type": "markdown",
      "source": [
        "![image.png](data:image/png;base64,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)"
      ],
      "metadata": {
        "id": "HZtXzh-AS8gb"
      }
    },
    {
      "cell_type": "markdown",
      "source": [
        "Your Answer:\n",
        "\n",
        "input * weight = 3 * 5\n",
        "\n",
        "bias = 5\n",
        "\n",
        "hidden * weight = 5 * 2\n",
        "\n",
        "bias = 2\n",
        "\n",
        "total = 32"
      ],
      "metadata": {
        "id": "5t3Z027HTxYc"
      }
    },
    {
      "cell_type": "markdown",
      "source": [
        "### Q2) Using the Gradient Descent Algorithm, the loss of the model will decrease continuously to a specific point, which is a minimum. Is it the optimal point? Why or why not?"
      ],
      "metadata": {
        "id": "AYOpFq5RS_jc"
      }
    },
    {
      "cell_type": "markdown",
      "source": [
        "Your Answer : The Gradient Descent Algorithm calculates the gradient of a function and continuously moving in the opposite direction to find a minimum value. So if the minimum value is a local minimum (not a global minimum), it is not the optimal point."
      ],
      "metadata": {
        "id": "h0nvek_NTupn"
      }
    },
    {
      "cell_type": "markdown",
      "source": [
        "### Q3) Is it possible to decrease the training error to zero? *(Hint: Think about the Universal Approximation Theorem)*"
      ],
      "metadata": {
        "id": "qkNd60lbTvTB"
      }
    },
    {
      "cell_type": "markdown",
      "source": [
        "Your Answer: According to the Universal Approximation Theorem, a neural network with a single hidden layer can perfectly approximate the given training data, reducing the training error to near zero."
      ],
      "metadata": {
        "id": "rFuJYq1TUEZ3"
      }
    },
    {
      "cell_type": "markdown",
      "source": [
        "### Q4) Is deep learning the best method to build models? That is, does deeper networks generalize better than other methods? *(Hint: it is somehow related with question 3)*"
      ],
      "metadata": {
        "id": "Z68gfIh1UFwV"
      }
    },
    {
      "cell_type": "markdown",
      "source": [
        "Your Answer: Deep learning is suitable for learning complex patterns, but with limited data size, there is a risk of overfitting. So it cannot always be considered as the best method to build models."
      ],
      "metadata": {
        "id": "ift-UetrUgaG"
      }
    },
    {
      "cell_type": "code",
      "source": [],
      "metadata": {
        "id": "AQ5X6BDebxla"
      },
      "execution_count": null,
      "outputs": []
    }
  ]
}