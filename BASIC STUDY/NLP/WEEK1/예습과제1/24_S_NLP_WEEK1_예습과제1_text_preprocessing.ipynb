{
  "nbformat": 4,
  "nbformat_minor": 0,
  "metadata": {
    "colab": {
      "provenance": []
    },
    "kernelspec": {
      "name": "python3",
      "display_name": "Python 3"
    },
    "language_info": {
      "name": "python"
    }
  },
  "cells": [
    {
      "cell_type": "markdown",
      "source": [
        "\n",
        "##0. GOAL\n",
        "해원은 부쩍 헬스에 관심이 많이 생겼다고 합니다.\n",
        "주변 헬스인들에게 이 사실을 알리니, 프로틴 보충제 사이트를 추천해주더군요.\n",
        "\n",
        "며칠 전 텍스트 전처리를 배운 희준은 해당 사이트에서 보충제 리뷰를 크롤링해와 워드클라우드를 그려보기로 결심합니다.\n",
        "\n",
        "파이프라인은 다음과 같습니다.\n",
        "\n",
        " 1. 정규표현식으로 한글만 추린다\n",
        " 2. 띄어쓰기를 교정한다(PyKospacing)\n",
        " 3. 형태소로 토큰화한다(okt)\n",
        " 4. 불용어를 제거한다\n",
        " 5. 원하는 단어를 Konlpy 사전에 추가한다\n",
        " 6. 워드클라우드를 그린다\n"
      ],
      "metadata": {
        "id": "tAE5OAYGS3Lc"
      }
    },
    {
      "cell_type": "markdown",
      "source": [
        "##1. import, load data"
      ],
      "metadata": {
        "id": "c5UwZkFduXEb"
      }
    },
    {
      "cell_type": "code",
      "source": [
        "!pip install konlpy\n",
        "!pip install git+https://github.com/haven-jeon/PyKoSpacing.git"
      ],
      "metadata": {
        "id": "hVummkwD-9fX"
      },
      "execution_count": null,
      "outputs": []
    },
    {
      "cell_type": "code",
      "source": [
        "import pandas as pd\n",
        "import numpy as np\n",
        "import re\n",
        "import pandas as pd"
      ],
      "metadata": {
        "id": "i4m7DBHd8rXe"
      },
      "execution_count": null,
      "outputs": []
    },
    {
      "cell_type": "code",
      "source": [
        "from google.colab import drive\n",
        "drive.mount('/content/drive')"
      ],
      "metadata": {
        "id": "VE9l6dbi-T1j"
      },
      "execution_count": null,
      "outputs": []
    },
    {
      "cell_type": "code",
      "source": [
        "df = pd.read_csv(\"https://raw.githubusercontent.com/KU-BIG/KUBIG_2024_SPRING/main/BASIC%20STUDY/NLP/WEEK1/protein.csv\")"
      ],
      "metadata": {
        "id": "P2Jky_gp8tSu"
      },
      "execution_count": null,
      "outputs": []
    },
    {
      "cell_type": "code",
      "source": [
        "df.head()"
      ],
      "metadata": {
        "colab": {
          "base_uri": "https://localhost:8080/",
          "height": 206
        },
        "id": "gEugTd_yUnJT",
        "outputId": "ef8289bc-c5a5-4b15-ba4c-2e838027383d"
      },
      "execution_count": null,
      "outputs": [
        {
          "output_type": "execute_result",
          "data": {
            "text/plain": [
              "   Unnamed: 0            title  \\\n",
              "0           0  처음 사먹어 보는데 맛있네요   \n",
              "1           1   말해 뭐합니까 ㅋㅋㅋ 역시   \n",
              "2           2              좋넹요   \n",
              "3           3         매우 만족합니다   \n",
              "4           4             마싯어요   \n",
              "\n",
              "                                             content  \\\n",
              "0                              맛이 좋아서 꾸준히 먹고 있습니다.^^   \n",
              "1  가성비 갑 제품 + 맛도 다양해서 ㅋㅋㅋ 항상 구매하고 있습니다요! \\n\\n    ...   \n",
              "2              맛있습니다. 저번에 말차라떼도 먹어봤는데 그것보다 더 나은거 같네요   \n",
              "3  5키로는 정말 엄청크네요.\\n    평점이 좋아서 스트로베리크림으로 주문했는데 좋습...   \n",
              "4                   약간 달긴 하지만 물에 잘 녹고 가루날림이 거의없어 좋아요   \n",
              "\n",
              "                                                text  \n",
              "0               처음 사먹어 보는데 맛있네요맛이 좋아서 꾸준히 먹고 있습니다.^^  \n",
              "1  말해 뭐합니까 ㅋㅋㅋ 역시가성비 갑 제품 + 맛도 다양해서 ㅋㅋㅋ 항상 구매하고 있...  \n",
              "2           좋넹요맛있습니다. 저번에 말차라떼도 먹어봤는데 그것보다 더 나은거 같네요  \n",
              "3  매우 만족합니다5키로는 정말 엄청크네요.\\n    평점이 좋아서 스트로베리크림으로 ...  \n",
              "4               마싯어요약간 달긴 하지만 물에 잘 녹고 가루날림이 거의없어 좋아요  "
            ],
            "text/html": [
              "\n",
              "  <div id=\"df-3c1d80be-21a0-4b94-b704-d546bb33cae2\" class=\"colab-df-container\">\n",
              "    <div>\n",
              "<style scoped>\n",
              "    .dataframe tbody tr th:only-of-type {\n",
              "        vertical-align: middle;\n",
              "    }\n",
              "\n",
              "    .dataframe tbody tr th {\n",
              "        vertical-align: top;\n",
              "    }\n",
              "\n",
              "    .dataframe thead th {\n",
              "        text-align: right;\n",
              "    }\n",
              "</style>\n",
              "<table border=\"1\" class=\"dataframe\">\n",
              "  <thead>\n",
              "    <tr style=\"text-align: right;\">\n",
              "      <th></th>\n",
              "      <th>Unnamed: 0</th>\n",
              "      <th>title</th>\n",
              "      <th>content</th>\n",
              "      <th>text</th>\n",
              "    </tr>\n",
              "  </thead>\n",
              "  <tbody>\n",
              "    <tr>\n",
              "      <th>0</th>\n",
              "      <td>0</td>\n",
              "      <td>처음 사먹어 보는데 맛있네요</td>\n",
              "      <td>맛이 좋아서 꾸준히 먹고 있습니다.^^</td>\n",
              "      <td>처음 사먹어 보는데 맛있네요맛이 좋아서 꾸준히 먹고 있습니다.^^</td>\n",
              "    </tr>\n",
              "    <tr>\n",
              "      <th>1</th>\n",
              "      <td>1</td>\n",
              "      <td>말해 뭐합니까 ㅋㅋㅋ 역시</td>\n",
              "      <td>가성비 갑 제품 + 맛도 다양해서 ㅋㅋㅋ 항상 구매하고 있습니다요! \\n\\n    ...</td>\n",
              "      <td>말해 뭐합니까 ㅋㅋㅋ 역시가성비 갑 제품 + 맛도 다양해서 ㅋㅋㅋ 항상 구매하고 있...</td>\n",
              "    </tr>\n",
              "    <tr>\n",
              "      <th>2</th>\n",
              "      <td>2</td>\n",
              "      <td>좋넹요</td>\n",
              "      <td>맛있습니다. 저번에 말차라떼도 먹어봤는데 그것보다 더 나은거 같네요</td>\n",
              "      <td>좋넹요맛있습니다. 저번에 말차라떼도 먹어봤는데 그것보다 더 나은거 같네요</td>\n",
              "    </tr>\n",
              "    <tr>\n",
              "      <th>3</th>\n",
              "      <td>3</td>\n",
              "      <td>매우 만족합니다</td>\n",
              "      <td>5키로는 정말 엄청크네요.\\n    평점이 좋아서 스트로베리크림으로 주문했는데 좋습...</td>\n",
              "      <td>매우 만족합니다5키로는 정말 엄청크네요.\\n    평점이 좋아서 스트로베리크림으로 ...</td>\n",
              "    </tr>\n",
              "    <tr>\n",
              "      <th>4</th>\n",
              "      <td>4</td>\n",
              "      <td>마싯어요</td>\n",
              "      <td>약간 달긴 하지만 물에 잘 녹고 가루날림이 거의없어 좋아요</td>\n",
              "      <td>마싯어요약간 달긴 하지만 물에 잘 녹고 가루날림이 거의없어 좋아요</td>\n",
              "    </tr>\n",
              "  </tbody>\n",
              "</table>\n",
              "</div>\n",
              "    <div class=\"colab-df-buttons\">\n",
              "\n",
              "  <div class=\"colab-df-container\">\n",
              "    <button class=\"colab-df-convert\" onclick=\"convertToInteractive('df-3c1d80be-21a0-4b94-b704-d546bb33cae2')\"\n",
              "            title=\"Convert this dataframe to an interactive table.\"\n",
              "            style=\"display:none;\">\n",
              "\n",
              "  <svg xmlns=\"http://www.w3.org/2000/svg\" height=\"24px\" viewBox=\"0 -960 960 960\">\n",
              "    <path d=\"M120-120v-720h720v720H120Zm60-500h600v-160H180v160Zm220 220h160v-160H400v160Zm0 220h160v-160H400v160ZM180-400h160v-160H180v160Zm440 0h160v-160H620v160ZM180-180h160v-160H180v160Zm440 0h160v-160H620v160Z\"/>\n",
              "  </svg>\n",
              "    </button>\n",
              "\n",
              "  <style>\n",
              "    .colab-df-container {\n",
              "      display:flex;\n",
              "      gap: 12px;\n",
              "    }\n",
              "\n",
              "    .colab-df-convert {\n",
              "      background-color: #E8F0FE;\n",
              "      border: none;\n",
              "      border-radius: 50%;\n",
              "      cursor: pointer;\n",
              "      display: none;\n",
              "      fill: #1967D2;\n",
              "      height: 32px;\n",
              "      padding: 0 0 0 0;\n",
              "      width: 32px;\n",
              "    }\n",
              "\n",
              "    .colab-df-convert:hover {\n",
              "      background-color: #E2EBFA;\n",
              "      box-shadow: 0px 1px 2px rgba(60, 64, 67, 0.3), 0px 1px 3px 1px rgba(60, 64, 67, 0.15);\n",
              "      fill: #174EA6;\n",
              "    }\n",
              "\n",
              "    .colab-df-buttons div {\n",
              "      margin-bottom: 4px;\n",
              "    }\n",
              "\n",
              "    [theme=dark] .colab-df-convert {\n",
              "      background-color: #3B4455;\n",
              "      fill: #D2E3FC;\n",
              "    }\n",
              "\n",
              "    [theme=dark] .colab-df-convert:hover {\n",
              "      background-color: #434B5C;\n",
              "      box-shadow: 0px 1px 3px 1px rgba(0, 0, 0, 0.15);\n",
              "      filter: drop-shadow(0px 1px 2px rgba(0, 0, 0, 0.3));\n",
              "      fill: #FFFFFF;\n",
              "    }\n",
              "  </style>\n",
              "\n",
              "    <script>\n",
              "      const buttonEl =\n",
              "        document.querySelector('#df-3c1d80be-21a0-4b94-b704-d546bb33cae2 button.colab-df-convert');\n",
              "      buttonEl.style.display =\n",
              "        google.colab.kernel.accessAllowed ? 'block' : 'none';\n",
              "\n",
              "      async function convertToInteractive(key) {\n",
              "        const element = document.querySelector('#df-3c1d80be-21a0-4b94-b704-d546bb33cae2');\n",
              "        const dataTable =\n",
              "          await google.colab.kernel.invokeFunction('convertToInteractive',\n",
              "                                                    [key], {});\n",
              "        if (!dataTable) return;\n",
              "\n",
              "        const docLinkHtml = 'Like what you see? Visit the ' +\n",
              "          '<a target=\"_blank\" href=https://colab.research.google.com/notebooks/data_table.ipynb>data table notebook</a>'\n",
              "          + ' to learn more about interactive tables.';\n",
              "        element.innerHTML = '';\n",
              "        dataTable['output_type'] = 'display_data';\n",
              "        await google.colab.output.renderOutput(dataTable, element);\n",
              "        const docLink = document.createElement('div');\n",
              "        docLink.innerHTML = docLinkHtml;\n",
              "        element.appendChild(docLink);\n",
              "      }\n",
              "    </script>\n",
              "  </div>\n",
              "\n",
              "\n",
              "<div id=\"df-3f7b50f1-d61a-4cba-8246-9c81909f42fe\">\n",
              "  <button class=\"colab-df-quickchart\" onclick=\"quickchart('df-3f7b50f1-d61a-4cba-8246-9c81909f42fe')\"\n",
              "            title=\"Suggest charts\"\n",
              "            style=\"display:none;\">\n",
              "\n",
              "<svg xmlns=\"http://www.w3.org/2000/svg\" height=\"24px\"viewBox=\"0 0 24 24\"\n",
              "     width=\"24px\">\n",
              "    <g>\n",
              "        <path d=\"M19 3H5c-1.1 0-2 .9-2 2v14c0 1.1.9 2 2 2h14c1.1 0 2-.9 2-2V5c0-1.1-.9-2-2-2zM9 17H7v-7h2v7zm4 0h-2V7h2v10zm4 0h-2v-4h2v4z\"/>\n",
              "    </g>\n",
              "</svg>\n",
              "  </button>\n",
              "\n",
              "<style>\n",
              "  .colab-df-quickchart {\n",
              "      --bg-color: #E8F0FE;\n",
              "      --fill-color: #1967D2;\n",
              "      --hover-bg-color: #E2EBFA;\n",
              "      --hover-fill-color: #174EA6;\n",
              "      --disabled-fill-color: #AAA;\n",
              "      --disabled-bg-color: #DDD;\n",
              "  }\n",
              "\n",
              "  [theme=dark] .colab-df-quickchart {\n",
              "      --bg-color: #3B4455;\n",
              "      --fill-color: #D2E3FC;\n",
              "      --hover-bg-color: #434B5C;\n",
              "      --hover-fill-color: #FFFFFF;\n",
              "      --disabled-bg-color: #3B4455;\n",
              "      --disabled-fill-color: #666;\n",
              "  }\n",
              "\n",
              "  .colab-df-quickchart {\n",
              "    background-color: var(--bg-color);\n",
              "    border: none;\n",
              "    border-radius: 50%;\n",
              "    cursor: pointer;\n",
              "    display: none;\n",
              "    fill: var(--fill-color);\n",
              "    height: 32px;\n",
              "    padding: 0;\n",
              "    width: 32px;\n",
              "  }\n",
              "\n",
              "  .colab-df-quickchart:hover {\n",
              "    background-color: var(--hover-bg-color);\n",
              "    box-shadow: 0 1px 2px rgba(60, 64, 67, 0.3), 0 1px 3px 1px rgba(60, 64, 67, 0.15);\n",
              "    fill: var(--button-hover-fill-color);\n",
              "  }\n",
              "\n",
              "  .colab-df-quickchart-complete:disabled,\n",
              "  .colab-df-quickchart-complete:disabled:hover {\n",
              "    background-color: var(--disabled-bg-color);\n",
              "    fill: var(--disabled-fill-color);\n",
              "    box-shadow: none;\n",
              "  }\n",
              "\n",
              "  .colab-df-spinner {\n",
              "    border: 2px solid var(--fill-color);\n",
              "    border-color: transparent;\n",
              "    border-bottom-color: var(--fill-color);\n",
              "    animation:\n",
              "      spin 1s steps(1) infinite;\n",
              "  }\n",
              "\n",
              "  @keyframes spin {\n",
              "    0% {\n",
              "      border-color: transparent;\n",
              "      border-bottom-color: var(--fill-color);\n",
              "      border-left-color: var(--fill-color);\n",
              "    }\n",
              "    20% {\n",
              "      border-color: transparent;\n",
              "      border-left-color: var(--fill-color);\n",
              "      border-top-color: var(--fill-color);\n",
              "    }\n",
              "    30% {\n",
              "      border-color: transparent;\n",
              "      border-left-color: var(--fill-color);\n",
              "      border-top-color: var(--fill-color);\n",
              "      border-right-color: var(--fill-color);\n",
              "    }\n",
              "    40% {\n",
              "      border-color: transparent;\n",
              "      border-right-color: var(--fill-color);\n",
              "      border-top-color: var(--fill-color);\n",
              "    }\n",
              "    60% {\n",
              "      border-color: transparent;\n",
              "      border-right-color: var(--fill-color);\n",
              "    }\n",
              "    80% {\n",
              "      border-color: transparent;\n",
              "      border-right-color: var(--fill-color);\n",
              "      border-bottom-color: var(--fill-color);\n",
              "    }\n",
              "    90% {\n",
              "      border-color: transparent;\n",
              "      border-bottom-color: var(--fill-color);\n",
              "    }\n",
              "  }\n",
              "</style>\n",
              "\n",
              "  <script>\n",
              "    async function quickchart(key) {\n",
              "      const quickchartButtonEl =\n",
              "        document.querySelector('#' + key + ' button');\n",
              "      quickchartButtonEl.disabled = true;  // To prevent multiple clicks.\n",
              "      quickchartButtonEl.classList.add('colab-df-spinner');\n",
              "      try {\n",
              "        const charts = await google.colab.kernel.invokeFunction(\n",
              "            'suggestCharts', [key], {});\n",
              "      } catch (error) {\n",
              "        console.error('Error during call to suggestCharts:', error);\n",
              "      }\n",
              "      quickchartButtonEl.classList.remove('colab-df-spinner');\n",
              "      quickchartButtonEl.classList.add('colab-df-quickchart-complete');\n",
              "    }\n",
              "    (() => {\n",
              "      let quickchartButtonEl =\n",
              "        document.querySelector('#df-3f7b50f1-d61a-4cba-8246-9c81909f42fe button');\n",
              "      quickchartButtonEl.style.display =\n",
              "        google.colab.kernel.accessAllowed ? 'block' : 'none';\n",
              "    })();\n",
              "  </script>\n",
              "</div>\n",
              "\n",
              "    </div>\n",
              "  </div>\n"
            ]
          },
          "metadata": {},
          "execution_count": 5
        }
      ]
    },
    {
      "cell_type": "markdown",
      "source": [
        "## 2. 정규표현식으로 한글 단어만 남기기\n",
        "\n",
        "이제 정규표현식으로 한글 단어만 남기고 모두 제외합니다."
      ],
      "metadata": {
        "id": "m6ymADDxEslm"
      }
    },
    {
      "cell_type": "code",
      "source": [
        "def extract_hangul(text):\n",
        "  hangul = re.sub('[^가-힣]', ' ', text)\n",
        "  return hangul"
      ],
      "metadata": {
        "id": "1zx0ySHBFWIL"
      },
      "execution_count": null,
      "outputs": []
    },
    {
      "cell_type": "code",
      "source": [
        "example = extract_hangul(df['text'][1])\n",
        "print(\"전처리 이전: \",df['text'][1])\n",
        "print(\"전처리 이후: \",example)"
      ],
      "metadata": {
        "id": "T0Q7uoPwFnpK"
      },
      "execution_count": null,
      "outputs": []
    },
    {
      "cell_type": "markdown",
      "source": [
        "## 3. 띄어쓰기 교정(PyKoSpacing)\n",
        "\n",
        "`PyKoSpacing`은 띄어쓰기가 되지 않은 문장을 띄어쓰기가 된 문장으로 교정해주는 패키지입니다다. 앞서 한글 외 다른 문자를 공백으로 치환했는데, 중첩된 공백들도 이 띄어쓰기 교정으로 하나의 공백으로 바꿔줄 수 있습니다."
      ],
      "metadata": {
        "id": "wPPdoTVAGMqu"
      }
    },
    {
      "cell_type": "code",
      "source": [
        "from pykospacing import Spacing\n",
        "spacing = Spacing()"
      ],
      "metadata": {
        "id": "0l6BJY4IHFLO"
      },
      "execution_count": null,
      "outputs": []
    },
    {
      "cell_type": "code",
      "source": [
        "def spacing_text(text):\n",
        "  spaced_text = spacing(text)\n",
        "  return spaced_text"
      ],
      "metadata": {
        "id": "BRxKTt86Hp-j"
      },
      "execution_count": null,
      "outputs": []
    },
    {
      "cell_type": "code",
      "source": [
        "spaced = spacing_text(example)\n",
        "print(\"전처리 이전: \",example)\n",
        "print(\"전처리 이후: \",spaced)"
      ],
      "metadata": {
        "id": "qAq_K1C8IL0f"
      },
      "execution_count": null,
      "outputs": []
    },
    {
      "cell_type": "markdown",
      "source": [
        "## 4. 형태소 분석기(okt)\n",
        "\n",
        "한국어에서 토큰화를 해주는 대표적인 도구는 `konlpy`입니다. 가장 대표적인 형태소 분석기는 `Okt` 모델입니다."
      ],
      "metadata": {
        "id": "Lzi6FGurLkW7"
      }
    },
    {
      "cell_type": "code",
      "source": [
        "from konlpy.tag import Okt\n",
        "okt = Okt()"
      ],
      "metadata": {
        "id": "Fv3_z1Zb-6BS"
      },
      "execution_count": null,
      "outputs": []
    },
    {
      "cell_type": "code",
      "source": [
        "def extract_morphs(text):\n",
        "  morphs_ = okt.morphs(text, stem=True)\n",
        "  return morphs_"
      ],
      "metadata": {
        "id": "clgcqqjjK7Bj"
      },
      "execution_count": null,
      "outputs": []
    },
    {
      "cell_type": "code",
      "source": [
        "morphs_ = extract_morphs(spaced)\n",
        "print(\"전처리 이전: \",spaced)\n",
        "print(\"전처리 이후: \",morphs_)"
      ],
      "metadata": {
        "id": "XgTr7KAT_bT3"
      },
      "execution_count": null,
      "outputs": []
    },
    {
      "cell_type": "markdown",
      "source": [
        "## 5. 불용어 제거\n",
        "\n",
        "분석에 있어 큰 의미가 없는 '불용어(stopword)'를 지정해줘야 합니다. '하다', '도', '는', '이다' 등 의미가 없는 어미나 조사같은 것을 지워주기로 합니다.\n",
        "\n",
        "불용어 참고 사이트: https://www.ranks.nl/stopwords/korean\n",
        "\n",
        "위 불용어 자료에서 몇 개의 단어를 추가해서 저장해두었습니다."
      ],
      "metadata": {
        "id": "ui11BscCLita"
      }
    },
    {
      "cell_type": "code",
      "source": [
        "with open('/content/drive/MyDrive/sentence/stopword.txt') as f:\n",
        "    list_file = f.readlines()\n",
        "\n",
        "stopwords_list = []\n",
        "for stopword in list_file:\n",
        "  stopwords = re.sub('[\\n]', '', stopword)\n",
        "  stopwords_list.append(stopwords)\n",
        "\n",
        "def remove_stopwords(text):\n",
        "  remove_stop = [x for x in text if x not in stopwords_list]\n",
        "  return remove_stop"
      ],
      "metadata": {
        "id": "_7gUoAhtM0_7"
      },
      "execution_count": null,
      "outputs": []
    },
    {
      "cell_type": "code",
      "source": [
        "remove_stop = remove_stopwords(morphs_)\n",
        "print(\"전처리 이전: \",morphs_)\n",
        "print(\"전처리 이후: \",remove_stop)"
      ],
      "metadata": {
        "id": "3172kzH6Na1_"
      },
      "execution_count": null,
      "outputs": []
    },
    {
      "cell_type": "markdown",
      "source": [
        "추가적으로, 불용어로만 걸러내기엔 한계가 있고 아예 한 글자 단어들을 전부 없애주는 것이 나은 경우가 있습니다. 하지만, '맛', '향', '짱'과 같은 핵심적인 단어들은 남겨두기로 했다."
      ],
      "metadata": {
        "id": "SDKjaWwOYhb_"
      }
    },
    {
      "cell_type": "code",
      "source": [
        "def remove_one(text):\n",
        "  except_list = ['맛','향','짱']\n",
        "  remove_one_ = [x for x in text if len(x)>1 or x in except_list]\n",
        "  return remove_one_"
      ],
      "metadata": {
        "id": "wyEXhxQkYcLb"
      },
      "execution_count": null,
      "outputs": []
    },
    {
      "cell_type": "code",
      "source": [
        "remove_one_ = remove_one(remove_stop)\n",
        "print(\"전처리 이전: \",remove_stop)\n",
        "print(\"전처리 이후: \",remove_one_)"
      ],
      "metadata": {
        "id": "wqCJqCgQZANk"
      },
      "execution_count": null,
      "outputs": []
    },
    {
      "cell_type": "markdown",
      "source": [
        "그런데 몇 단어들을 찾아보니 `가성비`는 `가`, `성비`가 나뉘고 `프로틴`은 `프로`, `틴`이 나뉘는 안타까운 상황이 발생했습니다.\n",
        "\n",
        "이런 경우, konlpy 사전에 직접 단어를 등재시키는 방법이 있습니다.\n",
        "\n",
        "아래처럼 `os` 모듈을 사용하여 코랩 패키지에 저장된 konlpy 폴더에 손을 대는 방식입니다.\n",
        "\n",
        "우선 `chdir`로 경로를 이동해주고 `makedirs`로 임시폴더를 만들어준 후. 이 임시폴더에서 단어 사전을 수정한 뒤 원본 폴더에 저장해줍니다.\n",
        "\n",
        "** FileNotFoundError가 발생하는 경우 아래 directory에서 python 버전이 잘못된 경우일 수 있습니다."
      ],
      "metadata": {
        "id": "pXv5n-mlecrm"
      }
    },
    {
      "cell_type": "code",
      "source": [
        "import os\n",
        "\n",
        "os.chdir('/usr/local/lib/python3.10/dist-packages/konlpy/java')\n",
        "os.getcwd()\n",
        "os.makedirs('./aaaa')"
      ],
      "metadata": {
        "id": "r4XVFhvZYiU_"
      },
      "execution_count": null,
      "outputs": []
    },
    {
      "cell_type": "code",
      "source": [
        "os.chdir('/usr/local/lib/python3.10/dist-packages/konlpy/java/aaaa') #임시 폴더로 이동\n",
        "os.getcwd()"
      ],
      "metadata": {
        "id": "FW9ST0FlPFFb"
      },
      "execution_count": null,
      "outputs": []
    },
    {
      "cell_type": "markdown",
      "source": [
        "임시폴더에 konlpy 사전 파일의 압축을 풀어줍니다."
      ],
      "metadata": {
        "id": "gEk9Z-RCfPdE"
      }
    },
    {
      "cell_type": "code",
      "source": [
        "!jar xvf ../open-korean-text-2.1.0.jar"
      ],
      "metadata": {
        "id": "Mj_kFZYDaWGk"
      },
      "execution_count": null,
      "outputs": []
    },
    {
      "cell_type": "markdown",
      "source": [
        "압축이 잘 풀렸으니 이제 명사들이 등재되어 있는 names.txt를 열어봅니다."
      ],
      "metadata": {
        "id": "i-jZIRwSfV8P"
      }
    },
    {
      "cell_type": "code",
      "source": [
        "with open(f\"/usr/local/lib/python3.10/dist-packages/konlpy/java/aaaa/org/openkoreantext/processor/util/noun/names.txt\") as f:\n",
        "    data = f.read()"
      ],
      "metadata": {
        "id": "y6_i48eaa9Q2"
      },
      "execution_count": null,
      "outputs": []
    },
    {
      "cell_type": "markdown",
      "source": [
        "아래처럼 다양한 단어들이 저장되어있는 것을 볼 수 있다. 여러 사용자들의 니즈를 반영하여 몇 단어들이 추가된 것으로 보입니다."
      ],
      "metadata": {
        "id": "TnX93-5kfciI"
      }
    },
    {
      "cell_type": "code",
      "source": [
        "data"
      ],
      "metadata": {
        "id": "a5YCNknlbFTk"
      },
      "execution_count": null,
      "outputs": []
    },
    {
      "cell_type": "markdown",
      "source": [
        "일단 세 개의 단어를 추가해보도록 합시다. 그리고 쓰기 모드로 변경하여 새롭게 파일을 저장합니다.\n",
        "\n",
        "예시로는 아래 세 가지 단어를 넣었지만, 여러분께서 마음껏 원하는 단어를 넣어보셔도 좋습니다."
      ],
      "metadata": {
        "id": "gdc39l5zfqXp"
      }
    },
    {
      "cell_type": "code",
      "source": [
        "data += '프로틴\\n가성비\\n밀크티\\n'\n",
        "\n",
        "with open(\"/usr/local/lib/python3.10/dist-packages/konlpy/java/aaaa/org/openkoreantext/processor/util/noun/names.txt\", 'w') as f:\n",
        "    f.write(data)"
      ],
      "metadata": {
        "id": "UPaHUbxEbJb7"
      },
      "execution_count": null,
      "outputs": []
    },
    {
      "cell_type": "markdown",
      "source": [
        "이제 다시 파일을 압축시키면 완료! 런타임을 재실행해야 제대로 반영이 됩니다."
      ],
      "metadata": {
        "id": "9HX-5jJEfvkc"
      }
    },
    {
      "cell_type": "code",
      "source": [
        "!jar cvf ../open-korean-text-2.1.0.jar *"
      ],
      "metadata": {
        "id": "EIGx_AD4b0xP"
      },
      "execution_count": null,
      "outputs": []
    },
    {
      "cell_type": "markdown",
      "source": [
        "원래 두 단어로 나뉘어서 나오던 것들이 올바르게 한 단어로 출력되는 것을 볼 수 있습니다."
      ],
      "metadata": {
        "id": "I7DTYKsVgJs2"
      }
    },
    {
      "cell_type": "code",
      "source": [
        "print(okt.nouns(\"가성비\"))\n",
        "print(okt.nouns(\"프로틴\"))"
      ],
      "metadata": {
        "colab": {
          "base_uri": "https://localhost:8080/"
        },
        "id": "cYq16Iwpf_Gb",
        "outputId": "eb94494e-f31e-48c7-a085-d93996140b4e"
      },
      "execution_count": null,
      "outputs": [
        {
          "output_type": "stream",
          "name": "stdout",
          "text": [
            "['가성비']\n",
            "['프로틴']\n"
          ]
        }
      ]
    },
    {
      "cell_type": "markdown",
      "source": [
        "전 과정을 하나로 통합하면 아래와 같습니다."
      ],
      "metadata": {
        "id": "yjt05CidRjHy"
      }
    },
    {
      "cell_type": "code",
      "source": [
        "from konlpy.tag import Okt\n",
        "okt = Okt()\n",
        "\n",
        "from pykospacing import Spacing\n",
        "spacing = Spacing()\n",
        "\n",
        "except_list = ['맛','향','짱']\n",
        "\n",
        "with open('/content/drive/MyDrive/sentence/stopword.txt') as f:\n",
        "    list_file = f.readlines()\n",
        "\n",
        "stopwords_list = []\n",
        "for stopword in list_file:\n",
        "  stopwords = re.sub('[\\n]', '', stopword)\n",
        "  stopwords_list.append(stopwords)\n",
        "\n",
        "def review_to_words(raw_review):\n",
        "  text = re.sub('[^가-힣]', ' ', raw_review)\n",
        "  text = spacing(text)\n",
        "  text = okt.morphs(text, stem=True)\n",
        "  text = [x for x in text if x not in stopwords_list]\n",
        "  text = [x for x in text if len(x)>1 or x in except_list]\n",
        "  text = \" \".join(text)\n",
        "  return text"
      ],
      "metadata": {
        "id": "f-kDnsYmQBJD"
      },
      "execution_count": null,
      "outputs": []
    },
    {
      "cell_type": "markdown",
      "source": [
        "이제 `words_list`를 만들어 전처리한 단어들을 하나의 리스트에 모아줍니다. 띄어쓰기 교정 과정에서 약간 지연됩니다.\n"
      ],
      "metadata": {
        "id": "w2AFG_ZgRmag"
      }
    },
    {
      "cell_type": "code",
      "source": [
        "import tqdm\n",
        "df_len = df.shape[0]\n",
        "words_list = []\n",
        "for i in range(df_len):\n",
        "  words_list.append(review_to_words(df['text'][i]))"
      ],
      "metadata": {
        "id": "AhyDo2xj_B68"
      },
      "execution_count": null,
      "outputs": []
    },
    {
      "cell_type": "code",
      "source": [
        "from wordcloud import WordCloud\n",
        "import matplotlib.pyplot as plt\n",
        "\n",
        "%matplotlib inline\n",
        "def displayWordCloud(data = None, backgroundcolor = 'white', width=None, height=None):\n",
        "    wordcloud = WordCloud(font_path = '/content/drive/MyDrive/sentence/MALGUN.TTF',\n",
        "                          background_color = backgroundcolor,\n",
        "                          width = width,\n",
        "                          height = height).generate(data)\n",
        "    plt.figure(figsize = (15 , 10))\n",
        "    plt.imshow(wordcloud)\n",
        "    plt.axis(\"off\")\n",
        "    plt.show()\n"
      ],
      "metadata": {
        "id": "nVkA9enmC0CA"
      },
      "execution_count": null,
      "outputs": []
    },
    {
      "cell_type": "code",
      "source": [
        "displayWordCloud(data = ' '.join(words_list), width=600, height=400)"
      ],
      "metadata": {
        "id": "c8Y74HlLIXPY"
      },
      "execution_count": null,
      "outputs": []
    }
  ]
}