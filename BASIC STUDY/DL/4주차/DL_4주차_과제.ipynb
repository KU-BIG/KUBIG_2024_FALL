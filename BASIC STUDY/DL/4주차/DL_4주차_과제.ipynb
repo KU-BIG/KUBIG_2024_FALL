{
  "nbformat": 4,
  "nbformat_minor": 0,
  "metadata": {
    "colab": {
      "provenance": [],
      "gpuType": "T4"
    },
    "kernelspec": {
      "name": "python3",
      "display_name": "Python 3"
    },
    "language_info": {
      "name": "python"
    },
    "accelerator": "GPU"
  },
  "cells": [
    {
      "cell_type": "markdown",
      "source": [
        "# 4주차 Regularization\n",
        "\n",
        "<img src='https://d2l.ai/_images/dropout2.svg'>"
      ],
      "metadata": {
        "id": "s1J5Wsirnyrc"
      }
    },
    {
      "cell_type": "markdown",
      "source": [
        "## 4.1 Initialization\n",
        "\n",
        "적절한 가중치 초기화는 gradient vanishing 문제 및 exploding gradient 문제를 해소하는 데 도움을 줍니다.\n",
        "\n",
        "반면 적절하지 못한 가중치 초기화는 모델 학습에 큰 장해가 되며, 모델의 다양성을 확보하지 못하도록 할 수 있습니다.\n"
      ],
      "metadata": {
        "id": "SoOGxVYTuuWF"
      }
    },
    {
      "cell_type": "markdown",
      "source": [
        "**Xavier Normal Initialization**\n",
        "\n",
        "일반적으로는 sigmoid 활성화 함수를 사용할 때 자주 병용되는 것으로 알려져 있습니다.\n",
        "\n",
        "$$ W\\sim\\mathcal{N}\\left(0,\\sqrt{2\\over n_{in}+n_{out}}^2 \\right) $$\n",
        "\n",
        "* Pytorch 에서는 **torch.nn.init.xavier_uniform_**으로 구현되어 있습니다!"
      ],
      "metadata": {
        "id": "8v8bl8ElvuZX"
      }
    },
    {
      "cell_type": "markdown",
      "source": [
        "**He Normal Initialization**\n",
        "\n",
        "이는 ReLU 활성화 함수를 사용할 때 많이 활용됩니다.\n",
        "\n",
        "$$ W\\sim\\mathcal N\\left(0,\\sqrt{2\\over n_{in}}^2\\right) $$\n",
        "\n",
        "* Pytorch 로는 **torch.nn.init.kaiming_normal_** 을 통해 구현되어 있습니다!"
      ],
      "metadata": {
        "id": "x8xkq3mvwBpu"
      }
    },
    {
      "cell_type": "markdown",
      "source": [
        "## 4.2 Dropout\n",
        "\n",
        "딥러닝 모델의 학습 과정에서 일정 확률로 일부 노드의 값을 0으로 처리하여 모델의 다양성을 제고하는 기법입니다.\n",
        "\n",
        "Standard dropout regularization 은 *dropout probability* $p$ 를 정하고, 중간 레이어의 활성화함수 $\\sigma$ 를 다음과 같이 확률변수 $\\sigma'$로 변형하여 구현합니다.\n",
        "\n",
        "$$ \\sigma'=\\begin{cases}0&\\text{w.p. }p\\\\{\\sigma\\over 1-p}&\\text{otherwise}  \\end{cases} $$\n",
        "\n",
        "이때 기댓값은 바뀌지 않아야 함을 명심해주세요!\n",
        "\n",
        "$$ \\mathbb{E}[ \\sigma ']=\\sigma $$"
      ],
      "metadata": {
        "id": "wV1j0p9Vodaj"
      }
    },
    {
      "cell_type": "code",
      "source": [
        "!pip install --quiet d2l"
      ],
      "metadata": {
        "colab": {
          "base_uri": "https://localhost:8080/"
        },
        "id": "aK-CVaKMqQ8_",
        "outputId": "3c6f9b4d-c4e4-4338-dbc2-6d5e5163c245"
      },
      "execution_count": 1,
      "outputs": [
        {
          "output_type": "stream",
          "name": "stdout",
          "text": [
            "\u001b[2K     \u001b[90m━━━━━━━━━━━━━━━━━━━━━━━━━━━━━━━━━━━━━━━━\u001b[0m \u001b[32m111.7/111.7 kB\u001b[0m \u001b[31m1.0 MB/s\u001b[0m eta \u001b[36m0:00:00\u001b[0m\n",
            "\u001b[2K     \u001b[90m━━━━━━━━━━━━━━━━━━━━━━━━━━━━━━━━━━━━━━━━\u001b[0m \u001b[32m17.1/17.1 MB\u001b[0m \u001b[31m28.0 MB/s\u001b[0m eta \u001b[36m0:00:00\u001b[0m\n",
            "\u001b[2K     \u001b[90m━━━━━━━━━━━━━━━━━━━━━━━━━━━━━━━━━━━━━━━━\u001b[0m \u001b[32m11.6/11.6 MB\u001b[0m \u001b[31m37.5 MB/s\u001b[0m eta \u001b[36m0:00:00\u001b[0m\n",
            "\u001b[2K     \u001b[90m━━━━━━━━━━━━━━━━━━━━━━━━━━━━━━━━━━━━━━━━\u001b[0m \u001b[32m34.4/34.4 MB\u001b[0m \u001b[31m15.7 MB/s\u001b[0m eta \u001b[36m0:00:00\u001b[0m\n",
            "\u001b[2K     \u001b[90m━━━━━━━━━━━━━━━━━━━━━━━━━━━━━━━━━━━━━━━━\u001b[0m \u001b[32m123.4/123.4 kB\u001b[0m \u001b[31m4.9 MB/s\u001b[0m eta \u001b[36m0:00:00\u001b[0m\n",
            "\u001b[2K     \u001b[90m━━━━━━━━━━━━━━━━━━━━━━━━━━━━━━━━━━━━━━━━\u001b[0m \u001b[32m98.3/98.3 kB\u001b[0m \u001b[31m7.6 MB/s\u001b[0m eta \u001b[36m0:00:00\u001b[0m\n",
            "\u001b[2K     \u001b[90m━━━━━━━━━━━━━━━━━━━━━━━━━━━━━━━━━━━━━━━━\u001b[0m \u001b[32m93.5/93.5 kB\u001b[0m \u001b[31m7.2 MB/s\u001b[0m eta \u001b[36m0:00:00\u001b[0m\n",
            "\u001b[2K     \u001b[90m━━━━━━━━━━━━━━━━━━━━━━━━━━━━━━━━━━━━━━━━\u001b[0m \u001b[32m1.6/1.6 MB\u001b[0m \u001b[31m49.8 MB/s\u001b[0m eta \u001b[36m0:00:00\u001b[0m\n",
            "\u001b[?25h\u001b[31mERROR: pip's dependency resolver does not currently take into account all the packages that are installed. This behaviour is the source of the following dependency conflicts.\n",
            "chex 0.1.86 requires numpy>=1.24.1, but you have numpy 1.23.5 which is incompatible.\n",
            "pandas-stubs 2.0.3.230814 requires numpy>=1.25.0; python_version >= \"3.9\", but you have numpy 1.23.5 which is incompatible.\u001b[0m\u001b[31m\n",
            "\u001b[0m"
          ]
        }
      ]
    },
    {
      "cell_type": "code",
      "source": [
        "import torch\n",
        "from torch import nn\n",
        "from d2l import torch as d2l"
      ],
      "metadata": {
        "id": "H8ZRiyirq7aI"
      },
      "execution_count": 4,
      "outputs": []
    },
    {
      "cell_type": "code",
      "execution_count": 5,
      "metadata": {
        "id": "_tg9WGdyg0VR"
      },
      "outputs": [],
      "source": [
        "def dropout_layer(X, dropout):\n",
        "    assert 0 <= dropout <= 1\n",
        "    if dropout == 1:\n",
        "      return torch.zeros_like(X)\n",
        "    mask = (torch.rand(X.shape) > dropout).float()\n",
        "    return mask * X / (1.0 - dropout)"
      ]
    },
    {
      "cell_type": "code",
      "source": [
        "class DropoutMLPScratch(d2l.Classifier):\n",
        "    def __init__(self, num_outputs, num_hiddens_1, num_hiddens_2,\n",
        "                 dropout_1, dropout_2, lr):\n",
        "        super().__init__()\n",
        "        self.save_hyperparameters()\n",
        "        self.lin1 = nn.LazyLinear(num_hiddens_1)\n",
        "        self.lin2 = nn.LazyLinear(num_hiddens_2)\n",
        "        self.lin3 = nn.LazyLinear(num_outputs)\n",
        "        self.relu = nn.ReLU()\n",
        "\n",
        "    def forward(self, X):\n",
        "        H1 = self.relu(self.lin1(X.reshape((X.shape[0], -1))))\n",
        "        if self.training:\n",
        "            H1 = dropout_layer(H1, self.dropout_1)\n",
        "        H2 = self.relu(self.lin2(H1))\n",
        "        if self.training:\n",
        "            H2 = dropout_layer(H2, self.dropout_2)\n",
        "        return self.lin3(H2)"
      ],
      "metadata": {
        "id": "0T0QwmMNqbCU"
      },
      "execution_count": 6,
      "outputs": []
    },
    {
      "cell_type": "code",
      "source": [
        "hparams = {'num_outputs':10, 'num_hiddens_1':256, 'num_hiddens_2':256,\n",
        "           'dropout_1':0.5, 'dropout_2':0.5, 'lr':0.1}\n",
        "\n",
        "model = DropoutMLPScratch(**hparams)\n",
        "data = d2l.FashionMNIST(batch_size=256)\n",
        "trainer = d2l.Trainer(max_epochs=10)\n",
        "trainer.fit(model, data)"
      ],
      "metadata": {
        "colab": {
          "base_uri": "https://localhost:8080/",
          "height": 265
        },
        "id": "nv83sifJqcnW",
        "outputId": "771b4ddc-14a6-452e-9fee-22cf24ca856a"
      },
      "execution_count": 7,
      "outputs": [
        {
          "output_type": "display_data",
          "data": {
            "text/plain": [
              "<Figure size 350x250 with 1 Axes>"
            ],
            "image/svg+xml": "<?xml version=\"1.0\" encoding=\"utf-8\" standalone=\"no\"?>\n<!DOCTYPE svg PUBLIC \"-//W3C//DTD SVG 1.1//EN\"\n  \"http://www.w3.org/Graphics/SVG/1.1/DTD/svg11.dtd\">\n<svg xmlns:xlink=\"http://www.w3.org/1999/xlink\" width=\"238.965625pt\" height=\"183.35625pt\" viewBox=\"0 0 238.965625 183.35625\" xmlns=\"http://www.w3.org/2000/svg\" version=\"1.1\">\n <metadata>\n  <rdf:RDF xmlns:dc=\"http://purl.org/dc/elements/1.1/\" xmlns:cc=\"http://creativecommons.org/ns#\" xmlns:rdf=\"http://www.w3.org/1999/02/22-rdf-syntax-ns#\">\n   <cc:Work>\n    <dc:type rdf:resource=\"http://purl.org/dc/dcmitype/StillImage\"/>\n    <dc:date>2024-07-23T08:21:24.508068</dc:date>\n    <dc:format>image/svg+xml</dc:format>\n    <dc:creator>\n     <cc:Agent>\n      <dc:title>Matplotlib v3.7.1, https://matplotlib.org/</dc:title>\n     </cc:Agent>\n    </dc:creator>\n   </cc:Work>\n  </rdf:RDF>\n </metadata>\n <defs>\n  <style type=\"text/css\">*{stroke-linejoin: round; stroke-linecap: butt}</style>\n </defs>\n <g id=\"figure_1\">\n  <g id=\"patch_1\">\n   <path d=\"M 0 183.35625 \nL 238.965625 183.35625 \nL 238.965625 0 \nL 0 0 \nz\n\" style=\"fill: #ffffff\"/>\n  </g>\n  <g id=\"axes_1\">\n   <g id=\"patch_2\">\n    <path d=\"M 30.103125 145.8 \nL 225.403125 145.8 \nL 225.403125 7.2 \nL 30.103125 7.2 \nz\n\" style=\"fill: #ffffff\"/>\n   </g>\n   <g id=\"matplotlib.axis_1\">\n    <g id=\"xtick_1\">\n     <g id=\"line2d_1\">\n      <defs>\n       <path id=\"m30ab06942a\" d=\"M 0 0 \nL 0 3.5 \n\" style=\"stroke: #000000; stroke-width: 0.8\"/>\n      </defs>\n      <g>\n       <use xlink:href=\"#m30ab06942a\" x=\"30.103125\" y=\"145.8\" style=\"stroke: #000000; stroke-width: 0.8\"/>\n      </g>\n     </g>\n     <g id=\"text_1\">\n      <!-- 0 -->\n      <g transform=\"translate(26.921875 160.398438) scale(0.1 -0.1)\">\n       <defs>\n        <path id=\"DejaVuSans-30\" d=\"M 2034 4250 \nQ 1547 4250 1301 3770 \nQ 1056 3291 1056 2328 \nQ 1056 1369 1301 889 \nQ 1547 409 2034 409 \nQ 2525 409 2770 889 \nQ 3016 1369 3016 2328 \nQ 3016 3291 2770 3770 \nQ 2525 4250 2034 4250 \nz\nM 2034 4750 \nQ 2819 4750 3233 4129 \nQ 3647 3509 3647 2328 \nQ 3647 1150 3233 529 \nQ 2819 -91 2034 -91 \nQ 1250 -91 836 529 \nQ 422 1150 422 2328 \nQ 422 3509 836 4129 \nQ 1250 4750 2034 4750 \nz\n\" transform=\"scale(0.015625)\"/>\n       </defs>\n       <use xlink:href=\"#DejaVuSans-30\"/>\n      </g>\n     </g>\n    </g>\n    <g id=\"xtick_2\">\n     <g id=\"line2d_2\">\n      <g>\n       <use xlink:href=\"#m30ab06942a\" x=\"69.163125\" y=\"145.8\" style=\"stroke: #000000; stroke-width: 0.8\"/>\n      </g>\n     </g>\n     <g id=\"text_2\">\n      <!-- 2 -->\n      <g transform=\"translate(65.981875 160.398438) scale(0.1 -0.1)\">\n       <defs>\n        <path id=\"DejaVuSans-32\" d=\"M 1228 531 \nL 3431 531 \nL 3431 0 \nL 469 0 \nL 469 531 \nQ 828 903 1448 1529 \nQ 2069 2156 2228 2338 \nQ 2531 2678 2651 2914 \nQ 2772 3150 2772 3378 \nQ 2772 3750 2511 3984 \nQ 2250 4219 1831 4219 \nQ 1534 4219 1204 4116 \nQ 875 4013 500 3803 \nL 500 4441 \nQ 881 4594 1212 4672 \nQ 1544 4750 1819 4750 \nQ 2544 4750 2975 4387 \nQ 3406 4025 3406 3419 \nQ 3406 3131 3298 2873 \nQ 3191 2616 2906 2266 \nQ 2828 2175 2409 1742 \nQ 1991 1309 1228 531 \nz\n\" transform=\"scale(0.015625)\"/>\n       </defs>\n       <use xlink:href=\"#DejaVuSans-32\"/>\n      </g>\n     </g>\n    </g>\n    <g id=\"xtick_3\">\n     <g id=\"line2d_3\">\n      <g>\n       <use xlink:href=\"#m30ab06942a\" x=\"108.223125\" y=\"145.8\" style=\"stroke: #000000; stroke-width: 0.8\"/>\n      </g>\n     </g>\n     <g id=\"text_3\">\n      <!-- 4 -->\n      <g transform=\"translate(105.041875 160.398438) scale(0.1 -0.1)\">\n       <defs>\n        <path id=\"DejaVuSans-34\" d=\"M 2419 4116 \nL 825 1625 \nL 2419 1625 \nL 2419 4116 \nz\nM 2253 4666 \nL 3047 4666 \nL 3047 1625 \nL 3713 1625 \nL 3713 1100 \nL 3047 1100 \nL 3047 0 \nL 2419 0 \nL 2419 1100 \nL 313 1100 \nL 313 1709 \nL 2253 4666 \nz\n\" transform=\"scale(0.015625)\"/>\n       </defs>\n       <use xlink:href=\"#DejaVuSans-34\"/>\n      </g>\n     </g>\n    </g>\n    <g id=\"xtick_4\">\n     <g id=\"line2d_4\">\n      <g>\n       <use xlink:href=\"#m30ab06942a\" x=\"147.283125\" y=\"145.8\" style=\"stroke: #000000; stroke-width: 0.8\"/>\n      </g>\n     </g>\n     <g id=\"text_4\">\n      <!-- 6 -->\n      <g transform=\"translate(144.101875 160.398438) scale(0.1 -0.1)\">\n       <defs>\n        <path id=\"DejaVuSans-36\" d=\"M 2113 2584 \nQ 1688 2584 1439 2293 \nQ 1191 2003 1191 1497 \nQ 1191 994 1439 701 \nQ 1688 409 2113 409 \nQ 2538 409 2786 701 \nQ 3034 994 3034 1497 \nQ 3034 2003 2786 2293 \nQ 2538 2584 2113 2584 \nz\nM 3366 4563 \nL 3366 3988 \nQ 3128 4100 2886 4159 \nQ 2644 4219 2406 4219 \nQ 1781 4219 1451 3797 \nQ 1122 3375 1075 2522 \nQ 1259 2794 1537 2939 \nQ 1816 3084 2150 3084 \nQ 2853 3084 3261 2657 \nQ 3669 2231 3669 1497 \nQ 3669 778 3244 343 \nQ 2819 -91 2113 -91 \nQ 1303 -91 875 529 \nQ 447 1150 447 2328 \nQ 447 3434 972 4092 \nQ 1497 4750 2381 4750 \nQ 2619 4750 2861 4703 \nQ 3103 4656 3366 4563 \nz\n\" transform=\"scale(0.015625)\"/>\n       </defs>\n       <use xlink:href=\"#DejaVuSans-36\"/>\n      </g>\n     </g>\n    </g>\n    <g id=\"xtick_5\">\n     <g id=\"line2d_5\">\n      <g>\n       <use xlink:href=\"#m30ab06942a\" x=\"186.343125\" y=\"145.8\" style=\"stroke: #000000; stroke-width: 0.8\"/>\n      </g>\n     </g>\n     <g id=\"text_5\">\n      <!-- 8 -->\n      <g transform=\"translate(183.161875 160.398438) scale(0.1 -0.1)\">\n       <defs>\n        <path id=\"DejaVuSans-38\" d=\"M 2034 2216 \nQ 1584 2216 1326 1975 \nQ 1069 1734 1069 1313 \nQ 1069 891 1326 650 \nQ 1584 409 2034 409 \nQ 2484 409 2743 651 \nQ 3003 894 3003 1313 \nQ 3003 1734 2745 1975 \nQ 2488 2216 2034 2216 \nz\nM 1403 2484 \nQ 997 2584 770 2862 \nQ 544 3141 544 3541 \nQ 544 4100 942 4425 \nQ 1341 4750 2034 4750 \nQ 2731 4750 3128 4425 \nQ 3525 4100 3525 3541 \nQ 3525 3141 3298 2862 \nQ 3072 2584 2669 2484 \nQ 3125 2378 3379 2068 \nQ 3634 1759 3634 1313 \nQ 3634 634 3220 271 \nQ 2806 -91 2034 -91 \nQ 1263 -91 848 271 \nQ 434 634 434 1313 \nQ 434 1759 690 2068 \nQ 947 2378 1403 2484 \nz\nM 1172 3481 \nQ 1172 3119 1398 2916 \nQ 1625 2713 2034 2713 \nQ 2441 2713 2670 2916 \nQ 2900 3119 2900 3481 \nQ 2900 3844 2670 4047 \nQ 2441 4250 2034 4250 \nQ 1625 4250 1398 4047 \nQ 1172 3844 1172 3481 \nz\n\" transform=\"scale(0.015625)\"/>\n       </defs>\n       <use xlink:href=\"#DejaVuSans-38\"/>\n      </g>\n     </g>\n    </g>\n    <g id=\"xtick_6\">\n     <g id=\"line2d_6\">\n      <g>\n       <use xlink:href=\"#m30ab06942a\" x=\"225.403125\" y=\"145.8\" style=\"stroke: #000000; stroke-width: 0.8\"/>\n      </g>\n     </g>\n     <g id=\"text_6\">\n      <!-- 10 -->\n      <g transform=\"translate(219.040625 160.398438) scale(0.1 -0.1)\">\n       <defs>\n        <path id=\"DejaVuSans-31\" d=\"M 794 531 \nL 1825 531 \nL 1825 4091 \nL 703 3866 \nL 703 4441 \nL 1819 4666 \nL 2450 4666 \nL 2450 531 \nL 3481 531 \nL 3481 0 \nL 794 0 \nL 794 531 \nz\n\" transform=\"scale(0.015625)\"/>\n       </defs>\n       <use xlink:href=\"#DejaVuSans-31\"/>\n       <use xlink:href=\"#DejaVuSans-30\" x=\"63.623047\"/>\n      </g>\n     </g>\n    </g>\n    <g id=\"text_7\">\n     <!-- epoch -->\n     <g transform=\"translate(112.525 174.076563) scale(0.1 -0.1)\">\n      <defs>\n       <path id=\"DejaVuSans-65\" d=\"M 3597 1894 \nL 3597 1613 \nL 953 1613 \nQ 991 1019 1311 708 \nQ 1631 397 2203 397 \nQ 2534 397 2845 478 \nQ 3156 559 3463 722 \nL 3463 178 \nQ 3153 47 2828 -22 \nQ 2503 -91 2169 -91 \nQ 1331 -91 842 396 \nQ 353 884 353 1716 \nQ 353 2575 817 3079 \nQ 1281 3584 2069 3584 \nQ 2775 3584 3186 3129 \nQ 3597 2675 3597 1894 \nz\nM 3022 2063 \nQ 3016 2534 2758 2815 \nQ 2500 3097 2075 3097 \nQ 1594 3097 1305 2825 \nQ 1016 2553 972 2059 \nL 3022 2063 \nz\n\" transform=\"scale(0.015625)\"/>\n       <path id=\"DejaVuSans-70\" d=\"M 1159 525 \nL 1159 -1331 \nL 581 -1331 \nL 581 3500 \nL 1159 3500 \nL 1159 2969 \nQ 1341 3281 1617 3432 \nQ 1894 3584 2278 3584 \nQ 2916 3584 3314 3078 \nQ 3713 2572 3713 1747 \nQ 3713 922 3314 415 \nQ 2916 -91 2278 -91 \nQ 1894 -91 1617 61 \nQ 1341 213 1159 525 \nz\nM 3116 1747 \nQ 3116 2381 2855 2742 \nQ 2594 3103 2138 3103 \nQ 1681 3103 1420 2742 \nQ 1159 2381 1159 1747 \nQ 1159 1113 1420 752 \nQ 1681 391 2138 391 \nQ 2594 391 2855 752 \nQ 3116 1113 3116 1747 \nz\n\" transform=\"scale(0.015625)\"/>\n       <path id=\"DejaVuSans-6f\" d=\"M 1959 3097 \nQ 1497 3097 1228 2736 \nQ 959 2375 959 1747 \nQ 959 1119 1226 758 \nQ 1494 397 1959 397 \nQ 2419 397 2687 759 \nQ 2956 1122 2956 1747 \nQ 2956 2369 2687 2733 \nQ 2419 3097 1959 3097 \nz\nM 1959 3584 \nQ 2709 3584 3137 3096 \nQ 3566 2609 3566 1747 \nQ 3566 888 3137 398 \nQ 2709 -91 1959 -91 \nQ 1206 -91 779 398 \nQ 353 888 353 1747 \nQ 353 2609 779 3096 \nQ 1206 3584 1959 3584 \nz\n\" transform=\"scale(0.015625)\"/>\n       <path id=\"DejaVuSans-63\" d=\"M 3122 3366 \nL 3122 2828 \nQ 2878 2963 2633 3030 \nQ 2388 3097 2138 3097 \nQ 1578 3097 1268 2742 \nQ 959 2388 959 1747 \nQ 959 1106 1268 751 \nQ 1578 397 2138 397 \nQ 2388 397 2633 464 \nQ 2878 531 3122 666 \nL 3122 134 \nQ 2881 22 2623 -34 \nQ 2366 -91 2075 -91 \nQ 1284 -91 818 406 \nQ 353 903 353 1747 \nQ 353 2603 823 3093 \nQ 1294 3584 2113 3584 \nQ 2378 3584 2631 3529 \nQ 2884 3475 3122 3366 \nz\n\" transform=\"scale(0.015625)\"/>\n       <path id=\"DejaVuSans-68\" d=\"M 3513 2113 \nL 3513 0 \nL 2938 0 \nL 2938 2094 \nQ 2938 2591 2744 2837 \nQ 2550 3084 2163 3084 \nQ 1697 3084 1428 2787 \nQ 1159 2491 1159 1978 \nL 1159 0 \nL 581 0 \nL 581 4863 \nL 1159 4863 \nL 1159 2956 \nQ 1366 3272 1645 3428 \nQ 1925 3584 2291 3584 \nQ 2894 3584 3203 3211 \nQ 3513 2838 3513 2113 \nz\n\" transform=\"scale(0.015625)\"/>\n      </defs>\n      <use xlink:href=\"#DejaVuSans-65\"/>\n      <use xlink:href=\"#DejaVuSans-70\" x=\"61.523438\"/>\n      <use xlink:href=\"#DejaVuSans-6f\" x=\"125\"/>\n      <use xlink:href=\"#DejaVuSans-63\" x=\"186.181641\"/>\n      <use xlink:href=\"#DejaVuSans-68\" x=\"241.162109\"/>\n     </g>\n    </g>\n   </g>\n   <g id=\"matplotlib.axis_2\">\n    <g id=\"ytick_1\">\n     <g id=\"line2d_7\">\n      <defs>\n       <path id=\"m2dd7b59635\" d=\"M 0 0 \nL -3.5 0 \n\" style=\"stroke: #000000; stroke-width: 0.8\"/>\n      </defs>\n      <g>\n       <use xlink:href=\"#m2dd7b59635\" x=\"30.103125\" y=\"140.344465\" style=\"stroke: #000000; stroke-width: 0.8\"/>\n      </g>\n     </g>\n     <g id=\"text_8\">\n      <!-- 0.4 -->\n      <g transform=\"translate(7.2 144.143683) scale(0.1 -0.1)\">\n       <defs>\n        <path id=\"DejaVuSans-2e\" d=\"M 684 794 \nL 1344 794 \nL 1344 0 \nL 684 0 \nL 684 794 \nz\n\" transform=\"scale(0.015625)\"/>\n       </defs>\n       <use xlink:href=\"#DejaVuSans-30\"/>\n       <use xlink:href=\"#DejaVuSans-2e\" x=\"63.623047\"/>\n       <use xlink:href=\"#DejaVuSans-34\" x=\"95.410156\"/>\n      </g>\n     </g>\n    </g>\n    <g id=\"ytick_2\">\n     <g id=\"line2d_8\">\n      <g>\n       <use xlink:href=\"#m2dd7b59635\" x=\"30.103125\" y=\"116.932309\" style=\"stroke: #000000; stroke-width: 0.8\"/>\n      </g>\n     </g>\n     <g id=\"text_9\">\n      <!-- 0.6 -->\n      <g transform=\"translate(7.2 120.731528) scale(0.1 -0.1)\">\n       <use xlink:href=\"#DejaVuSans-30\"/>\n       <use xlink:href=\"#DejaVuSans-2e\" x=\"63.623047\"/>\n       <use xlink:href=\"#DejaVuSans-36\" x=\"95.410156\"/>\n      </g>\n     </g>\n    </g>\n    <g id=\"ytick_3\">\n     <g id=\"line2d_9\">\n      <g>\n       <use xlink:href=\"#m2dd7b59635\" x=\"30.103125\" y=\"93.520154\" style=\"stroke: #000000; stroke-width: 0.8\"/>\n      </g>\n     </g>\n     <g id=\"text_10\">\n      <!-- 0.8 -->\n      <g transform=\"translate(7.2 97.319373) scale(0.1 -0.1)\">\n       <use xlink:href=\"#DejaVuSans-30\"/>\n       <use xlink:href=\"#DejaVuSans-2e\" x=\"63.623047\"/>\n       <use xlink:href=\"#DejaVuSans-38\" x=\"95.410156\"/>\n      </g>\n     </g>\n    </g>\n    <g id=\"ytick_4\">\n     <g id=\"line2d_10\">\n      <g>\n       <use xlink:href=\"#m2dd7b59635\" x=\"30.103125\" y=\"70.107998\" style=\"stroke: #000000; stroke-width: 0.8\"/>\n      </g>\n     </g>\n     <g id=\"text_11\">\n      <!-- 1.0 -->\n      <g transform=\"translate(7.2 73.907217) scale(0.1 -0.1)\">\n       <use xlink:href=\"#DejaVuSans-31\"/>\n       <use xlink:href=\"#DejaVuSans-2e\" x=\"63.623047\"/>\n       <use xlink:href=\"#DejaVuSans-30\" x=\"95.410156\"/>\n      </g>\n     </g>\n    </g>\n    <g id=\"ytick_5\">\n     <g id=\"line2d_11\">\n      <g>\n       <use xlink:href=\"#m2dd7b59635\" x=\"30.103125\" y=\"46.695843\" style=\"stroke: #000000; stroke-width: 0.8\"/>\n      </g>\n     </g>\n     <g id=\"text_12\">\n      <!-- 1.2 -->\n      <g transform=\"translate(7.2 50.495062) scale(0.1 -0.1)\">\n       <use xlink:href=\"#DejaVuSans-31\"/>\n       <use xlink:href=\"#DejaVuSans-2e\" x=\"63.623047\"/>\n       <use xlink:href=\"#DejaVuSans-32\" x=\"95.410156\"/>\n      </g>\n     </g>\n    </g>\n    <g id=\"ytick_6\">\n     <g id=\"line2d_12\">\n      <g>\n       <use xlink:href=\"#m2dd7b59635\" x=\"30.103125\" y=\"23.283688\" style=\"stroke: #000000; stroke-width: 0.8\"/>\n      </g>\n     </g>\n     <g id=\"text_13\">\n      <!-- 1.4 -->\n      <g transform=\"translate(7.2 27.082906) scale(0.1 -0.1)\">\n       <use xlink:href=\"#DejaVuSans-31\"/>\n       <use xlink:href=\"#DejaVuSans-2e\" x=\"63.623047\"/>\n       <use xlink:href=\"#DejaVuSans-34\" x=\"95.410156\"/>\n      </g>\n     </g>\n    </g>\n   </g>\n   <g id=\"line2d_13\">\n    <path d=\"M 34.923295 13.5 \n\" clip-path=\"url(#pe92d9c7d8b)\" style=\"fill: none; stroke: #1f77b4; stroke-width: 1.5; stroke-linecap: square\"/>\n   </g>\n   <g id=\"line2d_14\">\n    <path d=\"M 34.923295 13.5 \nL 44.646742 86.307415 \n\" clip-path=\"url(#pe92d9c7d8b)\" style=\"fill: none; stroke: #1f77b4; stroke-width: 1.5; stroke-linecap: square\"/>\n   </g>\n   <g id=\"line2d_15\">\n    <path d=\"M 34.923295 13.5 \nL 44.646742 86.307415 \n\" clip-path=\"url(#pe92d9c7d8b)\" style=\"fill: none; stroke: #1f77b4; stroke-width: 1.5; stroke-linecap: square\"/>\n   </g>\n   <g id=\"line2d_16\">\n    <path d=\"M 49.633125 101.348131 \n\" clip-path=\"url(#pe92d9c7d8b)\" style=\"fill: none; stroke-dasharray: 5.55,2.4; stroke-dashoffset: 0; stroke: #ff7f0e; stroke-width: 1.5\"/>\n   </g>\n   <g id=\"line2d_17\"/>\n   <g id=\"line2d_18\">\n    <path d=\"M 34.923295 13.5 \nL 44.646742 86.307415 \n\" clip-path=\"url(#pe92d9c7d8b)\" style=\"fill: none; stroke: #1f77b4; stroke-width: 1.5; stroke-linecap: square\"/>\n   </g>\n   <g id=\"line2d_19\">\n    <path d=\"M 49.633125 101.348131 \n\" clip-path=\"url(#pe92d9c7d8b)\" style=\"fill: none; stroke-dasharray: 5.55,2.4; stroke-dashoffset: 0; stroke: #ff7f0e; stroke-width: 1.5\"/>\n   </g>\n   <g id=\"line2d_20\">\n    <path d=\"M 49.633125 102.711254 \n\" clip-path=\"url(#pe92d9c7d8b)\" style=\"fill: none; stroke-dasharray: 9.6,2.4,1.5,2.4; stroke-dashoffset: 0; stroke: #2ca02c; stroke-width: 1.5\"/>\n   </g>\n   <g id=\"line2d_21\">\n    <path d=\"M 34.923295 13.5 \nL 44.646742 86.307415 \nL 54.370189 101.318285 \n\" clip-path=\"url(#pe92d9c7d8b)\" style=\"fill: none; stroke: #1f77b4; stroke-width: 1.5; stroke-linecap: square\"/>\n   </g>\n   <g id=\"line2d_22\">\n    <path d=\"M 49.633125 101.348131 \n\" clip-path=\"url(#pe92d9c7d8b)\" style=\"fill: none; stroke-dasharray: 5.55,2.4; stroke-dashoffset: 0; stroke: #ff7f0e; stroke-width: 1.5\"/>\n   </g>\n   <g id=\"line2d_23\">\n    <path d=\"M 49.633125 102.711254 \n\" clip-path=\"url(#pe92d9c7d8b)\" style=\"fill: none; stroke-dasharray: 9.6,2.4,1.5,2.4; stroke-dashoffset: 0; stroke: #2ca02c; stroke-width: 1.5\"/>\n   </g>\n   <g id=\"line2d_24\">\n    <path d=\"M 34.923295 13.5 \nL 44.646742 86.307415 \nL 54.370189 101.318285 \nL 64.093636 110.968285 \n\" clip-path=\"url(#pe92d9c7d8b)\" style=\"fill: none; stroke: #1f77b4; stroke-width: 1.5; stroke-linecap: square\"/>\n   </g>\n   <g id=\"line2d_25\">\n    <path d=\"M 49.633125 101.348131 \n\" clip-path=\"url(#pe92d9c7d8b)\" style=\"fill: none; stroke-dasharray: 5.55,2.4; stroke-dashoffset: 0; stroke: #ff7f0e; stroke-width: 1.5\"/>\n   </g>\n   <g id=\"line2d_26\">\n    <path d=\"M 49.633125 102.711254 \n\" clip-path=\"url(#pe92d9c7d8b)\" style=\"fill: none; stroke-dasharray: 9.6,2.4,1.5,2.4; stroke-dashoffset: 0; stroke: #2ca02c; stroke-width: 1.5\"/>\n   </g>\n   <g id=\"line2d_27\">\n    <path d=\"M 34.923295 13.5 \nL 44.646742 86.307415 \nL 54.370189 101.318285 \nL 64.093636 110.968285 \n\" clip-path=\"url(#pe92d9c7d8b)\" style=\"fill: none; stroke: #1f77b4; stroke-width: 1.5; stroke-linecap: square\"/>\n   </g>\n   <g id=\"line2d_28\">\n    <path d=\"M 49.633125 101.348131 \nL 69.163125 120.890091 \n\" clip-path=\"url(#pe92d9c7d8b)\" style=\"fill: none; stroke-dasharray: 5.55,2.4; stroke-dashoffset: 0; stroke: #ff7f0e; stroke-width: 1.5\"/>\n   </g>\n   <g id=\"line2d_29\">\n    <path d=\"M 49.633125 102.711254 \n\" clip-path=\"url(#pe92d9c7d8b)\" style=\"fill: none; stroke-dasharray: 9.6,2.4,1.5,2.4; stroke-dashoffset: 0; stroke: #2ca02c; stroke-width: 1.5\"/>\n   </g>\n   <g id=\"line2d_30\">\n    <path d=\"M 34.923295 13.5 \nL 44.646742 86.307415 \nL 54.370189 101.318285 \nL 64.093636 110.968285 \n\" clip-path=\"url(#pe92d9c7d8b)\" style=\"fill: none; stroke: #1f77b4; stroke-width: 1.5; stroke-linecap: square\"/>\n   </g>\n   <g id=\"line2d_31\">\n    <path d=\"M 49.633125 101.348131 \nL 69.163125 120.890091 \n\" clip-path=\"url(#pe92d9c7d8b)\" style=\"fill: none; stroke-dasharray: 5.55,2.4; stroke-dashoffset: 0; stroke: #ff7f0e; stroke-width: 1.5\"/>\n   </g>\n   <g id=\"line2d_32\">\n    <path d=\"M 49.633125 102.711254 \nL 69.163125 93.8974 \n\" clip-path=\"url(#pe92d9c7d8b)\" style=\"fill: none; stroke-dasharray: 9.6,2.4,1.5,2.4; stroke-dashoffset: 0; stroke: #2ca02c; stroke-width: 1.5\"/>\n   </g>\n   <g id=\"line2d_33\">\n    <path d=\"M 34.923295 13.5 \nL 44.646742 86.307415 \nL 54.370189 101.318285 \nL 64.093636 110.968285 \nL 73.817082 117.223803 \n\" clip-path=\"url(#pe92d9c7d8b)\" style=\"fill: none; stroke: #1f77b4; stroke-width: 1.5; stroke-linecap: square\"/>\n   </g>\n   <g id=\"line2d_34\">\n    <path d=\"M 49.633125 101.348131 \nL 69.163125 120.890091 \n\" clip-path=\"url(#pe92d9c7d8b)\" style=\"fill: none; stroke-dasharray: 5.55,2.4; stroke-dashoffset: 0; stroke: #ff7f0e; stroke-width: 1.5\"/>\n   </g>\n   <g id=\"line2d_35\">\n    <path d=\"M 49.633125 102.711254 \nL 69.163125 93.8974 \n\" clip-path=\"url(#pe92d9c7d8b)\" style=\"fill: none; stroke-dasharray: 9.6,2.4,1.5,2.4; stroke-dashoffset: 0; stroke: #2ca02c; stroke-width: 1.5\"/>\n   </g>\n   <g id=\"line2d_36\">\n    <path d=\"M 34.923295 13.5 \nL 44.646742 86.307415 \nL 54.370189 101.318285 \nL 64.093636 110.968285 \nL 73.817082 117.223803 \nL 83.540529 120.71671 \n\" clip-path=\"url(#pe92d9c7d8b)\" style=\"fill: none; stroke: #1f77b4; stroke-width: 1.5; stroke-linecap: square\"/>\n   </g>\n   <g id=\"line2d_37\">\n    <path d=\"M 49.633125 101.348131 \nL 69.163125 120.890091 \n\" clip-path=\"url(#pe92d9c7d8b)\" style=\"fill: none; stroke-dasharray: 5.55,2.4; stroke-dashoffset: 0; stroke: #ff7f0e; stroke-width: 1.5\"/>\n   </g>\n   <g id=\"line2d_38\">\n    <path d=\"M 49.633125 102.711254 \nL 69.163125 93.8974 \n\" clip-path=\"url(#pe92d9c7d8b)\" style=\"fill: none; stroke-dasharray: 9.6,2.4,1.5,2.4; stroke-dashoffset: 0; stroke: #2ca02c; stroke-width: 1.5\"/>\n   </g>\n   <g id=\"line2d_39\">\n    <path d=\"M 34.923295 13.5 \nL 44.646742 86.307415 \nL 54.370189 101.318285 \nL 64.093636 110.968285 \nL 73.817082 117.223803 \nL 83.540529 120.71671 \n\" clip-path=\"url(#pe92d9c7d8b)\" style=\"fill: none; stroke: #1f77b4; stroke-width: 1.5; stroke-linecap: square\"/>\n   </g>\n   <g id=\"line2d_40\">\n    <path d=\"M 49.633125 101.348131 \nL 69.163125 120.890091 \nL 88.693125 128.118162 \n\" clip-path=\"url(#pe92d9c7d8b)\" style=\"fill: none; stroke-dasharray: 5.55,2.4; stroke-dashoffset: 0; stroke: #ff7f0e; stroke-width: 1.5\"/>\n   </g>\n   <g id=\"line2d_41\">\n    <path d=\"M 49.633125 102.711254 \nL 69.163125 93.8974 \n\" clip-path=\"url(#pe92d9c7d8b)\" style=\"fill: none; stroke-dasharray: 9.6,2.4,1.5,2.4; stroke-dashoffset: 0; stroke: #2ca02c; stroke-width: 1.5\"/>\n   </g>\n   <g id=\"line2d_42\">\n    <path d=\"M 34.923295 13.5 \nL 44.646742 86.307415 \nL 54.370189 101.318285 \nL 64.093636 110.968285 \nL 73.817082 117.223803 \nL 83.540529 120.71671 \n\" clip-path=\"url(#pe92d9c7d8b)\" style=\"fill: none; stroke: #1f77b4; stroke-width: 1.5; stroke-linecap: square\"/>\n   </g>\n   <g id=\"line2d_43\">\n    <path d=\"M 49.633125 101.348131 \nL 69.163125 120.890091 \nL 88.693125 128.118162 \n\" clip-path=\"url(#pe92d9c7d8b)\" style=\"fill: none; stroke-dasharray: 5.55,2.4; stroke-dashoffset: 0; stroke: #ff7f0e; stroke-width: 1.5\"/>\n   </g>\n   <g id=\"line2d_44\">\n    <path d=\"M 49.633125 102.711254 \nL 69.163125 93.8974 \nL 88.693125 91.473877 \n\" clip-path=\"url(#pe92d9c7d8b)\" style=\"fill: none; stroke-dasharray: 9.6,2.4,1.5,2.4; stroke-dashoffset: 0; stroke: #2ca02c; stroke-width: 1.5\"/>\n   </g>\n   <g id=\"line2d_45\">\n    <path d=\"M 34.923295 13.5 \nL 44.646742 86.307415 \nL 54.370189 101.318285 \nL 64.093636 110.968285 \nL 73.817082 117.223803 \nL 83.540529 120.71671 \nL 93.263976 124.171937 \n\" clip-path=\"url(#pe92d9c7d8b)\" style=\"fill: none; stroke: #1f77b4; stroke-width: 1.5; stroke-linecap: square\"/>\n   </g>\n   <g id=\"line2d_46\">\n    <path d=\"M 49.633125 101.348131 \nL 69.163125 120.890091 \nL 88.693125 128.118162 \n\" clip-path=\"url(#pe92d9c7d8b)\" style=\"fill: none; stroke-dasharray: 5.55,2.4; stroke-dashoffset: 0; stroke: #ff7f0e; stroke-width: 1.5\"/>\n   </g>\n   <g id=\"line2d_47\">\n    <path d=\"M 49.633125 102.711254 \nL 69.163125 93.8974 \nL 88.693125 91.473877 \n\" clip-path=\"url(#pe92d9c7d8b)\" style=\"fill: none; stroke-dasharray: 9.6,2.4,1.5,2.4; stroke-dashoffset: 0; stroke: #2ca02c; stroke-width: 1.5\"/>\n   </g>\n   <g id=\"line2d_48\">\n    <path d=\"M 34.923295 13.5 \nL 44.646742 86.307415 \nL 54.370189 101.318285 \nL 64.093636 110.968285 \nL 73.817082 117.223803 \nL 83.540529 120.71671 \nL 93.263976 124.171937 \nL 102.987423 126.325136 \n\" clip-path=\"url(#pe92d9c7d8b)\" style=\"fill: none; stroke: #1f77b4; stroke-width: 1.5; stroke-linecap: square\"/>\n   </g>\n   <g id=\"line2d_49\">\n    <path d=\"M 49.633125 101.348131 \nL 69.163125 120.890091 \nL 88.693125 128.118162 \n\" clip-path=\"url(#pe92d9c7d8b)\" style=\"fill: none; stroke-dasharray: 5.55,2.4; stroke-dashoffset: 0; stroke: #ff7f0e; stroke-width: 1.5\"/>\n   </g>\n   <g id=\"line2d_50\">\n    <path d=\"M 49.633125 102.711254 \nL 69.163125 93.8974 \nL 88.693125 91.473877 \n\" clip-path=\"url(#pe92d9c7d8b)\" style=\"fill: none; stroke-dasharray: 9.6,2.4,1.5,2.4; stroke-dashoffset: 0; stroke: #2ca02c; stroke-width: 1.5\"/>\n   </g>\n   <g id=\"line2d_51\">\n    <path d=\"M 34.923295 13.5 \nL 44.646742 86.307415 \nL 54.370189 101.318285 \nL 64.093636 110.968285 \nL 73.817082 117.223803 \nL 83.540529 120.71671 \nL 93.263976 124.171937 \nL 102.987423 126.325136 \n\" clip-path=\"url(#pe92d9c7d8b)\" style=\"fill: none; stroke: #1f77b4; stroke-width: 1.5; stroke-linecap: square\"/>\n   </g>\n   <g id=\"line2d_52\">\n    <path d=\"M 49.633125 101.348131 \nL 69.163125 120.890091 \nL 88.693125 128.118162 \nL 108.223125 131.768145 \n\" clip-path=\"url(#pe92d9c7d8b)\" style=\"fill: none; stroke-dasharray: 5.55,2.4; stroke-dashoffset: 0; stroke: #ff7f0e; stroke-width: 1.5\"/>\n   </g>\n   <g id=\"line2d_53\">\n    <path d=\"M 49.633125 102.711254 \nL 69.163125 93.8974 \nL 88.693125 91.473877 \n\" clip-path=\"url(#pe92d9c7d8b)\" style=\"fill: none; stroke-dasharray: 9.6,2.4,1.5,2.4; stroke-dashoffset: 0; stroke: #2ca02c; stroke-width: 1.5\"/>\n   </g>\n   <g id=\"line2d_54\">\n    <path d=\"M 34.923295 13.5 \nL 44.646742 86.307415 \nL 54.370189 101.318285 \nL 64.093636 110.968285 \nL 73.817082 117.223803 \nL 83.540529 120.71671 \nL 93.263976 124.171937 \nL 102.987423 126.325136 \n\" clip-path=\"url(#pe92d9c7d8b)\" style=\"fill: none; stroke: #1f77b4; stroke-width: 1.5; stroke-linecap: square\"/>\n   </g>\n   <g id=\"line2d_55\">\n    <path d=\"M 49.633125 101.348131 \nL 69.163125 120.890091 \nL 88.693125 128.118162 \nL 108.223125 131.768145 \n\" clip-path=\"url(#pe92d9c7d8b)\" style=\"fill: none; stroke-dasharray: 5.55,2.4; stroke-dashoffset: 0; stroke: #ff7f0e; stroke-width: 1.5\"/>\n   </g>\n   <g id=\"line2d_56\">\n    <path d=\"M 49.633125 102.711254 \nL 69.163125 93.8974 \nL 88.693125 91.473877 \nL 108.223125 90.582203 \n\" clip-path=\"url(#pe92d9c7d8b)\" style=\"fill: none; stroke-dasharray: 9.6,2.4,1.5,2.4; stroke-dashoffset: 0; stroke: #2ca02c; stroke-width: 1.5\"/>\n   </g>\n   <g id=\"line2d_57\">\n    <path d=\"M 34.923295 13.5 \nL 44.646742 86.307415 \nL 54.370189 101.318285 \nL 64.093636 110.968285 \nL 73.817082 117.223803 \nL 83.540529 120.71671 \nL 93.263976 124.171937 \nL 102.987423 126.325136 \nL 112.71087 128.732866 \n\" clip-path=\"url(#pe92d9c7d8b)\" style=\"fill: none; stroke: #1f77b4; stroke-width: 1.5; stroke-linecap: square\"/>\n   </g>\n   <g id=\"line2d_58\">\n    <path d=\"M 49.633125 101.348131 \nL 69.163125 120.890091 \nL 88.693125 128.118162 \nL 108.223125 131.768145 \n\" clip-path=\"url(#pe92d9c7d8b)\" style=\"fill: none; stroke-dasharray: 5.55,2.4; stroke-dashoffset: 0; stroke: #ff7f0e; stroke-width: 1.5\"/>\n   </g>\n   <g id=\"line2d_59\">\n    <path d=\"M 49.633125 102.711254 \nL 69.163125 93.8974 \nL 88.693125 91.473877 \nL 108.223125 90.582203 \n\" clip-path=\"url(#pe92d9c7d8b)\" style=\"fill: none; stroke-dasharray: 9.6,2.4,1.5,2.4; stroke-dashoffset: 0; stroke: #2ca02c; stroke-width: 1.5\"/>\n   </g>\n   <g id=\"line2d_60\">\n    <path d=\"M 34.923295 13.5 \nL 44.646742 86.307415 \nL 54.370189 101.318285 \nL 64.093636 110.968285 \nL 73.817082 117.223803 \nL 83.540529 120.71671 \nL 93.263976 124.171937 \nL 102.987423 126.325136 \nL 112.71087 128.732866 \nL 122.434316 129.177053 \n\" clip-path=\"url(#pe92d9c7d8b)\" style=\"fill: none; stroke: #1f77b4; stroke-width: 1.5; stroke-linecap: square\"/>\n   </g>\n   <g id=\"line2d_61\">\n    <path d=\"M 49.633125 101.348131 \nL 69.163125 120.890091 \nL 88.693125 128.118162 \nL 108.223125 131.768145 \n\" clip-path=\"url(#pe92d9c7d8b)\" style=\"fill: none; stroke-dasharray: 5.55,2.4; stroke-dashoffset: 0; stroke: #ff7f0e; stroke-width: 1.5\"/>\n   </g>\n   <g id=\"line2d_62\">\n    <path d=\"M 49.633125 102.711254 \nL 69.163125 93.8974 \nL 88.693125 91.473877 \nL 108.223125 90.582203 \n\" clip-path=\"url(#pe92d9c7d8b)\" style=\"fill: none; stroke-dasharray: 9.6,2.4,1.5,2.4; stroke-dashoffset: 0; stroke: #2ca02c; stroke-width: 1.5\"/>\n   </g>\n   <g id=\"line2d_63\">\n    <path d=\"M 34.923295 13.5 \nL 44.646742 86.307415 \nL 54.370189 101.318285 \nL 64.093636 110.968285 \nL 73.817082 117.223803 \nL 83.540529 120.71671 \nL 93.263976 124.171937 \nL 102.987423 126.325136 \nL 112.71087 128.732866 \nL 122.434316 129.177053 \n\" clip-path=\"url(#pe92d9c7d8b)\" style=\"fill: none; stroke: #1f77b4; stroke-width: 1.5; stroke-linecap: square\"/>\n   </g>\n   <g id=\"line2d_64\">\n    <path d=\"M 49.633125 101.348131 \nL 69.163125 120.890091 \nL 88.693125 128.118162 \nL 108.223125 131.768145 \nL 127.753125 132.095273 \n\" clip-path=\"url(#pe92d9c7d8b)\" style=\"fill: none; stroke-dasharray: 5.55,2.4; stroke-dashoffset: 0; stroke: #ff7f0e; stroke-width: 1.5\"/>\n   </g>\n   <g id=\"line2d_65\">\n    <path d=\"M 49.633125 102.711254 \nL 69.163125 93.8974 \nL 88.693125 91.473877 \nL 108.223125 90.582203 \n\" clip-path=\"url(#pe92d9c7d8b)\" style=\"fill: none; stroke-dasharray: 9.6,2.4,1.5,2.4; stroke-dashoffset: 0; stroke: #2ca02c; stroke-width: 1.5\"/>\n   </g>\n   <g id=\"line2d_66\">\n    <path d=\"M 34.923295 13.5 \nL 44.646742 86.307415 \nL 54.370189 101.318285 \nL 64.093636 110.968285 \nL 73.817082 117.223803 \nL 83.540529 120.71671 \nL 93.263976 124.171937 \nL 102.987423 126.325136 \nL 112.71087 128.732866 \nL 122.434316 129.177053 \n\" clip-path=\"url(#pe92d9c7d8b)\" style=\"fill: none; stroke: #1f77b4; stroke-width: 1.5; stroke-linecap: square\"/>\n   </g>\n   <g id=\"line2d_67\">\n    <path d=\"M 49.633125 101.348131 \nL 69.163125 120.890091 \nL 88.693125 128.118162 \nL 108.223125 131.768145 \nL 127.753125 132.095273 \n\" clip-path=\"url(#pe92d9c7d8b)\" style=\"fill: none; stroke-dasharray: 5.55,2.4; stroke-dashoffset: 0; stroke: #ff7f0e; stroke-width: 1.5\"/>\n   </g>\n   <g id=\"line2d_68\">\n    <path d=\"M 49.633125 102.711254 \nL 69.163125 93.8974 \nL 88.693125 91.473877 \nL 108.223125 90.582203 \nL 127.753125 90.513612 \n\" clip-path=\"url(#pe92d9c7d8b)\" style=\"fill: none; stroke-dasharray: 9.6,2.4,1.5,2.4; stroke-dashoffset: 0; stroke: #2ca02c; stroke-width: 1.5\"/>\n   </g>\n   <g id=\"line2d_69\">\n    <path d=\"M 34.923295 13.5 \nL 44.646742 86.307415 \nL 54.370189 101.318285 \nL 64.093636 110.968285 \nL 73.817082 117.223803 \nL 83.540529 120.71671 \nL 93.263976 124.171937 \nL 102.987423 126.325136 \nL 112.71087 128.732866 \nL 122.434316 129.177053 \nL 132.157763 131.734236 \n\" clip-path=\"url(#pe92d9c7d8b)\" style=\"fill: none; stroke: #1f77b4; stroke-width: 1.5; stroke-linecap: square\"/>\n   </g>\n   <g id=\"line2d_70\">\n    <path d=\"M 49.633125 101.348131 \nL 69.163125 120.890091 \nL 88.693125 128.118162 \nL 108.223125 131.768145 \nL 127.753125 132.095273 \n\" clip-path=\"url(#pe92d9c7d8b)\" style=\"fill: none; stroke-dasharray: 5.55,2.4; stroke-dashoffset: 0; stroke: #ff7f0e; stroke-width: 1.5\"/>\n   </g>\n   <g id=\"line2d_71\">\n    <path d=\"M 49.633125 102.711254 \nL 69.163125 93.8974 \nL 88.693125 91.473877 \nL 108.223125 90.582203 \nL 127.753125 90.513612 \n\" clip-path=\"url(#pe92d9c7d8b)\" style=\"fill: none; stroke-dasharray: 9.6,2.4,1.5,2.4; stroke-dashoffset: 0; stroke: #2ca02c; stroke-width: 1.5\"/>\n   </g>\n   <g id=\"line2d_72\">\n    <path d=\"M 34.923295 13.5 \nL 44.646742 86.307415 \nL 54.370189 101.318285 \nL 64.093636 110.968285 \nL 73.817082 117.223803 \nL 83.540529 120.71671 \nL 93.263976 124.171937 \nL 102.987423 126.325136 \nL 112.71087 128.732866 \nL 122.434316 129.177053 \nL 132.157763 131.734236 \nL 141.88121 132.408424 \n\" clip-path=\"url(#pe92d9c7d8b)\" style=\"fill: none; stroke: #1f77b4; stroke-width: 1.5; stroke-linecap: square\"/>\n   </g>\n   <g id=\"line2d_73\">\n    <path d=\"M 49.633125 101.348131 \nL 69.163125 120.890091 \nL 88.693125 128.118162 \nL 108.223125 131.768145 \nL 127.753125 132.095273 \n\" clip-path=\"url(#pe92d9c7d8b)\" style=\"fill: none; stroke-dasharray: 5.55,2.4; stroke-dashoffset: 0; stroke: #ff7f0e; stroke-width: 1.5\"/>\n   </g>\n   <g id=\"line2d_74\">\n    <path d=\"M 49.633125 102.711254 \nL 69.163125 93.8974 \nL 88.693125 91.473877 \nL 108.223125 90.582203 \nL 127.753125 90.513612 \n\" clip-path=\"url(#pe92d9c7d8b)\" style=\"fill: none; stroke-dasharray: 9.6,2.4,1.5,2.4; stroke-dashoffset: 0; stroke: #2ca02c; stroke-width: 1.5\"/>\n   </g>\n   <g id=\"line2d_75\">\n    <path d=\"M 34.923295 13.5 \nL 44.646742 86.307415 \nL 54.370189 101.318285 \nL 64.093636 110.968285 \nL 73.817082 117.223803 \nL 83.540529 120.71671 \nL 93.263976 124.171937 \nL 102.987423 126.325136 \nL 112.71087 128.732866 \nL 122.434316 129.177053 \nL 132.157763 131.734236 \nL 141.88121 132.408424 \n\" clip-path=\"url(#pe92d9c7d8b)\" style=\"fill: none; stroke: #1f77b4; stroke-width: 1.5; stroke-linecap: square\"/>\n   </g>\n   <g id=\"line2d_76\">\n    <path d=\"M 49.633125 101.348131 \nL 69.163125 120.890091 \nL 88.693125 128.118162 \nL 108.223125 131.768145 \nL 127.753125 132.095273 \nL 147.283125 136.529933 \n\" clip-path=\"url(#pe92d9c7d8b)\" style=\"fill: none; stroke-dasharray: 5.55,2.4; stroke-dashoffset: 0; stroke: #ff7f0e; stroke-width: 1.5\"/>\n   </g>\n   <g id=\"line2d_77\">\n    <path d=\"M 49.633125 102.711254 \nL 69.163125 93.8974 \nL 88.693125 91.473877 \nL 108.223125 90.582203 \nL 127.753125 90.513612 \n\" clip-path=\"url(#pe92d9c7d8b)\" style=\"fill: none; stroke-dasharray: 9.6,2.4,1.5,2.4; stroke-dashoffset: 0; stroke: #2ca02c; stroke-width: 1.5\"/>\n   </g>\n   <g id=\"line2d_78\">\n    <path d=\"M 34.923295 13.5 \nL 44.646742 86.307415 \nL 54.370189 101.318285 \nL 64.093636 110.968285 \nL 73.817082 117.223803 \nL 83.540529 120.71671 \nL 93.263976 124.171937 \nL 102.987423 126.325136 \nL 112.71087 128.732866 \nL 122.434316 129.177053 \nL 132.157763 131.734236 \nL 141.88121 132.408424 \n\" clip-path=\"url(#pe92d9c7d8b)\" style=\"fill: none; stroke: #1f77b4; stroke-width: 1.5; stroke-linecap: square\"/>\n   </g>\n   <g id=\"line2d_79\">\n    <path d=\"M 49.633125 101.348131 \nL 69.163125 120.890091 \nL 88.693125 128.118162 \nL 108.223125 131.768145 \nL 127.753125 132.095273 \nL 147.283125 136.529933 \n\" clip-path=\"url(#pe92d9c7d8b)\" style=\"fill: none; stroke-dasharray: 5.55,2.4; stroke-dashoffset: 0; stroke: #ff7f0e; stroke-width: 1.5\"/>\n   </g>\n   <g id=\"line2d_80\">\n    <path d=\"M 49.633125 102.711254 \nL 69.163125 93.8974 \nL 88.693125 91.473877 \nL 108.223125 90.582203 \nL 127.753125 90.513612 \nL 147.283125 88.593084 \n\" clip-path=\"url(#pe92d9c7d8b)\" style=\"fill: none; stroke-dasharray: 9.6,2.4,1.5,2.4; stroke-dashoffset: 0; stroke: #2ca02c; stroke-width: 1.5\"/>\n   </g>\n   <g id=\"line2d_81\">\n    <path d=\"M 34.923295 13.5 \nL 44.646742 86.307415 \nL 54.370189 101.318285 \nL 64.093636 110.968285 \nL 73.817082 117.223803 \nL 83.540529 120.71671 \nL 93.263976 124.171937 \nL 102.987423 126.325136 \nL 112.71087 128.732866 \nL 122.434316 129.177053 \nL 132.157763 131.734236 \nL 141.88121 132.408424 \nL 151.604657 133.347964 \n\" clip-path=\"url(#pe92d9c7d8b)\" style=\"fill: none; stroke: #1f77b4; stroke-width: 1.5; stroke-linecap: square\"/>\n   </g>\n   <g id=\"line2d_82\">\n    <path d=\"M 49.633125 101.348131 \nL 69.163125 120.890091 \nL 88.693125 128.118162 \nL 108.223125 131.768145 \nL 127.753125 132.095273 \nL 147.283125 136.529933 \n\" clip-path=\"url(#pe92d9c7d8b)\" style=\"fill: none; stroke-dasharray: 5.55,2.4; stroke-dashoffset: 0; stroke: #ff7f0e; stroke-width: 1.5\"/>\n   </g>\n   <g id=\"line2d_83\">\n    <path d=\"M 49.633125 102.711254 \nL 69.163125 93.8974 \nL 88.693125 91.473877 \nL 108.223125 90.582203 \nL 127.753125 90.513612 \nL 147.283125 88.593084 \n\" clip-path=\"url(#pe92d9c7d8b)\" style=\"fill: none; stroke-dasharray: 9.6,2.4,1.5,2.4; stroke-dashoffset: 0; stroke: #2ca02c; stroke-width: 1.5\"/>\n   </g>\n   <g id=\"line2d_84\">\n    <path d=\"M 34.923295 13.5 \nL 44.646742 86.307415 \nL 54.370189 101.318285 \nL 64.093636 110.968285 \nL 73.817082 117.223803 \nL 83.540529 120.71671 \nL 93.263976 124.171937 \nL 102.987423 126.325136 \nL 112.71087 128.732866 \nL 122.434316 129.177053 \nL 132.157763 131.734236 \nL 141.88121 132.408424 \nL 151.604657 133.347964 \nL 161.328104 134.741661 \n\" clip-path=\"url(#pe92d9c7d8b)\" style=\"fill: none; stroke: #1f77b4; stroke-width: 1.5; stroke-linecap: square\"/>\n   </g>\n   <g id=\"line2d_85\">\n    <path d=\"M 49.633125 101.348131 \nL 69.163125 120.890091 \nL 88.693125 128.118162 \nL 108.223125 131.768145 \nL 127.753125 132.095273 \nL 147.283125 136.529933 \n\" clip-path=\"url(#pe92d9c7d8b)\" style=\"fill: none; stroke-dasharray: 5.55,2.4; stroke-dashoffset: 0; stroke: #ff7f0e; stroke-width: 1.5\"/>\n   </g>\n   <g id=\"line2d_86\">\n    <path d=\"M 49.633125 102.711254 \nL 69.163125 93.8974 \nL 88.693125 91.473877 \nL 108.223125 90.582203 \nL 127.753125 90.513612 \nL 147.283125 88.593084 \n\" clip-path=\"url(#pe92d9c7d8b)\" style=\"fill: none; stroke-dasharray: 9.6,2.4,1.5,2.4; stroke-dashoffset: 0; stroke: #2ca02c; stroke-width: 1.5\"/>\n   </g>\n   <g id=\"line2d_87\">\n    <path d=\"M 34.923295 13.5 \nL 44.646742 86.307415 \nL 54.370189 101.318285 \nL 64.093636 110.968285 \nL 73.817082 117.223803 \nL 83.540529 120.71671 \nL 93.263976 124.171937 \nL 102.987423 126.325136 \nL 112.71087 128.732866 \nL 122.434316 129.177053 \nL 132.157763 131.734236 \nL 141.88121 132.408424 \nL 151.604657 133.347964 \nL 161.328104 134.741661 \n\" clip-path=\"url(#pe92d9c7d8b)\" style=\"fill: none; stroke: #1f77b4; stroke-width: 1.5; stroke-linecap: square\"/>\n   </g>\n   <g id=\"line2d_88\">\n    <path d=\"M 49.633125 101.348131 \nL 69.163125 120.890091 \nL 88.693125 128.118162 \nL 108.223125 131.768145 \nL 127.753125 132.095273 \nL 147.283125 136.529933 \nL 166.813125 136.173204 \n\" clip-path=\"url(#pe92d9c7d8b)\" style=\"fill: none; stroke-dasharray: 5.55,2.4; stroke-dashoffset: 0; stroke: #ff7f0e; stroke-width: 1.5\"/>\n   </g>\n   <g id=\"line2d_89\">\n    <path d=\"M 49.633125 102.711254 \nL 69.163125 93.8974 \nL 88.693125 91.473877 \nL 108.223125 90.582203 \nL 127.753125 90.513612 \nL 147.283125 88.593084 \n\" clip-path=\"url(#pe92d9c7d8b)\" style=\"fill: none; stroke-dasharray: 9.6,2.4,1.5,2.4; stroke-dashoffset: 0; stroke: #2ca02c; stroke-width: 1.5\"/>\n   </g>\n   <g id=\"line2d_90\">\n    <path d=\"M 34.923295 13.5 \nL 44.646742 86.307415 \nL 54.370189 101.318285 \nL 64.093636 110.968285 \nL 73.817082 117.223803 \nL 83.540529 120.71671 \nL 93.263976 124.171937 \nL 102.987423 126.325136 \nL 112.71087 128.732866 \nL 122.434316 129.177053 \nL 132.157763 131.734236 \nL 141.88121 132.408424 \nL 151.604657 133.347964 \nL 161.328104 134.741661 \n\" clip-path=\"url(#pe92d9c7d8b)\" style=\"fill: none; stroke: #1f77b4; stroke-width: 1.5; stroke-linecap: square\"/>\n   </g>\n   <g id=\"line2d_91\">\n    <path d=\"M 49.633125 101.348131 \nL 69.163125 120.890091 \nL 88.693125 128.118162 \nL 108.223125 131.768145 \nL 127.753125 132.095273 \nL 147.283125 136.529933 \nL 166.813125 136.173204 \n\" clip-path=\"url(#pe92d9c7d8b)\" style=\"fill: none; stroke-dasharray: 5.55,2.4; stroke-dashoffset: 0; stroke: #ff7f0e; stroke-width: 1.5\"/>\n   </g>\n   <g id=\"line2d_92\">\n    <path d=\"M 49.633125 102.711254 \nL 69.163125 93.8974 \nL 88.693125 91.473877 \nL 108.223125 90.582203 \nL 127.753125 90.513612 \nL 147.283125 88.593084 \nL 166.813125 88.844582 \n\" clip-path=\"url(#pe92d9c7d8b)\" style=\"fill: none; stroke-dasharray: 9.6,2.4,1.5,2.4; stroke-dashoffset: 0; stroke: #2ca02c; stroke-width: 1.5\"/>\n   </g>\n   <g id=\"line2d_93\">\n    <path d=\"M 34.923295 13.5 \nL 44.646742 86.307415 \nL 54.370189 101.318285 \nL 64.093636 110.968285 \nL 73.817082 117.223803 \nL 83.540529 120.71671 \nL 93.263976 124.171937 \nL 102.987423 126.325136 \nL 112.71087 128.732866 \nL 122.434316 129.177053 \nL 132.157763 131.734236 \nL 141.88121 132.408424 \nL 151.604657 133.347964 \nL 161.328104 134.741661 \nL 171.051551 135.460675 \n\" clip-path=\"url(#pe92d9c7d8b)\" style=\"fill: none; stroke: #1f77b4; stroke-width: 1.5; stroke-linecap: square\"/>\n   </g>\n   <g id=\"line2d_94\">\n    <path d=\"M 49.633125 101.348131 \nL 69.163125 120.890091 \nL 88.693125 128.118162 \nL 108.223125 131.768145 \nL 127.753125 132.095273 \nL 147.283125 136.529933 \nL 166.813125 136.173204 \n\" clip-path=\"url(#pe92d9c7d8b)\" style=\"fill: none; stroke-dasharray: 5.55,2.4; stroke-dashoffset: 0; stroke: #ff7f0e; stroke-width: 1.5\"/>\n   </g>\n   <g id=\"line2d_95\">\n    <path d=\"M 49.633125 102.711254 \nL 69.163125 93.8974 \nL 88.693125 91.473877 \nL 108.223125 90.582203 \nL 127.753125 90.513612 \nL 147.283125 88.593084 \nL 166.813125 88.844582 \n\" clip-path=\"url(#pe92d9c7d8b)\" style=\"fill: none; stroke-dasharray: 9.6,2.4,1.5,2.4; stroke-dashoffset: 0; stroke: #2ca02c; stroke-width: 1.5\"/>\n   </g>\n   <g id=\"line2d_96\">\n    <path d=\"M 34.923295 13.5 \nL 44.646742 86.307415 \nL 54.370189 101.318285 \nL 64.093636 110.968285 \nL 73.817082 117.223803 \nL 83.540529 120.71671 \nL 93.263976 124.171937 \nL 102.987423 126.325136 \nL 112.71087 128.732866 \nL 122.434316 129.177053 \nL 132.157763 131.734236 \nL 141.88121 132.408424 \nL 151.604657 133.347964 \nL 161.328104 134.741661 \nL 171.051551 135.460675 \nL 180.774997 135.476042 \n\" clip-path=\"url(#pe92d9c7d8b)\" style=\"fill: none; stroke: #1f77b4; stroke-width: 1.5; stroke-linecap: square\"/>\n   </g>\n   <g id=\"line2d_97\">\n    <path d=\"M 49.633125 101.348131 \nL 69.163125 120.890091 \nL 88.693125 128.118162 \nL 108.223125 131.768145 \nL 127.753125 132.095273 \nL 147.283125 136.529933 \nL 166.813125 136.173204 \n\" clip-path=\"url(#pe92d9c7d8b)\" style=\"fill: none; stroke-dasharray: 5.55,2.4; stroke-dashoffset: 0; stroke: #ff7f0e; stroke-width: 1.5\"/>\n   </g>\n   <g id=\"line2d_98\">\n    <path d=\"M 49.633125 102.711254 \nL 69.163125 93.8974 \nL 88.693125 91.473877 \nL 108.223125 90.582203 \nL 127.753125 90.513612 \nL 147.283125 88.593084 \nL 166.813125 88.844582 \n\" clip-path=\"url(#pe92d9c7d8b)\" style=\"fill: none; stroke-dasharray: 9.6,2.4,1.5,2.4; stroke-dashoffset: 0; stroke: #2ca02c; stroke-width: 1.5\"/>\n   </g>\n   <g id=\"line2d_99\">\n    <path d=\"M 34.923295 13.5 \nL 44.646742 86.307415 \nL 54.370189 101.318285 \nL 64.093636 110.968285 \nL 73.817082 117.223803 \nL 83.540529 120.71671 \nL 93.263976 124.171937 \nL 102.987423 126.325136 \nL 112.71087 128.732866 \nL 122.434316 129.177053 \nL 132.157763 131.734236 \nL 141.88121 132.408424 \nL 151.604657 133.347964 \nL 161.328104 134.741661 \nL 171.051551 135.460675 \nL 180.774997 135.476042 \n\" clip-path=\"url(#pe92d9c7d8b)\" style=\"fill: none; stroke: #1f77b4; stroke-width: 1.5; stroke-linecap: square\"/>\n   </g>\n   <g id=\"line2d_100\">\n    <path d=\"M 49.633125 101.348131 \nL 69.163125 120.890091 \nL 88.693125 128.118162 \nL 108.223125 131.768145 \nL 127.753125 132.095273 \nL 147.283125 136.529933 \nL 166.813125 136.173204 \nL 186.343125 138.210598 \n\" clip-path=\"url(#pe92d9c7d8b)\" style=\"fill: none; stroke-dasharray: 5.55,2.4; stroke-dashoffset: 0; stroke: #ff7f0e; stroke-width: 1.5\"/>\n   </g>\n   <g id=\"line2d_101\">\n    <path d=\"M 49.633125 102.711254 \nL 69.163125 93.8974 \nL 88.693125 91.473877 \nL 108.223125 90.582203 \nL 127.753125 90.513612 \nL 147.283125 88.593084 \nL 166.813125 88.844582 \n\" clip-path=\"url(#pe92d9c7d8b)\" style=\"fill: none; stroke-dasharray: 9.6,2.4,1.5,2.4; stroke-dashoffset: 0; stroke: #2ca02c; stroke-width: 1.5\"/>\n   </g>\n   <g id=\"line2d_102\">\n    <path d=\"M 34.923295 13.5 \nL 44.646742 86.307415 \nL 54.370189 101.318285 \nL 64.093636 110.968285 \nL 73.817082 117.223803 \nL 83.540529 120.71671 \nL 93.263976 124.171937 \nL 102.987423 126.325136 \nL 112.71087 128.732866 \nL 122.434316 129.177053 \nL 132.157763 131.734236 \nL 141.88121 132.408424 \nL 151.604657 133.347964 \nL 161.328104 134.741661 \nL 171.051551 135.460675 \nL 180.774997 135.476042 \n\" clip-path=\"url(#pe92d9c7d8b)\" style=\"fill: none; stroke: #1f77b4; stroke-width: 1.5; stroke-linecap: square\"/>\n   </g>\n   <g id=\"line2d_103\">\n    <path d=\"M 49.633125 101.348131 \nL 69.163125 120.890091 \nL 88.693125 128.118162 \nL 108.223125 131.768145 \nL 127.753125 132.095273 \nL 147.283125 136.529933 \nL 166.813125 136.173204 \nL 186.343125 138.210598 \n\" clip-path=\"url(#pe92d9c7d8b)\" style=\"fill: none; stroke-dasharray: 5.55,2.4; stroke-dashoffset: 0; stroke: #ff7f0e; stroke-width: 1.5\"/>\n   </g>\n   <g id=\"line2d_104\">\n    <path d=\"M 49.633125 102.711254 \nL 69.163125 93.8974 \nL 88.693125 91.473877 \nL 108.223125 90.582203 \nL 127.753125 90.513612 \nL 147.283125 88.593084 \nL 166.813125 88.844582 \nL 186.343125 87.907181 \n\" clip-path=\"url(#pe92d9c7d8b)\" style=\"fill: none; stroke-dasharray: 9.6,2.4,1.5,2.4; stroke-dashoffset: 0; stroke: #2ca02c; stroke-width: 1.5\"/>\n   </g>\n   <g id=\"line2d_105\">\n    <path d=\"M 34.923295 13.5 \nL 44.646742 86.307415 \nL 54.370189 101.318285 \nL 64.093636 110.968285 \nL 73.817082 117.223803 \nL 83.540529 120.71671 \nL 93.263976 124.171937 \nL 102.987423 126.325136 \nL 112.71087 128.732866 \nL 122.434316 129.177053 \nL 132.157763 131.734236 \nL 141.88121 132.408424 \nL 151.604657 133.347964 \nL 161.328104 134.741661 \nL 171.051551 135.460675 \nL 180.774997 135.476042 \nL 190.498444 137.081269 \n\" clip-path=\"url(#pe92d9c7d8b)\" style=\"fill: none; stroke: #1f77b4; stroke-width: 1.5; stroke-linecap: square\"/>\n   </g>\n   <g id=\"line2d_106\">\n    <path d=\"M 49.633125 101.348131 \nL 69.163125 120.890091 \nL 88.693125 128.118162 \nL 108.223125 131.768145 \nL 127.753125 132.095273 \nL 147.283125 136.529933 \nL 166.813125 136.173204 \nL 186.343125 138.210598 \n\" clip-path=\"url(#pe92d9c7d8b)\" style=\"fill: none; stroke-dasharray: 5.55,2.4; stroke-dashoffset: 0; stroke: #ff7f0e; stroke-width: 1.5\"/>\n   </g>\n   <g id=\"line2d_107\">\n    <path d=\"M 49.633125 102.711254 \nL 69.163125 93.8974 \nL 88.693125 91.473877 \nL 108.223125 90.582203 \nL 127.753125 90.513612 \nL 147.283125 88.593084 \nL 166.813125 88.844582 \nL 186.343125 87.907181 \n\" clip-path=\"url(#pe92d9c7d8b)\" style=\"fill: none; stroke-dasharray: 9.6,2.4,1.5,2.4; stroke-dashoffset: 0; stroke: #2ca02c; stroke-width: 1.5\"/>\n   </g>\n   <g id=\"line2d_108\">\n    <path d=\"M 34.923295 13.5 \nL 44.646742 86.307415 \nL 54.370189 101.318285 \nL 64.093636 110.968285 \nL 73.817082 117.223803 \nL 83.540529 120.71671 \nL 93.263976 124.171937 \nL 102.987423 126.325136 \nL 112.71087 128.732866 \nL 122.434316 129.177053 \nL 132.157763 131.734236 \nL 141.88121 132.408424 \nL 151.604657 133.347964 \nL 161.328104 134.741661 \nL 171.051551 135.460675 \nL 180.774997 135.476042 \nL 190.498444 137.081269 \nL 200.221891 137.077606 \n\" clip-path=\"url(#pe92d9c7d8b)\" style=\"fill: none; stroke: #1f77b4; stroke-width: 1.5; stroke-linecap: square\"/>\n   </g>\n   <g id=\"line2d_109\">\n    <path d=\"M 49.633125 101.348131 \nL 69.163125 120.890091 \nL 88.693125 128.118162 \nL 108.223125 131.768145 \nL 127.753125 132.095273 \nL 147.283125 136.529933 \nL 166.813125 136.173204 \nL 186.343125 138.210598 \n\" clip-path=\"url(#pe92d9c7d8b)\" style=\"fill: none; stroke-dasharray: 5.55,2.4; stroke-dashoffset: 0; stroke: #ff7f0e; stroke-width: 1.5\"/>\n   </g>\n   <g id=\"line2d_110\">\n    <path d=\"M 49.633125 102.711254 \nL 69.163125 93.8974 \nL 88.693125 91.473877 \nL 108.223125 90.582203 \nL 127.753125 90.513612 \nL 147.283125 88.593084 \nL 166.813125 88.844582 \nL 186.343125 87.907181 \n\" clip-path=\"url(#pe92d9c7d8b)\" style=\"fill: none; stroke-dasharray: 9.6,2.4,1.5,2.4; stroke-dashoffset: 0; stroke: #2ca02c; stroke-width: 1.5\"/>\n   </g>\n   <g id=\"line2d_111\">\n    <path d=\"M 34.923295 13.5 \nL 44.646742 86.307415 \nL 54.370189 101.318285 \nL 64.093636 110.968285 \nL 73.817082 117.223803 \nL 83.540529 120.71671 \nL 93.263976 124.171937 \nL 102.987423 126.325136 \nL 112.71087 128.732866 \nL 122.434316 129.177053 \nL 132.157763 131.734236 \nL 141.88121 132.408424 \nL 151.604657 133.347964 \nL 161.328104 134.741661 \nL 171.051551 135.460675 \nL 180.774997 135.476042 \nL 190.498444 137.081269 \nL 200.221891 137.077606 \n\" clip-path=\"url(#pe92d9c7d8b)\" style=\"fill: none; stroke: #1f77b4; stroke-width: 1.5; stroke-linecap: square\"/>\n   </g>\n   <g id=\"line2d_112\">\n    <path d=\"M 49.633125 101.348131 \nL 69.163125 120.890091 \nL 88.693125 128.118162 \nL 108.223125 131.768145 \nL 127.753125 132.095273 \nL 147.283125 136.529933 \nL 166.813125 136.173204 \nL 186.343125 138.210598 \nL 205.873125 139.5 \n\" clip-path=\"url(#pe92d9c7d8b)\" style=\"fill: none; stroke-dasharray: 5.55,2.4; stroke-dashoffset: 0; stroke: #ff7f0e; stroke-width: 1.5\"/>\n   </g>\n   <g id=\"line2d_113\">\n    <path d=\"M 49.633125 102.711254 \nL 69.163125 93.8974 \nL 88.693125 91.473877 \nL 108.223125 90.582203 \nL 127.753125 90.513612 \nL 147.283125 88.593084 \nL 166.813125 88.844582 \nL 186.343125 87.907181 \n\" clip-path=\"url(#pe92d9c7d8b)\" style=\"fill: none; stroke-dasharray: 9.6,2.4,1.5,2.4; stroke-dashoffset: 0; stroke: #2ca02c; stroke-width: 1.5\"/>\n   </g>\n   <g id=\"line2d_114\">\n    <path d=\"M 34.923295 13.5 \nL 44.646742 86.307415 \nL 54.370189 101.318285 \nL 64.093636 110.968285 \nL 73.817082 117.223803 \nL 83.540529 120.71671 \nL 93.263976 124.171937 \nL 102.987423 126.325136 \nL 112.71087 128.732866 \nL 122.434316 129.177053 \nL 132.157763 131.734236 \nL 141.88121 132.408424 \nL 151.604657 133.347964 \nL 161.328104 134.741661 \nL 171.051551 135.460675 \nL 180.774997 135.476042 \nL 190.498444 137.081269 \nL 200.221891 137.077606 \n\" clip-path=\"url(#pe92d9c7d8b)\" style=\"fill: none; stroke: #1f77b4; stroke-width: 1.5; stroke-linecap: square\"/>\n   </g>\n   <g id=\"line2d_115\">\n    <path d=\"M 49.633125 101.348131 \nL 69.163125 120.890091 \nL 88.693125 128.118162 \nL 108.223125 131.768145 \nL 127.753125 132.095273 \nL 147.283125 136.529933 \nL 166.813125 136.173204 \nL 186.343125 138.210598 \nL 205.873125 139.5 \n\" clip-path=\"url(#pe92d9c7d8b)\" style=\"fill: none; stroke-dasharray: 5.55,2.4; stroke-dashoffset: 0; stroke: #ff7f0e; stroke-width: 1.5\"/>\n   </g>\n   <g id=\"line2d_116\">\n    <path d=\"M 49.633125 102.711254 \nL 69.163125 93.8974 \nL 88.693125 91.473877 \nL 108.223125 90.582203 \nL 127.753125 90.513612 \nL 147.283125 88.593084 \nL 166.813125 88.844582 \nL 186.343125 87.907181 \nL 205.873125 87.335595 \n\" clip-path=\"url(#pe92d9c7d8b)\" style=\"fill: none; stroke-dasharray: 9.6,2.4,1.5,2.4; stroke-dashoffset: 0; stroke: #2ca02c; stroke-width: 1.5\"/>\n   </g>\n   <g id=\"line2d_117\">\n    <path d=\"M 34.923295 13.5 \nL 44.646742 86.307415 \nL 54.370189 101.318285 \nL 64.093636 110.968285 \nL 73.817082 117.223803 \nL 83.540529 120.71671 \nL 93.263976 124.171937 \nL 102.987423 126.325136 \nL 112.71087 128.732866 \nL 122.434316 129.177053 \nL 132.157763 131.734236 \nL 141.88121 132.408424 \nL 151.604657 133.347964 \nL 161.328104 134.741661 \nL 171.051551 135.460675 \nL 180.774997 135.476042 \nL 190.498444 137.081269 \nL 200.221891 137.077606 \nL 209.945338 138.736537 \n\" clip-path=\"url(#pe92d9c7d8b)\" style=\"fill: none; stroke: #1f77b4; stroke-width: 1.5; stroke-linecap: square\"/>\n   </g>\n   <g id=\"line2d_118\">\n    <path d=\"M 49.633125 101.348131 \nL 69.163125 120.890091 \nL 88.693125 128.118162 \nL 108.223125 131.768145 \nL 127.753125 132.095273 \nL 147.283125 136.529933 \nL 166.813125 136.173204 \nL 186.343125 138.210598 \nL 205.873125 139.5 \n\" clip-path=\"url(#pe92d9c7d8b)\" style=\"fill: none; stroke-dasharray: 5.55,2.4; stroke-dashoffset: 0; stroke: #ff7f0e; stroke-width: 1.5\"/>\n   </g>\n   <g id=\"line2d_119\">\n    <path d=\"M 49.633125 102.711254 \nL 69.163125 93.8974 \nL 88.693125 91.473877 \nL 108.223125 90.582203 \nL 127.753125 90.513612 \nL 147.283125 88.593084 \nL 166.813125 88.844582 \nL 186.343125 87.907181 \nL 205.873125 87.335595 \n\" clip-path=\"url(#pe92d9c7d8b)\" style=\"fill: none; stroke-dasharray: 9.6,2.4,1.5,2.4; stroke-dashoffset: 0; stroke: #2ca02c; stroke-width: 1.5\"/>\n   </g>\n   <g id=\"line2d_120\">\n    <path d=\"M 34.923295 13.5 \nL 44.646742 86.307415 \nL 54.370189 101.318285 \nL 64.093636 110.968285 \nL 73.817082 117.223803 \nL 83.540529 120.71671 \nL 93.263976 124.171937 \nL 102.987423 126.325136 \nL 112.71087 128.732866 \nL 122.434316 129.177053 \nL 132.157763 131.734236 \nL 141.88121 132.408424 \nL 151.604657 133.347964 \nL 161.328104 134.741661 \nL 171.051551 135.460675 \nL 180.774997 135.476042 \nL 190.498444 137.081269 \nL 200.221891 137.077606 \nL 209.945338 138.736537 \nL 219.668785 137.8138 \n\" clip-path=\"url(#pe92d9c7d8b)\" style=\"fill: none; stroke: #1f77b4; stroke-width: 1.5; stroke-linecap: square\"/>\n   </g>\n   <g id=\"line2d_121\">\n    <path d=\"M 49.633125 101.348131 \nL 69.163125 120.890091 \nL 88.693125 128.118162 \nL 108.223125 131.768145 \nL 127.753125 132.095273 \nL 147.283125 136.529933 \nL 166.813125 136.173204 \nL 186.343125 138.210598 \nL 205.873125 139.5 \n\" clip-path=\"url(#pe92d9c7d8b)\" style=\"fill: none; stroke-dasharray: 5.55,2.4; stroke-dashoffset: 0; stroke: #ff7f0e; stroke-width: 1.5\"/>\n   </g>\n   <g id=\"line2d_122\">\n    <path d=\"M 49.633125 102.711254 \nL 69.163125 93.8974 \nL 88.693125 91.473877 \nL 108.223125 90.582203 \nL 127.753125 90.513612 \nL 147.283125 88.593084 \nL 166.813125 88.844582 \nL 186.343125 87.907181 \nL 205.873125 87.335595 \n\" clip-path=\"url(#pe92d9c7d8b)\" style=\"fill: none; stroke-dasharray: 9.6,2.4,1.5,2.4; stroke-dashoffset: 0; stroke: #2ca02c; stroke-width: 1.5\"/>\n   </g>\n   <g id=\"line2d_123\">\n    <path d=\"M 34.923295 13.5 \nL 44.646742 86.307415 \nL 54.370189 101.318285 \nL 64.093636 110.968285 \nL 73.817082 117.223803 \nL 83.540529 120.71671 \nL 93.263976 124.171937 \nL 102.987423 126.325136 \nL 112.71087 128.732866 \nL 122.434316 129.177053 \nL 132.157763 131.734236 \nL 141.88121 132.408424 \nL 151.604657 133.347964 \nL 161.328104 134.741661 \nL 171.051551 135.460675 \nL 180.774997 135.476042 \nL 190.498444 137.081269 \nL 200.221891 137.077606 \nL 209.945338 138.736537 \nL 219.668785 137.8138 \n\" clip-path=\"url(#pe92d9c7d8b)\" style=\"fill: none; stroke: #1f77b4; stroke-width: 1.5; stroke-linecap: square\"/>\n   </g>\n   <g id=\"line2d_124\">\n    <path d=\"M 49.633125 101.348131 \nL 69.163125 120.890091 \nL 88.693125 128.118162 \nL 108.223125 131.768145 \nL 127.753125 132.095273 \nL 147.283125 136.529933 \nL 166.813125 136.173204 \nL 186.343125 138.210598 \nL 205.873125 139.5 \nL 225.403125 138.094623 \n\" clip-path=\"url(#pe92d9c7d8b)\" style=\"fill: none; stroke-dasharray: 5.55,2.4; stroke-dashoffset: 0; stroke: #ff7f0e; stroke-width: 1.5\"/>\n   </g>\n   <g id=\"line2d_125\">\n    <path d=\"M 49.633125 102.711254 \nL 69.163125 93.8974 \nL 88.693125 91.473877 \nL 108.223125 90.582203 \nL 127.753125 90.513612 \nL 147.283125 88.593084 \nL 166.813125 88.844582 \nL 186.343125 87.907181 \nL 205.873125 87.335595 \n\" clip-path=\"url(#pe92d9c7d8b)\" style=\"fill: none; stroke-dasharray: 9.6,2.4,1.5,2.4; stroke-dashoffset: 0; stroke: #2ca02c; stroke-width: 1.5\"/>\n   </g>\n   <g id=\"line2d_126\">\n    <path d=\"M 34.923295 13.5 \nL 44.646742 86.307415 \nL 54.370189 101.318285 \nL 64.093636 110.968285 \nL 73.817082 117.223803 \nL 83.540529 120.71671 \nL 93.263976 124.171937 \nL 102.987423 126.325136 \nL 112.71087 128.732866 \nL 122.434316 129.177053 \nL 132.157763 131.734236 \nL 141.88121 132.408424 \nL 151.604657 133.347964 \nL 161.328104 134.741661 \nL 171.051551 135.460675 \nL 180.774997 135.476042 \nL 190.498444 137.081269 \nL 200.221891 137.077606 \nL 209.945338 138.736537 \nL 219.668785 137.8138 \n\" clip-path=\"url(#pe92d9c7d8b)\" style=\"fill: none; stroke: #1f77b4; stroke-width: 1.5; stroke-linecap: square\"/>\n   </g>\n   <g id=\"line2d_127\">\n    <path d=\"M 49.633125 101.348131 \nL 69.163125 120.890091 \nL 88.693125 128.118162 \nL 108.223125 131.768145 \nL 127.753125 132.095273 \nL 147.283125 136.529933 \nL 166.813125 136.173204 \nL 186.343125 138.210598 \nL 205.873125 139.5 \nL 225.403125 138.094623 \n\" clip-path=\"url(#pe92d9c7d8b)\" style=\"fill: none; stroke-dasharray: 5.55,2.4; stroke-dashoffset: 0; stroke: #ff7f0e; stroke-width: 1.5\"/>\n   </g>\n   <g id=\"line2d_128\">\n    <path d=\"M 49.633125 102.711254 \nL 69.163125 93.8974 \nL 88.693125 91.473877 \nL 108.223125 90.582203 \nL 127.753125 90.513612 \nL 147.283125 88.593084 \nL 166.813125 88.844582 \nL 186.343125 87.907181 \nL 205.873125 87.335595 \nL 225.403125 88.215837 \n\" clip-path=\"url(#pe92d9c7d8b)\" style=\"fill: none; stroke-dasharray: 9.6,2.4,1.5,2.4; stroke-dashoffset: 0; stroke: #2ca02c; stroke-width: 1.5\"/>\n   </g>\n   <g id=\"patch_3\">\n    <path d=\"M 30.103125 145.8 \nL 30.103125 7.2 \n\" style=\"fill: none; stroke: #000000; stroke-width: 0.8; stroke-linejoin: miter; stroke-linecap: square\"/>\n   </g>\n   <g id=\"patch_4\">\n    <path d=\"M 225.403125 145.8 \nL 225.403125 7.2 \n\" style=\"fill: none; stroke: #000000; stroke-width: 0.8; stroke-linejoin: miter; stroke-linecap: square\"/>\n   </g>\n   <g id=\"patch_5\">\n    <path d=\"M 30.103125 145.8 \nL 225.403125 145.8 \n\" style=\"fill: none; stroke: #000000; stroke-width: 0.8; stroke-linejoin: miter; stroke-linecap: square\"/>\n   </g>\n   <g id=\"patch_6\">\n    <path d=\"M 30.103125 7.2 \nL 225.403125 7.2 \n\" style=\"fill: none; stroke: #000000; stroke-width: 0.8; stroke-linejoin: miter; stroke-linecap: square\"/>\n   </g>\n   <g id=\"legend_1\">\n    <g id=\"patch_7\">\n     <path d=\"M 138.8125 60.06875 \nL 218.403125 60.06875 \nQ 220.403125 60.06875 220.403125 58.06875 \nL 220.403125 14.2 \nQ 220.403125 12.2 218.403125 12.2 \nL 138.8125 12.2 \nQ 136.8125 12.2 136.8125 14.2 \nL 136.8125 58.06875 \nQ 136.8125 60.06875 138.8125 60.06875 \nz\n\" style=\"fill: #ffffff; opacity: 0.8; stroke: #cccccc; stroke-linejoin: miter\"/>\n    </g>\n    <g id=\"line2d_129\">\n     <path d=\"M 140.8125 20.298438 \nL 150.8125 20.298438 \nL 160.8125 20.298438 \n\" style=\"fill: none; stroke: #1f77b4; stroke-width: 1.5; stroke-linecap: square\"/>\n    </g>\n    <g id=\"text_14\">\n     <!-- train_loss -->\n     <g transform=\"translate(168.8125 23.798438) scale(0.1 -0.1)\">\n      <defs>\n       <path id=\"DejaVuSans-74\" d=\"M 1172 4494 \nL 1172 3500 \nL 2356 3500 \nL 2356 3053 \nL 1172 3053 \nL 1172 1153 \nQ 1172 725 1289 603 \nQ 1406 481 1766 481 \nL 2356 481 \nL 2356 0 \nL 1766 0 \nQ 1100 0 847 248 \nQ 594 497 594 1153 \nL 594 3053 \nL 172 3053 \nL 172 3500 \nL 594 3500 \nL 594 4494 \nL 1172 4494 \nz\n\" transform=\"scale(0.015625)\"/>\n       <path id=\"DejaVuSans-72\" d=\"M 2631 2963 \nQ 2534 3019 2420 3045 \nQ 2306 3072 2169 3072 \nQ 1681 3072 1420 2755 \nQ 1159 2438 1159 1844 \nL 1159 0 \nL 581 0 \nL 581 3500 \nL 1159 3500 \nL 1159 2956 \nQ 1341 3275 1631 3429 \nQ 1922 3584 2338 3584 \nQ 2397 3584 2469 3576 \nQ 2541 3569 2628 3553 \nL 2631 2963 \nz\n\" transform=\"scale(0.015625)\"/>\n       <path id=\"DejaVuSans-61\" d=\"M 2194 1759 \nQ 1497 1759 1228 1600 \nQ 959 1441 959 1056 \nQ 959 750 1161 570 \nQ 1363 391 1709 391 \nQ 2188 391 2477 730 \nQ 2766 1069 2766 1631 \nL 2766 1759 \nL 2194 1759 \nz\nM 3341 1997 \nL 3341 0 \nL 2766 0 \nL 2766 531 \nQ 2569 213 2275 61 \nQ 1981 -91 1556 -91 \nQ 1019 -91 701 211 \nQ 384 513 384 1019 \nQ 384 1609 779 1909 \nQ 1175 2209 1959 2209 \nL 2766 2209 \nL 2766 2266 \nQ 2766 2663 2505 2880 \nQ 2244 3097 1772 3097 \nQ 1472 3097 1187 3025 \nQ 903 2953 641 2809 \nL 641 3341 \nQ 956 3463 1253 3523 \nQ 1550 3584 1831 3584 \nQ 2591 3584 2966 3190 \nQ 3341 2797 3341 1997 \nz\n\" transform=\"scale(0.015625)\"/>\n       <path id=\"DejaVuSans-69\" d=\"M 603 3500 \nL 1178 3500 \nL 1178 0 \nL 603 0 \nL 603 3500 \nz\nM 603 4863 \nL 1178 4863 \nL 1178 4134 \nL 603 4134 \nL 603 4863 \nz\n\" transform=\"scale(0.015625)\"/>\n       <path id=\"DejaVuSans-6e\" d=\"M 3513 2113 \nL 3513 0 \nL 2938 0 \nL 2938 2094 \nQ 2938 2591 2744 2837 \nQ 2550 3084 2163 3084 \nQ 1697 3084 1428 2787 \nQ 1159 2491 1159 1978 \nL 1159 0 \nL 581 0 \nL 581 3500 \nL 1159 3500 \nL 1159 2956 \nQ 1366 3272 1645 3428 \nQ 1925 3584 2291 3584 \nQ 2894 3584 3203 3211 \nQ 3513 2838 3513 2113 \nz\n\" transform=\"scale(0.015625)\"/>\n       <path id=\"DejaVuSans-5f\" d=\"M 3263 -1063 \nL 3263 -1509 \nL -63 -1509 \nL -63 -1063 \nL 3263 -1063 \nz\n\" transform=\"scale(0.015625)\"/>\n       <path id=\"DejaVuSans-6c\" d=\"M 603 4863 \nL 1178 4863 \nL 1178 0 \nL 603 0 \nL 603 4863 \nz\n\" transform=\"scale(0.015625)\"/>\n       <path id=\"DejaVuSans-73\" d=\"M 2834 3397 \nL 2834 2853 \nQ 2591 2978 2328 3040 \nQ 2066 3103 1784 3103 \nQ 1356 3103 1142 2972 \nQ 928 2841 928 2578 \nQ 928 2378 1081 2264 \nQ 1234 2150 1697 2047 \nL 1894 2003 \nQ 2506 1872 2764 1633 \nQ 3022 1394 3022 966 \nQ 3022 478 2636 193 \nQ 2250 -91 1575 -91 \nQ 1294 -91 989 -36 \nQ 684 19 347 128 \nL 347 722 \nQ 666 556 975 473 \nQ 1284 391 1588 391 \nQ 1994 391 2212 530 \nQ 2431 669 2431 922 \nQ 2431 1156 2273 1281 \nQ 2116 1406 1581 1522 \nL 1381 1569 \nQ 847 1681 609 1914 \nQ 372 2147 372 2553 \nQ 372 3047 722 3315 \nQ 1072 3584 1716 3584 \nQ 2034 3584 2315 3537 \nQ 2597 3491 2834 3397 \nz\n\" transform=\"scale(0.015625)\"/>\n      </defs>\n      <use xlink:href=\"#DejaVuSans-74\"/>\n      <use xlink:href=\"#DejaVuSans-72\" x=\"39.208984\"/>\n      <use xlink:href=\"#DejaVuSans-61\" x=\"80.322266\"/>\n      <use xlink:href=\"#DejaVuSans-69\" x=\"141.601562\"/>\n      <use xlink:href=\"#DejaVuSans-6e\" x=\"169.384766\"/>\n      <use xlink:href=\"#DejaVuSans-5f\" x=\"232.763672\"/>\n      <use xlink:href=\"#DejaVuSans-6c\" x=\"282.763672\"/>\n      <use xlink:href=\"#DejaVuSans-6f\" x=\"310.546875\"/>\n      <use xlink:href=\"#DejaVuSans-73\" x=\"371.728516\"/>\n      <use xlink:href=\"#DejaVuSans-73\" x=\"423.828125\"/>\n     </g>\n    </g>\n    <g id=\"line2d_130\">\n     <path d=\"M 140.8125 35.254688 \nL 150.8125 35.254688 \nL 160.8125 35.254688 \n\" style=\"fill: none; stroke-dasharray: 5.55,2.4; stroke-dashoffset: 0; stroke: #ff7f0e; stroke-width: 1.5\"/>\n    </g>\n    <g id=\"text_15\">\n     <!-- val_loss -->\n     <g transform=\"translate(168.8125 38.754688) scale(0.1 -0.1)\">\n      <defs>\n       <path id=\"DejaVuSans-76\" d=\"M 191 3500 \nL 800 3500 \nL 1894 563 \nL 2988 3500 \nL 3597 3500 \nL 2284 0 \nL 1503 0 \nL 191 3500 \nz\n\" transform=\"scale(0.015625)\"/>\n      </defs>\n      <use xlink:href=\"#DejaVuSans-76\"/>\n      <use xlink:href=\"#DejaVuSans-61\" x=\"59.179688\"/>\n      <use xlink:href=\"#DejaVuSans-6c\" x=\"120.458984\"/>\n      <use xlink:href=\"#DejaVuSans-5f\" x=\"148.242188\"/>\n      <use xlink:href=\"#DejaVuSans-6c\" x=\"198.242188\"/>\n      <use xlink:href=\"#DejaVuSans-6f\" x=\"226.025391\"/>\n      <use xlink:href=\"#DejaVuSans-73\" x=\"287.207031\"/>\n      <use xlink:href=\"#DejaVuSans-73\" x=\"339.306641\"/>\n     </g>\n    </g>\n    <g id=\"line2d_131\">\n     <path d=\"M 140.8125 50.210938 \nL 150.8125 50.210938 \nL 160.8125 50.210938 \n\" style=\"fill: none; stroke-dasharray: 9.6,2.4,1.5,2.4; stroke-dashoffset: 0; stroke: #2ca02c; stroke-width: 1.5\"/>\n    </g>\n    <g id=\"text_16\">\n     <!-- val_acc -->\n     <g transform=\"translate(168.8125 53.710938) scale(0.1 -0.1)\">\n      <use xlink:href=\"#DejaVuSans-76\"/>\n      <use xlink:href=\"#DejaVuSans-61\" x=\"59.179688\"/>\n      <use xlink:href=\"#DejaVuSans-6c\" x=\"120.458984\"/>\n      <use xlink:href=\"#DejaVuSans-5f\" x=\"148.242188\"/>\n      <use xlink:href=\"#DejaVuSans-61\" x=\"198.242188\"/>\n      <use xlink:href=\"#DejaVuSans-63\" x=\"259.521484\"/>\n      <use xlink:href=\"#DejaVuSans-63\" x=\"314.501953\"/>\n     </g>\n    </g>\n   </g>\n  </g>\n </g>\n <defs>\n  <clipPath id=\"pe92d9c7d8b\">\n   <rect x=\"30.103125\" y=\"7.2\" width=\"195.3\" height=\"138.6\"/>\n  </clipPath>\n </defs>\n</svg>\n"
          },
          "metadata": {}
        }
      ]
    },
    {
      "cell_type": "markdown",
      "source": [
        "* Pytorch에서는 **nn.Dropout(p_val)** 로 구현됩니다!\n",
        "\n",
        "*class DropoutModel* 의 어느 위치에 dropout 코드가 들어가는지 잘 살펴봐주세요."
      ],
      "metadata": {
        "id": "lMXpTnZNr3Y0"
      }
    },
    {
      "cell_type": "code",
      "source": [
        "import torch\n",
        "from torch import nn, optim\n",
        "import torch.nn.functional as F\n",
        "from torch.utils.data import DataLoader\n",
        "from torchvision import datasets, transforms\n",
        "from tqdm import tqdm"
      ],
      "metadata": {
        "id": "zNGwn6w1tUXy"
      },
      "execution_count": 25,
      "outputs": []
    },
    {
      "cell_type": "code",
      "source": [
        "# CUDA device 설정\n",
        "device = torch.device(\"cuda\" if torch.cuda.is_available() else \"cpu\")\n",
        "print(f'Using device: {device}')"
      ],
      "metadata": {
        "colab": {
          "base_uri": "https://localhost:8080/"
        },
        "id": "k_Bk6Stbt3j6",
        "outputId": "778eecd6-84ca-4360-84b2-19706dc05a69"
      },
      "execution_count": 26,
      "outputs": [
        {
          "output_type": "stream",
          "name": "stdout",
          "text": [
            "Using device: cuda\n"
          ]
        }
      ]
    },
    {
      "cell_type": "code",
      "source": [
        "# MNIST 데이터셋 로드 및 전처리\n",
        "transform = transforms.Compose([transforms.ToTensor(), transforms.Normalize((0.5,), (0.5,))])"
      ],
      "metadata": {
        "id": "eIz1ohJctV_E"
      },
      "execution_count": 27,
      "outputs": []
    },
    {
      "cell_type": "code",
      "source": [
        "# Train dataset 과 Train DataLoader\n",
        "train_dataset = datasets.MNIST(root='./data', train=True, download=True, transform=transform)\n",
        "train_loader = DataLoader(train_dataset, batch_size=64, shuffle=True)\n",
        "\n",
        "# Test dataset 과 Test DataLoader\n",
        "test_dataset = datasets.MNIST(root='./data', train=False, download=True, transform=transform)\n",
        "test_loader = DataLoader(test_dataset, batch_size=1000, shuffle=False)"
      ],
      "metadata": {
        "id": "EdJTPWIUtXET"
      },
      "execution_count": 28,
      "outputs": []
    },
    {
      "cell_type": "code",
      "source": [
        "# 가중치 초기화 함수\n",
        "def initialize_weights(model, init_type='xavier'):\n",
        "    if init_type == 'xavier':\n",
        "        initializer = nn.init.xavier_uniform_\n",
        "    elif init_type == 'he':\n",
        "        initializer = nn.init.kaiming_normal_\n",
        "    else:\n",
        "        raise ValueError(\"Unsupported initialization type: choose 'xavier' or 'he'\")\n",
        "\n",
        "    for m in model.modules():\n",
        "        if isinstance(m, nn.Linear):\n",
        "            initializer(m.weight)\n",
        "            if m.bias is not None:\n",
        "                nn.init.constant_(m.bias, 0)"
      ],
      "metadata": {
        "id": "uS6LbS7QyWDG"
      },
      "execution_count": 29,
      "outputs": []
    },
    {
      "cell_type": "code",
      "source": [
        "# DropoutModel 정의\n",
        "class DropoutModel(nn.Module):\n",
        "    def __init__(self):\n",
        "        super(DropoutModel, self).__init__()\n",
        "        self.layer1 = nn.Linear(784, 1200)\n",
        "        self.dropout1 = nn.Dropout(0.5)\n",
        "        self.layer2 = nn.Linear(1200, 1200)\n",
        "        self.dropout2 = nn.Dropout(0.5)\n",
        "        self.layer3 = nn.Linear(1200, 10)\n",
        "\n",
        "    def forward(self, x):\n",
        "        x = x.view(x.size(0), -1)  # Flatten the input tensor\n",
        "        x = F.relu(self.layer1(x))\n",
        "        x = self.dropout1(x)\n",
        "        x = F.relu(self.layer2(x))\n",
        "        x = self.dropout2(x)\n",
        "        x = self.layer3(x)\n",
        "        return x"
      ],
      "metadata": {
        "id": "jY_qsYh-rdUv"
      },
      "execution_count": 30,
      "outputs": []
    },
    {
      "cell_type": "code",
      "source": [
        "# 모델, 가중치, 손실 함수 및 옵티마이저 초기화\n",
        "model = DropoutModel().to(device)\n",
        "initialize_weights(model, init_type='xavier')\n",
        "\n",
        "criterion = nn.CrossEntropyLoss()\n",
        "optimizer = optim.Adam(model.parameters(), lr=0.001)"
      ],
      "metadata": {
        "id": "ENE4x0eTtnMS"
      },
      "execution_count": 31,
      "outputs": []
    },
    {
      "cell_type": "code",
      "source": [
        "# 모델 학습 함수\n",
        "def train(model, train_loader, criterion, optimizer, epoch):\n",
        "    model.train()\n",
        "    running_loss = 0.0\n",
        "    progress_bar = tqdm(train_loader, desc=f\"Epoch {epoch+1}\", leave=False)\n",
        "    for batch_idx, (data, target) in enumerate(progress_bar):\n",
        "        data, target = data.to(device), target.to(device)  # 데이터를 CUDA 장치로 이동\n",
        "        optimizer.zero_grad()\n",
        "        output = model(data)\n",
        "        loss = criterion(output, target)\n",
        "        loss.backward()\n",
        "        optimizer.step()\n",
        "        running_loss += loss.item()\n",
        "\n",
        "        # Update progress bar with current loss\n",
        "        if batch_idx % 100 == 99:  # Update every 100 batches\n",
        "            progress_bar.set_postfix(loss=running_loss / 100)\n",
        "            running_loss = 0.0"
      ],
      "metadata": {
        "id": "lbji468xtoYT"
      },
      "execution_count": 32,
      "outputs": []
    },
    {
      "cell_type": "code",
      "source": [
        "# 모델 평가 함수\n",
        "def test(model, test_loader, criterion):\n",
        "    model.eval()\n",
        "    test_loss = 0\n",
        "    correct = 0\n",
        "    with torch.no_grad():\n",
        "        progress_bar = tqdm(test_loader, desc=\"Evaluating\", leave=False)\n",
        "        for data, target in progress_bar:\n",
        "            data, target = data.to(device), target.to(device)  # 데이터를 CUDA 장치로 이동\n",
        "            output = model(data)\n",
        "            test_loss += criterion(output, target).item()\n",
        "            pred = output.argmax(dim=1, keepdim=True)\n",
        "            correct += pred.eq(target.view_as(pred)).sum().item()\n",
        "\n",
        "    test_loss /= len(test_loader.dataset)\n",
        "    accuracy = 100. * correct / len(test_loader.dataset)\n",
        "    tqdm.write(f'Average loss: {test_loss:.4f}, Accuracy: {correct}/{len(test_loader.dataset)} ({accuracy:.2f}%)')\n"
      ],
      "metadata": {
        "id": "n8xPgRLytrth"
      },
      "execution_count": 33,
      "outputs": []
    },
    {
      "cell_type": "code",
      "source": [
        "# 학습 및 평가\n",
        "num_epochs = 10\n",
        "for epoch in range(num_epochs):\n",
        "    train(model, train_loader, criterion, optimizer, epoch)\n",
        "    test(model, test_loader, criterion)"
      ],
      "metadata": {
        "colab": {
          "base_uri": "https://localhost:8080/"
        },
        "id": "FVRhtzFjtt6a",
        "outputId": "b44cba04-ca5d-4307-95eb-49115c89e518"
      },
      "execution_count": 34,
      "outputs": [
        {
          "output_type": "stream",
          "name": "stderr",
          "text": []
        },
        {
          "output_type": "stream",
          "name": "stdout",
          "text": [
            "Average loss: 0.0002, Accuracy: 9412/10000 (94.12%)\n"
          ]
        },
        {
          "output_type": "stream",
          "name": "stderr",
          "text": []
        },
        {
          "output_type": "stream",
          "name": "stdout",
          "text": [
            "Average loss: 0.0002, Accuracy: 9478/10000 (94.78%)\n"
          ]
        },
        {
          "output_type": "stream",
          "name": "stderr",
          "text": []
        },
        {
          "output_type": "stream",
          "name": "stdout",
          "text": [
            "Average loss: 0.0001, Accuracy: 9575/10000 (95.75%)\n"
          ]
        },
        {
          "output_type": "stream",
          "name": "stderr",
          "text": []
        },
        {
          "output_type": "stream",
          "name": "stdout",
          "text": [
            "Average loss: 0.0001, Accuracy: 9605/10000 (96.05%)\n"
          ]
        },
        {
          "output_type": "stream",
          "name": "stderr",
          "text": []
        },
        {
          "output_type": "stream",
          "name": "stdout",
          "text": [
            "Average loss: 0.0001, Accuracy: 9619/10000 (96.19%)\n"
          ]
        },
        {
          "output_type": "stream",
          "name": "stderr",
          "text": []
        },
        {
          "output_type": "stream",
          "name": "stdout",
          "text": [
            "Average loss: 0.0002, Accuracy: 9535/10000 (95.35%)\n"
          ]
        },
        {
          "output_type": "stream",
          "name": "stderr",
          "text": []
        },
        {
          "output_type": "stream",
          "name": "stdout",
          "text": [
            "Average loss: 0.0001, Accuracy: 9686/10000 (96.86%)\n"
          ]
        },
        {
          "output_type": "stream",
          "name": "stderr",
          "text": []
        },
        {
          "output_type": "stream",
          "name": "stdout",
          "text": [
            "Average loss: 0.0001, Accuracy: 9666/10000 (96.66%)\n"
          ]
        },
        {
          "output_type": "stream",
          "name": "stderr",
          "text": []
        },
        {
          "output_type": "stream",
          "name": "stdout",
          "text": [
            "Average loss: 0.0001, Accuracy: 9683/10000 (96.83%)\n"
          ]
        },
        {
          "output_type": "stream",
          "name": "stderr",
          "text": [
            "                                                           "
          ]
        },
        {
          "output_type": "stream",
          "name": "stdout",
          "text": [
            "Average loss: 0.0001, Accuracy: 9685/10000 (96.85%)\n"
          ]
        },
        {
          "output_type": "stream",
          "name": "stderr",
          "text": [
            "\r"
          ]
        }
      ]
    },
    {
      "cell_type": "markdown",
      "source": [
        "## 4.3 Batch Normalization\n",
        "\n",
        "<img src='https://media.licdn.com/dms/image/C4D12AQHDXT208VWD6w/article-inline_image-shrink_400_744/0/1578308402159?e=1726099200&v=beta&t=QHgJ37nsqzSoXi7muOs2zKjKfb4V6JH1tWfmDxQDS9w'>\n",
        "\n",
        "깊은 레이어를 가지는 딥러닝 모델에서는 **Internal Covariate shift** 현상이 발생하기 쉽습니다.\n",
        "\n",
        "Batch Normalization 은 위 현상을 줄임으로써,\n",
        "\n",
        "* 더 높은 학습률 값 사용,\n",
        "* Saturating nonlinearities 허용,\n",
        "* 덜 민감한 초기값 설정\n",
        "\n",
        "을 가능하게 합니다.\n",
        "\n",
        "\n",
        "Batch Normalization 관련하여는 이후 5주차 CNN 에서 코드와 함께 다루도록 하겠습니다!\n",
        "\n"
      ],
      "metadata": {
        "id": "My36V5nKnjPR"
      }
    },
    {
      "cell_type": "markdown",
      "source": [
        "# [4주차 과제]\n",
        "\n",
        "아래의 논문을 팀별로 읽고 리뷰페이퍼를 작성해주세요!\n",
        "\n",
        "### Y, Bengio et al., *Practical recommendations for gradient-based training of deep architectures*., 2012. <a href='https://arxiv.org/abs/1206.5533'>[arXiv link]</a>\n",
        "\n",
        "---\n",
        "\n",
        "* 위 논문의 **Chapter 3 (Hyper-parameters)(pp. 7-21)** 부분을 리뷰해주시면 됩니다!\n",
        "\n",
        "* 팀별로 자유롭게 토의 및 정리 후, 각 팀당 **하나의 페이퍼**를 작성해주시면 됩니다.\n",
        "\n",
        "* 기한은 2024. 7. 31. (수) 22:00 까지로, 결과물을 Github 과제 제출란에 업로드 해주세요.\n",
        "\n",
        "* 파일 형식은 자유롭게 설정하여 진행하시되, 최종 결과물의 깨짐 현상을 막기 위해서 가급적 pdf로 변환해 제출해주시면 감사하겠습니다. :)\n",
        "\n",
        "* 최종 파일명은 $\\text{\"DL_팀명_4주차\"}$ 으로 제출해주세요!"
      ],
      "metadata": {
        "id": "MyLGUL3aiRm7"
      }
    }
  ]
}