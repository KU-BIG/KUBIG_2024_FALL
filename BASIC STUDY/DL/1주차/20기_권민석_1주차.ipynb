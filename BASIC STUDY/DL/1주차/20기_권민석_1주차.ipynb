{
  "cells": [
    {
      "cell_type": "markdown",
      "metadata": {
        "id": "YffDGVSIxijw"
      },
      "source": [
        "# 1주차 과제\n",
        "- 파이토치 시작하기 및 간단한 코드 빈칸 채워넣기"
      ]
    },
    {
      "cell_type": "markdown",
      "metadata": {
        "id": "MivAstLj4EpN"
      },
      "source": [
        "## 파이토치 시작하기"
      ]
    },
    {
      "cell_type": "code",
      "execution_count": 2,
      "metadata": {
        "id": "BS39ZJTi4CD0"
      },
      "outputs": [],
      "source": [
        "import torch"
      ]
    },
    {
      "cell_type": "markdown",
      "metadata": {
        "id": "ixz0WyWH4kSJ"
      },
      "source": [
        "- tensor 개념 파악 (array of numerical values(vector, matrix..))\n",
        "- 4x3 행렬 두 개 만들고 행으로 병합, 열로 병합\n"
      ]
    },
    {
      "cell_type": "code",
      "execution_count": 3,
      "metadata": {
        "id": "OlLUsvmL4kEY",
        "colab": {
          "base_uri": "https://localhost:8080/"
        },
        "outputId": "05a59cf7-4fff-4735-b422-cc555e03759c"
      },
      "outputs": [
        {
          "output_type": "execute_result",
          "data": {
            "text/plain": [
              "tensor([[ 1,  2,  1],\n",
              "        [ 2,  4,  6],\n",
              "        [ 2, -1,  5],\n",
              "        [ 0,  1, -2],\n",
              "        [ 3,  1,  2],\n",
              "        [ 5,  0, -1],\n",
              "        [ 1,  2,  3],\n",
              "        [ 4, -4,  0]])"
            ]
          },
          "metadata": {},
          "execution_count": 3
        }
      ],
      "source": [
        "X=torch.tensor([[1,2,1],\n",
        "                [2,4,6],\n",
        "                [2,-1,5],\n",
        "                [0,1,-2]])\n",
        "## 임의 생성 : torch.randn(4, 3)\n",
        "\n",
        "\n",
        "Y=torch.tensor([[3,1,2],\n",
        "                [5,0,-1],\n",
        "                [1,2,3],\n",
        "                [4,-4,0]])\n",
        "\n",
        "# 행으로 병합 코드\n",
        "\n",
        "torch.cat([X, Y], dim=1)\n",
        "\n",
        "# 열로 병합 코드\n",
        "\n",
        "torch.cat([X, Y], dim=0)"
      ]
    },
    {
      "cell_type": "markdown",
      "metadata": {
        "id": "Gh-1LJliusEc"
      },
      "source": [
        "### Linear Regression Implementation from Scratch\n",
        "- 머신러닝 기초와 비슷한 내용이지만 파이토치로 실행해보며 익숙해지는것이 목표\n"
      ]
    },
    {
      "cell_type": "code",
      "execution_count": 4,
      "metadata": {
        "id": "Ybbbqg8TqAVR",
        "colab": {
          "base_uri": "https://localhost:8080/",
          "height": 1000
        },
        "collapsed": true,
        "outputId": "fbf1ab9b-a1b3-4a31-88bd-2b90c2a28464"
      },
      "outputs": [
        {
          "output_type": "stream",
          "name": "stdout",
          "text": [
            "Collecting d2l\n",
            "  Downloading d2l-1.0.3-py3-none-any.whl (111 kB)\n",
            "\u001b[2K     \u001b[90m━━━━━━━━━━━━━━━━━━━━━━━━━━━━━━━━━━━━━━━━\u001b[0m \u001b[32m111.7/111.7 kB\u001b[0m \u001b[31m3.1 MB/s\u001b[0m eta \u001b[36m0:00:00\u001b[0m\n",
            "\u001b[?25hCollecting jupyter==1.0.0 (from d2l)\n",
            "  Downloading jupyter-1.0.0-py2.py3-none-any.whl (2.7 kB)\n",
            "Collecting numpy==1.23.5 (from d2l)\n",
            "  Downloading numpy-1.23.5-cp310-cp310-manylinux_2_17_x86_64.manylinux2014_x86_64.whl (17.1 MB)\n",
            "\u001b[2K     \u001b[90m━━━━━━━━━━━━━━━━━━━━━━━━━━━━━━━━━━━━━━━━\u001b[0m \u001b[32m17.1/17.1 MB\u001b[0m \u001b[31m55.7 MB/s\u001b[0m eta \u001b[36m0:00:00\u001b[0m\n",
            "\u001b[?25hCollecting matplotlib==3.7.2 (from d2l)\n",
            "  Downloading matplotlib-3.7.2-cp310-cp310-manylinux_2_17_x86_64.manylinux2014_x86_64.whl (11.6 MB)\n",
            "\u001b[2K     \u001b[90m━━━━━━━━━━━━━━━━━━━━━━━━━━━━━━━━━━━━━━━━\u001b[0m \u001b[32m11.6/11.6 MB\u001b[0m \u001b[31m62.2 MB/s\u001b[0m eta \u001b[36m0:00:00\u001b[0m\n",
            "\u001b[?25hCollecting matplotlib-inline==0.1.6 (from d2l)\n",
            "  Downloading matplotlib_inline-0.1.6-py3-none-any.whl (9.4 kB)\n",
            "Requirement already satisfied: requests==2.31.0 in /usr/local/lib/python3.10/dist-packages (from d2l) (2.31.0)\n",
            "Requirement already satisfied: pandas==2.0.3 in /usr/local/lib/python3.10/dist-packages (from d2l) (2.0.3)\n",
            "Collecting scipy==1.10.1 (from d2l)\n",
            "  Downloading scipy-1.10.1-cp310-cp310-manylinux_2_17_x86_64.manylinux2014_x86_64.whl (34.4 MB)\n",
            "\u001b[2K     \u001b[90m━━━━━━━━━━━━━━━━━━━━━━━━━━━━━━━━━━━━━━━━\u001b[0m \u001b[32m34.4/34.4 MB\u001b[0m \u001b[31m16.8 MB/s\u001b[0m eta \u001b[36m0:00:00\u001b[0m\n",
            "\u001b[?25hRequirement already satisfied: notebook in /usr/local/lib/python3.10/dist-packages (from jupyter==1.0.0->d2l) (6.5.5)\n",
            "Collecting qtconsole (from jupyter==1.0.0->d2l)\n",
            "  Downloading qtconsole-5.5.2-py3-none-any.whl (123 kB)\n",
            "\u001b[2K     \u001b[90m━━━━━━━━━━━━━━━━━━━━━━━━━━━━━━━━━━━━━━━━\u001b[0m \u001b[32m123.4/123.4 kB\u001b[0m \u001b[31m8.4 MB/s\u001b[0m eta \u001b[36m0:00:00\u001b[0m\n",
            "\u001b[?25hRequirement already satisfied: jupyter-console in /usr/local/lib/python3.10/dist-packages (from jupyter==1.0.0->d2l) (6.1.0)\n",
            "Requirement already satisfied: nbconvert in /usr/local/lib/python3.10/dist-packages (from jupyter==1.0.0->d2l) (6.5.4)\n",
            "Requirement already satisfied: ipykernel in /usr/local/lib/python3.10/dist-packages (from jupyter==1.0.0->d2l) (5.5.6)\n",
            "Requirement already satisfied: ipywidgets in /usr/local/lib/python3.10/dist-packages (from jupyter==1.0.0->d2l) (7.7.1)\n",
            "Requirement already satisfied: contourpy>=1.0.1 in /usr/local/lib/python3.10/dist-packages (from matplotlib==3.7.2->d2l) (1.2.1)\n",
            "Requirement already satisfied: cycler>=0.10 in /usr/local/lib/python3.10/dist-packages (from matplotlib==3.7.2->d2l) (0.12.1)\n",
            "Requirement already satisfied: fonttools>=4.22.0 in /usr/local/lib/python3.10/dist-packages (from matplotlib==3.7.2->d2l) (4.53.0)\n",
            "Requirement already satisfied: kiwisolver>=1.0.1 in /usr/local/lib/python3.10/dist-packages (from matplotlib==3.7.2->d2l) (1.4.5)\n",
            "Requirement already satisfied: packaging>=20.0 in /usr/local/lib/python3.10/dist-packages (from matplotlib==3.7.2->d2l) (24.1)\n",
            "Requirement already satisfied: pillow>=6.2.0 in /usr/local/lib/python3.10/dist-packages (from matplotlib==3.7.2->d2l) (9.4.0)\n",
            "Collecting pyparsing<3.1,>=2.3.1 (from matplotlib==3.7.2->d2l)\n",
            "  Downloading pyparsing-3.0.9-py3-none-any.whl (98 kB)\n",
            "\u001b[2K     \u001b[90m━━━━━━━━━━━━━━━━━━━━━━━━━━━━━━━━━━━━━━━━\u001b[0m \u001b[32m98.3/98.3 kB\u001b[0m \u001b[31m8.0 MB/s\u001b[0m eta \u001b[36m0:00:00\u001b[0m\n",
            "\u001b[?25hRequirement already satisfied: python-dateutil>=2.7 in /usr/local/lib/python3.10/dist-packages (from matplotlib==3.7.2->d2l) (2.8.2)\n",
            "Requirement already satisfied: traitlets in /usr/local/lib/python3.10/dist-packages (from matplotlib-inline==0.1.6->d2l) (5.7.1)\n",
            "Requirement already satisfied: pytz>=2020.1 in /usr/local/lib/python3.10/dist-packages (from pandas==2.0.3->d2l) (2023.4)\n",
            "Requirement already satisfied: tzdata>=2022.1 in /usr/local/lib/python3.10/dist-packages (from pandas==2.0.3->d2l) (2024.1)\n",
            "Requirement already satisfied: charset-normalizer<4,>=2 in /usr/local/lib/python3.10/dist-packages (from requests==2.31.0->d2l) (3.3.2)\n",
            "Requirement already satisfied: idna<4,>=2.5 in /usr/local/lib/python3.10/dist-packages (from requests==2.31.0->d2l) (3.7)\n",
            "Requirement already satisfied: urllib3<3,>=1.21.1 in /usr/local/lib/python3.10/dist-packages (from requests==2.31.0->d2l) (2.0.7)\n",
            "Requirement already satisfied: certifi>=2017.4.17 in /usr/local/lib/python3.10/dist-packages (from requests==2.31.0->d2l) (2024.6.2)\n",
            "Requirement already satisfied: six>=1.5 in /usr/local/lib/python3.10/dist-packages (from python-dateutil>=2.7->matplotlib==3.7.2->d2l) (1.16.0)\n",
            "Requirement already satisfied: ipython-genutils in /usr/local/lib/python3.10/dist-packages (from ipykernel->jupyter==1.0.0->d2l) (0.2.0)\n",
            "Requirement already satisfied: ipython>=5.0.0 in /usr/local/lib/python3.10/dist-packages (from ipykernel->jupyter==1.0.0->d2l) (7.34.0)\n",
            "Requirement already satisfied: jupyter-client in /usr/local/lib/python3.10/dist-packages (from ipykernel->jupyter==1.0.0->d2l) (6.1.12)\n",
            "Requirement already satisfied: tornado>=4.2 in /usr/local/lib/python3.10/dist-packages (from ipykernel->jupyter==1.0.0->d2l) (6.3.3)\n",
            "Requirement already satisfied: widgetsnbextension~=3.6.0 in /usr/local/lib/python3.10/dist-packages (from ipywidgets->jupyter==1.0.0->d2l) (3.6.6)\n",
            "Requirement already satisfied: jupyterlab-widgets>=1.0.0 in /usr/local/lib/python3.10/dist-packages (from ipywidgets->jupyter==1.0.0->d2l) (3.0.11)\n",
            "Requirement already satisfied: prompt-toolkit!=3.0.0,!=3.0.1,<3.1.0,>=2.0.0 in /usr/local/lib/python3.10/dist-packages (from jupyter-console->jupyter==1.0.0->d2l) (3.0.47)\n",
            "Requirement already satisfied: pygments in /usr/local/lib/python3.10/dist-packages (from jupyter-console->jupyter==1.0.0->d2l) (2.16.1)\n",
            "Requirement already satisfied: lxml in /usr/local/lib/python3.10/dist-packages (from nbconvert->jupyter==1.0.0->d2l) (4.9.4)\n",
            "Requirement already satisfied: beautifulsoup4 in /usr/local/lib/python3.10/dist-packages (from nbconvert->jupyter==1.0.0->d2l) (4.12.3)\n",
            "Requirement already satisfied: bleach in /usr/local/lib/python3.10/dist-packages (from nbconvert->jupyter==1.0.0->d2l) (6.1.0)\n",
            "Requirement already satisfied: defusedxml in /usr/local/lib/python3.10/dist-packages (from nbconvert->jupyter==1.0.0->d2l) (0.7.1)\n",
            "Requirement already satisfied: entrypoints>=0.2.2 in /usr/local/lib/python3.10/dist-packages (from nbconvert->jupyter==1.0.0->d2l) (0.4)\n",
            "Requirement already satisfied: jinja2>=3.0 in /usr/local/lib/python3.10/dist-packages (from nbconvert->jupyter==1.0.0->d2l) (3.1.4)\n",
            "Requirement already satisfied: jupyter-core>=4.7 in /usr/local/lib/python3.10/dist-packages (from nbconvert->jupyter==1.0.0->d2l) (5.7.2)\n",
            "Requirement already satisfied: jupyterlab-pygments in /usr/local/lib/python3.10/dist-packages (from nbconvert->jupyter==1.0.0->d2l) (0.3.0)\n",
            "Requirement already satisfied: MarkupSafe>=2.0 in /usr/local/lib/python3.10/dist-packages (from nbconvert->jupyter==1.0.0->d2l) (2.1.5)\n",
            "Requirement already satisfied: mistune<2,>=0.8.1 in /usr/local/lib/python3.10/dist-packages (from nbconvert->jupyter==1.0.0->d2l) (0.8.4)\n",
            "Requirement already satisfied: nbclient>=0.5.0 in /usr/local/lib/python3.10/dist-packages (from nbconvert->jupyter==1.0.0->d2l) (0.10.0)\n",
            "Requirement already satisfied: nbformat>=5.1 in /usr/local/lib/python3.10/dist-packages (from nbconvert->jupyter==1.0.0->d2l) (5.10.4)\n",
            "Requirement already satisfied: pandocfilters>=1.4.1 in /usr/local/lib/python3.10/dist-packages (from nbconvert->jupyter==1.0.0->d2l) (1.5.1)\n",
            "Requirement already satisfied: tinycss2 in /usr/local/lib/python3.10/dist-packages (from nbconvert->jupyter==1.0.0->d2l) (1.3.0)\n",
            "Requirement already satisfied: pyzmq<25,>=17 in /usr/local/lib/python3.10/dist-packages (from notebook->jupyter==1.0.0->d2l) (24.0.1)\n",
            "Requirement already satisfied: argon2-cffi in /usr/local/lib/python3.10/dist-packages (from notebook->jupyter==1.0.0->d2l) (23.1.0)\n",
            "Requirement already satisfied: nest-asyncio>=1.5 in /usr/local/lib/python3.10/dist-packages (from notebook->jupyter==1.0.0->d2l) (1.6.0)\n",
            "Requirement already satisfied: Send2Trash>=1.8.0 in /usr/local/lib/python3.10/dist-packages (from notebook->jupyter==1.0.0->d2l) (1.8.3)\n",
            "Requirement already satisfied: terminado>=0.8.3 in /usr/local/lib/python3.10/dist-packages (from notebook->jupyter==1.0.0->d2l) (0.18.1)\n",
            "Requirement already satisfied: prometheus-client in /usr/local/lib/python3.10/dist-packages (from notebook->jupyter==1.0.0->d2l) (0.20.0)\n",
            "Requirement already satisfied: nbclassic>=0.4.7 in /usr/local/lib/python3.10/dist-packages (from notebook->jupyter==1.0.0->d2l) (1.1.0)\n",
            "Collecting qtpy>=2.4.0 (from qtconsole->jupyter==1.0.0->d2l)\n",
            "  Downloading QtPy-2.4.1-py3-none-any.whl (93 kB)\n",
            "\u001b[2K     \u001b[90m━━━━━━━━━━━━━━━━━━━━━━━━━━━━━━━━━━━━━━━━\u001b[0m \u001b[32m93.5/93.5 kB\u001b[0m \u001b[31m5.6 MB/s\u001b[0m eta \u001b[36m0:00:00\u001b[0m\n",
            "\u001b[?25hRequirement already satisfied: setuptools>=18.5 in /usr/local/lib/python3.10/dist-packages (from ipython>=5.0.0->ipykernel->jupyter==1.0.0->d2l) (67.7.2)\n",
            "Collecting jedi>=0.16 (from ipython>=5.0.0->ipykernel->jupyter==1.0.0->d2l)\n",
            "  Downloading jedi-0.19.1-py2.py3-none-any.whl (1.6 MB)\n",
            "\u001b[2K     \u001b[90m━━━━━━━━━━━━━━━━━━━━━━━━━━━━━━━━━━━━━━━━\u001b[0m \u001b[32m1.6/1.6 MB\u001b[0m \u001b[31m34.0 MB/s\u001b[0m eta \u001b[36m0:00:00\u001b[0m\n",
            "\u001b[?25hRequirement already satisfied: decorator in /usr/local/lib/python3.10/dist-packages (from ipython>=5.0.0->ipykernel->jupyter==1.0.0->d2l) (4.4.2)\n",
            "Requirement already satisfied: pickleshare in /usr/local/lib/python3.10/dist-packages (from ipython>=5.0.0->ipykernel->jupyter==1.0.0->d2l) (0.7.5)\n",
            "Requirement already satisfied: backcall in /usr/local/lib/python3.10/dist-packages (from ipython>=5.0.0->ipykernel->jupyter==1.0.0->d2l) (0.2.0)\n",
            "Requirement already satisfied: pexpect>4.3 in /usr/local/lib/python3.10/dist-packages (from ipython>=5.0.0->ipykernel->jupyter==1.0.0->d2l) (4.9.0)\n",
            "Requirement already satisfied: platformdirs>=2.5 in /usr/local/lib/python3.10/dist-packages (from jupyter-core>=4.7->nbconvert->jupyter==1.0.0->d2l) (4.2.2)\n",
            "Requirement already satisfied: notebook-shim>=0.2.3 in /usr/local/lib/python3.10/dist-packages (from nbclassic>=0.4.7->notebook->jupyter==1.0.0->d2l) (0.2.4)\n",
            "Requirement already satisfied: fastjsonschema>=2.15 in /usr/local/lib/python3.10/dist-packages (from nbformat>=5.1->nbconvert->jupyter==1.0.0->d2l) (2.20.0)\n",
            "Requirement already satisfied: jsonschema>=2.6 in /usr/local/lib/python3.10/dist-packages (from nbformat>=5.1->nbconvert->jupyter==1.0.0->d2l) (4.19.2)\n",
            "Requirement already satisfied: wcwidth in /usr/local/lib/python3.10/dist-packages (from prompt-toolkit!=3.0.0,!=3.0.1,<3.1.0,>=2.0.0->jupyter-console->jupyter==1.0.0->d2l) (0.2.13)\n",
            "Requirement already satisfied: ptyprocess in /usr/local/lib/python3.10/dist-packages (from terminado>=0.8.3->notebook->jupyter==1.0.0->d2l) (0.7.0)\n",
            "Requirement already satisfied: argon2-cffi-bindings in /usr/local/lib/python3.10/dist-packages (from argon2-cffi->notebook->jupyter==1.0.0->d2l) (21.2.0)\n",
            "Requirement already satisfied: soupsieve>1.2 in /usr/local/lib/python3.10/dist-packages (from beautifulsoup4->nbconvert->jupyter==1.0.0->d2l) (2.5)\n",
            "Requirement already satisfied: webencodings in /usr/local/lib/python3.10/dist-packages (from bleach->nbconvert->jupyter==1.0.0->d2l) (0.5.1)\n",
            "Requirement already satisfied: parso<0.9.0,>=0.8.3 in /usr/local/lib/python3.10/dist-packages (from jedi>=0.16->ipython>=5.0.0->ipykernel->jupyter==1.0.0->d2l) (0.8.4)\n",
            "Requirement already satisfied: attrs>=22.2.0 in /usr/local/lib/python3.10/dist-packages (from jsonschema>=2.6->nbformat>=5.1->nbconvert->jupyter==1.0.0->d2l) (23.2.0)\n",
            "Requirement already satisfied: jsonschema-specifications>=2023.03.6 in /usr/local/lib/python3.10/dist-packages (from jsonschema>=2.6->nbformat>=5.1->nbconvert->jupyter==1.0.0->d2l) (2023.12.1)\n",
            "Requirement already satisfied: referencing>=0.28.4 in /usr/local/lib/python3.10/dist-packages (from jsonschema>=2.6->nbformat>=5.1->nbconvert->jupyter==1.0.0->d2l) (0.35.1)\n",
            "Requirement already satisfied: rpds-py>=0.7.1 in /usr/local/lib/python3.10/dist-packages (from jsonschema>=2.6->nbformat>=5.1->nbconvert->jupyter==1.0.0->d2l) (0.18.1)\n",
            "Requirement already satisfied: jupyter-server<3,>=1.8 in /usr/local/lib/python3.10/dist-packages (from notebook-shim>=0.2.3->nbclassic>=0.4.7->notebook->jupyter==1.0.0->d2l) (1.24.0)\n",
            "Requirement already satisfied: cffi>=1.0.1 in /usr/local/lib/python3.10/dist-packages (from argon2-cffi-bindings->argon2-cffi->notebook->jupyter==1.0.0->d2l) (1.16.0)\n",
            "Requirement already satisfied: pycparser in /usr/local/lib/python3.10/dist-packages (from cffi>=1.0.1->argon2-cffi-bindings->argon2-cffi->notebook->jupyter==1.0.0->d2l) (2.22)\n",
            "Requirement already satisfied: anyio<4,>=3.1.0 in /usr/local/lib/python3.10/dist-packages (from jupyter-server<3,>=1.8->notebook-shim>=0.2.3->nbclassic>=0.4.7->notebook->jupyter==1.0.0->d2l) (3.7.1)\n",
            "Requirement already satisfied: websocket-client in /usr/local/lib/python3.10/dist-packages (from jupyter-server<3,>=1.8->notebook-shim>=0.2.3->nbclassic>=0.4.7->notebook->jupyter==1.0.0->d2l) (1.8.0)\n",
            "Requirement already satisfied: sniffio>=1.1 in /usr/local/lib/python3.10/dist-packages (from anyio<4,>=3.1.0->jupyter-server<3,>=1.8->notebook-shim>=0.2.3->nbclassic>=0.4.7->notebook->jupyter==1.0.0->d2l) (1.3.1)\n",
            "Requirement already satisfied: exceptiongroup in /usr/local/lib/python3.10/dist-packages (from anyio<4,>=3.1.0->jupyter-server<3,>=1.8->notebook-shim>=0.2.3->nbclassic>=0.4.7->notebook->jupyter==1.0.0->d2l) (1.2.1)\n",
            "Installing collected packages: qtpy, pyparsing, numpy, matplotlib-inline, jedi, scipy, matplotlib, qtconsole, jupyter, d2l\n",
            "  Attempting uninstall: pyparsing\n",
            "    Found existing installation: pyparsing 3.1.2\n",
            "    Uninstalling pyparsing-3.1.2:\n",
            "      Successfully uninstalled pyparsing-3.1.2\n",
            "  Attempting uninstall: numpy\n",
            "    Found existing installation: numpy 1.25.2\n",
            "    Uninstalling numpy-1.25.2:\n",
            "      Successfully uninstalled numpy-1.25.2\n",
            "  Attempting uninstall: matplotlib-inline\n",
            "    Found existing installation: matplotlib-inline 0.1.7\n",
            "    Uninstalling matplotlib-inline-0.1.7:\n",
            "      Successfully uninstalled matplotlib-inline-0.1.7\n",
            "  Attempting uninstall: scipy\n",
            "    Found existing installation: scipy 1.11.4\n",
            "    Uninstalling scipy-1.11.4:\n",
            "      Successfully uninstalled scipy-1.11.4\n",
            "  Attempting uninstall: matplotlib\n",
            "    Found existing installation: matplotlib 3.7.1\n",
            "    Uninstalling matplotlib-3.7.1:\n",
            "      Successfully uninstalled matplotlib-3.7.1\n",
            "\u001b[31mERROR: pip's dependency resolver does not currently take into account all the packages that are installed. This behaviour is the source of the following dependency conflicts.\n",
            "chex 0.1.86 requires numpy>=1.24.1, but you have numpy 1.23.5 which is incompatible.\n",
            "pandas-stubs 2.0.3.230814 requires numpy>=1.25.0; python_version >= \"3.9\", but you have numpy 1.23.5 which is incompatible.\u001b[0m\u001b[31m\n",
            "\u001b[0mSuccessfully installed d2l-1.0.3 jedi-0.19.1 jupyter-1.0.0 matplotlib-3.7.2 matplotlib-inline-0.1.6 numpy-1.23.5 pyparsing-3.0.9 qtconsole-5.5.2 qtpy-2.4.1 scipy-1.10.1\n"
          ]
        },
        {
          "output_type": "display_data",
          "data": {
            "application/vnd.colab-display-data+json": {
              "pip_warning": {
                "packages": [
                  "matplotlib",
                  "matplotlib_inline",
                  "mpl_toolkits",
                  "numpy"
                ]
              },
              "id": "8c005fe32d994e06be3aeeda51f75bba"
            }
          },
          "metadata": {}
        }
      ],
      "source": [
        "!pip install d2l # d2l 라이브러리에서 제공하는 기능 사용 위함"
      ]
    },
    {
      "cell_type": "code",
      "execution_count": 1,
      "metadata": {
        "id": "YyWEB6e3FKYY"
      },
      "outputs": [],
      "source": [
        "%matplotlib inline\n",
        "import random\n",
        "import torch\n",
        "from d2l import torch as d2l"
      ]
    },
    {
      "cell_type": "code",
      "execution_count": 2,
      "metadata": {
        "id": "exWjbVn2v3CT"
      },
      "outputs": [],
      "source": [
        "def synthetic_data(w, b, num_examples):\n",
        "    \"\"\"Generate y = Xw + b + noise.\"\"\"\n",
        "    X = torch.normal(0, 1, (num_examples, len(w)))\n",
        "    y = torch.matmul(X, w) + b\n",
        "    y += torch.normal(0, 0.01, y.shape)\n",
        "    return X, y.reshape((-1, 1))\n",
        "\n",
        "true_w = torch.tensor([3, -1.5])\n",
        "true_b = 5.5\n",
        "features, labels = synthetic_data(true_w, true_b, 2000)"
      ]
    },
    {
      "cell_type": "code",
      "execution_count": 3,
      "metadata": {
        "id": "5UcjckXPv6iy",
        "colab": {
          "base_uri": "https://localhost:8080/"
        },
        "outputId": "42c51321-9298-4337-8435-3faa3661e8cf"
      },
      "outputs": [
        {
          "output_type": "stream",
          "name": "stdout",
          "text": [
            "features: tensor([-1.5109,  0.3823]) \n",
            "label: tensor([0.3921])\n"
          ]
        }
      ],
      "source": [
        "print('features:', features[0],'\\nlabel:', labels[0])"
      ]
    },
    {
      "cell_type": "code",
      "execution_count": 4,
      "metadata": {
        "id": "jLY6YR5Zv_gO"
      },
      "outputs": [],
      "source": [
        "def data_iter(batch_size, features, labels):\n",
        "    num_examples = len(features)\n",
        "    indices = list(range(num_examples))\n",
        "    # The examples are read at random, in no particular order\n",
        "    random.shuffle(indices)\n",
        "     ###반복문으로 채워넣기:\n",
        "    for i in range(0, num_examples, batch_size):\n",
        "\n",
        "        ##이하는 반복문에 대한 조건입니다.\n",
        "        batch_indices = torch.tensor(\n",
        "            indices[i: min(i + batch_size, num_examples)])\n",
        "        yield features[batch_indices], labels[batch_indices]"
      ]
    },
    {
      "cell_type": "code",
      "execution_count": 5,
      "metadata": {
        "id": "zuxxEAvdwA7p",
        "colab": {
          "base_uri": "https://localhost:8080/"
        },
        "outputId": "d0e90c7a-96b2-4b36-d4e9-5207a176fd4e"
      },
      "outputs": [
        {
          "output_type": "stream",
          "name": "stdout",
          "text": [
            "tensor([[-0.2823,  1.0005],\n",
            "        [ 0.7898,  1.0447],\n",
            "        [-1.5155,  0.6804],\n",
            "        [ 0.7116,  0.3463],\n",
            "        [ 1.5698,  0.2066],\n",
            "        [ 0.5377,  0.6655],\n",
            "        [ 0.9796,  0.1647],\n",
            "        [-0.0867, -0.5991],\n",
            "        [-0.8008, -1.9582],\n",
            "        [-0.0911, -0.7307],\n",
            "        [ 0.8452,  0.3507],\n",
            "        [-0.7610, -0.2446],\n",
            "        [ 0.4487,  0.2022],\n",
            "        [-0.5488, -0.8114],\n",
            "        [-0.1039,  1.1989],\n",
            "        [-0.1617, -0.4060],\n",
            "        [ 1.5053, -1.3446],\n",
            "        [-0.8410, -0.5769],\n",
            "        [-1.0942,  1.1533],\n",
            "        [ 1.9622, -0.2648]]) \n",
            " tensor([[ 3.1599],\n",
            "        [ 6.3216],\n",
            "        [-0.0684],\n",
            "        [ 7.1209],\n",
            "        [ 9.9126],\n",
            "        [ 6.1062],\n",
            "        [ 8.1881],\n",
            "        [ 6.1514],\n",
            "        [ 6.0396],\n",
            "        [ 6.3156],\n",
            "        [ 7.5144],\n",
            "        [ 3.5914],\n",
            "        [ 6.5402],\n",
            "        [ 5.0842],\n",
            "        [ 3.3972],\n",
            "        [ 5.6098],\n",
            "        [12.0370],\n",
            "        [ 3.8510],\n",
            "        [ 0.4801],\n",
            "        [11.7827]])\n"
          ]
        }
      ],
      "source": [
        "batch_size = 20\n",
        "\n",
        "for X, y in data_iter(batch_size, features, labels):\n",
        "    print(X, '\\n', y)\n",
        "    break"
      ]
    },
    {
      "cell_type": "code",
      "execution_count": 6,
      "metadata": {
        "id": "f_yHcVYEwCHq"
      },
      "outputs": [],
      "source": [
        "w = torch.normal(0, 0.01, size=(2,1), requires_grad=True)\n",
        "b = torch.tensor([3])#원하는 실수를 넣어주세요"
      ]
    },
    {
      "cell_type": "code",
      "execution_count": 7,
      "metadata": {
        "id": "wOT4gBtZwDVA"
      },
      "outputs": [],
      "source": [
        "def linreg(X, w, b):\n",
        "    \"\"\"The linear regression model.\"\"\"\n",
        "    return torch.matmul(X, w) + b"
      ]
    },
    {
      "cell_type": "code",
      "execution_count": 8,
      "metadata": {
        "id": "WFYMJrrSwE5R"
      },
      "outputs": [],
      "source": [
        "def squared_loss(y_hat, y):\n",
        "    \"\"\"Squared loss.\"\"\"\n",
        "    return (y_hat - y.reshape(y_hat.shape)) ** 2 / 2"
      ]
    },
    {
      "cell_type": "code",
      "execution_count": 9,
      "metadata": {
        "id": "MXD0qP8PwIn0"
      },
      "outputs": [],
      "source": [
        "def sgd(params, lr, batch_size):\n",
        "    \"\"\"Minibatch stochastic gradient descent.\"\"\"\n",
        "    with torch.no_grad():\n",
        "        for param in params:\n",
        "            if param.grad is not None:\n",
        "                param -= lr * param.grad / batch_size\n",
        "                param.grad.zero_()\n"
      ]
    },
    {
      "cell_type": "code",
      "execution_count": 10,
      "metadata": {
        "id": "pS_hm3J8wJ4z",
        "colab": {
          "base_uri": "https://localhost:8080/"
        },
        "outputId": "80797f26-66a6-4712-c085-a3b39bcc17d4"
      },
      "outputs": [
        {
          "output_type": "stream",
          "name": "stdout",
          "text": [
            "epoch 1, loss 7.768799\n",
            "epoch 2, loss 6.929151\n",
            "epoch 3, loss 6.242201\n",
            "epoch 4, loss 5.679436\n",
            "epoch 5, loss 5.217946\n",
            "epoch 6, loss 4.839975\n",
            "epoch 7, loss 4.530451\n",
            "epoch 8, loss 4.275952\n",
            "epoch 9, loss 4.068118\n",
            "epoch 10, loss 3.897628\n",
            "epoch 11, loss 3.758115\n",
            "epoch 12, loss 3.644144\n",
            "epoch 13, loss 3.550631\n",
            "epoch 14, loss 3.473824\n",
            "epoch 15, loss 3.410655\n",
            "epoch 16, loss 3.359129\n",
            "epoch 17, loss 3.316825\n",
            "epoch 18, loss 3.282321\n",
            "epoch 19, loss 3.253918\n",
            "epoch 20, loss 3.230563\n",
            "epoch 21, loss 3.211386\n",
            "epoch 22, loss 3.195811\n",
            "epoch 23, loss 3.183035\n",
            "epoch 24, loss 3.172548\n",
            "epoch 25, loss 3.163943\n",
            "epoch 26, loss 3.156888\n",
            "epoch 27, loss 3.151081\n",
            "epoch 28, loss 3.146373\n",
            "epoch 29, loss 3.142441\n",
            "epoch 30, loss 3.139244\n"
          ]
        }
      ],
      "source": [
        "lr = 0.001\n",
        "num_epochs = 30\n",
        "net = linreg\n",
        "loss = squared_loss\n",
        "\n",
        "# List for cost graph\n",
        "w1 = []\n",
        "w2 = []\n",
        "loss_w1 = []\n",
        "loss_w2 = []\n",
        "\n",
        "for epoch in range(num_epochs):\n",
        "    for X, y in data_iter(batch_size, features, labels):\n",
        "        l = loss(net(X, w, b), y)\n",
        "        # Compute gradient on `l` with respect to [`w`, `b`]\n",
        "        l.sum().backward()\n",
        "        sgd([w], lr, batch_size)\n",
        "    with torch.no_grad():\n",
        "        train_l = loss(net(features, w, b), labels)\n",
        "        print(f'epoch {epoch + 1}, loss {float(train_l.mean()):f}')\n",
        "\n",
        "        # Append List for cost graph\n",
        "        w1.append(w.tolist()[0])\n",
        "        w2.append(w.tolist()[1])\n",
        "        loss_w1.append(train_l[0].mean())\n",
        "        loss_w2.append(train_l[1].mean())"
      ]
    },
    {
      "cell_type": "code",
      "execution_count": 11,
      "metadata": {
        "id": "u_WSAjwNwMEY",
        "colab": {
          "base_uri": "https://localhost:8080/"
        },
        "outputId": "85af2ff9-c1ce-43e2-8b5e-83c425f90e78"
      },
      "outputs": [
        {
          "output_type": "stream",
          "name": "stdout",
          "text": [
            "error in estimating w: tensor([ 0.1344, -0.0701], grad_fn=<SubBackward0>)\n",
            "error in estimating b: tensor([2.5000])\n"
          ]
        }
      ],
      "source": [
        "print(f'error in estimating w: {true_w - w.reshape(true_w.shape)}')\n",
        "print(f'error in estimating b: {true_b - b}')"
      ]
    },
    {
      "cell_type": "markdown",
      "metadata": {
        "id": "tDSteRKdREC9"
      },
      "source": [
        "\\+ cost graph 그리기 (x축 w, y축 loss)"
      ]
    },
    {
      "cell_type": "code",
      "source": [
        "import matplotlib.pyplot as plt"
      ],
      "metadata": {
        "id": "z9E3E8r1WLT0"
      },
      "execution_count": 12,
      "outputs": []
    },
    {
      "cell_type": "code",
      "execution_count": 13,
      "metadata": {
        "id": "13ySyXh7RMcn",
        "colab": {
          "base_uri": "https://localhost:8080/",
          "height": 890
        },
        "outputId": "e27720f7-260d-4651-d239-7b18575d9879"
      },
      "outputs": [
        {
          "output_type": "execute_result",
          "data": {
            "text/plain": [
              "Text(0, 0.5, 'loss')"
            ]
          },
          "metadata": {},
          "execution_count": 13
        },
        {
          "output_type": "display_data",
          "data": {
            "text/plain": [
              "<Figure size 1000x1000 with 2 Axes>"
            ],
            "image/png": "[encoded data removed]"
          },
          "metadata": {}
        }
      ],
      "source": [
        "plt.figure(figsize=(10,10))\n",
        "\n",
        "plt.subplot(2,1,1)\n",
        "plt.plot(w1,loss_w1)\n",
        "plt.title('w1 cost graph')\n",
        "plt.xlabel('w1')\n",
        "plt.ylabel('loss')\n",
        "\n",
        "plt.subplot(2,1,2)\n",
        "plt.plot(w2,loss_w2)\n",
        "plt.title('w2 cost graph')\n",
        "plt.xlabel('w2')\n",
        "plt.ylabel('loss')"
      ]
    },
    {
      "cell_type": "markdown",
      "metadata": {
        "id": "WSKKAGx4wNd4"
      },
      "source": [
        "### Concise Implementation of Linear Regression\n",
        "- API 사용해보기"
      ]
    },
    {
      "cell_type": "code",
      "execution_count": 14,
      "metadata": {
        "id": "CWiOlkzKxEkf"
      },
      "outputs": [],
      "source": [
        "import numpy as np\n",
        "import torch\n",
        "from torch.utils import data\n",
        "from d2l import torch as d2l\n",
        "\n",
        "true_w = torch.tensor([3, -1.5])\n",
        "true_b = 5.5\n",
        "features, labels = d2l.synthetic_data(true_w, true_b, 2000)"
      ]
    },
    {
      "cell_type": "code",
      "execution_count": 15,
      "metadata": {
        "id": "F5tRyjkmxGUe"
      },
      "outputs": [],
      "source": [
        "def load_array(data_arrays, batch_size, is_train=True):\n",
        "    \"\"\"Construct a PyTorch data iterator.\"\"\"\n",
        "    dataset = data.TensorDataset(*data_arrays)\n",
        "    return data.DataLoader(dataset, batch_size, shuffle=is_train)\n",
        "\n",
        "batch_size = 20\n",
        "data_iter = load_array((features, labels), batch_size)"
      ]
    },
    {
      "cell_type": "code",
      "execution_count": 16,
      "metadata": {
        "id": "NBaqnZG4xHgP",
        "colab": {
          "base_uri": "https://localhost:8080/"
        },
        "collapsed": true,
        "outputId": "5adb868a-3dcd-44de-81d7-54c2490a916f"
      },
      "outputs": [
        {
          "output_type": "execute_result",
          "data": {
            "text/plain": [
              "[tensor([[ 0.1108, -0.2577],\n",
              "         [ 0.2055,  1.4431],\n",
              "         [ 0.5991, -1.3985],\n",
              "         [-0.0399,  0.5389],\n",
              "         [-0.0847, -1.0443],\n",
              "         [ 0.5608,  0.6663],\n",
              "         [ 0.0091, -0.4130],\n",
              "         [ 0.5929,  0.2321],\n",
              "         [ 0.0352, -0.1437],\n",
              "         [-0.0110,  0.3516],\n",
              "         [ 0.2477,  0.4908],\n",
              "         [ 0.7703, -0.2506],\n",
              "         [ 0.4498, -1.5465],\n",
              "         [-0.9796,  0.2271],\n",
              "         [ 0.3968, -0.9496],\n",
              "         [-0.9037,  1.5428],\n",
              "         [-0.4792,  0.8853],\n",
              "         [-1.3665, -2.0455],\n",
              "         [-0.2528,  1.5430],\n",
              "         [-1.9257,  0.0593]]),\n",
              " tensor([[ 6.2076],\n",
              "         [ 3.9526],\n",
              "         [ 9.3867],\n",
              "         [ 4.5782],\n",
              "         [ 6.8176],\n",
              "         [ 6.1954],\n",
              "         [ 6.1375],\n",
              "         [ 6.9294],\n",
              "         [ 5.8165],\n",
              "         [ 4.9416],\n",
              "         [ 5.5203],\n",
              "         [ 8.1748],\n",
              "         [ 9.1653],\n",
              "         [ 2.2385],\n",
              "         [ 8.1101],\n",
              "         [ 0.4680],\n",
              "         [ 2.7408],\n",
              "         [ 4.4569],\n",
              "         [ 2.4169],\n",
              "         [-0.3707]])]"
            ]
          },
          "metadata": {},
          "execution_count": 16
        }
      ],
      "source": [
        "next(iter(data_iter))"
      ]
    },
    {
      "cell_type": "code",
      "execution_count": 17,
      "metadata": {
        "id": "J_83KBFOxJFB"
      },
      "outputs": [],
      "source": [
        "from torch import nn\n",
        "\n",
        "net = nn.Sequential(nn.Linear(2,1))"
      ]
    },
    {
      "cell_type": "code",
      "execution_count": 18,
      "metadata": {
        "id": "AdJQQgFaxL2H",
        "colab": {
          "base_uri": "https://localhost:8080/"
        },
        "outputId": "98b33b50-fbf2-47fa-f8e1-2eeab201eed9"
      },
      "outputs": [
        {
          "output_type": "execute_result",
          "data": {
            "text/plain": [
              "tensor([0.])"
            ]
          },
          "metadata": {},
          "execution_count": 18
        }
      ],
      "source": [
        "net[0].weight.data.normal_(0, 0.01)\n",
        "net[0].bias.data.fill_(0)"
      ]
    },
    {
      "cell_type": "code",
      "execution_count": 19,
      "metadata": {
        "id": "vSCAFyfAxNAn"
      },
      "outputs": [],
      "source": [
        "loss = nn.MSELoss()"
      ]
    },
    {
      "cell_type": "code",
      "execution_count": 20,
      "metadata": {
        "id": "_yee2wG1xOYW"
      },
      "outputs": [],
      "source": [
        "trainer = torch.optim.SGD(net.parameters(),lr=0.01) ###api function으로 직접 설정"
      ]
    },
    {
      "cell_type": "code",
      "execution_count": 21,
      "metadata": {
        "id": "5fAmW5bUxP9Z",
        "colab": {
          "base_uri": "https://localhost:8080/"
        },
        "outputId": "ac552d84-878d-48e0-cce0-400c2ea83cc7"
      },
      "outputs": [
        {
          "output_type": "stream",
          "name": "stdout",
          "text": [
            "epoch 1, loss 0.673180\n",
            "epoch 2, loss 0.010825\n",
            "epoch 3, loss 0.000276\n"
          ]
        }
      ],
      "source": [
        "num_epochs = 3\n",
        "for epoch in range(num_epochs):\n",
        "    for X, y in data_iter:\n",
        "        l = loss(net(X),y)\n",
        "        trainer.zero_grad()\n",
        "        l.backward()\n",
        "        trainer.step()\n",
        "    l = loss(net(features), labels)\n",
        "    print(f'epoch {epoch + 1}, loss {l:f}')"
      ]
    },
    {
      "cell_type": "code",
      "execution_count": 23,
      "metadata": {
        "id": "JT8VD6GhxR5m",
        "colab": {
          "base_uri": "https://localhost:8080/"
        },
        "outputId": "6313c694-daa8-4330-994c-f29c9f694022"
      },
      "outputs": [
        {
          "output_type": "stream",
          "name": "stdout",
          "text": [
            "error in estimating w: tensor([ 0.0056, -0.0015])\n",
            "error in estimating b: tensor([0.0118])\n"
          ]
        }
      ],
      "source": [
        "w = net[0].weight.data ###학습결과 w 구하는 식\n",
        "print('error in estimating w:', true_w - w.reshape(true_w.shape))\n",
        "b = net[0].bias.data ###학습결과 b 구하는 식\n",
        "print('error in estimating b:', true_b - b)"
      ]
    }
  ],
  "metadata": {
    "colab": {
      "provenance": [],
      "toc_visible": true,
      "gpuType": "T4"
    },
    "kernelspec": {
      "display_name": "Python 3",
      "name": "python3"
    },
    "language_info": {
      "name": "python"
    },
    "accelerator": "GPU"
  },
  "nbformat": 4,
  "nbformat_minor": 0
}