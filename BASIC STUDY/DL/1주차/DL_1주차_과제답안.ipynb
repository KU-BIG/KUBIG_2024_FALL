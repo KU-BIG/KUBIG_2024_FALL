{
  "cells": [
    {
      "cell_type": "markdown",
      "metadata": {
        "id": "YffDGVSIxijw"
      },
      "source": [
        "# 1주차 과제\n",
        "- 파이토치 시작하기 및 간단한 코드 빈칸 채워넣기"
      ]
    },
    {
      "cell_type": "markdown",
      "metadata": {
        "id": "MivAstLj4EpN"
      },
      "source": [
        "## 파이토치 시작하기"
      ]
    },
    {
      "cell_type": "code",
      "execution_count": 5,
      "metadata": {
        "id": "BS39ZJTi4CD0"
      },
      "outputs": [],
      "source": [
        "import torch"
      ]
    },
    {
      "cell_type": "markdown",
      "metadata": {
        "id": "ixz0WyWH4kSJ"
      },
      "source": [
        "- tensor 개념 파악 (array of numerical values(vector, matrix..))\n",
        "- 4x3 행렬 두 개 만들고 행으로 병합, 열로 병합\n"
      ]
    },
    {
      "cell_type": "code",
      "execution_count": 6,
      "metadata": {
        "id": "OlLUsvmL4kEY",
        "colab": {
          "base_uri": "https://localhost:8080/"
        },
        "outputId": "fbc420d9-f877-42d6-e195-04a5e83735dd"
      },
      "outputs": [
        {
          "output_type": "execute_result",
          "data": {
            "text/plain": [
              "(tensor([[ 0.8372, -0.5363, -0.2290,  0.8118,  1.5460, -1.9397],\n",
              "         [ 0.3155, -0.8821,  2.1040, -0.3859,  1.0133,  0.3375],\n",
              "         [-0.9982,  0.2446,  0.4542, -0.0679,  1.3388,  0.3144],\n",
              "         [-1.7670,  0.0488,  0.8293, -1.7252, -1.1697, -0.2959]]),\n",
              " tensor([[ 0.8372, -0.5363, -0.2290],\n",
              "         [ 0.3155, -0.8821,  2.1040],\n",
              "         [-0.9982,  0.2446,  0.4542],\n",
              "         [-1.7670,  0.0488,  0.8293],\n",
              "         [ 0.8118,  1.5460, -1.9397],\n",
              "         [-0.3859,  1.0133,  0.3375],\n",
              "         [-0.0679,  1.3388,  0.3144],\n",
              "         [-1.7252, -1.1697, -0.2959]]))"
            ]
          },
          "metadata": {},
          "execution_count": 6
        }
      ],
      "source": [
        "X=torch.randn(4, 3)\n",
        "Y=torch.randn(4, 3)\n",
        "\n",
        "# 행으로 병합 코드\n",
        "concat_row = torch.cat((X, Y), dim=1)\n",
        "# 열로 병합 코드\n",
        "concat_col = torch.cat((X, Y), dim=0)\n",
        "concat_row, concat_col"
      ]
    },
    {
      "cell_type": "markdown",
      "metadata": {
        "id": "Gh-1LJliusEc"
      },
      "source": [
        "### Linear Regression Implementation from Scratch\n",
        "- 머신러닝 기초와 비슷한 내용이지만 파이토치로 실행해보며 익숙해지는것이 목표\n"
      ]
    },
    {
      "cell_type": "code",
      "execution_count": 7,
      "metadata": {
        "id": "Ybbbqg8TqAVR",
        "colab": {
          "base_uri": "https://localhost:8080/"
        },
        "outputId": "84f1f572-f55a-43e7-de5f-94dc52c07581"
      },
      "outputs": [
        {
          "output_type": "stream",
          "name": "stdout",
          "text": [
            "\u001b[2K     \u001b[90m━━━━━━━━━━━━━━━━━━━━━━━━━━━━━━━━━━━━━━━━\u001b[0m \u001b[32m111.7/111.7 kB\u001b[0m \u001b[31m910.3 kB/s\u001b[0m eta \u001b[36m0:00:00\u001b[0m\n",
            "\u001b[2K     \u001b[90m━━━━━━━━━━━━━━━━━━━━━━━━━━━━━━━━━━━━━━━━\u001b[0m \u001b[32m17.1/17.1 MB\u001b[0m \u001b[31m20.9 MB/s\u001b[0m eta \u001b[36m0:00:00\u001b[0m\n",
            "\u001b[2K     \u001b[90m━━━━━━━━━━━━━━━━━━━━━━━━━━━━━━━━━━━━━━━━\u001b[0m \u001b[32m11.6/11.6 MB\u001b[0m \u001b[31m28.3 MB/s\u001b[0m eta \u001b[36m0:00:00\u001b[0m\n",
            "\u001b[2K     \u001b[90m━━━━━━━━━━━━━━━━━━━━━━━━━━━━━━━━━━━━━━━━\u001b[0m \u001b[32m34.4/34.4 MB\u001b[0m \u001b[31m12.8 MB/s\u001b[0m eta \u001b[36m0:00:00\u001b[0m\n",
            "\u001b[2K     \u001b[90m━━━━━━━━━━━━━━━━━━━━━━━━━━━━━━━━━━━━━━━━\u001b[0m \u001b[32m123.4/123.4 kB\u001b[0m \u001b[31m8.7 MB/s\u001b[0m eta \u001b[36m0:00:00\u001b[0m\n",
            "\u001b[2K     \u001b[90m━━━━━━━━━━━━━━━━━━━━━━━━━━━━━━━━━━━━━━━━\u001b[0m \u001b[32m98.3/98.3 kB\u001b[0m \u001b[31m7.1 MB/s\u001b[0m eta \u001b[36m0:00:00\u001b[0m\n",
            "\u001b[2K     \u001b[90m━━━━━━━━━━━━━━━━━━━━━━━━━━━━━━━━━━━━━━━━\u001b[0m \u001b[32m93.5/93.5 kB\u001b[0m \u001b[31m5.8 MB/s\u001b[0m eta \u001b[36m0:00:00\u001b[0m\n",
            "\u001b[2K     \u001b[90m━━━━━━━━━━━━━━━━━━━━━━━━━━━━━━━━━━━━━━━━\u001b[0m \u001b[32m1.6/1.6 MB\u001b[0m \u001b[31m11.8 MB/s\u001b[0m eta \u001b[36m0:00:00\u001b[0m\n",
            "\u001b[?25h\u001b[31mERROR: pip's dependency resolver does not currently take into account all the packages that are installed. This behaviour is the source of the following dependency conflicts.\n",
            "chex 0.1.86 requires numpy>=1.24.1, but you have numpy 1.23.5 which is incompatible.\n",
            "pandas-stubs 2.0.3.230814 requires numpy>=1.25.0; python_version >= \"3.9\", but you have numpy 1.23.5 which is incompatible.\u001b[0m\u001b[31m\n",
            "\u001b[0m"
          ]
        }
      ],
      "source": [
        "!pip install --quiet d2l # d2l 라이브러리에서 제공하는 기능 사용 위함"
      ]
    },
    {
      "cell_type": "code",
      "execution_count": 8,
      "metadata": {
        "id": "YyWEB6e3FKYY"
      },
      "outputs": [],
      "source": [
        "%matplotlib inline\n",
        "import random\n",
        "import torch\n",
        "from d2l import torch as d2l"
      ]
    },
    {
      "cell_type": "code",
      "execution_count": 9,
      "metadata": {
        "id": "exWjbVn2v3CT"
      },
      "outputs": [],
      "source": [
        "def synthetic_data(w, b, num_examples):\n",
        "    \"\"\"Generate y = Xw + b + noise.\"\"\"\n",
        "    X = torch.normal(0, 1, (num_examples, len(w)))\n",
        "    y = torch.matmul(X, w) + b\n",
        "    y += torch.normal(0, 0.01, y.shape)\n",
        "    return X, y.reshape((-1, 1))\n",
        "\n",
        "true_w = torch.tensor([3, -1.5])\n",
        "true_b = 5.5\n",
        "features, labels = synthetic_data(true_w, true_b, 2000)"
      ]
    },
    {
      "cell_type": "code",
      "execution_count": 10,
      "metadata": {
        "id": "5UcjckXPv6iy",
        "colab": {
          "base_uri": "https://localhost:8080/"
        },
        "outputId": "e5d71c4c-2bea-45a1-b1bf-081ea3913b1c"
      },
      "outputs": [
        {
          "output_type": "stream",
          "name": "stdout",
          "text": [
            "features: tensor([ 1.5414, -1.3430]) \n",
            "label: tensor([12.1301])\n"
          ]
        }
      ],
      "source": [
        "print('features:', features[0],'\\nlabel:', labels[0])"
      ]
    },
    {
      "cell_type": "code",
      "execution_count": 11,
      "metadata": {
        "id": "jLY6YR5Zv_gO"
      },
      "outputs": [],
      "source": [
        "def data_iter(batch_size, features, labels):\n",
        "    num_examples = len(features)\n",
        "    indices = list(range(num_examples))\n",
        "    # The examples are read at random, in no particular order\n",
        "    random.shuffle(indices)\n",
        "    ###반복문으로 채워넣기:\n",
        "    for i in range(0, num_examples, batch_size):\n",
        "        ##이하는 반복문에 대한 조건입니다.\n",
        "        batch_indices = torch.tensor(\n",
        "            indices[i: min(i + batch_size, num_examples)])\n",
        "        yield features[batch_indices], labels[batch_indices]"
      ]
    },
    {
      "cell_type": "code",
      "execution_count": 12,
      "metadata": {
        "id": "zuxxEAvdwA7p",
        "colab": {
          "base_uri": "https://localhost:8080/"
        },
        "outputId": "5f697498-9b04-4651-ce1e-2e2d5c36cebe"
      },
      "outputs": [
        {
          "output_type": "stream",
          "name": "stdout",
          "text": [
            "tensor([[-0.0504,  0.9733],\n",
            "        [ 0.9971, -0.2393],\n",
            "        [ 1.3286, -2.5165],\n",
            "        [-2.2013,  0.5004],\n",
            "        [-0.9840,  0.3523],\n",
            "        [-0.2470,  0.1538],\n",
            "        [ 0.4433,  1.9201],\n",
            "        [-0.4245,  0.4011],\n",
            "        [-0.3025,  0.3607],\n",
            "        [-1.9374,  0.9217],\n",
            "        [ 0.2855,  0.0102],\n",
            "        [-1.4543,  1.2898],\n",
            "        [ 0.3862,  0.9810],\n",
            "        [ 0.5906,  1.6977],\n",
            "        [-1.5607,  0.6068],\n",
            "        [ 0.0487, -1.0858],\n",
            "        [-0.3481,  2.2362],\n",
            "        [-1.0625,  0.0386],\n",
            "        [ 0.3335, -0.3649],\n",
            "        [-1.4119, -1.0879]]) \n",
            " tensor([[ 3.8913],\n",
            "        [ 8.8489],\n",
            "        [13.2658],\n",
            "        [-1.8651],\n",
            "        [ 2.0142],\n",
            "        [ 4.5260],\n",
            "        [ 3.9391],\n",
            "        [ 3.6157],\n",
            "        [ 4.0442],\n",
            "        [-1.6953],\n",
            "        [ 6.3358],\n",
            "        [-0.7968],\n",
            "        [ 5.1904],\n",
            "        [ 4.7240],\n",
            "        [-0.0939],\n",
            "        [ 7.2686],\n",
            "        [ 1.1112],\n",
            "        [ 2.2429],\n",
            "        [ 7.0475],\n",
            "        [ 2.9015]])\n"
          ]
        }
      ],
      "source": [
        "batch_size = 20\n",
        "\n",
        "for X, y in data_iter(batch_size, features, labels):\n",
        "    print(X, '\\n', y)\n",
        "    break"
      ]
    },
    {
      "cell_type": "code",
      "execution_count": 13,
      "metadata": {
        "id": "f_yHcVYEwCHq"
      },
      "outputs": [],
      "source": [
        "w = torch.normal(0, 0.01, size=(2,1), requires_grad=True)\n",
        "b = torch.tensor([1.0], requires_grad=True) #원하는 실수를 넣어주세요"
      ]
    },
    {
      "cell_type": "code",
      "execution_count": 14,
      "metadata": {
        "id": "wOT4gBtZwDVA"
      },
      "outputs": [],
      "source": [
        "def linreg(X, w, b):\n",
        "    \"\"\"The linear regression model.\"\"\"\n",
        "    return torch.matmul(X, w) + b ###lr func 코드 완성하기"
      ]
    },
    {
      "cell_type": "code",
      "execution_count": 15,
      "metadata": {
        "id": "WFYMJrrSwE5R"
      },
      "outputs": [],
      "source": [
        "def squared_loss(y_hat, y):\n",
        "    \"\"\"Squared loss.\"\"\"\n",
        "    return torch.mean((y_hat - y)**2) ###loss function 직접 짜보기"
      ]
    },
    {
      "cell_type": "code",
      "execution_count": 16,
      "metadata": {
        "id": "MXD0qP8PwIn0"
      },
      "outputs": [],
      "source": [
        "def sgd(params, lr, batch_size):\n",
        "    \"\"\"Minibatch stochastic gradient descent.\"\"\"\n",
        "    with torch.no_grad():\n",
        "        ###반복문으로 채워넣기\n",
        "        for param in params:\n",
        "          param -= lr * param.grad / batch_size\n",
        "          param.grad.zero_()"
      ]
    },
    {
      "cell_type": "code",
      "execution_count": 17,
      "metadata": {
        "id": "pS_hm3J8wJ4z",
        "colab": {
          "base_uri": "https://localhost:8080/"
        },
        "outputId": "a8550948-23d8-44aa-bcda-048ea3bf18e1"
      },
      "outputs": [
        {
          "output_type": "stream",
          "name": "stdout",
          "text": [
            "epoch 1, loss 26.253847\n",
            "epoch 2, loss 21.397606\n",
            "epoch 3, loss 17.440952\n",
            "epoch 4, loss 14.216971\n",
            "epoch 5, loss 11.589836\n",
            "epoch 6, loss 9.448842\n",
            "epoch 7, loss 7.703907\n",
            "epoch 8, loss 6.281670\n",
            "epoch 9, loss 5.122344\n",
            "epoch 10, loss 4.177283\n",
            "epoch 11, loss 3.406821\n",
            "epoch 12, loss 2.778654\n",
            "epoch 13, loss 2.266473\n",
            "epoch 14, loss 1.848832\n",
            "epoch 15, loss 1.508257\n",
            "epoch 16, loss 1.230505\n",
            "epoch 17, loss 1.003971\n",
            "epoch 18, loss 0.819196\n",
            "epoch 19, loss 0.668474\n",
            "epoch 20, loss 0.545526\n",
            "epoch 21, loss 0.445220\n",
            "epoch 22, loss 0.363382\n",
            "epoch 23, loss 0.296609\n",
            "epoch 24, loss 0.242124\n",
            "epoch 25, loss 0.197664\n",
            "epoch 26, loss 0.161382\n",
            "epoch 27, loss 0.131771\n",
            "epoch 28, loss 0.107601\n",
            "epoch 29, loss 0.087874\n",
            "epoch 30, loss 0.071771\n",
            "epoch 31, loss 0.058627\n",
            "epoch 32, loss 0.047894\n",
            "epoch 33, loss 0.039133\n",
            "epoch 34, loss 0.031979\n",
            "epoch 35, loss 0.026137\n",
            "epoch 36, loss 0.021368\n",
            "epoch 37, loss 0.017473\n",
            "epoch 38, loss 0.014292\n",
            "epoch 39, loss 0.011693\n",
            "epoch 40, loss 0.009571\n",
            "epoch 41, loss 0.007838\n",
            "epoch 42, loss 0.006422\n",
            "epoch 43, loss 0.005265\n",
            "epoch 44, loss 0.004320\n",
            "epoch 45, loss 0.003548\n",
            "epoch 46, loss 0.002917\n",
            "epoch 47, loss 0.002402\n",
            "epoch 48, loss 0.001981\n",
            "epoch 49, loss 0.001636\n",
            "epoch 50, loss 0.001355\n",
            "epoch 51, loss 0.001125\n",
            "epoch 52, loss 0.000937\n",
            "epoch 53, loss 0.000784\n",
            "epoch 54, loss 0.000659\n",
            "epoch 55, loss 0.000556\n",
            "epoch 56, loss 0.000472\n",
            "epoch 57, loss 0.000404\n",
            "epoch 58, loss 0.000348\n",
            "epoch 59, loss 0.000302\n",
            "epoch 60, loss 0.000264\n",
            "epoch 61, loss 0.000234\n",
            "epoch 62, loss 0.000209\n",
            "epoch 63, loss 0.000188\n",
            "epoch 64, loss 0.000172\n",
            "epoch 65, loss 0.000158\n",
            "epoch 66, loss 0.000147\n",
            "epoch 67, loss 0.000137\n",
            "epoch 68, loss 0.000130\n",
            "epoch 69, loss 0.000124\n",
            "epoch 70, loss 0.000119\n",
            "epoch 71, loss 0.000115\n",
            "epoch 72, loss 0.000111\n",
            "epoch 73, loss 0.000109\n",
            "epoch 74, loss 0.000106\n",
            "epoch 75, loss 0.000105\n",
            "epoch 76, loss 0.000103\n",
            "epoch 77, loss 0.000102\n",
            "epoch 78, loss 0.000101\n",
            "epoch 79, loss 0.000100\n",
            "epoch 80, loss 0.000099\n",
            "epoch 81, loss 0.000099\n",
            "epoch 82, loss 0.000098\n",
            "epoch 83, loss 0.000098\n",
            "epoch 84, loss 0.000098\n",
            "epoch 85, loss 0.000097\n",
            "epoch 86, loss 0.000097\n",
            "epoch 87, loss 0.000097\n",
            "epoch 88, loss 0.000097\n",
            "epoch 89, loss 0.000097\n",
            "epoch 90, loss 0.000097\n",
            "epoch 91, loss 0.000097\n",
            "epoch 92, loss 0.000097\n",
            "epoch 93, loss 0.000097\n",
            "epoch 94, loss 0.000097\n",
            "epoch 95, loss 0.000097\n",
            "epoch 96, loss 0.000096\n",
            "epoch 97, loss 0.000096\n",
            "epoch 98, loss 0.000096\n",
            "epoch 99, loss 0.000096\n",
            "epoch 100, loss 0.000096\n"
          ]
        }
      ],
      "source": [
        "lr = 0.01 ###직접 설정\n",
        "num_epochs = 100 ###직접 설정\n",
        "net = linreg ###위에서 가져오기\n",
        "loss = squared_loss ###위에서 가져오기\n",
        "w_val = [[], []]\n",
        "loss_val = []\n",
        "\n",
        "\n",
        "for epoch in range(num_epochs):\n",
        "    for X, y in data_iter(batch_size, features, labels):\n",
        "        l = loss(net(X, w, b), y)  ###채워넣기\n",
        "        # Compute gradient on `l` with respect to [`w`, `b`]\n",
        "        l.sum().backward()\n",
        "        sgd([w, b], lr, batch_size)  ###채워넣기\n",
        "    with torch.no_grad():\n",
        "        train_l = loss(net(features, w, b), labels)\n",
        "        w_val[0].append(w.data.numpy().tolist()[0][0])\n",
        "        w_val[1].append(w.data.numpy().tolist()[1][0])\n",
        "        loss_val.append(float(train_l.mean()))\n",
        "        print(f'epoch {epoch + 1}, loss {float(train_l.mean()):f}')"
      ]
    },
    {
      "cell_type": "code",
      "execution_count": 18,
      "metadata": {
        "id": "u_WSAjwNwMEY",
        "colab": {
          "base_uri": "https://localhost:8080/"
        },
        "outputId": "7265477b-ddc5-43bb-8f8a-6a89e5bb28b1"
      },
      "outputs": [
        {
          "output_type": "stream",
          "name": "stdout",
          "text": [
            "error in estimating w: tensor([-0.0001, -0.0001], grad_fn=<SubBackward0>)\n",
            "error in estimating b: tensor([0.0001], grad_fn=<RsubBackward1>)\n"
          ]
        }
      ],
      "source": [
        "print(f'error in estimating w: {true_w - w.reshape(true_w.shape)}')\n",
        "print(f'error in estimating b: {true_b - b}')"
      ]
    },
    {
      "cell_type": "markdown",
      "metadata": {
        "id": "tDSteRKdREC9"
      },
      "source": [
        "\\+ cost graph 그리기 (x축 w, y축 loss)"
      ]
    },
    {
      "cell_type": "code",
      "source": [
        "import matplotlib.pyplot as plt\n",
        "\n",
        "fig = plt.figure(figsize=(12, 6))\n",
        "\n",
        "plt.subplot(1, 2, 1)\n",
        "plt.grid()\n",
        "plt.plot(w_val[0], loss_val)\n",
        "plt.title('Cost graph of w0(True=3)')\n",
        "\n",
        "plt.subplot(1, 2, 2)\n",
        "plt.grid()\n",
        "plt.plot(w_val[1], loss_val)\n",
        "plt.title('Cost graph of w1(True=-1.5)')\n",
        "\n",
        "plt.show()"
      ],
      "metadata": {
        "colab": {
          "base_uri": "https://localhost:8080/",
          "height": 357
        },
        "id": "MbjiVrnqNcCK",
        "outputId": "9a9e5bde-9e2f-4799-8bab-52d427e1f5c2"
      },
      "execution_count": 19,
      "outputs": [
        {
          "output_type": "display_data",
          "data": {
            "text/plain": [
              "<Figure size 1200x600 with 2 Axes>"
            ],
            "image/png": "[encoded data removed]"
          },
          "metadata": {}
        }
      ]
    },
    {
      "cell_type": "markdown",
      "metadata": {
        "id": "WSKKAGx4wNd4"
      },
      "source": [
        "### Concise Implementation of Linear Regression\n",
        "- API 사용해보기"
      ]
    },
    {
      "cell_type": "code",
      "execution_count": 20,
      "metadata": {
        "id": "CWiOlkzKxEkf"
      },
      "outputs": [],
      "source": [
        "import numpy as np\n",
        "import torch\n",
        "from torch.utils import data\n",
        "from d2l import torch as d2l\n",
        "\n",
        "true_w = torch.tensor([3, -1.5])\n",
        "true_b = 5.5\n",
        "features, labels = d2l.synthetic_data(true_w, true_b, 2000)"
      ]
    },
    {
      "cell_type": "code",
      "execution_count": 21,
      "metadata": {
        "id": "F5tRyjkmxGUe"
      },
      "outputs": [],
      "source": [
        "def load_array(data_arrays, batch_size, is_train=True):\n",
        "    \"\"\"Construct a PyTorch data iterator.\"\"\"\n",
        "    dataset = data.TensorDataset(*data_arrays)\n",
        "    return data.DataLoader(dataset, batch_size, shuffle=is_train)\n",
        "\n",
        "batch_size = 20\n",
        "data_iter = load_array((features, labels), batch_size)"
      ]
    },
    {
      "cell_type": "code",
      "execution_count": 22,
      "metadata": {
        "id": "NBaqnZG4xHgP",
        "colab": {
          "base_uri": "https://localhost:8080/"
        },
        "outputId": "1a137986-d3e0-4079-b769-1914cbab924e"
      },
      "outputs": [
        {
          "output_type": "execute_result",
          "data": {
            "text/plain": [
              "[tensor([[-0.3386, -0.4529],\n",
              "         [ 0.6246,  0.3912],\n",
              "         [-0.1366, -0.7928],\n",
              "         [ 1.2130,  0.8777],\n",
              "         [ 1.0526,  0.0630],\n",
              "         [ 0.1434,  0.0541],\n",
              "         [-1.5926,  0.0110],\n",
              "         [ 1.0803, -0.1167],\n",
              "         [ 0.2959, -0.7801],\n",
              "         [ 0.0796, -0.3738],\n",
              "         [-0.9865, -1.1688],\n",
              "         [-0.7403,  0.5337],\n",
              "         [ 1.4157,  1.0409],\n",
              "         [-0.3583, -0.1958],\n",
              "         [-0.6618,  0.5797],\n",
              "         [-0.5273,  0.0658],\n",
              "         [-0.0253, -0.5662],\n",
              "         [ 1.1516, -0.8647],\n",
              "         [-1.3295,  0.2666],\n",
              "         [ 1.3576,  2.0943]]),\n",
              " tensor([[ 5.1730],\n",
              "         [ 6.8040],\n",
              "         [ 6.2796],\n",
              "         [ 7.8221],\n",
              "         [ 8.5608],\n",
              "         [ 5.8524],\n",
              "         [ 0.6984],\n",
              "         [ 8.9092],\n",
              "         [ 7.5502],\n",
              "         [ 6.3120],\n",
              "         [ 4.2918],\n",
              "         [ 2.4840],\n",
              "         [ 8.1882],\n",
              "         [ 4.7136],\n",
              "         [ 2.6443],\n",
              "         [ 3.8172],\n",
              "         [ 6.2743],\n",
              "         [10.2599],\n",
              "         [ 1.1288],\n",
              "         [ 6.4293]])]"
            ]
          },
          "metadata": {},
          "execution_count": 22
        }
      ],
      "source": [
        "next(iter(data_iter))"
      ]
    },
    {
      "cell_type": "code",
      "execution_count": 23,
      "metadata": {
        "id": "J_83KBFOxJFB"
      },
      "outputs": [],
      "source": [
        "from torch import nn\n",
        "\n",
        "net = nn.Sequential(\n",
        "    nn.Linear(2, 1, bias=True) ###채워넣기\n",
        "    )"
      ]
    },
    {
      "cell_type": "code",
      "execution_count": 24,
      "metadata": {
        "id": "AdJQQgFaxL2H",
        "colab": {
          "base_uri": "https://localhost:8080/"
        },
        "outputId": "846618b4-72fd-4502-e768-201991884d08"
      },
      "outputs": [
        {
          "output_type": "execute_result",
          "data": {
            "text/plain": [
              "tensor([0.])"
            ]
          },
          "metadata": {},
          "execution_count": 24
        }
      ],
      "source": [
        "net[0].weight.data.normal_(0, 0.01)\n",
        "net[0].bias.data.fill_(0)"
      ]
    },
    {
      "cell_type": "code",
      "execution_count": 25,
      "metadata": {
        "id": "vSCAFyfAxNAn"
      },
      "outputs": [],
      "source": [
        "loss = nn.MSELoss() ###api function으로 직접 설정"
      ]
    },
    {
      "cell_type": "code",
      "execution_count": 26,
      "metadata": {
        "id": "_yee2wG1xOYW"
      },
      "outputs": [],
      "source": [
        "trainer = torch.optim.SGD(net.parameters(), lr=0.01) ###api function으로 직접 설정"
      ]
    },
    {
      "cell_type": "code",
      "execution_count": 27,
      "metadata": {
        "id": "5fAmW5bUxP9Z",
        "colab": {
          "base_uri": "https://localhost:8080/"
        },
        "outputId": "c2f68bff-7c98-47fd-9b50-1c05e75c557a"
      },
      "outputs": [
        {
          "output_type": "stream",
          "name": "stdout",
          "text": [
            "epoch 1, loss 0.670412\n",
            "epoch 2, loss 0.010682\n",
            "epoch 3, loss 0.000272\n"
          ]
        }
      ],
      "source": [
        "num_epochs = 3\n",
        "for epoch in range(num_epochs):\n",
        "    for X, y in data_iter:\n",
        "        l = loss(net(X), y) ###직접설정\n",
        "        trainer.zero_grad()\n",
        "        l.backward()\n",
        "        trainer.step()\n",
        "    l = loss(net(features), labels)\n",
        "    print(f'epoch {epoch + 1}, loss {l:f}')"
      ]
    },
    {
      "cell_type": "code",
      "execution_count": 28,
      "metadata": {
        "id": "JT8VD6GhxR5m",
        "colab": {
          "base_uri": "https://localhost:8080/"
        },
        "outputId": "9c1d6607-49f0-47b3-b011-083acc0ef73b"
      },
      "outputs": [
        {
          "output_type": "stream",
          "name": "stdout",
          "text": [
            "error in estimating w: tensor([ 0.0054, -0.0032])\n",
            "error in estimating b: tensor([0.0114])\n"
          ]
        }
      ],
      "source": [
        "w = net[0].weight.data\n",
        "print('error in estimating w:', true_w - w.reshape(true_w.shape))\n",
        "b = net[0].bias.data\n",
        "print('error in estimating b:', true_b - b)"
      ]
    }
  ],
  "metadata": {
    "colab": {
      "provenance": []
    },
    "kernelspec": {
      "display_name": "Python 3",
      "name": "python3"
    },
    "language_info": {
      "name": "python"
    }
  },
  "nbformat": 4,
  "nbformat_minor": 0
}