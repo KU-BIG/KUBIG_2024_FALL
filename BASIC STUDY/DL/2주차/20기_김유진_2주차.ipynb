{
  "nbformat": 4,
  "nbformat_minor": 0,
  "metadata": {
    "colab": {
      "provenance": []
    },
    "kernelspec": {
      "name": "python3",
      "display_name": "Python 3"
    },
    "language_info": {
      "name": "python"
    }
  },
  "cells": [
    {
      "cell_type": "markdown",
      "source": [
        "# Linear Regression"
      ],
      "metadata": {
        "id": "486RhWBobF5N"
      }
    },
    {
      "cell_type": "code",
      "source": [
        "!pip install d2l==1.0.3"
      ],
      "metadata": {
        "id": "_uDTvybmiF9y",
        "collapsed": true,
        "colab": {
          "base_uri": "https://localhost:8080/",
          "height": 1000
        },
        "outputId": "c5ed495a-9686-44c6-aa24-0af361f62bb7"
      },
      "execution_count": 1,
      "outputs": [
        {
          "output_type": "stream",
          "name": "stdout",
          "text": [
            "Collecting d2l==1.0.3\n",
            "  Downloading d2l-1.0.3-py3-none-any.whl (111 kB)\n",
            "\u001b[2K     \u001b[90m━━━━━━━━━━━━━━━━━━━━━━━━━━━━━━━━━━━━━━━━\u001b[0m \u001b[32m111.7/111.7 kB\u001b[0m \u001b[31m1.2 MB/s\u001b[0m eta \u001b[36m0:00:00\u001b[0m\n",
            "\u001b[?25hCollecting jupyter==1.0.0 (from d2l==1.0.3)\n",
            "  Downloading jupyter-1.0.0-py2.py3-none-any.whl (2.7 kB)\n",
            "Collecting numpy==1.23.5 (from d2l==1.0.3)\n",
            "  Downloading numpy-1.23.5-cp310-cp310-manylinux_2_17_x86_64.manylinux2014_x86_64.whl (17.1 MB)\n",
            "\u001b[2K     \u001b[90m━━━━━━━━━━━━━━━━━━━━━━━━━━━━━━━━━━━━━━━━\u001b[0m \u001b[32m17.1/17.1 MB\u001b[0m \u001b[31m19.2 MB/s\u001b[0m eta \u001b[36m0:00:00\u001b[0m\n",
            "\u001b[?25hCollecting matplotlib==3.7.2 (from d2l==1.0.3)\n",
            "  Downloading matplotlib-3.7.2-cp310-cp310-manylinux_2_17_x86_64.manylinux2014_x86_64.whl (11.6 MB)\n",
            "\u001b[2K     \u001b[90m━━━━━━━━━━━━━━━━━━━━━━━━━━━━━━━━━━━━━━━━\u001b[0m \u001b[32m11.6/11.6 MB\u001b[0m \u001b[31m17.6 MB/s\u001b[0m eta \u001b[36m0:00:00\u001b[0m\n",
            "\u001b[?25hCollecting matplotlib-inline==0.1.6 (from d2l==1.0.3)\n",
            "  Downloading matplotlib_inline-0.1.6-py3-none-any.whl (9.4 kB)\n",
            "Requirement already satisfied: requests==2.31.0 in /usr/local/lib/python3.10/dist-packages (from d2l==1.0.3) (2.31.0)\n",
            "Requirement already satisfied: pandas==2.0.3 in /usr/local/lib/python3.10/dist-packages (from d2l==1.0.3) (2.0.3)\n",
            "Collecting scipy==1.10.1 (from d2l==1.0.3)\n",
            "  Downloading scipy-1.10.1-cp310-cp310-manylinux_2_17_x86_64.manylinux2014_x86_64.whl (34.4 MB)\n",
            "\u001b[2K     \u001b[90m━━━━━━━━━━━━━━━━━━━━━━━━━━━━━━━━━━━━━━━━\u001b[0m \u001b[32m34.4/34.4 MB\u001b[0m \u001b[31m12.8 MB/s\u001b[0m eta \u001b[36m0:00:00\u001b[0m\n",
            "\u001b[?25hRequirement already satisfied: notebook in /usr/local/lib/python3.10/dist-packages (from jupyter==1.0.0->d2l==1.0.3) (6.5.5)\n",
            "Collecting qtconsole (from jupyter==1.0.0->d2l==1.0.3)\n",
            "  Downloading qtconsole-5.5.2-py3-none-any.whl (123 kB)\n",
            "\u001b[2K     \u001b[90m━━━━━━━━━━━━━━━━━━━━━━━━━━━━━━━━━━━━━━━━\u001b[0m \u001b[32m123.4/123.4 kB\u001b[0m \u001b[31m10.9 MB/s\u001b[0m eta \u001b[36m0:00:00\u001b[0m\n",
            "\u001b[?25hRequirement already satisfied: jupyter-console in /usr/local/lib/python3.10/dist-packages (from jupyter==1.0.0->d2l==1.0.3) (6.1.0)\n",
            "Requirement already satisfied: nbconvert in /usr/local/lib/python3.10/dist-packages (from jupyter==1.0.0->d2l==1.0.3) (6.5.4)\n",
            "Requirement already satisfied: ipykernel in /usr/local/lib/python3.10/dist-packages (from jupyter==1.0.0->d2l==1.0.3) (5.5.6)\n",
            "Requirement already satisfied: ipywidgets in /usr/local/lib/python3.10/dist-packages (from jupyter==1.0.0->d2l==1.0.3) (7.7.1)\n",
            "Requirement already satisfied: contourpy>=1.0.1 in /usr/local/lib/python3.10/dist-packages (from matplotlib==3.7.2->d2l==1.0.3) (1.2.1)\n",
            "Requirement already satisfied: cycler>=0.10 in /usr/local/lib/python3.10/dist-packages (from matplotlib==3.7.2->d2l==1.0.3) (0.12.1)\n",
            "Requirement already satisfied: fonttools>=4.22.0 in /usr/local/lib/python3.10/dist-packages (from matplotlib==3.7.2->d2l==1.0.3) (4.53.1)\n",
            "Requirement already satisfied: kiwisolver>=1.0.1 in /usr/local/lib/python3.10/dist-packages (from matplotlib==3.7.2->d2l==1.0.3) (1.4.5)\n",
            "Requirement already satisfied: packaging>=20.0 in /usr/local/lib/python3.10/dist-packages (from matplotlib==3.7.2->d2l==1.0.3) (24.1)\n",
            "Requirement already satisfied: pillow>=6.2.0 in /usr/local/lib/python3.10/dist-packages (from matplotlib==3.7.2->d2l==1.0.3) (9.4.0)\n",
            "Collecting pyparsing<3.1,>=2.3.1 (from matplotlib==3.7.2->d2l==1.0.3)\n",
            "  Downloading pyparsing-3.0.9-py3-none-any.whl (98 kB)\n",
            "\u001b[2K     \u001b[90m━━━━━━━━━━━━━━━━━━━━━━━━━━━━━━━━━━━━━━━━\u001b[0m \u001b[32m98.3/98.3 kB\u001b[0m \u001b[31m8.8 MB/s\u001b[0m eta \u001b[36m0:00:00\u001b[0m\n",
            "\u001b[?25hRequirement already satisfied: python-dateutil>=2.7 in /usr/local/lib/python3.10/dist-packages (from matplotlib==3.7.2->d2l==1.0.3) (2.8.2)\n",
            "Requirement already satisfied: traitlets in /usr/local/lib/python3.10/dist-packages (from matplotlib-inline==0.1.6->d2l==1.0.3) (5.7.1)\n",
            "Requirement already satisfied: pytz>=2020.1 in /usr/local/lib/python3.10/dist-packages (from pandas==2.0.3->d2l==1.0.3) (2023.4)\n",
            "Requirement already satisfied: tzdata>=2022.1 in /usr/local/lib/python3.10/dist-packages (from pandas==2.0.3->d2l==1.0.3) (2024.1)\n",
            "Requirement already satisfied: charset-normalizer<4,>=2 in /usr/local/lib/python3.10/dist-packages (from requests==2.31.0->d2l==1.0.3) (3.3.2)\n",
            "Requirement already satisfied: idna<4,>=2.5 in /usr/local/lib/python3.10/dist-packages (from requests==2.31.0->d2l==1.0.3) (3.7)\n",
            "Requirement already satisfied: urllib3<3,>=1.21.1 in /usr/local/lib/python3.10/dist-packages (from requests==2.31.0->d2l==1.0.3) (2.0.7)\n",
            "Requirement already satisfied: certifi>=2017.4.17 in /usr/local/lib/python3.10/dist-packages (from requests==2.31.0->d2l==1.0.3) (2024.7.4)\n",
            "Requirement already satisfied: six>=1.5 in /usr/local/lib/python3.10/dist-packages (from python-dateutil>=2.7->matplotlib==3.7.2->d2l==1.0.3) (1.16.0)\n",
            "Requirement already satisfied: ipython-genutils in /usr/local/lib/python3.10/dist-packages (from ipykernel->jupyter==1.0.0->d2l==1.0.3) (0.2.0)\n",
            "Requirement already satisfied: ipython>=5.0.0 in /usr/local/lib/python3.10/dist-packages (from ipykernel->jupyter==1.0.0->d2l==1.0.3) (7.34.0)\n",
            "Requirement already satisfied: jupyter-client in /usr/local/lib/python3.10/dist-packages (from ipykernel->jupyter==1.0.0->d2l==1.0.3) (6.1.12)\n",
            "Requirement already satisfied: tornado>=4.2 in /usr/local/lib/python3.10/dist-packages (from ipykernel->jupyter==1.0.0->d2l==1.0.3) (6.3.3)\n",
            "Requirement already satisfied: widgetsnbextension~=3.6.0 in /usr/local/lib/python3.10/dist-packages (from ipywidgets->jupyter==1.0.0->d2l==1.0.3) (3.6.7)\n",
            "Requirement already satisfied: jupyterlab-widgets>=1.0.0 in /usr/local/lib/python3.10/dist-packages (from ipywidgets->jupyter==1.0.0->d2l==1.0.3) (3.0.11)\n",
            "Requirement already satisfied: prompt-toolkit!=3.0.0,!=3.0.1,<3.1.0,>=2.0.0 in /usr/local/lib/python3.10/dist-packages (from jupyter-console->jupyter==1.0.0->d2l==1.0.3) (3.0.47)\n",
            "Requirement already satisfied: pygments in /usr/local/lib/python3.10/dist-packages (from jupyter-console->jupyter==1.0.0->d2l==1.0.3) (2.16.1)\n",
            "Requirement already satisfied: lxml in /usr/local/lib/python3.10/dist-packages (from nbconvert->jupyter==1.0.0->d2l==1.0.3) (4.9.4)\n",
            "Requirement already satisfied: beautifulsoup4 in /usr/local/lib/python3.10/dist-packages (from nbconvert->jupyter==1.0.0->d2l==1.0.3) (4.12.3)\n",
            "Requirement already satisfied: bleach in /usr/local/lib/python3.10/dist-packages (from nbconvert->jupyter==1.0.0->d2l==1.0.3) (6.1.0)\n",
            "Requirement already satisfied: defusedxml in /usr/local/lib/python3.10/dist-packages (from nbconvert->jupyter==1.0.0->d2l==1.0.3) (0.7.1)\n",
            "Requirement already satisfied: entrypoints>=0.2.2 in /usr/local/lib/python3.10/dist-packages (from nbconvert->jupyter==1.0.0->d2l==1.0.3) (0.4)\n",
            "Requirement already satisfied: jinja2>=3.0 in /usr/local/lib/python3.10/dist-packages (from nbconvert->jupyter==1.0.0->d2l==1.0.3) (3.1.4)\n",
            "Requirement already satisfied: jupyter-core>=4.7 in /usr/local/lib/python3.10/dist-packages (from nbconvert->jupyter==1.0.0->d2l==1.0.3) (5.7.2)\n",
            "Requirement already satisfied: jupyterlab-pygments in /usr/local/lib/python3.10/dist-packages (from nbconvert->jupyter==1.0.0->d2l==1.0.3) (0.3.0)\n",
            "Requirement already satisfied: MarkupSafe>=2.0 in /usr/local/lib/python3.10/dist-packages (from nbconvert->jupyter==1.0.0->d2l==1.0.3) (2.1.5)\n",
            "Requirement already satisfied: mistune<2,>=0.8.1 in /usr/local/lib/python3.10/dist-packages (from nbconvert->jupyter==1.0.0->d2l==1.0.3) (0.8.4)\n",
            "Requirement already satisfied: nbclient>=0.5.0 in /usr/local/lib/python3.10/dist-packages (from nbconvert->jupyter==1.0.0->d2l==1.0.3) (0.10.0)\n",
            "Requirement already satisfied: nbformat>=5.1 in /usr/local/lib/python3.10/dist-packages (from nbconvert->jupyter==1.0.0->d2l==1.0.3) (5.10.4)\n",
            "Requirement already satisfied: pandocfilters>=1.4.1 in /usr/local/lib/python3.10/dist-packages (from nbconvert->jupyter==1.0.0->d2l==1.0.3) (1.5.1)\n",
            "Requirement already satisfied: tinycss2 in /usr/local/lib/python3.10/dist-packages (from nbconvert->jupyter==1.0.0->d2l==1.0.3) (1.3.0)\n",
            "Requirement already satisfied: pyzmq<25,>=17 in /usr/local/lib/python3.10/dist-packages (from notebook->jupyter==1.0.0->d2l==1.0.3) (24.0.1)\n",
            "Requirement already satisfied: argon2-cffi in /usr/local/lib/python3.10/dist-packages (from notebook->jupyter==1.0.0->d2l==1.0.3) (23.1.0)\n",
            "Requirement already satisfied: nest-asyncio>=1.5 in /usr/local/lib/python3.10/dist-packages (from notebook->jupyter==1.0.0->d2l==1.0.3) (1.6.0)\n",
            "Requirement already satisfied: Send2Trash>=1.8.0 in /usr/local/lib/python3.10/dist-packages (from notebook->jupyter==1.0.0->d2l==1.0.3) (1.8.3)\n",
            "Requirement already satisfied: terminado>=0.8.3 in /usr/local/lib/python3.10/dist-packages (from notebook->jupyter==1.0.0->d2l==1.0.3) (0.18.1)\n",
            "Requirement already satisfied: prometheus-client in /usr/local/lib/python3.10/dist-packages (from notebook->jupyter==1.0.0->d2l==1.0.3) (0.20.0)\n",
            "Requirement already satisfied: nbclassic>=0.4.7 in /usr/local/lib/python3.10/dist-packages (from notebook->jupyter==1.0.0->d2l==1.0.3) (1.1.0)\n",
            "Collecting qtpy>=2.4.0 (from qtconsole->jupyter==1.0.0->d2l==1.0.3)\n",
            "  Downloading QtPy-2.4.1-py3-none-any.whl (93 kB)\n",
            "\u001b[2K     \u001b[90m━━━━━━━━━━━━━━━━━━━━━━━━━━━━━━━━━━━━━━━━\u001b[0m \u001b[32m93.5/93.5 kB\u001b[0m \u001b[31m11.8 MB/s\u001b[0m eta \u001b[36m0:00:00\u001b[0m\n",
            "\u001b[?25hRequirement already satisfied: setuptools>=18.5 in /usr/local/lib/python3.10/dist-packages (from ipython>=5.0.0->ipykernel->jupyter==1.0.0->d2l==1.0.3) (67.7.2)\n",
            "Collecting jedi>=0.16 (from ipython>=5.0.0->ipykernel->jupyter==1.0.0->d2l==1.0.3)\n",
            "  Downloading jedi-0.19.1-py2.py3-none-any.whl (1.6 MB)\n",
            "\u001b[2K     \u001b[90m━━━━━━━━━━━━━━━━━━━━━━━━━━━━━━━━━━━━━━━━\u001b[0m \u001b[32m1.6/1.6 MB\u001b[0m \u001b[31m53.1 MB/s\u001b[0m eta \u001b[36m0:00:00\u001b[0m\n",
            "\u001b[?25hRequirement already satisfied: decorator in /usr/local/lib/python3.10/dist-packages (from ipython>=5.0.0->ipykernel->jupyter==1.0.0->d2l==1.0.3) (4.4.2)\n",
            "Requirement already satisfied: pickleshare in /usr/local/lib/python3.10/dist-packages (from ipython>=5.0.0->ipykernel->jupyter==1.0.0->d2l==1.0.3) (0.7.5)\n",
            "Requirement already satisfied: backcall in /usr/local/lib/python3.10/dist-packages (from ipython>=5.0.0->ipykernel->jupyter==1.0.0->d2l==1.0.3) (0.2.0)\n",
            "Requirement already satisfied: pexpect>4.3 in /usr/local/lib/python3.10/dist-packages (from ipython>=5.0.0->ipykernel->jupyter==1.0.0->d2l==1.0.3) (4.9.0)\n",
            "Requirement already satisfied: platformdirs>=2.5 in /usr/local/lib/python3.10/dist-packages (from jupyter-core>=4.7->nbconvert->jupyter==1.0.0->d2l==1.0.3) (4.2.2)\n",
            "Requirement already satisfied: notebook-shim>=0.2.3 in /usr/local/lib/python3.10/dist-packages (from nbclassic>=0.4.7->notebook->jupyter==1.0.0->d2l==1.0.3) (0.2.4)\n",
            "Requirement already satisfied: fastjsonschema>=2.15 in /usr/local/lib/python3.10/dist-packages (from nbformat>=5.1->nbconvert->jupyter==1.0.0->d2l==1.0.3) (2.20.0)\n",
            "Requirement already satisfied: jsonschema>=2.6 in /usr/local/lib/python3.10/dist-packages (from nbformat>=5.1->nbconvert->jupyter==1.0.0->d2l==1.0.3) (4.19.2)\n",
            "Requirement already satisfied: wcwidth in /usr/local/lib/python3.10/dist-packages (from prompt-toolkit!=3.0.0,!=3.0.1,<3.1.0,>=2.0.0->jupyter-console->jupyter==1.0.0->d2l==1.0.3) (0.2.13)\n",
            "Requirement already satisfied: ptyprocess in /usr/local/lib/python3.10/dist-packages (from terminado>=0.8.3->notebook->jupyter==1.0.0->d2l==1.0.3) (0.7.0)\n",
            "Requirement already satisfied: argon2-cffi-bindings in /usr/local/lib/python3.10/dist-packages (from argon2-cffi->notebook->jupyter==1.0.0->d2l==1.0.3) (21.2.0)\n",
            "Requirement already satisfied: soupsieve>1.2 in /usr/local/lib/python3.10/dist-packages (from beautifulsoup4->nbconvert->jupyter==1.0.0->d2l==1.0.3) (2.5)\n",
            "Requirement already satisfied: webencodings in /usr/local/lib/python3.10/dist-packages (from bleach->nbconvert->jupyter==1.0.0->d2l==1.0.3) (0.5.1)\n",
            "Requirement already satisfied: parso<0.9.0,>=0.8.3 in /usr/local/lib/python3.10/dist-packages (from jedi>=0.16->ipython>=5.0.0->ipykernel->jupyter==1.0.0->d2l==1.0.3) (0.8.4)\n",
            "Requirement already satisfied: attrs>=22.2.0 in /usr/local/lib/python3.10/dist-packages (from jsonschema>=2.6->nbformat>=5.1->nbconvert->jupyter==1.0.0->d2l==1.0.3) (23.2.0)\n",
            "Requirement already satisfied: jsonschema-specifications>=2023.03.6 in /usr/local/lib/python3.10/dist-packages (from jsonschema>=2.6->nbformat>=5.1->nbconvert->jupyter==1.0.0->d2l==1.0.3) (2023.12.1)\n",
            "Requirement already satisfied: referencing>=0.28.4 in /usr/local/lib/python3.10/dist-packages (from jsonschema>=2.6->nbformat>=5.1->nbconvert->jupyter==1.0.0->d2l==1.0.3) (0.35.1)\n",
            "Requirement already satisfied: rpds-py>=0.7.1 in /usr/local/lib/python3.10/dist-packages (from jsonschema>=2.6->nbformat>=5.1->nbconvert->jupyter==1.0.0->d2l==1.0.3) (0.19.0)\n",
            "Requirement already satisfied: jupyter-server<3,>=1.8 in /usr/local/lib/python3.10/dist-packages (from notebook-shim>=0.2.3->nbclassic>=0.4.7->notebook->jupyter==1.0.0->d2l==1.0.3) (1.24.0)\n",
            "Requirement already satisfied: cffi>=1.0.1 in /usr/local/lib/python3.10/dist-packages (from argon2-cffi-bindings->argon2-cffi->notebook->jupyter==1.0.0->d2l==1.0.3) (1.16.0)\n",
            "Requirement already satisfied: pycparser in /usr/local/lib/python3.10/dist-packages (from cffi>=1.0.1->argon2-cffi-bindings->argon2-cffi->notebook->jupyter==1.0.0->d2l==1.0.3) (2.22)\n",
            "Requirement already satisfied: anyio<4,>=3.1.0 in /usr/local/lib/python3.10/dist-packages (from jupyter-server<3,>=1.8->notebook-shim>=0.2.3->nbclassic>=0.4.7->notebook->jupyter==1.0.0->d2l==1.0.3) (3.7.1)\n",
            "Requirement already satisfied: websocket-client in /usr/local/lib/python3.10/dist-packages (from jupyter-server<3,>=1.8->notebook-shim>=0.2.3->nbclassic>=0.4.7->notebook->jupyter==1.0.0->d2l==1.0.3) (1.8.0)\n",
            "Requirement already satisfied: sniffio>=1.1 in /usr/local/lib/python3.10/dist-packages (from anyio<4,>=3.1.0->jupyter-server<3,>=1.8->notebook-shim>=0.2.3->nbclassic>=0.4.7->notebook->jupyter==1.0.0->d2l==1.0.3) (1.3.1)\n",
            "Requirement already satisfied: exceptiongroup in /usr/local/lib/python3.10/dist-packages (from anyio<4,>=3.1.0->jupyter-server<3,>=1.8->notebook-shim>=0.2.3->nbclassic>=0.4.7->notebook->jupyter==1.0.0->d2l==1.0.3) (1.2.1)\n",
            "Installing collected packages: qtpy, pyparsing, numpy, matplotlib-inline, jedi, scipy, matplotlib, qtconsole, jupyter, d2l\n",
            "  Attempting uninstall: pyparsing\n",
            "    Found existing installation: pyparsing 3.1.2\n",
            "    Uninstalling pyparsing-3.1.2:\n",
            "      Successfully uninstalled pyparsing-3.1.2\n",
            "  Attempting uninstall: numpy\n",
            "    Found existing installation: numpy 1.25.2\n",
            "    Uninstalling numpy-1.25.2:\n",
            "      Successfully uninstalled numpy-1.25.2\n",
            "  Attempting uninstall: matplotlib-inline\n",
            "    Found existing installation: matplotlib-inline 0.1.7\n",
            "    Uninstalling matplotlib-inline-0.1.7:\n",
            "      Successfully uninstalled matplotlib-inline-0.1.7\n",
            "  Attempting uninstall: scipy\n",
            "    Found existing installation: scipy 1.11.4\n",
            "    Uninstalling scipy-1.11.4:\n",
            "      Successfully uninstalled scipy-1.11.4\n",
            "  Attempting uninstall: matplotlib\n",
            "    Found existing installation: matplotlib 3.7.1\n",
            "    Uninstalling matplotlib-3.7.1:\n",
            "      Successfully uninstalled matplotlib-3.7.1\n",
            "\u001b[31mERROR: pip's dependency resolver does not currently take into account all the packages that are installed. This behaviour is the source of the following dependency conflicts.\n",
            "chex 0.1.86 requires numpy>=1.24.1, but you have numpy 1.23.5 which is incompatible.\n",
            "pandas-stubs 2.0.3.230814 requires numpy>=1.25.0; python_version >= \"3.9\", but you have numpy 1.23.5 which is incompatible.\u001b[0m\u001b[31m\n",
            "\u001b[0mSuccessfully installed d2l-1.0.3 jedi-0.19.1 jupyter-1.0.0 matplotlib-3.7.2 matplotlib-inline-0.1.6 numpy-1.23.5 pyparsing-3.0.9 qtconsole-5.5.2 qtpy-2.4.1 scipy-1.10.1\n"
          ]
        },
        {
          "output_type": "display_data",
          "data": {
            "application/vnd.colab-display-data+json": {
              "pip_warning": {
                "packages": [
                  "matplotlib",
                  "matplotlib_inline",
                  "mpl_toolkits",
                  "numpy"
                ]
              },
              "id": "7ffedac6849e44af800781c960c9f6a3"
            }
          },
          "metadata": {}
        }
      ]
    },
    {
      "cell_type": "code",
      "execution_count": 2,
      "metadata": {
        "id": "rEMnFvT1YF3y"
      },
      "outputs": [],
      "source": [
        "%matplotlib inline\n",
        "import torch\n",
        "from d2l import torch as d2l"
      ]
    },
    {
      "cell_type": "markdown",
      "source": [
        "## Defining the Model"
      ],
      "metadata": {
        "id": "3yqK2uaYcGJ-"
      }
    },
    {
      "cell_type": "markdown",
      "source": [
        "- Initialize weights by drawing random numbers from a normal distribution with mean 0 and a standard deviation of 0.01\n",
        "- set bias 0"
      ],
      "metadata": {
        "id": "rHKkJUmbcl1G"
      }
    },
    {
      "cell_type": "code",
      "source": [
        "class LinearRegressionScratch(d2l.Module): # 모델 생성 / 파라미터 준비\n",
        "    \"\"\"The linear regression model implemented from scratch.\"\"\"\n",
        "    def __init__(self, num_inputs, lr, sigma=0.01):\n",
        "        super().__init__() # d2l.Module 상속\n",
        "        self.save_hyperparameters()\n",
        "        self.w = torch.normal(0, sigma, (num_inputs, 1), requires_grad=True)\n",
        "        self.b = torch.zeros(1, requires_grad=True) # w,b : SGD를 통한 update 필요"
      ],
      "metadata": {
        "id": "ubDrDSkMbDbz"
      },
      "execution_count": 3,
      "outputs": []
    },
    {
      "cell_type": "markdown",
      "source": [
        "- weight **w**, input features **X**, bias **b**(scalar)"
      ],
      "metadata": {
        "id": "w_blRWSAeCv9"
      }
    },
    {
      "cell_type": "code",
      "source": [
        "@d2l.add_to_class(LinearRegressionScratch)\n",
        "def forward(self, X):\n",
        "    return torch.matmul(X, self.w) + self.b # input * weight + bias"
      ],
      "metadata": {
        "id": "KmvWamXvfAy-"
      },
      "execution_count": 4,
      "outputs": []
    },
    {
      "cell_type": "markdown",
      "source": [
        "## Defining the Loss Function"
      ],
      "metadata": {
        "id": "7sWSc8J_fw0a"
      }
    },
    {
      "cell_type": "markdown",
      "source": [
        "- transform true value y into the predicted value's shape y_hat\n",
        "- averaged loss value를 최종결과로 return"
      ],
      "metadata": {
        "id": "zgc6mA3ef2rv"
      }
    },
    {
      "cell_type": "code",
      "source": [
        "@d2l.add_to_class(LinearRegressionScratch)\n",
        "def loss(self, y_hat, y):\n",
        "    l = (y_hat - y) ** 2 / 2\n",
        "    return l.mean() # loss function : MSE"
      ],
      "metadata": {
        "id": "EMcKncYif9hV"
      },
      "execution_count": 5,
      "outputs": []
    },
    {
      "cell_type": "markdown",
      "source": [
        "## Defining the Optimization Algorithm"
      ],
      "metadata": {
        "id": "E6Vv5qJAgOJk"
      }
    },
    {
      "cell_type": "markdown",
      "source": [
        "과제는 아니지만, 전체적인 deep learning pipeline을 파악해주세요!"
      ],
      "metadata": {
        "id": "fBvSVrVZgQ2x"
      }
    },
    {
      "cell_type": "code",
      "source": [
        "class SGD(d2l.HyperParameters):\n",
        "    \"\"\"Minibatch stochastic gradient descent.\"\"\"\n",
        "    def __init__(self, params, lr):\n",
        "        self.save_hyperparameters()\n",
        "\n",
        "    def step(self): # update\n",
        "        for param in self.params:\n",
        "            param -= self.lr * param.grad # 파라미터의 gradient 업데이트\n",
        "\n",
        "    def zero_grad(self):\n",
        "        for param in self.params: # initialize\n",
        "            if param.grad is not None: # 파라미터의 gradient 초기화\n",
        "                param.grad.zero_()"
      ],
      "metadata": {
        "id": "JU5fctL7gcJB"
      },
      "execution_count": 6,
      "outputs": []
    },
    {
      "cell_type": "code",
      "source": [
        "@d2l.add_to_class(LinearRegressionScratch)\n",
        "def configure_optimizers(self): # optimizer\n",
        "    return SGD([self.w, self.b], self.lr)"
      ],
      "metadata": {
        "id": "Eon2sLJzggSb"
      },
      "execution_count": 7,
      "outputs": []
    },
    {
      "cell_type": "markdown",
      "source": [
        "##Training"
      ],
      "metadata": {
        "id": "PrE4pfspgh5t"
      }
    },
    {
      "cell_type": "markdown",
      "source": [
        "* Initialize parameters $(\\mathbf{w}, b)$\n",
        "* Repeat until done\n",
        "    * Compute gradient $\\mathbf{g} \\leftarrow \\partial_{(\\mathbf{w},b)} \\frac{1}{|\\mathcal{B}|} \\sum_{i \\in \\mathcal{B}} l(\\mathbf{x}^{(i)}, y^{(i)}, \\mathbf{w}, b)$\n",
        "    * Update parameters $(\\mathbf{w}, b) \\leftarrow (\\mathbf{w}, b) - \\eta \\mathbf{g}$\n"
      ],
      "metadata": {
        "id": "pht2Xg-9guyH"
      }
    },
    {
      "cell_type": "code",
      "source": [
        "@d2l.add_to_class(d2l.Trainer)\n",
        "def prepare_batch(self, batch):\n",
        "    return batch\n",
        "\n",
        "@d2l.add_to_class(d2l.Trainer)\n",
        "def fit_epoch(self):\n",
        "    self.model.train() # train 모드 활성화\n",
        "    for batch in self.train_dataloader:\n",
        "      ### train_dataloader : train 배치를 생성하는 생성기\n",
        "      ### return self.get_dataloader(train=True)\n",
        "        loss = self.model.training_step(self.prepare_batch(batch))\n",
        "        ### training_step : 손실 계산\n",
        "        ### l = self.loss(self(*batch[:-1]), batch[-1])\n",
        "        self.optim.zero_grad() # backward 전에 gradient 초기화\n",
        "        with torch.no_grad(): # gradient 계산 없이\n",
        "            loss.backward() # 역전파\n",
        "            if self.gradient_clip_val > 0:  # To be discussed later\n",
        "                self.clip_gradients(self.gradient_clip_val, self.model)\n",
        "            self.optim.step() # update\n",
        "        self.train_batch_idx += 1 # 다음 배치\n",
        "    if self.val_dataloader is None:\n",
        "        return\n",
        "    self.model.eval() # 평가 모드 전환 (드롭아웃 비활성화, 변수 update 중지)\n",
        "    for batch in self.val_dataloader: # return self.get_dataloader(train=False)\n",
        "        with torch.no_grad():\n",
        "            self.model.validation_step(self.prepare_batch(batch))\n",
        "            ### validation_step : 평가 측정값 보고\n",
        "            ### l = self.loss(self(*batch[:-1]), batch[-1])\n",
        "        self.val_batch_idx += 1"
      ],
      "metadata": {
        "id": "iPPs6Y_7g3Yx"
      },
      "execution_count": 8,
      "outputs": []
    },
    {
      "cell_type": "markdown",
      "source": [
        "loss를 확인해봅시다 !"
      ],
      "metadata": {
        "id": "CRAqKoxwiI4_"
      }
    },
    {
      "cell_type": "code",
      "source": [
        "model = LinearRegressionScratch(2, lr=0.03)\n",
        "data = d2l.SyntheticRegressionData(w=torch.tensor([2, -3.4]), b=4.2)\n",
        "trainer = d2l.Trainer(max_epochs=3)\n",
        "trainer.fit(model, data)"
      ],
      "metadata": {
        "id": "nPCHFS2QhPVP",
        "colab": {
          "base_uri": "https://localhost:8080/",
          "height": 266
        },
        "outputId": "d1668c92-82cf-4c9e-8c6d-bf1d8fd209ba"
      },
      "execution_count": 9,
      "outputs": [
        {
          "output_type": "display_data",
          "data": {
            "text/plain": [
              "<Figure size 350x250 with 1 Axes>"
            ],
            "image/svg+xml": "<?xml version=\"1.0\" encoding=\"utf-8\" standalone=\"no\"?>\n<!DOCTYPE svg PUBLIC \"-//W3C//DTD SVG 1.1//EN\"\n  \"http://www.w3.org/Graphics/SVG/1.1/DTD/svg11.dtd\">\n<svg xmlns:xlink=\"http://www.w3.org/1999/xlink\" width=\"246.917187pt\" height=\"183.35625pt\" viewBox=\"0 0 246.917187 183.35625\" xmlns=\"http://www.w3.org/2000/svg\" version=\"1.1\">\n <metadata>\n  <rdf:RDF xmlns:dc=\"http://purl.org/dc/elements/1.1/\" xmlns:cc=\"http://creativecommons.org/ns#\" xmlns:rdf=\"http://www.w3.org/1999/02/22-rdf-syntax-ns#\">\n   <cc:Work>\n    <dc:type rdf:resource=\"http://purl.org/dc/dcmitype/StillImage\"/>\n    <dc:date>2024-07-17T08:41:29.639057</dc:date>\n    <dc:format>image/svg+xml</dc:format>\n    <dc:creator>\n     <cc:Agent>\n      <dc:title>Matplotlib v3.7.2, https://matplotlib.org/</dc:title>\n     </cc:Agent>\n    </dc:creator>\n   </cc:Work>\n  </rdf:RDF>\n </metadata>\n <defs>\n  <style type=\"text/css\">*{stroke-linejoin: round; stroke-linecap: butt}</style>\n </defs>\n <g id=\"figure_1\">\n  <g id=\"patch_1\">\n   <path d=\"M 0 183.35625 \nL 246.917187 183.35625 \nL 246.917187 0 \nL 0 0 \nz\n\" style=\"fill: #ffffff\"/>\n  </g>\n  <g id=\"axes_1\">\n   <g id=\"patch_2\">\n    <path d=\"M 36.465625 145.8 \nL 231.765625 145.8 \nL 231.765625 7.2 \nL 36.465625 7.2 \nz\n\" style=\"fill: #ffffff\"/>\n   </g>\n   <g id=\"matplotlib.axis_1\">\n    <g id=\"xtick_1\">\n     <g id=\"line2d_1\">\n      <defs>\n       <path id=\"md413285766\" d=\"M 0 0 \nL 0 3.5 \n\" style=\"stroke: #000000; stroke-width: 0.8\"/>\n      </defs>\n      <g>\n       <use xlink:href=\"#md413285766\" x=\"36.465625\" y=\"145.8\" style=\"stroke: #000000; stroke-width: 0.8\"/>\n      </g>\n     </g>\n     <g id=\"text_1\">\n      <!-- 0.0 -->\n      <g transform=\"translate(28.514063 160.398438) scale(0.1 -0.1)\">\n       <defs>\n        <path id=\"DejaVuSans-30\" d=\"M 2034 4250 \nQ 1547 4250 1301 3770 \nQ 1056 3291 1056 2328 \nQ 1056 1369 1301 889 \nQ 1547 409 2034 409 \nQ 2525 409 2770 889 \nQ 3016 1369 3016 2328 \nQ 3016 3291 2770 3770 \nQ 2525 4250 2034 4250 \nz\nM 2034 4750 \nQ 2819 4750 3233 4129 \nQ 3647 3509 3647 2328 \nQ 3647 1150 3233 529 \nQ 2819 -91 2034 -91 \nQ 1250 -91 836 529 \nQ 422 1150 422 2328 \nQ 422 3509 836 4129 \nQ 1250 4750 2034 4750 \nz\n\" transform=\"scale(0.015625)\"/>\n        <path id=\"DejaVuSans-2e\" d=\"M 684 794 \nL 1344 794 \nL 1344 0 \nL 684 0 \nL 684 794 \nz\n\" transform=\"scale(0.015625)\"/>\n       </defs>\n       <use xlink:href=\"#DejaVuSans-30\"/>\n       <use xlink:href=\"#DejaVuSans-2e\" x=\"63.623047\"/>\n       <use xlink:href=\"#DejaVuSans-30\" x=\"95.410156\"/>\n      </g>\n     </g>\n    </g>\n    <g id=\"xtick_2\">\n     <g id=\"line2d_2\">\n      <g>\n       <use xlink:href=\"#md413285766\" x=\"69.015625\" y=\"145.8\" style=\"stroke: #000000; stroke-width: 0.8\"/>\n      </g>\n     </g>\n     <g id=\"text_2\">\n      <!-- 0.5 -->\n      <g transform=\"translate(61.064062 160.398438) scale(0.1 -0.1)\">\n       <defs>\n        <path id=\"DejaVuSans-35\" d=\"M 691 4666 \nL 3169 4666 \nL 3169 4134 \nL 1269 4134 \nL 1269 2991 \nQ 1406 3038 1543 3061 \nQ 1681 3084 1819 3084 \nQ 2600 3084 3056 2656 \nQ 3513 2228 3513 1497 \nQ 3513 744 3044 326 \nQ 2575 -91 1722 -91 \nQ 1428 -91 1123 -41 \nQ 819 9 494 109 \nL 494 744 \nQ 775 591 1075 516 \nQ 1375 441 1709 441 \nQ 2250 441 2565 725 \nQ 2881 1009 2881 1497 \nQ 2881 1984 2565 2268 \nQ 2250 2553 1709 2553 \nQ 1456 2553 1204 2497 \nQ 953 2441 691 2322 \nL 691 4666 \nz\n\" transform=\"scale(0.015625)\"/>\n       </defs>\n       <use xlink:href=\"#DejaVuSans-30\"/>\n       <use xlink:href=\"#DejaVuSans-2e\" x=\"63.623047\"/>\n       <use xlink:href=\"#DejaVuSans-35\" x=\"95.410156\"/>\n      </g>\n     </g>\n    </g>\n    <g id=\"xtick_3\">\n     <g id=\"line2d_3\">\n      <g>\n       <use xlink:href=\"#md413285766\" x=\"101.565625\" y=\"145.8\" style=\"stroke: #000000; stroke-width: 0.8\"/>\n      </g>\n     </g>\n     <g id=\"text_3\">\n      <!-- 1.0 -->\n      <g transform=\"translate(93.614063 160.398438) scale(0.1 -0.1)\">\n       <defs>\n        <path id=\"DejaVuSans-31\" d=\"M 794 531 \nL 1825 531 \nL 1825 4091 \nL 703 3866 \nL 703 4441 \nL 1819 4666 \nL 2450 4666 \nL 2450 531 \nL 3481 531 \nL 3481 0 \nL 794 0 \nL 794 531 \nz\n\" transform=\"scale(0.015625)\"/>\n       </defs>\n       <use xlink:href=\"#DejaVuSans-31\"/>\n       <use xlink:href=\"#DejaVuSans-2e\" x=\"63.623047\"/>\n       <use xlink:href=\"#DejaVuSans-30\" x=\"95.410156\"/>\n      </g>\n     </g>\n    </g>\n    <g id=\"xtick_4\">\n     <g id=\"line2d_4\">\n      <g>\n       <use xlink:href=\"#md413285766\" x=\"134.115625\" y=\"145.8\" style=\"stroke: #000000; stroke-width: 0.8\"/>\n      </g>\n     </g>\n     <g id=\"text_4\">\n      <!-- 1.5 -->\n      <g transform=\"translate(126.164062 160.398438) scale(0.1 -0.1)\">\n       <use xlink:href=\"#DejaVuSans-31\"/>\n       <use xlink:href=\"#DejaVuSans-2e\" x=\"63.623047\"/>\n       <use xlink:href=\"#DejaVuSans-35\" x=\"95.410156\"/>\n      </g>\n     </g>\n    </g>\n    <g id=\"xtick_5\">\n     <g id=\"line2d_5\">\n      <g>\n       <use xlink:href=\"#md413285766\" x=\"166.665625\" y=\"145.8\" style=\"stroke: #000000; stroke-width: 0.8\"/>\n      </g>\n     </g>\n     <g id=\"text_5\">\n      <!-- 2.0 -->\n      <g transform=\"translate(158.714062 160.398438) scale(0.1 -0.1)\">\n       <defs>\n        <path id=\"DejaVuSans-32\" d=\"M 1228 531 \nL 3431 531 \nL 3431 0 \nL 469 0 \nL 469 531 \nQ 828 903 1448 1529 \nQ 2069 2156 2228 2338 \nQ 2531 2678 2651 2914 \nQ 2772 3150 2772 3378 \nQ 2772 3750 2511 3984 \nQ 2250 4219 1831 4219 \nQ 1534 4219 1204 4116 \nQ 875 4013 500 3803 \nL 500 4441 \nQ 881 4594 1212 4672 \nQ 1544 4750 1819 4750 \nQ 2544 4750 2975 4387 \nQ 3406 4025 3406 3419 \nQ 3406 3131 3298 2873 \nQ 3191 2616 2906 2266 \nQ 2828 2175 2409 1742 \nQ 1991 1309 1228 531 \nz\n\" transform=\"scale(0.015625)\"/>\n       </defs>\n       <use xlink:href=\"#DejaVuSans-32\"/>\n       <use xlink:href=\"#DejaVuSans-2e\" x=\"63.623047\"/>\n       <use xlink:href=\"#DejaVuSans-30\" x=\"95.410156\"/>\n      </g>\n     </g>\n    </g>\n    <g id=\"xtick_6\">\n     <g id=\"line2d_6\">\n      <g>\n       <use xlink:href=\"#md413285766\" x=\"199.215625\" y=\"145.8\" style=\"stroke: #000000; stroke-width: 0.8\"/>\n      </g>\n     </g>\n     <g id=\"text_6\">\n      <!-- 2.5 -->\n      <g transform=\"translate(191.264062 160.398438) scale(0.1 -0.1)\">\n       <use xlink:href=\"#DejaVuSans-32\"/>\n       <use xlink:href=\"#DejaVuSans-2e\" x=\"63.623047\"/>\n       <use xlink:href=\"#DejaVuSans-35\" x=\"95.410156\"/>\n      </g>\n     </g>\n    </g>\n    <g id=\"xtick_7\">\n     <g id=\"line2d_7\">\n      <g>\n       <use xlink:href=\"#md413285766\" x=\"231.765625\" y=\"145.8\" style=\"stroke: #000000; stroke-width: 0.8\"/>\n      </g>\n     </g>\n     <g id=\"text_7\">\n      <!-- 3.0 -->\n      <g transform=\"translate(223.814063 160.398438) scale(0.1 -0.1)\">\n       <defs>\n        <path id=\"DejaVuSans-33\" d=\"M 2597 2516 \nQ 3050 2419 3304 2112 \nQ 3559 1806 3559 1356 \nQ 3559 666 3084 287 \nQ 2609 -91 1734 -91 \nQ 1441 -91 1130 -33 \nQ 819 25 488 141 \nL 488 750 \nQ 750 597 1062 519 \nQ 1375 441 1716 441 \nQ 2309 441 2620 675 \nQ 2931 909 2931 1356 \nQ 2931 1769 2642 2001 \nQ 2353 2234 1838 2234 \nL 1294 2234 \nL 1294 2753 \nL 1863 2753 \nQ 2328 2753 2575 2939 \nQ 2822 3125 2822 3475 \nQ 2822 3834 2567 4026 \nQ 2313 4219 1838 4219 \nQ 1578 4219 1281 4162 \nQ 984 4106 628 3988 \nL 628 4550 \nQ 988 4650 1302 4700 \nQ 1616 4750 1894 4750 \nQ 2613 4750 3031 4423 \nQ 3450 4097 3450 3541 \nQ 3450 3153 3228 2886 \nQ 3006 2619 2597 2516 \nz\n\" transform=\"scale(0.015625)\"/>\n       </defs>\n       <use xlink:href=\"#DejaVuSans-33\"/>\n       <use xlink:href=\"#DejaVuSans-2e\" x=\"63.623047\"/>\n       <use xlink:href=\"#DejaVuSans-30\" x=\"95.410156\"/>\n      </g>\n     </g>\n    </g>\n    <g id=\"text_8\">\n     <!-- epoch -->\n     <g transform=\"translate(118.8875 174.076563) scale(0.1 -0.1)\">\n      <defs>\n       <path id=\"DejaVuSans-65\" d=\"M 3597 1894 \nL 3597 1613 \nL 953 1613 \nQ 991 1019 1311 708 \nQ 1631 397 2203 397 \nQ 2534 397 2845 478 \nQ 3156 559 3463 722 \nL 3463 178 \nQ 3153 47 2828 -22 \nQ 2503 -91 2169 -91 \nQ 1331 -91 842 396 \nQ 353 884 353 1716 \nQ 353 2575 817 3079 \nQ 1281 3584 2069 3584 \nQ 2775 3584 3186 3129 \nQ 3597 2675 3597 1894 \nz\nM 3022 2063 \nQ 3016 2534 2758 2815 \nQ 2500 3097 2075 3097 \nQ 1594 3097 1305 2825 \nQ 1016 2553 972 2059 \nL 3022 2063 \nz\n\" transform=\"scale(0.015625)\"/>\n       <path id=\"DejaVuSans-70\" d=\"M 1159 525 \nL 1159 -1331 \nL 581 -1331 \nL 581 3500 \nL 1159 3500 \nL 1159 2969 \nQ 1341 3281 1617 3432 \nQ 1894 3584 2278 3584 \nQ 2916 3584 3314 3078 \nQ 3713 2572 3713 1747 \nQ 3713 922 3314 415 \nQ 2916 -91 2278 -91 \nQ 1894 -91 1617 61 \nQ 1341 213 1159 525 \nz\nM 3116 1747 \nQ 3116 2381 2855 2742 \nQ 2594 3103 2138 3103 \nQ 1681 3103 1420 2742 \nQ 1159 2381 1159 1747 \nQ 1159 1113 1420 752 \nQ 1681 391 2138 391 \nQ 2594 391 2855 752 \nQ 3116 1113 3116 1747 \nz\n\" transform=\"scale(0.015625)\"/>\n       <path id=\"DejaVuSans-6f\" d=\"M 1959 3097 \nQ 1497 3097 1228 2736 \nQ 959 2375 959 1747 \nQ 959 1119 1226 758 \nQ 1494 397 1959 397 \nQ 2419 397 2687 759 \nQ 2956 1122 2956 1747 \nQ 2956 2369 2687 2733 \nQ 2419 3097 1959 3097 \nz\nM 1959 3584 \nQ 2709 3584 3137 3096 \nQ 3566 2609 3566 1747 \nQ 3566 888 3137 398 \nQ 2709 -91 1959 -91 \nQ 1206 -91 779 398 \nQ 353 888 353 1747 \nQ 353 2609 779 3096 \nQ 1206 3584 1959 3584 \nz\n\" transform=\"scale(0.015625)\"/>\n       <path id=\"DejaVuSans-63\" d=\"M 3122 3366 \nL 3122 2828 \nQ 2878 2963 2633 3030 \nQ 2388 3097 2138 3097 \nQ 1578 3097 1268 2742 \nQ 959 2388 959 1747 \nQ 959 1106 1268 751 \nQ 1578 397 2138 397 \nQ 2388 397 2633 464 \nQ 2878 531 3122 666 \nL 3122 134 \nQ 2881 22 2623 -34 \nQ 2366 -91 2075 -91 \nQ 1284 -91 818 406 \nQ 353 903 353 1747 \nQ 353 2603 823 3093 \nQ 1294 3584 2113 3584 \nQ 2378 3584 2631 3529 \nQ 2884 3475 3122 3366 \nz\n\" transform=\"scale(0.015625)\"/>\n       <path id=\"DejaVuSans-68\" d=\"M 3513 2113 \nL 3513 0 \nL 2938 0 \nL 2938 2094 \nQ 2938 2591 2744 2837 \nQ 2550 3084 2163 3084 \nQ 1697 3084 1428 2787 \nQ 1159 2491 1159 1978 \nL 1159 0 \nL 581 0 \nL 581 4863 \nL 1159 4863 \nL 1159 2956 \nQ 1366 3272 1645 3428 \nQ 1925 3584 2291 3584 \nQ 2894 3584 3203 3211 \nQ 3513 2838 3513 2113 \nz\n\" transform=\"scale(0.015625)\"/>\n      </defs>\n      <use xlink:href=\"#DejaVuSans-65\"/>\n      <use xlink:href=\"#DejaVuSans-70\" x=\"61.523438\"/>\n      <use xlink:href=\"#DejaVuSans-6f\" x=\"125\"/>\n      <use xlink:href=\"#DejaVuSans-63\" x=\"186.181641\"/>\n      <use xlink:href=\"#DejaVuSans-68\" x=\"241.162109\"/>\n     </g>\n    </g>\n   </g>\n   <g id=\"matplotlib.axis_2\">\n    <g id=\"ytick_1\">\n     <g id=\"line2d_8\">\n      <defs>\n       <path id=\"m13646dea0d\" d=\"M 0 0 \nL -3.5 0 \n\" style=\"stroke: #000000; stroke-width: 0.8\"/>\n      </defs>\n      <g>\n       <use xlink:href=\"#m13646dea0d\" x=\"36.465625\" y=\"139.986469\" style=\"stroke: #000000; stroke-width: 0.8\"/>\n      </g>\n     </g>\n     <g id=\"text_9\">\n      <!-- 0.0 -->\n      <g transform=\"translate(13.5625 143.785687) scale(0.1 -0.1)\">\n       <use xlink:href=\"#DejaVuSans-30\"/>\n       <use xlink:href=\"#DejaVuSans-2e\" x=\"63.623047\"/>\n       <use xlink:href=\"#DejaVuSans-30\" x=\"95.410156\"/>\n      </g>\n     </g>\n    </g>\n    <g id=\"ytick_2\">\n     <g id=\"line2d_9\">\n      <g>\n       <use xlink:href=\"#m13646dea0d\" x=\"36.465625\" y=\"111.589001\" style=\"stroke: #000000; stroke-width: 0.8\"/>\n      </g>\n     </g>\n     <g id=\"text_10\">\n      <!-- 2.5 -->\n      <g transform=\"translate(13.5625 115.38822) scale(0.1 -0.1)\">\n       <use xlink:href=\"#DejaVuSans-32\"/>\n       <use xlink:href=\"#DejaVuSans-2e\" x=\"63.623047\"/>\n       <use xlink:href=\"#DejaVuSans-35\" x=\"95.410156\"/>\n      </g>\n     </g>\n    </g>\n    <g id=\"ytick_3\">\n     <g id=\"line2d_10\">\n      <g>\n       <use xlink:href=\"#m13646dea0d\" x=\"36.465625\" y=\"83.191533\" style=\"stroke: #000000; stroke-width: 0.8\"/>\n      </g>\n     </g>\n     <g id=\"text_11\">\n      <!-- 5.0 -->\n      <g transform=\"translate(13.5625 86.990752) scale(0.1 -0.1)\">\n       <use xlink:href=\"#DejaVuSans-35\"/>\n       <use xlink:href=\"#DejaVuSans-2e\" x=\"63.623047\"/>\n       <use xlink:href=\"#DejaVuSans-30\" x=\"95.410156\"/>\n      </g>\n     </g>\n    </g>\n    <g id=\"ytick_4\">\n     <g id=\"line2d_11\">\n      <g>\n       <use xlink:href=\"#m13646dea0d\" x=\"36.465625\" y=\"54.794065\" style=\"stroke: #000000; stroke-width: 0.8\"/>\n      </g>\n     </g>\n     <g id=\"text_12\">\n      <!-- 7.5 -->\n      <g transform=\"translate(13.5625 58.593284) scale(0.1 -0.1)\">\n       <defs>\n        <path id=\"DejaVuSans-37\" d=\"M 525 4666 \nL 3525 4666 \nL 3525 4397 \nL 1831 0 \nL 1172 0 \nL 2766 4134 \nL 525 4134 \nL 525 4666 \nz\n\" transform=\"scale(0.015625)\"/>\n       </defs>\n       <use xlink:href=\"#DejaVuSans-37\"/>\n       <use xlink:href=\"#DejaVuSans-2e\" x=\"63.623047\"/>\n       <use xlink:href=\"#DejaVuSans-35\" x=\"95.410156\"/>\n      </g>\n     </g>\n    </g>\n    <g id=\"ytick_5\">\n     <g id=\"line2d_12\">\n      <g>\n       <use xlink:href=\"#m13646dea0d\" x=\"36.465625\" y=\"26.396598\" style=\"stroke: #000000; stroke-width: 0.8\"/>\n      </g>\n     </g>\n     <g id=\"text_13\">\n      <!-- 10.0 -->\n      <g transform=\"translate(7.2 30.195816) scale(0.1 -0.1)\">\n       <use xlink:href=\"#DejaVuSans-31\"/>\n       <use xlink:href=\"#DejaVuSans-30\" x=\"63.623047\"/>\n       <use xlink:href=\"#DejaVuSans-2e\" x=\"127.246094\"/>\n       <use xlink:href=\"#DejaVuSans-30\" x=\"159.033203\"/>\n      </g>\n     </g>\n    </g>\n   </g>\n   <g id=\"line2d_13\">\n    <path d=\"M 51.723438 13.5 \n\" clip-path=\"url(#p60a1d65083)\" style=\"fill: none; stroke: #1f77b4; stroke-width: 1.5; stroke-linecap: square\"/>\n   </g>\n   <g id=\"line2d_14\">\n    <path d=\"M 51.723438 13.5 \nL 84.273438 94.078332 \n\" clip-path=\"url(#p60a1d65083)\" style=\"fill: none; stroke: #1f77b4; stroke-width: 1.5; stroke-linecap: square\"/>\n   </g>\n   <g id=\"line2d_15\">\n    <path d=\"M 51.723438 13.5 \nL 84.273438 94.078332 \n\" clip-path=\"url(#p60a1d65083)\" style=\"fill: none; stroke: #1f77b4; stroke-width: 1.5; stroke-linecap: square\"/>\n   </g>\n   <g id=\"line2d_16\">\n    <path d=\"M 101.565625 114.494988 \n\" clip-path=\"url(#p60a1d65083)\" style=\"fill: none; stroke-dasharray: 5.55,2.4; stroke-dashoffset: 0; stroke: #ff7f0e; stroke-width: 1.5\"/>\n   </g>\n   <g id=\"line2d_17\">\n    <path d=\"M 51.723438 13.5 \nL 84.273438 94.078332 \nL 116.823437 123.120575 \n\" clip-path=\"url(#p60a1d65083)\" style=\"fill: none; stroke: #1f77b4; stroke-width: 1.5; stroke-linecap: square\"/>\n   </g>\n   <g id=\"line2d_18\">\n    <path d=\"M 101.565625 114.494988 \n\" clip-path=\"url(#p60a1d65083)\" style=\"fill: none; stroke-dasharray: 5.55,2.4; stroke-dashoffset: 0; stroke: #ff7f0e; stroke-width: 1.5\"/>\n   </g>\n   <g id=\"line2d_19\">\n    <path d=\"M 51.723438 13.5 \nL 84.273438 94.078332 \nL 116.823437 123.120575 \nL 149.373437 133.620629 \n\" clip-path=\"url(#p60a1d65083)\" style=\"fill: none; stroke: #1f77b4; stroke-width: 1.5; stroke-linecap: square\"/>\n   </g>\n   <g id=\"line2d_20\">\n    <path d=\"M 101.565625 114.494988 \n\" clip-path=\"url(#p60a1d65083)\" style=\"fill: none; stroke-dasharray: 5.55,2.4; stroke-dashoffset: 0; stroke: #ff7f0e; stroke-width: 1.5\"/>\n   </g>\n   <g id=\"line2d_21\">\n    <path d=\"M 51.723438 13.5 \nL 84.273438 94.078332 \nL 116.823437 123.120575 \nL 149.373437 133.620629 \n\" clip-path=\"url(#p60a1d65083)\" style=\"fill: none; stroke: #1f77b4; stroke-width: 1.5; stroke-linecap: square\"/>\n   </g>\n   <g id=\"line2d_22\">\n    <path d=\"M 101.565625 114.494988 \nL 166.665625 136.475641 \n\" clip-path=\"url(#p60a1d65083)\" style=\"fill: none; stroke-dasharray: 5.55,2.4; stroke-dashoffset: 0; stroke: #ff7f0e; stroke-width: 1.5\"/>\n   </g>\n   <g id=\"line2d_23\">\n    <path d=\"M 51.723438 13.5 \nL 84.273438 94.078332 \nL 116.823437 123.120575 \nL 149.373437 133.620629 \nL 181.923437 137.609491 \n\" clip-path=\"url(#p60a1d65083)\" style=\"fill: none; stroke: #1f77b4; stroke-width: 1.5; stroke-linecap: square\"/>\n   </g>\n   <g id=\"line2d_24\">\n    <path d=\"M 101.565625 114.494988 \nL 166.665625 136.475641 \n\" clip-path=\"url(#p60a1d65083)\" style=\"fill: none; stroke-dasharray: 5.55,2.4; stroke-dashoffset: 0; stroke: #ff7f0e; stroke-width: 1.5\"/>\n   </g>\n   <g id=\"line2d_25\">\n    <path d=\"M 51.723438 13.5 \nL 84.273438 94.078332 \nL 116.823437 123.120575 \nL 149.373437 133.620629 \nL 181.923437 137.609491 \nL 214.473437 139.168887 \n\" clip-path=\"url(#p60a1d65083)\" style=\"fill: none; stroke: #1f77b4; stroke-width: 1.5; stroke-linecap: square\"/>\n   </g>\n   <g id=\"line2d_26\">\n    <path d=\"M 101.565625 114.494988 \nL 166.665625 136.475641 \n\" clip-path=\"url(#p60a1d65083)\" style=\"fill: none; stroke-dasharray: 5.55,2.4; stroke-dashoffset: 0; stroke: #ff7f0e; stroke-width: 1.5\"/>\n   </g>\n   <g id=\"line2d_27\">\n    <path d=\"M 51.723438 13.5 \nL 84.273438 94.078332 \nL 116.823437 123.120575 \nL 149.373437 133.620629 \nL 181.923437 137.609491 \nL 214.473437 139.168887 \n\" clip-path=\"url(#p60a1d65083)\" style=\"fill: none; stroke: #1f77b4; stroke-width: 1.5; stroke-linecap: square\"/>\n   </g>\n   <g id=\"line2d_28\">\n    <path d=\"M 101.565625 114.494988 \nL 166.665625 136.475641 \nL 231.765625 139.5 \n\" clip-path=\"url(#p60a1d65083)\" style=\"fill: none; stroke-dasharray: 5.55,2.4; stroke-dashoffset: 0; stroke: #ff7f0e; stroke-width: 1.5\"/>\n   </g>\n   <g id=\"patch_3\">\n    <path d=\"M 36.465625 145.8 \nL 36.465625 7.2 \n\" style=\"fill: none; stroke: #000000; stroke-width: 0.8; stroke-linejoin: miter; stroke-linecap: square\"/>\n   </g>\n   <g id=\"patch_4\">\n    <path d=\"M 231.765625 145.8 \nL 231.765625 7.2 \n\" style=\"fill: none; stroke: #000000; stroke-width: 0.8; stroke-linejoin: miter; stroke-linecap: square\"/>\n   </g>\n   <g id=\"patch_5\">\n    <path d=\"M 36.465625 145.8 \nL 231.765625 145.8 \n\" style=\"fill: none; stroke: #000000; stroke-width: 0.8; stroke-linejoin: miter; stroke-linecap: square\"/>\n   </g>\n   <g id=\"patch_6\">\n    <path d=\"M 36.465625 7.2 \nL 231.765625 7.2 \n\" style=\"fill: none; stroke: #000000; stroke-width: 0.8; stroke-linejoin: miter; stroke-linecap: square\"/>\n   </g>\n   <g id=\"legend_1\">\n    <g id=\"patch_7\">\n     <path d=\"M 145.175 45.1125 \nL 224.765625 45.1125 \nQ 226.765625 45.1125 226.765625 43.1125 \nL 226.765625 14.2 \nQ 226.765625 12.2 224.765625 12.2 \nL 145.175 12.2 \nQ 143.175 12.2 143.175 14.2 \nL 143.175 43.1125 \nQ 143.175 45.1125 145.175 45.1125 \nz\n\" style=\"fill: #ffffff; opacity: 0.8; stroke: #cccccc; stroke-linejoin: miter\"/>\n    </g>\n    <g id=\"line2d_29\">\n     <path d=\"M 147.175 20.298438 \nL 157.175 20.298438 \nL 167.175 20.298438 \n\" style=\"fill: none; stroke: #1f77b4; stroke-width: 1.5; stroke-linecap: square\"/>\n    </g>\n    <g id=\"text_14\">\n     <!-- train_loss -->\n     <g transform=\"translate(175.175 23.798438) scale(0.1 -0.1)\">\n      <defs>\n       <path id=\"DejaVuSans-74\" d=\"M 1172 4494 \nL 1172 3500 \nL 2356 3500 \nL 2356 3053 \nL 1172 3053 \nL 1172 1153 \nQ 1172 725 1289 603 \nQ 1406 481 1766 481 \nL 2356 481 \nL 2356 0 \nL 1766 0 \nQ 1100 0 847 248 \nQ 594 497 594 1153 \nL 594 3053 \nL 172 3053 \nL 172 3500 \nL 594 3500 \nL 594 4494 \nL 1172 4494 \nz\n\" transform=\"scale(0.015625)\"/>\n       <path id=\"DejaVuSans-72\" d=\"M 2631 2963 \nQ 2534 3019 2420 3045 \nQ 2306 3072 2169 3072 \nQ 1681 3072 1420 2755 \nQ 1159 2438 1159 1844 \nL 1159 0 \nL 581 0 \nL 581 3500 \nL 1159 3500 \nL 1159 2956 \nQ 1341 3275 1631 3429 \nQ 1922 3584 2338 3584 \nQ 2397 3584 2469 3576 \nQ 2541 3569 2628 3553 \nL 2631 2963 \nz\n\" transform=\"scale(0.015625)\"/>\n       <path id=\"DejaVuSans-61\" d=\"M 2194 1759 \nQ 1497 1759 1228 1600 \nQ 959 1441 959 1056 \nQ 959 750 1161 570 \nQ 1363 391 1709 391 \nQ 2188 391 2477 730 \nQ 2766 1069 2766 1631 \nL 2766 1759 \nL 2194 1759 \nz\nM 3341 1997 \nL 3341 0 \nL 2766 0 \nL 2766 531 \nQ 2569 213 2275 61 \nQ 1981 -91 1556 -91 \nQ 1019 -91 701 211 \nQ 384 513 384 1019 \nQ 384 1609 779 1909 \nQ 1175 2209 1959 2209 \nL 2766 2209 \nL 2766 2266 \nQ 2766 2663 2505 2880 \nQ 2244 3097 1772 3097 \nQ 1472 3097 1187 3025 \nQ 903 2953 641 2809 \nL 641 3341 \nQ 956 3463 1253 3523 \nQ 1550 3584 1831 3584 \nQ 2591 3584 2966 3190 \nQ 3341 2797 3341 1997 \nz\n\" transform=\"scale(0.015625)\"/>\n       <path id=\"DejaVuSans-69\" d=\"M 603 3500 \nL 1178 3500 \nL 1178 0 \nL 603 0 \nL 603 3500 \nz\nM 603 4863 \nL 1178 4863 \nL 1178 4134 \nL 603 4134 \nL 603 4863 \nz\n\" transform=\"scale(0.015625)\"/>\n       <path id=\"DejaVuSans-6e\" d=\"M 3513 2113 \nL 3513 0 \nL 2938 0 \nL 2938 2094 \nQ 2938 2591 2744 2837 \nQ 2550 3084 2163 3084 \nQ 1697 3084 1428 2787 \nQ 1159 2491 1159 1978 \nL 1159 0 \nL 581 0 \nL 581 3500 \nL 1159 3500 \nL 1159 2956 \nQ 1366 3272 1645 3428 \nQ 1925 3584 2291 3584 \nQ 2894 3584 3203 3211 \nQ 3513 2838 3513 2113 \nz\n\" transform=\"scale(0.015625)\"/>\n       <path id=\"DejaVuSans-5f\" d=\"M 3263 -1063 \nL 3263 -1509 \nL -63 -1509 \nL -63 -1063 \nL 3263 -1063 \nz\n\" transform=\"scale(0.015625)\"/>\n       <path id=\"DejaVuSans-6c\" d=\"M 603 4863 \nL 1178 4863 \nL 1178 0 \nL 603 0 \nL 603 4863 \nz\n\" transform=\"scale(0.015625)\"/>\n       <path id=\"DejaVuSans-73\" d=\"M 2834 3397 \nL 2834 2853 \nQ 2591 2978 2328 3040 \nQ 2066 3103 1784 3103 \nQ 1356 3103 1142 2972 \nQ 928 2841 928 2578 \nQ 928 2378 1081 2264 \nQ 1234 2150 1697 2047 \nL 1894 2003 \nQ 2506 1872 2764 1633 \nQ 3022 1394 3022 966 \nQ 3022 478 2636 193 \nQ 2250 -91 1575 -91 \nQ 1294 -91 989 -36 \nQ 684 19 347 128 \nL 347 722 \nQ 666 556 975 473 \nQ 1284 391 1588 391 \nQ 1994 391 2212 530 \nQ 2431 669 2431 922 \nQ 2431 1156 2273 1281 \nQ 2116 1406 1581 1522 \nL 1381 1569 \nQ 847 1681 609 1914 \nQ 372 2147 372 2553 \nQ 372 3047 722 3315 \nQ 1072 3584 1716 3584 \nQ 2034 3584 2315 3537 \nQ 2597 3491 2834 3397 \nz\n\" transform=\"scale(0.015625)\"/>\n      </defs>\n      <use xlink:href=\"#DejaVuSans-74\"/>\n      <use xlink:href=\"#DejaVuSans-72\" x=\"39.208984\"/>\n      <use xlink:href=\"#DejaVuSans-61\" x=\"80.322266\"/>\n      <use xlink:href=\"#DejaVuSans-69\" x=\"141.601562\"/>\n      <use xlink:href=\"#DejaVuSans-6e\" x=\"169.384766\"/>\n      <use xlink:href=\"#DejaVuSans-5f\" x=\"232.763672\"/>\n      <use xlink:href=\"#DejaVuSans-6c\" x=\"282.763672\"/>\n      <use xlink:href=\"#DejaVuSans-6f\" x=\"310.546875\"/>\n      <use xlink:href=\"#DejaVuSans-73\" x=\"371.728516\"/>\n      <use xlink:href=\"#DejaVuSans-73\" x=\"423.828125\"/>\n     </g>\n    </g>\n    <g id=\"line2d_30\">\n     <path d=\"M 147.175 35.254688 \nL 157.175 35.254688 \nL 167.175 35.254688 \n\" style=\"fill: none; stroke-dasharray: 5.55,2.4; stroke-dashoffset: 0; stroke: #ff7f0e; stroke-width: 1.5\"/>\n    </g>\n    <g id=\"text_15\">\n     <!-- val_loss -->\n     <g transform=\"translate(175.175 38.754688) scale(0.1 -0.1)\">\n      <defs>\n       <path id=\"DejaVuSans-76\" d=\"M 191 3500 \nL 800 3500 \nL 1894 563 \nL 2988 3500 \nL 3597 3500 \nL 2284 0 \nL 1503 0 \nL 191 3500 \nz\n\" transform=\"scale(0.015625)\"/>\n      </defs>\n      <use xlink:href=\"#DejaVuSans-76\"/>\n      <use xlink:href=\"#DejaVuSans-61\" x=\"59.179688\"/>\n      <use xlink:href=\"#DejaVuSans-6c\" x=\"120.458984\"/>\n      <use xlink:href=\"#DejaVuSans-5f\" x=\"148.242188\"/>\n      <use xlink:href=\"#DejaVuSans-6c\" x=\"198.242188\"/>\n      <use xlink:href=\"#DejaVuSans-6f\" x=\"226.025391\"/>\n      <use xlink:href=\"#DejaVuSans-73\" x=\"287.207031\"/>\n      <use xlink:href=\"#DejaVuSans-73\" x=\"339.306641\"/>\n     </g>\n    </g>\n   </g>\n  </g>\n </g>\n <defs>\n  <clipPath id=\"p60a1d65083\">\n   <rect x=\"36.465625\" y=\"7.2\" width=\"195.3\" height=\"138.6\"/>\n  </clipPath>\n </defs>\n</svg>\n"
          },
          "metadata": {}
        }
      ]
    },
    {
      "cell_type": "markdown",
      "source": [
        "![image.png](data:image/png;base64,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)\n",
        "\n",
        "-정답 그림"
      ],
      "metadata": {
        "id": "xMYi0YS3hUP9"
      }
    },
    {
      "cell_type": "markdown",
      "source": [
        "# Softmax Regression"
      ],
      "metadata": {
        "id": "667Hus_gho4q"
      }
    },
    {
      "cell_type": "markdown",
      "source": [
        "다양한 X를 설정해서 진행해주셔도 좋을 거 같습니다 :>"
      ],
      "metadata": {
        "id": "TWyghVYph6y1"
      }
    },
    {
      "cell_type": "code",
      "source": [
        "X = torch.tensor([[1.0, 2.0, 3.0], [4.0, 5.0, 6.0]])\n",
        "X.sum(0, keepdims=True), X.sum(1, keepdims=True) # keepdims : sum 이후에도 차원 유지"
      ],
      "metadata": {
        "id": "czMI16myh19t",
        "colab": {
          "base_uri": "https://localhost:8080/"
        },
        "outputId": "03866b0b-41ca-4757-e3c8-b7834b8e7e74"
      },
      "execution_count": 10,
      "outputs": [
        {
          "output_type": "execute_result",
          "data": {
            "text/plain": [
              "(tensor([[5., 7., 9.]]),\n",
              " tensor([[ 6.],\n",
              "         [15.]]))"
            ]
          },
          "metadata": {},
          "execution_count": 10
        }
      ]
    },
    {
      "cell_type": "markdown",
      "source": [
        "(**\n",
        "$$\\mathrm{softmax}(\\mathbf{X})_{ij} = \\frac{\\exp(\\mathbf{X}_{ij})}{\\sum_k \\exp(\\mathbf{X}_{ik})}.$$\n",
        "**)"
      ],
      "metadata": {
        "id": "h8BCOgKbiOxo"
      }
    },
    {
      "cell_type": "markdown",
      "source": [
        "softmax를 구현해주세요"
      ],
      "metadata": {
        "id": "1q9SJ4ULiWVV"
      }
    },
    {
      "cell_type": "code",
      "source": [
        "def softmax(X):\n",
        "    X_exp = torch.exp(X) #지수화\n",
        "    sum = X_exp.sum(1, keepdims=True) #정규화 상수\n",
        "    return X_exp/sum"
      ],
      "metadata": {
        "id": "kNvgcugSiV5B"
      },
      "execution_count": 11,
      "outputs": []
    },
    {
      "cell_type": "code",
      "source": [
        "X = torch.rand((2, 5))\n",
        "X_prob = softmax(X)\n",
        "X_prob, X_prob.sum(1)"
      ],
      "metadata": {
        "id": "nu3FQeHEiglH",
        "colab": {
          "base_uri": "https://localhost:8080/"
        },
        "outputId": "5f119e1b-6b34-438e-dd17-925b1f06065d"
      },
      "execution_count": 12,
      "outputs": [
        {
          "output_type": "execute_result",
          "data": {
            "text/plain": [
              "(tensor([[0.1527, 0.2488, 0.1532, 0.2956, 0.1498],\n",
              "         [0.2623, 0.1459, 0.1950, 0.2643, 0.1325]]),\n",
              " tensor([1.0000, 1.0000]))"
            ]
          },
          "metadata": {},
          "execution_count": 12
        }
      ]
    },
    {
      "cell_type": "markdown",
      "source": [
        "## Model"
      ],
      "metadata": {
        "id": "mR9ZzFC0ih6W"
      }
    },
    {
      "cell_type": "markdown",
      "source": [
        "- 28*28 pixel image를 가지고, flatten하여 vector로 만듦\n",
        "- 10 class 존재"
      ],
      "metadata": {
        "id": "Ag1Gi29Bilfp"
      }
    },
    {
      "cell_type": "code",
      "source": [
        "class SoftmaxRegressionScratch(d2l.Classifier):\n",
        "    def __init__(self, num_inputs, num_outputs, lr, sigma=0.01):\n",
        "        super().__init__()\n",
        "        self.save_hyperparameters()\n",
        "        self.W = torch.normal(0, sigma, size=(num_inputs, num_outputs),\n",
        "                              requires_grad=True)\n",
        "        self.b = torch.zeros(num_outputs, requires_grad=True)\n",
        "\n",
        "    def parameters(self):\n",
        "        return [self.W, self.b]"
      ],
      "metadata": {
        "id": "NgVmhlalisMa"
      },
      "execution_count": 13,
      "outputs": []
    },
    {
      "cell_type": "code",
      "source": [
        "@d2l.add_to_class(SoftmaxRegressionScratch)\n",
        "def forward(self, X):\n",
        "    X = X.reshape((-1, self.W.shape[0])) # W의 dimension(num_inputs)대로 X reshape\n",
        "    return softmax(torch.matmul(X, self.W) + self.b)"
      ],
      "metadata": {
        "id": "twN0PZJGizFO"
      },
      "execution_count": 14,
      "outputs": []
    },
    {
      "cell_type": "markdown",
      "source": [
        "## Cross-Entropy Loss"
      ],
      "metadata": {
        "id": "nSih7q8Ji89r"
      }
    },
    {
      "cell_type": "markdown",
      "source": [
        "다양한 y로 연습해보셔도 좋을 거 같습니다 :>"
      ],
      "metadata": {
        "id": "UeWAJoO7jBGZ"
      }
    },
    {
      "cell_type": "code",
      "source": [
        "y = torch.tensor([0, 2])\n",
        "y_hat = torch.tensor([[0.1, 0.3, 0.6], [0.3, 0.2, 0.5]])\n",
        "y_hat[[0, 1], y]"
      ],
      "metadata": {
        "id": "MnwMQuNRjEXh",
        "colab": {
          "base_uri": "https://localhost:8080/"
        },
        "outputId": "abd62a69-7fe3-4438-84cf-d7d04ca5b751"
      },
      "execution_count": 15,
      "outputs": [
        {
          "output_type": "execute_result",
          "data": {
            "text/plain": [
              "tensor([0.1000, 0.5000])"
            ]
          },
          "metadata": {},
          "execution_count": 15
        }
      ]
    },
    {
      "cell_type": "markdown",
      "source": [
        "Cross entropy loss를 구현해주세요"
      ],
      "metadata": {
        "id": "Umsm4s21jHC4"
      }
    },
    {
      "cell_type": "code",
      "source": [
        "def cross_entropy(y_hat, y):\n",
        "    return -torch.log(y_hat[list(range(len(y_hat))), y]).mean()\n",
        "    # 각 sample에 대한 실제 클래스의 예측 확률의 음의 로그 평균\n",
        "cross_entropy(y_hat, y)"
      ],
      "metadata": {
        "id": "P38K-qztjJR2",
        "colab": {
          "base_uri": "https://localhost:8080/"
        },
        "outputId": "9a5b60a1-e07a-4ca2-ce6b-56655993542f"
      },
      "execution_count": 16,
      "outputs": [
        {
          "output_type": "execute_result",
          "data": {
            "text/plain": [
              "tensor(1.4979)"
            ]
          },
          "metadata": {},
          "execution_count": 16
        }
      ]
    },
    {
      "cell_type": "code",
      "source": [
        "@d2l.add_to_class(SoftmaxRegressionScratch)\n",
        "def loss(self, y_hat, y):\n",
        "    return cross_entropy(y_hat, y)"
      ],
      "metadata": {
        "id": "p7d147osjM61"
      },
      "execution_count": 17,
      "outputs": []
    },
    {
      "cell_type": "markdown",
      "source": [
        "## Training"
      ],
      "metadata": {
        "id": "LQsgu_X4jPBk"
      }
    },
    {
      "cell_type": "code",
      "source": [
        "data = d2l.FashionMNIST(batch_size=256)\n",
        "model = SoftmaxRegressionScratch(num_inputs=784, num_outputs=10, lr=0.1)\n",
        "# 이미지의 크기 28x28 = 784 / 클래스의 수 10\n",
        "trainer = d2l.Trainer(max_epochs=10)\n",
        "trainer.fit(model, data)"
      ],
      "metadata": {
        "id": "gEolZC7djRlS",
        "colab": {
          "base_uri": "https://localhost:8080/",
          "height": 266
        },
        "collapsed": true,
        "outputId": "05f9683f-8a9c-4436-86c4-db5b0c95cc1f"
      },
      "execution_count": 18,
      "outputs": [
        {
          "output_type": "display_data",
          "data": {
            "text/plain": [
              "<Figure size 350x250 with 1 Axes>"
            ],
            "image/svg+xml": "<?xml version=\"1.0\" encoding=\"utf-8\" standalone=\"no\"?>\n<!DOCTYPE svg PUBLIC \"-//W3C//DTD SVG 1.1//EN\"\n  \"http://www.w3.org/Graphics/SVG/1.1/DTD/svg11.dtd\">\n<svg xmlns:xlink=\"http://www.w3.org/1999/xlink\" width=\"238.965625pt\" height=\"183.35625pt\" viewBox=\"0 0 238.965625 183.35625\" xmlns=\"http://www.w3.org/2000/svg\" version=\"1.1\">\n <metadata>\n  <rdf:RDF xmlns:dc=\"http://purl.org/dc/elements/1.1/\" xmlns:cc=\"http://creativecommons.org/ns#\" xmlns:rdf=\"http://www.w3.org/1999/02/22-rdf-syntax-ns#\">\n   <cc:Work>\n    <dc:type rdf:resource=\"http://purl.org/dc/dcmitype/StillImage\"/>\n    <dc:date>2024-07-17T08:43:53.048263</dc:date>\n    <dc:format>image/svg+xml</dc:format>\n    <dc:creator>\n     <cc:Agent>\n      <dc:title>Matplotlib v3.7.2, https://matplotlib.org/</dc:title>\n     </cc:Agent>\n    </dc:creator>\n   </cc:Work>\n  </rdf:RDF>\n </metadata>\n <defs>\n  <style type=\"text/css\">*{stroke-linejoin: round; stroke-linecap: butt}</style>\n </defs>\n <g id=\"figure_1\">\n  <g id=\"patch_1\">\n   <path d=\"M 0 183.35625 \nL 238.965625 183.35625 \nL 238.965625 0 \nL 0 0 \nz\n\" style=\"fill: #ffffff\"/>\n  </g>\n  <g id=\"axes_1\">\n   <g id=\"patch_2\">\n    <path d=\"M 30.103125 145.8 \nL 225.403125 145.8 \nL 225.403125 7.2 \nL 30.103125 7.2 \nz\n\" style=\"fill: #ffffff\"/>\n   </g>\n   <g id=\"matplotlib.axis_1\">\n    <g id=\"xtick_1\">\n     <g id=\"line2d_1\">\n      <defs>\n       <path id=\"mb3af75f7f2\" d=\"M 0 0 \nL 0 3.5 \n\" style=\"stroke: #000000; stroke-width: 0.8\"/>\n      </defs>\n      <g>\n       <use xlink:href=\"#mb3af75f7f2\" x=\"30.103125\" y=\"145.8\" style=\"stroke: #000000; stroke-width: 0.8\"/>\n      </g>\n     </g>\n     <g id=\"text_1\">\n      <!-- 0 -->\n      <g transform=\"translate(26.921875 160.398438) scale(0.1 -0.1)\">\n       <defs>\n        <path id=\"DejaVuSans-30\" d=\"M 2034 4250 \nQ 1547 4250 1301 3770 \nQ 1056 3291 1056 2328 \nQ 1056 1369 1301 889 \nQ 1547 409 2034 409 \nQ 2525 409 2770 889 \nQ 3016 1369 3016 2328 \nQ 3016 3291 2770 3770 \nQ 2525 4250 2034 4250 \nz\nM 2034 4750 \nQ 2819 4750 3233 4129 \nQ 3647 3509 3647 2328 \nQ 3647 1150 3233 529 \nQ 2819 -91 2034 -91 \nQ 1250 -91 836 529 \nQ 422 1150 422 2328 \nQ 422 3509 836 4129 \nQ 1250 4750 2034 4750 \nz\n\" transform=\"scale(0.015625)\"/>\n       </defs>\n       <use xlink:href=\"#DejaVuSans-30\"/>\n      </g>\n     </g>\n    </g>\n    <g id=\"xtick_2\">\n     <g id=\"line2d_2\">\n      <g>\n       <use xlink:href=\"#mb3af75f7f2\" x=\"69.163125\" y=\"145.8\" style=\"stroke: #000000; stroke-width: 0.8\"/>\n      </g>\n     </g>\n     <g id=\"text_2\">\n      <!-- 2 -->\n      <g transform=\"translate(65.981875 160.398438) scale(0.1 -0.1)\">\n       <defs>\n        <path id=\"DejaVuSans-32\" d=\"M 1228 531 \nL 3431 531 \nL 3431 0 \nL 469 0 \nL 469 531 \nQ 828 903 1448 1529 \nQ 2069 2156 2228 2338 \nQ 2531 2678 2651 2914 \nQ 2772 3150 2772 3378 \nQ 2772 3750 2511 3984 \nQ 2250 4219 1831 4219 \nQ 1534 4219 1204 4116 \nQ 875 4013 500 3803 \nL 500 4441 \nQ 881 4594 1212 4672 \nQ 1544 4750 1819 4750 \nQ 2544 4750 2975 4387 \nQ 3406 4025 3406 3419 \nQ 3406 3131 3298 2873 \nQ 3191 2616 2906 2266 \nQ 2828 2175 2409 1742 \nQ 1991 1309 1228 531 \nz\n\" transform=\"scale(0.015625)\"/>\n       </defs>\n       <use xlink:href=\"#DejaVuSans-32\"/>\n      </g>\n     </g>\n    </g>\n    <g id=\"xtick_3\">\n     <g id=\"line2d_3\">\n      <g>\n       <use xlink:href=\"#mb3af75f7f2\" x=\"108.223125\" y=\"145.8\" style=\"stroke: #000000; stroke-width: 0.8\"/>\n      </g>\n     </g>\n     <g id=\"text_3\">\n      <!-- 4 -->\n      <g transform=\"translate(105.041875 160.398438) scale(0.1 -0.1)\">\n       <defs>\n        <path id=\"DejaVuSans-34\" d=\"M 2419 4116 \nL 825 1625 \nL 2419 1625 \nL 2419 4116 \nz\nM 2253 4666 \nL 3047 4666 \nL 3047 1625 \nL 3713 1625 \nL 3713 1100 \nL 3047 1100 \nL 3047 0 \nL 2419 0 \nL 2419 1100 \nL 313 1100 \nL 313 1709 \nL 2253 4666 \nz\n\" transform=\"scale(0.015625)\"/>\n       </defs>\n       <use xlink:href=\"#DejaVuSans-34\"/>\n      </g>\n     </g>\n    </g>\n    <g id=\"xtick_4\">\n     <g id=\"line2d_4\">\n      <g>\n       <use xlink:href=\"#mb3af75f7f2\" x=\"147.283125\" y=\"145.8\" style=\"stroke: #000000; stroke-width: 0.8\"/>\n      </g>\n     </g>\n     <g id=\"text_4\">\n      <!-- 6 -->\n      <g transform=\"translate(144.101875 160.398438) scale(0.1 -0.1)\">\n       <defs>\n        <path id=\"DejaVuSans-36\" d=\"M 2113 2584 \nQ 1688 2584 1439 2293 \nQ 1191 2003 1191 1497 \nQ 1191 994 1439 701 \nQ 1688 409 2113 409 \nQ 2538 409 2786 701 \nQ 3034 994 3034 1497 \nQ 3034 2003 2786 2293 \nQ 2538 2584 2113 2584 \nz\nM 3366 4563 \nL 3366 3988 \nQ 3128 4100 2886 4159 \nQ 2644 4219 2406 4219 \nQ 1781 4219 1451 3797 \nQ 1122 3375 1075 2522 \nQ 1259 2794 1537 2939 \nQ 1816 3084 2150 3084 \nQ 2853 3084 3261 2657 \nQ 3669 2231 3669 1497 \nQ 3669 778 3244 343 \nQ 2819 -91 2113 -91 \nQ 1303 -91 875 529 \nQ 447 1150 447 2328 \nQ 447 3434 972 4092 \nQ 1497 4750 2381 4750 \nQ 2619 4750 2861 4703 \nQ 3103 4656 3366 4563 \nz\n\" transform=\"scale(0.015625)\"/>\n       </defs>\n       <use xlink:href=\"#DejaVuSans-36\"/>\n      </g>\n     </g>\n    </g>\n    <g id=\"xtick_5\">\n     <g id=\"line2d_5\">\n      <g>\n       <use xlink:href=\"#mb3af75f7f2\" x=\"186.343125\" y=\"145.8\" style=\"stroke: #000000; stroke-width: 0.8\"/>\n      </g>\n     </g>\n     <g id=\"text_5\">\n      <!-- 8 -->\n      <g transform=\"translate(183.161875 160.398438) scale(0.1 -0.1)\">\n       <defs>\n        <path id=\"DejaVuSans-38\" d=\"M 2034 2216 \nQ 1584 2216 1326 1975 \nQ 1069 1734 1069 1313 \nQ 1069 891 1326 650 \nQ 1584 409 2034 409 \nQ 2484 409 2743 651 \nQ 3003 894 3003 1313 \nQ 3003 1734 2745 1975 \nQ 2488 2216 2034 2216 \nz\nM 1403 2484 \nQ 997 2584 770 2862 \nQ 544 3141 544 3541 \nQ 544 4100 942 4425 \nQ 1341 4750 2034 4750 \nQ 2731 4750 3128 4425 \nQ 3525 4100 3525 3541 \nQ 3525 3141 3298 2862 \nQ 3072 2584 2669 2484 \nQ 3125 2378 3379 2068 \nQ 3634 1759 3634 1313 \nQ 3634 634 3220 271 \nQ 2806 -91 2034 -91 \nQ 1263 -91 848 271 \nQ 434 634 434 1313 \nQ 434 1759 690 2068 \nQ 947 2378 1403 2484 \nz\nM 1172 3481 \nQ 1172 3119 1398 2916 \nQ 1625 2713 2034 2713 \nQ 2441 2713 2670 2916 \nQ 2900 3119 2900 3481 \nQ 2900 3844 2670 4047 \nQ 2441 4250 2034 4250 \nQ 1625 4250 1398 4047 \nQ 1172 3844 1172 3481 \nz\n\" transform=\"scale(0.015625)\"/>\n       </defs>\n       <use xlink:href=\"#DejaVuSans-38\"/>\n      </g>\n     </g>\n    </g>\n    <g id=\"xtick_6\">\n     <g id=\"line2d_6\">\n      <g>\n       <use xlink:href=\"#mb3af75f7f2\" x=\"225.403125\" y=\"145.8\" style=\"stroke: #000000; stroke-width: 0.8\"/>\n      </g>\n     </g>\n     <g id=\"text_6\">\n      <!-- 10 -->\n      <g transform=\"translate(219.040625 160.398438) scale(0.1 -0.1)\">\n       <defs>\n        <path id=\"DejaVuSans-31\" d=\"M 794 531 \nL 1825 531 \nL 1825 4091 \nL 703 3866 \nL 703 4441 \nL 1819 4666 \nL 2450 4666 \nL 2450 531 \nL 3481 531 \nL 3481 0 \nL 794 0 \nL 794 531 \nz\n\" transform=\"scale(0.015625)\"/>\n       </defs>\n       <use xlink:href=\"#DejaVuSans-31\"/>\n       <use xlink:href=\"#DejaVuSans-30\" x=\"63.623047\"/>\n      </g>\n     </g>\n    </g>\n    <g id=\"text_7\">\n     <!-- epoch -->\n     <g transform=\"translate(112.525 174.076563) scale(0.1 -0.1)\">\n      <defs>\n       <path id=\"DejaVuSans-65\" d=\"M 3597 1894 \nL 3597 1613 \nL 953 1613 \nQ 991 1019 1311 708 \nQ 1631 397 2203 397 \nQ 2534 397 2845 478 \nQ 3156 559 3463 722 \nL 3463 178 \nQ 3153 47 2828 -22 \nQ 2503 -91 2169 -91 \nQ 1331 -91 842 396 \nQ 353 884 353 1716 \nQ 353 2575 817 3079 \nQ 1281 3584 2069 3584 \nQ 2775 3584 3186 3129 \nQ 3597 2675 3597 1894 \nz\nM 3022 2063 \nQ 3016 2534 2758 2815 \nQ 2500 3097 2075 3097 \nQ 1594 3097 1305 2825 \nQ 1016 2553 972 2059 \nL 3022 2063 \nz\n\" transform=\"scale(0.015625)\"/>\n       <path id=\"DejaVuSans-70\" d=\"M 1159 525 \nL 1159 -1331 \nL 581 -1331 \nL 581 3500 \nL 1159 3500 \nL 1159 2969 \nQ 1341 3281 1617 3432 \nQ 1894 3584 2278 3584 \nQ 2916 3584 3314 3078 \nQ 3713 2572 3713 1747 \nQ 3713 922 3314 415 \nQ 2916 -91 2278 -91 \nQ 1894 -91 1617 61 \nQ 1341 213 1159 525 \nz\nM 3116 1747 \nQ 3116 2381 2855 2742 \nQ 2594 3103 2138 3103 \nQ 1681 3103 1420 2742 \nQ 1159 2381 1159 1747 \nQ 1159 1113 1420 752 \nQ 1681 391 2138 391 \nQ 2594 391 2855 752 \nQ 3116 1113 3116 1747 \nz\n\" transform=\"scale(0.015625)\"/>\n       <path id=\"DejaVuSans-6f\" d=\"M 1959 3097 \nQ 1497 3097 1228 2736 \nQ 959 2375 959 1747 \nQ 959 1119 1226 758 \nQ 1494 397 1959 397 \nQ 2419 397 2687 759 \nQ 2956 1122 2956 1747 \nQ 2956 2369 2687 2733 \nQ 2419 3097 1959 3097 \nz\nM 1959 3584 \nQ 2709 3584 3137 3096 \nQ 3566 2609 3566 1747 \nQ 3566 888 3137 398 \nQ 2709 -91 1959 -91 \nQ 1206 -91 779 398 \nQ 353 888 353 1747 \nQ 353 2609 779 3096 \nQ 1206 3584 1959 3584 \nz\n\" transform=\"scale(0.015625)\"/>\n       <path id=\"DejaVuSans-63\" d=\"M 3122 3366 \nL 3122 2828 \nQ 2878 2963 2633 3030 \nQ 2388 3097 2138 3097 \nQ 1578 3097 1268 2742 \nQ 959 2388 959 1747 \nQ 959 1106 1268 751 \nQ 1578 397 2138 397 \nQ 2388 397 2633 464 \nQ 2878 531 3122 666 \nL 3122 134 \nQ 2881 22 2623 -34 \nQ 2366 -91 2075 -91 \nQ 1284 -91 818 406 \nQ 353 903 353 1747 \nQ 353 2603 823 3093 \nQ 1294 3584 2113 3584 \nQ 2378 3584 2631 3529 \nQ 2884 3475 3122 3366 \nz\n\" transform=\"scale(0.015625)\"/>\n       <path id=\"DejaVuSans-68\" d=\"M 3513 2113 \nL 3513 0 \nL 2938 0 \nL 2938 2094 \nQ 2938 2591 2744 2837 \nQ 2550 3084 2163 3084 \nQ 1697 3084 1428 2787 \nQ 1159 2491 1159 1978 \nL 1159 0 \nL 581 0 \nL 581 4863 \nL 1159 4863 \nL 1159 2956 \nQ 1366 3272 1645 3428 \nQ 1925 3584 2291 3584 \nQ 2894 3584 3203 3211 \nQ 3513 2838 3513 2113 \nz\n\" transform=\"scale(0.015625)\"/>\n      </defs>\n      <use xlink:href=\"#DejaVuSans-65\"/>\n      <use xlink:href=\"#DejaVuSans-70\" x=\"61.523438\"/>\n      <use xlink:href=\"#DejaVuSans-6f\" x=\"125\"/>\n      <use xlink:href=\"#DejaVuSans-63\" x=\"186.181641\"/>\n      <use xlink:href=\"#DejaVuSans-68\" x=\"241.162109\"/>\n     </g>\n    </g>\n   </g>\n   <g id=\"matplotlib.axis_2\">\n    <g id=\"ytick_1\">\n     <g id=\"line2d_7\">\n      <defs>\n       <path id=\"m66f0eee352\" d=\"M 0 0 \nL -3.5 0 \n\" style=\"stroke: #000000; stroke-width: 0.8\"/>\n      </defs>\n      <g>\n       <use xlink:href=\"#m66f0eee352\" x=\"30.103125\" y=\"125.035562\" style=\"stroke: #000000; stroke-width: 0.8\"/>\n      </g>\n     </g>\n     <g id=\"text_8\">\n      <!-- 0.5 -->\n      <g transform=\"translate(7.2 128.834781) scale(0.1 -0.1)\">\n       <defs>\n        <path id=\"DejaVuSans-2e\" d=\"M 684 794 \nL 1344 794 \nL 1344 0 \nL 684 0 \nL 684 794 \nz\n\" transform=\"scale(0.015625)\"/>\n        <path id=\"DejaVuSans-35\" d=\"M 691 4666 \nL 3169 4666 \nL 3169 4134 \nL 1269 4134 \nL 1269 2991 \nQ 1406 3038 1543 3061 \nQ 1681 3084 1819 3084 \nQ 2600 3084 3056 2656 \nQ 3513 2228 3513 1497 \nQ 3513 744 3044 326 \nQ 2575 -91 1722 -91 \nQ 1428 -91 1123 -41 \nQ 819 9 494 109 \nL 494 744 \nQ 775 591 1075 516 \nQ 1375 441 1709 441 \nQ 2250 441 2565 725 \nQ 2881 1009 2881 1497 \nQ 2881 1984 2565 2268 \nQ 2250 2553 1709 2553 \nQ 1456 2553 1204 2497 \nQ 953 2441 691 2322 \nL 691 4666 \nz\n\" transform=\"scale(0.015625)\"/>\n       </defs>\n       <use xlink:href=\"#DejaVuSans-30\"/>\n       <use xlink:href=\"#DejaVuSans-2e\" x=\"63.623047\"/>\n       <use xlink:href=\"#DejaVuSans-35\" x=\"95.410156\"/>\n      </g>\n     </g>\n    </g>\n    <g id=\"ytick_2\">\n     <g id=\"line2d_8\">\n      <g>\n       <use xlink:href=\"#m66f0eee352\" x=\"30.103125\" y=\"98.472151\" style=\"stroke: #000000; stroke-width: 0.8\"/>\n      </g>\n     </g>\n     <g id=\"text_9\">\n      <!-- 0.6 -->\n      <g transform=\"translate(7.2 102.27137) scale(0.1 -0.1)\">\n       <use xlink:href=\"#DejaVuSans-30\"/>\n       <use xlink:href=\"#DejaVuSans-2e\" x=\"63.623047\"/>\n       <use xlink:href=\"#DejaVuSans-36\" x=\"95.410156\"/>\n      </g>\n     </g>\n    </g>\n    <g id=\"ytick_3\">\n     <g id=\"line2d_9\">\n      <g>\n       <use xlink:href=\"#m66f0eee352\" x=\"30.103125\" y=\"71.908741\" style=\"stroke: #000000; stroke-width: 0.8\"/>\n      </g>\n     </g>\n     <g id=\"text_10\">\n      <!-- 0.7 -->\n      <g transform=\"translate(7.2 75.707959) scale(0.1 -0.1)\">\n       <defs>\n        <path id=\"DejaVuSans-37\" d=\"M 525 4666 \nL 3525 4666 \nL 3525 4397 \nL 1831 0 \nL 1172 0 \nL 2766 4134 \nL 525 4134 \nL 525 4666 \nz\n\" transform=\"scale(0.015625)\"/>\n       </defs>\n       <use xlink:href=\"#DejaVuSans-30\"/>\n       <use xlink:href=\"#DejaVuSans-2e\" x=\"63.623047\"/>\n       <use xlink:href=\"#DejaVuSans-37\" x=\"95.410156\"/>\n      </g>\n     </g>\n    </g>\n    <g id=\"ytick_4\">\n     <g id=\"line2d_10\">\n      <g>\n       <use xlink:href=\"#m66f0eee352\" x=\"30.103125\" y=\"45.34533\" style=\"stroke: #000000; stroke-width: 0.8\"/>\n      </g>\n     </g>\n     <g id=\"text_11\">\n      <!-- 0.8 -->\n      <g transform=\"translate(7.2 49.144549) scale(0.1 -0.1)\">\n       <use xlink:href=\"#DejaVuSans-30\"/>\n       <use xlink:href=\"#DejaVuSans-2e\" x=\"63.623047\"/>\n       <use xlink:href=\"#DejaVuSans-38\" x=\"95.410156\"/>\n      </g>\n     </g>\n    </g>\n    <g id=\"ytick_5\">\n     <g id=\"line2d_11\">\n      <g>\n       <use xlink:href=\"#m66f0eee352\" x=\"30.103125\" y=\"18.781919\" style=\"stroke: #000000; stroke-width: 0.8\"/>\n      </g>\n     </g>\n     <g id=\"text_12\">\n      <!-- 0.9 -->\n      <g transform=\"translate(7.2 22.581138) scale(0.1 -0.1)\">\n       <defs>\n        <path id=\"DejaVuSans-39\" d=\"M 703 97 \nL 703 672 \nQ 941 559 1184 500 \nQ 1428 441 1663 441 \nQ 2288 441 2617 861 \nQ 2947 1281 2994 2138 \nQ 2813 1869 2534 1725 \nQ 2256 1581 1919 1581 \nQ 1219 1581 811 2004 \nQ 403 2428 403 3163 \nQ 403 3881 828 4315 \nQ 1253 4750 1959 4750 \nQ 2769 4750 3195 4129 \nQ 3622 3509 3622 2328 \nQ 3622 1225 3098 567 \nQ 2575 -91 1691 -91 \nQ 1453 -91 1209 -44 \nQ 966 3 703 97 \nz\nM 1959 2075 \nQ 2384 2075 2632 2365 \nQ 2881 2656 2881 3163 \nQ 2881 3666 2632 3958 \nQ 2384 4250 1959 4250 \nQ 1534 4250 1286 3958 \nQ 1038 3666 1038 3163 \nQ 1038 2656 1286 2365 \nQ 1534 2075 1959 2075 \nz\n\" transform=\"scale(0.015625)\"/>\n       </defs>\n       <use xlink:href=\"#DejaVuSans-30\"/>\n       <use xlink:href=\"#DejaVuSans-2e\" x=\"63.623047\"/>\n       <use xlink:href=\"#DejaVuSans-39\" x=\"95.410156\"/>\n      </g>\n     </g>\n    </g>\n   </g>\n   <g id=\"line2d_12\">\n    <path d=\"M 34.923295 13.5 \n\" clip-path=\"url(#pc093ad46b3)\" style=\"fill: none; stroke: #1f77b4; stroke-width: 1.5; stroke-linecap: square\"/>\n   </g>\n   <g id=\"line2d_13\">\n    <path d=\"M 34.923295 13.5 \nL 44.646742 84.609424 \n\" clip-path=\"url(#pc093ad46b3)\" style=\"fill: none; stroke: #1f77b4; stroke-width: 1.5; stroke-linecap: square\"/>\n   </g>\n   <g id=\"line2d_14\">\n    <path d=\"M 34.923295 13.5 \nL 44.646742 84.609424 \n\" clip-path=\"url(#pc093ad46b3)\" style=\"fill: none; stroke: #1f77b4; stroke-width: 1.5; stroke-linecap: square\"/>\n   </g>\n   <g id=\"line2d_15\">\n    <path d=\"M 49.633125 93.058797 \n\" clip-path=\"url(#pc093ad46b3)\" style=\"fill: none; stroke-dasharray: 5.55,2.4; stroke-dashoffset: 0; stroke: #ff7f0e; stroke-width: 1.5\"/>\n   </g>\n   <g id=\"line2d_16\"/>\n   <g id=\"line2d_17\">\n    <path d=\"M 34.923295 13.5 \nL 44.646742 84.609424 \n\" clip-path=\"url(#pc093ad46b3)\" style=\"fill: none; stroke: #1f77b4; stroke-width: 1.5; stroke-linecap: square\"/>\n   </g>\n   <g id=\"line2d_18\">\n    <path d=\"M 49.633125 93.058797 \n\" clip-path=\"url(#pc093ad46b3)\" style=\"fill: none; stroke-dasharray: 5.55,2.4; stroke-dashoffset: 0; stroke: #ff7f0e; stroke-width: 1.5\"/>\n   </g>\n   <g id=\"line2d_19\">\n    <path d=\"M 49.633125 47.135247 \n\" clip-path=\"url(#pc093ad46b3)\" style=\"fill: none; stroke-dasharray: 9.6,2.4,1.5,2.4; stroke-dashoffset: 0; stroke: #2ca02c; stroke-width: 1.5\"/>\n   </g>\n   <g id=\"line2d_20\">\n    <path d=\"M 34.923295 13.5 \nL 44.646742 84.609424 \nL 54.370189 102.259044 \n\" clip-path=\"url(#pc093ad46b3)\" style=\"fill: none; stroke: #1f77b4; stroke-width: 1.5; stroke-linecap: square\"/>\n   </g>\n   <g id=\"line2d_21\">\n    <path d=\"M 49.633125 93.058797 \n\" clip-path=\"url(#pc093ad46b3)\" style=\"fill: none; stroke-dasharray: 5.55,2.4; stroke-dashoffset: 0; stroke: #ff7f0e; stroke-width: 1.5\"/>\n   </g>\n   <g id=\"line2d_22\">\n    <path d=\"M 49.633125 47.135247 \n\" clip-path=\"url(#pc093ad46b3)\" style=\"fill: none; stroke-dasharray: 9.6,2.4,1.5,2.4; stroke-dashoffset: 0; stroke: #2ca02c; stroke-width: 1.5\"/>\n   </g>\n   <g id=\"line2d_23\">\n    <path d=\"M 34.923295 13.5 \nL 44.646742 84.609424 \nL 54.370189 102.259044 \nL 64.093636 110.132384 \n\" clip-path=\"url(#pc093ad46b3)\" style=\"fill: none; stroke: #1f77b4; stroke-width: 1.5; stroke-linecap: square\"/>\n   </g>\n   <g id=\"line2d_24\">\n    <path d=\"M 49.633125 93.058797 \n\" clip-path=\"url(#pc093ad46b3)\" style=\"fill: none; stroke-dasharray: 5.55,2.4; stroke-dashoffset: 0; stroke: #ff7f0e; stroke-width: 1.5\"/>\n   </g>\n   <g id=\"line2d_25\">\n    <path d=\"M 49.633125 47.135247 \n\" clip-path=\"url(#pc093ad46b3)\" style=\"fill: none; stroke-dasharray: 9.6,2.4,1.5,2.4; stroke-dashoffset: 0; stroke: #2ca02c; stroke-width: 1.5\"/>\n   </g>\n   <g id=\"line2d_26\">\n    <path d=\"M 34.923295 13.5 \nL 44.646742 84.609424 \nL 54.370189 102.259044 \nL 64.093636 110.132384 \n\" clip-path=\"url(#pc093ad46b3)\" style=\"fill: none; stroke: #1f77b4; stroke-width: 1.5; stroke-linecap: square\"/>\n   </g>\n   <g id=\"line2d_27\">\n    <path d=\"M 49.633125 93.058797 \nL 69.163125 106.841474 \n\" clip-path=\"url(#pc093ad46b3)\" style=\"fill: none; stroke-dasharray: 5.55,2.4; stroke-dashoffset: 0; stroke: #ff7f0e; stroke-width: 1.5\"/>\n   </g>\n   <g id=\"line2d_28\">\n    <path d=\"M 49.633125 47.135247 \n\" clip-path=\"url(#pc093ad46b3)\" style=\"fill: none; stroke-dasharray: 9.6,2.4,1.5,2.4; stroke-dashoffset: 0; stroke: #2ca02c; stroke-width: 1.5\"/>\n   </g>\n   <g id=\"line2d_29\">\n    <path d=\"M 34.923295 13.5 \nL 44.646742 84.609424 \nL 54.370189 102.259044 \nL 64.093636 110.132384 \n\" clip-path=\"url(#pc093ad46b3)\" style=\"fill: none; stroke: #1f77b4; stroke-width: 1.5; stroke-linecap: square\"/>\n   </g>\n   <g id=\"line2d_30\">\n    <path d=\"M 49.633125 93.058797 \nL 69.163125 106.841474 \n\" clip-path=\"url(#pc093ad46b3)\" style=\"fill: none; stroke-dasharray: 5.55,2.4; stroke-dashoffset: 0; stroke: #ff7f0e; stroke-width: 1.5\"/>\n   </g>\n   <g id=\"line2d_31\">\n    <path d=\"M 49.633125 47.135247 \nL 69.163125 43.503531 \n\" clip-path=\"url(#pc093ad46b3)\" style=\"fill: none; stroke-dasharray: 9.6,2.4,1.5,2.4; stroke-dashoffset: 0; stroke: #2ca02c; stroke-width: 1.5\"/>\n   </g>\n   <g id=\"line2d_32\">\n    <path d=\"M 34.923295 13.5 \nL 44.646742 84.609424 \nL 54.370189 102.259044 \nL 64.093636 110.132384 \nL 73.817082 116.112684 \n\" clip-path=\"url(#pc093ad46b3)\" style=\"fill: none; stroke: #1f77b4; stroke-width: 1.5; stroke-linecap: square\"/>\n   </g>\n   <g id=\"line2d_33\">\n    <path d=\"M 49.633125 93.058797 \nL 69.163125 106.841474 \n\" clip-path=\"url(#pc093ad46b3)\" style=\"fill: none; stroke-dasharray: 5.55,2.4; stroke-dashoffset: 0; stroke: #ff7f0e; stroke-width: 1.5\"/>\n   </g>\n   <g id=\"line2d_34\">\n    <path d=\"M 49.633125 47.135247 \nL 69.163125 43.503531 \n\" clip-path=\"url(#pc093ad46b3)\" style=\"fill: none; stroke-dasharray: 9.6,2.4,1.5,2.4; stroke-dashoffset: 0; stroke: #2ca02c; stroke-width: 1.5\"/>\n   </g>\n   <g id=\"line2d_35\">\n    <path d=\"M 34.923295 13.5 \nL 44.646742 84.609424 \nL 54.370189 102.259044 \nL 64.093636 110.132384 \nL 73.817082 116.112684 \nL 83.540529 120.265976 \n\" clip-path=\"url(#pc093ad46b3)\" style=\"fill: none; stroke: #1f77b4; stroke-width: 1.5; stroke-linecap: square\"/>\n   </g>\n   <g id=\"line2d_36\">\n    <path d=\"M 49.633125 93.058797 \nL 69.163125 106.841474 \n\" clip-path=\"url(#pc093ad46b3)\" style=\"fill: none; stroke-dasharray: 5.55,2.4; stroke-dashoffset: 0; stroke: #ff7f0e; stroke-width: 1.5\"/>\n   </g>\n   <g id=\"line2d_37\">\n    <path d=\"M 49.633125 47.135247 \nL 69.163125 43.503531 \n\" clip-path=\"url(#pc093ad46b3)\" style=\"fill: none; stroke-dasharray: 9.6,2.4,1.5,2.4; stroke-dashoffset: 0; stroke: #2ca02c; stroke-width: 1.5\"/>\n   </g>\n   <g id=\"line2d_38\">\n    <path d=\"M 34.923295 13.5 \nL 44.646742 84.609424 \nL 54.370189 102.259044 \nL 64.093636 110.132384 \nL 73.817082 116.112684 \nL 83.540529 120.265976 \n\" clip-path=\"url(#pc093ad46b3)\" style=\"fill: none; stroke: #1f77b4; stroke-width: 1.5; stroke-linecap: square\"/>\n   </g>\n   <g id=\"line2d_39\">\n    <path d=\"M 49.633125 93.058797 \nL 69.163125 106.841474 \nL 88.693125 112.120378 \n\" clip-path=\"url(#pc093ad46b3)\" style=\"fill: none; stroke-dasharray: 5.55,2.4; stroke-dashoffset: 0; stroke: #ff7f0e; stroke-width: 1.5\"/>\n   </g>\n   <g id=\"line2d_40\">\n    <path d=\"M 49.633125 47.135247 \nL 69.163125 43.503531 \n\" clip-path=\"url(#pc093ad46b3)\" style=\"fill: none; stroke-dasharray: 9.6,2.4,1.5,2.4; stroke-dashoffset: 0; stroke: #2ca02c; stroke-width: 1.5\"/>\n   </g>\n   <g id=\"line2d_41\">\n    <path d=\"M 34.923295 13.5 \nL 44.646742 84.609424 \nL 54.370189 102.259044 \nL 64.093636 110.132384 \nL 73.817082 116.112684 \nL 83.540529 120.265976 \n\" clip-path=\"url(#pc093ad46b3)\" style=\"fill: none; stroke: #1f77b4; stroke-width: 1.5; stroke-linecap: square\"/>\n   </g>\n   <g id=\"line2d_42\">\n    <path d=\"M 49.633125 93.058797 \nL 69.163125 106.841474 \nL 88.693125 112.120378 \n\" clip-path=\"url(#pc093ad46b3)\" style=\"fill: none; stroke-dasharray: 5.55,2.4; stroke-dashoffset: 0; stroke: #ff7f0e; stroke-width: 1.5\"/>\n   </g>\n   <g id=\"line2d_43\">\n    <path d=\"M 49.633125 47.135247 \nL 69.163125 43.503531 \nL 88.693125 43.555412 \n\" clip-path=\"url(#pc093ad46b3)\" style=\"fill: none; stroke-dasharray: 9.6,2.4,1.5,2.4; stroke-dashoffset: 0; stroke: #2ca02c; stroke-width: 1.5\"/>\n   </g>\n   <g id=\"line2d_44\">\n    <path d=\"M 34.923295 13.5 \nL 44.646742 84.609424 \nL 54.370189 102.259044 \nL 64.093636 110.132384 \nL 73.817082 116.112684 \nL 83.540529 120.265976 \nL 93.263976 123.221364 \n\" clip-path=\"url(#pc093ad46b3)\" style=\"fill: none; stroke: #1f77b4; stroke-width: 1.5; stroke-linecap: square\"/>\n   </g>\n   <g id=\"line2d_45\">\n    <path d=\"M 49.633125 93.058797 \nL 69.163125 106.841474 \nL 88.693125 112.120378 \n\" clip-path=\"url(#pc093ad46b3)\" style=\"fill: none; stroke-dasharray: 5.55,2.4; stroke-dashoffset: 0; stroke: #ff7f0e; stroke-width: 1.5\"/>\n   </g>\n   <g id=\"line2d_46\">\n    <path d=\"M 49.633125 47.135247 \nL 69.163125 43.503531 \nL 88.693125 43.555412 \n\" clip-path=\"url(#pc093ad46b3)\" style=\"fill: none; stroke-dasharray: 9.6,2.4,1.5,2.4; stroke-dashoffset: 0; stroke: #2ca02c; stroke-width: 1.5\"/>\n   </g>\n   <g id=\"line2d_47\">\n    <path d=\"M 34.923295 13.5 \nL 44.646742 84.609424 \nL 54.370189 102.259044 \nL 64.093636 110.132384 \nL 73.817082 116.112684 \nL 83.540529 120.265976 \nL 93.263976 123.221364 \nL 102.987423 126.724477 \n\" clip-path=\"url(#pc093ad46b3)\" style=\"fill: none; stroke: #1f77b4; stroke-width: 1.5; stroke-linecap: square\"/>\n   </g>\n   <g id=\"line2d_48\">\n    <path d=\"M 49.633125 93.058797 \nL 69.163125 106.841474 \nL 88.693125 112.120378 \n\" clip-path=\"url(#pc093ad46b3)\" style=\"fill: none; stroke-dasharray: 5.55,2.4; stroke-dashoffset: 0; stroke: #ff7f0e; stroke-width: 1.5\"/>\n   </g>\n   <g id=\"line2d_49\">\n    <path d=\"M 49.633125 47.135247 \nL 69.163125 43.503531 \nL 88.693125 43.555412 \n\" clip-path=\"url(#pc093ad46b3)\" style=\"fill: none; stroke-dasharray: 9.6,2.4,1.5,2.4; stroke-dashoffset: 0; stroke: #2ca02c; stroke-width: 1.5\"/>\n   </g>\n   <g id=\"line2d_50\">\n    <path d=\"M 34.923295 13.5 \nL 44.646742 84.609424 \nL 54.370189 102.259044 \nL 64.093636 110.132384 \nL 73.817082 116.112684 \nL 83.540529 120.265976 \nL 93.263976 123.221364 \nL 102.987423 126.724477 \n\" clip-path=\"url(#pc093ad46b3)\" style=\"fill: none; stroke: #1f77b4; stroke-width: 1.5; stroke-linecap: square\"/>\n   </g>\n   <g id=\"line2d_51\">\n    <path d=\"M 49.633125 93.058797 \nL 69.163125 106.841474 \nL 88.693125 112.120378 \nL 108.223125 121.664647 \n\" clip-path=\"url(#pc093ad46b3)\" style=\"fill: none; stroke-dasharray: 5.55,2.4; stroke-dashoffset: 0; stroke: #ff7f0e; stroke-width: 1.5\"/>\n   </g>\n   <g id=\"line2d_52\">\n    <path d=\"M 49.633125 47.135247 \nL 69.163125 43.503531 \nL 88.693125 43.555412 \n\" clip-path=\"url(#pc093ad46b3)\" style=\"fill: none; stroke-dasharray: 9.6,2.4,1.5,2.4; stroke-dashoffset: 0; stroke: #2ca02c; stroke-width: 1.5\"/>\n   </g>\n   <g id=\"line2d_53\">\n    <path d=\"M 34.923295 13.5 \nL 44.646742 84.609424 \nL 54.370189 102.259044 \nL 64.093636 110.132384 \nL 73.817082 116.112684 \nL 83.540529 120.265976 \nL 93.263976 123.221364 \nL 102.987423 126.724477 \n\" clip-path=\"url(#pc093ad46b3)\" style=\"fill: none; stroke: #1f77b4; stroke-width: 1.5; stroke-linecap: square\"/>\n   </g>\n   <g id=\"line2d_54\">\n    <path d=\"M 49.633125 93.058797 \nL 69.163125 106.841474 \nL 88.693125 112.120378 \nL 108.223125 121.664647 \n\" clip-path=\"url(#pc093ad46b3)\" style=\"fill: none; stroke-dasharray: 5.55,2.4; stroke-dashoffset: 0; stroke: #ff7f0e; stroke-width: 1.5\"/>\n   </g>\n   <g id=\"line2d_55\">\n    <path d=\"M 49.633125 47.135247 \nL 69.163125 43.503531 \nL 88.693125 43.555412 \nL 108.223125 38.055956 \n\" clip-path=\"url(#pc093ad46b3)\" style=\"fill: none; stroke-dasharray: 9.6,2.4,1.5,2.4; stroke-dashoffset: 0; stroke: #2ca02c; stroke-width: 1.5\"/>\n   </g>\n   <g id=\"line2d_56\">\n    <path d=\"M 34.923295 13.5 \nL 44.646742 84.609424 \nL 54.370189 102.259044 \nL 64.093636 110.132384 \nL 73.817082 116.112684 \nL 83.540529 120.265976 \nL 93.263976 123.221364 \nL 102.987423 126.724477 \nL 112.71087 128.924883 \n\" clip-path=\"url(#pc093ad46b3)\" style=\"fill: none; stroke: #1f77b4; stroke-width: 1.5; stroke-linecap: square\"/>\n   </g>\n   <g id=\"line2d_57\">\n    <path d=\"M 49.633125 93.058797 \nL 69.163125 106.841474 \nL 88.693125 112.120378 \nL 108.223125 121.664647 \n\" clip-path=\"url(#pc093ad46b3)\" style=\"fill: none; stroke-dasharray: 5.55,2.4; stroke-dashoffset: 0; stroke: #ff7f0e; stroke-width: 1.5\"/>\n   </g>\n   <g id=\"line2d_58\">\n    <path d=\"M 49.633125 47.135247 \nL 69.163125 43.503531 \nL 88.693125 43.555412 \nL 108.223125 38.055956 \n\" clip-path=\"url(#pc093ad46b3)\" style=\"fill: none; stroke-dasharray: 9.6,2.4,1.5,2.4; stroke-dashoffset: 0; stroke: #2ca02c; stroke-width: 1.5\"/>\n   </g>\n   <g id=\"line2d_59\">\n    <path d=\"M 34.923295 13.5 \nL 44.646742 84.609424 \nL 54.370189 102.259044 \nL 64.093636 110.132384 \nL 73.817082 116.112684 \nL 83.540529 120.265976 \nL 93.263976 123.221364 \nL 102.987423 126.724477 \nL 112.71087 128.924883 \nL 122.434316 128.807251 \n\" clip-path=\"url(#pc093ad46b3)\" style=\"fill: none; stroke: #1f77b4; stroke-width: 1.5; stroke-linecap: square\"/>\n   </g>\n   <g id=\"line2d_60\">\n    <path d=\"M 49.633125 93.058797 \nL 69.163125 106.841474 \nL 88.693125 112.120378 \nL 108.223125 121.664647 \n\" clip-path=\"url(#pc093ad46b3)\" style=\"fill: none; stroke-dasharray: 5.55,2.4; stroke-dashoffset: 0; stroke: #ff7f0e; stroke-width: 1.5\"/>\n   </g>\n   <g id=\"line2d_61\">\n    <path d=\"M 49.633125 47.135247 \nL 69.163125 43.503531 \nL 88.693125 43.555412 \nL 108.223125 38.055956 \n\" clip-path=\"url(#pc093ad46b3)\" style=\"fill: none; stroke-dasharray: 9.6,2.4,1.5,2.4; stroke-dashoffset: 0; stroke: #2ca02c; stroke-width: 1.5\"/>\n   </g>\n   <g id=\"line2d_62\">\n    <path d=\"M 34.923295 13.5 \nL 44.646742 84.609424 \nL 54.370189 102.259044 \nL 64.093636 110.132384 \nL 73.817082 116.112684 \nL 83.540529 120.265976 \nL 93.263976 123.221364 \nL 102.987423 126.724477 \nL 112.71087 128.924883 \nL 122.434316 128.807251 \n\" clip-path=\"url(#pc093ad46b3)\" style=\"fill: none; stroke: #1f77b4; stroke-width: 1.5; stroke-linecap: square\"/>\n   </g>\n   <g id=\"line2d_63\">\n    <path d=\"M 49.633125 93.058797 \nL 69.163125 106.841474 \nL 88.693125 112.120378 \nL 108.223125 121.664647 \nL 127.753125 117.323041 \n\" clip-path=\"url(#pc093ad46b3)\" style=\"fill: none; stroke-dasharray: 5.55,2.4; stroke-dashoffset: 0; stroke: #ff7f0e; stroke-width: 1.5\"/>\n   </g>\n   <g id=\"line2d_64\">\n    <path d=\"M 49.633125 47.135247 \nL 69.163125 43.503531 \nL 88.693125 43.555412 \nL 108.223125 38.055956 \n\" clip-path=\"url(#pc093ad46b3)\" style=\"fill: none; stroke-dasharray: 9.6,2.4,1.5,2.4; stroke-dashoffset: 0; stroke: #2ca02c; stroke-width: 1.5\"/>\n   </g>\n   <g id=\"line2d_65\">\n    <path d=\"M 34.923295 13.5 \nL 44.646742 84.609424 \nL 54.370189 102.259044 \nL 64.093636 110.132384 \nL 73.817082 116.112684 \nL 83.540529 120.265976 \nL 93.263976 123.221364 \nL 102.987423 126.724477 \nL 112.71087 128.924883 \nL 122.434316 128.807251 \n\" clip-path=\"url(#pc093ad46b3)\" style=\"fill: none; stroke: #1f77b4; stroke-width: 1.5; stroke-linecap: square\"/>\n   </g>\n   <g id=\"line2d_66\">\n    <path d=\"M 49.633125 93.058797 \nL 69.163125 106.841474 \nL 88.693125 112.120378 \nL 108.223125 121.664647 \nL 127.753125 117.323041 \n\" clip-path=\"url(#pc093ad46b3)\" style=\"fill: none; stroke-dasharray: 5.55,2.4; stroke-dashoffset: 0; stroke: #ff7f0e; stroke-width: 1.5\"/>\n   </g>\n   <g id=\"line2d_67\">\n    <path d=\"M 49.633125 47.135247 \nL 69.163125 43.503531 \nL 88.693125 43.555412 \nL 108.223125 38.055956 \nL 127.753125 41.791436 \n\" clip-path=\"url(#pc093ad46b3)\" style=\"fill: none; stroke-dasharray: 9.6,2.4,1.5,2.4; stroke-dashoffset: 0; stroke: #2ca02c; stroke-width: 1.5\"/>\n   </g>\n   <g id=\"line2d_68\">\n    <path d=\"M 34.923295 13.5 \nL 44.646742 84.609424 \nL 54.370189 102.259044 \nL 64.093636 110.132384 \nL 73.817082 116.112684 \nL 83.540529 120.265976 \nL 93.263976 123.221364 \nL 102.987423 126.724477 \nL 112.71087 128.924883 \nL 122.434316 128.807251 \nL 132.157763 132.150366 \n\" clip-path=\"url(#pc093ad46b3)\" style=\"fill: none; stroke: #1f77b4; stroke-width: 1.5; stroke-linecap: square\"/>\n   </g>\n   <g id=\"line2d_69\">\n    <path d=\"M 49.633125 93.058797 \nL 69.163125 106.841474 \nL 88.693125 112.120378 \nL 108.223125 121.664647 \nL 127.753125 117.323041 \n\" clip-path=\"url(#pc093ad46b3)\" style=\"fill: none; stroke-dasharray: 5.55,2.4; stroke-dashoffset: 0; stroke: #ff7f0e; stroke-width: 1.5\"/>\n   </g>\n   <g id=\"line2d_70\">\n    <path d=\"M 49.633125 47.135247 \nL 69.163125 43.503531 \nL 88.693125 43.555412 \nL 108.223125 38.055956 \nL 127.753125 41.791436 \n\" clip-path=\"url(#pc093ad46b3)\" style=\"fill: none; stroke-dasharray: 9.6,2.4,1.5,2.4; stroke-dashoffset: 0; stroke: #2ca02c; stroke-width: 1.5\"/>\n   </g>\n   <g id=\"line2d_71\">\n    <path d=\"M 34.923295 13.5 \nL 44.646742 84.609424 \nL 54.370189 102.259044 \nL 64.093636 110.132384 \nL 73.817082 116.112684 \nL 83.540529 120.265976 \nL 93.263976 123.221364 \nL 102.987423 126.724477 \nL 112.71087 128.924883 \nL 122.434316 128.807251 \nL 132.157763 132.150366 \nL 141.88121 131.416823 \n\" clip-path=\"url(#pc093ad46b3)\" style=\"fill: none; stroke: #1f77b4; stroke-width: 1.5; stroke-linecap: square\"/>\n   </g>\n   <g id=\"line2d_72\">\n    <path d=\"M 49.633125 93.058797 \nL 69.163125 106.841474 \nL 88.693125 112.120378 \nL 108.223125 121.664647 \nL 127.753125 117.323041 \n\" clip-path=\"url(#pc093ad46b3)\" style=\"fill: none; stroke-dasharray: 5.55,2.4; stroke-dashoffset: 0; stroke: #ff7f0e; stroke-width: 1.5\"/>\n   </g>\n   <g id=\"line2d_73\">\n    <path d=\"M 49.633125 47.135247 \nL 69.163125 43.503531 \nL 88.693125 43.555412 \nL 108.223125 38.055956 \nL 127.753125 41.791436 \n\" clip-path=\"url(#pc093ad46b3)\" style=\"fill: none; stroke-dasharray: 9.6,2.4,1.5,2.4; stroke-dashoffset: 0; stroke: #2ca02c; stroke-width: 1.5\"/>\n   </g>\n   <g id=\"line2d_74\">\n    <path d=\"M 34.923295 13.5 \nL 44.646742 84.609424 \nL 54.370189 102.259044 \nL 64.093636 110.132384 \nL 73.817082 116.112684 \nL 83.540529 120.265976 \nL 93.263976 123.221364 \nL 102.987423 126.724477 \nL 112.71087 128.924883 \nL 122.434316 128.807251 \nL 132.157763 132.150366 \nL 141.88121 131.416823 \n\" clip-path=\"url(#pc093ad46b3)\" style=\"fill: none; stroke: #1f77b4; stroke-width: 1.5; stroke-linecap: square\"/>\n   </g>\n   <g id=\"line2d_75\">\n    <path d=\"M 49.633125 93.058797 \nL 69.163125 106.841474 \nL 88.693125 112.120378 \nL 108.223125 121.664647 \nL 127.753125 117.323041 \nL 147.283125 126.000542 \n\" clip-path=\"url(#pc093ad46b3)\" style=\"fill: none; stroke-dasharray: 5.55,2.4; stroke-dashoffset: 0; stroke: #ff7f0e; stroke-width: 1.5\"/>\n   </g>\n   <g id=\"line2d_76\">\n    <path d=\"M 49.633125 47.135247 \nL 69.163125 43.503531 \nL 88.693125 43.555412 \nL 108.223125 38.055956 \nL 127.753125 41.791436 \n\" clip-path=\"url(#pc093ad46b3)\" style=\"fill: none; stroke-dasharray: 9.6,2.4,1.5,2.4; stroke-dashoffset: 0; stroke: #2ca02c; stroke-width: 1.5\"/>\n   </g>\n   <g id=\"line2d_77\">\n    <path d=\"M 34.923295 13.5 \nL 44.646742 84.609424 \nL 54.370189 102.259044 \nL 64.093636 110.132384 \nL 73.817082 116.112684 \nL 83.540529 120.265976 \nL 93.263976 123.221364 \nL 102.987423 126.724477 \nL 112.71087 128.924883 \nL 122.434316 128.807251 \nL 132.157763 132.150366 \nL 141.88121 131.416823 \n\" clip-path=\"url(#pc093ad46b3)\" style=\"fill: none; stroke: #1f77b4; stroke-width: 1.5; stroke-linecap: square\"/>\n   </g>\n   <g id=\"line2d_78\">\n    <path d=\"M 49.633125 93.058797 \nL 69.163125 106.841474 \nL 88.693125 112.120378 \nL 108.223125 121.664647 \nL 127.753125 117.323041 \nL 147.283125 126.000542 \n\" clip-path=\"url(#pc093ad46b3)\" style=\"fill: none; stroke-dasharray: 5.55,2.4; stroke-dashoffset: 0; stroke: #ff7f0e; stroke-width: 1.5\"/>\n   </g>\n   <g id=\"line2d_79\">\n    <path d=\"M 49.633125 47.135247 \nL 69.163125 43.503531 \nL 88.693125 43.555412 \nL 108.223125 38.055956 \nL 127.753125 41.791436 \nL 147.283125 37.978134 \n\" clip-path=\"url(#pc093ad46b3)\" style=\"fill: none; stroke-dasharray: 9.6,2.4,1.5,2.4; stroke-dashoffset: 0; stroke: #2ca02c; stroke-width: 1.5\"/>\n   </g>\n   <g id=\"line2d_80\">\n    <path d=\"M 34.923295 13.5 \nL 44.646742 84.609424 \nL 54.370189 102.259044 \nL 64.093636 110.132384 \nL 73.817082 116.112684 \nL 83.540529 120.265976 \nL 93.263976 123.221364 \nL 102.987423 126.724477 \nL 112.71087 128.924883 \nL 122.434316 128.807251 \nL 132.157763 132.150366 \nL 141.88121 131.416823 \nL 151.604657 134.205836 \n\" clip-path=\"url(#pc093ad46b3)\" style=\"fill: none; stroke: #1f77b4; stroke-width: 1.5; stroke-linecap: square\"/>\n   </g>\n   <g id=\"line2d_81\">\n    <path d=\"M 49.633125 93.058797 \nL 69.163125 106.841474 \nL 88.693125 112.120378 \nL 108.223125 121.664647 \nL 127.753125 117.323041 \nL 147.283125 126.000542 \n\" clip-path=\"url(#pc093ad46b3)\" style=\"fill: none; stroke-dasharray: 5.55,2.4; stroke-dashoffset: 0; stroke: #ff7f0e; stroke-width: 1.5\"/>\n   </g>\n   <g id=\"line2d_82\">\n    <path d=\"M 49.633125 47.135247 \nL 69.163125 43.503531 \nL 88.693125 43.555412 \nL 108.223125 38.055956 \nL 127.753125 41.791436 \nL 147.283125 37.978134 \n\" clip-path=\"url(#pc093ad46b3)\" style=\"fill: none; stroke-dasharray: 9.6,2.4,1.5,2.4; stroke-dashoffset: 0; stroke: #2ca02c; stroke-width: 1.5\"/>\n   </g>\n   <g id=\"line2d_83\">\n    <path d=\"M 34.923295 13.5 \nL 44.646742 84.609424 \nL 54.370189 102.259044 \nL 64.093636 110.132384 \nL 73.817082 116.112684 \nL 83.540529 120.265976 \nL 93.263976 123.221364 \nL 102.987423 126.724477 \nL 112.71087 128.924883 \nL 122.434316 128.807251 \nL 132.157763 132.150366 \nL 141.88121 131.416823 \nL 151.604657 134.205836 \nL 161.328104 133.726755 \n\" clip-path=\"url(#pc093ad46b3)\" style=\"fill: none; stroke: #1f77b4; stroke-width: 1.5; stroke-linecap: square\"/>\n   </g>\n   <g id=\"line2d_84\">\n    <path d=\"M 49.633125 93.058797 \nL 69.163125 106.841474 \nL 88.693125 112.120378 \nL 108.223125 121.664647 \nL 127.753125 117.323041 \nL 147.283125 126.000542 \n\" clip-path=\"url(#pc093ad46b3)\" style=\"fill: none; stroke-dasharray: 5.55,2.4; stroke-dashoffset: 0; stroke: #ff7f0e; stroke-width: 1.5\"/>\n   </g>\n   <g id=\"line2d_85\">\n    <path d=\"M 49.633125 47.135247 \nL 69.163125 43.503531 \nL 88.693125 43.555412 \nL 108.223125 38.055956 \nL 127.753125 41.791436 \nL 147.283125 37.978134 \n\" clip-path=\"url(#pc093ad46b3)\" style=\"fill: none; stroke-dasharray: 9.6,2.4,1.5,2.4; stroke-dashoffset: 0; stroke: #2ca02c; stroke-width: 1.5\"/>\n   </g>\n   <g id=\"line2d_86\">\n    <path d=\"M 34.923295 13.5 \nL 44.646742 84.609424 \nL 54.370189 102.259044 \nL 64.093636 110.132384 \nL 73.817082 116.112684 \nL 83.540529 120.265976 \nL 93.263976 123.221364 \nL 102.987423 126.724477 \nL 112.71087 128.924883 \nL 122.434316 128.807251 \nL 132.157763 132.150366 \nL 141.88121 131.416823 \nL 151.604657 134.205836 \nL 161.328104 133.726755 \n\" clip-path=\"url(#pc093ad46b3)\" style=\"fill: none; stroke: #1f77b4; stroke-width: 1.5; stroke-linecap: square\"/>\n   </g>\n   <g id=\"line2d_87\">\n    <path d=\"M 49.633125 93.058797 \nL 69.163125 106.841474 \nL 88.693125 112.120378 \nL 108.223125 121.664647 \nL 127.753125 117.323041 \nL 147.283125 126.000542 \nL 166.813125 128.223383 \n\" clip-path=\"url(#pc093ad46b3)\" style=\"fill: none; stroke-dasharray: 5.55,2.4; stroke-dashoffset: 0; stroke: #ff7f0e; stroke-width: 1.5\"/>\n   </g>\n   <g id=\"line2d_88\">\n    <path d=\"M 49.633125 47.135247 \nL 69.163125 43.503531 \nL 88.693125 43.555412 \nL 108.223125 38.055956 \nL 127.753125 41.791436 \nL 147.283125 37.978134 \n\" clip-path=\"url(#pc093ad46b3)\" style=\"fill: none; stroke-dasharray: 9.6,2.4,1.5,2.4; stroke-dashoffset: 0; stroke: #2ca02c; stroke-width: 1.5\"/>\n   </g>\n   <g id=\"line2d_89\">\n    <path d=\"M 34.923295 13.5 \nL 44.646742 84.609424 \nL 54.370189 102.259044 \nL 64.093636 110.132384 \nL 73.817082 116.112684 \nL 83.540529 120.265976 \nL 93.263976 123.221364 \nL 102.987423 126.724477 \nL 112.71087 128.924883 \nL 122.434316 128.807251 \nL 132.157763 132.150366 \nL 141.88121 131.416823 \nL 151.604657 134.205836 \nL 161.328104 133.726755 \n\" clip-path=\"url(#pc093ad46b3)\" style=\"fill: none; stroke: #1f77b4; stroke-width: 1.5; stroke-linecap: square\"/>\n   </g>\n   <g id=\"line2d_90\">\n    <path d=\"M 49.633125 93.058797 \nL 69.163125 106.841474 \nL 88.693125 112.120378 \nL 108.223125 121.664647 \nL 127.753125 117.323041 \nL 147.283125 126.000542 \nL 166.813125 128.223383 \n\" clip-path=\"url(#pc093ad46b3)\" style=\"fill: none; stroke-dasharray: 5.55,2.4; stroke-dashoffset: 0; stroke: #ff7f0e; stroke-width: 1.5\"/>\n   </g>\n   <g id=\"line2d_91\">\n    <path d=\"M 49.633125 47.135247 \nL 69.163125 43.503531 \nL 88.693125 43.555412 \nL 108.223125 38.055956 \nL 127.753125 41.791436 \nL 147.283125 37.978134 \nL 166.813125 36.629211 \n\" clip-path=\"url(#pc093ad46b3)\" style=\"fill: none; stroke-dasharray: 9.6,2.4,1.5,2.4; stroke-dashoffset: 0; stroke: #2ca02c; stroke-width: 1.5\"/>\n   </g>\n   <g id=\"line2d_92\">\n    <path d=\"M 34.923295 13.5 \nL 44.646742 84.609424 \nL 54.370189 102.259044 \nL 64.093636 110.132384 \nL 73.817082 116.112684 \nL 83.540529 120.265976 \nL 93.263976 123.221364 \nL 102.987423 126.724477 \nL 112.71087 128.924883 \nL 122.434316 128.807251 \nL 132.157763 132.150366 \nL 141.88121 131.416823 \nL 151.604657 134.205836 \nL 161.328104 133.726755 \nL 171.051551 134.861964 \n\" clip-path=\"url(#pc093ad46b3)\" style=\"fill: none; stroke: #1f77b4; stroke-width: 1.5; stroke-linecap: square\"/>\n   </g>\n   <g id=\"line2d_93\">\n    <path d=\"M 49.633125 93.058797 \nL 69.163125 106.841474 \nL 88.693125 112.120378 \nL 108.223125 121.664647 \nL 127.753125 117.323041 \nL 147.283125 126.000542 \nL 166.813125 128.223383 \n\" clip-path=\"url(#pc093ad46b3)\" style=\"fill: none; stroke-dasharray: 5.55,2.4; stroke-dashoffset: 0; stroke: #ff7f0e; stroke-width: 1.5\"/>\n   </g>\n   <g id=\"line2d_94\">\n    <path d=\"M 49.633125 47.135247 \nL 69.163125 43.503531 \nL 88.693125 43.555412 \nL 108.223125 38.055956 \nL 127.753125 41.791436 \nL 147.283125 37.978134 \nL 166.813125 36.629211 \n\" clip-path=\"url(#pc093ad46b3)\" style=\"fill: none; stroke-dasharray: 9.6,2.4,1.5,2.4; stroke-dashoffset: 0; stroke: #2ca02c; stroke-width: 1.5\"/>\n   </g>\n   <g id=\"line2d_95\">\n    <path d=\"M 34.923295 13.5 \nL 44.646742 84.609424 \nL 54.370189 102.259044 \nL 64.093636 110.132384 \nL 73.817082 116.112684 \nL 83.540529 120.265976 \nL 93.263976 123.221364 \nL 102.987423 126.724477 \nL 112.71087 128.924883 \nL 122.434316 128.807251 \nL 132.157763 132.150366 \nL 141.88121 131.416823 \nL 151.604657 134.205836 \nL 161.328104 133.726755 \nL 171.051551 134.861964 \nL 180.774997 136.925911 \n\" clip-path=\"url(#pc093ad46b3)\" style=\"fill: none; stroke: #1f77b4; stroke-width: 1.5; stroke-linecap: square\"/>\n   </g>\n   <g id=\"line2d_96\">\n    <path d=\"M 49.633125 93.058797 \nL 69.163125 106.841474 \nL 88.693125 112.120378 \nL 108.223125 121.664647 \nL 127.753125 117.323041 \nL 147.283125 126.000542 \nL 166.813125 128.223383 \n\" clip-path=\"url(#pc093ad46b3)\" style=\"fill: none; stroke-dasharray: 5.55,2.4; stroke-dashoffset: 0; stroke: #ff7f0e; stroke-width: 1.5\"/>\n   </g>\n   <g id=\"line2d_97\">\n    <path d=\"M 49.633125 47.135247 \nL 69.163125 43.503531 \nL 88.693125 43.555412 \nL 108.223125 38.055956 \nL 127.753125 41.791436 \nL 147.283125 37.978134 \nL 166.813125 36.629211 \n\" clip-path=\"url(#pc093ad46b3)\" style=\"fill: none; stroke-dasharray: 9.6,2.4,1.5,2.4; stroke-dashoffset: 0; stroke: #2ca02c; stroke-width: 1.5\"/>\n   </g>\n   <g id=\"line2d_98\">\n    <path d=\"M 34.923295 13.5 \nL 44.646742 84.609424 \nL 54.370189 102.259044 \nL 64.093636 110.132384 \nL 73.817082 116.112684 \nL 83.540529 120.265976 \nL 93.263976 123.221364 \nL 102.987423 126.724477 \nL 112.71087 128.924883 \nL 122.434316 128.807251 \nL 132.157763 132.150366 \nL 141.88121 131.416823 \nL 151.604657 134.205836 \nL 161.328104 133.726755 \nL 171.051551 134.861964 \nL 180.774997 136.925911 \n\" clip-path=\"url(#pc093ad46b3)\" style=\"fill: none; stroke: #1f77b4; stroke-width: 1.5; stroke-linecap: square\"/>\n   </g>\n   <g id=\"line2d_99\">\n    <path d=\"M 49.633125 93.058797 \nL 69.163125 106.841474 \nL 88.693125 112.120378 \nL 108.223125 121.664647 \nL 127.753125 117.323041 \nL 147.283125 126.000542 \nL 166.813125 128.223383 \nL 186.343125 127.266456 \n\" clip-path=\"url(#pc093ad46b3)\" style=\"fill: none; stroke-dasharray: 5.55,2.4; stroke-dashoffset: 0; stroke: #ff7f0e; stroke-width: 1.5\"/>\n   </g>\n   <g id=\"line2d_100\">\n    <path d=\"M 49.633125 47.135247 \nL 69.163125 43.503531 \nL 88.693125 43.555412 \nL 108.223125 38.055956 \nL 127.753125 41.791436 \nL 147.283125 37.978134 \nL 166.813125 36.629211 \n\" clip-path=\"url(#pc093ad46b3)\" style=\"fill: none; stroke-dasharray: 9.6,2.4,1.5,2.4; stroke-dashoffset: 0; stroke: #2ca02c; stroke-width: 1.5\"/>\n   </g>\n   <g id=\"line2d_101\">\n    <path d=\"M 34.923295 13.5 \nL 44.646742 84.609424 \nL 54.370189 102.259044 \nL 64.093636 110.132384 \nL 73.817082 116.112684 \nL 83.540529 120.265976 \nL 93.263976 123.221364 \nL 102.987423 126.724477 \nL 112.71087 128.924883 \nL 122.434316 128.807251 \nL 132.157763 132.150366 \nL 141.88121 131.416823 \nL 151.604657 134.205836 \nL 161.328104 133.726755 \nL 171.051551 134.861964 \nL 180.774997 136.925911 \n\" clip-path=\"url(#pc093ad46b3)\" style=\"fill: none; stroke: #1f77b4; stroke-width: 1.5; stroke-linecap: square\"/>\n   </g>\n   <g id=\"line2d_102\">\n    <path d=\"M 49.633125 93.058797 \nL 69.163125 106.841474 \nL 88.693125 112.120378 \nL 108.223125 121.664647 \nL 127.753125 117.323041 \nL 147.283125 126.000542 \nL 166.813125 128.223383 \nL 186.343125 127.266456 \n\" clip-path=\"url(#pc093ad46b3)\" style=\"fill: none; stroke-dasharray: 5.55,2.4; stroke-dashoffset: 0; stroke: #ff7f0e; stroke-width: 1.5\"/>\n   </g>\n   <g id=\"line2d_103\">\n    <path d=\"M 49.633125 47.135247 \nL 69.163125 43.503531 \nL 88.693125 43.555412 \nL 108.223125 38.055956 \nL 127.753125 41.791436 \nL 147.283125 37.978134 \nL 166.813125 36.629211 \nL 186.343125 37.355554 \n\" clip-path=\"url(#pc093ad46b3)\" style=\"fill: none; stroke-dasharray: 9.6,2.4,1.5,2.4; stroke-dashoffset: 0; stroke: #2ca02c; stroke-width: 1.5\"/>\n   </g>\n   <g id=\"line2d_104\">\n    <path d=\"M 34.923295 13.5 \nL 44.646742 84.609424 \nL 54.370189 102.259044 \nL 64.093636 110.132384 \nL 73.817082 116.112684 \nL 83.540529 120.265976 \nL 93.263976 123.221364 \nL 102.987423 126.724477 \nL 112.71087 128.924883 \nL 122.434316 128.807251 \nL 132.157763 132.150366 \nL 141.88121 131.416823 \nL 151.604657 134.205836 \nL 161.328104 133.726755 \nL 171.051551 134.861964 \nL 180.774997 136.925911 \nL 190.498444 139.044503 \n\" clip-path=\"url(#pc093ad46b3)\" style=\"fill: none; stroke: #1f77b4; stroke-width: 1.5; stroke-linecap: square\"/>\n   </g>\n   <g id=\"line2d_105\">\n    <path d=\"M 49.633125 93.058797 \nL 69.163125 106.841474 \nL 88.693125 112.120378 \nL 108.223125 121.664647 \nL 127.753125 117.323041 \nL 147.283125 126.000542 \nL 166.813125 128.223383 \nL 186.343125 127.266456 \n\" clip-path=\"url(#pc093ad46b3)\" style=\"fill: none; stroke-dasharray: 5.55,2.4; stroke-dashoffset: 0; stroke: #ff7f0e; stroke-width: 1.5\"/>\n   </g>\n   <g id=\"line2d_106\">\n    <path d=\"M 49.633125 47.135247 \nL 69.163125 43.503531 \nL 88.693125 43.555412 \nL 108.223125 38.055956 \nL 127.753125 41.791436 \nL 147.283125 37.978134 \nL 166.813125 36.629211 \nL 186.343125 37.355554 \n\" clip-path=\"url(#pc093ad46b3)\" style=\"fill: none; stroke-dasharray: 9.6,2.4,1.5,2.4; stroke-dashoffset: 0; stroke: #2ca02c; stroke-width: 1.5\"/>\n   </g>\n   <g id=\"line2d_107\">\n    <path d=\"M 34.923295 13.5 \nL 44.646742 84.609424 \nL 54.370189 102.259044 \nL 64.093636 110.132384 \nL 73.817082 116.112684 \nL 83.540529 120.265976 \nL 93.263976 123.221364 \nL 102.987423 126.724477 \nL 112.71087 128.924883 \nL 122.434316 128.807251 \nL 132.157763 132.150366 \nL 141.88121 131.416823 \nL 151.604657 134.205836 \nL 161.328104 133.726755 \nL 171.051551 134.861964 \nL 180.774997 136.925911 \nL 190.498444 139.044503 \nL 200.221891 137.070129 \n\" clip-path=\"url(#pc093ad46b3)\" style=\"fill: none; stroke: #1f77b4; stroke-width: 1.5; stroke-linecap: square\"/>\n   </g>\n   <g id=\"line2d_108\">\n    <path d=\"M 49.633125 93.058797 \nL 69.163125 106.841474 \nL 88.693125 112.120378 \nL 108.223125 121.664647 \nL 127.753125 117.323041 \nL 147.283125 126.000542 \nL 166.813125 128.223383 \nL 186.343125 127.266456 \n\" clip-path=\"url(#pc093ad46b3)\" style=\"fill: none; stroke-dasharray: 5.55,2.4; stroke-dashoffset: 0; stroke: #ff7f0e; stroke-width: 1.5\"/>\n   </g>\n   <g id=\"line2d_109\">\n    <path d=\"M 49.633125 47.135247 \nL 69.163125 43.503531 \nL 88.693125 43.555412 \nL 108.223125 38.055956 \nL 127.753125 41.791436 \nL 147.283125 37.978134 \nL 166.813125 36.629211 \nL 186.343125 37.355554 \n\" clip-path=\"url(#pc093ad46b3)\" style=\"fill: none; stroke-dasharray: 9.6,2.4,1.5,2.4; stroke-dashoffset: 0; stroke: #2ca02c; stroke-width: 1.5\"/>\n   </g>\n   <g id=\"line2d_110\">\n    <path d=\"M 34.923295 13.5 \nL 44.646742 84.609424 \nL 54.370189 102.259044 \nL 64.093636 110.132384 \nL 73.817082 116.112684 \nL 83.540529 120.265976 \nL 93.263976 123.221364 \nL 102.987423 126.724477 \nL 112.71087 128.924883 \nL 122.434316 128.807251 \nL 132.157763 132.150366 \nL 141.88121 131.416823 \nL 151.604657 134.205836 \nL 161.328104 133.726755 \nL 171.051551 134.861964 \nL 180.774997 136.925911 \nL 190.498444 139.044503 \nL 200.221891 137.070129 \n\" clip-path=\"url(#pc093ad46b3)\" style=\"fill: none; stroke: #1f77b4; stroke-width: 1.5; stroke-linecap: square\"/>\n   </g>\n   <g id=\"line2d_111\">\n    <path d=\"M 49.633125 93.058797 \nL 69.163125 106.841474 \nL 88.693125 112.120378 \nL 108.223125 121.664647 \nL 127.753125 117.323041 \nL 147.283125 126.000542 \nL 166.813125 128.223383 \nL 186.343125 127.266456 \nL 205.873125 130.280011 \n\" clip-path=\"url(#pc093ad46b3)\" style=\"fill: none; stroke-dasharray: 5.55,2.4; stroke-dashoffset: 0; stroke: #ff7f0e; stroke-width: 1.5\"/>\n   </g>\n   <g id=\"line2d_112\">\n    <path d=\"M 49.633125 47.135247 \nL 69.163125 43.503531 \nL 88.693125 43.555412 \nL 108.223125 38.055956 \nL 127.753125 41.791436 \nL 147.283125 37.978134 \nL 166.813125 36.629211 \nL 186.343125 37.355554 \n\" clip-path=\"url(#pc093ad46b3)\" style=\"fill: none; stroke-dasharray: 9.6,2.4,1.5,2.4; stroke-dashoffset: 0; stroke: #2ca02c; stroke-width: 1.5\"/>\n   </g>\n   <g id=\"line2d_113\">\n    <path d=\"M 34.923295 13.5 \nL 44.646742 84.609424 \nL 54.370189 102.259044 \nL 64.093636 110.132384 \nL 73.817082 116.112684 \nL 83.540529 120.265976 \nL 93.263976 123.221364 \nL 102.987423 126.724477 \nL 112.71087 128.924883 \nL 122.434316 128.807251 \nL 132.157763 132.150366 \nL 141.88121 131.416823 \nL 151.604657 134.205836 \nL 161.328104 133.726755 \nL 171.051551 134.861964 \nL 180.774997 136.925911 \nL 190.498444 139.044503 \nL 200.221891 137.070129 \n\" clip-path=\"url(#pc093ad46b3)\" style=\"fill: none; stroke: #1f77b4; stroke-width: 1.5; stroke-linecap: square\"/>\n   </g>\n   <g id=\"line2d_114\">\n    <path d=\"M 49.633125 93.058797 \nL 69.163125 106.841474 \nL 88.693125 112.120378 \nL 108.223125 121.664647 \nL 127.753125 117.323041 \nL 147.283125 126.000542 \nL 166.813125 128.223383 \nL 186.343125 127.266456 \nL 205.873125 130.280011 \n\" clip-path=\"url(#pc093ad46b3)\" style=\"fill: none; stroke-dasharray: 5.55,2.4; stroke-dashoffset: 0; stroke: #ff7f0e; stroke-width: 1.5\"/>\n   </g>\n   <g id=\"line2d_115\">\n    <path d=\"M 49.633125 47.135247 \nL 69.163125 43.503531 \nL 88.693125 43.555412 \nL 108.223125 38.055956 \nL 127.753125 41.791436 \nL 147.283125 37.978134 \nL 166.813125 36.629211 \nL 186.343125 37.355554 \nL 205.873125 36.395743 \n\" clip-path=\"url(#pc093ad46b3)\" style=\"fill: none; stroke-dasharray: 9.6,2.4,1.5,2.4; stroke-dashoffset: 0; stroke: #2ca02c; stroke-width: 1.5\"/>\n   </g>\n   <g id=\"line2d_116\">\n    <path d=\"M 34.923295 13.5 \nL 44.646742 84.609424 \nL 54.370189 102.259044 \nL 64.093636 110.132384 \nL 73.817082 116.112684 \nL 83.540529 120.265976 \nL 93.263976 123.221364 \nL 102.987423 126.724477 \nL 112.71087 128.924883 \nL 122.434316 128.807251 \nL 132.157763 132.150366 \nL 141.88121 131.416823 \nL 151.604657 134.205836 \nL 161.328104 133.726755 \nL 171.051551 134.861964 \nL 180.774997 136.925911 \nL 190.498444 139.044503 \nL 200.221891 137.070129 \nL 209.945338 138.509696 \n\" clip-path=\"url(#pc093ad46b3)\" style=\"fill: none; stroke: #1f77b4; stroke-width: 1.5; stroke-linecap: square\"/>\n   </g>\n   <g id=\"line2d_117\">\n    <path d=\"M 49.633125 93.058797 \nL 69.163125 106.841474 \nL 88.693125 112.120378 \nL 108.223125 121.664647 \nL 127.753125 117.323041 \nL 147.283125 126.000542 \nL 166.813125 128.223383 \nL 186.343125 127.266456 \nL 205.873125 130.280011 \n\" clip-path=\"url(#pc093ad46b3)\" style=\"fill: none; stroke-dasharray: 5.55,2.4; stroke-dashoffset: 0; stroke: #ff7f0e; stroke-width: 1.5\"/>\n   </g>\n   <g id=\"line2d_118\">\n    <path d=\"M 49.633125 47.135247 \nL 69.163125 43.503531 \nL 88.693125 43.555412 \nL 108.223125 38.055956 \nL 127.753125 41.791436 \nL 147.283125 37.978134 \nL 166.813125 36.629211 \nL 186.343125 37.355554 \nL 205.873125 36.395743 \n\" clip-path=\"url(#pc093ad46b3)\" style=\"fill: none; stroke-dasharray: 9.6,2.4,1.5,2.4; stroke-dashoffset: 0; stroke: #2ca02c; stroke-width: 1.5\"/>\n   </g>\n   <g id=\"line2d_119\">\n    <path d=\"M 34.923295 13.5 \nL 44.646742 84.609424 \nL 54.370189 102.259044 \nL 64.093636 110.132384 \nL 73.817082 116.112684 \nL 83.540529 120.265976 \nL 93.263976 123.221364 \nL 102.987423 126.724477 \nL 112.71087 128.924883 \nL 122.434316 128.807251 \nL 132.157763 132.150366 \nL 141.88121 131.416823 \nL 151.604657 134.205836 \nL 161.328104 133.726755 \nL 171.051551 134.861964 \nL 180.774997 136.925911 \nL 190.498444 139.044503 \nL 200.221891 137.070129 \nL 209.945338 138.509696 \nL 219.668785 139.5 \n\" clip-path=\"url(#pc093ad46b3)\" style=\"fill: none; stroke: #1f77b4; stroke-width: 1.5; stroke-linecap: square\"/>\n   </g>\n   <g id=\"line2d_120\">\n    <path d=\"M 49.633125 93.058797 \nL 69.163125 106.841474 \nL 88.693125 112.120378 \nL 108.223125 121.664647 \nL 127.753125 117.323041 \nL 147.283125 126.000542 \nL 166.813125 128.223383 \nL 186.343125 127.266456 \nL 205.873125 130.280011 \n\" clip-path=\"url(#pc093ad46b3)\" style=\"fill: none; stroke-dasharray: 5.55,2.4; stroke-dashoffset: 0; stroke: #ff7f0e; stroke-width: 1.5\"/>\n   </g>\n   <g id=\"line2d_121\">\n    <path d=\"M 49.633125 47.135247 \nL 69.163125 43.503531 \nL 88.693125 43.555412 \nL 108.223125 38.055956 \nL 127.753125 41.791436 \nL 147.283125 37.978134 \nL 166.813125 36.629211 \nL 186.343125 37.355554 \nL 205.873125 36.395743 \n\" clip-path=\"url(#pc093ad46b3)\" style=\"fill: none; stroke-dasharray: 9.6,2.4,1.5,2.4; stroke-dashoffset: 0; stroke: #2ca02c; stroke-width: 1.5\"/>\n   </g>\n   <g id=\"line2d_122\">\n    <path d=\"M 34.923295 13.5 \nL 44.646742 84.609424 \nL 54.370189 102.259044 \nL 64.093636 110.132384 \nL 73.817082 116.112684 \nL 83.540529 120.265976 \nL 93.263976 123.221364 \nL 102.987423 126.724477 \nL 112.71087 128.924883 \nL 122.434316 128.807251 \nL 132.157763 132.150366 \nL 141.88121 131.416823 \nL 151.604657 134.205836 \nL 161.328104 133.726755 \nL 171.051551 134.861964 \nL 180.774997 136.925911 \nL 190.498444 139.044503 \nL 200.221891 137.070129 \nL 209.945338 138.509696 \nL 219.668785 139.5 \n\" clip-path=\"url(#pc093ad46b3)\" style=\"fill: none; stroke: #1f77b4; stroke-width: 1.5; stroke-linecap: square\"/>\n   </g>\n   <g id=\"line2d_123\">\n    <path d=\"M 49.633125 93.058797 \nL 69.163125 106.841474 \nL 88.693125 112.120378 \nL 108.223125 121.664647 \nL 127.753125 117.323041 \nL 147.283125 126.000542 \nL 166.813125 128.223383 \nL 186.343125 127.266456 \nL 205.873125 130.280011 \nL 225.403125 131.133381 \n\" clip-path=\"url(#pc093ad46b3)\" style=\"fill: none; stroke-dasharray: 5.55,2.4; stroke-dashoffset: 0; stroke: #ff7f0e; stroke-width: 1.5\"/>\n   </g>\n   <g id=\"line2d_124\">\n    <path d=\"M 49.633125 47.135247 \nL 69.163125 43.503531 \nL 88.693125 43.555412 \nL 108.223125 38.055956 \nL 127.753125 41.791436 \nL 147.283125 37.978134 \nL 166.813125 36.629211 \nL 186.343125 37.355554 \nL 205.873125 36.395743 \n\" clip-path=\"url(#pc093ad46b3)\" style=\"fill: none; stroke-dasharray: 9.6,2.4,1.5,2.4; stroke-dashoffset: 0; stroke: #2ca02c; stroke-width: 1.5\"/>\n   </g>\n   <g id=\"line2d_125\">\n    <path d=\"M 34.923295 13.5 \nL 44.646742 84.609424 \nL 54.370189 102.259044 \nL 64.093636 110.132384 \nL 73.817082 116.112684 \nL 83.540529 120.265976 \nL 93.263976 123.221364 \nL 102.987423 126.724477 \nL 112.71087 128.924883 \nL 122.434316 128.807251 \nL 132.157763 132.150366 \nL 141.88121 131.416823 \nL 151.604657 134.205836 \nL 161.328104 133.726755 \nL 171.051551 134.861964 \nL 180.774997 136.925911 \nL 190.498444 139.044503 \nL 200.221891 137.070129 \nL 209.945338 138.509696 \nL 219.668785 139.5 \n\" clip-path=\"url(#pc093ad46b3)\" style=\"fill: none; stroke: #1f77b4; stroke-width: 1.5; stroke-linecap: square\"/>\n   </g>\n   <g id=\"line2d_126\">\n    <path d=\"M 49.633125 93.058797 \nL 69.163125 106.841474 \nL 88.693125 112.120378 \nL 108.223125 121.664647 \nL 127.753125 117.323041 \nL 147.283125 126.000542 \nL 166.813125 128.223383 \nL 186.343125 127.266456 \nL 205.873125 130.280011 \nL 225.403125 131.133381 \n\" clip-path=\"url(#pc093ad46b3)\" style=\"fill: none; stroke-dasharray: 5.55,2.4; stroke-dashoffset: 0; stroke: #ff7f0e; stroke-width: 1.5\"/>\n   </g>\n   <g id=\"line2d_127\">\n    <path d=\"M 49.633125 47.135247 \nL 69.163125 43.503531 \nL 88.693125 43.555412 \nL 108.223125 38.055956 \nL 127.753125 41.791436 \nL 147.283125 37.978134 \nL 166.813125 36.629211 \nL 186.343125 37.355554 \nL 205.873125 36.395743 \nL 225.403125 36.214157 \n\" clip-path=\"url(#pc093ad46b3)\" style=\"fill: none; stroke-dasharray: 9.6,2.4,1.5,2.4; stroke-dashoffset: 0; stroke: #2ca02c; stroke-width: 1.5\"/>\n   </g>\n   <g id=\"patch_3\">\n    <path d=\"M 30.103125 145.8 \nL 30.103125 7.2 \n\" style=\"fill: none; stroke: #000000; stroke-width: 0.8; stroke-linejoin: miter; stroke-linecap: square\"/>\n   </g>\n   <g id=\"patch_4\">\n    <path d=\"M 225.403125 145.8 \nL 225.403125 7.2 \n\" style=\"fill: none; stroke: #000000; stroke-width: 0.8; stroke-linejoin: miter; stroke-linecap: square\"/>\n   </g>\n   <g id=\"patch_5\">\n    <path d=\"M 30.103125 145.8 \nL 225.403125 145.8 \n\" style=\"fill: none; stroke: #000000; stroke-width: 0.8; stroke-linejoin: miter; stroke-linecap: square\"/>\n   </g>\n   <g id=\"patch_6\">\n    <path d=\"M 30.103125 7.2 \nL 225.403125 7.2 \n\" style=\"fill: none; stroke: #000000; stroke-width: 0.8; stroke-linejoin: miter; stroke-linecap: square\"/>\n   </g>\n   <g id=\"legend_1\">\n    <g id=\"patch_7\">\n     <path d=\"M 138.8125 100.434375 \nL 218.403125 100.434375 \nQ 220.403125 100.434375 220.403125 98.434375 \nL 220.403125 54.565625 \nQ 220.403125 52.565625 218.403125 52.565625 \nL 138.8125 52.565625 \nQ 136.8125 52.565625 136.8125 54.565625 \nL 136.8125 98.434375 \nQ 136.8125 100.434375 138.8125 100.434375 \nz\n\" style=\"fill: #ffffff; opacity: 0.8; stroke: #cccccc; stroke-linejoin: miter\"/>\n    </g>\n    <g id=\"line2d_128\">\n     <path d=\"M 140.8125 60.664063 \nL 150.8125 60.664063 \nL 160.8125 60.664063 \n\" style=\"fill: none; stroke: #1f77b4; stroke-width: 1.5; stroke-linecap: square\"/>\n    </g>\n    <g id=\"text_13\">\n     <!-- train_loss -->\n     <g transform=\"translate(168.8125 64.164063) scale(0.1 -0.1)\">\n      <defs>\n       <path id=\"DejaVuSans-74\" d=\"M 1172 4494 \nL 1172 3500 \nL 2356 3500 \nL 2356 3053 \nL 1172 3053 \nL 1172 1153 \nQ 1172 725 1289 603 \nQ 1406 481 1766 481 \nL 2356 481 \nL 2356 0 \nL 1766 0 \nQ 1100 0 847 248 \nQ 594 497 594 1153 \nL 594 3053 \nL 172 3053 \nL 172 3500 \nL 594 3500 \nL 594 4494 \nL 1172 4494 \nz\n\" transform=\"scale(0.015625)\"/>\n       <path id=\"DejaVuSans-72\" d=\"M 2631 2963 \nQ 2534 3019 2420 3045 \nQ 2306 3072 2169 3072 \nQ 1681 3072 1420 2755 \nQ 1159 2438 1159 1844 \nL 1159 0 \nL 581 0 \nL 581 3500 \nL 1159 3500 \nL 1159 2956 \nQ 1341 3275 1631 3429 \nQ 1922 3584 2338 3584 \nQ 2397 3584 2469 3576 \nQ 2541 3569 2628 3553 \nL 2631 2963 \nz\n\" transform=\"scale(0.015625)\"/>\n       <path id=\"DejaVuSans-61\" d=\"M 2194 1759 \nQ 1497 1759 1228 1600 \nQ 959 1441 959 1056 \nQ 959 750 1161 570 \nQ 1363 391 1709 391 \nQ 2188 391 2477 730 \nQ 2766 1069 2766 1631 \nL 2766 1759 \nL 2194 1759 \nz\nM 3341 1997 \nL 3341 0 \nL 2766 0 \nL 2766 531 \nQ 2569 213 2275 61 \nQ 1981 -91 1556 -91 \nQ 1019 -91 701 211 \nQ 384 513 384 1019 \nQ 384 1609 779 1909 \nQ 1175 2209 1959 2209 \nL 2766 2209 \nL 2766 2266 \nQ 2766 2663 2505 2880 \nQ 2244 3097 1772 3097 \nQ 1472 3097 1187 3025 \nQ 903 2953 641 2809 \nL 641 3341 \nQ 956 3463 1253 3523 \nQ 1550 3584 1831 3584 \nQ 2591 3584 2966 3190 \nQ 3341 2797 3341 1997 \nz\n\" transform=\"scale(0.015625)\"/>\n       <path id=\"DejaVuSans-69\" d=\"M 603 3500 \nL 1178 3500 \nL 1178 0 \nL 603 0 \nL 603 3500 \nz\nM 603 4863 \nL 1178 4863 \nL 1178 4134 \nL 603 4134 \nL 603 4863 \nz\n\" transform=\"scale(0.015625)\"/>\n       <path id=\"DejaVuSans-6e\" d=\"M 3513 2113 \nL 3513 0 \nL 2938 0 \nL 2938 2094 \nQ 2938 2591 2744 2837 \nQ 2550 3084 2163 3084 \nQ 1697 3084 1428 2787 \nQ 1159 2491 1159 1978 \nL 1159 0 \nL 581 0 \nL 581 3500 \nL 1159 3500 \nL 1159 2956 \nQ 1366 3272 1645 3428 \nQ 1925 3584 2291 3584 \nQ 2894 3584 3203 3211 \nQ 3513 2838 3513 2113 \nz\n\" transform=\"scale(0.015625)\"/>\n       <path id=\"DejaVuSans-5f\" d=\"M 3263 -1063 \nL 3263 -1509 \nL -63 -1509 \nL -63 -1063 \nL 3263 -1063 \nz\n\" transform=\"scale(0.015625)\"/>\n       <path id=\"DejaVuSans-6c\" d=\"M 603 4863 \nL 1178 4863 \nL 1178 0 \nL 603 0 \nL 603 4863 \nz\n\" transform=\"scale(0.015625)\"/>\n       <path id=\"DejaVuSans-73\" d=\"M 2834 3397 \nL 2834 2853 \nQ 2591 2978 2328 3040 \nQ 2066 3103 1784 3103 \nQ 1356 3103 1142 2972 \nQ 928 2841 928 2578 \nQ 928 2378 1081 2264 \nQ 1234 2150 1697 2047 \nL 1894 2003 \nQ 2506 1872 2764 1633 \nQ 3022 1394 3022 966 \nQ 3022 478 2636 193 \nQ 2250 -91 1575 -91 \nQ 1294 -91 989 -36 \nQ 684 19 347 128 \nL 347 722 \nQ 666 556 975 473 \nQ 1284 391 1588 391 \nQ 1994 391 2212 530 \nQ 2431 669 2431 922 \nQ 2431 1156 2273 1281 \nQ 2116 1406 1581 1522 \nL 1381 1569 \nQ 847 1681 609 1914 \nQ 372 2147 372 2553 \nQ 372 3047 722 3315 \nQ 1072 3584 1716 3584 \nQ 2034 3584 2315 3537 \nQ 2597 3491 2834 3397 \nz\n\" transform=\"scale(0.015625)\"/>\n      </defs>\n      <use xlink:href=\"#DejaVuSans-74\"/>\n      <use xlink:href=\"#DejaVuSans-72\" x=\"39.208984\"/>\n      <use xlink:href=\"#DejaVuSans-61\" x=\"80.322266\"/>\n      <use xlink:href=\"#DejaVuSans-69\" x=\"141.601562\"/>\n      <use xlink:href=\"#DejaVuSans-6e\" x=\"169.384766\"/>\n      <use xlink:href=\"#DejaVuSans-5f\" x=\"232.763672\"/>\n      <use xlink:href=\"#DejaVuSans-6c\" x=\"282.763672\"/>\n      <use xlink:href=\"#DejaVuSans-6f\" x=\"310.546875\"/>\n      <use xlink:href=\"#DejaVuSans-73\" x=\"371.728516\"/>\n      <use xlink:href=\"#DejaVuSans-73\" x=\"423.828125\"/>\n     </g>\n    </g>\n    <g id=\"line2d_129\">\n     <path d=\"M 140.8125 75.620313 \nL 150.8125 75.620313 \nL 160.8125 75.620313 \n\" style=\"fill: none; stroke-dasharray: 5.55,2.4; stroke-dashoffset: 0; stroke: #ff7f0e; stroke-width: 1.5\"/>\n    </g>\n    <g id=\"text_14\">\n     <!-- val_loss -->\n     <g transform=\"translate(168.8125 79.120313) scale(0.1 -0.1)\">\n      <defs>\n       <path id=\"DejaVuSans-76\" d=\"M 191 3500 \nL 800 3500 \nL 1894 563 \nL 2988 3500 \nL 3597 3500 \nL 2284 0 \nL 1503 0 \nL 191 3500 \nz\n\" transform=\"scale(0.015625)\"/>\n      </defs>\n      <use xlink:href=\"#DejaVuSans-76\"/>\n      <use xlink:href=\"#DejaVuSans-61\" x=\"59.179688\"/>\n      <use xlink:href=\"#DejaVuSans-6c\" x=\"120.458984\"/>\n      <use xlink:href=\"#DejaVuSans-5f\" x=\"148.242188\"/>\n      <use xlink:href=\"#DejaVuSans-6c\" x=\"198.242188\"/>\n      <use xlink:href=\"#DejaVuSans-6f\" x=\"226.025391\"/>\n      <use xlink:href=\"#DejaVuSans-73\" x=\"287.207031\"/>\n      <use xlink:href=\"#DejaVuSans-73\" x=\"339.306641\"/>\n     </g>\n    </g>\n    <g id=\"line2d_130\">\n     <path d=\"M 140.8125 90.576563 \nL 150.8125 90.576563 \nL 160.8125 90.576563 \n\" style=\"fill: none; stroke-dasharray: 9.6,2.4,1.5,2.4; stroke-dashoffset: 0; stroke: #2ca02c; stroke-width: 1.5\"/>\n    </g>\n    <g id=\"text_15\">\n     <!-- val_acc -->\n     <g transform=\"translate(168.8125 94.076563) scale(0.1 -0.1)\">\n      <use xlink:href=\"#DejaVuSans-76\"/>\n      <use xlink:href=\"#DejaVuSans-61\" x=\"59.179688\"/>\n      <use xlink:href=\"#DejaVuSans-6c\" x=\"120.458984\"/>\n      <use xlink:href=\"#DejaVuSans-5f\" x=\"148.242188\"/>\n      <use xlink:href=\"#DejaVuSans-61\" x=\"198.242188\"/>\n      <use xlink:href=\"#DejaVuSans-63\" x=\"259.521484\"/>\n      <use xlink:href=\"#DejaVuSans-63\" x=\"314.501953\"/>\n     </g>\n    </g>\n   </g>\n  </g>\n </g>\n <defs>\n  <clipPath id=\"pc093ad46b3\">\n   <rect x=\"30.103125\" y=\"7.2\" width=\"195.3\" height=\"138.6\"/>\n  </clipPath>\n </defs>\n</svg>\n"
          },
          "metadata": {}
        }
      ]
    },
    {
      "cell_type": "markdown",
      "source": [
        "![image.png](data:image/png;base64,iVBORw0KGgoAAAANSUhEUgAAAT8AAAD0CAYAAADt/iFoAAAgAElEQVR4Ae1dCZxO1fvX8quUJVIoZkYozCDLL0TWColKRUrrv0ULIc2MncFYoxHJFgYNosIsZG/IkmxRUfaEkpSlZHn+v+9533Pn3Hfuu83c933vfd/nfD537rnnnnvuOd9z3+885zznPE8B4sAIMAKMQAQiUCAC28xNZgQYAUaAmPz4I2AEGIGIRIDJLyK7nRvNCDACTH78DTACjEBEIsDkF5Hdzo1mBBgBJj/+BhgBRiAiEWDyi8hu50YzAowAkx9/A4wAIxCRCFia/F5//XUqUKAAH4wBfwP8DWjfQNu2bU0ha0uT3+zZs6lly5amNJQLYQQYAfsj0LFjR0pJSTGlIUx+psDIhTACjEAwEGDyCwbK/A5GgBGwHAJMfpbrEq4QI8AIBAMBJr9goMzvYAQYAcshwORnuS7hCjECjEAwEGDyI6LbEzMpKmFFMPDmdzACjIBFEIh48otKzKDohHSKSki3SJdwNRgBRiAYCEQ8+ZWNTxfkFx2/OBh48zsYAUbAIggw+fVwkF9UApOfRb5JrgYjEBQEIp782o1b7ZD8eNgblA+OX8IIWAWBiCc/dASkPsz73RafaZV+4XowAoxAgBEIGfldvnyZhg0bRq1bt6ann36asrKyvDb10KFD1LlzZ2ratKl45tixY16fkRk87e3FfB/Ir0xChszOZ0aAEQhzBEJGfiCxmJgYmjt3LiUnJ9PVV1/tkQD37t1LRYsWpQ4dOtCCBQuoWbNmVK5cOTp16pRPXeSJ/MomOOb9yiYy+fkEJmdiBMIAgZCQ35EjRwTZrViRs7aue/fuVK9ePbeQPv/881S3bl3t/vnz56lkyZL07rvvammeIj6RXzyTnycM+R4jEE4IhIT80tLSqFChQoShrwzLli0TNrbOnTsnk3Tn+vXrU48ePXRpDz/8sM9mqjySn3O5S1kmPx2+fMEIhDMCISG/MWPGUIUKFXS47tq1S5DfTz/9pEuXF8888ww9+uij8lKcK1euTNWrV9elyYuvvvqKhg8frh1PPvmkGCrL++q57Du81k/Fg+OMQCQgEBLywxxfbGysDt/9+/cL8tu+fbsuXV6sX7+errjiCho/fjytWrWK+vTpQ9dcc00uEpX5MzIy6JVXXtEOKEmaNGkib+vOZXrzWj8dIHzBCEQAAiEhv0mTJlHp0qV18G7evFmQ39GjR3Xp6gWUI40aNRLH22+/TZ06daLmzZurWdzGPQ178RC0vTiw7o8DI8AIhD8CISE/KDrgT+PXX3/VEJ4yZQoVLlyYLl68qKV5i9SoUYOSkpK8ZRP3vZGfXOtXJoHX+vkEKGdiBGyOQEjID4qO8uXLawoMKDkwd9e1a1cNzuzsbBo5cqR2ffbsWfr333+16/79+1PBggXpxIkTWpqniDfy05a78Fo/TzDyPUYgbBAICfkBvQ0bNlCRIkUISgus36tTp45uzR7mBUuVKqUBvXXrViEtlilThkqUKEE33XQTQUPsa/CZ/N7h5S6+Ysr5GAE7IxAy8gNoWKAM5cW6deu8DncvXbpE0OAi/5o1awiSoD/BK/nxchd/4OS8jIDtEQgp+QUTPV/Jj01bBbNX+F2MQOgQYPJzYl9WmrZiu36h+xr5zYxAEBFg8nOCzaatgvjV8asYAQsgwOSndEK0c96PTVspoHCUEQhTBJj8lI6Vy13YtJUCCkcZgTBFgMlP6VhJfmzaSgGFo4xAmCLA5Kd0rEZ+bN1FQYWjjEB4IsDkp/Sr9OTGpq0UUDjKCIQpAkx+SseyaSsFDI4yAmGOAJOf0sFs2koBg6OMQJgjwOTn0sFs2soFEL5kBMIUASY/l46Va/3YtJULMHzJCIQZAkx+Lh2qaXzZtJULMnzJCIQXAkx+Lv2pkR+btnJBhi8ZgfBCgMnPpT95uYsLIHzJCIQpAkx+Lh0ryY9NW7kAw5eMQIARmLpzKo3bMi7Ab8kpnskvBwsRK5uwSDgyimLTVi7I8CUj4DsCW45voXHbx1GXFV2o7aK21HRuU6ozuw7VSK1BVadXFcdDnz+kFdj4k8YUNz1OpMvEo2eOUs2ZNanRnEbU6tNW1H5xe3pp6UvUdVVX6ru2Lw3fNJw+2PYBpe5KpU9//JSWHVhGu0/ulo97PTP5uUDEpq1cAOFLRsAFgfbp7anWrFr0+srXtTsdFncQ5BU7LVacQWTejtoza2vPP7LwEYqdHkvVZ+T44QaReSvD9X6PNT20Mn8+/bN4vvl8vYfHHqt7UK/sXnRP63soJSVFy5+fSIH8PBzoZ71ZclbfL5e7sGkrFRWORwIC8dnxVDetLsWlxgkyArmA0BrMa6A1v2ZqTUEqIEAZHv38UT1RTXM+r5yrTa9GtWbXovpp9an5guaUssU78Zy7cI5+Pfcr7Tu1j7b/tp3WHVlHS/Yvofl75tO0ndPo/S3v09CNQwWZdVnZhWbsmiGrRLtO7BJ1are4nZaGiCTM6CbRTH46ZIhIanzZtJUrMta5fmX1K9QwrSFVnV2VqqZWdfxQU+Oo6oyq4ofbc2NPrbIYZkGqiJsdl5M2q6r4USO92qxq1G1jN+1eJESezHySasysQbEzYgU2IDhPUhvyyvDK0lcIBAhpT4Yvj3xJ3VZ1I8zbWT2sPryaFuxZQE0eacLk59pZkvzYtJUrMoG/rgpSmh5LKnnFTYsjHILAEPdhSFVrTo5UIp6DBDMjVmuApx868iNv7Vm1acOhDdozdoy0+bwNVUutRm0Wt9Gq7wk/iTH+odRJq0P9NvTTngu3CM/5GfSoRn5s2soAHd+SfqPfqNG8RlR9VnUCocXNcJCPJDH5I8MPUQ3yh1ljVo6kIdPUs0ZozjkmtTwQ2/0L79eKxY8fEmHDuQ21NBCbbmgHydANqaJslHnPJ/doz4c6kn00WwzxhmwaQg9+/qCYK5PYtljQQqueJHmV+DGsRbrE7K7Uu6jdonZ09O+j2nOREGHyM+jlsgmLhcaXTVsZgKMkYTgJUlODJCV3RGKU7vo8ymiZ3lJLvmv2XWJoC2muw6KcoZaWwaQIhr5iCJ1qPBQEacggpFEXabLd0nZCsynz+HuuP6++IOR6afW0RwXGUurF+zyQtMQWZC/D3bPuFkRXY3bOPxN5L9LPTH4GX4Akv3Bf69dpXSeqOreqQzpLzZHOICWA1OQhpQScZfjjjz80SWnT/k0yOdePEz9W9Xnx402NE0Ox2LRYenL5k9qzVo7USNOThyS/KtOraNWW5CPOICxFuhLtliQmz9PjSCU6lIVnq8xQypxpPMxH2a7vQ51AfC998ZJWJ464RyBk5Pf7779To0aNqECBAvSf//yH4uPj3dfSeeezzz6jevXqUcGCBal69eo0bpzvCyL90faWjV/oWOuXsNhrnayU4cVlLwoyq5JaRUgQsm615tXSSEmm4az78bgZ8rnm0T3v/BF3XtdZS642uxphyDpk8xAtLRwjo7eMJhBiytYcjaVGdj5iCWwx5JRBKGumx1HNWTVlEnVa1YkgvTX5rAm9sOwFSv0uVbvHkfwhEDLye/755ykmJobmzp1LycnJdOWVVxLIzV1Yu3YtXXHFFTR27FhatWoVzZkzh66//nqaOHGiu0d06f6QHx60qmmru2bc5ZirckoV7n5wkDRkqJxaWRCdmoZ78lmkC8nEuaxBpDulP6EpnenQlHZZ1UUWyWcPCNSZU0coTDCniGE0SC42NVZI2Bh+Np7TmDpkdqCpP1hfM+qhmba/FRLyO3LkCF199dW0YsUKDcDu3bsLqU5LcImAIOPi9PNL7du3JzTAl+A3+TndWFrBtFXD2Q01onKVxFyvBZFhSDQtBytIhGJyf2YOIfqCGedhBMIZgZCQX1paGhUqVIguX76sYbts2TIxBD537pyWpkYgIRYvXpzOnDmjJdesWZP69++vXXuK+Et+msY3yKat4mY553gU8jp94bQmmQkpQkp9qbGEIS7m7UBwHBgBRsB3BEJCfmPGjKEKFSroarlr1y5Bfj/99JMuXb0YPnw4lStXTswV3nnnnfTqq6/Sv//+q2bR4pmZmdSpUyftaNasGTVp0kS77y2ikV+ATFthCQiGQnK4KetTb049x1zctDj6+8LfMpmqpFWh3/7+TbvmCCPACOQPgZCQH4awsbH6Idj+/fsF+W3fvt2wRb/88guVLFmSWrZsKaS95557jq655hrasmWLYf5169bR0KFDtQNDZBCgr0FqfM1Y7qISHebTjIaqar3iZsZRlY9zNH7qPY4zAoyAOQiEhPwmTZpEpUuX1rVg8+bNgvyOHjVeaNm5c2eqU6eObqj84osv+kxo/g97HWv98rLcBUtFVGWCK9mpQ1exZMJlrZwOGL5gBBiBgCAQEvKDogNLXH799VetUVOmTKHChQvTxYsXtTQ10qZNG4KGWA2jRo2i22+/XU1yG/ef/PJu2ioX2SnruuTe0/20321d+QYjwAgEHoGQkB8UHeXLl6cePRzmZ6DkwLq9rl27ai0GWbVt21a7HjJkCN1888104sQJkXb+/HmqVasWPfXUU1oeTxF/yS8/pq0wlyekuxmxVDWtKl2gC56qxvcYAUYgBAiEhPzQzg0bNlCRIkWocuXKVLRoUTGkPXXqlAYB5gVLlSqlXf/999/02GOP0W233SYUHhUrVqT69evTzz//rOXxFPGX/FAWm7byhCjfYwTsjUDIyA+wgeywYBnKCXfDXVd4//rrL0Gcv/3mn+YzL+QnNb5s2sq1F/iaEbA/AiElv2DClxfyi3IudGbTVsHsKX4XIxAcBJj8POCskR+btvKAUmTc+vPPPwnLrQ4cOEBYlsWHtTE4ePAgYeWIuinC9Utl8nNFRLk2c62fUixHbYYAViV89913gvAQ58P6GBw/fpz27dsn+k3VJaifHpOfioZLXJJfXtb6uRTFlzZGYPfu3YT96BzshwD6DdK6UWDyM0LFmWZX01YemsS38oAApD4MeznYDwEsjXO3ZZbJz0t/WtW0lZdq820TEQD5nT592sQSuahgIQC7oXv27DF8HZOfISw5iXKtnxVMW+XUimPBRIDJL5hom/suJj8iystSF3SDpvENsmkrcz8BLi0/CEQy+c2YMYMSEhLyA5/27ODBg+mDDz7QroMRYfIzg/wCZNoqGB8AvyN/CNiN/MaPH0+1a9fOX6OdT5tJfk8//TS9/fbbptTL10KY/PJBflLja4ZpK187jPNZC4FIJj8ze4LJz0w0/Sgrr8NeSX683MUPsMMsq53ILz09XVhMgtUkecBK+tdffy2uP//8cypWrJiIwwMffhewk4m82DcPy0lYzC3DwIEDhQ1NeQ07nLCmBMPAeKZatWqUkZEhb3s8u5If9uU//PDDYo8/3v3GG28Q9vDLAEtP99xzj3BwhnfB+IkMGD7XrVtXu4d8RoElv3xJfk7TVjbz5Gb0IXBa3hAwIr/sH3+jYB7f/fKXz5U3GvZK8gNhbN26lS5dukQXLlwQ++TlMh5otJs3b06PP/649i4j8oMZOZAsiAX3YYoOe+69BZX88H745Hn00Ufp0KFDBHueuH7pJYfbTeyggVdHpCPAEtTy5ctF/Pvvv6cbbriBvv32W3GNslauXCnirn+Y/PJBfvkxbeXaEXxtTwSMyE8ugQrWudNMBwn4gqAn8jOylA5iwVo4GBl5//336cYbb9ReY0R+SJMBBAqL6uvXr5dJbs8q+YHI4MTs5MmTWv4lS5YIL47YkrZz50666qqrCO4tXAMIEe8EQXoLTH75ID+AG5WQLlxZ3haf6Q1rvh+GCBiRX8cpGyiYR8py47VqRnB7Ij+QlRq++OIL4U8H/rDhR/u///2vGM7+888/IpsR+X300UdqEWLYDJ853oJKfhi2VqpUSfcIiBDD223btol0SKBwV3v33XfT//3f/2npuPnQQw8JckS9X375ZbGNTVeY84LJL7/kp7mx9G1uw6gTOM2+CBiRn5Vb44n81HpjuAibmuqcXXZ2tiAg6UXRF/K75ZZbdGWo71DjKvl9/PHHFBUVpd4W29BAfqpEB8kP/rxh2Bh+urFnV4YdO3bQggULBBGiHXL4Lu/jzORnEvmxaSv1s4qcuN3Ib9asWbkchMk5P7XXQAwgmx9//FFLBkEhLdDkB2UH5vTWrl2rvRvrAGHhXXVpK2+CqFEv2P50DSA93JMSo3qfyc8s8mPTVup3FTFxu5EfNvLD5UO3bt2Ep8O9e/dq2l7XTsOQEkefPn3E+YEHHhBEIrWugZL8UI9hw4ZRwYIFCY7IMIxFHMNwBChUkAa/3DjgebFMmTLCAPInn3wilDLyHiy6R0dHa4SttpHJL5/kJ5e78Fo/9bOKnLjdyA89A7NbkydP1sgP1k1AFq4B82zwj4N7kBhhIR1xOTe4evVqkS6fw5Aa2mI1jBw50u3+WTUfhqhLly5Vk4Tr2dGjR4u6wgafDLDsjuG4JLj33ntPG9bCVzfKkvegpDl79qx8VHdm8jOJ/Hitn+67ipgLO5JfxHSOl4Yy+eWT/KJ6LRHaXuzz5RB5CDD5+dbnWVlZ9OGHHxoex44d860Qk3Mx+eWT/NAfcj0X1v1xiCwEmPx862/sA+7Vq5fhoQ5pfSvNnFxMfiaQn7TuwqatzPko7VQKk5+dektfVyY/E8mvLJu20n9dEXDF5GffTmbyM5P82LSVfX8Jeaw5k18egbPAY5YkP1iUaNWqldgUDYsOPXv29AgVVOzYfuN69O3b1+Nz8mZerbrI53m5i0Qi8s5Mfvbtc0uSX9OmTen+++8X21W++uoruummmwhredwFufEam69xYBM0NkZPnDjR3SO6dLPIj5e76GCNiAsmP/t2s+XID5YlsB1FtdgwYsQIiomJ8RnladOm0bXXXuvRKbFaWH7JL+rtTMdyFzZtpcIaEXEmP/t2s+XIDyrxEiVK6BCFSRwQojsHw7rMRIQtLdgW42vIL/mxaStfkQ6/fJFGfjBu8MQTT/jUkW3atBFb53zKHIJMliO/4cOH5zJnA8fQID98aN6CzOvJhhisRrRo0UI7YHG2cePG3or2eJ9NW3mEJ2xvRhr5wYpK2bJlfepPTFfJ/bg+PRDkTJYkvzvuuEMHAyxLgPxgxNBbgBMU1+ddn8GQes6cOdrx5ptvijlG13z+XOes9WPTVv7gZve84Up+GzduFPt0sY9WDfklP1iE3rBhg9gnrJYr43Akjj3DRtafYbIK96RVGflMXs+WIz8Me4sXL65rD5QeID9U1lPApmYMmVNSUjxly3Uvv8NeFCjJj01b5YI3rBPsRH4waHDllVfSpk2bdH0C8/Dt2rUTafDjAeEBfi/uvfdeIeWp5qDyQ34wSwVFJEZaMFmFd0oLMTCW0KFDB6pcubJYtQEbfImJiaJOyIMhNEzZY0UHzNSjrPwGy5GfVHjAFr8MGArDLI23MG/ePKHo8HVuUJZnKvmxaSsJa0ScDcnv8mWi/V+6P04re1n/+sV9vv3ZegyPbMmd97j3qSC1EDgFev3117UkEAvIBHtvEeD7Avb0ZIA1lzvvvFOzo5dX8oPEBtPzknjhCAkGS/HbRsC+3/vuu0++Vigrf/jhB3ENyy6otwz4fat2BmW6v2fLkR8aAO9P6lIXSHPqUheQFay3ugbYG3vqqadck71em0N+GULjy6atvMIdVhkMye/C/8y89y/i/tgyMweDTZPc50MZapjQIHfeOR3VHF7jkOzghwOjJITp06fTrbfeqpGbLAAEuGbNGlqxYoUwF3/48GFxK6/k99prr1Hr1q1l8eKclJQkTOPjYsyYMVSuXDmxVM3VYGlycrIgYCNjpboC/bywJPlBPId4i6EuxOMePXroOseI/GCxFUoLDJH9DaaQ3zuO5S681s9f9O2d35D8Ll0g+qil++NHh1FO0fLv093nm9ZKD87Czrnzrhyiz+PlClaPYcwUc94IDRs21G0imD9/vrhfo0YNbdMAfGVgDhAhr+QH46Pdu3cXZcg/qANcYyJgHq9jx47CaCmG5lixId1kYp4QPjuwfA3SI7gBHJHfYEnyy2+j/H3eFPJj01b+wh4W+Q3Jz+ItAwm1bNlS+MOAgKH6xYDvXRgglQHEgzxy9UReye+ZZ56hV155RRYrzpMmTRISnZoIIWbChAlijq9Bg/9JukqAcVXs5sJKDbjRzG9g8jNhb6/sBDZtJZGInLMdyQ9zaZDmXnjhBaHUUHsLQ2CQkgwgQjPID8Pr0qVLa2t1oUXGSK1z587iVa42/TB/j6UyCK73UJargyNZX3/OTH4mkp/U+LJpK38+QXvntSP5AfGaNWsKUps6daquA+CXA1NNzz77rJCwMMTEdX4lPwy3MY+PNYJdunShqlWrijk+SWxQwkDTC5t/8BmCPf3Ih4C6IH/v3r3FUapUKZFPV/E8XDD5BYD82LRVHr5Emz5iV/KDthT74I3WzMGbG3x3wH8ufPRC8SFdP8KPh6/z6vC+pjoehyIDPnzhnAiOhuCAXAas60N9kA7/G2lpaQTCREAZuIc5QtxDHleliCzHnzOTXyDIj01b+fMN2jqvXcnP1qCbVHkmP1PJj5e7mPRd2qaYSCY/DJGllzT1jKUpdghMfmaS3zsO8uPlLnb49M2pYyST37hx4wiuIV0PX03JmdMDeS+Fyc9M8pOmrdiTW96/SJs9GcnkZ7OuylVdJj8TyY9NW+X6vsI+gcnPvl3M5Gci+eEzYNNW9v0x5KXmTH55Qc0azzD5mU1+8elij28Z9uRmjS88wLVg8gswwAEsnsnPbPJLWOwwcJDIdv0C+N1apmgmP8t0hd8VYfIzmfyiE5z+PFjp4ffHaMcHmPzs2GuOOjP5mUx+UQlLNGdGd/RSrHfY9xvhmntAINLIzx/DBh5gs8QtJj+TyW/H4T8p2jnvh72+HMIbASY/+/Yvk5/J5IdPQVp3kWf7fh5cc28IhCP5HTp0SOyl3bp1K+XHhwf232If8JdffklHjx51CyUMpyKPai5fZoZJLdgShCVoaYBV3svvmckvAOSHTomKd+72SEg3xeR2fjuanw8MAnYiP198eMCUFKy4SB8esKIOA6cy+DPshUFSmMiCZZjbb79dmLBSDR2AZGGz77rrrhPvK1y4sGaxHcT5zjvvCJ8j8PlRoUIFqlu3rqyGKWcmvwCR3ytT12sSIFt5MeVbtWQhRuR38fJFGr91vF/H/D05BHOZLotnP9j2ga7Nc3fPzVVm1n6H7w1dRg8X3nx4HDlyJJcPD5i9h4MhBH/Ib/PmzdpzsA4DooPJKhmaNm0qzGZJT20gRmlYdfLkycKRGXyKIIAMIYmaGZj8AkR+6KQyiY41fxj+xvXl+T8zP1yrlGVEfucvnae46XF+HU+mP6k16dLlS9qzWiIRPb7ocS1dlt91VVc1i9e4Lz48YGMPjotguKBv377C7p90GOQP+aEy8LsBB0QwfNCsWTNq1cphmv/gwYOi3C1bthjWGZKnSpSGmfKZyOQXQPJD38h5P035MaAo0cBb89lt/LhVEDAiPytLfr748IAh0W7dumkWW2D12V9jppifg6l8uL+UFl9wXadOHdF1sPUHC9Guc4qyX1GHmTMVR0/yholnJr8gkR9IsEviO0T9ChP1g2evQiZ2IxcVKgSMyC9UdfH1vZ58eMBnL6Q+GTAMzosZexgtveWWW3Tkhjk8SX7wBody5TBXvk+eIfnB6GkgA5NfgMkPnRftVH5UTUhzkJ/m1pAJMJAfdzDKtiP5efLhAfeRqkkqSG15Ib+FCxeKOTtpKRpaWyg/JPmhb+Ci1tWjGwgJAX5EKlWqpLM0/ccff5japUx+QSC/e4ZkacPfCgnzFQIs7PDDamqXcmHBRMCO5Ad83PnwGDt2rM6HR2JionAZ6e+wF6RXpUoVoaWFk6LatWvTm2++qSM/aHsh4aEu0AhDq9uvXz/RfVBwwGUtHBXhHlxswo+HmYHJLwjkhw4r69zzi+Fvq74LnENfxbG1mb3KZQUNAbuSnzcfHlBS7Ny5U+CYVx8e0PDCF8eMGTMIkh+G0N98802uvoFSBJIe/HScOnVKdx8ECaOpcJ6+Z88e3b38XliW/AACwAAw7iZFXRsPdTzyo7P8WRBpht9e17oYXWvKjwSn5negQn4D/ycFcrAdAnYlP9sBHYAKW5L8duzYQUWKFBFzDZhvqFevnrZeyB0GUJ1jISTyy2Px4sXusuvSg01+kgRFJQY4h7779+vqxBf2QCCSya9Tp0706quv5jreeustW3SeJckPY3z4+Dx+/LjYHgPnxRDDPQXMCTz44IMEt3tQ5//yyy/0/fffe3pEuxcs8sML1eGvVgE1MrgQ0aAb1BSOWxiBSCa/BQsWiN0f2AGiHlhLaIdgOfLbvn27kNx27dql4TdixAiKiYnRrl0j6enpVKxYMTGv4HrPl+tgkh8WO0vJL8rVxeXIykT95VKY/w2JOVgegUgmP8t3jpcKWo78MDmK/YRqgKYJQ1nXyVCZJyEhgZo3b04rV64U6vPnnnuOsIjS1xBM8kOdsOBZEmC/ucoK9wlNHeSnLYXheUBf+zBU+Zj8QoV8/t9rOfIbPny4WN+jNm337t2C/PChGYX27dtT6dKlKS4uTnh1BxleddVVlJFhbE0ZnuixmFMepUqVEqp0o7IDkZb25U8a+ZWVyg/5Isz9QfrTCJAlQAmNFc+YWjlx4oQVq8Z18oIAtM979+41zNWxY0dKSUkxvOdvYgFfHwD5gZTUALU8JD+pelfvIf7EE08IskNjZHj55ZepVq1a8lJ3Rj6YyZFHUlISPfDAA7o8gb6Qkp8853qfSn4gw9R2ubJwQugRwA4FfJ9nzpwJfWW4Bj4j8OeffxKEKugGjEJIyA/D3uLFi+vqA5tgID+IqUYBiyih6VUDyoHG2JcQ7GGvrJP09BYV70YrPUBdCuNbW2TZfA4OAljLBvLDqIQPe2Fw4MABt6tIQkJ+UjHexywAABlvSURBVOGhamohDUZHR7v9mqdPny4UHtDyyjBq1KhchCjvuZ5DRX5S6pNn13qJ60HFiLAekIOlEcC6UuxqOHv2LB82wEDlCqMPKyTkh4pgz5+61AUKkPfee0+rY3JyMmGeTobz58+LOb9nnnlGWIzNysoSZKg+I/ManUNFfqhL2XiHtzcQYOrq3UbV06cNKESEgwMjwAgEDIGQkR8szmKtH4a6sCqLPX7Y6ycDyKpt27byUpwx5IiNjRXPlC9fnt59913dfU8XoSQ/tEsOf+H7w2MYE5WjDGFp0CNUfJMRyA8CISO//FQ6L8+GkvxQ36hEh7tLMfyNT6e6A5e4b4aqCYZpLN4Z4h4rvsMI5BEBJr88ApeXx+S8n3p2W46qCYZ9wLmvuM3KNxgBRsB/BJj8/McsX09U6pWz+FmSoNsCQYDCKCrOhYmG65cHuX2ObzACjIBXBJj8vEJkfoa567EAOkcJgnnAzza4MXow6MYc24A8B2h+Z3CJEYsAk18Iu15KfvJ8Z083ypAhJYhgGYYDI8AImIYAk59pUOatIEl86tlrSYPgIInXBXrFiTMwAh4QYPLzAE6wbtVOynF+LobDicb7lUV95v9vC5ymDClMlMTrAYPVT/ye8EKAyc8i/fnt7otiLaBqDab3PMUajFpPSH0aATqVIVCMDGQiVGHiOCPgCQEmP0/ohOCeOvyVccNqQBGirgeUZAifwRwYAUbAKwJMfl4hCn6GmMQvKMqpDYYkWK7XUveV+HamQ+IT5FeY6PDhnLwgRyyRge8Q7B/mwAgwAhoCTH4aFNaKNHtvHcESjJT+sBym2pBs/yoJ4pMSIc4YGovhcVGij9v4VxbnZgTCDAEmP4t3qLYnOCHdYR06MdO/GkMhIhwouRChqi0eXsa/Mjk3IxAGCDD52aATNekvQb87xO+qj67sGAJjODxU8ZciJUJIhyDKj+71u2h+gBGwGwJMfjbpsQMHiGISMzXfIJAIMSzuMGtT/lugDo21eGEiGFoddXv+y+cSGAELIsDkZ8FO8VQlzPsZSYKenvHp3oAbHWQnyE8ZIkMqlGHcf4nerymv+MwI2BoBJj+bdp8RAVbs7ed8oKe2w5gqFCbq0hltfaHT9SaGyO/qXQt4KpLvMQJWQoDJz0q94WddJm094FwY7dAKY1kMhsafbdznZ0k+ZocUqA2LlbiYM+S9xz6iyNksggCTn0U6Ij/VKJOwlKLVZTEJix2Wo3t72CaX1xfObukwsS+IUBkegxTVAKkQQ+lIDFhXKf9RCOmZ/zFY8TNg8rNir+SxTkIh4qIRxvpAKEbKJQSACFHPJV0dGuQkhfxAepqECIIEEToVKHlsmy0eQxu1diuSsUyb2tgWzYiUSjL5hVlPt5iyhWISnYYS4vVLY8S+YZBhz6zAtnrwTZ5JIPnmwL4/GKULBRF2zyjbCSe3cLQbUh+IMKmoQ4kkF5ur9cI/BMyhLuyipnI8iAgw+QUR7GC/KmPzYSqbmOXcKqfsFsEyGUiI8eni/tLvzweuatAOi2GgUwLEj14NYr4QZFGEaEysesda8TmPOof7sh1OyQ7Epob3q6lXOXFV6htXXf/PQZLl9JY5+TkWcASY/AIOsXVeULZXJsUkYK2gKxFijnCxkBgDXltVezy1vgsJOPcii2EiJCdlKB3winl4AchbDl1l3UBYkNySSnh40MOtJFjodlrkUcsGmY6+08ODfMssBJj8zELSZuWU772MopVF09rSGRBjYgZV7L0sOC0SPopdycUpVWHoKIOcTwM54MC1GFoWIppyn8yVv/N7dzqGsSAjdTgLwsY7xVC1ENEfP+fvPa5PJ92SoyDBu9cMysmB4fXIyjnXHDMNASY/06C0b0GPz9hOUYnOobCqMMH8YEImnTl/MXiNG3CTY3gJYhtWOue9gnwMlAggC9xTAyQyHCgj8w31Tu44JDfkU6UvUWaIpM6xNfR1BOGKujnPg8NgvlTfwpBdhZT8/vnnH/rmm2/oxx9/1DksDwQaofbbG4g2BaLMmD7LncPinKGxGCbDtFa8B9NagaiMa5mDQIww4a9IYiAHDB/V4EpkIg/Iw0XjrBGLQqpCqixCNKmBWmJo4hvHOvdiK/WTxIx6prBEmJ+OCRn5bdmyhYoXL06VK1emokWL0j333EN//vmn27Zs3LiRChQooDtuuOEGt/ldbzD5uSLi+Trzm0NCK4y5QJ1lGdgZTMykB97307yW59eZd3fuizlDSJCiKxGqc46Q+MS8G+buFK2tebUxr6RJ9RTSd7YrWZlvHHwL0bBbzXtfBJQUEvK7fPkylS9fnt5++20B8blz56h69erUtWtXt5CD/K644gq3973dYPLzhpD7+5UGrKYoMT+YIw3KOcKoXpl017CV7h+2wp3k4o6hNBQXw26xQo3yV4dPX3Jox9VSdFKsc4g8qATRrk/UXBxXEAgJ+a1YsUJIcMePH9eqMmXKFCpSpIjb4S+TnwZVyCL/XrwspEHsJsmlMdbSMiimV4AWVIes5TZ4sZGUK6VeSLgcciEQEvKbNGkS3XbbbbrKbN68ORchqhk2bdokJL/777+fWrduTUlJSXTkyBE1i8c4S34e4fH7ZpuPtgolicP5em6JUEiGIERIjIFeVO137cP4gfSujiG8GM47JUCsoZRhUHGn5tqpFBoaRbT3C3k3os4hIb/k5GSKi4vTAb1v3z5Bfjt27NCly4sffviBnnrqKcrKyqKJEydSxYoVqXDhwnQAhu4MwtChQ3Xzg5gvbNDAApPYBnUNh6QHhq2iqJ4ZDonQZR2hHCLjjHWGNQetDocm26MNywcQZSfn1FU3PFbmROXcZ07OsI+FhPzGjBlDt9+uN5L53XffCbLas2ePT6CfPHmSihUrRv379zfMf/bsWcKwWh4TJkygli15Bb0hWAFIbJCc7ZkMnesJo3stCcDbuUi3COxcRDSsjGMpkOtQGddqAFFiydDUpmpq2MRDQn5paWkETS0UHzIsW7ZMkN/p06dlktczhr/PPvus13zIwMNen2AKWCZJhmKYnEsylMPmTOq60FjyD1jFuGCiNaOIBpdwHBIPEJ6cMxTLa5ya8Ql1iWY+JnPZ+hwS8sNc3dVXX02rVq3SwOvWrRvVrVtXu/YWAUlGR0dTv379vGUV95n8fIIpKJmOHSMxF4hhsHTRqQ2NxcLqxRTdM4PK8VxhUPrD8CUrBjrWVIrF5c65Q5UMJzXMeWzc3USj44i++TgnzQaxkJAfcHnttdcoJiaG5s6dS5gDBBlmZuZYIkZaqVKlNAjj4+PprbfeosmTJ9P48ePFnB+0wwcPHtTyeIow+XlCJ7T3yvdaqvNPohGhttskk7CkxuiISVhC5RIzKKpPJlXsn0X1hq6iNxdsp2OnAmisIbRwhebtWDIzuhIRls9geHz825x6CIJ0mT9Muonog9pE+607vxsy8rt06ZKYr2vUqBFBg7to0aIcMIkoOzubRo4cqaVNnz6dkFcebdu2JV/nB1EIk58GpaUjrcatpagEh0ku1+U0uUlRb7LLjPuQRCv15XlIvz6S/sVyFpar0qEYLivziD9vIfr8Nb+KDmTmkJFfIBtlVDaTnxEq1k+LScgSGmRpggsEJ3adiHnDxU4L1o51h8KjnSYt5pMY4xdT01FrrA+QlWp4+jeiaS2IBpd0zBdCIhykLCp/r2rOPKJQtuB+CaKUqkQrk/LeklMHiPZnE+2YS7R2DNGSRCIsBJ/ZVl/m+HpESTcTDShG1L8odbyrIKWkpOjz5PGqQB6fC8pjTH5BgdnWL7k3ZZUgU7mdD8ZfQbRvzv3G1u2yTOU/qOteQoSUuEfZOw4Sy+hONO9ZotTWRBMaEKVUJxpRgWhJQk6TEHeVNtXrX7/PyTuivC5vx+rXMvnloMMxRoAott8y3Q4WMfzumUGfbTvB8JiFwNJeRKNARjBS4ZwvVMtGukpianxK85yca0Y48kGaG3Qz0dCyRCMrEqXUIPqwIdFJxZnX7iyinfOJ9q0m+nU38bA3B0aOMQI6BGISl+gdQwm3AFl0MY8Wvir1/0JosWMS06lCoHyq6Fpg4wtIfQs7O4awK5OJvhpL9M0Mop0LBHGZ0TImPzNQ5DLCGgEx7whrNs75RAyFyya6V4rM23KMbod2Wskvn9WfHXOWd/QLsE+VsO6dvDeOyS/v2PGTEYQA7LkKLbSyQBvD4aiEJRSdsEQzBisJT09yDuWLdk8YgXBRyAify+lUc6DFLeSEUZ8z+YVRZ3JTAo/AjG0HKSYBe5hdyEvRMgtFiVCWQGGCI4ue+GiTrnILfzhCkCjhRErvcxmuRtMFmd4/JmcTgO5hvjAFASY/U2DkQiINgeenbyVs1XNohB2+kaOEy9Al1HvxTr/gOHTynBhGGxGhkCATM+npiZtFmTPWH6Zhi3fRm3O3U8ep66llylfUdPRaajB0JdVIWknVkr6gygOW0p19M6lC3yyq0CeDKvTOpJie6VQuIZPKJYK0MwTxOuoLp1YZzh03SM+kagPdD+n9apjFMzP5WbyDuHrWRmDbYffWx/NS820H/qBop7tRzC0aDZ+DkiaG9IsFcY5Z7puxkby0N5TPMPmFEn1+NyPgAYFdv/xJUT0dihM5zJa7XgQxOofMYi5RziM61ybKNDGkxjylP4cB6Yr5zfh0ajjC/znJ56dtprgBX1CMcIngXJAen07lEzOowfBV9FbaNjpw8pwHJAJzi8kvMLhyqYyAqQhk/xS8NYYwtvT4hK+onNN1gZEECjKs2CeLpq7bL9p56swF6vTxZqoGksPQGiTslB59kVQFuUPpk5BOVfplUYsxX9LwrD106lwe1xX5gD6Tnw8gcRZGIJIR+OPsv1Rr0DKHBR5F262RmlGaqgCSc6Px6XRH7yz6b/JyajE2mzpM2kjVk5aJeUgp0WplKs8jDcYrGo9aRd0/2U59Fu6kYUt20+JtvltyN+o/Jj8jVDiNEWAEDBGAVDj+y5+EMkVKd5KwHJptx7C2fO8savzuSpr99WHDcowSdx49Ta/O2ky1hyyj26E88qBRl+/EWUqm5Xqm0x29MqjqgCVUL3k5PTh2Lb2Uupnczcsy+Rn1AqcxAoyATwj8fuY8NRq5hmZ+/bNP+f3NdPqfC/T2vB10z9AVdGefLKoMDXYvp9UfF+lQJUQ13nfhd4avZfIzhIUTGQFGwC4IQDE0c+NB6r/oO3p+2tfUMiWb6g5ZQbH9lgiidDc8ZvKzSw9zPRkBRsBUBJj8TIWTC2MEGAG7IMDkZ5ee4noyAoyAqQgw+ZkKJxfGCDACdkGAyc8uPcX1ZAQYAVMRYPIzFU4ujBFgBOyCQMSQ39ChQ6lChQrCY1z//v35zBjwNxDh30C1atUI/sLNCJZ2YASfvyVLlgybD/7ll1+m4sWLh017EhISqECBAmHTHvyDvf7666lz585h06YyZcrQ008/HTbtiY6OpieffNIM7iNLk1+4eW/btGmTkGRN6TkLFPLHH38I8rNAVUyrQokSJfzyLW3aiwNUUN26dSkzMzNApQe/2IgZ9jL5Bf/j8ueNTH7+oBWavEx+7nFnyc89NqbfYcnPdEhNL5AlP9MhNbXAiJH8li9fTvHx8aaCF8rCvv/+ezH/Eso6mPnuM2fOUNu2bc0sMuRlPfzww3T4sO9WTUJeYS8VeP3112nDhg1ectnn9uDBg2nBggWmVNjSkp8pLeRCGAFGgBEwQIDJzwAUTmIEGIHwR4DJL/z7mFvICDACBggw+RmAwkmMACMQ/ghYlvyOHDlCU6ZMoVGjRoXFhC0mnQcOHCjadODAgbD5ss6ePUurVq2iH3/80fZtQhuSk5NpwIABtHTpUvr7779t3aZ169aJ38+sWbPo999/t11bjh8/Lr6t/fsdDpdcG3Do0CGaNGkSvfvuu7R5s8NHsmseT9eWJD98hDfffDM1a9aMoK0qVKgQTZ482VM7LH0Pa62uueYauvfeewnxK664giZMmGDpOvtaOezCwS6PN99809dHLJlv9erV9J///Ed8aw0aNKBKlSrRRx99ZMm6eqvUxYsXqU2bNnTHHXeInR2vvvoq3XDDDYJIvD1rhfu//PILYWcKvisc/fr1y1WtXbt2id1SLVu2pNdee03szMG6YH+CJcmvQ4cO1Lx5c60daFThwoUJUoYdw6effkp//fWXVvW+ffvSddddR//884+WZscIpFl8pCB0bAmza/j333+pXLly1Lt3bwJxyIBF3HYMX3zxhSCNffv2adV/5plnqGnTptq1lSMnT56kGTNm0M6dO+nuu+82JD8sSXrkkUe0ZkycOJFuuukmv35TliO/S5cu0dVXX01z5szRGnb+/Hm69tprad68eVqanSPbt28XH6c7cd4ObUOfVKxYkbAWExK6nSW/qVOnUtmyZQnfXjiEJUuW0JVXXqlrD4byDRs2tF3zateuTX369NHVG0IQJMLFixdr6adPn6arrrrKr618liM/iLxo2Ndff601DBFYdxk9erQuza4X7733Ht166612rb6oNz5IGGpAsDv5QWpt3LgxtWrVSnx7UVFRNGjQILoMn482DBcuXKBatWpRjx49xFB30aJFQrLF2W7BiPwwLQaO+O47vYe30qVLEyRAX4PlyA8NQsN++OEHXRuMQNBlsMnFZ599RgULFvTrP5TVmobhCKxr4L8tgt3J77HHHhOjjfbt29OxY8coKyuLihUrRjCpZtfw8ccfi3mw2NhYcb7vvvvIjsN4o989tomCI37+We96E/O0/vSZ5cgPHx8atnHjRt13hyEWtDp2DrCuAdF87ty5tm0G5sRq1KghhruyEXYnv5deeknMwWK7ngyQ/GJiYuSlrc5btmwRc+SYXkHA3PILL7xAjz/+uK3agcoakd/evXsFR+CfsBowmvrwww/VJI9xy5Gf0ZwfOs/uc374ECFNfPLJJx47xOo3MYmOf05GB/rIjgHzYZjzUwOUbFBK2TFgP3z9+vV1VZfzgFDu2CkYkZ+c81OH8XLOLyMjw+fmWY78UHNoe1u0aKE1Ah9ikSJFbKvt3bFjB8FaiJ0lPtkZWPuGdX3qUbNmTWHgYM2aNTKbrc579uwRErm6/vKNN94Qw3lbNcRZ2WHDhhHmv86dO6dVH6MmLHexWzAiP7ShdevWOqMaWO9ne20vGoaPEWSB4RTW+aHT7LwurlSpUlS0aFFq1KiR7gAphkOw+7AXffDOO+9QlSpVxLo4aK6x5s+uZA6rNPjNYBgoSRxrS2F52y7hwQcfFL8VLHHD/DJ+O9gkIMO3335LN954I2GdH9YxYh4dy2P8CZaU/NCAgwcPis6CCW4sQLVzwCSskQ8StDEcAj66cLAWPH/+fDEv9uKLL+aac7ZbP+HbgkYeJIL5PihA7LSUBzttXH8zrlNGmPvr3r07Pfvss7R27Vq/u8iy5Od3S/gBRoARYAT8QIDJzw+wOCsjwAiEDwJMfuHTl9wSRoAR8AMBJj8/wOKsjAAjED4IMPmFT19ySxgBRsAPBJj8/ACLszICjED4IMDkFz59yS1hBBgBPxBg8vMDLM5qLwSwx/WDDz6wV6W5tkFDgMkvaFDzi4KNANwgVK1aNdiv5ffZBAEmP5t0FFfTfwSY/PzHLJKeYPKLpN4OQVuxT7tLly5iDya2IsFkmQwwt/78889TdnY2PfDAA8LvhOv+TBgUxb7uRx99lNq1a0fTpk2Tj2vnr776SuzvxB5jbOfCNQLyVq9endavXy8MZaCMtLQ07TmORDYCTH6R3f8BbT28h8GgQ7du3QhGXGEwANZG4JULITU1VTihgUEBxEeOHCkMb44dO1arFzbmY4M+pLhx48bRLbfcIowQyAywlAPnULBaDLNNMG0Ob2UIID8YyACxglSHDBkiNvzDpwoHRoDJj7+BgCEAL2hJSUm68mE1GQ6cEEBIsAuoGqUcP368IDjch/tSWCNRDVvAgAJ8vPz222+iDFjMGT58uIi7/oFvDlj7UB1fwXDpc88955qVryMQASa/COz0YDQZFkRgFqpatWo6M17wj4HhKwLID+SlBrgvACFieJyeni6M2Kr3YUka1rBXrlxJsL+HvLDuYRTgehJSpRpgLUT1DKje43hkIcDkF1n9HbTWgvxgCXnEiBE6w6cwgirtGIL84PpSDdJE+dGjRwX5wZ6bGjAHCMlvxYoVGvm584JnpPCAeTH4s+DACDD58TcQMASaNGki7K25ewHm+SDFqeSFNMwLIshhrzoshnIE5HfixAnhXa1kyZIEK75GgcnPCBVOkwgw+Ukk+Gw6Aps3bxZ+S6CokGbvQVQYziKoCo+ZM2cKhUehQoXo/fff1+pipPBQLRLDSKeq8EDZcHuAwOSnwcgRAwSY/AxA4STzEMC8HJa4wNw4TJHD16+cowP5YU7uyy+/1Ja6IE0NGObCF6unpS6w4otymzZtSg899JC21AXKEVhlVgOIEZphDowAkx9/AyFDAHN+8LXKgREIBQJMfqFAnd8pEGDy4w8hlAgw+YUS/Qh/97Zt28TC5QiHgZsfIgSY/EIEPL+WEWAEQosAk19o8ee3MwKMQIgQYPILEfD8WkaAEQgtAkx+ocWf384IMAIhQoDJL0TA82sZAUYgtAgw+YUWf347I8AIhAgBJr8QAc+vZQQYgdAiwOQXWvz57YwAIxAiBJj8QgQ8v5YRYARCi8D/A+AlEIJSV217AAAAAElFTkSuQmCC)\n",
        "\n",
        "-정답 그림"
      ],
      "metadata": {
        "id": "4r33fUqbjXZb"
      }
    },
    {
      "cell_type": "markdown",
      "source": [
        "## Prediction"
      ],
      "metadata": {
        "id": "DhuJdA3Xjg7J"
      }
    },
    {
      "cell_type": "markdown",
      "source": [
        "어떤 방식으로 prediction 및 사진이 나오는지 확인해주세요"
      ],
      "metadata": {
        "id": "BXsRqUmPjkQ6"
      }
    },
    {
      "cell_type": "code",
      "source": [
        "X, y = next(iter(data.val_dataloader())) # 검증 데이터 로더에서 첫 배치의 데이터를 가져옴\n",
        "preds = model(X).argmax(axis=1) # 예측 수행 / 가장 높은 확률의 인덱스 반환\n",
        "preds.shape"
      ],
      "metadata": {
        "id": "NKzhRVAMjqEs",
        "colab": {
          "base_uri": "https://localhost:8080/"
        },
        "outputId": "1ccf26d6-70b9-4fd8-e60e-d152748f3def"
      },
      "execution_count": 19,
      "outputs": [
        {
          "output_type": "execute_result",
          "data": {
            "text/plain": [
              "torch.Size([256])"
            ]
          },
          "metadata": {},
          "execution_count": 19
        }
      ]
    },
    {
      "cell_type": "code",
      "source": [
        "wrong = preds.type(y.dtype) != y # y와 데이터 타입 맞춤 / 잘못 예측된 항목의 인덱스 찾기\n",
        "X, y, preds = X[wrong], y[wrong], preds[wrong] # wrong 데이터 불러오기\n",
        "labels = [a+'\\n'+b for a, b in zip(\n",
        "    data.text_labels(y), data.text_labels(preds))] # 실제-예측 순으로 레이블 문자열 프린트\n",
        "data.visualize([X, y], labels=labels) # 시각화"
      ],
      "metadata": {
        "id": "psJ8OI7Ojqno",
        "colab": {
          "base_uri": "https://localhost:8080/",
          "height": 194
        },
        "outputId": "b09985ed-741c-4b58-e68d-cb92eea04d83"
      },
      "execution_count": 20,
      "outputs": [
        {
          "output_type": "display_data",
          "data": {
            "text/plain": [
              "<Figure size 1200x150 with 8 Axes>"
            ],
            "image/svg+xml": "<?xml version=\"1.0\" encoding=\"utf-8\" standalone=\"no\"?>\n<!DOCTYPE svg PUBLIC \"-//W3C//DTD SVG 1.1//EN\"\n  \"http://www.w3.org/Graphics/SVG/1.1/DTD/svg11.dtd\">\n<svg xmlns:xlink=\"http://www.w3.org/1999/xlink\" width=\"684pt\" height=\"114.189543pt\" viewBox=\"0 0 684 114.189543\" xmlns=\"http://www.w3.org/2000/svg\" version=\"1.1\">\n <metadata>\n  <rdf:RDF xmlns:dc=\"http://purl.org/dc/elements/1.1/\" xmlns:cc=\"http://creativecommons.org/ns#\" xmlns:rdf=\"http://www.w3.org/1999/02/22-rdf-syntax-ns#\">\n   <cc:Work>\n    <dc:type rdf:resource=\"http://purl.org/dc/dcmitype/StillImage\"/>\n    <dc:date>2024-07-17T08:43:53.891332</dc:date>\n    <dc:format>image/svg+xml</dc:format>\n    <dc:creator>\n     <cc:Agent>\n      <dc:title>Matplotlib v3.7.2, https://matplotlib.org/</dc:title>\n     </cc:Agent>\n    </dc:creator>\n   </cc:Work>\n  </rdf:RDF>\n </metadata>\n <defs>\n  <style type=\"text/css\">*{stroke-linejoin: round; stroke-linecap: butt}</style>\n </defs>\n <g id=\"figure_1\">\n  <g id=\"patch_1\">\n   <path d=\"M 0 114.189543 \nL 684 114.189543 \nL 684 -0 \nL 0 -0 \nz\n\" style=\"fill: #ffffff\"/>\n  </g>\n  <g id=\"axes_1\">\n   <g id=\"patch_2\">\n    <path d=\"M 7.2 106.989543 \nL 78.434043 106.989543 \nL 78.434043 35.7555 \nL 7.2 35.7555 \nz\n\" style=\"fill: #ffffff\"/>\n   </g>\n   <g clip-path=\"url(#p1dd24d9720)\">\n    <image xlink:href=\"data:image/png;base64,\niVBORw0KGgoAAAANSUhEUgAAAGMAAABjCAYAAACPO76VAAAFUUlEQVR4nO2cTW8bVRSGZzzjr9jGdtKGNCGhokQiTVlUgCLYgliCQIh/wF9gV6Fu+AFsoIsukLpCQqKiCBCLLlAF5UOiVLSkITSF0oakTXDs2I49H+zuue8NE0ol0rN4n9U5Pndmbv3mnnvmzNT+C/5rqUdUkHvQEyACxVAExVAExVAExVAExVAExVAExVAExVAExVAExVAExVAExVAExVAExVAExVAExVAExVAExVAExVAExVAExVAExVAExVAExVAExVAExVBEGE48DB9cPXHY2PlN1GowFouTT/BMQxnrl2MI1RpdYyepD7F8IGPjBK8XxeLncvhKcLW0Y+zUOWdvkAe/XBhmxjqdkszbuUbOFz+OcW5pqyDj+nj9gvW9Na/h91T94GsvC64MRVAMRVAMRfjHzp6ARPnV0+8b+621BRi8MagYu5bvQ+xQoWXsX3sHILb4l+xL4yNtiIW+s/dYRKn8rfRjzPU7UfiP4zzP87pDHAvHDUPwO9uyZwShk9/Lsi8drHQg1ij0jO1+Fz1rruVgCLHj1d+M/e6plyHGlaEIiqEI/9nP34Q0NT9629gXPjwOg7tzsmzDYgQxu2SNu5gK9pLcLidzBSyJ83nxkwTLx2gYyFzycWbM8zwvsecT43lsgq5TvlpuUsFrFOryXTRrXYi1tsvGLhcHEHv18CVjz5VuQYwrQxEUQxEUQxHhHytYhp6cPWvsL+aOQqxckxJuZ6UGseId0TXFlO31D0m+TZ02Smqn8z7uNbD3OHuGnfv99RKEigOn5YLVNBBJte6V17AdYv874gKWy2kofrtUxanV5Dyb41janguPGfv6KH73XBmKoBiKCB/9GJfm8y9JSglXCxCLboqfNDHddI9ICRe0MN2ELdE8KWIKiSvZd+DBthwX9PC4xMoag7rTbcVq0ktzcmxSwLFDK6UkIf5t5jDD4PWLYkdlJ72F4hdWMb35UxK7/N6TeL3sy5H9hmIogmIoIhzUsA493ZowdjS5A7HZqTVjzzVWIXZta9zY1Twed6tTF3txHGL1n2R/cRu4fiL5tT+Ge0ZodSCKK3jcThPH2m2NwHkqZ/v2/uF5nhdXZULu0zx7DyvdwdhDN+Q8I7exoxu+Le2mpLsMMa4MRVAMRVAMRYTFTWyFX+4+Yuyc8+RrtS0tkOsXpyEWWC0It87vPiYfPPPUEsRqC7K/nP92HmLFCdkY0qvYcihuWrm+6uwnPXC93kHJ4cNRpxXelJyeW6pA7MAFOe/olzchFv2O/r2SfVfFlaEKiqGIsHxxKTMYd/BWfuScdEenvl/HwX+KH7e2IOQHUj63n3gcYt+90TB2cXIbj7skaXHuRZzn4mezxnbbIY35u+C3bzSNXV3GVs30J5Km4is/ellEmRHP80PnyWZgt3sxLaZR9pm4MhRBMRRBMRThuz8yvPXpEWPnT43B4PJH3/yvkwnOT4K/+MOMsXPO0zu7VeG+oF1ax7FTZ36W4+5uZF7fzf2pk+/vmfT+freZK0MRFEMRoftB43XpzCbtZTdsyNXwhYS018sYiexV2m2cngE/XbCewjljK5PylsH0O3jLHy/+gv4e89lVlsIE9vdn4rkyFEExFEExFLErYSbtPd74uo9x/4X6Gfz/bu2Z54zdP4p70uQrV4z9rwWob5W6zj6w1x6233BlKIJiKGLXHTh5cHBlKIJiKIJiKIJiKIJiKIJiKIJiKIJiKIJiKIJiKIJiKIJiKIJiKIJiKIJiKIJiKIJiKIJiKIJiKIJiKIJiKIJiKIJiKIJiKIJiKIJiKIJiKIJiKIJiKIJiKIJiKOJv/fRtiyaMmuMAAAAASUVORK5CYII=\" id=\"image562be04d09\" transform=\"scale(1 -1) translate(0 -71.28)\" x=\"7.2\" y=\"-35.709543\" width=\"71.28\" height=\"71.28\"/>\n   </g>\n   <g id=\"patch_3\">\n    <path d=\"M 7.2 106.989543 \nL 7.2 35.7555 \n\" style=\"fill: none; stroke: #000000; stroke-width: 0.8; stroke-linejoin: miter; stroke-linecap: square\"/>\n   </g>\n   <g id=\"patch_4\">\n    <path d=\"M 78.434043 106.989543 \nL 78.434043 35.7555 \n\" style=\"fill: none; stroke: #000000; stroke-width: 0.8; stroke-linejoin: miter; stroke-linecap: square\"/>\n   </g>\n   <g id=\"patch_5\">\n    <path d=\"M 7.2 106.989543 \nL 78.434043 106.989543 \n\" style=\"fill: none; stroke: #000000; stroke-width: 0.8; stroke-linejoin: miter; stroke-linecap: square\"/>\n   </g>\n   <g id=\"patch_6\">\n    <path d=\"M 7.2 35.7555 \nL 78.434043 35.7555 \n\" style=\"fill: none; stroke: #000000; stroke-width: 0.8; stroke-linejoin: miter; stroke-linecap: square\"/>\n   </g>\n   <g id=\"text_1\">\n    <!-- sneaker -->\n    <g transform=\"translate(19.104834 16.318125) scale(0.12 -0.12)\">\n     <defs>\n      <path id=\"DejaVuSans-73\" d=\"M 2834 3397 \nL 2834 2853 \nQ 2591 2978 2328 3040 \nQ 2066 3103 1784 3103 \nQ 1356 3103 1142 2972 \nQ 928 2841 928 2578 \nQ 928 2378 1081 2264 \nQ 1234 2150 1697 2047 \nL 1894 2003 \nQ 2506 1872 2764 1633 \nQ 3022 1394 3022 966 \nQ 3022 478 2636 193 \nQ 2250 -91 1575 -91 \nQ 1294 -91 989 -36 \nQ 684 19 347 128 \nL 347 722 \nQ 666 556 975 473 \nQ 1284 391 1588 391 \nQ 1994 391 2212 530 \nQ 2431 669 2431 922 \nQ 2431 1156 2273 1281 \nQ 2116 1406 1581 1522 \nL 1381 1569 \nQ 847 1681 609 1914 \nQ 372 2147 372 2553 \nQ 372 3047 722 3315 \nQ 1072 3584 1716 3584 \nQ 2034 3584 2315 3537 \nQ 2597 3491 2834 3397 \nz\n\" transform=\"scale(0.015625)\"/>\n      <path id=\"DejaVuSans-6e\" d=\"M 3513 2113 \nL 3513 0 \nL 2938 0 \nL 2938 2094 \nQ 2938 2591 2744 2837 \nQ 2550 3084 2163 3084 \nQ 1697 3084 1428 2787 \nQ 1159 2491 1159 1978 \nL 1159 0 \nL 581 0 \nL 581 3500 \nL 1159 3500 \nL 1159 2956 \nQ 1366 3272 1645 3428 \nQ 1925 3584 2291 3584 \nQ 2894 3584 3203 3211 \nQ 3513 2838 3513 2113 \nz\n\" transform=\"scale(0.015625)\"/>\n      <path id=\"DejaVuSans-65\" d=\"M 3597 1894 \nL 3597 1613 \nL 953 1613 \nQ 991 1019 1311 708 \nQ 1631 397 2203 397 \nQ 2534 397 2845 478 \nQ 3156 559 3463 722 \nL 3463 178 \nQ 3153 47 2828 -22 \nQ 2503 -91 2169 -91 \nQ 1331 -91 842 396 \nQ 353 884 353 1716 \nQ 353 2575 817 3079 \nQ 1281 3584 2069 3584 \nQ 2775 3584 3186 3129 \nQ 3597 2675 3597 1894 \nz\nM 3022 2063 \nQ 3016 2534 2758 2815 \nQ 2500 3097 2075 3097 \nQ 1594 3097 1305 2825 \nQ 1016 2553 972 2059 \nL 3022 2063 \nz\n\" transform=\"scale(0.015625)\"/>\n      <path id=\"DejaVuSans-61\" d=\"M 2194 1759 \nQ 1497 1759 1228 1600 \nQ 959 1441 959 1056 \nQ 959 750 1161 570 \nQ 1363 391 1709 391 \nQ 2188 391 2477 730 \nQ 2766 1069 2766 1631 \nL 2766 1759 \nL 2194 1759 \nz\nM 3341 1997 \nL 3341 0 \nL 2766 0 \nL 2766 531 \nQ 2569 213 2275 61 \nQ 1981 -91 1556 -91 \nQ 1019 -91 701 211 \nQ 384 513 384 1019 \nQ 384 1609 779 1909 \nQ 1175 2209 1959 2209 \nL 2766 2209 \nL 2766 2266 \nQ 2766 2663 2505 2880 \nQ 2244 3097 1772 3097 \nQ 1472 3097 1187 3025 \nQ 903 2953 641 2809 \nL 641 3341 \nQ 956 3463 1253 3523 \nQ 1550 3584 1831 3584 \nQ 2591 3584 2966 3190 \nQ 3341 2797 3341 1997 \nz\n\" transform=\"scale(0.015625)\"/>\n      <path id=\"DejaVuSans-6b\" d=\"M 581 4863 \nL 1159 4863 \nL 1159 1991 \nL 2875 3500 \nL 3609 3500 \nL 1753 1863 \nL 3688 0 \nL 2938 0 \nL 1159 1709 \nL 1159 0 \nL 581 0 \nL 581 4863 \nz\n\" transform=\"scale(0.015625)\"/>\n      <path id=\"DejaVuSans-72\" d=\"M 2631 2963 \nQ 2534 3019 2420 3045 \nQ 2306 3072 2169 3072 \nQ 1681 3072 1420 2755 \nQ 1159 2438 1159 1844 \nL 1159 0 \nL 581 0 \nL 581 3500 \nL 1159 3500 \nL 1159 2956 \nQ 1341 3275 1631 3429 \nQ 1922 3584 2338 3584 \nQ 2397 3584 2469 3576 \nQ 2541 3569 2628 3553 \nL 2631 2963 \nz\n\" transform=\"scale(0.015625)\"/>\n     </defs>\n     <use xlink:href=\"#DejaVuSans-73\"/>\n     <use xlink:href=\"#DejaVuSans-6e\" x=\"52.099609\"/>\n     <use xlink:href=\"#DejaVuSans-65\" x=\"115.478516\"/>\n     <use xlink:href=\"#DejaVuSans-61\" x=\"177.001953\"/>\n     <use xlink:href=\"#DejaVuSans-6b\" x=\"238.28125\"/>\n     <use xlink:href=\"#DejaVuSans-65\" x=\"292.566406\"/>\n     <use xlink:href=\"#DejaVuSans-72\" x=\"354.089844\"/>\n    </g>\n    <!-- sandal -->\n    <g transform=\"translate(23.059209 29.7555) scale(0.12 -0.12)\">\n     <defs>\n      <path id=\"DejaVuSans-64\" d=\"M 2906 2969 \nL 2906 4863 \nL 3481 4863 \nL 3481 0 \nL 2906 0 \nL 2906 525 \nQ 2725 213 2448 61 \nQ 2172 -91 1784 -91 \nQ 1150 -91 751 415 \nQ 353 922 353 1747 \nQ 353 2572 751 3078 \nQ 1150 3584 1784 3584 \nQ 2172 3584 2448 3432 \nQ 2725 3281 2906 2969 \nz\nM 947 1747 \nQ 947 1113 1208 752 \nQ 1469 391 1925 391 \nQ 2381 391 2643 752 \nQ 2906 1113 2906 1747 \nQ 2906 2381 2643 2742 \nQ 2381 3103 1925 3103 \nQ 1469 3103 1208 2742 \nQ 947 2381 947 1747 \nz\n\" transform=\"scale(0.015625)\"/>\n      <path id=\"DejaVuSans-6c\" d=\"M 603 4863 \nL 1178 4863 \nL 1178 0 \nL 603 0 \nL 603 4863 \nz\n\" transform=\"scale(0.015625)\"/>\n     </defs>\n     <use xlink:href=\"#DejaVuSans-73\"/>\n     <use xlink:href=\"#DejaVuSans-61\" x=\"52.099609\"/>\n     <use xlink:href=\"#DejaVuSans-6e\" x=\"113.378906\"/>\n     <use xlink:href=\"#DejaVuSans-64\" x=\"176.757812\"/>\n     <use xlink:href=\"#DejaVuSans-61\" x=\"240.234375\"/>\n     <use xlink:href=\"#DejaVuSans-6c\" x=\"301.513672\"/>\n    </g>\n   </g>\n  </g>\n  <g id=\"axes_2\">\n   <g id=\"patch_7\">\n    <path d=\"M 92.680851 106.989543 \nL 163.914894 106.989543 \nL 163.914894 35.7555 \nL 92.680851 35.7555 \nz\n\" style=\"fill: #ffffff\"/>\n   </g>\n   <g clip-path=\"url(#pcdca32007d)\">\n    <image xlink:href=\"data:image/png;base64,\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\" id=\"imageb8839f10dd\" transform=\"scale(1 -1) translate(0 -71.28)\" x=\"92.680851\" y=\"-35.709543\" width=\"71.28\" height=\"71.28\"/>\n   </g>\n   <g id=\"patch_8\">\n    <path d=\"M 92.680851 106.989543 \nL 92.680851 35.7555 \n\" style=\"fill: none; stroke: #000000; stroke-width: 0.8; stroke-linejoin: miter; stroke-linecap: square\"/>\n   </g>\n   <g id=\"patch_9\">\n    <path d=\"M 163.914894 106.989543 \nL 163.914894 35.7555 \n\" style=\"fill: none; stroke: #000000; stroke-width: 0.8; stroke-linejoin: miter; stroke-linecap: square\"/>\n   </g>\n   <g id=\"patch_10\">\n    <path d=\"M 92.680851 106.989543 \nL 163.914894 106.989543 \n\" style=\"fill: none; stroke: #000000; stroke-width: 0.8; stroke-linejoin: miter; stroke-linecap: square\"/>\n   </g>\n   <g id=\"patch_11\">\n    <path d=\"M 92.680851 35.7555 \nL 163.914894 35.7555 \n\" style=\"fill: none; stroke: #000000; stroke-width: 0.8; stroke-linejoin: miter; stroke-linecap: square\"/>\n   </g>\n   <g id=\"text_2\">\n    <!-- sandal -->\n    <g transform=\"translate(108.54006 16.318125) scale(0.12 -0.12)\">\n     <use xlink:href=\"#DejaVuSans-73\"/>\n     <use xlink:href=\"#DejaVuSans-61\" x=\"52.099609\"/>\n     <use xlink:href=\"#DejaVuSans-6e\" x=\"113.378906\"/>\n     <use xlink:href=\"#DejaVuSans-64\" x=\"176.757812\"/>\n     <use xlink:href=\"#DejaVuSans-61\" x=\"240.234375\"/>\n     <use xlink:href=\"#DejaVuSans-6c\" x=\"301.513672\"/>\n    </g>\n    <!-- sneaker -->\n    <g transform=\"translate(104.585685 29.7555) scale(0.12 -0.12)\">\n     <use xlink:href=\"#DejaVuSans-73\"/>\n     <use xlink:href=\"#DejaVuSans-6e\" x=\"52.099609\"/>\n     <use xlink:href=\"#DejaVuSans-65\" x=\"115.478516\"/>\n     <use xlink:href=\"#DejaVuSans-61\" x=\"177.001953\"/>\n     <use xlink:href=\"#DejaVuSans-6b\" x=\"238.28125\"/>\n     <use xlink:href=\"#DejaVuSans-65\" x=\"292.566406\"/>\n     <use xlink:href=\"#DejaVuSans-72\" x=\"354.089844\"/>\n    </g>\n   </g>\n  </g>\n  <g id=\"axes_3\">\n   <g id=\"patch_12\">\n    <path d=\"M 178.161702 106.989543 \nL 249.395745 106.989543 \nL 249.395745 35.7555 \nL 178.161702 35.7555 \nz\n\" style=\"fill: #ffffff\"/>\n   </g>\n   <g clip-path=\"url(#pc92dabb50d)\">\n    <image xlink:href=\"data:image/png;base64,\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\" id=\"image8b90569a39\" transform=\"scale(1 -1) translate(0 -71.28)\" x=\"178.161702\" y=\"-35.709543\" width=\"71.28\" height=\"71.28\"/>\n   </g>\n   <g id=\"patch_13\">\n    <path d=\"M 178.161702 106.989543 \nL 178.161702 35.7555 \n\" style=\"fill: none; stroke: #000000; stroke-width: 0.8; stroke-linejoin: miter; stroke-linecap: square\"/>\n   </g>\n   <g id=\"patch_14\">\n    <path d=\"M 249.395745 106.989543 \nL 249.395745 35.7555 \n\" style=\"fill: none; stroke: #000000; stroke-width: 0.8; stroke-linejoin: miter; stroke-linecap: square\"/>\n   </g>\n   <g id=\"patch_15\">\n    <path d=\"M 178.161702 106.989543 \nL 249.395745 106.989543 \n\" style=\"fill: none; stroke: #000000; stroke-width: 0.8; stroke-linejoin: miter; stroke-linecap: square\"/>\n   </g>\n   <g id=\"patch_16\">\n    <path d=\"M 178.161702 35.7555 \nL 249.395745 35.7555 \n\" style=\"fill: none; stroke: #000000; stroke-width: 0.8; stroke-linejoin: miter; stroke-linecap: square\"/>\n   </g>\n   <g id=\"text_3\">\n    <!-- ankle boot -->\n    <g transform=\"translate(182.055598 16.318125) scale(0.12 -0.12)\">\n     <defs>\n      <path id=\"DejaVuSans-20\" transform=\"scale(0.015625)\"/>\n      <path id=\"DejaVuSans-62\" d=\"M 3116 1747 \nQ 3116 2381 2855 2742 \nQ 2594 3103 2138 3103 \nQ 1681 3103 1420 2742 \nQ 1159 2381 1159 1747 \nQ 1159 1113 1420 752 \nQ 1681 391 2138 391 \nQ 2594 391 2855 752 \nQ 3116 1113 3116 1747 \nz\nM 1159 2969 \nQ 1341 3281 1617 3432 \nQ 1894 3584 2278 3584 \nQ 2916 3584 3314 3078 \nQ 3713 2572 3713 1747 \nQ 3713 922 3314 415 \nQ 2916 -91 2278 -91 \nQ 1894 -91 1617 61 \nQ 1341 213 1159 525 \nL 1159 0 \nL 581 0 \nL 581 4863 \nL 1159 4863 \nL 1159 2969 \nz\n\" transform=\"scale(0.015625)\"/>\n      <path id=\"DejaVuSans-6f\" d=\"M 1959 3097 \nQ 1497 3097 1228 2736 \nQ 959 2375 959 1747 \nQ 959 1119 1226 758 \nQ 1494 397 1959 397 \nQ 2419 397 2687 759 \nQ 2956 1122 2956 1747 \nQ 2956 2369 2687 2733 \nQ 2419 3097 1959 3097 \nz\nM 1959 3584 \nQ 2709 3584 3137 3096 \nQ 3566 2609 3566 1747 \nQ 3566 888 3137 398 \nQ 2709 -91 1959 -91 \nQ 1206 -91 779 398 \nQ 353 888 353 1747 \nQ 353 2609 779 3096 \nQ 1206 3584 1959 3584 \nz\n\" transform=\"scale(0.015625)\"/>\n      <path id=\"DejaVuSans-74\" d=\"M 1172 4494 \nL 1172 3500 \nL 2356 3500 \nL 2356 3053 \nL 1172 3053 \nL 1172 1153 \nQ 1172 725 1289 603 \nQ 1406 481 1766 481 \nL 2356 481 \nL 2356 0 \nL 1766 0 \nQ 1100 0 847 248 \nQ 594 497 594 1153 \nL 594 3053 \nL 172 3053 \nL 172 3500 \nL 594 3500 \nL 594 4494 \nL 1172 4494 \nz\n\" transform=\"scale(0.015625)\"/>\n     </defs>\n     <use xlink:href=\"#DejaVuSans-61\"/>\n     <use xlink:href=\"#DejaVuSans-6e\" x=\"61.279297\"/>\n     <use xlink:href=\"#DejaVuSans-6b\" x=\"124.658203\"/>\n     <use xlink:href=\"#DejaVuSans-6c\" x=\"182.568359\"/>\n     <use xlink:href=\"#DejaVuSans-65\" x=\"210.351562\"/>\n     <use xlink:href=\"#DejaVuSans-20\" x=\"271.875\"/>\n     <use xlink:href=\"#DejaVuSans-62\" x=\"303.662109\"/>\n     <use xlink:href=\"#DejaVuSans-6f\" x=\"367.138672\"/>\n     <use xlink:href=\"#DejaVuSans-6f\" x=\"428.320312\"/>\n     <use xlink:href=\"#DejaVuSans-74\" x=\"489.501953\"/>\n    </g>\n    <!-- sneaker -->\n    <g transform=\"translate(190.066536 29.7555) scale(0.12 -0.12)\">\n     <use xlink:href=\"#DejaVuSans-73\"/>\n     <use xlink:href=\"#DejaVuSans-6e\" x=\"52.099609\"/>\n     <use xlink:href=\"#DejaVuSans-65\" x=\"115.478516\"/>\n     <use xlink:href=\"#DejaVuSans-61\" x=\"177.001953\"/>\n     <use xlink:href=\"#DejaVuSans-6b\" x=\"238.28125\"/>\n     <use xlink:href=\"#DejaVuSans-65\" x=\"292.566406\"/>\n     <use xlink:href=\"#DejaVuSans-72\" x=\"354.089844\"/>\n    </g>\n   </g>\n  </g>\n  <g id=\"axes_4\">\n   <g id=\"patch_17\">\n    <path d=\"M 263.642553 106.989543 \nL 334.876596 106.989543 \nL 334.876596 35.7555 \nL 263.642553 35.7555 \nz\n\" style=\"fill: #ffffff\"/>\n   </g>\n   <g clip-path=\"url(#pee5d151a13)\">\n    <image xlink:href=\"data:image/png;base64,\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\" id=\"imageef0712acbd\" transform=\"scale(1 -1) translate(0 -71.28)\" x=\"263.642553\" y=\"-35.709543\" width=\"71.28\" height=\"71.28\"/>\n   </g>\n   <g id=\"patch_18\">\n    <path d=\"M 263.642553 106.989543 \nL 263.642553 35.7555 \n\" style=\"fill: none; stroke: #000000; stroke-width: 0.8; stroke-linejoin: miter; stroke-linecap: square\"/>\n   </g>\n   <g id=\"patch_19\">\n    <path d=\"M 334.876596 106.989543 \nL 334.876596 35.7555 \n\" style=\"fill: none; stroke: #000000; stroke-width: 0.8; stroke-linejoin: miter; stroke-linecap: square\"/>\n   </g>\n   <g id=\"patch_20\">\n    <path d=\"M 263.642553 106.989543 \nL 334.876596 106.989543 \n\" style=\"fill: none; stroke: #000000; stroke-width: 0.8; stroke-linejoin: miter; stroke-linecap: square\"/>\n   </g>\n   <g id=\"patch_21\">\n    <path d=\"M 263.642553 35.7555 \nL 334.876596 35.7555 \n\" style=\"fill: none; stroke: #000000; stroke-width: 0.8; stroke-linejoin: miter; stroke-linecap: square\"/>\n   </g>\n   <g id=\"text_4\">\n    <!-- coat -->\n    <g transform=\"translate(286.260199 16.318125) scale(0.12 -0.12)\">\n     <defs>\n      <path id=\"DejaVuSans-63\" d=\"M 3122 3366 \nL 3122 2828 \nQ 2878 2963 2633 3030 \nQ 2388 3097 2138 3097 \nQ 1578 3097 1268 2742 \nQ 959 2388 959 1747 \nQ 959 1106 1268 751 \nQ 1578 397 2138 397 \nQ 2388 397 2633 464 \nQ 2878 531 3122 666 \nL 3122 134 \nQ 2881 22 2623 -34 \nQ 2366 -91 2075 -91 \nQ 1284 -91 818 406 \nQ 353 903 353 1747 \nQ 353 2603 823 3093 \nQ 1294 3584 2113 3584 \nQ 2378 3584 2631 3529 \nQ 2884 3475 3122 3366 \nz\n\" transform=\"scale(0.015625)\"/>\n     </defs>\n     <use xlink:href=\"#DejaVuSans-63\"/>\n     <use xlink:href=\"#DejaVuSans-6f\" x=\"54.980469\"/>\n     <use xlink:href=\"#DejaVuSans-61\" x=\"116.162109\"/>\n     <use xlink:href=\"#DejaVuSans-74\" x=\"177.441406\"/>\n    </g>\n    <!-- pullover -->\n    <g transform=\"translate(274.933324 29.7555) scale(0.12 -0.12)\">\n     <defs>\n      <path id=\"DejaVuSans-70\" d=\"M 1159 525 \nL 1159 -1331 \nL 581 -1331 \nL 581 3500 \nL 1159 3500 \nL 1159 2969 \nQ 1341 3281 1617 3432 \nQ 1894 3584 2278 3584 \nQ 2916 3584 3314 3078 \nQ 3713 2572 3713 1747 \nQ 3713 922 3314 415 \nQ 2916 -91 2278 -91 \nQ 1894 -91 1617 61 \nQ 1341 213 1159 525 \nz\nM 3116 1747 \nQ 3116 2381 2855 2742 \nQ 2594 3103 2138 3103 \nQ 1681 3103 1420 2742 \nQ 1159 2381 1159 1747 \nQ 1159 1113 1420 752 \nQ 1681 391 2138 391 \nQ 2594 391 2855 752 \nQ 3116 1113 3116 1747 \nz\n\" transform=\"scale(0.015625)\"/>\n      <path id=\"DejaVuSans-75\" d=\"M 544 1381 \nL 544 3500 \nL 1119 3500 \nL 1119 1403 \nQ 1119 906 1312 657 \nQ 1506 409 1894 409 \nQ 2359 409 2629 706 \nQ 2900 1003 2900 1516 \nL 2900 3500 \nL 3475 3500 \nL 3475 0 \nL 2900 0 \nL 2900 538 \nQ 2691 219 2414 64 \nQ 2138 -91 1772 -91 \nQ 1169 -91 856 284 \nQ 544 659 544 1381 \nz\nM 1991 3584 \nL 1991 3584 \nz\n\" transform=\"scale(0.015625)\"/>\n      <path id=\"DejaVuSans-76\" d=\"M 191 3500 \nL 800 3500 \nL 1894 563 \nL 2988 3500 \nL 3597 3500 \nL 2284 0 \nL 1503 0 \nL 191 3500 \nz\n\" transform=\"scale(0.015625)\"/>\n     </defs>\n     <use xlink:href=\"#DejaVuSans-70\"/>\n     <use xlink:href=\"#DejaVuSans-75\" x=\"63.476562\"/>\n     <use xlink:href=\"#DejaVuSans-6c\" x=\"126.855469\"/>\n     <use xlink:href=\"#DejaVuSans-6c\" x=\"154.638672\"/>\n     <use xlink:href=\"#DejaVuSans-6f\" x=\"182.421875\"/>\n     <use xlink:href=\"#DejaVuSans-76\" x=\"243.603516\"/>\n     <use xlink:href=\"#DejaVuSans-65\" x=\"302.783203\"/>\n     <use xlink:href=\"#DejaVuSans-72\" x=\"364.306641\"/>\n    </g>\n   </g>\n  </g>\n  <g id=\"axes_5\">\n   <g id=\"patch_22\">\n    <path d=\"M 349.123404 106.989543 \nL 420.357447 106.989543 \nL 420.357447 35.7555 \nL 349.123404 35.7555 \nz\n\" style=\"fill: #ffffff\"/>\n   </g>\n   <g clip-path=\"url(#p00b4097ed0)\">\n    <image xlink:href=\"data:image/png;base64,\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\" id=\"image0b0d69e55e\" transform=\"scale(1 -1) translate(0 -71.28)\" x=\"349.123404\" y=\"-35.709543\" width=\"71.28\" height=\"71.28\"/>\n   </g>\n   <g id=\"patch_23\">\n    <path d=\"M 349.123404 106.989543 \nL 349.123404 35.7555 \n\" style=\"fill: none; stroke: #000000; stroke-width: 0.8; stroke-linejoin: miter; stroke-linecap: square\"/>\n   </g>\n   <g id=\"patch_24\">\n    <path d=\"M 420.357447 106.989543 \nL 420.357447 35.7555 \n\" style=\"fill: none; stroke: #000000; stroke-width: 0.8; stroke-linejoin: miter; stroke-linecap: square\"/>\n   </g>\n   <g id=\"patch_25\">\n    <path d=\"M 349.123404 106.989543 \nL 420.357447 106.989543 \n\" style=\"fill: none; stroke: #000000; stroke-width: 0.8; stroke-linejoin: miter; stroke-linecap: square\"/>\n   </g>\n   <g id=\"patch_26\">\n    <path d=\"M 349.123404 35.7555 \nL 420.357447 35.7555 \n\" style=\"fill: none; stroke: #000000; stroke-width: 0.8; stroke-linejoin: miter; stroke-linecap: square\"/>\n   </g>\n   <g id=\"text_5\">\n    <!-- dress -->\n    <g transform=\"translate(368.656676 16.318125) scale(0.12 -0.12)\">\n     <use xlink:href=\"#DejaVuSans-64\"/>\n     <use xlink:href=\"#DejaVuSans-72\" x=\"63.476562\"/>\n     <use xlink:href=\"#DejaVuSans-65\" x=\"102.339844\"/>\n     <use xlink:href=\"#DejaVuSans-73\" x=\"163.863281\"/>\n     <use xlink:href=\"#DejaVuSans-73\" x=\"215.962891\"/>\n    </g>\n    <!-- coat -->\n    <g transform=\"translate(371.741051 29.7555) scale(0.12 -0.12)\">\n     <use xlink:href=\"#DejaVuSans-63\"/>\n     <use xlink:href=\"#DejaVuSans-6f\" x=\"54.980469\"/>\n     <use xlink:href=\"#DejaVuSans-61\" x=\"116.162109\"/>\n     <use xlink:href=\"#DejaVuSans-74\" x=\"177.441406\"/>\n    </g>\n   </g>\n  </g>\n  <g id=\"axes_6\">\n   <g id=\"patch_27\">\n    <path d=\"M 434.604255 106.989543 \nL 505.838298 106.989543 \nL 505.838298 35.7555 \nL 434.604255 35.7555 \nz\n\" style=\"fill: #ffffff\"/>\n   </g>\n   <g clip-path=\"url(#p139462f12e)\">\n    <image xlink:href=\"data:image/png;base64,\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\" id=\"image85d3c51783\" transform=\"scale(1 -1) translate(0 -71.28)\" x=\"434.604255\" y=\"-35.709543\" width=\"71.28\" height=\"71.28\"/>\n   </g>\n   <g id=\"patch_28\">\n    <path d=\"M 434.604255 106.989543 \nL 434.604255 35.7555 \n\" style=\"fill: none; stroke: #000000; stroke-width: 0.8; stroke-linejoin: miter; stroke-linecap: square\"/>\n   </g>\n   <g id=\"patch_29\">\n    <path d=\"M 505.838298 106.989543 \nL 505.838298 35.7555 \n\" style=\"fill: none; stroke: #000000; stroke-width: 0.8; stroke-linejoin: miter; stroke-linecap: square\"/>\n   </g>\n   <g id=\"patch_30\">\n    <path d=\"M 434.604255 106.989543 \nL 505.838298 106.989543 \n\" style=\"fill: none; stroke: #000000; stroke-width: 0.8; stroke-linejoin: miter; stroke-linecap: square\"/>\n   </g>\n   <g id=\"patch_31\">\n    <path d=\"M 434.604255 35.7555 \nL 505.838298 35.7555 \n\" style=\"fill: none; stroke: #000000; stroke-width: 0.8; stroke-linejoin: miter; stroke-linecap: square\"/>\n   </g>\n   <g id=\"text_6\">\n    <!-- shirt -->\n    <g transform=\"translate(456.807527 16.318125) scale(0.12 -0.12)\">\n     <defs>\n      <path id=\"DejaVuSans-68\" d=\"M 3513 2113 \nL 3513 0 \nL 2938 0 \nL 2938 2094 \nQ 2938 2591 2744 2837 \nQ 2550 3084 2163 3084 \nQ 1697 3084 1428 2787 \nQ 1159 2491 1159 1978 \nL 1159 0 \nL 581 0 \nL 581 4863 \nL 1159 4863 \nL 1159 2956 \nQ 1366 3272 1645 3428 \nQ 1925 3584 2291 3584 \nQ 2894 3584 3203 3211 \nQ 3513 2838 3513 2113 \nz\n\" transform=\"scale(0.015625)\"/>\n      <path id=\"DejaVuSans-69\" d=\"M 603 3500 \nL 1178 3500 \nL 1178 0 \nL 603 0 \nL 603 3500 \nz\nM 603 4863 \nL 1178 4863 \nL 1178 4134 \nL 603 4134 \nL 603 4863 \nz\n\" transform=\"scale(0.015625)\"/>\n     </defs>\n     <use xlink:href=\"#DejaVuSans-73\"/>\n     <use xlink:href=\"#DejaVuSans-68\" x=\"52.099609\"/>\n     <use xlink:href=\"#DejaVuSans-69\" x=\"115.478516\"/>\n     <use xlink:href=\"#DejaVuSans-72\" x=\"143.261719\"/>\n     <use xlink:href=\"#DejaVuSans-74\" x=\"184.375\"/>\n    </g>\n    <!-- t-shirt -->\n    <g transform=\"translate(452.290652 29.7555) scale(0.12 -0.12)\">\n     <defs>\n      <path id=\"DejaVuSans-2d\" d=\"M 313 2009 \nL 1997 2009 \nL 1997 1497 \nL 313 1497 \nL 313 2009 \nz\n\" transform=\"scale(0.015625)\"/>\n     </defs>\n     <use xlink:href=\"#DejaVuSans-74\"/>\n     <use xlink:href=\"#DejaVuSans-2d\" x=\"39.208984\"/>\n     <use xlink:href=\"#DejaVuSans-73\" x=\"75.292969\"/>\n     <use xlink:href=\"#DejaVuSans-68\" x=\"127.392578\"/>\n     <use xlink:href=\"#DejaVuSans-69\" x=\"190.771484\"/>\n     <use xlink:href=\"#DejaVuSans-72\" x=\"218.554688\"/>\n     <use xlink:href=\"#DejaVuSans-74\" x=\"259.667969\"/>\n    </g>\n   </g>\n  </g>\n  <g id=\"axes_7\">\n   <g id=\"patch_32\">\n    <path d=\"M 520.085106 106.989543 \nL 591.319149 106.989543 \nL 591.319149 35.7555 \nL 520.085106 35.7555 \nz\n\" style=\"fill: #ffffff\"/>\n   </g>\n   <g clip-path=\"url(#pce3c8b51a9)\">\n    <image xlink:href=\"data:image/png;base64,\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\" id=\"image85e3f95bef\" transform=\"scale(1 -1) translate(0 -71.28)\" x=\"520.085106\" y=\"-35.709543\" width=\"71.28\" height=\"71.28\"/>\n   </g>\n   <g id=\"patch_33\">\n    <path d=\"M 520.085106 106.989543 \nL 520.085106 35.7555 \n\" style=\"fill: none; stroke: #000000; stroke-width: 0.8; stroke-linejoin: miter; stroke-linecap: square\"/>\n   </g>\n   <g id=\"patch_34\">\n    <path d=\"M 591.319149 106.989543 \nL 591.319149 35.7555 \n\" style=\"fill: none; stroke: #000000; stroke-width: 0.8; stroke-linejoin: miter; stroke-linecap: square\"/>\n   </g>\n   <g id=\"patch_35\">\n    <path d=\"M 520.085106 106.989543 \nL 591.319149 106.989543 \n\" style=\"fill: none; stroke: #000000; stroke-width: 0.8; stroke-linejoin: miter; stroke-linecap: square\"/>\n   </g>\n   <g id=\"patch_36\">\n    <path d=\"M 520.085106 35.7555 \nL 591.319149 35.7555 \n\" style=\"fill: none; stroke: #000000; stroke-width: 0.8; stroke-linejoin: miter; stroke-linecap: square\"/>\n   </g>\n   <g id=\"text_7\">\n    <!-- dress -->\n    <g transform=\"translate(539.618378 16.318125) scale(0.12 -0.12)\">\n     <use xlink:href=\"#DejaVuSans-64\"/>\n     <use xlink:href=\"#DejaVuSans-72\" x=\"63.476562\"/>\n     <use xlink:href=\"#DejaVuSans-65\" x=\"102.339844\"/>\n     <use xlink:href=\"#DejaVuSans-73\" x=\"163.863281\"/>\n     <use xlink:href=\"#DejaVuSans-73\" x=\"215.962891\"/>\n    </g>\n    <!-- coat -->\n    <g transform=\"translate(542.702753 29.7555) scale(0.12 -0.12)\">\n     <use xlink:href=\"#DejaVuSans-63\"/>\n     <use xlink:href=\"#DejaVuSans-6f\" x=\"54.980469\"/>\n     <use xlink:href=\"#DejaVuSans-61\" x=\"116.162109\"/>\n     <use xlink:href=\"#DejaVuSans-74\" x=\"177.441406\"/>\n    </g>\n   </g>\n  </g>\n  <g id=\"axes_8\">\n   <g id=\"patch_37\">\n    <path d=\"M 605.565957 106.989543 \nL 676.8 106.989543 \nL 676.8 35.7555 \nL 605.565957 35.7555 \nz\n\" style=\"fill: #ffffff\"/>\n   </g>\n   <g clip-path=\"url(#p8c72748f74)\">\n    <image xlink:href=\"data:image/png;base64,\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\" id=\"image91180fac8e\" transform=\"scale(1 -1) translate(0 -71.28)\" x=\"605.565957\" y=\"-35.709543\" width=\"71.28\" height=\"71.28\"/>\n   </g>\n   <g id=\"patch_38\">\n    <path d=\"M 605.565957 106.989543 \nL 605.565957 35.7555 \n\" style=\"fill: none; stroke: #000000; stroke-width: 0.8; stroke-linejoin: miter; stroke-linecap: square\"/>\n   </g>\n   <g id=\"patch_39\">\n    <path d=\"M 676.8 106.989543 \nL 676.8 35.7555 \n\" style=\"fill: none; stroke: #000000; stroke-width: 0.8; stroke-linejoin: miter; stroke-linecap: square\"/>\n   </g>\n   <g id=\"patch_40\">\n    <path d=\"M 605.565957 106.989543 \nL 676.8 106.989543 \n\" style=\"fill: none; stroke: #000000; stroke-width: 0.8; stroke-linejoin: miter; stroke-linecap: square\"/>\n   </g>\n   <g id=\"patch_41\">\n    <path d=\"M 605.565957 35.7555 \nL 676.8 35.7555 \n\" style=\"fill: none; stroke: #000000; stroke-width: 0.8; stroke-linejoin: miter; stroke-linecap: square\"/>\n   </g>\n   <g id=\"text_8\">\n    <!-- pullover -->\n    <g transform=\"translate(616.856729 16.318125) scale(0.12 -0.12)\">\n     <use xlink:href=\"#DejaVuSans-70\"/>\n     <use xlink:href=\"#DejaVuSans-75\" x=\"63.476562\"/>\n     <use xlink:href=\"#DejaVuSans-6c\" x=\"126.855469\"/>\n     <use xlink:href=\"#DejaVuSans-6c\" x=\"154.638672\"/>\n     <use xlink:href=\"#DejaVuSans-6f\" x=\"182.421875\"/>\n     <use xlink:href=\"#DejaVuSans-76\" x=\"243.603516\"/>\n     <use xlink:href=\"#DejaVuSans-65\" x=\"302.783203\"/>\n     <use xlink:href=\"#DejaVuSans-72\" x=\"364.306641\"/>\n    </g>\n    <!-- shirt -->\n    <g transform=\"translate(627.769229 29.7555) scale(0.12 -0.12)\">\n     <use xlink:href=\"#DejaVuSans-73\"/>\n     <use xlink:href=\"#DejaVuSans-68\" x=\"52.099609\"/>\n     <use xlink:href=\"#DejaVuSans-69\" x=\"115.478516\"/>\n     <use xlink:href=\"#DejaVuSans-72\" x=\"143.261719\"/>\n     <use xlink:href=\"#DejaVuSans-74\" x=\"184.375\"/>\n    </g>\n   </g>\n  </g>\n </g>\n <defs>\n  <clipPath id=\"p1dd24d9720\">\n   <rect x=\"7.2\" y=\"35.7555\" width=\"71.234043\" height=\"71.234043\"/>\n  </clipPath>\n  <clipPath id=\"pcdca32007d\">\n   <rect x=\"92.680851\" y=\"35.7555\" width=\"71.234043\" height=\"71.234043\"/>\n  </clipPath>\n  <clipPath id=\"pc92dabb50d\">\n   <rect x=\"178.161702\" y=\"35.7555\" width=\"71.234043\" height=\"71.234043\"/>\n  </clipPath>\n  <clipPath id=\"pee5d151a13\">\n   <rect x=\"263.642553\" y=\"35.7555\" width=\"71.234043\" height=\"71.234043\"/>\n  </clipPath>\n  <clipPath id=\"p00b4097ed0\">\n   <rect x=\"349.123404\" y=\"35.7555\" width=\"71.234043\" height=\"71.234043\"/>\n  </clipPath>\n  <clipPath id=\"p139462f12e\">\n   <rect x=\"434.604255\" y=\"35.7555\" width=\"71.234043\" height=\"71.234043\"/>\n  </clipPath>\n  <clipPath id=\"pce3c8b51a9\">\n   <rect x=\"520.085106\" y=\"35.7555\" width=\"71.234043\" height=\"71.234043\"/>\n  </clipPath>\n  <clipPath id=\"p8c72748f74\">\n   <rect x=\"605.565957\" y=\"35.7555\" width=\"71.234043\" height=\"71.234043\"/>\n  </clipPath>\n </defs>\n</svg>\n"
          },
          "metadata": {}
        }
      ]
    },
    {
      "cell_type": "markdown",
      "source": [
        "# Review"
      ],
      "metadata": {
        "id": "LRyoCNf4keJO"
      }
    },
    {
      "cell_type": "markdown",
      "source": [
        "## Numpy version"
      ],
      "metadata": {
        "id": "Pcm697MulQOh"
      }
    },
    {
      "cell_type": "markdown",
      "source": [
        "### data generation"
      ],
      "metadata": {
        "id": "2RF86q6tk6hB"
      }
    },
    {
      "cell_type": "code",
      "source": [
        "import numpy as np\n",
        "\n",
        "true_b = 1\n",
        "true_w = 2\n",
        "\n",
        "N = 100\n",
        "\n",
        "np.random.seed(42)\n",
        "x = np.random.rand(N,1)  # Uniform\n",
        "epsilon = (0.1 * np.random.randn(N,1))  # standard normal dist  # noise\n",
        "y = true_w * x + true_b +  epsilon"
      ],
      "metadata": {
        "id": "VR4yta0ck6Ah"
      },
      "execution_count": 21,
      "outputs": []
    },
    {
      "cell_type": "markdown",
      "source": [
        "### train-validation split"
      ],
      "metadata": {
        "id": "J1iyP-Zvk8FQ"
      }
    },
    {
      "cell_type": "code",
      "source": [
        "# Shuffles the indices\n",
        "idx = np.arange(N)\n",
        "split_index = int(N * 0.8)\n",
        "\n",
        "train_idx = idx[ : split_index]\n",
        "val_idx = idx[split_index : ]\n",
        "\n",
        "# Generates train and validation sets\n",
        "x_train, y_train = x[train_idx], y[train_idx]\n",
        "x_val, y_val = x[val_idx], y[val_idx]"
      ],
      "metadata": {
        "id": "5OGjmozflB2S"
      },
      "execution_count": 22,
      "outputs": []
    },
    {
      "cell_type": "markdown",
      "source": [
        "### gradient descent for linear regression"
      ],
      "metadata": {
        "id": "JJASKZ0KlCoH"
      }
    },
    {
      "cell_type": "code",
      "source": [
        "# 실행시간을 측정해주는 Decorator 입니다.\n",
        "\n",
        "import time\n",
        "def timer(func):\n",
        "  def wrapper(*args, **kwargs):\n",
        "    start_time = time.time()\n",
        "    result = func(*args, **kwargs)\n",
        "    end_time = time.time()\n",
        "    computation_time = end_time - start_time\n",
        "    print(f\"Execution time of {func.__name__}: {computation_time} seconds\")\n",
        "    return result\n",
        "  return wrapper"
      ],
      "metadata": {
        "id": "QlkWYeM8lFFN"
      },
      "execution_count": 23,
      "outputs": []
    },
    {
      "cell_type": "code",
      "source": [
        "@timer\n",
        "def train_model_numpy(lr = 0.1, epochs = 1000):\n",
        "  # Initialize parameters\n",
        "  b = np.random.randn(1)\n",
        "  w = np.random.randn(1)\n",
        "\n",
        "  for epoch in range(epochs):\n",
        "    # Loss computation\n",
        "    y_hat = b + w * x_train\n",
        "    error = (y_hat - y_train)\n",
        "    mse_loss = np.mean(error**2)\n",
        "\n",
        "    # Gradient computation\n",
        "    b_grad = 2 * np.mean(error)\n",
        "    w_grad = 2 * np.mean(error * x_train)\n",
        "    b = b - lr * b_grad\n",
        "    w = w - lr * w_grad\n",
        "  return b, w\n"
      ],
      "metadata": {
        "id": "Foa0zwNGlHTO"
      },
      "execution_count": 24,
      "outputs": []
    },
    {
      "cell_type": "code",
      "source": [
        "b, w = train_model_numpy()\n",
        "print(\"b_estimate:{}, w_estimate:{}\".format(b,w))"
      ],
      "metadata": {
        "id": "wQ-iW6fMlLDT",
        "colab": {
          "base_uri": "https://localhost:8080/"
        },
        "outputId": "051a21a2-25af-4cf9-c43d-fa0fdaf3c990"
      },
      "execution_count": 25,
      "outputs": [
        {
          "output_type": "stream",
          "name": "stdout",
          "text": [
            "Execution time of train_model_numpy: 0.03640031814575195 seconds\n",
            "b_estimate:[1.02341376], w_estimate:[1.93680725]\n"
          ]
        }
      ]
    },
    {
      "cell_type": "markdown",
      "source": [
        "## Pytorch version"
      ],
      "metadata": {
        "id": "dqig-nhLlURt"
      }
    },
    {
      "cell_type": "markdown",
      "source": [
        "### data generation"
      ],
      "metadata": {
        "id": "UFEbQQUulXop"
      }
    },
    {
      "cell_type": "code",
      "source": [
        "import torch\n",
        "\n",
        "# create tensor at CPU:\n",
        "x_train_tensor = torch.as_tensor(x_train)\n",
        "y_train_tensor = torch.as_tensor(y_train)\n",
        "\n",
        "# create tensor at GPU:\n",
        "device = 'cuda' if torch.cuda.is_available() else 'cpu'\n",
        "x_train_tensor = torch.as_tensor(x_train).to(device)\n",
        "y_train_tensor = torch.as_tensor(y_train).to(device)\n"
      ],
      "metadata": {
        "id": "NG0aeosklacC"
      },
      "execution_count": 26,
      "outputs": []
    },
    {
      "cell_type": "markdown",
      "source": [
        "### gradient descent"
      ],
      "metadata": {
        "id": "Y_iGRe6OlbGO"
      }
    },
    {
      "cell_type": "code",
      "source": [
        "@timer\n",
        "def train_model_torch(lr = 0.1, epochs=1000):\n",
        "  # Initialize parameters\n",
        "  b = torch.randn(1, requires_grad = True, dtype = torch.float, device = device)\n",
        "  w = torch.randn(1, requires_grad = True, dtype = torch.float, device = device)\n",
        "\n",
        "  for epoch in range(epochs):\n",
        "    # Loss computation\n",
        "    y_hat = b + w * x_train_tensor\n",
        "    error = (y_hat - y_train_tensor)\n",
        "    mse_loss = torch.mean(error ** 2)\n",
        "    # Gradient computation and descent\n",
        "    mse_loss.backward()\n",
        "    with torch.no_grad():\n",
        "      b -= lr * b.grad  # in-place operation\n",
        "      w -= lr * w.grad\n",
        "    b.grad.zero_()\n",
        "    w.grad.zero_()\n",
        "  return b, w"
      ],
      "metadata": {
        "id": "DjqBHUuUlcp1"
      },
      "execution_count": 27,
      "outputs": []
    },
    {
      "cell_type": "code",
      "source": [
        "b, w = train_model_torch()\n",
        "print(\"b_estimate:{}, w_estimate:{}\".format(b,w))"
      ],
      "metadata": {
        "id": "GmcHVg4-lgDh",
        "colab": {
          "base_uri": "https://localhost:8080/"
        },
        "outputId": "4f49bc5e-8d04-4fac-8684-1592a354e9a5"
      },
      "execution_count": 28,
      "outputs": [
        {
          "output_type": "stream",
          "name": "stdout",
          "text": [
            "Execution time of train_model_torch: 0.22408223152160645 seconds\n",
            "b_estimate:tensor([1.0234], requires_grad=True), w_estimate:tensor([1.9368], requires_grad=True)\n"
          ]
        }
      ]
    },
    {
      "cell_type": "markdown",
      "source": [
        "### additional -> optimizer를 사용하기 (gradient descent)"
      ],
      "metadata": {
        "id": "3UdY74_Tlg6I"
      }
    },
    {
      "cell_type": "code",
      "source": [
        "import torch.optim as optim\n",
        "import torch.nn as nn\n",
        "\n",
        "@timer\n",
        "def train_model_torch(lr = 0.1, epochs=1000):\n",
        "  # Initialize parameters\n",
        "  b = torch.randn(1, requires_grad = True, dtype = torch.float, device = device)\n",
        "  w = torch.randn(1, requires_grad = True, dtype = torch.float, device = device)\n",
        "  parameters = [b, w]\n",
        "  optimizer = optim.SGD(parameters, lr = lr)\n",
        "  mse_loss = nn.MSELoss()\n",
        "\n",
        "  for epoch in range(epochs):\n",
        "    # Loss computation\n",
        "    y_hat = b + w * x_train_tensor\n",
        "    loss = mse_loss(y_hat, y_train_tensor)\n",
        "    # Gradient computation and descent\n",
        "    loss.backward()\n",
        "    optimizer.step() # 경사하강법 연산, step 한 번을 밟는다!\n",
        "    optimizer.zero_grad()\n",
        "  return b, w"
      ],
      "metadata": {
        "id": "44ZGIGEEll0F"
      },
      "execution_count": 29,
      "outputs": []
    },
    {
      "cell_type": "code",
      "source": [
        "b, w = train_model_torch()\n",
        "print(\"b_estimate:{}, w_estimate:{}\".format(b,w))"
      ],
      "metadata": {
        "id": "kiEc8GL6loVl",
        "colab": {
          "base_uri": "https://localhost:8080/"
        },
        "outputId": "5f142d8b-e86c-4d85-fd5d-f2ddfbaecdb4"
      },
      "execution_count": 30,
      "outputs": [
        {
          "output_type": "stream",
          "name": "stdout",
          "text": [
            "Execution time of train_model_torch: 0.562150239944458 seconds\n",
            "b_estimate:tensor([1.0234], requires_grad=True), w_estimate:tensor([1.9368], requires_grad=True)\n"
          ]
        }
      ]
    }
  ]
}