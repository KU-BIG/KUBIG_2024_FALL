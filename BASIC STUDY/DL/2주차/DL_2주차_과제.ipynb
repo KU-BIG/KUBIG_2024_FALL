{
  "nbformat": 4,
  "nbformat_minor": 0,
  "metadata": {
    "colab": {
      "provenance": [],
      "toc_visible": true
    },
    "kernelspec": {
      "name": "python3",
      "display_name": "Python 3"
    },
    "language_info": {
      "name": "python"
    }
  },
  "cells": [
    {
      "cell_type": "markdown",
      "source": [
        "# Linear Regression"
      ],
      "metadata": {
        "id": "486RhWBobF5N"
      }
    },
    {
      "cell_type": "code",
      "source": [
        "!pip install d2l==1.0.3"
      ],
      "metadata": {
        "id": "_uDTvybmiF9y"
      },
      "execution_count": null,
      "outputs": []
    },
    {
      "cell_type": "code",
      "execution_count": null,
      "metadata": {
        "id": "rEMnFvT1YF3y"
      },
      "outputs": [],
      "source": [
        "%matplotlib inline\n",
        "import torch\n",
        "from d2l import torch as d2l"
      ]
    },
    {
      "cell_type": "markdown",
      "source": [
        "## Defining the Model"
      ],
      "metadata": {
        "id": "3yqK2uaYcGJ-"
      }
    },
    {
      "cell_type": "markdown",
      "source": [
        "- Initialize weights by drawing random numbers from a normal distribution with mean 0 and a standard deviation of 0.01\n",
        "- set bias 0"
      ],
      "metadata": {
        "id": "rHKkJUmbcl1G"
      }
    },
    {
      "cell_type": "code",
      "source": [
        "class LinearRegressionScratch(d2l.Module):\n",
        "    \"\"\"The linear regression model implemented from scratch.\"\"\"\n",
        "    def __init__(self, num_inputs, lr, sigma=0.01):\n",
        "        super().__init__()\n",
        "        self.save_hyperparameters()\n",
        "        self.w = torch.normal(0, sigma, (num_inputs, 1), requires_grad=#채워주세요)\n",
        "        self.b = torch.zeros(1, requires_grad=#채워주세요)"
      ],
      "metadata": {
        "id": "ubDrDSkMbDbz"
      },
      "execution_count": null,
      "outputs": []
    },
    {
      "cell_type": "markdown",
      "source": [
        "- weight **w**, input features **X**, bias **b**(scalar)"
      ],
      "metadata": {
        "id": "w_blRWSAeCv9"
      }
    },
    {
      "cell_type": "code",
      "source": [
        "@d2l.add_to_class(LinearRegressionScratch)\n",
        "def forward(self, X):\n",
        "    return torch.matmul(#채워주세요, #채워주세요) + #채워주세요"
      ],
      "metadata": {
        "id": "KmvWamXvfAy-"
      },
      "execution_count": null,
      "outputs": []
    },
    {
      "cell_type": "markdown",
      "source": [
        "## Defining the Loss Function"
      ],
      "metadata": {
        "id": "7sWSc8J_fw0a"
      }
    },
    {
      "cell_type": "markdown",
      "source": [
        "- transform true value y into the predicted value's shape y_hat\n",
        "- averaged loss value를 최종결과로 return"
      ],
      "metadata": {
        "id": "zgc6mA3ef2rv"
      }
    },
    {
      "cell_type": "code",
      "source": [
        "@d2l.add_to_class(LinearRegressionScratch)\n",
        "def loss(self, y_hat, y):\n",
        "    l = #loss를 정의해주세요(MSE)\n",
        "    return l.mean()"
      ],
      "metadata": {
        "id": "EMcKncYif9hV"
      },
      "execution_count": null,
      "outputs": []
    },
    {
      "cell_type": "markdown",
      "source": [
        "## Defining the Optimization Algorithm"
      ],
      "metadata": {
        "id": "E6Vv5qJAgOJk"
      }
    },
    {
      "cell_type": "markdown",
      "source": [
        "과제는 아니지만, 전체적인 deep learning pipeline을 파악해주세요!"
      ],
      "metadata": {
        "id": "fBvSVrVZgQ2x"
      }
    },
    {
      "cell_type": "code",
      "source": [
        "class SGD(d2l.HyperParameters):\n",
        "    \"\"\"Minibatch stochastic gradient descent.\"\"\"\n",
        "    def __init__(self, params, lr):\n",
        "        self.save_hyperparameters()\n",
        "\n",
        "    def step(self):\n",
        "        for param in self.params:\n",
        "            param -= self.lr * param.grad\n",
        "\n",
        "    def zero_grad(self):\n",
        "        for param in self.params:\n",
        "            if param.grad is not None:\n",
        "                param.grad.zero_()"
      ],
      "metadata": {
        "id": "JU5fctL7gcJB"
      },
      "execution_count": null,
      "outputs": []
    },
    {
      "cell_type": "code",
      "source": [
        "@d2l.add_to_class(LinearRegressionScratch)\n",
        "def configure_optimizers(self):\n",
        "    return SGD([self.w, self.b], self.lr)"
      ],
      "metadata": {
        "id": "Eon2sLJzggSb"
      },
      "execution_count": null,
      "outputs": []
    },
    {
      "cell_type": "markdown",
      "source": [
        "##Training"
      ],
      "metadata": {
        "id": "PrE4pfspgh5t"
      }
    },
    {
      "cell_type": "markdown",
      "source": [
        "* Initialize parameters $(\\mathbf{w}, b)$\n",
        "* Repeat until done\n",
        "    * Compute gradient $\\mathbf{g} \\leftarrow \\partial_{(\\mathbf{w},b)} \\frac{1}{|\\mathcal{B}|} \\sum_{i \\in \\mathcal{B}} l(\\mathbf{x}^{(i)}, y^{(i)}, \\mathbf{w}, b)$\n",
        "    * Update parameters $(\\mathbf{w}, b) \\leftarrow (\\mathbf{w}, b) - \\eta \\mathbf{g}$\n",
        ""
      ],
      "metadata": {
        "id": "pht2Xg-9guyH"
      }
    },
    {
      "cell_type": "code",
      "source": [
        "@d2l.add_to_class(d2l.Trainer)\n",
        "def prepare_batch(self, batch):\n",
        "    return batch\n",
        "\n",
        "@d2l.add_to_class(d2l.Trainer)\n",
        "def fit_epoch(self):\n",
        "    self.model.train()\n",
        "    for batch in self.train_dataloader:\n",
        "        loss = self.model.training_step(self.prepare_batch(batch))\n",
        "        self.optim.zero_grad()\n",
        "        with torch.no_grad():\n",
        "            loss.backward()\n",
        "            if self.gradient_clip_val > 0:  # To be discussed later\n",
        "                self.clip_gradients(self.gradient_clip_val, self.model)\n",
        "            self.optim.step()\n",
        "        self.train_batch_idx += 1\n",
        "    if self.val_dataloader is None:\n",
        "        return\n",
        "    self.model.eval()\n",
        "    for batch in self.val_dataloader:\n",
        "        with torch.no_grad():\n",
        "            self.model.validation_step(self.prepare_batch(batch))\n",
        "        self.val_batch_idx += 1"
      ],
      "metadata": {
        "id": "iPPs6Y_7g3Yx"
      },
      "execution_count": null,
      "outputs": []
    },
    {
      "cell_type": "markdown",
      "source": [
        "loss를 확인해봅시다 !"
      ],
      "metadata": {
        "id": "CRAqKoxwiI4_"
      }
    },
    {
      "cell_type": "code",
      "source": [
        "model = LinearRegressionScratch(2, lr=0.03)\n",
        "data = d2l.SyntheticRegressionData(w=torch.tensor([2, -3.4]), b=4.2)\n",
        "trainer = d2l.Trainer(max_epochs=3)\n",
        "trainer.fit(model, data)"
      ],
      "metadata": {
        "id": "nPCHFS2QhPVP"
      },
      "execution_count": null,
      "outputs": []
    },
    {
      "cell_type": "markdown",
      "source": [
        "![image.png](data:image/png;base64,iVBORw0KGgoAAAANSUhEUgAAAT0AAAD0CAYAAADpC/FVAAAgAElEQVR4Ae1dB3gVRdfG3sECAiqEKoIgUgT9UBFRUYqoCEqxA5/KJyJIEhLS6SC9qaCAIFKEX5LQe5UuXcQAobcAEhCp5/edMJvdzb3J5ubevbP3nnmee7fNzpx5z+67Z9qZfMSBEWAEGIHgQeBqvuApK5eUEWAEGAFi0uOHgBFgBIIKASa9oFI3F5YRYASY9PgZYAQYgaBCgEkvqNTNhWUEGAEmPX4GGAFGIKgQYNILKnVzYRkBRoBJj58BRoARCCoE1CK9SpUqUb58+fjHGPAzwM+A9gxERUV5k5XVIr3//e9/FB8f780CclqMACPgYAT+85//UGJiojdLwKTnTTQ5LUaAEfAuAkx63sWTU2MEGAHFEWDSU1xBLB4jwAh4FwEmPe/iyakxAoyA4ggw6SmuIBbPvwhcuHCBTp06RcePH+efQzBIT0/P9qFh0ssWHtcX42Zuc32BzwYUAiC67du388+BGOzZs8fts8ik5xYa1xdCQpMoJCyJqsXNdR2BzwYEAlevXhVkl5qaSufPnw+IMgVLIf755x/atWsXnThxwmWRmfRcwuL+ZEhosiC94mFJ7iPxFccjgGotrLyzZ886vizBWIBDhw7R/v37XRadSc8lLO5Pdp60UZAerL3WY9a4j8hXHI0ArDuQ3sWLFx1djmAV/vDhw7R3716XxWfScwlL9ieLhWVUcYuHeXVUd/aZ8lVbEWDSsxVur2fGpOflaWhPdlugWXvTN7g2ob2uRU7QVgSCnfR+/vlnmj17tlcw/+abb2jt2rVeSctqIkx6XiY9AI/qrfxZVQTHcw4CTiS9wYMHU48ePbwCcosWLahDhw5eSatGjRo0YsQIr6RlNREmPR+QXpkuGR0aIL5T6dy7Z/VhdEo8J5LeZ599Rq1atVIOYiY9m1XiKy8re078pVl65bom21wqzs7XCDiN9FasWEEgl8cee4xiYmLE78yZM7Rp0yYaMmQIrVy5kurXr0+vv/66gC45OZkaNGhAzz33HH344Yf0yy+/GCA1V28TEhJo586d9PHHH1PdunUpIiKC0tLSDPe4OzCT3rlz54R8kOeDDz6gJUuWGG5dvHgxdezYkZ5//nmqXbu2wUvSvHnzhAVap04dca13796Ge+WB0pbejBkz6IsvvhBAfvnll1Jmw3bcuHFUpkwZuvXWW6lmzZqiV80QIZsDX5EessSwFVh6xUN5+Eo2KnDkJaeR3r59++iNN96gl156iRYtWiR+GHbzww8/0N13303wK/n999+L81AISKVfv37i+McffxRxRo0apenKXL295ZZbqFSpUhQWFkaTJ08W7+GLL76oxc9uR096V65cEcSMHtQpU6ZQdHQ03XzzzTR9+nSRxJYtW+jOO++k0aNHC9nmzp1LgwYNEtfWr19PBQoUoLFjx4praHMcNmyYy6yVJr2PPvqI+vTpQ6+99hrVq1cvSwGWL19ON9xwA02aNIlOnz5N7du3p8KFCxMGIFoJviS9rxfv0qy9lwcYv1ZWZOM46iLgivS2HDit6Vu25/p623/uTssguaregvTw/mCQdXYB1iCsJxnMpAdignUnAwgIznn//vtvecrtVk96eI9vu+028S7LG7p06UKVK1cWhxMnTqTixYsTBoebA4iwfPny5tMuj5UmPSkxyMnVlwNfrzfffFNGo0uXLtFdd90lvlrayWx2fEl6yLZYWGKGtcfDV7LRgvMuuSK9zX4gvX5z8k56JUqUyKIAVHthaBQqVEjzJly6dGktnivSgwUpw19//SXuS0lJkafcbvWkB0vxhRdeMMRduHChSAuGDKb+3XPPPVSlShXq2rWrsAbxziNgwDHe/erVqxM8H8M6vHz5siEteeBo0itZsqRok5CFwfbll18WFp/+nLt9X5Ne0xErtK9/t8St7sTg8w5DwBXpqV4Ed5ZeuXLlDKLDgQKqvLCqUN1EmDBhAoWEhGjxzKR30003EdoNZUCtC5YepnvlFPSkFx4eLtoW9fcgXaQla2+YSdG/f3/65JNP6L777hPtjjI+BhyjWo52yPz581PDhg3lJcPW0aR34403Etoc9KFly5YG609/DV8HVJPlD6Tpa3fxGKSMag4GLXMIDAScSHqhoaHUvHlzgwJQvTWT3rJlywgkpg8gGFQrZfAV6aE9sEiRIhrBIT90Rsjqrcxfbjdv3iwI8dixY/KUtl21apW4ho4Rc3A06aEtwUx677zzjlvSQ0/QTz/9pP1eeeUVn5Neheg5mrW3ce9JM/587EAEnEh63377LT300EOEHk5URWVHhpn0jhw5QuiYwJg+xPvuu+8EMdph6cmOjKeeekpUXdHTDAKWvcdYuwIdKrIzpk2bNsIqRTUWHR+yMwZVYvBA0aJFXT5djiY9d9VbmPJWgq+rt5ABL4hs0C4ZztaeFb2oHseJpIfqYdu2bcVQDgz1gJcR9H6CHMwhKSlJVBsRDx0UIJG33npLi9atWzdDzyja4bZuzWy+gXWFew8cOKDd424Hw1wkqSEO7kXtSw5ZwRAVGUB2cjgK0ofFKavQ6K3FEBucxw/lcudCytGkh8bWpk2bSkxEwyW6rcH4VoIdpAc5SvAMDSvqcEwcJ5KeY8C1QVClSQ+9SGB39NKiVwb7qKvLgOrq9ddfbxiyUrBgQUtd5UjDLtJbuP2wZu09Hj9Pis9bhyLApGddcQcPHhRDYjAsxvyznop3YypNehiQLM1VudWb2YACbRV33HGHaLQsW7asGGVuFSK7SA/yYJAyqrk8WNmqdtSNx6RnXTeNGzemqlWruvydPOmfNm6lSc86tJ7FtJP02NeeZzpS8S4mPRW1Yl0mJj0fOBxwB7+cmsbDV9wh5IzzTHrO0JM7KZn0bCS9F79apLXtsa89d4+k+ueZ9NTXUXYSMunZSHpQhNa2x1PTsnsulb7GpKe0enIUjknPZtIrGzlLs/bY116Oz6eSEZj0lFSLZaGY9GwmveNnzmmk90jXWZYVxRHVQYBJTx1deCIJk57NpAclyRkaPHzFk0fW//cEI+nBjRt81eUUMKMC83zhuEDVwKTnB9KbvGavRnzsa0/VV8O9XMFIer169cri9skVQpjeBq8o7pZYdHWP3eeY9PxAelCy7NDg4St2P/J5z49Jzz2GTHpZsLmaL8spP56wc3CyuZhYDFxWc9nXnhkdtY+dRnrr1q0TruLNi5PDf93w4cMF2DNnzhTz2OFJ+YEHHhA+KeGJRYa8WHpwWID1OeC9BbMz4FlZBnhWgdNPODO97rrrCB5W4AgBAQ5C4Tm5WLFiYrop3MgvXbpU3urxli09P1l60FhIqPS1xwuDe/wE++FGp5EeyA6OQeVaE4AsPT1duG2Sc9nhKBTXMb8d7qfgqfzzzz/X0PWU9LBgEFzAwcML0oeDEHg4hgsrhAEDBlDFihWF52O4gYfHFayNgwD3ViBJ+MvDNSxINGfOHHEtL39Men4kvcrx7GsvLw+vv+51S3oH/7VgYvK7/x1Ylyly4hfu4w2rmRkPe/EFs8Zd0M0YJ4cjEJhc7QxRsci22ZeePonffvtNeCaW5zwlPaxohgWJ9AFOQWFlIrz33nuCCKXbd328Zs2aievu3L7r4+Zmn0nPj6QHRckqbqlwXioyNw+uP+M6kfRAYnDIKXtVn3nmGeGVWOIICw/u1VGVREeE/EnPw56SHqq1cO+uDyA8uRYGqrpw+461L+BgRFqeiI+lKWGh4jrWz1i7dq0+GY/3mfT8THolw2ZqxOexFvlGWxFwS3q2SpH7zB5//HHRhgfnnnDJpnezDmLBkotyLQostwjikySZF9LDamr6gGUbsD6uDFg1DVXXV199VazO1rdvX3lJOBWFt3Osw4s2P3NaWsRc7DDp+Zn04EJeWntV4/LeXpEL3XNUDxFwKulhjVh0BsAzMUhEBhAbCO7PP/+Up8QCO94gPVRvzWtzwMqU1Vstw2s7INcnnnjCfFocgyzhHTmvgUnPz6QHBWpLRfLC4Hl9nm2536mkl5aWRlhMC2tHTJs2zYAV1s/AKmLz588XhIQlH71BeujIgL9L2ZGBJVtRZZUdGWjTQ9V1wYIFBJfvNWvWJLncA9r0IiMjhbv65ORkgqWK3ty8BiY9BUiv98xtmrWHoSwc1EbAqaQHVLGwDhbcMQ9fQdsaOhzgrBfkh/UlEA9lRbA6I+Ps2bNiuIveQSgsyPbt24tVCDt16mRYOwNEB0ej0kkwCFAuEo6FgFDllddQ/TbL7cmTwqSnAOlBcRiknFHN5eErnjzIdt7jZNKzEydV82LSU4T0Xhm4RLP22Neeqq9LhlzBTnq//vorufqh88MJgUlPEdLDwyKnpmH1NA7qIhDMpHfo0CGxPCOWaDT/9IOZ1dUeEZOeQqRXjn3tqfyuaLIFM+lpIDh4x/GkhwGLn376qfjqYA4fvkRWgz/n3rqSEU5F5fCVh7vyYGVXGKlwjklPBS14LoOjSQ/d7hiwOHLkSDFnsHXr1mL0NtbatBJUIz3IXDw0WRAf+9qzokH/xMFE/O3bt2u9jP6RgnP1FIH9+/fTvn37XN6OcYzoNfZi8K6XlUaNGlHLli01+eCxASPL0S1vJahIeujEkNYe+9qzokX74+A5A+nlplZhv5ScoysEMORlx44ddPToUVeXxeBtpUkPAx6bNGmiCY9qB0gvKclaR4CKpIfCyA6NYqFcxdWUq9jO8ePHBfH9/vvvwmEmnGbyT20MUlJShM4wYNqVgwM8YspbenjIqlevTlWqVCEQGEaVY4Q3vsSuAhh86NCh2q9OnTpiSo6ruP48x772/Im+9bwxTxUzCzCQl3/qY5CamiosPHeEB80rT3pr1qyhChUqCEExdaVs2bKEKu/p06ddPrl9+vQR1WFUifErX768kqQH4eXC4NhyYAQYAXsQUJ704GCwY8eOGhrwu/XII49QbGysdi67HVWrt5C5Sre5WtsenBJwYAQYAd8joDzp5c+fn8aMGWNAAp5ZW7RoYTjn7kBl0oPMskOjZDhbe+50yOcZAW8ioDzpwQUNJiRLz6poXylcuDDFxcVZwkF10oNjUUl8lgrEkRgBRiBPCChPetu2bRPuZtA2B08MRYoUEW110ktDTqVXnfR2Hf9LI73KcfNyKg5fZwQYgTwioDzpyfJhMDImQMOtTW6C6qSHssjBylhEiAMjwAj4FgHHkJ6nMDiB9IbM36lZe+xrz1NN832MgDUEmPSs4eTzWMWvLRXJU9N8DjVnEOQIMOkp8gC8MXyZZu2xrz1FlMJiBCQCTHoKqVVOTUNvLgdGgBHwDQJMer7B1aNUH+k6S7P24IKKAyPACHgfASY972PqcYrnzmX62isbOcvjdPhGRoARcI8Ak557bPxypUT4tcWDePiKX/DnTAMfASY9xXQ8b9tBrYrLvvYUUw6LExAIMOkpqMYQ9qysoFZYpEBBgElPQU12mLhes/a6JW5VUEIWiRFwLgJMeorqTi4Mzr72FFUQi+VYBJj0FFXdE93Z156iqmGxHI4Ak57CCpQup0qE8zoaCquJRXMYAkx6CiusTBf2taewelg0hyLApKew4vS+9irFzVFYUhaNEXAOAkx6iutKWzwolOfjKq4qFs8hCDDpKa4o9rWnuIJYPMchwKTnAJUVC0sU4/bgc48DI8AI5A0BJr284WfL3U1HrNAGK49e/qcteXImjECgIsCk5xDNFr9m7YWE8fAVh6iMxVQUAceQ3rJly8QC371796ZVq1ZZhtMJa2RYKUz56Dmatbc/7YyVWzgOI8AIuEDAEaTXr18/ypcvHz344IPaMpC7d+92UZyspwKF9M6fz/S1VyZyZtaC8hlGgBGwhIDypLdz50665ZZbKDk5s1r3zz//EEjASggU0kNZQ6SvPXYnb0X1HIcRcImA8qT37rvvisW9XUpv4WQgkd7C7Ye1Ku7TvRdbKD1HYQQYATMCypNetWrVqFWrVlSxYkW6/vrrxXbGjBnmcmjHx44do9TUVO33/vvvU3x8vHbd6Tty8SAevuJ0TbL8/kJAedIrVKgQ3XDDDdSnTx9KS0ujgQMHiva9FStWuMSsSZMmlD9/fu13++23BxTpdZ60UbP2wqf+5hIDPskIMALuEVCe9EJCQujpp582lKBu3bqEaq+VEEjVW1lenpomkeAtI5B7BJQnvSeffDILwbVt25YaNGhgqbSBSHp1+y3UrL1lO49YwoEjMQKMQAYCypMexuWVLl2arly5IiS+evUqVahQgRISEizpMBBJDwWXbXtYPY0DI8AIWEdAedLD0JRatWpR/fr1KSYmhho3bkwFCxakkydPWiploJJeaZ2vvQsXLljCgiMxAowAkfKkByWB+IYOHUqNGjWijh070uHDhy3rLlBJ7/iZc1oV99HYeZbx4IiMQLAj4AjSy4uSApX0gIl0J495uRwYAUbAGgJMetZwUjLW5DV7NeJ7e6TrITxKCs5CMQJ+RIBJz4/geyNr2aGBLQdGgBHIGQEmvZwxUjrG+9/9qll77GtPaVWxcIogwKSniCLyIkZIKHtWzgt+fG9wIcCkFwD6rhSTuTA4+9oLAIVyEXyKAJOeT+G1J3EM3JY9uQ9HZrrgsid3zoURcBYCTHrO0pdbaUuGzdSIz20kvsAIMALOGJycFz0F8jg9PS5rU9I00num1wL9Jd5nBBgBHQJs6enAcPpuSGiSID4evuJ0TbL8vkSASc+X6NqcdrfELZq1x772bAafs3MMAkx6jlGVNUGLhWVYe8V4YXBrgHGsoEOASS/AVP7CV4s0a4997QWYcrk4XkGASc8rMKqViJyaVrILOyJQSzMsjQoIMOmpoAUvy1AuYpZm7bGvPS+Dy8k5HgEmPcerMGsB9L72KsXMyRqBzzACQYwAk16AKh8+9jBLA4sIcWAEGIFMBJj0MrEIqD32tRdQ6uTCeBEBJj0vgqlaUtpgZbb2VFMNy+NHBJj0/Ai+r7P+cNxarUOjdAQ7IvA13py+MxBg0nOGnjyWslSXjMHKaN8ry8TnMY58Y+Ag4CjSi4qKonz58lHPnj0tayBYHA5kBwjITrqeKhc5M7uofI0RCHgEHEN6mzdvpgceeICKFi3KpOfBY6knvgpRszxIgW9hBAIDAUeQ3uXLl6lKlSo0btw4KleuHJOeh89eyfBMi++x2NkepsK3MQLORsARpNe3b1+qXbu2QJpJL28PXIlrDglQ3a0WPzdvifHdjIADEVCe9Pbs2UP33nsv7d69W8CbE+m1a9eOKleurP0KFy5M8fHxDlSN70TWE1/N7vN8lxGnzAgoiIDypPfss89S7969NehyIj20/S1evFj7NWnShElPQy9zR3ZsYPs0e1rOBIb3Ah4BpUlv9erVdNNNN1HXrl0pJiZG/O677z6qW7cuDRo0yJJyuPfWPUx64qvbb5H7iHyFEQggBJQmvdTUVI3smPS8/9TBA4ue+OoPWuL9TDhFRkAxBJQmPVdY5VS9Nd/Dlp4ZEeNx+jkj8b0xfLkxAh8xAgGGgONI75133qEJEyZYVgOTXs5QnTERXxMmvpxB4xiORcBxpJdbpJn0rCGWlm60+Fp9u8rajRyLEXAYAkx6DlOYL8U9fDrd0MbXZuxaX2bHaTMCfkGASc8vsKub6Z7jRuLrMHGDusKyZIyABwgw6XkAWqDfsvvYGYPFFzZ1U6AXmcsXRAgw6QWRsnNT1O0HTxmILy5xS25u57iMgLIIMOkpqxr/C7ZuT5qB+PrN3uF/oVgCRiCPCDDp5RHAQL99+R/HDMT39eI/Ar3IXL4AR4BJL8AV7I3iLf3jqIH4fliR4fzBG2lzGoyA3Qgw6dmNuEPzm7n5gIH4pq3b59CSsNjBjgCTXrA/AbkoP4hOP1d39paDubibozICaiDApKeGHhwjBaq2euJDmx8HRsBJCDDpOUlbisg6bkWKgfjQy8uBEXAKAkx6TtGUYnKOWPiHgfgwro8DI+AEBJj0nKAlRWXEuD19VXfHodOKSspiMQKZCDDpZWLBex4ggJkaeuLbezzdg1T4FkbAPgSY9OzDOmBzivvFSHxH/jobsGXlgjkfASY95+tQiRKETvnNYPGdTL+ghFwsBCNgRoBJz4wIH3uMQLsJ6w3Ed/YcE5/HYPKNPkOASc9n0AZnwq3HrDEQ38WLF4MTCC61sggw6SmrGucK9sH3qw3E59ySsOSBiACTXiBqVYEyvf31SiY+BfTAImRFQHnSmzp1Kr322mtUu3ZtatGiBX3//feUmyoTLwyUVelePbNrgdvkXh+6TCO+EmFJbuPxBUbATgSUJz0IGBoaSvPnz6c5c+ZQhQoVqHnz5pYxYtKzDFXuIx7cSBSTnyg6P1G/ckR/zs+SBhYQl+P4SoQnZ7nOJxgBuxFQnvTOnjWO+VqzZg3ly5ePDh8+bAkrJj1LMHkWaXyTDNID8Wm/AkTDahAd3a6l+crATOIrG8HEpwHDO35BQHnSM6MiSW/3bmuOLJn0zAh6+XjfaqLB1YliCuiIDyR4F9GeJVpmz/ddqFl85SJnaud5hxGwGwHHkd7LL79MzZo1c4vT2LFjKTIyUvvVqFGD4uPj3cbnC15EANbdyKeJYu8hiv2X+PQhriAlRjekCmFTBPlViJqlv8r7jIBtCDiK9Dp37kyPPfYYnTx50i1Ao0aNoi+//FL7VatWjUnPLVo2Xfi/Tw1W4KKuT1PniE7UKPo7mwTgbBiBTAQcQ3r9+/enAgUK0I4duVuRi6u3mcr26963z2VYgFrbX0Y74OHoEKItk/0qGmceXAg4gvQmT55MBQsWpK1bt+ZaO0x6uYbMtzegx3dwFToSVVxYf6eji1K1hLmZea5n6y8TDN7zBQLKk96ECRPo7rvvpg0bNnhUfiY9j2Cz5abm0YPo/YgE0cb3ZPd5RKdSM6rBGAKTUJhoWmtb5OBMggsB5Unv/vvvF0NUMExF/5s7V2cdZKMzJr1swFHgEjo05Di+LgnxGWP+9FXg6LuI4u4nwvAYDoyAFxBQnvTyWkYmvbwi6Pv79cT3Qv/FREv7EXV7ICsBLu3ve2E4h4BHgEkv4FXsjAKWjZopLL7ioYliW3/w8gzBUcWNK5hR7dUXBdYgzk/5UH+W9xmBHBFg0ssRIo5gFwKlI2dS8bAM0kOVFwRYJmImDV5kGoi+7nvDEBgxDQ6WISxEDoxADggw6eUAEF+2F4F1e09T9W7zBeHJtr7ioRkEWKvXAkpNO58h0MSmGW19aPMztAHmJ1rcx16hOTdHIcCk5yh1BZewPWfvotJdkrWODkGCoYlUKjyJOk76LROMn9tm9Pai1xc/9ALLMKYR0aYJ8oi3jAAx6fFDoDwCx85cpGf7LKQQWHy66i+OK8fNpdW7T2SWwTzOT28JDniUCOMEOQQ1Akx6Qa1+5xX+u2WpBE8tIdc6PDKsvyQqEZ5ETUasosuXdWXaMtVY9ZXVYMwNxgwRDkGJAJNeUKrd+YU+f5Go/pAVVCI0SViAsv0P1l+5qNk0ftX+zELC28uQxzOcIEjiw3b6v3OCOQQdAkx6QafywCvw7G1H6NHo2QbrT1SDQ5Oodp9FdPysblW2o1uIhtXMGO6ihwJeYWABwkuMzhegPgrvBwYCTHqBoUcuxTUE3h29mkqEJ2bp/S3VJZliZ7hxVgFLEP7/9FYg/AMOrU4Ef4EcAgoBJr2AUicXRiKwcf9pejxuPoXoOz6ujf2rGj+fNu4/I6NmbGHdweNzFmeo+XkKnBEpxx8x6TlehVyAnBAI+3kTwdLT2v3CksR+yfAkev/7dcbODyS2bQZRv7KZlt/BdZlZfPUw0eDHuRc4ExHH7THpOU5lLLCnCOxPO09P9VpAGOxsIMDQRKoQPZv+b9PBrEmjB1gf9ENgYu4m+uZ5/VXedwACTHoOUBKL6H0EhixKodKRxqEvsvOj3oCldPpv/diXa/mfSCHq/RCRgfiuLYoUey/R0gHeF5RT9DoCTHpeh5QTdBIC6Rcu04sDlwrLTz/wGftlIpJo4NxdrouT+D+i+ELGDpBJ72bGNVuImVd4z88IMOn5WQGcvToITNl4gB6JmpO18yMskWp0n087j6W7FnZ8Y6L4fz3B6AM6RGARJhQhSv5Cf4X3/YwAk56fFcDZq4cAZnU0HbkqY9yfrv0PXl9KhCXRx+MtePE2V4Fx3CuEyDxNTr3iB7xETHoBr2IuYF4QWLzrOFWKmWMY+IxOkOJhSeJ8+oVL7pOXFqCZAL+u5f4evuJzBJj0fA4xZxAoCHwyfj2VDMs69EX2BAtLMDxJ+ACsGDuLavVcQI2HrqDPJm6kuUM/pZOxJTK8wOyckwkJnCD0LUu0dXrmOd7zKQJMej6FlxMPRAR+P3KGnuiOoS+JGfN+9c4Pro0BlETobotqcpkuyXQ6uog2HvBodHHa0L0OLV8yOxBhU6ZMTHrKqIIFcTICmN+bvOUw9Z71O7Udt54aDllKT3afTxVjZlOZiGQqKcgw0egaKyyJGoYPpuERLelgdEmN/DAdbklULaoT/o1oQ8T970QPoAEJHeirvrE0dMQQmjBlEq1YtYKOHtjrZNj8IrsjSO+vv/6i8ePHU69evWjWrFm5AooXBsoVXBzZxwhcuHSFlqecoGGL/qT2P22gN4avpGf6LKLKcXOodWQC/RTZiE5GFxUE2KpLD20Q9bCIVgZS1M8TPhpdTMTDrJMK0bPoUGxpOhVbjA53q0AH+v6Hjg5vSOkT3idK7kyUsjCzhGkpRCsGE20YR7R9BtGeZURHthCd3k904WxmvADbU570zpw5Q1WqVKGqVatShw4dqHDhwtS+fXvLamDSswwVR1QJgYXdKOXPnTRm5R7qMm0z9R48mKZ3a07JMQ1oSdSztD6qKqVEPUxp0Q/SjqhHNXJEdfps9P1uCXJAdFuqGD1b/NrHJLiNB1LtNGoWffbjBoqYvoWWffMF7Rv0Cu0b9hodHNWSjoxrTfapbxYAABENSURBVCcnf0bnEsOJNpo8U6euJDq4gejYDqKTu4nOHCY6f4ro0jVX/37GWXnS69mzJ5UqVYr+/vtvAdWWLVvE+rdbt261BB2TniWYOJKDEdh/6jxN33SQuiXvoI/GrqH6A5dSg26TqXH0N/R2ZH9qHRFLHSNCKS6yHTUOH6gRZL3w4TQ6shlN7Vqf5nWtTWuiqtMf0eUJbYv/xNxHFcKmaHFR3dZbl/r9WZHPi7ZNzGV+IuJHt/FwT59B/eiD71bTpxM20E+j+1HKVy9RyuBGtGdEM0od/R4dGv8JnZjaidLn9aQrV3RKObie6MA6oqPbiGCh/nWQ6O+TRBfP6SJZ21We9B5//HGKiIgwlAbnoqKiDOfcHTDpuUOGzwcbApeuEB04fZ42HzxNi/84Tv+34QCNWbGXBs7fRd2StlPnnzdTuwnr6d3Ra6jJ8JVUf9BSer7fYqrVaz61ShhJ7WJ6UIeoGOrctQtFRHak2MjPqFdkW2rbJUYjx5ph42h916q0LaqSsEQPRJWiE9EPUnpMYUGGLbr00uIOjvx3BovBnde1KX0x+elQVAmqljAvU0VflXcbl+bFZsaDhTm2MdGPbxFNfo9o2n+JEjsQzQojEe/vk+qvkXHffffR6NGjMwtFRG+88Qa9//77hnPy4Pfff6fVq1drv2bNmlF8fLy8zFtGgBHwMgKwyI6lX6Adh87Qij/TKHHzIZrwayoNXbSLeiTvoC7TttD/ftxAH45ZS01HrKSGQ5bRC18tord7jqcOCX2oY1w8dY7uSpFRnSi2a3vqGfkxRUW0J6x+p4XxTYhGPkM0pDrRgEpEfcsQ9XgogwiX6RaB/z3ZPTmCYNOPqE96+fLloylTpmhlx86HH35IjRs3NpyTB23atKFy5cppv4IFCzLpSXB4ywgEOgIX0omO7yQ6spXo0Eai/WuJUlcR7VlK9Od8oiuX1Ce9QoUK0ahRowyqatKkiVtLzxCRiLh6a0aEjxmB4EZA+Ta9ypUrc5tecD+jXHpGwKsIKE963bt3pzJlytA///wjCo5eW1R5uffWq88BJ8YIBA0CypPe6dOn6dFHH9XG6RUtWpQ++eQTywri6q1lqDgiIxAUCChPetDCqVOnqG/fvhQTE0MTJpgGQuagJia9HADiy4xAkCHgCNLLi06Y9PKCHt/LCAQeAgFPeg0bNqQ6deoIKxGWIv8YA34GgvsZKFasGI0cOdKbbH41nzdTy2taNWrUEHN3nfCgf/HFF3TTTTc5hpgrVapEr7zyiiPkRTvwXXfd5QhZ8ayWLVuWXn/9dUfIi4kC999/vyNkBbb33HMPxcXF5ZVa9PerRXpOqt7u37+fbr/9dj2YSu+3bNmSBg8erLSMUjjM2X7wwQflofLbBg0a0A8//KC8nBBwyZIlVLFiRUfICiEDvnrLpOe7Z5FJz3fYMun5DlsmPd9hm+uU2dLLNWSWb2BLzzJUuY7Ilh6pVb0dOHAgjRs3LteK9McNx44do3r16vkja4/y7NatG02bNs2je+2+affu3fTmm2/ana3H+YWHh9PcuXM9vt/OGzdt2kQffPCBnVnmKa927drRypUr85SG6Wa1SM8kHB8yAowAI+BtBJj0vI0op8cIMAJKI8Ckp7R6WDhGgBHwNgJMet5GlNNjBBgBpRGwl/SuXr1KM2bMECulTZw4UVtLIzuIMJcXY6B69+5Nc+boFl7O7iYvXfvjjz9oxIgRhA4WK55iFi1aRObfuXO5XxfAU/HRAYD8Dx8+bCmJ48eP05gxY6hPnz5i/Jalm7wUCeuorFixQnjNzinJS5cuZcEV5bxw4UJOt3rl+rZt2wgehAYNGkTYtxIOHjwovIhjHvqvv/5q5RavxMHzhvcFHVeJiYmaxyN3iUMP5mcWx3hX7Qh79+4V7zawRSeLlZCamkrffPMNffXVV7R+/Xort+jj2Et6rVq1ooceekislIYBkrVq1aLz592vugTCQ7wnnniCPv/8c4KT0tDQUH0BfLa/atUqMfgY7u7fe+89uvXWW2nmzJlu88NDAjda1apVo9q1a2s/KMjXAYrHyHXkj993332XY5ZHjhwRbsCgg88++4zuvvtu8fDleKMXIrRo0YKuu+46IevDDz+cY4onT54UcWvWrKnhCozT0tJyvDevETC+8frrr6ennnqKnnnmGSFHWFhYtsmmpKQQPAw9//zzhN5HzC7BS+rrgF7OW265hYoXLy5wwrsGOQ4cOOA26127doky4TnQP7f40Pg6dOrUiUqUKKHle9ttt9G7776bLeHC+Lj33nupfv36woMTJgjAgMpFsI/0MD4IDw+sEQSsj/vAAw9kO68O01DKly+vfa3WrVsnFARF+TrgIde7xUpISBArvbn7Al6+fFnI5sGXJ89F2bNnD02dOpWwxTolVkgPHxF8TK5cW8YKQy5uuOEGOnToUJ7lySmBn376iZYvXy4sfiukd+LECYGtfHZySt+b11G7wAdCBqwBgw9Ldh+zd955RxCevGfSpEmEFxqu13wZgM+yZcs00kB+8G/58ccfu80WtRmUBx8WuwNw1b9PsPQgC2oA7kKjRo3ElD95HfNy8cxLH57yfDZb+0jv008/NTwIEMrVOb2wjzzyCIFs9AFravTo0UN/yuv7GHgM8PXVkn379olzIF5XwZ+kp5cHD4DZZb/+utwvUqQIDRkyRB6KLdYpHj58uOGcLw/69esn5q3mlIc/Sc8s29mzZ8VzMH/+fPMlcYyX+OabbxYL3ssIFy9eFLWGH3/8d8lFmwMszRdeeMFtrv4kPbNQIC68d4sXLzZfEscSe32NKz09XXys9edc3px50j7SA0O3bt06M2siwkOf3Zcepqv5QcGkeb0FZkjQSwf40gB8tHnpAyzV6dOn609p+7J6iy86qhiwombPnq1dt2vHCumh6oLqpflBefLJJ6lLly52iSr0j8n6OQVZvUUTA/DF1KSlS5fmdJtPrqNNGnK4s4wkQaN5RB/wAUfbqZ0BVnyFChUoNla37KJJAFm9RZnuuOMOUdVcs2aNKZbvDtEGiTZEfKjx/OEnax/mXHfu3CneS6yiqA+owuei+cA+0nv66aepY8eOellFQdFO5yrgxQTxJCUlGS6//fbb9NZbbxnOefsAeSJvc0M52hKys6JA4lAg2hjQDog07B6pb4X0MJsEsqGKqQ8vv/wy/fe//9Wf8um+VUsP7b5o6Aa2aKSH/kHaZmLxqbBEIr8CBQpk2yQjScTc4YGXGTM37Ap4drGkKpqHsms3R7vosGHDBLaousO9Gz7aZvl9JTeaCWRbIt6vb7/91m1WqHnhuTU3waCM6Oi0GOwjPSwD+dFHHxnkQu9LdpYeGoDN3pfRgJldG4UhAw8P8DIBXLOlhxft559/tpxq06ZN6aWXXrIc3xsRrZCetEqTk/9dd1QX0I5p54tplfR0Imq76CTAS21XQHsTLCH0xmYXpKVnnjqVyxczuyxyvAb9YhofrGjzM5zjzUSiM87X75grOdAeDotz1qxZri6TrIpv377dcF1ZS89V+52rc/rSoP0OXe/6AJLE8AFfBtl+pzfz0bUOItSfy0kG+AF77LHHcorm1etWSA8Zwqfa0KFDDXmjTQ9ffbtCXkgP/gyfffZZW0RFGy9cXQ0YMCDH/FRo0/vyyy/FqAdY9J4E1FJeffVVT27N8z0Y/RAZGekyHbTf4R3U1/6UbtND1cTcewuG1ntF/e2330jP4lFRUaJNQvbM2Nl7C/BByjKAfEuVKqX1Np05c4bcdWrgHjz8GGKB4Rl2BnekB1nxpZQBw1TgtFW2n6CX0q7eWymDO9JDe1l22KJjAG1kev3INL29xXAPWEw9e/Z0mzRqBug5lwG9t/rOA7t6b5F/165dhbxHjx6V4hi2qBpiJIW7gHF78FYcERHhLorPzqOqjSqu/mOM3mh8dGSAGy+spS2D0r23EBLVETlODw2sIAV9e0PdunUJY/lkAAiw9tApgJcU7X/mdkEZ19tbPMioXgNgfPnQzoFGbBnmzZsnvjpyDBTaIuCVVnp9fu6556hgwYKGl0He6+0tvnayXeTGG28UmOFY/0EBiQNDGTB4Fg+3fpye2aqWcb29BdlBvtKlS4uOCSm7zGfy5MkCW/TWIfTv35/atGmjYYv2MVheVgdhy3Q92aLKD91LGeVWP1C+ZMmSFB0drSWPcXoYjoXnGcR85513Gl5kLaKXd3755ReBG6rSUk5s8fzK8PXXX4veZXmMTg50DMrnFmtXg+QxRtbXAdYk5Gvbti299tpr4n1DcxCeZxkw/hT6l2Hz5s1iTCmaudD+jI6tXHpmsq9ND0LDqgA5wLU2CmKerTB27NgsbWYgvvj4eEE+eBnsDDt27CBUo/DCbdiwwZA1GmDRJikVhAcd1VlULdBTjS8u2nfsCPhwyIdWv9V3ouBhN/fWYpwU5ETbI0bv2xXw8dDLKfdl/uilA7YywPrHywldoG0YOPt6zJvMGzNypHz6LWolMmDGzsKFC+Wh2OJjiGoaBjcvWLDAcM1XB/BDqJdR7ustJ1jQeJ9k2Lhxo7gHQ1vwge/Vq5elmVLy/rxs8T5DRljGsCwhizlAHnOHFd41GD8YyJzdmD5zWteO7SU9N0LwaUaAEWAE7EKASc8upDkfRoARUAIBJj0l1MBCMAKMgF0IMOnZhTTnwwgwAkogwKSnhBpYCEaAEbALASY9u5DmfBgBRkAJBJj0lFADC8EIMAJ2IcCkZxfSnI/vEYBXG/gV5MAIZIMAk1424PAlhyHQoUMHat68ucOkZnFtRoBJz2bAOTsfIsCk50NwAydpJr3A0aUaJYFHYbgQw8RwTB3Tz62GV2ZMIYNj2Dp16ghnDHBEoQ/wA4c5wLgf04z0c1xlPDhyxTxnzG+Gbz1MS0LAmguY9oUqLlxPweozpy/T4G3QIsCkF7Sq90HBMa8a7qlAdvA7CJ9u8OQCV/oIICVMxMcCOyAmLLADzy76eavwily1alWCZxIsFYDJ/nAcKgPmCsMTB5YMAMFivQ04f5Dpw4kCHFtMmTJFzIOGKyLM5eXACFxDgEmPHwXvIAALDSuq6T3RIGV4UpGdCyC9/PnzGxxNwJnDiy++KISQ7q30C/Fgwjm8mCDAMwzck5kdJ4iL/y42BYcEZqe08MgCry4cGIFrCDDp8aPgHQTgCQVWFSw1vVsj+PeTCzmB9OrVq2fIEBYZHJoiIB4sQ32A5w2kC282IFR4L3YX4HnD7E0Z/gyRLwdG4BoCTHr8KHgHAbloy7Rp00Q7GtrS5E8u3QjygR80fUD7nFwnBaQH/376AHdJID24PQfpwX+au+CqIwNtfDjPgRG4hgCTHj8K3kEA7XYgr+wcOoL0sPSkvnMD/gel9YfqLarIWBNZBrivN1dvV69eLS8btkx6Bjj4wDUCTHquceGzniCAVeBAauhckFYe2uTg7RYBpIeODKyMJzsy4OlZ38MKS8/ckTF+/HhNHDjmhDddVx0ZTHoaTLzjHgEmPffY8BVPEFi7dq1wP47OCbTtoYdWepAG6WGIiX7IitmrMNZDkUNW4Obc1ZAVeNyFt12kjyVBZfUZVqF5cXikZediR55gxvfYigCTnq1wB3lmID1zR0OQQ8LFtx8BJj37MQ/eHJn0glf3CpWcSU8hZQS8KKiqYogKB0bAjwgw6fkRfM6aEWAE7EeASc9+zDlHRoAR8CMCTHp+BJ+zZgQYAfsRYNKzH3POkRFgBPyIAJOeH8HnrBkBRsB+BJj07Mecc2QEGAE/IsCk50fwOWtGgBGwHwEmPfsx5xwZAUbAjwgw6fkRfM6aEWAE7Efg6v8Dn291hVyR0rQAAAAASUVORK5CYII=)\n",
        "\n",
        "-정답 그림"
      ],
      "metadata": {
        "id": "xMYi0YS3hUP9"
      }
    },
    {
      "cell_type": "markdown",
      "source": [
        "# Softmax Regression"
      ],
      "metadata": {
        "id": "667Hus_gho4q"
      }
    },
    {
      "cell_type": "markdown",
      "source": [
        "다양한 X를 설정해서 진행해주셔도 좋을 거 같습니다 :>"
      ],
      "metadata": {
        "id": "TWyghVYph6y1"
      }
    },
    {
      "cell_type": "code",
      "source": [
        "X = torch.tensor([[1.0, 2.0, 3.0], [4.0, 5.0, 6.0]])\n",
        "X.sum(0, keepdims=#채워주세요), X.sum(1, keepdims=#채워주세요)"
      ],
      "metadata": {
        "id": "czMI16myh19t"
      },
      "execution_count": null,
      "outputs": []
    },
    {
      "cell_type": "markdown",
      "source": [
        "(**\n",
        "$$\\mathrm{softmax}(\\mathbf{X})_{ij} = \\frac{\\exp(\\mathbf{X}_{ij})}{\\sum_k \\exp(\\mathbf{X}_{ik})}.$$\n",
        "**)"
      ],
      "metadata": {
        "id": "h8BCOgKbiOxo"
      }
    },
    {
      "cell_type": "markdown",
      "source": [
        "softmax를 구현해주세요"
      ],
      "metadata": {
        "id": "1q9SJ4ULiWVV"
      }
    },
    {
      "cell_type": "code",
      "source": [
        "def softmax(X):\n",
        "    #softmax를 구현해주세요\n",
        "    return #위의 수식 참고"
      ],
      "metadata": {
        "id": "kNvgcugSiV5B"
      },
      "execution_count": null,
      "outputs": []
    },
    {
      "cell_type": "code",
      "source": [
        "X = torch.rand((2, 5))\n",
        "X_prob = softmax(X)\n",
        "X_prob, X_prob.sum(1)"
      ],
      "metadata": {
        "id": "nu3FQeHEiglH"
      },
      "execution_count": null,
      "outputs": []
    },
    {
      "cell_type": "markdown",
      "source": [
        "## Model"
      ],
      "metadata": {
        "id": "mR9ZzFC0ih6W"
      }
    },
    {
      "cell_type": "markdown",
      "source": [
        "- 28*28 pixel image를 가지고, flatten하여 vector로 만듦\n",
        "- 10 class 존재"
      ],
      "metadata": {
        "id": "Ag1Gi29Bilfp"
      }
    },
    {
      "cell_type": "code",
      "source": [
        "class SoftmaxRegressionScratch(d2l.Classifier):\n",
        "    def __init__(self, num_inputs, num_outputs, lr, sigma=0.01):\n",
        "        super().__init__()\n",
        "        self.save_hyperparameters()\n",
        "        self.W = torch.normal(0, sigma, size=(num_inputs, num_outputs),\n",
        "                              requires_grad=#채워주세요)\n",
        "        self.b = torch.zeros(num_outputs, requires_grad=#채워주세요)\n",
        "\n",
        "    def parameters(self):\n",
        "        return [self.W, self.b]"
      ],
      "metadata": {
        "id": "NgVmhlalisMa"
      },
      "execution_count": null,
      "outputs": []
    },
    {
      "cell_type": "code",
      "source": [
        "@d2l.add_to_class(SoftmaxRegressionScratch)\n",
        "def forward(self, X):\n",
        "    X = X.reshape((#채워주세요, #채워주세요))\n",
        "    return softmax(torch.matmul(#채워주세요, #채워주세요) + #채워주세)"
      ],
      "metadata": {
        "id": "twN0PZJGizFO"
      },
      "execution_count": null,
      "outputs": []
    },
    {
      "cell_type": "markdown",
      "source": [
        "## Cross-Entropy Loss"
      ],
      "metadata": {
        "id": "nSih7q8Ji89r"
      }
    },
    {
      "cell_type": "markdown",
      "source": [
        "다양한 y로 연습해보셔도 좋을 거 같습니다 :>"
      ],
      "metadata": {
        "id": "UeWAJoO7jBGZ"
      }
    },
    {
      "cell_type": "code",
      "source": [
        "y = torch.tensor([0, 2])\n",
        "y_hat = torch.tensor([[0.1, 0.3, 0.6], [0.3, 0.2, 0.5]])\n",
        "y_hat[[0, 1], y]"
      ],
      "metadata": {
        "id": "MnwMQuNRjEXh"
      },
      "execution_count": null,
      "outputs": []
    },
    {
      "cell_type": "markdown",
      "source": [
        "Cross entropy loss를 구현해주세요"
      ],
      "metadata": {
        "id": "Umsm4s21jHC4"
      }
    },
    {
      "cell_type": "code",
      "source": [
        "def cross_entropy(y_hat, y):\n",
        "    return #cross entropy를 구현해주세요\n",
        "\n",
        "cross_entropy(y_hat, y)"
      ],
      "metadata": {
        "id": "P38K-qztjJR2"
      },
      "execution_count": null,
      "outputs": []
    },
    {
      "cell_type": "code",
      "source": [
        "@d2l.add_to_class(SoftmaxRegressionScratch)\n",
        "def loss(self, y_hat, y):\n",
        "    return cross_entropy(y_hat, y)"
      ],
      "metadata": {
        "id": "p7d147osjM61"
      },
      "execution_count": null,
      "outputs": []
    },
    {
      "cell_type": "markdown",
      "source": [
        "## Training"
      ],
      "metadata": {
        "id": "LQsgu_X4jPBk"
      }
    },
    {
      "cell_type": "code",
      "source": [
        "data = d2l.FashionMNIST(batch_size=256)\n",
        "model = SoftmaxRegressionScratch(num_inputs=#채워주세요, num_outputs=#채워주세요, lr=0.1)\n",
        "trainer = d2l.Trainer(max_epochs=10)\n",
        "trainer.fit(model, data)"
      ],
      "metadata": {
        "id": "gEolZC7djRlS"
      },
      "execution_count": null,
      "outputs": []
    },
    {
      "cell_type": "markdown",
      "source": [
        "![image.png](data:image/png;base64,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)\n",
        "-정답 그림"
      ],
      "metadata": {
        "id": "4r33fUqbjXZb"
      }
    },
    {
      "cell_type": "markdown",
      "source": [
        "## Prediction"
      ],
      "metadata": {
        "id": "DhuJdA3Xjg7J"
      }
    },
    {
      "cell_type": "markdown",
      "source": [
        "어떤 방식으로 prediction 및 사진이 나오는지 확인해주세요"
      ],
      "metadata": {
        "id": "BXsRqUmPjkQ6"
      }
    },
    {
      "cell_type": "code",
      "source": [
        "X, y = next(iter(data.val_dataloader()))\n",
        "preds = model(X).argmax(axis=1)\n",
        "preds.shape"
      ],
      "metadata": {
        "id": "NKzhRVAMjqEs"
      },
      "execution_count": null,
      "outputs": []
    },
    {
      "cell_type": "code",
      "source": [
        "wrong = preds.type(y.dtype) != y\n",
        "X, y, preds = X[wrong], y[wrong], preds[wrong]\n",
        "labels = [a+'\\n'+b for a, b in zip(\n",
        "    data.text_labels(y), data.text_labels(preds))]\n",
        "data.visualize([X, y], labels=labels)"
      ],
      "metadata": {
        "id": "psJ8OI7Ojqno"
      },
      "execution_count": null,
      "outputs": []
    }
  ]
}