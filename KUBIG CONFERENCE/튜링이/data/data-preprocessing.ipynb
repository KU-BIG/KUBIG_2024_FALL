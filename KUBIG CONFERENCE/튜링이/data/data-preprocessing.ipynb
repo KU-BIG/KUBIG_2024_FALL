{
 "cells": [
  {
   "cell_type": "code",
   "execution_count": 1,
   "metadata": {
    "colab": {
     "base_uri": "https://localhost:8080/"
    },
    "id": "BrlpnJHEiXXf",
    "outputId": "97faac3c-021a-488e-cdbe-81b6337d9bc6"
   },
   "outputs": [
    {
     "name": "stdout",
     "output_type": "stream",
     "text": [
      "Requirement already satisfied: openai in /Users/seunghyun/opt/anaconda3/lib/python3.9/site-packages (1.47.1)\n",
      "Requirement already satisfied: anyio<5,>=3.5.0 in /Users/seunghyun/opt/anaconda3/lib/python3.9/site-packages (from openai) (3.5.0)\n",
      "Requirement already satisfied: distro<2,>=1.7.0 in /Users/seunghyun/opt/anaconda3/lib/python3.9/site-packages (from openai) (1.9.0)\n",
      "Requirement already satisfied: httpx<1,>=0.23.0 in /Users/seunghyun/opt/anaconda3/lib/python3.9/site-packages (from openai) (0.27.2)\n",
      "Requirement already satisfied: jiter<1,>=0.4.0 in /Users/seunghyun/opt/anaconda3/lib/python3.9/site-packages (from openai) (0.5.0)\n",
      "Requirement already satisfied: pydantic<3,>=1.9.0 in /Users/seunghyun/opt/anaconda3/lib/python3.9/site-packages (from openai) (2.9.2)\n",
      "Requirement already satisfied: sniffio in /Users/seunghyun/opt/anaconda3/lib/python3.9/site-packages (from openai) (1.3.0)\n",
      "Requirement already satisfied: tqdm>4 in /Users/seunghyun/opt/anaconda3/lib/python3.9/site-packages (from openai) (4.66.4)\n",
      "Requirement already satisfied: typing-extensions<5,>=4.11 in /Users/seunghyun/opt/anaconda3/lib/python3.9/site-packages (from openai) (4.12.2)\n",
      "Requirement already satisfied: idna>=2.8 in /Users/seunghyun/opt/anaconda3/lib/python3.9/site-packages (from anyio<5,>=3.5.0->openai) (3.4)\n",
      "Requirement already satisfied: certifi in /Users/seunghyun/opt/anaconda3/lib/python3.9/site-packages (from httpx<1,>=0.23.0->openai) (2023.11.17)\n",
      "Requirement already satisfied: httpcore==1.* in /Users/seunghyun/opt/anaconda3/lib/python3.9/site-packages (from httpx<1,>=0.23.0->openai) (1.0.5)\n",
      "Requirement already satisfied: h11<0.15,>=0.13 in /Users/seunghyun/opt/anaconda3/lib/python3.9/site-packages (from httpcore==1.*->httpx<1,>=0.23.0->openai) (0.14.0)\n",
      "Requirement already satisfied: annotated-types>=0.6.0 in /Users/seunghyun/opt/anaconda3/lib/python3.9/site-packages (from pydantic<3,>=1.9.0->openai) (0.7.0)\n",
      "Requirement already satisfied: pydantic-core==2.23.4 in /Users/seunghyun/opt/anaconda3/lib/python3.9/site-packages (from pydantic<3,>=1.9.0->openai) (2.23.4)\n"
     ]
    }
   ],
   "source": [
    "!pip install openai"
   ]
  },
  {
   "cell_type": "markdown",
   "metadata": {},
   "source": [
    "# 고1 데이터"
   ]
  },
  {
   "cell_type": "markdown",
   "metadata": {
    "id": "wb0yP25hiXXl"
   },
   "source": [
    "### data preprocessing"
   ]
  },
  {
   "cell_type": "code",
   "execution_count": 2,
   "metadata": {
    "id": "igFz0GHMiXXo"
   },
   "outputs": [],
   "source": [
    "import pandas as pd\n",
    "import numpy as np\n",
    "import os\n",
    "import json"
   ]
  },
  {
   "cell_type": "code",
   "execution_count": 3,
   "metadata": {
    "colab": {
     "base_uri": "https://localhost:8080/",
     "height": 201
    },
    "id": "LKb2PysqiXXp",
    "outputId": "3906a7b8-9b17-48f6-98f8-a7e480aff89b"
   },
   "outputs": [
    {
     "name": "stdout",
     "output_type": "stream",
     "text": [
      "359개의 파일이 성공적으로 읽혔습니다.\n"
     ]
    }
   ],
   "source": [
    "#고1\n",
    "folder_path_1 = \"/Users/seunghyun/Library/CloudStorage/OneDrive-고려대학교/024.에세이 글 평가 데이터/주장/고1\"\n",
    "\n",
    "data_1 = []\n",
    "\n",
    "for filename in os.listdir(folder_path_1):\n",
    "    if filename.endswith('.json'):\n",
    "        file_path = os.path.join(folder_path_1, filename)\n",
    "        with open(file_path, 'r', encoding='utf-8') as f:\n",
    "            json_data = json.load(f)\n",
    "            data_1.append(json_data)\n",
    "\n",
    "print(f'{len(data_1)}개의 파일이 성공적으로 읽혔습니다.')"
   ]
  },
  {
   "cell_type": "code",
   "execution_count": 4,
   "metadata": {
    "id": "SwzfLeSliXXr"
   },
   "outputs": [],
   "source": [
    "data_list_1 = []\n",
    "\n",
    "for filename in os.listdir(folder_path_1):\n",
    "    if filename.endswith('.json'):\n",
    "        file_path = os.path.join(folder_path_1, filename)\n",
    "        with open(file_path, 'r', encoding='utf-8') as f:\n",
    "            json_data = json.load(f)\n",
    "\n",
    "            # 필요한 정보 추출\n",
    "            paragraph_txt = json_data['paragraph'][0]['paragraph_txt']\n",
    "            essay_prompt = json_data['info']['essay_prompt']\n",
    "            essay_len = json_data['info']['essay_len']\n",
    "            essay_main_subject = json_data['info']['essay_main_subject']\n",
    "\n",
    "            # 데이터를 리스트에 추가\n",
    "            data_list_1.append({\n",
    "                'paragraph_txt': paragraph_txt,\n",
    "                'essay_prompt': essay_prompt,\n",
    "                'essay_len': essay_len,\n",
    "                'essay_main_subject': essay_main_subject\n",
    "            })\n",
    "\n",
    "# 리스트를 데이터프레임으로 변환\n",
    "df_1 = pd.DataFrame(data_list_1)"
   ]
  },
  {
   "cell_type": "code",
   "execution_count": 5,
   "metadata": {
    "id": "ntu_-91piXXs",
    "outputId": "bba8b50c-5d49-447e-96fa-4aff7f421162"
   },
   "outputs": [
    {
     "data": {
      "text/plain": [
       "count     359.000000\n",
       "mean      869.325905\n",
       "std       132.962830\n",
       "min       302.000000\n",
       "25%       810.000000\n",
       "50%       845.000000\n",
       "75%       910.500000\n",
       "max      1601.000000\n",
       "Name: essay_len, dtype: float64"
      ]
     },
     "execution_count": 5,
     "metadata": {},
     "output_type": "execute_result"
    }
   ],
   "source": [
    "df_1['essay_len'].describe()"
   ]
  },
  {
   "cell_type": "markdown",
   "metadata": {
    "id": "PchtIK4ziXXu"
   },
   "source": [
    "- 고1 분량 1000자 정도"
   ]
  },
  {
   "cell_type": "code",
   "execution_count": 6,
   "metadata": {
    "id": "7aHnq_JziXXu",
    "outputId": "3b092d60-ca7d-4db0-a555-40c351a54356"
   },
   "outputs": [
    {
     "data": {
      "text/html": [
       "<div>\n",
       "<style scoped>\n",
       "    .dataframe tbody tr th:only-of-type {\n",
       "        vertical-align: middle;\n",
       "    }\n",
       "\n",
       "    .dataframe tbody tr th {\n",
       "        vertical-align: top;\n",
       "    }\n",
       "\n",
       "    .dataframe thead th {\n",
       "        text-align: right;\n",
       "    }\n",
       "</style>\n",
       "<table border=\"1\" class=\"dataframe\">\n",
       "  <thead>\n",
       "    <tr style=\"text-align: right;\">\n",
       "      <th></th>\n",
       "      <th>paragraph_txt</th>\n",
       "      <th>essay_prompt</th>\n",
       "      <th>essay_len</th>\n",
       "      <th>essay_main_subject</th>\n",
       "    </tr>\n",
       "  </thead>\n",
       "  <tbody>\n",
       "    <tr>\n",
       "      <th>0</th>\n",
       "      <td>저희 학교는 남녀공학입니다. 저번 체육시간에 원반던지기 평가가 있었습니다. 각 모둠...</td>\n",
       "      <td>평가는 일반적으로 평가대상의 장점과 가치를 결정하는 과정을 말합니다.\\n\\n 세상...</td>\n",
       "      <td>1135</td>\n",
       "      <td>평가에 대한 본인의 의견</td>\n",
       "    </tr>\n",
       "    <tr>\n",
       "      <th>1</th>\n",
       "      <td>저는 현재 우리의 평가 방식에서 새로운 평가 기준이 추가되어야 한다고 생각합니다. ...</td>\n",
       "      <td>평가는 일반적으로 평가대상의 장점과 가치를 결정하는 과정을 말합니다.\\n\\n 세상...</td>\n",
       "      <td>850</td>\n",
       "      <td>평가에 대한 본인의 의견</td>\n",
       "    </tr>\n",
       "    <tr>\n",
       "      <th>2</th>\n",
       "      <td>저는 현재의 평가 방식은 최고의 객관적인 평가 방식이라고 생각하지 않아요. 그 이유...</td>\n",
       "      <td>평가는 일반적으로 평가대상의 장점과 가치를 결정하는 과정을 말합니다.\\n\\n 세상...</td>\n",
       "      <td>817</td>\n",
       "      <td>평가에 대한 본인의 의견</td>\n",
       "    </tr>\n",
       "    <tr>\n",
       "      <th>3</th>\n",
       "      <td>평가란 평가대상의 장점과 가치를 결정하는 과정을 말한다. 학생들에게 동일한 평가지표...</td>\n",
       "      <td>평가는 일반적으로 평가대상의 장점과 가치를 결정하는 과정을 말합니다.\\n\\n 세상...</td>\n",
       "      <td>816</td>\n",
       "      <td>평가에 대한 본인의 의견</td>\n",
       "    </tr>\n",
       "    <tr>\n",
       "      <th>4</th>\n",
       "      <td>위에서 말한 것처럼 평가는 대상의 장점이나 가치를 결정하는 과정이기도 하지만, 요즘...</td>\n",
       "      <td>평가는 일반적으로 평가대상의 장점과 가치를 결정하는 과정을 말합니다.\\n\\n 세상...</td>\n",
       "      <td>818</td>\n",
       "      <td>평가에 대한 본인의 의견</td>\n",
       "    </tr>\n",
       "  </tbody>\n",
       "</table>\n",
       "</div>"
      ],
      "text/plain": [
       "                                       paragraph_txt  \\\n",
       "0  저희 학교는 남녀공학입니다. 저번 체육시간에 원반던지기 평가가 있었습니다. 각 모둠...   \n",
       "1  저는 현재 우리의 평가 방식에서 새로운 평가 기준이 추가되어야 한다고 생각합니다. ...   \n",
       "2  저는 현재의 평가 방식은 최고의 객관적인 평가 방식이라고 생각하지 않아요. 그 이유...   \n",
       "3  평가란 평가대상의 장점과 가치를 결정하는 과정을 말한다. 학생들에게 동일한 평가지표...   \n",
       "4  위에서 말한 것처럼 평가는 대상의 장점이나 가치를 결정하는 과정이기도 하지만, 요즘...   \n",
       "\n",
       "                                        essay_prompt  essay_len  \\\n",
       "0   평가는 일반적으로 평가대상의 장점과 가치를 결정하는 과정을 말합니다.\\n\\n 세상...       1135   \n",
       "1   평가는 일반적으로 평가대상의 장점과 가치를 결정하는 과정을 말합니다.\\n\\n 세상...        850   \n",
       "2   평가는 일반적으로 평가대상의 장점과 가치를 결정하는 과정을 말합니다.\\n\\n 세상...        817   \n",
       "3   평가는 일반적으로 평가대상의 장점과 가치를 결정하는 과정을 말합니다.\\n\\n 세상...        816   \n",
       "4   평가는 일반적으로 평가대상의 장점과 가치를 결정하는 과정을 말합니다.\\n\\n 세상...        818   \n",
       "\n",
       "  essay_main_subject  \n",
       "0      평가에 대한 본인의 의견  \n",
       "1      평가에 대한 본인의 의견  \n",
       "2      평가에 대한 본인의 의견  \n",
       "3      평가에 대한 본인의 의견  \n",
       "4      평가에 대한 본인의 의견  "
      ]
     },
     "execution_count": 6,
     "metadata": {},
     "output_type": "execute_result"
    }
   ],
   "source": [
    "import re\n",
    "\n",
    "# @#문장구분# 이 포함된 부분 삭제\n",
    "df_1['paragraph_txt'] = df_1['paragraph_txt'].replace(r'#@문장구분#', '', regex=True)\n",
    "\n",
    "df_1.head()"
   ]
  },
  {
   "cell_type": "code",
   "execution_count": 8,
   "metadata": {
    "id": "e3S0Sd0oiXXw",
    "outputId": "418b2c3c-9242-4f2c-942f-c13968b195ab"
   },
   "outputs": [
    {
     "data": {
      "text/plain": [
       "' 평가는 일반적으로 평가대상의 장점과 가치를 결정하는 과정을 말합니다.\\n\\n 세상에는 무수히 많은 평가 방법들이 존재하고 그 주제도 다양합니다.\\n\\n 우리나라의 경우는 어떨까요? 중간, 기말시험이 있고 미술과 같은 기본기와 창의성을 평가하는 과목도 있습니다. 체육과 같은 신체적인 능력을 평가하는 과목도 있지요. 모두 적절한 기준이 있으며 매우 객관적인 기준이라고 말합니다.\\n\\n 하지만 여러분이 생각하기에 모든 학생을 동일한 평가지표에 맞추어 평가하는 것이 올바른 방식이라고 생각하나요?\\n\\n 사람마다 특성이 존재하듯 각각의 목표 또한 다르고 성과도 다를 수 있습니다. 특정 기준에 의존해 본인의 성과도를 평가하는 것이 바르다고 생각되나요?\\n\\n 현재의 평가 방식은 최고의 객관적인 평가 방식이라고 생각하신다면 그 이유를 작성해주세요. 아니라면 어떤 평가 기준이 추가되어야 하고 또한 어떤 생각으로 평가가 이루어졌으면 좋겠는지 서술해 주세요.'"
      ]
     },
     "execution_count": 8,
     "metadata": {},
     "output_type": "execute_result"
    }
   ],
   "source": [
    "df_1['essay_prompt'][0]"
   ]
  },
  {
   "cell_type": "code",
   "execution_count": 7,
   "metadata": {
    "id": "vsnAPqKEiXXy"
   },
   "outputs": [],
   "source": [
    "df_1.to_csv('고1essay.csv')"
   ]
  },
  {
   "cell_type": "code",
   "execution_count": null,
   "metadata": {
    "id": "uX4BC4MdjuWU"
   },
   "outputs": [],
   "source": []
  },
  {
   "cell_type": "markdown",
   "metadata": {
    "id": "riuolU-biXX0"
   },
   "source": [
    "## Gpt4o-mini setting"
   ]
  },
  {
   "cell_type": "code",
   "execution_count": null,
   "metadata": {
    "id": "yZb2Vy0UiXX5"
   },
   "outputs": [],
   "source": [
    "from openai import OpenAI\n",
    "import os\n",
    "\n",
    "## Set the API key and model name\n",
    "MODEL=\"gpt-4o-mini\"\n",
    "client = OpenAI(api_key=os.environ.get(\"OPENAI_API_KEY\", \"YOUR_KEY\"))"
   ]
  },
  {
   "cell_type": "code",
   "execution_count": 8,
   "metadata": {
    "colab": {
     "base_uri": "https://localhost:8080/"
    },
    "id": "nB8JASGhiXX6",
    "outputId": "6950dd80-abf1-4376-d3f1-e7f575855183"
   },
   "outputs": [
    {
     "name": "stdout",
     "output_type": "stream",
     "text": [
      "Assistant: Of course! \\( 2 + 2 = 4 \\).\n"
     ]
    }
   ],
   "source": [
    "completion = client.chat.completions.create(\n",
    "  model=MODEL,\n",
    "  messages=[\n",
    "    {\"role\": \"system\", \"content\": \"You are a helpful assistant. Help me with my math homework!\"}, # <-- This is the system message that provides context to the model\n",
    "    {\"role\": \"user\", \"content\": \"Hello! Could you solve 2+2?\"}  # <-- This is the user message for which the model will generate a response\n",
    "  ]\n",
    ")\n",
    "\n",
    "print(\"Assistant: \" + completion.choices[0].message.content)"
   ]
  },
  {
   "cell_type": "code",
   "execution_count": null,
   "metadata": {
    "id": "JoTPyO8NjfXf"
   },
   "outputs": [],
   "source": []
  },
  {
   "cell_type": "markdown",
   "metadata": {
    "id": "awU6M-MViXX8"
   },
   "source": [
    "## 주장_고등1학년"
   ]
  },
  {
   "cell_type": "markdown",
   "metadata": {
    "id": "BmN8U59YiXX-"
   },
   "source": [
    "### 고1_paraphrase\n",
    "-  **high1 데이터**"
   ]
  },
  {
   "cell_type": "code",
   "execution_count": 9,
   "metadata": {},
   "outputs": [],
   "source": [
    "essay1 = pd.read_csv(\"/Users/seunghyun/Downloads/고1essay.csv\")"
   ]
  },
  {
   "cell_type": "code",
   "execution_count": 10,
   "metadata": {},
   "outputs": [
    {
     "data": {
      "text/html": [
       "<div>\n",
       "<style scoped>\n",
       "    .dataframe tbody tr th:only-of-type {\n",
       "        vertical-align: middle;\n",
       "    }\n",
       "\n",
       "    .dataframe tbody tr th {\n",
       "        vertical-align: top;\n",
       "    }\n",
       "\n",
       "    .dataframe thead th {\n",
       "        text-align: right;\n",
       "    }\n",
       "</style>\n",
       "<table border=\"1\" class=\"dataframe\">\n",
       "  <thead>\n",
       "    <tr style=\"text-align: right;\">\n",
       "      <th></th>\n",
       "      <th>Unnamed: 0</th>\n",
       "      <th>paragraph_txt</th>\n",
       "      <th>essay_prompt</th>\n",
       "      <th>essay_len</th>\n",
       "      <th>essay_main_subject</th>\n",
       "    </tr>\n",
       "  </thead>\n",
       "  <tbody>\n",
       "    <tr>\n",
       "      <th>0</th>\n",
       "      <td>0</td>\n",
       "      <td>저희 학교는 남녀공학입니다. 저번 체육시간에 원반던지기 평가가 있었습니다. 각 모둠...</td>\n",
       "      <td>평가는 일반적으로 평가대상의 장점과 가치를 결정하는 과정을 말합니다.\\n\\n 세상...</td>\n",
       "      <td>1135</td>\n",
       "      <td>평가에 대한 본인의 의견</td>\n",
       "    </tr>\n",
       "    <tr>\n",
       "      <th>1</th>\n",
       "      <td>1</td>\n",
       "      <td>저는 현재 우리의 평가 방식에서 새로운 평가 기준이 추가되어야 한다고 생각합니다. ...</td>\n",
       "      <td>평가는 일반적으로 평가대상의 장점과 가치를 결정하는 과정을 말합니다.\\n\\n 세상...</td>\n",
       "      <td>850</td>\n",
       "      <td>평가에 대한 본인의 의견</td>\n",
       "    </tr>\n",
       "    <tr>\n",
       "      <th>2</th>\n",
       "      <td>2</td>\n",
       "      <td>저는 현재의 평가 방식은 최고의 객관적인 평가 방식이라고 생각하지 않아요. 그 이유...</td>\n",
       "      <td>평가는 일반적으로 평가대상의 장점과 가치를 결정하는 과정을 말합니다.\\n\\n 세상...</td>\n",
       "      <td>817</td>\n",
       "      <td>평가에 대한 본인의 의견</td>\n",
       "    </tr>\n",
       "    <tr>\n",
       "      <th>3</th>\n",
       "      <td>3</td>\n",
       "      <td>평가란 평가대상의 장점과 가치를 결정하는 과정을 말한다. 학생들에게 동일한 평가지표...</td>\n",
       "      <td>평가는 일반적으로 평가대상의 장점과 가치를 결정하는 과정을 말합니다.\\n\\n 세상...</td>\n",
       "      <td>816</td>\n",
       "      <td>평가에 대한 본인의 의견</td>\n",
       "    </tr>\n",
       "    <tr>\n",
       "      <th>4</th>\n",
       "      <td>4</td>\n",
       "      <td>위에서 말한 것처럼 평가는 대상의 장점이나 가치를 결정하는 과정이기도 하지만, 요즘...</td>\n",
       "      <td>평가는 일반적으로 평가대상의 장점과 가치를 결정하는 과정을 말합니다.\\n\\n 세상...</td>\n",
       "      <td>818</td>\n",
       "      <td>평가에 대한 본인의 의견</td>\n",
       "    </tr>\n",
       "    <tr>\n",
       "      <th>...</th>\n",
       "      <td>...</td>\n",
       "      <td>...</td>\n",
       "      <td>...</td>\n",
       "      <td>...</td>\n",
       "      <td>...</td>\n",
       "    </tr>\n",
       "    <tr>\n",
       "      <th>354</th>\n",
       "      <td>354</td>\n",
       "      <td>오늘은 많은 평가 중에서 교육 평가에 대해서 얘기해보려고 한다. 교육평가의 기능 중...</td>\n",
       "      <td>평가는 일반적으로 평가대상의 장점과 가치를 결정하는 과정을 말합니다.\\n\\n 세상...</td>\n",
       "      <td>801</td>\n",
       "      <td>평가에 대한 본인의 의견</td>\n",
       "    </tr>\n",
       "    <tr>\n",
       "      <th>355</th>\n",
       "      <td>355</td>\n",
       "      <td>장점과 가치를 결정하는 과정을 평가라고 하였을 때 이 평가는 우리에게 굉장히 중요한...</td>\n",
       "      <td>평가는 일반적으로 평가대상의 장점과 가치를 결정하는 과정을 말합니다.\\n\\n 세상...</td>\n",
       "      <td>866</td>\n",
       "      <td>평가에 대한 본인의 의견</td>\n",
       "    </tr>\n",
       "    <tr>\n",
       "      <th>356</th>\n",
       "      <td>356</td>\n",
       "      <td>안녕하세요. 저는 우리나라의 평가 방식이 다소 잘못된 방향으로 흘러가고 있다고 생각...</td>\n",
       "      <td>평가는 일반적으로 평가대상의 장점과 가치를 결정하는 과정을 말합니다.\\n\\n 세상...</td>\n",
       "      <td>822</td>\n",
       "      <td>평가에 대한 본인의 의견</td>\n",
       "    </tr>\n",
       "    <tr>\n",
       "      <th>357</th>\n",
       "      <td>357</td>\n",
       "      <td>저는 글을 쓰는 주제로 우리가 학교나 사회 생활을 하며 흔하게 겪었을 법한 '평가'...</td>\n",
       "      <td>평가는 일반적으로 평가대상의 장점과 가치를 결정하는 과정을 말합니다.\\n\\n 세상...</td>\n",
       "      <td>813</td>\n",
       "      <td>평가에 대한 본인의 의견</td>\n",
       "    </tr>\n",
       "    <tr>\n",
       "      <th>358</th>\n",
       "      <td>358</td>\n",
       "      <td>현대사회는 학력중심사회로 우리는 고등학교과정을 대학을 가기위한 전과정으로 생각하는 ...</td>\n",
       "      <td>평가는 일반적으로 평가대상의 장점과 가치를 결정하는 과정을 말합니다.\\n\\n 세상...</td>\n",
       "      <td>838</td>\n",
       "      <td>평가에 대한 본인의 의견</td>\n",
       "    </tr>\n",
       "  </tbody>\n",
       "</table>\n",
       "<p>359 rows × 5 columns</p>\n",
       "</div>"
      ],
      "text/plain": [
       "     Unnamed: 0                                      paragraph_txt  \\\n",
       "0             0  저희 학교는 남녀공학입니다. 저번 체육시간에 원반던지기 평가가 있었습니다. 각 모둠...   \n",
       "1             1  저는 현재 우리의 평가 방식에서 새로운 평가 기준이 추가되어야 한다고 생각합니다. ...   \n",
       "2             2  저는 현재의 평가 방식은 최고의 객관적인 평가 방식이라고 생각하지 않아요. 그 이유...   \n",
       "3             3  평가란 평가대상의 장점과 가치를 결정하는 과정을 말한다. 학생들에게 동일한 평가지표...   \n",
       "4             4  위에서 말한 것처럼 평가는 대상의 장점이나 가치를 결정하는 과정이기도 하지만, 요즘...   \n",
       "..          ...                                                ...   \n",
       "354         354  오늘은 많은 평가 중에서 교육 평가에 대해서 얘기해보려고 한다. 교육평가의 기능 중...   \n",
       "355         355  장점과 가치를 결정하는 과정을 평가라고 하였을 때 이 평가는 우리에게 굉장히 중요한...   \n",
       "356         356  안녕하세요. 저는 우리나라의 평가 방식이 다소 잘못된 방향으로 흘러가고 있다고 생각...   \n",
       "357         357  저는 글을 쓰는 주제로 우리가 학교나 사회 생활을 하며 흔하게 겪었을 법한 '평가'...   \n",
       "358         358  현대사회는 학력중심사회로 우리는 고등학교과정을 대학을 가기위한 전과정으로 생각하는 ...   \n",
       "\n",
       "                                          essay_prompt  essay_len  \\\n",
       "0     평가는 일반적으로 평가대상의 장점과 가치를 결정하는 과정을 말합니다.\\n\\n 세상...       1135   \n",
       "1     평가는 일반적으로 평가대상의 장점과 가치를 결정하는 과정을 말합니다.\\n\\n 세상...        850   \n",
       "2     평가는 일반적으로 평가대상의 장점과 가치를 결정하는 과정을 말합니다.\\n\\n 세상...        817   \n",
       "3     평가는 일반적으로 평가대상의 장점과 가치를 결정하는 과정을 말합니다.\\n\\n 세상...        816   \n",
       "4     평가는 일반적으로 평가대상의 장점과 가치를 결정하는 과정을 말합니다.\\n\\n 세상...        818   \n",
       "..                                                 ...        ...   \n",
       "354   평가는 일반적으로 평가대상의 장점과 가치를 결정하는 과정을 말합니다.\\n\\n 세상...        801   \n",
       "355   평가는 일반적으로 평가대상의 장점과 가치를 결정하는 과정을 말합니다.\\n\\n 세상...        866   \n",
       "356   평가는 일반적으로 평가대상의 장점과 가치를 결정하는 과정을 말합니다.\\n\\n 세상...        822   \n",
       "357   평가는 일반적으로 평가대상의 장점과 가치를 결정하는 과정을 말합니다.\\n\\n 세상...        813   \n",
       "358   평가는 일반적으로 평가대상의 장점과 가치를 결정하는 과정을 말합니다.\\n\\n 세상...        838   \n",
       "\n",
       "    essay_main_subject  \n",
       "0        평가에 대한 본인의 의견  \n",
       "1        평가에 대한 본인의 의견  \n",
       "2        평가에 대한 본인의 의견  \n",
       "3        평가에 대한 본인의 의견  \n",
       "4        평가에 대한 본인의 의견  \n",
       "..                 ...  \n",
       "354      평가에 대한 본인의 의견  \n",
       "355      평가에 대한 본인의 의견  \n",
       "356      평가에 대한 본인의 의견  \n",
       "357      평가에 대한 본인의 의견  \n",
       "358      평가에 대한 본인의 의견  \n",
       "\n",
       "[359 rows x 5 columns]"
      ]
     },
     "execution_count": 10,
     "metadata": {},
     "output_type": "execute_result"
    }
   ],
   "source": [
    "essay1"
   ]
  },
  {
   "cell_type": "code",
   "execution_count": 11,
   "metadata": {
    "colab": {
     "base_uri": "https://localhost:8080/"
    },
    "id": "dtXCTqr-lIyc",
    "outputId": "d23b40ce-2747-4a8f-9c18-2150e50e0afa"
   },
   "outputs": [
    {
     "data": {
      "text/plain": [
       "100"
      ]
     },
     "execution_count": 11,
     "metadata": {},
     "output_type": "execute_result"
    }
   ],
   "source": [
    "high1 = essay1[:100]\n",
    "len(high1)"
   ]
  },
  {
   "cell_type": "code",
   "execution_count": 12,
   "metadata": {
    "colab": {
     "base_uri": "https://localhost:8080/",
     "height": 300
    },
    "id": "phGByj-xmzmv",
    "outputId": "1d957364-1321-4794-8791-b02b46e0476f"
   },
   "outputs": [
    {
     "data": {
      "text/html": [
       "<div>\n",
       "<style scoped>\n",
       "    .dataframe tbody tr th:only-of-type {\n",
       "        vertical-align: middle;\n",
       "    }\n",
       "\n",
       "    .dataframe tbody tr th {\n",
       "        vertical-align: top;\n",
       "    }\n",
       "\n",
       "    .dataframe thead th {\n",
       "        text-align: right;\n",
       "    }\n",
       "</style>\n",
       "<table border=\"1\" class=\"dataframe\">\n",
       "  <thead>\n",
       "    <tr style=\"text-align: right;\">\n",
       "      <th></th>\n",
       "      <th>Unnamed: 0</th>\n",
       "      <th>paragraph_txt</th>\n",
       "      <th>essay_prompt</th>\n",
       "      <th>essay_len</th>\n",
       "      <th>essay_main_subject</th>\n",
       "    </tr>\n",
       "  </thead>\n",
       "  <tbody>\n",
       "    <tr>\n",
       "      <th>0</th>\n",
       "      <td>0</td>\n",
       "      <td>저희 학교는 남녀공학입니다. 저번 체육시간에 원반던지기 평가가 있었습니다. 각 모둠...</td>\n",
       "      <td>평가는 일반적으로 평가대상의 장점과 가치를 결정하는 과정을 말합니다.\\n\\n 세상...</td>\n",
       "      <td>1135</td>\n",
       "      <td>평가에 대한 본인의 의견</td>\n",
       "    </tr>\n",
       "    <tr>\n",
       "      <th>1</th>\n",
       "      <td>1</td>\n",
       "      <td>저는 현재 우리의 평가 방식에서 새로운 평가 기준이 추가되어야 한다고 생각합니다. ...</td>\n",
       "      <td>평가는 일반적으로 평가대상의 장점과 가치를 결정하는 과정을 말합니다.\\n\\n 세상...</td>\n",
       "      <td>850</td>\n",
       "      <td>평가에 대한 본인의 의견</td>\n",
       "    </tr>\n",
       "    <tr>\n",
       "      <th>2</th>\n",
       "      <td>2</td>\n",
       "      <td>저는 현재의 평가 방식은 최고의 객관적인 평가 방식이라고 생각하지 않아요. 그 이유...</td>\n",
       "      <td>평가는 일반적으로 평가대상의 장점과 가치를 결정하는 과정을 말합니다.\\n\\n 세상...</td>\n",
       "      <td>817</td>\n",
       "      <td>평가에 대한 본인의 의견</td>\n",
       "    </tr>\n",
       "    <tr>\n",
       "      <th>3</th>\n",
       "      <td>3</td>\n",
       "      <td>평가란 평가대상의 장점과 가치를 결정하는 과정을 말한다. 학생들에게 동일한 평가지표...</td>\n",
       "      <td>평가는 일반적으로 평가대상의 장점과 가치를 결정하는 과정을 말합니다.\\n\\n 세상...</td>\n",
       "      <td>816</td>\n",
       "      <td>평가에 대한 본인의 의견</td>\n",
       "    </tr>\n",
       "    <tr>\n",
       "      <th>4</th>\n",
       "      <td>4</td>\n",
       "      <td>위에서 말한 것처럼 평가는 대상의 장점이나 가치를 결정하는 과정이기도 하지만, 요즘...</td>\n",
       "      <td>평가는 일반적으로 평가대상의 장점과 가치를 결정하는 과정을 말합니다.\\n\\n 세상...</td>\n",
       "      <td>818</td>\n",
       "      <td>평가에 대한 본인의 의견</td>\n",
       "    </tr>\n",
       "  </tbody>\n",
       "</table>\n",
       "</div>"
      ],
      "text/plain": [
       "   Unnamed: 0                                      paragraph_txt  \\\n",
       "0           0  저희 학교는 남녀공학입니다. 저번 체육시간에 원반던지기 평가가 있었습니다. 각 모둠...   \n",
       "1           1  저는 현재 우리의 평가 방식에서 새로운 평가 기준이 추가되어야 한다고 생각합니다. ...   \n",
       "2           2  저는 현재의 평가 방식은 최고의 객관적인 평가 방식이라고 생각하지 않아요. 그 이유...   \n",
       "3           3  평가란 평가대상의 장점과 가치를 결정하는 과정을 말한다. 학생들에게 동일한 평가지표...   \n",
       "4           4  위에서 말한 것처럼 평가는 대상의 장점이나 가치를 결정하는 과정이기도 하지만, 요즘...   \n",
       "\n",
       "                                        essay_prompt  essay_len  \\\n",
       "0   평가는 일반적으로 평가대상의 장점과 가치를 결정하는 과정을 말합니다.\\n\\n 세상...       1135   \n",
       "1   평가는 일반적으로 평가대상의 장점과 가치를 결정하는 과정을 말합니다.\\n\\n 세상...        850   \n",
       "2   평가는 일반적으로 평가대상의 장점과 가치를 결정하는 과정을 말합니다.\\n\\n 세상...        817   \n",
       "3   평가는 일반적으로 평가대상의 장점과 가치를 결정하는 과정을 말합니다.\\n\\n 세상...        816   \n",
       "4   평가는 일반적으로 평가대상의 장점과 가치를 결정하는 과정을 말합니다.\\n\\n 세상...        818   \n",
       "\n",
       "  essay_main_subject  \n",
       "0      평가에 대한 본인의 의견  \n",
       "1      평가에 대한 본인의 의견  \n",
       "2      평가에 대한 본인의 의견  \n",
       "3      평가에 대한 본인의 의견  \n",
       "4      평가에 대한 본인의 의견  "
      ]
     },
     "execution_count": 12,
     "metadata": {},
     "output_type": "execute_result"
    }
   ],
   "source": [
    "high1.head()"
   ]
  },
  {
   "cell_type": "code",
   "execution_count": 15,
   "metadata": {
    "id": "D0NhGL0_ng3p"
   },
   "outputs": [],
   "source": [
    "paraphrase_prompt = '''\n",
    "아래의 글을 정제된 언어로 paraphrase 해줘.\n",
    "--------------------\n",
    "{text}\n",
    "'''"
   ]
  },
  {
   "cell_type": "code",
   "execution_count": 47,
   "metadata": {
    "colab": {
     "base_uri": "https://localhost:8080/",
     "height": 352
    },
    "id": "8xnnMxf9otg5",
    "outputId": "b0e5e15d-439a-4f18-d933-7fc33775b9f3"
   },
   "outputs": [],
   "source": [
    "original_texts = []\n",
    "paraphrased_texts = []\n",
    "\n",
    "# 각 텍스트에 대해 paraphrase 실행\n",
    "for text in essay1['paragraph_txt']:\n",
    "    # 텍스트를 paraphrase_prompt에 삽입\n",
    "    user_prompt = paraphrase_prompt.format(text=text)\n",
    "\n",
    "    # API 요청 생성\n",
    "    completion = client.chat.completions.create(\n",
    "      model=MODEL,\n",
    "      messages=[\n",
    "        {\"role\": \"system\", \"content\": paraphrase_prompt},\n",
    "        {\"role\": \"user\", \"content\": user_prompt}\n",
    "      ]\n",
    "    )\n",
    "\n",
    "    # 결과 저장\n",
    "    original_texts.append(text)\n",
    "    paraphrased_texts.append(completion.choices[0].message.content)\n",
    "\n",
    "# DataFrame 생성\n",
    "df = pd.DataFrame({\n",
    "    'Original Text': original_texts,\n",
    "    'Paraphrased Text': paraphrased_texts\n",
    "})\n",
    "df.to_csv(\"paraphrase_high1\")"
   ]
  },
  {
   "cell_type": "code",
   "execution_count": 49,
   "metadata": {},
   "outputs": [
    {
     "data": {
      "text/plain": [
       "359"
      ]
     },
     "execution_count": 49,
     "metadata": {},
     "output_type": "execute_result"
    }
   ],
   "source": [
    "len(df)"
   ]
  },
  {
   "cell_type": "code",
   "execution_count": 50,
   "metadata": {
    "colab": {
     "base_uri": "https://localhost:8080/"
    },
    "id": "8uYsyfF0pJm8",
    "outputId": "de9a47ca-923b-44bd-d688-1c9ce45a2cc3"
   },
   "outputs": [
    {
     "name": "stdout",
     "output_type": "stream",
     "text": [
      "평가란 평가대상의 장점과 가치를 결정하는 과정을 말한다. 학생들에게 동일한 평가지표에 맞줘 평가한는 건 옳치 않다 생각한다. 교육평가의 정의를 목표달성도 확인, 의사결정을 위한 정보제공, 그리고 가치의 판단으로 구분할 수 있다. 이 관점은 가치판단적 의미를 축소하거나 배제시키고 교육평가를 교육에 관한 의사결정을 내릴 때 필요한 정보를 수집해서 의사결정에 활용하는 과정으로 부각시키려고 한다. 입장에서는 교육평가의 과정을 우선평가기준을 설정하고 관련 정보를 수집한 뒤에 평가기준을 적용하여 대상의 가치나 유용성, 효과, 중요성 등을 판단하는 것으로 생각한다. 더욱이 보상,채용,교육,훈련등 다른 프로세스와의 밀접한 상호 관련성을 고려하여 평가 제도를 설계해야 한다는 점도 평가자에 있어서는 큰 부담이다. 그럼에도 불구하고 올바른 성과주의 문화를 정착시키기 위해서는 공정하고 객관적인 평가 시스템의 구축이 반드시 필요하다. 평가에 대해 갖고 있는 오해를 불식시키고 바른 해결점을 찾아가는 과정이 뒷받침 되어야 좋은 평가 시스템이 얻어질수 있는 것 같다. 따라서 이 입장에서는 의사결정에 필요하다면 교육의 성과뿐만 아니라 정책, 제도, 시설, 재정 등과 같이 교육에 투입되고 운영되는 투입과 과정에 관한 정보도 수집하여 활용할 것을 강조한다. 평가라는 시스템이 사람을 얼마나 비참하게 만드는 지를 알고 지나간 평가는 다시 되돌릴 수 없기에 내가 생각하는 평가라는 지표는 인생에 매우 필요한 것이기도 하며 우리의 삶이라는 초원을 한 순간 불바다로 만들 수 있는 작은 불씨라고 할 수 있다. 하지만 이에 무반응하지 않고 개선하려는 노력 또한 필요할 것으로 보인다.\n"
     ]
    }
   ],
   "source": [
    "print(df['Original Text'][3])"
   ]
  },
  {
   "cell_type": "code",
   "execution_count": 51,
   "metadata": {
    "colab": {
     "base_uri": "https://localhost:8080/"
    },
    "id": "p4kIcpRVpqv7",
    "outputId": "87488056-9dd4-4c6b-8aae-0dd9a4a583aa"
   },
   "outputs": [
    {
     "name": "stdout",
     "output_type": "stream",
     "text": [
      "평가는 평가대상의 강점과 가치를 판별하는 과정입니다. 학생들에게 동일한 기준으로 평가하는 것은 바람직하지 않다고 생각합니다. 교육평가는 목표 달성 여부 확인, 의사결정을 위한 정보 제공, 가치 판단으로 정의될 수 있습니다. 이러한 관점은 교육평가의 가치 판단적 의미를 축소하거나 제외하고, 교육에 관한 의사결정을 내리기 위해 필요한 정보를 수집하고 이를 의사결정에 활용하는 과정으로 강조됩니다. 따라서 교육평가 과정은 먼저 평가 기준을 설정하고, 관련 정보를 수집한 뒤 평가 기준을 적용하여 대상의 가치나 유용성, 효과성, 중요성 등을 판단하는 것으로 이해됩니다. 또한 보상, 채용, 교육, 훈련 등 다른 프로세스와의 밀접한 연계성을 고려하여 평가 체계를 설계해야 한다는 점은 평가자에게 큰 부담으로 작용합니다. 그럼에도 불구하고 올바른 성과 중심 문화를 정착시키기 위해서는 공정하고 객관적인 평가 시스템이 꼭 필요합니다. 평가에 대한 오해를 해소하고 적절한 해결 방안을 찾는 과정이 좋은 평가 시스템의 구축에 기여할 것입니다. 따라서 이 관점에서는 교육 성과뿐만 아니라 정책, 제도, 시설, 재정 등 교육 운영과 관련된 정보도 수집하여 활용할 필요성이 강조됩니다. 평가라는 시스템이 개인에게 미치는 부정적인 영향을 인식하고, 과거의 평가는 되돌릴 수 없으므로 제가 생각하는 평가는 인생에서 매우 중요하며, 우리의 삶을 한순간에 변화시킬 수 있는 작은 요소라고 할 수 있습니다. 그러나 이에 대해 무관심하지 않고 개선을 위한 노력이 필요합니다.\n"
     ]
    }
   ],
   "source": [
    "print(df['Paraphrased Text'][3])"
   ]
  },
  {
   "cell_type": "markdown",
   "metadata": {},
   "source": [
    "paraphrase_high1 = original text + paraphrased text"
   ]
  },
  {
   "cell_type": "markdown",
   "metadata": {
    "id": "QWTY4b_Hq0ds"
   },
   "source": [
    "### 고1_맞춤법 검사\n",
    "-  **high1 데이터**"
   ]
  },
  {
   "cell_type": "code",
   "execution_count": 52,
   "metadata": {
    "id": "R9W572FmqKv0"
   },
   "outputs": [],
   "source": [
    "correction_prompt = '''\n",
    "아래의 글에서 띄어쓰기 및 맞춤법 오류가 있는지 확인해보고, 있는 경우 수정해줘. 그리고 수정된 글을 반환해줘.\n",
    "하나라도 수정한 글에는 글 앞에 '아래 글에서 맞춤법 오류를 수정한 내용입니다.\\n\\n-----'를 적어줘.\n",
    "--------------------\n",
    "{text}\n",
    "'''"
   ]
  },
  {
   "cell_type": "code",
   "execution_count": 53,
   "metadata": {
    "colab": {
     "base_uri": "https://localhost:8080/",
     "height": 352
    },
    "id": "OtKR2tfenwB_",
    "outputId": "5a6201e0-cc94-4141-9b12-6185b1cf4aa3"
   },
   "outputs": [],
   "source": [
    "original_texts = []\n",
    "correction_texts = []\n",
    "\n",
    "# 각 텍스트에 대해 paraphrase 실행\n",
    "for text in essay1['paragraph_txt']:\n",
    "    # 텍스트를 paraphrase_prompt에 삽입\n",
    "    user_prompt = correction_prompt.format(text=text)\n",
    "\n",
    "    # API 요청 생성\n",
    "    completion = client.chat.completions.create(\n",
    "      model=MODEL,\n",
    "      messages=[\n",
    "        {\"role\": \"system\", \"content\": correction_prompt},\n",
    "        {\"role\": \"user\", \"content\": user_prompt}\n",
    "      ],\n",
    "\n",
    "    temperature = 0.7\n",
    "    )\n",
    "\n",
    "    # 결과 저장\n",
    "    original_texts.append(text)\n",
    "    correction_texts.append(completion.choices[0].message.content)\n",
    "\n",
    "# DataFrame 생성\n",
    "high1_df2 = pd.DataFrame({\n",
    "    'Original Text': original_texts,\n",
    "    'Paraphrased Text': correction_texts\n",
    "})\n",
    "\n",
    "high1_df2['Paraphrased Text'] = high1_df2['Paraphrased Text'].str.replace(r'아래 글에서 맞춤법 오류를 수정한 내용입니다.\\n\\n-----', '', regex=True)\n",
    "\n",
    "high1_df2.to_csv(\"correction_high1\")"
   ]
  },
  {
   "cell_type": "code",
   "execution_count": 54,
   "metadata": {},
   "outputs": [],
   "source": [
    "# 컬럼 이름 변경\n",
    "high1_df2.rename(columns={'Paraphrased Text': 'Correction Text'}, inplace=True)\n",
    "\n",
    "# 결과 저장\n",
    "high1_df2.to_csv(\"correction_high1.csv\", index=False)  # 확장자 추가 및 index=False 설정"
   ]
  },
  {
   "cell_type": "code",
   "execution_count": 59,
   "metadata": {
    "colab": {
     "base_uri": "https://localhost:8080/"
    },
    "id": "F_JSn0tesBjE",
    "outputId": "4da32fc2-fa9c-4f97-e557-547c7fe507a6"
   },
   "outputs": [
    {
     "data": {
      "text/plain": [
       "Original Text      현재 우리학교생할은 학력중심사회로 우리는 고등학교과정을 대학을 가기위한 전과정으로 ...\n",
       "Correction Text    \\n\\n현재 우리 학교 생활은 학력 중심 사회로 우리는 고등학교 과정을 대학을 가기...\n",
       "Name: 135, dtype: object"
      ]
     },
     "execution_count": 59,
     "metadata": {},
     "output_type": "execute_result"
    }
   ],
   "source": [
    "high1_df2.iloc[135]"
   ]
  },
  {
   "cell_type": "code",
   "execution_count": 60,
   "metadata": {},
   "outputs": [],
   "source": [
    "# Correction Text 컬럼에서 \\n 제거\n",
    "high1_df2['Correction Text'] = high1_df2['Correction Text'].str.replace(r'\\n\\n', '', regex=True)\n",
    "\n",
    "# 결과 저장\n",
    "high1_df2.to_csv(\"correction_high1.csv\", index=False)"
   ]
  },
  {
   "cell_type": "code",
   "execution_count": 62,
   "metadata": {},
   "outputs": [
    {
     "data": {
      "text/html": [
       "<div>\n",
       "<style scoped>\n",
       "    .dataframe tbody tr th:only-of-type {\n",
       "        vertical-align: middle;\n",
       "    }\n",
       "\n",
       "    .dataframe tbody tr th {\n",
       "        vertical-align: top;\n",
       "    }\n",
       "\n",
       "    .dataframe thead th {\n",
       "        text-align: right;\n",
       "    }\n",
       "</style>\n",
       "<table border=\"1\" class=\"dataframe\">\n",
       "  <thead>\n",
       "    <tr style=\"text-align: right;\">\n",
       "      <th></th>\n",
       "      <th>Original Text</th>\n",
       "      <th>Correction Text</th>\n",
       "    </tr>\n",
       "  </thead>\n",
       "  <tbody>\n",
       "    <tr>\n",
       "      <th>0</th>\n",
       "      <td>저희 학교는 남녀공학입니다. 저번 체육시간에 원반던지기 평가가 있었습니다. 각 모둠...</td>\n",
       "      <td>저희 학교는 남녀공학입니다. 저번 체육 시간에 원반 던지기 평가가 있었습니다. 각 ...</td>\n",
       "    </tr>\n",
       "    <tr>\n",
       "      <th>1</th>\n",
       "      <td>저는 현재 우리의 평가 방식에서 새로운 평가 기준이 추가되어야 한다고 생각합니다. ...</td>\n",
       "      <td>저는 현재 우리의 평가 방식에서 새로운 평가 기준이 추가되어야 한다고 생각합니다. ...</td>\n",
       "    </tr>\n",
       "    <tr>\n",
       "      <th>2</th>\n",
       "      <td>저는 현재의 평가 방식은 최고의 객관적인 평가 방식이라고 생각하지 않아요. 그 이유...</td>\n",
       "      <td>저는 현재의 평가 방식은 최고의 객관적인 평가 방식이라고 생각하지 않아요. 그 이유...</td>\n",
       "    </tr>\n",
       "    <tr>\n",
       "      <th>3</th>\n",
       "      <td>평가란 평가대상의 장점과 가치를 결정하는 과정을 말한다. 학생들에게 동일한 평가지표...</td>\n",
       "      <td>평가란 평가 대상의 장점과 가치를 결정하는 과정을 말한다. 학생들에게 동일한 평가 ...</td>\n",
       "    </tr>\n",
       "    <tr>\n",
       "      <th>4</th>\n",
       "      <td>위에서 말한 것처럼 평가는 대상의 장점이나 가치를 결정하는 과정이기도 하지만, 요즘...</td>\n",
       "      <td>위에서 말한 것처럼 평가는 대상의 장점이나 가치를 결정하는 과정이기도 하지만, 요즘...</td>\n",
       "    </tr>\n",
       "    <tr>\n",
       "      <th>...</th>\n",
       "      <td>...</td>\n",
       "      <td>...</td>\n",
       "    </tr>\n",
       "    <tr>\n",
       "      <th>354</th>\n",
       "      <td>오늘은 많은 평가 중에서 교육 평가에 대해서 얘기해보려고 한다. 교육평가의 기능 중...</td>\n",
       "      <td>오늘은 많은 평가 중에서 교육 평가에 대해서 얘기해보려고 한다. 교육 평가의 기능 ...</td>\n",
       "    </tr>\n",
       "    <tr>\n",
       "      <th>355</th>\n",
       "      <td>장점과 가치를 결정하는 과정을 평가라고 하였을 때 이 평가는 우리에게 굉장히 중요한...</td>\n",
       "      <td>장점과 가치를 결정하는 과정을 평가라고 하였을 때 이 평가는 우리에게 굉장히 중요한...</td>\n",
       "    </tr>\n",
       "    <tr>\n",
       "      <th>356</th>\n",
       "      <td>안녕하세요. 저는 우리나라의 평가 방식이 다소 잘못된 방향으로 흘러가고 있다고 생각...</td>\n",
       "      <td>안녕하세요. 저는 우리나라의 평가 방식이 다소 잘못된 방향으로 흘러가고 있다고 생각...</td>\n",
       "    </tr>\n",
       "    <tr>\n",
       "      <th>357</th>\n",
       "      <td>저는 글을 쓰는 주제로 우리가 학교나 사회 생활을 하며 흔하게 겪었을 법한 '평가'...</td>\n",
       "      <td>저는 글을 쓰는 주제로 우리가 학교나 사회 생활을 하며 흔하게 겪었을 법한 '평가'...</td>\n",
       "    </tr>\n",
       "    <tr>\n",
       "      <th>358</th>\n",
       "      <td>현대사회는 학력중심사회로 우리는 고등학교과정을 대학을 가기위한 전과정으로 생각하는 ...</td>\n",
       "      <td>현대사회는 학력 중심 사회로 우리는 고등학교 과정을 대학을 가기 위한 전 과정으로 ...</td>\n",
       "    </tr>\n",
       "  </tbody>\n",
       "</table>\n",
       "<p>359 rows × 2 columns</p>\n",
       "</div>"
      ],
      "text/plain": [
       "                                         Original Text  \\\n",
       "0    저희 학교는 남녀공학입니다. 저번 체육시간에 원반던지기 평가가 있었습니다. 각 모둠...   \n",
       "1    저는 현재 우리의 평가 방식에서 새로운 평가 기준이 추가되어야 한다고 생각합니다. ...   \n",
       "2    저는 현재의 평가 방식은 최고의 객관적인 평가 방식이라고 생각하지 않아요. 그 이유...   \n",
       "3    평가란 평가대상의 장점과 가치를 결정하는 과정을 말한다. 학생들에게 동일한 평가지표...   \n",
       "4    위에서 말한 것처럼 평가는 대상의 장점이나 가치를 결정하는 과정이기도 하지만, 요즘...   \n",
       "..                                                 ...   \n",
       "354  오늘은 많은 평가 중에서 교육 평가에 대해서 얘기해보려고 한다. 교육평가의 기능 중...   \n",
       "355  장점과 가치를 결정하는 과정을 평가라고 하였을 때 이 평가는 우리에게 굉장히 중요한...   \n",
       "356  안녕하세요. 저는 우리나라의 평가 방식이 다소 잘못된 방향으로 흘러가고 있다고 생각...   \n",
       "357  저는 글을 쓰는 주제로 우리가 학교나 사회 생활을 하며 흔하게 겪었을 법한 '평가'...   \n",
       "358  현대사회는 학력중심사회로 우리는 고등학교과정을 대학을 가기위한 전과정으로 생각하는 ...   \n",
       "\n",
       "                                       Correction Text  \n",
       "0    저희 학교는 남녀공학입니다. 저번 체육 시간에 원반 던지기 평가가 있었습니다. 각 ...  \n",
       "1    저는 현재 우리의 평가 방식에서 새로운 평가 기준이 추가되어야 한다고 생각합니다. ...  \n",
       "2    저는 현재의 평가 방식은 최고의 객관적인 평가 방식이라고 생각하지 않아요. 그 이유...  \n",
       "3    평가란 평가 대상의 장점과 가치를 결정하는 과정을 말한다. 학생들에게 동일한 평가 ...  \n",
       "4    위에서 말한 것처럼 평가는 대상의 장점이나 가치를 결정하는 과정이기도 하지만, 요즘...  \n",
       "..                                                 ...  \n",
       "354  오늘은 많은 평가 중에서 교육 평가에 대해서 얘기해보려고 한다. 교육 평가의 기능 ...  \n",
       "355  장점과 가치를 결정하는 과정을 평가라고 하였을 때 이 평가는 우리에게 굉장히 중요한...  \n",
       "356  안녕하세요. 저는 우리나라의 평가 방식이 다소 잘못된 방향으로 흘러가고 있다고 생각...  \n",
       "357  저는 글을 쓰는 주제로 우리가 학교나 사회 생활을 하며 흔하게 겪었을 법한 '평가'...  \n",
       "358  현대사회는 학력 중심 사회로 우리는 고등학교 과정을 대학을 가기 위한 전 과정으로 ...  \n",
       "\n",
       "[359 rows x 2 columns]"
      ]
     },
     "execution_count": 62,
     "metadata": {},
     "output_type": "execute_result"
    }
   ],
   "source": [
    "high1_df2"
   ]
  },
  {
   "cell_type": "markdown",
   "metadata": {
    "id": "Irc2JGT2uDKx"
   },
   "source": [
    "### 고1_생성 (에세이 주제만 가지고)\n",
    "-  **high1 데이터**"
   ]
  },
  {
   "cell_type": "code",
   "execution_count": 63,
   "metadata": {
    "id": "n6WafEcSlbl2"
   },
   "outputs": [],
   "source": [
    "essay_prompt_high1 = '''\n",
    "평가는 일반적으로 평가대상의 장점과 가치를 결정하는 과정을 말합니다.\n",
    "세상에는 무수히 많은 평가 방법들이 존재하고 그 주제도 다양합니다.\n",
    "우리나라의 경우는 어떨까요? 중간, 기말시험이 있고 미술과 같은 기본기와 창의성을 평가하는 과목도 있습니다. 체육과 같은 신체적인 능력을 평가하는 과목도 있지요. 모두 적절한 기준이 있으며 매우 객관적인 기준이라고 말합니다.\n",
    "하지만 여러분이 생각하기에 모든 학생을 동일한 평가지표에 맞추어 평가하는 것이 올바른 방식이라고 생각하나요?\n",
    "사람마다 특성이 존재하듯 각각의 목표 또한 다르고 성과도 다를 수 있습니다. 특정 기준에 의존해 본인의 성과도를 평가하는 것이 바르다고 생각되나요?\n",
    "현재의 평가 방식은 최고의 객관적인 평가 방식이라고 생각하신다면 그 이유를 작성해주세요. 아니라면 어떤 평가 기준이 추가되어야 하고 또한 어떤 생각으로 평가가 이루어졌으면 좋겠는지 서술해 주세요.\n",
    "'''"
   ]
  },
  {
   "cell_type": "code",
   "execution_count": 64,
   "metadata": {
    "id": "yAKGm5OQmC6j"
   },
   "outputs": [],
   "source": [
    "agent_prompt_high1 = '''\n",
    "너는 고등학교 3학년 학생이고, 주장과 그에 대한 근거를 높은 수준에서 제시할 수 있어.\n",
    "다음 주제로 1000자 글짓기를 하고 있어. 주제에 대해 너의 근거를 들어 주장하는 글쓰기를 작성해줘.\n",
    "제목은 작성하지 않고, 본문만 작성해줘.\n",
    "'''"
   ]
  },
  {
   "cell_type": "code",
   "execution_count": 67,
   "metadata": {},
   "outputs": [],
   "source": [
    "import pandas as pd\n",
    "\n",
    "paraphrase_high1 = pd.read_csv('/Users/seunghyun/Downloads/paraphrase_high1.csv')  \n",
    "correction_high1 = pd.read_csv('/Users/seunghyun/Downloads/correction_high1.csv')  \n",
    "\n",
    "merged_df = pd.merge(paraphrase_high1, correction_high1, on='Original Text', how='inner')"
   ]
  },
  {
   "cell_type": "code",
   "execution_count": 68,
   "metadata": {},
   "outputs": [],
   "source": [
    "merged_df.to_csv(\"merged_high1.csv\", index=False)"
   ]
  },
  {
   "cell_type": "code",
   "execution_count": 70,
   "metadata": {},
   "outputs": [
    {
     "data": {
      "text/plain": [
       "361"
      ]
     },
     "execution_count": 70,
     "metadata": {},
     "output_type": "execute_result"
    }
   ],
   "source": [
    "len(merged_df)"
   ]
  },
  {
   "cell_type": "code",
   "execution_count": 71,
   "metadata": {},
   "outputs": [
    {
     "data": {
      "text/html": [
       "<div>\n",
       "<style scoped>\n",
       "    .dataframe tbody tr th:only-of-type {\n",
       "        vertical-align: middle;\n",
       "    }\n",
       "\n",
       "    .dataframe tbody tr th {\n",
       "        vertical-align: top;\n",
       "    }\n",
       "\n",
       "    .dataframe thead th {\n",
       "        text-align: right;\n",
       "    }\n",
       "</style>\n",
       "<table border=\"1\" class=\"dataframe\">\n",
       "  <thead>\n",
       "    <tr style=\"text-align: right;\">\n",
       "      <th></th>\n",
       "      <th>Unnamed: 0</th>\n",
       "      <th>Original Text</th>\n",
       "      <th>Paraphrased Text</th>\n",
       "      <th>Correction Text</th>\n",
       "    </tr>\n",
       "  </thead>\n",
       "  <tbody>\n",
       "    <tr>\n",
       "      <th>0</th>\n",
       "      <td>0</td>\n",
       "      <td>저희 학교는 남녀공학입니다. 저번 체육시간에 원반던지기 평가가 있었습니다. 각 모둠...</td>\n",
       "      <td>저희 학교는 남녀공학입니다. 최근 체육 시간에 원반던지기 평가가 있었습니다. 각 모...</td>\n",
       "      <td>저희 학교는 남녀공학입니다. 저번 체육 시간에 원반 던지기 평가가 있었습니다. 각 ...</td>\n",
       "    </tr>\n",
       "    <tr>\n",
       "      <th>1</th>\n",
       "      <td>1</td>\n",
       "      <td>저는 현재 우리의 평가 방식에서 새로운 평가 기준이 추가되어야 한다고 생각합니다. ...</td>\n",
       "      <td>현재의 평가 방식에 새로운 평가 기준을 추가할 필요가 있다고 생각합니다. 평가는 대...</td>\n",
       "      <td>저는 현재 우리의 평가 방식에서 새로운 평가 기준이 추가되어야 한다고 생각합니다. ...</td>\n",
       "    </tr>\n",
       "    <tr>\n",
       "      <th>2</th>\n",
       "      <td>2</td>\n",
       "      <td>저는 현재의 평가 방식은 최고의 객관적인 평가 방식이라고 생각하지 않아요. 그 이유...</td>\n",
       "      <td>현재의 평가 방식은 최고의 객관적인 방법이라고 생각하지 않습니다. 그 이유를 설명하...</td>\n",
       "      <td>저는 현재의 평가 방식은 최고의 객관적인 평가 방식이라고 생각하지 않아요. 그 이유...</td>\n",
       "    </tr>\n",
       "    <tr>\n",
       "      <th>3</th>\n",
       "      <td>3</td>\n",
       "      <td>평가란 평가대상의 장점과 가치를 결정하는 과정을 말한다. 학생들에게 동일한 평가지표...</td>\n",
       "      <td>평가는 평가대상의 강점과 가치를 판별하는 과정입니다. 학생들에게 동일한 기준으로 평...</td>\n",
       "      <td>평가란 평가 대상의 장점과 가치를 결정하는 과정을 말한다. 학생들에게 동일한 평가 ...</td>\n",
       "    </tr>\n",
       "    <tr>\n",
       "      <th>4</th>\n",
       "      <td>4</td>\n",
       "      <td>위에서 말한 것처럼 평가는 대상의 장점이나 가치를 결정하는 과정이기도 하지만, 요즘...</td>\n",
       "      <td>위에서 언급한 바와 같이 평가는 대상을 분석하여 그 가치를 파악하는 과정입니다. 그...</td>\n",
       "      <td>위에서 말한 것처럼 평가는 대상의 장점이나 가치를 결정하는 과정이기도 하지만, 요즘...</td>\n",
       "    </tr>\n",
       "  </tbody>\n",
       "</table>\n",
       "</div>"
      ],
      "text/plain": [
       "   Unnamed: 0                                      Original Text  \\\n",
       "0           0  저희 학교는 남녀공학입니다. 저번 체육시간에 원반던지기 평가가 있었습니다. 각 모둠...   \n",
       "1           1  저는 현재 우리의 평가 방식에서 새로운 평가 기준이 추가되어야 한다고 생각합니다. ...   \n",
       "2           2  저는 현재의 평가 방식은 최고의 객관적인 평가 방식이라고 생각하지 않아요. 그 이유...   \n",
       "3           3  평가란 평가대상의 장점과 가치를 결정하는 과정을 말한다. 학생들에게 동일한 평가지표...   \n",
       "4           4  위에서 말한 것처럼 평가는 대상의 장점이나 가치를 결정하는 과정이기도 하지만, 요즘...   \n",
       "\n",
       "                                    Paraphrased Text  \\\n",
       "0  저희 학교는 남녀공학입니다. 최근 체육 시간에 원반던지기 평가가 있었습니다. 각 모...   \n",
       "1  현재의 평가 방식에 새로운 평가 기준을 추가할 필요가 있다고 생각합니다. 평가는 대...   \n",
       "2  현재의 평가 방식은 최고의 객관적인 방법이라고 생각하지 않습니다. 그 이유를 설명하...   \n",
       "3  평가는 평가대상의 강점과 가치를 판별하는 과정입니다. 학생들에게 동일한 기준으로 평...   \n",
       "4  위에서 언급한 바와 같이 평가는 대상을 분석하여 그 가치를 파악하는 과정입니다. 그...   \n",
       "\n",
       "                                     Correction Text  \n",
       "0  저희 학교는 남녀공학입니다. 저번 체육 시간에 원반 던지기 평가가 있었습니다. 각 ...  \n",
       "1  저는 현재 우리의 평가 방식에서 새로운 평가 기준이 추가되어야 한다고 생각합니다. ...  \n",
       "2  저는 현재의 평가 방식은 최고의 객관적인 평가 방식이라고 생각하지 않아요. 그 이유...  \n",
       "3  평가란 평가 대상의 장점과 가치를 결정하는 과정을 말한다. 학생들에게 동일한 평가 ...  \n",
       "4  위에서 말한 것처럼 평가는 대상의 장점이나 가치를 결정하는 과정이기도 하지만, 요즘...  "
      ]
     },
     "execution_count": 71,
     "metadata": {},
     "output_type": "execute_result"
    }
   ],
   "source": [
    "merged_df.head()"
   ]
  },
  {
   "cell_type": "code",
   "execution_count": 72,
   "metadata": {},
   "outputs": [
    {
     "data": {
      "text/html": [
       "<div>\n",
       "<style scoped>\n",
       "    .dataframe tbody tr th:only-of-type {\n",
       "        vertical-align: middle;\n",
       "    }\n",
       "\n",
       "    .dataframe tbody tr th {\n",
       "        vertical-align: top;\n",
       "    }\n",
       "\n",
       "    .dataframe thead th {\n",
       "        text-align: right;\n",
       "    }\n",
       "</style>\n",
       "<table border=\"1\" class=\"dataframe\">\n",
       "  <thead>\n",
       "    <tr style=\"text-align: right;\">\n",
       "      <th></th>\n",
       "      <th>Unnamed: 0</th>\n",
       "      <th>Original Text</th>\n",
       "      <th>Paraphrased Text</th>\n",
       "      <th>Correction Text</th>\n",
       "    </tr>\n",
       "  </thead>\n",
       "  <tbody>\n",
       "    <tr>\n",
       "      <th>356</th>\n",
       "      <td>354</td>\n",
       "      <td>오늘은 많은 평가 중에서 교육 평가에 대해서 얘기해보려고 한다. 교육평가의 기능 중...</td>\n",
       "      <td>오늘은 다양한 평가 분야 중 교육 평가에 대해 논의하고자 합니다. 교육 평가의 기능...</td>\n",
       "      <td>오늘은 많은 평가 중에서 교육 평가에 대해서 얘기해보려고 한다. 교육 평가의 기능 ...</td>\n",
       "    </tr>\n",
       "    <tr>\n",
       "      <th>357</th>\n",
       "      <td>355</td>\n",
       "      <td>장점과 가치를 결정하는 과정을 평가라고 하였을 때 이 평가는 우리에게 굉장히 중요한...</td>\n",
       "      <td>장점과 가치를 결정하는 과정을 평가라고 정의할 때, 이 평가는 우리의 삶에서 매우 ...</td>\n",
       "      <td>장점과 가치를 결정하는 과정을 평가라고 하였을 때 이 평가는 우리에게 굉장히 중요한...</td>\n",
       "    </tr>\n",
       "    <tr>\n",
       "      <th>358</th>\n",
       "      <td>356</td>\n",
       "      <td>안녕하세요. 저는 우리나라의 평가 방식이 다소 잘못된 방향으로 흘러가고 있다고 생각...</td>\n",
       "      <td>안녕하세요. 저는 우리나라의 평가 방식이 다소 잘못된 방향으로 진행되고 있다고 생각...</td>\n",
       "      <td>안녕하세요. 저는 우리나라의 평가 방식이 다소 잘못된 방향으로 흘러가고 있다고 생각...</td>\n",
       "    </tr>\n",
       "    <tr>\n",
       "      <th>359</th>\n",
       "      <td>357</td>\n",
       "      <td>저는 글을 쓰는 주제로 우리가 학교나 사회 생활을 하며 흔하게 겪었을 법한 '평가'...</td>\n",
       "      <td>저는 글의 주제로 우리가 학교와 사회에서 흔히 경험하는 '평가'에 대한 제 생각을 ...</td>\n",
       "      <td>저는 글을 쓰는 주제로 우리가 학교나 사회 생활을 하며 흔하게 겪었을 법한 '평가'...</td>\n",
       "    </tr>\n",
       "    <tr>\n",
       "      <th>360</th>\n",
       "      <td>358</td>\n",
       "      <td>현대사회는 학력중심사회로 우리는 고등학교과정을 대학을 가기위한 전과정으로 생각하는 ...</td>\n",
       "      <td>현대 사회는 학력을 중시하는 경향이 강해, 많은 사람들이 고등학교 과정을 대학 진학...</td>\n",
       "      <td>현대사회는 학력 중심 사회로 우리는 고등학교 과정을 대학을 가기 위한 전 과정으로 ...</td>\n",
       "    </tr>\n",
       "  </tbody>\n",
       "</table>\n",
       "</div>"
      ],
      "text/plain": [
       "     Unnamed: 0                                      Original Text  \\\n",
       "356         354  오늘은 많은 평가 중에서 교육 평가에 대해서 얘기해보려고 한다. 교육평가의 기능 중...   \n",
       "357         355  장점과 가치를 결정하는 과정을 평가라고 하였을 때 이 평가는 우리에게 굉장히 중요한...   \n",
       "358         356  안녕하세요. 저는 우리나라의 평가 방식이 다소 잘못된 방향으로 흘러가고 있다고 생각...   \n",
       "359         357  저는 글을 쓰는 주제로 우리가 학교나 사회 생활을 하며 흔하게 겪었을 법한 '평가'...   \n",
       "360         358  현대사회는 학력중심사회로 우리는 고등학교과정을 대학을 가기위한 전과정으로 생각하는 ...   \n",
       "\n",
       "                                      Paraphrased Text  \\\n",
       "356  오늘은 다양한 평가 분야 중 교육 평가에 대해 논의하고자 합니다. 교육 평가의 기능...   \n",
       "357  장점과 가치를 결정하는 과정을 평가라고 정의할 때, 이 평가는 우리의 삶에서 매우 ...   \n",
       "358  안녕하세요. 저는 우리나라의 평가 방식이 다소 잘못된 방향으로 진행되고 있다고 생각...   \n",
       "359  저는 글의 주제로 우리가 학교와 사회에서 흔히 경험하는 '평가'에 대한 제 생각을 ...   \n",
       "360  현대 사회는 학력을 중시하는 경향이 강해, 많은 사람들이 고등학교 과정을 대학 진학...   \n",
       "\n",
       "                                       Correction Text  \n",
       "356  오늘은 많은 평가 중에서 교육 평가에 대해서 얘기해보려고 한다. 교육 평가의 기능 ...  \n",
       "357  장점과 가치를 결정하는 과정을 평가라고 하였을 때 이 평가는 우리에게 굉장히 중요한...  \n",
       "358  안녕하세요. 저는 우리나라의 평가 방식이 다소 잘못된 방향으로 흘러가고 있다고 생각...  \n",
       "359  저는 글을 쓰는 주제로 우리가 학교나 사회 생활을 하며 흔하게 겪었을 법한 '평가'...  \n",
       "360  현대사회는 학력 중심 사회로 우리는 고등학교 과정을 대학을 가기 위한 전 과정으로 ...  "
      ]
     },
     "execution_count": 72,
     "metadata": {},
     "output_type": "execute_result"
    }
   ],
   "source": [
    "merged_df.tail()"
   ]
  },
  {
   "cell_type": "code",
   "execution_count": 77,
   "metadata": {},
   "outputs": [],
   "source": [
    "merged_df = merged_df.drop('Unnamed: 0', axis=1)"
   ]
  },
  {
   "cell_type": "code",
   "execution_count": 78,
   "metadata": {},
   "outputs": [
    {
     "data": {
      "text/html": [
       "<div>\n",
       "<style scoped>\n",
       "    .dataframe tbody tr th:only-of-type {\n",
       "        vertical-align: middle;\n",
       "    }\n",
       "\n",
       "    .dataframe tbody tr th {\n",
       "        vertical-align: top;\n",
       "    }\n",
       "\n",
       "    .dataframe thead th {\n",
       "        text-align: right;\n",
       "    }\n",
       "</style>\n",
       "<table border=\"1\" class=\"dataframe\">\n",
       "  <thead>\n",
       "    <tr style=\"text-align: right;\">\n",
       "      <th></th>\n",
       "      <th>Original Text</th>\n",
       "      <th>Paraphrased Text</th>\n",
       "      <th>Correction Text</th>\n",
       "    </tr>\n",
       "  </thead>\n",
       "  <tbody>\n",
       "    <tr>\n",
       "      <th>0</th>\n",
       "      <td>저희 학교는 남녀공학입니다. 저번 체육시간에 원반던지기 평가가 있었습니다. 각 모둠...</td>\n",
       "      <td>저희 학교는 남녀공학입니다. 최근 체육 시간에 원반던지기 평가가 있었습니다. 각 모...</td>\n",
       "      <td>저희 학교는 남녀공학입니다. 저번 체육 시간에 원반 던지기 평가가 있었습니다. 각 ...</td>\n",
       "    </tr>\n",
       "    <tr>\n",
       "      <th>1</th>\n",
       "      <td>저는 현재 우리의 평가 방식에서 새로운 평가 기준이 추가되어야 한다고 생각합니다. ...</td>\n",
       "      <td>현재의 평가 방식에 새로운 평가 기준을 추가할 필요가 있다고 생각합니다. 평가는 대...</td>\n",
       "      <td>저는 현재 우리의 평가 방식에서 새로운 평가 기준이 추가되어야 한다고 생각합니다. ...</td>\n",
       "    </tr>\n",
       "    <tr>\n",
       "      <th>2</th>\n",
       "      <td>저는 현재의 평가 방식은 최고의 객관적인 평가 방식이라고 생각하지 않아요. 그 이유...</td>\n",
       "      <td>현재의 평가 방식은 최고의 객관적인 방법이라고 생각하지 않습니다. 그 이유를 설명하...</td>\n",
       "      <td>저는 현재의 평가 방식은 최고의 객관적인 평가 방식이라고 생각하지 않아요. 그 이유...</td>\n",
       "    </tr>\n",
       "    <tr>\n",
       "      <th>3</th>\n",
       "      <td>평가란 평가대상의 장점과 가치를 결정하는 과정을 말한다. 학생들에게 동일한 평가지표...</td>\n",
       "      <td>평가는 평가대상의 강점과 가치를 판별하는 과정입니다. 학생들에게 동일한 기준으로 평...</td>\n",
       "      <td>평가란 평가 대상의 장점과 가치를 결정하는 과정을 말한다. 학생들에게 동일한 평가 ...</td>\n",
       "    </tr>\n",
       "    <tr>\n",
       "      <th>4</th>\n",
       "      <td>위에서 말한 것처럼 평가는 대상의 장점이나 가치를 결정하는 과정이기도 하지만, 요즘...</td>\n",
       "      <td>위에서 언급한 바와 같이 평가는 대상을 분석하여 그 가치를 파악하는 과정입니다. 그...</td>\n",
       "      <td>위에서 말한 것처럼 평가는 대상의 장점이나 가치를 결정하는 과정이기도 하지만, 요즘...</td>\n",
       "    </tr>\n",
       "    <tr>\n",
       "      <th>...</th>\n",
       "      <td>...</td>\n",
       "      <td>...</td>\n",
       "      <td>...</td>\n",
       "    </tr>\n",
       "    <tr>\n",
       "      <th>356</th>\n",
       "      <td>오늘은 많은 평가 중에서 교육 평가에 대해서 얘기해보려고 한다. 교육평가의 기능 중...</td>\n",
       "      <td>오늘은 다양한 평가 분야 중 교육 평가에 대해 논의하고자 합니다. 교육 평가의 기능...</td>\n",
       "      <td>오늘은 많은 평가 중에서 교육 평가에 대해서 얘기해보려고 한다. 교육 평가의 기능 ...</td>\n",
       "    </tr>\n",
       "    <tr>\n",
       "      <th>357</th>\n",
       "      <td>장점과 가치를 결정하는 과정을 평가라고 하였을 때 이 평가는 우리에게 굉장히 중요한...</td>\n",
       "      <td>장점과 가치를 결정하는 과정을 평가라고 정의할 때, 이 평가는 우리의 삶에서 매우 ...</td>\n",
       "      <td>장점과 가치를 결정하는 과정을 평가라고 하였을 때 이 평가는 우리에게 굉장히 중요한...</td>\n",
       "    </tr>\n",
       "    <tr>\n",
       "      <th>358</th>\n",
       "      <td>안녕하세요. 저는 우리나라의 평가 방식이 다소 잘못된 방향으로 흘러가고 있다고 생각...</td>\n",
       "      <td>안녕하세요. 저는 우리나라의 평가 방식이 다소 잘못된 방향으로 진행되고 있다고 생각...</td>\n",
       "      <td>안녕하세요. 저는 우리나라의 평가 방식이 다소 잘못된 방향으로 흘러가고 있다고 생각...</td>\n",
       "    </tr>\n",
       "    <tr>\n",
       "      <th>359</th>\n",
       "      <td>저는 글을 쓰는 주제로 우리가 학교나 사회 생활을 하며 흔하게 겪었을 법한 '평가'...</td>\n",
       "      <td>저는 글의 주제로 우리가 학교와 사회에서 흔히 경험하는 '평가'에 대한 제 생각을 ...</td>\n",
       "      <td>저는 글을 쓰는 주제로 우리가 학교나 사회 생활을 하며 흔하게 겪었을 법한 '평가'...</td>\n",
       "    </tr>\n",
       "    <tr>\n",
       "      <th>360</th>\n",
       "      <td>현대사회는 학력중심사회로 우리는 고등학교과정을 대학을 가기위한 전과정으로 생각하는 ...</td>\n",
       "      <td>현대 사회는 학력을 중시하는 경향이 강해, 많은 사람들이 고등학교 과정을 대학 진학...</td>\n",
       "      <td>현대사회는 학력 중심 사회로 우리는 고등학교 과정을 대학을 가기 위한 전 과정으로 ...</td>\n",
       "    </tr>\n",
       "  </tbody>\n",
       "</table>\n",
       "<p>361 rows × 3 columns</p>\n",
       "</div>"
      ],
      "text/plain": [
       "                                         Original Text  \\\n",
       "0    저희 학교는 남녀공학입니다. 저번 체육시간에 원반던지기 평가가 있었습니다. 각 모둠...   \n",
       "1    저는 현재 우리의 평가 방식에서 새로운 평가 기준이 추가되어야 한다고 생각합니다. ...   \n",
       "2    저는 현재의 평가 방식은 최고의 객관적인 평가 방식이라고 생각하지 않아요. 그 이유...   \n",
       "3    평가란 평가대상의 장점과 가치를 결정하는 과정을 말한다. 학생들에게 동일한 평가지표...   \n",
       "4    위에서 말한 것처럼 평가는 대상의 장점이나 가치를 결정하는 과정이기도 하지만, 요즘...   \n",
       "..                                                 ...   \n",
       "356  오늘은 많은 평가 중에서 교육 평가에 대해서 얘기해보려고 한다. 교육평가의 기능 중...   \n",
       "357  장점과 가치를 결정하는 과정을 평가라고 하였을 때 이 평가는 우리에게 굉장히 중요한...   \n",
       "358  안녕하세요. 저는 우리나라의 평가 방식이 다소 잘못된 방향으로 흘러가고 있다고 생각...   \n",
       "359  저는 글을 쓰는 주제로 우리가 학교나 사회 생활을 하며 흔하게 겪었을 법한 '평가'...   \n",
       "360  현대사회는 학력중심사회로 우리는 고등학교과정을 대학을 가기위한 전과정으로 생각하는 ...   \n",
       "\n",
       "                                      Paraphrased Text  \\\n",
       "0    저희 학교는 남녀공학입니다. 최근 체육 시간에 원반던지기 평가가 있었습니다. 각 모...   \n",
       "1    현재의 평가 방식에 새로운 평가 기준을 추가할 필요가 있다고 생각합니다. 평가는 대...   \n",
       "2    현재의 평가 방식은 최고의 객관적인 방법이라고 생각하지 않습니다. 그 이유를 설명하...   \n",
       "3    평가는 평가대상의 강점과 가치를 판별하는 과정입니다. 학생들에게 동일한 기준으로 평...   \n",
       "4    위에서 언급한 바와 같이 평가는 대상을 분석하여 그 가치를 파악하는 과정입니다. 그...   \n",
       "..                                                 ...   \n",
       "356  오늘은 다양한 평가 분야 중 교육 평가에 대해 논의하고자 합니다. 교육 평가의 기능...   \n",
       "357  장점과 가치를 결정하는 과정을 평가라고 정의할 때, 이 평가는 우리의 삶에서 매우 ...   \n",
       "358  안녕하세요. 저는 우리나라의 평가 방식이 다소 잘못된 방향으로 진행되고 있다고 생각...   \n",
       "359  저는 글의 주제로 우리가 학교와 사회에서 흔히 경험하는 '평가'에 대한 제 생각을 ...   \n",
       "360  현대 사회는 학력을 중시하는 경향이 강해, 많은 사람들이 고등학교 과정을 대학 진학...   \n",
       "\n",
       "                                       Correction Text  \n",
       "0    저희 학교는 남녀공학입니다. 저번 체육 시간에 원반 던지기 평가가 있었습니다. 각 ...  \n",
       "1    저는 현재 우리의 평가 방식에서 새로운 평가 기준이 추가되어야 한다고 생각합니다. ...  \n",
       "2    저는 현재의 평가 방식은 최고의 객관적인 평가 방식이라고 생각하지 않아요. 그 이유...  \n",
       "3    평가란 평가 대상의 장점과 가치를 결정하는 과정을 말한다. 학생들에게 동일한 평가 ...  \n",
       "4    위에서 말한 것처럼 평가는 대상의 장점이나 가치를 결정하는 과정이기도 하지만, 요즘...  \n",
       "..                                                 ...  \n",
       "356  오늘은 많은 평가 중에서 교육 평가에 대해서 얘기해보려고 한다. 교육 평가의 기능 ...  \n",
       "357  장점과 가치를 결정하는 과정을 평가라고 하였을 때 이 평가는 우리에게 굉장히 중요한...  \n",
       "358  안녕하세요. 저는 우리나라의 평가 방식이 다소 잘못된 방향으로 흘러가고 있다고 생각...  \n",
       "359  저는 글을 쓰는 주제로 우리가 학교나 사회 생활을 하며 흔하게 겪었을 법한 '평가'...  \n",
       "360  현대사회는 학력 중심 사회로 우리는 고등학교 과정을 대학을 가기 위한 전 과정으로 ...  \n",
       "\n",
       "[361 rows x 3 columns]"
      ]
     },
     "execution_count": 78,
     "metadata": {},
     "output_type": "execute_result"
    }
   ],
   "source": [
    "merged_df"
   ]
  },
  {
   "cell_type": "code",
   "execution_count": 79,
   "metadata": {},
   "outputs": [],
   "source": [
    "merged2 = merged_df[:100]"
   ]
  },
  {
   "cell_type": "code",
   "execution_count": 80,
   "metadata": {},
   "outputs": [
    {
     "data": {
      "text/plain": [
       "100"
      ]
     },
     "execution_count": 80,
     "metadata": {},
     "output_type": "execute_result"
    }
   ],
   "source": [
    "len(merged2)"
   ]
  },
  {
   "cell_type": "code",
   "execution_count": 81,
   "metadata": {},
   "outputs": [
    {
     "data": {
      "text/html": [
       "<div>\n",
       "<style scoped>\n",
       "    .dataframe tbody tr th:only-of-type {\n",
       "        vertical-align: middle;\n",
       "    }\n",
       "\n",
       "    .dataframe tbody tr th {\n",
       "        vertical-align: top;\n",
       "    }\n",
       "\n",
       "    .dataframe thead th {\n",
       "        text-align: right;\n",
       "    }\n",
       "</style>\n",
       "<table border=\"1\" class=\"dataframe\">\n",
       "  <thead>\n",
       "    <tr style=\"text-align: right;\">\n",
       "      <th></th>\n",
       "      <th>Original Text</th>\n",
       "      <th>Paraphrased Text</th>\n",
       "      <th>Correction Text</th>\n",
       "    </tr>\n",
       "  </thead>\n",
       "  <tbody>\n",
       "    <tr>\n",
       "      <th>0</th>\n",
       "      <td>저희 학교는 남녀공학입니다. 저번 체육시간에 원반던지기 평가가 있었습니다. 각 모둠...</td>\n",
       "      <td>저희 학교는 남녀공학입니다. 최근 체육 시간에 원반던지기 평가가 있었습니다. 각 모...</td>\n",
       "      <td>저희 학교는 남녀공학입니다. 저번 체육 시간에 원반 던지기 평가가 있었습니다. 각 ...</td>\n",
       "    </tr>\n",
       "    <tr>\n",
       "      <th>1</th>\n",
       "      <td>저는 현재 우리의 평가 방식에서 새로운 평가 기준이 추가되어야 한다고 생각합니다. ...</td>\n",
       "      <td>현재의 평가 방식에 새로운 평가 기준을 추가할 필요가 있다고 생각합니다. 평가는 대...</td>\n",
       "      <td>저는 현재 우리의 평가 방식에서 새로운 평가 기준이 추가되어야 한다고 생각합니다. ...</td>\n",
       "    </tr>\n",
       "    <tr>\n",
       "      <th>2</th>\n",
       "      <td>저는 현재의 평가 방식은 최고의 객관적인 평가 방식이라고 생각하지 않아요. 그 이유...</td>\n",
       "      <td>현재의 평가 방식은 최고의 객관적인 방법이라고 생각하지 않습니다. 그 이유를 설명하...</td>\n",
       "      <td>저는 현재의 평가 방식은 최고의 객관적인 평가 방식이라고 생각하지 않아요. 그 이유...</td>\n",
       "    </tr>\n",
       "    <tr>\n",
       "      <th>3</th>\n",
       "      <td>평가란 평가대상의 장점과 가치를 결정하는 과정을 말한다. 학생들에게 동일한 평가지표...</td>\n",
       "      <td>평가는 평가대상의 강점과 가치를 판별하는 과정입니다. 학생들에게 동일한 기준으로 평...</td>\n",
       "      <td>평가란 평가 대상의 장점과 가치를 결정하는 과정을 말한다. 학생들에게 동일한 평가 ...</td>\n",
       "    </tr>\n",
       "    <tr>\n",
       "      <th>4</th>\n",
       "      <td>위에서 말한 것처럼 평가는 대상의 장점이나 가치를 결정하는 과정이기도 하지만, 요즘...</td>\n",
       "      <td>위에서 언급한 바와 같이 평가는 대상을 분석하여 그 가치를 파악하는 과정입니다. 그...</td>\n",
       "      <td>위에서 말한 것처럼 평가는 대상의 장점이나 가치를 결정하는 과정이기도 하지만, 요즘...</td>\n",
       "    </tr>\n",
       "    <tr>\n",
       "      <th>...</th>\n",
       "      <td>...</td>\n",
       "      <td>...</td>\n",
       "      <td>...</td>\n",
       "    </tr>\n",
       "    <tr>\n",
       "      <th>95</th>\n",
       "      <td>나는 수학능력시험에 대해 정의를 실현한다고 생각하지 않는다. 왜냐하면 이런 평가는 ...</td>\n",
       "      <td>나는 수학능력시험이 정의를 실현한다고 보지 않는다. 이는 조선시대의 과거제와 유사하...</td>\n",
       "      <td>\\n나는 수학능력시험에 대해 정의를 실현한다고 생각하지 않는다. 왜냐하면 이런 평가...</td>\n",
       "    </tr>\n",
       "    <tr>\n",
       "      <th>96</th>\n",
       "      <td>나는 우리나라 수학능력평가시험이 현 입시의 평가인 일명 수능으로만 평가를 하여 대학...</td>\n",
       "      <td>저는 우리나라의 수학능력평가시험이 대학교 입학 여부를 결정하는 유일한 기준으로 사용...</td>\n",
       "      <td>나는 우리나라 수학능력평가시험이 현 입시의 평가인 일명 수능으로만 평가를 하여 대학...</td>\n",
       "    </tr>\n",
       "    <tr>\n",
       "      <th>97</th>\n",
       "      <td>평가는 학생 뿐만 아니라 태어나면서 부터 성인이 돼서 사회에 나가서도 계속되는게 평...</td>\n",
       "      <td>평가는 학생뿐만 아니라 인간이 태어나 성인이 되어 사회에 나가는 동안 지속되는 중요...</td>\n",
       "      <td>평가는 학생 뿐만 아니라 태어나면서부터 성인이 돼서 사회에 나가서도 계속되는 게 평...</td>\n",
       "    </tr>\n",
       "    <tr>\n",
       "      <th>98</th>\n",
       "      <td>저는 현재 진행되고 있는 평가 방식이 가장 객관적인 방식이라고 생각합니다. 왜냐하면...</td>\n",
       "      <td>현재 시행되고 있는 평가 방식이 가장 객관적이라고 생각합니다. 평가란 본질적으로 평...</td>\n",
       "      <td>저는 현재 진행되고 있는 평가 방식이 가장 객관적인 방식이라고 생각합니다. 왜냐하면...</td>\n",
       "    </tr>\n",
       "    <tr>\n",
       "      <th>99</th>\n",
       "      <td>저는 현재의 평가 방식이 옳은 방식이 아니라고 생각합니다. 사람은 각자 특색이 있고...</td>\n",
       "      <td>현재의 평가 방식이 적절하지 않다고 생각합니다. 각 사람은 고유한 특성과 능력을 가...</td>\n",
       "      <td>저는 현재의 평가 방식이 옳은 방식이 아니라고 생각합니다. 사람은 각자 특색이 있고...</td>\n",
       "    </tr>\n",
       "  </tbody>\n",
       "</table>\n",
       "<p>100 rows × 3 columns</p>\n",
       "</div>"
      ],
      "text/plain": [
       "                                        Original Text  \\\n",
       "0   저희 학교는 남녀공학입니다. 저번 체육시간에 원반던지기 평가가 있었습니다. 각 모둠...   \n",
       "1   저는 현재 우리의 평가 방식에서 새로운 평가 기준이 추가되어야 한다고 생각합니다. ...   \n",
       "2   저는 현재의 평가 방식은 최고의 객관적인 평가 방식이라고 생각하지 않아요. 그 이유...   \n",
       "3   평가란 평가대상의 장점과 가치를 결정하는 과정을 말한다. 학생들에게 동일한 평가지표...   \n",
       "4   위에서 말한 것처럼 평가는 대상의 장점이나 가치를 결정하는 과정이기도 하지만, 요즘...   \n",
       "..                                                ...   \n",
       "95  나는 수학능력시험에 대해 정의를 실현한다고 생각하지 않는다. 왜냐하면 이런 평가는 ...   \n",
       "96  나는 우리나라 수학능력평가시험이 현 입시의 평가인 일명 수능으로만 평가를 하여 대학...   \n",
       "97  평가는 학생 뿐만 아니라 태어나면서 부터 성인이 돼서 사회에 나가서도 계속되는게 평...   \n",
       "98  저는 현재 진행되고 있는 평가 방식이 가장 객관적인 방식이라고 생각합니다. 왜냐하면...   \n",
       "99  저는 현재의 평가 방식이 옳은 방식이 아니라고 생각합니다. 사람은 각자 특색이 있고...   \n",
       "\n",
       "                                     Paraphrased Text  \\\n",
       "0   저희 학교는 남녀공학입니다. 최근 체육 시간에 원반던지기 평가가 있었습니다. 각 모...   \n",
       "1   현재의 평가 방식에 새로운 평가 기준을 추가할 필요가 있다고 생각합니다. 평가는 대...   \n",
       "2   현재의 평가 방식은 최고의 객관적인 방법이라고 생각하지 않습니다. 그 이유를 설명하...   \n",
       "3   평가는 평가대상의 강점과 가치를 판별하는 과정입니다. 학생들에게 동일한 기준으로 평...   \n",
       "4   위에서 언급한 바와 같이 평가는 대상을 분석하여 그 가치를 파악하는 과정입니다. 그...   \n",
       "..                                                ...   \n",
       "95  나는 수학능력시험이 정의를 실현한다고 보지 않는다. 이는 조선시대의 과거제와 유사하...   \n",
       "96  저는 우리나라의 수학능력평가시험이 대학교 입학 여부를 결정하는 유일한 기준으로 사용...   \n",
       "97  평가는 학생뿐만 아니라 인간이 태어나 성인이 되어 사회에 나가는 동안 지속되는 중요...   \n",
       "98  현재 시행되고 있는 평가 방식이 가장 객관적이라고 생각합니다. 평가란 본질적으로 평...   \n",
       "99  현재의 평가 방식이 적절하지 않다고 생각합니다. 각 사람은 고유한 특성과 능력을 가...   \n",
       "\n",
       "                                      Correction Text  \n",
       "0   저희 학교는 남녀공학입니다. 저번 체육 시간에 원반 던지기 평가가 있었습니다. 각 ...  \n",
       "1   저는 현재 우리의 평가 방식에서 새로운 평가 기준이 추가되어야 한다고 생각합니다. ...  \n",
       "2   저는 현재의 평가 방식은 최고의 객관적인 평가 방식이라고 생각하지 않아요. 그 이유...  \n",
       "3   평가란 평가 대상의 장점과 가치를 결정하는 과정을 말한다. 학생들에게 동일한 평가 ...  \n",
       "4   위에서 말한 것처럼 평가는 대상의 장점이나 가치를 결정하는 과정이기도 하지만, 요즘...  \n",
       "..                                                ...  \n",
       "95  \\n나는 수학능력시험에 대해 정의를 실현한다고 생각하지 않는다. 왜냐하면 이런 평가...  \n",
       "96  나는 우리나라 수학능력평가시험이 현 입시의 평가인 일명 수능으로만 평가를 하여 대학...  \n",
       "97  평가는 학생 뿐만 아니라 태어나면서부터 성인이 돼서 사회에 나가서도 계속되는 게 평...  \n",
       "98  저는 현재 진행되고 있는 평가 방식이 가장 객관적인 방식이라고 생각합니다. 왜냐하면...  \n",
       "99  저는 현재의 평가 방식이 옳은 방식이 아니라고 생각합니다. 사람은 각자 특색이 있고...  \n",
       "\n",
       "[100 rows x 3 columns]"
      ]
     },
     "execution_count": 81,
     "metadata": {},
     "output_type": "execute_result"
    }
   ],
   "source": [
    "merged2"
   ]
  },
  {
   "cell_type": "code",
   "execution_count": 82,
   "metadata": {
    "id": "flIuRkFtiXYA"
   },
   "outputs": [
    {
     "name": "stderr",
     "output_type": "stream",
     "text": [
      "/var/folders/z9/csz01p_s7kj4t80shshdpg1w0000gn/T/ipykernel_8821/2250006245.py:16: SettingWithCopyWarning: \n",
      "A value is trying to be set on a copy of a slice from a DataFrame.\n",
      "Try using .loc[row_indexer,col_indexer] = value instead\n",
      "\n",
      "See the caveats in the documentation: https://pandas.pydata.org/pandas-docs/stable/user_guide/indexing.html#returning-a-view-versus-a-copy\n",
      "  merged2['Generated Texts'] = generated_texts\n"
     ]
    }
   ],
   "source": [
    "#generation\n",
    "\n",
    "generated_texts = []\n",
    "for text in essay1['paragraph_txt'][:100]:  \n",
    "    completion = client.chat.completions.create(\n",
    "        model=MODEL,\n",
    "        messages=[\n",
    "            {\"role\": \"system\", \"content\": agent_prompt_high1},\n",
    "            {\"role\": \"user\", \"content\": essay_prompt_high1}\n",
    "        ],\n",
    "        temperature=1.0\n",
    "    )\n",
    "    generated_texts.append(completion.choices[0].message.content)\n",
    "\n",
    "# 병합된 데이터프레임에 Generated Texts 컬럼 추가\n",
    "merged2['Generated Texts'] = generated_texts\n",
    "\n",
    "# 저장 또는 데이터 확인\n",
    "merged2.to_csv('merged_high1.csv', index=False) "
   ]
  },
  {
   "cell_type": "code",
   "execution_count": 84,
   "metadata": {},
   "outputs": [
    {
     "name": "stderr",
     "output_type": "stream",
     "text": [
      "/var/folders/z9/csz01p_s7kj4t80shshdpg1w0000gn/T/ipykernel_8821/3615906425.py:4: FutureWarning: DataFrame.applymap has been deprecated. Use DataFrame.map instead.\n",
      "  merged2 = merged2.applymap(lambda x: x.replace('\\n', '') if isinstance(x, str) else x)\n"
     ]
    }
   ],
   "source": [
    "# \\n 모두 제거\n",
    "\n",
    "# 모든 컬럼의 텍스트에서 '\\n' 제거\n",
    "merged2 = merged2.applymap(lambda x: x.replace('\\n', '') if isinstance(x, str) else x)\n",
    "\n",
    "# 변경된 DataFrame 저장 (선택 사항)\n",
    "merged2.to_csv('merged_high1.csv', index=False)"
   ]
  },
  {
   "cell_type": "code",
   "execution_count": 88,
   "metadata": {},
   "outputs": [
    {
     "data": {
      "text/html": [
       "<div>\n",
       "<style scoped>\n",
       "    .dataframe tbody tr th:only-of-type {\n",
       "        vertical-align: middle;\n",
       "    }\n",
       "\n",
       "    .dataframe tbody tr th {\n",
       "        vertical-align: top;\n",
       "    }\n",
       "\n",
       "    .dataframe thead th {\n",
       "        text-align: right;\n",
       "    }\n",
       "</style>\n",
       "<table border=\"1\" class=\"dataframe\">\n",
       "  <thead>\n",
       "    <tr style=\"text-align: right;\">\n",
       "      <th></th>\n",
       "      <th>Original Text</th>\n",
       "      <th>Paraphrased Text</th>\n",
       "      <th>Correction Text</th>\n",
       "      <th>Generated Texts</th>\n",
       "    </tr>\n",
       "  </thead>\n",
       "  <tbody>\n",
       "    <tr>\n",
       "      <th>0</th>\n",
       "      <td>저희 학교는 남녀공학입니다. 저번 체육시간에 원반던지기 평가가 있었습니다. 각 모둠...</td>\n",
       "      <td>저희 학교는 남녀공학입니다. 최근 체육 시간에 원반던지기 평가가 있었습니다. 각 모...</td>\n",
       "      <td>저희 학교는 남녀공학입니다. 저번 체육 시간에 원반 던지기 평가가 있었습니다. 각 ...</td>\n",
       "      <td>현재의 평가 방식은 학습의 성과와 학생의 특성을 충분히 반영하지 못하고 있으며, 이...</td>\n",
       "    </tr>\n",
       "    <tr>\n",
       "      <th>1</th>\n",
       "      <td>저는 현재 우리의 평가 방식에서 새로운 평가 기준이 추가되어야 한다고 생각합니다. ...</td>\n",
       "      <td>현재의 평가 방식에 새로운 평가 기준을 추가할 필요가 있다고 생각합니다. 평가는 대...</td>\n",
       "      <td>저는 현재 우리의 평가 방식에서 새로운 평가 기준이 추가되어야 한다고 생각합니다. ...</td>\n",
       "      <td>현재의 평가 방식은 학생 개개인의 다양성을 충분히 반영하고 있지 못하다고 생각한다....</td>\n",
       "    </tr>\n",
       "    <tr>\n",
       "      <th>2</th>\n",
       "      <td>저는 현재의 평가 방식은 최고의 객관적인 평가 방식이라고 생각하지 않아요. 그 이유...</td>\n",
       "      <td>현재의 평가 방식은 최고의 객관적인 방법이라고 생각하지 않습니다. 그 이유를 설명하...</td>\n",
       "      <td>저는 현재의 평가 방식은 최고의 객관적인 평가 방식이라고 생각하지 않아요. 그 이유...</td>\n",
       "      <td>현재의 교육 평가 방식에는 분명 장점이 존재하지만, 이를 전면적으로 옹호하기에는 여...</td>\n",
       "    </tr>\n",
       "    <tr>\n",
       "      <th>3</th>\n",
       "      <td>평가란 평가대상의 장점과 가치를 결정하는 과정을 말한다. 학생들에게 동일한 평가지표...</td>\n",
       "      <td>평가는 평가대상의 강점과 가치를 판별하는 과정입니다. 학생들에게 동일한 기준으로 평...</td>\n",
       "      <td>평가란 평가 대상의 장점과 가치를 결정하는 과정을 말한다. 학생들에게 동일한 평가 ...</td>\n",
       "      <td>현재의 평가 방식이 모든 학생에게 공정하고 효과적이라고 보기는 어렵다. 우리나라의 ...</td>\n",
       "    </tr>\n",
       "    <tr>\n",
       "      <th>4</th>\n",
       "      <td>위에서 말한 것처럼 평가는 대상의 장점이나 가치를 결정하는 과정이기도 하지만, 요즘...</td>\n",
       "      <td>위에서 언급한 바와 같이 평가는 대상을 분석하여 그 가치를 파악하는 과정입니다. 그...</td>\n",
       "      <td>위에서 말한 것처럼 평가는 대상의 장점이나 가치를 결정하는 과정이기도 하지만, 요즘...</td>\n",
       "      <td>현재의 교육 평가 방식이 과연 모든 학생의 개성과 잠재력을 충분히 반영하고 있는지에...</td>\n",
       "    </tr>\n",
       "    <tr>\n",
       "      <th>...</th>\n",
       "      <td>...</td>\n",
       "      <td>...</td>\n",
       "      <td>...</td>\n",
       "      <td>...</td>\n",
       "    </tr>\n",
       "    <tr>\n",
       "      <th>95</th>\n",
       "      <td>나는 수학능력시험에 대해 정의를 실현한다고 생각하지 않는다. 왜냐하면 이런 평가는 ...</td>\n",
       "      <td>나는 수학능력시험이 정의를 실현한다고 보지 않는다. 이는 조선시대의 과거제와 유사하...</td>\n",
       "      <td>나는 수학능력시험에 대해 정의를 실현한다고 생각하지 않는다. 왜냐하면 이런 평가는 ...</td>\n",
       "      <td>현행 교육 시스템에서 시행되는 평가 방법에 대해 진지한 성찰이 필요하다. 전통적인 ...</td>\n",
       "    </tr>\n",
       "    <tr>\n",
       "      <th>96</th>\n",
       "      <td>나는 우리나라 수학능력평가시험이 현 입시의 평가인 일명 수능으로만 평가를 하여 대학...</td>\n",
       "      <td>저는 우리나라의 수학능력평가시험이 대학교 입학 여부를 결정하는 유일한 기준으로 사용...</td>\n",
       "      <td>나는 우리나라 수학능력평가시험이 현 입시의 평가인 일명 수능으로만 평가를 하여 대학...</td>\n",
       "      <td>현재의 평가 방식은 다양한 특성과 목표를 가진 학생들을 모두 동일한 기준으로 평가하...</td>\n",
       "    </tr>\n",
       "    <tr>\n",
       "      <th>97</th>\n",
       "      <td>평가는 학생 뿐만 아니라 태어나면서 부터 성인이 돼서 사회에 나가서도 계속되는게 평...</td>\n",
       "      <td>평가는 학생뿐만 아니라 인간이 태어나 성인이 되어 사회에 나가는 동안 지속되는 중요...</td>\n",
       "      <td>평가는 학생 뿐만 아니라 태어나면서부터 성인이 돼서 사회에 나가서도 계속되는 게 평...</td>\n",
       "      <td>현재의 평가 방식에는 분명한 장점이 있지만, 모든 학생을 동일한 기준으로 평가하는 ...</td>\n",
       "    </tr>\n",
       "    <tr>\n",
       "      <th>98</th>\n",
       "      <td>저는 현재 진행되고 있는 평가 방식이 가장 객관적인 방식이라고 생각합니다. 왜냐하면...</td>\n",
       "      <td>현재 시행되고 있는 평가 방식이 가장 객관적이라고 생각합니다. 평가란 본질적으로 평...</td>\n",
       "      <td>저는 현재 진행되고 있는 평가 방식이 가장 객관적인 방식이라고 생각합니다. 왜냐하면...</td>\n",
       "      <td>현재의 평가 방식은 학생들의 다양한 재능과 특성을 반영하지 못하는 한계가 있다는 점...</td>\n",
       "    </tr>\n",
       "    <tr>\n",
       "      <th>99</th>\n",
       "      <td>저는 현재의 평가 방식이 옳은 방식이 아니라고 생각합니다. 사람은 각자 특색이 있고...</td>\n",
       "      <td>현재의 평가 방식이 적절하지 않다고 생각합니다. 각 사람은 고유한 특성과 능력을 가...</td>\n",
       "      <td>저는 현재의 평가 방식이 옳은 방식이 아니라고 생각합니다. 사람은 각자 특색이 있고...</td>\n",
       "      <td>현재의 평가 방식이 과연 학생들에게 공정하고 적절하다고 할 수 있을까요? 나는 아니...</td>\n",
       "    </tr>\n",
       "  </tbody>\n",
       "</table>\n",
       "<p>100 rows × 4 columns</p>\n",
       "</div>"
      ],
      "text/plain": [
       "                                        Original Text  \\\n",
       "0   저희 학교는 남녀공학입니다. 저번 체육시간에 원반던지기 평가가 있었습니다. 각 모둠...   \n",
       "1   저는 현재 우리의 평가 방식에서 새로운 평가 기준이 추가되어야 한다고 생각합니다. ...   \n",
       "2   저는 현재의 평가 방식은 최고의 객관적인 평가 방식이라고 생각하지 않아요. 그 이유...   \n",
       "3   평가란 평가대상의 장점과 가치를 결정하는 과정을 말한다. 학생들에게 동일한 평가지표...   \n",
       "4   위에서 말한 것처럼 평가는 대상의 장점이나 가치를 결정하는 과정이기도 하지만, 요즘...   \n",
       "..                                                ...   \n",
       "95  나는 수학능력시험에 대해 정의를 실현한다고 생각하지 않는다. 왜냐하면 이런 평가는 ...   \n",
       "96  나는 우리나라 수학능력평가시험이 현 입시의 평가인 일명 수능으로만 평가를 하여 대학...   \n",
       "97  평가는 학생 뿐만 아니라 태어나면서 부터 성인이 돼서 사회에 나가서도 계속되는게 평...   \n",
       "98  저는 현재 진행되고 있는 평가 방식이 가장 객관적인 방식이라고 생각합니다. 왜냐하면...   \n",
       "99  저는 현재의 평가 방식이 옳은 방식이 아니라고 생각합니다. 사람은 각자 특색이 있고...   \n",
       "\n",
       "                                     Paraphrased Text  \\\n",
       "0   저희 학교는 남녀공학입니다. 최근 체육 시간에 원반던지기 평가가 있었습니다. 각 모...   \n",
       "1   현재의 평가 방식에 새로운 평가 기준을 추가할 필요가 있다고 생각합니다. 평가는 대...   \n",
       "2   현재의 평가 방식은 최고의 객관적인 방법이라고 생각하지 않습니다. 그 이유를 설명하...   \n",
       "3   평가는 평가대상의 강점과 가치를 판별하는 과정입니다. 학생들에게 동일한 기준으로 평...   \n",
       "4   위에서 언급한 바와 같이 평가는 대상을 분석하여 그 가치를 파악하는 과정입니다. 그...   \n",
       "..                                                ...   \n",
       "95  나는 수학능력시험이 정의를 실현한다고 보지 않는다. 이는 조선시대의 과거제와 유사하...   \n",
       "96  저는 우리나라의 수학능력평가시험이 대학교 입학 여부를 결정하는 유일한 기준으로 사용...   \n",
       "97  평가는 학생뿐만 아니라 인간이 태어나 성인이 되어 사회에 나가는 동안 지속되는 중요...   \n",
       "98  현재 시행되고 있는 평가 방식이 가장 객관적이라고 생각합니다. 평가란 본질적으로 평...   \n",
       "99  현재의 평가 방식이 적절하지 않다고 생각합니다. 각 사람은 고유한 특성과 능력을 가...   \n",
       "\n",
       "                                      Correction Text  \\\n",
       "0   저희 학교는 남녀공학입니다. 저번 체육 시간에 원반 던지기 평가가 있었습니다. 각 ...   \n",
       "1   저는 현재 우리의 평가 방식에서 새로운 평가 기준이 추가되어야 한다고 생각합니다. ...   \n",
       "2   저는 현재의 평가 방식은 최고의 객관적인 평가 방식이라고 생각하지 않아요. 그 이유...   \n",
       "3   평가란 평가 대상의 장점과 가치를 결정하는 과정을 말한다. 학생들에게 동일한 평가 ...   \n",
       "4   위에서 말한 것처럼 평가는 대상의 장점이나 가치를 결정하는 과정이기도 하지만, 요즘...   \n",
       "..                                                ...   \n",
       "95  나는 수학능력시험에 대해 정의를 실현한다고 생각하지 않는다. 왜냐하면 이런 평가는 ...   \n",
       "96  나는 우리나라 수학능력평가시험이 현 입시의 평가인 일명 수능으로만 평가를 하여 대학...   \n",
       "97  평가는 학생 뿐만 아니라 태어나면서부터 성인이 돼서 사회에 나가서도 계속되는 게 평...   \n",
       "98  저는 현재 진행되고 있는 평가 방식이 가장 객관적인 방식이라고 생각합니다. 왜냐하면...   \n",
       "99  저는 현재의 평가 방식이 옳은 방식이 아니라고 생각합니다. 사람은 각자 특색이 있고...   \n",
       "\n",
       "                                      Generated Texts  \n",
       "0   현재의 평가 방식은 학습의 성과와 학생의 특성을 충분히 반영하지 못하고 있으며, 이...  \n",
       "1   현재의 평가 방식은 학생 개개인의 다양성을 충분히 반영하고 있지 못하다고 생각한다....  \n",
       "2   현재의 교육 평가 방식에는 분명 장점이 존재하지만, 이를 전면적으로 옹호하기에는 여...  \n",
       "3   현재의 평가 방식이 모든 학생에게 공정하고 효과적이라고 보기는 어렵다. 우리나라의 ...  \n",
       "4   현재의 교육 평가 방식이 과연 모든 학생의 개성과 잠재력을 충분히 반영하고 있는지에...  \n",
       "..                                                ...  \n",
       "95  현행 교육 시스템에서 시행되는 평가 방법에 대해 진지한 성찰이 필요하다. 전통적인 ...  \n",
       "96  현재의 평가 방식은 다양한 특성과 목표를 가진 학생들을 모두 동일한 기준으로 평가하...  \n",
       "97  현재의 평가 방식에는 분명한 장점이 있지만, 모든 학생을 동일한 기준으로 평가하는 ...  \n",
       "98  현재의 평가 방식은 학생들의 다양한 재능과 특성을 반영하지 못하는 한계가 있다는 점...  \n",
       "99  현재의 평가 방식이 과연 학생들에게 공정하고 적절하다고 할 수 있을까요? 나는 아니...  \n",
       "\n",
       "[100 rows x 4 columns]"
      ]
     },
     "execution_count": 88,
     "metadata": {},
     "output_type": "execute_result"
    }
   ],
   "source": [
    "merged2"
   ]
  },
  {
   "cell_type": "markdown",
   "metadata": {},
   "source": [
    "### to_json!"
   ]
  },
  {
   "cell_type": "code",
   "execution_count": 94,
   "metadata": {},
   "outputs": [
    {
     "name": "stdout",
     "output_type": "stream",
     "text": [
      "JSON 파일이 생성되었습니다: data_paraphrased.json\n"
     ]
    }
   ],
   "source": [
    "# paraphrased 전용\n",
    "\n",
    "csv_path = '/Users/seunghyun/Downloads/merged_high1.csv'\n",
    "merged_df = pd.read_csv(csv_path)\n",
    "\n",
    "# JSON 파일 형식 생성\n",
    "json_output = []\n",
    "\n",
    "# CSV의 각 행을 반복하며 JSON 포맷으로 변환\n",
    "json_output = {\n",
    "    \"original\": merged_df['Correction Text'].tolist(),\n",
    "    \"sampled\": merged_df['Paraphrased Text'].tolist()\n",
    "}\n",
    "\n",
    "\n",
    "# JSON 파일 저장\n",
    "output_path = 'data_paraphrased.json'\n",
    "with open(output_path, 'w', encoding='utf-8') as f:\n",
    "    json.dump(json_output, f, ensure_ascii=False, indent=4)\n",
    "\n",
    "print(f\"JSON 파일이 생성되었습니다: {output_path}\")"
   ]
  },
  {
   "cell_type": "code",
   "execution_count": 93,
   "metadata": {},
   "outputs": [
    {
     "name": "stdout",
     "output_type": "stream",
     "text": [
      "JSON 파일이 생성되었습니다: data_generated.json\n"
     ]
    }
   ],
   "source": [
    "# generation 전용\n",
    "\n",
    "csv_path = '/Users/seunghyun/Downloads/merged_high1.csv'\n",
    "merged_df = pd.read_csv(csv_path)\n",
    "\n",
    "# JSON 파일 형식 생성\n",
    "json_output = []\n",
    "\n",
    "# CSV의 각 행을 반복하며 JSON 포맷으로 변환\n",
    "json_output = {\n",
    "    \"original\": merged_df['Correction Text'].tolist(),\n",
    "    \"sampled\": merged_df['Generated Texts'].tolist()\n",
    "}\n",
    "\n",
    "\n",
    "# JSON 파일 저장\n",
    "output_path = 'data_generated.json'\n",
    "with open(output_path, 'w', encoding='utf-8') as f:\n",
    "    json.dump(json_output, f, ensure_ascii=False, indent=4)\n",
    "\n",
    "print(f\"JSON 파일이 생성되었습니다: {output_path}\")"
   ]
  },
  {
   "cell_type": "code",
   "execution_count": null,
   "metadata": {},
   "outputs": [],
   "source": []
  },
  {
   "cell_type": "markdown",
   "metadata": {},
   "source": [
    "# 고2 데이터"
   ]
  },
  {
   "cell_type": "code",
   "execution_count": 13,
   "metadata": {},
   "outputs": [
    {
     "name": "stdout",
     "output_type": "stream",
     "text": [
      "978개의 파일이 성공적으로 읽혔습니다.\n"
     ]
    }
   ],
   "source": [
    "folder_path_2 = \"/Users/seunghyun/Library/CloudStorage/OneDrive-고려대학교/024.에세이 글 평가 데이터/주장/고2\"\n",
    "\n",
    "data2 = []\n",
    "\n",
    "for filename in os.listdir(folder_path_2):\n",
    "    if filename.endswith('.json'):\n",
    "        file_path = os.path.join(folder_path_2, filename)\n",
    "        with open(file_path, 'r', encoding='utf-8') as f:\n",
    "            json_data = json.load(f)\n",
    "            data2.append(json_data)\n",
    "\n",
    "print(f'{len(data2)}개의 파일이 성공적으로 읽혔습니다.')\n",
    "data_list_2 = []\n",
    "\n",
    "for filename in os.listdir(folder_path_2):\n",
    "    if filename.endswith('.json'):\n",
    "        file_path = os.path.join(folder_path_2, filename)\n",
    "        with open(file_path, 'r', encoding='utf-8') as f:\n",
    "            json_data = json.load(f)\n",
    "\n",
    "            # 필요한 정보 추출\n",
    "            paragraph_txt = json_data['paragraph'][0]['paragraph_txt']\n",
    "            essay_prompt = json_data['info']['essay_prompt']\n",
    "            essay_len = json_data['info']['essay_len']\n",
    "            essay_main_subject = json_data['info']['essay_main_subject']\n",
    "\n",
    "            # 데이터를 리스트에 추가\n",
    "            data_list_2.append({\n",
    "                'paragraph_txt': paragraph_txt,\n",
    "                'essay_prompt': essay_prompt,\n",
    "                'essay_len': essay_len,\n",
    "                'essay_main_subject': essay_main_subject\n",
    "            })"
   ]
  },
  {
   "cell_type": "code",
   "execution_count": 14,
   "metadata": {},
   "outputs": [
    {
     "data": {
      "text/plain": [
       "count     978.000000\n",
       "mean      935.470348\n",
       "std       214.764201\n",
       "min       461.000000\n",
       "25%       866.000000\n",
       "50%       894.000000\n",
       "75%       949.750000\n",
       "max      4833.000000\n",
       "Name: essay_len, dtype: float64"
      ]
     },
     "execution_count": 14,
     "metadata": {},
     "output_type": "execute_result"
    }
   ],
   "source": [
    "# 리스트를 데이터프레임으로 변환\n",
    "df_2 = pd.DataFrame(data_list_2)\n",
    "df_2['essay_len'].describe()\n"
   ]
  },
  {
   "cell_type": "markdown",
   "metadata": {},
   "source": [
    "- 고 2 분량 1200자 정도"
   ]
  },
  {
   "cell_type": "code",
   "execution_count": 15,
   "metadata": {},
   "outputs": [
    {
     "data": {
      "text/html": [
       "<div>\n",
       "<style scoped>\n",
       "    .dataframe tbody tr th:only-of-type {\n",
       "        vertical-align: middle;\n",
       "    }\n",
       "\n",
       "    .dataframe tbody tr th {\n",
       "        vertical-align: top;\n",
       "    }\n",
       "\n",
       "    .dataframe thead th {\n",
       "        text-align: right;\n",
       "    }\n",
       "</style>\n",
       "<table border=\"1\" class=\"dataframe\">\n",
       "  <thead>\n",
       "    <tr style=\"text-align: right;\">\n",
       "      <th></th>\n",
       "      <th>paragraph_txt</th>\n",
       "      <th>essay_prompt</th>\n",
       "      <th>essay_len</th>\n",
       "      <th>essay_main_subject</th>\n",
       "    </tr>\n",
       "  </thead>\n",
       "  <tbody>\n",
       "    <tr>\n",
       "      <th>0</th>\n",
       "      <td>코로나 팬데믹이 시작된 이후 전 세계적으로 인종차별 사례가 늘어나고 있다.#@문장구...</td>\n",
       "      <td>최근 중국발 코로나바이러스로 인해 동양인에 대한 혐오감을 나타내는 서양인들이 늘어...</td>\n",
       "      <td>860</td>\n",
       "      <td>인종차별에 대한 본인의 생각</td>\n",
       "    </tr>\n",
       "    <tr>\n",
       "      <th>1</th>\n",
       "      <td>인종차별이란 단어를 들으면 생각나는 책이 있다. #@문장구분#바로 '검은 후드티 소...</td>\n",
       "      <td>최근 중국발 코로나바이러스로 인해 동양인에 대한 혐오감을 나타내는 서양인들이 늘어...</td>\n",
       "      <td>880</td>\n",
       "      <td>인종차별에 대한 본인의 생각</td>\n",
       "    </tr>\n",
       "    <tr>\n",
       "      <th>2</th>\n",
       "      <td>인종차별의 원인은 옛날의 노예제도로 거슬러 올라가야 합니다.#@문장구분#민주주의가 ...</td>\n",
       "      <td>최근 중국발 코로나바이러스로 인해 동양인에 대한 혐오감을 나타내는 서양인들이 늘어...</td>\n",
       "      <td>837</td>\n",
       "      <td>인종차별에 대한 본인의 생각</td>\n",
       "    </tr>\n",
       "    <tr>\n",
       "      <th>3</th>\n",
       "      <td>2020년 초 전 세계에서는 코로나바이러스가 퍼졌습니다.#@문장구분# 2020년에 ...</td>\n",
       "      <td>지적재산권이란 특허권, 실용신안권, 상표권, 디자인권을 총칭하는 개념으로 지적재산...</td>\n",
       "      <td>811</td>\n",
       "      <td>지적 재산권에 대한 본인의 생각 작성</td>\n",
       "    </tr>\n",
       "    <tr>\n",
       "      <th>4</th>\n",
       "      <td>태어날 때부터 동양인에 대한 혐오감을 가지고 태어나서 그런 것이 아니라 동양인은 그...</td>\n",
       "      <td>최근 중국발 코로나바이러스로 인해 동양인에 대한 혐오감을 나타내는 서양인들이 늘어...</td>\n",
       "      <td>932</td>\n",
       "      <td>인종차별에 대한 본인의 생각</td>\n",
       "    </tr>\n",
       "    <tr>\n",
       "      <th>...</th>\n",
       "      <td>...</td>\n",
       "      <td>...</td>\n",
       "      <td>...</td>\n",
       "      <td>...</td>\n",
       "    </tr>\n",
       "    <tr>\n",
       "      <th>973</th>\n",
       "      <td>독일이 조 바이든 대통령이 지지한 '코로나19 백신 지적재산권 포기'에 대해 반대하...</td>\n",
       "      <td>지적재산권이란 특허권, 실용신안권, 상표권, 디자인권을 총칭하는 개념으로 지적재산...</td>\n",
       "      <td>902</td>\n",
       "      <td>지적 재산권에 대한 본인의 생각 작성</td>\n",
       "    </tr>\n",
       "    <tr>\n",
       "      <th>974</th>\n",
       "      <td>인종차별에 대한 문제는 역사 속에 우리와 함께 존재한다.#@문장구분# 대표적인 인종...</td>\n",
       "      <td>최근 중국발 코로나바이러스로 인해 동양인에 대한 혐오감을 나타내는 서양인들이 늘어...</td>\n",
       "      <td>879</td>\n",
       "      <td>인종차별에 대한 본인의 생각</td>\n",
       "    </tr>\n",
       "    <tr>\n",
       "      <th>975</th>\n",
       "      <td>얼마전만 해도 미국에서는 \"Black Lives Matter\"라는 아프리카계 미국인...</td>\n",
       "      <td>최근 중국발 코로나바이러스로 인해 동양인에 대한 혐오감을 나타내는 서양인들이 늘어...</td>\n",
       "      <td>1039</td>\n",
       "      <td>인종차별에 대한 본인의 생각</td>\n",
       "    </tr>\n",
       "    <tr>\n",
       "      <th>976</th>\n",
       "      <td>코로나 19 팬데믹이 지구적 수준에서 유행한 지 2년이 넘어가고 있습니다.#@문장구...</td>\n",
       "      <td>지적재산권이란 특허권, 실용신안권, 상표권, 디자인권을 총칭하는 개념으로 지적재산...</td>\n",
       "      <td>975</td>\n",
       "      <td>지적 재산권에 대한 본인의 생각 작성</td>\n",
       "    </tr>\n",
       "    <tr>\n",
       "      <th>977</th>\n",
       "      <td>요즘 같이 코로나로 전 세계가 고통에 시달리고 있는 상황, 코로나 팬데믹 초기부터 ...</td>\n",
       "      <td>지적재산권이란 특허권, 실용신안권, 상표권, 디자인권을 총칭하는 개념으로 지적재산...</td>\n",
       "      <td>967</td>\n",
       "      <td>지적 재산권에 대한 본인의 생각 작성</td>\n",
       "    </tr>\n",
       "  </tbody>\n",
       "</table>\n",
       "<p>978 rows × 4 columns</p>\n",
       "</div>"
      ],
      "text/plain": [
       "                                         paragraph_txt  \\\n",
       "0    코로나 팬데믹이 시작된 이후 전 세계적으로 인종차별 사례가 늘어나고 있다.#@문장구...   \n",
       "1    인종차별이란 단어를 들으면 생각나는 책이 있다. #@문장구분#바로 '검은 후드티 소...   \n",
       "2    인종차별의 원인은 옛날의 노예제도로 거슬러 올라가야 합니다.#@문장구분#민주주의가 ...   \n",
       "3    2020년 초 전 세계에서는 코로나바이러스가 퍼졌습니다.#@문장구분# 2020년에 ...   \n",
       "4    태어날 때부터 동양인에 대한 혐오감을 가지고 태어나서 그런 것이 아니라 동양인은 그...   \n",
       "..                                                 ...   \n",
       "973  독일이 조 바이든 대통령이 지지한 '코로나19 백신 지적재산권 포기'에 대해 반대하...   \n",
       "974  인종차별에 대한 문제는 역사 속에 우리와 함께 존재한다.#@문장구분# 대표적인 인종...   \n",
       "975  얼마전만 해도 미국에서는 \"Black Lives Matter\"라는 아프리카계 미국인...   \n",
       "976  코로나 19 팬데믹이 지구적 수준에서 유행한 지 2년이 넘어가고 있습니다.#@문장구...   \n",
       "977  요즘 같이 코로나로 전 세계가 고통에 시달리고 있는 상황, 코로나 팬데믹 초기부터 ...   \n",
       "\n",
       "                                          essay_prompt  essay_len  \\\n",
       "0     최근 중국발 코로나바이러스로 인해 동양인에 대한 혐오감을 나타내는 서양인들이 늘어...        860   \n",
       "1     최근 중국발 코로나바이러스로 인해 동양인에 대한 혐오감을 나타내는 서양인들이 늘어...        880   \n",
       "2     최근 중국발 코로나바이러스로 인해 동양인에 대한 혐오감을 나타내는 서양인들이 늘어...        837   \n",
       "3     지적재산권이란 특허권, 실용신안권, 상표권, 디자인권을 총칭하는 개념으로 지적재산...        811   \n",
       "4     최근 중국발 코로나바이러스로 인해 동양인에 대한 혐오감을 나타내는 서양인들이 늘어...        932   \n",
       "..                                                 ...        ...   \n",
       "973   지적재산권이란 특허권, 실용신안권, 상표권, 디자인권을 총칭하는 개념으로 지적재산...        902   \n",
       "974   최근 중국발 코로나바이러스로 인해 동양인에 대한 혐오감을 나타내는 서양인들이 늘어...        879   \n",
       "975   최근 중국발 코로나바이러스로 인해 동양인에 대한 혐오감을 나타내는 서양인들이 늘어...       1039   \n",
       "976   지적재산권이란 특허권, 실용신안권, 상표권, 디자인권을 총칭하는 개념으로 지적재산...        975   \n",
       "977   지적재산권이란 특허권, 실용신안권, 상표권, 디자인권을 총칭하는 개념으로 지적재산...        967   \n",
       "\n",
       "       essay_main_subject  \n",
       "0         인종차별에 대한 본인의 생각  \n",
       "1         인종차별에 대한 본인의 생각  \n",
       "2         인종차별에 대한 본인의 생각  \n",
       "3    지적 재산권에 대한 본인의 생각 작성  \n",
       "4         인종차별에 대한 본인의 생각  \n",
       "..                    ...  \n",
       "973  지적 재산권에 대한 본인의 생각 작성  \n",
       "974       인종차별에 대한 본인의 생각  \n",
       "975       인종차별에 대한 본인의 생각  \n",
       "976  지적 재산권에 대한 본인의 생각 작성  \n",
       "977  지적 재산권에 대한 본인의 생각 작성  \n",
       "\n",
       "[978 rows x 4 columns]"
      ]
     },
     "execution_count": 15,
     "metadata": {},
     "output_type": "execute_result"
    }
   ],
   "source": [
    "df_2"
   ]
  },
  {
   "cell_type": "markdown",
   "metadata": {},
   "source": [
    "## GPT4o-mini setting"
   ]
  },
  {
   "cell_type": "code",
   "execution_count": null,
   "metadata": {},
   "outputs": [],
   "source": [
    "from openai import OpenAI\n",
    "import os\n",
    "\n",
    "## Set the API key and model name\n",
    "MODEL=\"gpt-4o-mini\"\n",
    "client = OpenAI(api_key=os.environ.get(\"OPENAI_API_KEY\", \"YOUR_KEY\"))"
   ]
  },
  {
   "cell_type": "code",
   "execution_count": 111,
   "metadata": {},
   "outputs": [
    {
     "name": "stdout",
     "output_type": "stream",
     "text": [
      "Assistant: Of course! \\( 2 + 2 = 4 \\).\n"
     ]
    }
   ],
   "source": [
    "completion = client.chat.completions.create(\n",
    "  model=MODEL,\n",
    "  messages=[\n",
    "    {\"role\": \"system\", \"content\": \"You are a helpful assistant. Help me with my math homework!\"}, # <-- This is the system message that provides context to the model\n",
    "    {\"role\": \"user\", \"content\": \"Hello! Could you solve 2+2?\"}  # <-- This is the user message for which the model will generate a response\n",
    "  ]\n",
    ")\n",
    "\n",
    "print(\"Assistant: \" + completion.choices[0].message.content)"
   ]
  },
  {
   "cell_type": "code",
   "execution_count": 17,
   "metadata": {},
   "outputs": [
    {
     "data": {
      "text/plain": [
       "100"
      ]
     },
     "execution_count": 17,
     "metadata": {},
     "output_type": "execute_result"
    }
   ],
   "source": [
    "essay2 = df_2\n",
    "high2 = essay2[:100]\n",
    "len(high2)"
   ]
  },
  {
   "cell_type": "code",
   "execution_count": 18,
   "metadata": {},
   "outputs": [
    {
     "data": {
      "text/html": [
       "<div>\n",
       "<style scoped>\n",
       "    .dataframe tbody tr th:only-of-type {\n",
       "        vertical-align: middle;\n",
       "    }\n",
       "\n",
       "    .dataframe tbody tr th {\n",
       "        vertical-align: top;\n",
       "    }\n",
       "\n",
       "    .dataframe thead th {\n",
       "        text-align: right;\n",
       "    }\n",
       "</style>\n",
       "<table border=\"1\" class=\"dataframe\">\n",
       "  <thead>\n",
       "    <tr style=\"text-align: right;\">\n",
       "      <th></th>\n",
       "      <th>paragraph_txt</th>\n",
       "      <th>essay_prompt</th>\n",
       "      <th>essay_len</th>\n",
       "      <th>essay_main_subject</th>\n",
       "    </tr>\n",
       "  </thead>\n",
       "  <tbody>\n",
       "    <tr>\n",
       "      <th>0</th>\n",
       "      <td>코로나 팬데믹이 시작된 이후 전 세계적으로 인종차별 사례가 늘어나고 있다.#@문장구...</td>\n",
       "      <td>최근 중국발 코로나바이러스로 인해 동양인에 대한 혐오감을 나타내는 서양인들이 늘어...</td>\n",
       "      <td>860</td>\n",
       "      <td>인종차별에 대한 본인의 생각</td>\n",
       "    </tr>\n",
       "    <tr>\n",
       "      <th>1</th>\n",
       "      <td>인종차별이란 단어를 들으면 생각나는 책이 있다. #@문장구분#바로 '검은 후드티 소...</td>\n",
       "      <td>최근 중국발 코로나바이러스로 인해 동양인에 대한 혐오감을 나타내는 서양인들이 늘어...</td>\n",
       "      <td>880</td>\n",
       "      <td>인종차별에 대한 본인의 생각</td>\n",
       "    </tr>\n",
       "    <tr>\n",
       "      <th>2</th>\n",
       "      <td>인종차별의 원인은 옛날의 노예제도로 거슬러 올라가야 합니다.#@문장구분#민주주의가 ...</td>\n",
       "      <td>최근 중국발 코로나바이러스로 인해 동양인에 대한 혐오감을 나타내는 서양인들이 늘어...</td>\n",
       "      <td>837</td>\n",
       "      <td>인종차별에 대한 본인의 생각</td>\n",
       "    </tr>\n",
       "    <tr>\n",
       "      <th>3</th>\n",
       "      <td>2020년 초 전 세계에서는 코로나바이러스가 퍼졌습니다.#@문장구분# 2020년에 ...</td>\n",
       "      <td>지적재산권이란 특허권, 실용신안권, 상표권, 디자인권을 총칭하는 개념으로 지적재산...</td>\n",
       "      <td>811</td>\n",
       "      <td>지적 재산권에 대한 본인의 생각 작성</td>\n",
       "    </tr>\n",
       "    <tr>\n",
       "      <th>4</th>\n",
       "      <td>태어날 때부터 동양인에 대한 혐오감을 가지고 태어나서 그런 것이 아니라 동양인은 그...</td>\n",
       "      <td>최근 중국발 코로나바이러스로 인해 동양인에 대한 혐오감을 나타내는 서양인들이 늘어...</td>\n",
       "      <td>932</td>\n",
       "      <td>인종차별에 대한 본인의 생각</td>\n",
       "    </tr>\n",
       "  </tbody>\n",
       "</table>\n",
       "</div>"
      ],
      "text/plain": [
       "                                       paragraph_txt  \\\n",
       "0  코로나 팬데믹이 시작된 이후 전 세계적으로 인종차별 사례가 늘어나고 있다.#@문장구...   \n",
       "1  인종차별이란 단어를 들으면 생각나는 책이 있다. #@문장구분#바로 '검은 후드티 소...   \n",
       "2  인종차별의 원인은 옛날의 노예제도로 거슬러 올라가야 합니다.#@문장구분#민주주의가 ...   \n",
       "3  2020년 초 전 세계에서는 코로나바이러스가 퍼졌습니다.#@문장구분# 2020년에 ...   \n",
       "4  태어날 때부터 동양인에 대한 혐오감을 가지고 태어나서 그런 것이 아니라 동양인은 그...   \n",
       "\n",
       "                                        essay_prompt  essay_len  \\\n",
       "0   최근 중국발 코로나바이러스로 인해 동양인에 대한 혐오감을 나타내는 서양인들이 늘어...        860   \n",
       "1   최근 중국발 코로나바이러스로 인해 동양인에 대한 혐오감을 나타내는 서양인들이 늘어...        880   \n",
       "2   최근 중국발 코로나바이러스로 인해 동양인에 대한 혐오감을 나타내는 서양인들이 늘어...        837   \n",
       "3   지적재산권이란 특허권, 실용신안권, 상표권, 디자인권을 총칭하는 개념으로 지적재산...        811   \n",
       "4   최근 중국발 코로나바이러스로 인해 동양인에 대한 혐오감을 나타내는 서양인들이 늘어...        932   \n",
       "\n",
       "     essay_main_subject  \n",
       "0       인종차별에 대한 본인의 생각  \n",
       "1       인종차별에 대한 본인의 생각  \n",
       "2       인종차별에 대한 본인의 생각  \n",
       "3  지적 재산권에 대한 본인의 생각 작성  \n",
       "4       인종차별에 대한 본인의 생각  "
      ]
     },
     "execution_count": 18,
     "metadata": {},
     "output_type": "execute_result"
    }
   ],
   "source": [
    "high2.head()"
   ]
  },
  {
   "cell_type": "markdown",
   "metadata": {},
   "source": [
    "### 고2 paraphrase"
   ]
  },
  {
   "cell_type": "code",
   "execution_count": 114,
   "metadata": {},
   "outputs": [],
   "source": [
    "paraphrase_prompt = '''\n",
    "아래의 글을 정제된 언어로 paraphrase 해줘.\n",
    "--------------------\n",
    "{text}\n",
    "'''"
   ]
  },
  {
   "cell_type": "code",
   "execution_count": 106,
   "metadata": {},
   "outputs": [],
   "source": [
    "original_texts = []\n",
    "paraphrased_texts = []\n",
    "\n",
    "# 각 텍스트에 대해 paraphrase 실행\n",
    "for text in high2['paragraph_txt']:\n",
    "    # 텍스트를 paraphrase_prompt에 삽입\n",
    "    user_prompt = paraphrase_prompt.format(text=text)\n",
    "\n",
    "    # API 요청 생성\n",
    "    completion = client.chat.completions.create(\n",
    "      model=MODEL,\n",
    "      messages=[\n",
    "        {\"role\": \"system\", \"content\": paraphrase_prompt},\n",
    "        {\"role\": \"user\", \"content\": user_prompt}\n",
    "      ]\n",
    "    )\n",
    "\n",
    "    # 결과 저장\n",
    "    original_texts.append(text)\n",
    "    paraphrased_texts.append(completion.choices[0].message.content)\n",
    "\n",
    "# DataFrame 생성\n",
    "df = pd.DataFrame({\n",
    "    'Original Text': original_texts,\n",
    "    'Paraphrased Text': paraphrased_texts\n",
    "})\n",
    "df.to_csv(\"paraphrase_high2\")"
   ]
  },
  {
   "cell_type": "code",
   "execution_count": 128,
   "metadata": {},
   "outputs": [],
   "source": [
    "df['Original Text'] = df['Original Text'].replace(r'#@문장구분#', '', regex=True)\n"
   ]
  },
  {
   "cell_type": "code",
   "execution_count": 129,
   "metadata": {},
   "outputs": [
    {
     "data": {
      "text/html": [
       "<div>\n",
       "<style scoped>\n",
       "    .dataframe tbody tr th:only-of-type {\n",
       "        vertical-align: middle;\n",
       "    }\n",
       "\n",
       "    .dataframe tbody tr th {\n",
       "        vertical-align: top;\n",
       "    }\n",
       "\n",
       "    .dataframe thead th {\n",
       "        text-align: right;\n",
       "    }\n",
       "</style>\n",
       "<table border=\"1\" class=\"dataframe\">\n",
       "  <thead>\n",
       "    <tr style=\"text-align: right;\">\n",
       "      <th></th>\n",
       "      <th>Original Text</th>\n",
       "      <th>Paraphrased Text</th>\n",
       "    </tr>\n",
       "  </thead>\n",
       "  <tbody>\n",
       "    <tr>\n",
       "      <th>0</th>\n",
       "      <td>코로나 팬데믹이 시작된 이후 전 세계적으로 인종차별 사례가 늘어나고 있다. 그리고 ...</td>\n",
       "      <td>코로나19 팬데믹 이후, 전 세계적으로 인종차별 사례가 증가하고 있다. 그 중 하나...</td>\n",
       "    </tr>\n",
       "    <tr>\n",
       "      <th>1</th>\n",
       "      <td>인종차별이란 단어를 들으면 생각나는 책이 있다. 바로 '검은 후드티 소년' 이라는 ...</td>\n",
       "      <td>인종차별이라는 주제를 언급할 때, '검은 후드티 소년'이라는 책이 떠오른다. 이 책...</td>\n",
       "    </tr>\n",
       "    <tr>\n",
       "      <th>2</th>\n",
       "      <td>인종차별의 원인은 옛날의 노예제도로 거슬러 올라가야 합니다.민주주의가 가장 발달했다...</td>\n",
       "      <td>인종차별의 기원은 과거의 노예제도로 거슬러 올라갑니다. 민주주의가 가장 발전했다고 ...</td>\n",
       "    </tr>\n",
       "    <tr>\n",
       "      <th>3</th>\n",
       "      <td>2020년 초 전 세계에서는 코로나바이러스가 퍼졌습니다. 2020년에 퍼진 코로나바...</td>\n",
       "      <td>2020년 초, 전 세계적으로 코로나바이러스가 확산되었습니다. 이 바이러스는 202...</td>\n",
       "    </tr>\n",
       "    <tr>\n",
       "      <th>4</th>\n",
       "      <td>태어날 때부터 동양인에 대한 혐오감을 가지고 태어나서 그런 것이 아니라 동양인은 그...</td>\n",
       "      <td>동양인에 대한 혐오감은 태어날 때부터 존재한 것이 아니라, 그들이 경제적, 문화적 ...</td>\n",
       "    </tr>\n",
       "    <tr>\n",
       "      <th>...</th>\n",
       "      <td>...</td>\n",
       "      <td>...</td>\n",
       "    </tr>\n",
       "    <tr>\n",
       "      <th>95</th>\n",
       "      <td>공공재란 뭘까? 공공재란 모든 사람이 공동으로 이용할 수 있는 재화나 서비스를 뜻한...</td>\n",
       "      <td>공공재란 무엇인가? 공공재는 모든 사람이 공동으로 이용할 수 있는 재화나 서비스를 ...</td>\n",
       "    </tr>\n",
       "    <tr>\n",
       "      <th>96</th>\n",
       "      <td>저는 지적 재산권이 꼭 보장되어야 한다고 생각합니다. 저는 최근 코로나19로 인해 ...</td>\n",
       "      <td>저는 지적 재산권이 반드시 보호되어야 한다고 생각합니다. 최근 코로나19와 관련하여...</td>\n",
       "    </tr>\n",
       "    <tr>\n",
       "      <th>97</th>\n",
       "      <td>코로나 백신 지적 재산권 절대 유예하지 않을 것 같습니다. 먼저 예를 들어보겠습니다...</td>\n",
       "      <td>코로나 백신의 지적 재산권은 절대적으로 유예되지 않을 것으로 예상됩니다. 예를 들어...</td>\n",
       "    </tr>\n",
       "    <tr>\n",
       "      <th>98</th>\n",
       "      <td>전세계적으로 코로나 감염확산 위험에 빠져 많은 사람들이 확진되고 죽으며 아주 심각한...</td>\n",
       "      <td>전세계적으로 코로나19의 감염 확산 우려로 인해 많은 사람들이 감염되거나 사망하며 ...</td>\n",
       "    </tr>\n",
       "    <tr>\n",
       "      <th>99</th>\n",
       "      <td>저는 코로나19 백신에 대한 지적재산권을 임시적으로나마 자유롭게 풀어야한다고 생각합...</td>\n",
       "      <td>저는 코로나19 백신에 대한 지적재산권을 일시적으로라도 완화해야 한다고 생각합니다....</td>\n",
       "    </tr>\n",
       "  </tbody>\n",
       "</table>\n",
       "<p>100 rows × 2 columns</p>\n",
       "</div>"
      ],
      "text/plain": [
       "                                        Original Text  \\\n",
       "0   코로나 팬데믹이 시작된 이후 전 세계적으로 인종차별 사례가 늘어나고 있다. 그리고 ...   \n",
       "1   인종차별이란 단어를 들으면 생각나는 책이 있다. 바로 '검은 후드티 소년' 이라는 ...   \n",
       "2   인종차별의 원인은 옛날의 노예제도로 거슬러 올라가야 합니다.민주주의가 가장 발달했다...   \n",
       "3   2020년 초 전 세계에서는 코로나바이러스가 퍼졌습니다. 2020년에 퍼진 코로나바...   \n",
       "4   태어날 때부터 동양인에 대한 혐오감을 가지고 태어나서 그런 것이 아니라 동양인은 그...   \n",
       "..                                                ...   \n",
       "95  공공재란 뭘까? 공공재란 모든 사람이 공동으로 이용할 수 있는 재화나 서비스를 뜻한...   \n",
       "96  저는 지적 재산권이 꼭 보장되어야 한다고 생각합니다. 저는 최근 코로나19로 인해 ...   \n",
       "97  코로나 백신 지적 재산권 절대 유예하지 않을 것 같습니다. 먼저 예를 들어보겠습니다...   \n",
       "98  전세계적으로 코로나 감염확산 위험에 빠져 많은 사람들이 확진되고 죽으며 아주 심각한...   \n",
       "99  저는 코로나19 백신에 대한 지적재산권을 임시적으로나마 자유롭게 풀어야한다고 생각합...   \n",
       "\n",
       "                                     Paraphrased Text  \n",
       "0   코로나19 팬데믹 이후, 전 세계적으로 인종차별 사례가 증가하고 있다. 그 중 하나...  \n",
       "1   인종차별이라는 주제를 언급할 때, '검은 후드티 소년'이라는 책이 떠오른다. 이 책...  \n",
       "2   인종차별의 기원은 과거의 노예제도로 거슬러 올라갑니다. 민주주의가 가장 발전했다고 ...  \n",
       "3   2020년 초, 전 세계적으로 코로나바이러스가 확산되었습니다. 이 바이러스는 202...  \n",
       "4   동양인에 대한 혐오감은 태어날 때부터 존재한 것이 아니라, 그들이 경제적, 문화적 ...  \n",
       "..                                                ...  \n",
       "95  공공재란 무엇인가? 공공재는 모든 사람이 공동으로 이용할 수 있는 재화나 서비스를 ...  \n",
       "96  저는 지적 재산권이 반드시 보호되어야 한다고 생각합니다. 최근 코로나19와 관련하여...  \n",
       "97  코로나 백신의 지적 재산권은 절대적으로 유예되지 않을 것으로 예상됩니다. 예를 들어...  \n",
       "98  전세계적으로 코로나19의 감염 확산 우려로 인해 많은 사람들이 감염되거나 사망하며 ...  \n",
       "99  저는 코로나19 백신에 대한 지적재산권을 일시적으로라도 완화해야 한다고 생각합니다....  \n",
       "\n",
       "[100 rows x 2 columns]"
      ]
     },
     "execution_count": 129,
     "metadata": {},
     "output_type": "execute_result"
    }
   ],
   "source": [
    "df"
   ]
  },
  {
   "cell_type": "code",
   "execution_count": 130,
   "metadata": {},
   "outputs": [
    {
     "data": {
      "text/plain": [
       "100"
      ]
     },
     "execution_count": 130,
     "metadata": {},
     "output_type": "execute_result"
    }
   ],
   "source": [
    "len(df)"
   ]
  },
  {
   "cell_type": "code",
   "execution_count": 131,
   "metadata": {},
   "outputs": [],
   "source": [
    "df.to_csv(\"paraphrase_high2\")"
   ]
  },
  {
   "cell_type": "markdown",
   "metadata": {},
   "source": [
    "### 고2 correction"
   ]
  },
  {
   "cell_type": "code",
   "execution_count": 22,
   "metadata": {},
   "outputs": [],
   "source": [
    "correction_prompt = '''\n",
    "아래의 글에서 띄어쓰기 및 맞춤법 오류가 있는지 확인해보고, 있는 경우 수정해줘. 그리고 수정된 글을 반환해줘.\n",
    "하나라도 수정한 글에는 글 앞에 '아래 글에서 맞춤법 오류를 수정한 내용입니다.\\n\\n-----'를 적어줘.\n",
    "--------------------\n",
    "{text}\n",
    "'''"
   ]
  },
  {
   "cell_type": "code",
   "execution_count": 119,
   "metadata": {},
   "outputs": [],
   "source": [
    "original_texts = []\n",
    "correction_texts = []\n",
    "\n",
    "# 각 텍스트에 대해 paraphrase 실행\n",
    "for text in high2['paragraph_txt']:\n",
    "    # 텍스트를 paraphrase_prompt에 삽입\n",
    "    user_prompt = correction_prompt.format(text=text)\n",
    "\n",
    "    # API 요청 생성\n",
    "    completion = client.chat.completions.create(\n",
    "      model=MODEL,\n",
    "      messages=[\n",
    "        {\"role\": \"system\", \"content\": correction_prompt},\n",
    "        {\"role\": \"user\", \"content\": user_prompt}\n",
    "      ],\n",
    "\n",
    "    temperature = 0.7\n",
    "    )\n",
    "\n",
    "    # 결과 저장\n",
    "    original_texts.append(text)\n",
    "    correction_texts.append(completion.choices[0].message.content)\n",
    "\n",
    "# DataFrame 생성\n",
    "high2_df2 = pd.DataFrame({\n",
    "    'Original Text': original_texts,\n",
    "    'Correction Text': correction_texts\n",
    "})\n",
    "\n",
    "high2_df2['Correction Text'] = high2_df2['Correction Text'].str.replace(r'아래 글에서 맞춤법 오류를 수정한 내용입니다.\\n\\n-----', '', regex=True)\n",
    "\n",
    "high2_df2.to_csv(\"correction_high2.csv\", index = False)"
   ]
  },
  {
   "cell_type": "code",
   "execution_count": 23,
   "metadata": {},
   "outputs": [],
   "source": [
    "high2_df2 = pd.read_csv(\"/Users/seunghyun/Downloads/correction_high2.csv\")"
   ]
  },
  {
   "cell_type": "code",
   "execution_count": 24,
   "metadata": {},
   "outputs": [
    {
     "data": {
      "text/plain": [
       "Original Text      남아프리카 공화국, 인도 등의 수십 개의 개발도상국 정부들은 코로나19 퇴치를 위해...\n",
       "Correction Text    남아프리카 공화국, 인도 등의 수십 개의 개발도상국 정부들은 코로나19 퇴치를 위해...\n",
       "Name: 73, dtype: object"
      ]
     },
     "execution_count": 24,
     "metadata": {},
     "output_type": "execute_result"
    }
   ],
   "source": [
    "high2_df2.iloc[73]"
   ]
  },
  {
   "cell_type": "code",
   "execution_count": 25,
   "metadata": {},
   "outputs": [],
   "source": [
    "# Correction Text 컬럼에서 \\n 제거\n",
    "high2_df2['Correction Text'] = high2_df2['Correction Text'].str.replace(r'\\n', '', regex=True)\n",
    "\n",
    "# 결과 저장\n",
    "high2_df2.to_csv(\"correction_high2.csv\", index=False)"
   ]
  },
  {
   "cell_type": "code",
   "execution_count": 26,
   "metadata": {},
   "outputs": [],
   "source": [
    "import re\n",
    "\n",
    "# @#문장구분# 이 포함된 부분 삭제\n",
    "high2_df2['Original Text'] = high2_df2['Original Text'].replace(r'#@문장구분#', '', regex=True)\n",
    "\n",
    "high2_df2.head()\n",
    "high2_df2.to_csv(\"correction_high2.csv\", index=False)\n"
   ]
  },
  {
   "cell_type": "code",
   "execution_count": 27,
   "metadata": {},
   "outputs": [
    {
     "data": {
      "text/plain": [
       "100"
      ]
     },
     "execution_count": 27,
     "metadata": {},
     "output_type": "execute_result"
    }
   ],
   "source": [
    "len(high2_df2)"
   ]
  },
  {
   "cell_type": "code",
   "execution_count": 28,
   "metadata": {},
   "outputs": [],
   "source": [
    "# merge\n",
    "\n",
    "paraphrase_high2 = pd.read_csv('/Users/seunghyun/Downloads/paraphrase_high2.csv')  \n",
    "correction_high2 = pd.read_csv('/Users/seunghyun/Downloads/correction_high2.csv')  \n",
    "\n",
    "merged_df = pd.merge(paraphrase_high2, correction_high2, on='Original Text', how='inner')"
   ]
  },
  {
   "cell_type": "code",
   "execution_count": 29,
   "metadata": {},
   "outputs": [
    {
     "data": {
      "text/html": [
       "<div>\n",
       "<style scoped>\n",
       "    .dataframe tbody tr th:only-of-type {\n",
       "        vertical-align: middle;\n",
       "    }\n",
       "\n",
       "    .dataframe tbody tr th {\n",
       "        vertical-align: top;\n",
       "    }\n",
       "\n",
       "    .dataframe thead th {\n",
       "        text-align: right;\n",
       "    }\n",
       "</style>\n",
       "<table border=\"1\" class=\"dataframe\">\n",
       "  <thead>\n",
       "    <tr style=\"text-align: right;\">\n",
       "      <th></th>\n",
       "      <th>Unnamed: 0</th>\n",
       "      <th>Original Text</th>\n",
       "      <th>Paraphrased Text</th>\n",
       "      <th>Correction Text</th>\n",
       "    </tr>\n",
       "  </thead>\n",
       "  <tbody>\n",
       "    <tr>\n",
       "      <th>0</th>\n",
       "      <td>0</td>\n",
       "      <td>코로나 팬데믹이 시작된 이후 전 세계적으로 인종차별 사례가 늘어나고 있다. 그리고 ...</td>\n",
       "      <td>코로나19 팬데믹 이후, 전 세계적으로 인종차별 사례가 증가하고 있다. 그 중 하나...</td>\n",
       "      <td>코로나 팬데믹이 시작된 이후 전 세계적으로 인종차별 사례가 늘어나고 있다. 그리고 ...</td>\n",
       "    </tr>\n",
       "    <tr>\n",
       "      <th>1</th>\n",
       "      <td>1</td>\n",
       "      <td>인종차별이란 단어를 들으면 생각나는 책이 있다. 바로 '검은 후드티 소년' 이라는 ...</td>\n",
       "      <td>인종차별이라는 주제를 언급할 때, '검은 후드티 소년'이라는 책이 떠오른다. 이 책...</td>\n",
       "      <td>인종차별이란 단어를 들으면 생각나는 책이 있다. 바로 '검은 후드티 소년'이라는 책...</td>\n",
       "    </tr>\n",
       "    <tr>\n",
       "      <th>2</th>\n",
       "      <td>2</td>\n",
       "      <td>인종차별의 원인은 옛날의 노예제도로 거슬러 올라가야 합니다.민주주의가 가장 발달했다...</td>\n",
       "      <td>인종차별의 기원은 과거의 노예제도로 거슬러 올라갑니다. 민주주의가 가장 발전했다고 ...</td>\n",
       "      <td>인종차별의 원인은 옛날의 노예제도로 거슬러 올라가야 합니다. #@문장구분# 민주주의...</td>\n",
       "    </tr>\n",
       "    <tr>\n",
       "      <th>3</th>\n",
       "      <td>3</td>\n",
       "      <td>2020년 초 전 세계에서는 코로나바이러스가 퍼졌습니다. 2020년에 퍼진 코로나바...</td>\n",
       "      <td>2020년 초, 전 세계적으로 코로나바이러스가 확산되었습니다. 이 바이러스는 202...</td>\n",
       "      <td>2020년 초 전 세계에서는 코로나바이러스가 퍼졌습니다. 2020년에 퍼진 코로나바...</td>\n",
       "    </tr>\n",
       "    <tr>\n",
       "      <th>4</th>\n",
       "      <td>4</td>\n",
       "      <td>태어날 때부터 동양인에 대한 혐오감을 가지고 태어나서 그런 것이 아니라 동양인은 그...</td>\n",
       "      <td>동양인에 대한 혐오감은 태어날 때부터 존재한 것이 아니라, 그들이 경제적, 문화적 ...</td>\n",
       "      <td>태어날 때부터 동양인에 대한 혐오감을 가지고 태어나서 그런 것이 아니라 동양인은 그...</td>\n",
       "    </tr>\n",
       "    <tr>\n",
       "      <th>...</th>\n",
       "      <td>...</td>\n",
       "      <td>...</td>\n",
       "      <td>...</td>\n",
       "      <td>...</td>\n",
       "    </tr>\n",
       "    <tr>\n",
       "      <th>95</th>\n",
       "      <td>95</td>\n",
       "      <td>공공재란 뭘까? 공공재란 모든 사람이 공동으로 이용할 수 있는 재화나 서비스를 뜻한...</td>\n",
       "      <td>공공재란 무엇인가? 공공재는 모든 사람이 공동으로 이용할 수 있는 재화나 서비스를 ...</td>\n",
       "      <td>공공재란 뭘까? 공공재란 모든 사람이 공동으로 이용할 수 있는 재화나 서비스를 뜻한...</td>\n",
       "    </tr>\n",
       "    <tr>\n",
       "      <th>96</th>\n",
       "      <td>96</td>\n",
       "      <td>저는 지적 재산권이 꼭 보장되어야 한다고 생각합니다. 저는 최근 코로나19로 인해 ...</td>\n",
       "      <td>저는 지적 재산권이 반드시 보호되어야 한다고 생각합니다. 최근 코로나19와 관련하여...</td>\n",
       "      <td>저는 지적 재산권이 꼭 보장되어야 한다고 생각합니다. 저는 최근 코로나19로 인해 ...</td>\n",
       "    </tr>\n",
       "    <tr>\n",
       "      <th>97</th>\n",
       "      <td>97</td>\n",
       "      <td>코로나 백신 지적 재산권 절대 유예하지 않을 것 같습니다. 먼저 예를 들어보겠습니다...</td>\n",
       "      <td>코로나 백신의 지적 재산권은 절대적으로 유예되지 않을 것으로 예상됩니다. 예를 들어...</td>\n",
       "      <td>코로나 백신 지적 재산권을 절대 유예하지 않을 것 같습니다. #@문장구분#먼저 예를...</td>\n",
       "    </tr>\n",
       "    <tr>\n",
       "      <th>98</th>\n",
       "      <td>98</td>\n",
       "      <td>전세계적으로 코로나 감염확산 위험에 빠져 많은 사람들이 확진되고 죽으며 아주 심각한...</td>\n",
       "      <td>전세계적으로 코로나19의 감염 확산 우려로 인해 많은 사람들이 감염되거나 사망하며 ...</td>\n",
       "      <td>전 세계적으로 코로나 감염 확산 위험에 빠져 많은 사람들이 확진되고 죽으며 아주 심...</td>\n",
       "    </tr>\n",
       "    <tr>\n",
       "      <th>99</th>\n",
       "      <td>99</td>\n",
       "      <td>저는 코로나19 백신에 대한 지적재산권을 임시적으로나마 자유롭게 풀어야한다고 생각합...</td>\n",
       "      <td>저는 코로나19 백신에 대한 지적재산권을 일시적으로라도 완화해야 한다고 생각합니다....</td>\n",
       "      <td>저는 코로나19 백신에 대한 지적 재산권을 임시적으로나마 자유롭게 풀어야 한다고 생...</td>\n",
       "    </tr>\n",
       "  </tbody>\n",
       "</table>\n",
       "<p>100 rows × 4 columns</p>\n",
       "</div>"
      ],
      "text/plain": [
       "    Unnamed: 0                                      Original Text  \\\n",
       "0            0  코로나 팬데믹이 시작된 이후 전 세계적으로 인종차별 사례가 늘어나고 있다. 그리고 ...   \n",
       "1            1  인종차별이란 단어를 들으면 생각나는 책이 있다. 바로 '검은 후드티 소년' 이라는 ...   \n",
       "2            2  인종차별의 원인은 옛날의 노예제도로 거슬러 올라가야 합니다.민주주의가 가장 발달했다...   \n",
       "3            3  2020년 초 전 세계에서는 코로나바이러스가 퍼졌습니다. 2020년에 퍼진 코로나바...   \n",
       "4            4  태어날 때부터 동양인에 대한 혐오감을 가지고 태어나서 그런 것이 아니라 동양인은 그...   \n",
       "..         ...                                                ...   \n",
       "95          95  공공재란 뭘까? 공공재란 모든 사람이 공동으로 이용할 수 있는 재화나 서비스를 뜻한...   \n",
       "96          96  저는 지적 재산권이 꼭 보장되어야 한다고 생각합니다. 저는 최근 코로나19로 인해 ...   \n",
       "97          97  코로나 백신 지적 재산권 절대 유예하지 않을 것 같습니다. 먼저 예를 들어보겠습니다...   \n",
       "98          98  전세계적으로 코로나 감염확산 위험에 빠져 많은 사람들이 확진되고 죽으며 아주 심각한...   \n",
       "99          99  저는 코로나19 백신에 대한 지적재산권을 임시적으로나마 자유롭게 풀어야한다고 생각합...   \n",
       "\n",
       "                                     Paraphrased Text  \\\n",
       "0   코로나19 팬데믹 이후, 전 세계적으로 인종차별 사례가 증가하고 있다. 그 중 하나...   \n",
       "1   인종차별이라는 주제를 언급할 때, '검은 후드티 소년'이라는 책이 떠오른다. 이 책...   \n",
       "2   인종차별의 기원은 과거의 노예제도로 거슬러 올라갑니다. 민주주의가 가장 발전했다고 ...   \n",
       "3   2020년 초, 전 세계적으로 코로나바이러스가 확산되었습니다. 이 바이러스는 202...   \n",
       "4   동양인에 대한 혐오감은 태어날 때부터 존재한 것이 아니라, 그들이 경제적, 문화적 ...   \n",
       "..                                                ...   \n",
       "95  공공재란 무엇인가? 공공재는 모든 사람이 공동으로 이용할 수 있는 재화나 서비스를 ...   \n",
       "96  저는 지적 재산권이 반드시 보호되어야 한다고 생각합니다. 최근 코로나19와 관련하여...   \n",
       "97  코로나 백신의 지적 재산권은 절대적으로 유예되지 않을 것으로 예상됩니다. 예를 들어...   \n",
       "98  전세계적으로 코로나19의 감염 확산 우려로 인해 많은 사람들이 감염되거나 사망하며 ...   \n",
       "99  저는 코로나19 백신에 대한 지적재산권을 일시적으로라도 완화해야 한다고 생각합니다....   \n",
       "\n",
       "                                      Correction Text  \n",
       "0   코로나 팬데믹이 시작된 이후 전 세계적으로 인종차별 사례가 늘어나고 있다. 그리고 ...  \n",
       "1   인종차별이란 단어를 들으면 생각나는 책이 있다. 바로 '검은 후드티 소년'이라는 책...  \n",
       "2   인종차별의 원인은 옛날의 노예제도로 거슬러 올라가야 합니다. #@문장구분# 민주주의...  \n",
       "3   2020년 초 전 세계에서는 코로나바이러스가 퍼졌습니다. 2020년에 퍼진 코로나바...  \n",
       "4   태어날 때부터 동양인에 대한 혐오감을 가지고 태어나서 그런 것이 아니라 동양인은 그...  \n",
       "..                                                ...  \n",
       "95  공공재란 뭘까? 공공재란 모든 사람이 공동으로 이용할 수 있는 재화나 서비스를 뜻한...  \n",
       "96  저는 지적 재산권이 꼭 보장되어야 한다고 생각합니다. 저는 최근 코로나19로 인해 ...  \n",
       "97  코로나 백신 지적 재산권을 절대 유예하지 않을 것 같습니다. #@문장구분#먼저 예를...  \n",
       "98  전 세계적으로 코로나 감염 확산 위험에 빠져 많은 사람들이 확진되고 죽으며 아주 심...  \n",
       "99  저는 코로나19 백신에 대한 지적 재산권을 임시적으로나마 자유롭게 풀어야 한다고 생...  \n",
       "\n",
       "[100 rows x 4 columns]"
      ]
     },
     "execution_count": 29,
     "metadata": {},
     "output_type": "execute_result"
    }
   ],
   "source": [
    "merged_df"
   ]
  },
  {
   "cell_type": "code",
   "execution_count": 30,
   "metadata": {},
   "outputs": [],
   "source": [
    "merged_df = merged_df.drop('Unnamed: 0', axis=1)"
   ]
  },
  {
   "cell_type": "code",
   "execution_count": 31,
   "metadata": {},
   "outputs": [
    {
     "data": {
      "text/html": [
       "<div>\n",
       "<style scoped>\n",
       "    .dataframe tbody tr th:only-of-type {\n",
       "        vertical-align: middle;\n",
       "    }\n",
       "\n",
       "    .dataframe tbody tr th {\n",
       "        vertical-align: top;\n",
       "    }\n",
       "\n",
       "    .dataframe thead th {\n",
       "        text-align: right;\n",
       "    }\n",
       "</style>\n",
       "<table border=\"1\" class=\"dataframe\">\n",
       "  <thead>\n",
       "    <tr style=\"text-align: right;\">\n",
       "      <th></th>\n",
       "      <th>Original Text</th>\n",
       "      <th>Paraphrased Text</th>\n",
       "      <th>Correction Text</th>\n",
       "    </tr>\n",
       "  </thead>\n",
       "  <tbody>\n",
       "    <tr>\n",
       "      <th>0</th>\n",
       "      <td>코로나 팬데믹이 시작된 이후 전 세계적으로 인종차별 사례가 늘어나고 있다. 그리고 ...</td>\n",
       "      <td>코로나19 팬데믹 이후, 전 세계적으로 인종차별 사례가 증가하고 있다. 그 중 하나...</td>\n",
       "      <td>코로나 팬데믹이 시작된 이후 전 세계적으로 인종차별 사례가 늘어나고 있다. 그리고 ...</td>\n",
       "    </tr>\n",
       "    <tr>\n",
       "      <th>1</th>\n",
       "      <td>인종차별이란 단어를 들으면 생각나는 책이 있다. 바로 '검은 후드티 소년' 이라는 ...</td>\n",
       "      <td>인종차별이라는 주제를 언급할 때, '검은 후드티 소년'이라는 책이 떠오른다. 이 책...</td>\n",
       "      <td>인종차별이란 단어를 들으면 생각나는 책이 있다. 바로 '검은 후드티 소년'이라는 책...</td>\n",
       "    </tr>\n",
       "    <tr>\n",
       "      <th>2</th>\n",
       "      <td>인종차별의 원인은 옛날의 노예제도로 거슬러 올라가야 합니다.민주주의가 가장 발달했다...</td>\n",
       "      <td>인종차별의 기원은 과거의 노예제도로 거슬러 올라갑니다. 민주주의가 가장 발전했다고 ...</td>\n",
       "      <td>인종차별의 원인은 옛날의 노예제도로 거슬러 올라가야 합니다. #@문장구분# 민주주의...</td>\n",
       "    </tr>\n",
       "    <tr>\n",
       "      <th>3</th>\n",
       "      <td>2020년 초 전 세계에서는 코로나바이러스가 퍼졌습니다. 2020년에 퍼진 코로나바...</td>\n",
       "      <td>2020년 초, 전 세계적으로 코로나바이러스가 확산되었습니다. 이 바이러스는 202...</td>\n",
       "      <td>2020년 초 전 세계에서는 코로나바이러스가 퍼졌습니다. 2020년에 퍼진 코로나바...</td>\n",
       "    </tr>\n",
       "    <tr>\n",
       "      <th>4</th>\n",
       "      <td>태어날 때부터 동양인에 대한 혐오감을 가지고 태어나서 그런 것이 아니라 동양인은 그...</td>\n",
       "      <td>동양인에 대한 혐오감은 태어날 때부터 존재한 것이 아니라, 그들이 경제적, 문화적 ...</td>\n",
       "      <td>태어날 때부터 동양인에 대한 혐오감을 가지고 태어나서 그런 것이 아니라 동양인은 그...</td>\n",
       "    </tr>\n",
       "    <tr>\n",
       "      <th>...</th>\n",
       "      <td>...</td>\n",
       "      <td>...</td>\n",
       "      <td>...</td>\n",
       "    </tr>\n",
       "    <tr>\n",
       "      <th>95</th>\n",
       "      <td>공공재란 뭘까? 공공재란 모든 사람이 공동으로 이용할 수 있는 재화나 서비스를 뜻한...</td>\n",
       "      <td>공공재란 무엇인가? 공공재는 모든 사람이 공동으로 이용할 수 있는 재화나 서비스를 ...</td>\n",
       "      <td>공공재란 뭘까? 공공재란 모든 사람이 공동으로 이용할 수 있는 재화나 서비스를 뜻한...</td>\n",
       "    </tr>\n",
       "    <tr>\n",
       "      <th>96</th>\n",
       "      <td>저는 지적 재산권이 꼭 보장되어야 한다고 생각합니다. 저는 최근 코로나19로 인해 ...</td>\n",
       "      <td>저는 지적 재산권이 반드시 보호되어야 한다고 생각합니다. 최근 코로나19와 관련하여...</td>\n",
       "      <td>저는 지적 재산권이 꼭 보장되어야 한다고 생각합니다. 저는 최근 코로나19로 인해 ...</td>\n",
       "    </tr>\n",
       "    <tr>\n",
       "      <th>97</th>\n",
       "      <td>코로나 백신 지적 재산권 절대 유예하지 않을 것 같습니다. 먼저 예를 들어보겠습니다...</td>\n",
       "      <td>코로나 백신의 지적 재산권은 절대적으로 유예되지 않을 것으로 예상됩니다. 예를 들어...</td>\n",
       "      <td>코로나 백신 지적 재산권을 절대 유예하지 않을 것 같습니다. #@문장구분#먼저 예를...</td>\n",
       "    </tr>\n",
       "    <tr>\n",
       "      <th>98</th>\n",
       "      <td>전세계적으로 코로나 감염확산 위험에 빠져 많은 사람들이 확진되고 죽으며 아주 심각한...</td>\n",
       "      <td>전세계적으로 코로나19의 감염 확산 우려로 인해 많은 사람들이 감염되거나 사망하며 ...</td>\n",
       "      <td>전 세계적으로 코로나 감염 확산 위험에 빠져 많은 사람들이 확진되고 죽으며 아주 심...</td>\n",
       "    </tr>\n",
       "    <tr>\n",
       "      <th>99</th>\n",
       "      <td>저는 코로나19 백신에 대한 지적재산권을 임시적으로나마 자유롭게 풀어야한다고 생각합...</td>\n",
       "      <td>저는 코로나19 백신에 대한 지적재산권을 일시적으로라도 완화해야 한다고 생각합니다....</td>\n",
       "      <td>저는 코로나19 백신에 대한 지적 재산권을 임시적으로나마 자유롭게 풀어야 한다고 생...</td>\n",
       "    </tr>\n",
       "  </tbody>\n",
       "</table>\n",
       "<p>100 rows × 3 columns</p>\n",
       "</div>"
      ],
      "text/plain": [
       "                                        Original Text  \\\n",
       "0   코로나 팬데믹이 시작된 이후 전 세계적으로 인종차별 사례가 늘어나고 있다. 그리고 ...   \n",
       "1   인종차별이란 단어를 들으면 생각나는 책이 있다. 바로 '검은 후드티 소년' 이라는 ...   \n",
       "2   인종차별의 원인은 옛날의 노예제도로 거슬러 올라가야 합니다.민주주의가 가장 발달했다...   \n",
       "3   2020년 초 전 세계에서는 코로나바이러스가 퍼졌습니다. 2020년에 퍼진 코로나바...   \n",
       "4   태어날 때부터 동양인에 대한 혐오감을 가지고 태어나서 그런 것이 아니라 동양인은 그...   \n",
       "..                                                ...   \n",
       "95  공공재란 뭘까? 공공재란 모든 사람이 공동으로 이용할 수 있는 재화나 서비스를 뜻한...   \n",
       "96  저는 지적 재산권이 꼭 보장되어야 한다고 생각합니다. 저는 최근 코로나19로 인해 ...   \n",
       "97  코로나 백신 지적 재산권 절대 유예하지 않을 것 같습니다. 먼저 예를 들어보겠습니다...   \n",
       "98  전세계적으로 코로나 감염확산 위험에 빠져 많은 사람들이 확진되고 죽으며 아주 심각한...   \n",
       "99  저는 코로나19 백신에 대한 지적재산권을 임시적으로나마 자유롭게 풀어야한다고 생각합...   \n",
       "\n",
       "                                     Paraphrased Text  \\\n",
       "0   코로나19 팬데믹 이후, 전 세계적으로 인종차별 사례가 증가하고 있다. 그 중 하나...   \n",
       "1   인종차별이라는 주제를 언급할 때, '검은 후드티 소년'이라는 책이 떠오른다. 이 책...   \n",
       "2   인종차별의 기원은 과거의 노예제도로 거슬러 올라갑니다. 민주주의가 가장 발전했다고 ...   \n",
       "3   2020년 초, 전 세계적으로 코로나바이러스가 확산되었습니다. 이 바이러스는 202...   \n",
       "4   동양인에 대한 혐오감은 태어날 때부터 존재한 것이 아니라, 그들이 경제적, 문화적 ...   \n",
       "..                                                ...   \n",
       "95  공공재란 무엇인가? 공공재는 모든 사람이 공동으로 이용할 수 있는 재화나 서비스를 ...   \n",
       "96  저는 지적 재산권이 반드시 보호되어야 한다고 생각합니다. 최근 코로나19와 관련하여...   \n",
       "97  코로나 백신의 지적 재산권은 절대적으로 유예되지 않을 것으로 예상됩니다. 예를 들어...   \n",
       "98  전세계적으로 코로나19의 감염 확산 우려로 인해 많은 사람들이 감염되거나 사망하며 ...   \n",
       "99  저는 코로나19 백신에 대한 지적재산권을 일시적으로라도 완화해야 한다고 생각합니다....   \n",
       "\n",
       "                                      Correction Text  \n",
       "0   코로나 팬데믹이 시작된 이후 전 세계적으로 인종차별 사례가 늘어나고 있다. 그리고 ...  \n",
       "1   인종차별이란 단어를 들으면 생각나는 책이 있다. 바로 '검은 후드티 소년'이라는 책...  \n",
       "2   인종차별의 원인은 옛날의 노예제도로 거슬러 올라가야 합니다. #@문장구분# 민주주의...  \n",
       "3   2020년 초 전 세계에서는 코로나바이러스가 퍼졌습니다. 2020년에 퍼진 코로나바...  \n",
       "4   태어날 때부터 동양인에 대한 혐오감을 가지고 태어나서 그런 것이 아니라 동양인은 그...  \n",
       "..                                                ...  \n",
       "95  공공재란 뭘까? 공공재란 모든 사람이 공동으로 이용할 수 있는 재화나 서비스를 뜻한...  \n",
       "96  저는 지적 재산권이 꼭 보장되어야 한다고 생각합니다. 저는 최근 코로나19로 인해 ...  \n",
       "97  코로나 백신 지적 재산권을 절대 유예하지 않을 것 같습니다. #@문장구분#먼저 예를...  \n",
       "98  전 세계적으로 코로나 감염 확산 위험에 빠져 많은 사람들이 확진되고 죽으며 아주 심...  \n",
       "99  저는 코로나19 백신에 대한 지적 재산권을 임시적으로나마 자유롭게 풀어야 한다고 생...  \n",
       "\n",
       "[100 rows x 3 columns]"
      ]
     },
     "execution_count": 31,
     "metadata": {},
     "output_type": "execute_result"
    }
   ],
   "source": [
    "merged_df"
   ]
  },
  {
   "cell_type": "code",
   "execution_count": 32,
   "metadata": {},
   "outputs": [],
   "source": [
    "merged_df.to_csv(\"merged_high2.csv\", index=False)"
   ]
  },
  {
   "cell_type": "markdown",
   "metadata": {},
   "source": [
    "### 고2 generation"
   ]
  },
  {
   "cell_type": "code",
   "execution_count": 19,
   "metadata": {
    "id": "glQ1dqED2nKM"
   },
   "outputs": [],
   "source": [
    "essay_prompt_high2 = '''\n",
    "최근 중국발 코로나바이러스로 인해 동양인에 대한 혐오감을 나타내는 서양인들이 늘어나고 있습니다. 그로 인해, 매스컴이나 SNS에서 인종차별을 받아 힘들어하는 동양인들을 자주 목격할 수 있습니다.\n",
    "하지만, 최근에만 인종차별이 존재했을까요? 아닙니다. 아주 오래전부터 다른 인종에 대한 차별은 있었습니다.\n",
    "우리나라에서는 인종차별을 안 하고 있을까요? 아닙니다. 우리나라에서도 알게 모르게 많은 부분에서 다른 국가의 사람들에 대해 인종차별을 하고 있으며 누군가에게 상처를 주고 있습니다.\n",
    "즉, 인종차별은 누군가의 문제가 아니라 우리 모두의 문제입니다.\n",
    "여러분들은 인종차별을 당해보신 적 있나요? 인종차별을 하는 사람들에 대해 어떻게 생각하시나요? 왜 생겨났다고 생각하나요? 인종차별을 근절하기 위해서는 어떻게 해야 할까요? 인종차별을 하는 사람들에 대해 전 세계적으로 처벌의 강도를 높여야 할까요?\n",
    "인종차별을 하는 사람들에 대한 본인의 생각을 작성하고 인종차별은 해결할 수 있는 문제일지 아니면 해결하지 어려운 문제일지 작성해주세요. 또한, 그렇게 생각한 이유와 본인이 생각한 해결방법 혹은 해결할 수 없다면 왜 해결할 수 없다고 생각하는지 작성해주세요.'''"
   ]
  },
  {
   "cell_type": "code",
   "execution_count": 20,
   "metadata": {},
   "outputs": [],
   "source": [
    "agent_prompt_high2 = '''\n",
    "너는 고등학교 2학년 학생이고, 주장과 그에 대한 근거를 높은 수준에서 제시할 수 있어.\n",
    "다음 주제로 1000자 글짓기를 하고 있어. 주제에 대해 너의 근거를 들어 주장하는 글쓰기를 해줘.\n",
    "제목은 작성하지 말고, 본문만 작성해줘.\n",
    "'''"
   ]
  },
  {
   "cell_type": "code",
   "execution_count": 21,
   "metadata": {},
   "outputs": [
    {
     "data": {
      "text/plain": [
       "100"
      ]
     },
     "execution_count": 21,
     "metadata": {},
     "output_type": "execute_result"
    }
   ],
   "source": [
    "len(high2)"
   ]
  },
  {
   "cell_type": "code",
   "execution_count": 33,
   "metadata": {},
   "outputs": [],
   "source": [
    "#generation\n",
    "\n",
    "generated_texts = []\n",
    "for text in high2['paragraph_txt']:  \n",
    "    completion = client.chat.completions.create(\n",
    "        model=MODEL,\n",
    "        messages=[\n",
    "            {\"role\": \"system\", \"content\": agent_prompt_high2},\n",
    "            {\"role\": \"user\", \"content\": essay_prompt_high2}\n",
    "        ],\n",
    "        temperature=1.0\n",
    "    )\n",
    "    generated_texts.append(completion.choices[0].message.content)\n",
    "\n",
    "# 병합된 데이터프레임에 Generated Texts 컬럼 추가\n",
    "merged_df['Generated Texts'] = generated_texts\n",
    "\n",
    "# 저장 또는 데이터 확인\n",
    "merged_df.to_csv('merged_high2.csv', index=False) "
   ]
  },
  {
   "cell_type": "code",
   "execution_count": 34,
   "metadata": {},
   "outputs": [
    {
     "data": {
      "text/html": [
       "<div>\n",
       "<style scoped>\n",
       "    .dataframe tbody tr th:only-of-type {\n",
       "        vertical-align: middle;\n",
       "    }\n",
       "\n",
       "    .dataframe tbody tr th {\n",
       "        vertical-align: top;\n",
       "    }\n",
       "\n",
       "    .dataframe thead th {\n",
       "        text-align: right;\n",
       "    }\n",
       "</style>\n",
       "<table border=\"1\" class=\"dataframe\">\n",
       "  <thead>\n",
       "    <tr style=\"text-align: right;\">\n",
       "      <th></th>\n",
       "      <th>Original Text</th>\n",
       "      <th>Paraphrased Text</th>\n",
       "      <th>Correction Text</th>\n",
       "      <th>Generated Texts</th>\n",
       "    </tr>\n",
       "  </thead>\n",
       "  <tbody>\n",
       "    <tr>\n",
       "      <th>0</th>\n",
       "      <td>코로나 팬데믹이 시작된 이후 전 세계적으로 인종차별 사례가 늘어나고 있다. 그리고 ...</td>\n",
       "      <td>코로나19 팬데믹 이후, 전 세계적으로 인종차별 사례가 증가하고 있다. 그 중 하나...</td>\n",
       "      <td>코로나 팬데믹이 시작된 이후 전 세계적으로 인종차별 사례가 늘어나고 있다. 그리고 ...</td>\n",
       "      <td>인종차별은 인류 역사와 깊은 연관을 지닌 복잡한 문제입니다. 특히, 현재 우리는 중...</td>\n",
       "    </tr>\n",
       "    <tr>\n",
       "      <th>1</th>\n",
       "      <td>인종차별이란 단어를 들으면 생각나는 책이 있다. 바로 '검은 후드티 소년' 이라는 ...</td>\n",
       "      <td>인종차별이라는 주제를 언급할 때, '검은 후드티 소년'이라는 책이 떠오른다. 이 책...</td>\n",
       "      <td>인종차별이란 단어를 들으면 생각나는 책이 있다. 바로 '검은 후드티 소년'이라는 책...</td>\n",
       "      <td>인종차별은 단순히 특정 집단에 대한 편견이나 혐오에서 비롯되는 것이 아니라, 사회의...</td>\n",
       "    </tr>\n",
       "    <tr>\n",
       "      <th>2</th>\n",
       "      <td>인종차별의 원인은 옛날의 노예제도로 거슬러 올라가야 합니다.민주주의가 가장 발달했다...</td>\n",
       "      <td>인종차별의 기원은 과거의 노예제도로 거슬러 올라갑니다. 민주주의가 가장 발전했다고 ...</td>\n",
       "      <td>인종차별의 원인은 옛날의 노예제도로 거슬러 올라가야 합니다. #@문장구분# 민주주의...</td>\n",
       "      <td>인종차별은 인류 역사 속에서 지속적으로 나타난 심각한 문제이며, 최근의 코로나19 ...</td>\n",
       "    </tr>\n",
       "    <tr>\n",
       "      <th>3</th>\n",
       "      <td>2020년 초 전 세계에서는 코로나바이러스가 퍼졌습니다. 2020년에 퍼진 코로나바...</td>\n",
       "      <td>2020년 초, 전 세계적으로 코로나바이러스가 확산되었습니다. 이 바이러스는 202...</td>\n",
       "      <td>2020년 초 전 세계에서는 코로나바이러스가 퍼졌습니다. 2020년에 퍼진 코로나바...</td>\n",
       "      <td>인종차별은 단지 개인의 잘못이 아니라 사회 전체가 공유하는 문제입니다. 역사적으로 ...</td>\n",
       "    </tr>\n",
       "    <tr>\n",
       "      <th>4</th>\n",
       "      <td>태어날 때부터 동양인에 대한 혐오감을 가지고 태어나서 그런 것이 아니라 동양인은 그...</td>\n",
       "      <td>동양인에 대한 혐오감은 태어날 때부터 존재한 것이 아니라, 그들이 경제적, 문화적 ...</td>\n",
       "      <td>태어날 때부터 동양인에 대한 혐오감을 가지고 태어나서 그런 것이 아니라 동양인은 그...</td>\n",
       "      <td>인종차별은 인류가 오랜 역사를 거치며 직면해 온 가장 심각한 사회적 문제 중 하나입...</td>\n",
       "    </tr>\n",
       "    <tr>\n",
       "      <th>...</th>\n",
       "      <td>...</td>\n",
       "      <td>...</td>\n",
       "      <td>...</td>\n",
       "      <td>...</td>\n",
       "    </tr>\n",
       "    <tr>\n",
       "      <th>95</th>\n",
       "      <td>공공재란 뭘까? 공공재란 모든 사람이 공동으로 이용할 수 있는 재화나 서비스를 뜻한...</td>\n",
       "      <td>공공재란 무엇인가? 공공재는 모든 사람이 공동으로 이용할 수 있는 재화나 서비스를 ...</td>\n",
       "      <td>공공재란 뭘까? 공공재란 모든 사람이 공동으로 이용할 수 있는 재화나 서비스를 뜻한...</td>\n",
       "      <td>인종차별은 인류 역사 속에서 반복적으로 발생해온 심각한 사회 문제입니다. 최근 중국...</td>\n",
       "    </tr>\n",
       "    <tr>\n",
       "      <th>96</th>\n",
       "      <td>저는 지적 재산권이 꼭 보장되어야 한다고 생각합니다. 저는 최근 코로나19로 인해 ...</td>\n",
       "      <td>저는 지적 재산권이 반드시 보호되어야 한다고 생각합니다. 최근 코로나19와 관련하여...</td>\n",
       "      <td>저는 지적 재산권이 꼭 보장되어야 한다고 생각합니다. 저는 최근 코로나19로 인해 ...</td>\n",
       "      <td>인종차별은 인류 역사 속에서 끊임없이 존재해온 문제이며, 그 근본 원인들은 복잡하고...</td>\n",
       "    </tr>\n",
       "    <tr>\n",
       "      <th>97</th>\n",
       "      <td>코로나 백신 지적 재산권 절대 유예하지 않을 것 같습니다. 먼저 예를 들어보겠습니다...</td>\n",
       "      <td>코로나 백신의 지적 재산권은 절대적으로 유예되지 않을 것으로 예상됩니다. 예를 들어...</td>\n",
       "      <td>코로나 백신 지적 재산권을 절대 유예하지 않을 것 같습니다. #@문장구분#먼저 예를...</td>\n",
       "      <td>인종차별은 인류 역사 속에서 오랜 시간 동안 지속되어온 심각한 문제입니다. 과거부터...</td>\n",
       "    </tr>\n",
       "    <tr>\n",
       "      <th>98</th>\n",
       "      <td>전세계적으로 코로나 감염확산 위험에 빠져 많은 사람들이 확진되고 죽으며 아주 심각한...</td>\n",
       "      <td>전세계적으로 코로나19의 감염 확산 우려로 인해 많은 사람들이 감염되거나 사망하며 ...</td>\n",
       "      <td>전 세계적으로 코로나 감염 확산 위험에 빠져 많은 사람들이 확진되고 죽으며 아주 심...</td>\n",
       "      <td>인종차별은 인류 역사상 끊임없이 존재해 온 문제이며, 지금도 여전히 많은 이들에게 ...</td>\n",
       "    </tr>\n",
       "    <tr>\n",
       "      <th>99</th>\n",
       "      <td>저는 코로나19 백신에 대한 지적재산권을 임시적으로나마 자유롭게 풀어야한다고 생각합...</td>\n",
       "      <td>저는 코로나19 백신에 대한 지적재산권을 일시적으로라도 완화해야 한다고 생각합니다....</td>\n",
       "      <td>저는 코로나19 백신에 대한 지적 재산권을 임시적으로나마 자유롭게 풀어야 한다고 생...</td>\n",
       "      <td>인종차별은 단순히 개인의 문제가 아니라 사회 전반에 걸친 복합적이고 구조적인 문제입...</td>\n",
       "    </tr>\n",
       "  </tbody>\n",
       "</table>\n",
       "<p>100 rows × 4 columns</p>\n",
       "</div>"
      ],
      "text/plain": [
       "                                        Original Text  \\\n",
       "0   코로나 팬데믹이 시작된 이후 전 세계적으로 인종차별 사례가 늘어나고 있다. 그리고 ...   \n",
       "1   인종차별이란 단어를 들으면 생각나는 책이 있다. 바로 '검은 후드티 소년' 이라는 ...   \n",
       "2   인종차별의 원인은 옛날의 노예제도로 거슬러 올라가야 합니다.민주주의가 가장 발달했다...   \n",
       "3   2020년 초 전 세계에서는 코로나바이러스가 퍼졌습니다. 2020년에 퍼진 코로나바...   \n",
       "4   태어날 때부터 동양인에 대한 혐오감을 가지고 태어나서 그런 것이 아니라 동양인은 그...   \n",
       "..                                                ...   \n",
       "95  공공재란 뭘까? 공공재란 모든 사람이 공동으로 이용할 수 있는 재화나 서비스를 뜻한...   \n",
       "96  저는 지적 재산권이 꼭 보장되어야 한다고 생각합니다. 저는 최근 코로나19로 인해 ...   \n",
       "97  코로나 백신 지적 재산권 절대 유예하지 않을 것 같습니다. 먼저 예를 들어보겠습니다...   \n",
       "98  전세계적으로 코로나 감염확산 위험에 빠져 많은 사람들이 확진되고 죽으며 아주 심각한...   \n",
       "99  저는 코로나19 백신에 대한 지적재산권을 임시적으로나마 자유롭게 풀어야한다고 생각합...   \n",
       "\n",
       "                                     Paraphrased Text  \\\n",
       "0   코로나19 팬데믹 이후, 전 세계적으로 인종차별 사례가 증가하고 있다. 그 중 하나...   \n",
       "1   인종차별이라는 주제를 언급할 때, '검은 후드티 소년'이라는 책이 떠오른다. 이 책...   \n",
       "2   인종차별의 기원은 과거의 노예제도로 거슬러 올라갑니다. 민주주의가 가장 발전했다고 ...   \n",
       "3   2020년 초, 전 세계적으로 코로나바이러스가 확산되었습니다. 이 바이러스는 202...   \n",
       "4   동양인에 대한 혐오감은 태어날 때부터 존재한 것이 아니라, 그들이 경제적, 문화적 ...   \n",
       "..                                                ...   \n",
       "95  공공재란 무엇인가? 공공재는 모든 사람이 공동으로 이용할 수 있는 재화나 서비스를 ...   \n",
       "96  저는 지적 재산권이 반드시 보호되어야 한다고 생각합니다. 최근 코로나19와 관련하여...   \n",
       "97  코로나 백신의 지적 재산권은 절대적으로 유예되지 않을 것으로 예상됩니다. 예를 들어...   \n",
       "98  전세계적으로 코로나19의 감염 확산 우려로 인해 많은 사람들이 감염되거나 사망하며 ...   \n",
       "99  저는 코로나19 백신에 대한 지적재산권을 일시적으로라도 완화해야 한다고 생각합니다....   \n",
       "\n",
       "                                      Correction Text  \\\n",
       "0   코로나 팬데믹이 시작된 이후 전 세계적으로 인종차별 사례가 늘어나고 있다. 그리고 ...   \n",
       "1   인종차별이란 단어를 들으면 생각나는 책이 있다. 바로 '검은 후드티 소년'이라는 책...   \n",
       "2   인종차별의 원인은 옛날의 노예제도로 거슬러 올라가야 합니다. #@문장구분# 민주주의...   \n",
       "3   2020년 초 전 세계에서는 코로나바이러스가 퍼졌습니다. 2020년에 퍼진 코로나바...   \n",
       "4   태어날 때부터 동양인에 대한 혐오감을 가지고 태어나서 그런 것이 아니라 동양인은 그...   \n",
       "..                                                ...   \n",
       "95  공공재란 뭘까? 공공재란 모든 사람이 공동으로 이용할 수 있는 재화나 서비스를 뜻한...   \n",
       "96  저는 지적 재산권이 꼭 보장되어야 한다고 생각합니다. 저는 최근 코로나19로 인해 ...   \n",
       "97  코로나 백신 지적 재산권을 절대 유예하지 않을 것 같습니다. #@문장구분#먼저 예를...   \n",
       "98  전 세계적으로 코로나 감염 확산 위험에 빠져 많은 사람들이 확진되고 죽으며 아주 심...   \n",
       "99  저는 코로나19 백신에 대한 지적 재산권을 임시적으로나마 자유롭게 풀어야 한다고 생...   \n",
       "\n",
       "                                      Generated Texts  \n",
       "0   인종차별은 인류 역사와 깊은 연관을 지닌 복잡한 문제입니다. 특히, 현재 우리는 중...  \n",
       "1   인종차별은 단순히 특정 집단에 대한 편견이나 혐오에서 비롯되는 것이 아니라, 사회의...  \n",
       "2   인종차별은 인류 역사 속에서 지속적으로 나타난 심각한 문제이며, 최근의 코로나19 ...  \n",
       "3   인종차별은 단지 개인의 잘못이 아니라 사회 전체가 공유하는 문제입니다. 역사적으로 ...  \n",
       "4   인종차별은 인류가 오랜 역사를 거치며 직면해 온 가장 심각한 사회적 문제 중 하나입...  \n",
       "..                                                ...  \n",
       "95  인종차별은 인류 역사 속에서 반복적으로 발생해온 심각한 사회 문제입니다. 최근 중국...  \n",
       "96  인종차별은 인류 역사 속에서 끊임없이 존재해온 문제이며, 그 근본 원인들은 복잡하고...  \n",
       "97  인종차별은 인류 역사 속에서 오랜 시간 동안 지속되어온 심각한 문제입니다. 과거부터...  \n",
       "98  인종차별은 인류 역사상 끊임없이 존재해 온 문제이며, 지금도 여전히 많은 이들에게 ...  \n",
       "99  인종차별은 단순히 개인의 문제가 아니라 사회 전반에 걸친 복합적이고 구조적인 문제입...  \n",
       "\n",
       "[100 rows x 4 columns]"
      ]
     },
     "execution_count": 34,
     "metadata": {},
     "output_type": "execute_result"
    }
   ],
   "source": [
    "merged_df"
   ]
  },
  {
   "cell_type": "code",
   "execution_count": null,
   "metadata": {},
   "outputs": [],
   "source": [
    "len(merged_df)"
   ]
  },
  {
   "cell_type": "code",
   "execution_count": 35,
   "metadata": {},
   "outputs": [
    {
     "name": "stdout",
     "output_type": "stream",
     "text": [
      "JSON 파일이 생성되었습니다: data_paraphrased_2.json\n"
     ]
    }
   ],
   "source": [
    "# to_json!\n",
    "\n",
    "# paraphrased 전용\n",
    "\n",
    "csv_path = '/Users/seunghyun/Downloads/merged_high2.csv'\n",
    "merged_df = pd.read_csv(csv_path)\n",
    "\n",
    "# JSON 파일 형식 생성\n",
    "json_output = []\n",
    "\n",
    "# CSV의 각 행을 반복하며 JSON 포맷으로 변환\n",
    "json_output = {\n",
    "    \"original\": merged_df['Correction Text'].tolist(),\n",
    "    \"sampled\": merged_df['Paraphrased Text'].tolist()\n",
    "}\n",
    "\n",
    "\n",
    "# JSON 파일 저장\n",
    "output_path = 'data_paraphrased_2.json'\n",
    "with open(output_path, 'w', encoding='utf-8') as f:\n",
    "    json.dump(json_output, f, ensure_ascii=False, indent=4)\n",
    "\n",
    "print(f\"JSON 파일이 생성되었습니다: {output_path}\")"
   ]
  },
  {
   "cell_type": "code",
   "execution_count": 36,
   "metadata": {},
   "outputs": [
    {
     "name": "stdout",
     "output_type": "stream",
     "text": [
      "JSON 파일이 생성되었습니다: data_generated_2.json\n"
     ]
    }
   ],
   "source": [
    "# generation 전용\n",
    "\n",
    "csv_path = '/Users/seunghyun/Downloads/merged_high2.csv'\n",
    "merged_df = pd.read_csv(csv_path)\n",
    "\n",
    "# JSON 파일 형식 생성\n",
    "json_output = []\n",
    "\n",
    "# CSV의 각 행을 반복하며 JSON 포맷으로 변환\n",
    "json_output = {\n",
    "    \"original\": merged_df['Correction Text'].tolist(),\n",
    "    \"sampled\": merged_df['Generated Texts'].tolist()\n",
    "}\n",
    "\n",
    "\n",
    "# JSON 파일 저장\n",
    "output_path = 'data_generated_2.json'\n",
    "with open(output_path, 'w', encoding='utf-8') as f:\n",
    "    json.dump(json_output, f, ensure_ascii=False, indent=4)\n",
    "\n",
    "print(f\"JSON 파일이 생성되었습니다: {output_path}\")"
   ]
  },
  {
   "cell_type": "code",
   "execution_count": null,
   "metadata": {},
   "outputs": [],
   "source": []
  }
 ],
 "metadata": {
  "colab": {
   "provenance": []
  },
  "kernelspec": {
   "display_name": "conda",
   "language": "python",
   "name": "conda"
  },
  "language_info": {
   "codemirror_mode": {
    "name": "ipython",
    "version": 3
   },
   "file_extension": ".py",
   "mimetype": "text/x-python",
   "name": "python",
   "nbconvert_exporter": "python",
   "pygments_lexer": "ipython3",
   "version": "3.9.18"
  },
  "orig_nbformat": 4
 },
 "nbformat": 4,
 "nbformat_minor": 0
}
