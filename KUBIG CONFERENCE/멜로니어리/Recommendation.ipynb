{
  "cells": [
    {
      "cell_type": "markdown",
      "metadata": {
        "id": "fhTSwzfsgIgZ"
      },
      "source": [
        "### Data Loading / Library"
      ]
    },
    {
      "cell_type": "code",
      "execution_count": null,
      "metadata": {
        "id": "07cd1YD5gGjC",
        "outputId": "7aa35ffa-c376-4ff5-c53f-c83836ca1968"
      },
      "outputs": [
        {
          "ename": "TypeError",
          "evalue": "argument should be integer or bytes-like object, not 'str'",
          "output_type": "error",
          "traceback": [
            "\u001b[0;31m---------------------------------------------------------------------------\u001b[0m",
            "\u001b[0;31mTypeError\u001b[0m                                 Traceback (most recent call last)",
            "Cell \u001b[0;32mIn[22], line 22\u001b[0m\n\u001b[1;32m     20\u001b[0m \u001b[38;5;28;01mfrom\u001b[39;00m \u001b[38;5;21;01mkonlpy\u001b[39;00m\u001b[38;5;21;01m.\u001b[39;00m\u001b[38;5;21;01mtag\u001b[39;00m \u001b[38;5;28;01mimport\u001b[39;00m Okt\n\u001b[1;32m     21\u001b[0m \u001b[38;5;28;01mfrom\u001b[39;00m \u001b[38;5;21;01mkonlpy\u001b[39;00m\u001b[38;5;21;01m.\u001b[39;00m\u001b[38;5;21;01mutils\u001b[39;00m \u001b[38;5;28;01mimport\u001b[39;00m pprint\n\u001b[0;32m---> 22\u001b[0m okt \u001b[38;5;241m=\u001b[39m \u001b[43mOkt\u001b[49m\u001b[43m(\u001b[49m\u001b[43m)\u001b[49m\n\u001b[1;32m     24\u001b[0m pd\u001b[38;5;241m.\u001b[39mset_option(\u001b[38;5;124m'\u001b[39m\u001b[38;5;124mdisplay.max_rows\u001b[39m\u001b[38;5;124m'\u001b[39m, \u001b[38;5;241m20\u001b[39m)\n",
            "File \u001b[0;32m~/miniconda3/lib/python3.10/site-packages/konlpy/tag/_okt.py:51\u001b[0m, in \u001b[0;36mOkt.__init__\u001b[0;34m(self, jvmpath, max_heap_size)\u001b[0m\n\u001b[1;32m     49\u001b[0m \u001b[38;5;28;01mdef\u001b[39;00m \u001b[38;5;21m__init__\u001b[39m(\u001b[38;5;28mself\u001b[39m, jvmpath\u001b[38;5;241m=\u001b[39m\u001b[38;5;28;01mNone\u001b[39;00m, max_heap_size\u001b[38;5;241m=\u001b[39m\u001b[38;5;241m1024\u001b[39m):\n\u001b[1;32m     50\u001b[0m     \u001b[38;5;28;01mif\u001b[39;00m \u001b[38;5;129;01mnot\u001b[39;00m jpype\u001b[38;5;241m.\u001b[39misJVMStarted():\n\u001b[0;32m---> 51\u001b[0m         \u001b[43mjvm\u001b[49m\u001b[38;5;241;43m.\u001b[39;49m\u001b[43minit_jvm\u001b[49m\u001b[43m(\u001b[49m\u001b[43mjvmpath\u001b[49m\u001b[43m,\u001b[49m\u001b[43m \u001b[49m\u001b[43mmax_heap_size\u001b[49m\u001b[43m)\u001b[49m\n\u001b[1;32m     53\u001b[0m     oktJavaPackage \u001b[38;5;241m=\u001b[39m jpype\u001b[38;5;241m.\u001b[39mJPackage(\u001b[38;5;124m'\u001b[39m\u001b[38;5;124mkr.lucypark.okt\u001b[39m\u001b[38;5;124m'\u001b[39m)\n\u001b[1;32m     54\u001b[0m     OktInterfaceJavaClass \u001b[38;5;241m=\u001b[39m oktJavaPackage\u001b[38;5;241m.\u001b[39mOktInterface\n",
            "File \u001b[0;32m~/miniconda3/lib/python3.10/site-packages/konlpy/jvm.py:59\u001b[0m, in \u001b[0;36minit_jvm\u001b[0;34m(jvmpath, max_heap_size)\u001b[0m\n\u001b[1;32m     55\u001b[0m jvmpath \u001b[38;5;241m=\u001b[39m jvmpath \u001b[38;5;129;01mor\u001b[39;00m jpype\u001b[38;5;241m.\u001b[39mgetDefaultJVMPath()\n\u001b[1;32m     57\u001b[0m \u001b[38;5;66;03m# NOTE: Temporary patch for Issue #76. Erase when possible.\u001b[39;00m\n\u001b[1;32m     58\u001b[0m \u001b[38;5;28;01mif\u001b[39;00m sys\u001b[38;5;241m.\u001b[39mplatform \u001b[38;5;241m==\u001b[39m \u001b[38;5;124m'\u001b[39m\u001b[38;5;124mdarwin\u001b[39m\u001b[38;5;124m'\u001b[39m\\\n\u001b[0;32m---> 59\u001b[0m         \u001b[38;5;129;01mand\u001b[39;00m \u001b[43mjvmpath\u001b[49m\u001b[38;5;241;43m.\u001b[39;49m\u001b[43mfind\u001b[49m\u001b[43m(\u001b[49m\u001b[38;5;124;43m'\u001b[39;49m\u001b[38;5;124;43m1.8.0\u001b[39;49m\u001b[38;5;124;43m'\u001b[39;49m\u001b[43m)\u001b[49m \u001b[38;5;241m>\u001b[39m \u001b[38;5;241m0\u001b[39m\\\n\u001b[1;32m     60\u001b[0m         \u001b[38;5;129;01mand\u001b[39;00m jvmpath\u001b[38;5;241m.\u001b[39mendswith(\u001b[38;5;124m'\u001b[39m\u001b[38;5;124mlibjvm.dylib\u001b[39m\u001b[38;5;124m'\u001b[39m):\n\u001b[1;32m     61\u001b[0m     jvmpath \u001b[38;5;241m=\u001b[39m \u001b[38;5;124m'\u001b[39m\u001b[38;5;132;01m%s\u001b[39;00m\u001b[38;5;124m/lib/jli/libjli.dylib\u001b[39m\u001b[38;5;124m'\u001b[39m \u001b[38;5;241m%\u001b[39m jvmpath\u001b[38;5;241m.\u001b[39msplit(\u001b[38;5;124m'\u001b[39m\u001b[38;5;124m/lib/\u001b[39m\u001b[38;5;124m'\u001b[39m)[\u001b[38;5;241m0\u001b[39m]\n\u001b[1;32m     63\u001b[0m \u001b[38;5;28;01mif\u001b[39;00m jvmpath:\n",
            "\u001b[0;31mTypeError\u001b[0m: argument should be integer or bytes-like object, not 'str'"
          ]
        }
      ],
      "source": [
        "import pandas as pd\n",
        "import networkx as nx\n",
        "import matplotlib.pyplot as plt\n",
        "import seaborn as sns\n",
        "import numpy as np\n",
        "import pickle\n",
        "from sklearn.metrics.pairwise import cosine_similarity\n",
        "from sklearn.preprocessing import StandardScaler\n",
        "import itertools\n",
        "from sklearn.decomposition import PCA\n",
        "from gensim.models import Word2Vec\n",
        "from gensim import models\n",
        "from gensim.models import KeyedVectors\n",
        "#!pip3 install jpype1==0.7.0\n",
        "#!pip3 install konlpy\n",
        "\n",
        "from IPython.display import clear_output\n",
        "clear_output()\n",
        "\n",
        "from konlpy.tag import Okt\n",
        "from konlpy.utils import pprint\n",
        "okt = Okt()\n",
        "\n",
        "pd.set_option('display.max_rows', 20)"
      ]
    },
    {
      "cell_type": "code",
      "execution_count": null,
      "metadata": {
        "colab": {
          "base_uri": "https://localhost:8080/",
          "height": 216
        },
        "id": "y11luT69cCDx",
        "outputId": "2ea93ae9-19bb-4284-d701-212911e761b2"
      },
      "outputs": [
        {
          "ename": "NameError",
          "evalue": "name 'pd' is not defined",
          "output_type": "error",
          "traceback": [
            "\u001b[0;31m---------------------------------------------------------------------------\u001b[0m",
            "\u001b[0;31mNameError\u001b[0m                                 Traceback (most recent call last)",
            "\u001b[0;32m<ipython-input-1-76d2818c327f>\u001b[0m in \u001b[0;36m<cell line: 10>\u001b[0;34m()\u001b[0m\n\u001b[1;32m      8\u001b[0m \u001b[0mvector_genrechart_path\u001b[0m \u001b[0;34m=\u001b[0m \u001b[0;34m\"\"\u001b[0m\u001b[0;34m\u001b[0m\u001b[0;34m\u001b[0m\u001b[0m\n\u001b[1;32m      9\u001b[0m \u001b[0;31m#------\u001b[0m\u001b[0;34m\u001b[0m\u001b[0;34m\u001b[0m\u001b[0m\n\u001b[0;32m---> 10\u001b[0;31m \u001b[0mplayid\u001b[0m \u001b[0;34m=\u001b[0m \u001b[0mpd\u001b[0m\u001b[0;34m.\u001b[0m\u001b[0mread_pickle\u001b[0m\u001b[0;34m(\u001b[0m\u001b[0mplayid_path\u001b[0m\u001b[0;34m)\u001b[0m\u001b[0;34m\u001b[0m\u001b[0;34m\u001b[0m\u001b[0m\n\u001b[0m\u001b[1;32m     11\u001b[0m \u001b[0mplayid\u001b[0m \u001b[0;34m=\u001b[0m \u001b[0mpd\u001b[0m\u001b[0;34m.\u001b[0m\u001b[0mread_pickle\u001b[0m\u001b[0;34m(\u001b[0m\u001b[0mplayid_path\u001b[0m\u001b[0;34m)\u001b[0m\u001b[0;34m\u001b[0m\u001b[0;34m\u001b[0m\u001b[0m\n\u001b[1;32m     12\u001b[0m \u001b[0mplayid\u001b[0m \u001b[0;34m=\u001b[0m \u001b[0mpd\u001b[0m\u001b[0;34m.\u001b[0m\u001b[0mread_pickle\u001b[0m\u001b[0;34m(\u001b[0m\u001b[0mplayid_path\u001b[0m\u001b[0;34m)\u001b[0m\u001b[0;34m\u001b[0m\u001b[0;34m\u001b[0m\u001b[0m\n",
            "\u001b[0;31mNameError\u001b[0m: name 'pd' is not defined"
          ]
        }
      ],
      "source": [
        "song_data_path = \"\"\n",
        "model_path = \"\"\n",
        "#------\n",
        "song_data = pd.read_pickle(song_data_path)\n",
        "\n",
        "playid = song_data['playid']\n",
        "play = song_data['play']\n",
        "genrechart = song_data['genrechart']\n",
        "\n",
        "vec_playid = pd.read_pickle(\"\")\n",
        "vec_play = pd.read_pickle(\"\")\n",
        "vec_genrechart = pd.read_pickle(\"\")"
      ]
    },
    {
      "cell_type": "markdown",
      "metadata": {
        "id": "QGLTddCmbxoU"
      },
      "source": [
        "### Input - 일기에 태깅"
      ]
    },
    {
      "cell_type": "markdown",
      "metadata": {
        "id": "dO0bwkPWb9Os"
      },
      "source": [
        "part 1 : Solar api 사용하여 일기 태깅 진행\n",
        "\n",
        "---\n",
        "\n"
      ]
    },
    {
      "cell_type": "code",
      "execution_count": null,
      "metadata": {
        "id": "-smRpCN9b73k"
      },
      "outputs": [],
      "source": [
        "# ! pip install openai\n",
        "# ! pip install python-dotenv\n",
        "\n",
        "import os\n",
        "from openai import OpenAI\n",
        "from dotenv import load_dotenv\n",
        "from google.colab import userdata\n",
        "import ast\n",
        "\n",
        "# API\n",
        "def get_api():\n",
        "    OPENAI_API_KEY = userdata.get('OPENAI_API_KEY')\n",
        "    return OPENAI_API_KEY\n",
        "\n",
        "api = get_api()\n",
        "client = OpenAI(api_key = api)\n",
        "\n",
        "# Keywords\n",
        "def get_keywords(input_text):\n",
        "\n",
        "    prompt = f\"\"\"\n",
        "    You are a helpful asssistant.\n",
        "    Extract **three emotions** and **three keyword** in **Korean** from the following text : {input_text}.\n",
        "    Make sure all the answers are **nouns**.\n",
        "    Follow the given format :\n",
        "    {[\"emotion1\", \"emotion2\", \"emotion3\", \"keyword1\", \"keyword2\", \"keyword3\"]}\n",
        "    \"\"\"\n",
        "\n",
        "    response = client.chat.completions.create(\n",
        "        model = \"gpt-3.5-turbo\",\n",
        "        messages = [\n",
        "            {\"role\": \"system\", \"content\": \"You are a helpful assistant.\"},\n",
        "            {\"role\": \"user\", \"content\": prompt}\n",
        "        ],\n",
        "        # max_tokens = 50,\n",
        "        # temperature = 0.3\n",
        "    )\n",
        "\n",
        "    keywords = response.choices[0].message.content\n",
        "    return keywords\n",
        "\n",
        "#####################\n",
        "input_text = \"\"\"\n",
        "드디어 한 학기가 끝나고 종강이야! 시험도 과제도 전부 끝나서 완전 후련하고 뿌듯해.\n",
        "어제는 여행도 다녀왔구, 편안하고 몽글몽글한 시간들이었어.\n",
        "오늘은 크리스마스 이브라서, 연말이 왔다는 거에 설레고 두근두근해!!\n",
        "\"\"\"\n",
        "#####################\n",
        "\n",
        "keywords = get_keywords(input_text)\n",
        "diary_tag = ast.literal_eval(keywords)\n",
        "print(diary_tag) # ['후련', '뿌듯', '설레', '학기', '시험', '연말']"
      ]
    },
    {
      "cell_type": "markdown",
      "metadata": {
        "id": "ianWgrBJWo4d"
      },
      "source": [
        "### Playlist - 태그 리스트 벡터화"
      ]
    },
    {
      "cell_type": "markdown",
      "metadata": {
        "id": "EADI_GaSXeY8"
      },
      "source": [
        "#### part 1 : 데이터 불러오기 / 각 태그의 유사 단어 검색 / 유사단어 포함하여 벡터화\n",
        "\n",
        "---\n",
        "\n",
        "실행 후 전체 프로세스 시간 단축을 위해 pickle 파일로 저장"
      ]
    },
    {
      "cell_type": "code",
      "execution_count": null,
      "metadata": {
        "id": "rXctHoCJEsCi",
        "outputId": "e29f3015-536b-49ff-fc84-080ea48883d8"
      },
      "outputs": [
        {
          "name": "stderr",
          "output_type": "stream",
          "text": [
            "c:\\Users\\13wog\\AppData\\Local\\Programs\\Python\\Python312\\Lib\\site-packages\\gensim\\models\\keyedvectors.py:849: RuntimeWarning: invalid value encountered in divide\n",
            "  dists = dot(self.vectors[clip_start:clip_end], mean) / self.norms[clip_start:clip_end]\n"
          ]
        },
        {
          "name": "stdout",
          "output_type": "stream",
          "text": [
            "(56360, 300)\n"
          ]
        },
        {
          "name": "stderr",
          "output_type": "stream",
          "text": [
            "c:\\Users\\13wog\\AppData\\Local\\Programs\\Python\\Python312\\Lib\\site-packages\\gensim\\models\\keyedvectors.py:849: RuntimeWarning: invalid value encountered in divide\n",
            "  dists = dot(self.vectors[clip_start:clip_end], mean) / self.norms[clip_start:clip_end]\n"
          ]
        },
        {
          "name": "stdout",
          "output_type": "stream",
          "text": [
            "[]\n"
          ]
        }
      ],
      "source": [
        "##### 데이터 불러오기 #####\n",
        "playid['tag'] = playid['tag'].apply(lambda x: x.split(', '))\n",
        "\n",
        "##### 모델 로드 (텍스트 형식) #####\n",
        "fasttext = KeyedVectors.load_word2vec_format(\n",
        "    model_path,\n",
        "    binary=False,  # 텍스트 형식이므로 False\n",
        "    encoding='utf-8',  # UTF-8 인코딩으로 로드\n",
        "    unicode_errors='ignore'  # 디코딩 에러 무시\n",
        ")\n",
        "\n",
        "def get_cos_dst(v1, v2):\n",
        "    return 1 - (np.dot(v1, v2) / (np.linalg.norm(v1) * np.linalg.norm(v2)))\n",
        "\n",
        "##### 태그 통합 과정 #####\n",
        "word = playid['tag'].to_list()\n",
        "#all tags - 기존 데이터의 태그 통합\n",
        "all_tags = list(itertools.chain.from_iterable(playid['tag']))\n",
        "# 기존 태그 중복 삭제\n",
        "all_tags = list(set(all_tags))\n",
        "\n",
        "##### missing_key 처리 #####\n",
        "target_words = all_tags.copy()\n",
        "all_words = all_tags.copy() # all_words = 원래 태그 + 비슷한 단어 100개씩\n",
        "missing_keys = []  # missing_keys = 키가 없는 단어\n",
        "\n",
        "for word in target_words:\n",
        "    if word in fasttext:\n",
        "        sim_words = [x[0] for x in fasttext.most_similar(word, topn=100)]\n",
        "        all_words += sim_words\n",
        "    else:\n",
        "        missing_keys.append(word)\n",
        "\n",
        "# all_words_org = all words의 사본\n",
        "all_words_org = all_words.copy()\n",
        "\n",
        "##### missing keys에 있는 단어들을 all_words와 taget_words에서 제거 #####\n",
        "\n",
        "all_words = [i for i in all_words if i not in missing_keys]\n",
        "target_words = [i for i in target_words if i not in missing_keys]\n",
        "\n",
        "# 중복 태그 삭제\n",
        "all_words = list(set(all_words))\n",
        "target_words = list(set(target_words))\n",
        "\n",
        "##### 단어 벡터화 : 각 단어 300차원 벡터화 #####\n",
        "word_vecs = np.array([fasttext.get_vector(w) for w in all_words])\n",
        "print(word_vecs.shape)\n"
      ]
    },
    {
      "cell_type": "code",
      "execution_count": null,
      "metadata": {
        "id": "_7NrwWmRXpeN"
      },
      "outputs": [],
      "source": [
        "# 피클 저장\n",
        "vector_playid = {'all_words': all_words, 'target_words': target_words,'word_vecs':word_vecs}\n",
        "with open('vec_playid.pkl', 'wb') as f:\n",
        "    pickle.dump(vector_playid, f)"
      ]
    },
    {
      "cell_type": "markdown",
      "metadata": {
        "id": "jJCt-j2pXRtV"
      },
      "source": [
        "#### part (1-2) : 벡터 리스트 PCA / 유사도 계산  \n",
        "\n",
        "---\n",
        "이하 부분은 실행하지 않음. 과정만 나타낸 것. 새로운 입력 후 새로 계산할 필요 있음.\n"
      ]
    },
    {
      "cell_type": "code",
      "execution_count": null,
      "metadata": {
        "id": "iW-gEzlnXPsA"
      },
      "outputs": [],
      "source": [
        "##### PCA #####\n",
        "pca_3d = PCA(n_components=3)\n",
        "comps = pca_3d.fit_transform(word_vecs)\n",
        "df_comps = pd.DataFrame(comps,\n",
        "                        columns=['comp_1', 'comp_2', 'comp_3'],\n",
        "                        index=all_words)\n",
        "\n",
        "###### matrix : 기존 태그와의 matching matrix. 태그가 존재하면 1, 아니면 0 #####\n",
        "matrix = np.array([\n",
        "    [(1 if tag in tags else 0) for tag in target_words]\n",
        "    for tags in playid['tag']\n",
        "])\n",
        "matrix_df = pd.DataFrame(matrix, columns=target_words, index= playid['name'])\n",
        "\n",
        "##### 리스트 벡터화 (df_doc_trans_pos) : 태그 리스트의 벡터화\n",
        "df_targets = df_comps.loc[target_words]\n",
        "df_doc_trans_pos = matrix_df.dot(df_targets)\n",
        "\n",
        "##### 태그 리스트 간 유사도 행렬 계산 #####\n",
        "\n",
        "# `df_doc_trans_pos`의 값을 NumPy 배열로 변환\n",
        "vectors = df_doc_trans_pos.loc[playid['name']].values\n",
        "\n",
        "# 벡터 간의 거리 행렬 계산 (유클리드 거리)\n",
        "similarity_matrix = cosine_similarity(vectors)\n",
        "\n",
        "# 거리 행렬을 데이터프레임으로 변환\n",
        "similarity_df = pd.DataFrame(similarity_matrix, index=playid['name'], columns=playid['name'])"
      ]
    },
    {
      "cell_type": "markdown",
      "metadata": {
        "id": "ydmaF9cKZ9o2"
      },
      "source": [
        "#### part 2 : PCA 분석\n",
        "\n",
        "---\n",
        "주성분이 설명하는 분산 비율에 대해 1) 90%이상 설명하는 차원 수 2) Elbow 그래프가 꺾이는 지점 두 가지를 동시 사용\n"
      ]
    },
    {
      "cell_type": "code",
      "execution_count": null,
      "metadata": {
        "id": "wNVSF2C5EsCl",
        "outputId": "8f9ef765-bbdd-4ac2-97e5-c6e1d8afb732"
      },
      "outputs": [
        {
          "data": {
            "image/png": "[encoded data removed]",
            "text/plain": [
              "<Figure size 640x480 with 1 Axes>"
            ]
          },
          "metadata": {},
          "output_type": "display_data"
        },
        {
          "name": "stdout",
          "output_type": "stream",
          "text": [
            "90% 이상의 분산을 설명하는 최소 차원 수: 227\n"
          ]
        }
      ],
      "source": [
        "# PCA 수행\n",
        "pca = PCA()\n",
        "pca.fit(word_vecs)\n",
        "\n",
        "# 각 주성분이 설명하는 분산 비율 확인\n",
        "explained_variance_ratio = pca.explained_variance_ratio_\n",
        "\n",
        "# 누적 분산 비율 계산\n",
        "cumulative_explained_variance = np.cumsum(explained_variance_ratio)\n",
        "\n",
        "# 그래프 시각화\n",
        "plt.plot(range(1, len(explained_variance_ratio) + 1), cumulative_explained_variance)\n",
        "plt.xlabel(\"Number of components\")\n",
        "plt.ylabel(\"Cumulative explained variance\")\n",
        "plt.title(\"Explained Variance by Number of Components\")\n",
        "plt.grid(True)\n",
        "plt.show()\n",
        "\n",
        "# 분산 설명 비율이 90% 이상을 설명하는 최소 차원 수 찾기\n",
        "optimal_components = np.argmax(cumulative_explained_variance >= 0.90) + 1\n",
        "print(f\"90% 이상의 분산을 설명하는 최소 차원 수: {optimal_components}\")\n"
      ]
    },
    {
      "cell_type": "code",
      "execution_count": null,
      "metadata": {
        "id": "B4FjrQjlEsCl",
        "outputId": "19848f21-bbf5-481f-e571-b40d16b9498c"
      },
      "outputs": [
        {
          "data": {
            "image/png": "[encoded data removed]",
            "text/plain": [
              "<Figure size 640x480 with 1 Axes>"
            ]
          },
          "metadata": {},
          "output_type": "display_data"
        }
      ],
      "source": [
        "# PCA 수행\n",
        "pca = PCA()\n",
        "pca.fit(word_vecs)\n",
        "\n",
        "# 각 주성분이 설명하는 분산 비율 확인\n",
        "explained_variance_ratio = pca.explained_variance_ratio_\n",
        "\n",
        "# 분산 설명 비율을 사용하여 엘보우 그래프 그리기\n",
        "plt.plot(range(1, len(explained_variance_ratio) + 1), explained_variance_ratio, marker='o', linestyle='--')\n",
        "plt.xlabel('Number of Principal Components')\n",
        "plt.ylabel('Explained Variance Ratio')\n",
        "plt.title('Elbow Method for Optimal Number of Components')\n",
        "plt.grid(True)\n",
        "plt.show()\n",
        "\n",
        "# Elbow Method - 시각적으로 분산 설명 비율이 급격하게 감소하는 지점 찾기\n"
      ]
    },
    {
      "cell_type": "markdown",
      "metadata": {
        "id": "-8SDoQ1pYeVN"
      },
      "source": [
        "#### part 3 : 새로 입력된 태그의 벡터화 / PCA / 유사도 계산 / 유사 아이템 찾기\n",
        "\n",
        "\n"
      ]
    },
    {
      "cell_type": "code",
      "execution_count": null,
      "metadata": {
        "id": "mOCzU84QWnwe"
      },
      "outputs": [],
      "source": [
        "# 단어 벡터 불러오기\n",
        "all_words = vec_playid['all_words']\n",
        "target_words = vec_playid['target_words']\n",
        "word_vecs = vec_playid['word_vecs']\n",
        "\n",
        "# 새로운 입력\n",
        "new_word_list = diary_tag\n",
        "\n",
        "# 유사 단어 추가\n",
        "new_all_words = new_word_list.copy()\n",
        "new_target_words = new_word_list.copy()\n",
        "new_missing_keys = []\n",
        "\n",
        "# 새로 들어오는 태그에 대해 가장 비슷한 단어 20개 찾기\n",
        "for word in new_word_list:\n",
        "    if word in fasttext:\n",
        "        sim_words = [x[0] for x in fasttext.most_similar(word, topn=20)]\n",
        "        new_all_words += sim_words\n",
        "    else:\n",
        "        new_missing_keys.append(word)\n",
        "\n",
        "# 유사 단어를 추가하고, 기존의 태그 리스트에 없는 단어만 필터링\n",
        "new_all_words = [i for i in new_all_words if i not in new_missing_keys]\n",
        "new_target_words = [i for i in new_target_words if i not in new_missing_keys]\n",
        "new_all_words = list(set(new_all_words))\n",
        "new_target_words = list(set(new_target_words))\n",
        "\n",
        "# 기존 태그 pool에 없는 단어만 추가하여 word list 수정\n",
        "new_all_words = [i for i in new_all_words if i not in all_words]\n",
        "new_target_words = [i for i in new_target_words if i not in all_words]\n",
        "\n",
        "# 새로운 단어 벡터화 및 기존 벡터와 결합\n",
        "if new_all_words:  # new_all_words에 새로운 단어가 있을 경우\n",
        "    new_word_vecs = np.array([fasttext.get_vector(w) for w in new_all_words])\n",
        "    new_vecs_300 = np.concatenate((word_vecs, new_word_vecs), axis=0)  # 기존 벡터에 새로 추가된 벡터 합침\n",
        "else:\n",
        "    new_vecs_300 = word_vecs.copy()\n",
        "\n",
        "# 중복 제거 후 합친 단어 리스트\n",
        "new_all_words2 = list(set(all_words + new_all_words))\n",
        "new_target_words2 = list(set(target_words + new_target_words))\n",
        "\n",
        "# PCA 차원 축소\n",
        "new_pca_3d = PCA(n_components=30)\n",
        "new_comps = new_pca_3d.fit_transform(new_vecs_300)  # PCA를 수행하여 벡터 차원 축소\n",
        "new_df_comps = pd.DataFrame(new_comps,\n",
        "                            columns=[f'comp_{i+1}' for i in range(30)],\n",
        "                            index=new_all_words2)\n",
        "\n",
        "# 새로운 태그 리스트에 대해 벡터화\n",
        "new_matrix = np.array([\n",
        "    [(1 if tag in tags else 0) for tag in new_target_words2]\n",
        "    for tags in playid['tag'].tolist() + [new_word_list]\n",
        "])\n",
        "col = playid['name'].tolist() + ['new']\n",
        "new_matrix_df = pd.DataFrame(new_matrix, columns=new_target_words2, index=col)\n",
        "\n",
        "new_df_targets = new_df_comps.loc[new_target_words2]\n",
        "new_df_doc_trans_pos = new_matrix_df.dot(new_df_targets)\n",
        "\n",
        "# 태그 리스트 간 유사도 계산\n",
        "new_vectors = new_df_doc_trans_pos.loc[col].values\n",
        "new_similarity_matrix = cosine_similarity(new_vectors)\n",
        "new_similarity_df = pd.DataFrame(new_similarity_matrix, index=col, columns=col)\n",
        "\n",
        "# 유사도 top n item 찾기 함수\n",
        "def find_top_n_similar_people(similarity_matrix, person_idx, top_n=3):\n",
        "    similarity_scores = similarity_matrix[person_idx]\n",
        "    most_similar_indices = np.argsort(similarity_scores)[1:top_n+1]\n",
        "    return most_similar_indices, similarity_scores[most_similar_indices]\n",
        "\n",
        "# 유사도 top n item 찾기\n",
        "person_idx = len(new_similarity_df) - 1\n",
        "top_n = 5\n",
        "most_similar_indices, similarity_scores = find_top_n_similar_people(new_similarity_matrix, person_idx, top_n)\n",
        "\n",
        "# 결과 출력\n",
        "playid = playid.reset_index(drop=True)\n",
        "selected_names = [playid['name'][idx] for idx in most_similar_indices]\n",
        "filtered_playlist = play[play['플리'].isin(selected_names)]\n",
        "\n",
        "# '플리' 변수의 값이 selected_names에 있는 값들만 필터링\n",
        "filtered_play = play[play['플리'].isin(selected_names)]\n",
        "filtered_play = filtered_play.drop_duplicates(subset = ['제목', '가수'])\n",
        "\n",
        "#곡 태그 126 * 300 벡터화\n",
        "\n",
        "all_new_word_vecs_play = []  # 모든 행에 대한 벡터들을 저장할 리스트\n",
        "\n",
        "for idx, row in filtered_play.iterrows():\n",
        "    # '키워드'와 '감정' 열에서 단어들을 가져옵니다.\n",
        "    keyword_list_play = row['키워드']  # 키워드 리스트\n",
        "    emotion_list_play = row['감정']    # 감정 리스트\n",
        "\n",
        "    # 두 리스트를 합쳐서 새로운 단어 리스트를 만듭니다.\n",
        "    all_words_for_row_play = keyword_list_play + emotion_list_play  # 길이가 6인 단어 리스트\n",
        "\n",
        "    new_all_words_play = all_words_for_row_play.copy()  # 유사 단어들을 저장할 리스트\n",
        "    new_missing_keys_play = []  # 유사 단어를 못 찾은 단어들\n",
        "\n",
        "    # 각 단어에 대해 유사 단어를 20개씩 찾기\n",
        "    for word in all_words_for_row_play:\n",
        "        if word in fasttext:  # fasttext에 있는 단어만 처리\n",
        "            sim_words_play = [x[0] for x in fasttext.most_similar(word, topn=20)]\n",
        "            new_all_words_play += sim_words  # 유사 단어들 추가\n",
        "        else:\n",
        "            new_missing_keys_play.append(word)  # 유사 단어를 못 찾은 단어들\n",
        "\n",
        "    # 유사 단어를 찾지 못한 단어를 제외한 새로운 단어 리스트를 생성\n",
        "    new_all_words_play = [i for i in new_all_words_play if i not in new_missing_keys_play]\n",
        "\n",
        "    # vec_play에서 해당 단어들의 벡터를 찾아서 126x300 행렬 만들기\n",
        "    new_word_vecs_play = []\n",
        "\n",
        "    for word in new_all_words_play:\n",
        "        if word in vec_play['all_words']:\n",
        "            word_idx_play = vec_play['all_words'].index(word)\n",
        "            new_word_vecs_play.append(vec_play['word_vecs'][word_idx_play])\n",
        "        else:\n",
        "            # 유사 단어를 못 찾은 경우, 벡터화할 방법을 결정해야 함\n",
        "            print(f\"Word {word} not found in vec_play['all_words']\")\n",
        "\n",
        "    # new_word_vecs가 126개의 벡터를 담고 있어야 함\n",
        "    new_word_vecs_matrix_play = np.array(new_word_vecs_play)  # 126 x 300 행렬\n",
        "    all_new_word_vecs_play.append(new_word_vecs_matrix_play)  # 각 행에 대한 벡터를 저장\n",
        "\n",
        "# all_new_word_vecs는 이제 filtered_play의 각 행에 대한 126x300 행렬들이 저장됨\n",
        "# 이것을 새로운 열로 추가하거나 다른 작업을 진행할 수 있습니다.\n",
        "\n",
        "# 예시로 각 행에 대한 벡터를 새로운 열로 추가\n",
        "filtered_play['word_vecs'] = all_new_word_vecs_play\n",
        "\n"
      ]
    },
    {
      "cell_type": "markdown",
      "metadata": {
        "id": "JhLcTZuEqW7Q"
      },
      "source": [
        "### Playlist, Chart, Genre - 가사태그 기반 곡 전체 벡터화"
      ]
    },
    {
      "cell_type": "code",
      "execution_count": null,
      "metadata": {
        "id": "D5Q8V0RTqW7Q"
      },
      "outputs": [],
      "source": [
        "play['tag'] = play['키워드'] + play['감정']\n",
        "genrechart['tag'] = genrechart['키워드'] + genrechart['감정']"
      ]
    },
    {
      "cell_type": "code",
      "execution_count": null,
      "metadata": {
        "id": "mxAdk-qnqW7Q"
      },
      "outputs": [],
      "source": [
        "##### 모델 로드 (텍스트 형식) #####\n",
        "fasttext = KeyedVectors.load_word2vec_format(\n",
        "    model_path,\n",
        "    binary=False,  # 텍스트 형식이므로 False\n",
        "    encoding='utf-8',  # UTF-8 인코딩으로 로드\n",
        "    unicode_errors='ignore'  # 디코딩 에러 무시\n",
        ")\n",
        "\n",
        "def get_cos_dst(v1, v2):\n",
        "    return 1 - (np.dot(v1, v2) / (np.linalg.norm(v1) * np.linalg.norm(v2)))\n",
        "\n",
        "##### 태그 통합 과정 #####\n",
        "word = play['tag'].to_list()\n",
        "#all tags - 기존 데이터의 태그 통합\n",
        "all_tags = list(itertools.chain.from_iterable(play['tag']))\n",
        "# 기존 태그 중복 삭제\n",
        "all_tags = list(set(all_tags))\n",
        "\n",
        "##### missing value 1차 형태소 분석 / 업데이트 #####\n",
        "\n",
        "def replace_missing_tags(tag_list):\n",
        "    new_tags = []\n",
        "    for tag in tag_list:\n",
        "        if tag in fasttext:\n",
        "            new_tags.append(tag)\n",
        "        else:\n",
        "            # 형태소 분석으로 분리\n",
        "            nouns = okt.nouns(tag)\n",
        "            new_tags.extend([noun for noun in nouns if noun in fasttext])\n",
        "    return new_tags\n",
        "\n",
        "##### tag 업데이트\n",
        "play['tag'] = play['tag'].apply(replace_missing_tags)\n",
        "\n",
        "##### missing_key 처리 #####\n",
        "target_words = all_tags.copy()\n",
        "all_words = all_tags.copy() # all_words = 원래 태그 + 비슷한 단어 100개씩\n",
        "missing_keys = []  # missing_keys = 키가 없는 단어\n",
        "\n",
        "for word in target_words:\n",
        "    if word in fasttext:\n",
        "        sim_words = [x[0] for x in fasttext.most_similar(word, topn=100)]\n",
        "        all_words += sim_words\n",
        "    else:\n",
        "        missing_keys.append(word)\n",
        "\n",
        "# all_words_org = all words의 사본\n",
        "all_words_org = all_words.copy()\n",
        "\n",
        "##### missing keys에 있는 단어들을 all_words와 taget_words에서 제거 #####\n",
        "\n",
        "all_words = [i for i in all_words if i not in missing_keys]\n",
        "target_words = [i for i in target_words if i not in missing_keys]\n",
        "\n",
        "# 중복 태그 삭제\n",
        "all_words = list(set(all_words))\n",
        "target_words = list(set(target_words))\n",
        "\n",
        "##### 단어 벡터화 : 각 단어 300차원 벡터화 #####\n",
        "word_vecs = np.array([fasttext.get_vector(w) for w in all_words])\n",
        "print(word_vecs.shape)\n"
      ]
    },
    {
      "cell_type": "code",
      "execution_count": null,
      "metadata": {
        "id": "WQL03r82qW7R"
      },
      "outputs": [],
      "source": [
        "# 1) 피클 저장\n",
        "vector_play = {'all_words': all_words, 'target_words': target_words,'word_vecs':word_vecs}\n",
        "with open('vec_play.pkl', 'wb') as f:\n",
        "    pickle.dump(vector_play, f)"
      ]
    },
    {
      "cell_type": "code",
      "execution_count": null,
      "metadata": {
        "id": "6r3nCYtRqW7R"
      },
      "outputs": [],
      "source": [
        "# 2) 피클 저장\n",
        "vector_genrechart = {'all_words': all_words, 'target_words': target_words,'word_vecs':word_vecs}\n",
        "with open('vec_genrechart.pkl', 'wb') as f:\n",
        "    pickle.dump(vector_genrechart, f)"
      ]
    },
    {
      "cell_type": "markdown",
      "metadata": {
        "id": "FtHrgjDTZyoM"
      },
      "source": [
        "### Chart, Genre - 취향 조건 필터링"
      ]
    },
    {
      "cell_type": "markdown",
      "metadata": {
        "id": "uGeEs5D4bGzU"
      },
      "source": [
        "Part 1 : 취향 입력 및 필터링\n",
        "\n",
        "---\n",
        "\n",
        "아래 이어지는 1차적인 필터링 이후 남은 곡들 중에서 태그 유사도를 계산할 것"
      ]
    },
    {
      "cell_type": "code",
      "execution_count": null,
      "metadata": {
        "id": "kqNiOYl9bHMs"
      },
      "outputs": [],
      "source": [
        "genrechart_df = song_data['genrechart']\n",
        "\n",
        "# 발매년도 범위에 맞는 데이터프레임을 반환하는 함수\n",
        "def get_release_year_range(user_input):\n",
        "    # 옛날 노래가 좋으세요? 질문에 대한 사용자 응답을 처리\n",
        "    if user_input == 'O':\n",
        "        return genrechart_df[genrechart_df['발매년도'] < 2010]  # 2010년 미만\n",
        "    elif user_input == 'X':\n",
        "        return genrechart_df[genrechart_df['발매년도'] >= 2010]  # 2010년 이상\n",
        "    else:\n",
        "        print(\"잘못된 입력입니다. 'O' 또는 'X'로 답변해주세요.\")\n",
        "        return None\n",
        "\n",
        "\n",
        "def filter_likes_by_genre_and_year(genre, ox_input, release_input):\n",
        "    # 장르 필터링\n",
        "    genre_df = genrechart_df[genrechart_df['장르'].str.contains(genre, case=False, na=False)]\n",
        "\n",
        "    # 발매년도 범위 조건에 맞는 데이터프레임 필터링\n",
        "    release_df = get_release_year_range(release_input)\n",
        "\n",
        "    if release_df is not None:\n",
        "        # 발매년도 조건을 만족하는 데이터만 필터링\n",
        "        genre_df = genre_df[genre_df['발매년도'].isin(release_df['발매년도'])]\n",
        "\n",
        "    # 장르 내에서 좋아요 수 상위 75% 이상과 미만 구분\n",
        "    if not genre_df.empty:\n",
        "        upper_75 = genre_df['좋아요 수'].quantile(0.75)  # 상위 75% 값 계산\n",
        "        lower_25 = genre_df['좋아요 수'].quantile(0.25)  # 하위 25% 값 계산\n",
        "\n",
        "        # OX 입력을 대소문자 구분 없이 처리\n",
        "        ox_input = ox_input.lower()  # ox_input을 소문자로 변환\n",
        "\n",
        "        if ox_input == 'o':\n",
        "            # 좋아요 수가 상위 75% 이상인 데이터만 필터링\n",
        "            genre_df = genre_df[genre_df['좋아요 수'] >= upper_75]\n",
        "        elif ox_input == 'x':\n",
        "            # 좋아요 수가 상위 75% 미만인 데이터만 필터링\n",
        "            genre_df = genre_df[genre_df['좋아요 수'] < upper_75]\n",
        "        else:\n",
        "            print(\"잘못된 OX 입력입니다. O 또는 X만 입력해주세요.\")\n",
        "            return None\n",
        "\n",
        "    # 필터링된 데이터프레임이 비어 있으면 None 반환\n",
        "    if genre_df.empty:\n",
        "        return None\n",
        "\n",
        "    return genre_df\n",
        "\n",
        "# 사용자 입력 받기\n",
        "user_input_genre = input(\"나의 취향 장르는? (예: 힙합, 발라드 등): \")\n",
        "ox_input = input(\"나는 홍대병이 있다? (O: 상위 75%, X: 하위 75% 이하): \")\n",
        "release_input = input(\"나는 옛날 노래가 좋다? (O, X): \")\n",
        "\n",
        "# 필터링된 데이터프레임 얻기\n",
        "filtered_df = filter_likes_by_genre_and_year(user_input_genre, ox_input, release_input)\n",
        "\n",
        "if filtered_df is not None and not filtered_df.empty:\n",
        "    print(filtered_df)\n",
        "else:\n",
        "    print(\"조건에 맞는 데이터가 없습니다.\")\n",
        "\n",
        "genre_list = [\"댄스\", \"힙합\", \"록\", \"발라드\", \"인디음악\", \"트로트\", \"포크\", \"R&B\", \"일렉트로니카\", \"POP\", \"컨트리\", \"재즈\"]\n",
        "\n",
        "\n",
        "vec_genrechart = pd.read_pickle('C:/KIM/KUBIG/vector_chartgenre.pkl')\n",
        "\n",
        "all_new_word_vecs_genrechart = []  # 모든 행에 대한 벡터들을 저장할 리스트\n",
        "\n",
        "for idx, row in filtered_df.iterrows():\n",
        "    # '키워드'와 '감정' 열에서 단어들을 가져옵니다.\n",
        "    keyword_list_genrechart = row['키워드']  # 키워드 리스트\n",
        "    emotion_list_genrechart = row['감정']    # 감정 리스트\n",
        "\n",
        "    # 두 리스트를 합쳐서 새로운 단어 리스트를 만듭니다.\n",
        "    all_words_for_row_genrechart = keyword_list_genrechart + emotion_list_genrechart  # 길이가 6인 단어 리스트\n",
        "\n",
        "    new_all_words_genrechart = all_words_for_row_genrechart.copy()  # 유사 단어들을 저장할 리스트\n",
        "    new_missing_keys_genrechart = []  # 유사 단어를 못 찾은 단어들\n",
        "\n",
        "    # 각 단어에 대해 유사 단어를 20개씩 찾기\n",
        "    for word in all_words_for_row_genrechart:\n",
        "        if word in fasttext:  # fasttext에 있는 단어만 처리\n",
        "            sim_words_genrechart = [x[0] for x in fasttext.most_similar(word, topn=20)]\n",
        "            new_all_words_genrechart += sim_words  # 유사 단어들 추가\n",
        "        else:\n",
        "            new_missing_keys_genrechart.append(word)  # 유사 단어를 못 찾은 단어들\n",
        "\n",
        "    # 유사 단어를 찾지 못한 단어를 제외한 새로운 단어 리스트를 생성\n",
        "    new_all_words_genrechart = [i for i in new_all_words_genrechart if i not in new_missing_keys_genrechart]\n",
        "\n",
        "    # vec_play에서 해당 단어들의 벡터를 찾아서 126x300 행렬 만들기\n",
        "    new_word_vecs_genrechart = []\n",
        "\n",
        "    for word in new_all_words_genrechart:\n",
        "        if word in vec_genrechart['all_words']:\n",
        "            word_idx_genrechart = vec_genrechart['all_words'].index(word)\n",
        "            new_word_vecs_genrechart.append(vec_genrechart['word_vecs'][word_idx_genrechart])\n",
        "        else:\n",
        "            # 유사 단어를 못 찾은 경우, 벡터화할 방법을 결정해야 함\n",
        "            print(f\"Word {word} not found in vec_play['all_words']\")\n",
        "\n",
        "    # new_word_vecs가 126개의 벡터를 담고 있어야 함\n",
        "    new_word_vecs_matrix_genrechart = np.array(new_word_vecs_genrechart)  # 126 x 300 행렬\n",
        "    all_new_word_vecs_genrechart.append(new_word_vecs_matrix_genrechart)  # 각 행에 대한 벡터를 저장\n",
        "\n",
        "# all_new_word_vecs는 이제 filtered_play의 각 행에 대한 126x300 행렬들이 저장됨\n",
        "# 이것을 새로운 열로 추가하거나 다른 작업을 진행할 수 있습니다.\n",
        "\n",
        "# 예시로 각 행에 대한 벡터를 새로운 열로 추가\n",
        "filtered_df['word_vecs'] = all_new_word_vecs_genrechart\n",
        "\n",
        "\n"
      ]
    },
    {
      "cell_type": "markdown",
      "metadata": {
        "id": "zqoVupwwlUR6"
      },
      "source": [
        "### Playlist, Chart, Genre - 필터링 후 곡 유사도 계산"
      ]
    },
    {
      "cell_type": "markdown",
      "metadata": {
        "id": "flMYLGvLqW7R"
      },
      "source": [
        "1. 유사 3~5개 플레이리스트 검색 후 플레이리스트 안 곡들 play 데이터에서 찾기\n",
        "2. genrechart 데이터에서 필터링된 곡들을 1번 곡들과 합치기 => 후보곡\n",
        "3. 후보곡들의 벡터 찾아서 데이터 프레임 만들기 (vec_play, vec_genrechart 사용)\n",
        "4. PCA / 유사도 계산 및 순서 출력"
      ]
    },
    {
      "cell_type": "code",
      "execution_count": null,
      "metadata": {
        "id": "b4PHml4NldFz"
      },
      "outputs": [],
      "source": [
        "##플리 곡들과 장르, 차트 곡들 합치기\n",
        "\n",
        "# 필요한 열만 추출 (장르, 제목, 가수, 가사)\n",
        "filtered_df_selected = filtered_df[['장르', '제목', '가수', '가사', 'word_vecs']]\n",
        "filtered_play_selected = filtered_play[['장르', '제목', '가수', '가사', 'word_vecs']]\n",
        "\n",
        "# 두 데이터프레임을 세로로 합치기 (행 단위)\n",
        "final_df = pd.concat([filtered_df_selected, filtered_play_selected], axis=0, ignore_index=True)\n",
        "\n",
        "#중복제거\n",
        "final_df = final_df.drop_duplicates(subset = ['제목', '가수'], keep='first')\n",
        "\n",
        "#입력태그 300차원 벡터화\n",
        "final_word_vec = np.array([fasttext.get_vector(w) for w in new_word_list])\n",
        "\n",
        "##### 실제 결과 출력\n",
        "def compute_euclidean_distance(vec1, vec2):\n",
        "    return np.linalg.norm(vec1 - vec2)\n",
        "\n",
        "# final_word_vec (3, 300)을 각 행에 맞게 벡터화하고, 각 행과 유클리드 거리 계산\n",
        "\n",
        "distances = []\n",
        "\n",
        "# final_df에서 각 행의 word_vec을 가져와서 final_word_vec과 비교\n",
        "for idx, row in final_df.iterrows():\n",
        "    word_vec = row['word_vecs']  # (300,) 형태\n",
        "    # final_word_vec을 (3, 300) -> (300,) 형태로 바꿔서 비교\n",
        "    for i in range(final_word_vec.shape[0]):  # final_word_vec.shape[0] = 3\n",
        "        distance = compute_euclidean_distance(word_vec, final_word_vec[i])\n",
        "        distances.append((idx, distance))\n",
        "\n",
        "# distances는 [(index, distance), ...] 형태로 결과가 저장됨\n",
        "# 유사도가 가장 높은 행 10개를 추출\n",
        "distances_sorted = sorted(distances, key=lambda x: x[1])  # 거리 기준으로 오름차순 정렬\n",
        "distances_sorted_df = pd.DataFrame(distances_sorted, columns=['index', 'distance'])\n",
        "distances_sorted_df = distances_sorted_df.drop_duplicates(subset=['index'])\n",
        "\n",
        "\n",
        "# 가장 가까운 10개의 행을 선택\n",
        "top_10_similar = distances_sorted_df.head(10)\n",
        "top_10_indices = top_10_similar['index']\n",
        "\n",
        "# top_10_indices를 이용하여 final_df에서 해당 행을 추출\n",
        "top_10_rows = final_df.iloc[top_10_indices]\n",
        "\n",
        "# 결과 확인\n",
        "print(top_10_rows)"
      ]
    }
  ],
  "metadata": {
    "colab": {
      "provenance": []
    },
    "kernelspec": {
      "display_name": "base",
      "language": "python",
      "name": "python3"
    },
    "language_info": {
      "codemirror_mode": {
        "name": "ipython",
        "version": 3
      },
      "file_extension": ".py",
      "mimetype": "text/x-python",
      "name": "python",
      "nbconvert_exporter": "python",
      "pygments_lexer": "ipython3",
      "version": "3.10.9"
    }
  },
  "nbformat": 4,
  "nbformat_minor": 0
}