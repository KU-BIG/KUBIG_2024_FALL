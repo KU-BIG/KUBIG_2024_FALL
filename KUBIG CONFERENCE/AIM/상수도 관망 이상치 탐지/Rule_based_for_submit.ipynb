{
 "cells": [
  {
   "cell_type": "code",
   "execution_count": 9,
   "metadata": {},
   "outputs": [],
   "source": [
    "import pandas as pd\n",
    "import numpy as np\n",
    "from glob import glob\n",
    "from tqdm.auto import tqdm"
   ]
  },
  {
   "cell_type": "code",
   "execution_count": 3,
   "metadata": {},
   "outputs": [],
   "source": [
    "df_subm = pd.read_csv('./sample_submission.csv')"
   ]
  },
  {
   "cell_type": "code",
   "execution_count": 6,
   "metadata": {},
   "outputs": [],
   "source": [
    "# 예측 대상 파일 목록 생성\n",
    "list_c = glob('./test/C/*.csv')\n",
    "list_d = glob('./test/D/*.csv')"
   ]
  },
  {
   "cell_type": "code",
   "execution_count": null,
   "metadata": {},
   "outputs": [],
   "source": [
    "# 조건 파라미터 설정\n",
    "nr = 3 # 이동 평균 간격\n",
    "\n",
    "nl11 = 3 # 시점 조건1의 세부 조건1의 지속 시간\n",
    "nl12 = 5 # 시점 조건1의 세부 조건2의 지속 시간\n",
    "nl2  = 2 # 시점 조건2의 지속 시간\n",
    "nl3  = 6 # 시점 조건3의 지속 시간\n",
    "\n",
    "th11 = 0.975 # 시점 조건1의 세부 조건1의 임계값\n",
    "th12 = 0.975 # 시점 조건1의 세부 조건2의 임계값\n",
    "th2  = 0.95  # 시점 조건2의 임계값\n",
    "th3  = 1.0   # 시점 조건3의 임계값\n",
    "\n",
    "nlp  = 60    # 지점 조건의 과거 이동 평균 계산 일수\n",
    "thp  = 0.975  # 지점 조건의 임계값\n",
    "\n",
    "sus_c = [] \n",
    "sus_d = [] "
   ]
  },
  {
   "cell_type": "code",
   "execution_count": 7,
   "metadata": {},
   "outputs": [],
   "source": [
    "# 조건 파라미터 설정\n",
    "win = 3 # 이동 평균 간격\n",
    "\n",
    "m_1 = 3 # 시점 조건1의 세부 조건1의 지속 시간\n",
    "m_2 = 5 # 시점 조건1의 세부 조건2의 지속 시간\n",
    "m_3  = 2 # 시점 조건2의 지속 시간\n",
    "m_4  = 6 # 시점 조건3의 지속 시간\n",
    "\n",
    "th_1 = 0.975 # 시점 조건1의 세부 조건1의 임계값\n",
    "th_2 = 0.975 # 시점 조건1의 세부 조건2의 임계값\n",
    "th_3  = 0.95  # 시점 조건2의 임계값\n",
    "th_4  = 1.0   # 시점 조건3의 임계값\n",
    "\n",
    "m_5  = 60    # 지점 조건의 과거 이동 평균 계산 일수\n",
    "th_5  = 0.975  # 지점 조건의 임계값\n",
    "\n",
    "sus_c = [] \n",
    "sus_d = [] "
   ]
  },
  {
   "cell_type": "code",
   "execution_count": 10,
   "metadata": {},
   "outputs": [
    {
     "data": {
      "application/vnd.jupyter.widget-view+json": {
       "model_id": "4376498e01b44ee495aa5ecb384782d1",
       "version_major": 2,
       "version_minor": 0
      },
      "text/plain": [
       "  0%|          | 0/2920 [00:00<?, ?it/s]"
      ]
     },
     "metadata": {},
     "output_type": "display_data"
    },
    {
     "name": "stdout",
     "output_type": "stream",
     "text": [
      "TEST_C_0023 [0, 0, 0, 0, 0, 0, 1, 0]\n",
      "TEST_C_0038 [0, 0, 0, 0, 0, 0, 1, 0]\n",
      "TEST_C_0082 [0, 0, 0, 0, 0, 0, 1, 0]\n",
      "TEST_C_0165 [0, 0, 0, 0, 0, 0, 1, 0]\n",
      "TEST_C_0179 [0, 0, 0, 0, 0, 0, 1, 0]\n",
      "TEST_C_0264 [0, 0, 0, 0, 0, 0, 1, 0]\n",
      "TEST_C_0509 [0, 0, 0, 0, 0, 0, 1, 0]\n",
      "TEST_C_0724 [0, 0, 0, 0, 0, 0, 1, 0]\n",
      "TEST_C_0774 [0, 0, 0, 0, 0, 0, 1, 0]\n",
      "TEST_C_0917 [0, 0, 0, 0, 0, 0, 1, 0]\n",
      "TEST_C_0934 [0, 0, 0, 0, 0, 0, 1, 0]\n",
      "TEST_C_1238 [0, 0, 0, 0, 0, 0, 1, 0]\n",
      "TEST_C_1356 [0, 0, 0, 0, 0, 0, 1, 0]\n",
      "TEST_C_1520 [0, 0, 0, 0, 0, 0, 1, 0]\n",
      "TEST_C_1542 [0, 0, 0, 0, 0, 0, 1, 0]\n",
      "TEST_C_1582 [0, 0, 0, 0, 0, 0, 1, 0]\n",
      "TEST_C_1601 [0, 0, 0, 0, 0, 0, 1, 0]\n",
      "TEST_C_1636 [0, 0, 0, 0, 1, 0, 0, 0]\n",
      "TEST_C_1654 [0, 0, 0, 0, 0, 0, 1, 0]\n",
      "TEST_C_1683 [0, 0, 0, 0, 0, 0, 1, 0]\n",
      "TEST_C_1763 [0, 0, 0, 0, 0, 0, 1, 0]\n",
      "TEST_C_1853 [0, 0, 0, 0, 0, 0, 1, 0]\n",
      "TEST_C_1889 [0, 0, 0, 0, 0, 0, 1, 0]\n",
      "TEST_C_1910 [0, 0, 0, 0, 0, 0, 1, 0]\n",
      "TEST_C_2152 [0, 0, 0, 0, 0, 0, 1, 0]\n",
      "TEST_C_2191 [0, 0, 0, 0, 0, 0, 1, 0]\n",
      "TEST_C_2279 [0, 0, 0, 0, 0, 0, 1, 0]\n",
      "TEST_C_2288 [0, 0, 0, 0, 0, 0, 1, 0]\n",
      "TEST_C_2805 [0, 0, 0, 0, 0, 0, 1, 0]\n",
      "TEST_C_2876 [0, 0, 0, 0, 0, 0, 1, 0]\n",
      "Network C: Total 30 anomaly points\n"
     ]
    }
   ],
   "source": [
    "# Network C\n",
    "for i in tqdm(range(len(list_c))):\n",
    "    df_c_ = pd.read_csv(list_c[i]).iloc[-100:]\n",
    "\n",
    "    # 파생 변수 생성\n",
    "    df_c_['_Qin']   = df_c_['Q1'].copy()\n",
    "    df_c_['_Qout']  = df_c_.filter(regex='Q[2-8]+$').sum(axis=1)\n",
    "    df_c_['_Qratio'] = df_c_['_Qout']/df_c_['_Qin']\n",
    "    df_c_['_Qratio2'] = df_c_['_Qout'].rolling(win).mean() / df_c_['_Qin'].rolling(win).mean()\n",
    "\n",
    "    # T+1 시점의 이상 여부 예측\n",
    "    cond_c1 = (df_c_['_Qratio2'].iloc[-m_1:] < th_1).all()\n",
    "    cond_c2 = (df_c_['_Qratio' ].iloc[-m_2:] < th_2).all()\n",
    "    cond_c3  = (df_c_['_Qratio' ].iloc[-m_3: ] < th_3 ).all()\n",
    "    cond_c4  =  df_c_['_Qratio' ].iloc[-m_4: ].max() < th_4\n",
    "    if ((cond_c1 and cond_c2) or cond_c3) and cond_c4:\n",
    "        sus_c.append(list_c[i])\n",
    "\n",
    "        # 이상 지점 탐지를 위한 압력계별 변화율 계산 및 예측\n",
    "        c_c1_sub = (df_c_['_Qratio2'] < th_1).rolling(m_1).sum() == m_1\n",
    "        c_c2_sub = (df_c_['_Qratio']  < th_2).rolling(m_2).sum() == m_2\n",
    "        c_c3_sub  = (df_c_['_Qratio']  < th_3 ).rolling(m_3 ).sum() == m_3\n",
    "\n",
    "        # 해당 데이터 내 이상 지점 시작 시점 확인 및 부분 압력계 데이터 생성\n",
    "        idx_start = df_c_[(c_c1_sub & c_c2_sub) | c_c3_sub].index.min()\n",
    "        df_c_P = df_c_.filter(regex='P[0-9]+$')\n",
    "\n",
    "        # 직전 30분 대비 이상 시점 평균 압력 변화율 계산\n",
    "        mean_p = df_c_P.loc[idx_start:].mean() / df_c_P.loc[(idx_start-m_5):(idx_start-1)].mean() \n",
    "\n",
    "        # 이상 지점 확인 및 예측값 생성\n",
    "        mean_p_rel = mean_p / mean_p.mean()\n",
    "        tf_p_rel   = mean_p_rel < th_5\n",
    "\n",
    "        if ~tf_p_rel.any():\n",
    "            tf_p_rel = (mean_p_rel == mean_p_rel.min())\n",
    "\n",
    "        val_pred = '[' + (tf_p_rel + 0).astype('string').str.cat(sep=', ') + ']'\n",
    "\n",
    "        # 예측값 입력\n",
    "        name_file = list_c[i][9:20]\n",
    "        df_subm.loc[df_subm['ID'] == name_file, 'flag_list'] = val_pred\n",
    "        print(name_file, val_pred)\n",
    "\n",
    "print(f'Network C: Total {len(sus_c)} anomaly points')"
   ]
  },
  {
   "cell_type": "code",
   "execution_count": null,
   "metadata": {},
   "outputs": [
    {
     "data": {
      "application/vnd.jupyter.widget-view+json": {
       "model_id": "e4ab62802c5d434790ee2273d8f5265b",
       "version_major": 2,
       "version_minor": 0
      },
      "text/plain": [
       "  0%|          | 0/2738 [00:00<?, ?it/s]"
      ]
     },
     "metadata": {},
     "output_type": "display_data"
    },
    {
     "name": "stdout",
     "output_type": "stream",
     "text": [
      "TEST_D_0024 [0, 0, 0, 0, 0, 1]\n",
      "TEST_D_0033 [0, 0, 0, 0, 0, 1]\n",
      "TEST_D_0060 [0, 0, 0, 0, 0, 1]\n",
      "TEST_D_0082 [0, 0, 0, 0, 0, 1]\n",
      "TEST_D_0092 [0, 0, 0, 0, 0, 1]\n",
      "TEST_D_0107 [0, 0, 0, 0, 0, 1]\n",
      "TEST_D_0210 [0, 0, 0, 0, 0, 1]\n",
      "TEST_D_0216 [0, 0, 0, 0, 0, 1]\n",
      "TEST_D_0229 [0, 0, 0, 0, 0, 1]\n",
      "TEST_D_0468 [0, 0, 0, 0, 0, 1]\n",
      "TEST_D_0760 [0, 0, 0, 0, 0, 1]\n",
      "TEST_D_0783 [0, 0, 0, 0, 0, 1]\n",
      "TEST_D_0870 [0, 0, 0, 0, 0, 1]\n",
      "TEST_D_1016 [0, 0, 0, 0, 0, 1]\n",
      "TEST_D_1029 [0, 0, 0, 0, 0, 1]\n",
      "TEST_D_1091 [0, 0, 0, 0, 0, 1]\n",
      "TEST_D_1119 [0, 0, 0, 0, 0, 1]\n",
      "TEST_D_1192 [0, 0, 0, 0, 0, 1]\n",
      "TEST_D_1198 [0, 0, 0, 0, 0, 1]\n"
     ]
    }
   ],
   "source": [
    "# Network D\n",
    "for i in tqdm(range(len(list_d))):\n",
    "    df_d_ = pd.read_csv(list_d[i]).iloc[-100:]\n",
    "\n",
    "    # 파생 변수 생성\n",
    "    df_d_['_Qin']   = df_d_['Q1'].copy()\n",
    "    df_d_['_Qout']  = df_d_.filter(regex='Q[2-5]+$').sum(axis=1)\n",
    "    df_d_['_Qratio'] = df_d_['_Qout']/df_d_['_Qin']\n",
    "    df_d_['_Qratio2'] = df_d_['_Qout'].rolling(win).mean() / df_d_['_Qin'].rolling(win).mean()\n",
    "\n",
    "    # T+1 시점의 이상 여부 예측\n",
    "    cond_d1 = (df_d_['_Qratio2'].iloc[-m_1:] < th_1).all()\n",
    "    cond_d2 = (df_d_['_Qratio' ].iloc[-m_2:] < th_2).all()\n",
    "    cond_d3  = (df_d_['_Qratio' ].iloc[-m_3: ] < th_3 ).all()\n",
    "    cond_d4  =  df_d_['_Qratio' ].iloc[-m_4: ].max() < th_4\n",
    "    if ((cond_d1 and cond_d2) or cond_d3) and cond_d4:\n",
    "        sus_d.append(list_d[i])\n",
    "\n",
    "        # 이상 지점 탐지를 위한 압력계별 변화율 계산 및 예측\n",
    "        c_d1_sub = (df_d_['_Qratio2'] < th_1).rolling(m_1).sum() == m_1\n",
    "        c_d2_sub = (df_d_['_Qratio']  < th_2).rolling(m_2).sum() == m_2\n",
    "        c_d3_sub  = (df_d_['_Qratio']  < th_3 ).rolling(m_3 ).sum() == m_3\n",
    "\n",
    "        # 해당 데이터 내 이상 지점 시작 시점 확인 및 부분 압력계 데이터 생성\n",
    "        idx_start = df_d_[(c_d1_sub & c_d2_sub) | c_d3_sub].index.min()\n",
    "        df_d_P = df_d_.filter(regex='P[0-9]+$')\n",
    "\n",
    "        # 직전 30분 대비 이상 시점 평균 압력 변화율 계산\n",
    "        mean_p = df_d_P.loc[idx_start:].mean() / df_d_P.loc[(idx_start-m_5):(idx_start-1)].mean() \n",
    "\n",
    "        # 이상 지점 확인 및 예측값 생성\n",
    "        mean_p_rel = mean_p / mean_p.mean()\n",
    "        tf_p_rel   = mean_p_rel < th_5\n",
    "\n",
    "        if ~tf_p_rel.any():\n",
    "            tf_p_rel = (mean_p_rel == mean_p_rel.min())\n",
    "\n",
    "        val_pred = '[' + (tf_p_rel + 0).astype('string').str.cat(sep=', ') + ']'\n",
    "\n",
    "        # 예측값 입력\n",
    "        name_file = list_d[i][9:20]\n",
    "        df_subm.loc[df_subm['ID'] == name_file, 'flag_list'] = val_pred\n",
    "        print(name_file, val_pred)\n",
    "\n",
    "print(f'Network D: Total {len(sus_d)} anomaly points')\n"
   ]
  },
  {
   "cell_type": "code",
   "execution_count": null,
   "metadata": {},
   "outputs": [],
   "source": [
    "df_subm['flag_list'].value_counts()"
   ]
  },
  {
   "cell_type": "code",
   "execution_count": null,
   "metadata": {},
   "outputs": [],
   "source": [
    "df_subm.to_csv('./AIM_test.csv', index=False)"
   ]
  }
 ],
 "metadata": {
  "kernelspec": {
   "display_name": "Python 3",
   "language": "python",
   "name": "python3"
  },
  "language_info": {
   "codemirror_mode": {
    "name": "ipython",
    "version": 3
   },
   "file_extension": ".py",
   "mimetype": "text/x-python",
   "name": "python",
   "nbconvert_exporter": "python",
   "pygments_lexer": "ipython3",
   "version": "3.11.4"
  }
 },
 "nbformat": 4,
 "nbformat_minor": 2
}
