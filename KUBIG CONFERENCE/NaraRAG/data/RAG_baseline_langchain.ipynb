{
  "cells": [
    {
      "cell_type": "code",
      "execution_count": 1,
      "metadata": {
        "colab": {
          "base_uri": "https://localhost:8080/"
        },
        "collapsed": true,
        "id": "uk_s6j6yTw_h",
        "outputId": "c741c876-2177-4558-c66a-bf1984b788c1"
      },
      "outputs": [
        {
          "output_type": "stream",
          "name": "stdout",
          "text": [
            "Collecting langchain-community\n",
            "  Downloading langchain_community-0.3.7-py3-none-any.whl.metadata (2.9 kB)\n",
            "Requirement already satisfied: PyYAML>=5.3 in /usr/local/lib/python3.10/dist-packages (from langchain-community) (6.0.2)\n",
            "Collecting SQLAlchemy<2.0.36,>=1.4 (from langchain-community)\n",
            "  Downloading SQLAlchemy-2.0.35-cp310-cp310-manylinux_2_17_x86_64.manylinux2014_x86_64.whl.metadata (9.6 kB)\n",
            "Requirement already satisfied: aiohttp<4.0.0,>=3.8.3 in /usr/local/lib/python3.10/dist-packages (from langchain-community) (3.11.2)\n",
            "Collecting dataclasses-json<0.7,>=0.5.7 (from langchain-community)\n",
            "  Downloading dataclasses_json-0.6.7-py3-none-any.whl.metadata (25 kB)\n",
            "Collecting httpx-sse<0.5.0,>=0.4.0 (from langchain-community)\n",
            "  Downloading httpx_sse-0.4.0-py3-none-any.whl.metadata (9.0 kB)\n",
            "Requirement already satisfied: langchain<0.4.0,>=0.3.7 in /usr/local/lib/python3.10/dist-packages (from langchain-community) (0.3.7)\n",
            "Requirement already satisfied: langchain-core<0.4.0,>=0.3.17 in /usr/local/lib/python3.10/dist-packages (from langchain-community) (0.3.19)\n",
            "Requirement already satisfied: langsmith<0.2.0,>=0.1.125 in /usr/local/lib/python3.10/dist-packages (from langchain-community) (0.1.143)\n",
            "Requirement already satisfied: numpy<2,>=1 in /usr/local/lib/python3.10/dist-packages (from langchain-community) (1.26.4)\n",
            "Collecting pydantic-settings<3.0.0,>=2.4.0 (from langchain-community)\n",
            "  Downloading pydantic_settings-2.6.1-py3-none-any.whl.metadata (3.5 kB)\n",
            "Requirement already satisfied: requests<3,>=2 in /usr/local/lib/python3.10/dist-packages (from langchain-community) (2.32.3)\n",
            "Requirement already satisfied: tenacity!=8.4.0,<10,>=8.1.0 in /usr/local/lib/python3.10/dist-packages (from langchain-community) (9.0.0)\n",
            "Requirement already satisfied: aiohappyeyeballs>=2.3.0 in /usr/local/lib/python3.10/dist-packages (from aiohttp<4.0.0,>=3.8.3->langchain-community) (2.4.3)\n",
            "Requirement already satisfied: aiosignal>=1.1.2 in /usr/local/lib/python3.10/dist-packages (from aiohttp<4.0.0,>=3.8.3->langchain-community) (1.3.1)\n",
            "Requirement already satisfied: attrs>=17.3.0 in /usr/local/lib/python3.10/dist-packages (from aiohttp<4.0.0,>=3.8.3->langchain-community) (24.2.0)\n",
            "Requirement already satisfied: frozenlist>=1.1.1 in /usr/local/lib/python3.10/dist-packages (from aiohttp<4.0.0,>=3.8.3->langchain-community) (1.5.0)\n",
            "Requirement already satisfied: multidict<7.0,>=4.5 in /usr/local/lib/python3.10/dist-packages (from aiohttp<4.0.0,>=3.8.3->langchain-community) (6.1.0)\n",
            "Requirement already satisfied: propcache>=0.2.0 in /usr/local/lib/python3.10/dist-packages (from aiohttp<4.0.0,>=3.8.3->langchain-community) (0.2.0)\n",
            "Requirement already satisfied: yarl<2.0,>=1.17.0 in /usr/local/lib/python3.10/dist-packages (from aiohttp<4.0.0,>=3.8.3->langchain-community) (1.17.2)\n",
            "Requirement already satisfied: async-timeout<6.0,>=4.0 in /usr/local/lib/python3.10/dist-packages (from aiohttp<4.0.0,>=3.8.3->langchain-community) (4.0.3)\n",
            "Collecting marshmallow<4.0.0,>=3.18.0 (from dataclasses-json<0.7,>=0.5.7->langchain-community)\n",
            "  Downloading marshmallow-3.23.1-py3-none-any.whl.metadata (7.5 kB)\n",
            "Collecting typing-inspect<1,>=0.4.0 (from dataclasses-json<0.7,>=0.5.7->langchain-community)\n",
            "  Downloading typing_inspect-0.9.0-py3-none-any.whl.metadata (1.5 kB)\n",
            "Requirement already satisfied: langchain-text-splitters<0.4.0,>=0.3.0 in /usr/local/lib/python3.10/dist-packages (from langchain<0.4.0,>=0.3.7->langchain-community) (0.3.2)\n",
            "Requirement already satisfied: pydantic<3.0.0,>=2.7.4 in /usr/local/lib/python3.10/dist-packages (from langchain<0.4.0,>=0.3.7->langchain-community) (2.9.2)\n",
            "Requirement already satisfied: jsonpatch<2.0,>=1.33 in /usr/local/lib/python3.10/dist-packages (from langchain-core<0.4.0,>=0.3.17->langchain-community) (1.33)\n",
            "Requirement already satisfied: packaging<25,>=23.2 in /usr/local/lib/python3.10/dist-packages (from langchain-core<0.4.0,>=0.3.17->langchain-community) (24.2)\n",
            "Requirement already satisfied: typing-extensions>=4.7 in /usr/local/lib/python3.10/dist-packages (from langchain-core<0.4.0,>=0.3.17->langchain-community) (4.12.2)\n",
            "Requirement already satisfied: httpx<1,>=0.23.0 in /usr/local/lib/python3.10/dist-packages (from langsmith<0.2.0,>=0.1.125->langchain-community) (0.27.2)\n",
            "Requirement already satisfied: orjson<4.0.0,>=3.9.14 in /usr/local/lib/python3.10/dist-packages (from langsmith<0.2.0,>=0.1.125->langchain-community) (3.10.11)\n",
            "Requirement already satisfied: requests-toolbelt<2.0.0,>=1.0.0 in /usr/local/lib/python3.10/dist-packages (from langsmith<0.2.0,>=0.1.125->langchain-community) (1.0.0)\n",
            "Collecting python-dotenv>=0.21.0 (from pydantic-settings<3.0.0,>=2.4.0->langchain-community)\n",
            "  Downloading python_dotenv-1.0.1-py3-none-any.whl.metadata (23 kB)\n",
            "Requirement already satisfied: charset-normalizer<4,>=2 in /usr/local/lib/python3.10/dist-packages (from requests<3,>=2->langchain-community) (3.4.0)\n",
            "Requirement already satisfied: idna<4,>=2.5 in /usr/local/lib/python3.10/dist-packages (from requests<3,>=2->langchain-community) (3.10)\n",
            "Requirement already satisfied: urllib3<3,>=1.21.1 in /usr/local/lib/python3.10/dist-packages (from requests<3,>=2->langchain-community) (2.2.3)\n",
            "Requirement already satisfied: certifi>=2017.4.17 in /usr/local/lib/python3.10/dist-packages (from requests<3,>=2->langchain-community) (2024.8.30)\n",
            "Requirement already satisfied: greenlet!=0.4.17 in /usr/local/lib/python3.10/dist-packages (from SQLAlchemy<2.0.36,>=1.4->langchain-community) (3.1.1)\n",
            "Requirement already satisfied: anyio in /usr/local/lib/python3.10/dist-packages (from httpx<1,>=0.23.0->langsmith<0.2.0,>=0.1.125->langchain-community) (3.7.1)\n",
            "Requirement already satisfied: httpcore==1.* in /usr/local/lib/python3.10/dist-packages (from httpx<1,>=0.23.0->langsmith<0.2.0,>=0.1.125->langchain-community) (1.0.7)\n",
            "Requirement already satisfied: sniffio in /usr/local/lib/python3.10/dist-packages (from httpx<1,>=0.23.0->langsmith<0.2.0,>=0.1.125->langchain-community) (1.3.1)\n",
            "Requirement already satisfied: h11<0.15,>=0.13 in /usr/local/lib/python3.10/dist-packages (from httpcore==1.*->httpx<1,>=0.23.0->langsmith<0.2.0,>=0.1.125->langchain-community) (0.14.0)\n",
            "Requirement already satisfied: jsonpointer>=1.9 in /usr/local/lib/python3.10/dist-packages (from jsonpatch<2.0,>=1.33->langchain-core<0.4.0,>=0.3.17->langchain-community) (3.0.0)\n",
            "Requirement already satisfied: annotated-types>=0.6.0 in /usr/local/lib/python3.10/dist-packages (from pydantic<3.0.0,>=2.7.4->langchain<0.4.0,>=0.3.7->langchain-community) (0.7.0)\n",
            "Requirement already satisfied: pydantic-core==2.23.4 in /usr/local/lib/python3.10/dist-packages (from pydantic<3.0.0,>=2.7.4->langchain<0.4.0,>=0.3.7->langchain-community) (2.23.4)\n",
            "Collecting mypy-extensions>=0.3.0 (from typing-inspect<1,>=0.4.0->dataclasses-json<0.7,>=0.5.7->langchain-community)\n",
            "  Downloading mypy_extensions-1.0.0-py3-none-any.whl.metadata (1.1 kB)\n",
            "Requirement already satisfied: exceptiongroup in /usr/local/lib/python3.10/dist-packages (from anyio->httpx<1,>=0.23.0->langsmith<0.2.0,>=0.1.125->langchain-community) (1.2.2)\n",
            "Downloading langchain_community-0.3.7-py3-none-any.whl (2.4 MB)\n",
            "\u001b[2K   \u001b[90m━━━━━━━━━━━━━━━━━━━━━━━━━━━━━━━━━━━━━━━━\u001b[0m \u001b[32m2.4/2.4 MB\u001b[0m \u001b[31m27.4 MB/s\u001b[0m eta \u001b[36m0:00:00\u001b[0m\n",
            "\u001b[?25hDownloading dataclasses_json-0.6.7-py3-none-any.whl (28 kB)\n",
            "Downloading httpx_sse-0.4.0-py3-none-any.whl (7.8 kB)\n",
            "Downloading pydantic_settings-2.6.1-py3-none-any.whl (28 kB)\n",
            "Downloading SQLAlchemy-2.0.35-cp310-cp310-manylinux_2_17_x86_64.manylinux2014_x86_64.whl (3.1 MB)\n",
            "\u001b[2K   \u001b[90m━━━━━━━━━━━━━━━━━━━━━━━━━━━━━━━━━━━━━━━━\u001b[0m \u001b[32m3.1/3.1 MB\u001b[0m \u001b[31m26.6 MB/s\u001b[0m eta \u001b[36m0:00:00\u001b[0m\n",
            "\u001b[?25hDownloading marshmallow-3.23.1-py3-none-any.whl (49 kB)\n",
            "\u001b[2K   \u001b[90m━━━━━━━━━━━━━━━━━━━━━━━━━━━━━━━━━━━━━━━━\u001b[0m \u001b[32m49.5/49.5 kB\u001b[0m \u001b[31m1.5 MB/s\u001b[0m eta \u001b[36m0:00:00\u001b[0m\n",
            "\u001b[?25hDownloading python_dotenv-1.0.1-py3-none-any.whl (19 kB)\n",
            "Downloading typing_inspect-0.9.0-py3-none-any.whl (8.8 kB)\n",
            "Downloading mypy_extensions-1.0.0-py3-none-any.whl (4.7 kB)\n",
            "Installing collected packages: SQLAlchemy, python-dotenv, mypy-extensions, marshmallow, httpx-sse, typing-inspect, pydantic-settings, dataclasses-json, langchain-community\n",
            "  Attempting uninstall: SQLAlchemy\n",
            "    Found existing installation: SQLAlchemy 2.0.36\n",
            "    Uninstalling SQLAlchemy-2.0.36:\n",
            "      Successfully uninstalled SQLAlchemy-2.0.36\n",
            "Successfully installed SQLAlchemy-2.0.35 dataclasses-json-0.6.7 httpx-sse-0.4.0 langchain-community-0.3.7 marshmallow-3.23.1 mypy-extensions-1.0.0 pydantic-settings-2.6.1 python-dotenv-1.0.1 typing-inspect-0.9.0\n"
          ]
        }
      ],
      "source": [
        "pip install langchain-community"
      ]
    },
    {
      "cell_type": "code",
      "execution_count": 2,
      "metadata": {
        "colab": {
          "base_uri": "https://localhost:8080/"
        },
        "collapsed": true,
        "id": "2NFd0p-PTzcg",
        "outputId": "8526e6b7-4062-4a5e-bb9c-6d1f731f53aa"
      },
      "outputs": [
        {
          "output_type": "stream",
          "name": "stdout",
          "text": [
            "Requirement already satisfied: langchain in /usr/local/lib/python3.10/dist-packages (0.3.7)\n",
            "Requirement already satisfied: PyYAML>=5.3 in /usr/local/lib/python3.10/dist-packages (from langchain) (6.0.2)\n",
            "Requirement already satisfied: SQLAlchemy<3,>=1.4 in /usr/local/lib/python3.10/dist-packages (from langchain) (2.0.35)\n",
            "Requirement already satisfied: aiohttp<4.0.0,>=3.8.3 in /usr/local/lib/python3.10/dist-packages (from langchain) (3.11.2)\n",
            "Requirement already satisfied: async-timeout<5.0.0,>=4.0.0 in /usr/local/lib/python3.10/dist-packages (from langchain) (4.0.3)\n",
            "Requirement already satisfied: langchain-core<0.4.0,>=0.3.15 in /usr/local/lib/python3.10/dist-packages (from langchain) (0.3.19)\n",
            "Requirement already satisfied: langchain-text-splitters<0.4.0,>=0.3.0 in /usr/local/lib/python3.10/dist-packages (from langchain) (0.3.2)\n",
            "Requirement already satisfied: langsmith<0.2.0,>=0.1.17 in /usr/local/lib/python3.10/dist-packages (from langchain) (0.1.143)\n",
            "Requirement already satisfied: numpy<2,>=1 in /usr/local/lib/python3.10/dist-packages (from langchain) (1.26.4)\n",
            "Requirement already satisfied: pydantic<3.0.0,>=2.7.4 in /usr/local/lib/python3.10/dist-packages (from langchain) (2.9.2)\n",
            "Requirement already satisfied: requests<3,>=2 in /usr/local/lib/python3.10/dist-packages (from langchain) (2.32.3)\n",
            "Requirement already satisfied: tenacity!=8.4.0,<10,>=8.1.0 in /usr/local/lib/python3.10/dist-packages (from langchain) (9.0.0)\n",
            "Requirement already satisfied: aiohappyeyeballs>=2.3.0 in /usr/local/lib/python3.10/dist-packages (from aiohttp<4.0.0,>=3.8.3->langchain) (2.4.3)\n",
            "Requirement already satisfied: aiosignal>=1.1.2 in /usr/local/lib/python3.10/dist-packages (from aiohttp<4.0.0,>=3.8.3->langchain) (1.3.1)\n",
            "Requirement already satisfied: attrs>=17.3.0 in /usr/local/lib/python3.10/dist-packages (from aiohttp<4.0.0,>=3.8.3->langchain) (24.2.0)\n",
            "Requirement already satisfied: frozenlist>=1.1.1 in /usr/local/lib/python3.10/dist-packages (from aiohttp<4.0.0,>=3.8.3->langchain) (1.5.0)\n",
            "Requirement already satisfied: multidict<7.0,>=4.5 in /usr/local/lib/python3.10/dist-packages (from aiohttp<4.0.0,>=3.8.3->langchain) (6.1.0)\n",
            "Requirement already satisfied: propcache>=0.2.0 in /usr/local/lib/python3.10/dist-packages (from aiohttp<4.0.0,>=3.8.3->langchain) (0.2.0)\n",
            "Requirement already satisfied: yarl<2.0,>=1.17.0 in /usr/local/lib/python3.10/dist-packages (from aiohttp<4.0.0,>=3.8.3->langchain) (1.17.2)\n",
            "Requirement already satisfied: jsonpatch<2.0,>=1.33 in /usr/local/lib/python3.10/dist-packages (from langchain-core<0.4.0,>=0.3.15->langchain) (1.33)\n",
            "Requirement already satisfied: packaging<25,>=23.2 in /usr/local/lib/python3.10/dist-packages (from langchain-core<0.4.0,>=0.3.15->langchain) (24.2)\n",
            "Requirement already satisfied: typing-extensions>=4.7 in /usr/local/lib/python3.10/dist-packages (from langchain-core<0.4.0,>=0.3.15->langchain) (4.12.2)\n",
            "Requirement already satisfied: httpx<1,>=0.23.0 in /usr/local/lib/python3.10/dist-packages (from langsmith<0.2.0,>=0.1.17->langchain) (0.27.2)\n",
            "Requirement already satisfied: orjson<4.0.0,>=3.9.14 in /usr/local/lib/python3.10/dist-packages (from langsmith<0.2.0,>=0.1.17->langchain) (3.10.11)\n",
            "Requirement already satisfied: requests-toolbelt<2.0.0,>=1.0.0 in /usr/local/lib/python3.10/dist-packages (from langsmith<0.2.0,>=0.1.17->langchain) (1.0.0)\n",
            "Requirement already satisfied: annotated-types>=0.6.0 in /usr/local/lib/python3.10/dist-packages (from pydantic<3.0.0,>=2.7.4->langchain) (0.7.0)\n",
            "Requirement already satisfied: pydantic-core==2.23.4 in /usr/local/lib/python3.10/dist-packages (from pydantic<3.0.0,>=2.7.4->langchain) (2.23.4)\n",
            "Requirement already satisfied: charset-normalizer<4,>=2 in /usr/local/lib/python3.10/dist-packages (from requests<3,>=2->langchain) (3.4.0)\n",
            "Requirement already satisfied: idna<4,>=2.5 in /usr/local/lib/python3.10/dist-packages (from requests<3,>=2->langchain) (3.10)\n",
            "Requirement already satisfied: urllib3<3,>=1.21.1 in /usr/local/lib/python3.10/dist-packages (from requests<3,>=2->langchain) (2.2.3)\n",
            "Requirement already satisfied: certifi>=2017.4.17 in /usr/local/lib/python3.10/dist-packages (from requests<3,>=2->langchain) (2024.8.30)\n",
            "Requirement already satisfied: greenlet!=0.4.17 in /usr/local/lib/python3.10/dist-packages (from SQLAlchemy<3,>=1.4->langchain) (3.1.1)\n",
            "Requirement already satisfied: anyio in /usr/local/lib/python3.10/dist-packages (from httpx<1,>=0.23.0->langsmith<0.2.0,>=0.1.17->langchain) (3.7.1)\n",
            "Requirement already satisfied: httpcore==1.* in /usr/local/lib/python3.10/dist-packages (from httpx<1,>=0.23.0->langsmith<0.2.0,>=0.1.17->langchain) (1.0.7)\n",
            "Requirement already satisfied: sniffio in /usr/local/lib/python3.10/dist-packages (from httpx<1,>=0.23.0->langsmith<0.2.0,>=0.1.17->langchain) (1.3.1)\n",
            "Requirement already satisfied: h11<0.15,>=0.13 in /usr/local/lib/python3.10/dist-packages (from httpcore==1.*->httpx<1,>=0.23.0->langsmith<0.2.0,>=0.1.17->langchain) (0.14.0)\n",
            "Requirement already satisfied: jsonpointer>=1.9 in /usr/local/lib/python3.10/dist-packages (from jsonpatch<2.0,>=1.33->langchain-core<0.4.0,>=0.3.15->langchain) (3.0.0)\n",
            "Requirement already satisfied: exceptiongroup in /usr/local/lib/python3.10/dist-packages (from anyio->httpx<1,>=0.23.0->langsmith<0.2.0,>=0.1.17->langchain) (1.2.2)\n"
          ]
        }
      ],
      "source": [
        "pip install --upgrade langchain"
      ]
    },
    {
      "cell_type": "code",
      "execution_count": 3,
      "metadata": {
        "id": "O3OsHvJgTBfe"
      },
      "outputs": [],
      "source": [
        "from langchain_community.document_loaders.csv_loader import CSVLoader"
      ]
    },
    {
      "cell_type": "code",
      "execution_count": 4,
      "metadata": {
        "colab": {
          "base_uri": "https://localhost:8080/"
        },
        "id": "c-EnJXNQUMuG",
        "outputId": "5b83e60a-5a08-490c-ffb7-e13cfb4aae28"
      },
      "outputs": [
        {
          "output_type": "stream",
          "name": "stdout",
          "text": [
            "Mounted at /content/drive\n"
          ]
        }
      ],
      "source": [
        "from google.colab import drive\n",
        "drive.mount('/content/drive')"
      ]
    },
    {
      "cell_type": "code",
      "source": [
        "import pandas as pd\n",
        "\n",
        "df = pd.read_csv('/content/drive/MyDrive/new_dataset_for_rag_4.csv', index_col=0)"
      ],
      "metadata": {
        "id": "BRWVzC4PrDUH"
      },
      "execution_count": 5,
      "outputs": []
    },
    {
      "cell_type": "code",
      "source": [
        "df.info()"
      ],
      "metadata": {
        "colab": {
          "base_uri": "https://localhost:8080/"
        },
        "id": "KSGQAjuWrPyo",
        "outputId": "bcba9116-9591-461c-86f5-50f3886e25bb"
      },
      "execution_count": 6,
      "outputs": [
        {
          "output_type": "stream",
          "name": "stdout",
          "text": [
            "<class 'pandas.core.frame.DataFrame'>\n",
            "Index: 35231 entries, 0 to 35232\n",
            "Data columns (total 13 columns):\n",
            " #   Column    Non-Null Count  Dtype \n",
            "---  ------    --------------  ----- \n",
            " 0   회의날짜      35231 non-null  object\n",
            " 1   국회_대      35231 non-null  int64 \n",
            " 2   회의명       35231 non-null  object\n",
            " 3   회수        35231 non-null  object\n",
            " 4   차수        35231 non-null  object\n",
            " 5   안건        35231 non-null  object\n",
            " 6   질문자_이름    35231 non-null  object\n",
            " 7   답변자_이름    35231 non-null  object\n",
            " 8   질문        35231 non-null  object\n",
            " 9   문맥        35231 non-null  object\n",
            " 10  질문_키워드    34723 non-null  object\n",
            " 11  답변_키워드    32721 non-null  object\n",
            " 12  original  35231 non-null  object\n",
            "dtypes: int64(1), object(12)\n",
            "memory usage: 3.8+ MB\n"
          ]
        }
      ]
    },
    {
      "cell_type": "code",
      "source": [
        "df[0:5]"
      ],
      "metadata": {
        "colab": {
          "base_uri": "https://localhost:8080/",
          "height": 917
        },
        "id": "YwPJsYb-_dLN",
        "outputId": "d876162d-4c13-4c2d-b577-2932be29df20"
      },
      "execution_count": 7,
      "outputs": [
        {
          "output_type": "execute_result",
          "data": {
            "text/plain": [
              "            회의날짜  국회_대    회의명     회수   차수                      안건 질문자_이름  \\\n",
              "0  2016년9월23일(금)    20  국회본회의  제346회  제8차      1. 교육․사회․문화에 관한 질문    전재수   \n",
              "1  2018년2월07일(수)    20  국회본회의  제356회  제7차  2. 교육․사회․문화에 관한 질문(계속)    유은혜   \n",
              "2  2020년3월04일(수)    20  국회본회의  제376회  제7차      1. 교육․사회․문화에 관한 질문   홍문표    \n",
              "3  2019년9월27일(금)    20  국회본회의  제371회  제3차      1. 외교․통일․안보에 관한 질문    민홍철   \n",
              "4  2019년3월20일(수)    20  국회본회의  제367회  제6차      1. 외교․통일․안보에 관한 질문    윤상현   \n",
              "\n",
              "  답변자_이름                                                 질문  \\\n",
              "0    조윤선  미르재단 설립 허가 신청서는 어디서 접수되었으며, 그 처리과정에 대해 어떠한 절차가...   \n",
              "1    김상곤  추가 조사에서 교수의 직계가족을 대상으로 한정한 것에 따른 부정행위의 미비한 조사 ...   \n",
              "2    조명래  홍성군에서 발생하는 폐기물 처리장 건설 및 지역 주민 반대에 대한 대응은 어떻게 할...   \n",
              "3    정경두  왜 함박도와 관련된 지역에 대해 40년 동안 현장조사나 초소 설치와 같은 행위가 이...   \n",
              "4    정경두  핵무기 확산 가능성에 대비하여 어떠한 대응책과 국제사회와의 협조 방안을 고려하고 있나요?   \n",
              "\n",
              "                                                  문맥  \\\n",
              "0  미르재단 설립 허가 신청서의 접수와 처리과정은 문화체육관광부의 대중문화산업과에서 담...   \n",
              "1  추가 조사에서 직계자녀를 우선 대상으로 삼았지만, 부총리를 단장으로 하는 대입공정성...   \n",
              "2  지역 주민들의 반대에도 불구하고 홍성군 갈산면 오두리에 폐기물 처리장 건설 계획이 ...   \n",
              "3  함박도와 관련한 40년간의 현장조사 또는 초소 설치 등의 행위가 이루어지지 않은 이...   \n",
              "4  현대의 글로벌 안보 상황에서 핵무기의 확산은 심각한 위협으로 다가올 수 있습니다. ...   \n",
              "\n",
              "                                          질문_키워드  \\\n",
              "0  미르재단,  설립,  허가,  대중문화산업과,  직원,  세종시,  청사,  근무   \n",
              "1      추가,  조사,  대상,  직계가족,  친인척,  자녀,  공저자,  제외   \n",
              "2                                      폐기물,  처리장   \n",
              "3                                     함박도,  현장조사   \n",
              "4                 핵무기,  확산,  가능성,  지구적,  재앙,  담보   \n",
              "\n",
              "                                              답변_키워드  \\\n",
              "0                       서울,  이메일,  접수,  서류,  직원,  출장   \n",
              "1                     직계자녀,  대입공정성강화추진점검단,  점검단,  조사   \n",
              "2                                    폐기물,  처리,  지역주민   \n",
              "3  관할권,  문제,  확인,  행정조치,  국방부,  잘못,  현장조사,  검증팀, ...   \n",
              "4                       핵,  확산,  단호,  허용,  국제사회,  공조   \n",
              "\n",
              "                                            original  \n",
              "0  http://likms.assembly.go.kr/record/mhs-10-040-...  \n",
              "1  http://likms.assembly.go.kr/record/mhs-10-040-...  \n",
              "2  http://likms.assembly.go.kr/record/mhs-10-040-...  \n",
              "3  http://likms.assembly.go.kr/record/mhs-10-040-...  \n",
              "4  http://likms.assembly.go.kr/record/mhs-10-040-...  "
            ],
            "text/html": [
              "\n",
              "  <div id=\"df-2524307e-4e33-4719-9242-852c1f92a039\" class=\"colab-df-container\">\n",
              "    <div>\n",
              "<style scoped>\n",
              "    .dataframe tbody tr th:only-of-type {\n",
              "        vertical-align: middle;\n",
              "    }\n",
              "\n",
              "    .dataframe tbody tr th {\n",
              "        vertical-align: top;\n",
              "    }\n",
              "\n",
              "    .dataframe thead th {\n",
              "        text-align: right;\n",
              "    }\n",
              "</style>\n",
              "<table border=\"1\" class=\"dataframe\">\n",
              "  <thead>\n",
              "    <tr style=\"text-align: right;\">\n",
              "      <th></th>\n",
              "      <th>회의날짜</th>\n",
              "      <th>국회_대</th>\n",
              "      <th>회의명</th>\n",
              "      <th>회수</th>\n",
              "      <th>차수</th>\n",
              "      <th>안건</th>\n",
              "      <th>질문자_이름</th>\n",
              "      <th>답변자_이름</th>\n",
              "      <th>질문</th>\n",
              "      <th>문맥</th>\n",
              "      <th>질문_키워드</th>\n",
              "      <th>답변_키워드</th>\n",
              "      <th>original</th>\n",
              "    </tr>\n",
              "  </thead>\n",
              "  <tbody>\n",
              "    <tr>\n",
              "      <th>0</th>\n",
              "      <td>2016년9월23일(금)</td>\n",
              "      <td>20</td>\n",
              "      <td>국회본회의</td>\n",
              "      <td>제346회</td>\n",
              "      <td>제8차</td>\n",
              "      <td>1. 교육․사회․문화에 관한 질문</td>\n",
              "      <td>전재수</td>\n",
              "      <td>조윤선</td>\n",
              "      <td>미르재단 설립 허가 신청서는 어디서 접수되었으며, 그 처리과정에 대해 어떠한 절차가...</td>\n",
              "      <td>미르재단 설립 허가 신청서의 접수와 처리과정은 문화체육관광부의 대중문화산업과에서 담...</td>\n",
              "      <td>미르재단,  설립,  허가,  대중문화산업과,  직원,  세종시,  청사,  근무</td>\n",
              "      <td>서울,  이메일,  접수,  서류,  직원,  출장</td>\n",
              "      <td>http://likms.assembly.go.kr/record/mhs-10-040-...</td>\n",
              "    </tr>\n",
              "    <tr>\n",
              "      <th>1</th>\n",
              "      <td>2018년2월07일(수)</td>\n",
              "      <td>20</td>\n",
              "      <td>국회본회의</td>\n",
              "      <td>제356회</td>\n",
              "      <td>제7차</td>\n",
              "      <td>2. 교육․사회․문화에 관한 질문(계속)</td>\n",
              "      <td>유은혜</td>\n",
              "      <td>김상곤</td>\n",
              "      <td>추가 조사에서 교수의 직계가족을 대상으로 한정한 것에 따른 부정행위의 미비한 조사 ...</td>\n",
              "      <td>추가 조사에서 직계자녀를 우선 대상으로 삼았지만, 부총리를 단장으로 하는 대입공정성...</td>\n",
              "      <td>추가,  조사,  대상,  직계가족,  친인척,  자녀,  공저자,  제외</td>\n",
              "      <td>직계자녀,  대입공정성강화추진점검단,  점검단,  조사</td>\n",
              "      <td>http://likms.assembly.go.kr/record/mhs-10-040-...</td>\n",
              "    </tr>\n",
              "    <tr>\n",
              "      <th>2</th>\n",
              "      <td>2020년3월04일(수)</td>\n",
              "      <td>20</td>\n",
              "      <td>국회본회의</td>\n",
              "      <td>제376회</td>\n",
              "      <td>제7차</td>\n",
              "      <td>1. 교육․사회․문화에 관한 질문</td>\n",
              "      <td>홍문표</td>\n",
              "      <td>조명래</td>\n",
              "      <td>홍성군에서 발생하는 폐기물 처리장 건설 및 지역 주민 반대에 대한 대응은 어떻게 할...</td>\n",
              "      <td>지역 주민들의 반대에도 불구하고 홍성군 갈산면 오두리에 폐기물 처리장 건설 계획이 ...</td>\n",
              "      <td>폐기물,  처리장</td>\n",
              "      <td>폐기물,  처리,  지역주민</td>\n",
              "      <td>http://likms.assembly.go.kr/record/mhs-10-040-...</td>\n",
              "    </tr>\n",
              "    <tr>\n",
              "      <th>3</th>\n",
              "      <td>2019년9월27일(금)</td>\n",
              "      <td>20</td>\n",
              "      <td>국회본회의</td>\n",
              "      <td>제371회</td>\n",
              "      <td>제3차</td>\n",
              "      <td>1. 외교․통일․안보에 관한 질문</td>\n",
              "      <td>민홍철</td>\n",
              "      <td>정경두</td>\n",
              "      <td>왜 함박도와 관련된 지역에 대해 40년 동안 현장조사나 초소 설치와 같은 행위가 이...</td>\n",
              "      <td>함박도와 관련한 40년간의 현장조사 또는 초소 설치 등의 행위가 이루어지지 않은 이...</td>\n",
              "      <td>함박도,  현장조사</td>\n",
              "      <td>관할권,  문제,  확인,  행정조치,  국방부,  잘못,  현장조사,  검증팀, ...</td>\n",
              "      <td>http://likms.assembly.go.kr/record/mhs-10-040-...</td>\n",
              "    </tr>\n",
              "    <tr>\n",
              "      <th>4</th>\n",
              "      <td>2019년3월20일(수)</td>\n",
              "      <td>20</td>\n",
              "      <td>국회본회의</td>\n",
              "      <td>제367회</td>\n",
              "      <td>제6차</td>\n",
              "      <td>1. 외교․통일․안보에 관한 질문</td>\n",
              "      <td>윤상현</td>\n",
              "      <td>정경두</td>\n",
              "      <td>핵무기 확산 가능성에 대비하여 어떠한 대응책과 국제사회와의 협조 방안을 고려하고 있나요?</td>\n",
              "      <td>현대의 글로벌 안보 상황에서 핵무기의 확산은 심각한 위협으로 다가올 수 있습니다. ...</td>\n",
              "      <td>핵무기,  확산,  가능성,  지구적,  재앙,  담보</td>\n",
              "      <td>핵,  확산,  단호,  허용,  국제사회,  공조</td>\n",
              "      <td>http://likms.assembly.go.kr/record/mhs-10-040-...</td>\n",
              "    </tr>\n",
              "  </tbody>\n",
              "</table>\n",
              "</div>\n",
              "    <div class=\"colab-df-buttons\">\n",
              "\n",
              "  <div class=\"colab-df-container\">\n",
              "    <button class=\"colab-df-convert\" onclick=\"convertToInteractive('df-2524307e-4e33-4719-9242-852c1f92a039')\"\n",
              "            title=\"Convert this dataframe to an interactive table.\"\n",
              "            style=\"display:none;\">\n",
              "\n",
              "  <svg xmlns=\"http://www.w3.org/2000/svg\" height=\"24px\" viewBox=\"0 -960 960 960\">\n",
              "    <path d=\"M120-120v-720h720v720H120Zm60-500h600v-160H180v160Zm220 220h160v-160H400v160Zm0 220h160v-160H400v160ZM180-400h160v-160H180v160Zm440 0h160v-160H620v160ZM180-180h160v-160H180v160Zm440 0h160v-160H620v160Z\"/>\n",
              "  </svg>\n",
              "    </button>\n",
              "\n",
              "  <style>\n",
              "    .colab-df-container {\n",
              "      display:flex;\n",
              "      gap: 12px;\n",
              "    }\n",
              "\n",
              "    .colab-df-convert {\n",
              "      background-color: #E8F0FE;\n",
              "      border: none;\n",
              "      border-radius: 50%;\n",
              "      cursor: pointer;\n",
              "      display: none;\n",
              "      fill: #1967D2;\n",
              "      height: 32px;\n",
              "      padding: 0 0 0 0;\n",
              "      width: 32px;\n",
              "    }\n",
              "\n",
              "    .colab-df-convert:hover {\n",
              "      background-color: #E2EBFA;\n",
              "      box-shadow: 0px 1px 2px rgba(60, 64, 67, 0.3), 0px 1px 3px 1px rgba(60, 64, 67, 0.15);\n",
              "      fill: #174EA6;\n",
              "    }\n",
              "\n",
              "    .colab-df-buttons div {\n",
              "      margin-bottom: 4px;\n",
              "    }\n",
              "\n",
              "    [theme=dark] .colab-df-convert {\n",
              "      background-color: #3B4455;\n",
              "      fill: #D2E3FC;\n",
              "    }\n",
              "\n",
              "    [theme=dark] .colab-df-convert:hover {\n",
              "      background-color: #434B5C;\n",
              "      box-shadow: 0px 1px 3px 1px rgba(0, 0, 0, 0.15);\n",
              "      filter: drop-shadow(0px 1px 2px rgba(0, 0, 0, 0.3));\n",
              "      fill: #FFFFFF;\n",
              "    }\n",
              "  </style>\n",
              "\n",
              "    <script>\n",
              "      const buttonEl =\n",
              "        document.querySelector('#df-2524307e-4e33-4719-9242-852c1f92a039 button.colab-df-convert');\n",
              "      buttonEl.style.display =\n",
              "        google.colab.kernel.accessAllowed ? 'block' : 'none';\n",
              "\n",
              "      async function convertToInteractive(key) {\n",
              "        const element = document.querySelector('#df-2524307e-4e33-4719-9242-852c1f92a039');\n",
              "        const dataTable =\n",
              "          await google.colab.kernel.invokeFunction('convertToInteractive',\n",
              "                                                    [key], {});\n",
              "        if (!dataTable) return;\n",
              "\n",
              "        const docLinkHtml = 'Like what you see? Visit the ' +\n",
              "          '<a target=\"_blank\" href=https://colab.research.google.com/notebooks/data_table.ipynb>data table notebook</a>'\n",
              "          + ' to learn more about interactive tables.';\n",
              "        element.innerHTML = '';\n",
              "        dataTable['output_type'] = 'display_data';\n",
              "        await google.colab.output.renderOutput(dataTable, element);\n",
              "        const docLink = document.createElement('div');\n",
              "        docLink.innerHTML = docLinkHtml;\n",
              "        element.appendChild(docLink);\n",
              "      }\n",
              "    </script>\n",
              "  </div>\n",
              "\n",
              "\n",
              "<div id=\"df-b074a3e2-21cc-43b9-bec5-0b447ee581c3\">\n",
              "  <button class=\"colab-df-quickchart\" onclick=\"quickchart('df-b074a3e2-21cc-43b9-bec5-0b447ee581c3')\"\n",
              "            title=\"Suggest charts\"\n",
              "            style=\"display:none;\">\n",
              "\n",
              "<svg xmlns=\"http://www.w3.org/2000/svg\" height=\"24px\"viewBox=\"0 0 24 24\"\n",
              "     width=\"24px\">\n",
              "    <g>\n",
              "        <path d=\"M19 3H5c-1.1 0-2 .9-2 2v14c0 1.1.9 2 2 2h14c1.1 0 2-.9 2-2V5c0-1.1-.9-2-2-2zM9 17H7v-7h2v7zm4 0h-2V7h2v10zm4 0h-2v-4h2v4z\"/>\n",
              "    </g>\n",
              "</svg>\n",
              "  </button>\n",
              "\n",
              "<style>\n",
              "  .colab-df-quickchart {\n",
              "      --bg-color: #E8F0FE;\n",
              "      --fill-color: #1967D2;\n",
              "      --hover-bg-color: #E2EBFA;\n",
              "      --hover-fill-color: #174EA6;\n",
              "      --disabled-fill-color: #AAA;\n",
              "      --disabled-bg-color: #DDD;\n",
              "  }\n",
              "\n",
              "  [theme=dark] .colab-df-quickchart {\n",
              "      --bg-color: #3B4455;\n",
              "      --fill-color: #D2E3FC;\n",
              "      --hover-bg-color: #434B5C;\n",
              "      --hover-fill-color: #FFFFFF;\n",
              "      --disabled-bg-color: #3B4455;\n",
              "      --disabled-fill-color: #666;\n",
              "  }\n",
              "\n",
              "  .colab-df-quickchart {\n",
              "    background-color: var(--bg-color);\n",
              "    border: none;\n",
              "    border-radius: 50%;\n",
              "    cursor: pointer;\n",
              "    display: none;\n",
              "    fill: var(--fill-color);\n",
              "    height: 32px;\n",
              "    padding: 0;\n",
              "    width: 32px;\n",
              "  }\n",
              "\n",
              "  .colab-df-quickchart:hover {\n",
              "    background-color: var(--hover-bg-color);\n",
              "    box-shadow: 0 1px 2px rgba(60, 64, 67, 0.3), 0 1px 3px 1px rgba(60, 64, 67, 0.15);\n",
              "    fill: var(--button-hover-fill-color);\n",
              "  }\n",
              "\n",
              "  .colab-df-quickchart-complete:disabled,\n",
              "  .colab-df-quickchart-complete:disabled:hover {\n",
              "    background-color: var(--disabled-bg-color);\n",
              "    fill: var(--disabled-fill-color);\n",
              "    box-shadow: none;\n",
              "  }\n",
              "\n",
              "  .colab-df-spinner {\n",
              "    border: 2px solid var(--fill-color);\n",
              "    border-color: transparent;\n",
              "    border-bottom-color: var(--fill-color);\n",
              "    animation:\n",
              "      spin 1s steps(1) infinite;\n",
              "  }\n",
              "\n",
              "  @keyframes spin {\n",
              "    0% {\n",
              "      border-color: transparent;\n",
              "      border-bottom-color: var(--fill-color);\n",
              "      border-left-color: var(--fill-color);\n",
              "    }\n",
              "    20% {\n",
              "      border-color: transparent;\n",
              "      border-left-color: var(--fill-color);\n",
              "      border-top-color: var(--fill-color);\n",
              "    }\n",
              "    30% {\n",
              "      border-color: transparent;\n",
              "      border-left-color: var(--fill-color);\n",
              "      border-top-color: var(--fill-color);\n",
              "      border-right-color: var(--fill-color);\n",
              "    }\n",
              "    40% {\n",
              "      border-color: transparent;\n",
              "      border-right-color: var(--fill-color);\n",
              "      border-top-color: var(--fill-color);\n",
              "    }\n",
              "    60% {\n",
              "      border-color: transparent;\n",
              "      border-right-color: var(--fill-color);\n",
              "    }\n",
              "    80% {\n",
              "      border-color: transparent;\n",
              "      border-right-color: var(--fill-color);\n",
              "      border-bottom-color: var(--fill-color);\n",
              "    }\n",
              "    90% {\n",
              "      border-color: transparent;\n",
              "      border-bottom-color: var(--fill-color);\n",
              "    }\n",
              "  }\n",
              "</style>\n",
              "\n",
              "  <script>\n",
              "    async function quickchart(key) {\n",
              "      const quickchartButtonEl =\n",
              "        document.querySelector('#' + key + ' button');\n",
              "      quickchartButtonEl.disabled = true;  // To prevent multiple clicks.\n",
              "      quickchartButtonEl.classList.add('colab-df-spinner');\n",
              "      try {\n",
              "        const charts = await google.colab.kernel.invokeFunction(\n",
              "            'suggestCharts', [key], {});\n",
              "      } catch (error) {\n",
              "        console.error('Error during call to suggestCharts:', error);\n",
              "      }\n",
              "      quickchartButtonEl.classList.remove('colab-df-spinner');\n",
              "      quickchartButtonEl.classList.add('colab-df-quickchart-complete');\n",
              "    }\n",
              "    (() => {\n",
              "      let quickchartButtonEl =\n",
              "        document.querySelector('#df-b074a3e2-21cc-43b9-bec5-0b447ee581c3 button');\n",
              "      quickchartButtonEl.style.display =\n",
              "        google.colab.kernel.accessAllowed ? 'block' : 'none';\n",
              "    })();\n",
              "  </script>\n",
              "</div>\n",
              "\n",
              "    </div>\n",
              "  </div>\n"
            ],
            "application/vnd.google.colaboratory.intrinsic+json": {
              "type": "dataframe",
              "summary": "{\n  \"name\": \"df[0:5]\",\n  \"rows\": 5,\n  \"fields\": [\n    {\n      \"column\": \"\\ud68c\\uc758\\ub0a0\\uc9dc\",\n      \"properties\": {\n        \"dtype\": \"string\",\n        \"num_unique_values\": 5,\n        \"samples\": [\n          \"2018\\ub1442\\uc6d407\\uc77c(\\uc218)\",\n          \"2019\\ub1443\\uc6d420\\uc77c(\\uc218)\",\n          \"2020\\ub1443\\uc6d404\\uc77c(\\uc218)\"\n        ],\n        \"semantic_type\": \"\",\n        \"description\": \"\"\n      }\n    },\n    {\n      \"column\": \"\\uad6d\\ud68c_\\ub300\",\n      \"properties\": {\n        \"dtype\": \"number\",\n        \"std\": 0,\n        \"min\": 20,\n        \"max\": 20,\n        \"num_unique_values\": 1,\n        \"samples\": [\n          20\n        ],\n        \"semantic_type\": \"\",\n        \"description\": \"\"\n      }\n    },\n    {\n      \"column\": \"\\ud68c\\uc758\\uba85\",\n      \"properties\": {\n        \"dtype\": \"category\",\n        \"num_unique_values\": 1,\n        \"samples\": [\n          \"\\uad6d\\ud68c\\ubcf8\\ud68c\\uc758\"\n        ],\n        \"semantic_type\": \"\",\n        \"description\": \"\"\n      }\n    },\n    {\n      \"column\": \"\\ud68c\\uc218\",\n      \"properties\": {\n        \"dtype\": \"string\",\n        \"num_unique_values\": 5,\n        \"samples\": [\n          \"\\uc81c356\\ud68c\"\n        ],\n        \"semantic_type\": \"\",\n        \"description\": \"\"\n      }\n    },\n    {\n      \"column\": \"\\ucc28\\uc218\",\n      \"properties\": {\n        \"dtype\": \"string\",\n        \"num_unique_values\": 4,\n        \"samples\": [\n          \"\\uc81c7\\ucc28\"\n        ],\n        \"semantic_type\": \"\",\n        \"description\": \"\"\n      }\n    },\n    {\n      \"column\": \"\\uc548\\uac74\",\n      \"properties\": {\n        \"dtype\": \"string\",\n        \"num_unique_values\": 3,\n        \"samples\": [\n          \"1. \\uad50\\uc721\\u2024\\uc0ac\\ud68c\\u2024\\ubb38\\ud654\\uc5d0 \\uad00\\ud55c \\uc9c8\\ubb38\"\n        ],\n        \"semantic_type\": \"\",\n        \"description\": \"\"\n      }\n    },\n    {\n      \"column\": \"\\uc9c8\\ubb38\\uc790_\\uc774\\ub984\",\n      \"properties\": {\n        \"dtype\": \"string\",\n        \"num_unique_values\": 5,\n        \"samples\": [\n          \"\\uc720\\uc740\\ud61c\"\n        ],\n        \"semantic_type\": \"\",\n        \"description\": \"\"\n      }\n    },\n    {\n      \"column\": \"\\ub2f5\\ubcc0\\uc790_\\uc774\\ub984\",\n      \"properties\": {\n        \"dtype\": \"string\",\n        \"num_unique_values\": 4,\n        \"samples\": [\n          \"\\uae40\\uc0c1\\uace4\"\n        ],\n        \"semantic_type\": \"\",\n        \"description\": \"\"\n      }\n    },\n    {\n      \"column\": \"\\uc9c8\\ubb38\",\n      \"properties\": {\n        \"dtype\": \"string\",\n        \"num_unique_values\": 5,\n        \"samples\": [\n          \"\\ucd94\\uac00 \\uc870\\uc0ac\\uc5d0\\uc11c \\uad50\\uc218\\uc758 \\uc9c1\\uacc4\\uac00\\uc871\\uc744 \\ub300\\uc0c1\\uc73c\\ub85c \\ud55c\\uc815\\ud55c \\uac83\\uc5d0 \\ub530\\ub978 \\ubd80\\uc815\\ud589\\uc704\\uc758 \\ubbf8\\ube44\\ud55c \\uc870\\uc0ac \\uc6b0\\ub824\\uac00 \\uc81c\\uae30\\ub418\\uace0 \\uc788\\uc2b5\\ub2c8\\ub2e4. \\ubd80\\ucd1d\\ub9ac\\ub97c \\ub2e8\\uc7a5\\uc73c\\ub85c \\ud558\\ub294 \\ub300\\uc785\\uacf5\\uc815\\uc131\\uac15\\ud654\\ucd94\\uc9c4\\uc810\\uac80\\ub2e8\\uc5d0\\uc11c \\uc774 \\ubb38\\uc81c\\ub97c \\uacc4\\uc18d\\uc801\\uc73c\\ub85c \\uac80\\ud1a0\\ud558\\uace0 \\uace0\\ub824\\ud560 \\uacc4\\ud68d\\uc774 \\uc788\\ub098\\uc694?\"\n        ],\n        \"semantic_type\": \"\",\n        \"description\": \"\"\n      }\n    },\n    {\n      \"column\": \"\\ubb38\\ub9e5\",\n      \"properties\": {\n        \"dtype\": \"string\",\n        \"num_unique_values\": 5,\n        \"samples\": [\n          \"\\ucd94\\uac00 \\uc870\\uc0ac\\uc5d0\\uc11c \\uc9c1\\uacc4\\uc790\\ub140\\ub97c \\uc6b0\\uc120 \\ub300\\uc0c1\\uc73c\\ub85c \\uc0bc\\uc558\\uc9c0\\ub9cc, \\ubd80\\ucd1d\\ub9ac\\ub97c \\ub2e8\\uc7a5\\uc73c\\ub85c \\ud558\\ub294 \\ub300\\uc785\\uacf5\\uc815\\uc131\\uac15\\ud654\\ucd94\\uc9c4\\uc810\\uac80\\ub2e8\\uc5d0\\uc11c\\ub294 \\uacc4\\uc18d\\ud574\\uc11c \\uc774 \\ubb38\\uc81c\\ub97c \\uac80\\ud1a0\\ud558\\uace0 \\uace0\\ub824\\ud558\\uc5ec \\ubd80\\uc815\\ud589\\uc704\\uc5d0 \\ub300\\ud55c \\ud6a8\\uacfc\\uc801\\uc778 \\ub300\\uc751\\uc744 \\ucd94\\uc9c4\\ud560 \\uc608\\uc815\\uc785\\ub2c8\\ub2e4.\"\n        ],\n        \"semantic_type\": \"\",\n        \"description\": \"\"\n      }\n    },\n    {\n      \"column\": \"\\uc9c8\\ubb38_\\ud0a4\\uc6cc\\ub4dc\",\n      \"properties\": {\n        \"dtype\": \"string\",\n        \"num_unique_values\": 5,\n        \"samples\": [\n          \"\\ucd94\\uac00,  \\uc870\\uc0ac,  \\ub300\\uc0c1,  \\uc9c1\\uacc4\\uac00\\uc871,  \\uce5c\\uc778\\ucc99,  \\uc790\\ub140,  \\uacf5\\uc800\\uc790,  \\uc81c\\uc678\"\n        ],\n        \"semantic_type\": \"\",\n        \"description\": \"\"\n      }\n    },\n    {\n      \"column\": \"\\ub2f5\\ubcc0_\\ud0a4\\uc6cc\\ub4dc\",\n      \"properties\": {\n        \"dtype\": \"string\",\n        \"num_unique_values\": 5,\n        \"samples\": [\n          \"\\uc9c1\\uacc4\\uc790\\ub140,  \\ub300\\uc785\\uacf5\\uc815\\uc131\\uac15\\ud654\\ucd94\\uc9c4\\uc810\\uac80\\ub2e8,  \\uc810\\uac80\\ub2e8,  \\uc870\\uc0ac\"\n        ],\n        \"semantic_type\": \"\",\n        \"description\": \"\"\n      }\n    },\n    {\n      \"column\": \"original\",\n      \"properties\": {\n        \"dtype\": \"string\",\n        \"num_unique_values\": 5,\n        \"samples\": [\n          \"http://likms.assembly.go.kr/record/mhs-10-040-0040.do?conferNum=047966&fileType=PDF\"\n        ],\n        \"semantic_type\": \"\",\n        \"description\": \"\"\n      }\n    }\n  ]\n}"
            }
          },
          "metadata": {},
          "execution_count": 7
        }
      ]
    },
    {
      "cell_type": "code",
      "source": [
        "import numpy as np\n",
        "\n",
        "# Use vectorize function of numpy\n",
        "length_checker = np.vectorize(len)\n",
        "\n",
        "# Find the length of each element\n",
        "arr_len = length_checker(df['질문'])\n",
        "\n",
        "# Print the length of each element\n",
        "print(arr_len)\n",
        "\n",
        "# Print the maximum value\n",
        "print(arr_len.max())\n",
        "\n",
        "print(arr_len.mean())\n",
        "\n",
        "print(np.median(arr_len))\n"
      ],
      "metadata": {
        "colab": {
          "base_uri": "https://localhost:8080/"
        },
        "id": "QTSuc_epD0QI",
        "outputId": "fa2e15a7-0e06-4721-dc1d-f84f3ef1ffef"
      },
      "execution_count": 39,
      "outputs": [
        {
          "output_type": "stream",
          "name": "stdout",
          "text": [
            "[ 66 118  53 ...  69 176  53]\n",
            "2338\n",
            "70.43416309500157\n",
            "65.0\n"
          ]
        }
      ]
    },
    {
      "cell_type": "code",
      "source": [
        "qna_dataset = df[['회의날짜','질문자_이름', '답변자_이름','질문','문맥','질문_키워드','답변_키워드','original']]"
      ],
      "metadata": {
        "id": "eRsIUJAarQ5o"
      },
      "execution_count": 9,
      "outputs": []
    },
    {
      "cell_type": "code",
      "source": [
        "qna_dataset.to_csv('new_dataset_for_rag_5.csv')"
      ],
      "metadata": {
        "id": "fuUL21cBrQ8S"
      },
      "execution_count": 10,
      "outputs": []
    },
    {
      "cell_type": "code",
      "execution_count": 28,
      "metadata": {
        "id": "tj_kzIX3TS0v"
      },
      "outputs": [],
      "source": [
        "loader = CSVLoader(file_path = '/content/drive/MyDrive/new_dataset_for_rag_4.csv', encoding = 'utf-8', source_column = \"original\")"
      ]
    },
    {
      "cell_type": "code",
      "execution_count": 29,
      "metadata": {
        "id": "9gpejALJTT-A"
      },
      "outputs": [],
      "source": [
        "data = loader.load()"
      ]
    },
    {
      "cell_type": "code",
      "source": [
        "data[0:5]"
      ],
      "metadata": {
        "colab": {
          "base_uri": "https://localhost:8080/"
        },
        "id": "4HDNUwPCoSB4",
        "outputId": "052c67f2-90d9-4e22-ef97-a10e77ebb1ee",
        "collapsed": true
      },
      "execution_count": 30,
      "outputs": [
        {
          "output_type": "execute_result",
          "data": {
            "text/plain": [
              "[Document(metadata={'source': 'http://likms.assembly.go.kr/record/mhs-10-040-0040.do?conferNum=046416&fileType=PDF', 'row': 0}, page_content=': 0\\n회의날짜: 2016년9월23일(금)\\n국회_대: 20\\n회의명: 국회본회의\\n회수: 제346회\\n차수: 제8차\\n안건: 1. 교육․사회․문화에 관한 질문\\n질문자_이름: 전재수\\n답변자_이름: 조윤선\\n질문: 미르재단 설립 허가 신청서는 어디서 접수되었으며, 그 처리과정에 대해 어떠한 절차가 따라졌는지 설명해 주실 수 있나요?\\n문맥: 미르재단 설립 허가 신청서의 접수와 처리과정은 문화체육관광부의 대중문화산업과에서 담당되었으며, 이 과정은 전형적인 부처의 업무 프로세스를 따랐습니다. 초기에 신청서는 이메일로 접수되었고, 이후 서울에 출장 중이던 담당 직원이 실물 서류를 받아서 처리하게 되었습니다. 이 직원은 문체부 서울 사무실에서 법인 설립 허가서를 받아 그날 저녁 나루, 즉 문서 등록 시스템에 기안을 올렸습니다. 직후 해당 사무관과 과장이 세종시 문체부 본부에서 각각 결재를 진행했습니다. 이러한 신속한 결재 과정은 비일비재하게 야근을 하는 공무원들의 업무 패턴 중 하나로 볼 수 있으나, 이 경우 그 속도와 시간대가 일반적인 관행과 다소 차이가 있어 눈길을 끌었습니다.\\n질문_키워드: 미르재단,  설립,  허가,  대중문화산업과,  직원,  세종시,  청사,  근무\\n답변_키워드: 서울,  이메일,  접수,  서류,  직원,  출장\\noriginal: http://likms.assembly.go.kr/record/mhs-10-040-0040.do?conferNum=046416&fileType=PDF'),\n",
              " Document(metadata={'source': 'http://likms.assembly.go.kr/record/mhs-10-040-0040.do?conferNum=047966&fileType=PDF', 'row': 1}, page_content=': 1\\n회의날짜: 2018년2월07일(수)\\n국회_대: 20\\n회의명: 국회본회의\\n회수: 제356회\\n차수: 제7차\\n안건: 2. 교육․사회․문화에 관한 질문(계속)\\n질문자_이름: 유은혜\\n답변자_이름: 김상곤\\n질문: 추가 조사에서 교수의 직계가족을 대상으로 한정한 것에 따른 부정행위의 미비한 조사 우려가 제기되고 있습니다. 부총리를 단장으로 하는 대입공정성강화추진점검단에서 이 문제를 계속적으로 검토하고 고려할 계획이 있나요?\\n문맥: 추가 조사에서 직계자녀를 우선 대상으로 삼았지만, 부총리를 단장으로 하는 대입공정성강화추진점검단에서는 계속해서 이 문제를 검토하고 고려하여 부정행위에 대한 효과적인 대응을 추진할 예정입니다.\\n질문_키워드: 추가,  조사,  대상,  직계가족,  친인척,  자녀,  공저자,  제외\\n답변_키워드: 직계자녀,  대입공정성강화추진점검단,  점검단,  조사\\noriginal: http://likms.assembly.go.kr/record/mhs-10-040-0040.do?conferNum=047966&fileType=PDF'),\n",
              " Document(metadata={'source': 'http://likms.assembly.go.kr/record/mhs-10-040-0040.do?conferNum=049896&fileType=PDF', 'row': 2}, page_content=': 2\\n회의날짜: 2020년3월04일(수)\\n국회_대: 20\\n회의명: 국회본회의\\n회수: 제376회\\n차수: 제7차\\n안건: 1. 교육․사회․문화에 관한 질문\\n질문자_이름: 홍문표\\n답변자_이름: 조명래\\n질문: 홍성군에서 발생하는 폐기물 처리장 건설 및 지역 주민 반대에 대한 대응은 어떻게 할 계획인가요?\\n문맥: 지역 주민들의 반대에도 불구하고 홍성군 갈산면 오두리에 폐기물 처리장 건설 계획이 진행되고 있습니다. 조명래 환경부장관은 이와 관련하여 총체적인 폐기물 정책의 대전환이 필요하다는 입장을 밝혔습니다. 지역에서 발생하는 폐기물을 지역에서 처리하는 원칙을 법제화하는 방안을 마련할 계획이며, 이는 정부에서 아직 확립하지 못한 원칙입니다. 현재 갈산면 폐기물처리장과 관련해서는 사업자가 평가 초안을 준비 중이고, 평가서가 접수되면 정부는 지역주민들의 의견을 면밀히 검토할 것임을 약속했습니다. 이는 1만 2000명의 홍성군민이 서명한 반대 의견을 신중히 고려하는 것으로, 행정 절차가 문제가 없다 할지라도, 실제 현장에서의 반대가 심각할 때는 해당 사항에 대해 재고해야 한다는 원칙을 제시하였습니다. 정부는 이러한 문제에 대해 관계부처가 한 번 더 깊이 알아보고 적절한 조치를 취하기를 바라고 있습니다.\\n질문_키워드: 폐기물,  처리장\\n답변_키워드: 폐기물,  처리,  지역주민\\noriginal: http://likms.assembly.go.kr/record/mhs-10-040-0040.do?conferNum=049896&fileType=PDF'),\n",
              " Document(metadata={'source': 'http://likms.assembly.go.kr/record/mhs-10-040-0040.do?conferNum=049412&fileType=PDF', 'row': 3}, page_content=': 3\\n회의날짜: 2019년9월27일(금)\\n국회_대: 20\\n회의명: 국회본회의\\n회수: 제371회\\n차수: 제3차\\n안건: 1. 외교․통일․안보에 관한 질문\\n질문자_이름: 민홍철\\n답변자_이름: 정경두\\n질문: 왜 함박도와 관련된 지역에 대해 40년 동안 현장조사나 초소 설치와 같은 행위가 이루어지지 않았는지 군이나 행정부 등이 노력하지 않았던 이유가 무엇인가요?\\n문맥: 함박도와 관련한 40년간의 현장조사 또는 초소 설치 등의 행위가 이루어지지 않은 이유는 복잡한 관할권 문제와 밀접한 관련이 있습니다. 초기 정전협정 시 모든 자료가 북한의 관할로 명시되었음에도 불구하고 행정적인 조치는 그와 달리 이루어졌으며, 이로 인해 현재 국방부와 다른 관련 부처 및 지자체는 민관 합동 검증팀을 구성하여 이러한 행정 조치의 오류들과 그 원인이 무엇인지에 대한 조사를 진행하고 있습니다. 이 과정에서 발견된 사실들을 국민들에게 명확히 설명하고, 앞으로의 후속 조치를 적절히 취해 나갈 것입니다. 또한, 이 문제와 관계없이 군사적 대비태세는 항상 면밀히 확인되고 있으며, 시설공사 초창기부터 지금에 이르기까지 어떠한 군사적 동향도 파악하면서 완벽하게 준비하고 유지하고 있다는 사실을 분명히 했습니다.\\n질문_키워드: 함박도,  현장조사\\n답변_키워드: 관할권,  문제,  확인,  행정조치,  국방부,  잘못,  현장조사,  검증팀,  시설공사\\noriginal: http://likms.assembly.go.kr/record/mhs-10-040-0040.do?conferNum=049412&fileType=PDF'),\n",
              " Document(metadata={'source': 'http://likms.assembly.go.kr/record/mhs-10-040-0040.do?conferNum=049012&fileType=PDF', 'row': 4}, page_content=': 4\\n회의날짜: 2019년3월20일(수)\\n국회_대: 20\\n회의명: 국회본회의\\n회수: 제367회\\n차수: 제6차\\n안건: 1. 외교․통일․안보에 관한 질문\\n질문자_이름: 윤상현\\n답변자_이름: 정경두\\n질문: 핵무기 확산 가능성에 대비하여 어떠한 대응책과 국제사회와의 협조 방안을 고려하고 있나요?\\n문맥: 현대의 글로벌 안보 상황에서 핵무기의 확산은 심각한 위협으로 다가올 수 있습니다. 따라서 우리는 핵 확산에 대비하여 국제사회와의 협조를 통해 효과적으로 대응할 계획입니다. 이러한 대응책은 저희의 단호한 입장과 함께 국제사회와의 협조를 통해 실현될 것이며, 우리는 전방위 안보 대비태세를 강화하여 과거보다 더욱 효과적으로 대응할 수 있도록 모든 역량을 집중시키겠습니다.\\n질문_키워드: 핵무기,  확산,  가능성,  지구적,  재앙,  담보\\n답변_키워드: 핵,  확산,  단호,  허용,  국제사회,  공조\\noriginal: http://likms.assembly.go.kr/record/mhs-10-040-0040.do?conferNum=049012&fileType=PDF')]"
            ]
          },
          "metadata": {},
          "execution_count": 30
        }
      ]
    },
    {
      "cell_type": "markdown",
      "metadata": {
        "id": "xs7-DJ14UmzO"
      },
      "source": [
        "https://blog.naver.com/htk1019/223445162918\n",
        "\n",
        "\n",
        "![화면 캡처 2024-09-29 145820.png](data:image/png;base64,iVBORw0KGgoAAAANSUhEUgAAA40AAAJECAYAAACyxMHxAAAAAXNSR0IArs4c6QAAAARnQU1BAACxjwv8YQUAAAAJcEhZcwAADsMAAA7DAcdvqGQAAP+lSURBVHhe7J0HgCVFtb/PDZM2k5acQQQEUUHBACqiomBAzJgzZvGZ898s5vcUUJ/5mTBnxCxmQQQFAck5bp5wQ//Pd+49s72XmU3ssjOzv2+3prsrd3Xfc+pUVXdXCseEEEIIIYQQQogJqHa3QgghhBBCCCHE7ZDRKIQQQgghhBBiUmQ0CiGEEEIIIYSYFBmNQgghhBBCCCEmRUajEEIIIYQQQohJkdEohBBCCCGEEGJSZDQKIYQQQgghhJgUGY1CCCGEEEIIISZFRqMQQgghhBBCiEmR0SiEEEIIIYQQYlJkNAohhBBCCCGEmJRK4XT3hRBCCLGRmUztViqV7p4QQggxtdBMoxBCbEIwINrtduy3Wq1wzWbTRkdHx40LtsPDw+Evpj9cz7Gxsbju7Dcajdhy7UdGRsav+5IlS2IrhBBCbGo00yiEEJsQRDCuWq3alVdeaaeeemoYDvPmzbPDDjvMDj/8cOvv749ZqBTXxBXTF4zDWq0WW67rhRdeaD/72c/sqquust13392OOeYY22GHHSIu8XS9hRBCbGpkNAohxCYkRTCzThdddJEde+yxdvXVV4exsHDhQjv33HNt1qxZcQxawjj9wVjEEGRw4Nprr7Xjjz8+rj2zj/g/9rGPjcGDOXPmxLGuuRBCiE2Nhi+FEGITgrGYS1JzNpEty1OZeWRbr9dlOMwguOYYiMwgf+1rX7PzzjtvfLkq1/m73/2unX/++XFPaEmyEEKIqYCMRiGE2IQwk4QbGBgIAwHDIWcVh4aG7Kabbhpfwio2LXkd1tZNBP5cb64xzzIuXrw4BgXwZ8v1B2abOe7r64tjIYQQYlMio1EIITYxaWRgSDDTxMwjxgMvvxkcHBwPz7hiasG16nWru05cYxxGIc+scr0BIxKDcosttrCDDjoo4uh6CyGEmArIaBRCiE0IhgHGYhqKGAlsgW0uW81n23ATQbqJ3MZmojJxa8u6xN2QTFbP1dWn3P55bfLNp+lf3hInr2mSeeRs44Mf/GB7z3veY1tvvbUtWLDAttpqKzvppJPihTh3lDzH1Z3TZJTTlp0QQojNE70IRwghpgAYIP/+97/jzZm8HCWNEfz23nvvcWNkulNWOdPtnLLu5S2Oa8WsMEtJ0zEIkM+ils8z0+CX2+XLl9s//vGPWJK6yy672N3udrdYmkx4zj6vDZmfEEIIsaHRTKMQQoj1Jo2gXjdZGEZNuqlC1m194Dx+/OMfx+dRHvjAB9qJJ55ol156acwkZngZjnOWEtjn7bj3vOc94y2qBx98cBidpM/Z54mYrM535FyEEEKIyZDRKIQQ05g7y0jIcnrLSgOw15XDVsemrj+sTT2hN07mx5tPr7vuupgV/uIXv2hnnHFGGH3lsjJu+pFXeZ8XIWEgMmuZM5XkkcZnLxPVOf16/deFch2FEEKIREajEEJMU8qde/YxOu6om4wMT6NidS4pH+d+bx5p4GT+d8RNRpabjuMyWZckjydyZdJAYwkpYSxRheuvv/52ZeUx5LJVYFuOl8Zjxu0tswxhxJtoRpKwDO8Nm4wsq5zujrjMTwghxPRHRqMQQkxDejvkk3XQMSgmcsSfyE3GZHEnMhayjPJ+OpZl4ggrM1H+6+MmIsvqjce2t76T5QHltJBGY/qVDb5yXpmu7DA0mUWkLSibfDhOI5J9jMvJyHx66842j7Otmb1cE6Qtbycjy11bJ4QQYmagF+EIIcQUgM792rwIBz/209Dg4//lZYxpfIyMjIx/roMZsMsvvzzK4IPyPEO30047jRspLK/MF66whSwnwQjJD9Kn2qCMW265xZYuXTpuoBCPPNhnm0ZNzq4Rzj4ve2EZZhnyJTyXaCaUe/PNN9uiRYsi3zzH+fPn27bbbjt+HnkOkNusK3UgnGPyx8Bju2TJkjgPtuQzd+7ceJMp6TnXPI/Mgzi5j4Pf//739rSnPc1uuOGGOLf3ve999oIXvGCVNiQu+eUx+eBH/MyLcM4fSJvlZhrI8KwXYezTRnzTk5fqcD6EUQbXmvPhvDgmHmWyjyvXMfPmmLbJ+nGMI0/isE8Y1+Oaa64Jf+o+b968eANsthvXMPPHAf7kKYQQYnoho1EIIaYAdKbX1mjMLZ3+q666yj7+8Y+HwTJ79mx75CMfaQ996EMjDEPoz3/+s33729+23/72t7ZixYowIvisw13vele73/3uZ094whMiLzr6bCcz5IA6Ug8MuC9/+cv2t7/9za688sowHjBUCCduGjvUgfNII4FwoA7nnntuGLWEZ5kYIuSPIYwf9eUlMz/84Q/tP//5TxhF5EGdMPq23HJLO+CAA+IFMkceeWSUTZmUT15p5GQZmT+G1Zlnnmnf//73Yykp7bRs2bKow8KFC22bbbaxHXbYIQxrPn3xoAc9KOpaPi/qQrtfccUVsY/hiPFMObwUZ+edd456Zpm8DfWEE06Il+XgB9neP/vZz+yrX/1q5Isx/eQnPznqgYFHOP7ELd8DnBdb2v0nP/mJfe9737MLLrgg6sD5pWGIEcd57LjjjuMv2sG4K1+Xcr5ZDnl+4xvfiPuC++VFL3pRGOi0Ac9vfutb34r2u+SSSyIO50e8e93rXvbYxz7WDjnkkMiTOpAf+UKWJYQQYprhglwIIcQmxjvxxfnnn1/stttuhXfCC+9c08su3Ggs3EDoxlqJG1aFGx/FpZdeWrhRGXFJ8/SnP71wo7P4wQ9+UBx66KGFd/IjzDvvxZw5c2Ifv8zfDYnIn/wmgjLceAnnBlvhBlKx7777Fm5wjOflBtV4GVn33Gb5ODcsIq4be1Ee+WUZ1AFHO7B1Y6x4wAMeMJ5vlke+eR6Z//z584tPf/rTkQ/pcZkvZZCfG4bhf9lllxVuuI3n50ZZ7FMG9WPrxneEuXFb7LLLLoUbhJFf1tGNssjHDaTxenBeef5s8aduWXc3couvf/3r0Y5uoEZ+ed6nnHJKhBN/iy22KL75zW+Ot/tEZDrq8fznPz/Kpg6cC+VSB7Zz586N8gnj3DifT37yk+NtvDp36qmnjl+7rbfeuvjEJz5RuIFavO51r4s64k955Ml+HnOulPuZz3xmlbqWwU8IIcT0Qs80CiHENCJn67xzHrM33rGPmStmwvD7zW9+Yw95yEPs0Y9+tP31r3+NmR5mq3DeeY9ZIfxwpPnud79rbghEHrhe3OAIR3xmK92QswsvvDDKJj1h7DPTxBJI6kBc6kndCMPPDY1wzHo961nPinok5EHZxAWWvL70pS+1P/7xj1HvLIM05fPGAbNrb3rTm2K2DT/ic65sc5+ZSWZFjzrqqDgP8sCPelJ3N0Qjf8pjhpNymOlzI9622267mP0kH1yeX9aJYzfEIowt0Db4Ux/iMHvJrCX5Esb5Epc8KJP82OLHrDH+QJ5J+pEvM6SPe9zj7H//938jL84FyAM4H5YlExfHjCR5v/Od77Qf/OAHq73eQFzqSv1p39NOOy1mGk8++eSYmaUc6kMeXHeOKQco66STTrJf/epXkV/es1leliGEEGL6oOWpQggxBaBjvbbLU8tim+WpGEIs36SDT8edDjwGDwYH+ywVvP/97x9LHlnCyNJDPiSPMUMHf/vtt48O/l577TVhh558br31Vnvxi18cyxIpAz/coYceGoYkxiD5EQ+jEsMMIy3j8h3Cj3zkIxFnjz32iCWqaZQQjkHBMef9yU9+MgxZ4Jg67b///nbf+943ln2yDPecc86J82CpLHkQD0OZZbMYgbQn/sA5Uu5nPvOZMEaB8sj3uOOOiyWVLN8kD76xeOONN8aSU9qLJaX57cRMxzlhtL3jHe+IZba09cUXXxzLQgnbd999w2hLA5Gyaf9XvOIVUWYaXJw38anzc57znNinzh/4wAfie495nfM8OCY99fza174Wz1EShuN8WVJ7xBFH2F3ucpd4jpHnWFk2S1tRR8rF+CX8O9/5TlwzrkOWQ/nA8SmnnGKvfOUrI+80onGcP+EYwfe5z33ivGjfs846KwYsKIc6cm4saX3Pe94TbZD5kocQQohpiAtxIYQQmxg3BNZ6eap3zLt7RSxP3WeffSK+d8hjmSPp3eAp3MiLJZHDw8OxJBDnxkXx85//fHxJKcsLWbp4+umnr7JssLdMNwoKN6wivhsXsYTzve99byy1JC71J2/g+I9//GOx++67R72oD2nOPPPMWCaacYC6JZyXG7OFG5VRP86H9G4MjrcD5bClrixJZWkqcdy4iaWkLGvNpbbkl2mWLl1anHTSSeP1If9XvepVseQy65JbziPbC0c+bMkHqDNxs105r2233TbqQN4nn3zyeDjbdFkWDjL/z372s5GWunH9PvjBD95uaSrxMt1tt90WbZLl0bbcN7/73e8iTrm+ixYtKtxQHs/fDcfY/9znPhdxIOuRkMf//M//RDzuEcogHW120EEHFW9/+9uLv//976ucixuWxWtf+9pIw3XjPjnggANiGS9506YZt1yWEEKI6YGWpwohxDQjZ71chsfskHfGY+tGQczIfeITn4iZQ2asWMKYccA77Hb44YfHrCGzPm5gxCwVM2Xkl5BX+ZhZQ2bgmFWi/Ic97GH26le/OpZFkkfGdUMlZrOYvXvrW986PrPkhke88IW05JH5l88F/vWvf9nixYujntSZGbO3vOUttueee4Yf+eNPHszKMtNJXuTP7N8vfvGLOCYu502+7LPE8rzzzotjzpfZyDe84Q0RhzyzHdgnPvtsiU8ccIMojjlntpQJvAiI9NSLNMy29paP41w5LpN1ZZttQrosE9KPLWUwu8oLeDIO+b773e+OF/DQ9vhTf2DpKO3HLC35E0YetIUbtVF21im3xMst58x5PulJT4oX3+Be//rX24EHHjh+XuTHdeZ+YNY6y2bmlaWstGmeG/HL5yaEEGJ6IMkthBAzADruGEIYjXTw99lnn3Gjhg572RDA8dwjaTAK2GJwZZyEYzr6OD6twBbjgE4/RiPH7GO04E9euDQEMVhZAokRQV5///vfw1AhDuDHPvkkLKkkTtbl6KOPjuWU1JGyOCf2WfLI2zrvcY97RHr8MEgwpjK/NE4oA2Pqtttui7qRN2+P5e2rpMGPbdaHMvKcsh7kWXZlPwxGXLYNBi1b0k7k1hXSUA55suWNpVyvbIuDDjrIHvWoR0UYdcCPNBmfZ0n/3//7f5EXx8ByZoy5pLde5EFclq9yX/FGVO4Znu8kLu3JlvbKtuNNrRiTlIsfcRgAKLdjbzlCCCGmBzIahRBihkAnPT+5gBFT7qj37vPZBWbx6NzTyWe2jPQTgfHAs5CkwwDkeT1eisJxGijAPqSxgj/GGTNzabRhEGJElMl0wLOWGF2ZnhlLysM4SSMHg44yCMegBOKTDzOinBPHSc4CpvFK+C677BJ+GF7ExQjFH8ppiZ+ufFwmj7NOWfd0+GfY+pLnRDsw48t15rxoCz6xgnEHWQbxKJNzxI/rgPFIGs6V2Uo+M5J17CWvEfG5Zhjj1IH8yJs82JKWLY40fDKEehKPtFxz4mSbUqdy+wohhJgeyGgUQogZAB12jCIMq+zUp7FCWO8+yxYxHEmDMYBhwD7QqS937DEAeDkP8UiPEceLUNLgSJdlAHXAkOED/BgPGI7ULZcqAvmW4ZilnZRNWcTj5S7445fGYtaPcN5Iyj5xOCY9BmqmwVFnwqgTkAdxCKOcrBMGJNte8Ot1ea55vviRJ22Y5SaErS+ZV543YOyl8Y2BzUt8gHI4R9qJfeKzD7R/Gvr4s2yUwQWOs365Bc6DMmkfIB/alC3p2c82TthneSoQRh6Uwz5k/uU0QgghpgcyGoUQYgZABx0jLQ0kyM492959lnZiFGAokYY3ZOZMI+FJpsPAYEtcDAeMTozBsqFRLgMwbDAuKQfDjDDqyRYyXhpExOGtpRg+HJM3b0rNfMuGE7DP7FmeM+HUiXzSQMQfw4djDGnCSPePf/wj6pdtkGUQv9etjqwP+QDxy3VM1pTP6qD+5J95MMuYbcGWa5FllrekY0s67g1mltnHH2Mzr1+6MrRVGo60C442zGtH/HKdEpaoAuXS1tSV8srxetMIIYSY+shoFEKIGQAdcWag6OizT+c+93sdYGjxrFoaWRiNZYMgyf38nARxSMfMFYZFOW4Z/DFUcoaK8jAe2E/DJiEuftSXmcKENPhTbu6TnvhpSPFcIuWQFsf55HkTPx2zqrxMJw1MPlXywQ9+MIwnzp380tDMNAnxk3KeGYc6lQ2jrOOGpFxeGnvUnetAvTnOcMg2oy5AWM4CAgMEzAJOBuHky71BPkAZ5Itjn3PO65Blcy2yLlyHnM2EjJPHQgghpg8yGoUQYoaQRg/QMcdgK3fQc58tHX06+IBRkEsrYbJOPZ3+NIgyTvqVDQLyBvwwavDD+MDAoAzqSVgaG7j0wyDKMsrGV8aDLA/HUtk0aLMc9tMIxI92oB58b5FjHPXgu5G8DZR8si7ZBuxTDse5D5k+HeT5JpQHGV4m/cizTO9xmbLxB8yQ5jFl5XUv1ynJMGZTc8kyabnetBXlTuTynMivXDZhCXmXyyaM65F1IF3O5rKfeZbzE0IIMT2Q0SiEEJshGFEYI9mRz1mjyUjjKQ0xtmlglOE4jQLiZf6QxkQ5Tfol5TDSUk65XnmMsVQ26NgSH780UDIv4nKuT3ziE2O2EQjHaHrjG99of/nLX6IeaWhmvnme6b8pKLcH+zjqnW2bBnEeTwbhGI15XuSB25BQPnVJKItBgDwHGYtCCDF9kdEohBCbITlDlcZVGlurI40o4hM3jTn80wHhaSjgl/tQ9s/4Gae3fAwQZkOzzEyDAcgxW5an4jI9cYlTziv9ef7xox/9aLwQhmOWpfK21mc961kx48hyT9qBsDTAyDfL3xRkG5UNwpwhxI82SENtTXUkXsbh2uX125CkYQpsmdHM65b+eU5CCCGmDzIahRBiMwRjIzvvdOYxltYE8TDAiJuzb70GAMdlA6fXEEzSgCiDX9mfl+D885//tJ///Of2q1/9yn7605/aGWecEcdnnnlmfMj/Zz/7me28885xPknWs7yf26OOOsre9KY3hQGZBjNvhn3Ri15kp5566vjSzzSo2HJOG8PAWhuyfbNdsy7ZThwzALCm+hE/r9dk1+SOkPWhLuyny3pl3YUQQkxPZDQKIcRmSNmwo3O/ppnGNDKJx5JDjKs0AspGQpmy8ZWQZrJ0vXlgzL3qVa+yY489Ntzxxx8fH7E/5phjxrePe9zj7F//+leUwznxfCOzW9Q3zwd/DCae66Puz3ve8+ykk04Kf8pjy8fyWar6zne+M2Yg8WNGj3w457JRemdSbpuk3Ka0JXUjPNt1IjIs24XzW138dYW8Mt8k/XDl+gshhJh+yGgUQojNlOzg06FP1wsdf+Ix65eGBkYZxhnGS6bpNQzSYMjn7whji+ul7FfOg/IoK/PJl7dQLg5jDuMVQzCXlC5evDiWmWZ9stxMwz7pXv3qV9v73/9+22677cbj4P/hD3/YTjjhBPvTn/4U+QJh5Xrd2ZTLznNKl6xNHYmT2411Tpl35l92Qgghpi8yGoUQYjMljUDITn128NMfmJ3Kj+xjeGEw3nDDDRFGPPIBjC4cEBf//IRGGhIZN426LCfDyT+PCSdelssxs4X5rCPfBOR5RurG5yT4yD3fIiQ+Bl+WRzpgy3Eu53zxi18czzjuu+++4QeE/+QnP7ETTzzR/vjHP46nyfqVyXw3JtkOk+3ntnyek4FhzfUhLm00EeSHWx9Il9cfqE/WDcp1FkIIMb2Q0SiEEGIVejv1dPR33333eMkJhgezebxAJo0QXC7/xPhKg/Dmm28OxzFGHsYD8SANsdXxkIc8xE4//XT7wQ9+YD/60Y/CmMvnGtnmPs81sv3d735nX//61+0ud7lLlJeGZpabZWa51PfRj360ffWrX7W99947/IhDfXmW8uijj7azzjor8mHJKnkl5f07k3Kb5f7a1qV87lDeF0IIIVaHjEYhhBDj9BoSaZDsv//+YTzlDN65554bYcxCcsyyURyksYbhdtFFF0UcZicxOvMNnmtjsJD+QQ96kD30oQ8Nd+SRR9r97nc/O+yww+ze97633fOe97QDDzwwZgoxFFlqyqxj5o8BWy4Hg7DsqC8G4h577BEGKJ/kKIeTDy/IOeecc8bfCpquDGWk29CsbVkbo+z1IesxUR2FEEJMX2Q0CiGEWC0YLgcddJDts88+4593YObv/PPPD8MgDRtm8zAqMbjgP//5j1166aXj4bmsNJdGrsmoWLJkybjxBmyzvPRL8CduzihOtEyyDPGpKwYt8BkOnmfMF+RgUJKG+r/vfe8bP+7NJ1nTudwRyDvPO4+T1dWpl7WNt75kvTZmWwghhNg0yGgUQgixRvbaa694gylgfPBM43Of+1y7/PLLw4/ZRUgDh2cZ3/Oe94x/ggFDbLfddptwxi63veTMZYaTL/mkKxsnmR8GKWEYj1mXXjIeL/ehDAxHDMhtttnG3v72t9tLXvKSyIO68vKdH/7wh/aXv/ylm3rV+ky03ZBkWbldX/Kcy/lsyPpujHMXQggxdZDRKIQQYo1gFGBMPf7xj7c5c+aEoXX22WfbIx/5yPju4WmnnWZf/OIX7dOf/rS9973vjQ/mf+c73wmjCwOMmb+HP/zhqywZLRsaGDQcE7fXUEoDEYdfr+GTjni49M94Gd4Lhm4ur+X5xpydfM1rXhMGchrCbD/xiU+sMntZJvOnvNz21vOOknnRTlnncv74T0TGYVuOQ/qNQea7Ic9dCCHEpkdGoxBCiNtR7vSzj7HHm0lZqslLYzDOMEIuueQS+9CHPmRveMMb7BWveEUYXO94xzvi5TSkS3ef+9wnnk/M5aNlygZXOYz88e9lTQZPhrOdKC5+1CPhmHJzVpTz5PlGjomH0cibVNNozDzz3MrH7E9U5/WF/DL/zDufC822SmMw4yVZj6wXnyLJ68Zx2Yi8o1BGljcRqwsTQggx9ZHRKIQQYo0wY3jhhRfaU5/61FiqmQYKhhRLPDFIeMMoyzzTSMENDQ3ZAQccYJ/97Gdt4cKFkWYiMGaIzyxaGkOZ98Yi65ik4UO5vPiH5anMQBJn6dKl44ZPpslt2QCdzNC9o5AnedM2ucQXaJ+czV1dudR12bJlsSUe7VyutxBCCLE6ZDQKIYRYIzfddJO98Y1vtN/+9rdhbGCsMBOH8TFv3rxwvOSGLW8xxejijacvf/nL7Stf+Up8siONrF4wYgjD5Yt2AAM0jdA0iCbLY31IQxXKBhfnheFIGOXnMlWYqPyckUwjjLYhHq6c7x0h88PxLCZb6sVbaTEGJ4I4uaUe2ZacN3Wl3kIIIcTaIKNRCCHEGsFY/PWvfz2+NJJPXnzkIx+J5xb5XMWvfvWrWJLKW1W/+93v2je+8Q37/Oc/b295y1viBTikmcyASuMGY2bu3Lnj8TByMMDSuJss/YaEciiXWdNcjoqBxZJV6jERzKaWDTAMOSjXeXXnvyZyhhHIg2vAMfvUlW9hQrZjGfxwtCPGZS5JxdiX0SiEEGJtkdEohBBijfCx++Hh4djfZZdd4rnF5z//+fEB/EMOOcT222+/+G7iwQcfbPe4xz1szz33DGMKAwcDhS2Gy+rAiNliiy3GDSI+ubFo0aJVnr1bX8NrbcHAoh4sR2Umj/Iof8cdd5zQeOWY5aKcYxp3GGfEIazM+tQ9DT7S4qgT7cp+zmxeffXVse0trwzLh6+88spIT10xzmlrIYQQYm2Q0SiEEFOAnEmC1XX+0/DAQFkfIwTSAMly2PbmVa4DZZ133nlhpDD7xvJTPqiPMYMRQtw0YDIf/HMmi/Q4DMeMDxk3txgzacjgh9HIslj2cZk245dJP+qXcYH9bKvyflLezzTE4RuTaeRybXbdddeoX8bP/IDz4vw5Ji3PGGY9Mg5k3YlTboPczy1kOrZZbhqtCxYsGDcc8bvmmmvCKCTfhDAc58QWg5/PpJBXtvP8+fPH4+HK6cp+kHWfjPL55L1cvqeFEEJMbyTRhRBiClA2GNams03nfE0d+bWh3MmH3vw4xhhZvHhxGEMYHBhIaSRxnPUgHkYKxhbh5Is/4RxjSBGHJZXl88194vCtRI4xijCE/v73v0ce7BNOHYByyC/zLNcBR9nlZ/jwy33ScpyQJ8eZP45y0+DCKDzwwAMjPCnXn2c58zlD4txyyy3hOCZf8mE/jzMteWed8zjJOJDlEo4/s54YfJRLW//mN7+JPAhnhhQyzzx3XmJEnagLbbn99ttHnctkfcrkNYTeMCGEEJsPMhqFEGIK0NshLxsNE0E4DiMgj9eFsiGwOmMgy2HJJQZiGl24NNrYxzAhDAMHx3G6rBvh5NH7LF25LszobbXVVmHYwCc/+Uk7//zzw3DDICJ9eQaQvEmHH8YeZec5EU75WT+MSLZpaGbd0yjLujKryjOa5EF5bPlcSC/ExfG8I29ZBfJguShGNnlTB6Bsysu2yDBclj8ReX7lLW3EbC95Ur/rrrsuniWlbAxJyiHfLBNj8aUvfWmkpe0pjzxYVttL1i/J42zPyaDshLg4IYQQMwcZjUIIsYmhg50GC251ne7sxJc78+Xt2kL8zCM7/OU8yvvEw8gBljneeOON9te//nV8iSSU643DwMgwthh15XLyfCHzx5hh2SuGzZw5c8Lv8ssvt1e/+tX25z//OcqDzBfIh3gYTsThxTwYuPiRL3lm/ryw513vepeddtpp9rWvfc1+/OMfRxpm4a644op4bvN73/uenXjiiXbppZeOG3k8o1l+mU+5fGC5KDN/GHDEv/766+3MM8+MuuV5ck5ssw2A4zLlfMthmUf6Ud7d7na3MFQ5L4xDzotPoZTbmfgYjO9973vje5rkn4bfQQcddDvjvVwm+8Qv13dNZHy25byEEEJMfyou3FfVfkIIIe5UEMN0/unYP+IRj4hn1Oj84//vf/87Pqbf2wnPzjwvNyEN8TAIHvawh9kXv/jFMCwm67iTL+mPPfZYO+OMM+J4n332se9///u2xx57jBsMuaVuj3zkI+3nP/95lIE/L1LhZTeUg/HBTGDOYhGHZ+Z4Yc62225rhx9+eOxTJuEYnsxykQ9545db3jz6qle9yj796U9HeMYhn5133jnagjIp49Zbbw0DDSMR4whjlnI5p7322mv8PDHmmKV87WtfG/lSNgYh4czMYXyxJS7P/eVMZn6jkZf+UKcyWTcg3ete9zo7+eSTx2dC+SYl1+W+973v+PkRnxm+BzzgAZF3GnBf+MIX7NnPfnbUh/Tve9/7YmaQdIB/Qh6Ux9tpn/zkJ8e5MMNKHPK+z33uEy8lwsDmJUK80ZaltqTJa8fS1F/+8pexzLXXcATifOYzn4kXHQF5YXi++MUvjnKy3mXwJ92f/vQnO+KII6INqP+LXvSiaBfSZDriCSGEmGa4oBdCCLEJcYOicCOmcMOvcKOtcAOs8I41lkL4eYe/G3MlmcaNpuKggw4qvINeuMFRuHFXuDE1YZqEMNK70Vi48RJp999//8KN1vF0bHPfDYDi5S9/edSJMnJLWjcEwuGXjuOMx7nMnz+/cEOi+NKXvhR1A8rPemQ5ue+GcHHAAQcUbtCM58H+ROVRDi793JCNNqNtMj/c4sWLCzdgIp+sG+2b+bFPO7gRNu6HO/roo4urr766GBsbG8+zXGdg/89//nPhxmzk4QZopCUv6s4+Wze+iic84QmFG7iRB/mR9stf/vL4OXCOH/7whyMMiAe95d18883FcccdF3lS96w35zV79uw4T46pDy7bb4cddii++93vxjXlnMir7JKvfOUrkYa0c+fOLT7+8Y9HeNanlzyXs88+O653lvuyl71svO16yxBCCDF90PJUIYTYxHhHPxxLMpn98Q72+GyMd7JXmWkC77hHuBsFMUO20047xTFxvaMe8cljorQJeVAWZJqcYYOsE/6UwzN9+ZIa4pO+N2/ildMAefIWVGagTjrppHhpC2TaTANsie+GjX3wgx+MGTk3tsKP+JxTxuM406U/cXke0g2w8fPPtmKfMNoLl2mTcn1Jz0zqCSecELNkPD+IX9Y1XULevCiHb1Iy05nnxrJRZgFzH8ezmoRnHLbUp3yc50NdspxyecRhtvW///u/7YUvfGFcF/KmjlwbZmvz+lC3TMMS249+9KN2zDHHjPv3ng/xcMzqUi/INmRLOsJ7IRx/2q18P+JyvxxPCCHE9KL2Nqe7L4QQYhNARxoDAUOAJYZ01jFwWIrJEtItt9wy4mWHHuOFLWlYnphvwiQ9z7oddthhYYBifJSNsl523333SI+7613vGsYE6crxs4OPEYGRyQteWK7IM3wYKvPmzYsljmmwZHkYCfgBW4wn/KnjQx/60IjLceafL9pJA5blpccff3y0AcssWdJKOOfJeVFn2giDjufznvjEJ9pb3/pWe+YznxnLZjHOMCIpg3pSx4c85CH2vOc9zx74wAdGO3E+vMSGc+Z8yI9jDECWm77+9a+PZbGUR9nklW4iaPf73//+sWSY8yTfvJYYUiwBvve97x3lc4793WcSub60K+WwrJU8eI6SOk9WFhDGEliWDvNpkmwj2pByMWBpH67zYx/7WPvwhz8cdcyyiZfkdWCLIy1tQT6k51ucBxxwQIRN1AYcE0Z82pL0tB3LZUnHPcM9kddCCCHE9ELPNAohxCakLIIxIDC60tgjjG36paGVHXTi40dnvFeUc1yOX4awnPlhm/kRn7IS/MqOMIw/yuW5S9LlZxwwYNmSH+62226LZzR5q+fZZ58d6fHHWGPWEaOF9PjluXJMHrlPWJZ97bXX2lVXXRX1wp9wjC2MMYyUjEde5IHxRLyMz3HGIW0ZjC1mQ4mHUYqjLcgHMm25bcoQjzAMIrbkf/PNN0eepCM/jGsMKsKIk9eYNBjA1IHnLmlHZuuyDtBbX/JMyIdjtjzjifG4YsWKOMZQwwjFUUa5PbOelJH5ZRgQlzxIxzXnemV75n1VhrBsB8Ly/MiPsLy38F+TMSyEEGLqIaNRCCE2MdnBptNN5xrDAUMF6HATVu7c0+HODjp+pCecuISlI4w4vR10/PFjNo4OPOnwo0ziJ/gRBlm37PQTli7LK0M80vJGUl6Gwmcz8MMIwdAkr3I6tpSR9SAt8YHy2CeMdFlvHNBe+EO2AXngn+eDX9a13HaQdeE4Hce4pLzfS28bZf5Z5/I1YD/LzromHJfDCcv0ZTItW8oiHudbLj/rlPlxnG1EvfL+yrJwkPvkWa4f8TJd1ifjQdYj792sC2Ra8sP4hEwnhBBiejDxsKkQQog7heyk07Gmk53GANABxzDKDnbGBfx60wHHGS/jTkYaAFkmHf1esmzKoD4s+UwDAD/CyaNcR8jljyx7ZaklM2ocMwvGUsxMg8tyMy+OcZx7znDhT33ZZwaNMOpDPOIQDtSNcnIZJOHkS1zCyuUSL8+BcNKwn28jJT7+sLq2pE6kA9JST+JTL4xktvhRH8rPPNnPepOeOEDazC/De8n4mXfWvexPeXl+7Gc4+9Q5Sf+EferIlrpQB+KT52RkftwfxKcMoA1zaTLpyS+vtxBCiOmDjEYhhNiE0Jmmk0+nmw41nfzs7GcnG8oGTxop2ZlnSx7ZUWcfP/KYjOzkky/l4EiX5QFlpCM+BgHhlJNxs6yMR5m4jMc+z1yypSxgqSlxsyz2y4ZEng/x81xJn+eUZWWdgWPCMShJxzFpM5y41IdyyvXlOOMRzn4uI6Us0sHqDB3iYmSRPpeBAmk4xzxP/NknXyAdx9QHCM/93rS9ZN1x7FNP8s2y8cNlfkBehOM433LeGT8d+bHNeOyzLedXJs8p8wf8SE+bkI701DeviRBCiOmDjEYhhNjEZEedTjbb7JizzeOyoZGufJyUO/W9YUn6p6GUcSaKzzF5Ei/JOPhjCKTxgT/7aTTk7FfWnS1pKDfjAP4ZlvUnHWVynOUB++XjiSBdnlfmmftZTuZBXfIYl3XN+Lm/OkOHeNk+mQ/xcXmMIx6uXIfclvfZluvVSzl+bxnkzTbjAfFyS3ieY24T4hMny8282GYeZTJ/yDTldOkPHLNfvo+EEEJMH26vBYQQQtzplDvg5f1ksvDc700zUR5l1jU+Rl7GyRlAwC9dGcJzxg+XhiV+vLgmjYz0L9ObV/m4N6zM6tKtDWtbTi/ELcefyMBaE715rA3l+Ouadk305rc29ZsoTh6vKa0QQoipjYxGIYQQa6Q8o4hRxGwShmH69xp/OavEW0F5iyqwNJElrrxJFEgjY0IIIYSY+shoFEIIsdaUZ5PKs48YgPmMHbOJPOOH4XjdddfZv/71r3EDk28j5rORQgghhJgeyGgUQgixRvL5t1yamm8JxUjk2UXeisp3BnkzKt9o5DuO55xzjr3zne+Mz27krOLBBx8c+bCfyzhlQAohhBBTG32nUQghxBrJmUKMPT5af+aZZ8ayU/wxGBctWhRu2bJl8R3FG264wW688cZwGJwYlnyw/r3vfa+94AUvGDdCyS/zFUIIIcTUREajEEKItYJZRVTGVVddZU9+8pPjg/35TcMEIxJ4npF9HMtRMSQPOuggO/30022PPfaINMxaZrz1eXmMEEIIIe4cpKWFEEKskTTsmCHku3vbbbddvOQmZwjTcCSceMQnjG8ebrXVVnb00UfbKaecYrvuuqstX748wolLOhmMQgghxNRGM41CCCHWSKoKtrzk5kc/+pF9+9vftltvvTVmINNIxGEEbrHFFvFRf2YV99tvv3AYj/kRfOKRFy6XqgohhBBiaiKjUQghxBpJVYGxh+GXL8EBwtJohDQcMy5LWOfOnRvLUYnb398fzzhiLOJyFlMIIYQQUxMZjUIIIdYIhl15SWn6Yez1qhGOMRAxGnmeEdKoxIjEaMw0bPHHCSGEEGJqIqNRCCHEGsHYw2BM445tGnypRnoNv7J6KcfF0EwjEnrTCSGEEGJqIaNRCCGEEEIIIcSk6CESIYQQQgghhBCTIqNRCCGEEEIIIcSkyGgUQgghhBBCCDEpMhqFEEIIIYQQQkyKjEYhhBBCCCGEEJMio1EIIYQQQgghxKTIaBRCCCGEEEIIMSkyGoUQQgghhBBCTIqMRiGEEEIIIYQQkyKjUQghhBBCCCHEpMhoFEIIIYQQQggxKTIahRBCCCGEEEJMioxGIYQQQgghhBCTIqNRCCGEEEIIIcSkyGgUQgghhBBCCDEpMhqFEEIIIYQQQkyKjEYhhBBCCCGEEJMio1EIIYQQQgghxKTIaBRCCCGEEEIIMSkyGoUQQgghhBBCTIqMRiGEEEIIIYQQkyKjUQghhBBCCCHEpMhoFEIIIYQQQggxKTIahRBCCCGEEEJMioxGIYQQQgghhBCTIqNRCCGEEEIIIcSkyGgUQgghhBBCCDEpMhqFEEIIIYQQQkyKjEYhhBBCCCGEEJMio1EIIYQQQgghxKTIaBRCCCGEEEIIMSkyGoUQQgghhBBCTIqMRiGEEEIIIYQQkyKjUQghhBBCCCHEpMhoFEIIIYQQQggxKTIahRBCCCGEEEJMioxGIYQQQgghhBCTIqNRCCGEEEIIIcSkyGgUQgghhBBCCDEpMhqFEEIIIYQQQkyKjEYhhBBCCCGEEJMio1EIIYQQQgghxKTIaBRCCCGEEEIIMSkyGoUQQgghhBBCTIqMRiGEEEIIIYQQkyKjUQghhBBCCCHEpMhoFEIIIYQQQggxKTIahRBCCCGEEEJMioxGIYQQQgghhBCTIqNRCCGEEEIIIcSkyGgUQgghhBBCCDEpMhqFEGuk6DohNhm6AYUQ601qsR5BMolcmSBm0O5uhVh/8u6ayE1tKoXT3RdCzCDyh13pboPyr32VAAdtiF+l8GiF7xK5Ys0IqsYIUx2v1JruUfTmsRo6ua1arzuyD1QlR77uSF7rug8quxOW/uua19rs4/DgPqu0OvsU3u5WoOqVKSptqxCRG7XqAeMJVw9ZrUU0IcQ0BVkFHV2GAPF9dkOAuIt9dzXfRXRwDL7f8E3b/9U9da3dkRQN90fM9LureVy8CclkG2sfppLMh/XJa133YSqVnf7leMRJiDt+D3lg7sK4f5hcpPItnq68WnFc8fQV/8fNmCU5pd2pgIxGIWYo+cNeReaUf+29wqgjt5AKHg2jsSMOW77fcnFWuOt3r+i8e7yiHsFrDUVL2Ih1oeo3DAYht1yN25EeW93vxyo3ahF+TSL5vVqnl1dztV1xpdt7b08AqdYimhBiGtKRCp3fON3y7KhXsA7HXXiF0djyQwzBTqLC5QomY2F9nrqCtegyZ8zjjXnwkPsTl7490cXmS94yfmusajQ65fsjw4oYAV3Zv2KfHlbnqOr5cF9G7PDJzVRBRqMQM5T8Ya8ic8q/9lIA3iHs3G9lOsSYq82iae1KijQSdV2MhuG6CVdDeeBsw7LmsjceKntj14OcKaHpe/V2O4xIJgmafrMy980swJg7uoT9vu2M1G6qdhFCTE0Y+uzoMOSDm3wuWFbKiU7nHoOSWUUXMoXHr7mP+6MXK00XOpWqteusvHFD0mWRd547duedJm42rqxdPSp7snrgiwvd4zvRj8LPo0ZYLINxfRX+1dBVTb+XmK1mpUw3ViQscHhFbu442FSnPgkyGoWYoeQPexWZU/61lwI63kgwV4wcuweyrsYOgeFQooW1XOAhEWOiMbVqas7yfiSabB84Lu/DJGkmK2ODlV3eh1KadS17tfUAjifbh1KaTVl2ef8Ol13eB47L+zBxGjpm9NnozKF4mRGgX8dIf9XLG/H+X8OjMtKLIl7HCXAhxEwFMQLdte38c3PPXc33OotW8WfYiaOGS4/+tus2oruwQZzhqt11qGxwyKIYR/X9jswjJ7bQuw8ZByaL193f6LK2vA+lNOta9mrrARxPtg+lNJuy7PL+Otejs4kscAn+GZb4PdNyBTXq/n1+WG96FO414rl/4VYkc45kUw+j0ZUd9OazCZHRKMQMJX/Yq8ibXqHWBWXama/hby32cDDETsMTdiSZC73OXE6Vnvu44nQHq9sXYl3p3l9ttwgZ2UdXM9NIhy07be1axZWwd/l8X0ajEGKccf3DDrON/O3M9rBWobMAtWX9RcvqRduGK1Wrt91wbLowQaa4rCnceIzkpOH5af7FbCQdeoRRJ0xs5nCPdO+TgHvHN9wm3D9xm7jO4h5qc095P6vCaCe6jBHPcG1rxj0po1EIcSeTP+xV5E351367AB4Y6xiNDd/yiBhRZjebVlk+5objqEsyF3i53KJCfHrua8kUEnxiGsAtye3FNh4g6t683EfcnDiebaz2WdHf787Nxf5Bq1RdGRNvTZCd7kkhNgOQH53lpk168/7D5+fPvE7hPoNN13hjTSvGlnk8NwpbzAN5PF6sNf6gI87NTTJhF9lBR18yRMToQncfuCdiZBNvlq12A7l3Wtw8rqsGZ/v9M2DNipuH3VuNGysfBeosTw3PKXWPyWgUYoaSP+xV5E2vYOuycqaRUdhq9M9bLrz6imGrXnedXfe5L9rIZZfbWH/bhZsLPDckZ9UQhh0BJ8TGgKVgLE1t0Dmjp+bHDM7Ods9ZlX5b1mrYoBuNDe/wzbrLXrb1Cc+11tbbWaUS8wFxX/N0yDi92q4UJISYefCTx1XbGI2u5dzRFS+88962hv8btlmLVtglX/ya1S45z/obrvf651i7VbUxlsT31axRjLqocM3oijGWxbtgYsbIqqPd3MXmiysRBho6ewG9olbV7zfvI7W9j1TjedixMeuzmhVDc+ym2qAd9IxnmN31rrbUw2q1oc4qGb9HO8YmObnS49aaYjpKRqMQM5T8Ya8ic8q/9lLASqPRhZoLQKI1Ky7kiqU2+rvf2T/f9QGbe9ttNjy7asONlg3VBqw14op0LaRHFCMpI9aRGJT1G6xVLaxR7Zh+GJFjrohnjRU25Pfhcu/ybW11qw+Pme2wve3ysVOtus/dZDQKIeLnjlbjZ85ziDFJiNEYAW2r1FrWKlZYcf5/7Levf5vtdvMV1mqMeke+31resefJs2ZzzKr96MdGPOMfb3HurjksYrWNlJvoapm4FYpYftp5/tW3bjT2uWHIoMVQvc9GRxp2W63Pdj7hSbbbs55ly+ds5ffRgM3yHOrMQqbRyJpV8ouMpw4yGoWYoeQPexWZU/619wYUnZlGFCLRxqqMjC2x4V/8yi48+eM2d/kKW3D0EdaYN9+NyT6PwxKetZRokjJiPWAmG8OvcKXLUh06fLzBsD7WsnqzYXxnY/DCy+y2P59tra0W2A4f/pjZvvtbbW2NRphiSlkIccfhp459h+MnHi+38Z14Jpr9Vsv75mNW1EetcvbF9pfXvc0WjtxkW9/n7ja6007W6pvt4UPWbnrkyqg7HtrgrameSVEPyYJc6rwdU2zWdGcaO7jWYVSC24SVWG44Vlru2oXV63Vr/va3tuLKK2zsyAfYXd74Jls+uIXxAqbZrt/64llZv99qzGTH8ppSvlMDGY1CzFDyh72K0Cn/2m8X0PSNC6p4PaUf9bWsViyzkV+eZRd/8BQbvfFWO+Sz/2O2/Y5uUXr8uXPcxlwHkSZJI9YV1FOoKL8veRsOD36wjqfhijWesR02O+PX9rePfdKGtp5ve73vvVbZa6+YaeTJRhmNQmy+8HPHPgTeVBmrF1yM1AmgQ191o7EYtspf/uVG47tc7S21e77xFdZ330NczszyyAOdZ6cxGqueATOLfKC47a5wQVSsw8CpmMH4PTCuW3yHW8JVlbW5Z+hPoa/8RvJb7rYPvs8W//xH1nzwEbbXm95sK+Zs5dF5a69rOW5W7jO6YfEqnKl3d8loFGKGkj/sVYRO+ddeCqBzjUSLB695c5wLsKLe8mM3Gs/8rV300dPstltutSNO/5y1t1lorfqQ1esu2dZBoq3NUlYhVoH7KwxHvy9bfuCbZX7bDbYK7wSOuh25wuxnv7E/vOsDNmeLubbvBz9klb3vKqNRCBHQD+cnTl8co5HnoyuNttVZOlgbdZEwYnU3Gv/5lg/bWGvE7vaWV1j9vgfbrbW51u/SY1ajsFqNJYdNz6vtPv4vjMWOhJlYqIjNh64Cydug29HhXsMzNswg8qKlVtuuft+7rfGzH1v/wx5qO73qv2x09haxMgaDMeLWGrG8lRcS1uMem1pgyAohNntWfrsq6ci+tvfX2/HcR3x7o79hzcHCltXHXCjybauO66jmjku/XhdrguTk1sHxZsN4bqjScGXqN2RqLJ77qBM2atXqiM225Tanvcy9uS89OKOlIk96NfBU08hCiA0KImP8Z96VDZV61fWaa6XCjUHXeywJrDRHbJZ37GtjHqNVtz7vsvcVVRc7TPvUw1Cs2YDnN+BypduZn0BmyW1uDv3k22rXpb6KKWrcmN9fI1a0vQ9VGbNqrW3D7ZaNelSr9Fuf34eRLHXV+HJnPHoV2KZHRqMQM5RQjp3dlaRnTwCH48rVdSRLAIu6H3VHVKus7WkudeU5aPX2kM2pzHJB52G47vON7a7rPOvY8WfL8bifnNw6Odai+jZuUIxEszmuR+t+aNV+v6+2MJaKteOjyB5Y4dtrHUWLEg5F3NW747vkhRNCzFjGf+/+hzEmqzVdPBQhO0IueOe8rzLk0oVPH9St0b/UxgZvc3HScKOy32a7IdmPnEAMYVdWMBT9nwuhXPjQkURleSW3eTqeceVe8BuDm8NvmEpRdzfox/3Wrg1ae2hWrOCqt1pWr/EW3o6R2fCbMT63wYrnPo/AS3O879QXPTIsy7iLpwzUSgghOooUAdXtnPMZ4860jStK17o1nnlsuyjzTnqdV4MRP92qu6UdIe4oHTXVMQZdqdIBjJuNe7CjtFmEGt8P9f/Q3axCN3UnKR5CiBkNv/dxXMExr9jRcwlGIKOk3j2vNqxZG/M+v0dghrHNupsijMMQNSk5Ov/HnRBJ537gruFlgow04Flz0w/neszvKz7bUi3oXWEgckdGEtdfDHzyGRi0FzdcR+91Y0wZZDQKIdYZlKgQdx49N1xXrwohxIaBjjoGZAqXiQRM10yUtSg2U2Q0CiHWn8l0qxB3Gt6Dq3TGZ4UQYv3pzjzGLA+uI1U6f7vrFPyAY8kbsTkio1EIsX70aM3JFKmUq1hfeu+d8gD/KoP9GvkXQtxB4u3hsYzw9lqr4+OChrc5xxrXqbVsUIg7AxmNQoj1Ay3ao1tXjs0KsQGgfxY7nZstbMO8wUo3WidEnTghxPriAgWjcdxg5LU3vZ1k5EzZCbF5IaNRCLH+oFW7OjZVbaf/7h14XOkzsOVPwrJfdmUm8tvUTFZXwK/t57oh6lwuo9Vqje+TP5TDNxvidEs3Whe8O63S+VvZ3NpFCLGBQcZ0u8UhTjoypSN+O3ImmETWIJtTbk8kp/FLWS7EdERGoxBig4HKLUIp+l6lM/8TCrSrfNekTFG4wMfZpxJZ59564Y9fNd6ZvTLemiBennPuN5vNOP/0yzyzTfCDqdY2m4QJmiDutrVrfiGEmAAXLOWlqSFP2nwFIYg3XoYfcVzidGV3OmRzrVaLLQ6/soyHlOsyHsV0REajEGKd4YsboTed3n56GDVdw6ZjQBK1o0TLDsrKFD8UatlvqtBoNMKNjY3FNhU+23TUOc9rdeS55XniSE9ng/PPsvDLNsn4+G3ORMutuYmFEGI9Keue1F98foMQ/4v8jv9otQ6p05DP5RUi6Q/4lcNS1wkxnZDRKIRYT1zhxVeTOy5GYd25aePblge7gmy3XFFiAOGat3OFx2HbbI7FfqXS+dAt28x3Krj+/rr19dXC1WqMILeiztQ1z+GO1Jk8Go3RaKt6vRqO/EdHh91QHYlwXMYtH89s59Cs3W9WlVF3SwixIYnVCuOSBfmTMj3BAKy57HVt1+oYiMjt1F/og7L+wg/dgFxnH92xUrYxKMig4eYgx2ey27y4vSYWQoi1IYdZnVU68K5MrekKs+0GYK1q1XrNKq5Jc9S17IAR176+vjjOGbupBktHqVd5tDjrS/2ZJczwNVE+/xxtXr58uV199dW2dOnSiMOMZr1ej3xpG8rPNOXR6hnPKqfJ/dJVWb67mbSAEOJOIozGcb3GfmeGsYPLX+QPsgcVh57zOLlCBFIvsE1dRlhveFnPcSzEdEFGoxDiDoMgSdXHIyFLly2166+/zq5yQ+iaa66x6667zq699trbOQyl66+/3kZHRztpu4p0qkHHgCWjnMf5559v//jHP+w///mPLVu2LDoA2RHArS2kwZH3GWecYYcddpi94x3vCKMwDcbf/va39otf/CL8Mu9yB2SqtteGpzN/Hd207o12O+WlvpcQYj2pjotSjEXfxGxh0lmgmj5s241m6K6RkZGQ42V5zHEai8juRYsW2Q033DA+KJgyXMxEyvfNBBAcK7RgorhTW5HpzhVCrCcu3Iqq/+24zuvKq7Z8xYi99+QP2pEPfbgde+yj7eiHPcIe/tCj7SEPeWi4h7r/wx/+iNg+4hHH2FOecoL19w96fogjZt6YTWOk1hVz18VyoNI+4c0mRtrKOGVHnHQZl7yXLx+2W29dNF7WRPHLx6QbGRmzX/7y1/bsZz83zodzOPLIo+yYYx5lT33q0+yTnzzVjV6WH61MjyNto4Gxt7Je1IVy2RI3w/v6BqJes2bNCf9qtW633bbYXvnKk+xZz3qOnXPOueGf7bLC25hw/MrlZPk333yrLVmCQbuybFyWWz4mPX5ll355PXBZNi79c5vxM/90xM393jDSlvPP41Vd4mm7/7qHoVojRqSlHD/q7AohxDpTadf8r8sR/19UQ9CFrGG0quHCrGW1eJ6/5uE/++lPXAcca//3f1/1CB05htxmm7ISuTw21rTnPOd59oQnPMkuuuiS8XC2hBGPY/JIeZn54Z95ZbyMk2lS9qY/eV5//Y2x5TjDyvmU5TuOMI7Z5v6aZHqmw/XmX46LI6+Mn/VbunR5hPXmk35ZRuZFHoSxX45fTpf7vWkzPPeJx37mWQ4ru2yDPJ6ozGaz6YmpcxcGD1bxAOrjLh6zYB8miQMERXDJb4rAGQghxPozLuA61Oo123e/fe3IhxxpD3vYw9xAfLg96EEPclla2KWXXmoHHnigHXXUURF29NFH2+GHHx5hCF9GZcujtuzncszcB0ZqmXnLsPTPdOnH7CAQH7/vfOc79qlPfSr2WQJKmeX4OZvHMWnx++xnP+uG27PccDvH7n//+9ub3vSmcMcee2zEP++88yJNzg6SjnwJo9xQKhNAGSw9TbIe6WbNmmWPfvSj7bjjjrOddtop8sv6fvSjH7WPf/zj4+ePY7aWLSPfb3jDG+xLX/rSeBqgXtSvnCbbh3j4Z/7UO8Mg05Tz4njFihVRXuab6Qgr1xeX+bFfhuuKWztWTbuSqaVYhRDTD4Y/gwnFiRsP/jfEl8uru+y9d8wg/uhHPwpdknIOynL0r3/9q/3qV78KWY8cxx95Cci9lIvkwXHqpdQf5TwJA8KIix9bZG/m9cc//tGe+9znRt3Ksp40bDNN+pGG+uAP6Q/Ey3JyNVDGI0653MwzXeqDhPQck+5lL3uZ/fSnP410eU7ER58AK3gyH/IdHh4eP876p64pl1GuJ2F5Hvjjsqwk65PhmX/5vCDPDbIe6Yi7fpBfJ8+VTHTjTS3dJqNRCLFBGRgYsKc+9alh2LznPe+xd77zneEOPvjgMKxe/OIX28knnxzuve99r731rW8N4Y0ARrGiIFJYQwp2FAn7hLPMB0WXz0JmuozPPuHspzJGGZx++ul2wQUXRFmZnjiZDkdcFEF/f79dddVV9v/+3/+L8k855RT7yEc+EvVH6XFu3/jGN+LcOGfSkC/7wLmiwMiHsskDR7xUUJDpkvL+W97yFvvQhz5kO+ywQ+SDw0jDIGSZLO1Efan30NBQbDm/H/7wh3bbbbdFOanwMi31okzahfPnmHS5zCqXUBFGOuqMMiceeeCXnR4MW+LxTCbh5EkYaciL+LQB9RgcHIz6kj6dEEJMB1Z23Tuya48997T73e9+9utf/9rOPvvsCEkZjw5gC3/4wx9CPh500EE2f/78kLVp2CCHkZvIR2Ql8fBDhiI/cchU5CbhKUNT/rIlryyXvDBQGeAkHvnmIxSEsU8+pCNf6oJDvqdcT7lM/NRVuNQHbDNv8gL8iItbsmRJ1Jt9dErWN+vMYynf/e5347EV0pNn5os+YX/27NnjeVD3LDvjUWfyZb9sJHJMvSmXOORBesqhvlwX2pgwzj/rSDoc8YnLlnyzzqRln7zyPKkLDPR39H0Znn6dqchoFEJsUFK4I2hT4KfwRhmwRSAjuIFj4rMFBPvNN99sv/nNb+x73/teKF2eHcEoAhQL+//85z/tb3/7my1evHhcwFMOyoA8eO7w73//ewh4DChGYP/0pz/Zrbfean/5y18iLQ6FSbqsA/GpG8dXXnllHN/jHvewu971ruPGKvHZUo+tttoqyscP969//csuv/zyUGKkpUPx85//3H7/+99HftQPxUQZaYxNBOEXX3xxnAdpgHNNg5C6EMY5sOUYhfyzn/0s9nnmMtuA2dAsly3nRv0YBf/+978fo755rnPnzo0wIO6NN95oF110UXQGOE/Ojecsf/zjH0dbAp0ZyuTcKf/MM8+M60c6yuJcsuMhhBDTDWR7bnlzap/L7Xvf+94hI3kmPfUY4chR9tFjZ511Vuw//vGPDzmZcpAt8f785z+HzPzJT34Sg5TIaOQv+TD4SRr8MG4o64orrojykL/IWeQxcpny0YnouVtuuSX2kf3IZOpB+Lx580LnEB+5nnIcHYv8p1z0GvXKOlB39AdGHnkg89E51AF9SjgQdskll4TOQW+T97nnnhtGGudKXujxz33uc1EG7wcgPfE5h+wvEI9z5RzQnczkUhbnQ71pg9RhONrmsssuC32XbYTeJA06CJ3J+dAn4JwoA/1POAY271XIfAknT+IQH390JPqbduIdA1lX6gmUmW0QdP1nLH6yQghRFG0cfxqx2+Tv6LJixRk/LM495gHFb++7T1FceVVRjLU8RpdIs6pzAR3OBWvhQjf23aAonvzkJxcLFy4sXJkULqALF9CFC9yI54os9ol72mmnFYceemix/fbbF1tvvXWx4447FocddljhQjvikpb4H/7wh4vddtut+OAHP1gsW7Ys0pIncVwBF/e6172KV77ylYUrheItb3lLsffeexeurAs3ioo99tij2GuvvYr999+/cKXmp90erzP75MOxK7Wo8+GHH164sohyCcvw3HKe7MPznve8OFdX1sVxxx0XZZEHzo3P4jOf+UzUl7yAMr/97W8XrkiL173udeFPnrTZIx/5yOIBD3hA4co38n/HO95R7LLLLnEe8+fPL3bffffCjdniQQ96UPG73/2uePrTn15sueWWkZcbs1E24Q9/+MOjHSgLx3kdeeSRxZ577hltTNx99923eNe73hXtm9fHOy3Fxz/+8cjHOwqFK/w4B86F8jlH8jv//POLo446KuLtuuuuUQeu393vfvfita99beEdlMgv7wfaeK1odV3br7vfdX6HxG3GcRufRrMofvit4m8POKD49yPuV4z9+9xi2O/ciEXEVnfLrjuPHYfh1fUXQsw8+HnH750dfvwuL9r4+HHTj1seEHIIGfGX3xXnPOK+xfkPuV/R+NUvIlG7PRppirbLdU+GVHFtFfk1XQeOjYwWbnyEDnLjsXDDJWQhco4tef/+978PGXvwwQcXS5YsCX8gjhuTxTHHHBPyEnmKDN5vv/2Kk08+OeRu6kPikpcbfqEfDjzwwGKbbbYJPZYy9vvf/37xhS98IcoZGhoqZs+eHfmi89h+9rOfjXzQO4sWLSo+9KEPFYccckix8847R7nkd8973rN4/etfH/VE/gN1cEMv4r31rW8tzjnnnNAbnPOcOXOKJzzhCZEvadAdd7vb3SIuumHbbbcNHfu4xz0u9AP67Pjjjy8WLFhQzJo1q9huu+1CN9E+J5544nj74NzYi7ZB15EP7YNuQZ+6UTyun9gS/w1veEPxmMc8pnCDtviv//qvyNcN5GgbNzYjLm2KjkSnpk6mb0Gd3//+90fbkFe2N9eWut/lLneJenBOO+2007hOu+mmm7rXyO8VnLeX9yLifmHLfRL3nTtac7Tt99/ipcWNb3xNcdFh+xWXv/GVRbH8lmIFKbv3o/cmIkmm437t5Dx10EyjEGKjwGgiI6o5a+cKMEZOOQZG8XLGjRk74n/605+2l770pRHGsk+eQXzVq14VM1YveclLYlSWeKR70pOeFLNin/zkJ2OE0wV45MWM1/ve974YUX3KU54SM4E8Q+kKMUYH73vf+9rHPvYx+8AHPhDxmOlzJRGO9NSTrSsQc6PM3KiKkVZGJjkP8sj4pMUvzwM/RnUZwXzmM58ZS0Vf9KIXxejqm9/85qjbc57zHHNDd3zkk3RAvumA82RGkRFe9mkTnqnkeRXq5gavueEc5+WKMmZCH/vYx8Y50+48M0o5b3vb26JsV/JR1r///e+oA6O8rhRjVJhlt65AY6nwf//3f8d5QC6HYgT8f//3f2O5rHcwzDsv8aZXls1Sx2c84xkxInvCCSeMz1wS15VzXFvSMOJMO+X5JbQfTgghpi4VFqa6fiisVu8sfXSjKFahMPvHTBekTkBuupESb0199atfPb6CAz114YUX2tOf/vTQZzzKwUwjj2u4wRWy9fOf/3zkhZwHZCd6EHlO3sj4//u//7OXv/zl5kaPbbHFFuYGp73whS+0fffdN+Lw3D067t3vfrc9+MEPDj9kMY9Z8Mw7K0fQqV/5ylfCjxU8bjzZ85///NA16EHkNfVlBQuzli94wQui7tSZR0s4B3TKaaedFnrGDazQdayq4V0AvMsAPccKI2b80BOPeMQjYlbPjbyoH2WSH/FoU2Y93bCLtuG9AbQFefJuBHQV+pS2pk1Sd/P8JteA/CiXpcA8HvPGN74xdBT5MuP6vOc9L3Qz5dG3cEM3+gfoqs985jPj7Y1O43zQZU972tPsq1/9aqTjURU3IKMdmbVFL7e9nTYr/EYSQgiGtdzx547NNE4Eo3iMSjL6x2gfI3rgAj9GAIERQWYHGdljRJNRVmamcMwcMhrKDF55to+RXEYNH/3oRxeulMIxu+hKNGYiGQmkLMphZNCFfOEGU/hlHSiHcBx+eUy5HJ955pkxo0f5z372s4tvfOMbhRtREUYdcosjrRtuhSuzOBdXbuMzd8SjvtSNEWHOl3MnjSuwqBsjvVln2uw+97lPjOq6wo54lPGjH/0o4jJqm+UnHJ966qmFK+CYXc00WTe23oGJ0WXvdIyP2HKuF1988fjosyvI8CdvN6wL7zyEvyvNiJvnRBxX7jGi/MQnPnHcL/OkHTmfLJstDv+1ojviqplGIcS6wM87fu/s8OO/wzONrhNS/oRc6qxIcaMm5O2b3/zmkNnIN2QfM2tuIIU+Y5UK/ikfmQ1DBjMDiIxFRuL/73//u7jvfe8bMp8ZNfLB/9Of/nThhk9x9NFHj+dF3XG5zxYd97CHPSxmIa+77rrwJ38c+6RlZo/ZNTf+In/CKOOiiy6KVS3MwJ1++unj9WUGFVOB2UvOh3iE4UjHDOGjHvWo0A+sRslzJBz9xjHnF83mfm6MxUoZVrAQlv7Uw4210PHUn3MmPfWmnsRhthP9edJJJ0Xa9HdjOXQuegi9Vj4vHMf0C2hzNwCjPpn+ggsuiPNmRpbZReKjmw844IDihBNOiHj0ObItCc/VSbnVTKMQQtxJ5Gghzy8wq8YsGLNowCgms2ZHHHFEPD/CcxLMILrsinA3zGJ0lWcNmDVkhuvLX/6yPfShD43RxBz1TUc5uMnIWT8grSukKPuLX/xizNx9/etfj5FOZtQ+8YlPxOgmcbIcYDaVOjMqy6ikK50YkSScc2C0lWcwGPnEv3fmbX3J8yufa9Ypz8sVXoya3v3ud49ZxiybrXdUYoSXZ0mYISV9hpMPs65cm4RzduVrCxYsiBlJRn+ZxSRNpiU8Z5s5zvyEEGK6g1zj7d/MsDG7xuwXINd5no9ZMzdIYhVHymRm3HjWDr1y/PHHh3/qGlZmsFqEZ/9Iiz8zgsx4ITuf9axn2fbbbx9peh15p8wvb0mX8pfn8tCxzFBSFv6USxjynRUpzLIx8+kGUviTB/GYWXPDK2ZX0Wnkjz/nih+raJgdJD4Q7kZZ5EEcdA9+q4PnCznve97zntE2SdaBl9C5MRfnwTOY6BYgf6DteNs45XBeQPnM9nJ9mPnkjeSpk3DUnWvECiFW31AWM4nMjqLPmGElHnqdcyCcWVHaJ1bijK18ad/mgIxGIcQmA+GOUGfLw+s8ZI+w52UvvGENZfntb387loZigKCUUzGjUFFeLANF6LO857WvfW0Ie944ypKdzL/XTQYKAUcdUBQoF+JjnGIk8lA+BiOfDmHJEUoMY2nZsmVRHwxajCiW+mCYoWRQLORJOIqGJTfUO5ed4rchoJ7UubzPljIoj3NiadFNN90USpGlPjhepkD7/uAHPxh/1TnLfdknHfXGcT7z58+P/MmT/Fjyuuuuu8ZSIwxNlgyzRIiXHNBhYHkT+XHtNuS5CiHEpgYZiEHIYwMYOwwiInPx5+UpQFjqKrboDh63QD5jnKFT2DLgia4jD2QlxiV6A32H0cPy1jT0CGfbu48DtmUdgAxGFyHnyYflm/hDPjJAWeSPjEencQzUmX2WzjIIio7LNFkGxhq6gOWgDKryRlmMSAxN9ADtkYbaRJAP54GxjF7EMESP459pqT/GGstx0U88MpHQtjxG8pCHPCTikRd1zPIwMHmBDefBdWFpKv2Lb37zm7FPXWlnyifttttuG0t6efkOS3BZlpr9DupDvmwpi3I2J2Q0CiE2GamsMCZQjAh/nkngmQsMQLY844Fj1I9n4xjxQ5EhsDF+UHKMwCK8MVaIy2hs5o/ChN7tRKAMUBrkj1IgLnmgtDD+eMU6z/JhzPJcCW/Gw3gkHXXHWKR+1IW6ptEJnCfHKD4UKcqRdKurz/pAeVlmbqkP50Qbc16MqPLMC23FqPMrXvGKeDYSw5G2owPAuZCe86KtefaDfHCpODEGyfc1r3lNPCfKaDXPoqK8TzrpJPvlL38Z5Wc9hBBippAGFbNbGDl80olj9BDPCvJdxkMPPTT0G3GRgxgoOFbHoOOQnTzHjx7hmXIMSGQtegIZy0wjhtree+9t22233e10Bvvl417ZT31Ig17DYEV+E4ZMJ10O5BGOLmUQkPJIRzzisCWMc8z06ABApx1yyCFhgD3hCU+IWVQGVjG2eE4QY4tzpzzynAzyQ3dSHoY4ZZB3tjGgg9FL5JX1T2gvjD3CySsd+fDMIzOJPGNKm/MOAHQf7Y1Dn3PeGLlAuYTzLWRmInlmk0+GoSvJgzYjX9qstZpzmonIaBRCbDJSoeHSsGGJDAqIUVdGA7/1rW/FslCWpGDUoFBQBsTNUUxGNtnC1772tVWUCZSPEfarI5Uodcq4qbQ4RikxEoqRxBLP/JQHioZ4qdBY5kO5+FFX8qO+GFrkwzF1RvFsKCgvy8x9ykIZUxZbFC8zg9nGdHRoV9qN706iQHnZDtcjrwt15Pw4hsyfMPKlTXhhwKc+9am4TnSUWNJL5wGFS1w6SrSDEELMFBhUQx8wYHbqqaeGgcKSRmYMGWREX6FTkKGpT5DB6A7kL7oNHYdLGYzhyAoa5Cxyl7Ss/EB/pExP2MelvE+XMpq0abAxk0hdcByTLrfE5VwwGBmM5Rh5Tzhym3w4zvw5RvbjqCNGFat9mLnDMONbkWx52Q4v0kHvrQ7qQLmUwWoYoBzIcolDeegdXPrRnsRhsJNzwI/6UW/iYOyio574xCeGMU8d0XPoQNocnYXjkRbS0l7MyGL48gI44vDIC2nRjbywDyirWl19f2KmIaNRCLHxcdmPMI5dF+LpUikBM1ypCPbZZ594ToRRPt4KypvhcOyn8YJgRzGw5IaP3fN2NWYm+QYTI4k5aklcysaxnxA20Zb8Uc7UKxUqyoctcdKhqOgsoMyZBU1jk/QoE0Y2iUcdGS0mnDCW4XKejIoShn+W3Uu2WTJZvF7/cjrOJZf6sOSGYwxanhuljVnuwygr50Ib0+YLFy7spu6MAOOyo8HIMaO65Id/lkXbMkLOcixGmFn6SjgKlg4UadaL7qlx5cbPqrsTQbHv12TlKQshxDriAsQFSmUiQdIJWgWXOCEPka3MUCFbkY2sruBNm4TxvCNyL/Uafjw2seWWW4YRhT5D/uKQx2x5+ynGHTKY+DzuQP4YXiyfzHyiDr5fPkYWp75LCEv9xbJUjEJmQnNGDh0EhBPG0ll0E2nQsSn/Mw7x8accykansUU/cK6cw8te9rKYkeM8WI3Dm7UxwnrrlpAef/QHM5osP81zw2U69lmWyowr7ZJ+aUxDGrgcUyfi0H4YpNQ72xkjP/sU2c+gzYlPXHQ4eXGtHvjAB8bbWDHoaU/eNp46jW92bk7IaBRCbFiQ3WXX7gh+QMGk8YEfLpUPry5HYbA8lQ8P449izbhsU1mxRbij/HilOKO5PEvHy2dYGsnryHlWj3SUl2UBebJPHjkDh4IgfyB+1gk/jgFFRFzKZcu58EIb4qLE8M8w8mX2jn3KwcAkL5Q+M28oMYw0wlFMlEU+kHWlXMokPP3JgzJIT77UG/8sB8gHx8xe1p0t6RiJ5WU8GNZ8VDnrSznZBuSHf9YDRx3o+JAv24yXdU9HOhQ48XjpAKPPLIll5Jj8gTi4dYUUYTh2LqNxtQo83SO2cbMJIcRqCJkR0iMOg44gcbdyaMqlWWxzswruV/GoVf+DLEMOIlcxjBgkO//888P4YwANPYGMTZmKscLz4Txbx0fyAXmKfEw5TjwgDUYpeTE4ydJPdAsg08v5AvuUR17I4dQPmefRRx8d8ptZtjS0CMORF0YRugrDCp2Q+od4WQ51Rb6zz5a06QfkCyzN5XNYPJuJIZplUT5kHTM954UexaDjJULopyyPuOTPp694YR7vGGCgkzDI+vVC/QnDKDzwwAPtJz/5SbyALtNlvsTBsU9Y5kebcEw9yYtBgMMOOyx0Go+XEB7nPdE9MkPpXGUhhNiI1FywInQZyUzlUlY2KCYMDJbz8Jaz97znPSGYUWAoQYQ2igdljLJE8WD88TwID+3zXALKmFFcnqljFJXRQMJS6bHlDaEoHd7SRr4xUuh1SEWbijEVCCOkLN9E0aSyJj4GGfnzDSnqzEhkpsFRR2bbMF7Jk3PnfFm+SV4oRmb5oKzsUsnjR51Ig2KCVGYoVjoSPNjPeeBHGOdHOkaJaTdGeplRJB/8yYu6seSGJVQnnnhivO0O/+wcYKxjbGPkkQY/wqgD55RGdipL4jACzug6s6nE59qw5aU7zMAyapvPQ1LPO0y3r9drIvqV6+4JIcS6s2rff82WAPIvl12iA3hZDM8qYgzyPWAGM5HPyFDkJXIR3cR3g5mV5NuLyOnUQWzRdSmDSUd8XjSDHEXf8JI40mZ+6Chm35DJDAoi/5HVPNpBnuynTsJYPeaYY0Iv8c1H/CiDOjLIyWwadebxBfKG1D8p8/FPnZC6B2OMFTToktRbGLksv6XevEAn8+HZTPapdxpj5IEuZqaP5yIZXGUQmDYgbp4ny13JlzegMsBM+VwD6pV1YZtwDBjzLC8lLS9rY/aTeHmOvDGcc+BFfOTHLCJx0J/kje7C8UId+hToMxx5oLM3Jyp+0tK0QohuL9z/VFwZWN1c/FptbIUN//rXdvHH3mtLbr3R7v/VM82228Gafa48xtOsARcxCOsXvfjEEMw8R8BoHcIYByhBhDLCmpeyoEj33HPPMARRQoRjgPCWVB5OJx1GGUbjs5/9bHv7298eSiQVE2XwIpYnP/nJ8ZFeFBcKhI/h81FiDDZGKzF0UJQo21SeKJJUPhiG5I0yQ/HxhjbqgqHESwVY3sKb1egEpPGFwmWUlGdWqAfGMOkw8lB8LKvhsxfMrAJKiudZeIaFV5rzoWHOA2XEklsUWn4mI6Gz8YUvfCEUMEYryh8jkOVAKD5mXBnJvs997hOjrMxM0h6UTSeHZ094VoN2ZIQcI5PyOCcMYkbLee05ypb2wtHWKG3SEBclT16MfnMNGFnmmqFMUbYY58RjyfDjH//4uAbZxpzzWpETAtWWtSveKTC/79qM7LoRW2lbu+UK/Wfftb+9561R190/eIq19tnf+j1etfAyUG+U5f/Hs3IHMWO5ltUQQkwv+Hnzm68iAuKH33C/qv/k3eAp2vHTr/CPsL/9wf7+ttda/2jF9nnT/7PaEYd7WjeSUki069b0jNCJfeQR3sgfz7bWeVYdPcXLU3iuEX3CM3LMECIvU+4hD4mH3uHD8jz3jRxNWYtuwTAhP1akIJvRK+gkZDIDogy8sswUWU5+LOVER/EyHvQGBifPETLAx2eiAIOW58vRaxh36Fh0EbqDx0KIy7P5yGh0A6t10CnoZHQdg63khc5gYJZzok6Uh77BEGXL+fIxfcIxrtABj3rUo6LeDHbSBhmfcPoBGKkY29Q5BxbRGcx6Ui6PqlAOs4/UBT2HLsOYJj/KIi2PqdC/oM+AHzqGdGw5P9qU9yVwXQinruhl9B1tSDz6FOhldBqfxmI2k/rRt6A9eEMu1w4djfFZrkPoGb9DKn5vFUxDF937xGlwWLhBvXTUbn7//7NFv/iB9T/4YbbrG95kw7O2sKF2paPf3Lnmsmp3bLVwvYfG4j6dKtS8Q/W27r4QQqSG7fbVG9Z0Q+7WP/3ORoeX2y7HP91szlxr1yoeY+1puyDFcERxoMBQeGk85BZlwRtHCUdRAEqRMIw2FAxGIAqGvFiqQjy+HYiiIn0afCgODCVmzliWwnMJlMM+I7EoEGbbKA/DDEWOYkf4oxyAfeJSHvFQaCgY6sJMIQ/V8zY1lAxl5rlg4DFSinFLZ4BnG1GUnDOf20BxYQASl3RsKZM60EnAoKUuQFqWsTJqjUJPUPbUg7QYeihX0qLcUGS0IXngUHIYvHQ0UPj4Ycjm0inamPLptKBIedCftk4FjsKl/UiDAUq7UC7nS16kI3/8yIs6YzgSnzcCMsJLOeQVytUh7Trh92ThSbzUjjHIPYqS9f3apf+26373q+h8bfGwY6zYeqF3C6M72E1L/E4nMg7L2zwQQsw4+M3zE+/81umJIxXQbUiSzlGEXXe1Xf+rM63WqtjWhz/Yqrvt2onTSUjv3Tv0nfw6sgVvYnRArqXeQZYif5H1yD3kYoajn9jHIcMZ1EOuo4/QachNBiJZDcIbSQnD8CEtugS5jCymDECeoxuQsTloms/noQfQcchx0jLASLnoMh4dQK+RL3HQJUceeWS8URs9Ash26o7RiqM+yHTOKeU36TlGb1AO58cgJ+VgcHEeDGByXtkGDFAyyEp8jGQc6akjeXEOtB86knKYbSQNxzwryVvLObdsT7YMXnIO6DQM9iT1FI7VObQf58Ex5VA27YE+x0gkjDxTpxGHc6eN8KNtGDjFgKb+nBNx2HqmlOj3BrqJ/e594nDvYFDWxlq24qzf2MhlF1lt971swQMOt2bfkPW5HkOt4eKeHFdWnTt4ZU6bHs00CiE6hCRA4G34mUZoMizrpMJBKaH82GJsIKw5pvOPIEaRIowRUakcENSkR8GiYFAWGIf4MQJLXsQhH/JI5YCSYUsewBZHOOVRRoZTFuWiLAjHEZ5xKAO/VKpZBmkolxlDZkpZpsTsG3HIlzjsUxfqypYySJdlsM2yAT/KAfxx+HHe1Jt24xjyPCiLNJRHOPu4rF92ZLLt2XJM2Zw7W/IgHumB+qI0iUsYZREPhx9k2dlGkNeSY+pM/uyTbq3g1HB+T/bONLa9E9jszjSe/e632px5mmkUQnTg572xZxoxJputzvPiyD9kHaT8Q96lbEWmp+xDrqbcR2YSBwf4IXsJZ8APuUta9BoyNOMgd8vyFAcp/xnsY584aYyRB6Bb0488McooP/UK6YmDocWWY+Li0FvAPnWkbqQlDnXimDwIw/FMI4Yc+1m3bIvMk33C2RIH2OJHnnluwPngR1zKJU65/QjPPNOfOFlf8k29yD4uDUDKISzbiTSEk0fWkbqzzfSpTz2xp5j5M42pP4UQYuPhMi+FOFuEMwKXfUglWTYyGGVFmbFFEaShQjqUGWlydBWHMkPYUwZhpGWbo7XkiaMc4uGIg1IEwrIMHGUSN+uZdSIM/1RGmRYoj6WZWScgfZaFQ+lQf8A/yyFfIN+sH2HknXHIk3jUI+Nlvtm21AGIRzmEsY/j/LLe7APh2b5AOMdA/sSlndlynG2QlOtP2VwHtlkP6kQbUE620x2irD9Ryl3FPHXUqhBic6DV7ugVZB9yEJmXOoRjjBtgSxhyEojDPnFwKcfZpowmDQOiyHziIEMJSzmaOjBlL2nY5jF5pSzGjy15kB9hxCGffDQDh4FKGPHJn7ipF/BH9kPqRMrMOhOXupXLxDEbyjHlpX85z9TbWT/OlThZj2yfLCfTZ51xGS/L4Ti3uU94bjkP4uI4zzwf4nIOxEs9SJz0A46zbuyjz6eSUbexkdEohNi4hLDtGC0IWSgLc1zuA8Ib8hjK+xmXLSDYy2nSHzJuhnPMftkPhYB/pitviZMKIuNzDuznMXmhYJJcAkoaRi3znFMxkR+QLsn6ZLqE43I8jpOMS3imT/CnXRL2M99ynhmHOuLHMa5cZh6ng/I+ZHlZBtvch9zvTbdWEN3dyhaehDVGEEKIDUet2pGlZbkHKYtTdrJNUv5lHNKkXzl9pkm5Wo6XYemPS7nOPmS69M+w3uPJ/AE/IK8MgwzPLaQh2FuPpPc484Tcls8rt71ll7fleOkP5bLK/r1ps7yse0J473kQF79sk8wr9PvKImY8q15FIYQQaw2GIAZjKhL2WVKUI8yMvkKOoIqNA4oslqF1DoUQQgixgZHRKIQQ60mOQuZMI1se6uflOIxEsvSGLa48GynWHbWeEEIIsemQ0SiEEOtJefkK+8w48sZQPmqcrx5nlpGtjMYNj2YWhRBCiDsHGY1CiB7KXXHfd1sHcydMnnwdmAgwBFmKmrOJGIh8pgNX6z6LgSGZhqPYsKxqNMqEFEJsAKTmxAZkJt1O6sUIIYKWG4QFHe9m90HvMBirIfBabvw0a35cHYvXQPOkXseIXAsHuY1U083dHnxpg6afV7teM17mzodKKm4gtjjXwUFruZHYaNOmHr+UFW/T7jhe4d5yxz/idf6tbn9lnTYTl/eN34d8aiM+t8Hjor6tFDUPbnosXqE/5HEG3XUSkLoXQlLhRazMWwgxw0EioMsqsYf85eMGHXnRlTUeNuaqrx2fOfCjou7efe46n9tAvq+kux+DqNPRpQ5ae0erdPZTZ5XDU5fRTp24nVJ6y515rqObO+3Q8nuoWam5VqrGMTqGPkLq8Lzl+KRGtc3NVu+oIf/D5zYankPTXcF95f8rHqfS1WlTBRmNQoiusPe/WDcu8ZFZoQ8RbC60QhjyIpeKm0fZb3dHlBSIk+6XhOZKf7YdBb7yeFPs9x5PtL/SleG4oyw7HQq+zdQR75XxtqlW3fT2nRrfber6rUxHKmLyzTB8O6xuP9OvWr87sr+6sI25v3bXPu6y+Ci3H/GFZD5fGU3GzK5vK6Ph3a4MejvTycOY7OaBP81OPPeIe7p7CMQRQsxw4oePrGUwtNOZj354CAnCcS6RPV7h+s2qw3480pEPRHYYJq264z3YZNdJ1BlQ7bjby65V99dO3m3c/VWPO6Tvmvb5m76YhAzWdbRXx5/2RTizTTJd/su4m2p/dWHrv985QofTGgxjdvaStt97XXPSg719eGNb0e5+R3ilUUguGIydfoHHIZNs4CmEjEYhRJeuqEOW4dj3P4x2Vdv9Vm31e5QBdwg6AonPx99xKAxceb/sEJwIR1z25KF8vCn21yZedy8FuG/Zr/sOL+pO10db+WnWW22bVYzZQDFqtbafO4428A5JxbdVdzVvJ8Yja94uMf4dxg4GJm4N+1Gbtan32uyvLmxj7sNkYeV9hieGreXGodX83qp7O/a5Yu1reIh37LyDV6kMW7Wywp139uI+E0KIjrgOVeWkZMF0rHU/7s8fJEZR826/C+/ZzWUuXha7zyJrVketHR38hsv3hvU1XU6j3iJB5pu5rkmOwWRhd9b+yuOOD/Nh6KKOTkq9tOp+57hWNK3u519Dp7ncrRrbhuvATlt29BlxR1z/tawWbTRx2Ztuf3Vh67/PcECcu98ndW+Tfm/Xfu8boN+t5feN9wX6Pby/Peb9Bncep+EN1Kh5J8KziWbym6nmOwPuQZuSe/zpjHNMKaZYdYQQmwIEQd3/oiORhU0Xem2EXs076bXREHT9GD9NVyhuFPW7Uqgx2xMjZfXuFqOmvM+2u89ywq6xNR1d0BXu4dr+h3WotEE4b0EUJXHTEY8/HpTBHROx09oVlj61caiJdaBbp83BxbR2tJerZmZreS40Zm1X+jPT2PRdlpCFlxBCOCFCOrtBDHa6Z63ozv257Gi5sdist22Mxy+KAXdDHjIUZlA8aoC8cT1mlZpvqh1Zjj9BJVk1nVwITWQr5xUu9zurNVbul8IDZmpr7sJc7DRwtCRDqHXfuh/QtD1lzlQXq7Farsdb3iYt+lCdwd1QSvR7mn3eQh4Wup5vNLu57rqqGUZjZ5kv7YX66vOwOm3N9fH/LFnllp1K5J0ghNiccSFXRVB1hRXLcRosRXWjEdeudkYcYyaxcMMRSUbcFgJzDY5nJNG0IWApq+t69/N4Y+/ncXl/oni577BopI2G4GGE0BaZ2GGdpP9f6fxc41kYVxCVPu9g1D193U1wFKsb0bhQNNk2JMq0a+Fgbeq9uv08Lu9PFG9j7OdxeX+ieLGlLemgeFtGm3p7+b0agxHM73onr/CwlnfoGlXv1HlMIYRYlRScTsgdVnfgCPGOuQc3XU6P2QIP2tL957ovRpMHIHO8O4/BiMhuIJLce1wFTCa7cr8cZ3XxNsZ+Hpf3x485EeTpWjhMBddzBe1gg37ssjf0u++6BV1xXVe4H7IY43qctanHxt7P4/L+RPHuyP4q7dW9QcK8oi1Sf9E+A57EjzEGvR9RVOKhIA93MDajn9RN7+EsVyXGVIKzEkKIjrDryrrxdfVOu+rKtNZnIzUXfL4t6nVb0Z0gW0VWrsnVPceai8jJXH0d9ydyGyEdL0bgAfWG/2u640VA1g1vuRHZdOHeQMDXmt4mzM56uyH0w6h2E9G3furW767P5T9LWMeVDdDm0QNJLbQG52WO1y/dauo/4f5Ebn3Tld365jFBXNq4c850Vio25u006vcmjn38GNGtt6rW78Z3v29jhFcIsdmDJKC77lIhjkKasMuIJ/IWkesOcc1yyj6X1X3NQas03CByy3C2i/I+VsczVtpsu9z27r7HZT6NJZjx2IEnXJ0Mm9RNFndD5zGRIzxGfdeNsGP8X82VedVlbcdgXOlqPMaConc6On8D6PuJ3Nqk2xB5rMllXG+KmJR1x1jwmB8zsBD2IsfuP+q7DWay6517kZVafe3ubDfgHZAZiZ0I4s+6X6uNSbd2QojNGhdaPL8RMt+lgot/N3Jc3fIcY2vI2u05VqnOd8nH0x2s4DeeKLNRN5bSjY1vi3Cj3e2Y50snnzRjFe/8e2Hh1rDPotjV7ru73X73uLwf23XcL5fHHGtn2Q2jrH3e+WB5Dk8jdp5K7DwBQryarfBeScPT5SQiruHn3vB2CBvSDb4WRqh3NkbrLRvpa7lBnm+c67xwaE1ulfq5m+y8N2Qb3K68yfa7x+X92K7jfuaLWqW3h9rk/lnhjicXR4pOmxV05poVm10ZtAGWB3kjx+dPSOfkVgix+RELQ0JQIDtdHrvjLeGtAhPSpUqziDi1RmH91ZoND7hsrq+wkfqwLXGDYIVbiQ0sR99npo1lqSMuU0ZqLvM9ProBObWh5N2k++5ut989Lu/Hdm32fYthwzLJhrtYLrmafXT4sOstdHroKm+HhuutRr+HeRuFDelhvEV8xOMurzS9XhtA37tbm/Mu78d2HffHyyjvu1vt/vixt5GfN+ffjPbpvCCINqIvxfLnGG7mRvO24bYbbPVZZYz7r/NsbYx1lh14cLc7NqWoFPritBCbPQgBlAHyCiGFmKsj+YZdAfzxD/avj33Ymrfeaod9/v+s2GJrK+YNemTUJ6nWBs81lhmmRJxmtLwxvJHCCAkJ7+eTu6iIFsPS9Xj7bKXpbVL1gJqL/Fajs0+j8hwkcUnjxnWM9rqSibd+YpyvbdusZbTpj7dNw9uy7Wq43w1IRmpZ+sRIrHtXCm/z0eVW+fEv7cL3fdhmzRuyHf/no9bedz9v7ko0OURzpZYrtR1em01TCrG5wQ881ZN32EervP+08/RdX9FyOc2onkuJukf66+/sD296jQ30DdqBb36dVe97iI1UhryP37IBXpqDBdAadBnEShvkkPtheLKUcFqCHsKETsG4ZmKmkSScM4ITQxodhl7rTC2GrDaeIiBuPE5AxBmO3yPcaAxxRmvGKXtPodu8RTFmxQDvMHB9dusKu+Xk99vYb35plQc/1LZ7w+tt+ex5NsRgp0fH+GY2O6xO4OVvocnoO00NZDQKITogCbrSIJ5hbLvkGmnZit//2i760Htt/s0323bPOdGa22wX3x7qSLeJxMdEfiSYngrW+wddxcg5dF2l6ofso3wJc6XBYaNpFTceeby94KUt/d7JGHM/T8szo5UWRiIWT3dZU9W3FRSCK9jIW4zjzYripf3brO31BuaZD5ZG8TKhou3K2Iat/6L/2OKf/sxGh+q280f/24p97iajUYjNHX7gdNyBVR0VVod0jUbfqzZZmYCUcAFz7h/snLe+3rZZMWZbHXWkje6/nxuHgy4fyMBleyOEkMvq/niXSbXdCDneZhArBP90A3nKFuW2lvD2WFbbxIvI3Gjua7jaY92Hy+JWv1Xqs72pPL/WaGdsL9omUs5swoRCr7vRyPniaF7UvLdV2/VUe9Dbx/sQ9dtGrPGrX9lN/zjXakceZXu/6fW2bM5sm9Ou+b3ENx67JiKXhWx5EWH4eFtOEWQ0CiE6AioFlQuugjemIhqaTVv6p1/Z39/3dttr0W12y7KWjdUHrM2IK+nWlrC8SLFOqaYEHT3gBp7/xcWRC/gWnYVqYX28IGF4uc2t1eNVAMw6tqoVa9TrtswVxah3U+p9Q25QsizFzUMMR7eG2u6a8W5yz8c7L9ie7MZmNfssc90cBnChWjB7W/N7rh1vPBz0jks/nT1vw+bsfrttqGWDwyusvzFqfXvsaHu/5xNW2eMAGY1CbO7wA0+bKJZWdl6UxQMGzCBWWM7ugpRHBioXnmO/f92rbJfrb/Y4dVtS7XPdR9iYb4bjpc28iIvHFEZdFs1yw6jeZvbSc5uWRmPFdQkntfZ1R+c0Xe83Wi0bcN01rzJq/e1Rb5OqLXHNN1odcvO6ZnU+z4G+zCXAMxyMaN6Kzicz0M04WrXe8DvJb5wVfn+Nuc1Xc521FW9S9fg3+L248NGPsf1f8TIbHhq0oQaDyCx57hiI8fkumo/3J8QlktEohJhKhIL1P2gGhJQrS5RBxRVj47Zr7bovnmojZ51lc+Zu6QLSBZ/Hq4yOxOqUtQPjaHqKGt5y1q7y1AIKgY5HRznQVMww9nkbDbkbu+lmG77pRtuyVrOh1pitqLvw334na22x0G4d89asDWE+emeDlkUZNKzp+fIihmo8AIFbM1F2d3+mQ3s3XZGO1dreQWm6ci3c1dwuL2z5YN1unMP7+io2NNBvC4+4j815xJOtMW9H7lx3HaJVs8FKTYzX2rW4EGJaQsebkTaX4TyDVvV/dbq8Lkv4BALziMPeQ5+96Fq75eufs+Gz/mT1Fd7ZLwatPlpYMdCysUE3HN0Qqnp8jMaWy+xZrZEwGseqvA0zJc30ohYDlWtXd3TgaIW2GMQctC3G/Pwvu9jmLl/q/lVbtt0O1th+Z1vuSpEPllRGRqxWnTqGzsak806guveFOv2ClneKePkdL7rhfltqDWv1eV+gUrc5y1u2nBcJ7rSD7XbMo63/sPtYa2DI+wt+o3o6jEbmwTEao28V9y6lTB1NJaNRCOGwoNLVKi+/4VkEF4PtNt+pqliz0bLBsWVWueZKs4F5rm1cGSDReH6BpZZrhUvWtVRQUw8EN+sku4ecS+4zmjo2Gp2T0Usvs4vOONNWnP1X29eV6UitYrMOvqfNeezxZgt3Mpu9AO3raXGewI1G8w6IsTw1nvd0enXDRNIZv81GavuJ8gIBnjuiixfLn2h/v0drfM6k4cH1WD5WbO335py51qphRspoFGJzp/Ozj2E+12guE9BvDI42xlymDHgn3exW12Xz24ttcNn1frDE9d6AVft56ZsnRe60V7is6fdjPvHjcicey/D0of+m8WMFoYPc3Y4Jzgc9xxtj+70Nmi6Hr7jSbjjlVCv++S9ruSE596ijbN4JTzabNduTe/uMedyax90sBKyfL+eJKcWW80fPc5+htrhFeK8By3pXcD8Nm81zzy23tbGBAWtX+2xwxG82VkvXebleX8wrMpgc3QXfn0rIaBRCOBiNnTd58Q085CCqFqHVpM/uSraK4nABxzIKXuJScYXDywBCsHWlSGxSopDZKvvZjb+D3C7fzu4q+xsUMqUtKAA623jwnecV0b34jY7Z8iuutnM/9BG7y3n/cINmkd04t7Dtjj3Wtj7hhVaZ44ajdz5GWoUN9PN8nid03dFqVdwOZylUEZ/u4MtM5NiZLeNzHdWwmzpt7H98pwjFxLGz0c67RLmMyfY3EtxfBUvIvCCWTMfbEHE1Rv1pRzqD7uVtUmFAw68T1cIJITZjxuWUC9CUCuxGADKXNzIX1l+M2EBr2GVNv/f96y5C3LmcDlVYDXMzlrOGTgzd5wIous6ewcaUf1R5/BzcTbS/vpQMRmRsZ4c/PDOOx0p9jXytFGMuY2thzNil/7FL3vtu6zvnHKt6n6D/Mcfatq98hRX9s9w2ok28XxBLLdeTjXnea2Kdy8azFNCNF/ra7xFe4JZ9pHihkrdjDIDyDef6gEd3/T7m1yJensf9RQadHJnV7fQDpg4yGoUQq6WNcdND58O0LhDLwnLGgrnC2B9LR1aCII9x5o50d6PROxKuKFv//Ldd87pXW/vm86xvq4r9p9Gwe73gtTb76Kdae/aW1nCDsdlo26Bn0Bir2KAf04xt18ajlc7XIMnS1TOLXsLVxg1uN+29QAz8zQPanA/AcBU6sJ9qi7/huoG0VbaUEGIzpyMmViUFiZPBvCCHAamQHnhmnO62o+lS33XcyqxX7k1vVkpY9F3vWfEaIT4vNYB9c8XF9s/3vsNm/+2vfuzGtBuN2//Xa6zRN8eqdR5f4Zn9zUVHrRu0Cm2LVkOvV3kZU7mxOXTXGcZH+xGzdNNuYmQ0CiFWy4QiYjMyXJi3Gn/2w2V3njWt0mq1XOi7iq24WMdyabWtMrLEbvvZt+26z3/W5tx2Y4xK32aDtsdLX2EDjzzWbGhrG6uhlAubwyc5eCFDBaPU4cH3mEZzYmbTnefNsxJNP8KRkjHvzQG6cWjRbkuMO1i1C9dhqo3KCiE2Ib1iMoVHlwwOSYKec0HbWafgPr5ZubikV+owkJjd/+lHTzP00JG5vXC+TU8Zz9td+R+78L1vt8G//MUGWm5OPvoY2/G1r7OmG40VNxo7HzeZnm2zsencQczlMmvb7TeUm4qmd6+OydgZyJhKRqP0qxBitcTH0nvduCib+f/iLOlMdB1vSesYJ37sbVGt161d9U4EKyP7/c+sAdviqIfZwkc9xW7u29GGRhfYditadvUXvmhjZ/3R6jzvMYYSqNpI0XKbsW0NHmvEbowhRt9xRRxrp7AWuzoljVXqtHn8y/srmmDcJb2xOv+EEKKLC4RYhdArPLqkNy8xwbk4t0osP/VtKX7GQ8Ks1HzjWmBa/uvUPv+tPBuWolaZdWXrSicdZnK0BQ1R9TTdF90wqNzm+U7ottnK3PSv91+2OP2IACus7FbxJsXUgnoJIcR6sVIUztx/Afqy5PBNYd5ihNqNxtEmC0vb1urrN5u3lW391GfZro95kt1UmxcjhlvfcpMtPuU0K84732a3eOOqudHYsOUuhZdViti2+IA9z4KgkNn6McYixSKsWQ7LK3PK9Zu5/zrnjCu3d5n0K8cTQghAbpa3ySqrZ0q7GIysosFiWlUS3Z7pbRZh8LljkDIc+36e4Tyo1znZCtF0bjlWGCjlIIxGDO1Ozh06ex0f/Sv/456JBaesTuqOTIw3fTZfgGm5st2nCtRJCCHWmZWjiTPbhVLl+YyS6yxN6riqdzKKdssG+vusxavceQmAp2wO1GzBE461/sc8yG6eU7N6a6nVLzvPrv7v91nr3N9bbXSJzakzftuwlufDgp6Ga4g2D8O7ZYgByTGGKOX0u+vz3WosoZq4rjPP8Y97rcQEnZnbxRFCCCcldUlkBB2Dp3sACJDwa3VcPJPXjcCm1wXTUxaPs4rgLEtQP0FefDd+rp0llUHXryOZO/sTvfdgonLluv2JcJ12yvszXde7sxPxytdl01O6e4QQYh0IobYZOEBSpivJcD7eW61UrBajrGZ91Xi83fe6H+rdflvb+UnH2cIHP9iu9wjt2pg1/vlnu5rvXl70T6uvaNqc0ZbNc9Nwthue/a41+LoHr3svq4oQ1ON18pBy/TY3R8Ok6w0TQghndeJg1VmxxFMw85NuTZTlznRz3Q2LSsOL002XOi70nSuknH3ttljoIm8fvigReo8Zx67RWE6+SnlyKx2Utuk9fi3cdf6UtlOIuP5CCCEmwTVgu1I13paNYMclqNHQrShPF/CMJfJge9GuuUKt2aJm2xo77GYLT3i+1e99uC2ZM8+2mTtkt/zh93bdF79qxa1NczvS+puN+PxXtVFEPvRZ0NcsRY3PPFEYf/nWU2jkzZTN+dyFEGvNGkXF7SJsXt3hnNVim27cRqFtcDRJd3+V5iob1Z4oZxrxXiWemHFsXr8SIcSGA+2wGbiVipVXka90iM9Vl5usdDHb6MbjQLXPavU51thlH9vpWS+25h4H2HXDTdumf8hW/OUfduX/fNrs1sVWNFd4WQ1r19rWdKsRw7RdYEB2vk/omUVd4u3c7rJuM96V6R53WyPc7eIIIUQXxAPisiwyV2FCj+7zfqRakxVE2DR0ITu79O6XXbnlyvFol3wejyW9K5f6dv2gW5Zcjyvjx52WpXeRprvTG28KwR0hhBBiNZRlfrpx8oAtH+at8fTHsPVZwwZqLWtVOi/H6b/LXWyvZz7HbhgatNF+NwiHb7Ql5/3aLv/BV60yOmLWGnNjsWXNesVWeJ+l2bE7nc4YcEe1pDLfzOi2Meee7TDeFoR1w4UQoswaxUM3QmfVP134dCvlTcYJ1/GZ1nAadP5L5nGc8UoTMdfQdD06f1aeeclo5G/n7anTv13uNDqNHHS+isl14JuMnaHpION0400VZDQKIcQaQG6ncp1IaNLh4OsYuIL1pXXvdlSbVms3bYBDXl5Tn2P9Bx1qh7/urbZowZZWHarawA2X2i0/+r4t+tEvzJY2rNZwU8jj8wKcES+1EQqko0Sow+YMrbDZGs1CiHUnxWe6HspBqwxETYrHiOcH2BJ7+hKnkc7Pa1L90tsgRIwZ2NjpvDuIBxwJmDQTMc4EbZTt3wmiLXsbfeogo1EIsV7wBtHNwQGCclUl23Ep3omVruWxm0Xd2u6qRZ/Vm1Wrsvq0PeTW4wKzQ4+0PZ/xfFs2Z4HtMHu+bXv9bXb9V75jIz/+jVWXtaxvtG19vLku5h2pg5cUy17Hx36dcokr3UT1n84uGns1rD5UCCFKTCIwyt4pz3v9Vvqw7biJZNZ0cJ0zTHw/TwlWnt5Kv6B84JooDMduG4TR2CH3esuUS+dtg0rvNFMXPOhR4KA7052HUwgZjUKI9QITZvNwXVKmlwR5HiJIc6lPzcU9L8ZpuWvWPMQ9q/0eUDdrDFZtZP4sW3DkA23n455k59xW2Oy+AVtwzQV2xec/Y8O//a3VmmM21Fxm/bbU8x1xvewJm3yDw0uK50dcyceUpufd43rrTs16/aaTi9algTt74VN23aAOqxwIITZ7kAm9rkTZu1e2pHxJd/tYNfeZWG5NdRf1z9nSOLnyeRHmnnniEd4JwZSJQUxXaK1qNVbV8JJwa2F4Vjy7ZrxsFYtnonLlcKs0q1Nq9+hBsO2NM3Xo1E4IIcR6U1YEOAQrTyfEkx5dfcD3k3mRzYpKy0bnzbVtj36k7f2EJ9nVbgTWaw3rH77RrvjuV6150flWb4xanyveWiTyHF0n4wpX5iieSVl1+HLG0dvOOCGEuCOsm1xZc4xpR/mUVntqzJU5WIqV7tN3rAaJqTO2M1wBbTS8/TDUpwGr6X0IIYRYZxhxddHKODRg8yFp2TDhOMf63CCsW7Fgnm33lMfZ/KMeYjfMnm/LW7fZ2MV/sStP+7jZlddbbWyW1dtzOpZmzVV1vW1N18ko7Z6VLJOymiAhhBBi3XGDkRfhdE1IV0idzbjhI9txxiKjUQghNiiuOItaGI0sNgn92V11wmqg+mjTarV+a9frZrtuazs986k2dtf9bWBowLZpLbPi3L/YBR861ezqJTzW6FYiOfhOtW01zxqhHQO7vo2iuttxJ4QQQmxIyrOIrHiJdanuFzqIMCmfzQEZjUIIsaFBl7rDVkSVtlCrVTf83Gqssl61VbVmbcAW1zzG7nvYgS94oVV23MOG2zXbwpXzrAv+add96QtWXHuTpyusXeVl3J1nRsovh2EPF7OPeAghhBAbmFX0C0Yjy1NdV4WpGC9uS23kf6WMZiwyGoUQYmPgepSZRZ78aPu/pm+b7YZZvc8KNxorVndjcsCW1/qtuu/dbI8XnWR9d7mnLW9WbHDZjXbbmd+0pd//qlWWLerYibHOteXpmH5cyUpVvXI77jnuIYQQQmwAWIbqSik+6u9KpjPT6C4HNDXpOGOR0SiEEBsSFCaOwdfO5GIoVTcXO0tSXeqytKe/UrNBjzhg/f53llUPOtS2edaJdt3sBVZdULct7RY773MftVu/+TWrLF1s1UrLms3RyBqTkw8qN5qNEOIob4rDyU4UQgixQal0zIUwEGNpqnvFM4yF66XQbp3HJtpF2JRiZiKjUQghNiDdMdcO3QNejMNCnibbrvLFoBxyK6/urlXpN+sfsMF73MP2f/lL7IJK0xa3Vthus2t2w9e/bCO/PMNs8S3WV6/YWGPMxoZHrOZGZ3+9r5PXyhJvz2qChBBCiLWj12ToKJfxmcbxoUsxU5HRKIQQG5jxt5vGiCtvU2UHw7HaWWWKcx1b4f02OD8u/E9jwWyb9bAH2T7PfIYt3nJraxYt2+LWm+zyz37aWuefb9XRMeur1tzVPUFh7SbLVc0NyM73n4QQQoiNRRiI5Rfh4MMy1XyQsfTMvZh5yGgUQogNTIy15ltwYrdife7c1OsI3bD0uge+z3KekeVjVqnVrT17ni183BNt4YOPtuuadWsO9VnfddfaxR/+mLX/eYFVlg97Ek/g1mfVFXdzjKVBnSwl0IUQQmxocugzDMRxo5EAjMaW66POAGYakmJmoj6GEEJscNpu07nizE9t+G7dHR/sD8Xqf4pq21q1lhW4omlDs+pWaRbW4huOs7a03Z74ZNvhEY+0RVU3Gj2TvquvsUtOOc0a/7nM03vGY2Nhndaqvt/uWRLU0d4dyvtCCCHEetJ5+U3Fqm44hv3o//KFOKGQZDDOaGQ0CiHERoBlPLEUtUvVdSmuMw1JWGFNP2hWmm5RNsxaDau60djX7Pc4g1Zsu5Pt8vzn2xaHHGqjQ7Otz43EoX9dZBd9/rNmt17r1qKnKzqjux1XUtipt2UwCiGEuIOkSqnFDvrLNQ6zjK5jKnxLOL4nDB1jUsxMZDQKIcQGBDut5qKVf2GzdSy6HsercapW705FjlWq1uzri+WplYaHNfusVZ1n7YU72dZuODb33Mvq/UM2d2zY7C8/t/M/8gYrhq/wglaYNUbMxppWjI1as2h0Rn3dfmTT8p1V9DcH6UpM4i2EEGIzB73AQxCornqlHgZiu69qoxXXLx7oWstsdCz2+X5jZyGrmInIaBRCiA3MuG0YR116PFGsGJeI4ba7cUWLl++ifNt8kGOH7Wyv5z3dbtp2gd3WatlWoyNW+f1ZdsuXvmF2083W6q/ZMM+UVPutXlSt5Yq8Uessj636MUtjhRBCiPWhs4al+yH/7oxi2/VUGx+mGscXuXR1mJixyGgUQohNDCZjDWXsErnoNzcEO8K5xttRh2ZZ3357211PeomN7LiD1ftm2Q63jtqKr/3Ilp/5K6sOL7f2wIAbizU3EHnlTtP/NfzY08ZS2C4yHoUQQqwj3XFMp6tE/IBBTl7gFoOSsbplZVg3spiByGgUQohNCMo3BHFX5zb8YNS3LRSyG4JFrc+KuXNs4NCDbRc+xTFvK+sfnGvzliyyi0871YZ//QsbXLHMqvEynIrV2/XOciHPsOg8gLLSYEyFXlLqGSSEEEKsnpJxyBtUQ9W4X7gIETMYGY1CCLEJYZaR5xvTmEMos9ty16xXrVnU3IAcMqvPtllHHGHbHP94u3TOHFvWX9gOKxbZ1R/5kC098ydWHR7uJGrUrK/ZF29rbVvTMytPN3ZAt6eDbtHhhBBCiDKrGAuuKOIFOHx6g3/MMrrRKP0x85HRKIQQmxCEMK/D6ViL7c6nOXwXU2/Mzbq69bsbslYxaKNbbW1zn/QE2/Ixj7Lr5wxZrbHCdrrlBrvu86fZyGUXuJU51jEcx9wQbWGO8voCPIQQQoj1IwzCeNNN5wCjETr+7nJ5qrNyT8w0ZDQKIcSmBA3rLt4lgAYuWlZvt91UxGDkOUX3bNWsVh2wRtUNxzlzbMfnPce2O/JoWzR3SxurtW3WNZfalf/zAWtffbGnd0PRrdDWSNuKZmFFSZmXifI6uyuRthdCCDEB1YqbDCxJdeNxcNYsaxa8ws0NR4zJRjNe3tbqGpZsxMxDRqMQQmxK4u1zlbDXYk4QqewHNT/oS8suhnO7M5Ao7oEB2/bxT7HGQYfZDbV5Np/nGM8/1y795Putdf0FHn/YmrXCGgUp6rfT4NLnQggh1gbUzyrGAkahO16EE4cMTHYHJ/k28e0fiBAzBRmNQgixyeHJkI6ybaaF6AeVXFnK+lX3HnS/Qd9p1vussusets+LTrLmbne34dagbd1o2PLf/8Iu++qpZkuvtf6hwqrVfk+ImO/m6aQdKoQQQqwNHQ3imoOdcK6z4plGp/tMI8R3gsWMRUajEEJsStC6Lol5GU5+t7FgCVDVA+KwsKLSccZyILf62u2qDfcPWdsNx/1e+mpr7XuQLakO2g59fbbkZz+167/+RavccoP1Nd0EnUCH44WTASmEEGJdCYORD/mHWkIprdQk6BUxM5HRKIQQm5Du6tSw3vhCBkK56cdNnkv0A4zFirXcNVxTN92jav02ZIO+tYGqG4y72zbPepot33lXG/MoO6wYsWtPP92u+uKXrLJoiWfkKpzRX3eMAq9U7R16j2VFCiGEuB2pG1w/dZanorh8P2Ya25pl3AyQ0SiEEJsQ1Oz4yKwfIJTxc/MwjMcOKGU/ILBasWKkaX3utdwVdWPLuTbwgENtjyc/xRbP2tKNySFbeONSW/6TM+zmM39oNrbYC3Brkpfi8PFHsopFsE2ruTFaQ9FjV3rWBMfMZw+ECSGEmCmsZfcf4R9uVS1Aahanoi6qroes3XmWIp65d2KFSzoxY1jLu0YIIcTGACEcn9woGWy8voanEdl2Pv1f9x13sW1ZZVZhrXrb+vtqoZNb9QHre+gjbIcnPNNunrWdzZ2z0Pquvcpu+NZn7La//draoyusaBRWjS9woOAbnuuIK/axjnXqXm5T2nBndxVFzy5+bEveE3gIIYSYPqBbcEj4sutSlu8VHnVwD/xcYQ0MDHnUijXjO8CuRxqj1vK80Ffj446pI0r53M6rFCamPjIahRBiEzOuZLs7bFKdd8Cn69t2je2KthVLVps24K5aq1jRX7cFxz3a5h/3OLvSlfnWC7a2/muusytO+ZS1//43q1RdsQ94FkXF6o26p+2LUeFWvRXZ8n3IIXdVlPh4hVbWJWswzu08hBBCTH96LLlxOb9S4FdZ+eLH8XiF66JI4wehK0p2Z9BN1pOrmIas7JMIIYSY+hRuNLb7XQ+joDvLTHnucXSg34pttrJtnvQ4W3D0w+w/K4ZtTrNuW1x6hV10ysetecm5VixfYjVeYMCnOIoBV/Z1a7GOqNoZReYzH1FEZ9PBD8aXGpWYwEsIIcS0pmMM9lJgLvAMYwh+XtrGa9tqrntcC8UMJM/eV1yjdAzHcTJJ50hMc2Q0CiHEdAJ97hqYZxqr1rKG/xuNJUX9tqI9YM0ttradnv102/JhD7XmwGxb0G7Z4H/+bZee9gmz6640GxkJyY8Sr7kBivlpBbON7rBH/ZDcQsn3avruMRvijMcTQggxTcEUQLFAbleCjG+4f0wghuDPRahVNxo7r2kLo7Fws9HVSMw0kiV6ppsdeaSuwCu8pTymHTIahRBiOoG25SFI18Zt32nG2G7N+lpVGyiq1qwOWLH9trbLM55m1bsdYEs93tauyIuzz7ZzP/5+s9uusqLd7Ch3dyjupiv+6BC44u8o9+gZdLR/vOSg67r+hKcTQggx3UGx9JgEXesOKV82+tipVDEbXW/4tqtGInpGJA3+qTXG04ppjYxGIYSYRsTIbTo3GOvWb33+j8911BsV4xOPI5W6VXffw3Z89nNteLe9bHGzsK1HRq39j7/YxV/7jBXLrosX4vCq9KargWFX6S20eqtnaZEQQojNHAYIy7i5WGFpakcRRVjRXvkYg3vnboSJGYP6B0IIMa1ouSJuumKuWr1wk7GoWS0n/Pq6L7SpDVhRG7Ji3/1th+e/yFbsuY+Ntiu2y+ioLTrjB3bVj77u2Sy2ZnuFjbWbru8r1ub1qZ7PuD2apEfJcwIvIYQQM4aVZl+YhaxCiWcX3atasWpf3Y1GwvzQ/dt8JJhAVqSEYmDVSiccOqZlJ59xpESmHTIahRBi2rByYWgYeLnE1BWv24/WrrtBWUF5o4nr1hqcY7OPfJBt/+yn2/Kdd7I5rZrtfP2ttuj/vmY3f/fr1udGY701anOq/Vat1qzgQUmn6v86c45dx7e30nXD8p90vhBCTDdWt2gUfxxx+JBGYX1djdD2P4W7dp1nGT2OG4HVVssq8fiCHzPdGMYk8fmbWsSPeeaRbEv0HIopDtdSCCHEtIDx2q4a5o01aFzf8FF+TMU2zya6YRfq28OKetVurQ/YrAceYVs/6Ql2dX2WLajMtl1uXGwXnHKKLTrjJ9Y/ssKqo8ORD882RpYlTc5y2HHX9YNu30AIIcSMJAU8T8/z/lTXD64HWrWiM0iJvxuLtaYblu6IX1TbEQcwNjsay/OJrLr5rboR0wgZjUIIMU1AyRahvmsd6c261FrTVTdf6CeUub+6G3Ou3l1xV1HeRcuWDc62uY84xhY+8zl205wtbKhRsX1HGnb1l79sK/78Z7c43eRstcIODUMwLM7O8qLOYtjO1mNYu+g8C+mHK50QQogZRWqAeLs2I5EOM41tPuY7wDONbki6PqhjMHZnGjEo25W2G4p+HC9Ry7BOeGzj9aod11k3IyUyXZDRKIQQ0wRswD50rbOi2rax6qjvDVufjYUpieqt8Tr0GPR1U7IyZvNdsc+vDFht1tY27/gn2dDxj7bL5lZsrLnEZl1ztV38yU+bXXat9bnd2Wp65qT1POI5R3e8Tr3zNUjfL9xFeNcJIYSYYXSnCp14jhFZ33QF4VsGFplJrPbVfD++3hizjdbu6B9WuzDAyHd/GXisMMCYjgg9TOAlpjAyGoUQYjqBwvYNi34Yz+18f6PzbGEIdHYCnifpPkcy5kq9OmjFrHm24LjjrPaQI+ymObOt7hbg0FXX2IUf+aA1LvqXzWqORUcA/e72Jt/8j0HieErSd+oeXquM2EhtzMZiRDmKEUIIMa1AW7BwlEWmmHldo64Vtp61MPhaTasuWmR26y1mN11ndv31NnDdjTZw/dXWv3SxVasMJNZsqFk3u3GxVVyX1C+/1Pouv8Dssn9a67JLbcV1N1kb/dN0ReG6CJ0RY5ropXbVamypjpgWVIoYRhBCCDGdcDUcKj+eFwm1W1K9XS86AvGiHNfULCUaaTZtoDpsjcsusEtO/R9r/OEcW9iq2y2Vms174ANs5xc+32yXvazVqFkfbzvw/8u9P9B0u3TuyIgbksusUm/a4llDnuk8G/RC+jtFCSGEmC6EjmDxKf+aVuNfqy9GCNu1wrAD+0cW2+Xf/Z7ddu7fbaixwgbGqtZX7bNWZYXZ0mtt6T//ZTuMzbFmdZ7Vd9/Llm8925qtJTbQXuZ5tu3a2pY2994PsX0ee5zVBl1nDHj21bYXUfU4FS/P69AZ8xTThNrbnO6+EEKIaULHTExjscds6x5WWEdUuOnoxmLRV7OiyrOQhfVvscC22X03G7n0Chu4abEtaDKIfLk1i+W2YL+7uoIfNPP4biZazTsPQ0tvteqim+3GH/7AZjca1rfTTlaruLnY8nBX+D2lCyGEmAYwmMi/mktxnoVHmhe1io250Vd3Y/KGf55vF37zm7bl1VdY/6WXW/Xyy6249BIbuPl6275Ssb7lIzbk6ZbdcIMtv+Zyq99wlTVvuNpuveEmu3pp0/Y44iibv/d+kS+fhGIlC1Yin4bq7kqBTCNk3wshxEwltHI7RnMbRcuq7bb1VQasGPUOwq772g5PfYYt2n57G/F4WzRG7OoffMeu+t9Pmt1ypY2uuM2qlYZVl7nBeNM1dtNnT7WLPv+/tvSsP1ptybD1N1uxjEkIIcQ0JAcXO5vOjsv0llsGNQYYazW768GH2JYLF9rs9qjNtxGbVwzb1tWmzWmscKWy3IqBprXqwzbk220HzRbUmzbL85k3MNu223FH23H//awYG+MLUGGc8kbVftdJ8ZI2LwI7VWpk+iCjUQghZjIo5z43EiuuqHnrXdv3++a531wbOOhg2+XE59s1W8yyWtG2vUfG7Mbvf9tu+P63bKA5bH2jy6x+1aV28X9/2G794Xds55EVdvVZZ5ldd6O1vCPALCRPOKQTQggxvRhfseL/C9cR7TZPOhbW4uH2bbez3fffP5abFvW2tWpNa1Qa1nCDb2mlZcsGzJbEM+5jNtJcZiOtYavUq8YLVXfcc3ezrRZYZdAVhf9vtHnLdyx2CUuRhTDxfGP4iumAjEYhhJih8MRjs+oK3Pf7/KhW1tZWs0b/HBs64v520Ekn2i1bzLXm8hHbqz5ol37jGzZ85k+tecmF9pe3v82aZ//VFlaaNji23G7+z8W2/F//tEoxFh0JOhdCCCGmGaEHMBk7H+5nn5m/doHm4NGEPrOBAdvj8MNttD5kKxoVq/fNtna139quOxr1WTbcds1SGbCq+1UqfVbx47FG3YpZc22nhzw4Ps3BWtQWs4puTMYz+ExlphoKpEOmCzIahRBihoIqHnM1bUXNKry9zs3HVr1pjYGOwq709VujNmT1w4+wbR79KFuy3Y52y83LbLvhht30lS/btW9/o8278jJbMDpmIzy7Uh+wXeYtsCt/+zurrFhsjWLY83Sz0TsZ7fgWlxBCiCkPRlvsdIzGmGZ0H/RC1Y272GemETPhoHvalgfew8bcSLRG1arNurWaVWu3BqzfBq3dLKwx2rCa65l57dluOA7Y7L32NrvrXWOGsdVXtdGCpyS7OoJsO4U74ztiGiCjUQghZjArOwQu7iuu3K1lo11FzZtVC+uzpe62f+KTbPDBD7Laltva7JGmDVxxqc264iJbyHKjMTc9+2dZu1HYvDHvTFx0qTWuucqG+Igzo9IV8u+gZapCCDGFWUVEM/vn8jum/TwgHjbsGAfVap9Zzd3gkNXvcXdbMTQU3/nvb/PW7LrVPFbV5X2t7mkGePKhbQMtNyargzZ494OsMnvImn11a6AfKp3PQo1DUTjf6bwBXEwHZDQKIcQMBSVdd9d56QB/Op/IcNXvf/kERyuWI/W7QVgdmme7Pu1ZVl+wlRuTbhx672BOtWXttpuYfa7aq95JGKvYvNHC5txwq6346zlWHxuOl+tgNJYNRyGEEFOYrrhGE1R4I00XnmZk9QjGXCeSa4yBfuu/z4G2dNu51pzlcdt8r7fhRmXTxqqjNtI3Zsv6hm15bdRGeWhh9hwbOuBATzpgo7X++M4vTy9SShSL5cFOGI3symicLshoFEKIGQp6ObsDjbAc627kufHXNGuOtqxv0I295qj1D4+Y3XCL3Xj6t6wxusS7DA2rtCvWLFydu2sXdCRaVqkX7j9qcxpjdusf/mS2eKkft63VaoUDGY9CCDH1icnF2MF1Dgr/hxEXeqPNYKEf1ftt7k672dw997YlrgsqfXUrRsesz2X+kKftLxrWX+m8pXsxxuGuu9icnXf148HIiZnM/lbV+ryMKCWNxkCPNUwnZDQKIcQMpuo6Gf3c9L8F845uNNIZqA+68Vhxw7E5YtVFi+z6z3zBrvve96yx6DqrVOk6DFijNWS16pDVmU1sj1ijb8yWVsesv9a2sX9fbHb2eZ559XbLU7VEVQghpigrxfVKShYkmiKOXIxj0jUrfVYdWmi73/N+dt3ImDVqzDZW3WCs2WCjsNnDTZvbcD3gx7cNuIF5z7tbY94CaxV9YTKyuqXuYW5Pep5VPu/LS7wjf5DZOH2Q0SiEEDManjvkQ81d0Pd9ZstaY1ZrNax92ZV2/Xs+YIvPPNO2XHabDbSWWK3tJmZ70N0cj9Nv/a3CqtURW14fscWzmjZSbdis4WG79idnmA2vsKobjTU6Eg4Go2YbhRBianO7oT33GPdjp3vAGGClmG1z9j/EBvfc2250WT/aN+gGxKDVx+o2sKJus5oD1moP2G1bbmnzDz3UakNz3FysxEf8a2F5urmBtejHvM07jEaH4cnxgsSUR0ajEELMUFDIjWphTTfiYkWQ6+bOyLFZf1/Nbrn033b25z9rV//1z7ZgdNjmtvjo8qCNVfsinbmx2Wi3Xd/XrV2d5cq/34baNas1RmxOscKuv+BPtvjqsz3T5VYdI2M+3sxHOJrRMcArFq3S68AjRprxEEIIsSlBJ4wbARhxoScw9SpWMPDHOKBHiMfh2dl2O9vpfofZsv6WNeqjNuL/GpW69Q3NdxHfZ2Mu2+fe/W5m++xpVT7X4comnqknec0Da75XqXayJc8IoMTYEdMAXSkhhJihsMio6Sq6jVrGWHMlHn0DDxkeWWxzFsyyLXbd1ioLF9hoX5+1W3XX6XM8Td2GWytc8Y9ZZcBspFq1RsM7Bw03GkdrNsjMYsVjjS226875tdnyJdEZyCVOlaKzGLZz5AXzyj3KxwkhhNjkMIgYRkDXgMNQrPk/zDp0Bp9TJKzzIjV3s2fZlve+h1W2mGOtgYY1aw0bqddshcv+YRfxrb5+2+X+h7nlOMcTVfkfWaMarM/3+JSHl4EhiX9HXbCAlQhiOqArJYQQMxQE/FDBa9BdSTPF6EoaPc0LCRb0z7X+rba1PZ/zDLvHye+09gOPsJGtd7bGiNmAa/v+oboV9VEr2sus30ZtsMYsJB9prtlwbdCWV2ebrXD1f9YlVty83DsAhY31YRd6qW588qbVvoZ3CZhhjDB3Hn380RkhhBCbBuRwSRaXx/PwntA44A3ae+9vs3ff2xrtAdcpVSv6KzbaaFq73m+zttvJ5ux3gMt4LMzVC3qpgemJjEYhhJip0BPAWGRdqGtpPq8RfiwTdeOwUgxZpTLHqrvdxXb7r9fYNm98jc16+IPt+gVzbFG1ZjXvCBSjbjBW3RRsuwXYbsZbUhmFblf7bFZl0KoXX2fDV1zj+bas4XkXPKzS9E5D9kK8TL7fNRZLVilYCCHEVAIjrteQW8Uv1pRWrTJrS5tz0H1ttD7HWi7r29WmVfuqNlLvs4G972K1rbcLfzEzkdEohBAzGfQ3r02vYup1waCLZ07c2Wwbaw7Z8PytrXW/+9g2r3m17f/mN1ljv/3skuGmFbMW2GiT9N5r4H+tbbVizIaKhi0oCqvdtsSuO+s3XsaYVd0vbEVsQ4/b8uwbGI1+2Od/6xGa1qQQQoipStlobLsc51n4tgv1ufvey6pb7WgjFR5CaFirVtiyWt369r+bWf+QVeq8L3Vc24gZhIxGIYSYobAUtFmturLndehYb233a1vTjbkV/YWNumHXbhTW3zfL6pV+G+2bY81521v1kCNs73e8x/Z93Rtt0V3vbjfP2sqWFgPW8M5Aq49Zx6U2Z8XNNn/ZLTZkI3btP/9q7asvsr5i2LVKy9qDlViKusLrMBo1qdiAdy/63akrIYQQUxPkc69joI/Xm6FPqv0DNnvnvaxvr7vY8jpPQJoNFw1rL9zCtrzb3azteiYeURAzEl1ZIYSY4YTi9z/tasUavh3rLDC1eq1i1QFXA+6H8p/V9u5Bs27FwDxrbr+r9T/6ONvzja+3HV76Elu27wF2W22uVdoD1s8zK7WWVfqaNqs5YvNvvt6u//lPrNJcaqOVMVteo5NhNth1nffl4aImQgghpg3I81Y80x5Ww6y5ts3B97JbWK3iMn1Z0bLZ++xhtR23MzcftZhkBiOjUQghZiiYaHXX4Xwnq+2KfMR9xmIcuG1D7bbVmqwj7cw8YtP1+WG/xyuKig1X+23p4Hxr7LW/LXj4sXbA299t2xzzGLtsYK7dMDDHls2Zb0u9E9HfaNlWixbboj/83mqLb7Ki0rSltjzekEd+9abXo6h5qR0nw1EIIaYXhRuNlVbXaOzrs7n3vrfVd9vNRit9NjJryLY96G5mc2dZ3+CAy3uGDMVMREajEELMVBjx7X4fkV0cLzgfYAe9HiPH7LTju8ssPcVqrFYLG/LYc91zsDFgNriN2Q672VavfJnd8zP/bUuPOdauWrCrLa4utGb/PBsaadnAZddY47yLbLDZsHlFf+fFOQ0vvOn5e7ZNVzfe7fCyhBBCTEnQDb3OqYa54DI9XsPtcn3hDrb9wfe3G2uzrL3d9jZ4yMHWqlWtUkXDiJmKjEYhhNgM4DuNQ+4GebaR72q5gl9er9hofJurMyNZ5SP8fGOxPWb1ouXH7tnCVaxdqVurPtsqe9/dDjjxJNvndW+x1lFH28Vbb2W3Dg1Zu9G2W/96gdWWtGyoXemMNlfdWvWCs++BE0IIMQWZREDzsf8wF/hAf2XErN+PqwO28IijbdFW29uWd7+XG5HbuVrpDz0RccWMRFdWCCFmMuhwtwpD7bsNx0Cxm4NuLNZs1AMbMffIi3IIc5XgBl/hBiNvxQtLkqWrnkfV/evVmo2MeWbzt7WhQw+3Pd/0FtvnNa+24bvvaze5EXrtBZda8/qlVhvBUPQMI71vPdtJ+iNCCCE2NasV0F2jEeVRGXOZ7gphuLC+HfayWfc8xLY+8qiYfOQzTK5ifFfSfqZSKZzuvhBCiBmEq/juS2/M+v1vhdff+X+Efkp+PqnFLnHq7LjyL2ptG8XCdHjGser2o3taUalYs16xdos3oXp+LWYSl5rddKXdetYf7cKzzre9HvEEW3j/Q6052LSK51N1q9O7F5ignoK9zri1EEKITUNX/K+UxekxER6Jb/DWKsO+27BWMWS15XWrNFp2yR9/YdsdsLfNWTDfWrPmGzH6qy71sS8z80kE/u3qIKY8MhrFOsMtg6t0JUKbF2rUWODWgY9/Z3jGEdOXsoioujIA/HJfrB3l38ydBVeuY/rFZOOqyrmksTEuOYxfsSdgBSvPOOIbK5J4iw7/8ccb/+6W1JXGCjc22zZ8zU020qpb3zZb2qwt56JhPHtGqGuRjiy5azZWKyCLkD/Io/I9Wr6HZwqcK+eXcpbzzmOxebApZIrYjEix6bcY78CpVBq+yxqSulVbLlvdklyx5GYbmDVotcEBK2qdwUE3J/k0sJiByGgU60zeMs1m0/r6WLvmAsU7LCMjI6HAygYk6BabHkx2nbJTwjWeNWtWHGeHVUwMbTltO3O9t0H3NOL+qGD6EaEUqajx+cf43XNflO+NbIM7qy0oe2xsLPbTiIJpey26TPTb5JxwnOfAwED49cpeMbNJOZP3x3S/z8XUZSIZBPiX+wK6F2c2MhrFOpO3DB207Chef/319r3vfc9uuOGG8c6MhMf0YrLrlEbAjjvuaI985CNtm222CX9d1xlKr0YYv8wE5JwksCUQGbBq55X7ZVP8/i+//HL7wQ9+YLfeemsYU/V6fZV6TUdW13608/z58+3YY4+1nXbaKeLeme0tNi3c17jea657QGxoJpKhk91nE92TYmYgo1GsM2lE5K3DjON5551nz33uc2O2EaMCgaFba3qxuut19dVX2+67724f+MAH7B73uEfELY8uis0B7o/b3yN80zHvh7yHNkWHgbJ/9atf2ctf/nIbHh627bffPgxHXH9//7TtxEz2u8T/lltuiXb/2Mc+Zg9+8IPDT521zYdN+XsTArgHy/eh7sWZjYxGsd5gPKYBec4554TReNRRR9mjHvWoboyVz8CJ6QvX+FOf+lTM4nz4wx8OozFnccRKyqKU/V4Fmn7TG84xz5Nz6RiMm/q8qAPuF7/4RRiND3/4w+1xj3tc1AsZxD1M+EyCVR5nnHGGffvb347BnCOPPHJcHovNg/ztsc1rn8fTX9aI6UTKV913MxsZjWKdKQsHjAe2GI0vetGL7DnPeU44Ka+Zw/Lly+0d73iH/f73vw+j8V73upc6pj1wn+fvgi3P1WFU07HPtpo+vwXOA0dd172+2Q4b81x725JjOs2//vWvw2h8/vOfby984Quj/QmbifcrsverX/1q/CYxGjXTuPmRvzVW+IyOjobM4fnWstwRYmOS92CvPJYcmplIqoh1BmGAm2hkE7+ywspwuenngOvKNeSa4pfXluu8OUO7pGs0GrEcctGiRXbVVVfZRRddZP/85z9jyTbHN954Y3TqcqlkGdID7UlY+Xjx4sXxjPB11123Sv5Lly6NY+IsWbIk8s66sFQcBxyTJ/lQB5Yy4pcvioFMl3Fx7Tau7fk0vKzFnv/wKvlCo7GyruV6J5nnxqJ8f0IeT7SdqTJIbD5wn/M7A36bHCMHrrnmmpA3//jHP0LesL3wwgvtyiuvjPDy77D8+y3nVSbjZhm9+5D5ZFq2GQdZuGzZsoiDH8eQsgWIV86P/YnqJqYHE8kjyaeZi4xGscFIQSGBMTOY6Drq2k4MnbSf/OQndvLJJ9tLXvISO/HEE8O98pWvjKW9Z511VnSmMGDoIGWnKjtQtCthdJjwJ+4f//hH+9rXvmZf+tKX7NJLL7Uf/ehH9pa3vCWe26MzhhF57rnnRieRF7+QLmc3yYd88f/tb38beXz9618PI5Q4zEqUO3KkpfysD5D2nHP+bhdffEmEw9hYI8I7celAdlYaEJ4dRCB8U6L7VMw08nfJb5aBoH//+992yimnxMz6S1/60ljpg3v1q19t//M//xOrfxhUKv8uyYPfav7O+Z2QH/KIbW9YygX2U26lfMEv88u8WZWCTMJhtPJ2dcpP2ZbxcpvlkSfb3BdCTE1kNAohxHpCR4jO0Q9/+EP7+c9/Hn53v/vd7UEPepDd7373szlz5sSs47e+9S3717/+FbN8dIow3Oh04coQRgeLztltt90WM4tXXHFFdMZ4wdQuu+xiW221VcTFqPvZz34WRiQzj+VOWHb06LTNmzfPtttuO9t2223HO2f4Z1kcE5e0WR/2KfN73/u+/eUvf4lzhHq9+3VGT8O5c0xc8uGcMkwIsWHJ3ypG2B/+8Af7/ve/H4Yjv+0HPvCB9tjHPtaOPvpo22KLLWL28Tvf+Y79+c9/Hl9ZQHrgN85vP43E/O3in7//jEscysSRphwH2Ccu2xzIQg7+7ne/i2PSZ3jmmWS+vXkC/kKIqYeMRiGEuAMw6v/Tn/40jMN9993Xnv70p9t//dd/2Ytf/GJ7xCMeYYODg3b++efHbCTG3YoVK8IYxPGpmosvvjhmC+noYajlzABbOnw8o0SnirfXHnbYYbZw4cJYkkqHkReh/OlPf4qZSAw7OmmQHTLK3mGHHWyvvfaK9HyeAWOUlxox63jttddG+ZdddlnUh3MZHaXzt8T+8Y/z7Te/+U10AP/zn//E7Cf1Ic61115tl1xycdQBo5YltNQJR12zHkKIDQNGFysEeJM18obfJr/nJz7xiXbSSSfZa17zGnvVq15lj3/840NG8Nv861//Or60/eabb47fPL99fvcc83smHDmEDOF3jizgN83vHEORASziIY9SXhEPxzHxMD7ZUuaZZ54Zz78jzyiXPCgDGUEZyDryYMk8eeYMJqTx2GtECiGmBrW3Od19IdaJHCUEFALL5w466CA75JBDwg8k/Kc3XGMUOh0UjB5GsvmUQfnab85gJPGsIN8GxLi7733va3e5y11syy23tFmzZtnWW29tc+fOtdmzZ4dBOTQ0FB0n2vNvf/tbPIPE900x/uhIMTNJfPK65JJLopNHR5E31tJJIx3fy+RasNyUJWh0zDBEd9111+gsMmvANWOLEXrBBRdEmcxMcu3oSDILwTGziN/97ndjxpL8SbPNNgu9XufZF77wee/g/dtuuukmNwKb8R1AOoB0DL/97W/F7OmPf/yjOA/KYYaD+vN5i/IMw8Ymy+CepLP74x//2A4++OBVXtg0E+9VOuoMRrCM+aEPfWgMCoB+lzMTrjeygN8zv1mu89Oe9rTQufzu+d0xSLRgwYL4HfJbZXXBHnvsEbIEWYFD5vCbZZAIeYDsYPk8xh4rJljOjnxhNQKrGtgyIEW5v/zlL0N2YLTyDCUDUJRLmX//+99jOX3KJOqKTKJOGKrkz5t+My0yA3lIWvJIncJ56h4WYmqimUYhhFhPMLIw8DD0GLnn7Z0YYHTKeEkFxiLGCzOOzPZhzGHY0EmjA8Y+HSbyYGSepaYYAozs03GiI0UninSMzLPElQEa/OlsZfkYqXTO8M96kY58iE+njY4gxxiHdOBY3oY/nUs6hdSZgZ/rr7/B/epu8C70nCph/NIJJe+///0cO/30r9uf//wnD2t7uVuEP8YsHUZmQegs0tEUQmw4GADhd8osIYYev/f99tsvlq3zG85BGgzF+9znPvE2XbaEMfCTA0TIGPJglg+ZwqwgA0DIBWQRMgujjme0eTaRQTEMxm9+85shI5BFGKnUgWOWozLjiAzEIXswBsmHfWQMg2qUQ14slyctn8ehXMLLpAwTQkw9ZDSKdSaFeu9oYPpPFt4L8ejY5n4+PyGmFlxHOiQ5ewS5XRu4pnQ0uNZ0VNjixyzddIU2wdEhw6jiOUbOCePp9NNPH+8k5XOMzD7SmcOY4rwxDOlosXQUg/JhD3tYdMSYBWAmkHbK3wJlUBaj93T2WCbKDMEDHvCAmAnYeeedY9kq+WNAkq58zeigYdDmMjJmB/Kti6Q/5phj7Igjjoh6YsjeeOP1tttuu3j+97Mttpjvdd87ZlDpBP7pT3+2r3zla97xW+DhR9jznveCKJvOIJ9/YEaTpWjTDdqlLIumOllH7if2uUf4ja1N3cvnCpmOLbCv5cVTD37T/PaRA8BAEb9J7gGuF9cUI41jZMnhhx9ud7vb3cK45DfJoBFGHr9zZgD33HPPMBoZwELuID+QBRib3E8YmcwKstoBecGMNkYlcucpT3lK5I0R2xlouj7kEHKCsskfmUIdzz777DBWqTdy8vjjj4+6ke83vvGNkEMMNK3NvSs2HLT3RG1e/u1zT63uumyIa1auR8qmifLNeBOFiTsPGY1ik5Ed2xQUKCooCwcJiTuXidoaJYIRk50T4mRHcyKXlPe5zlxvrnEqBfKbCbAsk+eKXvva19qjHvWoGG3HePzQhz4Ub1LF/7Of/WyM5NNunDcj8XSgHv3oR9uhhx4aL855zGMeEx06OlN0Dns77rRftiGzjCx9ZQYwX3RD5zDjlMnfFWXjMCxJ+6QnPcke+chH2j3vec8om/pQL4xLOp/MYHDM+dGhpF7MJPIcFfGPPfZY23///e2oo46KGQ+gY4oB2Vv3qQz3I23GPZr3bN7LvW6qwfWk3nS6s/6T1TP9iYfjvLlOXGso3zd5z4ipA9c6f1e5OoFtygQccbiuXF/2kdt5rfkt77PPPvbUpz41jD6WyzODiOHIcm4ePTjwwANjuSu/aYxAnj9EFjHoxbOSxx13XDx+ggxgwIv6YDgitzBgWcLOIBplITMIY2ks4RijyA3y4iVhGJ/kw0AYs43UV9x5pK5ImcE9kvdO+pVlQoZnGG4iJgrjONNzz+Ayr2SiNGUHWWex6ZDRKDYJZUEA2Ukp+5XJ+HIb3/UqhhTUKezTbzLK6XIfRQRsuda5JWw6wzlwnoysM8pOp+gJT3hCvMmQ2UM6aSwNY8SepV6MyNORo7NEp4qOGaPxdMAYuScvjK6MNxl0yuik0Y4YoXTU6EAm2a55ndhme+OIy5tY822s1APjkGvPs0aAQcoxZeB4BpJZUgxWnpNiRoE4GJfMfGIs84p/0k+nDmC2SZJtNhEZd1M7yHpyjWhvrhFMFB8HxE0HpMnfdKYnLOOLqQO/3/zNs3qAwR1kRF7/hGtHOMYaA1UYfdwr/FYx6pBJ/F4xOjHYiENclpd/8pOfjM91MHvI7COzgOSFvEFmMGv4la98xU477bR4djhXFlAPykAOUU/KYovMYIaRmUqWxZKOMj73uc/FzCUGK4NRyJW8/8gn709x50H75zWYCK4LLuVJWU6kXx5Dr1/mn66cF3CcYb1k2WLTM/kdIsRGpCwsAKVD50WCYdOSwrn3OjCLBRgodFDoEKyOTJ/XGZedG8LyuHwPTEfo7LD0kzcOcg8zSs/sITOMvD2VF1Xsvffe0fmiE0bnibbD8KJjlbOtjMRnu7OP8UVb9bYP4dlubLPDP1k7Zp44ykUhkw6YocwZCyCc/DIOadKfY84vn1ciHf6ZL364LCPTTnU436xztiHnORXJ65jk7zBnrvOemKztMz2O883rlNcxmU7Xb3OCe5XfKgNOXGsMMowu7te89lxL7guelcZI4+U0LEcnHHnD4BZbri/xMfjIh/gYcayQIB0vu+I+YDCL+wsZx6wkYSy9Zxk7hiYGKbPc+TuiHBxyAn8MTsphH+OU5xhJSx7IQoxYDGHS5Hno/rvzyOvFNeIa4nr9cdxTCdcGN9F1yrBe/4nIPHBZRpaHyzpkPdiKTY+MRrFJSIGDokBQ0fmmo4xjSctELsPlNo6jA9Db5vjhCEfxM4tER4OOSG/csmMUPPdJTxqEPh0LFACk0pjOMIrOt9A+8pGPxJsB6YDRyaLTxEwiy75Y8sUsHG1HG9IG2dlKRYmhyIwkvwPS07HLZYOpOBPaLY+Js7o2JF6Gp+LlGKMPB5l/GrDEw/G7pCwc5TCjSBw6gtQTqDeO+4F7hA5tvg1xOkBb5Pmnsc69Wr6Xyy5/K3emm6xsrgG/s6w39xT3WG+8dMTlfs28cp/0eU/h2BdTD+5VBu9yWTr3KW9czuXkwPXjxVfMCPIWVAwzDE3Spq5F7nCNkUOEsWqAZeoso3/nO99pH/jAB+xd73pXfMaDQS/ikB8GI3Ff/vKXx9J7tiytZ3Yx5QTyjC1lIAMIo0xWU7AklrxPPvlke//732+8uP/Zz352LM3Pmc9E9+DGJ/VwwnXi+nGf4FK2cy1x3G/IfmQMsiblUu73ypsMT5f+xC878kOWZTm4vFdTFyXc3xyzFZuGije+Wl+sE9wyCPXyrcMD9sysPPOZz7QXvvCFaxT6mZYtI5i8cZLnpVCKvcIMdJtufLIDDXl9uRbsMzrM82o868LoMAKd+BOBf4aTHkODz0SwdBNDCkWEH/mT95rulakMy7sYzaezxXLNV7ziFbHMlCWfKGBG6L/whS/Y//3f/8VyVZ4HQoF+/vOfj7epvvKVr4wloixHZZSfZVs8W/j85z8/3mDI7woFesIJJ8T3EnnZDJ01PrHA74XvQTIbQIePF1vQSStfQ5Z+8Rp9XoNPR5N8WYbGiyn4rttDHvKQSMN1ojPHS3w4hyOPPDLyZ8aUNzC+9KUvjTw/9alPRdq3vOUtcS+QJ3WnE0n93ve+98XzSvyO6chu7Gub9xBwz9GGL3vZy0IGca7ZmZ6sHqQnHfF4fotlxHS6J7u3s203JVkHOv3ce7w4iefFmEUq/4Z7yd8jbZHnTGeeF5NwD5XbqtyuYtOT1xTZyZJQfm98FxZ5wrPFvKEZo4vON79DPouB/CGc56yZRWRwi2vKd2R5BpkBrv/93/8NGcOgFjKG55vJg2+/8kkO5PRuu+0WM4Rf/OIX7XWve13kx+AQRuTXu5/9YdAM4w9djixCFiKbuKdyKeuJJ54Y8gb9Qdm8gIff3MMf/vCQmdShPFs52W9QbBhoY+4RrncaduznoCBGYm4x5Lj3kBts0Umk5ZgtcoVtmbyG6bi23H/cEzh0RA5ecp9x/7JiAn90ErqFLcfsMyNNXPKVbNp0yGgU60z+aMu3zroajZDp+U4dHVWEFUvmpCymFnmd8rqgIFZHxkO5cB9guPDCFAwlDBsUBnnOhOvMKCnLrt70pjfFKCoGEw5DEIVKGK+kp2PPi2cOOOCAWNZFW6AI8WP5KstbecU9zzNiADz5yU+OThVGAe3IKD2f8+AV9fy+6GjRrhh+KFN+d3QQMcrTIOA6MXtJB5J6AB03Onp8boPO3f3vf/9Q1FyLD37wg/E2w1e/+tXxdkM6dvwumQV4xjOeES+wIJzOI50/ZhkwVFjKxjliZDKTwLW+s5R7uQzOe12NRiAd5885vOhFL4rRb+RQ3vfJxj6XyeitR5L1YZtxuOar+13luRKfGSpmrT7+8Y/HIEG5Lcv7YurA9eN3yTOHLPFkUApjjYEdjC5mj7mPMRL5DfM2VGYHkSUYgqRHVmA0om8xBhlUYnkqs413vetd49pj5DEghmwib96kyic3nvOc58RbUTEaSIvMYtDoHe94R8gtZBKykMEIBglZro/84TlI8s4X7JA3AzQYwMgY0uZvLn+zmzu9v0GOcblPWP6W8xiHDOA6pwHOfhp/7OPS4MOf+4mVIugyDEfuoZxN5B7BkRY9lIZk5oEf23TlemU/gWOuKQ7jEN1A3TAGMRRzix5LQ5EtjsGJXL3CMXHTkS/5kB/pyZsyuDfZp3zC2WbbZFvhsm698jLPQUyMjEaxzuSPqnzrrI/RiODhB0sHlqUqPAuG0y05Nclruqbrk+EIcDqmvPiAt+Mxqj3TjEYUFOfITDnfPsQ4xAijrVBkbFnWyYfXeTkOCpA4p556ahhZjOLzO0D5ohQx4niLIe3ESH5+fgPjko4fAyzPetazYnYBI5UZB4xJOnf8/vj8BQozOxMYjaThmUqUMbMJzBTi9+Y3vzmWz9JZoyPAdcIoxeh64AMfGJ0FOoAYucwOMOtIXTEcMRQJp6PK+fMmRsrm7YrMMgDnvjZy4I7AOWYZ1G1djUY6FHkvcg3f+ta3RvvTvpD38sY+j/Uhz71ct6zvRBAvO1JAR54VBMySMwgAmVe5XcXUgPs7O+LMAjKjyG+ZFSDIGmaDCEfGYBRitDEDyfXGuGOJKbKBF3UxsEN+zKojZ/hNY4DmdUeG8Xvmc0AMgGFwfvrTn47fOnHotCO7MDYw/BhAetzjHheGYa46IByZRN3OOOOMWC6LPEJmUFdkCul48zSGZOoF6qv7byW0Rbk9uG6pO/HPfa59Gm6A3sDw4xrny9Uw6nkOFkORY/QO9wTXBKMNhz7g+ucsH/tcQ4yzdGmgpaMO1A+XuqfsqFvWD8c5UDZ6h3pyP6Rhi8GaxiqOc8CQJYx6YEDy0rZ8ARurenh7eO5TH+rBfURdeu+nrCd1YJth2Y5i9choFOtM/sjKt876Go38oBkxxWikk/e85z2vGyqmCpOJiNVdY9LgUE48H8PIN0svZ5rRyD2MEkQx801GjDyUG34oYBQvBiOOc6c96DxhnHHv88ZVjD/2WSJ4j3vcIwxAFDWdMRQ7ypZOIB1FlnMxek+nD2XKkjOWhJEeQ483I6aSpH1zJpSOAsqemU7iYwhioFImipj68hsmjI5czpT+4Q9/iPQodTqQGLakZQaU56U4R6A+PLtJfpxz3htrIwfuCJxnlkF912emkfYlnBkajGRmY3mWa6rAOU5E2b98fmtqczpptAszjMwecc7MAM2U3+RMJa8393nOEGEI8lwj+/yG+e3RgWZVAL9HOtFc75QlwAAPHe6EVQ7IEX7nyC4MAgZ+SM9SeeQGM5Hlt6nSaccopOOPsUlHnrisPEDWIyOoDwMwlEUZzFaSTxoQLElFHlFXZBByi3t3Tffv5gJtBPwmy3Iu5VVCGNcEAx49hFzGSMRAxMjPfhaOa5lGHvtsc4YvDUSuP/cR+6Th2hBGOraEUz5h+OU+eWW9yvWF1JNsgX3unXRpOOI4Zss5cT+yjx5jnzDywJGGLWWRH8fUldUT3PcMSrDPvcyWumabUt/8PSXUFz/yJK6YGBmNYp3hlskfWLI+RmP+gJn1ePe73x3pmEVJ/zJrk5/YuOR1Tya7Jlw/hDJblNd73vOe6Egw08hzfCmwZ0IHNTvgbAFFl0t7UMSpjGkrHLMCtAUj/xiCGDYoQvLIkd2ENsp2JC1blGMqalwqYspPhZ7xIdMBW9Km0mU/rwFlEY4/nQmO2WdLGbg0EPGnzoz+skVBo6wpiy1pkqzHxoKysgzqta5GI2mAcGZHXv/618fLOZBDUM5/KpJtnXXMbfkaJITh8p796Ec/GkYjM84yGqc+vdeUezd/m8zgcW2ZZeT3m79D5AdwXfl9p2zgOPMjH/xzaSLh/Kb5vbPPvcLvnDgMcJGW/FNOUD5h+CF/OAZkYeZBOJ1+7j3kI3FZwkr6NEIyXrneogNtUnYYUlwL2hKH4c49gMNwZICAfa4bA3lcT7bMxjGowDHGPDOMtD/kPcE2rwWwn/cP+8AxcEya9AeOy9syGY+wTIfL657HGZ73EuVxn3LODJBgDGMUs8yZPgbnzKAq9y/nyLmlscj7FNhyv6GPuW+5LzGK85yzDLFmZDSKdYZbJn/YyboajaRFUKAcmGl8+9vfbi94wQvimYk1pRV3Pr1iYnXXiLh5j5RnGstGI8yE61y+j9lHsZUNETpc5bZDsTHiznNEjLSz5DPTsk3Fle2HI7/cx584aWgCijUVP3EJLytD6pf5Zl1JQ3qOE/IH/LKsXkhL2eRHHDovlI2jbMLL9c08NxbZTkC567M8lTDyYakmKx5Y7cDLQqYSE12LPKf/z955ANhVVet/3TothTQSCJAIgoiAiig27AoW9NkQsT2e5W991qcPe0VFBStilyYCgqg8kaJiQRQRbPQOgUAS0pOZue3812/fuyY7h3sn08ud9SV7zr777HZ2Xd+u8bsdpTdpxDeTLtzHx8FKfDN7GkHs5478ckwsyBPLa+qf1V30zDwC6iF2yF9rC6yMA56Yx3Xf3lGvzX/eU5d5R1theuq7tSXWBhgsvLiNQG9lifCwY+0V70DsB8C+hTGTYXkBSDsIN+kKSYQssUWA2WEUJJHZX/a0Q5J4QpogSpAjlM0WQppQ6CHvpL/lkYHfZtbM3PIHPUjnocHeg7Q/8bNZOMDM7Dflh3SwtKA82pNBCdIGskx62JJc0gpzlkAzy84eX2bEWU1jA62kByAcVKvy1+o7ZxK8ZjomBVb5aAxNAcyt4sbKMbmIG8sdNZz2nqcJCe0qBPCNcXpYp2wdEe/s29HTSTHSyxJUngDhyRTAXlzucW/hoKeu4Dd6FGEB7BM+9rBj/pi/APtmZv4DzAFmZicOkyduyE8T+DBH6CBMwsOMp/k1HRB/q4HyihnfEqs4vSYalhexMsT6HYHvsLxHD9L+OaYmyDOri6ZHkY+0K9RF8hYFLF/NnuWx1Vczxy/e0abgD0/sAOq7+QfsXdpPg9nliT2LJzD7Rl7sHXExf9L+zWSQFigIEfvf2dPO6dacRnvGGWeEU2t5BwHiICFWC7A3mQOQHve4xwXFnlYGJ9kawXJN+hyIpK1qIQ8s/01vvy2/YnNg+QksjmnE/sR20ub4lQ4HxG6A/abcQICZMYQkM3vKMmm2ZbBtg60VHETHIBjbL0gL9IceemiwyxLeP/3pT+E0c9KRVW4M4jJraXJK/H2OB8NTxzFpiDs3Kqp1JGYWK8fkY6h5QR6SnzzJU9yYgDpaxB3LVIF1MpY2PGMz+82Tzo7lM3Rm7OcxwmfpZaBupP0wmLkhDsN+m55nmhyYMpg+fmfho/ht/mGethe/j+3znA6wdLdn/A2xmsrfQ9x2FD++z9pY+z7TA3vGZo7Rw8oViPUxMLd6ir6ZIr8Mcf6g5z3gae9i+/beEL8zfdodv6nf5icEMvafJwr7qHjwyuyAuO2P+3jzmycwN3Hc2g18b6xIG54QFtPzhAyySgeyyL5Vls6zioITa3myYoW+hH2kL3/5y8OKFZbVc1oup91yIBHkMG6vY1ga87R3Zi9tNzZPv2uFVnYH82Owd2kQ7/jbzB1mLE1lUJZTfkkb9qiz+oSD6Ng/Szlmby5nC7CPHYWeMwmYlbT9wXF9BIRheYQf6fczBe1bOx0Ox6RipjWmQwGjuywf4pAJlurSEVk6pdNrrNLPBINW/vM0gdDhcIwO1CMTLuM6ZfrYDHtW96in9s4E4VjF7wC/zcz09i5G7Eez90MBfhu5I86mT8PiY+HwTagYJuzPNFgexcpAmvDb9nxycBDL5b/61a+Gu2/ZzsA+eWbPWE6OgiRy3QqHrMWzhmnlkLCHESLJXcnvfe97wzkL3HfMwC37IJnB/dznPhe20EDSWeIKcTeQjhBJyi168svKtZHHmQInjQ6HwzFBYKSdDp5jze2QCBMY0KNsFHOsBavYP8IzgS4W7MY6TMfUB2XBlGN0oO4C6pPVZ2AkEvC039gzAZTfsZs04vyJ7aLiOsw7U2MB+xbTW1ybwezZ0+xZPFGY2UyO2ZsJSKdFnGcA8gJhOf300+XrX/96II30F8wcsvSU06tZasmSU/bmsdyUA21YrjlWed2uIH2YmWUWkpU+zMRyrzGkmxlJyDhLXJll5Ao4Dglj6SqnlUPiyS8b7LAya3UY85kEJ40Oh2PMYZ0YT+/QtsHSwxQdjykzM6EMs7FEHB4dn5FTzAFmpnc4HMNHTKioWzaLSN3iXfy0umj1EjPQqg7G72M7cTjmF0jbGynMD8IwUmzPVuC9xcPcxWa2bWEs4jfVYfnA99o3x2nDPjuuOmIJKvvt2GPHtRkMLrJPj7tvuXMTYsP+Pfaump8AP2Py6Xgw4npJmqNnTyRXRR1++OHhHmTSmf2fHCr173//OxzeR35w1QzLhDm5FbcA95bm5u9MgZc0x7QGFbaZckweLP1Hmw9xfpqa7rAOPv4mjg+no4qFKBvVHA5iP2OFgGJCioVBeCgzx4wOcbhhOqY/4rIyFMT2Y+XYniwxm8YsBcImdZwn11rwRLHcML0Ezp5WZ2PVDCxn5J2dIAloX8xNOm9Gm098D9+SbsNMEaadbMlplmbO95IeID3LGLs31S6IvyX+NtKPdOCETwgjyyO/973vBbLCXb0sneQ0ee7e5dRP7sE0oo1bFPqhqJmEZt+PsjqB3g5yA5hDzklfTlXlXtF3vOMd4RR/9oReeumlYcnqL3/5S7njjjtCHSMPrX7hXzuV16HASaPD4XBMEGykks4GAYyLublyhlFmhC06sVjwHAvgJyBMwBIclt2ceuqp8pe//CXcp4YdOtKxDNfhmGmgDiFEchojh2twQuPxxx8f9qWlFebnnHNOmMWgzptqBRNOTQgGDPxQhy+55JIwQ7Vq1apgz4TiWKBFH/8eKiCAhMPVDmeeeWYIy8JPAyKEcM2BLZdddln4tiuvvDK0NRAiQNywx7eOJD7TBelvs3xDkZ6kE4ewXHjhhSGdWB7JAWnMKHLyKSSGazM46RSQbhBHgF/WnrdzGo4lrG5aHbO8ABBJlq+S3tyf/MQnPjEsXSU/IJQckkM+MfPIAIjVL9CqLrQrZtbXOtoKNACmrCHgSWMav3M1scpgo3E0yJYn1sCijwUkc4t9zI288IzNpzrsO+LvQfH99l2YA2YduGvrpz/9aSCNvAOkEfbtt7kx9zztN08EMPPTngC92cdPnvhLuHSCv/rVr0IniBmCocH8wD6I40FYpgdmZ6aCtLJ0jtMNvT2nkgLkt4F4Uz95Ym5lyb6nmTJ39ht38buZDtKGJYeQJQ4sOeuss+Tiiy8OsxXsl0L4/NnPfhbqH3vYGLQBVu9R+AHsN+8sfS2PUMx8QMYgqFdddVUYEMLc8gd36O03ftnsJL8po63KqdlBQGbWkCWTZ599diCDcTsQx5eBMGbOrrjiijBLQ3xoa373u98F98yuYhc/UbgF1o7YEzsWPk/CsyewOGMWx99+057Zb2BPszfeSIdB+JhBFkkj0oQ8u+iii8LF9BzIwh3XL3vZy4Ke2a84z4HF3dLMkP49UzGUdCBN43JniNMWBXlkLyknrjL7SH7QV1OPqdeU5bgeomYKnDQ6pjVoBOjQqMB0oHQY6OkYebqaeEU+0DmSByhrVHln+UIniqJzN7M4z9DbEif8I59pzK3zn+qwbya+fA/fQdm0b8DMgD2+l3fYs5F9cw+wj3vsGXhn7zE3P3CLuYWJOXqzC0nAP3OPHnfY5beFTZrzDvcIthYHsw+w46iDNLLyaulOWk0VRblCET/iSl5TFvhtceU9eY8es2YK+9jDD+yacmwjeZZ+zBKxH+3Tn/60fOlLX5IvfOELQZ144olhpvE1r3lNONDE0s/qI0/ck85WL83M6iC/qX+4xRwzYGFbXqLMXuwP9dzaCnsHzA3hWBti78xPA2FhZmGaPX7jDmGbe/PYM8Z+MZuh4R328cu+kbgAS0PibHHlafYsfPtewDvc23cD3Jh9a68mEhYm4cdtKdc9sLqEGVvuDnzFK14RyginoNpl+96uTiwsr+InbSP7Hjkwh2s7uAuTNu+8884L5JHVBOSn2Z8pyGiB9tbeMSxYIxwXnb/97W/ytre9LYyWvfnNbx5yJaJh5zjpT37yk8H96173umA+FPeE//e//z2M5NIgo2hsrbNxTB4QDmhQETrYUM5oKqe/zZ07N+SPlSHskVdxWbJ3dKDkKcIG909xUpxhqOVromHfwRPFsiNG3q+99tqQFnwDe1Q44IDvZtTylFNOCcLlMcccI7fddlsQfmbPnh32tnApM8tmWBpGJ8VJeZjhD/awz5I03CN0oGf2gms9mO246667gr099tgjXPPBRdBr1qwJM5tccMypfG95y1tCnjBjgX+c6soSHUZbEXBYysp3kJ9cDs1dV9wPRhwnG1ZWAAIid5hxJxdt0Jve9KbtlnO1Au74fpaKfeITnwj7WWjHhgLLZ2YOmDFGqCCdCA/zqdYOES/ixPfSZhNvRtTJU94Rd9IMO63SzAR/9vwceeSRYRmdfW8rNzMFlt/UG/olTsGEMDKDRN2FcJO+lDmepCXCKVcsUL+ZmcMPjvznNM3FixeH+g7uvPPOsKSR+kn9o46S3uecc05oX/CPtgX3+M+yOuo8h31wWjP5Yyd0Us9pH2hbyHtO46S+c3k/pIv2mpkVFHFEMUPGyZ4s2eN6AsJjxoX2jbjRvtFm4y/3CPJdtGl8M2EidBMn4kCbQlnDPnEhTL6VssjplrQtfAf+U0ZJT0C7xvfjN30JfQP+s8yfNhL7+AUR59v5Lr4JkFZW18eznJLOwOoEijDjlSXkL20pacLMInUJ+3wzdoHXp4mH5Z3lG+WeMgMo49dcc03oY8gX+udnPetZgfhbHsdo1/xz0ugYNqwyxEVnskgjy3xwR8WlEaaC47YdK+t0AflCA0reAjpx9Iw6m6BAPmHPBNQ0zA+EIUb62APEyXGYT+X8JX4AssuBESw/Ys8RHQ7kDXIH4Xv1q18dnggRP/jBDwKRQxiD5HE4AsLcoYceGvZVcJ8je4QQnHDPchkEdfznWHb8wC/s06nhH8ISaYvwht8LFy6Ugw8+OIz4EzeWpZ522mmBNHLfF/HDr1tuuWVgTweCG/ULoQ2Bh/gTL/beMDoej4xPFqw8AMrUZJBGyi/LDgkXwZdj3fETYdXKw1QAcUIIIk48yU/MEMBJJ0tLzOx3M/Ce8kI5Yq8a+6+wSxpO1Xo5UaAskBbUI5Zycs/eBz/4QXnpS1860P6R3tgjD6g/pDVtBINrtHfUMQgYBJL3DPRAOCEaECz8gQiy9w3BlbJ3+eWXhwEjyCEkin1X2KPttFks8otBKuoI/rBUFOIFEcMfDl2h7Fq7gp+0R5Rj2h3ijtmLXvSiQBqxx5JYltlC1vhuwsccEG/aFkglszPoabcgd+eff34goRBV4s23ERfaMNpBvg/ySTtFvURPuaNNIhzaM/wnLhBulsJCdO+7777w/ZBTBHpIGXIBaUHZJN15jnc5tbrDE0VeMyjHYB0zjAwa0raT7qQv8cEOmOl1aCrA8g2QH9Z2Ur5Yek25xIyBcPKS/jeWeXCDe8zaDU4aHcMGRcYqhWGySOO5554bTrvitDFmoyxePIcaB8fYgsYVAYUneYGyRpenCU3kD7+b5RW/8YNygbDy5S9/eYA02vupCPteSBaj31/72tdCR4OAB6FAwEHweuELXxiIHYIbgiWzDBz9jSCEW4RHQJlGIZhBDhF+mN1h9gFBCoERoYxlNM9//vPDYRgQH0baEUiYRUCARWAhXiyRQ7Cj4zvjjDOCgMaFx4x+M/rPKP/RRx8dBC1I6ne+850g2BF/hEGEHgQ8lus8/vGPD+9M2JkM8E1WFihLk0UaEYr/93//V97+9rfLc57znGA2GPGaDJAGfCdxok7xG0V9tCV9Vket7jYDZJMDUSg/tL8QEysDg6XzTIClLcSIGcCTTjopzDJCyCCAtGmUC9IJAsRgJwIne/6M/EHCIU3UN8yZ5addIJ1xA0FjxhFhlRM2GVCi/tK2MFOHW2a8aQvIK+o4y2BpY4gPg1LMwtGe0tZAWGlL3ve+94U7AAmPdgLCSBtCW4DfEESeDHgdd9xxoU0h/2lLiAv2CA8Cx3filnaCb2KACv8ZcGJgizYPO9yRxyAVg1uYQ05JL+4jhNgyaMVqIuzR9vHdEFoIJt/6hje8IdhBhsANpJTvI0zaMhPqaacmalDD6o3VI9oC6hflgbSGmEMYmSVlhhHE8cL9TK9HUwFWlyH15CHgN3WGvoLyCmjvn/CEJwzcl4lqR7JoyH2cndoOxzCRbtQY5WOjPw00MxpDbfSoYAjXdI50lrgHQ3WPcM3IHTMf7J2gQUY4p5NA72piFSPAdIQ8yQMEIszRY4ZgwfvYfrO8wh35CAmgkWZ2DbJj5WKqd6oQRQZSEF5YGvryl79c9t5770DuEKwQaOiMECwQxkgTRs0RhBglh0xCEjHHjNk+hDg6L5YzkW74A2Gk7iFQcWExghYHVbB8jc4Mt4R/7733BhLI6DvhInj+61//CuEwK8EsB3GCoEJmSd9//OMfgaxijpCDQIawRj5YHJgVmey8sPBpS5gB46AR2iAEYOu8B4sj7niPQEw7dNBBBw20Q0MB7iHcCLPkIUI6ZXqqtUGUJeoV+Wb1zn7zPo4v5q3iD3GBFFE3mbmmfAyFnLc7KAfUT56QMEgVM3uAWUPqJn0dZQU95AaSRDsHUaOOMyADQWKGjHpL/abeQwSpzwzUILjiL2kOUaLMMzBEWccOqwcgoxAVZvEgi5A12hMIJuWbQSDaCMgodiBmkEjaEdoGBofIf/pVCCZ5TpvGqgVIHiSYNoNywKAD7TP9N24wo20i/pgRN9pC2iLeEx/KDjOczMBChmlHmCHkuyhPfC/px7fR3jBbSrjEjzQB9CW0VbihDYWk4o6BMuLLUl3KMU/SmbyxQZPxLKf4jSIcFG0spJh2mTwhj2g/6QvMHrB4jWfcHEMH+WCDZ5Qbyg91jjIIMKMc85uyThmOB88sP9sN7UuHHTMCVEo6UTqcuHK7mhxlHSD5wm+AmZnHZml9rMycTtb8Im+nA4g3whWXAiOQQ+YQEhBmENgQtCFgCEOUXQQalqCaYITgA2mhA0KI5Put87LloPYbmN7SiM4LoROBjXAQyhAasYegyrIw7PJE4Pr5z38eBDniiV3ibGFBYBF4IZgIjQijCJwIYoSDPYvHTAf5Ymlh+cGgAAr9ZCviZ3EzPeUlHef4t6m0PyyftLZ2qs2oTgbs++M2ivrGbBp1nPfUN8pCnFZWNjCD6FAHIVcMeKCHpEPsMIO8UZ8hSrQZzETS7+E/bjHHHm0I7Q2zHxBBiBdklbYEMku9Jm60UcxIWhngPcQS0of/+MUydWbEaI9YOgoJwy2kEDJI+8wgCYM0tB3Em3aHlQ6Ui/h7rcwB3tEeQpB58m18L9+C3xAtZnIgpLQ3DLjxXbSfEGcbdMNvyCPx4juJP9+IEE+bR3rxvcDyJo7HeIA4kadWPxj0hITztL2WxNfS3eIz3vFyjAzkC/lk5YfyT12jnyYfGRBgIIO6YGU9ztd2g5NGx7QHlZkKGivMXE0fRUMcq+ne4CL8IJAhfDHDY2WSmTo6HAQfBCGWtPDODndAmEKRBvhhQjqdkHVcmAHM6agQHM1/FP7gH6SOUVDCMMEetwhy+I3QyQwksxx0fEYmsYuwShwR0ph5YA/T//zP/4TlbQhzFibKUYflkaWL5Ql5aXkznVSMdD7HvykzfLejXgaof1ZvIXNHHHGEfOhDH5LPfvaz4VAclkDzmyXUEC7aCMgl9ZW2gt+kP6SIusuMFDN0vLc2Ar8Jy0gn7hjIYZAHt5Q5BngIHzusRmDwB6LIkvN3vetdYfk2S7F/+MMfhvcQNWsL8A8yZmWXAS4IGHGgzaGtYKkogwfYs28gfoTLwBPh4hZz4msKP/ku4mbtH/Ygd/hHu8kT8goBpM0kLQDhMDNLmuAP6UIbBVllAIy97x/4wAfCNzJza2Fb3ZyIcmrfA4gj38CyVNIO4kvbjB3H9AP5RrnmSR1hsIRyy6w4ZdbeT0Q5myw4aXS0BaisphzTExPZsU8ETPijTCLYAToUyBpEDGECYQgFuUPAwC6ClwlrpIWNYCIs4g/v+I1fCHp0Vpibwg/zF5gAE7/HDH+YFWBJJYIYQhqEkOWq+I9Ax37HY445JuyJYsSfsDgEgJlHBNB2yavRgnSNQRqjpjPS3xD/jvM9bW8mw9KF9EDP4AyzYijIFWSKJ7/RQyCsnmIfPfXcflOuaA+MXGFmYRisLgMrh/ymruIXxAqChhltEktJqc8o6jYH1EBg2d7BgTmER9uCe/SEi7+QOQaLiCPxwS/eQcyIk8WbmUK+m3co4hcTR8CT+PC0Nonf9n24h5iaXyaom1uLI/6SluxdfO1rXxuW00IibU8np7Yywwfw1/wYb1hYPGmjWXUC+WUvOuln7005pgfIN6tjlH9mGzFjJp8yF+er2Ws3OGl0tB2sEaYCu5raKoY1tpZ/0xXEH4GQJad0JMzmccw8Ag569rawFxfiiFCUFhItXdAjcPEeQQPyCOHETxQzB8wMsKwMv4Glq6WhCVtGHA38ZuTb7lBjGRpLV9kfzEwD4fBEOGM0lQOq2JeJUEm8WY7DXqi0v44HIy7nlj/TQRnS9TH9zpSjXq+otyYwQnisvtoAD8SLJ7/RU3dxh6K+xulv7YGlsdlDQbJMQYyol9bO4LcJsixRtX19KEgV5AqyCNFifyJLYFnSiT3bD2mzk7RRPPEPfwHxtOsvCNeWyhI+v21ZPd8fk0EDbZqZ8+Q3ep4oZm8YyCIetEN8B2nGQBWDWyyV5x0DXAy+ERaHi/FN7MuGmNu+ctImLp9xPMYLFh7pRLxJS9pwCDx5F8cH8Dtt5piaoHySh9Ql6pYtNbY6T3lu5/z0Ht/RNrCOyZRj6qNVPk33BpdRZQQwBAb2/rBUisMvGPn+yU9+EvR0MnRANpofdzbxb+wwU4B9SCLLwhCkeOIve3l4R8cFcGNo5h/ALgIf8YTccjgDS1IZEecAHGYSiSsnOqLHPstpUSzLIU7kHUKRY+iI82Y6oVW8vZ3dHqQTRIn6Qh2BKEAYOGTJFO0BBAw9g0jMqNmgD25QAD9M4a8RSFP2G7cQJNoC/IW00b5QlyF77BlkSTztEeAgHogX7mhPOAmSk3CJF3Wb2TAGhFhyx+AQbQ1PViFACmlHsEe7QfgcQsNeQtoh/MUue6RtCTt2SAdD+rtA/G20KbSJCOToiQeHePFN1paSbsSD+HDROstRGYijnWQPJvsZGRSztMRf7POcKPBNhAm5hWwTNm0u323vHdMP5JvlLX0mfSJ1hry18gtatZnTHU4aHW0HKqur6aPSoOG1zt3e85zIDn80IK7sLaIzQVBDaOQifY6x534yRu5ZUkWHQ+fDb2DfZx0PCsELwQcBilFqiCJ+nXjiieG4e4QmBDgTyswPBBP0PK2TA2aGwl+e7FdiNpH4MqIPWUQIxV+EUK6T4Ij8b3zjG2FpKu7oJBnNd9Rh5dPKq+UDMDMDv6eDagV7F9sx0jNaxOk2HWFlAIHSZhk5sZT6w7VBJ5xwgnzhC18ITy7+56oMSB71k/qOe9KSp/ll/qLiegx4j2K5KMSEusreSUgUZI54sISOtoM6y2E2kDv2MX7lK18J8YJc0k5R37EHyYQQMltIHIkr980ym2gkCMX+PGYlIZVcwUL7dsoppwTCiD0U5A+79h08Le4mXANrk8weszcsh+dAH2YKGWj75je/GdpP2ib8ph2CJBJvvv2CCy4Iafytb30rfBP7HvkWlv6TbpaGFv54wtpc+x7LX8vjiYqHY2xBnpGnlFXKIPWb8ki/zOAP7zBv5/x10uiY9qCiWuNsT8f0RZyfNM40vvacLoDEQao46ALCB3FkNB6BkH2EnEbIUk+WsTIyziETJiziFqEJIseIOYIXJJPTCTlhEKLIiDsdFkvN8A+hj+UyCH12uiB+IaSQliwlwx7hMQKPPYRJlqUhfBFX3CFUApaHEbadaMj+IJZ6IfxwtD0zFxBjOsiZXuesXPK0tBisrPKu2Xszn4qqmdBN3lv5MsTvDbG7Zgq/pztIA0sH2ipIHHWLpZ/UX2b0uDoDBUm03wickCoGbjhZE5JDPTZA9GgfIEB2CigkifaDUzghRHYiJ4fBkJbMxDEzx6AUdZ56zlJP6jNLOGkDCJcrM4gHdZ89gRA03PCbdgV/manEPwRizOwAL+JCm8K1HZBHZiaxB9GkzeC7+RbaMto/3BIHa9toQ1gOS1rR7vHNxItl8hBWyCBtDN9JGtgsIwSSto04EgfiiN/Yo43l6hBmUimXxIP4spqCcEgbnhMByjXtKk8rG6QlhJp48DsmFyjH1IXloSlgy6Upc8yGM8Br7WQ7wy/3dwwbFBkqTlx0Jutyf0Ygudif0VsuBaYjsfg5pjcoG5QJBBxGxREQLF+nav5S9lAmoEC4EKgYpSfOCEMIlAh+CDYIFuzLAZAwq1O4wxzBAqGH39hHKMMc4cuEIQQu/MZf3tF5sVQGBXgHwWTvD0KhhRH7g5ntScKMeoS/CDoIltjFP+KNfYRc/J0oIawViLeVBdJnMi73xz0zRscee6x85jOfCXs/MTehsFXYvDMhg/CxN1g8pwooC8zonHzyyeHCcgY3iDflZiSwdCC9pjP4DlN8j+0FhDTyOw3MeAcBon6jIFC0EZQH3uOetKVuk76UZ/wlD3hv7Qj1m98IshA885v6Tr3FD/zkvc2OQMCo4xBS7GGfPMAe72gvIGIMMuEH7ZO1LcSHuOAfRIh44o648x7F9/Cb+NGuEA5uMGdmED1+WlrgF2HiBrB8F7tmjzCJD7Oa2IdMs3+RsPCftpFv5zdhQU5JMytXVs94jnc9szDIz0svvTS0CewjRb6BMBMv3pPm2AXjHSfH6EF+AvKMMszKm+9+97uhDnzve98LAypxO9aOeeozjQ6HwzGGoKOwjgPhgCVcjPKjIL4Ieggv2ENBwCBiCEJmhjCB0IPwg11IHLMKzCgygs7oOyP3NnPIO4A/zCIiOOGPAYGLmQH8RREv3BI2HSBhY4afhIl/mOMfYTGST7h8CwIccQIIhI7hwdKb/KGcIBQbeDfVFHGNlZVHE6D4BhN+m7mljKBiM8CT31bmp3tZsu8gfUgTyA/1FVJIvU8rZtqob1YOqLNGGAFP6ijthZE00oy0h+ThFjPqqhE/6jj1lVlOnpiTN/iFMkLFLCDtke11xH/s2TdAJpnRg5jhD/GlLSBM2htA/lu7gh2UfRPfYQNLxI82yeJhbQ/+kOd8E/b4LtoX3AGIMVdVsOSWVRrsrWZfJbM6uCMs0g3/SWNmKGmjeBJfSzOA/4RNeZtIEK6lKzOgDK5DhDEj7mCi4+QYOqzNMkUZsrLEwXGswGG5N8CMPOV9O8NJo8PhcIwD6DzoaHjSmViHgxkCl/22TsaeaZhwbcKVCY9pt6a3dxZ2GoSbhsUFmF9mhgCJigVLIwGO4cPS1wRmlMHeTSVFOYjLKvnObyvTKL4ldmPK3Nm3xWXGzK28YrcdwLfE39wKcf00AhGnAe+b1THcmFtTwMoRdZS6avaACbOW1hAtBn8gcISZDgcz2hn8gczF7Rd5bb/xj/AgiRBSzC0e2EUZLGzzA/f23ZiZW9MTLrOPLE3lcnwEdJbdEneW9qMI1+KOfQgn7+PvsThghrLf4wnCiOPAdzEbxd43liWz8sTa0NieY2rC8skUM9rkJbPhLFEF5LnlO/nNsx3hpNHhcDjGAXQgCEYmbJkZwhiCFuYmOACe6d+MSltnhDvIJh1SPIIOsBuHAbAHcIOZCWTWoVk46d/mF08TDu2d+U34vDOhzzE8kJ6ku6UtSw5ZNogwMtUVZRRhHjAbxFJGli2m48/yLZ58Gwo7PHGLsvII4jI3nRF/j9XVuH41U7wH9sSMNDY9CmBGeUmnGwpzU8D02DO7wOorflgbAjC39LdwgMWdbwHozT/zPzYD5hYzCw+zuM3CHDPcEgbtHMCMsCCg7JV89rOfLc9//vPDoBX2mEFlqeczn/nMMBOKnxYPFPr4t4Fw0vGcKPA9xJM2n60KHIxks1OA+DqmHigv6SeKtouDljhoiroS1yOzCyajrE0EfE+jY9igyFAh4qLjexodYw3KxnTb0wji+pGOJ98UCwmxHfQxYrfN3BlieyagmH3soUdIs7DiMGOYn/Y+7c7eoczvZv6kgT0wFLvDRRwHOvDpsKfR3BA3nlxxQjsGyUKwJN1xgz3DeKTdSMHBLQhNLBVkTxnLIpmx4ltixN9u5cUUBz+96EUvCiTA0t8wlb51uIi/OdYPhnTdBubW0it+b+UD2JM0NIIGcGNoFp90mPE7g/mBub2nfSGc2C7vUOaf+W1P8yeGuTd/Y338fexxZL8kZAtzO8SL5a3UFfMb+6a3ePAbFX8nSH/7eIL0ol155StfKYcddlhYDsxSW+7HfcYznhGW49py33ScLD0c44d0GtvvuAxaOeI3bTSzi7/85S/DDDjLvH/3u9+FcvqDH/wg/MYuiP1tJ0xMzXE4HI4ZAussmnUaacEgtoM+VjGauWtmz0iS2ee9CZNmN+3GYP7htpk7YO9NH8M6V1MAoQnY7/jdTEWctqQP99p9//vfD8IHBBIyFj85nQ/9VFEIvYB9rgjzxJ84QiRjxR40I5f2ZD/az372s3CYCXuCEM4AaWJqOiOO/1C/JV23gbnlmX5v9TP2PyaMwN7HdmJ92s/4nSF2b0/al7Rdfsf+md6e5k+sDM309n2AJbScvsrJ0ZwEyx5LSKMRV9oSs8szjkf6t6GZ2XiB+BFXZtg5xZaTXhnYph5cccUV4WAfZuPNLu2B1Qlg7SXKMb5Ip7GlOwMylCVWVXAP6SWXXBKII3t8OZ2XGXEri8D0af/aBT7T6Bg2KDJxJQE+0+gYa1A2puNM40yFtQc8UQhnduiDmY91/sV+0rlPl9NTbWaI96eeeqocf/zxoR1jKR7mxMfsgFiQnGwQF+LFdxFHfvMdzYRx7Ng3UBaw+7WvfU2uvPJK+dznPhfIgKUVGCyfHA6rT5Aryh79vdUNzKdS+SGuxJM26SUveUmQcV760peGu2+RW1iiymwjS3A5dZPZevsG3OE+bjvBVPq+doCVnTh9acfi9EdP28WgFzOM7K095JBDwswxKya4P5Qlx5yeyuFSAH8tL9sNEzfk4nA4HI62RdxBmj5eQsbT9DMdCCaWHiagcKoly+44CZLZFFN2UuZUUewl42nxYokdAzqYpxXv+Sa+w36zP43vhSiasrRwONKgXCCEmyBOfaH+MCAUE8apBuJk9Zx4Us6ZOWWJ6nOf+9ywRJUljpwO+6tf/UruvvvusF+O78MubiHG5hfK68jYgjRGWTtkaWzm7MOG5DMo+POf/zzs32Y/7dOf/vRAEMlPK4MzBU4aHQ6HwzFixIKMCTcAc06W4zJzE/RmWgfbDGnBjxkGyDXpRhoZLB0tTaeKApaPFl/ytxmwjx17z7fb4U7pdDC/HY4YVoasrPGbvWUs7aQMTcVyY2WbuKGnvkAAqecMtjz5yU+Wpz71qeFaJb6Dpekse2Q5Oku+qSPxN5sfU/FbpzPIE9omVFyWIIuQ+D/84Q/hnk2WErPEmOtpIPwsS42vnppJmHlf7HA4HI5xQSwgQRg5Yc5OC8SM0dyZDhNMTKBEQEFoQVDkt6WhAb2ZTwVFvBGWYgHWfqcVIP58H7/JfwRnlMH8NPsOB6DcmLKyRxsCYWQ7DMvJjWDxbiohLssWN5vJIr5cDcIl/8ccc4w873nPC/XnnHPOCXubL7vssnCdA9dy2Myjff9U+87pDvKEGWuelDP2l65fvz7sWbzoootCflx44YXhahfI4hve8IZwH6mtoCE/ZxpxdNLocDgcjhGjmYC0evXqsOzqhz/8oZx99tly/vnnh8utEfpaYaYJRnwnAgcKwcX2X2JOmlq6xuk7lWB5NZjgZN/B3jNgBJJyMNOELcfwQPmw8mPgrsOzzjpLvv3tb4d9gWeccUY4cMnIJbD2w8pnGs3MxgNGdoF9A79ZWcCTOsGybg6Ues5zniPPetazwswjd1Ky7/f000+Xq6++OrSlzeoLfgz2Lel3zX7vyI+pgOHGr5l963fsGX87ioG7FStWyOWXXy7f+c535Otf/3o4rGiPPfYIpP6FL3yhHHjggQP3gBrZxG2rPi0ut+0Eb7UdDofDMWJYx2tAuGG0lpkAlvZwcAAnZv7iF7+Qa6+9Ntznx7UNdLbmDgHLBMRYwIr9bWeY0Bt/vyFOl6mgDOnfg8HsUjZM+E3n7UzJa8fIwdUGLONk9QKE6txzzw37ATnBl+WDzOIZeQRWPilbtDfxu/GGlWfigN5+GxkGPNkTzIE4Rx11VNjnyJ5fZhr//Oc/h2WrLJFkZvWmm24KpBmCY22nfVfclsYwO/YutkPYpqYymsUv/i7ylO+3GdlmMD9Ie+xjj1lFDtljMJP0JZ3/9Kc/hXLF0lT2YHMwGfnCgV3szbb0isuRtWczBU4aHQ6HwzGmoCPlYBdGatn7wTIyDhPgLis6ZDp5YB04z7gjdjgcjjQQ2Lu6ukK7wpUHkCiIIzNDXIdgewEhVun2xIiDPScaRnIAcSCeNmOFgjw+7WlPC6cov+c97wkE8t577w0zXyeeeKL8+Mc/DjNhzIhx/YORZPw04mLtaPzthGXfvKO21uI3lRHH0dLR0hLE34jiN/ZIL8oFh9mQfuy1Zykwq2G++MUvhpldrgHiNNsPf/jD8qpXvUoe+chHhqWp+B8vqZ/JcNLocDgcjjEFnTSdOAIex8lzufW+++4bll4h4DELybKrZksV6eStozdhx+FwOGgPEOJZIsihJG984xvD3kAOkIFccSXC2rVrQ9uDXWtLgJGLVoRpItCqPSNOvGOWkdOTDz744EAgWRZ55JFHhm+E8EAav/GNb8hXv/rVsDyXq2sgkazcAPgRh8G3G3kC9j62A+J0mkqweMXxS3+fmcd6YPmNfQgjg5WkH9smIOEnnXRSmGGEsD/xiU8MM4pcjcLpqNwHSvliOSrLiUHs90yGk0aHw+FwjCnoYO3wE2Ya2bNzxBFHhI6Ye8uYHYBAcnIgB1u0Io4Oh8MRAwIEKeSOPO49fMELXhCIFrNGXIvAvc8sOYRkGUGiLcEdz5h0TCTS4Vr7ZnEykoOaNWtWuNKBfY4MuHHFAwewQJZpM/k+lv3ThvLdLNflhM/rrrtO7rrrrnAImX2/+Yne4pBuW+2dvZ8qiOMVx428jJfk8s6+ke9mZcstt9wi//znP0P6MJhAv8MS1L///e9hmwRLnRmAYDaROxchjJxou2zZskDeATO5tiomDn8mw0mjw+FwOMYU1sEy00gHzAEPjOC+/e1vDxcjc3gFI+YcZMHJqnT0dNAAt95BOxyONCCLNmvG7BqzRBCr//3f/5XHPe5xYd/faaedFogjl7FzAin2jDiByWpbmhE1A3rbk8c3xoSop6cnzHxBkN/2trfJ+9//fnn1q18dVm4wq8q3nnDCCQPtKXs8IZSQJpbvsuSSPeYMzsX7Pm2Vh5HpqQziZ0SReJuevGWPPMtNIYEs5+VeRWZgL774YvnRj34UVrYwqwix5tv3228/efOb3yzHHntsOL0WwrjPPvuEWUXCsTQBLEklP8BUT6OJgpNGh8PhcIwYaSGM3yiEtHjZFDOOLLNiGRBLr+iYOdQCIY9RYI6Xp2O2zhk3cUdt+thOGum4ALPfSpmAANDHv3k/XmgW16HC4j6dYPG1sgHMjDS39LBvi5UhFqZB+r2jvUE5Ib+tDPFkVg6h/+ijjw4HylBGOK2ZU1Y52ARCYeUE97w3mJnpJxIWJ8B3QICtDkBUUPaNDL6xh5N9j5AeDmZh9pFZVsjki1/84nC6JySH6yI4gOzkk0+W4447LpBJ9usx20Z6MBvJfj5rbw1xfNJoZZ7GYH7EiO2gt3xNu4/1BsgvS02ZRaTfYK/89773vbAv8dOf/rR861vfkt/+9rdhxpV0Y6nvy1/+8pBGHGxz6KGHhn6ImVtWvpCutgTV8sHSvhksjwzN4tjOcNLocDgcjjGHda48TRigg0bYQcBjHwkn2LFkiFFh9pew9Ar7Rg4QJkygsCfv0x23ATs2gs6oso2qW/hpBam18LCbvj8wfo43Wn1TKxBnvtW+E2XpNtUUM8kom02JZ5bJH/S8Q4G0ewRc8sq+z+w5Zh6oJ1YuDBy6BRngegRWMvCO/WuQR9oVZtsA5QwyYOXQgH649W+4SPtv4cfmpk8/jTyiuKpj5513loc//OHylKc8JZAhDm1h+T+XzkMs+T5mGiGJzLrxJD14/uUvfwlLWTmdld+kDwTsxhtvDKe24g7CRVvMMk9m8CBqLHll5hY9s3vMWlInUVZ/qZ/WlqZ/U+dxYwo/aP/tYBrCYZ874UIKmTFEsRSX6y841ZS+gu8g/nwHiu+w3yw9hRBD/FhmSh/zile8Qv7rv/4rkGt+k24MYNLWx+kbP2NYupsC6bLTDK3MpztyH1c09A7HkGGVx0BFZySLO4cY2Um/bwUqFg0DR0uzvAT3YKjuGTVjOQZ7phiBo7EAQ3XvmLqgbFCm6KS4WJflI5avnr9TD+QJecYTIQ2BBCFg0aJF4SRAjiw3sOSKPUnsRcIugg3CCrMGS5cuDZ23deqW13GHHue/6Qn7tttuCwT0EY94RJh9QFiBcCCg8EwrBBnKF0+WydIOMYpv7ZAhDi8NwkWw4XAfluASNrD4tnJr5gg6CD7sp0GgafWdafCO70PoQgiLv4vvnUrKhEviybciFCLcU6ctH1DYbfYNlo/mD4JznDaDpZOjfUBbQfnhOX/+/ECaIAAMPDA7RBtDu8J1CRAeDsiBCNGWcOIqewKpX3HdROE+rndjAdoFwMwfJ5+yjPYxj3nMgIwCLPzhgLiiAG75br6P/Xm0nchBkCO7X5DfEChm01imyimztDlcXs+STdpplrMaeeQ9CuLIITtcS0FaQuxoKyF6MXG0umv1FmWkMDbjt12ez7Ja/GQ5KSSPtpf2n3YUmY74ESfymllDLthHFqBt5x3tB/6Rn8wY0pYgI0CeX/SiF4WVLLTDpAcDCmm5MP0cLqy8QIjpM4g/4VofZ/3gSP2fysjox7UnHXaMG6xCxEWHBof19v/5n/8Z1osPtbJQ+ViT/8lPfjK4f93rXhfMh+Ke8DlBjCOqv/CFL8jLXvayIExY/BzTG5QNygSd1le+8pVwEbLlq+fv1ILVOetM2VvEciEEAISW973vfeEUVbOHotOH5GGXAx0QECCY7DH5j//4j6BHILJ2Bn9xF9fvWE8HDnGjzDASz54fc8O7ZsA9AgXvGUknvhy3Tjtk4QILIw3s4JYlUuyR+cxnPhOWQmFucW/m1sx5cg0Jp/l95CMfCbMGaaGyGXAHkUKAOvPMM4Mwxsg+YZpAOVUQx4l4s9cMYZFZEbv7jDS0fDBg14AfkEWExIc+9KFhLxJuzU6rdHJMb8RlADAbRl3hSTn40Ic+JMuXLw/2UJQT6gJ7+ZiZYjCKmSnKCktXEewhjwD7lBvaCNOPJawsQ8xozz73uc/Jm970pgEZxcIcSbi4Bbg1PXXM2hwDdQaSZkSPJ4q2F3MbqKEtIb48aUfwC4UZCn1sbvFHpX8bTG9pbN9qv4krTxR1H2W/eWfv7R2K5aYoBhcZLCAtGXhiEBLSzEoW3BDGUDBUe2lYW0v6IrtCHFkiy+FFgDSxb203+EyjY0RIVwafaXSMNSgbPtM4fUCekGc80zONjHxzGA6wZUsQAMgdQhwdPqPPjDRDJBEI8AvhAHux3+m8t9+8Z/kUI9eMdKPHT5Y92RKotIIoUr6IL3YRpJi9OOigg4KfhnSYMQh3MmYaAQLxl7/85fANCIB8A0Jhs2+dDEUekLakq80w2LUClAHeYY935BN6y6s4z/g+3F511VUhf9mbRBkx7CidHO0BykuzmUbyn3bFCAfvWGnATBODjlz+Tx2l7KEgHsy8YRfg3tqXsQL+gfGYaTS/03FGb++tHaHfZLZt8eLFIT2YdWR2jjaOk0NJJ4g3+/sg1yjIF2lkBNcII+0q7Qszh9RPq9dWt6nD1Hl+2zOuw7jFD8gW9Z/4GiGknacfIO+IK/0CA420p8SV2URWrBxwwAEDceZ76EP4PjvxlHia36QB8Y/TDHNTIwX+4Tfh+Eyjw7EDWIWIi47PNDrGGpQNn2mcHrA6Z50ps4df+tKXwqAORCg902hPOl0EBgQKu6j7ggsuCEIKAsLhhx8e3CMYYB8hD7cg9gfgF8IIS6oYMcfc7JibNPAPu8SBPTEcGsEJr6997Wu3c2NhpIEdwp2smUYO+zj++OPlve99byDmJhyhphJMgLXyYd9P2lk68eR3s7jjhjLB4R4sOWR2FYHR0CqdHNMb6bLQaqYRGGm0ssBvZtFoV2hTfvazn4X24clPfnJYzUC7AjnBjZVJnmMFyjIY65lGc2ewNIqfsb/UOfuddsc7FHG12Ub7be9IR36TNmYeu+eZDjuNOHzqeWyH3yjLB5SZmRvaRH7zNDPCtqeB37i3+PDb4mfugLnB7khAmhAfn2l0OIaIdGXwmUbHWIOyMdqZRussaOTRx52ENeyAd6ixBH7TyfKM45sOt13AN1l6MxPATCMjzcwEIKjx5NvJA0sTU+zJYXSbWUlGjBmdt3012GfGkRFo7CLcxPloYaKo/9jDHxs1R0E6MUsr3jEDip5ZRw5aoA3idD3zEzUYCH+iZxrNnAMi2PvDgBl7Mfn2Vt86mcryIa0nrqYnH9Cn42/2ec9MI2WDQy0oL4Yd5dFYI663hG1CaLN42LuxQByu6QkTvanYbLrC0pFnrGhPqKPMXDG7RJ1hdgoY8QDYpS1gNpF+g7KDfQaUGNBi/xygTbJ2xYA+nY7x+6HC/Bjrmca0ffPDFGnQ6ncMe2dkjLSy5Z8s96TNtSWfpBNP0pD0MmV11lRcX9MKu5YPpvAXRR4RFmESNnFg5hGCjaJ/IJ4Wb4N9F98R570p+x0/Qfx+JLB+jP59ps00buudHA6Ho81gAhudIp0Ov2noIR7oebLUxn7zbiyU+UXngR7SyqhkPJprdsYy3MlS9p3p33yvdaCkP50/sM7UntihE2akllMAmXFDAOE+R2bxOFodEomfuME+ytxamLxrpoaD4dqfLNj3A4vzdIl7q3gOFv84zycbFg/ia+UOUA6trrNcmN+8s3oxVop6QDjUL578BsQFM8LHvJnb6aCIezNl7+L2mnYlLjfo7Td2IB3sb6ZdQUFWGOThUBUOWWHpKjOSlo/mr6Vp7Hc7YzK+c7hhxvZN38wsjeGG42gNJ40Oh6NtYaOTCAQmFCB0sB+DmSXbx8aT/XeYjVYxy4ZfnA5nesxtjxZ6lkyheDdW4U6m4ltR6Pke0hTBC0AU0Zug1wwQRvKG9+x3Q7g75phjwmEpkEXuGeOiZvY7YsdGlclTc+uCgWMywYoI9nFRB9jbRR2gTlDP47oyGkV7wpM6ht7Cof0iLMwxQ2GWdj/dFd8MqOu07TG5awYbKEQxM8ZsENtnuJ6DVQy0KcwC0q6w1472BNggI78H89/hmGnwPY2OYYMiQ6MdFx3f0+gYa1A2RrunET9iN4z+c6w4J+uxN4oRZgQP3rE8B0I5WuAXirAhNDxZaoPQQlgIPhAo3rVD8xunL4pvQpAlnflGDqtgzx2j/VY3zU0apD8CG+mEsM3yc7tTDMLNEnb2B7EEnjQ14J+l93BBWLhjeSm7Nd7whjeEdmwo4HtwP9F7GgFphcCLW9o/TodsFd50Bt8E+F4u72aPGMI+B3fYu4n+ZsKlvFkeEzdbKky7wgAR7wBxw+5oYeUl/mYGZLhewg5Bol2x8CY6TcYa6fjzGzJMOpO27OHlpGOu2GhVDiwdUJY2EGvaFU5sRpFXkEiWPHPYirmz/B1JmwJoF8B4nJ7qmFxQ3ykbvqfR4Rgi0pXB9zQ6xhqUjbE6PZVGHP9o5Dnyn2VJCHgsTeWdHUVup7yNRuGP6RFIUDbLxjuEFsKBsMZ2p6viG+w7+SbMEGLZm0ad5IS+Aw88cGBPI3nXLP/IH96bnj007IFh5pHftDEQUYQu9r0gMLP3BaEO/7ADhls2cIcb9h5ddtll4aQ+a4eGAtxPxumppBUCNG5p/x7ykIcE8+F+/3QB38sy5amwp5HwiI/lFfWbsgkJ4ZoHBk0QLK1epOvMSBRtlempZyjqGfWA9oR2hZlOq4/TuW1pFnfMSHPaBIRz2hT2HtMWWP6nywG/IW8o9Aj67JuDaNtBSlz/wjJ48pC2xdoXZAncWPswXFh7NNZ7Gh2TD6v7lKuZtqfRZxodw4ZViLjo+EyjY6xB2RjtTCPAH0C5QNBCuIc4InAxC8YpfIAOIO7QR4q4XgB+08EwkwkIF/AN072sxt9KOiOU8bRvMiGMWVaE21bfHPtjeuyQJ/jH7CxtDKebIhhzEiuXVzPbwB4lDs8ZLB0He0cY5I/PNE5N8E1gqs00WnuBHsLB4CUDUegplxCbeABgtCAclH0revynflFHCBezGNO1LLT6Dr6Tb6YtoT1lYIp6Zmj1vZZuuDe9DdoxM/ztb387XOXCwAvCPzOOEADI40j7BdwBn2lsP8zkmUYKrsMxLGiFGHia0s4yedzjHpecdNJJA++HAm1Yk5///OfJwQcfnKjwNODfUIC9s88+O9lll12S008/Penr6xswd0x/UDbe/OY3J9rhJnfeeWf4PZzy0QybNm1KzjvvvOQTn/hEcvzxxyf//Oc/G28c44XR5BduyXewbt265P/+7/+SN77xjYkK5YmSpOTzn/98csUVVyQqMA+UDe3Qg30Qu28F3qMuvvji5MlPfnLy/e9/P5ibf6bMzPwzPeHRDu2zzz7haWaxuzRi/1TYSPbff//krLPOSlQIGXDXyq2Bbz7ttNOSgw46KFHCG8wGc2NxirGjMCYazb7bzEibD3/4w8mTnvSk5I477mi8HRnwj3xKhzUcmFue/f39yfnnn5986lOfSpQcJFdfffV27x1jj9GkK3XB6gPtihK75PWvf32QQ4444ojQP1x11VWhv4hBmSGvhxK2hUG70t3dnXz1q1/dTkYZbflzTB6svyE/P/jBD4Y26YYbbmi8rZeTds3bsRsGczgcjikKbesaujrsd9rcMfYYzWgrbplZ0E44LE9miRdLE1n2ysEfl1xyiVx00UVhtoA9XeSnzXYaBgsfe83KQNrM/ODZTI99FRCDsjjYu6kCixPxa/XdUwHN0o24Ys43oJhpwmy432D28cvCGWk6tIrnSOLlGD6apf9wYO5pV9hS88pXvjIseWW5KqsOfv7zn4d2xfagU7dpi5jhxC1tksMx0+Ck0eFwOBxTEiaAI6TxhDCw9/n1r3+9vOAFLwhmLAtkaRB7+xDw0gL7YMIl7xAEeQ5mb0cwf4gfT0hZTFynAiwtgX3zVEM6ThZfS1/SFOF9pHHHXeynKcfMgg2gGNjnyF5mtkOw7J3l7uynP+WUU8KSY/aIYh+iiKIM4YfDMdPgpNHhcDgcUxIIajYrZqSMPYycxMr+P/Yx77rrruGE1dNOOy3cvcYhJLE7IwmtYPZMGDSztOJdKz1u0RsIPxZKpwLiOBHn+BuaKROQJ1I1iwfK3gPKgcU9djsUBdJlA+WYWbD8B5QH9BBH9qTRrnDlz7Jly+RPf/qTfOc735Hzzz8/DEjZoJC5cThmGpw0OhwOh2NKAsHMiI4d9IHAN3v27DAzwHJVDq7g1NFbbrlFLrzwQrnpppvCIRdgR4IdfptiySNCIW54mopn5dDb71iPWzssA3JCHM3NVALfZmkaf0MzFafBRCnCjeNm5qRt/I7ZRjM3O0NRRhbwy9LDMfMQ57+VKeowitOPOY34JS95iRxwwAHh9FPaleuvvz7MOJo7h2Mmwkmjw+FwOKYkEOYgYQh5CHQ2WwQgDIsWLQon4DIzwOm6XNINeWRWAEAShgNOw+N4fy4S5woD9k3Gysx4mh67zG5CagFxnqogbqQl6cJ3xt+SVvbNk6W4p5Mn6YsexbUTEEbSO21/KIqTd8njWOifyvnlGB/EAweA39QJG5zgSo7HP/7xYdaRlQx33313GIyiLGIP5eXGMRPhV244hg2KDA1mXHT8yg3HWIOyMRZXbgArEwjKHJ7ClRvsW+H+R+4RnCxYHWrX8hp/H3pULKwNBZZ39jTiiD933HFHaHvOPfdcufHGG2X58uXy/ve/P+QpB1ZYWIOlr5FSZhPe8573hHLBMjWLezPE/mHvrrvuCopj9Y866qiBWS38bRZ2/E0TdeUG74gTIF6XXnqpnHfeeaFOcA0M7kgL0g0CHMdjokFcDfY9xJ27ECGP3M+HYB8PIsQgbRhkALgzP7iq5S1vect2VzXgh+lHAuJKelF+uO+P9GMGnJnwwfJjPDFZ4U40rJwM91vj8m1liDKD/MBv+hwOwaF+cY80Ze3d7353OICL+2Zxa/W7Fcxfv3Kj/WArHWbilRs+0+hwOGYcbDkhjTqdtwnTE412Fhpigc70gwlZrWBueSLs0Vn39fUFkviHP/xBfvazn8m1114bBhUOP/zwsBcJwczCMvfNgH9mb8mSJfLkJz85XPrNTCWnsZrid6yYcTA97+2ydQsXgXGq5SvxIW4Wr+uuu24g7bgcnqV3zMTxbTzj750Kat26deFuRu7Q6+zsDDOHcT7EivjzHoKJHdyy75VDkzCzPB8tYRwMg5W78Ua7tikxRpO+cZ7TD1AeqLsMoLAclYFFBqQZXGQ1w1Of+tRACLi7Ebc7IowOR7vCZxodwwZFJhYEgc80OsYalI3xmmlkxqKrqyuQDPatAC8z4wdrK0aSxubWnpCzO++8M8wuXn755YEUsKeRS/VZUjZ//vwwKGCjvaBVuPhpZYPZNpY9Qkhxb+HFMLPYP8JhlumLX/yifOxjH5NXvepVA36CZmHbe54TNdMIQbYlvtj52te+Juecc468613vCifSIgTjnu8hDugnC3HY8feYfkdx4xtQfC/pRL0nnRhoOFoBQtcAANqcSURBVOmkk8JBSvGgUas0GwpwbzONEHDCfOYznxlmQ8Fo/Ha0RqsyMhxYOaHsc9E/y1CRRzhQi8EHiCL1mYEKDuCi7pC/Ft5g4fpMY/vCZxodjhkKa7xNxUj/drQXEBSsYaeRpyNIl4exViakmGpmZ7qp9DeZQmiK7Q2nA439Tru76qqr5Lvf/W4Q7niHgP6KV7wiEB9mBYz8DDVcew+JYNkie5hQzDiaMjMGLlDpdxzMAxAoAfEm7KkEI4KWJjwhO3Pnzg0zeHwHzz322GO775sMZelsab148eLwZJkgsz3EFT3P2J0pvsG+ydwyO8meSEA+jUf+UOZRVm6tbFm6j5eyOmeqmZ12UPH3WfpaGg8HsR/2m4FvBnAuuOCC0IY88YlPlKOPPlr2339/WbBgQag/Q13y7nC0K5w0OmYs6DTsafoYZt5MOaY/THAACAI28zCeinBQzd5NV2XflFaMxPIe8Bxu3cGuuQPMAv72t78Nl27//e9/DzOKEEUOwWGWDXJg8Ymfg6FZfIz4DRWEYcKkkQYrS1MJcfrzJM7EEwWIr72nbkwlEEeLk+UP8W2VxtglP4DZ4zffDMgjQys/RoK4zFn7grI4jJciXAt7JihAupLGIymrpBVlAD9YucDS5V/84hfyl7/8RXp6euQJT3iCvPSlL5WnPe1pYcABWDhWR+zpcMwkOGl0zGh4w79jkEbN1HQGs4osQ7Q9XOx/anaC5EgVfqYVy53YW2V75OJ3zfyYLsr2kTVTfCtLA5nRMiF6R0iXL2aHWDrG0j/uTPv1r38dZsdYCs9ydjv0BmESdzwJywTMoYSJ/ZjomVtTaYE8Bv4jgMaEAcTEZCrA4g6ZJz9iWBpZ/NPfOFEYLFxLX+KaTus04ne2Bw0z3FkZMb/s20cL/GG5GuWV/aHU9Ymo34SDor61S5sSf0es7B3tNmRvR3XM8jetrC0iv/7973/LN7/5zbCMlC0LrFrgug2WpPLbBr9MAXs6HDMNvqfRMWxQZKzDNUyHPY1mDmFAQERwokMw2PfwjIULnrEZbniCOJxYUE0j9gvE+rRAA8wPc2d6Q9ov/AD4EceDTpUn5gbeW1imN//Mr9gfYH7F384Te+wFI91JT1v2Ze/Mr5EAt2OxpzGOFwIde48oczfccENY6sZeFfum4fi7I/Dd+Ev4XBzN0km+6Z577glPE2bBWIY70eAbib+VBQic1THSlxMruUuRg2aakSuDpRV5xXt+49+KFSvCDCP7jMiz5z//+fLsZz9b9tprr7BEkbIHRlPWRgriyDf99Kc/lWOPPVY+85nPhL2VmFtdafWt9o0TeXoqsHT6xje+IWeeeaZ86lOfCm7bDZYWpBMDF6QvB5tAEGwf80gRpyVhQGAuu+wyueiii0IYc+bMCadsYs/6pNGCcCw8QLljVox2hXoDcaR9sz5tLMKcTFj84++wgR0GjfbZZx858sgjw9LRwWBtirW1gPyiX+EE4T//+c+hXXnsYx8b2hb2u9KuEJa1J5bmwwH5A3xPY/uBNoV65nsaHY4ZACoylZrOZOXKlaGzR+hjeQpk4pe//GVQnMxIZ8KocbMGwBp+04PYDmaEE3dW9t7e8ZvGh86pmR/A3GNuKraLPjaPhfJYjz/23twQNk/e0cmZv7GfwIR9GklOWiTd0GNOJ4h7OlmLqwE3kwm+Iy2EQz45Op19T7xnNoyljwhdPMdK4R8j4pQffjMTgJmdUmnvUWm300nF8bcZFogxwhJLSRlQ4p2VKZ6oGPbbyhDlCn/Zv8i1EPjD4TdPetKTwh5G9huxZ82EQdRklzXHzIG1jVaeGSiBaOy5555hOSPl2GbIx6p+N2ufaFPwnzbZwqE9a2Z3Oqr4O/g+2gAGjyDnXImBWbrPicE78oI8Qk9+4YZVC/T3DCBeffXVYbUCA1u0LZy+bIOMADcOh6MOn2l0DBsUGessDdNlptFGiABLEiGGHKphR2vbDAl3tXEoBnsbEFAZmWZEE38hm0a2LKxYz9OIGcDMCBnmsX1TZh4DczMze+bWgBlpSHxMb2HHQjTmmNm3WwdqQG/EMO2P+Y0dRuy5i4w76biegDThgAnSDfvmzoAefy3c4QC/RjvTaPGxfOU7mL2C8DLajBnxwz8U9scKhAXwk++nbFJ2CJvfQ/2GqQ6+08qJlXNOIfzWt74VBl0g6O9973vDKCzvLK2bfT/uUQjB1EkGb7gmgVkbLvF/wxveEIRzhHTy1ZS5RT+R6cr3EK7PNE49WFqQTmM902jthOUhT8KgLFC/+Y0d3pHWlvajRewfYVFWKGeExe90eMRjOiOdbrfddls4/ZZrMWhPqHMQdb6z2bem3UOoIZvIHH/84x+DG/ZFI7fQTtkyd2B+Wn0ZLsgP4DON7QfaFOoddd1nGh2ONgaNv3UAVHgIBPskGB1+9atfLW9961vlmGOOCQIqJyKydAXB6q9//WsY9TTyYZ0JJAAzOghrIOgMMLeOgfc8gQkSpkcBswvM3Oyi8N/M8C8OF/Dkt9kB5tb8BUZazDwOA5h/mKM3f3lPWqFIC+53474zzHkfCyoWL/PXzCcDFq9YIRiQtyyXtOWpKA5W4TCVsVL4j4LkMAAB8bGTH3mPGQMVPNNup5PiG3nyHXwrv0lPOlXLAwSlVp0oeWLlFsVgDrMJ1DsGo1iGyqEUDAoxcMCAjgnLgLKGO363YyftmJqw8myKNoVlk9RxBtOsfoxVu2LthD2pZ7Qf+E+Y1tbYO6uX7aT4Tuq51X8jeahWsHYfwki7cuqpp4YVDKQV7Qr9PcI+g5+0VeafuXM4HNvgpNExI0GnEBMKlrqx+f01r3mNHHXUUWHE/znPeU7okDmpkRFqltxBuDhAhX1Wf/rTn0InhGLUktkVliNZx8NMFstpsMdsCQd40FlBtiBWLOW76aabgv/oiQcCMCPWN998c9igb0uOGFm9/vrrwyzflVdeGUYvuaOOC7qZ9ePeQfzHnJFUli0RBvGAKLKclHBsbxh+MGoLCcQO4XCCHEt1CBu/uc+Q77r11lvDd6FIB95hjiJeLMO69957Q9zwn1FcRt5YAsS3INBPFgib7zOijzJYerMUKd5HN5YKxOGa3t5bWYndTEcF0mZ8G+lOHlBveJp5/M1mjhn1hbrC/YG33HJLEJAR7A477DA58MADB4giML+MLPLb4ZgIWBk2xG2cvTMz6oCV9dGoGPy28O1pduLndFdp8K2kJ2ls71vZBdinjaefYjnq+eefH/o9SD39+/Oe9zx51KMeFQgj+RXnYzp9HQ6Hk0bHDEO6s6FDMXLF4QWMFjN6e9BBBwXyiMDKzBDkDMIEQWIm5Pe//31Y3sVyNBRLniBRkEn8w2/IIeSJ5a8sTUF9+9vfDiQSEgfRgmSxxAziByCkmEPYWPKGEM3yTPxBkP7Rj34U/PjSl74ULufmgnOW2PKOJWqf//zn5YwzzghxtdPlGGFldhDzL3/5y8EOfhAGfiPQE2+WV5x99tlhFpFvO+6448KyUDpaOl38gRBCSiGQ2GMmlqWEzAgR3xNOOEE+/elPy1e/+tWwtJDvgpi26tTHG3GHbwIBZQA970zAI53GWjgw/+JvN30sWBL2dId9j8HSFAHPfmMnDb6fNKHOcCoihPH0008PAyTcj8ZyVAS7hz70ocEvZhYMlo+EM1nlyzEzQXlDWbsRl23KMojr+FghXcfSv9sF6W8zxO006Y8+NkuDvocBVPo6+mH6Lg66ef3rXx+u6lm+fHnIJ9oW/LBBKWuXQCu/HY6ZCCeNjhkH6wSsk0DRcZiepXQctc0yOJbDPeQhDwkEDKLHjBx7kCBrELxDDz00LGWFcLK/ElLFclfImJE5OqDHP/7xcvDBBw8QLGbvIJUQRGYA6dywR5yww6wls4eEC0GDtEEcmc1jCRQdHzOIHBCCkE14dgkxMzTMOuKOGUzCg2ziJ8I3J0/ynRwARGfKbCfhYI/fzDayXAf/CAPyBwklfuwFYikv8WQPCISauHFYCelDejz3uc8N6cdMKX5BBiYLcV6bEAf4fhD/Rj+WyjCY3sqduZmOCpiAxZNv4okgRvmxtDYhjyeCnoGyjzDHIMhZZ50V3LO3mWVjzAKwrJc6iTngGevxn6fFZSLAN6AA4VI3iAdPFPGx92Y3rcwu+umAON4WZ/tt+mZqMmBhx3Gz8mpxsvf2uxliuzY4YSQFZWXbgJkREIOVzbFQhlgPmr0zN9NRtQLpb3ULe+SFDUwBzMlTFP0zq2a4pof+GkAWX/WqV4WTUlnuyumz+IF9C5fnZLQpDsd0gJNGh6MB6yBMkEBBfph5ZDYOMgjZYxknZI8N9C94wQvCUtbHPOYxoYNiRg/SxhIYBGFm2pi1ZD8Wdrl+AH+ZQYQc2gl78WwcnRjCNu8wR2EH8sVMqJ0gCWGDeELW2J/BchsuI6bDI2z8h9ARJ+LLdxx++OHhoA6W+hEOs6M33nhjCAuCyXdCCjn8h+PHEdrxg5kf0gLSSFjsLeH7OYSA5bPMxBLewx/+8OCOQ3IYxSUtgX2bY2bB8p0ySf3itwlozMiw5JsLtZmlZtk0Qhzl+Oijjw71hkEQO/TG6id+TMXyRPxM2NxR/LBD/cM+30e9s++bDrDvI84ovqUVLL8mUlHGSGMUsLSNyQHgfdzep5W1X7ghr4D56Zh4kPZx/qFHkVc8LT9ZDcSKHgZtuVaDdwxmckIq/SftSnwNh+epwzE0eE1xOFIwgcE6IQRZftveQpZy2uEczCBCrJ7+9KcHMw7LYYaNWUb0zNgxw8iR3iiWxHBpsO2hADxRhIUiLMCT33RuxAESBhl71rOeJU996lPlEY94RNiLyewe4T/60Y8OYUEmIXAA8grRxR7hQhYZYSUu6CGczEBaHCyOjMQygwrJZGYToRBiyYwqh5wA/CRegCdEl6VAEEpmM0kfiCUzRfatjpkDy3PKjpEKE854h2DH7DlLpZmphjwxC/DGN74xlC3sGNk0N4DfZjZVYHWXwR328TJzDxHkSb0xZSsHTM+Sb+xbukwHEFfy0wa9GNTiW5nZaabi758oRZx4krY8SWviTRlDH+eDDdA1U/jDd9KW87R+wTG5IB9oD6xN4IkZeUqdYm8/pzefeuqpoQ1hEOo973lPWGlDf2r1jacNBli/O1VAfMZCDRfN/ECNNyYjTMfw4VduOIYNigwdZ1x0WNo4Ha7cABZ3ZjnYU8j+QO7sYxkLhMdAh8JhLsyCMJMGWYIYsgeRWRD2MnJQDgIUs5D/8z//EwQNRjKZ2WNmkIM8+CYuIqZzQoiBWCGMIDSzX5CZFvYZcr0Hsy/MDLKchusKPvCBD4TlN9wnxewko6XMFAL2KNIpQhg50ptZP2Y22ZvIXkO+hwNv+E2YzBAijOMfM5Qo4siSHcgoAjuzhO9+97tDekBsWSKLOSQQYR4zjjznUIHvf//7YeYREv3DH/4wkGXiTxoyW8myXr6JeEE8raMeKigbo71ywzH+iOsVecaT2WuugmCGmtl16oYdR07Zx5yZRcop5ZDl1gxQMJCBPfyhLFFWKTfm93DL0HjBvhkQL/b3/vd//3co6yjeU99pG+KyGqeVLasjLai37AemHsfL7WK3aZA+E3nlhrmHCLL8Hbf4gyLOxGcqwdKC70VPH0V7R1tnA1/EebA0tvJGPrJcn7aQQbnB3DjGDlbmDGyloJ7QvkAAP/jBDw6saCEv6YPoP5EpIPr0d8wu0l/Trthyefwlby0fLZyxzFcbKBvplRvpbx8phvtNrcIdy7RJYzLCHA0oa5QjBsv8yg2HYwbCOhCeNAboacjYwwhZQ8gwwoWCPBmwa24wZzSb0UxbVsc7Ez54zpo1K7xPC5S8o7FhFBzBmvAxQ2Hf3JlfxIPfEFee2LdvwB/rSPHLBFH0dJzMDPI9kDrIGMAPU8Td4oZ/uLG4EG+evEeRNsx8MjtJHEkz67wh3Yz8OmYWrBzGinKDIMceXgYdIB7M3jDw8MIXvjAMTEC4KLeAMgisHNpzKoJBEg7sYbDF6jXfQZ1MK8A76iL1E73Vp+kA4ssgGgNZ1G1+QySbfetkKeIESFMjhhAHlj4zgEXaA7Obdm+Kd9hlYI/93nzndMmndgXpb20KevKJwVj2z5NHDMQySEq7AlljK4cN5NAP8rT+Glhee746HDuGzzQ6hg1rYOOi0w4zjSxnYd8f7xE0UHRAJ598clj2iQLYYxaN00URFhEkWOL5jne8I+z7Y+aOZaEsZWXmkQM9EFggXszKoVjqyv5EDplhKevxxx8fZigRojmg5oILLgh+fvzjHw8dHAIaAjd7FukIGeE6++yzw8EhCNwsJSVONtPIXkVOi+PgHGYjuLMLYsdSVvwjfDpW0ot4IPyxhIf9me9617sCkSSNmAXBHLeMkkKKWU5InnFwCWlCvNgPCREl7djTyemyzJSyd+TII48Ms6GEOxxQNnymceojrm/kGXpmBJgBY9CAWURmzJnppjxRLpllRHhnFgBBnqXWHDxlgx8G/IuFw6mS73EcAXWbukt9skGVeLAmDd7bt3FI1de//nX52Mc+NqUv9zf3DGpxCjMrDWgDGHgizFbhEt5Eg++z+KKn7SE/iIv1EZjTjlLmSMtmwA4z4bT1d9xxR/jmZcuWDbstm3Eg6Qepqtu9rmeTJJH9AW1NCZ3+sHc3Xn9DKO/0Maz6YaaRfoG+ljLJygXKJ3cuU6bpd8lz2hbLY6tf8eDnYPVmpMB/4DONO8ZkhDkaUJZoA3ym0eGYAaCBskptjRUNPMtFIU8QL0bSWf4JOaJjoTFg/yJP3CFIMJuGG/ZRIFBAxBCEWS7DUiY6B4RnyB/LonADSYTQQSbpvPCLpa0sZ8UvOjzucoRwES7xo2HCLxO+LO72RGBlhi+e4cAt5sxCQtxsKSr+sS8RIkY4kFP2NcZu0aOIn4UJ8JOGEn/xhyfpxTdC3umw2b/IEkOWDhE2ghrf6kJW+4JyAygTpgf8pvygKAPMAjAAw5JpiMZb3/rWIExRpxi4oLzhJgblxvyM/Z5sEJdYMSvKsmy+gzpAHWMACn0zRTuBXRQDMXx3+tunCprFjbyi3eM7UHxvWtm7Zt8/3ioOl7gwoEV7ZHmEGW0mZpZnzRT+2KEppIHlt2MQWFHhmSrSZoQKPYtp9IkWWtf42fhTB2a8yxbqfRJ5QP9DP4XAzvYOVrawFJ52hUPnGKyiXjKQS97RlqCsLE/VtsVg3wisH+Zp5RA93w+BsW8ye5ibWRqtzEH8Dr9MAd7FekNab7/jZ1qPsjjaO/tWM0uHHSuD2TPYu9gtiN2ZnvDTiO05msNJo2NGIu4kaCRYgsq+pNNOOy2cuMY+xosuuigIu4xWQoRYzslsCZ0RDQ6Ei5lIZvyYCUS4YO8idhgFZQSUBh1/sMOSPIgV5JIZSoRK9scwCsqMJ+FyIAizMdgxcobAEjeohG0CNv7zLXaYBnreW0cCeWMWh9lQhHX2SnJFB1d1sOQKUoc7FO5Q+GHpgzmNL36hh7wiTGHG6XQQRtwwo8kpdZBHZkqZTcU+aYDg5Wh/WJmhrMRliEERZhYZMGFFAifsMqPGDDnXtiDAm93pCr65mZqpmOz8bJYXg6lWaGYX5RgZrFTwHCgh0Q9SdrvU1R8ZVOOn9U/0W2yDYEULfStL3lmCyiAUe/5pV9g2Md3bFVbxQIqRG5hNtX4dxbfRx9K+cr8t/TGrp7CDOWj2/Wkz+nLSFdg7fiMz4DcrKAxGxLAXx8PqBHrzw8ztN25ND2LSDtATdwbOWQVF/gKTP3hv9i08YN9q4B1mqNgeevMHED6I7cRhOJrDSaNjRgHyRaNgDQjki9FmGmSWF7D0hWUukCsaK5a4sDyTU0Uhb4xYc1gMZI+GmqVdLF2CKCEMs/wTEgiBZLaRjgxBmQvv8ZeZOUZDOekUQsd7ljtdfvnlYQkmB9sAZivxg/jR+NmIKaSN38QNPXFnxJxvwZxZSX7bgT6QNg5+ICwIHpfuc4AP8cUeB+tAgnFLJ0sY6FHWmGLPZkR4z1JeiDGdNVd7QH75Dg4nYJkt6QEBh8iSbrxztC9MkADULSs/1DWEAGbNOTyJekC5f9/73hdII2WXjnuw5YHTBSZsDFW1M9Lfl/72dlCOQWDJw7NJUsWvY9DbIJAGZ9vk+ADzij6IdgVFn/2JT3wiDH7SrnDYFqSRdoX2hzalWd6hpgs4+ZzVGd/85jcDeYQsE39IHe0u38hhdSx9ZasKK6RsABk71gajR1mfbm7TMLkIP1iZhN/IDdbG4y/ArbkfzB/coeLf9iQ+uOU3wG++j1VbkGSWIPMeu/H38DSY23QcLAxTlu+Ym0JW4hmni2PHyH2cTVMOxzCRbnhZ4shMAtdPsM9tqA0zlZX7DWkQuZ4B92Co7mkkIW/si2J0EZIFBnNvDR8CK+QKEschHFxlwQmOHGhh11oY8YMIElfcQpIgdczgsWSV/YTs2WPDPTOMECwEYdxACNmQD5nET/zmG/GD8JllwQ2dnvnDvkX8JT34JvYjQtJYxkeYuCEuzPhBBiFmdlExRJIwIYKYQ/KIB+5xixn5c9hhh4U4MYPKTCDEkFlSwsU98ScN8Q9z3GCOf3TKmLHEkPscmYElPUhH/MMPvgOySnj2rUPNUwPfSJmiA4PcxjNSw/XLMf4gT6yTZoScGXYIIx065Y/68cpXvjKUaeqRHXRDPlu9TaOd89mEGQZemCWg3jPwZO0TGOz7cc8SeQQs2j/2NIMdpRnpjR2W8+GegTFzOxQguLFqgXBf8YpXhPoPiHc75herTVhFwewHgx20u+34nWMFxO8dJU94bXK6/khQjZ9GHAOCZ3Utz/vuXSm/1rygXYFg0BfRlzG7aFtCrO8aSZ8zlqCeAcgte4/p/7nPOW7riF+rOEJmmOXjfARW7lDvuDaLfp66xnvkLuohh4rR73IYHSe28+28xx7xsLppdd+e2KEd4TdPgJ5wGQRmPyZ6+n/MTZkftO3oUdaemT62F+sNsbnFkxVWtEmsTAHIMQwUmH/YQx/H1cxAbI4yxObo7T1uLWxgceQ5GPADd6Qfsisr1difb4P15seO/JmOcNLoGBHSlWG6kEZrTK1SM7uGwAQJotNBaIPE8WRGjU6Jjgi71sDQaCMEQyZRRsZYcgpBA/iPPQQq/MdvSB962yNDgwthM8JF/LEHOcNf7ELSUDRGEEPIncWFuBMm/lnDypNOg3CJN8A9M6OEwbcRDiSVcIkv/vHkNzOTxM0aUgR74gJxtQ6ZONu3Ez5xIm64Jx35TtKP8BCwyBO+lbQfDgjfSePUR5wnVq9Y2gRxRLCj/FE/maFHaLL6ZG4GU+0M6ivf2C6ksR3zi7RiuZyRRmayaP/a8VvHCojfdRG9ju1Sapsc34AK72FaUZ/6T3sdtY8C+pdX+uA3itkhDl0jT+izKPfcK0x/Zn2jwQT7yQJlB4yUNGJOvwlpY8YPQkUbwaA0fSlpgOx0zTXXBFJpA9IMcjBDyWmykGvOL8Af2l3kA/MXcw4qY2sJ9jn3gPQFnOtAmWdFEuFTxwkXcP4CW2hwh3vOYqBNwG/CYK8zfiMTorDPslnkLr6dmUTc4gezmHwXceI98YWoEi59iG3jwX/8Qd5jKTLuWL5K/0K+k8/8tjAJn2/gicyCHeJAehFnvpeZVOufiLe1i63yI4aTRodjmEhXhulCGjFH0ejGdiFHxAUzlLnHHo0Dv2losWNmNDQ0Rij0vDe7PAF6FO8JA0VDw3sLh980XOanhWV2eJreGl4aLfQ0iBYnC8++AzOLK/bxm3Ags0YMLX7A3OEv7jDnaQ0kCli4dBK4wZz44jfK0gO32OU9+uECv500Tn2QT8DKEopyzgACgxAMKNiBN5Qv3lt5sPIzE8G3kxaQxiuuuCKsbBgNaWTQBgzmBli4Thp3DL7JSCNbCyjHPtPYGmlOSCrtKKVqagF3lHpU3X7DZYM0Ah7d2ncxSEu7wkAo5Y+BUPoiCA/5EufNZLYt1i6OlDQC+k/es7Qf0sNMIgPZ9LGQQwabONCO76ceM4AMWUQm4swF3iNfQY7oP+18AdsrydkG9LHUZYgPBBEyDrHCPeQMM9KWek7dp63i/AXOaMB/yB/mhI1bCCxtiykIL2QQO8gFnBbPmRHMjuKeuJBWyCUQQuLE0lS+j+8iXOogRJIluITLXlbsEC+IGv0NpJLwiB/+QKZJe8JkkB8yygwmhxuyHYh3+Et6QogtL5BldiSvzGTSODN7a8eMhFXguCKjp/JTya2hMDN+x3Zp7K3BT9vBfUzEzA6KBg1zC8f8sIaFRo132AP4SWNpArbB3PLEvvlj/vLEvj0B5uYO4Dfx5Gn2TJnfZtf8MLsGew/QY4+4mx/YNftmF38d7QkrPzEov5BFZgAg/BAaqx9WNnATl6uZBOoD9QoggMTpx2+AmekNVp+tPpF+pk/7M16w8C1sC9Pi0W5Ifx+/2/VbJxrMMibCHjVUI01r+gzlXlVW097KtKZ5LpMN5IfBZbaSIKTT1pAn1s8Cfk/3toVvgMxAjll9RHvBklFmvKnrzMQxYweZZIUSpI3fEFTIHsSaa7xIF0gnZAnyhnsIFb+ZXWSQH3uQJQ7iYzksaUyYrFpilRHtOOFDtrgiiFk9tqIwy4tdiCpkjllE6gaEDDIF0YPMMVsIwYPM2TkIbMdhAID4c4Ae5JE+gxVMEDlWerE8FbLJQYGcMwH5ZXKB03ExhyRyGCEDOhBAZhCxSzyZSaR8kI58L0SV2Ue29LC1BkCuOc2e+ALiHrepjgdjZvbYDkcKNCzN1Fihmd+osUAzf1EjwUjdxUjHw5Rj5sGEAAYPJorUtDPi9CM9XbhxTCVQOlEIlqgH1Xaz0ACUEQS7iZJEyGJVzSjXVbaR6O+BMr5tkBMyAKmx7RWt1HQH7SbEkTaU2TJm7Yw0QoqY4YI8Qr54Qo4gjrS7zMJyR7IRQmb4IHBcAQZRgmgxmGdLfNliQ3j4AxGEFEJYIVnMYkLKWNnFTCKrRthHCnnjbASWpDJzCPlihhAFgSRcZlfZb0n8jbSytQbS+JKXvCQQXlYokV8sR+UMCMtfVqsQT8gmy2CZaeWbmNXjuwiHcPku4s1viDAD8di1ezqxw1JVSDCrBXBPOLzjICVmYyGh7VBmxhtOGh2OQRB3QENR44lm4aFaoZndHSlzFyNtx5TDMRggNPFSZwQSJzmtYWkTpxH6WBlRRKXrI8rhmGxQCk21ROOlkcYAbSukv9SYZdR32YwklGlmG8OMoxo2yjj1IH62K6jnzBRyPgDkjZlGSBGzchBGSBIzjCzRhVSxTQhCBonEjOWoECfcQ74gV8y2MfPIsk/IHDONEEaWz77qVa8KS9UJE+IImYO0siSbGUj2HzL7h13cQmYhjRA/Zh+JA9tJaPMhaBwwCDHEf/xgppC425JUSCnE83Wve93AoTfMMhIu9okD3wxhheRBXjkMiLTAb8InTAghpA8YIYU0Q1iJF2SX7+U3M5iQUsJjxtrSzdpUx+Bw0uhwOAJc8HSMJShL8RIxfkMiHc3RrO5ZnRyKcjimBOCBpppg4HUosiz1rUlGBfYgjuZzdYLIm0x9ZnHAKzU2kgkpoW3hibDfzoDAQQCZdWOWjuWcLMOETPEOkgfRgqxBKCGTLOX84Ac/GK4h4Yot9ifilrTiCUmCUEI4GcxjZg4ixgnXhMOSVEgb/qOY0WVvIzOH9s7ONYCAQSxthpEZP9p5O/XdyB+kjdPWMWNGlGuYPv/5z4c9lcyaEjf8RBmBI24QQgYHmIWMw4X8QS4pB8x0Ej/2RWKO4tt4B+Fk3yVLaLmH+0Mf+pAce+yx4Qo09jiylBc7hEc47T4QMVo4aXQ4HA7HmINOmE4bAcLIIkKAozli4Rd9rEyYiX+TprGQ48TRMeWQ4nP2k6eJ5vU9jRkpK+Eob9gU9KCmZLKqbwdEeDWOyzj1ALRzuaeOQ5KYtYMcQt6YLeTwG/YGQhaZxbODXLBPm0va8ETxDsLFck2WrWIG2YZ4QbqwyywdT0gXh+zgF0TK2m6IIGYQSDvozvw3hZ/EFTv4DVEkfvymjcINM57MUHLgF+Ex48iSVfYmQoYhpYRDvPDLwuQ3/qMwA9g1ZUSScAiXsLBHvDBjPyV67KLne0lLlsCyR5L0wT5x8j5qcDhpdDgcDseYgw4YRUfvS1O3h6UFT4QVBBs7Mp6RdWYMUOjNLFb2zpZ5GXH0NHZMDyipCdRRBfskpwygJFvuWyG3XvlHkS3r9XVZyaIK8TXeqy0t14lwgfv2y7OTWl0PqAEDBBO0QVWwb4M0QfhsmSn78Jg9g5RxarwRNvt99NFHyyc/+Uk57rjj5L3vfa+8+93vlqOOOiqQNcgnM3HMzq1evTosGSUc2hlm3iCjtEWAdtvabw6vIQxmKlmmCpmEhNEOMVMIucMOxBNA0iBo1jaZfe5vJk7ve9/7wl5K7HA6Md/DbCm/iRMK8N0QQsIkzrxnRhOSiR1ILHYggcTVCK0BPd8LOXzjG98oxx9/fFAf/ehH5W1ve1u4O5ilqrgDRkot7R3bw0mjw+FwOMYcdL7WAYNYP9OBQIJCiEKoQRD83ve+J295y1vkrW99a3j+v//3/8LzzW9+c3g2Uyy3slkAhDPz1+GYNFDNYxWhblQnjDyVEkouUwh7GTOb18u1F/xU+m65VtlfKZRjBNQMXLHKzGO/PvSHtStazEMbE3yqc0RT2/+YvrC6DBmCHLGvj+WnnEzKXjw7qIZ3LP9k+SYEjllCSBBLUCGAXKlxySWXhENssAOxZOCJpZncewkRxM73v//94D8ED6Jo5I10hngxa8mhMSjcYM/2VnJaK0tCbZYv5JHCyCIH8LAUFcKLW/YjskcRwkZ8sQMpBOhxBxG0q9Q4ZId9lcQXEHfsW7wIl3Sy+OKetpXlsCjCxD6kFhJO+pGOLFslzWxPJPA2tDWcNDocDofDMYGwkXCEG4QmTjBE6GJEPX5no/w80wohiZF/hB2ErCBkq1sT1hyO6YAKE1EdRclv3Cy5G2+VG849T2TtakkqfUooVYAPq1chIVxRE4msOyKFbVANqPsMBlGvmcWDNEKwIHwc+MLpp+wdpD2APELEIEUs9+QuRa6yQPEbd/gH0eRwHEhVbI+7DyGYEFBmLFG0KZAzyB7+spyT2UDuaeUKC67t4NoKyBinmRJH4kp7BKwNQxEes4UQNa7JYHYRfxgwg/ASHnEjfAuXexz5TpaPEjeu0zj77LPD1SCQYNo+lt1CVkknlLV/tiwWt1yxgZ9cxcH3Ev5FF10UCCzpAjnFnQ28OVrDSaPD4XA4HBMMhBRIHyf6fe5zn5Nvfetb8p3vfEe++93vhqepb3/7203VySefHJahMcqOoIZAiGDmQo9juoCSmsmpGJpVZvjAWlnen0jfldfIuj/+SYpJRd+rOdcXc3ejFPR3/W7TQckiyGBh+tcDG0CChDE7xlUXHFQDeYSkQYgA9phBZAkmJ4ey1JR25Ctf+UogWpAqrpngVFVIGO5Zpsrs2xlnnCE/+MEPAqHjOgqWsDIzB4FDMQuHHWbmOJCHqzj+/e9/yze/+c1wkA3EC0LJKawQWNohwiM+DILxG0A42c9ImFzg/7WvfU2++MUvhtlDvgUCTHgMnqFn7yaEFFLHKaeEzV5OwuUQHfSEAyHkMB7CIo0grgyoQQB5kl74z5MlrdZ2QiAh2U9/+tPDsl/SkPYY0DYb+XRsj9zHFQ29wzFkpCsUjRSjUVRuGo+hVjgEHJY6MPpEg4d7MFT3HKVMw8JIvS1jAF7hpz8oG5QpRja5IJ4N7pavnr+OdoCVY0a6UQg9po/NmikEtVtuuSUIbZx6iBCIfyZotgL1CnvMMiD8sUQMt0MFo/vMEBAud7WxPAzgZzvWS5beMSuCsPviF784CMOgHb91opEk9aWlmfIm6b/iCilccbXMVWF/3QOrZd7++0lm0ZxAFDO1rCRarlnQSrJvl/L8HjDABkbqa9BsZ3NCYYM3LKvkwn2uqWCAyGQUMFidiQd/0DNbBzFiVg5ZCbID6bHloPhLewHxYvUCxBB56rDDDpOnPvWp4TdlF2KEPfyBRBInSNXTnva0MGuHObN99LeQQEgil/vzhExC3vAfd/hP2wNRZaYTQko8OLgHIob/hAmBI0ze4z8znZBT3HJ1BuHSjmCHsGmPOOAHRbjMQkI67Zsginw/+yMhgwycES6Ek7hBOuN6yrcQJ2REwkVGpd3DD37zHvfWNpq7GPE7vod2lkE6ZFeW6ELKIa/A7Kb9aAf4TKPD4XA4HBMIhAmbFUQYRJBDCEGlBQ0TPtKKAyFQ+MNSLMzwz+GYLtAiq4RQBVEVwitrV0ln/2bZuVoRufZGuf+8c0XWrVRbW0XyjTqhD0r4dqW88aNuw96y5nU7W9MO1GfqNm0CbQS/IY0QRogghAoSZm0Is5GQH4gag6yQGGYOn//85wdSBgG0mTTIGfYgirzHLiQKUgUBI1zIKDOD3LMI4YUwQt4gbfj7whe+MNyxePjhhwczCBPxYPYPfyBmkDhbqgopww/84oJ+7lHED4ibXfDPt+Keqzl4R5yIDwSQ+xn5LsKEbPIe8sk3A0ghBBCSCQG1dpJwGWAjDXBL2HwTeogv4RlhhAyauxjerm6Dk0bHsJGuUDEGe+dwOBwzHQggKASVNOydqcEAUUQIpM1tJew4HFMVgdo1initUpLeNfdLR64m1b6NMi8pyz2/+a2svepKyZY3S1Lr0zJet7tdrbAf2xnWGj+3M5zWsHpNm4AeckadN9jMl9mjbYHgsXwVUtVs2SVPyBTvIWwG/MI9YVg7hHtWGGDGO37j1k42xS/Ch2wCnigGtbCLgjxiz/Zic0gPbu07cA/MrZFl3mOf3zwhhyxBtT2LmKOIJ78tzvgR/0YRPgQUgks8cIdZHJ6R3BjYcdThpNExYlAJd4Sh2HE4HI6ZAgQQE0JiYcTMUSYIxWZpZQIRemtn0Tsc0wJaZmtaXCm5SblfamvXSiEn0lsoSzZXlXlbtsqdPzlf+u+4XZnEFsnUqkoe6/abgZJfL/0m1k7/upAeWLLf1j4AiE78O20O4nYDs7idMLf2vpk7zCBswOxC+DCP7Vv8zBxiF78z//ALZfYwM3/NzNzFT/OPp5kZYj/Mn/i3mREPe5q5fRt6+4Y0eOfQNG88HQ6Hw+FwOByOCQEEELk/2bRRsps3S7ZakU3KBzZJWRYWitJx9fWy8TeXKWHsk5wwG1R3tx0f3I5F2gssupDvcIw1nDQ6HA6Hw+FwOCYcGSWDyfoNUu3bqrqa1DI5yeYLUlISuUuSyL0XXiTVf18r0t8n2YrabbjbDgOGHIFTPzDHSaPDMfZw0uhwOBwOh8PhmFBkWW9arUht3VrZWtoqWwsineW8dJVzkocIlvslv2qVXP+9H3JEu2RqXMPRYomqGkIT6+8hj04aHY6xhpNGh8PhcDgcDseEIqekMaOksbp6jawrb5XNnTmZVcpKz9a6cFrqFtkpn5WtV/9b1l72e5G+PqWCHJzSYIggxQ356XTR4RgfOGl0DBvx4Tbpg27sYAbT27OZ4iAH7KbNHQ6Hw9Ea1k7SfqLsUByeIG5PTQFrbwEnBsbv7OlwjAoUo0GK0sBrym62Kplki8i6DZLvy0iuWpByVuWHjqz0JiXpy9ckXyrLXuWcbP3pRVL5x9+lWNskSXWrlJOqcM4lxbaqTvozNSkL/iWSrVeDwaLhcDhGACeNjjEBp1RxIhWCB4JLfLJfK4UdE1zsFCzMHQ6HwzE4aDsB7ai1m0b84nbWlMH0tLkcO29EM4YTSMeo0aoIqfm25aNahiv9UluzUXbqL0p3f0Z6CzXZkO2TTGdGqsr+qrV+6erfIvNWrpD1Pz9fpG9jII39SjgrKjZwbUdFvaqEqzYq4ZTVehgOh2Os4aTRMWw0E0AAd/LwOyaACDbce5NWmJtdyCa/zb3D4XA4Boe1n0Ya7fdgbS53rfEEEMP+/v6gdzgmA5mqygp9edl6xxqZpQwwr2U5n6lJNlPRl2W10S+9Hb2yZu5Gub97tdzz1yuk/+eXSU3tQBHDcIcW54IyxE4loR0QUfUyUbL54KEQh8MxWjhpdIwYRg5txhCsWbNGbrrpJrnlllvktttuC8/bb7/9QerWW28N73muWLEiuLe7chwOh8MxOIwogpUrV8rNN9880K42a3NRd955p9x1113B3gMPPLCdH/Hsopk5HOMKyll/n6y/7x7J5cpSzZfDbGE+owSylJVZW/Iyp9Yl2VpWctWaLNlckrt+cI7UrrtdesolKWqRzVSUZCrHzLFGlYsfMxjWCaXPNjocYwsnjY5RAUEDAYMLUTdv3ixnnHGGvOUtb5F3vOMd8t///d/ytre9LfxOq7e//e3h/Vvf+lb59re/HQQYLmw18ulwOByOwdHX1xcI4wknnLBdm9qszTXzN73pTcHu2WefLZs2bWr45HBMBpTabV4vW9avlky2JOV8SThNNaOP7lqPzO6bLbmNBempzZXZpS6ZVUmksPJeWXXe/0lu/QbJS0myNtacqDirZFP/8EOF21rQORyOsYOTRseYYM6cOfKyl71MnvSkJ8muu+4a1Pz582W33XaT3Xff/UGK94sXLw7PBQsWBD9YOmWzlw6Hw+FoDdrKvfbaS44++mg54IADZJdddgltaqs2d9myZbJ06dKgxw7tczzLaMrhmDBocats4I7GXi17NckpzcuVEumodUiu1im5pFOqSYeUakXlgh2yttgvldkl6b/ySum98mqR3k1SKlSkUtCym+dAHO5oxJesEsqMk0aHY4yR0U7CewnHiGHFZ+vWrUFB/DCzvTZ2OE4aZgdccsklcuKJJ4bR7//6r/8K74ayPAp7P/nJT+Sd73ynfOELXwiklYMdhureMbVB+WGm+r777pOvfOUrQdC1fPX8dcxk0MahrN21w2wwawXqDO+tbT711FPl5z//uXzyk5+UZzzjGdu1m3H9Svu5ZcsW+frXvy5f/epXw2wlA4Xmth3rJatgPvCBD4RtF6eccoosX748mLfjt44J4uISJdFAORpINy0zff3Sd8mv5fqPfUyW5DZJptAr+T6VCyCNOSWM1X6pFtVeLiPF/qpsyVekms2pfpZkDnyMLH7/u2XL3rtKrTBLOjLFsLexrN5DHfNJI5xJyKa4Pl566aXy0pe+VD772c+GWX5kFHvnZWj6gby1to6VHp/+9Kflsssuk+9///uy9957N2y1b/vg0zqOUcEqRnd3d5gxXLJkSZg9tCcj3+ibqUWLFsnChQtl7ty5wQ8a0YGOxeFwOBwtQdvb09MT2lHa2cHaWpTZwf7OO+8c3JpwC0wQcjjGFfTz4Z+iVJG+u1eGA2xyubyUaomU8yJ9BTXv6BOZXZFMcavUquu1rG4Oh+QUqipvSE42X3+LrLvo19K9WYlmpu4f2xmBuqprJqk4U48YnOHJwLkNkLt8M/1h+Wp5Gee1KbZZtetWKyeNjjEFFWYosIpmKq5wDofD4RhbpNtYa3sdjonAQNmzLh6hu7xFttxzg3Tl+iQpbZFipaJ0MJHOgr4ubw7LT7NbeyWXycrGri7Z2D1XNs5dJBt2WyKVffeUDfmslDZulY6akjP8VL+VcwbFuTiTRdH4TkgFpxbzNAIRk0arh04kpw8sr3iiTHZl8M1OqDZzBgvaEd5jOMYM1gga+D2YMqQrosPhcDhGhmZtLSpGPFDncEwktNQN/JNav6x/4B7JKsvLJgXpzM2RUrUo5UpWOjNd0p3rUSG1R0pzdpX84YfLTm94vez20WNlt+M+LA/7zAdk+WtfKh1LFqunuXBaKvc1ZpWf5VWxRHWySjdyDESCemZyjQ/QtBdoO8lXGxAgfy2P21mO9VLsGHMMRRixhjRWDofD4RgarJ1Nq8FgdmhvEWrbdQmVY5qgvyLr1m2VdbWibOyYL/dm58qds+fL5mUPkd6dFsgDm8qSy8yRjkV7ym6v/i+Zf9RrpOPQZ0iy/4FS2n25bN1pvpQ6eyRR0ogwixRR38qohDGhbG9bfj2RoH4x00RdM/KYPujPZZ7ph7h9tfaTPCUv0dt73rVr/jppdIwp4ko1GLBnIzOxGqp7h8PhcAwPCDImzNDWenvrmChY2aslKmzXqkHVtojM3u1A2emwo2TWK14vy479qBzy7W/I3l//kiw++qWyobtHaqWsrL75HpEt6l7mSkVmSVLtkWK5U7qrnVKo5SSn3JDZxYI+qyrVVrOqqWk5n2S5ne+dN2+eHHTQQeGMB6tv6XromF4gz8g/ronjROr99tsvnOsBWeRduy5NBU4aHaMGlcTUSBA3oGCo/liYafcOh8PRzhhJW2ttZPwciT/mxtyboDQSvxxtCIqBqQgD5UOLn5aW+h38SxbLfm99syx/xxtk5ze9SorPe7Zk936YyE47S+bhByn5myX5vPbxpQ2y9d5VkinX6jOJyOSUYyWG+na7sJhbrHFf48CdjRMPvpU9bjy5juzRj350OPTPENc9q4+OqYNWeYI57Z2BiQ4OFePUVPLZEOdvu8FJo2PKYCSVzBtch8PhGBqsjeXpbadjMkDZoxRmWFnUXZTCHoskmd8pG3s6ZG2+Q8pSEMn3SG7Jcumev1hq+UQF1T5Zd8ONkiv1hcnDOnFEeK+qRw0i2ZBmGyVc/8Ms678mEtSrmDSsW7dO/va3v8mtt94qGzduDGaQDezESxodUwet8sTaTfKNJ3l7++23y4033iibNm2aEXnppNExbUGldTgcDofDMX1gwnVNeV3CUlIFdyx26rN+v6Kqrg7pWbZUtuYS6S5mZdOdt4n09Qahtd7zo6ur8Lshr08VsR1iaNiwYUMgGGvWrBm4y5o0iO04pj6YZbQrVMjHu+++O+Rpb2/vQJ5ip53z1UusY8qByueE0OFwOByO9kE8ExME7GxGKrmsZLI56VBxtFu7/VyS15eqerqk+LA9ZX2mLPlcRfL3rRBZv16KagfpIMEvdZ8oyQy/g6f8mVzBlu+y74RAsGzx4IMPls2bN8ttt90mpVIpvIvtOKYHIIPkFzON67UsXn/99cHsYQ97mMyaNSvIrbyPy3m7wUmjY8oiJo5pEumk0uFwOByO6QUjVSgVr1lgqshKrpYNB9kE5sd+xGKXZB+6p5S7O7XDL0lhw2rpv+8+yVZq2wTXSDg3iWCqiOt8H4Ri9uzZ8oQnPEFWr14tN9xwQ1jGaPILz3YmGO0C8ilW5Cv5eM0118iWLVvCnkbMeGeH4LTrYICTRseUBpXQEOsdDofD4XBMd0CaotMmlUQpldJnXjp33kXy8+cFDpmsf0BJ4z0i/SV9m0g1EgciKSG8g45OJiCCHIQDkdhpp50CaVywYEFYzvivf/0rLFV1eWbqgzyC/PE0xe/7779frrvuOlmxYkU4FfdRj3qU9PT0DLiJn+0GJ42OSQXT/LYZ/L777guNKhUxVrEZevvNkyUCHHtsSwK2bt3a8NnhcDgcBpvRsBFwhFr25axduza0pRzocM899wT9XXfdtV1bG7e99957bxB6GVG3thvVrkKSY/wAVcwFgqhKpdFaUMy+IZoWpGveIql2z5KyksB8UpLktlvUgpazajkQSYoypbpeshUZI40NDGgmD5AJli/utddeYWnqH//4xzDjyD7HdL2xumlExTF5IP1pI8kjky9p79i/CGG8+uqrwyzyQx7ykJC3yKEMElieom9HZPTjvGQ6JhwUOyt6F110kbzvfe8Lv5ctWxYq5lCxcuXKsE/g5JNPlpe//OXS0dHReKOFm47IMW1BQ/22t70tDCZ85Stfkd12220gTz1vHY7hwdpc6hUCDW3mcccdJ0uWLAnXASDQFgqF0P4iACEwxbD2GveQSAbozjzzzDCLgl3ctGO9fOCBB+QDH/iA3HTTTXLKKafI8uXLg7m3QaOHlsjwN6OMkV6/3vNXpJCo8N2n2rUPyI0nflg6r/q15HrLkjzyabL7Z78itblFqeW7JFtRl+pFrVD3KxdmGMmXyRfYqRMMrFBfeP773/+Wyy67TC699NIwM/X85z9fDjzwwFDnAOXJy9TUAINp5BltnpE/8pOlqJyE+8tf/jLMNpKHT3rSk8JsI/bJP2snQTvmZ+7jiobe4ZgwWGWykRuA8MKmcS7DTav58+c3VQg67BV43vOeFy5Yzefz21V0x/QF+UjjzAECz33uc0PZsHLjnavDMXyYQEP7iGBEPdpll13CiDnL52hTrb1Nt7uxObOTXB/w0pe+NAz04R9+tWO9pH9C0Ic8vvjFLw7LDYG3QaOHlpjwj1IJYayXzrJSPjUta/pqf16661bZfN3V0lGtybr+jCx+5jNF5vVoIc4rSaz388ox+au/TGCfvP7f6hjlg3ph8ggzjhAL5BUU5YmBFvo1iKPVIWB+NIOXu7FDq3QmnwBpbXbIr6uuuioQf2QSZhif85znhPYTuZP8i9Gu+eQzjY5JB8ILo9Y0oDbaPVT89Kc/lf/5n/+Rz372s3LkkUcGt1Rgx/SHzzQ6HGMLRstpH6lbdP38Ro8yc4QfzNN1zESF/v5+Oemkk+Rb3/qWnHXWWXLIIYeEwT/a3naslz7TOP6gZDFHWJ9p3CyFWodkKioHVGqy6dc/k79/5n3yUAhXZrYc+KnjpPbkx0gt1yN56YJjSlJU95mKkkh8Il/yA7rJAHUFRV2y+oUessHSxgsvvFCuvfbaMND97Gc/W/bdd98wGIEshBxkg9/N4OVu7NAqjS3PeN/X1xcGyG655ZYwiM3zcY97nBx22GEh/yCY5K2RRvOzXfNp8oZjHDMeVilpIBlt6+zsDM+urq4hKxpYa2iptFRg89fhcDgc22CCDG0kgOjRjjILQhvK8n6e6XaWttn0NjAHebR2djgDfQ6HgdJTL4kqjOqPgv5iiWk4yEaLakn79FlLdpHcrLlSrSRQRNl4zTWSSdhjpj9MDaDR709y9x/XM5NLMKN+PeIRjwgro57xjGeEAYlzzjknDH4zKMGgOXXKZZipASYzuFaD/Pnxj38cZM0jjjgirHxinyp5S1tohHEmwEmjY9JAIxqPxgRBRn8mDZWG2Q9uGgo3CDm2D5J3mMX+OhwOh0M7fBVuEEYRYk2QBSak8tuescKd6QF2IJC4411oux2OYcJIY0Y1dcW+RKDlULv0TFHV4sWyaK+HSqWcSKFSkVv+cbXaq6o9tcOhOCrFUirrJbOh4/8kci6rF1ZfeFJnIBjc58fM4jOf+Ux5zGMeE5aGs9+RWfuLL75Ybr755rB3zjF54DoNTrk999xz5Re/+EXIk5133lme+MQnytOf/vRwxUZ8fkYalu/tCCeNjklD3KCiEGLYEs84Yzj/rGFu/+JBRDqaCrpcXQiKKyn+OBwOh2N7WFtr7aU9EXBNyI2FXUD7ijKY+3gJa2zf4RgOBkrOQP+OMJ4P5nnOYlq0UAp77i21TFa6av1Se2ClyApVFfr5jJT1kSRK0lQoqEpBSixSDUKCss5txXZCQR0C6XphdQfiuM8++4TD+w4//PAgs/z617+W008/XX7/+9+H04tXrVoVyGM8CG51Ma6TDJjHv0H690xEnAY2qUCbxWyh6S3tSF/SGbLI7C9LUDmgkVlg8gPC+KIXvSgotskwYEaeNVthkc7zdoOTRseUAtUtVg9q9PX3g+w4HA6HY0Ix04VSx1iAMmSz1OgT/VUfPGbKkZlHlcJlzrI9pFooSkaJYG7rZtlyz/0q9SsRUAm2GqYU1Y/6aTgBShf0L/6a35MPI4zASCXkg31x//mf/ynvfOc75SlPeYr8+c9/lmOPPTbs42fmEQIJeYTkpEEdjFcMWJ1M/54p4HtNWXqjJ41s9tf2i/KO3xBHrhBiNpFZRc4G/ehHPxrSnWXE7GfmwK8999wz+BMPqllYMwlOGh1TClTFnNZB9jeEdr8ZGu+xN5lLUBwOh8PhcIwcKtoP6LYTSdFm1SyTk3kP308yc2YrBcxIvq8q6++4W/lgRQlj3ZX9DU7QmFd14ykDIxkQGMgKBGTu3Lmy//77y1Of+tSw/PGxj32s7L777uHwlSuuuCJca8OMF/o77rhj4LR5MBhhMdI0E9HsuzGL05/05TCi3/3ud3L22WfLT37yE/nHP/4RDr7h3kUOu+E6jUMPPTTMCnNQEfmFMph/Mwnbvt7hmAoYRv2zfRAOh8PhcDimH7aRxm1QUZwXDQk1kczue0hm3jwp10RmK1Msszy12q8kEhoJ6gwxo+/ri1b582B/JxNG4iAZzFihADNf6FkCyR7H173udfL2t789EBZmF7niAUJz/vnnh6WSHMxy7733yvr162XDhg1hFpIll0ZgIKOQoplGZgDfDSwdSBeenFrLoTYQRdKN9CMdmdVldhFSTjqTFywZfv/73y+vfOUrw6FF7DkFsd8Gy9OZBCeNjqkH6mTc3lEn0/UybcfhcDgcDse0wYME0KTR0euL0L3zRFjv6JTO3XaXWq4g3dVEsnetkGTTerVQVtFACVJwpn/UEcQRNB5TCjHJMD0kxPbZ2WnGXOvCUlUI5Lvf/W55yUteEsjLX//6V/nyl78crhj74Q9/KH/4wx/C7COkiNOMIZn4ZzOZRnRmCkjP+NtRpC3pwlUnl1xySbgq6FOf+pR885vfDGYLFy6UY445Rj70oQ/JUUcdJQceeGC4i5YDFlHAlqUajDjG+TlT4KTRMTXRqId0BmxhDoo+wernzKqnDofD4XC0Hbbvyuu/EMmVG4ZnBTE1V5TOPfeUpLNL8uWK1FaslOqGtZJNSmpJyQHkC6d1WV7B3kj+Tj1BwYii6SE2zHAZMIM8LlmyJBAYlq0++clPDssk+b1s2bJwBQ73F//tb38L10H84Ac/CLORl156aVhieffddwciGc+KzQSQdhxmA5G+5pprQnqw9PQ73/mO/OpXvwqn1HLQDQcRcQLqox/96EDOUSxHZX/p4sWLwxVEAKJoxBsiiv+mZlraGpw0OqYUWJZiS1O0a1CyWG/8689EKlpRKwm/9J/awYzKbKNANsrmaA/QmZKf5CsNtcPhmBhQ52LByIQl6iOK0Xd7T/vbrvUznmGIBUfHWOHB/XVVzTKciqqvcsUuzYS8ZPbeV7bm8lJUldmwXiqr75M8F/prXmwvvuOf+Tk18ykuP9QjK1OUNRT9Hgo9BJE9dpBHZsQ4MOfII4+Uhz/84WH/ne175MqOCy64ICyzZEaS/XqcArpixYpAMNesWROWs7JMM75jlVk4FBiJ7JRuJ0YL8w+Vni1Fz8whS3Ihhyw1Xb16tdxzzz3hO2+44YZAmll2+pvf/CYQamZkf/SjH8nf//73kMbsGX3ta18r73jHO8LMIvtId9lll5DOcV03fbyMOMZMbQMymjFjl9sOxxgAIkiprM8q0iHwg/80Htqw0rg2OoOfnneuvO2tb5MvfvGL8rKXvSxUfC/S7QE6Mhp2OgWW5Oy6664DnetMbbAdjolCq3YUofOkk06SL3zhC3LeeefJE57whGAeC1ztBNqfD37wg+F0RQRQZnra9VsnHnVCUNMePVu/FUFquUoYJM5KIVyjATKVrbL533+XOz/2UVm+cpWsURK58C2vlZ5XvUIq+XmSZDslr3bD0lQ8yiItaD8RbnOcnkjXP/sNcaIOQpogT2vXrg2zZ5BCrumgvPIbc0jXggULAinicB32TbIcE2VEiSWY9Kf4T7m2J0Bv/S3hxuaGuC/G3N41s2swf00PYn9A7A49ikOAmEHl+/hW9iaiX7lyZZhd5RTU7u7usLyUb2TWcNGiReHJgUOYM8uIYjYxDjv9Hen4OOpw0uiYUqDNr4T7lRpHSWvpDFWXUqptEKW1v1ySrL7LZXNyztlnybv++51y4oknhg3M6bXnjukLOjxIIx3DCSecEPZ5WEPuDbrDMXFATDBRAcEN0njcccfJhRdeKIccckgwb8c6iaDMbMZHPvKRMINx2mmnhXvamt3P5hgJ6qywqp17DtKoRSzJl6UcOvy8FKtKYlRXK/cqe18ht3/8o7LztdfJunJFup7zNNn5Q8dKpVNJY75H8uo+HIynpJMBZ4aWg9AwTWH1LV2vKJNWH5F1eE+dvP/++8OMImTKiBQkCnvYYaYMgkjZxZ3NZkKe2EcJgYRMQbrQc3k9yoglspXt80OPPzYLZ/FoBYuvzRQyIIyePr5UKgXFrGms55vsaQfZ8JtZUvzAPQq/cIMZ8YEksrQXgsiT+gpBjuNIXED6d4zBvmcmw0mjY0qBLoSZRu5nSriHqVrTrkMbJuovRTWfk4RjuFVVtMH46U/Pk/e8811hs/gRRxwRKj+NGY2JY3qDDoUN63QaDAowUkr+0ph7g+5wTByodyYqMLvBIRLUScjjAQccEOqqCZDtBgRvBq0Qwk855RRZunTpg5aqOUaKbaSRCUJIn5FGZgnzXOCvTX1ZiUGxf6PcffynJXPRL6WS1CSz336y7HOflfLi5WGmsVBjZlE9gDSqLpNQHtVxm3UV1gfyRM6h3qGHNEGMjIxBpjgtFAIJmbzzzjtDGUYxGwm5xA2EkVm4OXPmhMN20GMGmURBJCGPmPE04oiiHhA+4Rops76Zp8XFnsSTJyQP8gcJNEU/j6J9QUESIYt8gy2txU/iyPUXkEMIIbOIkELqJXqLp4H4EZ7F0eIZw9q2GGk7jjqcNDqmFOgMQJ4RQiWMYchQS2hly1bJFfKq1QazqB12Liv9tapc+Mv/k/9++zvCsgsaDoozDZkX6+kNy0f2IRx00EFBaNtjjz2COY25N+gOx/iiVRtqy1M//elPyyMf+cgwoo8giDDWjkDgZK/UvvvuKyeffHIQVJ00jhXo77PCjjpmGo001mmfksayEiJt6nlfqPXK+u9/Q+7/3klSzGj/P3+x7PuRj0npCYeqw04phksblUjlykFuyNY0j8I9j4TTPrC6Rh+YHhzHHDMUZdSII09ImhEz9PYbghab85syn1YQTFPEAYW/KNoKU9Y3x3ojayhInM1SEkf0piCiNsNpiplPmw01ZbOfpo+fsWxgeksnfpsaDHHcHdvDSaNj3EEBC8tGQIZ5RLqK+rKTxlggtTS8q9W0MdR/SVKVTLlfdSqIrNsst/37Wlm6997SsfMStauNVFdeSvq8/trr5cwzfhQqOY2ZEcZ0Y+qYXqBDolMgT5nJeNGLXhT2Zhi8QXc4xhdp0cDqHMIlh29wGiEzBLS5CIDU2XaECZnsZTz66KPDLAff6xgLUMYyQskJM40YKXtkV6PSC8n2K2nUpA58sFoSueincuOXPivzyiVZq/Yf/rZ3SfWVr1Iy0i05JYqS4/C8al1fVYc5HOJpe8HqJuUyrUehpz6itwEOM+eJfISeJ3sjUUYg0yTS9JBD6jsEEj/4HRPIuP7jNzA5zAgiT5ulNAJp5NBIIHqezChCGNHbPkR+x3XPvgfwRPHevo1nbCeGmfNMo5W5Q9NNE+fBqelwjBFoMlDsN9BarD2DNupa5/u1Q2CjOosIClhQAijZski5INWyEr+usnYYqyVZtUZWXnCZXHPjrfLsD3xIOnuUOHTmpJTXDiSvDVd/RWplL8Lthrixp3Ohw0F5Q+5wTC4QFk1INOEKFQuN7QJrgwDtj82QOMYWpHBo2Qc0CAXZ+kMBB5RqRTJ33yl/eseb5eGr75a1vVtl/stfJfPe8yGR4iypqTxQylSDTJGpaR5ZXzFDuoxWovyORHx7bwTPnmmYPZ7Ysd/0z83QzB+bbWyGZn27EcA0WvnRCs38cIwMThod44pQuvRPmD1ULX/pAGrhbiXVY0l/Z9WQrjhT1cagpMJIdpNUbvqX3HPmWXLb76+WXZ7zbHnYf79TsoV5khQzyi2VfGb6pKD/cokfSjAT4A2/wzE1kBYbYnLVjuDb+EZvgyYIcVGycsXWlS1b5Aoljcv/+RclDhnpO/iJsuwjx4ks3lUqKgaUlWV2JlkljSpHwCs8u1oirq9x/W1VxmP76Me6ToyFP3EcY4xVHB31auVwjBsyzCeGWcRE4INcwpupKkGsJVKolSWX6RcWo/SreZkpyIp2DLVeqfzjGvnnF74s/b+7UvYoFGSnJQuUMCqZ7KxJJQfxzEg+7Hz0ItyuSHcA1lE5HI7JQzyDYEJju9ZL+y4TOr0NmmTkM7LsoAOlVuiQbCYr61bcI8kD6zRjVDbQ1y4NDB3pshzX5WbK3qOY6WMWcLgzfiD2xxRoFuZw0cxvlGPs4HXMMb5gNlFJnooarCYduHeJDersbixXSpJXISRfLkuGZaZbN8i6i8+Xv335ROm54WbZZWufJFs2S/eS+VIrql959SlHsa3vffTmoH3RrPFHORyOyQOCYlwXRyLcTRfE7U6sHJMA0l37/yUHP1p6sznJZfJSW7dB+u5fqYWQOcaacCtjyB3Poh0iLssxUYvLeaxiO7EaLpr50Sw8VCv7jsmDk0bHuIIDbyra0le1FU/0lzYBwTypKWnMdEgmP0vK/SXpqJWksPJOWX32mXL7qadK1223yJKkKh3KMpM5RemeP0dK6pZdMzQlXOKbVwaZSbwItyNadRoOh2NqIa6r7Yb4u7wdmmRoVtSKBZHle0h19k76My/d5YpsuvUWUSEiWMkFkVZVexbHMYXV27SKy3msxhPNwkOBZnF0TB5c4naMKzjshnPQIHsJTC8o/ZHLKmnMSa1Sle5cXuS2m+WOb50gt3znJFm+dq0s5YTUvs2yNVeVjbOKUthlsRQL3UobmWFUf/u1QanQizy4QXE1/RWg07ClcLG5w+GYeojrb7uoGK3MHRMDKMTGWlky8+fJ7D2WS3+1JrM1L3rvuFWk1KuEMWFh0zZ4No0pWpX7uF4MRQ0HaRJpyjF5cNLoGHeEy/ppwWtZrfBKILXUlbTe55QQdJXK0n/lX+Tmr35Z1v/6/2S/fE06NqyVXLUk5UJW1msjU9h1qchOO6sPRfUNP0SKRRofU452BB2MLYVzOBwOxwwE7X/oAzKSz3ZJJpuT7PLlUuvslA4u+b//HpHeLZJHMOCUPYiFVKVa43ZHx3ARE7xYtXo3XDTzY7jKMXlw0ugYZ3A0c0ly2pBnK0r4yuxlVJT7JLd5jWz85c/l9q9+RTr++Q/ZnQNu+jdKWUpSLeSkmstJrdAps3ZW0licLZlaPrjlziYOR3O+6HA4HA7HTIASBkTWQpfI0t2kqqQxUytJ5YH7pbJ6lQoGKh00JqGYjRrJIS0Oh2NweK1yjCu4RqMzk5VaX0mJYlWy2pjnNmyR4oYH5J4fny7Xf/vrMuuuW2WnrZuks5YJs5D9RZGtlbIk2Q4pJ3nZdZ99taTmtc9gAQo0VAFhdOLocDgcDseMQDgtPVOUzmV7yJZcRvIqYJQ3rpXSffcpacSGSgjZTDhdHTmhwSEdDscYwUmjY1zByGCumpN8Z6ckubJIZZNkH7hX7v/ud2TjT38qi9atUbJYllImkX5t9JNChyTaExRyeXWbk02lqnQ9/GEixfqyVjgitzKGgmt7JB0Oh8PhcLQt6Pu5uF8qWZm1dKmUuwpSzVQlKW+R/jvvUtJYP2oPxRJGJ4wOx9jDSaNjXEHDXclmpX9rn/K7findeLX86/Mflc0X/UIW3r9aFpezUqxlpZzJS78SS05IzWnj350pauufkY6F80R231mqhWz9nfpXYDCxqgwzoyTUSaPD4XA4HG2PcGVXkpP8/HkyZ+mu0l/pVyG2KitvuEGkv6wSAgfvsafRKaPDMR5w0ugYV4TTrsplJYYl2Xrln+XaE78otev+Kt1bVslsKUs+yUitnJF8vkM29W2SXD6nXFBJZLkivZlEFuy1jyTds5RUQhc5h7WmPFE7BPoENr2H8UeHw+FwOBxtgVbdOv1+Tl8WemTB7ntKXy0jnbmCbLj9NpFN61QkqKpUUVFrGcmpfODSgcMxtnDS6BgzJNWaJA1Ch15Un631Sn7drbLx/LPkzs9+QebffKvMqfaJdFSkL1uSfs7IzmQlUynLTvlEcqWqEsg5slXJ5pZiQWYv31MymTnSmRSlKyw8KWvHQABKIivMRkImHQ6Hw+FwTC/AAunXwxQiBttgY8KRKufUXk7t5WfJrD0PkDWlrHRIToprVovceZN6sVUpY1VqNZUpyuoAUUGdpnzeHmZhUEsOhwM4aXSMGTKN6xGSWk0qlYqUykrw7npA7vvm+bLy6z+ShWvWyZxsTXpo96s5KWWL4XL+DPsSMmUpKtEsVtV9RYljNidJMS+53XdVj5UccmSqFlfGENnbmOTVSFU4RdXhcDgcDkdbo36ZhrI7TsDZbRepLdhJKqWKdFZqsvG66yVXKSuFVAEDcaEJD3U4HKODi9yOcUE+nw/kceO9a2TFP++SjkwBpijlpCSl/ooUMj2SqRXZtqgK0liTrBLIrBrUkorkCtr0dxckC2lUAhnOYdX3akuJowiDiFtVlUNoDofD4XA42hk5E1nZ3Lh0oXQuX6qyQ146Mzm59/obJNNXkQ4lijUjjg6HY0zhpNExdkjqw3rMNtaUMHZ0dMjc/R4m+7//7dLxgqfJA4tmyUbuTuqaI+VqTnK1XFhuUs5VtCAyfqh/mamksc8rgZw3R/I7z9OeQgkjZsxK6r8GhdRuwbe7OxwOh8MxM1Dv8ZO8CgQL58nshz5UtlZqUlDZo/+ee0UeWCf5BMpYrUu3ThwdjjGFk0bH2EEJH6BZr1bDIhIp79QtlcfsKUve9Vp56P++R7of+WhZWVM7xU7JJRXJS0kbeSWN2tCXchklkEoKc1mpqOPi4oWSXzBHS2mj5Vc2WdBeIF9LRHmmdGoI9ZsbHQ6Hw+FwtDUaA9NVZILODlm85z5SyXVIoZpIYcN6qd5zN5bqXJE/DdHB4XCMDZw0OsYMnJRaU7LITGOxoyM8+6UiWwsFKc+aL/lHP152fe+H5MD/OFK2VPqllikpCawqeaxJklM7XN7Pcdq1vNRqShDnz5dMT2dYiqp9QgCX+3IOjlqQooaXrxs7HA6Hw+FoY7DSKHT/qpJaVopL95DcnJ1UKkgk179VNjzAJf9VyWYwcTgcYw0njY4xAyQxy1LSCN3aeM9jh0FVzYvzRHoWSblrrhLGRMpFNc9lZWuSl41K/6rFLslWi1KsdolUcjJ/yVJt+CGQYZIxlNaBBakcpx1U/afD4XA4HI72RZbVTEk1kEcVKCS7dE/JzJuPhCGZcp9sfmClSLkUrtvgkDwXDxyOsYWTRse4IqutdrGaSFeW6zEK0nvbvXLLb/8opf6ybNB2f/0uO0t5333kvq5ZUuqcK6WkQ7b2ZqS3nJO5S5dLptApVXXPVkgOUGXRa42lKUVVSkhtSazD4XA4HI42RpJITvt8uv1MJi/ZrjlSWLJYKtmaUsiK9N5xu9T6K5KrhqNwHA7HGMNJo2NcwUhfGPFL+iTZtFZWXPwrKazbIF09O8mazjmy2zH/JXt88lOy7KjXyuqdFsoDc3eSjfPnyRZV2UWLpKKNfyeb3hUsTEFV9GdJVZh9dDgcDofD0fZgC0zo9rkPWsXXTE+PFJbtLr2ZmhSqZem9/S6pbuqTDFtlVFaoYtfhcIwZnDQ6xhW1TEb6IXjVrdL3199J9YrfS+emDbK5lpOdn/RsyRzyVJHFu8muRx4tjzn2gzL7iBfIbfNnyZrdFqr5Aqlw9yMehcPQ6gffMIJYwox+w9efOBwOh8PR/ohWFpUKKr72dEjnnsuk2pmXvJLGjtXrRe5drXKBSgs+qOxwjDmcNDrGFew94ML+7MYtcusPviWL1t8j86UimTnzZf7zXiyyYE8lljuJFLul8Kj9ZdmbXiuH/O87ZOkRz5C+nqLUcoXAC1meKklNMjUu5sBfVbBHX4PicDgcDkfbg3MT6pqsbFHtpnwiXQsXSm5Wp+QrFZmzoU+S629RUcFHlB2O8YCTRscwwVE01UDgAmFDadvMMpBqpqrPijboVakl9aUhmUoiuQ29svbMs6R2793a6PfKqkqv7PbMZ8i8h++vjoqS7ZwlSddsSbKdIj3d0v24x8l+z/0Pyc9eLLlwEI41/nQYXO+bqZ+ayk8vwQ6Hw+FwTHPQzyM1tCZ8NZU7qrX6ietF/V3IdkjHkiVSm7er1PI9Ir2bZc1d16ncsVkKlaqKB+bXUJXD4RgMLnI7hgUoY9hirqQwtO8N7qhUUZWSRf0baKUSOu5azPSWpXLt9XLHb34t3fmcbFSV2XcfmaeksTpntrb6ahF7/Eu4xF+7goKSx65Fks/OkaKahQNZIYhcyZHdRhrDXknMHQ6Hw+FwTGMYcYtGo4EZq+LU9SxbVpQ0dlQqgTjmFi0RWbRMNtU6VEaoyqoV14r0PSA5SGM4er2mEkPkSVpxBLsph8MxKJw0OoYNa4IDkVNCB0GE1xWreSnoP94lSh6LSVlkywa5//9+Ltk1D0hvKZENnfNkz1cfLbL3QyWnDkvK/iqBAaoCnIwalqBQNOkcGqyw8Yg09Tg4HA6Hw+FoE1jP/uAePqf9f5AAgoyQhJnHTM9smbN0N9lcKUt3V5dsvm+VJHfdJQnyR/CjLktsrxwOx0jgtccxTHC9PhRRi062JhWWomrDzNUamaqaVXP15aRJn7LBLdL/1z9K+a+Xy7xSTUrZbuk55FDJPvGpIoVC4H9h3lL9CB6AB/cTTbGNOjocDofD4Zj+oGdv3btnEpUxGGDOqBySK0hV5QW2wizce0/J7DRHSqWyFLf0ycY771IrKlcEctnMP0TfwcNyOBwPhpNGx7BAE5tNuCcpI4kSvXJYklrddiiNWiiV+qSgbzIr75IVPz1Letatktn6rjJrvix83hGS6Z4vtXxHmJ7MSUkLYUk1NtWooKGP1MDm9wb4tb2Jw+FwOByO6Qvr2VM9fNzZs/JIiSNkEW0ul9c/BSnu9zDp7yqGmziKm/pk84oVaqGiCou4a6jtkArH4XDsEE4aHcODNryBICq4aB/KyGbzsB2AiUZV7EHMbN0s9//sPOm/4V/SUStLrxK/PZ7yFNnpkY/UVr1Hatms9OXYm5gJ85aVwDiHBxsrdDgcDofDMd1ADz4EMdQ6euSMjEoMKj/UJQZ9we/Fi6Swy2KVK/Iyt5aVrbfeEbbGPAgPIo4Oh2M4cNLoGB5odKv60CdH3kD4crX6RbqlMPNYkw5VvTfcKPf//jKZWynJ1mJeevdYIru8+AVS6+iSTF69UPdhd0JSUB8KdT3dgDFSh8PhcDgcMwBDFEWRP1TxQGKoK/2bz8ui/faVrZmM7JTvlMo990n/A2tUpKiGBUvbAcfbYZtPDodjcDhpdAwfyuvqqz6YKcxKLixXVeKYz6i+LEnvVllx3s+ka9Vq6e7sktU9s2Xp0S8T2XWRZDM56esrS05LXiE03hx2k1fyqQ12tqTtNuewKlq04y2MHQ6Hw+FwTFsMoVdv1vlnECYKMvfh+0hfMSdJf0Wy6zdJ5YF1YYB7O6jbB3HGAU/THjscjjScNDqGj0AYAYfiKOnj5v1sIkmtT/KVfum95p+y+Zp/S0etKit6t0jPIYdIx6GHinT1BIfZpKLksn54Dv4Ev9jgHlp4Zhvrvu8I3sQ7HA6Hw9EOoEcfRCQd4HasRqrLCNgOh+NkC5LZ+6FS2Wm2ShGJ5Df3SumOu9VaORyUY24T1SeJr2ZyOEaKQWqow9EENL7sWdQnhLGmP6ph/UdVOqtlydx9j9zy3R9K17qNUtHS1bd0Z1ny/BdIpmOOSHGWJJmcFDuLUlVyCTmEH9Y5In5w9wZPh8PhcDgcMxupAWRGmpEb1BxJIcgODVWcO0cKu+wsSbEgnZVEyrfcIVKp3yCdJAxIqxvkFq71cjgcI4KTRsfwodyOxpf9jFVtukv6TJKKZDZulvU/vVDm3LFSZlersrJvkyx5yuOle/9HKGmcJ7VqQUr5fDh1Nc+l/tqYG2r6MxH2N+KrN+oOh8PhcMxsGCuMUTcLUoK9zhYk39kl+aVLpE8NijWVKe5ZJVIuc2aOihQ1qdZK+qbqM40OxyjgpNExPNBSZ7nev154aK9pgrO1RCo33SqrL/61zFqzXjLVmizcb1/Z/UVHSNI9SxKOVVXLZX30qWsab/0VhgrDylRFNcxcKqms/9wxhmzR4XA4HA7HlMMw+nGVFsK/cGK7qoahQoWIjk7pWLpU+nP6S+WPvvvXSG3dA5LUVM5QosjSVOQWju2rSy0N4N5lCYdjSGiI646ZjSG2mmrFDsCphX0FVclV+qSz0ivS2yurfnGBFNatkmx3RjbN20kWPfdlInvsL5lCVyhpnIxdVFcce8OJqeEYVW3FaciNhJp+SBiyRYfD4XA4HFMOD+rHTQqIVR2clFq/pKtx5UbjFdtkJNMtC5buK5uLnVLpqEpp3Z2SrLpTMuV+kTLyTRGJRWUXJA12PnLDdH2VU8AQRCCHY6bDSaNDsYPWkteQxQFriZSkEu5WLHKoTe9WSf7we1n/1z9JR6Esa7Jlye+/v8x/2gukr8o+xqJkOjgwp04aWYSaCX/5VW+x+Wuk0eFwOBwOx0wEUkCsInCjf01liWBe058VFRxYt6S/cz0yZ+dl0tvRKX15lU62rpHa3TeLVMqSSXKSyWVVZsGdib1cFFYXb4Ixy1YHZByHw9EMThodih3QtehVJizxoOnNKXEsSIV7Fu9dLbf96AxJNt8vW6Qsm+bPl0XPO0I54SzpLHZ5Q+xwOBwOh2N0QBZpyCN2GA5/OGMh4YCbRQukZ+EiqZUZ0M7Inddcq6SxJrVcEk5QqNXUTWP02+YsAUte66fqOByOweCk0TE00DqHFrqm/5ljrB9jk+2vysZfXSLZ6/8lO+XLsipblt0PO0zmHHSwSGe3JNp4OxwOh8PhcIwGSBNhOakSvwHhVX9jVFa5ROZ0ya577SVllTu6852y+p83iWzaLOUsK6NUXoFd1hoySYMnQhWDCT+CjONwOFrBSaNjBMiERrZLVf/td8uqSy6WxeV+qZS2Su4he8jO//ma+p2MxQ7JMPrnDbHD4XA4HI5RYIDgAX5A+hryRdir2FWQRfs+TMpJTgpJQbL3PyCyYoVUM5VgPad2ubUjIPLMjCLfHQ5HEzhpdAwD2rRmMlKtZqSoTLBj01ZZe+45UrxvheTyItWeneQRLz9KpHu2VHp6pK+qDXDei5jD4XA4HI7RYRu5UzR+cJZ7WHGaL0q5WBDZfTfJdPeoWU7mVzLSd8vNKpxUJKcOsBcGskHYH9nQhn8Oh2NHcIne0RIcUV1rLOVAD2paZBLuROovyZY//kbW/OZCmZdLZFW1KsVHHSI9j3mibC10ivJKkQK7H2mlG420w+FwOBwOxwjQTJIYIHv6soqssesSKe68s1RUCNkpk5XVN90sRSWNmaQs2YYcEyw3PMNkwA+HwzEonDQ6WiKjDXA2mw3EsVKphCftbJZis2KF3HTGD2TXykbZWt4qGxYskV2f+xLJLNhNMrnO0AjXl6bWzzlzOBwOh8PhGCmQJZrKE2pYram8kimKLJgvc/faU3pV9iggt6xaJfktG6WQqPzS2Lc4QBJV39JPh8PxIDhpdLREtVqWJAk3GUk+n5VcTglgtSLZLZtlzUW/lOJN10sm6ZX7MllZ+twXS/YxT5JatiucWsY6kNAQ+xYBh8PhcDgcowT7EXNhRJofwWgb6SsrKWxsiel42J6yNZ9TOzUpr75f+u5bI7lwcmotiCRBLGFWsv6/oQaopMPhaAEnjY4moPGshVlGlqUy48jvSqUkUumV/pv/KRsuu0SWqL2NWoQ6HnWQzHvRy6XWPVdt5UOjXsioTt2GBt7hcDgcDodjNIDtqUzB1fz1azLqhA90MrBdU5G2mJPcsqWSzOYwvqyU16+XLUoaw9UbtZpUk2rwJhDHhgTsgrDDMTR4XXG0RFiOms0E0ljj4lttnZNKv6y94BzJ3H6TZPrL0t8zX3Y97AhJdl8m5XxBsgUs9WvBqoZRQWvQHQ6Hw+FwOEYEBqBRKooMkD4FQmylIuHOxazklSgWpLh0Z8nOmSWVbE2y/SWp3HFPgzRWpZLUD73h6g4U7l0QdjiGBq8rDoW1xtYY1xdq2EwjS1Szapav1mTNFZfLqj//TuYkJdmilucecLDMedwTpLfYIfnAELlEt1oni2X1ZZvXDofD4XA4HKMGG2BMvFBRRQmhaipVqalBbqf5kp+7k8ooJSlmVKK5/U59Vw4yTSabGxjMxq3pHQ7HjuGksQ1hDSmqJQYs6B9tWEWJIbsX+xoKPU1yTUkj9x9laJFvv13uOf1MmfXAGtlaqcgD8xfK4he+UKoLdxZthwP61U1/LlenjVyK5HA4HA6HwzEaIE6wfCnL1peMCq/IGbkw0M2AdbhJozMjmSQr2U4ljXvsI6UOJYh962XzDf9WeYRlqfX3edzor7B9Bg/U3AbLHQ5HazhpnOmwVlIbYdpcyGL96Bv9VaVx1ea1XBHZslFWXXyxdN18k/TkCrJlzmxZ8KynSebgR4sU1U5oeLXpxZPQkNOK47mqYOZwOBwOh8MxEqgsEfa8qHQR5JZtRI/fib4rK6FMOIivOEdmLX+obCiVpFsZZW3tapH1q+uH+TEIrsRR2HLTEICYnWyIMA6HYxA4aZzxgNEVVWW1PU7qo2+qQsFQ0ihlBugSKd15u6z8/a9lJ6WUW3IdUttzT1n62qMk01GQSqEg2g4HNx3a8nbiVpGE08mcMTocDofD4RgDNEQKHvV9jA2o/ALzy2TyYZXT7CU7ixQ6wu9yX5/0XndTffMj9gKUcEZ+ORyOHWOgvjlmMGg5aTUzVSV8JelKapLndv4w7aitcKkkK84/TzruvUs6K2XZWJwtC1/yEsku3VnKxYI6Dzc31r2oJZILQ3bhV/3hcDgcDofDMQpA9wLla4gWJnc0Jgz1h/5iW4zKMJ0L5knn3PlhoVSuUpX7/vlvFXGqagXL9as3GqcvBGzTORyOVnDS6AitJRyxLBXhHqMMB9hoQysFVUlJev/ye7nv4ktlYbkkm0p9Mnv/R8uSxz5Btua7ZWsmL1VtiAuh0eZPvfVmx4HD4XA4HA7H6FFfjhq2vkAOVdSA6AUOiKbxCDdEF/KSWbqLdC1ZKiWVRbK1qqy57jrJ9PXq2zCqHewxLg4yYcoRmcXlFodjMHgNcYSWtqJNaBlNLa8/cmGWsZZV5vjAXfL3U78re1XLIqV+KS1eJHsc8RIpzVsiW6VDXWX1r9qHZLJHIJcI2wVoglH1Pw6Hw+FwOByjQyCFJlgMjFOr3KHskWvCwsqpQk6SObNk3l4Pk83VjBTUfmbVapEVKySjBDJArdWHuOtAGHZxxeEYHE4aZzrC+n42jzcuysiwv1GfWjKy1S1y+yW/kO47bpF5lYpsKBRk4bOeKcWDD5FsYbY2xJ36ryA5LjuqMHqnxDOTCaeveuPrcDgcDodjrFGfK1QY61O5g6s08rm8yh4ZqXGUakde5u+7n8isOZJR+aV761bZdNNNImVOi+cqMZdTHI7hwknjjIc2v9V+yXMimf7bqq1wtcDlt31Svu6f0vv738mSUkXWlvold8D+0nPEi0S6OiWbyUt3kpEiDS9Hj4XGOxNmKyvMPNoOc4fD4XA4HI4xwYNlC8QNiCSnoiLHJBznpwRS9tlbqrNmKZnUl+sekL777pVc4yCcsP1xgHUCl1kcjh3BSeOMhzaaOe4rSqRT8tKbVKWSr4r0r5WV550rhRtvk3xvWTYuXCiznvVsye25t1QKxeCsoNbqh97oD21vkyyNtS/ycDgcDofDMbaoU8KUfKE/WXAaSCO/w3UazDYqU9xjmWTmz5eayjU75TNSWblSZPMWbAW7+Yg0Pshfh8PxIDhpnOmgncxoA1tNJK+tLtdlFCqbZf3lv5Y1v/2NLNQGeH2+KJUDHykLn/J06c0VpZRrFBtaaWYZ8/rsUKWkkb0DaOv+NpTD4XA4HA7HKIA4MSC0NvgeD0hj+Nn4wcE2YbtNZ4fMWb6HlMslmdtRkC133inlDZuwWd+Zg0PztOGfw+FoDSeNMxzMDPYxKsfdi9Wa9Ggrmtx5u9z+s/NlQV+f9KvZpvkLZdkRL5LqgsWSzXYFrlhffaq6TE2q2Zr0akligWtRjVCARa7eEjscDofD4RgLIHoE8aMBDsCB+6ECGiIHt00n2ZwsfsTDpbO7QzLVftmyZrWUNm6uW0D8bdh1KcXhGBqcNLYhtqNq0Y8wMVjXKjBUwseJY5lOqWRY9K9mmzfL+t/8Rgo33CBzO/KyXtXuz32u9Bz0eMnle6RWCU0xQ3laeurPirbg5eBb40+j9XbS6HA4HI4pj6irMi2K7iwYNwzMPGC7H9tgxrEKaPbC1ciUQWUP+zkgzMIo1ZClrJLPi+y8WJQ1SqlWlkx5i1RX3qHvGxILGxtx0szvGK3exe5cTU0F9ImW+ry94l9V3+mv2L6jJZw0tiGoAhWtBKEicAQ112E0HqhQMapVNernuBvpVUP2JmbKZandcatsvvgi2bWvT1ZVe6XysL1k9uFHiHTMlVq2qM1wTnKclIq/WS0+qgpajLpVQTvDH22nKVj1K/+9iDkcDodjiiL0h/Un2roYWdOesRZOAteerv6+pHp96qNuiOW6gwE9Sx75icJJw9vt7bsatQokD76nir2IXCnNLpmwAgqxRJ+d2OurSMeCXaQ6f4n0d+al3He/9N/2Z82PtVKp9Ul/Ti3CH8Pd1KrRR1i26qp9VKPuURdDVkeqpDKwSsD6jhN11cDqqaMlXKJvQ+S0EQ0bxkPh1z8ZJZDaNg7UhaChdcVeIkVtOHNJVRvYzbL23POkfNvdap6TTZ09sogrNpbvHioTLgp5fZNROhgIo5qgx7a2tKEw1b11OBwOh2N6IOqz6BXpy+qXwHODsQqUmbqYWdVnKTyVVmq/ikpU0UGGQVpV2aSucqgaeu4Q1FeK0A+n9HTHO9QPpobgHjTTD8XtoGoI7kEz/VDcxqqeR/pW076eL2VV/arvV8LYr3mm+ozmVZa8Ujsq0yTFvGQXLJCtS5fKplIiPZWMJHfdK9Jblrx6SlgBZJ0isXyN8rMu/DRUwxwV7BC34K6hWuhBM/Mh6QdTQ3APmumH4nZQNQT3oJl+KG4HVUNwD8Iz/GaFXL9Ktb2qqJcqJ6vlgpajnJaVMCutv7Ffbbh1NIeTxjYEq0bzNUijln5ljonWjgpP3mEh1Kyc2stJUatMJxWqtFk2XHW53HPZ72RupiDrqjkp7L2f7PzMZ0o/F/YXtapVtCFWL3NKMjONZR2G9G+Hw+FwOKY86LrqLDGA/jObZMPMFQIml0hBTCQHKenX7rOs/WlFyUV5QCWqMqb0fVBJXUFgEFqrGkZN+2FUrK/tUA85jfU8+d3QD8Gv6Rk2yvT18Iy48cygVJ/V9K0fe8NvCCVyiuaZvi9nNQfnzZXS8j1kazkv8yqzpXzbBpG1Zc1jJZTYLiAOaUBhEBz/6/kZBgoGVQ2COYTvGPZ3D+gtzWP98Pyannk/lmFTVjS/paR1GlUNdZuDH3PqIK//Qm1X/yGMlCBEZEdzZBJFQ+9oF9DuBWKof3JVKWtFKGn3x7W34V5FagXQChUa11qf1FbeJX/66Idlj+tvk9la21b29Mh+x31Magc/RkrF2WqlJt2dHeo1M4rqocPhcDgcbQC6S7pNlTO39Y/6g/36uWqiZthQWlJQCqlmCJ7RPNUA6FIfDGYa6TnpN83CYHrA7+HqAb/HSg/4PVw94Pdo9IDf2/Rh/VRFhXvYgxnzRJlTgL7htE8JYaHSJ3ede5Zs/NLJsryUkTXdPbLXZz8utUMeJxs6C8Eq+d6lugIk1ETi2M9mUP/r+QrMchyZkegBv4erB/wejR7wezR6wO/R6AG/h6sH/N5eH8pNwsgAeVVVsZgz/htvtcLWVxTkVF8vWrQErDUIWseD4KSxHUEdCMRRszZflX4t/RWtAp1aMZRD1uuUtpJhIrJW0pZ1vaw+8xS598wfya59ZVlfzcvil79aZv+/N0h/Z5dU8x0i1bJ0ZtV9cEsT63A4HA7HdAercGr6r74wlXFUrvpj1gEhslDWN+zjzyhNzHMip9oL/asqJEsUSOmxUteqYOpi1hhAExWhpZHuIUUtvWM0kppXkIRMZbP0X3Ol3Py+j8vOG0uyRuWX5e/8f9L9spdKX1en1MIVYtVAGAtKHUMYAH+aZZuFGZ6Wy46pC80oRnqUIIblx0F+zYa6XVYd+2ELZKPlJ+d15DicIxg4UnDS2I6gAqAGSCNdYlY6k1zoECGMVa0TdJX5Up/IrdfKzR85VrK33yLF7g7pf+j+svy9H5bc3gdKf0dWylX2PSZKOMuS58Jc4UrcerHxZakOh8PhmL6od5j0kayjyTVIIypT65dMr/aRvexr1D4vW1+0GpOXAHsij8bAPNjFQ7PkGBFIf6aBsw0hJpipivNhAJqnyD+J2u3fKLL2frn5re+SWWs3y6ZMTha+4HCZ///eIFLsEOmENih9gCxk5qkbfivwF5XGdmE1yoJjCkPzlROssqqo3Eoak7zmcb5TtuiTgxw7KC7U96raoRxw6q7Ltk3hpLEdYY0dF+/n6tdq0BnmWadKi6cEcEutJMWsksYNG2TVJz8hpT/+TopSkvvndskur3+jzH/JqyWXm1f3RitTNlvTwqKVKaC+/tvhcDgcjumM0MfpP1bjsFitk+kH7QultkV6b75e7jnldFmkxHFLX68UlDQmKnRuzbOnUXtVHCvoDrNKHpAzg5mqwDF5qdIoc5iO0cP2tQUJXwFfI+1DkqumkR1qyN63rPSpWXetLD0b1krtvhVS3bhJ7eSlNn+RFBYvEemaLZlyTRKVk0pkWJh15DzWev4FFTzchm3hZCWrwlH6vWPqISlVJOkqSF8xkUqlJLXO2bL7Ef8hXU88VMXkLqRjqSiPRMblACvJuIzbCk4a2xBQu9DoBQ1/yOJc2OGbUCEYqctWtU/cJA9c9jtZc/wXZcmmjbJOrWw65AA54OOfkA0Ll8m8WnfY7x36uwJ+mM9q4BXK4XA4HG0A+sWyMj52Knayh1F6tb/cIGt/cb786+Tvyqx1G6SvIy/ZbFFqylyqHJqigFQAiGKjZxwgGvau3v/WTxc3I94PR2/gN+YxhuvXcPUGfmMeY7h+DVdv4Hc9/eKlvpiYfSX8muDhHwaq50zMPikE0aVHiWMlX5ZMjkNQlCCUlBjmivpU3lhSC/mc9Oq7mnKF4F6NLE8tH4M5z/qDENXO6PK1ld7Ab8xBrDcMxa/R6A38xjzGcP0art7Ab8xjDMcvnoUkrzVahdmiSPfmzVIs9sj8Jxwqiz79ac37OWqpICV9pyWAKRFVPhjQCk4a2xBGE60DC+CpijXdmaRf2eE6Ka9dK//40oky/89XyNxMXu6eM1cO+NzHpfzYg2VLZraSxpxktVGl9iTF0Fw3mmmF1yiHw+FwTHtox1hLpKJEsKQdWzEQgT7JVtbJ6jN/LLedea7sUuiUXV/+Yu1UO4XuM5NXCbMVrM81sAGSZZWYW785FP1IMNwwWulHgtGEF+tbATvQekTWoG9II9GsYxgkD6phnpvFgQ4KJQxdVTVSKabEUsWC5rm+ryp5rCpNyLPlBmFH38VxCuE0QbCj4YTVV5EltLH7kepHgtGEF+tHgtGEF+tHgh35qwUjo2WB2WS2a2Uu/Y1svO4Wkb32kXnf/LokhdlqLS9lrdIVzX+urGPJ6mii1M5w0tiGYAcjfxlpy4UKUzfvxzxTkY5qr5LGrbLurHPkzjPPlAV962STdoqLX/oqWXDMf0n/7FlazwrSobUmU6nXvHIhnEEV7rcJtclrlMPhcDimPbSPU9JYVtLYpx1bh/4M9/6VNsmGH58n13/3R9KV65RHnvlDkaKSEJaucV4/7qwftD4xVkCfCWtWM429b2Ze71brGKoejMb9WOnBaNyPWM8PJXVBqTQCKWxM/zUewW793sz6jGSmV+1o2ldVmEk0z8Ku1SoD4LV6vuCgwnJUfaq7cMhmCHRbsPw0ff2NAgMC5ZyI0ebrUPRgNO5HowejcT9WejAC9zzIomquIvnyJnng8yfIPb+8VJY9/sky50ufla3SLbMYK8jXy0W9LNQHIhwPhpPGtgPZydHCNSlpE1mQXBjopNJsVvbInUZdlU2S/ecNctfHPys996yQ9dkNUtr/ANnrvZ+Q4p6PkFohrwWjqm1tJTTAFW10IZGBNKrvVicdDofD4ZjWCFJlIv2BNIp0qirWlD72b5RNp58tt/34Z5J0dMqjfvQdqXTNkXK+W/vVOgGxzjA8Yr1Bf9S9x9RFrVFDk7GevpDGbSkdpFjSWhWUkj2qLDPM9SVSyedko/7geJtuJYwMfCe5qlSygToK9zXWb2ysS07IPMHnKLvCwDv+138OIBAMz9cpjbB0WfO8nC1Lsayy7olflRXnXiCLH3uIdH/jBFknPbKAHVtkJeeAMJjggm5LDI9Oc6oQqZ+uI/w2pVAboeKmrTkmCpT2XPgXyr1mBI1eWfOOdfrZDZvlrrN+LOU775DuSkW2dM+S7kOfJMWH7B6WaWQrWs1qjIxqPqoHJVX4Q36yxZH8dUw8SH9TaTQzczgcDsdQkAnXSSEr0kfWO06lHvlE+nrXhf1w7IcqdWRlfa4spVxWyrlcuDy+oopnNZOTGrNaYZBVfUI1+uBs6HshKK5Gp8ga/RcRRjo/fplCqB3Yk5bLCKIMckvIDdwxs6hEkQH1QBczEFB1q5Z4n1cHuVhVGXhXpU/7XX+X0fh4vk51lVPeku8vszpZcv016ajUpDupSCcsRUki5SVMOlPv43LlaIrhkUaOo62miCMMwpSaaR6FJeSokAdB1Sf8d6yvz5DVVXUC9Wk1Gr+Gqx9MDd9fsqFfm8t+bdDymgnhig0ypVyRHjXPb94qWy6/Slb+5XLp6k5kdVEbzEc8TpYd/h9S6tYOsFCSJFzGqM5yHdoJdmlfWZSCVibCKIfwLMyhxWnH+rQajV/D1afVaPwarh6VrgOt9QzEkJ11l/hjfpm9GD5s43A4HDsEcqKyBmamtEuUvP6uZQoqHXUqWVCBs1g/ZEWSDulUsrFAbXapXXY1opjBQgXC2VDbi576hquqXI1eBSKuKRzyrKEswVXZz7rSv/msFNRwvv5mBjlkEhosBBvBVv03mdjwZzuPcGPKfod3+qdZHF1NLcWdi50qy2aLkhTmSK/Ksus7RDbkypIr52S28pkMh0Oq3JsUVNEQkP+OpqDoDxlcbFvLZcKGcW5vQCwdSFyTT7VxRZDlbf0sMqb60yo2R88Esv02fTOz0aqhhtPMbLRqJOHs6P2DFctPC0lFOhrr+vlf1TzrL2SlWNEcW7dabvnlOTK/1ivVSklKO82Xh73idZLMW6yutdW0tdz6sCwNHJI6BRHVUFiW0yzsHatm3zNUs9GqoYbTzGy0qlU4sT5dJ0xvKtG+SgWbhJ2q9ffQR3sfRmDJJwYI9P3AKI7D4XA4BkdoPLXbC20o/7XFZQYqmNKWKpL6FQtBplQ7TRXvguU07I2r0akWiF5tZ1M16OGDQbKxlw0LkXb7d0NVTQ1dTTkVHvzhUn/lL1oYqlR2lWlzyEwcVKUVWH+65LQDDIs0suwiKM2BAbG0ng/11jZT0cSO3+rLcLIVz0iPg6BvqOBJw3zg2UrlRqFvpuLwpnLYsRosvDqpk0y/VJLNmszcV8R6bn2vpHHzZRdL393XSVdSkr5sQRY++zApHnig1PId6raoPigtpHKpFxWihI/UIM3OOmmkI20V9o70zdRw0mC44U31sBtqWyWK6gXm/N5mJ8NJb5oHGU59Uzt1KmnuFQMtXcPc4XA4HA6Hw+EYAyB9Dhl55YIFJQ/ce1OfyWe7cVVl1or6pErZBeIqpCUXvG54P0AWG/oBITcWeDF3NVqVJDnp13yoaM5kNaM4QSy/lbuINAduuFlW/uwnMmvjKtlSVoO99pa5z3y2SGdBKqzJgSxWy5ptiZLIqpTUD4YB6qyRPGrkaJNwXY1ChTSN6wL6hjn1ZsCOKgij/iafWVDFAdGMnG1D3T7v6qv1HQ6Hw+FwOByO0WF4UiW7ieGHShxxyEJUdtGxsyrQChV2mQXJV/OqOIoYQ8dEI1FKH5aaQutrzPyK5Favl7u+9y0p3n6r7Fwrysb8bNntiBdL5qEPlXKRKftcmKbPsG9VM5mTUzl/lV2MYWMk0/f6y/N0EkFGNvgh9Y9lwzwxCnwzaFRRP1WxQpnDkdPK4XA4HA6Hw+EYDoZHGk1CbQiuhvpSOFXMiChZrC8Yrr8LLMPVhCkmnQqaDzklhlItSLWoBple2XLlZdJ7099kgWZNaUte5h7wROk89JnhTsb+HNdpKNkPzCOvpKOm5EIZR8hZng0GEsKom6fDdTX+igOKkrzqWQoejOqng9UrW1mJIwS/kT8Y8crhcDgcjknESAYrh+LGB0EnHp7mMxvDIo3KQaSGUleIpjgOO9wgG41lc+FFEFi1YCUqxLqaYFWRnD6yfRlJNMMqtbJUNt8tt//xfEn6V8sWzarKzg+RPV/yGinPXyRbNZ/Yo8hR0/VrNtiLV1C+UVBzZitZ5qhEkguNMzmpkcdMNzcN29V4qURKSgv7wr8a5DDkAaqkedKnv/r131apZvrrbrhvSPM2buDZqxr2qzocDoejrRC39aavhpVD2ltUKlKr1YKaCBAesPAHC5e4WnwtjvzmiXvzw8zMrrmz347m2FH6xGmKvhV4FyvyxdN/5gEGMGQMnJiqYGlcTgkEd9pUK1qxVaztV4JSylWk3KG/ipxE1EppAWyqMq5GqcJkoeZqVjle0luSzv5+WfGrC2T9P/8sszpF1hWL0vnMZ0r+oEdLviMvXZqR9YWsDagfdr8U/7jOP+yby2Wkqv5WNP+qqTBdjVQ1qwMtlOYE3TB7TMuq52Q/8giVCYdTUTez0qsNeDlXkHIWO+rQ4XA4HBOGiRaiTXCPBwTRNzMzAjZeIEzCyOVyQZ/lAD6F/UbFsDjG8QT8Njfpb0CZX/hv+snEYOFb/CYrjnH6NYuL5RFE0PTNYP6YW+zGfjtmBjJaAIZckssqukIjwswirhiUUBIRls4h0nKASqWkNlR8RahlmeqQQeHzAjgmKJVF8soQaxWp/fMqueK4j8hum+6VvvXrJL/vI2X5ez8hueUPE5nVpUleUgdFzU9mGVVrWUBjELJEDa2I2LvATB1jg6GP/CY5Dp3Shr2q+VVjGTH1S4WAbEkb/H6RQkF/FSRT6BEGevP6Oqv2rWH3Bt7hcDiaQdthVtHQ3WkzWdV2M1faLFtO+4HceNqpUpu7UB57xtkiXbPDAGqQgZpBjRGp4rZ2R8L4aBGHh95+oyraEZhwb/GI4zYesPDL5fJAeKbSwK4BPfbNjPii5xvy+fyDSCR6FOZTGfY9oFkaTBTitAMWrzg9B4sf+cF7FAMDlldmNqWhnxroSn+fbP7Sp+XWi86XJQcdJIs/+22pdRQkx0GeKjvVTwCp3w8wxb9o0jAs0qglRP9oUpqL8FMrrgqsSbVXZddeWXP9dSKbN0m+pgWrrIJtq6RveBUwXH0T7OD18MNopW+CHbwefhit9E3w4NdaiZVElMsl6agVZNOFF0n1qitkQWWT9GXy0vXEQyV5znOk1tktidrhDE5mf6tK8qtZTuLMaoeYlVyVWWT1TTvPKtd2qNJuRw3oWJmb3L4T3EE0t7cwGn0T7OD18MNopW+CHbwefhit9PojJxWtblWpZDq0cSuqCftQq5JLSmpekWpB8697tnQvXS4du+4umbx2ptltHcGUb9gdDodjUjA2pJHhcxC3tTsSxscChBGHY08zBwj5401ggREKQDzsd6s0MDJi+jh+uOUdxND09p3Ys29r5fd4Ix2+/TZMVrzSsDSLMZS4mh2erfwYLG+nDPQznDSODYZJGlVpSpL4prhoPNm8PiR38re/yaVfPFEWbNwss7Vh7YNsqJ2B1G+4DwWsoQ8IeszMYHs8yGpdOyr9UDGaMFrpR4KhhsHtfcVsVTZs2SL5ngXStXmL7Fzqky6tLLXiTrKuu1vu1QpSzZVkVmeXVHrL0qW/K+qmL5+XUrYghWpOussZ6Spp1dHOs6TssZxjUaQ26BoIs1mENNQ4NdMPFaMJo5V+qBhNGK3020PfhJlc1aYshwd/FFQLDrzpqlSkUKvIlkKnbMkXVbDJS0e1InO0nmXLJdmoHe6G2bOl8PD95AlveovIbntKrdAx0KBP+Ybd4XA4JgUqqYwRabR2FgIEEKpNH6NVezySdtqEeiNSFe0rUOvXr5fFixcPzNaBmJSNF4hDqVSSQqEg99xzjyxYsEA6OzvDO74v/kbsFYvFAfLIc8OGDcGcuBv4TdzxE/+x12wJ60SDeFgcLB6W37HZZMYxTiP0lAdmgrtVHgRWPtJpyW8UgLSvWrUquJk7d+529ibz24YE/QRyxEnj6DEs0ohFlFYRmsagh0jkqyXJbNkgtfPOk79++euyZN4iqc3qkS3ZPqnCMiLwkwI2kCH2OhS6up+OkYMUzCmRYNawL98lRU3XvFaUYlUb8aQopZw2uF1ZqZQ3ST5sfMxKR00JpRKP/pyaZ3KSr2Wls6zm3O6vzKWshLKSgzBqp6SKPY31PXWO0aBe2lXxaFQIK/9JusXSF7PKiRL6RDZ05JU41vNuVlkb+6rWwUSbu8pW2dq/RTbOWyBP+MwJInvtK5Vil2Tr2Tj1G3aHw+GYFIyeNCIVIVhDZPr7++WOO+6Q3t7eAWJjQE9bPGfOHNl9992bztTYb7Mbo5kZMHPIQF9fnzzpSU8KZqeeeqo86lGPCnrUYMs5zY/0M363I2AP0sR3/eIXv5Cjjz5ajjzySDn55JMHwo7JHk9g5PGBBx6QN73pTfKHP/xBfvOb38i+++4b7N97773hN99ywAEHDJBGnvgTxy0d13RYwN7Hdlu5S8P8WblyZYivEVqIV1dXVyBWPT09MmvWrGCPd7ixp8Wlmd9pWFjN4jXYuxhxGlFG77zzTrn88stDGdljjz2CGyPjAHvmBvvE+y9/+Yu8+tWvlmc84xlywgknhG/EvuUldtJoFhcQmzfT8wSmT5sNG+rUSePYYFikkWQl6bNS1kaTUauckox6gSz2bpDq6T+Qm7/9PZn9hKfIwte8Jpy2irQ6EIQ+yAh+2iyKZUz4qT8axo4Rop6emoraqXHYCr81kxvmUHytfJr4+jeYAMsDDlwx0ClaHmEfbfTa82kMENJTE5KnpWeQRSyhUwmeL+eEe1BLHUruc9pIK4Hs6CtrZnVoXlVk01W/lVW/OEuyOy2Sh33sK5I87GHSr+SSahi66pCJ9RHQ/9/euUBLVlR3v7rvY2AEgwQMiDGAoKAsFAFFFFEB5aGogAqyFKIk8lQJikYFISAgiEIE5CFB5CGgRA0xvuKKIstxKSigPA0ahUD8kDczzH10n2//dve/p6an+06fe+7MvcPs/0zd2vXatavq1Dm1e9ep07oCWjfHTuUgrzMQCARWC8yc0ojicN9996UPf/jD6cYbb/TFtBbgrIVwxO2www7ptNNOSxtuuKGnS6FSXpAvmlEGUaq0nqIu4uUoB18UGByLeyx21157bXqhPQtIUx0C5QQpB6JzhQzIlzxAfp4PQCPD9773vbTffvul/fffP11wwQUdGSQrgJ/iJPvf/u3fpv/6r/9KN9xwg8tOnquuuiodeuih6QMf+ED69Kc/7XUQL16E6SMpP8RJLsKTk5OelsdRr/oxzy9epBNPXuIkL/lwKE+XXnqpy6z2YIV71rOeldZff/30/ve/P22//fY+bkC8APzgAagHqB7F63pSfd3yC5INEN8tM3wIUw8/KJx66qnps5/9bDrzzDPT+973Po9XXnycrgd8+uLWW29NBx54YNp5553TOeeck+bNm9fhiUzkpY8J4xMWrxw5b2iVUXuIg87bSd4cxOMGhrEOpXFmUEppbJ27xVma4zYIraXoJINq/0aeejxNXnJRuv2889Oz93xL2uATx6U03ybKkHV/p4b2MEwap361xkhVBxOsTD82WjeowEpGrznQHrd8TQKNAl/jFxoOLKo3/ZuNNcZt3G52o/PtjlikB7/39fSHcz+b5q23YXrRKeemYpON06RdCr2URrsdW5CzcQ25HGWum0AgEHhawO6LM7A9tVm0Fs9syURZuv3229Nhhx3WWWBrEYy/2Wabpbe97W1umaIMi2SgBTELaxbTgDJaqmlRjjKBT1kcC3vCbAN9/PHH09577+3Wua9//evpxS9+cWehTjloHHJJOdIiXH4OlCIUHyllgLooJ7448okX6d/61rfSu9/9bncojbQRHtSLNZa2ixeOOlB0Dz744PTjH/84/fSnP02bbrqptx3L7YUXXpj22GOPtNtuuzkfKdHUlysZWHjpB2RSe0hXn6q/RFM3gCaP2giQk3rEG5Cf8AknnOCK43ve8570/Oc/3+OxPN5yyy3pRz/6kW/LPffcc9O+++6bFi1a5H2fK7XIAE28+OPgo2sGIDv5CZNPbSKfxhMojXzkB+qXHAsWLHBlF6V26623dj70F3kB5aHVD4T5AeSAAw5I2223Xbrkkku870hX/0gWoLoB7WacSVf/kh8fuYjLZUSpRRaFJYvyTgvWjbQslMbqKLc91XIWNbtBoDTywUZbcjbqdnOzAR1d9EiavPIr6b8v+FJ65m67p+d89B/T5DOfaYvW1iD7gNswtIakNRwtugWEGFiQHqDsbA3yXKubIeUfIE392o/2k24ropccKwurat2Uy8vCK3ek5TSKoz1aLKIVa48WCzXSU6YZrmlxD33r6+n+c85Mo8/eMG1+2jmp8fxNfCtxKI2BQCAwFWZOaXzyySfTE0884Uoj7xSy2GbRzMI3X8gDFt4sklEQAM9u1krEUYaFNWVQxligU05KmRbT4sWCnYU5wN9222093zXXXJO23HLLTn4W8WybhC9x+FIGCVMWmroJ40t5UJkc4ouTMgBNGbanYmXMLY3IBKhHypIUBfyFCxe6RfG73/1u+sUvfuHKNbzIT12Skzrgp7rpF+KllCoOnlJm8n5Tm8hPPLxwyC+QxjhQRoBWnpNPPjmdccYZ6fLLL09vfetbPY40xv/qq692S/IGG2yQvvlNU1LMJ03jpDoB8sAXp3aonxRPHsmIgweQzGojUDtxpKPYkQ5vyU4e5ev25chLHDy4jtmeioX8S1/6ko+XrkvywRuZUNjZmgut6wFepGtMiIMn8fQx+UijLqWTBlQGn3jykg83MIxVKI0zg6ET+KlkQHh3+p5Fu+j4ELwpG3wLzi6vNNScSMXtv073L1iQRjbdLK3z+tenmg3usOUZtoJ2m3Pn78U17YIxv2Y3WHfNFl13Z+kD0QoPQiu8ImiF+9EKrwha4S7a+7vlUNSXS3MzWorvILTC/WiFVwSt8CC0wjNFKzwIrXBvuvv6b80Bo1Hp8jwetlnm24Qt3m6ciXcYLTxpN7vm8JAfkNP8zW/SyC9+ZjfVkfTMXXZP6S/X9dNwW+Pdhs9f7qFLbo5LIe6UgUBgtQP3xfbNzzzutfXGeJq49eb00K23pGKN+Wmjfd9u68p5plvys/eyN0ottFlEo5ixLRSrE1YzKR5a6IqWe+SRR9yyxuJ4nXXWSX/84x99O+avf/1rV0CwWLFYZqFNXt73Y+vnbbfd5nHPec5zfEFN3fBjIf7Vr37VFSaUVxb4//Ef/5G+//3vuxWUfGyfzBUq+Ggxz4L/+uuvd5mo689//rPXIf5SegBlCP/qV79y6xrbSlGc2aJJXVg6t9pqq/TmN7+5014UC/rk//7v/9IPf/jD9J//+Z9ulaWda6+9dvrGN77h791hCYMPCgN9CW/KEyflgm2T5EU+6iUP7z7yDh71b7755kvJShvghyJF/yHzD37wg3TzzTf7tuK77ror3Xnnne6zdVhWL/HApzzQFtp99tnHt9HSD4wt7/u9zJQS+oR+ZAuoDo+5++6700033eTy0te8W8jYYFWlPt51JV4gHQWacfj973+fnvvc53obGDfqYmxoL+3h4CBkk6ykIxM/XtBO+h3l9b//+7+9z9ddd13vb7UHcO38xtYS1ImiyLXIjw4PPvigjyWW3ze+8Y3e/6qH8lxLyPrv//7v3j7CvC9JW8iHHFzDjAnXFXXTDsYOizRtQNl/9rOf7TxpD/yIp5/pN3jSP5pPckCy9IPP8MZkGl9wfXrknjvTWtbXa+365lTY+olPk7Ea1rqo9TfQE9bhg6PBn0lzi8ybsHDTQ080JovmooeLyYvPLu7YYevi/uM/apGPWPqYpVq+pvnNcQubK9quSTx+GVrhKrTCZWmFq9AKV6EVLksrXIVWuAqtcFla4Sq0wmVphavQCg9Aa44wd9y16HFzi30+tfI3bR4uKp4oHrHYovF48fhXLyz+99VbFP+796uK4q5biobNt6esJHPU0eQPk7hh/1pz10G8XCAQCKx2sPsi9z888ye4Q449VjzxpbOKG3d+WfHzvd9ga5pH7Wbauncudc/MnC2eC1scF7bQLl7xilcUG220UbFw4UK7FzcKW4y7T7ro8XHu7UVhCk5hCkPxyU9+srjgggsKWxS7s4VwYYvuYo899ihMoSkefvjhYscddyxMKSlMaShs4V6YAlWceeaZzgeetth299KXvrR48YtfXJhyUJgy5rzkCF966aVeJpcFWW1hXrzjHe8oTHnt5DfFqbDFvMtAfpUjrynIxUknnVSY8uF5beHv/utf//riK1/5iocPOeQQb7cpLe5TnykBxQte8AJvn+qhD0499dTiwAMP9PpvueUW71Pwr//6r8Vaa61VfO5zn+vwQN7999+/2H777QtT8ordd9+9MEWkI4cpasXee+/tclMGIANtPeWUU5wf9dOXptCgV3ifwsOUq8IUIK9fMgCNMTyOO+44z2vKlPe58pJO/xx99NE+Vtddd53nJ+68884rttlmG5f3hBNO8L6FhylRxXe+8x3vT3iR/qpXvcrlQybahLymNBamZHX6kny0/01velNx//33d8YTHwdOPvlkr4cxJ40wvK644goP46iT/GeddVbneqFerkNT/nwsGa+DDjrI61Y5aFNmi1e+8pWeX7Ii91577eVjBF/ahf/tb3/bx+bCCy8sLr/8cp8j9Dv9z/UPTJEsdtttN+8XUxKdn8bVFFafX7RdDjmmhA2fqStF02R9/ORPFL/a6cXFAx98t+kt1oemvxSsoWxmmybj66Ilox3oxjKGhuWipdQv8Q0j/JJgbnxyIi1a/FQam5iwWCyQaO5DqVkbMTecirq51HY1SyPOnGv4A9HtcE67v3x68Dr60e1wTnfV0Y+eXn39aIUHo6dXRz9a4QHpTvkZ7P/uOvrRnfKr1th7Wc0R4t0Np2abZoMq+SbNLU4jaTKNpgnSa/PSJJ/iGBpJY5yK63MufisLBAKBlQVb1LrlAx9LEI7tlqZIeLwtbjs+eWyB7ZYd0gl/+ctf9lNGjzrqqHTllVe6tRJLIVaij3zkI+kNb3iDW5rYHojV8PTTT3fLy2c+8xm3VAFbrDtP6uETCZxEytZJDi+hjCktyRb/6cgjj/Q4YAtvlwWrJiedYvnCx8KDReqYY45xKxXvZ2KNQ15AXcjAFs2ddtrJ35PDaoeVE6vRP/3TP3XkAcTRdmR99atf7RZZNrth1aLO9773vd422os85Ec2QHtyXvBBDlMm0u9+9zu35kFffPHFbv3j1FhTZNwi+y//8i/ev/AiD+9GchAM75Ri4TRl3C2eHB7E1krSsHIR7geNNTIgF2Fkog5TwDxMXxFHf5NHY887p6a0uhx/93d/ly666CKXm5NhaTft4TAgLKEf+tCHkinM3if0FZZotokSB0zp8nKmcLp1lPJA8tHH9AEn9b7lLW/x/pOVkr5AHvICxvLYY4/1E2t5bxGLIDJyWi2HD2HVpBw8KIfDEvnOd77TLYiURU5TDH08uHY4EArruOTiOqIcMsFzxx13TF/84hf92ocPffMP//APbqX9x3/8Rx+Xn/3sZ95e5sXuu+/uVtvALMEugMHhKjh/llga+R3jKfTyxY8Wiy/6XHHztlsUv//Y0UWx8AnT/ltFZDOBlp87fiMQjYZPGCc6j++mlbcXTb5BaPx+NPn60crbiybfIDR+P5p8/WjlXR5NmX608vaiydePVt7l0ZTpRytvL5p8g9D4/Wjy9aOVd3k0ZfrRytuLJt+gtMKiccyRfL6I5pcy5hQ+v4vZLHT3qLmmRf6/a68qfrPL9sUdb9mtKO6+p5i0uLA0BgKBwPJg90Xuf3jmT9fSCLB83HvvvW55WX/99d16ctppp3WcKVhu5TLFxq07WOsWLFjgFhesa1jSsErJkvTAAw+41dCUDreyYDUzRcWtNuT7xCc+4dYgUwA9P/FPPvlkse2227oFDashvKiH/JQ1hajYbLPNii233NItVUq/7LLLClOaClvwFw899JDnl4xYM7EQmYLqlh3i4YN1EOvnnXfe6e0nDdxxxx1uLTJlwfmp7gcffNCtVVi+zj777MIUVY+nHNYoLK3IgLXLlCZvD+nf+MY33OpEHxKmfqxY73nPe7xvsOxigYIP/UC6KTLexu22287DxNNWU6KLrbfe2mUmP+3DN6Xax4ExI5945VAc7Tn++OPdAvbNb37Tw5IVflgNsdBhcaUvSaMc44tVDQvxtdde63mByiEn9dPXpkx5/xCndKyf6623Xqe9xF1zzTVuVT300EMLU7o8P6BO5MCKaYpYp9/oQyzDptx7HPlMSSv+5m/+pjCF0ceVfLQJmRmzfffd1y19Bx98sPc7adSN1RJeXNdcd+JHm7Ewc31cffXVnX5mHGk/c8OURpdX1zp1YrUkDcsp1z5l1N/iQRhajjqnhCWzbgpLY3WUszSW3Ohbxz5SpDTcdk5bPH7u+HajaLYWE/bvObbpPL5Dm/OyU9Dkc7pdph+N348m3zK0OS8/BU2+ZWhz3TR+P5p8y9DmxHcQmjJOm+um8fvR5FuGNie+g9CUcdpcN43fjybfMrS5brq7vpwmn9PtMjmNPwhNmWVoc6qjH00+p9tlpqIVFo1jjmie5DTvatfHzTVSmmfhNY3HmhMpPdPia+OF8SzSsLkRfgWebJoslikQCAQCKxy2nnILChYlhbHM8FmDE088seNM0fADVLDIAVtgu09+3vPiZFAsP1hmSDMFwU8/JQ7rDe+92aLZ8wM+gUAYS4/qJy+O9/E4hAZILvLwGQhOzeR9sp///Of+rhh1Yf2BF1ZIWXPgQ9kPfvCDbpnC8kPdys+7bnvuuacfWANvyuNvvPHGLpt40B7KISeWIyx6WDPxqV/1YN3jfT+VEyirPIonTvFYVLGmmQLheZCBvsJqxruAvE9HHO/zmULr787RRlNGPA0+vK/H+4i8J0lbiVO/dYM6qQtgGeQ9QNrFu6imyLsVE96HH364v4MJTd9g5UMOU5zdAgwPrIGkwZN8XBu8i8knLpCHNFOsvA+xtJnC6FbIe+65x+MYS1P4/P0/rKbEqU+xLhPm1FnJSzwy4AvI/qc//SntuuuubqGl7ZSjbq5ByiMLcsCH8siNrPQbVmKuN6XxriTXK9Zu3sfUuJHGtYP1lVNnyUefqJ+xnDMPeMeUg5AogyymUHoexiqXO7ByUV5pFKDN9V+WckKTrXBr3BDHUlGDZptBOw7a40STr03je75+NPlK0B2+/Wjy5TTl+9HkK0t315fT5MtpykxB962jH015ozt19KNVZgq6bx3LoXvWl9Pky2nKd9HLq6Mf3eHbjyZfTlO+H02+EnSHbx9aeTs05fP6uuiazSk0RvM5EMfDxbgflmNaok3HifY8GzNHudYDIhAIBAIrFixkWWSz6IfGobSwrY6DPnCcookjjs9QoJhImQEsnjmoRIoQYRyLcfLmH7XXQptDQYCUEi2oodnKiCMfTvzIw0EtgO2AKG4oAHzWgrrZlvj5z3/etybyyQhOPj377LNdDpQ+ypOPz2Ow6OcQGBQB6pCyhYw6PAcQRx0cVoPP4SooU7SdPkBeynCyK1twyQ+oCwdv4tRXiqMM9Ete8pJO39NH8AQohmwRBqShLFIvChIKDfkoRxm2d6IU5bymAvKQh+8e8omTt7/97b5FE2Ua5Y6ttvi0ja22GmtofgggnjiUMXgxNhzCgyLOWNM24smvPNS3yy67uHwclEQfsEWVrcsojBy8Qxz5aA9bnOGF8kw8QAbS4U+7cfQFPuOCwqn+QybGlkNtUOa4ViiHTGxnZgsu+VGWuVb4BAlbbblmOD2XvFxjgHp1/VGPFGLkIg3H+J922mnus7WV7btsX4aHFNbA7KGU0sgU7iiJ7bm0lNJogaWmmJ/2aP/k2yJ2id9NswjOHcy6afzpun48e7le+fCn6/rxzN1U+fC76UFdr/L4OT1VWnf6dN1UPBXXnZbT+NN1/Xj2cr3y4U/X9eO55LpfMg/y+ZDHteg0ZIrjyGQqzG+YElmgSKJEtk2XfA6nsHDDTZ8olxYfCAQCgZUCFsC5ksSCGavQa17zGregvfa1r3VLDhY4rGJ5PsBCnYU5i2gW11pIo6yx0EYBVDzQwh8eQEqBeLKwhx9lgPiRxumpKAMofiggOE4oRQnFOsp7dryriPKIjxLAIh+rE/VSB0oKQBGTQiSQh9NQWeQrnnZgMcJJMSQf6fhSrrA2SfEB5COP8neDOrC0AcrlfYKvfsGnP7BwouygnHDSJwokih7v9FGWk17V5+LTDeLl3vWud6WTTjrJ3xdFYeKUUd4XxTpHf9L/yEgfQ6Noo+ghD+3CUS/tRwFDqUaxJY48lEXxlTxY6fA5FZU4rjneV4Q3p8YyrsRjrUPJR3Fl3CgDdI1K0QeMPWHykY4s1Ks6Gcv82qMt5OF9xXvvvTd94QtfcKWR91q5Xngv9LLLLvMfQehLyjG28IIn1wyKoWRFDvJRB5brr3zlK95/nKSL4sg7nsRx7QRmD6WUxqbNVVuOttGauPzNp3CH5iPkTZt0xWiqm19vznO6VuC36ZTR5id3o22/F61wFVrhsrTCVWiFe9E2iXvG5+VnilZY9FR157TCVWiFRc9m3YPSClehFV5CL5kLIy3f50PXHOmER00pnJcmayNpPI36ATh2C7YJN8/mJQsOy9Nc0+dcUaxhYfK3FiKBQCAQWPFgkc8CWIttKR4shElDsWJxjM/CnAW0FvL4pKk8i2zyUY688NACX4t+QF7AAj4H/MQHJYSykos4lBPkwwks6knHWsU21F/+8peuhHBwDYfi4HNACkAGFCL4YgWCJw4gMzQyQQtSGIijDL7ahGx5X5BPTugOA5VBmaCP4JMrFtRBHA4ax4E+H/3oR/3zECgmKPVsr8TaxqFC22yzTefAFsnXDeSg70jnhwAOp0Fxw+LHh/71XUa1i/5iPJGNOCllxAH44FDmUaZQCAlLsUNugI+CRxw/IiAH7eZgIb7NiVWObdGM+b/92795Gj9cUI/6Dp4CssGTsSQd5ZR0ZCOMcojsWIh1DVKGa4VypL385S/vHJqEJZ2trhwkxNbnBQsW+HZsyklppoz6gXjVpT6h7znch7FgKzFK+W9/+1vfNs0BQrQtMDsopTSCpQvY5Pe/LRRGdIwbS8/rpcBFwTxnV50mfNszou2ENu3522nFTL6rlbOaQbalMVt1U6+5pfrXXHOqPm7nc7JNyxfNGHnc8pDnGST/oIBXH37NRvunj3Y612PPvDMpTzemUR/J9ii1Odj6YD9zkW+GjUN4gPlXs3nIRCw9tQOBQCBQAaxntMhnEYxi1lrvLLGUSZny545Bi3DAIpx4fMUTljWGsJwUEnwUgpyP6mDxjRWNLYUs2MWDvJwaCl+2bxKPFZEtiJQhHqUHixhKDDSWIb4DiEUPHsiI9QklA0sTYRQC6sbB8/7773d5ciUEWbEk8t094qXs4eCBQsD2TKA+ohwOqI2EofHVX8oni5Yc6fDC0Q/EoVih7GAR45RXrFgoPXvttZfzkMJP3hzEAeK1XRKfePqceGSRTLSLOgF5UZgkK2mA/hLoZxzvK0r5hS9tojx9hjIGH7bRql04tsfy7UsU/QceeMDHGKspChigbN5X1A9v4rDAMja8n0k89SGXZESJxdE+6qIcMmAx5RqAJ/Qmm2zSaQOO6wfeyk95+EpZxqd+4iQXfY+spFEWizAn8vIuLlu7kRE+5M39wIpH6ZXlEl2wRfnOOA/W3BK5RGm0ye5b8WxytX25Gh/HtZrZcjfBJMv+IRH5G82GpfGOVqussfcydvtNk5bmeTOe03b0QC96ZbtZqtv7lz63nm0WduNyOejb/v3rI6VxIX9bduKMi8dpjCcbvIu3dPmlXLvsMnRFhyyScdk0u474xQLa/iFrz7pnUJ5l3DR4223RirU/wGFKed2UX5spvMlo/JqWZn3v7xKjBLcetoFAIBBY8dBiWItsFrIshrU9EZo4KRL4LKSVV8hpLYiBrIXEsWgXTxwLbPFWGgtuLFIc0KIFNXmok3cX+XA7SiEHrlAOpXG77bbz8nyignzwQXGhnGQhnjyA99KIx7LENldo8qMk4fhsAj68AfWgdKKosrUV5QblBPnJR1tQQDmshjoIC1I4JAvp3bTkA9DUB5QO4IMV7PLLL/d35vjMA5YsLIS8g8p4oQTmdfUCaSg3pKsejbHKEY+f58Op/8gHjUySGysjyuwtt9zi1l7xRDFjPDjUh89roOCjpJGmPFgUUdr++Z//2bemsgV3n332cZ5A8tDX+LpeqRvrKm1nzFColQf5cPQZW1GBFD620KKQcnAQVk3yIaeUaKAxVBvJA19dszjiyIcvmbgu1CfkR2FEKeY6Q3kln9ICKw+tK326KDFWruTh2wBzIeDjRkdbF1L7+upcUFzcXDiAMIt80sg3MtJ6kTYwc6A/NQnpZ6Ax6oYrWQbly8fPx4oxbI+3xnAuQLINDbXeI0AR0xaJfm1dZeD9bw+5dr8HAoFAYOWBZygLX56HepZCcwIkW+yw+nDICY4DSlDcePboGcmaBx74gp5LLKBRvPBVD4vu/LlFPPyoE7/1rBtyBZD39Vhsc3AJyhrvn7Hdj3fdOCkTGciLgoEiqO8G8j4c1lKUCKyGnJSJ0iLlg29IcqAOJ3Rec801zhtlg62MWO44UEdAPsDhOLyjhmLBu2/0ixQNFFm2JBKmD2kD5aRUqo9wyIwM0MiuMAoNZdVH6gdAeeKUh+8DIjeHFPHuHD6KLPKTl7L5eOQgjfWDtqgCfI1HjnyMGB/kgQZqg9oKOCSJE0npJ745iTzIjTLN6buMxQEHHOBKLu2AJ44Ta1EcOSCHQ2h49/GNb3zjUvWTH8tzN171qlf5tYByyDcTGUvGhOuGb2iy7ZQ+RhZ40FbCnM6LRRFrIHkowzVDeb7hyBZgrN3qd7UfGnmIhx+gD1AIUeixRKOkMu78YIISjRwoqmzLBbRLfa++C6xYVFMapwEGlgtNA5xfLDjCusChieMiE5SPOOULVIPGgF+CoDWR6V+5HAozDoAbAHGEmcCaxEB5ZgP5TSRvC44bGsdT86smbda1hiM9EAgEAoEy4PkhhQCFAkvfEUcc4dYsDl/BUoLPQpuDU3gO6bnDc1PPXZ5H+PAiDV6seVD6gJ7ZgLooy0Id6HmM4oUCSF3IwCceOEwEWTighBM42ZYJ9KzkFNSzzjrLT9tEPvLyWYSDDz7Y39l7//vf7xYs5KQMcnBaJidz8pkJ6uLdQMqheFAWqyLvL0pOlAD6AZmwgpIH3sh3yCGHuELDQSha90nJoLyezfSJfPgB+eRRe7QeES/kZv2JksP7f3yE/iMf+YjXyyc76B+UMWRB2afevK97AZ70vepU/Qp3g3QcypXC1MH6i/bgo+zxeRassshCHyEj44BcfP4Emh8RcmWatvF+JUoWCvAOO+zgCla+XiavrNaA8pRD+eV9Qayc/KhAP1AHVtgPfehDrshilUa+vI077bSTK7JsIz366KN9LHGUowwf6Gc7qa5LXTv0Ge1WH5MGzZz41Kc+5TxoN+PCNYUsKMu0HTmkR9AO+k3tC6xYDJ1gaNPLBUNS979MIn4ds0lh/9mWOtQYTxO3/io9+oub0uhmm6d1dn6tZRnlbmT5WmCAGVguEF2wgMHnVwR+wWI/Nr9OYFbnFw4uUC5mXVj5BBFyOlAe9KcmHDcX+lxx9K36t9tnPJTOL6k4HhCMF5O4e5xWNlQ37VD7dO3x3SBuity4ONGOaxDk8s6m7P1AK5CKdxc9XLObcK2e5ln7Ft9+W1p0409Tscaaab3d3pQKu4k3rA38xtqZbWzZNdjIElj2V6O51+RAIBBYwdCdteVxX637mubm9NCtt9g9dX7aaN+3pzQyz98j5183eMbkCg5bAlFM+LQCSthWW23lvmi2A6JsoSRRjvcDOVWVb+7xPMoX0vhsOySdNK2HAM8zeHCYC9Yp8pLGc5hDXlhws7UPeUjjvUQW4yy+2d6oZyIgHUvgm970Jk/j3UMW+bzTiKws4DkFVpYqyrFNkkNYUHBYO2BBwtp11FFHOR/ieMaiCAFkJw/KBn2BnMjGu2/IxWEn1EdbkJu6kEuyYxHj5FXWGPQz/FEikKvX2gX5UZ7pO9KwwmFRJQ99QJ377ruvv8uIwkUZrHSsR1FesfASl4OytIP6aDd161RZuRzkB8jM+FGG8ZLFjDGAl9oEb9rE+4j69iQKIm1nDFDOpQzSf/DH8eMC5chLn6O860Ae+Av0CXwZA/odPsQx9vyYwDc3kYP+4hpG8aNvsPIxtqSTXzJjbcZqjeUTsM0V/lwzXAe8e0m74YdjHGk/1zRtxQHkZA2JxZN2aexRSKn/uOOO82uNeonP+7lXv+fwGd6YTOMLrk+P3HNnWstkXWvXN6dieCjVeZ3OVkpaF7X+BnqhZh3fupoHALcou1XZ33EbAU6AtBuN9eyE3WBHxp9Iiy67OP3+3AvTM964R9r4eNNF563FXaUzYboHlHgcv7jw6xtbE7iwiCMvNxZuJtw8mLzcAHt9v2eqCyUwNdSXTFZNXE4QI8zEBv36mRsNcdw02ObBL5Qcucw4AY0vN4nZhORQW5GZhwK/hPHQ4HcTrjuhV1vnAqwFiY2/9GaNX2qsPc16My2sDaW1bQwe+frV6cHzz0jNv3hW2uIz56em3djHre95VPjI0ny/OdrDyyYuN8hOvBBTKRAIrHaw+yLrGbsXFnYPbNh9cmj8ybTwskvSXZd9xe6p66Xtr7jGVsNrp+aQLabJ1APco3l28qzheYrf/TzRs4g4+Xr+Kk00z9acj+J4plKGOOg8jWcZPkCJIJ21lCxxWnCTJ1c6gHgSn28fVD2AMGmSmfUbdcI3lwmeykMcjjrl4COFjPr0DCaNONEAHlJSZBkTqEd1qixObRJ/0thaidLFSZ9f+9rXXHFRu1SGbZF8dJ+6+HQG1lfSBPKoHsmk+JyXoDYoP7IrL/2jvqKNyCmacvyojQKm8cjbRz8QR5rqBdCKEy/Vk6cJ4kde0qDxUTyxbHN9IDM8gORXGYBcouFNO0mHB+UkB3zFSzIQRxrXKtcDeXHqW2jJSB71A+Ulg9L7wkRjFGpji9OTZ56c7vneN9MGpuj+1akXpua8kTRUxxJt168vgOxa8r+BXlhy5axEMMjyGWgGn20c/JrAVoFPfvKT6eMf/7hvheAXHCyPxxxzjG8dwCKpi5dJowsFXjguJi5CAA1UH2E5ID6EofGVFyiduJwG4qEyiidfziPPn5cBKqdwXrY7b14GEBYNclqy5nnwFcZnQgJNNsaAckxKtq7wUVriya+8kgEQz+QnDxOedx7Yf05e0nDirXIaF0BdisdXmsoC4vN8QOk4pedhfKAyeRy+ZNLNiHpx5KMPcCqTO/UpUHq/OvK8IJdRaYqjbJ6OCwQCgcCqB+7fPA95juj+nt/bux3g/k8Z0XlZaMXrOUFe0nj+qhwgTWWB8uC6aZ6B0CzAlR+feHjwfFSd5CMeENazU3Wj1EATh6O8nqmUpQwgDMhLvViRiFO8fHjkz2TFwYt4fKD8kg1fcqgd4i/ZUHB5JQVFiM9iIFteB44wW3sxWOB6QXUiC2XgQ5zic+Tx9B00ZfL2SVblJR3QR/CmXWovYdJVN2nij08+9TlQHvUDdeHjlI4jXbzEm/qhJQOAFi/VA0/K4eMYX/LnfOUDyUk6faIyxOFUH+NNXsLkZdwAaapTLrByMCtKowZYvi4cTPa8+HvooYemww8/PB177LH+ojQvcbNXmo+wst0BxQbwK4Zo9mijsHAh6QKFPxcdIEwaIF4vOmtvd34RApWDP/KRjk+6eOlCVhnlUx4BXjlvIEUMn7zIobLcsPC1FRe++OTTJBXgTT7S8IHaj5MSB53z0kOBmyhOsuHz4jXvIJCPGwb9rPLd9RMPKIcjDz714BSPbPDCJx4Z1ceAckD5SZOsSuNXN/FEDqURVn8C9QN5lS8HcfCnDL9sIQuOfled5IEvYfKRzhh196P25Yun5Ad5G8QPGh5qP7TKyKlPA4FAILDqgPs34D6P45knWo57v+LJT1ggHvDcEMiTlwd5mbxO0SpDPujcAZ4xPJOoB1rPIfGHpqzC4o184kNZOcJA6SpLWneb5AO1I8+vevK6BdVDnPLjiw/I6W4eKB3soMKCxs428sJTz2fWhXyCAyMGWyrZotsNyUDdubyKly8Q7naqN0eerjD81RdKU/uUT8jLoYDhq92Sk3EWnfMEeVjllKY68UlTuuKBysNfYWjyqE6g9DyMy+tUPSqLr/yqR8jpwIrHSn+nsRdYPHPSFhcGL78ySfILiV87eDmXE5j4uCwnenEilC4sJjxKkG4EnNjFR2k5nYx4nBQfXYDUQTniOMmMj9nCm/3uWM2YdOytJh3rJqdWcbPRRUxbcPDg46Xsf+flavjSHt7H5KAVrKfkQx7eo+PFb5Q0fsHSthDkJJ1Tq/g2D8dgo8yobQA5qJuy5EFWjrn+wx/+4DzYa07dgPopS11sNWXvOy8X00YUQtqIVVD1wJd6+DYS3ym64oorvP3ISLs5ZY296roRaRzx1Rf0Od8Oetvb3ubvLigeQMunLuQjjfGiDRzxTHtoF2m8R0G6rgNkIx6asWeMOeGMY571HSjeB1E9+RihCNK31MM40kbaTb+w9YTjol/3utc5f8aDfqbveLeWNvFDBeVQGBlLriP1L3WQj3T6n+uMtlAOGamHeHhSL+PLtQJP3v+UMqotGaobqO+6QQtJiXcaA4FAYKagO2vLm847jVOh1/1ccfi54xnQHYdT3kHRXV4O/r1cr7xTubyOXuWVLj/P043ueIW7ndJyXtBTQemsI7CKYpxgHcT3/rQu4FROTpnlI/Scbrv33nunU0891fNPxb9bLqC1x1TIy6gtCsvP21jViWd3uBfyfDPt8r7sFZ/HySk+R3d4EPgMj3caq8Mu8IEx2fm7qCiajaKw/0WzKMb5M/ZYsfBLnyt+s80Wxe8/drRleczSyWBZmk13vUC8LeyLHXfcsdhll12KxYsXd/LbJHd/fHzcaVuQF3/9139dbLbZZoUtvD2vLeCLsbGx4uabby5M4Sw22WSTYr311iue//znu7/99tsXp5xySvH4448Xtkj3/PA05av44x//WBx77LHFVlttVZiCWGywwQbFc57znMIUpOKYY47xPKYsFPvvv3+x++67F6ageFkAL5wpH8Wee+5ZvPrVry5M6fE45PrBD35QbLTRRsVFF11U/P3f/73LDN+NN964sJtWcfjhh3u+q6++ujCF2OOf97znFaaYFttuu21xzTXXeLtoOzLjm5JV2I2s2G677TzfFlts4XKb4lNcfPHFLit5cfA+4ogjin322acwRbDYa6+9nD/10Ie4Aw44oLj77rtdZngfddRRztOUtcKUnWLLLbd0uV/2spcVdiP1MYB3DsLEH3/88V7muuuu83iNnWhAXvWPKaPFQQcd5OO1/vrrez2mlBVbb711cdxxxxWmjHk52g0frpHTTz/d+2rTTTf1/JtvvrmPGdeOPQB8vDQuOMbr6KOP9muBvsenD/bbb7/iC1/4QmFKno+/yuEj4/e///3ita99bedaoyz0oYceWtx7772dduCuvfba4oUvfGFhCmFx0kknef9x3dGur33tay67Ket+/Tz3uc/t9CnpXAfIR730Cf5UsFlhs8/6lYnXsL6dbJg3UTzO/GtMFg9ffUVx1+teWtzx1tcVxV13ef/BsTNiPhyMhZVzXm0QLxcIBAKrHey+yP0Pz/wJ7pC2pnniS2cVN+78suLne7+hKJ54tHXPJaPul12O+30vNxPoxXcq93TEdNrF85pyPA/l7rjjjuKss84qDjnkkMIURF8THHbYYYUpjcWPf/zj4uGHH/ayKtcLvWQhbjoyzgYka7ebi6gsoxVhydS0NdbjJ3+i+NVOLy4e+OC7i+YiW/PZ2qkoFpuz9a1lJLRqjODsYOqfaFYQrN421frFQGF8m+BO578kYMEBnELGPnQsVA888IDntwntlkFOv+IbMVi6+PApRyl/9atf9bwYU7Ge2cXmfKmDsmx9ZSsCp0d9+tOf9sNRTInz44U5nQqrEts0sdLx7Ri2PapOrGA48lCHLfqdL5Yj6sDChVzwxer00Y9+1L9lxK9ZvFh9wQUX+DuaHFPNwTF8ywYrH3VjceNQGSyr8ERufCxjHJHNYUC8xM22XdqIJZbTrbAsmiLjcuIjA8czc1QzVjK+vUQdfJeIU8vgR79Ibt4h5dc1fonjQ7fw5tc43nE0pcl/DSJfDo2TxrAXyEOfUZ624CMv/LEYqy18J4nTu/hO0znnnOPtoBzl+cUPyy8nZ5199tn+IjuWXPoLCydjyTVBGY0B3w3iI7ec7EUd9D9toV/ITx76ifYDLKm33XabX0P0PX1BPXy0lpPV+G4VR1Ez1moPFkgsxVjKqY/t04ztlVde6S/Zs92FtmIRhh/fucISedVVV6UPfOADPvZYOKmb6zyfA4FAIBBYdcAzpZebCfTiO5XrB54xvdxMYSZ5dWOqdvUCsrAewOd5TXme+axxONWTA/z4NAXrPtZcnKnBCaXsEOLZTf5+z+Oyssw1IH8vNxcxl2Vb7WCTaWC0LBP8rWZpzGlgk9OtRbvttptbW5SucrZAd98mb2EL7WKttdYqLrnkEg9jgcLKhXXsyCOPLB566CGPx0KFpY5flLAkYi367W9/69Yh0n/2s5+5tQ7LD1ZL8lIP5cgjml+csCS+8pWvdOuX5JBPOrJvs802xV133eVxlMXKZDcpt+z95Cc/cf7whScWU6xNpGNpog2qFx8LIFa7BQsWeD3E/+53v3NZsYCZQuOWKfLSX7QFK5opgm75JA2e7373u70Ofkm77777XDZ4UYYwFsSdd965Uzd1YS3Fgkc/0w7icRoD/ByEcVgH+1ka8eWQwRSmwhQlt7ZSN4545L799tuLHXbYwS2IN9xwg/OhfrVVeSUX9Dvf+U633Jny6O0mHsufKfTFrrvu6hZHeKsMFmZT6Aq7CbmlUWlch/CiHaZM+5ghM3VixaUfsVTCm3qJNyW0MIWvWGeddYrzzjvP88GLNGSnblN4i/e+970um64zaHjgiEMG4vH7wXrQZh+/czP3rG/D0hgIBAKV4fdU7n/cHs3H4lAsftwtjTe5pXHXonjiEUto3YE9by83A9Bzc65Dz/S5DJ6ByChf8vLM5RnNs5o0rc9IV5ye41O1sTstr2MuYi7LtkJhzZ4013hqcfFYx9L4nqK5aLEto5j0ttazmW1XgDnPHuiDWbE05r8YmAxtqkXbZO3Q+nVBeeyC9/cKCWP5w+fdPN4Vs8W3f48Iqxu/KJGGJRDL5Fve8ha3FsraSBrWSCyB/LKE1U0yqU7kIB80v1QRpqzykEY9WIjEUzwI6/0/3sXku0vkxZHG93ywqAHe4RQP8ecbNaYgdT78Cx/eheMUWb7bg8VNlk54msLkbeDdTPbjy9KGozzfIeJbPeJPOfqRvuHdPuoiL22wG6XnUb3wB/KJA+TNfaE7DNQ38MZhRcTyud9++3lYPKnDlGn/fiLji0WOcSUPVji7gS/1q6HaifURix/vDRKH7LyjABh73s2kvNpA23mPkXA+zlh4eb/hRS96kVsW4QVIxxrIh2qxZvL+peIph883kd73vvct1fcASzTjg8WX9gi0hXLIynhIblwgEAgEVg6443Kcnj0JPAyGOKhhYiTVJobSUGFrkjo5OGCtkeqkUajbUVw0yxg5wiWgZ8dcR/6cm6vgGY+M8iXv8DDrAc7EYD1BfMvn8Uuc/bW41oGBU6G7/XkdcxFzWbYVBablhDWblW2RRlLTxhUHXWvaOJsrCltfWvq4TVZN5UBvzIrSKLBozqFFffeFrcU76Rw8QpgtpZRn+yiHo3DYC4t98dDiHaWDg1mY/ChImtQc7oKPwqFFu+odG1v620bQOBb0Kq+8pFNeCoRkFVDwdOMhj3jBmzAKjOqXYpMfgqN6ODiFOLagnnfeeb5Fky2WOLZN0jbkUxsB/FF2qAMQTxxO9bG1FoUL3qTTX4B05SUNiG8O0gFpcnlYIB9tZrxQzthuyhYQHT5DfcgB+C4nY0Bb8/5F+eOAIQ4dYqsp/cDW4x/+8IdenjIoaeSnv2gf1wkH0tAG1YNjewp1a2xoN4fqoHiyNZVtrGeeeaa7z33uc67oShG9+eab3ad96icO1KF91E1dxMOTNrIFGWUTZRgFnvLIqR9IyA8P+NEv6tNAIBAIrGg0W4vEwpaLaA2Q/oeD5YbTRL2WJobaS0n9zs6jTY4onMIgTw/MOfCsba1rWusU6FYYENd/PRpYtcBcxtXtT401oKmGNf81p5Xi07Tgr62LyUfYXKA3NEvmBFgsy7HAx7HwlvULBQKLGwtuFCvSsJKRThgFgDJadLMoRzHAqsWCHusV6dwMsNqhTPB+oOpC6dDCHcBHyh1lSKNOyYUD+KTlNxfKEEZp1A1JTnwA8ok/wEfhAIqnfSiDixcvdmvV5Zdfni699FLfh897ifjIvs0227i88Ff99AvtJAzfXAYpNqThgPLQxl6gXC+Ih/j0ouHJmNAeZMIqTP3USRpx8KfPSAOSj/ajvPEOJN/uPO644/y9VZTD++67r2MxBFwnWJHpW05VJY3+AeShDhRp5BB/4hYuXOhhrNd8pxLLNMoj70PyniLK3pZbbunWUPKrL5Cfdz7FR8og8dBvf/vb/R1HTmTj1NdddtnF35m99tpr/b0J5CUv5dWGQCAQCKx42NMwrWG33SG/99ozqmZrAXscF6NFaozW0qKRobR4aMQyzkvNui05La1Rb5ibMDeeJmsTacLceG3cnD1TLH7S4kkv3NkzxhXT+DdX/vkp4uZqpkm4G2r5GBnxlR7/Vv1/tppNo8VEGm1OpHrzqbRGc3Ga1xyz+T5uc3qxn5QM5hW1NG+ynoZtad6OCvTAnFIa84W4gAIDsIhhUcTSiMUJZQ8lEQUPxYitnCz6UZpYhKOEsBCHRgkgzKccpFxgAUIJgy9pUqRII48UJxRUbd9UPhQQLEqEsXyx8Kcc4XzRTxnJr3jyAMKkS2EiX14WGkcaeZAdx7crOTCGl7dRZqA5AAgFhINldtppJy+vfoQv5dU2+XJAiqvqUjsoixMvoDLdII/yKyzAk3j4aqsoyhn9SP+Tlz4nnXgsjowN4yorIy+sf+pTn0rPe97zvO20l0OFiH/HO97RGVd89Re8FA8fAE08/KG5fiS32s6WYvpUDqWcw3A4FAh3xBFHeFnyS27CajPxhHHiy3bY888/35X8D37wg/7ZkyOPPNLlpz9QYMkfCAQCgZUIWyyyRS0VrR9rTW30f8kUPlwtTaRhFphpzOhJt0LUC3tmWH67u/u/Yfs3Yj6OEH9JqxXD5oy/ccW6EW5uujp+bdn4cKu+a+0RNzBxcbbMqvuctDXaUCONDdk6sd7eSYC2OKe0ormHOdU9LL67HYtyFD+UNxbYbPPjdCttYcSSxPuBLLpJI468LMS1cL/33ntdOcEaxAIeoHxQhu/qsbAnnxQf8qBYqH6ALwVE1jzCbGXECtYLqh8HX8rkYeWRsiEorDLIg+wop2zvZCvuhhtu6O/K8a4iCjSWM/oEZQm5QV6fIN65HHl++pp25YrPICCf+iun8XEoafBEeWO7MB/PxRqIYsg4SKlj7Bgv+njjjTf2ePqYU1/5DibWRrYh02a2nqL00Sf4tB1QH/1BW9jKqrHU2OOzFRVIeSSOMlxP/ACBckvf0u984Je6SCdM/8MP4CMjdQH1GX1JmsLQyIg1GOUXKym8sBrzYwd5NBYao0AgEAisBPgt1/4MsZS0ezoLTe7FjWYaNX+kac9Bo1sLUbu/txXNWtMUQ/cJd9ENe8bz/qMro1QQbu46GzdfDvdKC7dqu3qarI2k8fpIag6hF6yZ6o15aXhylJls6azlbK3mCqM5fKIDPTGnlEYWy3IsoOWwLrI9kM8UsIDn0xBYClEM2dK47bbbuoLCVkIUEBbeKI8sxFFMeOeNLaq77rqr8yYeyw9bIPnkBu+xCVIwAHlRYljcs50VOXIlANnYboi1UbJSJofi8njR+OID4JuDeNWFooziwqcpZFGlzTjyofSQT0obDv6kSQb54o2jDI54ymB1pF/oN/pCdUg2le8G8XJCL5ox48AYrIm8l0iYNOrCR5nDqocyud1223XkJD8/DtAHhAGKGsonlkeswXo3EyWOseYa4OO9pBFPGJ9tyhxmQ5042obPp1A4HOjuu+/2T2MArif6ln7hWkBGOfoF0H/UCR9oKZDEqQ/JTzpKKulbbLGFH2pEOm2mH4DyBQKBQGAlgEcTrq0z4I0U9qycRPEbTkO2wMSlBq+qDLvNsCx4Wyrc7LrUI25ludmse3V3DXNP2QgssmnbMMVxMq1hSuNaabgx3+Z4PY3acmsIPbHZMiq40hjoi1lRGrWwZoEMLQWIBTqnf7Jo50RUtgWefPLJ6eCDD04f//jH3cLDu2aveMUrvBxgIY8SiRWI7Yps10QxYBGOBfD4449PN9xwQzr00EPTS17yEi9D+g477ODbEPnW38c+9rF00003uRzIgKKBQoNMKAxYtlCiTj/9dF/gU54tr3zvEGUWBUcLfSkOlFNYPrwpC618SsOpDIqFlBLyQHM66oEHHuhK6uGHH+7vdpKO9QrZrr/+ev++IRAfyqGU0BeqAyfFBAeQCVAX1jpOd6Vf+P4heeGHTKRLZoEwfFDYkOf222/3E0gpi2JGXyIz8mIpRZHim5r0Pds1GU/qQAaUu89//vP+bUS+lcg4wxurH1ZHtnTS5/phgHcZOf1WSr8UUMCpqSidfP8SCzVlqBvFkR8KuL4A1w91IzvvUn74wx92pfKUU07x7b7Ur/6hXYw36fQJaepbjavaAuh7rKBYFjl4CVAf1xl9w7XKjx4cykNe8enu40AgEAisYNijw56KbcLu4c1RWz+umZq1tVNzfA1bcbLIHE7DlqWoF6lhj1m2tU0aPWHZJ9xv0Q1Pb+WZnTPqA91orXZmB7NZd6ClsvvPPbUxm5+TabEphmN11oq2fmV0IH3taOs4CgT6omYL1YH7CLsKejsH06ZiXutuaP08YQMwMv5EWnTZxen3516YnvHGPdLGx59gK+S10Eh8MQxyZUU0i3kW8hwSgqKBlYs0Fs4oliyiUWJQAPhAPlsbUdKkDGl7IQeiHHbYYb61EeVS9bG1ESXlxBNPdMUSvjj43nrrrW714jRPeOlTFighKB2cSgpvFESUE94hZJEPH5QB6uY0TJQXlCUOTsFahdx80oPTMvmAOx/kRxaUBRQjlI53vetdrlDxniZWU7UZx/t6Bx10kL8/t/vuu7sMKClSgolH+UCZoh30IYojihjWWBRJlCDevWMbJJbWrbbayusmjf6mvXyi5Lvf/a5/0J62IwPgpFBODQVs0UQhRCFnDJAD3rKs4ZCZNqJoMX7IRB4pccp33XXX+SmjyMB48X4mCiJKE3nZQoxiyQfy+RA+21EpT/tQsDj8BqWdrcXIQT+y3ZPTSffZZx//OK8+44EM/ACBgo2yRx9zXdBP0FwrRx99tL9feNJJJ3l+9fMll1zip9IyNlg3ud50YA39hCLKNcB4oljSjxdddJGPKfKKF/1C32oMqReLN7y4Lmkf1yXtpQzA1zh0g5sbtzhysgXKmKamLVoW1obS2lbXI1+/Oj14/hmp+RfPSlt85vzU3GyzNG78sGH6zwhMw1pLIeXXcrZmdOKF3lUHAoHA0xPc/9r3QA6tMTUw1Zv27FpUpMe+dmW67ctftHv1emmzk89Jab6taebZTXLU1kG6V/a6Z+b3VLtPt8J5ZCAQWClgftbY/WVrn/Gx1Pji+enO7/84rbf9q9KzTzsuTcybbwrlGm6RZIbaytbWWLEQ6oeVrjQCwnLEoSygFLCQJo6FM0oEi3UW1lj6UBTYIiiLkZQSKZY4lDfeffuf//kfV/R4741tgDvvvLMre4IW9vBAEaMM3zhkqyN1sgV2zz339HcGAYoEiiTWNyxGvPPGu28oQGwbvfHGG73ut771ra4UwBcZOPRk++23T695zWu8PpQI2ofShuKBUoIFNLdUko9PTbA9EhlQkpE3L/uTn/zE6+QdTmRjyyZbaFEaaS/5kAFrKXKgUKH8qQ7SqAfFFrmx5NKX1AE/xoM6eN+TLbmURblGUaLvBcmEAo88WBPhqzSgMWfc+CYl72JK4UcB/NGPfuR9zxZf0hhr+gvlDDk11vDDYon7wx/+4HmRix8bUFTZmsyppPQDMqjPaD/9QF1s6+Wa4ARWLJdf/vKX3YLLdzGRR/1GH/zyl7/0HzF4J5JyXIfIhIWaMQXIxomqKOVsh+V6UH/AA5p200aspIwX1yu8kB8+tBdlHgsveZEDqB9zhNIYCAQCMwzufyxrIIc4OnHCFkZ2Z3xqMj16xQXpD9+8LM0feyqt8fJdUjE6z5Y99mwpbGlZa9+juRW3KIffQvMI7tocsmJxRfv+2pc2t1TRkhiojgHo6YCixsKxOtWdo0rdeBacNirVndHTQZX6cno6oKixcPTiWy+aqT4xlmrDQ2m4XqTRW3+dHv6/R9Poy16R/uaME9PE6HxbU81PY7YaYkbbDA+lcQrMitI42V5UE4YGWuizcMZXOmVZ/JOOZQ/FEcUJH8UQ6w1hrD6AMnrnjzLwAfAhTUoBEF+AHCzoUQRYuJMXKI4ylAVSZihPPuUF8COdOOqEL7SUAdqnttEe4nG5XOSRskQc9RBHm+GJkiEFmjyUVz8Sr3Lqd8kE4CXexCtMHyIT/aY+V72kK56w2gIPHPFYPgHpQHkA6fBGRngB1S8ZCSuN9qEIKg8gHxZP4uk36oMnedRvgmRSnchOW4hTHfAgnjyANPIQzvtL44+PZVf1SW7yQ+fXoOShDGmUyfsMKA91Uk5tAmpzN0JpDAQCgRWA1m3ZlcYa6xvebxo3pfHbl6efn3tymv/oQ+lZG26W/t+fH0xrj8xLz2iuYbfS1vqH22evWyiLVtDkOWT34V4LWqfNqXwvGqcnAnfvnCZP3/JG9Kwvp831LGsOGjetus11aCOmIweO+nIazJW653T/GzFrdZvr0EZMRw7cTNXN+4pr2LL0qVo9TQzV0hoLH0uN+c9Ka7369WnjEz+e0qitu+qmV9iabMjWUcOF3Qzqtk5srw0DS2PWtqdqYazFvBQI8hDH4po4FtdaaLN418JeZaRAEQ/ISz58yrJwx9fiXHVIGZo0pQI+OPElL2VQUuBNHpXN6xffPF0OfpIBUJ+UA8lLmtoGTR61WUoI+SSbFDLkhiYOZURtBMSpDyiLA/CgjJRN0iUr5dkyqjDtgR+8kANlBp6STTKpfWoD8ZQRb2h8yUF8Litp4qd08SRf3ud5Xvgio+qRLITzPpJsuRzkpWyu1KpO8uCUTjkc6ZSjL4gXX9Up2Skr2fApkwPZ6Eu1Qfl1nYlGOe0Fk85umtZeo0NpDAQCgRkC936/N9q9u+B5M5pq9lhbfMdN6b7vXJnWeOzP6bGFQ2lkuJ5GGxNphK9xWPaifb+UD1is5j4WyYZbJePmGgisbDAP1xxaIz3JmnnNeWlofHFqPuMv01+9bvc0+rodTY2xta4piWPDth4qbG3cZHKbfmPrqsCymDmlccyUxstbSuN8Uxo3GWB7KovqfAGdL8IJayFPuhb8ef5uHgAaUBZIISCfFv/Kn5frro+FP5A8Kis+xEtB6Y7vlkdKBnE46Lwu1UdZAC35ATyA4khXOSmX0AJ0d98QBoQVL5kpL56SVfKSJy+nsGQH5AV5/jwdWo504uk7aOqjbtGqV/1BvcShrKm8fJVD0ZKVjjLkVzo8yQ9UTvLSbuRQnryNCiOL2iEQD5RGXpxofMmvstSp8ZV84qN2qy9yhTaH1eJKo18FKI2EbaEjpfHha69Of/7iGakwpfGFp5vS+PyW0oj900eFbmgrjSalO7j44sbT2i4QCARWE7Tuqg1z9jzhrsgJqaY0mu6Y6ottofno/6Y09pTdqP/CnN0gG4tbN9T2vbQD3Ttbj5su9IwMBAIrA5p+HH7TsLX90DNMcVw3Nf9ivqeZvpiesjk9UoylYfSbmsW3VlqBLpRSGslpKo/9sU5NbaXRMGm9Pjz+RBq77OJ0jymNa+yxR9oUpXG0t9IYCPRDv6txtbt0evRD07Q75l/N5x0dYksdW7gsstscSuND/3pV+vN5Z6TaM9dJL/isKY2bbpYm6kN+pHTN8sHSu9HXOkZZpzbMq5OuRM8QCAQCqwe49TX9pthsb4NDdcTZ7bBhFJYHD7V+9GvdLFs527fh3vdN4kHnV7lAILDyYWufbH7W+OaqTVh+fm8OD/nUZQ3UWgs1LWz3At8Z0J7jgaVQSmn0+yp7NrqURn6jGxozpfHyUBoD1dHrigyl0aafKX7c0DpKoy1GuP8tshvcWqY0/vkbV6WHzz0j1ddeJ2125hdNadzclcZ5zNt60/cI+A3SDa2UN6XRWLGm4abpiatbPwcCgdUe3P563HItbtlYfrorg368A4HAysKSGZgvc1oqYzucT9JyU3y1wopVpaPjA9MACmK3e7qi72JieW3OViLL7R7P8DTuxEAgEKgI7pDdrm5/l3WthVOv/L0cm9x44SBcuHCz41AO8zmsf0shn7SBviilNOYm3n7wPs9Wwr62tUh3CocLF84d6A53UPLmxbzrV6T163jXdFfmkvUEAoHA0wncAss6KY/Lc56fe3O4cOFmxfWalzjBsvRegwWWQd5vlcHgVOv1fOjChVsd3HLAiiODl8iKaQEzJat2Gp6TnQK9Nl8FAoFAoB8699wBsSSv7sDhwoVbmU5ztt+87S4R6I/ySmOZu2UpdA9buHBPdzcgsjm3VKl2oN+U1LEO/dFiUEKSQCAQePqBm2AZZ9AidHnOwUmr3eaPcOHCrRwnkqnYdoJFL+U4AgI/0BullEY/5b8HvIPtjw68Yc+wDwtBi+uMXSs2XLhwfVwHPncy1w/tedXya6les9nnL4G2uHnRpRh3o32LnDJPIBAIBJaA+2YZFwgEZh0siHxR1HvJ004KTIFpb0/NO1edz2J1yBes7ZFBYSS+7fxYzL6uVSRcuNXH2Z9ejiNRe8TrnwPP4vSDjMo0cT4F2/naUGjpWIHY3imBQCAQ6Ea+slm+66VGhgsXbsW7niubLLJ7tgamxoy806j+l6XR//q3UED3kEzlECdcuNXJ9ZgHOjK2YzHE8bf7xK8Wzfdq/btC9bpz7PUVHWKWuoFaGQ6nIs7hmmcgEAgElg+/6Q7oWuAOGy5cuJXvsmm4FBStmZqvygK9Qf8MjM4AdMMjC7c01mzxOuQfxrRuJ75py1JcA98iWNDil3F5mZmiB3VV6uhHD+qq1DEIPairUkc/elBXpY5+9KCuSh396NwRn7teeTKHMuif6O/ktzlFnKdbCs6mXN2Ux5Ym2Qe8X9P5Hc5Y+N9AIBBYTaFV46CuFPzFgfgX/+LfLPxj7i2FrjmcT+uupEAPlFIa+8ENItbVrioS0ILWYbGYNGQ1YYVa1sFqpulBXZU6+tGDuip1DEIP6qrU0Y8e1FWpox89qKtSRz+6lwO94nEd+CSzv9lc4scZo+uETVHkBxvS3dKIItkTLT7yAoFAIFAO+S16eQ6079jhZtPZYPSMXxluNusO18JSgR7onrSBnqjZAnPgLiKn786vNaxfh8y1dE5YDD31WFp0+SXpngsuTOvv9Jq0wYePTWlo1PKShyraI+bb4DR6qnqqkQwEnsZgPviPKvgeYa49L4gX7YrhZCtrY6SliNYm2nHznHz0P76VHrz0vDS5/nppyzPOT41NXpAm67U0r11FwxkVaRieNmcL40kctfAB6hn6DSkQCASe1mjflQcC99dSBQKBwMzCJ+FykM/RQfKvpiilNLZWmJa9zja5erJ1qvWzKYwTi9Lw+ML06De/ln51/rlpy3XXTWuv86z02MhoarpVpBeIV9UxQoHVFcyB7rmw7JQkpjE0bv5QGp5Y13JNpsbwE2lieJHFrZnmLxpK8+//U3ryyYfSgxs9J7301C+koU1fYIqhqYPtKe46qKF1unGr3rzWQCAQCAQCgUCgF8opjcpqK0wMHZMeKFK9MZaGG+PpT9/5drrhovPS+o89mtYYH0/jtRG3ZgyOwUUJBFYn8OMMSmMTpXF8/TTSbKTGyGNpbGRhaqA0Ts5P64xPpvGRRnr2G3ZPf33YsSmtt14qhpZYD1uf4ggEAoFAIBAIBMqhlNI44UvWllUC1+Sv73ubTMX44lQffyqN33ZrSvf9MdXWXLOtVXZtT3V1sx8dCAR6Agv/8Jj5NgMX/2XrYKnakynNW5SK4WdY8jwLWni4kYa33ialjV6U0uiQKY02S01ZDIUxEAgEAoFAIDBdlFIaF5lix/tQI+Z8CdpEIawnvg1njNylyfGUTHlMWDiGbYHri1VVMQgdCASWgSmNzaGxVNi0qo+tm2oTzBebZyNjNitNORyZn5qNp1K9PmnTcl4aq61t89SSi1AaA4FAIBAIBALVUFJpND3Qlqgj5jB8tL4ibkqj/W1YmIXpkC1SE44DcNApA4HAjGC8joKY0rzGmpx/Y/PMJt1QI42Z0jgxxBFV42meH1JVtyk4L43a9Kz7RF0aoUAGAoFAIBAIBMqglNI4bg5LY50TcSjmJU1prA25/siCFviS1AIjEANzDwQCU6FZRyEsTE8cbk025hZzrJ7S5FDrnKrFix5Lz1zzGak2aXnYS25p3VM8lMZAIBAIBAKBQBmUUhp9oSqNEOdWDCwcfoh/Zw3bcYNzDgQCy0MNtdAmVdGab6AzHY3w3eJpEjujeaY08oH/sPYHAoFAIBAIBCqinNLINzZYpdatCAtY0wp5u5F3qvioOEqiH+LvLM1h5aBcIBCojNZXFU1DLEZTo9YKoRMONVtzL9WbqahNtOYgGmTNFEf/TmogEAgEAoFAIDB9TE9p9CNUJ2352lIaaxZR10fgClvK8k6jL2B535F4qminL0MD5QkEAv2ABbH1ZcW6H0zMdnHmzhrm6g2bQ6Y5trawNvxnnORH4TBZA4FAIBAIBAKB6aOc0ohpg7WoLUxbCiMYai1QCeBqS7autjbKYelQFbly2E1TLhAI9Ac/z9j0K5qpYfMLpXHS4ubZHBtlDtl0mkBxNILDquqt3BQMBAKBQCAQCASmjXJKoyt2rUUpVM0WpDh2q0r/45MATfuHRaRW2KK1BPeSmQOB1Qe1mh825TvD+dxG3WbZMNbGehqxIFtUgb/XaKRNbDwvFwgEAoFAIBAIVEFJpXHS1bqWjbG1LZW/rkECSHOolCxV6y0N0uMdrWItzCQNCOc0GLR8FRoQzmkwaPkqNCDcjwZTla9CA8L9aDBV+ZmiAeGcBoOWr0IDwjkNBi1fkmY6+buLKI0Q/CYzVG/FtX7PWdqwSFm3/BvB9vFlaEOHqbm+NIwMhMvSfevOacOKqDuno+4u2tC37hmSo2/doslDmdmoe3l9YHnAVHUMQkfdXbShb90zJEffunPa8HSrO6dXubqNxp+K7yD0dOvu0BmvsnTfunPasCLqzumou4s29K17huSYk3XntKFf3SV3o5VUGtmfmsMEAmoA6AiCl8UHAoGK0Hyz+eXzzCBLYmcWa84pXQnEt2m/kSyHzvMvxbMsDQi36WnVndOA8CA06C7fpqPu/vQyZQHhsjQg3KZXubpzGhAehAbd5dt01N2fXqYsIFyWBoTb9LTqzmlAeBAaZOVns+6cnot1TykHIDwIDbrLt+kVXndOA8Jtelp15zQgPAgNusu36ai7P71MWUC4LA0It+lVqu5y516UUhrb+mogEAgEAoFAIBAIBFZRlLMzllQaZWekAHoqmCm6G1V4laW7UYVXWbobVXhVoUGV8lXoblThVZbuRhVeZeluVOFVlu5GFV5V6G5U4VWW7kYVXmXpblThVZbuRhVeVWhQpXwVuhtVeJWlu1GFV1m6G1V4laW7UYVXFRpUKV+F7kYVXmXpblThVZbuRhVeZeluVOFVhe5GFV5l6W5U4VWW7kYVXmXpblThVYUGVcpXobvRnW+4RQ6MUkrjwBkDpcEgzlb/zmbdgdlFXHeB2UBcd6svYuwDs4G47gKzgbl+3ZGnDMq908j3FwOBQCAQCAQCgUAgsOqiVm6DatntrG3kemZO50pldx6FZ4oGOT1X6xby8lVoMB1a4So06Eev6P4H/ei47vrnyctXocF0aIWr0KAfHWPfP09evgoNcjquu7juQL88efkqNJgOrXAVGvSjV3T/g350XHf98+Tlq9BgOrTCVWjQj46x758nL1+FBjm9Ol13g2Ga21OhZNSsSgPC/WgwVfkqNCDcjwZTla9CA8L9aDBV+ZmiAeGcBoOWr0IDwv1oMFX5KjQg3I8GU5WvQgPC/WgwVfmZogHhnAaDlq9CA8I5DQYtX4UGhPvRYKryVWhAuB8NpipfhQaE+9FgqvIzRQPCOQ0GLV+FBoT70WCq8lVoQLgfDaYqX4UGhPvRYKryVWhAuB8Npio/UzQgnNNg0PJVaEC4Hw2mKl+FBoT70WCq8lVoQLgfDaYqP1M0IJzTYNDyVWhAOKfBoOWr0IBwPxpMVb4KDQj3o8FU5avQgHA/GkxVfqZoQDinwaDlq9CAcD8a8D1v0YNhWgfhBAKBQCAQCAQCgUBg1US5D26UVBqLYrxFTKW8DkIDwmVpQLgKDQiXpQHhKjQgXIUGhMvSgHAVGhAuSwPCVWhAuAoNCJelAeEqNCBclgaEq9CAcBUaEC5LA8JVaEC4Cg0Il6UB4So0IFyWBoSr0IBwFRoQLksDwlVoQLgsDQhXoQHhKjQgXJYGhKvQgHBZGhCuQgPCVWhAuCwNCFehAeGyNCBchQaEq9CAcFkaEK5CA8JlaUC4Cg0IV6EB4bI0IFyFBoSr0IBwWRoQrkIDwmVpQLgKDQhXoQHhsjQgXIUGhMvSgPA06VoabREDopTS+L93LWgRfCCSD0VOh3ZpAeGyNJ6FV7u6jXaPP4ZpyeGEOScM06HxLDxdOaJuc2VpPAvPSt1Gu8cfw7TkcMKcE4bp0HgWnq4cUbe5sjSehadbt9NOmHPCUIJ2jz+GlV23AxrPwtOVI+o2Nw3aPf4YpiWHE+acMEyHxrPwdOWIus2VpfEsPCt1G+0efwzTksMJc04YpkPjWXi6ckTd5srSeBaebt1OO2HOCUMJ2j3+GFZ23YaNXrij+4OilNJ4/ZePs795pYAXRXWeTk6TT3mWFbQ6DQiLnit1d8sBBuVblgZztW7lKct3EBrMZt2ERU8lBxiU7yA0ICx6Zdad02Cu1q08ZfkOQoPZrJuw6KnkAIPyLUuDqHvZupWnLN9BaEBY9Fypey71P5gO30FoMFXdylOW7yA0mM26CYueSg4wKN9BaEBY9MqsO6fBXK1becryHYQGs1k3YdFTyQEG5VuWBk//ul9z8MnuD4pSSuPPr/ik/c0rBVM1THmWFbQ6DQiLnit1r7jBXZYGc7Vu5SnLdxAazGbdhEXPlbq75QCD8i1Lg7lat/KU5TsIDQiLnit1r+j+B4RFr8y6cxrM1bqVpyzfQWhAWPRcqXsu9T+YDt9BaDBV3cpTlu8gNJjNugmLnit1d8sBBuVblgZztW7lKct3EBoQFj1X6l7R/Q8Ii16Zdec0WDl1v/zAT7s/KEopjT+9EksjoAiVgpmkQZXyM0GDKuWr0KBK+So0qFK+Cg2qlK9KgyrlZ4IGVcpXoUGV8lVoUKV8FRpUKV+VBlXKzwQNqpSvQoMq5avQoEr5qjSoUn4maFClfBUaVClfhQZVylehQZXyVWlQpfxM0KBK+So0qFK+Cg2qlK9Cgyrlq9KgSvmZoEGV8lVoUKV8FRr0z7fju1agpXHBV49vU4FAIBAIBAKBQCAQWBXxygP+qU0NhlJK48+u+lSbCgQCgUAgEAgEAoHAqogd9j+xTQ2GaW5PDQQCgUAgEAgEAoHAqogd33VSmxoMYWkMBAKBQCAQCAQCgdUIK9TSGO80BgKBQCAQCAQCgcCqjbLvNOoM10AgEAgEAoFAIBAIBJZBKUtjIBAIBAKBQCAQCARWL4SlMRAIBAKBQCAQCAQCfRFKYyAQCAQCgUAgEAgE+iKUxkAgEAgEAoFAIBAI9EFK/x8w4MAHGcfh+gAAAABJRU5ErkJggg==)"
      ]
    },
    {
      "cell_type": "markdown",
      "source": [
        "https://wikidocs.net/233795"
      ],
      "metadata": {
        "id": "aOQ_JwrkqOIK"
      }
    },
    {
      "cell_type": "code",
      "execution_count": 31,
      "metadata": {
        "colab": {
          "base_uri": "https://localhost:8080/"
        },
        "id": "TlYP4NK8UYeO",
        "outputId": "5e304bc5-715b-4e39-90a5-678020eb1e2a"
      },
      "outputs": [
        {
          "output_type": "stream",
          "name": "stdout",
          "text": [
            ": 1\n",
            "회의날짜: 2018년2월07일(수)\n",
            "국회_대: 20\n",
            "회의명: 국회본회의\n",
            "회수: 제356회\n",
            "차수: 제7차\n",
            "안건: 2. 교육․사회․문화에 관한 질문(계속)\n",
            "질문자_이름: 유은혜\n",
            "답변자_이름: 김상곤\n",
            "질문: 추가 조사에서 교수의 직계가족을 대상으로 한정한 것에 따른 부정행위의 미비한 조사 우려가 제기되고 있습니다. 부총리를 단장으로 하는 대입공정성강화추진점검단에서 이 문제를 계속적으로 검토하고 고려할 계획이 있나요?\n",
            "문맥: 추가 조사에서 직계자녀를 우선 대상으로 삼았지만, 부총리를 단장으로 하는 대입공정성강화추진점검단에서는 계속해서 이 문제를 검토하고 고려하여 부정행위에 대한 효과적인 대응을 추진할 예정입니다.\n",
            "질문_키워드: 추가,  조사,  대상,  직계가족,  친인척,  자녀,  공저자,  제외\n",
            "답변_키워드: 직계자녀,  대입공정성강화추진점검단,  점검단,  조사\n",
            "original: http://likms.assembly.go.kr/record/mhs-10-040-0040.do?conferNum=047966&fileType=PDF\n"
          ]
        }
      ],
      "source": [
        "print(data[1].page_content)"
      ]
    },
    {
      "cell_type": "code",
      "execution_count": 41,
      "metadata": {
        "colab": {
          "base_uri": "https://localhost:8080/"
        },
        "id": "KNcECkJZUYlC",
        "outputId": "8d013f97-f089-4a5f-82cc-7313dfd8312d"
      },
      "outputs": [
        {
          "output_type": "execute_result",
          "data": {
            "text/plain": [
              "41312"
            ]
          },
          "metadata": {},
          "execution_count": 41
        }
      ],
      "source": [
        "from langchain_text_splitters import RecursiveCharacterTextSplitter\n",
        "\n",
        "text_splitter = RecursiveCharacterTextSplitter(\n",
        "    chunk_size=3000,\n",
        "    chunk_overlap=1000,\n",
        "    length_function = len,\n",
        ")\n",
        "\n",
        "texts = text_splitter.split_documents(data)\n",
        "\n",
        "len(texts)"
      ]
    },
    {
      "cell_type": "code",
      "execution_count": 42,
      "metadata": {
        "colab": {
          "base_uri": "https://localhost:8080/"
        },
        "id": "U5XnnpWRUYri",
        "outputId": "861cd44b-7d13-4788-c6d0-7919521be6e6"
      },
      "outputs": [
        {
          "output_type": "stream",
          "name": "stdout",
          "text": [
            "page_content=': 0\n",
            "회의날짜: 2016년9월23일(금)\n",
            "국회_대: 20\n",
            "회의명: 국회본회의\n",
            "회수: 제346회\n",
            "차수: 제8차\n",
            "안건: 1. 교육․사회․문화에 관한 질문\n",
            "질문자_이름: 전재수\n",
            "답변자_이름: 조윤선\n",
            "질문: 미르재단 설립 허가 신청서는 어디서 접수되었으며, 그 처리과정에 대해 어떠한 절차가 따라졌는지 설명해 주실 수 있나요?\n",
            "문맥: 미르재단 설립 허가 신청서의 접수와 처리과정은 문화체육관광부의 대중문화산업과에서 담당되었으며, 이 과정은 전형적인 부처의 업무 프로세스를 따랐습니다. 초기에 신청서는 이메일로 접수되었고, 이후 서울에 출장 중이던 담당 직원이 실물 서류를 받아서 처리하게 되었습니다. 이 직원은 문체부 서울 사무실에서 법인 설립 허가서를 받아 그날 저녁 나루, 즉 문서 등록 시스템에 기안을 올렸습니다. 직후 해당 사무관과 과장이 세종시 문체부 본부에서 각각 결재를 진행했습니다. 이러한 신속한 결재 과정은 비일비재하게 야근을 하는 공무원들의 업무 패턴 중 하나로 볼 수 있으나, 이 경우 그 속도와 시간대가 일반적인 관행과 다소 차이가 있어 눈길을 끌었습니다.\n",
            "질문_키워드: 미르재단,  설립,  허가,  대중문화산업과,  직원,  세종시,  청사,  근무\n",
            "답변_키워드: 서울,  이메일,  접수,  서류,  직원,  출장\n",
            "original: http://likms.assembly.go.kr/record/mhs-10-040-0040.do?conferNum=046416&fileType=PDF' metadata={'source': 'http://likms.assembly.go.kr/record/mhs-10-040-0040.do?conferNum=046416&fileType=PDF', 'row': 0}\n"
          ]
        }
      ],
      "source": [
        "print(texts[0])"
      ]
    },
    {
      "cell_type": "markdown",
      "metadata": {
        "id": "4upIbSVmZzlf"
      },
      "source": [
        "Embedding"
      ]
    },
    {
      "cell_type": "code",
      "execution_count": 34,
      "metadata": {
        "id": "WmlhJTN-ZNUp"
      },
      "outputs": [],
      "source": [
        "import os\n",
        "\n",
        "os.environ[\"UPSTAGE_API_KEY\"] = \"up_JN2YoJhuHx0spoiySSxPPpQnLmDtj\""
      ]
    },
    {
      "cell_type": "code",
      "execution_count": 18,
      "metadata": {
        "collapsed": true,
        "id": "YtvfLJ-nM64q",
        "colab": {
          "base_uri": "https://localhost:8080/"
        },
        "outputId": "69df4655-4b7e-4e9c-e5f5-0fc683b0d5df"
      },
      "outputs": [
        {
          "output_type": "stream",
          "name": "stdout",
          "text": [
            "Collecting langchain_upstage\n",
            "  Downloading langchain_upstage-0.3.0-py3-none-any.whl.metadata (3.3 kB)\n",
            "Requirement already satisfied: langchain-core<0.4,>=0.3.0 in /usr/local/lib/python3.10/dist-packages (from langchain_upstage) (0.3.19)\n",
            "Collecting langchain-openai<0.3,>=0.2 (from langchain_upstage)\n",
            "  Downloading langchain_openai-0.2.9-py3-none-any.whl.metadata (2.6 kB)\n",
            "Collecting pypdf<5.0.0,>=4.2.0 (from langchain_upstage)\n",
            "  Downloading pypdf-4.3.1-py3-none-any.whl.metadata (7.4 kB)\n",
            "Requirement already satisfied: requests<3.0.0,>=2.31.0 in /usr/local/lib/python3.10/dist-packages (from langchain_upstage) (2.32.3)\n",
            "Collecting tokenizers<0.20.0,>=0.19.1 (from langchain_upstage)\n",
            "  Downloading tokenizers-0.19.1-cp310-cp310-manylinux_2_17_x86_64.manylinux2014_x86_64.whl.metadata (6.7 kB)\n",
            "Requirement already satisfied: PyYAML>=5.3 in /usr/local/lib/python3.10/dist-packages (from langchain-core<0.4,>=0.3.0->langchain_upstage) (6.0.2)\n",
            "Requirement already satisfied: jsonpatch<2.0,>=1.33 in /usr/local/lib/python3.10/dist-packages (from langchain-core<0.4,>=0.3.0->langchain_upstage) (1.33)\n",
            "Requirement already satisfied: langsmith<0.2.0,>=0.1.125 in /usr/local/lib/python3.10/dist-packages (from langchain-core<0.4,>=0.3.0->langchain_upstage) (0.1.143)\n",
            "Requirement already satisfied: packaging<25,>=23.2 in /usr/local/lib/python3.10/dist-packages (from langchain-core<0.4,>=0.3.0->langchain_upstage) (24.2)\n",
            "Requirement already satisfied: pydantic<3.0.0,>=2.5.2 in /usr/local/lib/python3.10/dist-packages (from langchain-core<0.4,>=0.3.0->langchain_upstage) (2.9.2)\n",
            "Requirement already satisfied: tenacity!=8.4.0,<10.0.0,>=8.1.0 in /usr/local/lib/python3.10/dist-packages (from langchain-core<0.4,>=0.3.0->langchain_upstage) (9.0.0)\n",
            "Requirement already satisfied: typing-extensions>=4.7 in /usr/local/lib/python3.10/dist-packages (from langchain-core<0.4,>=0.3.0->langchain_upstage) (4.12.2)\n",
            "Requirement already satisfied: openai<2.0.0,>=1.54.0 in /usr/local/lib/python3.10/dist-packages (from langchain-openai<0.3,>=0.2->langchain_upstage) (1.54.4)\n",
            "Collecting tiktoken<1,>=0.7 (from langchain-openai<0.3,>=0.2->langchain_upstage)\n",
            "  Downloading tiktoken-0.8.0-cp310-cp310-manylinux_2_17_x86_64.manylinux2014_x86_64.whl.metadata (6.6 kB)\n",
            "Requirement already satisfied: charset-normalizer<4,>=2 in /usr/local/lib/python3.10/dist-packages (from requests<3.0.0,>=2.31.0->langchain_upstage) (3.4.0)\n",
            "Requirement already satisfied: idna<4,>=2.5 in /usr/local/lib/python3.10/dist-packages (from requests<3.0.0,>=2.31.0->langchain_upstage) (3.10)\n",
            "Requirement already satisfied: urllib3<3,>=1.21.1 in /usr/local/lib/python3.10/dist-packages (from requests<3.0.0,>=2.31.0->langchain_upstage) (2.2.3)\n",
            "Requirement already satisfied: certifi>=2017.4.17 in /usr/local/lib/python3.10/dist-packages (from requests<3.0.0,>=2.31.0->langchain_upstage) (2024.8.30)\n",
            "Requirement already satisfied: huggingface-hub<1.0,>=0.16.4 in /usr/local/lib/python3.10/dist-packages (from tokenizers<0.20.0,>=0.19.1->langchain_upstage) (0.26.2)\n",
            "Requirement already satisfied: filelock in /usr/local/lib/python3.10/dist-packages (from huggingface-hub<1.0,>=0.16.4->tokenizers<0.20.0,>=0.19.1->langchain_upstage) (3.16.1)\n",
            "Requirement already satisfied: fsspec>=2023.5.0 in /usr/local/lib/python3.10/dist-packages (from huggingface-hub<1.0,>=0.16.4->tokenizers<0.20.0,>=0.19.1->langchain_upstage) (2024.10.0)\n",
            "Requirement already satisfied: tqdm>=4.42.1 in /usr/local/lib/python3.10/dist-packages (from huggingface-hub<1.0,>=0.16.4->tokenizers<0.20.0,>=0.19.1->langchain_upstage) (4.66.6)\n",
            "Requirement already satisfied: jsonpointer>=1.9 in /usr/local/lib/python3.10/dist-packages (from jsonpatch<2.0,>=1.33->langchain-core<0.4,>=0.3.0->langchain_upstage) (3.0.0)\n",
            "Requirement already satisfied: httpx<1,>=0.23.0 in /usr/local/lib/python3.10/dist-packages (from langsmith<0.2.0,>=0.1.125->langchain-core<0.4,>=0.3.0->langchain_upstage) (0.27.2)\n",
            "Requirement already satisfied: orjson<4.0.0,>=3.9.14 in /usr/local/lib/python3.10/dist-packages (from langsmith<0.2.0,>=0.1.125->langchain-core<0.4,>=0.3.0->langchain_upstage) (3.10.11)\n",
            "Requirement already satisfied: requests-toolbelt<2.0.0,>=1.0.0 in /usr/local/lib/python3.10/dist-packages (from langsmith<0.2.0,>=0.1.125->langchain-core<0.4,>=0.3.0->langchain_upstage) (1.0.0)\n",
            "Requirement already satisfied: anyio<5,>=3.5.0 in /usr/local/lib/python3.10/dist-packages (from openai<2.0.0,>=1.54.0->langchain-openai<0.3,>=0.2->langchain_upstage) (3.7.1)\n",
            "Requirement already satisfied: distro<2,>=1.7.0 in /usr/local/lib/python3.10/dist-packages (from openai<2.0.0,>=1.54.0->langchain-openai<0.3,>=0.2->langchain_upstage) (1.9.0)\n",
            "Requirement already satisfied: jiter<1,>=0.4.0 in /usr/local/lib/python3.10/dist-packages (from openai<2.0.0,>=1.54.0->langchain-openai<0.3,>=0.2->langchain_upstage) (0.7.1)\n",
            "Requirement already satisfied: sniffio in /usr/local/lib/python3.10/dist-packages (from openai<2.0.0,>=1.54.0->langchain-openai<0.3,>=0.2->langchain_upstage) (1.3.1)\n",
            "Requirement already satisfied: annotated-types>=0.6.0 in /usr/local/lib/python3.10/dist-packages (from pydantic<3.0.0,>=2.5.2->langchain-core<0.4,>=0.3.0->langchain_upstage) (0.7.0)\n",
            "Requirement already satisfied: pydantic-core==2.23.4 in /usr/local/lib/python3.10/dist-packages (from pydantic<3.0.0,>=2.5.2->langchain-core<0.4,>=0.3.0->langchain_upstage) (2.23.4)\n",
            "Requirement already satisfied: regex>=2022.1.18 in /usr/local/lib/python3.10/dist-packages (from tiktoken<1,>=0.7->langchain-openai<0.3,>=0.2->langchain_upstage) (2024.9.11)\n",
            "Requirement already satisfied: exceptiongroup in /usr/local/lib/python3.10/dist-packages (from anyio<5,>=3.5.0->openai<2.0.0,>=1.54.0->langchain-openai<0.3,>=0.2->langchain_upstage) (1.2.2)\n",
            "Requirement already satisfied: httpcore==1.* in /usr/local/lib/python3.10/dist-packages (from httpx<1,>=0.23.0->langsmith<0.2.0,>=0.1.125->langchain-core<0.4,>=0.3.0->langchain_upstage) (1.0.7)\n",
            "Requirement already satisfied: h11<0.15,>=0.13 in /usr/local/lib/python3.10/dist-packages (from httpcore==1.*->httpx<1,>=0.23.0->langsmith<0.2.0,>=0.1.125->langchain-core<0.4,>=0.3.0->langchain_upstage) (0.14.0)\n",
            "Downloading langchain_upstage-0.3.0-py3-none-any.whl (26 kB)\n",
            "Downloading langchain_openai-0.2.9-py3-none-any.whl (50 kB)\n",
            "\u001b[2K   \u001b[90m━━━━━━━━━━━━━━━━━━━━━━━━━━━━━━━━━━━━━━━━\u001b[0m \u001b[32m50.4/50.4 kB\u001b[0m \u001b[31m3.3 MB/s\u001b[0m eta \u001b[36m0:00:00\u001b[0m\n",
            "\u001b[?25hDownloading pypdf-4.3.1-py3-none-any.whl (295 kB)\n",
            "\u001b[2K   \u001b[90m━━━━━━━━━━━━━━━━━━━━━━━━━━━━━━━━━━━━━━━━\u001b[0m \u001b[32m295.8/295.8 kB\u001b[0m \u001b[31m9.3 MB/s\u001b[0m eta \u001b[36m0:00:00\u001b[0m\n",
            "\u001b[?25hDownloading tokenizers-0.19.1-cp310-cp310-manylinux_2_17_x86_64.manylinux2014_x86_64.whl (3.6 MB)\n",
            "\u001b[2K   \u001b[90m━━━━━━━━━━━━━━━━━━━━━━━━━━━━━━━━━━━━━━━━\u001b[0m \u001b[32m3.6/3.6 MB\u001b[0m \u001b[31m53.9 MB/s\u001b[0m eta \u001b[36m0:00:00\u001b[0m\n",
            "\u001b[?25hDownloading tiktoken-0.8.0-cp310-cp310-manylinux_2_17_x86_64.manylinux2014_x86_64.whl (1.2 MB)\n",
            "\u001b[2K   \u001b[90m━━━━━━━━━━━━━━━━━━━━━━━━━━━━━━━━━━━━━━━━\u001b[0m \u001b[32m1.2/1.2 MB\u001b[0m \u001b[31m50.9 MB/s\u001b[0m eta \u001b[36m0:00:00\u001b[0m\n",
            "\u001b[?25hInstalling collected packages: pypdf, tiktoken, tokenizers, langchain-openai, langchain_upstage\n",
            "  Attempting uninstall: tokenizers\n",
            "    Found existing installation: tokenizers 0.20.3\n",
            "    Uninstalling tokenizers-0.20.3:\n",
            "      Successfully uninstalled tokenizers-0.20.3\n",
            "\u001b[31mERROR: pip's dependency resolver does not currently take into account all the packages that are installed. This behaviour is the source of the following dependency conflicts.\n",
            "transformers 4.46.2 requires tokenizers<0.21,>=0.20, but you have tokenizers 0.19.1 which is incompatible.\u001b[0m\u001b[31m\n",
            "\u001b[0mSuccessfully installed langchain-openai-0.2.9 langchain_upstage-0.3.0 pypdf-4.3.1 tiktoken-0.8.0 tokenizers-0.19.1\n"
          ]
        }
      ],
      "source": [
        "pip install langchain_upstage"
      ]
    },
    {
      "cell_type": "code",
      "execution_count": 35,
      "metadata": {
        "id": "pxEDPjYJeBqZ"
      },
      "outputs": [],
      "source": [
        "from langchain_upstage import UpstageEmbeddings"
      ]
    },
    {
      "cell_type": "code",
      "execution_count": 20,
      "metadata": {
        "colab": {
          "base_uri": "https://localhost:8080/"
        },
        "collapsed": true,
        "id": "OQEjR61jkcAQ",
        "outputId": "357ac431-5c18-4dd7-f97c-fe6bd4157c5e"
      },
      "outputs": [
        {
          "output_type": "stream",
          "name": "stdout",
          "text": [
            "Collecting chromadb\n",
            "  Downloading chromadb-0.5.20-py3-none-any.whl.metadata (6.8 kB)\n",
            "Collecting build>=1.0.3 (from chromadb)\n",
            "  Downloading build-1.2.2.post1-py3-none-any.whl.metadata (6.5 kB)\n",
            "Requirement already satisfied: pydantic>=1.9 in /usr/local/lib/python3.10/dist-packages (from chromadb) (2.9.2)\n",
            "Collecting chroma-hnswlib==0.7.6 (from chromadb)\n",
            "  Downloading chroma_hnswlib-0.7.6-cp310-cp310-manylinux_2_17_x86_64.manylinux2014_x86_64.whl.metadata (252 bytes)\n",
            "Collecting fastapi>=0.95.2 (from chromadb)\n",
            "  Downloading fastapi-0.115.5-py3-none-any.whl.metadata (27 kB)\n",
            "Collecting uvicorn>=0.18.3 (from uvicorn[standard]>=0.18.3->chromadb)\n",
            "  Downloading uvicorn-0.32.1-py3-none-any.whl.metadata (6.6 kB)\n",
            "Requirement already satisfied: numpy>=1.22.5 in /usr/local/lib/python3.10/dist-packages (from chromadb) (1.26.4)\n",
            "Collecting posthog>=2.4.0 (from chromadb)\n",
            "  Downloading posthog-3.7.2-py2.py3-none-any.whl.metadata (2.0 kB)\n",
            "Requirement already satisfied: typing-extensions>=4.5.0 in /usr/local/lib/python3.10/dist-packages (from chromadb) (4.12.2)\n",
            "Collecting onnxruntime>=1.14.1 (from chromadb)\n",
            "  Downloading onnxruntime-1.20.1-cp310-cp310-manylinux_2_27_x86_64.manylinux_2_28_x86_64.whl.metadata (4.5 kB)\n",
            "Requirement already satisfied: opentelemetry-api>=1.2.0 in /usr/local/lib/python3.10/dist-packages (from chromadb) (1.28.2)\n",
            "Collecting opentelemetry-exporter-otlp-proto-grpc>=1.2.0 (from chromadb)\n",
            "  Downloading opentelemetry_exporter_otlp_proto_grpc-1.28.2-py3-none-any.whl.metadata (2.2 kB)\n",
            "Collecting opentelemetry-instrumentation-fastapi>=0.41b0 (from chromadb)\n",
            "  Downloading opentelemetry_instrumentation_fastapi-0.49b2-py3-none-any.whl.metadata (2.1 kB)\n",
            "Requirement already satisfied: opentelemetry-sdk>=1.2.0 in /usr/local/lib/python3.10/dist-packages (from chromadb) (1.28.2)\n",
            "Requirement already satisfied: tokenizers>=0.13.2 in /usr/local/lib/python3.10/dist-packages (from chromadb) (0.19.1)\n",
            "Collecting pypika>=0.48.9 (from chromadb)\n",
            "  Downloading PyPika-0.48.9.tar.gz (67 kB)\n",
            "\u001b[2K     \u001b[90m━━━━━━━━━━━━━━━━━━━━━━━━━━━━━━━━━━━━━━━━\u001b[0m \u001b[32m67.3/67.3 kB\u001b[0m \u001b[31m2.9 MB/s\u001b[0m eta \u001b[36m0:00:00\u001b[0m\n",
            "\u001b[?25h  Installing build dependencies ... \u001b[?25l\u001b[?25hdone\n",
            "  Getting requirements to build wheel ... \u001b[?25l\u001b[?25hdone\n",
            "  Preparing metadata (pyproject.toml) ... \u001b[?25l\u001b[?25hdone\n",
            "Requirement already satisfied: tqdm>=4.65.0 in /usr/local/lib/python3.10/dist-packages (from chromadb) (4.66.6)\n",
            "Collecting overrides>=7.3.1 (from chromadb)\n",
            "  Downloading overrides-7.7.0-py3-none-any.whl.metadata (5.8 kB)\n",
            "Requirement already satisfied: importlib-resources in /usr/local/lib/python3.10/dist-packages (from chromadb) (6.4.5)\n",
            "Requirement already satisfied: grpcio>=1.58.0 in /usr/local/lib/python3.10/dist-packages (from chromadb) (1.68.0)\n",
            "Collecting bcrypt>=4.0.1 (from chromadb)\n",
            "  Downloading bcrypt-4.2.1-cp39-abi3-manylinux_2_28_x86_64.whl.metadata (9.8 kB)\n",
            "Requirement already satisfied: typer>=0.9.0 in /usr/local/lib/python3.10/dist-packages (from chromadb) (0.13.0)\n",
            "Collecting kubernetes>=28.1.0 (from chromadb)\n",
            "  Downloading kubernetes-31.0.0-py2.py3-none-any.whl.metadata (1.5 kB)\n",
            "Requirement already satisfied: tenacity>=8.2.3 in /usr/local/lib/python3.10/dist-packages (from chromadb) (9.0.0)\n",
            "Requirement already satisfied: PyYAML>=6.0.0 in /usr/local/lib/python3.10/dist-packages (from chromadb) (6.0.2)\n",
            "Collecting mmh3>=4.0.1 (from chromadb)\n",
            "  Downloading mmh3-5.0.1-cp310-cp310-manylinux_2_5_x86_64.manylinux1_x86_64.manylinux_2_17_x86_64.manylinux2014_x86_64.whl.metadata (14 kB)\n",
            "Requirement already satisfied: orjson>=3.9.12 in /usr/local/lib/python3.10/dist-packages (from chromadb) (3.10.11)\n",
            "Requirement already satisfied: httpx>=0.27.0 in /usr/local/lib/python3.10/dist-packages (from chromadb) (0.27.2)\n",
            "Requirement already satisfied: rich>=10.11.0 in /usr/local/lib/python3.10/dist-packages (from chromadb) (13.9.4)\n",
            "Requirement already satisfied: packaging>=19.1 in /usr/local/lib/python3.10/dist-packages (from build>=1.0.3->chromadb) (24.2)\n",
            "Collecting pyproject_hooks (from build>=1.0.3->chromadb)\n",
            "  Downloading pyproject_hooks-1.2.0-py3-none-any.whl.metadata (1.3 kB)\n",
            "Requirement already satisfied: tomli>=1.1.0 in /usr/local/lib/python3.10/dist-packages (from build>=1.0.3->chromadb) (2.1.0)\n",
            "Collecting starlette<0.42.0,>=0.40.0 (from fastapi>=0.95.2->chromadb)\n",
            "  Downloading starlette-0.41.3-py3-none-any.whl.metadata (6.0 kB)\n",
            "Requirement already satisfied: anyio in /usr/local/lib/python3.10/dist-packages (from httpx>=0.27.0->chromadb) (3.7.1)\n",
            "Requirement already satisfied: certifi in /usr/local/lib/python3.10/dist-packages (from httpx>=0.27.0->chromadb) (2024.8.30)\n",
            "Requirement already satisfied: httpcore==1.* in /usr/local/lib/python3.10/dist-packages (from httpx>=0.27.0->chromadb) (1.0.7)\n",
            "Requirement already satisfied: idna in /usr/local/lib/python3.10/dist-packages (from httpx>=0.27.0->chromadb) (3.10)\n",
            "Requirement already satisfied: sniffio in /usr/local/lib/python3.10/dist-packages (from httpx>=0.27.0->chromadb) (1.3.1)\n",
            "Requirement already satisfied: h11<0.15,>=0.13 in /usr/local/lib/python3.10/dist-packages (from httpcore==1.*->httpx>=0.27.0->chromadb) (0.14.0)\n",
            "Requirement already satisfied: six>=1.9.0 in /usr/local/lib/python3.10/dist-packages (from kubernetes>=28.1.0->chromadb) (1.16.0)\n",
            "Requirement already satisfied: python-dateutil>=2.5.3 in /usr/local/lib/python3.10/dist-packages (from kubernetes>=28.1.0->chromadb) (2.8.2)\n",
            "Requirement already satisfied: google-auth>=1.0.1 in /usr/local/lib/python3.10/dist-packages (from kubernetes>=28.1.0->chromadb) (2.27.0)\n",
            "Requirement already satisfied: websocket-client!=0.40.0,!=0.41.*,!=0.42.*,>=0.32.0 in /usr/local/lib/python3.10/dist-packages (from kubernetes>=28.1.0->chromadb) (1.8.0)\n",
            "Requirement already satisfied: requests in /usr/local/lib/python3.10/dist-packages (from kubernetes>=28.1.0->chromadb) (2.32.3)\n",
            "Requirement already satisfied: requests-oauthlib in /usr/local/lib/python3.10/dist-packages (from kubernetes>=28.1.0->chromadb) (1.3.1)\n",
            "Requirement already satisfied: oauthlib>=3.2.2 in /usr/local/lib/python3.10/dist-packages (from kubernetes>=28.1.0->chromadb) (3.2.2)\n",
            "Requirement already satisfied: urllib3>=1.24.2 in /usr/local/lib/python3.10/dist-packages (from kubernetes>=28.1.0->chromadb) (2.2.3)\n",
            "Collecting durationpy>=0.7 (from kubernetes>=28.1.0->chromadb)\n",
            "  Downloading durationpy-0.9-py3-none-any.whl.metadata (338 bytes)\n",
            "Collecting coloredlogs (from onnxruntime>=1.14.1->chromadb)\n",
            "  Downloading coloredlogs-15.0.1-py2.py3-none-any.whl.metadata (12 kB)\n",
            "Requirement already satisfied: flatbuffers in /usr/local/lib/python3.10/dist-packages (from onnxruntime>=1.14.1->chromadb) (24.3.25)\n",
            "Requirement already satisfied: protobuf in /usr/local/lib/python3.10/dist-packages (from onnxruntime>=1.14.1->chromadb) (4.25.5)\n",
            "Requirement already satisfied: sympy in /usr/local/lib/python3.10/dist-packages (from onnxruntime>=1.14.1->chromadb) (1.13.1)\n",
            "Requirement already satisfied: deprecated>=1.2.6 in /usr/local/lib/python3.10/dist-packages (from opentelemetry-api>=1.2.0->chromadb) (1.2.15)\n",
            "Requirement already satisfied: importlib-metadata<=8.5.0,>=6.0 in /usr/local/lib/python3.10/dist-packages (from opentelemetry-api>=1.2.0->chromadb) (8.5.0)\n",
            "Requirement already satisfied: googleapis-common-protos~=1.52 in /usr/local/lib/python3.10/dist-packages (from opentelemetry-exporter-otlp-proto-grpc>=1.2.0->chromadb) (1.66.0)\n",
            "Collecting opentelemetry-exporter-otlp-proto-common==1.28.2 (from opentelemetry-exporter-otlp-proto-grpc>=1.2.0->chromadb)\n",
            "  Downloading opentelemetry_exporter_otlp_proto_common-1.28.2-py3-none-any.whl.metadata (1.8 kB)\n",
            "Collecting opentelemetry-proto==1.28.2 (from opentelemetry-exporter-otlp-proto-grpc>=1.2.0->chromadb)\n",
            "  Downloading opentelemetry_proto-1.28.2-py3-none-any.whl.metadata (2.3 kB)\n",
            "Collecting protobuf (from onnxruntime>=1.14.1->chromadb)\n",
            "  Downloading protobuf-5.28.3-cp38-abi3-manylinux2014_x86_64.whl.metadata (592 bytes)\n",
            "Collecting opentelemetry-instrumentation-asgi==0.49b2 (from opentelemetry-instrumentation-fastapi>=0.41b0->chromadb)\n",
            "  Downloading opentelemetry_instrumentation_asgi-0.49b2-py3-none-any.whl.metadata (1.9 kB)\n",
            "Collecting opentelemetry-instrumentation==0.49b2 (from opentelemetry-instrumentation-fastapi>=0.41b0->chromadb)\n",
            "  Downloading opentelemetry_instrumentation-0.49b2-py3-none-any.whl.metadata (6.1 kB)\n",
            "Requirement already satisfied: opentelemetry-semantic-conventions==0.49b2 in /usr/local/lib/python3.10/dist-packages (from opentelemetry-instrumentation-fastapi>=0.41b0->chromadb) (0.49b2)\n",
            "Collecting opentelemetry-util-http==0.49b2 (from opentelemetry-instrumentation-fastapi>=0.41b0->chromadb)\n",
            "  Downloading opentelemetry_util_http-0.49b2-py3-none-any.whl.metadata (2.5 kB)\n",
            "Requirement already satisfied: wrapt<2.0.0,>=1.0.0 in /usr/local/lib/python3.10/dist-packages (from opentelemetry-instrumentation==0.49b2->opentelemetry-instrumentation-fastapi>=0.41b0->chromadb) (1.16.0)\n",
            "Collecting asgiref~=3.0 (from opentelemetry-instrumentation-asgi==0.49b2->opentelemetry-instrumentation-fastapi>=0.41b0->chromadb)\n",
            "  Downloading asgiref-3.8.1-py3-none-any.whl.metadata (9.3 kB)\n",
            "Collecting monotonic>=1.5 (from posthog>=2.4.0->chromadb)\n",
            "  Downloading monotonic-1.6-py2.py3-none-any.whl.metadata (1.5 kB)\n",
            "Collecting backoff>=1.10.0 (from posthog>=2.4.0->chromadb)\n",
            "  Downloading backoff-2.2.1-py3-none-any.whl.metadata (14 kB)\n",
            "Requirement already satisfied: annotated-types>=0.6.0 in /usr/local/lib/python3.10/dist-packages (from pydantic>=1.9->chromadb) (0.7.0)\n",
            "Requirement already satisfied: pydantic-core==2.23.4 in /usr/local/lib/python3.10/dist-packages (from pydantic>=1.9->chromadb) (2.23.4)\n",
            "Requirement already satisfied: markdown-it-py>=2.2.0 in /usr/local/lib/python3.10/dist-packages (from rich>=10.11.0->chromadb) (3.0.0)\n",
            "Requirement already satisfied: pygments<3.0.0,>=2.13.0 in /usr/local/lib/python3.10/dist-packages (from rich>=10.11.0->chromadb) (2.18.0)\n",
            "Requirement already satisfied: huggingface-hub<1.0,>=0.16.4 in /usr/local/lib/python3.10/dist-packages (from tokenizers>=0.13.2->chromadb) (0.26.2)\n",
            "Requirement already satisfied: click>=8.0.0 in /usr/local/lib/python3.10/dist-packages (from typer>=0.9.0->chromadb) (8.1.7)\n",
            "Requirement already satisfied: shellingham>=1.3.0 in /usr/local/lib/python3.10/dist-packages (from typer>=0.9.0->chromadb) (1.5.4)\n",
            "Collecting httptools>=0.6.3 (from uvicorn[standard]>=0.18.3->chromadb)\n",
            "  Downloading httptools-0.6.4-cp310-cp310-manylinux_2_5_x86_64.manylinux1_x86_64.manylinux_2_17_x86_64.manylinux2014_x86_64.whl.metadata (3.6 kB)\n",
            "Requirement already satisfied: python-dotenv>=0.13 in /usr/local/lib/python3.10/dist-packages (from uvicorn[standard]>=0.18.3->chromadb) (1.0.1)\n",
            "Collecting uvloop!=0.15.0,!=0.15.1,>=0.14.0 (from uvicorn[standard]>=0.18.3->chromadb)\n",
            "  Downloading uvloop-0.21.0-cp310-cp310-manylinux_2_17_x86_64.manylinux2014_x86_64.whl.metadata (4.9 kB)\n",
            "Collecting watchfiles>=0.13 (from uvicorn[standard]>=0.18.3->chromadb)\n",
            "  Downloading watchfiles-0.24.0-cp310-cp310-manylinux_2_17_x86_64.manylinux2014_x86_64.whl.metadata (4.9 kB)\n",
            "Collecting websockets>=10.4 (from uvicorn[standard]>=0.18.3->chromadb)\n",
            "  Downloading websockets-14.1-cp310-cp310-manylinux_2_5_x86_64.manylinux1_x86_64.manylinux_2_17_x86_64.manylinux2014_x86_64.whl.metadata (6.7 kB)\n",
            "Requirement already satisfied: cachetools<6.0,>=2.0.0 in /usr/local/lib/python3.10/dist-packages (from google-auth>=1.0.1->kubernetes>=28.1.0->chromadb) (5.5.0)\n",
            "Requirement already satisfied: pyasn1-modules>=0.2.1 in /usr/local/lib/python3.10/dist-packages (from google-auth>=1.0.1->kubernetes>=28.1.0->chromadb) (0.4.1)\n",
            "Requirement already satisfied: rsa<5,>=3.1.4 in /usr/local/lib/python3.10/dist-packages (from google-auth>=1.0.1->kubernetes>=28.1.0->chromadb) (4.9)\n",
            "Requirement already satisfied: filelock in /usr/local/lib/python3.10/dist-packages (from huggingface-hub<1.0,>=0.16.4->tokenizers>=0.13.2->chromadb) (3.16.1)\n",
            "Requirement already satisfied: fsspec>=2023.5.0 in /usr/local/lib/python3.10/dist-packages (from huggingface-hub<1.0,>=0.16.4->tokenizers>=0.13.2->chromadb) (2024.10.0)\n",
            "Requirement already satisfied: zipp>=3.20 in /usr/local/lib/python3.10/dist-packages (from importlib-metadata<=8.5.0,>=6.0->opentelemetry-api>=1.2.0->chromadb) (3.21.0)\n",
            "Requirement already satisfied: mdurl~=0.1 in /usr/local/lib/python3.10/dist-packages (from markdown-it-py>=2.2.0->rich>=10.11.0->chromadb) (0.1.2)\n",
            "Requirement already satisfied: charset-normalizer<4,>=2 in /usr/local/lib/python3.10/dist-packages (from requests->kubernetes>=28.1.0->chromadb) (3.4.0)\n",
            "Requirement already satisfied: exceptiongroup in /usr/local/lib/python3.10/dist-packages (from anyio->httpx>=0.27.0->chromadb) (1.2.2)\n",
            "Collecting humanfriendly>=9.1 (from coloredlogs->onnxruntime>=1.14.1->chromadb)\n",
            "  Downloading humanfriendly-10.0-py2.py3-none-any.whl.metadata (9.2 kB)\n",
            "Requirement already satisfied: mpmath<1.4,>=1.1.0 in /usr/local/lib/python3.10/dist-packages (from sympy->onnxruntime>=1.14.1->chromadb) (1.3.0)\n",
            "Requirement already satisfied: pyasn1<0.7.0,>=0.4.6 in /usr/local/lib/python3.10/dist-packages (from pyasn1-modules>=0.2.1->google-auth>=1.0.1->kubernetes>=28.1.0->chromadb) (0.6.1)\n",
            "Downloading chromadb-0.5.20-py3-none-any.whl (617 kB)\n",
            "\u001b[2K   \u001b[90m━━━━━━━━━━━━━━━━━━━━━━━━━━━━━━━━━━━━━━━━\u001b[0m \u001b[32m617.9/617.9 kB\u001b[0m \u001b[31m15.5 MB/s\u001b[0m eta \u001b[36m0:00:00\u001b[0m\n",
            "\u001b[?25hDownloading chroma_hnswlib-0.7.6-cp310-cp310-manylinux_2_17_x86_64.manylinux2014_x86_64.whl (2.4 MB)\n",
            "\u001b[2K   \u001b[90m━━━━━━━━━━━━━━━━━━━━━━━━━━━━━━━━━━━━━━━━\u001b[0m \u001b[32m2.4/2.4 MB\u001b[0m \u001b[31m49.7 MB/s\u001b[0m eta \u001b[36m0:00:00\u001b[0m\n",
            "\u001b[?25hDownloading bcrypt-4.2.1-cp39-abi3-manylinux_2_28_x86_64.whl (278 kB)\n",
            "\u001b[2K   \u001b[90m━━━━━━━━━━━━━━━━━━━━━━━━━━━━━━━━━━━━━━━━\u001b[0m \u001b[32m278.6/278.6 kB\u001b[0m \u001b[31m17.3 MB/s\u001b[0m eta \u001b[36m0:00:00\u001b[0m\n",
            "\u001b[?25hDownloading build-1.2.2.post1-py3-none-any.whl (22 kB)\n",
            "Downloading fastapi-0.115.5-py3-none-any.whl (94 kB)\n",
            "\u001b[2K   \u001b[90m━━━━━━━━━━━━━━━━━━━━━━━━━━━━━━━━━━━━━━━━\u001b[0m \u001b[32m94.9/94.9 kB\u001b[0m \u001b[31m7.1 MB/s\u001b[0m eta \u001b[36m0:00:00\u001b[0m\n",
            "\u001b[?25hDownloading kubernetes-31.0.0-py2.py3-none-any.whl (1.9 MB)\n",
            "\u001b[2K   \u001b[90m━━━━━━━━━━━━━━━━━━━━━━━━━━━━━━━━━━━━━━━━\u001b[0m \u001b[32m1.9/1.9 MB\u001b[0m \u001b[31m53.7 MB/s\u001b[0m eta \u001b[36m0:00:00\u001b[0m\n",
            "\u001b[?25hDownloading mmh3-5.0.1-cp310-cp310-manylinux_2_5_x86_64.manylinux1_x86_64.manylinux_2_17_x86_64.manylinux2014_x86_64.whl (93 kB)\n",
            "\u001b[2K   \u001b[90m━━━━━━━━━━━━━━━━━━━━━━━━━━━━━━━━━━━━━━━━\u001b[0m \u001b[32m93.2/93.2 kB\u001b[0m \u001b[31m5.2 MB/s\u001b[0m eta \u001b[36m0:00:00\u001b[0m\n",
            "\u001b[?25hDownloading onnxruntime-1.20.1-cp310-cp310-manylinux_2_27_x86_64.manylinux_2_28_x86_64.whl (13.3 MB)\n",
            "\u001b[2K   \u001b[90m━━━━━━━━━━━━━━━━━━━━━━━━━━━━━━━━━━━━━━━━\u001b[0m \u001b[32m13.3/13.3 MB\u001b[0m \u001b[31m64.1 MB/s\u001b[0m eta \u001b[36m0:00:00\u001b[0m\n",
            "\u001b[?25hDownloading opentelemetry_exporter_otlp_proto_grpc-1.28.2-py3-none-any.whl (18 kB)\n",
            "Downloading opentelemetry_exporter_otlp_proto_common-1.28.2-py3-none-any.whl (18 kB)\n",
            "Downloading opentelemetry_proto-1.28.2-py3-none-any.whl (55 kB)\n",
            "\u001b[2K   \u001b[90m━━━━━━━━━━━━━━━━━━━━━━━━━━━━━━━━━━━━━━━━\u001b[0m \u001b[32m55.8/55.8 kB\u001b[0m \u001b[31m3.2 MB/s\u001b[0m eta \u001b[36m0:00:00\u001b[0m\n",
            "\u001b[?25hDownloading opentelemetry_instrumentation_fastapi-0.49b2-py3-none-any.whl (12 kB)\n",
            "Downloading opentelemetry_instrumentation-0.49b2-py3-none-any.whl (30 kB)\n",
            "Downloading opentelemetry_instrumentation_asgi-0.49b2-py3-none-any.whl (16 kB)\n",
            "Downloading opentelemetry_util_http-0.49b2-py3-none-any.whl (6.9 kB)\n",
            "Downloading overrides-7.7.0-py3-none-any.whl (17 kB)\n",
            "Downloading posthog-3.7.2-py2.py3-none-any.whl (54 kB)\n",
            "\u001b[2K   \u001b[90m━━━━━━━━━━━━━━━━━━━━━━━━━━━━━━━━━━━━━━━━\u001b[0m \u001b[32m54.4/54.4 kB\u001b[0m \u001b[31m3.2 MB/s\u001b[0m eta \u001b[36m0:00:00\u001b[0m\n",
            "\u001b[?25hDownloading uvicorn-0.32.1-py3-none-any.whl (63 kB)\n",
            "\u001b[2K   \u001b[90m━━━━━━━━━━━━━━━━━━━━━━━━━━━━━━━━━━━━━━━━\u001b[0m \u001b[32m63.8/63.8 kB\u001b[0m \u001b[31m4.7 MB/s\u001b[0m eta \u001b[36m0:00:00\u001b[0m\n",
            "\u001b[?25hDownloading backoff-2.2.1-py3-none-any.whl (15 kB)\n",
            "Downloading durationpy-0.9-py3-none-any.whl (3.5 kB)\n",
            "Downloading httptools-0.6.4-cp310-cp310-manylinux_2_5_x86_64.manylinux1_x86_64.manylinux_2_17_x86_64.manylinux2014_x86_64.whl (442 kB)\n",
            "\u001b[2K   \u001b[90m━━━━━━━━━━━━━━━━━━━━━━━━━━━━━━━━━━━━━━━━\u001b[0m \u001b[32m442.1/442.1 kB\u001b[0m \u001b[31m22.1 MB/s\u001b[0m eta \u001b[36m0:00:00\u001b[0m\n",
            "\u001b[?25hDownloading monotonic-1.6-py2.py3-none-any.whl (8.2 kB)\n",
            "Downloading protobuf-5.28.3-cp38-abi3-manylinux2014_x86_64.whl (316 kB)\n",
            "\u001b[2K   \u001b[90m━━━━━━━━━━━━━━━━━━━━━━━━━━━━━━━━━━━━━━━━\u001b[0m \u001b[32m316.6/316.6 kB\u001b[0m \u001b[31m18.1 MB/s\u001b[0m eta \u001b[36m0:00:00\u001b[0m\n",
            "\u001b[?25hDownloading starlette-0.41.3-py3-none-any.whl (73 kB)\n",
            "\u001b[2K   \u001b[90m━━━━━━━━━━━━━━━━━━━━━━━━━━━━━━━━━━━━━━━━\u001b[0m \u001b[32m73.2/73.2 kB\u001b[0m \u001b[31m4.6 MB/s\u001b[0m eta \u001b[36m0:00:00\u001b[0m\n",
            "\u001b[?25hDownloading uvloop-0.21.0-cp310-cp310-manylinux_2_17_x86_64.manylinux2014_x86_64.whl (3.8 MB)\n",
            "\u001b[2K   \u001b[90m━━━━━━━━━━━━━━━━━━━━━━━━━━━━━━━━━━━━━━━━\u001b[0m \u001b[32m3.8/3.8 MB\u001b[0m \u001b[31m50.7 MB/s\u001b[0m eta \u001b[36m0:00:00\u001b[0m\n",
            "\u001b[?25hDownloading watchfiles-0.24.0-cp310-cp310-manylinux_2_17_x86_64.manylinux2014_x86_64.whl (425 kB)\n",
            "\u001b[2K   \u001b[90m━━━━━━━━━━━━━━━━━━━━━━━━━━━━━━━━━━━━━━━━\u001b[0m \u001b[32m425.7/425.7 kB\u001b[0m \u001b[31m23.2 MB/s\u001b[0m eta \u001b[36m0:00:00\u001b[0m\n",
            "\u001b[?25hDownloading websockets-14.1-cp310-cp310-manylinux_2_5_x86_64.manylinux1_x86_64.manylinux_2_17_x86_64.manylinux2014_x86_64.whl (168 kB)\n",
            "\u001b[2K   \u001b[90m━━━━━━━━━━━━━━━━━━━━━━━━━━━━━━━━━━━━━━━━\u001b[0m \u001b[32m168.2/168.2 kB\u001b[0m \u001b[31m9.8 MB/s\u001b[0m eta \u001b[36m0:00:00\u001b[0m\n",
            "\u001b[?25hDownloading coloredlogs-15.0.1-py2.py3-none-any.whl (46 kB)\n",
            "\u001b[2K   \u001b[90m━━━━━━━━━━━━━━━━━━━━━━━━━━━━━━━━━━━━━━━━\u001b[0m \u001b[32m46.0/46.0 kB\u001b[0m \u001b[31m2.6 MB/s\u001b[0m eta \u001b[36m0:00:00\u001b[0m\n",
            "\u001b[?25hDownloading pyproject_hooks-1.2.0-py3-none-any.whl (10 kB)\n",
            "Downloading asgiref-3.8.1-py3-none-any.whl (23 kB)\n",
            "Downloading humanfriendly-10.0-py2.py3-none-any.whl (86 kB)\n",
            "\u001b[2K   \u001b[90m━━━━━━━━━━━━━━━━━━━━━━━━━━━━━━━━━━━━━━━━\u001b[0m \u001b[32m86.8/86.8 kB\u001b[0m \u001b[31m5.4 MB/s\u001b[0m eta \u001b[36m0:00:00\u001b[0m\n",
            "\u001b[?25hBuilding wheels for collected packages: pypika\n",
            "  Building wheel for pypika (pyproject.toml) ... \u001b[?25l\u001b[?25hdone\n",
            "  Created wheel for pypika: filename=PyPika-0.48.9-py2.py3-none-any.whl size=53725 sha256=0945a4c19c0ca6f945d844eaad9c161a602e4416fec7415bfdeb57c9965cc853\n",
            "  Stored in directory: /root/.cache/pip/wheels/e1/26/51/d0bffb3d2fd82256676d7ad3003faea3bd6dddc9577af665f4\n",
            "Successfully built pypika\n",
            "Installing collected packages: pypika, monotonic, durationpy, websockets, uvloop, uvicorn, pyproject_hooks, protobuf, overrides, opentelemetry-util-http, mmh3, humanfriendly, httptools, chroma-hnswlib, bcrypt, backoff, asgiref, watchfiles, starlette, posthog, opentelemetry-proto, coloredlogs, build, opentelemetry-exporter-otlp-proto-common, onnxruntime, kubernetes, fastapi, opentelemetry-instrumentation, opentelemetry-instrumentation-asgi, opentelemetry-exporter-otlp-proto-grpc, opentelemetry-instrumentation-fastapi, chromadb\n",
            "  Attempting uninstall: protobuf\n",
            "    Found existing installation: protobuf 4.25.5\n",
            "    Uninstalling protobuf-4.25.5:\n",
            "      Successfully uninstalled protobuf-4.25.5\n",
            "\u001b[31mERROR: pip's dependency resolver does not currently take into account all the packages that are installed. This behaviour is the source of the following dependency conflicts.\n",
            "tensorflow 2.17.1 requires protobuf!=4.21.0,!=4.21.1,!=4.21.2,!=4.21.3,!=4.21.4,!=4.21.5,<5.0.0dev,>=3.20.3, but you have protobuf 5.28.3 which is incompatible.\n",
            "tensorflow-metadata 1.13.1 requires protobuf<5,>=3.20.3, but you have protobuf 5.28.3 which is incompatible.\u001b[0m\u001b[31m\n",
            "\u001b[0mSuccessfully installed asgiref-3.8.1 backoff-2.2.1 bcrypt-4.2.1 build-1.2.2.post1 chroma-hnswlib-0.7.6 chromadb-0.5.20 coloredlogs-15.0.1 durationpy-0.9 fastapi-0.115.5 httptools-0.6.4 humanfriendly-10.0 kubernetes-31.0.0 mmh3-5.0.1 monotonic-1.6 onnxruntime-1.20.1 opentelemetry-exporter-otlp-proto-common-1.28.2 opentelemetry-exporter-otlp-proto-grpc-1.28.2 opentelemetry-instrumentation-0.49b2 opentelemetry-instrumentation-asgi-0.49b2 opentelemetry-instrumentation-fastapi-0.49b2 opentelemetry-proto-1.28.2 opentelemetry-util-http-0.49b2 overrides-7.7.0 posthog-3.7.2 protobuf-5.28.3 pypika-0.48.9 pyproject_hooks-1.2.0 starlette-0.41.3 uvicorn-0.32.1 uvloop-0.21.0 watchfiles-0.24.0 websockets-14.1\n"
          ]
        }
      ],
      "source": [
        "pip install chromadb"
      ]
    },
    {
      "cell_type": "code",
      "execution_count": 36,
      "metadata": {
        "id": "FEbmRxc7kf6v"
      },
      "outputs": [],
      "source": [
        "from langchain_community.vectorstores import Chroma"
      ]
    },
    {
      "cell_type": "code",
      "source": [
        "persist_directory = \"/content/drive/MyDrive/db\""
      ],
      "metadata": {
        "id": "TXReZ-e9pVIT"
      },
      "execution_count": 37,
      "outputs": []
    },
    {
      "cell_type": "code",
      "execution_count": null,
      "metadata": {
        "id": "wkZO8tvYkcCj"
      },
      "outputs": [],
      "source": [
        "vectorstore = Chroma.from_documents(texts, UpstageEmbeddings(model=\"solar-embedding-1-large\"), persist_directory=persist_directory)"
      ]
    },
    {
      "cell_type": "markdown",
      "metadata": {
        "id": "ze7uxjE2QASR"
      },
      "source": [
        "https://faiiry9.tistory.com/150"
      ]
    },
    {
      "cell_type": "code",
      "execution_count": null,
      "metadata": {
        "id": "66O-xWPWkcH6"
      },
      "outputs": [],
      "source": [
        "vectorstore.persist()"
      ]
    },
    {
      "cell_type": "code",
      "source": [
        "vectorstore = Chroma(persist_directory=persist_directory, embedding_function=UpstageEmbeddings(model=\"solar-embedding-1-large\"))"
      ],
      "metadata": {
        "id": "WhNlFIWlmREg"
      },
      "execution_count": null,
      "outputs": []
    },
    {
      "cell_type": "code",
      "source": [
        "data = db.similarity_search(query)"
      ],
      "metadata": {
        "id": "ZtrZEq7dnsNu"
      },
      "execution_count": null,
      "outputs": []
    },
    {
      "cell_type": "markdown",
      "source": [
        "# 프롬프트 한국어"
      ],
      "metadata": {
        "id": "S9ziVcQvVwJe"
      }
    },
    {
      "cell_type": "code",
      "execution_count": null,
      "metadata": {
        "id": "pNVzdCwOZN6L"
      },
      "outputs": [],
      "source": [
        "from langchain.prompts import ChatPromptTemplate\n",
        "from langchain_core.output_parsers import StrOutputParser\n",
        "\n",
        "def format_docs(docs):\n",
        "    return '\\n\\n'.join([d.page_content for d in docs])\n",
        "\n",
        "query = '무역적자에 관한 한덕수 의원님의 발언에 대해 알려줘.'\n",
        "retriever = vectorstore.as_retriever(k=5)\n",
        "\n",
        "docs = retriever.get_relevant_documents(query)\n",
        "\n",
        "# Prompt\n",
        "template = '''\n",
        "너는 정책과 법률에 대한 질문을 가진 국회의원들을 도와주는 똑똑한 전문가야. 국회의원들에게 답변해야 하기 때문에 최대한 정중하게 얘기해줘.\n",
        "\n",
        "질문을 주의 깊게 읽고 이해한 후 오직 이어지는 문맥에 기반해서만 답변해줘.\n",
        "\n",
        "답변을 지어내려고 하지 마:\n",
        "-만약 오직 문맥에 기반해서는 답할 수 없다면 ‘주어진 문맥만으로는 그 질문에 대해 답변할 수 없습니다.’라고 답변해줘.\n",
        "-만약 문맥이 존재하지 않는다면 ‘데이터베이스에서 해당 질문에 대한 적절한 답변을 찾지 못했습니다.’라고 답변해줘.\n",
        "\n",
        "답변을 할 때 시간순 및 이슈별로 정리해줘.\n",
        "\n",
        "문맥:\n",
        "{context}\n",
        "\n",
        "질문:\n",
        "{question}\n",
        "\n",
        "답변:\n",
        "\n",
        "\n",
        "'''\n",
        "\n",
        "prompt = ChatPromptTemplate.from_template(template)"
      ]
    },
    {
      "cell_type": "code",
      "source": [
        "from langchain_upstage import ChatUpstage\n",
        "# Model\n",
        "llm = ChatUpstage()\n",
        "\n",
        "# Chain\n",
        "chain = prompt | llm | StrOutputParser()\n",
        "\n",
        "\n",
        "# Run\n",
        "response = chain.invoke({'context': (format_docs(docs)), 'question':query})\n",
        "response"
      ],
      "metadata": {
        "colab": {
          "base_uri": "https://localhost:8080/",
          "height": 54
        },
        "id": "A6A8440ulX3N",
        "outputId": "606bed38-38af-4480-dad8-1d65f3e45811"
      },
      "execution_count": null,
      "outputs": [
        {
          "output_type": "execute_result",
          "data": {
            "text/plain": [
              "'한덕수 의원님은 무역적자에 대해 한국이 중국으로의 수출 비중이 줄어들고, 중국의 글로벌 공급망 변화로 인해 28년 만에 무역적자가 발생했다고 언급했습니다. 이에 대해 한덕수 의원님은 한국이 미래 수출을 다변화하고 다각화해야 한다고 제안했습니다.'"
            ],
            "application/vnd.google.colaboratory.intrinsic+json": {
              "type": "string"
            }
          },
          "metadata": {},
          "execution_count": 35
        }
      ]
    },
    {
      "cell_type": "code",
      "source": [
        "from langchain.prompts import ChatPromptTemplate\n",
        "from langchain_core.output_parsers import StrOutputParser\n",
        "\n",
        "def format_docs(docs):\n",
        "    return '\\n\\n'.join([d.page_content for d in docs])\n",
        "\n",
        "query = '독도에 관해서 이철우 의원이 질문을 했나요?'\n",
        "retriever = vectorstore.as_retriever(k=2)\n",
        "\n",
        "docs = retriever.get_relevant_documents(query)\n",
        "\n",
        "# Prompt\n",
        "template = '''\n",
        "너는 정책과 법률에 대한 질문을 가진 국회의원들을 도와주는 똑똑한 전문가야. 국회의원들에게 답변해야 하기 때문에 최대한 정중하게 얘기해줘.\n",
        "\n",
        "질문을 주의 깊게 읽고 이해한 후 오직 이어지는 문맥에 기반해서만 답변해줘.\n",
        "\n",
        "답변을 지어내려고 하지 마:\n",
        "-만약 오직 문맥에 기반해서는 답할 수 없다면 ‘주어진 문맥만으로는 그 질문에 대해 답변할 수 없습니다.’라고 답변해줘.\n",
        "-만약 문맥이 존재하지 않는다면 ‘데이터베이스에서 해당 질문에 대한 적절한 답변을 찾지 못했습니다.’라고 답변해줘.\n",
        "\n",
        "답변을 할 때 시간순 및 이슈별로 정리해줘.\n",
        "\n",
        "문맥:\n",
        "{context}\n",
        "\n",
        "질문:\n",
        "{question}\n",
        "\n",
        "답변:\n",
        "\n",
        "\n",
        "'''\n",
        "\n",
        "prompt = ChatPromptTemplate.from_template(template)"
      ],
      "metadata": {
        "id": "iGAr0-hKVj51"
      },
      "execution_count": null,
      "outputs": []
    },
    {
      "cell_type": "code",
      "source": [
        "from langchain_upstage import ChatUpstage\n",
        "# Model\n",
        "llm = ChatUpstage()\n",
        "\n",
        "# Chain\n",
        "chain = prompt | llm | StrOutputParser()\n",
        "\n",
        "\n",
        "# Run\n",
        "response = chain.invoke({'context': (format_docs(docs)), 'question':query})\n",
        "response"
      ],
      "metadata": {
        "colab": {
          "base_uri": "https://localhost:8080/",
          "height": 35
        },
        "id": "syutI5LnVj8L",
        "outputId": "f91991a4-a7aa-4736-f532-ee4eedcdc8cd"
      },
      "execution_count": null,
      "outputs": [
        {
          "output_type": "execute_result",
          "data": {
            "text/plain": [
              "'제공된 문맥에는 독도에 관한 이철우 의원의 질문이 포함되어 있지 않습니다. 데이터베이스에서 해당 질문에 대한 적절한 답변을 찾을 수 없습니다.'"
            ],
            "application/vnd.google.colaboratory.intrinsic+json": {
              "type": "string"
            }
          },
          "metadata": {},
          "execution_count": 60
        }
      ]
    },
    {
      "cell_type": "code",
      "source": [
        "from langchain.prompts import ChatPromptTemplate\n",
        "from langchain_core.output_parsers import StrOutputParser\n",
        "\n",
        "def format_docs(docs):\n",
        "    return '\\n\\n'.join([d.page_content for d in docs])\n",
        "\n",
        "query = '평준화 교육에 관한 조성윤의 발언이 있어?'\n",
        "retriever = vectorstore.as_retriever(k=2)\n",
        "\n",
        "docs = retriever.get_relevant_documents(query)\n",
        "\n",
        "# Prompt\n",
        "template = '''\n",
        "너는 정책과 법률에 대한 질문을 가진 국회의원들을 도와주는 똑똑한 전문가야. 국회의원들에게 답변해야 하기 때문에 최대한 정중하게 얘기해줘.\n",
        "\n",
        "질문을 주의 깊게 읽고 이해한 후 오직 이어지는 문맥에 기반해서만 답변해줘.\n",
        "\n",
        "답변을 지어내려고 하지 마:\n",
        "-만약 오직 문맥에 기반해서는 답할 수 없다면 ‘주어진 문맥만으로는 그 질문에 대해 답변할 수 없습니다.’라고 답변해줘.\n",
        "-만약 문맥이 존재하지 않는다면 ‘데이터베이스에서 해당 질문에 대한 적절한 답변을 찾지 못했습니다.’라고 답변해줘.\n",
        "\n",
        "답변을 할 때 시간순 및 이슈별로 정리해줘.\n",
        "\n",
        "문맥:\n",
        "{context}\n",
        "\n",
        "질문:\n",
        "{question}\n",
        "\n",
        "답변:\n",
        "\n",
        "\n",
        "'''\n",
        "\n",
        "prompt = ChatPromptTemplate.from_template(template)"
      ],
      "metadata": {
        "id": "V279Tb8SVj-X"
      },
      "execution_count": null,
      "outputs": []
    },
    {
      "cell_type": "code",
      "source": [
        "from langchain_upstage import ChatUpstage\n",
        "# Model\n",
        "llm = ChatUpstage()\n",
        "\n",
        "# Chain\n",
        "chain = prompt | llm | StrOutputParser()\n",
        "\n",
        "\n",
        "# Run\n",
        "response = chain.invoke({'context': (format_docs(docs)), 'question':query})\n",
        "response"
      ],
      "metadata": {
        "colab": {
          "base_uri": "https://localhost:8080/",
          "height": 35
        },
        "id": "lInAdsEyVkAi",
        "outputId": "d04c9f82-1833-4911-f64e-2a208cea8628"
      },
      "execution_count": null,
      "outputs": [
        {
          "output_type": "execute_result",
          "data": {
            "text/plain": [
              "'조성윤의 발언은 문맥에 존재하지 않습니다. 데이터베이스에서 해당 질문에 대한 적절한 답변을 찾을 수 없습니다.'"
            ],
            "application/vnd.google.colaboratory.intrinsic+json": {
              "type": "string"
            }
          },
          "metadata": {},
          "execution_count": 75
        }
      ]
    },
    {
      "cell_type": "code",
      "source": [
        "from langchain.prompts import ChatPromptTemplate\n",
        "from langchain_core.output_parsers import StrOutputParser\n",
        "\n",
        "def format_docs(docs):\n",
        "    return '\\n\\n'.join([d.page_content for d in docs])\n",
        "\n",
        "query = '공공의료대학에 관해서 누가 어떤 말을 했어?'\n",
        "retriever = vectorstore.as_retriever(k=5)\n",
        "\n",
        "docs = retriever.get_relevant_documents(query)\n",
        "\n",
        "# Prompt\n",
        "template = '''\n",
        "너는 정책과 법률에 대한 질문을 가진 국회의원들을 도와주는 똑똑한 전문가야. 국회의원들에게 답변해야 하기 때문에 최대한 정중하게 얘기해줘.\n",
        "\n",
        "질문을 주의 깊게 읽고 이해한 후 오직 이어지는 문맥에 기반해서만 답변해줘.\n",
        "\n",
        "답변을 지어내려고 하지 마:\n",
        "-만약 오직 문맥에 기반해서는 답할 수 없다면 ‘주어진 문맥만으로는 그 질문에 대해 답변할 수 없습니다.’라고 답변해줘.\n",
        "-만약 문맥이 존재하지 않는다면 ‘데이터베이스에서 해당 질문에 대한 적절한 답변을 찾지 못했습니다.’라고 답변해줘.\n",
        "\n",
        "\n",
        "\n",
        "문맥:\n",
        "{context}\n",
        "\n",
        "질문:\n",
        "{question} 답변을 할 때 시간순으로 말해줘.\n",
        "\n",
        "답변:\n",
        "\n",
        "\n",
        "'''\n",
        "\n",
        "prompt = ChatPromptTemplate.from_template(template)"
      ],
      "metadata": {
        "id": "SxaUZRafVkCu"
      },
      "execution_count": null,
      "outputs": []
    },
    {
      "cell_type": "code",
      "source": [
        "from langchain_upstage import ChatUpstage\n",
        "# Model\n",
        "llm = ChatUpstage()\n",
        "\n",
        "# Chain\n",
        "chain = prompt | llm | StrOutputParser()\n",
        "\n",
        "\n",
        "# Run\n",
        "response = chain.invoke({'context': (format_docs(docs)), 'question':query})\n",
        "response"
      ],
      "metadata": {
        "colab": {
          "base_uri": "https://localhost:8080/",
          "height": 185
        },
        "id": "j24vJY9jVkEg",
        "outputId": "56fb9623-4c2d-4e84-e1c7-ec92d60bc1d1"
      },
      "execution_count": null,
      "outputs": [
        {
          "output_type": "execute_result",
          "data": {
            "text/plain": [
              "'최도자: 국립공공의료대학원 설립 취지에 대한 설명은 하지 않겠지만, 전문가 단체나 관련 우려에 대해 간단히 언급해 주시겠습니까?\\n\\n김강립: 국립공공의료대학원 설립에 대한 전문가 단체와 일부 의료계의 주요 우려는 기존 의과대학에서 공공의료 인력을 충분히 양성할 수 있는지, 교육의 효율성과 효과성, 학생 간의 유대감 손상 등입니다. 기존 의과대학에서 일정 비율의 학생들을 공공의료 전문 인력으로 양성하는 것이 실제로 효과적이고 효율적일지에 대한 의문이 제기되고 있습니다. 또한, 학생들이 같은 환경에서 교육을 받으면서도 서로 다른 경로로 양성되는 경우, 동기들 간의 유대감과 정서적 지지 기반이 약화될 수 있다는 우려도 제기되고 있습니다. 별도의 공공의료 대학을 설립하여 이러한 문제들을 해결하려는 취지가 있지만, 현재로서는 서남대 의대 정원 등 기존 자원을 활용하는 방안도 고려되고 있어 이에 대한 토론과 의견이 분분한 상황입니다.\\n\\n이용호: 공공의료대학 설립에 대한 법안이 국회에서 통과되지 않고 있는 상황에서 정부와 국회의 노력과 역할에 대한 의원님의 견해는?\\n\\n정세균: 공공의료대학 설립 법안이 통과되지 않는 현 상황에 대해 유감의 뜻을 표합니다. 필수 의료 분야, 특히 감염병과 같은 공중보건 위기에 대비하는 의료 전문가를 양성하는 기관의 설립은 시급한 과제입니다. 국회는 법안을 입법화해야 할 책임이 있는 곳입니다. 과거에는 다수결의 원칙이 어느 정도 작동하여 중요한 법안들이 통과될 수 있었지만, 지금은 몇몇 의원들의 반대로 인해 입법 과정이 지연되거나 불발되는 상황이 발생하고 있습니다. 이는 의료 시스템 내의 구조적 문제를 해결하고 질병 대응 역량을 강화하는 데 큰 걸림돌이 되고 있습니다. 따라서, 공공의료대학 설립을 통해 의료 시스템을 강화해야 한다는 것은 시급한 사안이며, 이대로 지체되면 공중보건 위기 상황에서의 대응력이 약화될 수 있습니다. 정부는 법안을 적극적으로 옹호하고 필요한 조치를 취해야 할 책임이 있으며, 국회도 공공의 이익을 위해 신속하고 효과적으로 작동해야 한다는 점을 강조합니다.\\n\\n배준영: 공공의대 신설에 대해 어떤 견해를 가지고 계십니까?\\n\\n윤환중: 저는 정부의 공공의료 정책을 지지하지 않습니다. 이미 검증된 교육 인프라와 경험을 가진 국립대학교 병원에 공공의료 역할을 할당하는 것이 더 효율적일 것입니다.\\n\\n김광수: 공공의대 설립 및 확충 요청이 있습니다. 협약을 통한 학생 모집을 고려하고 있으며, 법률 개정이 가장 좋겠지만 다른 방안도 적극적으로 검토할 것인가요?\\n\\n유은혜: 공공의대 설립 및 확충 요청에 대해 이해합니다. 법률 개정 외에도 다른 방안을 적극적으로 검토하여 결정하겠습니다.'"
            ],
            "application/vnd.google.colaboratory.intrinsic+json": {
              "type": "string"
            }
          },
          "metadata": {},
          "execution_count": 41
        }
      ]
    },
    {
      "cell_type": "code",
      "source": [
        "from langchain.prompts import ChatPromptTemplate\n",
        "from langchain_core.output_parsers import StrOutputParser\n",
        "\n",
        "def format_docs(docs):\n",
        "    return '\\n\\n'.join([d.page_content for d in docs])\n",
        "\n",
        "query = '대학 미충원 인원에 관한 의원들의 발언들을 알려줘.'\n",
        "retriever = vectorstore.as_retriever(k=5)\n",
        "\n",
        "docs = retriever.get_relevant_documents(query)\n",
        "\n",
        "# Prompt\n",
        "template = '''\n",
        "너는 정책과 법률에 대한 질문을 가진 국회의원들을 도와주는 똑똑한 전문가야. 국회의원들에게 답변해야 하기 때문에 최대한 정중하게 얘기해줘.\n",
        "\n",
        "질문을 주의 깊게 읽고 이해한 후 오직 이어지는 문맥에 기반해서만 답변해줘.\n",
        "\n",
        "답변을 지어내려고 하지 마:\n",
        "-만약 오직 문맥에 기반해서는 답할 수 없다면 ‘주어진 문맥만으로는 그 질문에 대해 답변할 수 없습니다.’라고 답변해줘.\n",
        "-만약 문맥이 존재하지 않는다면 ‘데이터베이스에서 해당 질문에 대한 적절한 답변을 찾지 못했습니다.’라고 답변해줘.\n",
        "\n",
        "답변을 할 때 시간순 및 이슈별로 정리해줘.\n",
        "\n",
        "문맥:\n",
        "{context}\n",
        "\n",
        "질문:\n",
        "{question}\n",
        "\n",
        "답변:\n",
        "\n",
        "\n",
        "'''\n",
        "\n",
        "prompt = ChatPromptTemplate.from_template(template)"
      ],
      "metadata": {
        "id": "SmbfTkR4VkGH"
      },
      "execution_count": null,
      "outputs": []
    },
    {
      "cell_type": "code",
      "source": [
        "from langchain_upstage import ChatUpstage\n",
        "# Model\n",
        "llm = ChatUpstage()\n",
        "\n",
        "# Chain\n",
        "chain = prompt | llm | StrOutputParser()\n",
        "\n",
        "\n",
        "# Run\n",
        "response = chain.invoke({'context': (format_docs(docs)), 'question':query})\n",
        "response"
      ],
      "metadata": {
        "colab": {
          "base_uri": "https://localhost:8080/",
          "height": 144
        },
        "id": "zvlZ6JZmVkHk",
        "outputId": "17ec7f74-c070-4d14-b995-1b16a6d0bcbd"
      },
      "execution_count": null,
      "outputs": [
        {
          "output_type": "execute_result",
          "data": {
            "text/plain": [
              "'2021년 4월 21일, 서동용 의원은 지방사립대, 지방 거점 국립대, 전문대학의 신입생 미충원 문제와 이에 대한 정부의 대응책에 대해 물었습니다. 이에 대해 유은혜 의원은 지방대에 대한 중장기 기본계획을 수립하고, 지역과 대학이 협력하여 학생들이 지역의 대학에 입학하고 취업할 수 있는 여건을 만들기 위한 사업을 진행 중이라고 답변했습니다.\\n\\n2021년 2월 18일, 박찬대 의원은 법안의 취지를 살리되, 대통령령을 통해 필요한 부분을 조정할 수 있는 여지를 두는 것에 대해 정부 측의 의견을 물었습니다. 이에 대해 정종철 의원은 대학 선발 정책을 논의하는 과정에서 이러한 우려사항을 반영하고자 하며, 인구 소멸위험지역과 입학자원의 부족으로 인한 대학 선발의 자율성에 대한 우려를 표명했습니다.\\n\\n2017년 5월 25일, 경대수 의원은 새로운 공과대학 설립이 광주와 전남 지역 대학 수급 문제와 관련하여 우려를 일으킬 수 있는데, 한전이 이미 설립한 대학원 대학교가 정원을 채우지 못하고 있는 상황에서 추가적인 대학 설립에 대한 우려는 없는지 물었습니다. 이에 대해 이낙연 의원은 한전공대 설립의 경위와 대답에 대해 준비되었다고 답변했습니다.\\n\\n2021년 5월 7일, 박재호 의원은 학령인구 감소와 출산율 하락으로 인한 대학 위기 상황, 특히 지방대학의 어려움을 지적하면서 정부의 적극적인 역할이 필요하다고 주장했습니다. 반상진 증인은 지방대학의 문제가 단순히 내부적인 노력으로 해결될 수 있는 문제가 아니며, 이를 사회정책의 일환으로 바라보아야 한다고 강조했습니다. 그는 지방대학이 무너질 경우 국가 균형발전에 큰 위기가 발생하며 대학의 기본체력이 약화되고 학벌 구조의 공고화가 진행될 것이라고 우려했습니다. 그러므로 정부는 대학에 대한 재정적 투입을 긴급히 제공하고 대학 체제 개편에 대한 진지한 논의와 제도 설계에 나서야 한다고 주장했습니다.'"
            ],
            "application/vnd.google.colaboratory.intrinsic+json": {
              "type": "string"
            }
          },
          "metadata": {},
          "execution_count": 80
        }
      ]
    },
    {
      "cell_type": "code",
      "source": [
        "from langchain.prompts import ChatPromptTemplate\n",
        "from langchain_core.output_parsers import StrOutputParser\n",
        "\n",
        "def format_docs(docs):\n",
        "    return '\\n\\n'.join([d.page_content for d in docs])\n",
        "\n",
        "query = '한국에서 진행한 저출산 관련 정책들에 대해 알려줘.'\n",
        "retriever = vectorstore.as_retriever(k=5)\n",
        "\n",
        "docs = retriever.get_relevant_documents(query)\n",
        "\n",
        "# Prompt\n",
        "template = '''\n",
        "너는 정책과 법률에 대한 질문을 가진 국회의원들을 도와주는 똑똑한 전문가야. 국회의원들에게 답변해야 하기 때문에 최대한 정중하게 얘기해줘.\n",
        "\n",
        "질문을 주의 깊게 읽고 이해한 후 오직 이어지는 문맥에 기반해서만 답변해줘.\n",
        "\n",
        "답변을 지어내려고 하지 마:\n",
        "-만약 오직 문맥에 기반해서는 답할 수 없다면 ‘주어진 문맥만으로는 그 질문에 대해 답변할 수 없습니다.’라고 답변해줘.\n",
        "-만약 문맥이 존재하지 않는다면 ‘데이터베이스에서 해당 질문에 대한 적절한 답변을 찾지 못했습니다.’라고 답변해줘.\n",
        "\n",
        "답변을 할 때 시간순 및 이슈별로 정리해줘.\n",
        "\n",
        "문맥:\n",
        "{context}\n",
        "\n",
        "질문:\n",
        "{question}\n",
        "\n",
        "답변:\n",
        "\n",
        "\n",
        "'''\n",
        "\n",
        "prompt = ChatPromptTemplate.from_template(template)"
      ],
      "metadata": {
        "id": "qfNQc7NpVkKz"
      },
      "execution_count": null,
      "outputs": []
    },
    {
      "cell_type": "code",
      "source": [
        "from langchain_upstage import ChatUpstage\n",
        "# Model\n",
        "llm = ChatUpstage()\n",
        "\n",
        "# Chain\n",
        "chain = prompt | llm | StrOutputParser()\n",
        "\n",
        "\n",
        "# Run\n",
        "response = chain.invoke({'context': (format_docs(docs)), 'question':query})\n",
        "response"
      ],
      "metadata": {
        "colab": {
          "base_uri": "https://localhost:8080/",
          "height": 108
        },
        "id": "jNPrwWVjVkNE",
        "outputId": "3e989ef5-4fbc-4039-9736-d5b08973f68c"
      },
      "execution_count": null,
      "outputs": [
        {
          "output_type": "execute_result",
          "data": {
            "text/plain": [
              "'한국에서는 저출산 문제에 대응하기 위해 다양한 정책을 시행해왔습니다. 이에는 다음과 같은 것들이 포함됩니다:\\n\\n1. 출산 및 육아 지원: 출산장려금, 육아휴직, 육아지원금 등의 정책을 통해 출산 및 육아에 대한 경제적 지원을 제공합니다.\\n2. 보육 지원: 국공립 어린이집, 보육료 지원, 육아종합지원센터 등을 통해 보육 환경을 개선하고 부모들에게 보육 지원을 제공합니다.\\n3. 주거 지원: 신혼부부 및 다자녀 가구를 위한 주택 특별공급, 주거복지 지원 등의 정책을 통해 주거 문제를 해결하고 안정적인 주거 환경을 제공합니다.\\n4. 가족 친화적인 근로환경 조성: 유연근무제, 가족돌봄휴가 등의 정책을 통해 가족 친화적인 근로환경을 조성하고 일과 가정의 양립을 지원합니다.\\n5. 교육 지원: 유아교육, 초등돌봄교실, 교육비 지원 등의 정책을 통해 교육 부담을 경감하고 교육의 질을 향상시킵니다.\\n6. 인식 개선: 저출산 문제에 대한 인식 개선을 위한 캠페인, 교육 프로그램 등을 통해 사회적인 인식을 변화시키고 저출산 문제에 대한 이해를 높입니다.\\n\\n이러한 정책들은 저출산 문제를 해결하기 위해 다양한 측면에서 접근하고 있으며, 정부의 지속적인 노력과 사회적 관심이 필요합니다.'"
            ],
            "application/vnd.google.colaboratory.intrinsic+json": {
              "type": "string"
            }
          },
          "metadata": {},
          "execution_count": 84
        }
      ]
    },
    {
      "cell_type": "code",
      "source": [
        "from langchain.prompts import ChatPromptTemplate\n",
        "from langchain_core.output_parsers import StrOutputParser\n",
        "\n",
        "def format_docs(docs):\n",
        "    return '\\n\\n'.join([d.page_content for d in docs])\n",
        "\n",
        "query = '남북 군사 합의로 인한 비무장지대의 평화화가 안보에 대한 위협으로 여겨지는데, 현재 안보 유지와 평화화를 조율하는 방법에 대한 총리의 견해는 무엇인가요?'\n",
        "retriever = vectorstore.as_retriever(k=2)\n",
        "\n",
        "docs = retriever.get_relevant_documents(query)\n",
        "\n",
        "# Prompt\n",
        "template = '''\n",
        "너는 정책과 법률에 대한 질문을 가진 국회의원들을 도와주는 똑똑한 전문가야. 국회의원들에게 답변해야 하기 때문에 최대한 정중하게 얘기해줘.\n",
        "\n",
        "질문을 주의 깊게 읽고 이해한 후 오직 이어지는 문맥에 기반해서만 답변해줘.\n",
        "\n",
        "답변을 지어내려고 하지 마:\n",
        "-만약 오직 문맥에 기반해서는 답할 수 없다면 ‘주어진 문맥만으로는 그 질문에 대해 답변할 수 없습니다.’라고 답변해줘.\n",
        "-만약 문맥이 존재하지 않는다면 ‘데이터베이스에서 해당 질문에 대한 적절한 답변을 찾지 못했습니다.’라고 답변해줘.\n",
        "\n",
        "답변을 할 때 시간순 및 이슈별로 정리해줘.\n",
        "\n",
        "문맥:\n",
        "{context}\n",
        "\n",
        "질문:\n",
        "{question}\n",
        "\n",
        "답변:\n",
        "\n",
        "\n",
        "'''\n",
        "\n",
        "prompt = ChatPromptTemplate.from_template(template)"
      ],
      "metadata": {
        "id": "oJk1pw_SVkPY"
      },
      "execution_count": null,
      "outputs": []
    },
    {
      "cell_type": "code",
      "source": [
        "from langchain_upstage import ChatUpstage\n",
        "# Model\n",
        "llm = ChatUpstage()\n",
        "\n",
        "# Chain\n",
        "chain = prompt | llm | StrOutputParser()\n",
        "\n",
        "\n",
        "# Run\n",
        "response = chain.invoke({'context': (format_docs(docs)), 'question':query})\n",
        "response"
      ],
      "metadata": {
        "colab": {
          "base_uri": "https://localhost:8080/",
          "height": 71
        },
        "id": "CJEr8rMfVkRl",
        "outputId": "83419d16-f2e8-46df-b6b8-2bda6643611d"
      },
      "execution_count": null,
      "outputs": [
        {
          "output_type": "execute_result",
          "data": {
            "text/plain": [
              "'문맥을 보면, 총리는 군사 합의로 인한 지역 안보 변화에 대한 논란이 있음에도 불구하고, 안보를 유지하면서도 평화적인 과정을 통해 협력 가능한 해결책을 모색해야 한다고 말했습니다. 총리는 실제 위협이 될 수 있는 사항에 대해 신중하게 대응해야 한다고 밝혔습니다.\\n\\n주어진 문맥을 바탕으로 답변하면, 총리는 남북 군사 합의로 인한 비무장지대의 평화화가 안보에 대한 위협으로 여겨지는 것에 대해, 안보를 유지하면서도 평화적인 과정을 통해 협력 가능한 해결책을 모색해야 한다고 생각합니다. 총리는 실제 위협이 될 수 있는 사항에 대해 신중하게 대응해야 한다고 밝혔습니다.'"
            ],
            "application/vnd.google.colaboratory.intrinsic+json": {
              "type": "string"
            }
          },
          "metadata": {},
          "execution_count": 86
        }
      ]
    },
    {
      "cell_type": "code",
      "source": [
        "from langchain.prompts import ChatPromptTemplate\n",
        "from langchain_core.output_parsers import StrOutputParser\n",
        "\n",
        "def format_docs(docs):\n",
        "    return '\\n\\n'.join([d.page_content for d in docs])\n",
        "\n",
        "query = '브라질 대사관의 소셜미디어 운영은 어떻게 이뤄지고 있나요?'\n",
        "retriever = vectorstore.as_retriever(k=2)\n",
        "\n",
        "docs = retriever.get_relevant_documents(query)\n",
        "\n",
        "# Prompt\n",
        "template = '''\n",
        "너는 정책과 법률에 대한 질문을 가진 국회의원들을 도와주는 똑똑한 전문가야. 국회의원들에게 답변해야 하기 때문에 최대한 정중하게 얘기해줘.\n",
        "\n",
        "질문을 주의 깊게 읽고 이해한 후 오직 이어지는 문맥에 기반해서만 답변해줘.\n",
        "\n",
        "답변을 지어내려고 하지 마:\n",
        "-만약 오직 문맥에 기반해서는 답할 수 없다면 ‘주어진 문맥만으로는 그 질문에 대해 답변할 수 없습니다.’라고 답변해줘.\n",
        "-만약 문맥이 존재하지 않는다면 ‘데이터베이스에서 해당 질문에 대한 적절한 답변을 찾지 못했습니다.’라고 답변해줘.\n",
        "\n",
        "답변을 할 때 시간순 및 이슈별로 정리해줘.\n",
        "\n",
        "문맥:\n",
        "{context}\n",
        "\n",
        "질문:\n",
        "{question}\n",
        "\n",
        "답변:\n",
        "\n",
        "\n",
        "'''\n",
        "\n",
        "prompt = ChatPromptTemplate.from_template(template)"
      ],
      "metadata": {
        "id": "zYCzUOSvVkT4"
      },
      "execution_count": null,
      "outputs": []
    },
    {
      "cell_type": "code",
      "source": [
        "from langchain_upstage import ChatUpstage\n",
        "# Model\n",
        "llm = ChatUpstage()\n",
        "\n",
        "# Chain\n",
        "chain = prompt | llm | StrOutputParser()\n",
        "\n",
        "\n",
        "# Run\n",
        "response = chain.invoke({'context': (format_docs(docs)), 'question':query})\n",
        "response"
      ],
      "metadata": {
        "colab": {
          "base_uri": "https://localhost:8080/",
          "height": 71
        },
        "id": "hT-KTE-vVkWF",
        "outputId": "ff3ccc4d-28b9-4716-aca6-aeeea3730645"
      },
      "execution_count": null,
      "outputs": [
        {
          "output_type": "execute_result",
          "data": {
            "text/plain": [
              "'주어진 문맥에 따르면, 브라질 대사관은 현지 젊은이들을 중심으로 자체적으로 개발한 질 좋은 콘텐츠를 게시함으로써 소셜미디어를 운영하고 있습니다. 이를 통해 자발적이고 자연스러운 방식으로 팔로우쉽을 강화하고, 주변 사람들에게 확산되는 주요한 계기가 되었다고 합니다. 또한, 인스타그램에서 어떤 콘텐츠가 높은 파급효과를 보이는지 분석하고 이를 다른 남미 대사관들과 공유함으로써, 전반적인 홍보 전략에 도움이 될 수 있으며 K-콘텐츠나 한국 문화를 알리는 데 매우 유용한 도구가 될 것이라고 언급되었습니다.'"
            ],
            "application/vnd.google.colaboratory.intrinsic+json": {
              "type": "string"
            }
          },
          "metadata": {},
          "execution_count": 88
        }
      ]
    },
    {
      "cell_type": "code",
      "source": [
        "from langchain.prompts import ChatPromptTemplate\n",
        "from langchain_core.output_parsers import StrOutputParser\n",
        "\n",
        "def format_docs(docs):\n",
        "    return '\\n\\n'.join([d.page_content for d in docs])\n",
        "\n",
        "query = '콘텐츠진흥원이 임대한 공간은 어디이며 어떤 목적으로 사용하고 있나요?'\n",
        "retriever = vectorstore.as_retriever(k=2)\n",
        "\n",
        "docs = retriever.get_relevant_documents(query)\n",
        "\n",
        "# Prompt\n",
        "template = '''\n",
        "너는 정책과 법률에 대한 질문을 가진 국회의원들을 도와주는 똑똑한 전문가야. 국회의원들에게 답변해야 하기 때문에 최대한 정중하게 얘기해줘.\n",
        "\n",
        "질문을 주의 깊게 읽고 이해한 후 오직 이어지는 문맥에 기반해서만 답변해줘.\n",
        "\n",
        "답변을 지어내려고 하지 마:\n",
        "-만약 오직 문맥에 기반해서는 답할 수 없다면 ‘주어진 문맥만으로는 그 질문에 대해 답변할 수 없습니다.’라고 답변해줘.\n",
        "-만약 문맥이 존재하지 않는다면 ‘데이터베이스에서 해당 질문에 대한 적절한 답변을 찾지 못했습니다.’라고 답변해줘.\n",
        "\n",
        "답변을 할 때 시간순 및 이슈별로 정리해줘.\n",
        "\n",
        "문맥:\n",
        "{context}\n",
        "\n",
        "질문:\n",
        "{question}\n",
        "\n",
        "답변:\n",
        "\n",
        "\n",
        "'''\n",
        "\n",
        "prompt = ChatPromptTemplate.from_template(template)"
      ],
      "metadata": {
        "id": "v-UgUQo3VkYU"
      },
      "execution_count": null,
      "outputs": []
    },
    {
      "cell_type": "code",
      "source": [
        "from langchain_upstage import ChatUpstage\n",
        "# Model\n",
        "llm = ChatUpstage()\n",
        "\n",
        "# Chain\n",
        "chain = prompt | llm | StrOutputParser()\n",
        "\n",
        "\n",
        "# Run\n",
        "response = chain.invoke({'context': (format_docs(docs)), 'question':query})\n",
        "response"
      ],
      "metadata": {
        "colab": {
          "base_uri": "https://localhost:8080/",
          "height": 35
        },
        "id": "oco-pM-UVkac",
        "outputId": "388446be-03ff-4593-ca9f-468df16de251"
      },
      "execution_count": null,
      "outputs": [
        {
          "output_type": "execute_result",
          "data": {
            "text/plain": [
              "'문맥에서 콘텐츠진흥원이 임대한 공간에 대한 정보는 제공되지 않았습니다. 추가 정보가 필요합니다.'"
            ],
            "application/vnd.google.colaboratory.intrinsic+json": {
              "type": "string"
            }
          },
          "metadata": {},
          "execution_count": 90
        }
      ]
    },
    {
      "cell_type": "code",
      "source": [
        "from langchain.prompts import ChatPromptTemplate\n",
        "from langchain_core.output_parsers import StrOutputParser\n",
        "\n",
        "def format_docs(docs):\n",
        "    return '\\n\\n'.join([d.page_content for d in docs])\n",
        "\n",
        "query = '핵무기 확산 가능성에 대비하여 정부는 어떤 대응책과 국제사회와의 협조 방안을 고려하고 있나요?'\n",
        "retriever = vectorstore.as_retriever(k=2)\n",
        "\n",
        "docs = retriever.get_relevant_documents(query)\n",
        "\n",
        "# Prompt\n",
        "template = '''\n",
        "너는 정책과 법률에 대한 질문을 가진 국회의원들을 도와주는 똑똑한 전문가야. 국회의원들에게 답변해야 하기 때문에 최대한 정중하게 얘기해줘.\n",
        "\n",
        "질문을 주의 깊게 읽고 이해한 후 오직 이어지는 문맥에 기반해서만 답변해줘.\n",
        "\n",
        "답변을 지어내려고 하지 마:\n",
        "-만약 오직 문맥에 기반해서는 답할 수 없다면 ‘주어진 문맥만으로는 그 질문에 대해 답변할 수 없습니다.’라고 답변해줘.\n",
        "-만약 문맥이 존재하지 않는다면 ‘데이터베이스에서 해당 질문에 대한 적절한 답변을 찾지 못했습니다.’라고 답변해줘.\n",
        "\n",
        "답변을 할 때 시간순 및 이슈별로 정리해줘.\n",
        "\n",
        "문맥:\n",
        "{context}\n",
        "\n",
        "질문:\n",
        "{question}\n",
        "\n",
        "답변:\n",
        "\n",
        "\n",
        "'''\n",
        "\n",
        "prompt = ChatPromptTemplate.from_template(template)"
      ],
      "metadata": {
        "id": "YBFYMrQnVkeg"
      },
      "execution_count": null,
      "outputs": []
    },
    {
      "cell_type": "code",
      "source": [
        "from langchain_upstage import ChatUpstage\n",
        "# Model\n",
        "llm = ChatUpstage()\n",
        "\n",
        "# Chain\n",
        "chain = prompt | llm | StrOutputParser()\n",
        "\n",
        "\n",
        "# Run\n",
        "response = chain.invoke({'context': (format_docs(docs)), 'question':query})\n",
        "response"
      ],
      "metadata": {
        "colab": {
          "base_uri": "https://localhost:8080/",
          "height": 53
        },
        "id": "NinIBAtfVkgq",
        "outputId": "e79fd0fb-3256-4585-9810-8250ebd0e855"
      },
      "execution_count": null,
      "outputs": [
        {
          "output_type": "execute_result",
          "data": {
            "text/plain": [
              "'핵무기 확산은 현대의 글로벌 안보 상황에서 심각한 위협으로 다가올 수 있습니다. 따라서 정부는 핵 확산에 대비하여 국제사회와의 협조를 통해 효과적으로 대응할 계획입니다. 이러한 대응책은 정부의 단호한 입장과 함께 국제사회와의 협조를 통해 실현될 것이며, 정부는 전방위적인 안보 대비 태세를 강화하여 과거보다 더욱 효과적으로 대응할 수 있도록 모든 역량을 집중시키겠습니다.'"
            ],
            "application/vnd.google.colaboratory.intrinsic+json": {
              "type": "string"
            }
          },
          "metadata": {},
          "execution_count": 92
        }
      ]
    },
    {
      "cell_type": "markdown",
      "source": [
        "# 프롬프트 영어"
      ],
      "metadata": {
        "id": "3yN1rdwxVsLx"
      }
    },
    {
      "cell_type": "code",
      "source": [
        "from langchain.prompts import ChatPromptTemplate\n",
        "from langchain_core.output_parsers import StrOutputParser\n",
        "\n",
        "def format_docs(docs):\n",
        "    return '\\n\\n'.join([d.page_content for d in docs])\n",
        "\n",
        "query = '무역적자에 관한 한덕수 의원님의 발언에 대해 알려줘.'\n",
        "retriever = vectorstore.as_retriever(k=3)\n",
        "\n",
        "docs = retriever.get_relevant_documents(query)\n",
        "\n",
        "# Prompt\n",
        "template = '''\n",
        "You are an intelligent assistant helping the members of the Korean National Assembly with questions related to law and policy. As you will respond to the Korean National Assembly, you must answer politely.\n",
        "Read the given questions carefully and give the answer in Korean ONLY using the following pieces of the context.\n",
        "\n",
        "Do not try to make up an answer:\n",
        " - If the answer to the question cannot be determined from the context alone, say \"I cannot determine the answer to that.\"\n",
        " - If the context is empty, just say \"I do not know the answer to that.\"\n",
        "\n",
        "\n",
        "\n",
        "Context: {context}\n",
        "\n",
        "Question: {question}\n",
        "\n",
        "Answer:\n",
        "\n",
        "\n",
        "'''\n",
        "\n",
        "prompt = ChatPromptTemplate.from_template(template)"
      ],
      "metadata": {
        "id": "iegO6LscVkiw"
      },
      "execution_count": null,
      "outputs": []
    },
    {
      "cell_type": "code",
      "source": [
        "from langchain_upstage import ChatUpstage\n",
        "# Model\n",
        "llm = ChatUpstage()\n",
        "\n",
        "# Chain\n",
        "chain = prompt | llm | StrOutputParser()\n",
        "\n",
        "\n",
        "# Run\n",
        "response = chain.invoke({'context': (format_docs(docs)), 'question':query})\n",
        "response"
      ],
      "metadata": {
        "colab": {
          "base_uri": "https://localhost:8080/",
          "height": 54
        },
        "id": "MBvZQtUyVkk7",
        "outputId": "3997566b-7a03-4c39-eee2-9759bd893418"
      },
      "execution_count": null,
      "outputs": [
        {
          "output_type": "execute_result",
          "data": {
            "text/plain": [
              "'무역적자는 중국의 경제 성장 둔화, 중국의 산업 정책 변화로 인해 우리 나라의 중국 수출 가능성이 줄어들었기 때문에 발생했습니다. 또한, 중국의 글로벌 공급망 변화도 영향을 미치고 있습니다. 따라서, 우리는 미래 수출을 다각화하고 다변화할 필요가 있다고 생각합니다.'"
            ],
            "application/vnd.google.colaboratory.intrinsic+json": {
              "type": "string"
            }
          },
          "metadata": {},
          "execution_count": 74
        }
      ]
    },
    {
      "cell_type": "code",
      "source": [
        "from langchain.prompts import ChatPromptTemplate\n",
        "from langchain_core.output_parsers import StrOutputParser\n",
        "\n",
        "def format_docs(docs):\n",
        "    return '\\n\\n'.join([d.page_content for d in docs])\n",
        "\n",
        "query = '독도에 관해서 이철우 의원이 질문을 했나요?'\n",
        "retriever = vectorstore.as_retriever(k=2)\n",
        "\n",
        "docs = retriever.get_relevant_documents(query)\n",
        "\n",
        "# Prompt\n",
        "template = '''\n",
        "You are an intelligent assistant helping the members of the Korean National Assembly with questions related to law and policy. As you will respond to the Korean National Assembly, you must answer politely.\n",
        "Read the given questions carefully and give the answer in Korean ONLY using the following pieces of the context.\n",
        "\n",
        "Do not try to make up an answer:\n",
        " - If the answer to the question cannot be determined from the context alone, say \"I cannot determine the answer to that.\"\n",
        " - If the context is empty, just say \"I do not know the answer to that.\"\n",
        "\n",
        "Answer the question chronologically by issue.\n",
        "\n",
        "Context: {context}\n",
        "\n",
        "Question: {question}\n",
        "\n",
        "Answer:\n",
        "\n",
        "\n",
        "'''\n",
        "\n",
        "prompt = ChatPromptTemplate.from_template(template)"
      ],
      "metadata": {
        "id": "kWJKNxjnVkm8"
      },
      "execution_count": null,
      "outputs": []
    },
    {
      "cell_type": "code",
      "source": [
        "from langchain_upstage import ChatUpstage\n",
        "# Model\n",
        "llm = ChatUpstage()\n",
        "\n",
        "# Chain\n",
        "chain = prompt | llm | StrOutputParser()\n",
        "\n",
        "\n",
        "# Run\n",
        "response = chain.invoke({'context': (format_docs(docs)), 'question':query})\n",
        "response"
      ],
      "metadata": {
        "colab": {
          "base_uri": "https://localhost:8080/",
          "height": 35
        },
        "id": "arPABzYeVkp2",
        "outputId": "738cc023-0f26-439f-c9d2-3750d3236820"
      },
      "execution_count": null,
      "outputs": [
        {
          "output_type": "execute_result",
          "data": {
            "text/plain": [
              "'이철우 의원이 독도에 관한 질문을 한 내용에 대한 문맥은 제공되지 않았습니다.'"
            ],
            "application/vnd.google.colaboratory.intrinsic+json": {
              "type": "string"
            }
          },
          "metadata": {},
          "execution_count": 96
        }
      ]
    },
    {
      "cell_type": "code",
      "source": [
        "from langchain.prompts import ChatPromptTemplate\n",
        "from langchain_core.output_parsers import StrOutputParser\n",
        "\n",
        "def format_docs(docs):\n",
        "    return '\\n\\n'.join([d.page_content for d in docs])\n",
        "\n",
        "query = '평준화 교육에 관한 조성윤의 발언이 있어?'\n",
        "retriever = vectorstore.as_retriever(k=2)\n",
        "\n",
        "docs = retriever.get_relevant_documents(query)\n",
        "\n",
        "# Prompt\n",
        "template = '''\n",
        "You are an intelligent assistant helping the members of the Korean National Assembly with questions related to law and policy. As you will respond to the Korean National Assembly, you must answer politely.\n",
        "Read the given questions carefully and give the answer in Korean ONLY using the following pieces of the context.\n",
        "\n",
        "Do not try to make up an answer:\n",
        " - If the answer to the question cannot be determined from the context alone, say \"I cannot determine the answer to that.\"\n",
        " - If the context is empty, just say \"I do not know the answer to that.\"\n",
        "\n",
        "\n",
        "Context: {context}\n",
        "\n",
        "Question: {question}\n",
        "\n",
        "Answer:\n",
        "\n",
        "\n",
        "'''\n",
        "\n",
        "prompt = ChatPromptTemplate.from_template(template)"
      ],
      "metadata": {
        "id": "oSfFTQOwXxoo"
      },
      "execution_count": null,
      "outputs": []
    },
    {
      "cell_type": "code",
      "source": [
        "from langchain_upstage import ChatUpstage\n",
        "# Model\n",
        "llm = ChatUpstage()\n",
        "\n",
        "# Chain\n",
        "chain = prompt | llm | StrOutputParser()\n",
        "\n",
        "\n",
        "# Run\n",
        "response = chain.invoke({'context': (format_docs(docs)), 'question':query})\n",
        "response"
      ],
      "metadata": {
        "colab": {
          "base_uri": "https://localhost:8080/",
          "height": 108
        },
        "id": "DWFp5t8dXxw3",
        "outputId": "ceabfab7-9f55-4952-e35e-577a627f9f52"
      },
      "execution_count": null,
      "outputs": [
        {
          "output_type": "execute_result",
          "data": {
            "text/plain": [
              "'죄송합니다. 제가 이해한 바로는 교육기본법 17조에 대한 질문이신 것 같습니다. 교육기본법 17조에는 교육에서의 평등과 윤리, 그리고 특별한 가치관을 고양하는 여러 항목들이 명시되어 있습니다. 이러한 규정은 교육 현장에 매우 중요한 영향을 미치며, 학습 환경과 경험에 구체성을 부여하는데 도움을 줍니다. 남녀평등교육(17조의2), 학습윤리 확립(17조의3), 건전한 성의식 함양(17조의4), 안전사고 예방(17조의5), 평화적 통일 지향(17조의6)까지의 다양한 주제들은 학교 교육의 기본 틀을 마련해 줍니다. 이러한 조항들을 바탕으로 학교와 교육 기관들은 정책과 프로그램을 개발하고, 장애학생을 포함하여 모든 학생에게 평등한 교육을 제공하는 방안을 찾기 위해 노력합니다. 특히 장애인교육의 증진 같은 새로운 제안들은 교육의 포괄성과 접근성을 높이는 방향으로 교육 정책을 확장시키는 데 기여하고 있습니다. 이러한 법적 근거 위에, 각 학교와 교사들은 개별 학생들의 필요와 배경을 고려하여 교육의 내용과 방법을 조정할 수 있는 유연성을 갖게 되고, 교육의 질을 향상시키며 모든 학생에게 공평한 기회를 제공할 수 있는 조건을 확립하고 있습니다.'"
            ],
            "application/vnd.google.colaboratory.intrinsic+json": {
              "type": "string"
            }
          },
          "metadata": {},
          "execution_count": 98
        }
      ]
    },
    {
      "cell_type": "code",
      "source": [
        "from langchain.prompts import ChatPromptTemplate\n",
        "from langchain_core.output_parsers import StrOutputParser\n",
        "\n",
        "def format_docs(docs):\n",
        "    return '\\n\\n'.join([d.page_content for d in docs])\n",
        "\n",
        "query = '공공의료대학에 관해서 누가 어떤 말을 했어?'\n",
        "retriever = vectorstore.as_retriever(k=3)\n",
        "\n",
        "docs = retriever.get_relevant_documents(query)\n",
        "\n",
        "# Prompt\n",
        "template = '''\n",
        "You are an intelligent assistant helping the members of the Korean National Assembly with questions related to law and policy. As you will respond to the Korean National Assembly, you must answer politely.\n",
        "Read the given questions carefully and give the answer in Korean ONLY using the following pieces of the context.\n",
        "\n",
        "Do not try to make up an answer:\n",
        " - If the answer to the question cannot be determined from the context alone, say \"I cannot determine the answer to that.\"\n",
        " - If the context is empty, just say \"I do not know the answer to that.\"\n",
        "\n",
        "\n",
        "\n",
        "Context: {context}\n",
        "\n",
        "Question: {question}\n",
        "\n",
        "Answer:\n",
        "\n",
        "\n",
        "'''\n",
        "\n",
        "prompt = ChatPromptTemplate.from_template(template)"
      ],
      "metadata": {
        "id": "OTwmUMAZXyf1"
      },
      "execution_count": null,
      "outputs": []
    },
    {
      "cell_type": "code",
      "source": [
        "from langchain_upstage import ChatUpstage\n",
        "# Model\n",
        "llm = ChatUpstage()\n",
        "\n",
        "# Chain\n",
        "chain = prompt | llm | StrOutputParser()\n",
        "\n",
        "\n",
        "# Run\n",
        "response = chain.invoke({'context': (format_docs(docs)), 'question':query})\n",
        "response"
      ],
      "metadata": {
        "colab": {
          "base_uri": "https://localhost:8080/",
          "height": 54
        },
        "id": "r6dgcAS6Xymg",
        "outputId": "f83e1148-3560-473f-d326-dd4e0c7af660"
      },
      "execution_count": null,
      "outputs": [
        {
          "output_type": "execute_result",
          "data": {
            "text/plain": [
              "'공공의료대학은 최도자 의원이 국립공공의료대학원의 설립 취지에 대해 질문하고, 정세균 의원이 공공의료대학 설립 법안에 대한 정부의 노력과 국회의 역할에 대한 의견을 제시한 문제입니다. 배준영 의원이 윤환중 병원장에게 공공의대 신설에 대한 의견을 물었고, 김광수 의원이 유은혜 의원에게 공공의대 설립과 공공의료 확충에 대한 요청에 대한 의견을 물었습니다.'"
            ],
            "application/vnd.google.colaboratory.intrinsic+json": {
              "type": "string"
            }
          },
          "metadata": {},
          "execution_count": 76
        }
      ]
    },
    {
      "cell_type": "code",
      "source": [
        "from langchain.prompts import ChatPromptTemplate\n",
        "from langchain_core.output_parsers import StrOutputParser\n",
        "\n",
        "def format_docs(docs):\n",
        "    return '\\n\\n'.join([d.page_content for d in docs])\n",
        "\n",
        "query = '대학 미충원 인원에 관한 의원들의 발언들을 알려줘.'\n",
        "retriever = vectorstore.as_retriever(k=3)\n",
        "\n",
        "docs = retriever.get_relevant_documents(query)\n",
        "\n",
        "# Prompt\n",
        "template = '''\n",
        "You are an intelligent assistant helping the members of the Korean National Assembly with questions related to law and policy. As you will respond to the Korean National Assembly, you must answer politely.\n",
        "Read the given questions carefully and give the answer in Korean ONLY using the following pieces of the context.\n",
        "\n",
        "Do not try to make up an answer:\n",
        " - If the answer to the question cannot be determined from the context alone, say \"I cannot determine the answer to that.\"\n",
        " - If the context is empty, just say \"I do not know the answer to that.\"\n",
        "\n",
        "\n",
        "Context: {context}\n",
        "\n",
        "Question: {question} 구체적으로 시간순으로 답변해줘.\n",
        "\n",
        "Answer:\n",
        "\n",
        "\n",
        "'''\n",
        "\n",
        "prompt = ChatPromptTemplate.from_template(template)"
      ],
      "metadata": {
        "id": "9nDDC-jxXys2"
      },
      "execution_count": null,
      "outputs": []
    },
    {
      "cell_type": "code",
      "source": [
        "from langchain_upstage import ChatUpstage\n",
        "# Model\n",
        "llm = ChatUpstage()\n",
        "\n",
        "# Chain\n",
        "chain = prompt | llm | StrOutputParser()\n",
        "\n",
        "\n",
        "# Run\n",
        "response = chain.invoke({'context': (format_docs(docs)), 'question':query})\n",
        "response"
      ],
      "metadata": {
        "colab": {
          "base_uri": "https://localhost:8080/",
          "height": 129
        },
        "id": "fBCgWtaLXyy0",
        "outputId": "c2e26c56-8c96-4d61-f9fa-0159fe15fe86"
      },
      "execution_count": null,
      "outputs": [
        {
          "output_type": "execute_result",
          "data": {
            "text/plain": [
              "'2017년 5월 25일, 경대수 의원은 새로운 공과대학 설립이 광주와 전남 지역 대학 수급 문제와 관련하여 우려를 일으킬 수 있는데, 한전이 이미 설립한 대학원 대학교가 정원을 채우지 못하고 있는 상황에서 추가적인 대학 설립에 대한 우려는 없는지에 대해 질문했습니다.\\n\\n2021년 2월 18일, 박찬대 의원은 법안 취지와 대통령령에 대한 정부 의견을 물었으며, 정부는 인구 소멸위험지역과 대학의 입학자원 부족 문제에 대한 우려를 표명하고, 대학 선발 정책을 논의하는 과정에서 이러한 우려사항을 반영하고자 한다는 입장을 밝혔습니다.\\n\\n2021년 4월 21일, 서동용 의원은 올해 대학 및 전문대의 신입생 미충원 문제가 심각한데, 이에 대한 정부의 대응책이 있는지에 대해 질문했습니다. 이에 대해 유은혜 장관은 지방대에 대한 중장기 기본계획을 수립하여 지역과 대학이 협력하여 학생들이 지역의 대학에 입학하고 취업할 수 있는 여건을 만들기 위한 사업을 진행 중이며, 국회 상임위에서도 여야 위원들이 협의를 통해 대안을 마련하고 있다고 답변했습니다.\\n\\n2021년 5월 7일, 박재호 의원은 대학의 위기 상황에 대한 정부의 역할에 대해 반상진 증인의 주장을 물었으며, 반상진 증인은 정부의 적극적인 역할이 필요하다고 주장하며, 지방대학의 문제가 단순히 내부적인 노력으로 해결될 수 있는 문제가 아니며, 이를 사회정책의 일환으로 바라보아야 한다고 강조했습니다.'"
            ],
            "application/vnd.google.colaboratory.intrinsic+json": {
              "type": "string"
            }
          },
          "metadata": {},
          "execution_count": 80
        }
      ]
    },
    {
      "cell_type": "code",
      "source": [
        "from langchain.prompts import ChatPromptTemplate\n",
        "from langchain_core.output_parsers import StrOutputParser\n",
        "\n",
        "def format_docs(docs):\n",
        "    return '\\n\\n'.join([d.page_content for d in docs])\n",
        "\n",
        "query = '한국에서 진행한 저출산 관련 정책들에 대해 알려줘.'\n",
        "retriever = vectorstore.as_retriever(k=5)\n",
        "\n",
        "docs = retriever.get_relevant_documents(query)\n",
        "\n",
        "# Prompt\n",
        "template = '''\n",
        "You are an intelligent assistant helping the members of the Korean National Assembly with questions related to law and policy. As you will respond to the Korean National Assembly, you must answer politely.\n",
        "Read the given questions carefully and give the answer in Korean ONLY using the following pieces of the context.\n",
        "\n",
        "Do not try to make up an answer:\n",
        " - If the answer to the question cannot be determined from the context alone, say \"I cannot determine the answer to that.\"\n",
        " - If the context is empty, just say \"I do not know the answer to that.\"\n",
        "\n",
        "\n",
        "Context: {context}\n",
        "\n",
        "Question: {question}\n",
        "\n",
        "Answer chronologically:\n",
        "\n",
        "\n",
        "'''\n",
        "\n",
        "prompt = ChatPromptTemplate.from_template(template)"
      ],
      "metadata": {
        "id": "yM5RRjr0Xy7X"
      },
      "execution_count": null,
      "outputs": []
    },
    {
      "cell_type": "code",
      "source": [
        "from langchain_upstage import ChatUpstage\n",
        "# Model\n",
        "llm = ChatUpstage()\n",
        "\n",
        "# Chain\n",
        "chain = prompt | llm | StrOutputParser()\n",
        "\n",
        "\n",
        "# Run\n",
        "response = chain.invoke({'context': (format_docs(docs)), 'question':query})\n",
        "response"
      ],
      "metadata": {
        "colab": {
          "base_uri": "https://localhost:8080/",
          "height": 148
        },
        "id": "El1crs9QXzBt",
        "outputId": "51df541c-7a20-47c9-ec38-b5c2ce9b591f"
      },
      "execution_count": null,
      "outputs": [
        {
          "output_type": "execute_result",
          "data": {
            "text/plain": [
              "'한국에서 진행한 저출산 관련 정책들은 다음과 같습니다.\\n\\n1. 1차 저출산 대책 기본계획 (2006년): 출산율 저하 문제에 대한 첫 번째 국가적 대책으로, 출산 및 육아 지원, 일-가정 균형 지원, 인구구조 변화 대응 등을 포함했습니다.\\n2. 2차 저출산 대책 기본계획 (2011년): 출산율 저하 문제에 대한 두 번째 국가적 대책으로, 출산 및 육아 지원, 일-가정 균형 지원, 인구구조 변화 대응 등을 강화했습니다.\\n3. 3차 저출산 대책 기본계획 (2016년): 출산율 저하 문제에 대한 세 번째 국가적 대책으로, 주거 및 취업 문제 등에 더욱 중점을 두었습니다.\\n4. 아동수당: 2018년부터 만 6세 미만 아동에게 매월 일정액의 수당을 지급하여 아동의 건강한 성장과 부모의 양육 부담을 경감시켰습니다.\\n5. 출산휴가 및 육아휴직 제도: 여성의 출산 및 육아를 지원하기 위해 출산휴가 및 육아휴직 제도를 강화하고, 남성의 육아휴직 사용을 촉진하는 정책을 추진했습니다.\\n6. 국공립 어린이집 확충: 보육의 질을 향상시키기 위해 국공립 어린이집을 확충하고, 보육교사의 처우 개선을 추진했습니다.\\n7. 다자녀 가정 지원: 다자녀 가정에 대한 주거 지원, 교육 지원, 출산 지원 등의 정책을 통해 다자녀 가정의 경제적 부담을 경감시켰습니다.\\n8. 난임 부부 지원: 난임 부부에게 인공수정 및 체외수정 등의 시술비를 지원하여 출산율을 높이려는 노력을 기울였습니다.\\n\\n이러한 정책들은 저출산 문제에 대응하기 위해 다양한 측면에서 추진되었으며, 정부의 저출산 대책 기본계획을 중심으로 추진되었습니다.'"
            ],
            "application/vnd.google.colaboratory.intrinsic+json": {
              "type": "string"
            }
          },
          "metadata": {},
          "execution_count": 70
        }
      ]
    },
    {
      "cell_type": "code",
      "source": [
        "from langchain.prompts import ChatPromptTemplate\n",
        "from langchain_core.output_parsers import StrOutputParser\n",
        "\n",
        "def format_docs(docs):\n",
        "    return '\\n\\n'.join([d.page_content for d in docs])\n",
        "\n",
        "query = '남북 군사 합의로 인한 비무장지대의 평화화가 안보에 대한 위협으로 여겨지는데, 현재 안보 유지와 평화화를 조율하는 방법에 대한 총리의 견해는 무엇인가요?'\n",
        "retriever = vectorstore.as_retriever(k=2)\n",
        "\n",
        "docs = retriever.get_relevant_documents(query)\n",
        "\n",
        "# Prompt\n",
        "template = '''\n",
        "You are an intelligent assistant helping the members of the Korean National Assembly with questions related to law and policy. As you will respond to the Korean National Assembly, you must answer politely.\n",
        "Read the given questions carefully and give the answer in Korean ONLY using the following pieces of the context.\n",
        "\n",
        "Do not try to make up an answer:\n",
        " - If the answer to the question cannot be determined from the context alone, say \"I cannot determine the answer to that.\"\n",
        " - If the context is empty, just say \"I do not know the answer to that.\"\n",
        "\n",
        "Answer the question chronologically by issue.\n",
        "\n",
        "Context: {context}\n",
        "\n",
        "Question: {question}\n",
        "\n",
        "Answer:\n",
        "\n",
        "\n",
        "'''\n",
        "\n",
        "prompt = ChatPromptTemplate.from_template(template)"
      ],
      "metadata": {
        "id": "Nqi2EKfHXzHV"
      },
      "execution_count": null,
      "outputs": []
    },
    {
      "cell_type": "code",
      "source": [
        "from langchain_upstage import ChatUpstage\n",
        "# Model\n",
        "llm = ChatUpstage()\n",
        "\n",
        "# Chain\n",
        "chain = prompt | llm | StrOutputParser()\n",
        "\n",
        "\n",
        "# Run\n",
        "response = chain.invoke({'context': (format_docs(docs)), 'question':query})\n",
        "response"
      ],
      "metadata": {
        "colab": {
          "base_uri": "https://localhost:8080/",
          "height": 53
        },
        "id": "AcvMZ6C0XzM_",
        "outputId": "9fb9ce7c-07c1-4e75-a54c-9115bdff55f2"
      },
      "execution_count": null,
      "outputs": [
        {
          "output_type": "execute_result",
          "data": {
            "text/plain": [
              "'문맥에 따르면, 총리는 군사 합의로 인한 지역 안보 변화에 대한 논란의 여지가 있음에도 불구하고, 안보를 유지하면서도 평화적인 과정을 통해 협력 가능한 해결책을 모색해야 한다고 이야기하고 있습니다. 또한, 실제 위협으로 이어질 수 있는 사항은 신중하게 대응해야 한다고 언급하고 있습니다.'"
            ],
            "application/vnd.google.colaboratory.intrinsic+json": {
              "type": "string"
            }
          },
          "metadata": {},
          "execution_count": 108
        }
      ]
    },
    {
      "cell_type": "code",
      "source": [
        "from langchain.prompts import ChatPromptTemplate\n",
        "from langchain_core.output_parsers import StrOutputParser\n",
        "\n",
        "def format_docs(docs):\n",
        "    return '\\n\\n'.join([d.page_content for d in docs])\n",
        "\n",
        "query = '브라질 대사관의 소셜미디어 운영은 어떻게 이뤄지고 있나요?'\n",
        "retriever = vectorstore.as_retriever(k=2)\n",
        "\n",
        "docs = retriever.get_relevant_documents(query)\n",
        "\n",
        "# Prompt\n",
        "template = '''\n",
        "You are an intelligent assistant helping the members of the Korean National Assembly with questions related to law and policy. As you will respond to the Korean National Assembly, you must answer politely.\n",
        "Read the given questions carefully and give the answer in Korean ONLY using the following pieces of the context.\n",
        "\n",
        "Do not try to make up an answer:\n",
        " - If the answer to the question cannot be determined from the context alone, say \"I cannot determine the answer to that.\"\n",
        " - If the context is empty, just say \"I do not know the answer to that.\"\n",
        "\n",
        "Answer the question chronologically by issue.\n",
        "\n",
        "Context: {context}\n",
        "\n",
        "Question: {question}\n",
        "\n",
        "Answer:\n",
        "\n",
        "\n",
        "'''\n",
        "\n",
        "prompt = ChatPromptTemplate.from_template(template)"
      ],
      "metadata": {
        "id": "A4vHHXsNXzS8"
      },
      "execution_count": null,
      "outputs": []
    },
    {
      "cell_type": "code",
      "source": [
        "from langchain_upstage import ChatUpstage\n",
        "# Model\n",
        "llm = ChatUpstage()\n",
        "\n",
        "# Chain\n",
        "chain = prompt | llm | StrOutputParser()\n",
        "\n",
        "\n",
        "# Run\n",
        "response = chain.invoke({'context': (format_docs(docs)), 'question':query})\n",
        "response"
      ],
      "metadata": {
        "colab": {
          "base_uri": "https://localhost:8080/",
          "height": 71
        },
        "id": "I9EuIs8JXzYW",
        "outputId": "2fbcad6a-36ed-4e19-87c6-b4f31451e1b5"
      },
      "execution_count": null,
      "outputs": [
        {
          "output_type": "execute_result",
          "data": {
            "text/plain": [
              "'브라질 대사관의 소셜미디어 운영은 K-pop, 오징어 게임과 같은 K-콘텐츠의 인기를 활용하여 현지 젊은이들을 중심으로 자체적으로 개발한 질 좋은 콘텐츠를 게시하는 방식으로 이루어지고 있습니다. 이를 통해 자발적이고 자연스러운 팔로우쉽을 강화하며, 주변 사람들에게 확산되는 주요한 계기가 되고 있습니다. 또한, 인스타그램에서 어떤 콘텐츠가 높은 파급효과를 보이는지 분석하고 이를 다른 남미 대사관들과 공유함으로써, 전반적인 홍보 전략에 도움이 되고 있습니다. 따라서, 대사관은 K-콘텐츠나 한국 문화를 알리는 데 매우 유용한 도구가 될 것입니다.'"
            ],
            "application/vnd.google.colaboratory.intrinsic+json": {
              "type": "string"
            }
          },
          "metadata": {},
          "execution_count": 110
        }
      ]
    },
    {
      "cell_type": "code",
      "source": [
        "from langchain.prompts import ChatPromptTemplate\n",
        "from langchain_core.output_parsers import StrOutputParser\n",
        "\n",
        "def format_docs(docs):\n",
        "    return '\\n\\n'.join([d.page_content for d in docs])\n",
        "\n",
        "query = '콘텐츠진흥원이 임대한 공간은 어디이며 어떤 목적으로 사용하고 있나요?'\n",
        "retriever = vectorstore.as_retriever(k=2)\n",
        "\n",
        "docs = retriever.get_relevant_documents(query)\n",
        "\n",
        "# Prompt\n",
        "template = '''\n",
        "You are an intelligent assistant helping the members of the Korean National Assembly with questions related to law and policy. As you will respond to the Korean National Assembly, you must answer politely.\n",
        "Read the given questions carefully and give the answer in Korean ONLY using the following pieces of the context.\n",
        "\n",
        "Do not try to make up an answer:\n",
        " - If the answer to the question cannot be determined from the context alone, say \"I cannot determine the answer to that.\"\n",
        " - If the context is empty, just say \"I do not know the answer to that.\"\n",
        "\n",
        "Answer the question chronologically by issue.\n",
        "\n",
        "Context: {context}\n",
        "\n",
        "Question: {question}\n",
        "\n",
        "Answer:\n",
        "\n",
        "\n",
        "'''\n",
        "\n",
        "prompt = ChatPromptTemplate.from_template(template)"
      ],
      "metadata": {
        "id": "JpIF8DtGXzeq"
      },
      "execution_count": null,
      "outputs": []
    },
    {
      "cell_type": "code",
      "source": [
        "from langchain_upstage import ChatUpstage\n",
        "# Model\n",
        "llm = ChatUpstage()\n",
        "\n",
        "# Chain\n",
        "chain = prompt | llm | StrOutputParser()\n",
        "\n",
        "\n",
        "# Run\n",
        "response = chain.invoke({'context': (format_docs(docs)), 'question':query})\n",
        "response"
      ],
      "metadata": {
        "colab": {
          "base_uri": "https://localhost:8080/",
          "height": 35
        },
        "id": "DnbCcRJGXzk5",
        "outputId": "922b6fe1-9f0f-450e-b7f0-8031f912e040"
      },
      "execution_count": null,
      "outputs": [
        {
          "output_type": "execute_result",
          "data": {
            "text/plain": [
              "'문맥에 따르면, 콘텐츠진흥원이 임대한 공간에 대한 구체적인 내용은 제공되지 않았습니다. 문맥에는 콘텐츠진흥원이 GKL과 임대 계약을 맺고 있다는 내용만 있습니다. 그러나 어떤 목적으로 사용하고 있는지는 언급되지 않았습니다.'"
            ],
            "application/vnd.google.colaboratory.intrinsic+json": {
              "type": "string"
            }
          },
          "metadata": {},
          "execution_count": 112
        }
      ]
    },
    {
      "cell_type": "code",
      "source": [
        "from langchain.prompts import ChatPromptTemplate\n",
        "from langchain_core.output_parsers import StrOutputParser\n",
        "\n",
        "def format_docs(docs):\n",
        "    return '\\n\\n'.join([d.page_content for d in docs])\n",
        "\n",
        "query = '핵무기 확산 가능성에 대비하여 정부는 어떤 대응책과 국제사회와의 협조 방안을 고려하고 있나요?'\n",
        "retriever = vectorstore.as_retriever(k=2)\n",
        "\n",
        "docs = retriever.get_relevant_documents(query)\n",
        "\n",
        "# Prompt\n",
        "template = '''\n",
        "You are an intelligent assistant helping the members of the Korean National Assembly with questions related to law and policy. As you will respond to the Korean National Assembly, you must answer politely.\n",
        "Read the given questions carefully and give the answer in Korean ONLY using the following pieces of the context.\n",
        "\n",
        "Do not try to make up an answer:\n",
        " - If the answer to the question cannot be determined from the context alone, say \"I cannot determine the answer to that.\"\n",
        " - If the context is empty, just say \"I do not know the answer to that.\"\n",
        "\n",
        "Answer the question chronologically by issue.\n",
        "\n",
        "Context: {context}\n",
        "\n",
        "Question: {question}\n",
        "\n",
        "Answer:\n",
        "\n",
        "\n",
        "'''\n",
        "\n",
        "prompt = ChatPromptTemplate.from_template(template)"
      ],
      "metadata": {
        "id": "xWB9EsjhXzqn"
      },
      "execution_count": null,
      "outputs": []
    },
    {
      "cell_type": "code",
      "source": [
        "from langchain_upstage import ChatUpstage\n",
        "# Model\n",
        "llm = ChatUpstage()\n",
        "\n",
        "# Chain\n",
        "chain = prompt | llm | StrOutputParser()\n",
        "\n",
        "\n",
        "# Run\n",
        "response = chain.invoke({'context': (format_docs(docs)), 'question':query})\n",
        "response"
      ],
      "metadata": {
        "colab": {
          "base_uri": "https://localhost:8080/",
          "height": 53
        },
        "id": "lBOqib0AXzwl",
        "outputId": "dfa87066-3716-46ec-e8c6-4505229a7d0a"
      },
      "execution_count": null,
      "outputs": [
        {
          "output_type": "execute_result",
          "data": {
            "text/plain": [
              "'핵무기 확산 가능성에 대비하여 정부는 국제사회와의 협력을 강화하여 적극적으로 대응할 계획입니다. 이러한 대응책은 우리의 단호한 입장과 함께 국제사회와의 협조를 통해 이루어질 것이며, 우리는 전방위적인 안보 대비태세를 강화하여 과거보다 더욱 효과적으로 대응할 수 있도록 최선을 다할 것입니다.'"
            ],
            "application/vnd.google.colaboratory.intrinsic+json": {
              "type": "string"
            }
          },
          "metadata": {},
          "execution_count": 114
        }
      ]
    },
    {
      "cell_type": "code",
      "source": [
        "!pip install gradio"
      ],
      "metadata": {
        "colab": {
          "base_uri": "https://localhost:8080/"
        },
        "id": "KrXV4b65n4Sv",
        "outputId": "4ae6a56f-eac2-4918-d3f3-21a5139632ff"
      },
      "execution_count": null,
      "outputs": [
        {
          "output_type": "stream",
          "name": "stdout",
          "text": [
            "Collecting gradio\n",
            "  Downloading gradio-5.1.0-py3-none-any.whl.metadata (15 kB)\n",
            "Collecting aiofiles<24.0,>=22.0 (from gradio)\n",
            "  Downloading aiofiles-23.2.1-py3-none-any.whl.metadata (9.7 kB)\n",
            "Requirement already satisfied: anyio<5.0,>=3.0 in /usr/local/lib/python3.10/dist-packages (from gradio) (3.7.1)\n",
            "Requirement already satisfied: fastapi<1.0 in /usr/local/lib/python3.10/dist-packages (from gradio) (0.115.2)\n",
            "Collecting ffmpy (from gradio)\n",
            "  Downloading ffmpy-0.4.0-py3-none-any.whl.metadata (2.9 kB)\n",
            "Collecting gradio-client==1.4.0 (from gradio)\n",
            "  Downloading gradio_client-1.4.0-py3-none-any.whl.metadata (7.1 kB)\n",
            "Requirement already satisfied: httpx>=0.24.1 in /usr/local/lib/python3.10/dist-packages (from gradio) (0.27.2)\n",
            "Collecting huggingface-hub>=0.25.1 (from gradio)\n",
            "  Downloading huggingface_hub-0.25.2-py3-none-any.whl.metadata (13 kB)\n",
            "Requirement already satisfied: jinja2<4.0 in /usr/local/lib/python3.10/dist-packages (from gradio) (3.1.4)\n",
            "Collecting markupsafe~=2.0 (from gradio)\n",
            "  Downloading MarkupSafe-2.1.5-cp310-cp310-manylinux_2_17_x86_64.manylinux2014_x86_64.whl.metadata (3.0 kB)\n",
            "Requirement already satisfied: numpy<3.0,>=1.0 in /usr/local/lib/python3.10/dist-packages (from gradio) (1.26.4)\n",
            "Requirement already satisfied: orjson~=3.0 in /usr/local/lib/python3.10/dist-packages (from gradio) (3.10.7)\n",
            "Requirement already satisfied: packaging in /usr/local/lib/python3.10/dist-packages (from gradio) (24.1)\n",
            "Requirement already satisfied: pandas<3.0,>=1.0 in /usr/local/lib/python3.10/dist-packages (from gradio) (2.2.2)\n",
            "Requirement already satisfied: pillow<11.0,>=8.0 in /usr/local/lib/python3.10/dist-packages (from gradio) (10.4.0)\n",
            "Requirement already satisfied: pydantic>=2.0 in /usr/local/lib/python3.10/dist-packages (from gradio) (2.9.2)\n",
            "Collecting pydub (from gradio)\n",
            "  Downloading pydub-0.25.1-py2.py3-none-any.whl.metadata (1.4 kB)\n",
            "Collecting python-multipart>=0.0.9 (from gradio)\n",
            "  Downloading python_multipart-0.0.12-py3-none-any.whl.metadata (1.9 kB)\n",
            "Requirement already satisfied: pyyaml<7.0,>=5.0 in /usr/local/lib/python3.10/dist-packages (from gradio) (6.0.2)\n",
            "Collecting ruff>=0.2.2 (from gradio)\n",
            "  Downloading ruff-0.6.9-py3-none-manylinux_2_17_x86_64.manylinux2014_x86_64.whl.metadata (25 kB)\n",
            "Collecting semantic-version~=2.0 (from gradio)\n",
            "  Downloading semantic_version-2.10.0-py2.py3-none-any.whl.metadata (9.7 kB)\n",
            "Collecting tomlkit==0.12.0 (from gradio)\n",
            "  Downloading tomlkit-0.12.0-py3-none-any.whl.metadata (2.7 kB)\n",
            "Requirement already satisfied: typer<1.0,>=0.12 in /usr/local/lib/python3.10/dist-packages (from gradio) (0.12.5)\n",
            "Requirement already satisfied: typing-extensions~=4.0 in /usr/local/lib/python3.10/dist-packages (from gradio) (4.12.2)\n",
            "Requirement already satisfied: uvicorn>=0.14.0 in /usr/local/lib/python3.10/dist-packages (from gradio) (0.32.0)\n",
            "Requirement already satisfied: fsspec in /usr/local/lib/python3.10/dist-packages (from gradio-client==1.4.0->gradio) (2024.6.1)\n",
            "Collecting websockets<13.0,>=10.0 (from gradio-client==1.4.0->gradio)\n",
            "  Downloading websockets-12.0-cp310-cp310-manylinux_2_5_x86_64.manylinux1_x86_64.manylinux_2_17_x86_64.manylinux2014_x86_64.whl.metadata (6.6 kB)\n",
            "Requirement already satisfied: idna>=2.8 in /usr/local/lib/python3.10/dist-packages (from anyio<5.0,>=3.0->gradio) (3.10)\n",
            "Requirement already satisfied: sniffio>=1.1 in /usr/local/lib/python3.10/dist-packages (from anyio<5.0,>=3.0->gradio) (1.3.1)\n",
            "Requirement already satisfied: exceptiongroup in /usr/local/lib/python3.10/dist-packages (from anyio<5.0,>=3.0->gradio) (1.2.2)\n",
            "Requirement already satisfied: starlette<0.41.0,>=0.37.2 in /usr/local/lib/python3.10/dist-packages (from fastapi<1.0->gradio) (0.40.0)\n",
            "Requirement already satisfied: certifi in /usr/local/lib/python3.10/dist-packages (from httpx>=0.24.1->gradio) (2024.8.30)\n",
            "Requirement already satisfied: httpcore==1.* in /usr/local/lib/python3.10/dist-packages (from httpx>=0.24.1->gradio) (1.0.6)\n",
            "Requirement already satisfied: h11<0.15,>=0.13 in /usr/local/lib/python3.10/dist-packages (from httpcore==1.*->httpx>=0.24.1->gradio) (0.14.0)\n",
            "Requirement already satisfied: filelock in /usr/local/lib/python3.10/dist-packages (from huggingface-hub>=0.25.1->gradio) (3.16.1)\n",
            "Requirement already satisfied: requests in /usr/local/lib/python3.10/dist-packages (from huggingface-hub>=0.25.1->gradio) (2.32.3)\n",
            "Requirement already satisfied: tqdm>=4.42.1 in /usr/local/lib/python3.10/dist-packages (from huggingface-hub>=0.25.1->gradio) (4.66.5)\n",
            "Requirement already satisfied: python-dateutil>=2.8.2 in /usr/local/lib/python3.10/dist-packages (from pandas<3.0,>=1.0->gradio) (2.8.2)\n",
            "Requirement already satisfied: pytz>=2020.1 in /usr/local/lib/python3.10/dist-packages (from pandas<3.0,>=1.0->gradio) (2024.2)\n",
            "Requirement already satisfied: tzdata>=2022.7 in /usr/local/lib/python3.10/dist-packages (from pandas<3.0,>=1.0->gradio) (2024.2)\n",
            "Requirement already satisfied: annotated-types>=0.6.0 in /usr/local/lib/python3.10/dist-packages (from pydantic>=2.0->gradio) (0.7.0)\n",
            "Requirement already satisfied: pydantic-core==2.23.4 in /usr/local/lib/python3.10/dist-packages (from pydantic>=2.0->gradio) (2.23.4)\n",
            "Requirement already satisfied: click>=8.0.0 in /usr/local/lib/python3.10/dist-packages (from typer<1.0,>=0.12->gradio) (8.1.7)\n",
            "Requirement already satisfied: shellingham>=1.3.0 in /usr/local/lib/python3.10/dist-packages (from typer<1.0,>=0.12->gradio) (1.5.4)\n",
            "Requirement already satisfied: rich>=10.11.0 in /usr/local/lib/python3.10/dist-packages (from typer<1.0,>=0.12->gradio) (13.9.2)\n",
            "Requirement already satisfied: six>=1.5 in /usr/local/lib/python3.10/dist-packages (from python-dateutil>=2.8.2->pandas<3.0,>=1.0->gradio) (1.16.0)\n",
            "Requirement already satisfied: markdown-it-py>=2.2.0 in /usr/local/lib/python3.10/dist-packages (from rich>=10.11.0->typer<1.0,>=0.12->gradio) (3.0.0)\n",
            "Requirement already satisfied: pygments<3.0.0,>=2.13.0 in /usr/local/lib/python3.10/dist-packages (from rich>=10.11.0->typer<1.0,>=0.12->gradio) (2.18.0)\n",
            "Requirement already satisfied: charset-normalizer<4,>=2 in /usr/local/lib/python3.10/dist-packages (from requests->huggingface-hub>=0.25.1->gradio) (3.4.0)\n",
            "Requirement already satisfied: urllib3<3,>=1.21.1 in /usr/local/lib/python3.10/dist-packages (from requests->huggingface-hub>=0.25.1->gradio) (2.2.3)\n",
            "Requirement already satisfied: mdurl~=0.1 in /usr/local/lib/python3.10/dist-packages (from markdown-it-py>=2.2.0->rich>=10.11.0->typer<1.0,>=0.12->gradio) (0.1.2)\n",
            "Downloading gradio-5.1.0-py3-none-any.whl (42.3 MB)\n",
            "\u001b[2K   \u001b[90m━━━━━━━━━━━━━━━━━━━━━━━━━━━━━━━━━━━━━━━━\u001b[0m \u001b[32m42.3/42.3 MB\u001b[0m \u001b[31m18.1 MB/s\u001b[0m eta \u001b[36m0:00:00\u001b[0m\n",
            "\u001b[?25hDownloading gradio_client-1.4.0-py3-none-any.whl (319 kB)\n",
            "\u001b[2K   \u001b[90m━━━━━━━━━━━━━━━━━━━━━━━━━━━━━━━━━━━━━━━━\u001b[0m \u001b[32m319.8/319.8 kB\u001b[0m \u001b[31m17.3 MB/s\u001b[0m eta \u001b[36m0:00:00\u001b[0m\n",
            "\u001b[?25hDownloading tomlkit-0.12.0-py3-none-any.whl (37 kB)\n",
            "Downloading aiofiles-23.2.1-py3-none-any.whl (15 kB)\n",
            "Downloading huggingface_hub-0.25.2-py3-none-any.whl (436 kB)\n",
            "\u001b[2K   \u001b[90m━━━━━━━━━━━━━━━━━━━━━━━━━━━━━━━━━━━━━━━━\u001b[0m \u001b[32m436.6/436.6 kB\u001b[0m \u001b[31m26.1 MB/s\u001b[0m eta \u001b[36m0:00:00\u001b[0m\n",
            "\u001b[?25hDownloading MarkupSafe-2.1.5-cp310-cp310-manylinux_2_17_x86_64.manylinux2014_x86_64.whl (25 kB)\n",
            "Downloading python_multipart-0.0.12-py3-none-any.whl (23 kB)\n",
            "Downloading ruff-0.6.9-py3-none-manylinux_2_17_x86_64.manylinux2014_x86_64.whl (10.9 MB)\n",
            "\u001b[2K   \u001b[90m━━━━━━━━━━━━━━━━━━━━━━━━━━━━━━━━━━━━━━━━\u001b[0m \u001b[32m10.9/10.9 MB\u001b[0m \u001b[31m64.4 MB/s\u001b[0m eta \u001b[36m0:00:00\u001b[0m\n",
            "\u001b[?25hDownloading semantic_version-2.10.0-py2.py3-none-any.whl (15 kB)\n",
            "Downloading ffmpy-0.4.0-py3-none-any.whl (5.8 kB)\n",
            "Downloading pydub-0.25.1-py2.py3-none-any.whl (32 kB)\n",
            "Downloading websockets-12.0-cp310-cp310-manylinux_2_5_x86_64.manylinux1_x86_64.manylinux_2_17_x86_64.manylinux2014_x86_64.whl (130 kB)\n",
            "\u001b[2K   \u001b[90m━━━━━━━━━━━━━━━━━━━━━━━━━━━━━━━━━━━━━━━━\u001b[0m \u001b[32m130.2/130.2 kB\u001b[0m \u001b[31m8.9 MB/s\u001b[0m eta \u001b[36m0:00:00\u001b[0m\n",
            "\u001b[?25hInstalling collected packages: pydub, websockets, tomlkit, semantic-version, ruff, python-multipart, markupsafe, ffmpy, aiofiles, huggingface-hub, gradio-client, gradio\n",
            "  Attempting uninstall: websockets\n",
            "    Found existing installation: websockets 13.1\n",
            "    Uninstalling websockets-13.1:\n",
            "      Successfully uninstalled websockets-13.1\n",
            "  Attempting uninstall: markupsafe\n",
            "    Found existing installation: MarkupSafe 3.0.1\n",
            "    Uninstalling MarkupSafe-3.0.1:\n",
            "      Successfully uninstalled MarkupSafe-3.0.1\n",
            "  Attempting uninstall: huggingface-hub\n",
            "    Found existing installation: huggingface-hub 0.24.7\n",
            "    Uninstalling huggingface-hub-0.24.7:\n",
            "      Successfully uninstalled huggingface-hub-0.24.7\n",
            "Successfully installed aiofiles-23.2.1 ffmpy-0.4.0 gradio-5.1.0 gradio-client-1.4.0 huggingface-hub-0.25.2 markupsafe-2.1.5 pydub-0.25.1 python-multipart-0.0.12 ruff-0.6.9 semantic-version-2.10.0 tomlkit-0.12.0 websockets-12.0\n"
          ]
        }
      ]
    },
    {
      "cell_type": "code",
      "source": [
        "import gradio as gr\n",
        "\n",
        "\n",
        "def inference(my_input):\n",
        "    my_output = my_input\n",
        "    # processing\n",
        "    return my_output\n",
        "\n",
        "\n",
        "def main():\n",
        "    demo = gr.Interface(\n",
        "        inference,\n",
        "        inputs=[\"text\"],\n",
        "        outputs=[\"text\"]\n",
        "    )\n",
        "    demo.launch()\n",
        "\n",
        "\n",
        "if __name__ == '__main__':\n",
        "    main()"
      ],
      "metadata": {
        "colab": {
          "base_uri": "https://localhost:8080/",
          "height": 632
        },
        "id": "ITzVZ_sroKti",
        "outputId": "92d4a6a2-db6f-4de7-dd42-1e71f3a1f92f"
      },
      "execution_count": null,
      "outputs": [
        {
          "output_type": "stream",
          "name": "stdout",
          "text": [
            "Running Gradio in a Colab notebook requires sharing enabled. Automatically setting `share=True` (you can turn this off by setting `share=False` in `launch()` explicitly).\n",
            "\n",
            "Colab notebook detected. To show errors in colab notebook, set debug=True in launch()\n",
            "* Running on public URL: https://0d66f1711a7252e158.gradio.live\n",
            "\n",
            "This share link expires in 72 hours. For free permanent hosting and GPU upgrades, run `gradio deploy` from the terminal in the working directory to deploy to Hugging Face Spaces (https://huggingface.co/spaces)\n"
          ]
        },
        {
          "output_type": "display_data",
          "data": {
            "text/plain": [
              "<IPython.core.display.HTML object>"
            ],
            "text/html": [
              "<div><iframe src=\"https://0d66f1711a7252e158.gradio.live\" width=\"100%\" height=\"500\" allow=\"autoplay; camera; microphone; clipboard-read; clipboard-write;\" frameborder=\"0\" allowfullscreen></iframe></div>"
            ]
          },
          "metadata": {}
        }
      ]
    }
  ],
  "metadata": {
    "colab": {
      "provenance": []
    },
    "kernelspec": {
      "display_name": "Python 3",
      "name": "python3"
    },
    "language_info": {
      "name": "python"
    }
  },
  "nbformat": 4,
  "nbformat_minor": 0
}