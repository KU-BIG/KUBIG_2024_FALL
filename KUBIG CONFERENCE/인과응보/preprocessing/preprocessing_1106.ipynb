{
 "cells": [
  {
   "cell_type": "code",
   "execution_count": 1,
   "id": "fe1c97f9",
   "metadata": {
    "collapsed": true
   },
   "outputs": [
    {
     "name": "stdout",
     "output_type": "stream",
     "text": [
      "Requirement already satisfied: pandas in /opt/anaconda3/lib/python3.9/site-packages (2.0.3)\n",
      "Requirement already satisfied: pyreadstat in /opt/anaconda3/lib/python3.9/site-packages (1.2.7)\n",
      "Requirement already satisfied: python-dateutil>=2.8.2 in /opt/anaconda3/lib/python3.9/site-packages (from pandas) (2.8.2)\n",
      "Requirement already satisfied: pytz>=2020.1 in /opt/anaconda3/lib/python3.9/site-packages (from pandas) (2022.7)\n",
      "Requirement already satisfied: tzdata>=2022.1 in /opt/anaconda3/lib/python3.9/site-packages (from pandas) (2023.3)\n",
      "Requirement already satisfied: numpy>=1.20.3 in /opt/anaconda3/lib/python3.9/site-packages (from pandas) (1.23.5)\n",
      "Requirement already satisfied: six>=1.5 in /opt/anaconda3/lib/python3.9/site-packages (from python-dateutil>=2.8.2->pandas) (1.16.0)\n",
      "\n",
      "\u001b[1m[\u001b[0m\u001b[34;49mnotice\u001b[0m\u001b[1;39;49m]\u001b[0m\u001b[39;49m A new release of pip is available: \u001b[0m\u001b[31;49m24.1.2\u001b[0m\u001b[39;49m -> \u001b[0m\u001b[32;49m24.3.1\u001b[0m\n",
      "\u001b[1m[\u001b[0m\u001b[34;49mnotice\u001b[0m\u001b[1;39;49m]\u001b[0m\u001b[39;49m To update, run: \u001b[0m\u001b[32;49mpip install --upgrade pip\u001b[0m\n",
      "Note: you may need to restart the kernel to use updated packages.\n"
     ]
    }
   ],
   "source": [
    "pip install pandas pyreadstat\n"
   ]
  },
  {
   "cell_type": "code",
   "execution_count": 9,
   "id": "44640743",
   "metadata": {},
   "outputs": [
    {
     "name": "stdout",
     "output_type": "stream",
     "text": [
      "   _STATE  FMONTH     IDATE IMONTH IDAY IYEAR  DISPCODE       SEQNO  \\\n",
      "0     1.0     1.0  01042020     01   04  2020    1100.0  2020000001   \n",
      "1     1.0     1.0  02072020     02   07  2020    1200.0  2020000002   \n",
      "2     1.0     1.0  01232020     01   23  2020    1100.0  2020000003   \n",
      "3     1.0     1.0  01092020     01   09  2020    1100.0  2020000004   \n",
      "4     1.0     1.0  01042020     01   04  2020    1100.0  2020000005   \n",
      "\n",
      "           _PSU  CTELENM1  ...  _RFPSA23  _CLNSCPY  _SGMSCPY  _SGMS10Y  \\\n",
      "0  2.020000e+09       1.0  ...       NaN       1.0       3.0       3.0   \n",
      "1  2.020000e+09       1.0  ...       NaN       NaN       NaN       NaN   \n",
      "2  2.020000e+09       1.0  ...       NaN       1.0       3.0       3.0   \n",
      "3  2.020000e+09       1.0  ...       NaN       NaN       NaN       NaN   \n",
      "4  2.020000e+09       1.0  ...       NaN       NaN       NaN       NaN   \n",
      "\n",
      "   _RFBLDS4  _STOLDNA  _VIRCOLN  _SBONTIM  _CRCREC1  _AIDTST4  \n",
      "0       3.0       3.0       3.0       3.0       1.0       1.0  \n",
      "1       NaN       NaN       NaN       2.0       NaN       NaN  \n",
      "2       3.0       3.0       3.0       3.0       1.0       2.0  \n",
      "3       NaN       NaN       NaN       NaN       NaN       2.0  \n",
      "4       NaN       NaN       NaN       NaN       NaN       9.0  \n",
      "\n",
      "[5 rows x 279 columns]\n"
     ]
    }
   ],
   "source": [
    "import pandas as pd\n",
    "import pyreadstat\n",
    "\n",
    "# XPT 파일 읽기\n",
    "file_path = 'LLCP2020.XPT '  # XPT 파일의 경로를 지정합니다.\n",
    "df, meta = pyreadstat.read_xport(file_path)\n",
    "\n",
    "# 데이터프레임 확인 (선택사항)\n",
    "print(df.head())  # 데이터의 처음 몇 줄을 출력합니다.\n",
    "\n",
    "# CSV 파일로 저장\n",
    "csv_file_path = 'LLCP2020.csv'  # 저장할 CSV 파일 경로\n",
    "df.to_csv(csv_file_path, index=False)  # 인덱스를 포함하지 않고 CSV로 저장\n"
   ]
  },
  {
   "cell_type": "code",
   "execution_count": 6,
   "id": "964f12fd",
   "metadata": {},
   "outputs": [
    {
     "data": {
      "text/plain": [
       "450016"
      ]
     },
     "execution_count": 6,
     "metadata": {},
     "output_type": "execute_result"
    }
   ],
   "source": [
    "len(df)"
   ]
  },
  {
   "cell_type": "code",
   "execution_count": null,
   "id": "05d67817",
   "metadata": {},
   "outputs": [],
   "source": []
  }
 ],
 "metadata": {
  "kernelspec": {
   "display_name": "Python 3 (ipykernel)",
   "language": "python",
   "name": "python3"
  },
  "language_info": {
   "codemirror_mode": {
    "name": "ipython",
    "version": 3
   },
   "file_extension": ".py",
   "mimetype": "text/x-python",
   "name": "python",
   "nbconvert_exporter": "python",
   "pygments_lexer": "ipython3",
   "version": "3.9.13"
  }
 },
 "nbformat": 4,
 "nbformat_minor": 5
}
