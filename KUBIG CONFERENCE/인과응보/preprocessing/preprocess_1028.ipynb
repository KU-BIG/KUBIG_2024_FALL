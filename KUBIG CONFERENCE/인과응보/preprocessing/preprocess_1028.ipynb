{
 "cells": [
  {
   "cell_type": "code",
   "execution_count": 5,
   "id": "8897b8cf",
   "metadata": {},
   "outputs": [],
   "source": [
    "import numpy as np\n",
    "import pandas as pd"
   ]
  },
  {
   "cell_type": "code",
   "execution_count": 12,
   "id": "8bd2a5dd",
   "metadata": {},
   "outputs": [
    {
     "data": {
      "text/html": [
       "<div>\n",
       "<style scoped>\n",
       "    .dataframe tbody tr th:only-of-type {\n",
       "        vertical-align: middle;\n",
       "    }\n",
       "\n",
       "    .dataframe tbody tr th {\n",
       "        vertical-align: top;\n",
       "    }\n",
       "\n",
       "    .dataframe thead th {\n",
       "        text-align: right;\n",
       "    }\n",
       "</style>\n",
       "<table border=\"1\" class=\"dataframe\">\n",
       "  <thead>\n",
       "    <tr style=\"text-align: right;\">\n",
       "      <th></th>\n",
       "      <th>0</th>\n",
       "    </tr>\n",
       "  </thead>\n",
       "  <tbody>\n",
       "    <tr>\n",
       "      <th>0</th>\n",
       "      <td>01              0103012023     11002023000001 ...</td>\n",
       "    </tr>\n",
       "    <tr>\n",
       "      <th>1</th>\n",
       "      <td>01              0101062023     11002023000002 ...</td>\n",
       "    </tr>\n",
       "    <tr>\n",
       "      <th>2</th>\n",
       "      <td>01              0103082023     11002023000003 ...</td>\n",
       "    </tr>\n",
       "    <tr>\n",
       "      <th>3</th>\n",
       "      <td>01              0103062023     11002023000004 ...</td>\n",
       "    </tr>\n",
       "    <tr>\n",
       "      <th>4</th>\n",
       "      <td>01              0101062023     11002023000005 ...</td>\n",
       "    </tr>\n",
       "    <tr>\n",
       "      <th>...</th>\n",
       "      <td>...</td>\n",
       "    </tr>\n",
       "    <tr>\n",
       "      <th>433318</th>\n",
       "      <td>78              1212112023     11002023002064 ...</td>\n",
       "    </tr>\n",
       "    <tr>\n",
       "      <th>433319</th>\n",
       "      <td>78              1201032024     11002023002065 ...</td>\n",
       "    </tr>\n",
       "    <tr>\n",
       "      <th>433320</th>\n",
       "      <td>78              1212132023     11002023002066 ...</td>\n",
       "    </tr>\n",
       "    <tr>\n",
       "      <th>433321</th>\n",
       "      <td>78              1212082023     11002023002067 ...</td>\n",
       "    </tr>\n",
       "    <tr>\n",
       "      <th>433322</th>\n",
       "      <td>78              1212112023     11002023002068 ...</td>\n",
       "    </tr>\n",
       "  </tbody>\n",
       "</table>\n",
       "<p>433323 rows × 1 columns</p>\n",
       "</div>"
      ],
      "text/plain": [
       "                                                        0\n",
       "0       01              0103012023     11002023000001 ...\n",
       "1       01              0101062023     11002023000002 ...\n",
       "2       01              0103082023     11002023000003 ...\n",
       "3       01              0103062023     11002023000004 ...\n",
       "4       01              0101062023     11002023000005 ...\n",
       "...                                                   ...\n",
       "433318  78              1212112023     11002023002064 ...\n",
       "433319  78              1201032024     11002023002065 ...\n",
       "433320  78              1212132023     11002023002066 ...\n",
       "433321  78              1212082023     11002023002067 ...\n",
       "433322  78              1212112023     11002023002068 ...\n",
       "\n",
       "[433323 rows x 1 columns]"
      ]
     },
     "execution_count": 12,
     "metadata": {},
     "output_type": "execute_result"
    }
   ],
   "source": [
    "# ASC 파일 경로\n",
    "file_path = 'LLCP2023.ASC '\n",
    "\n",
    "# 파일을 numpy 배열로 읽기\n",
    "brfss_2023 = pd.read_csv(file_path, sep='\\t', header=None)\n",
    "\n",
    "# 데이터 확인\n",
    "brfss_2023\n"
   ]
  },
  {
   "cell_type": "code",
   "execution_count": 20,
   "id": "839c0145",
   "metadata": {},
   "outputs": [
    {
     "data": {
      "text/plain": [
       "<pandas.core.indexing._iLocIndexer at 0x7fe4a2abb680>"
      ]
     },
     "execution_count": 20,
     "metadata": {},
     "output_type": "execute_result"
    }
   ],
   "source": [
    "brfss_2023.iloc(0)"
   ]
  },
  {
   "cell_type": "markdown",
   "id": "1fdd7a7b",
   "metadata": {},
   "source": [
    "2-state\n",
    "\n",
    "2-FMONTH(file month)\n",
    "2-IMONTH(interview month)\n",
    "2-IDAY(interview day)\n",
    "4-IYEAR(interview year)\n",
    "\n",
    "4-DISPCODE(final disposition)\n"
   ]
  }
 ],
 "metadata": {
  "kernelspec": {
   "display_name": "Python 3 (ipykernel)",
   "language": "python",
   "name": "python3"
  },
  "language_info": {
   "codemirror_mode": {
    "name": "ipython",
    "version": 3
   },
   "file_extension": ".py",
   "mimetype": "text/x-python",
   "name": "python",
   "nbconvert_exporter": "python",
   "pygments_lexer": "ipython3",
   "version": "3.9.13"
  }
 },
 "nbformat": 4,
 "nbformat_minor": 5
}
