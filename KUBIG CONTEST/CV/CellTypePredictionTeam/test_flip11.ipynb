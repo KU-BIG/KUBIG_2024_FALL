{
  "nbformat": 4,
  "nbformat_minor": 0,
  "metadata": {
    "colab": {
      "provenance": [],
      "gpuType": "T4",
      "include_colab_link": true
    },
    "kernelspec": {
      "name": "python3",
      "display_name": "Python 3"
    },
    "language_info": {
      "name": "python"
    },
    "accelerator": "GPU"
  },
  "cells": [
    {
      "cell_type": "markdown",
      "metadata": {
        "id": "view-in-github",
        "colab_type": "text"
      },
      "source": [
        "<a href=\"https://colab.research.google.com/github/aldadobi/Spatial-transcriptomics-with-breast-tissue/blob/main/test_flip11.ipynb\" target=\"_parent\"><img src=\"https://colab.research.google.com/assets/colab-badge.svg\" alt=\"Open In Colab\"/></a>"
      ]
    },
    {
      "cell_type": "code",
      "execution_count": null,
      "metadata": {
        "colab": {
          "base_uri": "https://localhost:8080/"
        },
        "id": "7Eu9weMuuP8U",
        "outputId": "1469999a-b38b-4e3d-edc3-f7aeda1559b0"
      },
      "outputs": [
        {
          "output_type": "stream",
          "name": "stdout",
          "text": [
            "Cloning into 'Hist2ST'...\n",
            "remote: Enumerating objects: 64, done.\u001b[K\n",
            "remote: Counting objects: 100% (64/64), done.\u001b[K\n",
            "remote: Compressing objects: 100% (54/54), done.\u001b[K\n",
            "remote: Total 64 (delta 29), reused 36 (delta 9), pack-reused 0\u001b[K\n",
            "Receiving objects: 100% (64/64), 410.55 KiB | 3.31 MiB/s, done.\n",
            "Resolving deltas: 100% (29/29), done.\n"
          ]
        }
      ],
      "source": [
        "!git clone https://github.com/biomed-AI/Hist2ST.git"
      ]
    },
    {
      "cell_type": "code",
      "source": [
        "%cd Hist2ST\n",
        "!ls"
      ],
      "metadata": {
        "colab": {
          "base_uri": "https://localhost:8080/"
        },
        "id": "B5gFbdajuTY3",
        "outputId": "6fd777c8-3efc-4ab9-cd1d-194877bb6151"
      },
      "execution_count": null,
      "outputs": [
        {
          "output_type": "stream",
          "name": "stdout",
          "text": [
            "/content/Hist2ST\n",
            "data\t    graph_construction.py  NB_module.py  run_trained_models.ipynb  utils.py\n",
            "dataset.py  HIST2ST.py\t\t   predict.py\t transformer.py\t\t   Workflow.png\n",
            "gcn.py\t    HIST2ST_train.py\t   README.md\t tutorial.ipynb\n"
          ]
        }
      ]
    },
    {
      "cell_type": "code",
      "source": [
        "!pip install torch scanpy"
      ],
      "metadata": {
        "colab": {
          "base_uri": "https://localhost:8080/"
        },
        "id": "BTCHjNXzuUdQ",
        "outputId": "c83a4bf5-3cc0-4ae7-828f-ef3662396a09"
      },
      "execution_count": null,
      "outputs": [
        {
          "output_type": "stream",
          "name": "stdout",
          "text": [
            "Requirement already satisfied: torch in /usr/local/lib/python3.10/dist-packages (2.1.0+cu121)\n",
            "Collecting scanpy\n",
            "  Downloading scanpy-1.9.6-py3-none-any.whl (2.0 MB)\n",
            "\u001b[2K     \u001b[90m━━━━━━━━━━━━━━━━━━━━━━━━━━━━━━━━━━━━━━━━\u001b[0m \u001b[32m2.0/2.0 MB\u001b[0m \u001b[31m7.7 MB/s\u001b[0m eta \u001b[36m0:00:00\u001b[0m\n",
            "\u001b[?25hRequirement already satisfied: filelock in /usr/local/lib/python3.10/dist-packages (from torch) (3.13.1)\n",
            "Requirement already satisfied: typing-extensions in /usr/local/lib/python3.10/dist-packages (from torch) (4.5.0)\n",
            "Requirement already satisfied: sympy in /usr/local/lib/python3.10/dist-packages (from torch) (1.12)\n",
            "Requirement already satisfied: networkx in /usr/local/lib/python3.10/dist-packages (from torch) (3.2.1)\n",
            "Requirement already satisfied: jinja2 in /usr/local/lib/python3.10/dist-packages (from torch) (3.1.2)\n",
            "Requirement already satisfied: fsspec in /usr/local/lib/python3.10/dist-packages (from torch) (2023.6.0)\n",
            "Requirement already satisfied: triton==2.1.0 in /usr/local/lib/python3.10/dist-packages (from torch) (2.1.0)\n",
            "Collecting anndata>=0.7.4 (from scanpy)\n",
            "  Downloading anndata-0.10.4-py3-none-any.whl (119 kB)\n",
            "\u001b[2K     \u001b[90m━━━━━━━━━━━━━━━━━━━━━━━━━━━━━━━━━━━━━━━━\u001b[0m \u001b[32m119.9/119.9 kB\u001b[0m \u001b[31m12.9 MB/s\u001b[0m eta \u001b[36m0:00:00\u001b[0m\n",
            "\u001b[?25hRequirement already satisfied: h5py>=3 in /usr/local/lib/python3.10/dist-packages (from scanpy) (3.9.0)\n",
            "Requirement already satisfied: joblib in /usr/local/lib/python3.10/dist-packages (from scanpy) (1.3.2)\n",
            "Requirement already satisfied: matplotlib>=3.4 in /usr/local/lib/python3.10/dist-packages (from scanpy) (3.7.1)\n",
            "Requirement already satisfied: natsort in /usr/local/lib/python3.10/dist-packages (from scanpy) (8.4.0)\n",
            "Requirement already satisfied: numba>=0.41.0 in /usr/local/lib/python3.10/dist-packages (from scanpy) (0.58.1)\n",
            "Requirement already satisfied: numpy>=1.17.0 in /usr/local/lib/python3.10/dist-packages (from scanpy) (1.23.5)\n",
            "Requirement already satisfied: packaging in /usr/local/lib/python3.10/dist-packages (from scanpy) (23.2)\n",
            "Requirement already satisfied: pandas!=2.1.2,>=1.1.1 in /usr/local/lib/python3.10/dist-packages (from scanpy) (1.5.3)\n",
            "Requirement already satisfied: patsy in /usr/local/lib/python3.10/dist-packages (from scanpy) (0.5.5)\n",
            "Requirement already satisfied: scikit-learn>=0.24 in /usr/local/lib/python3.10/dist-packages (from scanpy) (1.2.2)\n",
            "Requirement already satisfied: scipy>=1.4 in /usr/local/lib/python3.10/dist-packages (from scanpy) (1.11.4)\n",
            "Requirement already satisfied: seaborn!=0.13.0 in /usr/local/lib/python3.10/dist-packages (from scanpy) (0.12.2)\n",
            "Collecting session-info (from scanpy)\n",
            "  Downloading session_info-1.0.0.tar.gz (24 kB)\n",
            "  Preparing metadata (setup.py) ... \u001b[?25l\u001b[?25hdone\n",
            "Requirement already satisfied: statsmodels>=0.10.0rc2 in /usr/local/lib/python3.10/dist-packages (from scanpy) (0.14.1)\n",
            "Requirement already satisfied: tqdm in /usr/local/lib/python3.10/dist-packages (from scanpy) (4.66.1)\n",
            "Collecting umap-learn>=0.3.10 (from scanpy)\n",
            "  Downloading umap-learn-0.5.5.tar.gz (90 kB)\n",
            "\u001b[2K     \u001b[90m━━━━━━━━━━━━━━━━━━━━━━━━━━━━━━━━━━━━━━━━\u001b[0m \u001b[32m90.9/90.9 kB\u001b[0m \u001b[31m10.1 MB/s\u001b[0m eta \u001b[36m0:00:00\u001b[0m\n",
            "\u001b[?25h  Preparing metadata (setup.py) ... \u001b[?25l\u001b[?25hdone\n",
            "Collecting array-api-compat (from anndata>=0.7.4->scanpy)\n",
            "  Downloading array_api_compat-1.4-py3-none-any.whl (29 kB)\n",
            "Requirement already satisfied: exceptiongroup in /usr/local/lib/python3.10/dist-packages (from anndata>=0.7.4->scanpy) (1.2.0)\n",
            "Requirement already satisfied: contourpy>=1.0.1 in /usr/local/lib/python3.10/dist-packages (from matplotlib>=3.4->scanpy) (1.2.0)\n",
            "Requirement already satisfied: cycler>=0.10 in /usr/local/lib/python3.10/dist-packages (from matplotlib>=3.4->scanpy) (0.12.1)\n",
            "Requirement already satisfied: fonttools>=4.22.0 in /usr/local/lib/python3.10/dist-packages (from matplotlib>=3.4->scanpy) (4.47.0)\n",
            "Requirement already satisfied: kiwisolver>=1.0.1 in /usr/local/lib/python3.10/dist-packages (from matplotlib>=3.4->scanpy) (1.4.5)\n",
            "Requirement already satisfied: pillow>=6.2.0 in /usr/local/lib/python3.10/dist-packages (from matplotlib>=3.4->scanpy) (9.4.0)\n",
            "Requirement already satisfied: pyparsing>=2.3.1 in /usr/local/lib/python3.10/dist-packages (from matplotlib>=3.4->scanpy) (3.1.1)\n",
            "Requirement already satisfied: python-dateutil>=2.7 in /usr/local/lib/python3.10/dist-packages (from matplotlib>=3.4->scanpy) (2.8.2)\n",
            "Requirement already satisfied: llvmlite<0.42,>=0.41.0dev0 in /usr/local/lib/python3.10/dist-packages (from numba>=0.41.0->scanpy) (0.41.1)\n",
            "Requirement already satisfied: pytz>=2020.1 in /usr/local/lib/python3.10/dist-packages (from pandas!=2.1.2,>=1.1.1->scanpy) (2023.3.post1)\n",
            "Requirement already satisfied: threadpoolctl>=2.0.0 in /usr/local/lib/python3.10/dist-packages (from scikit-learn>=0.24->scanpy) (3.2.0)\n",
            "Requirement already satisfied: six in /usr/local/lib/python3.10/dist-packages (from patsy->scanpy) (1.16.0)\n",
            "Collecting pynndescent>=0.5 (from umap-learn>=0.3.10->scanpy)\n",
            "  Downloading pynndescent-0.5.11-py3-none-any.whl (55 kB)\n",
            "\u001b[2K     \u001b[90m━━━━━━━━━━━━━━━━━━━━━━━━━━━━━━━━━━━━━━━━\u001b[0m \u001b[32m55.8/55.8 kB\u001b[0m \u001b[31m4.9 MB/s\u001b[0m eta \u001b[36m0:00:00\u001b[0m\n",
            "\u001b[?25hRequirement already satisfied: MarkupSafe>=2.0 in /usr/local/lib/python3.10/dist-packages (from jinja2->torch) (2.1.3)\n",
            "Collecting stdlib_list (from session-info->scanpy)\n",
            "  Downloading stdlib_list-0.10.0-py3-none-any.whl (79 kB)\n",
            "\u001b[2K     \u001b[90m━━━━━━━━━━━━━━━━━━━━━━━━━━━━━━━━━━━━━━━━\u001b[0m \u001b[32m79.8/79.8 kB\u001b[0m \u001b[31m7.5 MB/s\u001b[0m eta \u001b[36m0:00:00\u001b[0m\n",
            "\u001b[?25hRequirement already satisfied: mpmath>=0.19 in /usr/local/lib/python3.10/dist-packages (from sympy->torch) (1.3.0)\n",
            "Building wheels for collected packages: umap-learn, session-info\n",
            "  Building wheel for umap-learn (setup.py) ... \u001b[?25l\u001b[?25hdone\n",
            "  Created wheel for umap-learn: filename=umap_learn-0.5.5-py3-none-any.whl size=86832 sha256=30829e3bf42baf8da7ad87eb4252f63b57ea3bb6bd77b6f2087ebbffb2b0ef65\n",
            "  Stored in directory: /root/.cache/pip/wheels/3a/70/07/428d2b58660a1a3b431db59b806a10da736612ebbc66c1bcc5\n",
            "  Building wheel for session-info (setup.py) ... \u001b[?25l\u001b[?25hdone\n",
            "  Created wheel for session-info: filename=session_info-1.0.0-py3-none-any.whl size=8027 sha256=694bcb4f59ec8b7c667eb094da2b70b89ae2b39d0ec75485f03a56f00335baf6\n",
            "  Stored in directory: /root/.cache/pip/wheels/6a/aa/b9/eb5d4031476ec10802795b97ccf937b9bd998d68a9b268765a\n",
            "Successfully built umap-learn session-info\n",
            "Installing collected packages: stdlib_list, array-api-compat, session-info, pynndescent, anndata, umap-learn, scanpy\n",
            "Successfully installed anndata-0.10.4 array-api-compat-1.4 pynndescent-0.5.11 scanpy-1.9.6 session-info-1.0.0 stdlib_list-0.10.0 umap-learn-0.5.5\n"
          ]
        }
      ]
    },
    {
      "cell_type": "code",
      "source": [
        "!pip install easydl"
      ],
      "metadata": {
        "colab": {
          "base_uri": "https://localhost:8080/"
        },
        "id": "qJaP-TfIuVoT",
        "outputId": "a16e5026-b107-41d7-b926-ef46de83b49a"
      },
      "execution_count": null,
      "outputs": [
        {
          "output_type": "stream",
          "name": "stdout",
          "text": [
            "Collecting easydl\n",
            "  Downloading easydl-2.2.0.tar.gz (16 kB)\n",
            "  Preparing metadata (setup.py) ... \u001b[?25l\u001b[?25hdone\n",
            "Requirement already satisfied: torch in /usr/local/lib/python3.10/dist-packages (from easydl) (2.1.0+cu121)\n",
            "Requirement already satisfied: torchvision in /usr/local/lib/python3.10/dist-packages (from easydl) (0.16.0+cu121)\n",
            "Requirement already satisfied: matplotlib in /usr/local/lib/python3.10/dist-packages (from easydl) (3.7.1)\n",
            "Collecting pathlib2 (from easydl)\n",
            "  Downloading pathlib2-2.3.7.post1-py2.py3-none-any.whl (18 kB)\n",
            "Requirement already satisfied: six in /usr/local/lib/python3.10/dist-packages (from easydl) (1.16.0)\n",
            "Requirement already satisfied: contourpy>=1.0.1 in /usr/local/lib/python3.10/dist-packages (from matplotlib->easydl) (1.2.0)\n",
            "Requirement already satisfied: cycler>=0.10 in /usr/local/lib/python3.10/dist-packages (from matplotlib->easydl) (0.12.1)\n",
            "Requirement already satisfied: fonttools>=4.22.0 in /usr/local/lib/python3.10/dist-packages (from matplotlib->easydl) (4.47.0)\n",
            "Requirement already satisfied: kiwisolver>=1.0.1 in /usr/local/lib/python3.10/dist-packages (from matplotlib->easydl) (1.4.5)\n",
            "Requirement already satisfied: numpy>=1.20 in /usr/local/lib/python3.10/dist-packages (from matplotlib->easydl) (1.23.5)\n",
            "Requirement already satisfied: packaging>=20.0 in /usr/local/lib/python3.10/dist-packages (from matplotlib->easydl) (23.2)\n",
            "Requirement already satisfied: pillow>=6.2.0 in /usr/local/lib/python3.10/dist-packages (from matplotlib->easydl) (9.4.0)\n",
            "Requirement already satisfied: pyparsing>=2.3.1 in /usr/local/lib/python3.10/dist-packages (from matplotlib->easydl) (3.1.1)\n",
            "Requirement already satisfied: python-dateutil>=2.7 in /usr/local/lib/python3.10/dist-packages (from matplotlib->easydl) (2.8.2)\n",
            "Requirement already satisfied: filelock in /usr/local/lib/python3.10/dist-packages (from torch->easydl) (3.13.1)\n",
            "Requirement already satisfied: typing-extensions in /usr/local/lib/python3.10/dist-packages (from torch->easydl) (4.5.0)\n",
            "Requirement already satisfied: sympy in /usr/local/lib/python3.10/dist-packages (from torch->easydl) (1.12)\n",
            "Requirement already satisfied: networkx in /usr/local/lib/python3.10/dist-packages (from torch->easydl) (3.2.1)\n",
            "Requirement already satisfied: jinja2 in /usr/local/lib/python3.10/dist-packages (from torch->easydl) (3.1.2)\n",
            "Requirement already satisfied: fsspec in /usr/local/lib/python3.10/dist-packages (from torch->easydl) (2023.6.0)\n",
            "Requirement already satisfied: triton==2.1.0 in /usr/local/lib/python3.10/dist-packages (from torch->easydl) (2.1.0)\n",
            "Requirement already satisfied: requests in /usr/local/lib/python3.10/dist-packages (from torchvision->easydl) (2.31.0)\n",
            "Requirement already satisfied: MarkupSafe>=2.0 in /usr/local/lib/python3.10/dist-packages (from jinja2->torch->easydl) (2.1.3)\n",
            "Requirement already satisfied: charset-normalizer<4,>=2 in /usr/local/lib/python3.10/dist-packages (from requests->torchvision->easydl) (3.3.2)\n",
            "Requirement already satisfied: idna<4,>=2.5 in /usr/local/lib/python3.10/dist-packages (from requests->torchvision->easydl) (3.6)\n",
            "Requirement already satisfied: urllib3<3,>=1.21.1 in /usr/local/lib/python3.10/dist-packages (from requests->torchvision->easydl) (2.0.7)\n",
            "Requirement already satisfied: certifi>=2017.4.17 in /usr/local/lib/python3.10/dist-packages (from requests->torchvision->easydl) (2023.11.17)\n",
            "Requirement already satisfied: mpmath>=0.19 in /usr/local/lib/python3.10/dist-packages (from sympy->torch->easydl) (1.3.0)\n",
            "Building wheels for collected packages: easydl\n",
            "  Building wheel for easydl (setup.py) ... \u001b[?25l\u001b[?25hdone\n",
            "  Created wheel for easydl: filename=easydl-2.2.0-py3-none-any.whl size=20178 sha256=af869252c173c62c369b655bb9346543803f57b9b2c6a3b7cd6686dee316603d\n",
            "  Stored in directory: /root/.cache/pip/wheels/c4/ee/2f/74e732a6df6bf01c83b3b9bf215695f6f21e46c4cf52489df6\n",
            "Successfully built easydl\n",
            "Installing collected packages: pathlib2, easydl\n",
            "Successfully installed easydl-2.2.0 pathlib2-2.3.7.post1\n"
          ]
        }
      ]
    },
    {
      "cell_type": "code",
      "source": [
        "!pip install pytorch-lightning"
      ],
      "metadata": {
        "colab": {
          "base_uri": "https://localhost:8080/"
        },
        "id": "HQOYqWtjuWsu",
        "outputId": "89885455-45f1-487b-d711-e1ce168143c7"
      },
      "execution_count": null,
      "outputs": [
        {
          "output_type": "stream",
          "name": "stdout",
          "text": [
            "Collecting pytorch-lightning\n",
            "  Downloading pytorch_lightning-2.1.3-py3-none-any.whl (777 kB)\n",
            "\u001b[2K     \u001b[90m━━━━━━━━━━━━━━━━━━━━━━━━━━━━━━━━━━━━━━━━\u001b[0m \u001b[32m777.7/777.7 kB\u001b[0m \u001b[31m5.1 MB/s\u001b[0m eta \u001b[36m0:00:00\u001b[0m\n",
            "\u001b[?25hRequirement already satisfied: numpy>=1.17.2 in /usr/local/lib/python3.10/dist-packages (from pytorch-lightning) (1.23.5)\n",
            "Requirement already satisfied: torch>=1.12.0 in /usr/local/lib/python3.10/dist-packages (from pytorch-lightning) (2.1.0+cu121)\n",
            "Requirement already satisfied: tqdm>=4.57.0 in /usr/local/lib/python3.10/dist-packages (from pytorch-lightning) (4.66.1)\n",
            "Requirement already satisfied: PyYAML>=5.4 in /usr/local/lib/python3.10/dist-packages (from pytorch-lightning) (6.0.1)\n",
            "Requirement already satisfied: fsspec[http]>=2022.5.0 in /usr/local/lib/python3.10/dist-packages (from pytorch-lightning) (2023.6.0)\n",
            "Collecting torchmetrics>=0.7.0 (from pytorch-lightning)\n",
            "  Downloading torchmetrics-1.2.1-py3-none-any.whl (806 kB)\n",
            "\u001b[2K     \u001b[90m━━━━━━━━━━━━━━━━━━━━━━━━━━━━━━━━━━━━━━━━\u001b[0m \u001b[32m806.1/806.1 kB\u001b[0m \u001b[31m35.5 MB/s\u001b[0m eta \u001b[36m0:00:00\u001b[0m\n",
            "\u001b[?25hRequirement already satisfied: packaging>=20.0 in /usr/local/lib/python3.10/dist-packages (from pytorch-lightning) (23.2)\n",
            "Requirement already satisfied: typing-extensions>=4.0.0 in /usr/local/lib/python3.10/dist-packages (from pytorch-lightning) (4.5.0)\n",
            "Collecting lightning-utilities>=0.8.0 (from pytorch-lightning)\n",
            "  Downloading lightning_utilities-0.10.0-py3-none-any.whl (24 kB)\n",
            "Requirement already satisfied: requests in /usr/local/lib/python3.10/dist-packages (from fsspec[http]>=2022.5.0->pytorch-lightning) (2.31.0)\n",
            "Requirement already satisfied: aiohttp!=4.0.0a0,!=4.0.0a1 in /usr/local/lib/python3.10/dist-packages (from fsspec[http]>=2022.5.0->pytorch-lightning) (3.9.1)\n",
            "Requirement already satisfied: setuptools in /usr/local/lib/python3.10/dist-packages (from lightning-utilities>=0.8.0->pytorch-lightning) (67.7.2)\n",
            "Requirement already satisfied: filelock in /usr/local/lib/python3.10/dist-packages (from torch>=1.12.0->pytorch-lightning) (3.13.1)\n",
            "Requirement already satisfied: sympy in /usr/local/lib/python3.10/dist-packages (from torch>=1.12.0->pytorch-lightning) (1.12)\n",
            "Requirement already satisfied: networkx in /usr/local/lib/python3.10/dist-packages (from torch>=1.12.0->pytorch-lightning) (3.2.1)\n",
            "Requirement already satisfied: jinja2 in /usr/local/lib/python3.10/dist-packages (from torch>=1.12.0->pytorch-lightning) (3.1.2)\n",
            "Requirement already satisfied: triton==2.1.0 in /usr/local/lib/python3.10/dist-packages (from torch>=1.12.0->pytorch-lightning) (2.1.0)\n",
            "Requirement already satisfied: attrs>=17.3.0 in /usr/local/lib/python3.10/dist-packages (from aiohttp!=4.0.0a0,!=4.0.0a1->fsspec[http]>=2022.5.0->pytorch-lightning) (23.2.0)\n",
            "Requirement already satisfied: multidict<7.0,>=4.5 in /usr/local/lib/python3.10/dist-packages (from aiohttp!=4.0.0a0,!=4.0.0a1->fsspec[http]>=2022.5.0->pytorch-lightning) (6.0.4)\n",
            "Requirement already satisfied: yarl<2.0,>=1.0 in /usr/local/lib/python3.10/dist-packages (from aiohttp!=4.0.0a0,!=4.0.0a1->fsspec[http]>=2022.5.0->pytorch-lightning) (1.9.4)\n",
            "Requirement already satisfied: frozenlist>=1.1.1 in /usr/local/lib/python3.10/dist-packages (from aiohttp!=4.0.0a0,!=4.0.0a1->fsspec[http]>=2022.5.0->pytorch-lightning) (1.4.1)\n",
            "Requirement already satisfied: aiosignal>=1.1.2 in /usr/local/lib/python3.10/dist-packages (from aiohttp!=4.0.0a0,!=4.0.0a1->fsspec[http]>=2022.5.0->pytorch-lightning) (1.3.1)\n",
            "Requirement already satisfied: async-timeout<5.0,>=4.0 in /usr/local/lib/python3.10/dist-packages (from aiohttp!=4.0.0a0,!=4.0.0a1->fsspec[http]>=2022.5.0->pytorch-lightning) (4.0.3)\n",
            "Requirement already satisfied: MarkupSafe>=2.0 in /usr/local/lib/python3.10/dist-packages (from jinja2->torch>=1.12.0->pytorch-lightning) (2.1.3)\n",
            "Requirement already satisfied: charset-normalizer<4,>=2 in /usr/local/lib/python3.10/dist-packages (from requests->fsspec[http]>=2022.5.0->pytorch-lightning) (3.3.2)\n",
            "Requirement already satisfied: idna<4,>=2.5 in /usr/local/lib/python3.10/dist-packages (from requests->fsspec[http]>=2022.5.0->pytorch-lightning) (3.6)\n",
            "Requirement already satisfied: urllib3<3,>=1.21.1 in /usr/local/lib/python3.10/dist-packages (from requests->fsspec[http]>=2022.5.0->pytorch-lightning) (2.0.7)\n",
            "Requirement already satisfied: certifi>=2017.4.17 in /usr/local/lib/python3.10/dist-packages (from requests->fsspec[http]>=2022.5.0->pytorch-lightning) (2023.11.17)\n",
            "Requirement already satisfied: mpmath>=0.19 in /usr/local/lib/python3.10/dist-packages (from sympy->torch>=1.12.0->pytorch-lightning) (1.3.0)\n",
            "Installing collected packages: lightning-utilities, torchmetrics, pytorch-lightning\n",
            "Successfully installed lightning-utilities-0.10.0 pytorch-lightning-2.1.3 torchmetrics-1.2.1\n"
          ]
        }
      ]
    },
    {
      "cell_type": "code",
      "source": [
        "!pip install einops"
      ],
      "metadata": {
        "colab": {
          "base_uri": "https://localhost:8080/"
        },
        "id": "mhn4lkwQuX-X",
        "outputId": "b30bda55-8f55-4bb5-c506-76dda9a66268"
      },
      "execution_count": null,
      "outputs": [
        {
          "output_type": "stream",
          "name": "stdout",
          "text": [
            "Collecting einops\n",
            "  Downloading einops-0.7.0-py3-none-any.whl (44 kB)\n",
            "\u001b[2K     \u001b[90m━━━━━━━━━━━━━━━━━━━━━━━━━━━━━━━━━━━━━━━━\u001b[0m \u001b[32m44.6/44.6 kB\u001b[0m \u001b[31m904.5 kB/s\u001b[0m eta \u001b[36m0:00:00\u001b[0m\n",
            "\u001b[?25hInstalling collected packages: einops\n",
            "Successfully installed einops-0.7.0\n"
          ]
        }
      ]
    },
    {
      "cell_type": "code",
      "source": [
        "!pip install sh"
      ],
      "metadata": {
        "colab": {
          "base_uri": "https://localhost:8080/"
        },
        "id": "kOcrQvCduYxd",
        "outputId": "28bd8431-17f4-435b-ec2b-bd8d873a3f77"
      },
      "execution_count": null,
      "outputs": [
        {
          "output_type": "stream",
          "name": "stdout",
          "text": [
            "Collecting sh\n",
            "  Downloading sh-2.0.6-py3-none-any.whl (38 kB)\n",
            "Installing collected packages: sh\n",
            "Successfully installed sh-2.0.6\n"
          ]
        }
      ]
    },
    {
      "cell_type": "code",
      "source": [
        "!pip install scprep"
      ],
      "metadata": {
        "colab": {
          "base_uri": "https://localhost:8080/"
        },
        "id": "AG2gXMKHuZqM",
        "outputId": "3c31321f-d31e-4e7c-a01b-6279c3ab4132"
      },
      "execution_count": null,
      "outputs": [
        {
          "output_type": "stream",
          "name": "stdout",
          "text": [
            "Collecting scprep\n",
            "  Downloading scprep-1.2.3-py3-none-any.whl (94 kB)\n",
            "\u001b[?25l     \u001b[90m━━━━━━━━━━━━━━━━━━━━━━━━━━━━━━━━━━━━━━━━\u001b[0m \u001b[32m0.0/94.1 kB\u001b[0m \u001b[31m?\u001b[0m eta \u001b[36m-:--:--\u001b[0m\r\u001b[2K     \u001b[91m━━━━━━━━━━━━━\u001b[0m\u001b[90m╺\u001b[0m\u001b[90m━━━━━━━━━━━━━━━━━━━━━━━━━━\u001b[0m \u001b[32m30.7/94.1 kB\u001b[0m \u001b[31m1.1 MB/s\u001b[0m eta \u001b[36m0:00:01\u001b[0m\r\u001b[2K     \u001b[90m━━━━━━━━━━━━━━━━━━━━━━━━━━━━━━━━━━━━━━━━\u001b[0m \u001b[32m94.1/94.1 kB\u001b[0m \u001b[31m1.4 MB/s\u001b[0m eta \u001b[36m0:00:00\u001b[0m\n",
            "\u001b[?25hRequirement already satisfied: numpy>=1.12.0 in /usr/local/lib/python3.10/dist-packages (from scprep) (1.23.5)\n",
            "Requirement already satisfied: scipy>=0.18.1 in /usr/local/lib/python3.10/dist-packages (from scprep) (1.11.4)\n",
            "Requirement already satisfied: scikit-learn>=0.19.1 in /usr/local/lib/python3.10/dist-packages (from scprep) (1.2.2)\n",
            "Requirement already satisfied: decorator>=4.3.0 in /usr/local/lib/python3.10/dist-packages (from scprep) (4.4.2)\n",
            "Requirement already satisfied: pandas<2.1,>=0.25 in /usr/local/lib/python3.10/dist-packages (from scprep) (1.5.3)\n",
            "Requirement already satisfied: packaging in /usr/local/lib/python3.10/dist-packages (from scprep) (23.2)\n",
            "Requirement already satisfied: python-dateutil>=2.8.1 in /usr/local/lib/python3.10/dist-packages (from pandas<2.1,>=0.25->scprep) (2.8.2)\n",
            "Requirement already satisfied: pytz>=2020.1 in /usr/local/lib/python3.10/dist-packages (from pandas<2.1,>=0.25->scprep) (2023.3.post1)\n",
            "Requirement already satisfied: joblib>=1.1.1 in /usr/local/lib/python3.10/dist-packages (from scikit-learn>=0.19.1->scprep) (1.3.2)\n",
            "Requirement already satisfied: threadpoolctl>=2.0.0 in /usr/local/lib/python3.10/dist-packages (from scikit-learn>=0.19.1->scprep) (3.2.0)\n",
            "Requirement already satisfied: six>=1.5 in /usr/local/lib/python3.10/dist-packages (from python-dateutil>=2.8.1->pandas<2.1,>=0.25->scprep) (1.16.0)\n",
            "Installing collected packages: scprep\n",
            "Successfully installed scprep-1.2.3\n"
          ]
        }
      ]
    },
    {
      "cell_type": "code",
      "source": [
        "import torch\n",
        "import numpy as np\n",
        "import pandas as pd\n",
        "from PIL import Image\n",
        "import os\n",
        "import glob\n",
        "from collections.abc import Iterable\n",
        "from sh import gunzip\n",
        "from torchvision import transforms\n",
        "import pytorch_lightning as pl\n",
        "import torchvision.transforms as tf\n",
        "\n",
        "from tqdm import tqdm\n",
        "from predict import *\n",
        "# error -> utils.py -> collections.abc\n",
        "from HIST2ST import *\n",
        "from dataset import ViT_HER2ST, ViT_SKIN\n",
        "from scipy.stats import pearsonr,spearmanr\n",
        "from torch.utils.data import DataLoader\n",
        "from pytorch_lightning.loggers import TensorBoardLogger\n",
        "from copy import deepcopy as dcp\n",
        "from collections import defaultdict as dfd\n",
        "from sklearn.metrics import adjusted_rand_score as ari_score\n",
        "from sklearn.metrics.cluster import normalized_mutual_info_score as nmi_score"
      ],
      "metadata": {
        "id": "zK4MkndSuaMc"
      },
      "execution_count": null,
      "outputs": []
    },
    {
      "cell_type": "code",
      "source": [
        "os.system('/content/Hist2ST/data/download.sh')"
      ],
      "metadata": {
        "colab": {
          "base_uri": "https://localhost:8080/"
        },
        "id": "MjixwnNYucSQ",
        "outputId": "c38bbed2-5f7b-4957-c634-562f083b8ae6"
      },
      "execution_count": null,
      "outputs": [
        {
          "output_type": "execute_result",
          "data": {
            "text/plain": [
              "32256"
            ]
          },
          "metadata": {},
          "execution_count": 13
        }
      ]
    },
    {
      "cell_type": "code",
      "source": [
        "%cd /content/Hist2ST/data"
      ],
      "metadata": {
        "colab": {
          "base_uri": "https://localhost:8080/"
        },
        "id": "ghpC6-HZudRZ",
        "outputId": "20481cea-646c-4d3c-d777-9b93a5213f8a"
      },
      "execution_count": null,
      "outputs": [
        {
          "output_type": "stream",
          "name": "stdout",
          "text": [
            "/content/Hist2ST/data\n"
          ]
        }
      ]
    },
    {
      "cell_type": "code",
      "source": [
        "!git clone https://github.com/almaan/her2st.git"
      ],
      "metadata": {
        "colab": {
          "base_uri": "https://localhost:8080/"
        },
        "id": "lV5iQifoueyB",
        "outputId": "9dcf5c91-3c3c-495f-cdf6-11b193416f89"
      },
      "execution_count": null,
      "outputs": [
        {
          "output_type": "stream",
          "name": "stdout",
          "text": [
            "Cloning into 'her2st'...\n",
            "remote: Enumerating objects: 1041, done.\u001b[K\n",
            "remote: Counting objects: 100% (58/58), done.\u001b[K\n",
            "remote: Compressing objects: 100% (45/45), done.\u001b[K\n",
            "remote: Total 1041 (delta 24), reused 40 (delta 12), pack-reused 983\u001b[K\n",
            "Receiving objects: 100% (1041/1041), 1.05 GiB | 40.43 MiB/s, done.\n",
            "Resolving deltas: 100% (181/181), done.\n",
            "Updating files: 100% (395/395), done.\n"
          ]
        }
      ]
    },
    {
      "cell_type": "code",
      "source": [
        "%cd /content/Hist2ST"
      ],
      "metadata": {
        "colab": {
          "base_uri": "https://localhost:8080/"
        },
        "id": "vbxii0mUufvY",
        "outputId": "dfdedfa3-733e-481f-cc07-2098bc8984a8"
      },
      "execution_count": null,
      "outputs": [
        {
          "output_type": "stream",
          "name": "stdout",
          "text": [
            "/content/Hist2ST\n"
          ]
        }
      ]
    },
    {
      "cell_type": "code",
      "source": [
        "for file_path in glob.glob(os.path.join('/content/Hist2ST/data/her2st/data/ST-cnts', '*.gz')):\n",
        "  gunzip(file_path)\n",
        "  print(f\"Unzipped: {os.path.basename(file_path)}\")"
      ],
      "metadata": {
        "colab": {
          "base_uri": "https://localhost:8080/"
        },
        "id": "V8TCZC-qugzG",
        "outputId": "3c30a926-5a0a-4aea-d78e-9025e9a2909f"
      },
      "execution_count": null,
      "outputs": [
        {
          "output_type": "stream",
          "name": "stdout",
          "text": [
            "Unzipped: B1.tsv.gz\n",
            "Unzipped: C4.tsv.gz\n",
            "Unzipped: H3.tsv.gz\n",
            "Unzipped: C2.tsv.gz\n",
            "Unzipped: G1.tsv.gz\n",
            "Unzipped: G3.tsv.gz\n",
            "Unzipped: C1.tsv.gz\n",
            "Unzipped: C5.tsv.gz\n",
            "Unzipped: E3.tsv.gz\n",
            "Unzipped: B5.tsv.gz\n",
            "Unzipped: D4.tsv.gz\n",
            "Unzipped: D5.tsv.gz\n",
            "Unzipped: G2.tsv.gz\n",
            "Unzipped: A3.tsv.gz\n",
            "Unzipped: F1.tsv.gz\n",
            "Unzipped: E1.tsv.gz\n",
            "Unzipped: D2.tsv.gz\n",
            "Unzipped: E2.tsv.gz\n",
            "Unzipped: H2.tsv.gz\n",
            "Unzipped: B6.tsv.gz\n",
            "Unzipped: A2.tsv.gz\n",
            "Unzipped: D1.tsv.gz\n",
            "Unzipped: A6.tsv.gz\n",
            "Unzipped: H1.tsv.gz\n",
            "Unzipped: F3.tsv.gz\n",
            "Unzipped: B4.tsv.gz\n",
            "Unzipped: A1.tsv.gz\n",
            "Unzipped: A5.tsv.gz\n",
            "Unzipped: B3.tsv.gz\n",
            "Unzipped: F2.tsv.gz\n",
            "Unzipped: B2.tsv.gz\n",
            "Unzipped: A4.tsv.gz\n",
            "Unzipped: D3.tsv.gz\n",
            "Unzipped: D6.tsv.gz\n",
            "Unzipped: C6.tsv.gz\n",
            "Unzipped: C3.tsv.gz\n"
          ]
        }
      ]
    },
    {
      "cell_type": "code",
      "source": [
        "name=[*[f'A{i}' for i in range(2,7)],*[f'B{i}' for i in range(1,7)],\n",
        "      *[f'C{i}' for i in range(1,7)],*[f'D{i}' for i in range(1,7)],\n",
        "      *[f'E{i}' for i in range(1,4)],*[f'F{i}' for i in range(1,4)],*[f'G{i}' for i in range(1,4)]]\n",
        "patients = ['P2', 'P5', 'P9', 'P10']\n",
        "reps = ['rep1', 'rep2', 'rep3']\n",
        "skinname = []\n",
        "for i in patients:\n",
        "    for j in reps:\n",
        "        skinname.append(i+'_ST_'+j)\n",
        "device='cuda'\n",
        "tag='5-7-2-8-4-16-32'\n",
        "k,p,d1,d2,d3,h,c=map(lambda x:int(x),tag.split('-'))\n",
        "dropout=0.2\n",
        "random.seed(2000)\n",
        "np.random.seed(2000)\n",
        "torch.manual_seed(2000)\n",
        "torch.cuda.manual_seed(2000)\n",
        "torch.cuda.manual_seed_all(2000)\n",
        "torch.backends.cudnn.benchmark = False\n",
        "torch.backends.cudnn.deterministic = True"
      ],
      "metadata": {
        "id": "Zdy7tbwguhv-"
      },
      "execution_count": null,
      "outputs": []
    },
    {
      "cell_type": "code",
      "source": [
        "fold=5\n",
        "data='her2st'\n",
        "prune='Grid' if data=='her2st' else 'NA'\n",
        "genes=171 if data=='cscc' else 785"
      ],
      "metadata": {
        "id": "WqmRWKoQuiwq"
      },
      "execution_count": null,
      "outputs": []
    },
    {
      "cell_type": "code",
      "source": [
        "from google.colab import drive\n",
        "drive.mount('/content/drive')"
      ],
      "metadata": {
        "colab": {
          "base_uri": "https://localhost:8080/"
        },
        "id": "u2BdUkdzujsh",
        "outputId": "81079ed2-ae42-4bf1-ecb4-06d0b77c8532"
      },
      "execution_count": null,
      "outputs": [
        {
          "output_type": "stream",
          "name": "stdout",
          "text": [
            "Mounted at /content/drive\n"
          ]
        }
      ]
    },
    {
      "cell_type": "code",
      "source": [
        "# pretrained check point 불러오기\n",
        "testset = pk_load(23,'test',dataset=data,flatten=False,adj=True,ori=True,prune=prune)\n",
        "test_loader = DataLoader(testset, batch_size=1, num_workers=0, shuffle=False)\n",
        "label=testset.label[testset.names[0]]\n",
        "genes=785\n",
        "model=Hist2ST(\n",
        "    depth1=d1, depth2=d2,depth3=d3,n_genes=genes,\n",
        "    kernel_size=k, patch_size=p,\n",
        "    heads=h, channel=c, dropout=0.2,\n",
        "    zinb=0.25, nb=False,\n",
        "    bake=5, lamb=0.5,\n",
        ")\n",
        "model.load_state_dict(torch.load('/content/drive/MyDrive/breast_ST/5-Hist2ST.ckpt'))\n",
        "pred, gt = test(model, test_loader,'cuda')\n"
      ],
      "metadata": {
        "colab": {
          "base_uri": "https://localhost:8080/"
        },
        "id": "Nmg_5EEwukqo",
        "outputId": "1e52d031-8887-4bcd-b70e-a9cfb93e2089"
      },
      "execution_count": null,
      "outputs": [
        {
          "output_type": "stream",
          "name": "stdout",
          "text": [
            "['E1']\n",
            "Loading imgs...\n",
            "Loading metadata...\n"
          ]
        },
        {
          "output_type": "stream",
          "name": "stderr",
          "text": [
            "100%|██████████| 1/1 [00:00<00:00,  4.04it/s]\n"
          ]
        }
      ]
    },
    {
      "cell_type": "code",
      "source": [
        "# Prediction -> Clustering 시각화\n",
        "R=get_R(pred,gt)[0]\n",
        "print('Pearson Correlation:',np.nanmean(R))\n",
        "\n",
        "clus,ARI=cluster(pred,label)\n",
        "print('ARI:',ARI)\n",
        "\n",
        "sc.pl.spatial(pred, img=None, color='kmeans', spot_size=112)"
      ],
      "metadata": {
        "colab": {
          "base_uri": "https://localhost:8080/",
          "height": 483
        },
        "id": "APgn9zR1utUF",
        "outputId": "8d7cd25b-2b31-4016-ea4b-5f482788a73b"
      },
      "execution_count": null,
      "outputs": [
        {
          "output_type": "stream",
          "name": "stdout",
          "text": [
            "Pearson Correlation: 0.11376480414520439\n",
            "ARI: 0.003\n"
          ]
        },
        {
          "output_type": "display_data",
          "data": {
            "text/plain": [
              "<Figure size 640x480 with 1 Axes>"
            ],
            "image/png": "[encoded data removed]"
          },
          "metadata": {}
        }
      ]
    },
    {
      "cell_type": "code",
      "source": [
        "# Ground Truth 시각화\n",
        "adata_gt = ad.AnnData(gt)\n",
        "\n",
        "clus_gt,ARI=cluster(adata_gt,label)\n",
        "print('ARI:',ARI)\n",
        "\n",
        "sc.pl.spatial(adata_gt, img=None, color='kmeans', spot_size=112)"
      ],
      "metadata": {
        "colab": {
          "base_uri": "https://localhost:8080/",
          "height": 465
        },
        "id": "KKqb_Ia0vZiE",
        "outputId": "c2c98edf-c302-4316-d24a-d699bce2a02d"
      },
      "execution_count": null,
      "outputs": [
        {
          "output_type": "stream",
          "name": "stdout",
          "text": [
            "ARI: 0.037\n"
          ]
        },
        {
          "output_type": "display_data",
          "data": {
            "text/plain": [
              "<Figure size 640x480 with 1 Axes>"
            ],
            "image/png": "[encoded data removed]"
          },
          "metadata": {}
        }
      ]
    },
    {
      "cell_type": "code",
      "source": [
        "# Cluster 예측 정확도\n",
        "from sklearn.metrics import accuracy_score\n",
        "\n",
        "clus_gt,ARI=cluster(adata_gt,label)\n",
        "clus_pred,ARI=cluster(pred,label)\n",
        "\n",
        "cluster_mapping = {'0': '1', '1': '2', '2': '0', '3':'3'}\n",
        "new_cluster_labels = np.array([cluster_mapping[label] for label in clus_gt])\n",
        "\n",
        "accuracy = accuracy_score(new_cluster_labels, clus_pred)\n",
        "print(\"Accuracy:\", accuracy)"
      ],
      "metadata": {
        "colab": {
          "base_uri": "https://localhost:8080/"
        },
        "id": "N706ON8XxLvP",
        "outputId": "4a62c6a7-4e77-44c7-f4fb-ea4c0e1fcde2"
      },
      "execution_count": null,
      "outputs": [
        {
          "output_type": "stream",
          "name": "stdout",
          "text": [
            "Accuracy: 0.5936329588014981\n"
          ]
        }
      ]
    },
    {
      "cell_type": "code",
      "source": [
        "# Gene Prediction -> Cell Type Prediction Accuracy\n",
        "gt_df = gt.to_df()\n",
        "pred_df = pred.to_df()\n",
        "gt_gene = gt.obs['most_expressed_gene'] = gt_df.idxmax(axis=1)\n",
        "pred_gene = pred.obs['most_expressed_gene'] = pred_df.idxmax(axis=1)\n",
        "\n",
        "gene_list = np.load('/content/Hist2ST/data/her_hvg_cut_1000.npy')\n",
        "\n",
        "\n",
        "label_df = pd.DataFrame(label, columns=['CellType'])\n",
        "label_df['SpotNumber'] = label_df.index\n",
        "\n",
        "gt_gene_df = gt_gene.reset_index().rename(columns={'index': 'SpotNumber', 0: 'GeneNumber'})\n",
        "gt_gene_df['SpotNumber'] = gt_gene_df['SpotNumber'].astype(int)\n",
        "\n",
        "value_counts = gt_gene_df['GeneNumber'].value_counts()\n",
        "\n",
        "print('count', len(value_counts))\n",
        "\n",
        "merged_df = pd.merge(label_df, gt_gene_df, on='SpotNumber')\n",
        "\n",
        "gene_to_cell_type = dict(zip(merged_df['GeneNumber'], merged_df['CellType']))\n",
        "\n",
        "print(len(gene_to_cell_type))\n",
        "\n",
        "pred_gene_df = pred_gene.reset_index().rename(columns={'index': 'SpotNumber', 0: 'GeneNumber'})\n",
        "pred_gene_df['CellType'] = pred_gene_df['GeneNumber'].map(gene_to_cell_type)\n",
        "\n",
        "gt_gene_df['MappedCellType'] = gt_gene_df['GeneNumber'].map(gene_to_cell_type)\n",
        "\n",
        "accuracy = (pred_gene_df['CellType'] == gt_gene_df['MappedCellType']).mean()\n",
        "\n",
        "print(f\"Accuracy: {accuracy}\")\n",
        "\n",
        "print(pred_gene)\n",
        "print(type(gt_gene))\n",
        "accuracy = np.mean(gt_gene == pred_gene)\n",
        "print(f\"Accuracy: {accuracy * 100:.2f}%\")\n"
      ],
      "metadata": {
        "colab": {
          "base_uri": "https://localhost:8080/"
        },
        "id": "fArG4K7ZVMxC",
        "outputId": "edfc11d5-999d-40fd-f5dc-cec1167d9746"
      },
      "execution_count": null,
      "outputs": [
        {
          "output_type": "stream",
          "name": "stdout",
          "text": [
            "count 4\n",
            "4\n",
            "Accuracy: 0.9829642248722317\n",
            "0      60\n",
            "1      60\n",
            "2      60\n",
            "3      60\n",
            "4      60\n",
            "       ..\n",
            "582    60\n",
            "583    60\n",
            "584    60\n",
            "585    60\n",
            "586    60\n",
            "Length: 587, dtype: object\n",
            "<class 'pandas.core.series.Series'>\n",
            "Accuracy: 56.56%\n"
          ]
        }
      ]
    },
    {
      "cell_type": "code",
      "source": [
        "from sklearn.metrics import accuracy_score\n",
        "\n",
        "R, P=get_R(pred,gt)\n",
        "print('Pearson Correlation:',np.nanmean(R))\n",
        "\n",
        "\n",
        "\n",
        "adata_gt = ad.AnnData(gt)\n",
        "print(clus_gt)\n",
        "\n",
        "label_gt = label\n",
        "clus_gt,ARI=cluster(adata_gt,label_gt)\n",
        "\n",
        "cluster_mapping = {'0': '2', '1': '3', '2': '1', '3':'0', '4':'4'}\n",
        "\n",
        "new_cluster_labels = np.array([cluster_mapping[label] for label in clus_gt])\n",
        "\n",
        "label_pr = label\n",
        "clus_pred,ARI=cluster(pred,label_pr)\n",
        "\n",
        "\n",
        "def compute_accuracy(gt, pred):\n",
        "\n",
        "  accuracy = accuracy_score(gt, pred)\n",
        "\n",
        "  return accuracy\n",
        "\n",
        "accuracy = np.mean(R == P)\n",
        "print(f\"Accuracy: {accuracy * 100:.2f}%\")\n",
        "\n",
        "\n",
        "\n",
        "clus,ARI=cluster(pred,label)\n",
        "print('ARI:',ARI)\n",
        "\n",
        "print(len(label))\n",
        "type(pred.obs['kmeans'])\n"
      ],
      "metadata": {
        "id": "-fpE6jJEulo3"
      },
      "execution_count": null,
      "outputs": []
    },
    {
      "cell_type": "code",
      "source": [
        "\n",
        "import pandas as pd\n",
        "from collections import Counter\n",
        "\n",
        "# Assuming cluster_num is a pandas Series with a multi-level index or tuples\n",
        "# where the first level/index or element is the spot number and the second is the cluster kind.\n",
        "# cell_names is a list of cell names corresponding to each spot.\n",
        "\n",
        "cluster_num = pred.obs['kmeans']\n",
        "cell_names = label\n",
        "# Validate the length of cell_names\n",
        "if len(cell_names) != len(cluster_num):\n",
        "    raise ValueError(\"The length of cell_names does not match the length of cluster_num\")\n",
        "\n",
        "# Step 1: Create a DataFrame that combines cluster information with cell names\n",
        "df = pd.DataFrame({\n",
        "    'spot_number': cluster_num.index.get_level_values(0) if cluster_num.index.nlevels > 1 else range(len(cluster_num)),\n",
        "    'cluster_kind': cluster_num.values,\n",
        "    'cell_name': cell_names\n",
        "})\n",
        "\n",
        "# Step 2: Determine the most and second most expressed cell type for each cluster\n",
        "def most_common_cells(cluster_df):\n",
        "    count = Counter(cluster_df)\n",
        "    most_common = count.most_common(2)\n",
        "    return most_common[0][0], most_common[1][0] if len(most_common) > 1 else None\n",
        "\n",
        "cluster_info_series = df.groupby('cluster_kind')['cell_name'].apply(most_common_cells)\n",
        "\n",
        "# Convert the Series to a DataFrame\n",
        "cluster_info = pd.DataFrame(cluster_info_series.tolist(), index=cluster_info_series.index).reset_index()\n",
        "cluster_info.columns = ['cluster_kind', 'most_expressed', 'second_most_expressed']\n",
        "\n",
        "# Step 3: Handle 'undetermined' cases and resolve name conflicts\n",
        "def resolve_cluster_names(cluster_info):\n",
        "    cluster_names = {}\n",
        "    for _, row in cluster_info.iterrows():\n",
        "        cluster = row['cluster_kind']\n",
        "        name = row['most_expressed']\n",
        "        second_name = row['second_most_expressed']\n",
        "\n",
        "        if name == 'undetermined' and second_name:\n",
        "            name = second_name\n",
        "\n",
        "        if name in cluster_names:\n",
        "            # Compare percentages and resolve conflict\n",
        "            current_percentage = (df[df['cluster_kind'] == cluster]['cell_name'] == name).sum() / len(df)\n",
        "            existing_percentage = cluster_names[name]['percentage']\n",
        "\n",
        "            if current_percentage > existing_percentage:\n",
        "                cluster_names[name] = {'cluster': cluster, 'percentage': current_percentage}\n",
        "                name = second_name\n",
        "            else:\n",
        "                continue\n",
        "\n",
        "        cluster_names[name] = {'cluster': cluster, 'percentage': (df[df['cluster_kind'] == cluster]['cell_name'] == name).sum() / len(df)}\n",
        "\n",
        "    return cluster_names\n",
        "\n",
        "final_clusters = resolve_cluster_names(cluster_info)\n",
        "\n",
        "# final_clusters now contains the resolved cluster names\n",
        "\n",
        "print(final_clusters)"
      ],
      "metadata": {
        "id": "wi4LUvdquw_P"
      },
      "execution_count": null,
      "outputs": []
    },
    {
      "cell_type": "code",
      "source": [
        "adata_gt = ad.AnnData(gt)\n",
        "\n",
        "clus_gt,ARI=cluster(adata_gt,label)\n",
        "print('ARI:',ARI)\n",
        "\n",
        "sc.pl.spatial(adata_gt, img=None, color='kmeans', spot_size=112)"
      ],
      "metadata": {
        "id": "qBxekwG7DD1R"
      },
      "execution_count": null,
      "outputs": []
    }
  ]
}