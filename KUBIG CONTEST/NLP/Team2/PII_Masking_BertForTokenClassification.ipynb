{
  "nbformat": 4,
  "nbformat_minor": 0,
  "metadata": {
    "colab": {
      "provenance": [],
      "gpuType": "T4"
    },
    "kernelspec": {
      "name": "python3",
      "display_name": "Python 3"
    },
    "language_info": {
      "name": "python"
    },
    "accelerator": "GPU",
    "widgets": {
      "application/vnd.jupyter.widget-state+json": {
        "dd5f9ad8ef644d6ba8152eb3967320f9": {
          "model_module": "@jupyter-widgets/controls",
          "model_name": "HBoxModel",
          "model_module_version": "1.5.0",
          "state": {
            "_dom_classes": [],
            "_model_module": "@jupyter-widgets/controls",
            "_model_module_version": "1.5.0",
            "_model_name": "HBoxModel",
            "_view_count": null,
            "_view_module": "@jupyter-widgets/controls",
            "_view_module_version": "1.5.0",
            "_view_name": "HBoxView",
            "box_style": "",
            "children": [
              "IPY_MODEL_f742bda5392a420a827f9811cdf33724",
              "IPY_MODEL_3ba56b9e25db48988c52d8d369b5e840",
              "IPY_MODEL_9a3d0b1e951848528ab95621e512cc10"
            ],
            "layout": "IPY_MODEL_347b41a014be4543b5b09dc6a1421a1e"
          }
        },
        "f742bda5392a420a827f9811cdf33724": {
          "model_module": "@jupyter-widgets/controls",
          "model_name": "HTMLModel",
          "model_module_version": "1.5.0",
          "state": {
            "_dom_classes": [],
            "_model_module": "@jupyter-widgets/controls",
            "_model_module_version": "1.5.0",
            "_model_name": "HTMLModel",
            "_view_count": null,
            "_view_module": "@jupyter-widgets/controls",
            "_view_module_version": "1.5.0",
            "_view_name": "HTMLView",
            "description": "",
            "description_tooltip": null,
            "layout": "IPY_MODEL_5d07d170565245429c0274b2aa26a794",
            "placeholder": "​",
            "style": "IPY_MODEL_2130d6c93753465b8fdb9367e9d3916d",
            "value": "tokenizer_config.json: 100%"
          }
        },
        "3ba56b9e25db48988c52d8d369b5e840": {
          "model_module": "@jupyter-widgets/controls",
          "model_name": "FloatProgressModel",
          "model_module_version": "1.5.0",
          "state": {
            "_dom_classes": [],
            "_model_module": "@jupyter-widgets/controls",
            "_model_module_version": "1.5.0",
            "_model_name": "FloatProgressModel",
            "_view_count": null,
            "_view_module": "@jupyter-widgets/controls",
            "_view_module_version": "1.5.0",
            "_view_name": "ProgressView",
            "bar_style": "success",
            "description": "",
            "description_tooltip": null,
            "layout": "IPY_MODEL_5ee5063fcb3c4efb9b0e3c0be3db8819",
            "max": 49,
            "min": 0,
            "orientation": "horizontal",
            "style": "IPY_MODEL_ec0561e33dcb4b62b96db0fd3a77e0df",
            "value": 49
          }
        },
        "9a3d0b1e951848528ab95621e512cc10": {
          "model_module": "@jupyter-widgets/controls",
          "model_name": "HTMLModel",
          "model_module_version": "1.5.0",
          "state": {
            "_dom_classes": [],
            "_model_module": "@jupyter-widgets/controls",
            "_model_module_version": "1.5.0",
            "_model_name": "HTMLModel",
            "_view_count": null,
            "_view_module": "@jupyter-widgets/controls",
            "_view_module_version": "1.5.0",
            "_view_name": "HTMLView",
            "description": "",
            "description_tooltip": null,
            "layout": "IPY_MODEL_b7ffd4d0aa354573a36e15fb3ce92292",
            "placeholder": "​",
            "style": "IPY_MODEL_b87f9103427c4088b7c3b49443a1225f",
            "value": " 49.0/49.0 [00:00&lt;00:00, 1.62kB/s]"
          }
        },
        "347b41a014be4543b5b09dc6a1421a1e": {
          "model_module": "@jupyter-widgets/base",
          "model_name": "LayoutModel",
          "model_module_version": "1.2.0",
          "state": {
            "_model_module": "@jupyter-widgets/base",
            "_model_module_version": "1.2.0",
            "_model_name": "LayoutModel",
            "_view_count": null,
            "_view_module": "@jupyter-widgets/base",
            "_view_module_version": "1.2.0",
            "_view_name": "LayoutView",
            "align_content": null,
            "align_items": null,
            "align_self": null,
            "border": null,
            "bottom": null,
            "display": null,
            "flex": null,
            "flex_flow": null,
            "grid_area": null,
            "grid_auto_columns": null,
            "grid_auto_flow": null,
            "grid_auto_rows": null,
            "grid_column": null,
            "grid_gap": null,
            "grid_row": null,
            "grid_template_areas": null,
            "grid_template_columns": null,
            "grid_template_rows": null,
            "height": null,
            "justify_content": null,
            "justify_items": null,
            "left": null,
            "margin": null,
            "max_height": null,
            "max_width": null,
            "min_height": null,
            "min_width": null,
            "object_fit": null,
            "object_position": null,
            "order": null,
            "overflow": null,
            "overflow_x": null,
            "overflow_y": null,
            "padding": null,
            "right": null,
            "top": null,
            "visibility": null,
            "width": null
          }
        },
        "5d07d170565245429c0274b2aa26a794": {
          "model_module": "@jupyter-widgets/base",
          "model_name": "LayoutModel",
          "model_module_version": "1.2.0",
          "state": {
            "_model_module": "@jupyter-widgets/base",
            "_model_module_version": "1.2.0",
            "_model_name": "LayoutModel",
            "_view_count": null,
            "_view_module": "@jupyter-widgets/base",
            "_view_module_version": "1.2.0",
            "_view_name": "LayoutView",
            "align_content": null,
            "align_items": null,
            "align_self": null,
            "border": null,
            "bottom": null,
            "display": null,
            "flex": null,
            "flex_flow": null,
            "grid_area": null,
            "grid_auto_columns": null,
            "grid_auto_flow": null,
            "grid_auto_rows": null,
            "grid_column": null,
            "grid_gap": null,
            "grid_row": null,
            "grid_template_areas": null,
            "grid_template_columns": null,
            "grid_template_rows": null,
            "height": null,
            "justify_content": null,
            "justify_items": null,
            "left": null,
            "margin": null,
            "max_height": null,
            "max_width": null,
            "min_height": null,
            "min_width": null,
            "object_fit": null,
            "object_position": null,
            "order": null,
            "overflow": null,
            "overflow_x": null,
            "overflow_y": null,
            "padding": null,
            "right": null,
            "top": null,
            "visibility": null,
            "width": null
          }
        },
        "2130d6c93753465b8fdb9367e9d3916d": {
          "model_module": "@jupyter-widgets/controls",
          "model_name": "DescriptionStyleModel",
          "model_module_version": "1.5.0",
          "state": {
            "_model_module": "@jupyter-widgets/controls",
            "_model_module_version": "1.5.0",
            "_model_name": "DescriptionStyleModel",
            "_view_count": null,
            "_view_module": "@jupyter-widgets/base",
            "_view_module_version": "1.2.0",
            "_view_name": "StyleView",
            "description_width": ""
          }
        },
        "5ee5063fcb3c4efb9b0e3c0be3db8819": {
          "model_module": "@jupyter-widgets/base",
          "model_name": "LayoutModel",
          "model_module_version": "1.2.0",
          "state": {
            "_model_module": "@jupyter-widgets/base",
            "_model_module_version": "1.2.0",
            "_model_name": "LayoutModel",
            "_view_count": null,
            "_view_module": "@jupyter-widgets/base",
            "_view_module_version": "1.2.0",
            "_view_name": "LayoutView",
            "align_content": null,
            "align_items": null,
            "align_self": null,
            "border": null,
            "bottom": null,
            "display": null,
            "flex": null,
            "flex_flow": null,
            "grid_area": null,
            "grid_auto_columns": null,
            "grid_auto_flow": null,
            "grid_auto_rows": null,
            "grid_column": null,
            "grid_gap": null,
            "grid_row": null,
            "grid_template_areas": null,
            "grid_template_columns": null,
            "grid_template_rows": null,
            "height": null,
            "justify_content": null,
            "justify_items": null,
            "left": null,
            "margin": null,
            "max_height": null,
            "max_width": null,
            "min_height": null,
            "min_width": null,
            "object_fit": null,
            "object_position": null,
            "order": null,
            "overflow": null,
            "overflow_x": null,
            "overflow_y": null,
            "padding": null,
            "right": null,
            "top": null,
            "visibility": null,
            "width": null
          }
        },
        "ec0561e33dcb4b62b96db0fd3a77e0df": {
          "model_module": "@jupyter-widgets/controls",
          "model_name": "ProgressStyleModel",
          "model_module_version": "1.5.0",
          "state": {
            "_model_module": "@jupyter-widgets/controls",
            "_model_module_version": "1.5.0",
            "_model_name": "ProgressStyleModel",
            "_view_count": null,
            "_view_module": "@jupyter-widgets/base",
            "_view_module_version": "1.2.0",
            "_view_name": "StyleView",
            "bar_color": null,
            "description_width": ""
          }
        },
        "b7ffd4d0aa354573a36e15fb3ce92292": {
          "model_module": "@jupyter-widgets/base",
          "model_name": "LayoutModel",
          "model_module_version": "1.2.0",
          "state": {
            "_model_module": "@jupyter-widgets/base",
            "_model_module_version": "1.2.0",
            "_model_name": "LayoutModel",
            "_view_count": null,
            "_view_module": "@jupyter-widgets/base",
            "_view_module_version": "1.2.0",
            "_view_name": "LayoutView",
            "align_content": null,
            "align_items": null,
            "align_self": null,
            "border": null,
            "bottom": null,
            "display": null,
            "flex": null,
            "flex_flow": null,
            "grid_area": null,
            "grid_auto_columns": null,
            "grid_auto_flow": null,
            "grid_auto_rows": null,
            "grid_column": null,
            "grid_gap": null,
            "grid_row": null,
            "grid_template_areas": null,
            "grid_template_columns": null,
            "grid_template_rows": null,
            "height": null,
            "justify_content": null,
            "justify_items": null,
            "left": null,
            "margin": null,
            "max_height": null,
            "max_width": null,
            "min_height": null,
            "min_width": null,
            "object_fit": null,
            "object_position": null,
            "order": null,
            "overflow": null,
            "overflow_x": null,
            "overflow_y": null,
            "padding": null,
            "right": null,
            "top": null,
            "visibility": null,
            "width": null
          }
        },
        "b87f9103427c4088b7c3b49443a1225f": {
          "model_module": "@jupyter-widgets/controls",
          "model_name": "DescriptionStyleModel",
          "model_module_version": "1.5.0",
          "state": {
            "_model_module": "@jupyter-widgets/controls",
            "_model_module_version": "1.5.0",
            "_model_name": "DescriptionStyleModel",
            "_view_count": null,
            "_view_module": "@jupyter-widgets/base",
            "_view_module_version": "1.2.0",
            "_view_name": "StyleView",
            "description_width": ""
          }
        },
        "e032728ed0d1451cad3a32b425125bb2": {
          "model_module": "@jupyter-widgets/controls",
          "model_name": "HBoxModel",
          "model_module_version": "1.5.0",
          "state": {
            "_dom_classes": [],
            "_model_module": "@jupyter-widgets/controls",
            "_model_module_version": "1.5.0",
            "_model_name": "HBoxModel",
            "_view_count": null,
            "_view_module": "@jupyter-widgets/controls",
            "_view_module_version": "1.5.0",
            "_view_name": "HBoxView",
            "box_style": "",
            "children": [
              "IPY_MODEL_9de54cb07f4c4b3daf17ac8d0196ebde",
              "IPY_MODEL_3180a69cb26345ed9cc00b7610a7c5dd",
              "IPY_MODEL_c281573c12a0499188c7ecf3dc0deb00"
            ],
            "layout": "IPY_MODEL_f0ccea4ee4a544629783fbb7815cbec4"
          }
        },
        "9de54cb07f4c4b3daf17ac8d0196ebde": {
          "model_module": "@jupyter-widgets/controls",
          "model_name": "HTMLModel",
          "model_module_version": "1.5.0",
          "state": {
            "_dom_classes": [],
            "_model_module": "@jupyter-widgets/controls",
            "_model_module_version": "1.5.0",
            "_model_name": "HTMLModel",
            "_view_count": null,
            "_view_module": "@jupyter-widgets/controls",
            "_view_module_version": "1.5.0",
            "_view_name": "HTMLView",
            "description": "",
            "description_tooltip": null,
            "layout": "IPY_MODEL_17f7e2c996e44736a72f45c1edeccc6d",
            "placeholder": "​",
            "style": "IPY_MODEL_2037e160e73d49588194b63f9eed9faf",
            "value": "vocab.txt: 100%"
          }
        },
        "3180a69cb26345ed9cc00b7610a7c5dd": {
          "model_module": "@jupyter-widgets/controls",
          "model_name": "FloatProgressModel",
          "model_module_version": "1.5.0",
          "state": {
            "_dom_classes": [],
            "_model_module": "@jupyter-widgets/controls",
            "_model_module_version": "1.5.0",
            "_model_name": "FloatProgressModel",
            "_view_count": null,
            "_view_module": "@jupyter-widgets/controls",
            "_view_module_version": "1.5.0",
            "_view_name": "ProgressView",
            "bar_style": "success",
            "description": "",
            "description_tooltip": null,
            "layout": "IPY_MODEL_a43fc93b903c4506b1e330fab5e7f943",
            "max": 995526,
            "min": 0,
            "orientation": "horizontal",
            "style": "IPY_MODEL_ae77b321b8a6470894ef036c1ab6141f",
            "value": 995526
          }
        },
        "c281573c12a0499188c7ecf3dc0deb00": {
          "model_module": "@jupyter-widgets/controls",
          "model_name": "HTMLModel",
          "model_module_version": "1.5.0",
          "state": {
            "_dom_classes": [],
            "_model_module": "@jupyter-widgets/controls",
            "_model_module_version": "1.5.0",
            "_model_name": "HTMLModel",
            "_view_count": null,
            "_view_module": "@jupyter-widgets/controls",
            "_view_module_version": "1.5.0",
            "_view_name": "HTMLView",
            "description": "",
            "description_tooltip": null,
            "layout": "IPY_MODEL_bbac508eb3a34a2d9cd3f316dc4f3b1b",
            "placeholder": "​",
            "style": "IPY_MODEL_f86da9f2704e44399deb2d29b0ab753d",
            "value": " 996k/996k [00:00&lt;00:00, 3.08MB/s]"
          }
        },
        "f0ccea4ee4a544629783fbb7815cbec4": {
          "model_module": "@jupyter-widgets/base",
          "model_name": "LayoutModel",
          "model_module_version": "1.2.0",
          "state": {
            "_model_module": "@jupyter-widgets/base",
            "_model_module_version": "1.2.0",
            "_model_name": "LayoutModel",
            "_view_count": null,
            "_view_module": "@jupyter-widgets/base",
            "_view_module_version": "1.2.0",
            "_view_name": "LayoutView",
            "align_content": null,
            "align_items": null,
            "align_self": null,
            "border": null,
            "bottom": null,
            "display": null,
            "flex": null,
            "flex_flow": null,
            "grid_area": null,
            "grid_auto_columns": null,
            "grid_auto_flow": null,
            "grid_auto_rows": null,
            "grid_column": null,
            "grid_gap": null,
            "grid_row": null,
            "grid_template_areas": null,
            "grid_template_columns": null,
            "grid_template_rows": null,
            "height": null,
            "justify_content": null,
            "justify_items": null,
            "left": null,
            "margin": null,
            "max_height": null,
            "max_width": null,
            "min_height": null,
            "min_width": null,
            "object_fit": null,
            "object_position": null,
            "order": null,
            "overflow": null,
            "overflow_x": null,
            "overflow_y": null,
            "padding": null,
            "right": null,
            "top": null,
            "visibility": null,
            "width": null
          }
        },
        "17f7e2c996e44736a72f45c1edeccc6d": {
          "model_module": "@jupyter-widgets/base",
          "model_name": "LayoutModel",
          "model_module_version": "1.2.0",
          "state": {
            "_model_module": "@jupyter-widgets/base",
            "_model_module_version": "1.2.0",
            "_model_name": "LayoutModel",
            "_view_count": null,
            "_view_module": "@jupyter-widgets/base",
            "_view_module_version": "1.2.0",
            "_view_name": "LayoutView",
            "align_content": null,
            "align_items": null,
            "align_self": null,
            "border": null,
            "bottom": null,
            "display": null,
            "flex": null,
            "flex_flow": null,
            "grid_area": null,
            "grid_auto_columns": null,
            "grid_auto_flow": null,
            "grid_auto_rows": null,
            "grid_column": null,
            "grid_gap": null,
            "grid_row": null,
            "grid_template_areas": null,
            "grid_template_columns": null,
            "grid_template_rows": null,
            "height": null,
            "justify_content": null,
            "justify_items": null,
            "left": null,
            "margin": null,
            "max_height": null,
            "max_width": null,
            "min_height": null,
            "min_width": null,
            "object_fit": null,
            "object_position": null,
            "order": null,
            "overflow": null,
            "overflow_x": null,
            "overflow_y": null,
            "padding": null,
            "right": null,
            "top": null,
            "visibility": null,
            "width": null
          }
        },
        "2037e160e73d49588194b63f9eed9faf": {
          "model_module": "@jupyter-widgets/controls",
          "model_name": "DescriptionStyleModel",
          "model_module_version": "1.5.0",
          "state": {
            "_model_module": "@jupyter-widgets/controls",
            "_model_module_version": "1.5.0",
            "_model_name": "DescriptionStyleModel",
            "_view_count": null,
            "_view_module": "@jupyter-widgets/base",
            "_view_module_version": "1.2.0",
            "_view_name": "StyleView",
            "description_width": ""
          }
        },
        "a43fc93b903c4506b1e330fab5e7f943": {
          "model_module": "@jupyter-widgets/base",
          "model_name": "LayoutModel",
          "model_module_version": "1.2.0",
          "state": {
            "_model_module": "@jupyter-widgets/base",
            "_model_module_version": "1.2.0",
            "_model_name": "LayoutModel",
            "_view_count": null,
            "_view_module": "@jupyter-widgets/base",
            "_view_module_version": "1.2.0",
            "_view_name": "LayoutView",
            "align_content": null,
            "align_items": null,
            "align_self": null,
            "border": null,
            "bottom": null,
            "display": null,
            "flex": null,
            "flex_flow": null,
            "grid_area": null,
            "grid_auto_columns": null,
            "grid_auto_flow": null,
            "grid_auto_rows": null,
            "grid_column": null,
            "grid_gap": null,
            "grid_row": null,
            "grid_template_areas": null,
            "grid_template_columns": null,
            "grid_template_rows": null,
            "height": null,
            "justify_content": null,
            "justify_items": null,
            "left": null,
            "margin": null,
            "max_height": null,
            "max_width": null,
            "min_height": null,
            "min_width": null,
            "object_fit": null,
            "object_position": null,
            "order": null,
            "overflow": null,
            "overflow_x": null,
            "overflow_y": null,
            "padding": null,
            "right": null,
            "top": null,
            "visibility": null,
            "width": null
          }
        },
        "ae77b321b8a6470894ef036c1ab6141f": {
          "model_module": "@jupyter-widgets/controls",
          "model_name": "ProgressStyleModel",
          "model_module_version": "1.5.0",
          "state": {
            "_model_module": "@jupyter-widgets/controls",
            "_model_module_version": "1.5.0",
            "_model_name": "ProgressStyleModel",
            "_view_count": null,
            "_view_module": "@jupyter-widgets/base",
            "_view_module_version": "1.2.0",
            "_view_name": "StyleView",
            "bar_color": null,
            "description_width": ""
          }
        },
        "bbac508eb3a34a2d9cd3f316dc4f3b1b": {
          "model_module": "@jupyter-widgets/base",
          "model_name": "LayoutModel",
          "model_module_version": "1.2.0",
          "state": {
            "_model_module": "@jupyter-widgets/base",
            "_model_module_version": "1.2.0",
            "_model_name": "LayoutModel",
            "_view_count": null,
            "_view_module": "@jupyter-widgets/base",
            "_view_module_version": "1.2.0",
            "_view_name": "LayoutView",
            "align_content": null,
            "align_items": null,
            "align_self": null,
            "border": null,
            "bottom": null,
            "display": null,
            "flex": null,
            "flex_flow": null,
            "grid_area": null,
            "grid_auto_columns": null,
            "grid_auto_flow": null,
            "grid_auto_rows": null,
            "grid_column": null,
            "grid_gap": null,
            "grid_row": null,
            "grid_template_areas": null,
            "grid_template_columns": null,
            "grid_template_rows": null,
            "height": null,
            "justify_content": null,
            "justify_items": null,
            "left": null,
            "margin": null,
            "max_height": null,
            "max_width": null,
            "min_height": null,
            "min_width": null,
            "object_fit": null,
            "object_position": null,
            "order": null,
            "overflow": null,
            "overflow_x": null,
            "overflow_y": null,
            "padding": null,
            "right": null,
            "top": null,
            "visibility": null,
            "width": null
          }
        },
        "f86da9f2704e44399deb2d29b0ab753d": {
          "model_module": "@jupyter-widgets/controls",
          "model_name": "DescriptionStyleModel",
          "model_module_version": "1.5.0",
          "state": {
            "_model_module": "@jupyter-widgets/controls",
            "_model_module_version": "1.5.0",
            "_model_name": "DescriptionStyleModel",
            "_view_count": null,
            "_view_module": "@jupyter-widgets/base",
            "_view_module_version": "1.2.0",
            "_view_name": "StyleView",
            "description_width": ""
          }
        },
        "a7b4fe0be80d4ae2bc90edc435d1c2a4": {
          "model_module": "@jupyter-widgets/controls",
          "model_name": "HBoxModel",
          "model_module_version": "1.5.0",
          "state": {
            "_dom_classes": [],
            "_model_module": "@jupyter-widgets/controls",
            "_model_module_version": "1.5.0",
            "_model_name": "HBoxModel",
            "_view_count": null,
            "_view_module": "@jupyter-widgets/controls",
            "_view_module_version": "1.5.0",
            "_view_name": "HBoxView",
            "box_style": "",
            "children": [
              "IPY_MODEL_0d49f85d4e4b4c80b1c2388231669dac",
              "IPY_MODEL_00e5e32200f944ddbc411a4d4b3df107",
              "IPY_MODEL_329efb185ebb47539859b545cc0b7dfb"
            ],
            "layout": "IPY_MODEL_af4726ddc2bc404d85bb3caa5f5c2074"
          }
        },
        "0d49f85d4e4b4c80b1c2388231669dac": {
          "model_module": "@jupyter-widgets/controls",
          "model_name": "HTMLModel",
          "model_module_version": "1.5.0",
          "state": {
            "_dom_classes": [],
            "_model_module": "@jupyter-widgets/controls",
            "_model_module_version": "1.5.0",
            "_model_name": "HTMLModel",
            "_view_count": null,
            "_view_module": "@jupyter-widgets/controls",
            "_view_module_version": "1.5.0",
            "_view_name": "HTMLView",
            "description": "",
            "description_tooltip": null,
            "layout": "IPY_MODEL_9edeb24de4c44239b0e094b9834385ce",
            "placeholder": "​",
            "style": "IPY_MODEL_9524c25217b3469fb1b237ebc9b85d17",
            "value": "tokenizer.json: 100%"
          }
        },
        "00e5e32200f944ddbc411a4d4b3df107": {
          "model_module": "@jupyter-widgets/controls",
          "model_name": "FloatProgressModel",
          "model_module_version": "1.5.0",
          "state": {
            "_dom_classes": [],
            "_model_module": "@jupyter-widgets/controls",
            "_model_module_version": "1.5.0",
            "_model_name": "FloatProgressModel",
            "_view_count": null,
            "_view_module": "@jupyter-widgets/controls",
            "_view_module_version": "1.5.0",
            "_view_name": "ProgressView",
            "bar_style": "success",
            "description": "",
            "description_tooltip": null,
            "layout": "IPY_MODEL_ab37e12e5ce741bab1e41c2e6527e3f0",
            "max": 1961828,
            "min": 0,
            "orientation": "horizontal",
            "style": "IPY_MODEL_e1d6f2caa7b14518a7b1a276603da0db",
            "value": 1961828
          }
        },
        "329efb185ebb47539859b545cc0b7dfb": {
          "model_module": "@jupyter-widgets/controls",
          "model_name": "HTMLModel",
          "model_module_version": "1.5.0",
          "state": {
            "_dom_classes": [],
            "_model_module": "@jupyter-widgets/controls",
            "_model_module_version": "1.5.0",
            "_model_name": "HTMLModel",
            "_view_count": null,
            "_view_module": "@jupyter-widgets/controls",
            "_view_module_version": "1.5.0",
            "_view_name": "HTMLView",
            "description": "",
            "description_tooltip": null,
            "layout": "IPY_MODEL_5c0aeb7f67264367803ef05d8be019d8",
            "placeholder": "​",
            "style": "IPY_MODEL_78fb8432e48d49d8b4bb5a6eba562906",
            "value": " 1.96M/1.96M [00:00&lt;00:00, 4.76MB/s]"
          }
        },
        "af4726ddc2bc404d85bb3caa5f5c2074": {
          "model_module": "@jupyter-widgets/base",
          "model_name": "LayoutModel",
          "model_module_version": "1.2.0",
          "state": {
            "_model_module": "@jupyter-widgets/base",
            "_model_module_version": "1.2.0",
            "_model_name": "LayoutModel",
            "_view_count": null,
            "_view_module": "@jupyter-widgets/base",
            "_view_module_version": "1.2.0",
            "_view_name": "LayoutView",
            "align_content": null,
            "align_items": null,
            "align_self": null,
            "border": null,
            "bottom": null,
            "display": null,
            "flex": null,
            "flex_flow": null,
            "grid_area": null,
            "grid_auto_columns": null,
            "grid_auto_flow": null,
            "grid_auto_rows": null,
            "grid_column": null,
            "grid_gap": null,
            "grid_row": null,
            "grid_template_areas": null,
            "grid_template_columns": null,
            "grid_template_rows": null,
            "height": null,
            "justify_content": null,
            "justify_items": null,
            "left": null,
            "margin": null,
            "max_height": null,
            "max_width": null,
            "min_height": null,
            "min_width": null,
            "object_fit": null,
            "object_position": null,
            "order": null,
            "overflow": null,
            "overflow_x": null,
            "overflow_y": null,
            "padding": null,
            "right": null,
            "top": null,
            "visibility": null,
            "width": null
          }
        },
        "9edeb24de4c44239b0e094b9834385ce": {
          "model_module": "@jupyter-widgets/base",
          "model_name": "LayoutModel",
          "model_module_version": "1.2.0",
          "state": {
            "_model_module": "@jupyter-widgets/base",
            "_model_module_version": "1.2.0",
            "_model_name": "LayoutModel",
            "_view_count": null,
            "_view_module": "@jupyter-widgets/base",
            "_view_module_version": "1.2.0",
            "_view_name": "LayoutView",
            "align_content": null,
            "align_items": null,
            "align_self": null,
            "border": null,
            "bottom": null,
            "display": null,
            "flex": null,
            "flex_flow": null,
            "grid_area": null,
            "grid_auto_columns": null,
            "grid_auto_flow": null,
            "grid_auto_rows": null,
            "grid_column": null,
            "grid_gap": null,
            "grid_row": null,
            "grid_template_areas": null,
            "grid_template_columns": null,
            "grid_template_rows": null,
            "height": null,
            "justify_content": null,
            "justify_items": null,
            "left": null,
            "margin": null,
            "max_height": null,
            "max_width": null,
            "min_height": null,
            "min_width": null,
            "object_fit": null,
            "object_position": null,
            "order": null,
            "overflow": null,
            "overflow_x": null,
            "overflow_y": null,
            "padding": null,
            "right": null,
            "top": null,
            "visibility": null,
            "width": null
          }
        },
        "9524c25217b3469fb1b237ebc9b85d17": {
          "model_module": "@jupyter-widgets/controls",
          "model_name": "DescriptionStyleModel",
          "model_module_version": "1.5.0",
          "state": {
            "_model_module": "@jupyter-widgets/controls",
            "_model_module_version": "1.5.0",
            "_model_name": "DescriptionStyleModel",
            "_view_count": null,
            "_view_module": "@jupyter-widgets/base",
            "_view_module_version": "1.2.0",
            "_view_name": "StyleView",
            "description_width": ""
          }
        },
        "ab37e12e5ce741bab1e41c2e6527e3f0": {
          "model_module": "@jupyter-widgets/base",
          "model_name": "LayoutModel",
          "model_module_version": "1.2.0",
          "state": {
            "_model_module": "@jupyter-widgets/base",
            "_model_module_version": "1.2.0",
            "_model_name": "LayoutModel",
            "_view_count": null,
            "_view_module": "@jupyter-widgets/base",
            "_view_module_version": "1.2.0",
            "_view_name": "LayoutView",
            "align_content": null,
            "align_items": null,
            "align_self": null,
            "border": null,
            "bottom": null,
            "display": null,
            "flex": null,
            "flex_flow": null,
            "grid_area": null,
            "grid_auto_columns": null,
            "grid_auto_flow": null,
            "grid_auto_rows": null,
            "grid_column": null,
            "grid_gap": null,
            "grid_row": null,
            "grid_template_areas": null,
            "grid_template_columns": null,
            "grid_template_rows": null,
            "height": null,
            "justify_content": null,
            "justify_items": null,
            "left": null,
            "margin": null,
            "max_height": null,
            "max_width": null,
            "min_height": null,
            "min_width": null,
            "object_fit": null,
            "object_position": null,
            "order": null,
            "overflow": null,
            "overflow_x": null,
            "overflow_y": null,
            "padding": null,
            "right": null,
            "top": null,
            "visibility": null,
            "width": null
          }
        },
        "e1d6f2caa7b14518a7b1a276603da0db": {
          "model_module": "@jupyter-widgets/controls",
          "model_name": "ProgressStyleModel",
          "model_module_version": "1.5.0",
          "state": {
            "_model_module": "@jupyter-widgets/controls",
            "_model_module_version": "1.5.0",
            "_model_name": "ProgressStyleModel",
            "_view_count": null,
            "_view_module": "@jupyter-widgets/base",
            "_view_module_version": "1.2.0",
            "_view_name": "StyleView",
            "bar_color": null,
            "description_width": ""
          }
        },
        "5c0aeb7f67264367803ef05d8be019d8": {
          "model_module": "@jupyter-widgets/base",
          "model_name": "LayoutModel",
          "model_module_version": "1.2.0",
          "state": {
            "_model_module": "@jupyter-widgets/base",
            "_model_module_version": "1.2.0",
            "_model_name": "LayoutModel",
            "_view_count": null,
            "_view_module": "@jupyter-widgets/base",
            "_view_module_version": "1.2.0",
            "_view_name": "LayoutView",
            "align_content": null,
            "align_items": null,
            "align_self": null,
            "border": null,
            "bottom": null,
            "display": null,
            "flex": null,
            "flex_flow": null,
            "grid_area": null,
            "grid_auto_columns": null,
            "grid_auto_flow": null,
            "grid_auto_rows": null,
            "grid_column": null,
            "grid_gap": null,
            "grid_row": null,
            "grid_template_areas": null,
            "grid_template_columns": null,
            "grid_template_rows": null,
            "height": null,
            "justify_content": null,
            "justify_items": null,
            "left": null,
            "margin": null,
            "max_height": null,
            "max_width": null,
            "min_height": null,
            "min_width": null,
            "object_fit": null,
            "object_position": null,
            "order": null,
            "overflow": null,
            "overflow_x": null,
            "overflow_y": null,
            "padding": null,
            "right": null,
            "top": null,
            "visibility": null,
            "width": null
          }
        },
        "78fb8432e48d49d8b4bb5a6eba562906": {
          "model_module": "@jupyter-widgets/controls",
          "model_name": "DescriptionStyleModel",
          "model_module_version": "1.5.0",
          "state": {
            "_model_module": "@jupyter-widgets/controls",
            "_model_module_version": "1.5.0",
            "_model_name": "DescriptionStyleModel",
            "_view_count": null,
            "_view_module": "@jupyter-widgets/base",
            "_view_module_version": "1.2.0",
            "_view_name": "StyleView",
            "description_width": ""
          }
        },
        "e4b2498efd744b81bcd6d912ac2ff1ca": {
          "model_module": "@jupyter-widgets/controls",
          "model_name": "HBoxModel",
          "model_module_version": "1.5.0",
          "state": {
            "_dom_classes": [],
            "_model_module": "@jupyter-widgets/controls",
            "_model_module_version": "1.5.0",
            "_model_name": "HBoxModel",
            "_view_count": null,
            "_view_module": "@jupyter-widgets/controls",
            "_view_module_version": "1.5.0",
            "_view_name": "HBoxView",
            "box_style": "",
            "children": [
              "IPY_MODEL_4655edf0b5574b5ebab59fb3ce7ba9ea",
              "IPY_MODEL_781a4eda1a6944f190723b3fa74ea718",
              "IPY_MODEL_a9c950c1c0d945b69e64df3c35ce9a4f"
            ],
            "layout": "IPY_MODEL_fa271244dc7d45f1a74dd78cc3103120"
          }
        },
        "4655edf0b5574b5ebab59fb3ce7ba9ea": {
          "model_module": "@jupyter-widgets/controls",
          "model_name": "HTMLModel",
          "model_module_version": "1.5.0",
          "state": {
            "_dom_classes": [],
            "_model_module": "@jupyter-widgets/controls",
            "_model_module_version": "1.5.0",
            "_model_name": "HTMLModel",
            "_view_count": null,
            "_view_module": "@jupyter-widgets/controls",
            "_view_module_version": "1.5.0",
            "_view_name": "HTMLView",
            "description": "",
            "description_tooltip": null,
            "layout": "IPY_MODEL_1229a5319202454da5f9ab14b7a0b796",
            "placeholder": "​",
            "style": "IPY_MODEL_858ae4baed9f493198f08a790ec6ec72",
            "value": "config.json: 100%"
          }
        },
        "781a4eda1a6944f190723b3fa74ea718": {
          "model_module": "@jupyter-widgets/controls",
          "model_name": "FloatProgressModel",
          "model_module_version": "1.5.0",
          "state": {
            "_dom_classes": [],
            "_model_module": "@jupyter-widgets/controls",
            "_model_module_version": "1.5.0",
            "_model_name": "FloatProgressModel",
            "_view_count": null,
            "_view_module": "@jupyter-widgets/controls",
            "_view_module_version": "1.5.0",
            "_view_name": "ProgressView",
            "bar_style": "success",
            "description": "",
            "description_tooltip": null,
            "layout": "IPY_MODEL_2ac0982ea6bc49d9a88f9f1accb9c3c9",
            "max": 625,
            "min": 0,
            "orientation": "horizontal",
            "style": "IPY_MODEL_1eb3fd8c7e1249a79afca49909c4d871",
            "value": 625
          }
        },
        "a9c950c1c0d945b69e64df3c35ce9a4f": {
          "model_module": "@jupyter-widgets/controls",
          "model_name": "HTMLModel",
          "model_module_version": "1.5.0",
          "state": {
            "_dom_classes": [],
            "_model_module": "@jupyter-widgets/controls",
            "_model_module_version": "1.5.0",
            "_model_name": "HTMLModel",
            "_view_count": null,
            "_view_module": "@jupyter-widgets/controls",
            "_view_module_version": "1.5.0",
            "_view_name": "HTMLView",
            "description": "",
            "description_tooltip": null,
            "layout": "IPY_MODEL_b460cda853f9458fac69953716257fcf",
            "placeholder": "​",
            "style": "IPY_MODEL_c272f0bbd8b64681a47170bee86b683f",
            "value": " 625/625 [00:00&lt;00:00, 12.6kB/s]"
          }
        },
        "fa271244dc7d45f1a74dd78cc3103120": {
          "model_module": "@jupyter-widgets/base",
          "model_name": "LayoutModel",
          "model_module_version": "1.2.0",
          "state": {
            "_model_module": "@jupyter-widgets/base",
            "_model_module_version": "1.2.0",
            "_model_name": "LayoutModel",
            "_view_count": null,
            "_view_module": "@jupyter-widgets/base",
            "_view_module_version": "1.2.0",
            "_view_name": "LayoutView",
            "align_content": null,
            "align_items": null,
            "align_self": null,
            "border": null,
            "bottom": null,
            "display": null,
            "flex": null,
            "flex_flow": null,
            "grid_area": null,
            "grid_auto_columns": null,
            "grid_auto_flow": null,
            "grid_auto_rows": null,
            "grid_column": null,
            "grid_gap": null,
            "grid_row": null,
            "grid_template_areas": null,
            "grid_template_columns": null,
            "grid_template_rows": null,
            "height": null,
            "justify_content": null,
            "justify_items": null,
            "left": null,
            "margin": null,
            "max_height": null,
            "max_width": null,
            "min_height": null,
            "min_width": null,
            "object_fit": null,
            "object_position": null,
            "order": null,
            "overflow": null,
            "overflow_x": null,
            "overflow_y": null,
            "padding": null,
            "right": null,
            "top": null,
            "visibility": null,
            "width": null
          }
        },
        "1229a5319202454da5f9ab14b7a0b796": {
          "model_module": "@jupyter-widgets/base",
          "model_name": "LayoutModel",
          "model_module_version": "1.2.0",
          "state": {
            "_model_module": "@jupyter-widgets/base",
            "_model_module_version": "1.2.0",
            "_model_name": "LayoutModel",
            "_view_count": null,
            "_view_module": "@jupyter-widgets/base",
            "_view_module_version": "1.2.0",
            "_view_name": "LayoutView",
            "align_content": null,
            "align_items": null,
            "align_self": null,
            "border": null,
            "bottom": null,
            "display": null,
            "flex": null,
            "flex_flow": null,
            "grid_area": null,
            "grid_auto_columns": null,
            "grid_auto_flow": null,
            "grid_auto_rows": null,
            "grid_column": null,
            "grid_gap": null,
            "grid_row": null,
            "grid_template_areas": null,
            "grid_template_columns": null,
            "grid_template_rows": null,
            "height": null,
            "justify_content": null,
            "justify_items": null,
            "left": null,
            "margin": null,
            "max_height": null,
            "max_width": null,
            "min_height": null,
            "min_width": null,
            "object_fit": null,
            "object_position": null,
            "order": null,
            "overflow": null,
            "overflow_x": null,
            "overflow_y": null,
            "padding": null,
            "right": null,
            "top": null,
            "visibility": null,
            "width": null
          }
        },
        "858ae4baed9f493198f08a790ec6ec72": {
          "model_module": "@jupyter-widgets/controls",
          "model_name": "DescriptionStyleModel",
          "model_module_version": "1.5.0",
          "state": {
            "_model_module": "@jupyter-widgets/controls",
            "_model_module_version": "1.5.0",
            "_model_name": "DescriptionStyleModel",
            "_view_count": null,
            "_view_module": "@jupyter-widgets/base",
            "_view_module_version": "1.2.0",
            "_view_name": "StyleView",
            "description_width": ""
          }
        },
        "2ac0982ea6bc49d9a88f9f1accb9c3c9": {
          "model_module": "@jupyter-widgets/base",
          "model_name": "LayoutModel",
          "model_module_version": "1.2.0",
          "state": {
            "_model_module": "@jupyter-widgets/base",
            "_model_module_version": "1.2.0",
            "_model_name": "LayoutModel",
            "_view_count": null,
            "_view_module": "@jupyter-widgets/base",
            "_view_module_version": "1.2.0",
            "_view_name": "LayoutView",
            "align_content": null,
            "align_items": null,
            "align_self": null,
            "border": null,
            "bottom": null,
            "display": null,
            "flex": null,
            "flex_flow": null,
            "grid_area": null,
            "grid_auto_columns": null,
            "grid_auto_flow": null,
            "grid_auto_rows": null,
            "grid_column": null,
            "grid_gap": null,
            "grid_row": null,
            "grid_template_areas": null,
            "grid_template_columns": null,
            "grid_template_rows": null,
            "height": null,
            "justify_content": null,
            "justify_items": null,
            "left": null,
            "margin": null,
            "max_height": null,
            "max_width": null,
            "min_height": null,
            "min_width": null,
            "object_fit": null,
            "object_position": null,
            "order": null,
            "overflow": null,
            "overflow_x": null,
            "overflow_y": null,
            "padding": null,
            "right": null,
            "top": null,
            "visibility": null,
            "width": null
          }
        },
        "1eb3fd8c7e1249a79afca49909c4d871": {
          "model_module": "@jupyter-widgets/controls",
          "model_name": "ProgressStyleModel",
          "model_module_version": "1.5.0",
          "state": {
            "_model_module": "@jupyter-widgets/controls",
            "_model_module_version": "1.5.0",
            "_model_name": "ProgressStyleModel",
            "_view_count": null,
            "_view_module": "@jupyter-widgets/base",
            "_view_module_version": "1.2.0",
            "_view_name": "StyleView",
            "bar_color": null,
            "description_width": ""
          }
        },
        "b460cda853f9458fac69953716257fcf": {
          "model_module": "@jupyter-widgets/base",
          "model_name": "LayoutModel",
          "model_module_version": "1.2.0",
          "state": {
            "_model_module": "@jupyter-widgets/base",
            "_model_module_version": "1.2.0",
            "_model_name": "LayoutModel",
            "_view_count": null,
            "_view_module": "@jupyter-widgets/base",
            "_view_module_version": "1.2.0",
            "_view_name": "LayoutView",
            "align_content": null,
            "align_items": null,
            "align_self": null,
            "border": null,
            "bottom": null,
            "display": null,
            "flex": null,
            "flex_flow": null,
            "grid_area": null,
            "grid_auto_columns": null,
            "grid_auto_flow": null,
            "grid_auto_rows": null,
            "grid_column": null,
            "grid_gap": null,
            "grid_row": null,
            "grid_template_areas": null,
            "grid_template_columns": null,
            "grid_template_rows": null,
            "height": null,
            "justify_content": null,
            "justify_items": null,
            "left": null,
            "margin": null,
            "max_height": null,
            "max_width": null,
            "min_height": null,
            "min_width": null,
            "object_fit": null,
            "object_position": null,
            "order": null,
            "overflow": null,
            "overflow_x": null,
            "overflow_y": null,
            "padding": null,
            "right": null,
            "top": null,
            "visibility": null,
            "width": null
          }
        },
        "c272f0bbd8b64681a47170bee86b683f": {
          "model_module": "@jupyter-widgets/controls",
          "model_name": "DescriptionStyleModel",
          "model_module_version": "1.5.0",
          "state": {
            "_model_module": "@jupyter-widgets/controls",
            "_model_module_version": "1.5.0",
            "_model_name": "DescriptionStyleModel",
            "_view_count": null,
            "_view_module": "@jupyter-widgets/base",
            "_view_module_version": "1.2.0",
            "_view_name": "StyleView",
            "description_width": ""
          }
        }
      }
    }
  },
  "cells": [
    {
      "cell_type": "code",
      "execution_count": 1,
      "metadata": {
        "id": "_4J9bE1RSN8h",
        "outputId": "a6becad7-ed5a-44e0-b90a-dd34fd887d1d",
        "colab": {
          "base_uri": "https://localhost:8080/"
        }
      },
      "outputs": [
        {
          "output_type": "stream",
          "name": "stdout",
          "text": [
            "cuda is available.\n"
          ]
        }
      ],
      "source": [
        "import torch\n",
        "import torch.nn as nn\n",
        "import pandas as pd\n",
        "import numpy as np\n",
        "import matplotlib.pyplot as plt\n",
        "\n",
        "device = \"cuda\" if torch.cuda.is_available() else \"cpu\"\n",
        "print(f\"{device}\" \" is available.\")"
      ]
    },
    {
      "cell_type": "code",
      "source": [
        "import re\n",
        "import pandas as pd\n",
        "import numpy as np\n",
        "import matplotlib.pyplot as plt\n",
        "import urllib.request\n",
        "from collections import Counter\n",
        "!pip install konlpy\n",
        "!pip install mecab-python\n",
        "from konlpy.tag import Mecab\n",
        "from sklearn.model_selection import train_test_split\n",
        "from tensorflow.keras.preprocessing.text import Tokenizer\n",
        "from tensorflow.keras.preprocessing.sequence import pad_sequences\n",
        "from tensorflow.keras.utils import to_categorical"
      ],
      "metadata": {
        "colab": {
          "base_uri": "https://localhost:8080/"
        },
        "id": "iIYc0RYk3EY8",
        "outputId": "96b36ba9-dd94-48e7-9836-fd6df22fd6e0"
      },
      "execution_count": 2,
      "outputs": [
        {
          "output_type": "stream",
          "name": "stdout",
          "text": [
            "Collecting konlpy\n",
            "  Downloading konlpy-0.6.0-py2.py3-none-any.whl.metadata (1.9 kB)\n",
            "Collecting JPype1>=0.7.0 (from konlpy)\n",
            "  Downloading JPype1-1.5.0-cp310-cp310-manylinux_2_17_x86_64.manylinux2014_x86_64.whl.metadata (4.9 kB)\n",
            "Requirement already satisfied: lxml>=4.1.0 in /usr/local/lib/python3.10/dist-packages (from konlpy) (4.9.4)\n",
            "Requirement already satisfied: numpy>=1.6 in /usr/local/lib/python3.10/dist-packages (from konlpy) (1.26.4)\n",
            "Requirement already satisfied: packaging in /usr/local/lib/python3.10/dist-packages (from JPype1>=0.7.0->konlpy) (24.1)\n",
            "Downloading konlpy-0.6.0-py2.py3-none-any.whl (19.4 MB)\n",
            "\u001b[2K   \u001b[90m━━━━━━━━━━━━━━━━━━━━━━━━━━━━━━━━━━━━━━━━\u001b[0m \u001b[32m19.4/19.4 MB\u001b[0m \u001b[31m48.2 MB/s\u001b[0m eta \u001b[36m0:00:00\u001b[0m\n",
            "\u001b[?25hDownloading JPype1-1.5.0-cp310-cp310-manylinux_2_17_x86_64.manylinux2014_x86_64.whl (488 kB)\n",
            "\u001b[2K   \u001b[90m━━━━━━━━━━━━━━━━━━━━━━━━━━━━━━━━━━━━━━━━\u001b[0m \u001b[32m488.6/488.6 kB\u001b[0m \u001b[31m29.3 MB/s\u001b[0m eta \u001b[36m0:00:00\u001b[0m\n",
            "\u001b[?25hInstalling collected packages: JPype1, konlpy\n",
            "Successfully installed JPype1-1.5.0 konlpy-0.6.0\n",
            "Collecting mecab-python\n",
            "  Downloading mecab-python-1.0.0.tar.gz (1.3 kB)\n",
            "  Preparing metadata (setup.py) ... \u001b[?25l\u001b[?25hdone\n",
            "Collecting mecab-python3 (from mecab-python)\n",
            "  Downloading mecab_python3-1.0.9-cp310-cp310-manylinux_2_17_x86_64.manylinux2014_x86_64.whl.metadata (6.1 kB)\n",
            "Downloading mecab_python3-1.0.9-cp310-cp310-manylinux_2_17_x86_64.manylinux2014_x86_64.whl (581 kB)\n",
            "\u001b[2K   \u001b[90m━━━━━━━━━━━━━━━━━━━━━━━━━━━━━━━━━━━━━━━━\u001b[0m \u001b[32m581.7/581.7 kB\u001b[0m \u001b[31m16.5 MB/s\u001b[0m eta \u001b[36m0:00:00\u001b[0m\n",
            "\u001b[?25hBuilding wheels for collected packages: mecab-python\n",
            "  Building wheel for mecab-python (setup.py) ... \u001b[?25l\u001b[?25hdone\n",
            "  Created wheel for mecab-python: filename=mecab_python-1.0.0-py3-none-any.whl size=1230 sha256=50ac1a460424320af2b2a0bd2452183a2f973948b82bee3be226540b07209ec2\n",
            "  Stored in directory: /root/.cache/pip/wheels/ec/41/c8/ce8fb469be2547ce596c4000613806505dc54c296aae45da71\n",
            "Successfully built mecab-python\n",
            "Installing collected packages: mecab-python3, mecab-python\n",
            "Successfully installed mecab-python-1.0.0 mecab-python3-1.0.9\n"
          ]
        }
      ]
    },
    {
      "cell_type": "markdown",
      "source": [
        "# 1. 데이터 불러오기 및 전처리"
      ],
      "metadata": {
        "id": "2UBdj_4R3NBN"
      }
    },
    {
      "cell_type": "code",
      "source": [
        "# 네이버, 창원대가 함께하는 NLP Challenge 의 훈련용 데이터\n",
        "# https://github.com/naver/nlp-challenge/?tab=readme-ov-file\n",
        "!wget https://github.com/naver/nlp-challenge/raw/master/missions/ner/data/train/train_data"
      ],
      "metadata": {
        "colab": {
          "base_uri": "https://localhost:8080/"
        },
        "id": "3K6hutkX3POc",
        "outputId": "2d5d7955-b5cb-43db-f718-0917d87278f0"
      },
      "execution_count": 3,
      "outputs": [
        {
          "output_type": "stream",
          "name": "stdout",
          "text": [
            "--2024-08-10 11:48:14--  https://github.com/naver/nlp-challenge/raw/master/missions/ner/data/train/train_data\n",
            "Resolving github.com (github.com)... 140.82.121.3\n",
            "Connecting to github.com (github.com)|140.82.121.3|:443... connected.\n",
            "HTTP request sent, awaiting response... 302 Found\n",
            "Location: https://raw.githubusercontent.com/naver/nlp-challenge/master/missions/ner/data/train/train_data [following]\n",
            "--2024-08-10 11:48:14--  https://raw.githubusercontent.com/naver/nlp-challenge/master/missions/ner/data/train/train_data\n",
            "Resolving raw.githubusercontent.com (raw.githubusercontent.com)... 185.199.108.133, 185.199.111.133, 185.199.109.133, ...\n",
            "Connecting to raw.githubusercontent.com (raw.githubusercontent.com)|185.199.108.133|:443... connected.\n",
            "HTTP request sent, awaiting response... 200 OK\n",
            "Length: 16945023 (16M) [application/octet-stream]\n",
            "Saving to: ‘train_data’\n",
            "\n",
            "train_data          100%[===================>]  16.16M  --.-KB/s    in 0.06s   \n",
            "\n",
            "2024-08-10 11:48:15 (256 MB/s) - ‘train_data’ saved [16945023/16945023]\n",
            "\n"
          ]
        }
      ]
    },
    {
      "cell_type": "markdown",
      "source": [
        "https://air.changwon.ac.kr/?page_id=10"
      ],
      "metadata": {
        "id": "uus6ryJkKb4C"
      }
    },
    {
      "cell_type": "code",
      "source": [
        "data_pd = pd.read_csv(\"train_data\", names = ['text', 'tag'], sep = \"\\t\")\n",
        "data_pd.reset_index(inplace=True) # 어절번호 데이터 살려오려구\n",
        "# 첫번째 열 : 어절번호\n",
        "# 두번째 열 : 어절\n",
        "# 세번째 열 : 개체명 레이블\n",
        "data_pd.sample(6)"
      ],
      "metadata": {
        "colab": {
          "base_uri": "https://localhost:8080/",
          "height": 238
        },
        "id": "7BCfuATr3Rc-",
        "outputId": "f27b8170-caa7-404a-8d8e-6514f330dcbd"
      },
      "execution_count": 4,
      "outputs": [
        {
          "output_type": "execute_result",
          "data": {
            "text/plain": [
              "        index  text    tag\n",
              "83200       6   기졸이      -\n",
              "178587      4    알린      -\n",
              "544324      5  2월이나  DAT_B\n",
              "679461     14   것으로      -\n",
              "13323      35   방자가      -\n",
              "516933      4    4년  DAT_B"
            ],
            "text/html": [
              "\n",
              "  <div id=\"df-fdc4bfc7-76a7-4197-894b-27b3fe4a2416\" class=\"colab-df-container\">\n",
              "    <div>\n",
              "<style scoped>\n",
              "    .dataframe tbody tr th:only-of-type {\n",
              "        vertical-align: middle;\n",
              "    }\n",
              "\n",
              "    .dataframe tbody tr th {\n",
              "        vertical-align: top;\n",
              "    }\n",
              "\n",
              "    .dataframe thead th {\n",
              "        text-align: right;\n",
              "    }\n",
              "</style>\n",
              "<table border=\"1\" class=\"dataframe\">\n",
              "  <thead>\n",
              "    <tr style=\"text-align: right;\">\n",
              "      <th></th>\n",
              "      <th>index</th>\n",
              "      <th>text</th>\n",
              "      <th>tag</th>\n",
              "    </tr>\n",
              "  </thead>\n",
              "  <tbody>\n",
              "    <tr>\n",
              "      <th>83200</th>\n",
              "      <td>6</td>\n",
              "      <td>기졸이</td>\n",
              "      <td>-</td>\n",
              "    </tr>\n",
              "    <tr>\n",
              "      <th>178587</th>\n",
              "      <td>4</td>\n",
              "      <td>알린</td>\n",
              "      <td>-</td>\n",
              "    </tr>\n",
              "    <tr>\n",
              "      <th>544324</th>\n",
              "      <td>5</td>\n",
              "      <td>2월이나</td>\n",
              "      <td>DAT_B</td>\n",
              "    </tr>\n",
              "    <tr>\n",
              "      <th>679461</th>\n",
              "      <td>14</td>\n",
              "      <td>것으로</td>\n",
              "      <td>-</td>\n",
              "    </tr>\n",
              "    <tr>\n",
              "      <th>13323</th>\n",
              "      <td>35</td>\n",
              "      <td>방자가</td>\n",
              "      <td>-</td>\n",
              "    </tr>\n",
              "    <tr>\n",
              "      <th>516933</th>\n",
              "      <td>4</td>\n",
              "      <td>4년</td>\n",
              "      <td>DAT_B</td>\n",
              "    </tr>\n",
              "  </tbody>\n",
              "</table>\n",
              "</div>\n",
              "    <div class=\"colab-df-buttons\">\n",
              "\n",
              "  <div class=\"colab-df-container\">\n",
              "    <button class=\"colab-df-convert\" onclick=\"convertToInteractive('df-fdc4bfc7-76a7-4197-894b-27b3fe4a2416')\"\n",
              "            title=\"Convert this dataframe to an interactive table.\"\n",
              "            style=\"display:none;\">\n",
              "\n",
              "  <svg xmlns=\"http://www.w3.org/2000/svg\" height=\"24px\" viewBox=\"0 -960 960 960\">\n",
              "    <path d=\"M120-120v-720h720v720H120Zm60-500h600v-160H180v160Zm220 220h160v-160H400v160Zm0 220h160v-160H400v160ZM180-400h160v-160H180v160Zm440 0h160v-160H620v160ZM180-180h160v-160H180v160Zm440 0h160v-160H620v160Z\"/>\n",
              "  </svg>\n",
              "    </button>\n",
              "\n",
              "  <style>\n",
              "    .colab-df-container {\n",
              "      display:flex;\n",
              "      gap: 12px;\n",
              "    }\n",
              "\n",
              "    .colab-df-convert {\n",
              "      background-color: #E8F0FE;\n",
              "      border: none;\n",
              "      border-radius: 50%;\n",
              "      cursor: pointer;\n",
              "      display: none;\n",
              "      fill: #1967D2;\n",
              "      height: 32px;\n",
              "      padding: 0 0 0 0;\n",
              "      width: 32px;\n",
              "    }\n",
              "\n",
              "    .colab-df-convert:hover {\n",
              "      background-color: #E2EBFA;\n",
              "      box-shadow: 0px 1px 2px rgba(60, 64, 67, 0.3), 0px 1px 3px 1px rgba(60, 64, 67, 0.15);\n",
              "      fill: #174EA6;\n",
              "    }\n",
              "\n",
              "    .colab-df-buttons div {\n",
              "      margin-bottom: 4px;\n",
              "    }\n",
              "\n",
              "    [theme=dark] .colab-df-convert {\n",
              "      background-color: #3B4455;\n",
              "      fill: #D2E3FC;\n",
              "    }\n",
              "\n",
              "    [theme=dark] .colab-df-convert:hover {\n",
              "      background-color: #434B5C;\n",
              "      box-shadow: 0px 1px 3px 1px rgba(0, 0, 0, 0.15);\n",
              "      filter: drop-shadow(0px 1px 2px rgba(0, 0, 0, 0.3));\n",
              "      fill: #FFFFFF;\n",
              "    }\n",
              "  </style>\n",
              "\n",
              "    <script>\n",
              "      const buttonEl =\n",
              "        document.querySelector('#df-fdc4bfc7-76a7-4197-894b-27b3fe4a2416 button.colab-df-convert');\n",
              "      buttonEl.style.display =\n",
              "        google.colab.kernel.accessAllowed ? 'block' : 'none';\n",
              "\n",
              "      async function convertToInteractive(key) {\n",
              "        const element = document.querySelector('#df-fdc4bfc7-76a7-4197-894b-27b3fe4a2416');\n",
              "        const dataTable =\n",
              "          await google.colab.kernel.invokeFunction('convertToInteractive',\n",
              "                                                    [key], {});\n",
              "        if (!dataTable) return;\n",
              "\n",
              "        const docLinkHtml = 'Like what you see? Visit the ' +\n",
              "          '<a target=\"_blank\" href=https://colab.research.google.com/notebooks/data_table.ipynb>data table notebook</a>'\n",
              "          + ' to learn more about interactive tables.';\n",
              "        element.innerHTML = '';\n",
              "        dataTable['output_type'] = 'display_data';\n",
              "        await google.colab.output.renderOutput(dataTable, element);\n",
              "        const docLink = document.createElement('div');\n",
              "        docLink.innerHTML = docLinkHtml;\n",
              "        element.appendChild(docLink);\n",
              "      }\n",
              "    </script>\n",
              "  </div>\n",
              "\n",
              "\n",
              "<div id=\"df-b3c664c5-f7cd-4830-ba6f-edef9d075126\">\n",
              "  <button class=\"colab-df-quickchart\" onclick=\"quickchart('df-b3c664c5-f7cd-4830-ba6f-edef9d075126')\"\n",
              "            title=\"Suggest charts\"\n",
              "            style=\"display:none;\">\n",
              "\n",
              "<svg xmlns=\"http://www.w3.org/2000/svg\" height=\"24px\"viewBox=\"0 0 24 24\"\n",
              "     width=\"24px\">\n",
              "    <g>\n",
              "        <path d=\"M19 3H5c-1.1 0-2 .9-2 2v14c0 1.1.9 2 2 2h14c1.1 0 2-.9 2-2V5c0-1.1-.9-2-2-2zM9 17H7v-7h2v7zm4 0h-2V7h2v10zm4 0h-2v-4h2v4z\"/>\n",
              "    </g>\n",
              "</svg>\n",
              "  </button>\n",
              "\n",
              "<style>\n",
              "  .colab-df-quickchart {\n",
              "      --bg-color: #E8F0FE;\n",
              "      --fill-color: #1967D2;\n",
              "      --hover-bg-color: #E2EBFA;\n",
              "      --hover-fill-color: #174EA6;\n",
              "      --disabled-fill-color: #AAA;\n",
              "      --disabled-bg-color: #DDD;\n",
              "  }\n",
              "\n",
              "  [theme=dark] .colab-df-quickchart {\n",
              "      --bg-color: #3B4455;\n",
              "      --fill-color: #D2E3FC;\n",
              "      --hover-bg-color: #434B5C;\n",
              "      --hover-fill-color: #FFFFFF;\n",
              "      --disabled-bg-color: #3B4455;\n",
              "      --disabled-fill-color: #666;\n",
              "  }\n",
              "\n",
              "  .colab-df-quickchart {\n",
              "    background-color: var(--bg-color);\n",
              "    border: none;\n",
              "    border-radius: 50%;\n",
              "    cursor: pointer;\n",
              "    display: none;\n",
              "    fill: var(--fill-color);\n",
              "    height: 32px;\n",
              "    padding: 0;\n",
              "    width: 32px;\n",
              "  }\n",
              "\n",
              "  .colab-df-quickchart:hover {\n",
              "    background-color: var(--hover-bg-color);\n",
              "    box-shadow: 0 1px 2px rgba(60, 64, 67, 0.3), 0 1px 3px 1px rgba(60, 64, 67, 0.15);\n",
              "    fill: var(--button-hover-fill-color);\n",
              "  }\n",
              "\n",
              "  .colab-df-quickchart-complete:disabled,\n",
              "  .colab-df-quickchart-complete:disabled:hover {\n",
              "    background-color: var(--disabled-bg-color);\n",
              "    fill: var(--disabled-fill-color);\n",
              "    box-shadow: none;\n",
              "  }\n",
              "\n",
              "  .colab-df-spinner {\n",
              "    border: 2px solid var(--fill-color);\n",
              "    border-color: transparent;\n",
              "    border-bottom-color: var(--fill-color);\n",
              "    animation:\n",
              "      spin 1s steps(1) infinite;\n",
              "  }\n",
              "\n",
              "  @keyframes spin {\n",
              "    0% {\n",
              "      border-color: transparent;\n",
              "      border-bottom-color: var(--fill-color);\n",
              "      border-left-color: var(--fill-color);\n",
              "    }\n",
              "    20% {\n",
              "      border-color: transparent;\n",
              "      border-left-color: var(--fill-color);\n",
              "      border-top-color: var(--fill-color);\n",
              "    }\n",
              "    30% {\n",
              "      border-color: transparent;\n",
              "      border-left-color: var(--fill-color);\n",
              "      border-top-color: var(--fill-color);\n",
              "      border-right-color: var(--fill-color);\n",
              "    }\n",
              "    40% {\n",
              "      border-color: transparent;\n",
              "      border-right-color: var(--fill-color);\n",
              "      border-top-color: var(--fill-color);\n",
              "    }\n",
              "    60% {\n",
              "      border-color: transparent;\n",
              "      border-right-color: var(--fill-color);\n",
              "    }\n",
              "    80% {\n",
              "      border-color: transparent;\n",
              "      border-right-color: var(--fill-color);\n",
              "      border-bottom-color: var(--fill-color);\n",
              "    }\n",
              "    90% {\n",
              "      border-color: transparent;\n",
              "      border-bottom-color: var(--fill-color);\n",
              "    }\n",
              "  }\n",
              "</style>\n",
              "\n",
              "  <script>\n",
              "    async function quickchart(key) {\n",
              "      const quickchartButtonEl =\n",
              "        document.querySelector('#' + key + ' button');\n",
              "      quickchartButtonEl.disabled = true;  // To prevent multiple clicks.\n",
              "      quickchartButtonEl.classList.add('colab-df-spinner');\n",
              "      try {\n",
              "        const charts = await google.colab.kernel.invokeFunction(\n",
              "            'suggestCharts', [key], {});\n",
              "      } catch (error) {\n",
              "        console.error('Error during call to suggestCharts:', error);\n",
              "      }\n",
              "      quickchartButtonEl.classList.remove('colab-df-spinner');\n",
              "      quickchartButtonEl.classList.add('colab-df-quickchart-complete');\n",
              "    }\n",
              "    (() => {\n",
              "      let quickchartButtonEl =\n",
              "        document.querySelector('#df-b3c664c5-f7cd-4830-ba6f-edef9d075126 button');\n",
              "      quickchartButtonEl.style.display =\n",
              "        google.colab.kernel.accessAllowed ? 'block' : 'none';\n",
              "    })();\n",
              "  </script>\n",
              "</div>\n",
              "\n",
              "    </div>\n",
              "  </div>\n"
            ],
            "application/vnd.google.colaboratory.intrinsic+json": {
              "type": "dataframe",
              "summary": "{\n  \"name\": \"data_pd\",\n  \"rows\": 6,\n  \"fields\": [\n    {\n      \"column\": \"index\",\n      \"properties\": {\n        \"dtype\": \"number\",\n        \"std\": 12,\n        \"min\": 4,\n        \"max\": 35,\n        \"num_unique_values\": 5,\n        \"samples\": [\n          4,\n          35,\n          5\n        ],\n        \"semantic_type\": \"\",\n        \"description\": \"\"\n      }\n    },\n    {\n      \"column\": \"text\",\n      \"properties\": {\n        \"dtype\": \"string\",\n        \"num_unique_values\": 6,\n        \"samples\": [\n          \"\\uae30\\uc878\\uc774\",\n          \"\\uc54c\\ub9b0\",\n          \"4\\ub144\"\n        ],\n        \"semantic_type\": \"\",\n        \"description\": \"\"\n      }\n    },\n    {\n      \"column\": \"tag\",\n      \"properties\": {\n        \"dtype\": \"category\",\n        \"num_unique_values\": 2,\n        \"samples\": [\n          \"DAT_B\",\n          \"-\"\n        ],\n        \"semantic_type\": \"\",\n        \"description\": \"\"\n      }\n    }\n  ]\n}"
            }
          },
          "metadata": {},
          "execution_count": 4
        }
      ]
    },
    {
      "cell_type": "code",
      "source": [
        "# 전체 데이터 개수 확인\n",
        "print(f\"전체 문장 조각 개수는 {len(data_pd)}개입니다.\")"
      ],
      "metadata": {
        "colab": {
          "base_uri": "https://localhost:8080/"
        },
        "id": "at82w9qs3Vak",
        "outputId": "c0f2d8ac-1eec-42a2-fdc5-d2b071d49519"
      },
      "execution_count": 5,
      "outputs": [
        {
          "output_type": "stream",
          "name": "stdout",
          "text": [
            "전체 문장 조각 개수는 769065개입니다.\n"
          ]
        }
      ]
    },
    {
      "cell_type": "code",
      "source": [
        "print(data_pd.dtypes)\n",
        "data_pd['text'] = data_pd['text'].astype(str) # 혹시 몰라서 한 번 더 명시\n",
        "data_pd['tag'] = data_pd['tag'].astype(str)"
      ],
      "metadata": {
        "colab": {
          "base_uri": "https://localhost:8080/"
        },
        "id": "A_yNMfS23UbZ",
        "outputId": "72dce3b0-8b54-45b7-b5ff-2b7ef67f7e25"
      },
      "execution_count": 6,
      "outputs": [
        {
          "output_type": "stream",
          "name": "stdout",
          "text": [
            "index     int64\n",
            "text     object\n",
            "tag      object\n",
            "dtype: object\n"
          ]
        }
      ]
    },
    {
      "cell_type": "code",
      "source": [
        "pattern = r\"[^ㄱ-ㅎㅏ-ㅣ가-힣0-9a-zA-Z ]\"\n",
        "def clean(text):\n",
        "  return re.sub(pattern,\"\",text)\n",
        "data_pd['text'] = data_pd['text'].apply(clean)\n",
        "data_pd[40:50]"
      ],
      "metadata": {
        "colab": {
          "base_uri": "https://localhost:8080/",
          "height": 363
        },
        "id": "r8Gm6kwr3YBo",
        "outputId": "a4420dfc-8db3-40dd-8357-480ec937a929"
      },
      "execution_count": 7,
      "outputs": [
        {
          "output_type": "execute_result",
          "data": {
            "text/plain": [
              "    index    text    tag\n",
              "40     10              -\n",
              "41      1              -\n",
              "42      2     퍼거슨  PER_B\n",
              "43      3     씨족의  CVL_B\n",
              "44      4       꾀      -\n",
              "45      1  유로2008  EVT_B\n",
              "46      2    공인구가  CVL_B\n",
              "47      3      변할      -\n",
              "48      4      기록      -\n",
              "49      5   시정조치는  CVL_B"
            ],
            "text/html": [
              "\n",
              "  <div id=\"df-64f4e93e-ed3d-45ab-aeb1-262ccdb52585\" class=\"colab-df-container\">\n",
              "    <div>\n",
              "<style scoped>\n",
              "    .dataframe tbody tr th:only-of-type {\n",
              "        vertical-align: middle;\n",
              "    }\n",
              "\n",
              "    .dataframe tbody tr th {\n",
              "        vertical-align: top;\n",
              "    }\n",
              "\n",
              "    .dataframe thead th {\n",
              "        text-align: right;\n",
              "    }\n",
              "</style>\n",
              "<table border=\"1\" class=\"dataframe\">\n",
              "  <thead>\n",
              "    <tr style=\"text-align: right;\">\n",
              "      <th></th>\n",
              "      <th>index</th>\n",
              "      <th>text</th>\n",
              "      <th>tag</th>\n",
              "    </tr>\n",
              "  </thead>\n",
              "  <tbody>\n",
              "    <tr>\n",
              "      <th>40</th>\n",
              "      <td>10</td>\n",
              "      <td></td>\n",
              "      <td>-</td>\n",
              "    </tr>\n",
              "    <tr>\n",
              "      <th>41</th>\n",
              "      <td>1</td>\n",
              "      <td></td>\n",
              "      <td>-</td>\n",
              "    </tr>\n",
              "    <tr>\n",
              "      <th>42</th>\n",
              "      <td>2</td>\n",
              "      <td>퍼거슨</td>\n",
              "      <td>PER_B</td>\n",
              "    </tr>\n",
              "    <tr>\n",
              "      <th>43</th>\n",
              "      <td>3</td>\n",
              "      <td>씨족의</td>\n",
              "      <td>CVL_B</td>\n",
              "    </tr>\n",
              "    <tr>\n",
              "      <th>44</th>\n",
              "      <td>4</td>\n",
              "      <td>꾀</td>\n",
              "      <td>-</td>\n",
              "    </tr>\n",
              "    <tr>\n",
              "      <th>45</th>\n",
              "      <td>1</td>\n",
              "      <td>유로2008</td>\n",
              "      <td>EVT_B</td>\n",
              "    </tr>\n",
              "    <tr>\n",
              "      <th>46</th>\n",
              "      <td>2</td>\n",
              "      <td>공인구가</td>\n",
              "      <td>CVL_B</td>\n",
              "    </tr>\n",
              "    <tr>\n",
              "      <th>47</th>\n",
              "      <td>3</td>\n",
              "      <td>변할</td>\n",
              "      <td>-</td>\n",
              "    </tr>\n",
              "    <tr>\n",
              "      <th>48</th>\n",
              "      <td>4</td>\n",
              "      <td>기록</td>\n",
              "      <td>-</td>\n",
              "    </tr>\n",
              "    <tr>\n",
              "      <th>49</th>\n",
              "      <td>5</td>\n",
              "      <td>시정조치는</td>\n",
              "      <td>CVL_B</td>\n",
              "    </tr>\n",
              "  </tbody>\n",
              "</table>\n",
              "</div>\n",
              "    <div class=\"colab-df-buttons\">\n",
              "\n",
              "  <div class=\"colab-df-container\">\n",
              "    <button class=\"colab-df-convert\" onclick=\"convertToInteractive('df-64f4e93e-ed3d-45ab-aeb1-262ccdb52585')\"\n",
              "            title=\"Convert this dataframe to an interactive table.\"\n",
              "            style=\"display:none;\">\n",
              "\n",
              "  <svg xmlns=\"http://www.w3.org/2000/svg\" height=\"24px\" viewBox=\"0 -960 960 960\">\n",
              "    <path d=\"M120-120v-720h720v720H120Zm60-500h600v-160H180v160Zm220 220h160v-160H400v160Zm0 220h160v-160H400v160ZM180-400h160v-160H180v160Zm440 0h160v-160H620v160ZM180-180h160v-160H180v160Zm440 0h160v-160H620v160Z\"/>\n",
              "  </svg>\n",
              "    </button>\n",
              "\n",
              "  <style>\n",
              "    .colab-df-container {\n",
              "      display:flex;\n",
              "      gap: 12px;\n",
              "    }\n",
              "\n",
              "    .colab-df-convert {\n",
              "      background-color: #E8F0FE;\n",
              "      border: none;\n",
              "      border-radius: 50%;\n",
              "      cursor: pointer;\n",
              "      display: none;\n",
              "      fill: #1967D2;\n",
              "      height: 32px;\n",
              "      padding: 0 0 0 0;\n",
              "      width: 32px;\n",
              "    }\n",
              "\n",
              "    .colab-df-convert:hover {\n",
              "      background-color: #E2EBFA;\n",
              "      box-shadow: 0px 1px 2px rgba(60, 64, 67, 0.3), 0px 1px 3px 1px rgba(60, 64, 67, 0.15);\n",
              "      fill: #174EA6;\n",
              "    }\n",
              "\n",
              "    .colab-df-buttons div {\n",
              "      margin-bottom: 4px;\n",
              "    }\n",
              "\n",
              "    [theme=dark] .colab-df-convert {\n",
              "      background-color: #3B4455;\n",
              "      fill: #D2E3FC;\n",
              "    }\n",
              "\n",
              "    [theme=dark] .colab-df-convert:hover {\n",
              "      background-color: #434B5C;\n",
              "      box-shadow: 0px 1px 3px 1px rgba(0, 0, 0, 0.15);\n",
              "      filter: drop-shadow(0px 1px 2px rgba(0, 0, 0, 0.3));\n",
              "      fill: #FFFFFF;\n",
              "    }\n",
              "  </style>\n",
              "\n",
              "    <script>\n",
              "      const buttonEl =\n",
              "        document.querySelector('#df-64f4e93e-ed3d-45ab-aeb1-262ccdb52585 button.colab-df-convert');\n",
              "      buttonEl.style.display =\n",
              "        google.colab.kernel.accessAllowed ? 'block' : 'none';\n",
              "\n",
              "      async function convertToInteractive(key) {\n",
              "        const element = document.querySelector('#df-64f4e93e-ed3d-45ab-aeb1-262ccdb52585');\n",
              "        const dataTable =\n",
              "          await google.colab.kernel.invokeFunction('convertToInteractive',\n",
              "                                                    [key], {});\n",
              "        if (!dataTable) return;\n",
              "\n",
              "        const docLinkHtml = 'Like what you see? Visit the ' +\n",
              "          '<a target=\"_blank\" href=https://colab.research.google.com/notebooks/data_table.ipynb>data table notebook</a>'\n",
              "          + ' to learn more about interactive tables.';\n",
              "        element.innerHTML = '';\n",
              "        dataTable['output_type'] = 'display_data';\n",
              "        await google.colab.output.renderOutput(dataTable, element);\n",
              "        const docLink = document.createElement('div');\n",
              "        docLink.innerHTML = docLinkHtml;\n",
              "        element.appendChild(docLink);\n",
              "      }\n",
              "    </script>\n",
              "  </div>\n",
              "\n",
              "\n",
              "<div id=\"df-2ed91ae3-ff9b-4140-9ade-07ea5318aa4b\">\n",
              "  <button class=\"colab-df-quickchart\" onclick=\"quickchart('df-2ed91ae3-ff9b-4140-9ade-07ea5318aa4b')\"\n",
              "            title=\"Suggest charts\"\n",
              "            style=\"display:none;\">\n",
              "\n",
              "<svg xmlns=\"http://www.w3.org/2000/svg\" height=\"24px\"viewBox=\"0 0 24 24\"\n",
              "     width=\"24px\">\n",
              "    <g>\n",
              "        <path d=\"M19 3H5c-1.1 0-2 .9-2 2v14c0 1.1.9 2 2 2h14c1.1 0 2-.9 2-2V5c0-1.1-.9-2-2-2zM9 17H7v-7h2v7zm4 0h-2V7h2v10zm4 0h-2v-4h2v4z\"/>\n",
              "    </g>\n",
              "</svg>\n",
              "  </button>\n",
              "\n",
              "<style>\n",
              "  .colab-df-quickchart {\n",
              "      --bg-color: #E8F0FE;\n",
              "      --fill-color: #1967D2;\n",
              "      --hover-bg-color: #E2EBFA;\n",
              "      --hover-fill-color: #174EA6;\n",
              "      --disabled-fill-color: #AAA;\n",
              "      --disabled-bg-color: #DDD;\n",
              "  }\n",
              "\n",
              "  [theme=dark] .colab-df-quickchart {\n",
              "      --bg-color: #3B4455;\n",
              "      --fill-color: #D2E3FC;\n",
              "      --hover-bg-color: #434B5C;\n",
              "      --hover-fill-color: #FFFFFF;\n",
              "      --disabled-bg-color: #3B4455;\n",
              "      --disabled-fill-color: #666;\n",
              "  }\n",
              "\n",
              "  .colab-df-quickchart {\n",
              "    background-color: var(--bg-color);\n",
              "    border: none;\n",
              "    border-radius: 50%;\n",
              "    cursor: pointer;\n",
              "    display: none;\n",
              "    fill: var(--fill-color);\n",
              "    height: 32px;\n",
              "    padding: 0;\n",
              "    width: 32px;\n",
              "  }\n",
              "\n",
              "  .colab-df-quickchart:hover {\n",
              "    background-color: var(--hover-bg-color);\n",
              "    box-shadow: 0 1px 2px rgba(60, 64, 67, 0.3), 0 1px 3px 1px rgba(60, 64, 67, 0.15);\n",
              "    fill: var(--button-hover-fill-color);\n",
              "  }\n",
              "\n",
              "  .colab-df-quickchart-complete:disabled,\n",
              "  .colab-df-quickchart-complete:disabled:hover {\n",
              "    background-color: var(--disabled-bg-color);\n",
              "    fill: var(--disabled-fill-color);\n",
              "    box-shadow: none;\n",
              "  }\n",
              "\n",
              "  .colab-df-spinner {\n",
              "    border: 2px solid var(--fill-color);\n",
              "    border-color: transparent;\n",
              "    border-bottom-color: var(--fill-color);\n",
              "    animation:\n",
              "      spin 1s steps(1) infinite;\n",
              "  }\n",
              "\n",
              "  @keyframes spin {\n",
              "    0% {\n",
              "      border-color: transparent;\n",
              "      border-bottom-color: var(--fill-color);\n",
              "      border-left-color: var(--fill-color);\n",
              "    }\n",
              "    20% {\n",
              "      border-color: transparent;\n",
              "      border-left-color: var(--fill-color);\n",
              "      border-top-color: var(--fill-color);\n",
              "    }\n",
              "    30% {\n",
              "      border-color: transparent;\n",
              "      border-left-color: var(--fill-color);\n",
              "      border-top-color: var(--fill-color);\n",
              "      border-right-color: var(--fill-color);\n",
              "    }\n",
              "    40% {\n",
              "      border-color: transparent;\n",
              "      border-right-color: var(--fill-color);\n",
              "      border-top-color: var(--fill-color);\n",
              "    }\n",
              "    60% {\n",
              "      border-color: transparent;\n",
              "      border-right-color: var(--fill-color);\n",
              "    }\n",
              "    80% {\n",
              "      border-color: transparent;\n",
              "      border-right-color: var(--fill-color);\n",
              "      border-bottom-color: var(--fill-color);\n",
              "    }\n",
              "    90% {\n",
              "      border-color: transparent;\n",
              "      border-bottom-color: var(--fill-color);\n",
              "    }\n",
              "  }\n",
              "</style>\n",
              "\n",
              "  <script>\n",
              "    async function quickchart(key) {\n",
              "      const quickchartButtonEl =\n",
              "        document.querySelector('#' + key + ' button');\n",
              "      quickchartButtonEl.disabled = true;  // To prevent multiple clicks.\n",
              "      quickchartButtonEl.classList.add('colab-df-spinner');\n",
              "      try {\n",
              "        const charts = await google.colab.kernel.invokeFunction(\n",
              "            'suggestCharts', [key], {});\n",
              "      } catch (error) {\n",
              "        console.error('Error during call to suggestCharts:', error);\n",
              "      }\n",
              "      quickchartButtonEl.classList.remove('colab-df-spinner');\n",
              "      quickchartButtonEl.classList.add('colab-df-quickchart-complete');\n",
              "    }\n",
              "    (() => {\n",
              "      let quickchartButtonEl =\n",
              "        document.querySelector('#df-2ed91ae3-ff9b-4140-9ade-07ea5318aa4b button');\n",
              "      quickchartButtonEl.style.display =\n",
              "        google.colab.kernel.accessAllowed ? 'block' : 'none';\n",
              "    })();\n",
              "  </script>\n",
              "</div>\n",
              "\n",
              "    </div>\n",
              "  </div>\n"
            ],
            "application/vnd.google.colaboratory.intrinsic+json": {
              "type": "dataframe",
              "summary": "{\n  \"name\": \"data_pd[40:50]\",\n  \"rows\": 10,\n  \"fields\": [\n    {\n      \"column\": \"index\",\n      \"properties\": {\n        \"dtype\": \"number\",\n        \"std\": 2,\n        \"min\": 1,\n        \"max\": 10,\n        \"num_unique_values\": 6,\n        \"samples\": [\n          10,\n          1,\n          5\n        ],\n        \"semantic_type\": \"\",\n        \"description\": \"\"\n      }\n    },\n    {\n      \"column\": \"text\",\n      \"properties\": {\n        \"dtype\": \"string\",\n        \"num_unique_values\": 9,\n        \"samples\": [\n          \"\\uae30\\ub85d\",\n          \"\\ud37c\\uac70\\uc2a8\",\n          \"\\uacf5\\uc778\\uad6c\\uac00\"\n        ],\n        \"semantic_type\": \"\",\n        \"description\": \"\"\n      }\n    },\n    {\n      \"column\": \"tag\",\n      \"properties\": {\n        \"dtype\": \"category\",\n        \"num_unique_values\": 4,\n        \"samples\": [\n          \"PER_B\",\n          \"EVT_B\",\n          \"-\"\n        ],\n        \"semantic_type\": \"\",\n        \"description\": \"\"\n      }\n    }\n  ]\n}"
            }
          },
          "metadata": {},
          "execution_count": 7
        }
      ]
    },
    {
      "cell_type": "markdown",
      "source": [
        "# 2. [index, text, tag]의 형식을 갖도록 데이터 분리"
      ],
      "metadata": {
        "id": "z6_bR-Bc3cEk"
      }
    },
    {
      "cell_type": "code",
      "source": [
        "array = data_pd.to_numpy() # array로 만들어주고\n",
        "data = [list(x) for x in array]\n",
        "data[:5]"
      ],
      "metadata": {
        "colab": {
          "base_uri": "https://localhost:8080/"
        },
        "id": "XExXDpJ43aEy",
        "outputId": "a1e63ff8-0ee3-4eb5-d534-14e5eeb5e478"
      },
      "execution_count": 8,
      "outputs": [
        {
          "output_type": "execute_result",
          "data": {
            "text/plain": [
              "[[1, '비토리오', 'PER_B'],\n",
              " [2, '양일', 'DAT_B'],\n",
              " [3, '만에', '-'],\n",
              " [4, '영사관', 'ORG_B'],\n",
              " [5, '감호', 'CVL_B']]"
            ]
          },
          "metadata": {},
          "execution_count": 8
        }
      ]
    },
    {
      "cell_type": "code",
      "source": [
        "# 첫 문장 + 다음 문장 첫 단어\n",
        "data[:11]"
      ],
      "metadata": {
        "colab": {
          "base_uri": "https://localhost:8080/"
        },
        "id": "K9qR7ovO52SC",
        "outputId": "3e8636cb-082d-47c2-c82c-240e58bf66d5"
      },
      "execution_count": 9,
      "outputs": [
        {
          "output_type": "execute_result",
          "data": {
            "text/plain": [
              "[[1, '비토리오', 'PER_B'],\n",
              " [2, '양일', 'DAT_B'],\n",
              " [3, '만에', '-'],\n",
              " [4, '영사관', 'ORG_B'],\n",
              " [5, '감호', 'CVL_B'],\n",
              " [6, '용퇴', '-'],\n",
              " [7, '항룡', '-'],\n",
              " [8, '압력설', '-'],\n",
              " [9, '의심만', '-'],\n",
              " [10, '가율', '-'],\n",
              " [1, '이', '-']]"
            ]
          },
          "metadata": {},
          "execution_count": 9
        }
      ]
    },
    {
      "cell_type": "markdown",
      "source": [
        "# 2. 고유한 tag 모아서 label 리스트에 모아두기, tag_size 구하기"
      ],
      "metadata": {
        "id": "s3QZlxGY580e"
      }
    },
    {
      "cell_type": "code",
      "source": [
        "label = data_pd['tag'].unique().tolist()\n",
        "index_to_tag = {0:\"[PAD]\"}\n",
        "index_to_tag.update({i+1 : tag for i,tag in enumerate(label)})\n",
        "print(index_to_tag) # 총 30개의 고유한 tag 존재"
      ],
      "metadata": {
        "colab": {
          "base_uri": "https://localhost:8080/"
        },
        "id": "Q3j0_75H5339",
        "outputId": "e0c39660-754a-4d73-d9a7-86d406935294"
      },
      "execution_count": 10,
      "outputs": [
        {
          "output_type": "stream",
          "name": "stdout",
          "text": [
            "{0: '[PAD]', 1: 'PER_B', 2: 'DAT_B', 3: '-', 4: 'ORG_B', 5: 'CVL_B', 6: 'NUM_B', 7: 'LOC_B', 8: 'EVT_B', 9: 'TRM_B', 10: 'TRM_I', 11: 'EVT_I', 12: 'PER_I', 13: 'CVL_I', 14: 'NUM_I', 15: 'TIM_B', 16: 'TIM_I', 17: 'ORG_I', 18: 'DAT_I', 19: 'ANM_B', 20: 'MAT_B', 21: 'MAT_I', 22: 'AFW_B', 23: 'FLD_B', 24: 'LOC_I', 25: 'AFW_I', 26: 'PLT_B', 27: 'FLD_I', 28: 'ANM_I', 29: 'PLT_I'}\n"
          ]
        }
      ]
    },
    {
      "cell_type": "code",
      "source": [
        "tag_size = len(index_to_tag)\n",
        "tag_size"
      ],
      "metadata": {
        "colab": {
          "base_uri": "https://localhost:8080/"
        },
        "id": "WtHAEPyS57Mp",
        "outputId": "1be052c4-e852-416c-85ca-4c1ebb6d0bc1"
      },
      "execution_count": 11,
      "outputs": [
        {
          "output_type": "execute_result",
          "data": {
            "text/plain": [
              "30"
            ]
          },
          "metadata": {},
          "execution_count": 11
        }
      ]
    },
    {
      "cell_type": "code",
      "source": [
        "tag_to_index = {i:j for j,i in index_to_tag.items()}\n",
        "print(tag_to_index)"
      ],
      "metadata": {
        "colab": {
          "base_uri": "https://localhost:8080/"
        },
        "id": "-iC1S-T2xL9T",
        "outputId": "a9dff5e3-e8d9-457a-db6e-a801d99d1939"
      },
      "execution_count": 12,
      "outputs": [
        {
          "output_type": "stream",
          "name": "stdout",
          "text": [
            "{'[PAD]': 0, 'PER_B': 1, 'DAT_B': 2, '-': 3, 'ORG_B': 4, 'CVL_B': 5, 'NUM_B': 6, 'LOC_B': 7, 'EVT_B': 8, 'TRM_B': 9, 'TRM_I': 10, 'EVT_I': 11, 'PER_I': 12, 'CVL_I': 13, 'NUM_I': 14, 'TIM_B': 15, 'TIM_I': 16, 'ORG_I': 17, 'DAT_I': 18, 'ANM_B': 19, 'MAT_B': 20, 'MAT_I': 21, 'AFW_B': 22, 'FLD_B': 23, 'LOC_I': 24, 'AFW_I': 25, 'PLT_B': 26, 'FLD_I': 27, 'ANM_I': 28, 'PLT_I': 29}\n"
          ]
        }
      ]
    },
    {
      "cell_type": "markdown",
      "source": [
        "# 3. 문장 분리\n",
        "- 문장 단위로 끊어서 original_sentences에 저장\n",
        "- 그 뒤에는 각 문장 앞 뒤로 [CLS]와 [SEP]을 넣은 뒤\n",
        "  - text만 모아서 texts에\n",
        "  - tag만 모아서 tags에\n",
        "  - tag의 index들 모아서 tags_index에\n",
        "  - text & tag 모아서 tts에"
      ],
      "metadata": {
        "id": "qhGCyKcP6BX7"
      }
    },
    {
      "cell_type": "code",
      "source": [
        "original_sentences = []\n",
        "temporary = []\n",
        "\n",
        "# 일단 문장을 temporary에 저장해두고 i=1이 되면 그동안 모은 걸 싹 넣어버려야지\n",
        "# i=1 & temporary에 문장이 있다면 sentences에 append하고, temporary를 리셋해\n",
        "# 그게 아니라면 temporary에 계속 append\n",
        "\n",
        "for i, j, k in data:\n",
        "  if i == 1 and temporary: # 1이고, temporary에 문장이 들어있다면 (전 문장이겠지)\n",
        "    original_sentences.append(temporary)\n",
        "    temporary = []\n",
        "  temporary.append([i,j,k])\n",
        "\n",
        "if temporary: # 마지막 문장 추가\n",
        "  original_sentences.append(temporary)\n",
        "\n",
        "original_sentences[0] # 성공이닷"
      ],
      "metadata": {
        "colab": {
          "base_uri": "https://localhost:8080/"
        },
        "id": "-eI2MwAC6AoD",
        "outputId": "8998c9d8-c629-4c06-afe0-e744229d31f1"
      },
      "execution_count": 13,
      "outputs": [
        {
          "output_type": "execute_result",
          "data": {
            "text/plain": [
              "[[1, '비토리오', 'PER_B'],\n",
              " [2, '양일', 'DAT_B'],\n",
              " [3, '만에', '-'],\n",
              " [4, '영사관', 'ORG_B'],\n",
              " [5, '감호', 'CVL_B'],\n",
              " [6, '용퇴', '-'],\n",
              " [7, '항룡', '-'],\n",
              " [8, '압력설', '-'],\n",
              " [9, '의심만', '-'],\n",
              " [10, '가율', '-']]"
            ]
          },
          "metadata": {},
          "execution_count": 13
        }
      ]
    },
    {
      "cell_type": "code",
      "source": [
        "texts = []\n",
        "tags = []\n",
        "tags_index = []\n",
        "tts = []\n",
        "\n",
        "for sentence in original_sentences:\n",
        "  text = ['[CLS]'] + [item[1] for item in sentence] +['[SEP]']\n",
        "  tag = ['-'] + [item[2] for item in sentence] + ['-']\n",
        "  texts.append(text)\n",
        "  tags.append(tag)\n",
        "  tags_index.append([tag_to_index[t] for t in tag])\n",
        "  together = [[txt,tag_to_index[tg]] for txt,tg in zip(text, tag)]\n",
        "  tts.append(together)\n",
        "\n",
        "print(f\"첫 문장은 {texts[0]}이고\")\n",
        "print(f\"태깅을 진행하면 {tags[0]}가 됩니당\")\n",
        "print(f\"태그를 index로 변환하면 {tags_index[0]}이에요!\")\n",
        "print(f\"모아서 보면 {tts[0]} 이렇게 돼요!\")"
      ],
      "metadata": {
        "colab": {
          "base_uri": "https://localhost:8080/"
        },
        "id": "wPcm_lso6I8G",
        "outputId": "618f3746-a427-4dc1-94f0-0e40c68a0894"
      },
      "execution_count": 14,
      "outputs": [
        {
          "output_type": "stream",
          "name": "stdout",
          "text": [
            "첫 문장은 ['[CLS]', '비토리오', '양일', '만에', '영사관', '감호', '용퇴', '항룡', '압력설', '의심만', '가율', '[SEP]']이고\n",
            "태깅을 진행하면 ['-', 'PER_B', 'DAT_B', '-', 'ORG_B', 'CVL_B', '-', '-', '-', '-', '-', '-']가 됩니당\n",
            "태그를 index로 변환하면 [3, 1, 2, 3, 4, 5, 3, 3, 3, 3, 3, 3]이에요!\n",
            "모아서 보면 [['[CLS]', 3], ['비토리오', 1], ['양일', 2], ['만에', 3], ['영사관', 4], ['감호', 5], ['용퇴', 3], ['항룡', 3], ['압력설', 3], ['의심만', 3], ['가율', 3], ['[SEP]', 3]] 이렇게 돼요!\n"
          ]
        }
      ]
    },
    {
      "cell_type": "markdown",
      "source": [
        "# 4. 토큰화 진행 - BERT 사용"
      ],
      "metadata": {
        "id": "tzJ8pwbO6MES"
      }
    },
    {
      "cell_type": "code",
      "source": [
        "!pip install transformers"
      ],
      "metadata": {
        "colab": {
          "base_uri": "https://localhost:8080/"
        },
        "id": "5ZGlGztV6OZr",
        "outputId": "68258b6a-9238-4114-c026-596650b0d13a"
      },
      "execution_count": 15,
      "outputs": [
        {
          "output_type": "stream",
          "name": "stdout",
          "text": [
            "Requirement already satisfied: transformers in /usr/local/lib/python3.10/dist-packages (4.42.4)\n",
            "Requirement already satisfied: filelock in /usr/local/lib/python3.10/dist-packages (from transformers) (3.15.4)\n",
            "Requirement already satisfied: huggingface-hub<1.0,>=0.23.2 in /usr/local/lib/python3.10/dist-packages (from transformers) (0.23.5)\n",
            "Requirement already satisfied: numpy<2.0,>=1.17 in /usr/local/lib/python3.10/dist-packages (from transformers) (1.26.4)\n",
            "Requirement already satisfied: packaging>=20.0 in /usr/local/lib/python3.10/dist-packages (from transformers) (24.1)\n",
            "Requirement already satisfied: pyyaml>=5.1 in /usr/local/lib/python3.10/dist-packages (from transformers) (6.0.2)\n",
            "Requirement already satisfied: regex!=2019.12.17 in /usr/local/lib/python3.10/dist-packages (from transformers) (2024.5.15)\n",
            "Requirement already satisfied: requests in /usr/local/lib/python3.10/dist-packages (from transformers) (2.32.3)\n",
            "Requirement already satisfied: safetensors>=0.4.1 in /usr/local/lib/python3.10/dist-packages (from transformers) (0.4.4)\n",
            "Requirement already satisfied: tokenizers<0.20,>=0.19 in /usr/local/lib/python3.10/dist-packages (from transformers) (0.19.1)\n",
            "Requirement already satisfied: tqdm>=4.27 in /usr/local/lib/python3.10/dist-packages (from transformers) (4.66.5)\n",
            "Requirement already satisfied: fsspec>=2023.5.0 in /usr/local/lib/python3.10/dist-packages (from huggingface-hub<1.0,>=0.23.2->transformers) (2024.6.1)\n",
            "Requirement already satisfied: typing-extensions>=3.7.4.3 in /usr/local/lib/python3.10/dist-packages (from huggingface-hub<1.0,>=0.23.2->transformers) (4.12.2)\n",
            "Requirement already satisfied: charset-normalizer<4,>=2 in /usr/local/lib/python3.10/dist-packages (from requests->transformers) (3.3.2)\n",
            "Requirement already satisfied: idna<4,>=2.5 in /usr/local/lib/python3.10/dist-packages (from requests->transformers) (3.7)\n",
            "Requirement already satisfied: urllib3<3,>=1.21.1 in /usr/local/lib/python3.10/dist-packages (from requests->transformers) (2.0.7)\n",
            "Requirement already satisfied: certifi>=2017.4.17 in /usr/local/lib/python3.10/dist-packages (from requests->transformers) (2024.7.4)\n"
          ]
        }
      ]
    },
    {
      "cell_type": "code",
      "source": [
        "from transformers import BertTokenizer\n",
        "\n",
        "tokenizer = BertTokenizer.from_pretrained('bert-base-multilingual-cased')"
      ],
      "metadata": {
        "id": "b7TKVa518v-y",
        "colab": {
          "base_uri": "https://localhost:8080/",
          "height": 276,
          "referenced_widgets": [
            "dd5f9ad8ef644d6ba8152eb3967320f9",
            "f742bda5392a420a827f9811cdf33724",
            "3ba56b9e25db48988c52d8d369b5e840",
            "9a3d0b1e951848528ab95621e512cc10",
            "347b41a014be4543b5b09dc6a1421a1e",
            "5d07d170565245429c0274b2aa26a794",
            "2130d6c93753465b8fdb9367e9d3916d",
            "5ee5063fcb3c4efb9b0e3c0be3db8819",
            "ec0561e33dcb4b62b96db0fd3a77e0df",
            "b7ffd4d0aa354573a36e15fb3ce92292",
            "b87f9103427c4088b7c3b49443a1225f",
            "e032728ed0d1451cad3a32b425125bb2",
            "9de54cb07f4c4b3daf17ac8d0196ebde",
            "3180a69cb26345ed9cc00b7610a7c5dd",
            "c281573c12a0499188c7ecf3dc0deb00",
            "f0ccea4ee4a544629783fbb7815cbec4",
            "17f7e2c996e44736a72f45c1edeccc6d",
            "2037e160e73d49588194b63f9eed9faf",
            "a43fc93b903c4506b1e330fab5e7f943",
            "ae77b321b8a6470894ef036c1ab6141f",
            "bbac508eb3a34a2d9cd3f316dc4f3b1b",
            "f86da9f2704e44399deb2d29b0ab753d",
            "a7b4fe0be80d4ae2bc90edc435d1c2a4",
            "0d49f85d4e4b4c80b1c2388231669dac",
            "00e5e32200f944ddbc411a4d4b3df107",
            "329efb185ebb47539859b545cc0b7dfb",
            "af4726ddc2bc404d85bb3caa5f5c2074",
            "9edeb24de4c44239b0e094b9834385ce",
            "9524c25217b3469fb1b237ebc9b85d17",
            "ab37e12e5ce741bab1e41c2e6527e3f0",
            "e1d6f2caa7b14518a7b1a276603da0db",
            "5c0aeb7f67264367803ef05d8be019d8",
            "78fb8432e48d49d8b4bb5a6eba562906",
            "e4b2498efd744b81bcd6d912ac2ff1ca",
            "4655edf0b5574b5ebab59fb3ce7ba9ea",
            "781a4eda1a6944f190723b3fa74ea718",
            "a9c950c1c0d945b69e64df3c35ce9a4f",
            "fa271244dc7d45f1a74dd78cc3103120",
            "1229a5319202454da5f9ab14b7a0b796",
            "858ae4baed9f493198f08a790ec6ec72",
            "2ac0982ea6bc49d9a88f9f1accb9c3c9",
            "1eb3fd8c7e1249a79afca49909c4d871",
            "b460cda853f9458fac69953716257fcf",
            "c272f0bbd8b64681a47170bee86b683f"
          ]
        },
        "outputId": "f9493537-01c9-4480-98a0-c5efdbf34bc1"
      },
      "execution_count": 16,
      "outputs": [
        {
          "output_type": "stream",
          "name": "stderr",
          "text": [
            "/usr/local/lib/python3.10/dist-packages/huggingface_hub/utils/_token.py:89: UserWarning: \n",
            "The secret `HF_TOKEN` does not exist in your Colab secrets.\n",
            "To authenticate with the Hugging Face Hub, create a token in your settings tab (https://huggingface.co/settings/tokens), set it as secret in your Google Colab and restart your session.\n",
            "You will be able to reuse this secret in all of your notebooks.\n",
            "Please note that authentication is recommended but still optional to access public models or datasets.\n",
            "  warnings.warn(\n"
          ]
        },
        {
          "output_type": "display_data",
          "data": {
            "text/plain": [
              "tokenizer_config.json:   0%|          | 0.00/49.0 [00:00<?, ?B/s]"
            ],
            "application/vnd.jupyter.widget-view+json": {
              "version_major": 2,
              "version_minor": 0,
              "model_id": "dd5f9ad8ef644d6ba8152eb3967320f9"
            }
          },
          "metadata": {}
        },
        {
          "output_type": "display_data",
          "data": {
            "text/plain": [
              "vocab.txt:   0%|          | 0.00/996k [00:00<?, ?B/s]"
            ],
            "application/vnd.jupyter.widget-view+json": {
              "version_major": 2,
              "version_minor": 0,
              "model_id": "e032728ed0d1451cad3a32b425125bb2"
            }
          },
          "metadata": {}
        },
        {
          "output_type": "display_data",
          "data": {
            "text/plain": [
              "tokenizer.json:   0%|          | 0.00/1.96M [00:00<?, ?B/s]"
            ],
            "application/vnd.jupyter.widget-view+json": {
              "version_major": 2,
              "version_minor": 0,
              "model_id": "a7b4fe0be80d4ae2bc90edc435d1c2a4"
            }
          },
          "metadata": {}
        },
        {
          "output_type": "display_data",
          "data": {
            "text/plain": [
              "config.json:   0%|          | 0.00/625 [00:00<?, ?B/s]"
            ],
            "application/vnd.jupyter.widget-view+json": {
              "version_major": 2,
              "version_minor": 0,
              "model_id": "e4b2498efd744b81bcd6d912ac2ff1ca"
            }
          },
          "metadata": {}
        }
      ]
    },
    {
      "cell_type": "code",
      "source": [
        "tokenizer.tokenize(\"나도 코딩 잘하고싶어\")"
      ],
      "metadata": {
        "colab": {
          "base_uri": "https://localhost:8080/"
        },
        "id": "4Hs2JEOm5jRL",
        "outputId": "090b7a80-1a8c-44fe-dfb2-97ca56e998e8"
      },
      "execution_count": 17,
      "outputs": [
        {
          "output_type": "execute_result",
          "data": {
            "text/plain": [
              "['나', '##도', '코', '##딩', '잘', '##하고', '##싶', '##어']"
            ]
          },
          "metadata": {},
          "execution_count": 17
        }
      ]
    },
    {
      "cell_type": "code",
      "source": [
        "# 첫 문장으로 시도\n",
        "tts1 = tts[0]\n",
        "print(tts1)\n",
        "\n",
        "token_word1 = []\n",
        "token_tag1 = []\n",
        "\n",
        "for word, tag in tts1:\n",
        "  token = tokenizer.tokenize(word)\n",
        "  token_word1.append(token)\n",
        "  temp = np.repeat(tag, len(token)).tolist()\n",
        "  token_tag1.append(temp)\n",
        "\n",
        "token_word1 = [item for items in token_word1 for item in items]\n",
        "# token_tag1 = [[item] for item in items for items in token_tag1] # 얘는 틀려! items를 정의하기 전에 사용해서\n",
        "token_tag1 = [item for items in token_tag1 for item in items]\n",
        "\n",
        "print(token_word1)\n",
        "print(token_tag1)"
      ],
      "metadata": {
        "colab": {
          "base_uri": "https://localhost:8080/"
        },
        "id": "yrJ9DXKR704b",
        "outputId": "5d1b68cf-ddd5-4449-acc2-76cd50f4f26c"
      },
      "execution_count": 18,
      "outputs": [
        {
          "output_type": "stream",
          "name": "stdout",
          "text": [
            "[['[CLS]', 3], ['비토리오', 1], ['양일', 2], ['만에', 3], ['영사관', 4], ['감호', 5], ['용퇴', 3], ['항룡', 3], ['압력설', 3], ['의심만', 3], ['가율', 3], ['[SEP]', 3]]\n",
            "['[CLS]', '비', '##토', '##리', '##오', '양', '##일', '만', '##에', '영', '##사', '##관', '감', '##호', '용', '##퇴', '항', '##룡', '압', '##력', '##설', '의', '##심', '##만', '가', '##율', '[SEP]']\n",
            "[3, 1, 1, 1, 1, 2, 2, 3, 3, 4, 4, 4, 5, 5, 3, 3, 3, 3, 3, 3, 3, 3, 3, 3, 3, 3, 3]\n"
          ]
        }
      ]
    },
    {
      "cell_type": "code",
      "source": [
        "token_word = []\n",
        "token_tag = []\n",
        "tokenized_sentences = []\n",
        "tokenized_tags = []\n",
        "\n",
        "for sentence in tts:\n",
        "  for word, tag in sentence:\n",
        "    token = tokenizer.tokenize(word)\n",
        "    token_word.append(token)\n",
        "    temp = np.repeat(tag, len(token)).tolist()\n",
        "    token_tag.append(temp)\n",
        "\n",
        "  token_word = [item for items in token_word for item in items]\n",
        "  token_tag = [item for items in token_tag for item in items]\n",
        "\n",
        "  tokenized_sentences.append(token_word)\n",
        "  tokenized_tags.append(token_tag)\n",
        "\n",
        "  token_word = []\n",
        "  token_tag = []\n",
        "\n",
        "print(tokenized_sentences[1])\n",
        "print(tokenized_tags[1])"
      ],
      "metadata": {
        "colab": {
          "base_uri": "https://localhost:8080/"
        },
        "id": "GUNQLiX65wrw",
        "outputId": "e9dfb6a0-43f4-4e15-b07e-ac6aaa131659"
      },
      "execution_count": 19,
      "outputs": [
        {
          "output_type": "stream",
          "name": "stdout",
          "text": [
            "['[CLS]', '이', '음', '##경', '##동', '##맥', '##의', '직', '##경', '##이', '8', '19', '##mm', '##입', '##니다', '[SEP]']\n",
            "[3, 3, 3, 3, 3, 3, 3, 3, 3, 3, 6, 6, 6, 6, 6, 3]\n"
          ]
        }
      ]
    },
    {
      "cell_type": "markdown",
      "source": [
        "# 5. 패딩 진행 & 문자 -> 정수로"
      ],
      "metadata": {
        "id": "G92y4P-THLT4"
      }
    },
    {
      "cell_type": "markdown",
      "source": [
        "- 패딩 길이 정하기"
      ],
      "metadata": {
        "id": "CduGupgBI7fm"
      }
    },
    {
      "cell_type": "code",
      "source": [
        "print(f\"총 문장 개수는 {len(tokenized_sentences)}개입니다.\") # 이게 총 문장 개수\n",
        "print(f\"가장 긴 문장의 길이는 {max(len(sent) for sent in tokenized_sentences)}이네요\")\n",
        "print(\"문장의 평균 길이는 {:.2f}이네요\".format(sum(len(sent) for sent in tokenized_sentences)/len(tokenized_sentences)))"
      ],
      "metadata": {
        "colab": {
          "base_uri": "https://localhost:8080/"
        },
        "id": "zQD6wo1yIhnj",
        "outputId": "920c5542-fe7c-48e2-c9c2-14f0ffa1b7ec"
      },
      "execution_count": 20,
      "outputs": [
        {
          "output_type": "stream",
          "name": "stdout",
          "text": [
            "총 문장 개수는 65521개입니다.\n",
            "가장 긴 문장의 길이는 555이네요\n",
            "문장의 평균 길이는 33.04이네요\n"
          ]
        }
      ]
    },
    {
      "cell_type": "code",
      "source": [
        "import matplotlib.pyplot as plt\n",
        "length = [len(sent) for sent in tokenized_sentences if len(sent) < 400]\n",
        "\n",
        "plt.boxplot(length)\n",
        "plt.show()"
      ],
      "metadata": {
        "colab": {
          "base_uri": "https://localhost:8080/",
          "height": 434
        },
        "id": "_sG_4tyeIxNp",
        "outputId": "bd84a6f7-5804-412e-ee97-7763976e8ccc"
      },
      "execution_count": 21,
      "outputs": [
        {
          "output_type": "display_data",
          "data": {
            "text/plain": [
              "<Figure size 640x480 with 1 Axes>"
            ],
            "image/png": "[encoded data removed]"
          },
          "metadata": {}
        }
      ]
    },
    {
      "cell_type": "code",
      "source": [
        "max_length = 70\n",
        "\n",
        "def below_threshold(max_length, text):\n",
        "  num = 0\n",
        "  for sent in text:\n",
        "    if(len(sent) <= max_length):\n",
        "      num += 1\n",
        "  print(\"길이가 {} 이하인 문장의 비율은: {:.5f}\".format(max_length,(num/len(text))))\n",
        "\n",
        "below_threshold(max_length, tokenized_sentences)"
      ],
      "metadata": {
        "colab": {
          "base_uri": "https://localhost:8080/"
        },
        "id": "u6jWQAjxI6u0",
        "outputId": "75aee61e-1d51-465d-a11a-07ec65de0cd6"
      },
      "execution_count": 22,
      "outputs": [
        {
          "output_type": "stream",
          "name": "stdout",
          "text": [
            "길이가 70 이하인 문장의 비율은: 0.94414\n"
          ]
        }
      ]
    },
    {
      "cell_type": "markdown",
      "source": [
        "- 일단은 90으로 진행 !"
      ],
      "metadata": {
        "id": "YGGuFsLgJY47"
      }
    },
    {
      "cell_type": "code",
      "source": [
        "# 문자 -> 숫자로\n",
        "texts = [tokenizer.convert_tokens_to_ids(txt) for txt in tokenized_sentences]\n",
        "tags = tokenized_tags"
      ],
      "metadata": {
        "id": "M9HKdn2mKb7M"
      },
      "execution_count": 23,
      "outputs": []
    },
    {
      "cell_type": "code",
      "source": [
        "# 패딩 토큰 -> 0으로 변환됨\n",
        "tokenizer.convert_tokens_to_ids(['[PAD]'])"
      ],
      "metadata": {
        "colab": {
          "base_uri": "https://localhost:8080/"
        },
        "id": "Y5KRSMppL_Y6",
        "outputId": "6fc8a4b9-866a-4631-c08a-36541f53fa97"
      },
      "execution_count": 24,
      "outputs": [
        {
          "output_type": "execute_result",
          "data": {
            "text/plain": [
              "[0]"
            ]
          },
          "metadata": {},
          "execution_count": 24
        }
      ]
    },
    {
      "cell_type": "code",
      "source": [
        "input_texts = pad_sequences(texts, maxlen = max_length, dtype = 'int',\n",
        "                            value = 0, truncating = 'post', padding = 'post')"
      ],
      "metadata": {
        "id": "m1Rso7yOIQPC"
      },
      "execution_count": 25,
      "outputs": []
    },
    {
      "cell_type": "code",
      "source": [
        "input_tags = pad_sequences(tags, maxlen = max_length, dtype = 'int',\n",
        "                           value = tag_to_index['[PAD]'], truncating = 'post', padding = 'post')"
      ],
      "metadata": {
        "id": "OBGZXLPeKIrw"
      },
      "execution_count": 26,
      "outputs": []
    },
    {
      "cell_type": "code",
      "source": [
        "attention_masks = []\n",
        "for sent in input_texts:\n",
        "  mask = [1 if tok > 0 else 0 for tok in sent]\n",
        "  attention_masks.append(mask)"
      ],
      "metadata": {
        "id": "kAFsopS8MWEK"
      },
      "execution_count": 27,
      "outputs": []
    },
    {
      "cell_type": "markdown",
      "source": [
        "# 6. train/test + validation set 나누기"
      ],
      "metadata": {
        "id": "CCPUx4xQOJgv"
      }
    },
    {
      "cell_type": "code",
      "source": [
        "from sklearn.model_selection import train_test_split\n",
        "\n",
        "train_texts, val_texts, train_tags, val_tags = train_test_split(input_texts, input_tags,\n",
        "                                                                test_size = 0.1, random_state = 1108)\n",
        "\n",
        "train_masks, val_masks, _, _ = train_test_split(attention_masks, input_texts,\n",
        "                                                test_size = 0.1, random_state = 1108)"
      ],
      "metadata": {
        "id": "-PlP2byHOJFF"
      },
      "execution_count": 28,
      "outputs": []
    },
    {
      "cell_type": "markdown",
      "source": [
        "# 7. PyTorch로 변환 + 데이터 로더 만들기"
      ],
      "metadata": {
        "id": "DCrfcuwUPne9"
      }
    },
    {
      "cell_type": "code",
      "source": [
        "train_texts = torch.tensor(train_texts)\n",
        "val_texts = torch.tensor(val_texts)\n",
        "\n",
        "train_tags = torch.tensor(train_tags)\n",
        "val_tags = torch.tensor(val_tags)\n",
        "\n",
        "train_masks = torch.tensor(train_masks)\n",
        "val_masks = torch.tensor(val_masks)"
      ],
      "metadata": {
        "id": "Cgf-AX4zOAbJ"
      },
      "execution_count": 29,
      "outputs": []
    },
    {
      "cell_type": "code",
      "source": [
        "from torch.utils.data import TensorDataset, DataLoader, RandomSampler, SequentialSampler\n",
        "\n",
        "batch_size = 100 #################################\n",
        "\n",
        "train_data = TensorDataset(train_texts, train_masks, train_tags)\n",
        "train_sampler = RandomSampler(train_data)\n",
        "train_dataloader = DataLoader(train_data, sampler = train_sampler, batch_size = batch_size)\n",
        "\n",
        "val_data = TensorDataset(val_texts, val_masks, val_tags)\n",
        "val_sampler = SequentialSampler(val_data)\n",
        "val_dataloader = DataLoader(val_data, sampler=val_sampler, batch_size=batch_size)"
      ],
      "metadata": {
        "id": "DY9SC__vSUoT"
      },
      "execution_count": 30,
      "outputs": []
    },
    {
      "cell_type": "markdown",
      "source": [
        "# 8. 모델 만들기"
      ],
      "metadata": {
        "id": "4a4gv7MGS8f2"
      }
    },
    {
      "cell_type": "code",
      "source": [
        "from transformers import BertForTokenClassification, AdamW, BertConfig\n",
        "\n",
        "model = BertForTokenClassification.from_pretrained( # pertrained 된 모델을 데려와\n",
        "    'bert-base-multilingual-cased', # 토크나이저 어떤 거\n",
        "    num_labels = tag_size, # 몇 개로 분류할 건지\n",
        ")\n",
        "\n",
        "# model.cpu()\n",
        "model.cuda()"
      ],
      "metadata": {
        "id": "CR-7felAS2CO",
        "colab": {
          "base_uri": "https://localhost:8080/"
        },
        "outputId": "06bbe52d-1199-4ff2-88c9-663d83e096b2"
      },
      "execution_count": 32,
      "outputs": [
        {
          "output_type": "stream",
          "name": "stderr",
          "text": [
            "Some weights of BertForTokenClassification were not initialized from the model checkpoint at bert-base-multilingual-cased and are newly initialized: ['classifier.bias', 'classifier.weight']\n",
            "You should probably TRAIN this model on a down-stream task to be able to use it for predictions and inference.\n"
          ]
        },
        {
          "output_type": "execute_result",
          "data": {
            "text/plain": [
              "BertForTokenClassification(\n",
              "  (bert): BertModel(\n",
              "    (embeddings): BertEmbeddings(\n",
              "      (word_embeddings): Embedding(119547, 768, padding_idx=0)\n",
              "      (position_embeddings): Embedding(512, 768)\n",
              "      (token_type_embeddings): Embedding(2, 768)\n",
              "      (LayerNorm): LayerNorm((768,), eps=1e-12, elementwise_affine=True)\n",
              "      (dropout): Dropout(p=0.1, inplace=False)\n",
              "    )\n",
              "    (encoder): BertEncoder(\n",
              "      (layer): ModuleList(\n",
              "        (0-11): 12 x BertLayer(\n",
              "          (attention): BertAttention(\n",
              "            (self): BertSdpaSelfAttention(\n",
              "              (query): Linear(in_features=768, out_features=768, bias=True)\n",
              "              (key): Linear(in_features=768, out_features=768, bias=True)\n",
              "              (value): Linear(in_features=768, out_features=768, bias=True)\n",
              "              (dropout): Dropout(p=0.1, inplace=False)\n",
              "            )\n",
              "            (output): BertSelfOutput(\n",
              "              (dense): Linear(in_features=768, out_features=768, bias=True)\n",
              "              (LayerNorm): LayerNorm((768,), eps=1e-12, elementwise_affine=True)\n",
              "              (dropout): Dropout(p=0.1, inplace=False)\n",
              "            )\n",
              "          )\n",
              "          (intermediate): BertIntermediate(\n",
              "            (dense): Linear(in_features=768, out_features=3072, bias=True)\n",
              "            (intermediate_act_fn): GELUActivation()\n",
              "          )\n",
              "          (output): BertOutput(\n",
              "            (dense): Linear(in_features=3072, out_features=768, bias=True)\n",
              "            (LayerNorm): LayerNorm((768,), eps=1e-12, elementwise_affine=True)\n",
              "            (dropout): Dropout(p=0.1, inplace=False)\n",
              "          )\n",
              "        )\n",
              "      )\n",
              "    )\n",
              "  )\n",
              "  (dropout): Dropout(p=0.1, inplace=False)\n",
              "  (classifier): Linear(in_features=768, out_features=30, bias=True)\n",
              ")"
            ]
          },
          "metadata": {},
          "execution_count": 32
        }
      ]
    },
    {
      "cell_type": "code",
      "source": [
        "# 모델 파라미터 개수.. 필수인가?"
      ],
      "metadata": {
        "id": "pVwhKCbjS2AP"
      },
      "execution_count": null,
      "outputs": []
    },
    {
      "cell_type": "markdown",
      "source": [
        "# 9. Optimizer & Learning Rate Scheduler"
      ],
      "metadata": {
        "id": "_QjYnyXUxmH9"
      }
    },
    {
      "cell_type": "code",
      "source": [
        "optimizer = AdamW(model.parameters(),\n",
        "                  lr = 2e-5,\n",
        "                  eps = 1e-8)"
      ],
      "metadata": {
        "colab": {
          "base_uri": "https://localhost:8080/"
        },
        "id": "MwkNJouY8nGp",
        "outputId": "33be0602-d155-4838-cbbe-7b252dc51df6"
      },
      "execution_count": 33,
      "outputs": [
        {
          "output_type": "stream",
          "name": "stderr",
          "text": [
            "/usr/local/lib/python3.10/dist-packages/transformers/optimization.py:591: FutureWarning: This implementation of AdamW is deprecated and will be removed in a future version. Use the PyTorch implementation torch.optim.AdamW instead, or set `no_deprecation_warning=True` to disable this warning\n",
            "  warnings.warn(\n"
          ]
        }
      ]
    },
    {
      "cell_type": "code",
      "source": [
        "from transformers import get_linear_schedule_with_warmup\n",
        "\n",
        "epochs = 1 ############################################\n",
        "\n",
        "total_steps = len(train_dataloader) * epochs\n",
        "\n",
        "scheduler = get_linear_schedule_with_warmup(optimizer,\n",
        "                                            num_warmup_steps = 0,\n",
        "                                            num_training_steps = total_steps)"
      ],
      "metadata": {
        "id": "_vMJRbmc89kP"
      },
      "execution_count": 34,
      "outputs": []
    },
    {
      "cell_type": "markdown",
      "source": [
        "# 10. Training Loop"
      ],
      "metadata": {
        "id": "H-cBthpx9RWf"
      }
    },
    {
      "cell_type": "code",
      "source": [
        "import numpy as np\n",
        "\n",
        "# 정답 레이블, 예측 레이블을 각각 구해서 두 개가 일치하는 비율 계산\n",
        "\n",
        "def flat_accuracy(preds, labels):\n",
        "  pred_flat = np.argmax(preds, axis=2).flatten()\n",
        "  labels_flat = labels.flatten()\n",
        "  return np.sum(pred_flat == labels_flat) / len(labels_flat)"
      ],
      "metadata": {
        "id": "gSSI5AN29TOS"
      },
      "execution_count": 35,
      "outputs": []
    },
    {
      "cell_type": "code",
      "source": [
        "import time\n",
        "import datetime\n",
        "\n",
        "# 시간이 얼마나 걸리는지 체크\n",
        "\n",
        "def format_time(elapsed):\n",
        "  elapsed_rounded = int(round((elapsed)))\n",
        "  return str(datetime.timedelta(seconds = elapsed_rounded))"
      ],
      "metadata": {
        "id": "sWVVvWOkAGHt"
      },
      "execution_count": 36,
      "outputs": []
    },
    {
      "cell_type": "code",
      "source": [
        "import random\n",
        "\n",
        "seed = 1008\n",
        "\n",
        "random.seed(seed)\n",
        "np.random.seed(seed)\n",
        "torch.manual_seed(seed)\n",
        "torch.cuda.manual_seed_all(seed)\n",
        "\n",
        "# 디바이스 설정\n",
        "device = torch.device(\"cuda\" if torch.cuda.is_available() else \"cpu\")\n",
        "\n",
        "# 모델을 디바이스로 이동\n",
        "model.to(device)\n",
        "\n",
        "loss_values = []\n",
        "\n",
        "for epoch in range(epochs):\n",
        "\n",
        "  print(\"\")\n",
        "  print('======== Epoch {:} / {:} ========'.format(epoch + 1, epochs))\n",
        "  print('Training...')\n",
        "\n",
        "  t0 = time.time()\n",
        "  total_loss = 0 # reset loss\n",
        "\n",
        "  # Train Mode\n",
        "  model.train()\n",
        "\n",
        "  # data 입력하기\n",
        "  for step, batch in enumerate(train_dataloader):\n",
        "    if step % 40 == 0 and not step == 0:\n",
        "      elapsed = format_time(time.time() - t0)\n",
        "\n",
        "      print('   Batch {:>5,}  of  {:>5,}.     Elapsed: {:}.'.format(step, len(train_dataloader), elapsed))\n",
        "\n",
        "    # GPU에 로드 (그치만 코랩 사용량 제한으로 GPU를 쓸 수 없어..)\n",
        "    b_input_ids = batch[0].to(device)\n",
        "    b_input_mask = batch[1].to(device)\n",
        "    b_labels = batch[2].to(device)\n",
        "\n",
        "    # gradient 초기화\n",
        "    model.zero_grad()\n",
        "\n",
        "    # Forward Pass (순전파)\n",
        "    outputs = model(b_input_ids,\n",
        "                    token_type_ids = None,\n",
        "                    attention_mask = b_input_mask,\n",
        "                    labels = b_labels)\n",
        "\n",
        "    loss = outputs.loss ################################\n",
        "\n",
        "    total_loss += loss.item() # 값만 추출\n",
        "\n",
        "    # Backward Pass (역전파)\n",
        "    loss.backward()\n",
        "\n",
        "    ################################\n",
        "    torch.nn.utils.clip_grad_norm(model.parameters(), 1.0)\n",
        "\n",
        "    # 매개변수 update\n",
        "    optimizer.step()\n",
        "\n",
        "    # learning rate update\n",
        "    scheduler.step()\n",
        "\n",
        "  # average loss\n",
        "  avg_train_loss = total_loss / len(train_dataloader)\n",
        "\n",
        "  # 모든 loss 모아두기\n",
        "  loss_values.append(avg_train_loss)\n",
        "\n",
        "  print(\"\")\n",
        "  print(\" Average training loss: {0:.2f}\".format(avg_train_loss))\n",
        "  print(\" Training epoch took: {}\".format(format_time(time.time() - t0)))\n",
        "\n",
        "  # ------------------ Val ------------------------\n",
        "\n",
        "  print(\"\")\n",
        "  print(\"Running Validation...\")\n",
        "\n",
        "  t0 = time.time()\n",
        "\n",
        "  # Evaluation Mode\n",
        "  model.eval()\n",
        "\n",
        "  # Reset variables\n",
        "  eval_loss, eval_accuracy = 0, 0\n",
        "  nb_eval_steps, nb_eval_examples = 0, 0 # (nb : number)\n",
        "\n",
        "  for batch in val_dataloader:\n",
        "\n",
        "    # GPU로 로드\n",
        "    batch = tuple(t.to(device) for t in batch)\n",
        "\n",
        "    # unpack\n",
        "    b_input_ids, b_input_mask, b_labels = batch\n",
        "\n",
        "    # grad 매번 지우면서 진행해\n",
        "    with torch.no_grad():\n",
        "\n",
        "      # Forward Pass\n",
        "      outputs = model(b_input_ids,\n",
        "                      token_type_ids = None,\n",
        "                      attention_mask = b_input_mask)\n",
        "\n",
        "    # Logit들 가져와\n",
        "    logits = outputs.logits ###############################\n",
        "\n",
        "    logits = logits.detach().cpu().numpy()\n",
        "    label_ids = b_labels.to('cpu').numpy()\n",
        "\n",
        "    # 이번 batch의 accuracy 계산\n",
        "    tmp_eval_accuracy = flat_accuracy(logits, label_ids)\n",
        "\n",
        "    # Total accuracy\n",
        "    eval_accuracy += tmp_eval_accuracy\n",
        "\n",
        "    # 몇 번째 batch인지\n",
        "    nb_eval_steps += 1\n",
        "\n",
        "  print(\" Accuracy: {0:.2f}\".format(eval_accuracy / nb_eval_steps)) # 평균 accuracy\n",
        "  print(\" Validation took: {}\".format(format_time(time.time() - t0)))\n",
        "\n",
        "print(\"\")\n",
        "print(\"Training complete!\")\n",
        "\n"
      ],
      "metadata": {
        "colab": {
          "base_uri": "https://localhost:8080/"
        },
        "id": "eWRg5AM7AYBJ",
        "outputId": "a8633c61-3de6-4cc2-b7a4-3ad64c69ede7"
      },
      "execution_count": 37,
      "outputs": [
        {
          "output_type": "stream",
          "name": "stdout",
          "text": [
            "\n",
            "======== Epoch 1 / 1 ========\n",
            "Training...\n"
          ]
        },
        {
          "output_type": "stream",
          "name": "stderr",
          "text": [
            "<ipython-input-37-e0b71656c942>:59: UserWarning: torch.nn.utils.clip_grad_norm is now deprecated in favor of torch.nn.utils.clip_grad_norm_.\n",
            "  torch.nn.utils.clip_grad_norm(model.parameters(), 1.0)\n"
          ]
        },
        {
          "output_type": "stream",
          "name": "stdout",
          "text": [
            "   Batch    40  of    590.     Elapsed: 0:00:45.\n",
            "   Batch    80  of    590.     Elapsed: 0:01:35.\n",
            "   Batch   120  of    590.     Elapsed: 0:02:24.\n",
            "   Batch   160  of    590.     Elapsed: 0:03:13.\n",
            "   Batch   200  of    590.     Elapsed: 0:04:02.\n",
            "   Batch   240  of    590.     Elapsed: 0:04:51.\n",
            "   Batch   280  of    590.     Elapsed: 0:05:41.\n",
            "   Batch   320  of    590.     Elapsed: 0:06:30.\n",
            "   Batch   360  of    590.     Elapsed: 0:07:19.\n",
            "   Batch   400  of    590.     Elapsed: 0:08:08.\n",
            "   Batch   440  of    590.     Elapsed: 0:08:57.\n",
            "   Batch   480  of    590.     Elapsed: 0:09:47.\n",
            "   Batch   520  of    590.     Elapsed: 0:10:36.\n",
            "   Batch   560  of    590.     Elapsed: 0:11:25.\n",
            "\n",
            " Average training loss: 0.34\n",
            " Training epoch took: 0:12:02\n",
            "\n",
            "Running Validation...\n",
            " Accuracy: 0.94\n",
            " Validation took: 0:00:27\n",
            "\n",
            "Training complete!\n"
          ]
        }
      ]
    },
    {
      "cell_type": "markdown",
      "source": [
        "Average training loss 0.17 -> 0.16 -> 0.15\n",
        "\n",
        "Accuracy는 여전히 0.95...\n",
        "\n",
        "총 걸린 시간 얼추 30분..?\n",
        "\n",
        "시간을 위해 epoch를 일단 1번만.."
      ],
      "metadata": {
        "id": "-g_6dbrpKU6e"
      }
    },
    {
      "cell_type": "code",
      "source": [
        "def ner_pii_assign(sentence, model, tokenizer, index_to_tag, max_length, device):\n",
        "\n",
        "  # 토크나이즈\n",
        "  tokenized_sentence = tokenizer.tokenize(sentence)\n",
        "  # 문자 -> 숫자로\n",
        "  sent_in_num = tokenizer.convert_tokens_to_ids(tokenized_sentence)\n",
        "  # 패딩\n",
        "  input_sentence = pad_sequences([sent_in_num], maxlen = max_length, dtype = 'int',\n",
        "                                  value = 0, truncating = 'post', padding = 'post')\n",
        "  # 마스크\n",
        "  input_mask = [[1 if tok > 0 else 0 for tok in sent] for sent in input_sentence]\n",
        "\n",
        "  # Tensor로 변환\n",
        "  input_sentence = torch.tensor(input_sentence).to(device)\n",
        "  input_mask = torch.tensor(input_mask).to(device)\n",
        "\n",
        "  # 입력\n",
        "  with torch.no_grad():\n",
        "    output = model(input_sentence, attention_mask = input_mask)\n",
        "    logits = output.logits\n",
        "  # 결과 출력\n",
        "  pred = np.argmax(logits.cpu().numpy(), axis = 2)\n",
        "\n",
        "  # 숫자 -> 문자\n",
        "  tokens = tokenizer.convert_ids_to_tokens(input_sentence[0])\n",
        "\n",
        "  out_tokens, out_labels = [], []\n",
        "\n",
        "  for token, tag_index in zip(tokens, pred[0]):\n",
        "    if (token.startswith('##')):\n",
        "      out_labels.append(index_to_tag[tag_index])\n",
        "      out_tokens.append(token[2:])\n",
        "    elif (token in ['[CLS]', '[PAD]', '[SEP]']):\n",
        "      pass\n",
        "    else:\n",
        "      out_tokens.append(token)\n",
        "      out_labels.append(index_to_tag[tag_index])\n",
        "\n",
        "  for token, label in zip(out_tokens, out_labels):\n",
        "    print(\"{} \\t {}\".format(token,label))"
      ],
      "metadata": {
        "id": "cbMI6GM_EhiX"
      },
      "execution_count": 38,
      "outputs": []
    },
    {
      "cell_type": "code",
      "source": [
        "ner_pii_assign(\"문재인 대통령은 1953년 1월 24일 경상남도 거제시에서 아버지 문용형과 어머니 강한옥 사이에서 둘째(장남)로 태어났다.\", model, tokenizer, index_to_tag, max_length, device)"
      ],
      "metadata": {
        "colab": {
          "base_uri": "https://localhost:8080/"
        },
        "id": "36rExsM1FKE3",
        "outputId": "6903e272-bac1-480f-e0ba-e4f9cc9db872"
      },
      "execution_count": 39,
      "outputs": [
        {
          "output_type": "stream",
          "name": "stdout",
          "text": [
            "문 \t -\n",
            "재 \t PER_B\n",
            "인 \t PER_B\n",
            "대통령 \t CVL_B\n",
            "은 \t CVL_B\n",
            "1953 \t DAT_B\n",
            "년 \t DAT_B\n",
            "1월 \t DAT_I\n",
            "24일 \t DAT_I\n",
            "경 \t LOC_B\n",
            "상 \t LOC_B\n",
            "남도 \t LOC_B\n",
            "거 \t LOC_B\n",
            "제 \t LOC_B\n",
            "시 \t LOC_B\n",
            "에서 \t LOC_B\n",
            "아버지 \t PER_B\n",
            "문 \t PER_B\n",
            "용 \t PER_B\n",
            "형 \t PER_B\n",
            "과 \t PER_B\n",
            "어머니 \t -\n",
            "강 \t PER_B\n",
            "한 \t PER_B\n",
            "옥 \t PER_B\n",
            "사이에 \t -\n",
            "서 \t -\n",
            "둘 \t NUM_B\n",
            "째 \t NUM_B\n",
            "( \t -\n",
            "장 \t CVL_B\n",
            "남 \t CVL_B\n",
            ") \t -\n",
            "로 \t -\n",
            "태어났다 \t -\n",
            ". \t -\n"
          ]
        }
      ]
    },
    {
      "cell_type": "code",
      "source": [
        "def ner_pii_masking(sentence, model, tokenizer, index_to_tag, max_length, device):\n",
        "\n",
        "  # 토크나이즈\n",
        "  tokenized_sentence = tokenizer.tokenize(sentence)\n",
        "  # 문자 -> 숫자로\n",
        "  sent_in_num = tokenizer.convert_tokens_to_ids(tokenized_sentence)\n",
        "  # 패딩\n",
        "  input_sentence = pad_sequences([sent_in_num], maxlen = max_length, dtype = 'int',\n",
        "                                  value = 0, truncating = 'post', padding = 'post')\n",
        "  # 마스크\n",
        "  input_mask = [[1 if tok > 0 else 0 for tok in sent] for sent in input_sentence]\n",
        "\n",
        "  # Tensor로 변환\n",
        "  input_sentence = torch.tensor(input_sentence).to(device)\n",
        "  input_mask = torch.tensor(input_mask).to(device)\n",
        "\n",
        "  # 입력\n",
        "  with torch.no_grad():\n",
        "    output = model(input_sentence, attention_mask = input_mask)\n",
        "    logits = output.logits\n",
        "  # 결과 출력\n",
        "  pred = np.argmax(logits.cpu().numpy(), axis = 2)\n",
        "\n",
        "  # 숫자 -> 문자\n",
        "  tokens = tokenizer.convert_ids_to_tokens(input_sentence[0])\n",
        "\n",
        "  out_sentence = []\n",
        "  current_token = \"\"\n",
        "\n",
        "  for token, tag_index in zip(tokens, pred[0]):\n",
        "    if (token in ['[CLS]', '[PAD]', '[SEP]']):\n",
        "      pass\n",
        "    elif (tag_index == 3): # '-', 즉 마스킹이 필요없는 친구라면\n",
        "      if token.startswith(\"##\"): # 앞이랑 이어지는 거면\n",
        "        current_token += (token[2:]) # 붙여서\n",
        "\n",
        "      else: # 이어지는 게 아니라면\n",
        "        out_sentence.append(current_token)\n",
        "        current_token = \"\"\n",
        "        current_token += (token)\n",
        "\n",
        "\n",
        "    else: # 마스킹이 필요한 애들이라면\n",
        "      if token.startswith(\"##\"):\n",
        "        current_token += (f\"[MASK-{index_to_tag[tag_index]}]\")\n",
        "\n",
        "      else:\n",
        "        out_sentence.append(current_token)\n",
        "        current_token = \"\"\n",
        "        current_token += (f\"[MASK-{index_to_tag[tag_index]}]\")\n",
        "\n",
        "  out_sentence.append(current_token)\n",
        "\n",
        "  out_sentence = ' '.join(out_sentence)\n",
        "\n",
        "  print(out_sentence)"
      ],
      "metadata": {
        "id": "VFY3DK0erIIT"
      },
      "execution_count": 40,
      "outputs": []
    },
    {
      "cell_type": "code",
      "source": [
        "ner_pii_masking(\"문재인 대통령은 1953년 1월 24일 경상남도 거제시에서 아버지 문용형과 어머니 강한옥 사이에서 둘째(장남)로 태어났다.\", model, tokenizer, index_to_tag, max_length, device)"
      ],
      "metadata": {
        "colab": {
          "base_uri": "https://localhost:8080/"
        },
        "id": "ZordY13XLfBY",
        "outputId": "c1ebea30-d6da-40b4-de93-ac71fc3780dc"
      },
      "execution_count": 41,
      "outputs": [
        {
          "output_type": "stream",
          "name": "stdout",
          "text": [
            " 문[MASK-PER_B][MASK-PER_B] [MASK-CVL_B][MASK-CVL_B] [MASK-DAT_B][MASK-DAT_B] [MASK-DAT_I] [MASK-DAT_I] [MASK-LOC_B][MASK-LOC_B][MASK-LOC_B] [MASK-LOC_B][MASK-LOC_B][MASK-LOC_B][MASK-LOC_B] [MASK-PER_B] [MASK-PER_B][MASK-PER_B][MASK-PER_B][MASK-PER_B] 어머니 [MASK-PER_B][MASK-PER_B][MASK-PER_B] 사이에서 [MASK-NUM_B][MASK-NUM_B] ( [MASK-CVL_B][MASK-CVL_B] ) 로 태어났다 .\n"
          ]
        }
      ]
    }
  ]
}