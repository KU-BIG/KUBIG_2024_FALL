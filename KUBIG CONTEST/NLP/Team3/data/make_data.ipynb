{
 "cells": [
  {
   "cell_type": "code",
   "execution_count": 3,
   "metadata": {},
   "outputs": [],
   "source": [
    "import os\n",
    "import zipfile\n",
    "import pandas as pd\n",
    "\n",
    "''' zip_dir 내의 모든 zip 파일을 풀어, extract_to 경로에 압축 해제 '''\n",
    "def extract_zip(zip_dir, extract_to):\n",
    "    for file in os.listdir(zip_dir):\n",
    "        if file.endswith('.zip'):\n",
    "            # 압축 해제해야 하는 파일 주소 (파일명 포함)\n",
    "            zip_path = os.path.join(zip_dir, file)\n",
    "            with zipfile.ZipFile(zip_path, 'r') as zip_ref:\n",
    "                zip_ref.extractall(extract_to)\n",
    "\n",
    "\n",
    "''' data_dir 내의 모든 tsv 파일을 불러와 하나의 데이터프레임으로 합침 '''\n",
    "def load_tsv_files(extract_to):\n",
    "    all_data = []\n",
    "    for root, dirs, files in os.walk(extract_to):\n",
    "        for file in files:\n",
    "            if file.endswith('.tsv'):\n",
    "                file_path = os.path.join(root, file)\n",
    "                try:\n",
    "                    # 잘못된 줄 건너띄기\n",
    "                    df = pd.read_csv(file_path, sep='\\t', on_bad_lines='skip')\n",
    "                    all_data.append(df)\n",
    "                except Exception as e:\n",
    "                    print(f\"Error reading {file_path}: {e}\")\n",
    "    return pd.concat(all_data, ignore_index=True)"
   ]
  },
  {
   "cell_type": "code",
   "execution_count": 4,
   "metadata": {},
   "outputs": [
    {
     "name": "stdout",
     "output_type": "stream",
     "text": [
      "---------------Training 압축 해제 완료!-------------------\n",
      "---------------Validation 압축 해제 완료!-------------------\n"
     ]
    }
   ],
   "source": [
    "''' 압축 해제할 디렉토리와 해제될 경로 설정 '''\n",
    "# Training\n",
    "zip_dir_training = (\"C:\\KUBIG contest\\AIhub_rawdata\\Training_zip\").replace('\\\\', '/')\n",
    "extract_to_training = (\"C:\\KUBIG contest\\AIhub_rawdata\\Training_unzip\").replace('\\\\', '/')\n",
    "# Validation\n",
    "zip_dir_validation = (\"C:\\KUBIG contest\\AIhub_rawdata\\Validation_zip\").replace('\\\\', '/')\n",
    "extract_to_validation = (\"C:\\KUBIG contest\\AIhub_rawdata\\Validation_unzip\").replace('\\\\', '/')\n",
    "\n",
    "''' 압축 파일 풀기 '''\n",
    "extract_zip(zip_dir_training, extract_to_training)\n",
    "print('---------------Training 압축 해제 완료!-------------------')\n",
    "extract_zip(zip_dir_validation, extract_to_validation)\n",
    "print('---------------Validation 압축 해제 완료!-------------------')\n",
    "\n",
    "''' TSV 파일 불러와서 하나의 데이터프레임으로 합치기 '''\n",
    "train_dataset = load_tsv_files(extract_to_training)  # (378562, 7)\n",
    "valid_dataset = load_tsv_files(extract_to_validation)  # (46804, 7)"
   ]
  },
  {
   "cell_type": "markdown",
   "metadata": {},
   "source": [
    "# single-turn 데이터 만들기"
   ]
  },
  {
   "cell_type": "code",
   "execution_count": 5,
   "metadata": {},
   "outputs": [],
   "source": [
    "''' id와 utterance_id를 기준으로 정렬 '''\n",
    "train_dataset = train_dataset.sort_values(by=['id', 'utterance_id']).reset_index(drop=True)\n",
    "valid_dataset = valid_dataset.sort_values(by=['id', 'utterance_id']).reset_index(drop=True)\n",
    "\n",
    "''' 대화를 input, output 쌍으로 분리 '''\n",
    "def create_input_output_pairs(df):\n",
    "    pairs = []\n",
    "    current_input = None\n",
    "    for _, row in df.iterrows():\n",
    "        if row['utterance_type'] == 0:  # 감정화자\n",
    "            current_input = row['utterance_text']\n",
    "        elif row['utterance_type'] == 1 and current_input is not None:  # 공감화자\n",
    "            pairs.append((current_input, row['utterance_text']))\n",
    "            current_input = None\n",
    "    return pairs\n",
    "\n",
    "train_pairs = create_input_output_pairs(train_dataset)\n",
    "valid_pairs = create_input_output_pairs(valid_dataset)\n",
    "\n",
    "''' 데이터프레임으로 변환 '''\n",
    "train_df_single = pd.DataFrame(train_pairs, columns=['input', 'output'])\n",
    "train_df_single['type'] = 'single'\n",
    "valid_df_single = pd.DataFrame(valid_pairs, columns=['input', 'output'])\n",
    "valid_df_single['type'] = 'single'"
   ]
  },
  {
   "cell_type": "markdown",
   "metadata": {},
   "source": [
    "# multi-turn 데이터 만들기"
   ]
  },
  {
   "cell_type": "code",
   "execution_count": 6,
   "metadata": {},
   "outputs": [],
   "source": [
    "def create_multi_turn(df):\n",
    "    multi_turn_data = []\n",
    "\n",
    "    # id별로 대화를 그룹화\n",
    "    grouped = df.groupby('id')\n",
    "\n",
    "    # 각 그룹에 대해 멀티턴 형식으로 데이터를 생성\n",
    "    for group_id, group in grouped:\n",
    "        turns = group.to_dict(orient='records')\n",
    "        for i in range(0, len(turns) - 2, 2):  # 2-step window\n",
    "            if i + 2 < len(turns):\n",
    "                if turns[i]['utterance_type'] == 0 and turns[i+1]['utterance_type'] == 1 and turns[i+2]['utterance_type'] == 0:\n",
    "                    input = (\n",
    "                        f\"{turns[i]['utterance_text']}</s>{turns[i+1]['utterance_text']}</s>{turns[i+2]['utterance_text']}\"\n",
    "                    )\n",
    "                    output = f\"{turns[i+3]['utterance_text']}\" if i + 3 < len(turns) and turns[i+3]['utterance_type'] == 1 else None\n",
    "                    \n",
    "                    # output이 존재하는 경우에만 데이터 추가\n",
    "                    if output is not None:\n",
    "                        multi_turn_data.append({\n",
    "                            'input': input,\n",
    "                            'output': output\n",
    "                        })\n",
    "    return pd.DataFrame(multi_turn_data)\n",
    "\n",
    "train_df_multiturn = create_multi_turn(train_dataset)\n",
    "train_df_multiturn['type'] = 'multi'\n",
    "valid_df_multiturn = create_multi_turn(valid_dataset)\n",
    "valid_df_multiturn['type'] = 'multi'"
   ]
  },
  {
   "cell_type": "markdown",
   "metadata": {},
   "source": [
    "# single-turn, multi-turn 합치기"
   ]
  },
  {
   "cell_type": "code",
   "execution_count": 14,
   "metadata": {},
   "outputs": [
    {
     "name": "stdout",
     "output_type": "stream",
     "text": [
      "train_df >>\n"
     ]
    },
    {
     "data": {
      "text/html": [
       "<div>\n",
       "<style scoped>\n",
       "    .dataframe tbody tr th:only-of-type {\n",
       "        vertical-align: middle;\n",
       "    }\n",
       "\n",
       "    .dataframe tbody tr th {\n",
       "        vertical-align: top;\n",
       "    }\n",
       "\n",
       "    .dataframe thead th {\n",
       "        text-align: right;\n",
       "    }\n",
       "</style>\n",
       "<table border=\"1\" class=\"dataframe\">\n",
       "  <thead>\n",
       "    <tr style=\"text-align: right;\">\n",
       "      <th></th>\n",
       "      <th>input</th>\n",
       "      <th>output</th>\n",
       "      <th>type</th>\n",
       "    </tr>\n",
       "  </thead>\n",
       "  <tbody>\n",
       "    <tr>\n",
       "      <th>0</th>\n",
       "      <td>과장님, 빨리 퇴근하고 싶어요. 야근 작업이 끝이 없어서 너무 화가 나요.</td>\n",
       "      <td>아직도 야근 중인가요?</td>\n",
       "      <td>single</td>\n",
       "    </tr>\n",
       "    <tr>\n",
       "      <th>1</th>\n",
       "      <td>팀장님이 마치기 전에 5분 전에 내일 아침 미팅 자료 좀 검토해 놓으라고 하셨거든요.</td>\n",
       "      <td>어제부터 몸살기가 있어서 고생하더니, 일찍 퇴근도 못하고 고단해서 어째요.</td>\n",
       "      <td>single</td>\n",
       "    </tr>\n",
       "    <tr>\n",
       "      <th>2</th>\n",
       "      <td>그러니까요. 퇴근하자마자 감기약을 먹고 쉬려고 했는데 머리에서 열이 솟구치는 기분이에요.</td>\n",
       "      <td>에구, 하필 아픈 날 어째요. 그것도 프로젝트 마치고 몸살이 난 건데요. 직장인의 ...</td>\n",
       "      <td>single</td>\n",
       "    </tr>\n",
       "    <tr>\n",
       "      <th>3</th>\n",
       "      <td>그것뿐이 아니에요, 내일 검색해도 될 것을 지금 하라고 하셨어요.</td>\n",
       "      <td>혹시 몸이 아프다고 말씀드려보면 어떨까요?</td>\n",
       "      <td>single</td>\n",
       "    </tr>\n",
       "    <tr>\n",
       "      <th>4</th>\n",
       "      <td>핑계라고 생각하실 것 같아요. 하루 종일 아픈 내색을 안 하려고 애썼거든요.</td>\n",
       "      <td>감정화자씨 워낙 일에 대해서 철저하니까 내색을 안 했겠지요. 감정화자씨 보면 진정한...</td>\n",
       "      <td>single</td>\n",
       "    </tr>\n",
       "  </tbody>\n",
       "</table>\n",
       "</div>"
      ],
      "text/plain": [
       "                                               input  \\\n",
       "0          과장님, 빨리 퇴근하고 싶어요. 야근 작업이 끝이 없어서 너무 화가 나요.   \n",
       "1    팀장님이 마치기 전에 5분 전에 내일 아침 미팅 자료 좀 검토해 놓으라고 하셨거든요.   \n",
       "2  그러니까요. 퇴근하자마자 감기약을 먹고 쉬려고 했는데 머리에서 열이 솟구치는 기분이에요.   \n",
       "3               그것뿐이 아니에요, 내일 검색해도 될 것을 지금 하라고 하셨어요.   \n",
       "4         핑계라고 생각하실 것 같아요. 하루 종일 아픈 내색을 안 하려고 애썼거든요.   \n",
       "\n",
       "                                              output    type  \n",
       "0                                       아직도 야근 중인가요?  single  \n",
       "1          어제부터 몸살기가 있어서 고생하더니, 일찍 퇴근도 못하고 고단해서 어째요.  single  \n",
       "2  에구, 하필 아픈 날 어째요. 그것도 프로젝트 마치고 몸살이 난 건데요. 직장인의 ...  single  \n",
       "3                            혹시 몸이 아프다고 말씀드려보면 어떨까요?  single  \n",
       "4  감정화자씨 워낙 일에 대해서 철저하니까 내색을 안 했겠지요. 감정화자씨 보면 진정한...  single  "
      ]
     },
     "metadata": {},
     "output_type": "display_data"
    },
    {
     "name": "stdout",
     "output_type": "stream",
     "text": [
      "valid_df >>\n"
     ]
    },
    {
     "data": {
      "text/html": [
       "<div>\n",
       "<style scoped>\n",
       "    .dataframe tbody tr th:only-of-type {\n",
       "        vertical-align: middle;\n",
       "    }\n",
       "\n",
       "    .dataframe tbody tr th {\n",
       "        vertical-align: top;\n",
       "    }\n",
       "\n",
       "    .dataframe thead th {\n",
       "        text-align: right;\n",
       "    }\n",
       "</style>\n",
       "<table border=\"1\" class=\"dataframe\">\n",
       "  <thead>\n",
       "    <tr style=\"text-align: right;\">\n",
       "      <th></th>\n",
       "      <th>input</th>\n",
       "      <th>output</th>\n",
       "      <th>type</th>\n",
       "    </tr>\n",
       "  </thead>\n",
       "  <tbody>\n",
       "    <tr>\n",
       "      <th>0</th>\n",
       "      <td>지난 달부터 엄마가 다시 일하시기 시작했어. 활력을 찾은 엄마 모습에 기분이 너무 ...</td>\n",
       "      <td>와, 정말 잘 됐다! 너 뿌듯하겠다. 나도 이렇게 기쁜걸!</td>\n",
       "      <td>single</td>\n",
       "    </tr>\n",
       "    <tr>\n",
       "      <th>1</th>\n",
       "      <td>엄마가 이렇게 자신감을 가지고 사회생활을 다시 하신다는 게 믿기지가 않아. 그만큼 ...</td>\n",
       "      <td>그럼, 너 스트레스 때문에 고생 엄청 했잖아. 기다리던 엄마 모습을 드디어 봤으니,...</td>\n",
       "      <td>single</td>\n",
       "    </tr>\n",
       "    <tr>\n",
       "      <th>2</th>\n",
       "      <td>어 엄마 항암 치료받으시던 지난 2년간 다시 일어나실 수 있을까 걱정 정말 많았어....</td>\n",
       "      <td>나도 알지. 엄마 생각 항상 먼저 하면서, 보살피던 너의 지극 정성을 어떻게 잊을 ...</td>\n",
       "      <td>single</td>\n",
       "    </tr>\n",
       "    <tr>\n",
       "      <th>3</th>\n",
       "      <td>당연히 해야 할 일이었지. 공감화자가 그렇게 말해주니, 그때 했던 고생을 칭찬받는 ...</td>\n",
       "      <td>와 놀랍다. 네가 어머님 의지력을 닮았구나! 아직도 몸이 힘드실 텐데 말이야. 나라...</td>\n",
       "      <td>single</td>\n",
       "    </tr>\n",
       "    <tr>\n",
       "      <th>4</th>\n",
       "      <td>역시 공감화자 넌 다정해! 나는 그런 애교스러운 모습은 없는데, 오늘 처음으로 엄마...</td>\n",
       "      <td>감성화자야 너무 잘했다! 맞아, 부모님들은 그런 고마움이나 사랑의 표현을 기다리고 ...</td>\n",
       "      <td>single</td>\n",
       "    </tr>\n",
       "  </tbody>\n",
       "</table>\n",
       "</div>"
      ],
      "text/plain": [
       "                                               input  \\\n",
       "0  지난 달부터 엄마가 다시 일하시기 시작했어. 활력을 찾은 엄마 모습에 기분이 너무 ...   \n",
       "1  엄마가 이렇게 자신감을 가지고 사회생활을 다시 하신다는 게 믿기지가 않아. 그만큼 ...   \n",
       "2  어 엄마 항암 치료받으시던 지난 2년간 다시 일어나실 수 있을까 걱정 정말 많았어....   \n",
       "3  당연히 해야 할 일이었지. 공감화자가 그렇게 말해주니, 그때 했던 고생을 칭찬받는 ...   \n",
       "4  역시 공감화자 넌 다정해! 나는 그런 애교스러운 모습은 없는데, 오늘 처음으로 엄마...   \n",
       "\n",
       "                                              output    type  \n",
       "0                   와, 정말 잘 됐다! 너 뿌듯하겠다. 나도 이렇게 기쁜걸!  single  \n",
       "1  그럼, 너 스트레스 때문에 고생 엄청 했잖아. 기다리던 엄마 모습을 드디어 봤으니,...  single  \n",
       "2  나도 알지. 엄마 생각 항상 먼저 하면서, 보살피던 너의 지극 정성을 어떻게 잊을 ...  single  \n",
       "3  와 놀랍다. 네가 어머님 의지력을 닮았구나! 아직도 몸이 힘드실 텐데 말이야. 나라...  single  \n",
       "4  감성화자야 너무 잘했다! 맞아, 부모님들은 그런 고마움이나 사랑의 표현을 기다리고 ...  single  "
      ]
     },
     "metadata": {},
     "output_type": "display_data"
    }
   ],
   "source": [
    "train_df = pd.concat([train_df_single, train_df_multiturn], ignore_index=True)  # (338148, 3)\n",
    "valid_df = pd.concat([valid_df_single, valid_df_multiturn], ignore_index=True)  # (41926, 3)\n",
    "\n",
    "train_df.to_csv('C:/KUBIG contest/AIhub_data/train_df.csv', index=False)\n",
    "valid_df.to_csv('C:/KUBIG contest/AIhub_data/valid_df.csv', index=False)\n",
    "\n",
    "print('train_df >>')\n",
    "display(train_df.head())\n",
    "print('valid_df >>')\n",
    "display(valid_df.head())"
   ]
  }
 ],
 "metadata": {
  "kernelspec": {
   "display_name": "Python 3",
   "language": "python",
   "name": "python3"
  },
  "language_info": {
   "codemirror_mode": {
    "name": "ipython",
    "version": 3
   },
   "file_extension": ".py",
   "mimetype": "text/x-python",
   "name": "python",
   "nbconvert_exporter": "python",
   "pygments_lexer": "ipython3",
   "version": "3.9.2"
  }
 },
 "nbformat": 4,
 "nbformat_minor": 2
}
